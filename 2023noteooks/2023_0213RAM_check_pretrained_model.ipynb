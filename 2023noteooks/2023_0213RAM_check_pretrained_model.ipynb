{
  "cells": [
    {
      "cell_type": "markdown",
      "metadata": {
        "id": "view-in-github",
        "colab_type": "text"
      },
      "source": [
        "<a href=\"https://colab.research.google.com/github/ShinAsakawa/ShinAsakawa.github.io/blob/master/2023noteooks/2023_0213RAM_check_pretrained_model.ipynb\" target=\"_parent\"><img src=\"https://colab.research.google.com/assets/colab-badge.svg\" alt=\"Open In Colab\"/></a>"
      ]
    },
    {
      "cell_type": "markdown",
      "id": "4481f606-e903-48d7-b887-8b65f6e4b4ae",
      "metadata": {
        "id": "4481f606-e903-48d7-b887-8b65f6e4b4ae"
      },
      "source": [
        "# 1. 訓練済モデルのチェック"
      ]
    },
    {
      "cell_type": "code",
      "execution_count": 1,
      "id": "d80f6e3d-22ef-42f8-a4fa-b8b31fdfc18d",
      "metadata": {
        "id": "d80f6e3d-22ef-42f8-a4fa-b8b31fdfc18d"
      },
      "outputs": [],
      "source": [
        "import torch\n",
        "from IPython import get_ipython\n",
        "isColab =  'google.colab' in str(get_ipython())\n",
        "device = 'cuda:0' if torch.cuda.is_available() else 'cpu'"
      ]
    },
    {
      "cell_type": "code",
      "execution_count": null,
      "id": "7fd9300e-62bd-4b41-984f-de1bb22ca79a",
      "metadata": {
        "id": "7fd9300e-62bd-4b41-984f-de1bb22ca79a"
      },
      "outputs": [],
      "source": [
        "%reload_ext autoreload\n",
        "%autoreload 2\n",
        "\n",
        "if isColab:\n",
        "\n",
        "    # termcolor を downgrade しないと colab ではテキストに色がつかない\n",
        "    !pip install --upgrade termcolor==1.1\n",
        "    import termcolor    \n",
        "\n",
        "    # colab 上で MeCab を動作させるために，C コンパイラを起動して，MeCab の構築を行う\n",
        "    # そのため時間がかかる。\n",
        "    !apt install aptitude\n",
        "    !aptitude install mecab libmecab-dev mecab-ipadic-utf8 git make curl xz-utils file -y\n",
        "    !pip install mecab-python3==0.7\n",
        "    !pip install jaconv\n",
        "    !pip install japanize_matplotlib\n",
        "    \n",
        "    import MeCab\n",
        "    mecab_wakati = MeCab.Tagger('-Owakati').parse\n",
        "    mecab_yomi = MeCab.Tagger('-Oyomi').parse\n",
        "else:\n",
        "    from ccap.mecab_settings import yomi as mecab_yomi\n",
        "    from ccap.mecab_settings import wakati as mecab_wakati\n",
        "\n",
        "    import os\n",
        "    if not os.path.exists('RAM'):\n",
        "        !git clone https://github.com/ShinAsakawa/RAM.git \n",
        "    \n",
        "    !pip install jaconv\n",
        "\n",
        "from RAM.dataset import *\n",
        "from RAM import check_vals_performance\n",
        "from RAM import set_model_from_param_file\n",
        "from RAM import check_fushimi1999_words"
      ]
    },
    {
      "cell_type": "code",
      "execution_count": null,
      "id": "afd76a69-e8b6-43eb-b8a7-9be789156c13",
      "metadata": {
        "id": "afd76a69-e8b6-43eb-b8a7-9be789156c13"
      },
      "outputs": [],
      "source": [
        "fname = 'RAM/2023_0213ram_vdrj.pt'\n",
        "fname = 'RAM/2023_0213ram.pt'\n",
        "encoder, decoder, encoder_optimizer, decoder_optimizer, params, ds = set_model_from_param_file(\n",
        "    fname=fname)\n",
        "fushimi1999_dataset = Fushimi1999_Dataset(source=params['source'], target=params['target'])\n",
        "\n",
        "check_vals_performance(\n",
        "    encoder=encoder, decoder=decoder,\n",
        "    _dataset={'Fushimi1999':fushimi1999_dataset},\n",
        "    source_vocab=ds.source_list, target_vocab=ds.target_list,\n",
        "    max_length=ds.maxlen, device=device)"
      ]
    },
    {
      "cell_type": "code",
      "execution_count": null,
      "id": "13ebcdd0-5853-4bce-8b58-1126bca20b04",
      "metadata": {
        "id": "13ebcdd0-5853-4bce-8b58-1126bca20b04"
      },
      "outputs": [],
      "source": [
        "check_fushimi1999_words(encoder=encoder, decoder=decoder, cr_every=4, ds=ds)"
      ]
    },
    {
      "cell_type": "code",
      "execution_count": null,
      "id": "a82aec6f-8f2b-42e5-8528-49f94b12bc6b",
      "metadata": {
        "id": "a82aec6f-8f2b-42e5-8528-49f94b12bc6b"
      },
      "outputs": [],
      "source": [
        "from RAM import eval_input_seq2seq\n",
        "eval_input_seq2seq(encoder=encoder, decoder=decoder, ds=ds)"
      ]
    }
  ],
  "metadata": {
    "kernelspec": {
      "display_name": "Python 3 (ipykernel)",
      "language": "python",
      "name": "python3"
    },
    "language_info": {
      "codemirror_mode": {
        "name": "ipython",
        "version": 3
      },
      "file_extension": ".py",
      "mimetype": "text/x-python",
      "name": "python",
      "nbconvert_exporter": "python",
      "pygments_lexer": "ipython3",
      "version": "3.9.13"
    },
    "colab": {
      "provenance": [],
      "include_colab_link": true
    }
  },
  "nbformat": 4,
  "nbformat_minor": 5
}