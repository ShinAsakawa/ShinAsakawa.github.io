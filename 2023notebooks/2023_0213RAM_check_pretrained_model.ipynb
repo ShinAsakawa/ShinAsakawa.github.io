{
  "cells": [
    {
      "cell_type": "markdown",
      "metadata": {
        "id": "view-in-github",
        "colab_type": "text"
      },
      "source": [
        "<a href=\"https://colab.research.google.com/github/ShinAsakawa/ShinAsakawa.github.io/blob/master/2023notebooks/2023_0213RAM_check_pretrained_model.ipynb\" target=\"_parent\"><img src=\"https://colab.research.google.com/assets/colab-badge.svg\" alt=\"Open In Colab\"/></a>"
      ]
    },
    {
      "cell_type": "markdown",
      "id": "4481f606-e903-48d7-b887-8b65f6e4b4ae",
      "metadata": {
        "id": "4481f606-e903-48d7-b887-8b65f6e4b4ae"
      },
      "source": [
        "# 訓練済モデルのチェック\n",
        "\n",
        "* date: 2023_0224\n",
        "* author: 浅川伸一"
      ]
    },
    {
      "cell_type": "markdown",
      "id": "0faaf6e7-4fce-4332-bf3a-623be249dafa",
      "metadata": {
        "id": "0faaf6e7-4fce-4332-bf3a-623be249dafa"
      },
      "source": [
        "## 0.1. isColab の判定"
      ]
    },
    {
      "cell_type": "code",
      "execution_count": 1,
      "id": "d80f6e3d-22ef-42f8-a4fa-b8b31fdfc18d",
      "metadata": {
        "id": "d80f6e3d-22ef-42f8-a4fa-b8b31fdfc18d"
      },
      "outputs": [],
      "source": [
        "import torch\n",
        "device = torch.device('cuda:0' if torch.cuda.is_available() else 'cpu')\n",
        "#device = 'cuda:0' if torch.cuda.is_available() else 'cpu'\n",
        "\n",
        "from IPython import get_ipython\n",
        "isColab =  'google.colab' in str(get_ipython())"
      ]
    },
    {
      "cell_type": "markdown",
      "id": "d156a8ba-dfe9-4ea1-9e08-e335fccd2e61",
      "metadata": {
        "id": "d156a8ba-dfe9-4ea1-9e08-e335fccd2e61"
      },
      "source": [
        "## 0.2 自作ライブラリを github から読み込む"
      ]
    },
    {
      "cell_type": "code",
      "execution_count": null,
      "id": "7fd9300e-62bd-4b41-984f-de1bb22ca79a",
      "metadata": {
        "id": "7fd9300e-62bd-4b41-984f-de1bb22ca79a"
      },
      "outputs": [],
      "source": [
        "%reload_ext autoreload\n",
        "%autoreload 2\n",
        "\n",
        "if isColab:\n",
        "\n",
        "    # termcolor を downgrade しないと colab ではテキストに色がつかない\n",
        "    !pip install --upgrade termcolor==1.1\n",
        "    import termcolor    \n",
        "\n",
        "    !pip install jaconv\n",
        "\n",
        "    # colab 上で MeCab を動作させるために，C コンパイラを起動して，MeCab の構築を行うため時間がかかる。\n",
        "    !apt install aptitude\n",
        "    !aptitude install mecab libmecab-dev mecab-ipadic-utf8 git make curl xz-utils file -y\n",
        "    !pip install mecab-python3==0.7\n",
        "    !pip install jaconv\n",
        "    !pip install japanize_matplotlib\n",
        "    \n",
        "    import MeCab\n",
        "    mecab_wakati = MeCab.Tagger('-Owakati').parse\n",
        "    mecab_yomi = MeCab.Tagger('-Oyomi').parse\n",
        "else:\n",
        "    from ccap.mecab_settings import yomi as mecab_yomi\n",
        "    from ccap.mecab_settings import wakati as mecab_wakati\n",
        "\n",
        "import os\n",
        "if not os.path.exists('RAM'):\n",
        "    !git clone https://github.com/ShinAsakawa/RAM.git \n",
        "\n",
        "from RAM.dataset import *\n",
        "from RAM import check_vals_performance\n",
        "from RAM import set_model_from_param_file\n",
        "from RAM import check_fushimi1999_words"
      ]
    },
    {
      "cell_type": "markdown",
      "id": "bdbfc399-89ed-4544-97dd-c2fbb0932634",
      "metadata": {
        "id": "bdbfc399-89ed-4544-97dd-c2fbb0932634"
      },
      "source": [
        "# 1 訓練語彙数 10K"
      ]
    },
    {
      "cell_type": "code",
      "execution_count": null,
      "id": "afd76a69-e8b6-43eb-b8a7-9be789156c13",
      "metadata": {
        "id": "afd76a69-e8b6-43eb-b8a7-9be789156c13"
      },
      "outputs": [],
      "source": [
        "fname = 'RAM/2023_0213ram_vdrj.pt'\n",
        "fname = 'RAM/2023_0214RAM_psylex71_20k_h256_nostoplist.pt'\n",
        "#fname = '2023_0213ram.pt'\n",
        "encoder, decoder, encoder_optimizer, decoder_optimizer, params, ds = set_model_from_param_file(fname=fname)\n",
        "fushimi1999_dataset = Fushimi1999_Dataset(source=params['source'], target=params['target'])\n",
        "\n",
        "check_vals_performance(\n",
        "    encoder=encoder, decoder=decoder,\n",
        "    _dataset={'Fushimi1999':fushimi1999_dataset},\n",
        "    source_vocab=ds.source_list, target_vocab=ds.target_list,\n",
        "    max_length=ds.maxlen, device=device)\n",
        "\n",
        "params"
      ]
    },
    {
      "cell_type": "markdown",
      "id": "55f8b513-fc61-456b-8c7a-ebfbb8bdef5a",
      "metadata": {
        "id": "55f8b513-fc61-456b-8c7a-ebfbb8bdef5a"
      },
      "source": [
        "## 1.1 Fushimi1999 の成績"
      ]
    },
    {
      "cell_type": "code",
      "execution_count": null,
      "id": "13ebcdd0-5853-4bce-8b58-1126bca20b04",
      "metadata": {
        "id": "13ebcdd0-5853-4bce-8b58-1126bca20b04"
      },
      "outputs": [],
      "source": [
        "check_fushimi1999_words(encoder=encoder, decoder=decoder, cr_every=4, ds=ds)"
      ]
    },
    {
      "cell_type": "code",
      "execution_count": null,
      "id": "a01f3ab1-606a-417b-b1ff-709bd9983129",
      "metadata": {
        "id": "a01f3ab1-606a-417b-b1ff-709bd9983129"
      },
      "outputs": [],
      "source": [
        "import matplotlib.pyplot as plt\n",
        "X = torch.load('RAM/2023_0214RAM_psylex71_10k_h256_nostoplist.pt')\n",
        "plt.plot(X['losses'])"
      ]
    },
    {
      "cell_type": "code",
      "execution_count": null,
      "id": "f845f561-5e3b-4f52-8f8c-c16dbc603aeb",
      "metadata": {
        "id": "f845f561-5e3b-4f52-8f8c-c16dbc603aeb"
      },
      "outputs": [],
      "source": [
        "X = {0:{'訓練データ精度':0.069, '検証データ':0.000},\n",
        "     1:{'訓練データ精度':0.339, '検証データ':0.175},\n",
        "     2:{'訓練データ精度':0.493, '検証データ':0.408},\n",
        "     3:{'訓練データ精度':0.571, '検証データ':0.533},\n",
        "     4:{'訓練データ精度':0.627, '検証データ':0.525},\n",
        "     5:{'訓練データ精度':0.669, '検証データ':0.583},\n",
        "     6:{'訓練データ精度':0.707, '検証データ':0.625},\n",
        "     7:{'訓練データ精度':0.739, '検証データ':0.583},\n",
        "     8:{'訓練データ精度':0.767, '検証データ':0.633},\n",
        "     9:{'訓練データ精度':0.792, '検証データ':0.600},\n",
        "     10:{'訓練データ精度':0.816, '検証データ':0.592},\n",
        "     11:{'訓練データ精度':0.837, '検証データ':0.625},\n",
        "     12:{'訓練データ精度':0.855, '検証データ':0.558},\n",
        "     13:{'訓練データ精度':0.870, '検証データ':0.608},\n",
        "     14:{'訓練データ精度':0.883, '検証データ':0.625},\n",
        "     15:{'訓練データ精度':0.897, '検証データ':0.617},\n",
        "     16:{'訓練データ精度':0.907, '検証データ':0.600},\n",
        "     17:{'訓練データ精度':0.917, '検証データ':0.642},\n",
        "     18:{'訓練データ精度':0.925, '検証データ':0.625},\n",
        "     19:{'訓練データ精度':0.931, '検証データ':0.575},\n",
        "     20:{'訓練データ精度':0.940, '検証データ':0.642},\n",
        "     21:{'訓練データ精度':0.944, '検証データ':0.625},\n",
        "    }\n",
        "\n",
        "plt.plot([v['訓練データ精度'] for k, v in X.items()], label='訓練データ')\n",
        "plt.plot([v['検証データ'] for k, v in X.items()], label='検証データ')\n",
        "plt.legend(loc=\"lower right\")\n",
        "plt.xlabel('エポック')\n",
        "plt.ylabel('精度')\n",
        "plt.title('データセット:psylex71, 訓練語彙数:10K, 中間層素子数:256 の学習曲線')"
      ]
    },
    {
      "cell_type": "markdown",
      "id": "17e3d993-fbaa-4631-9063-3c2270eca566",
      "metadata": {
        "id": "17e3d993-fbaa-4631-9063-3c2270eca566"
      },
      "source": [
        "# 2 訓練語彙数 30K"
      ]
    },
    {
      "cell_type": "code",
      "execution_count": null,
      "id": "efe8be8f-6f4a-4c94-b219-2d333781395e",
      "metadata": {
        "id": "efe8be8f-6f4a-4c94-b219-2d333781395e"
      },
      "outputs": [],
      "source": [
        "#fname = 'RAM/2023_0213ram_vdrj.pt'\n",
        "#fname = 'RAM/2023_0214RAM_psylex71_10k_h256_nostoplist.pt'\n",
        "fname = 'RAM/2023_0215RAM_psylex71_30k_h256_nostoplist.pt'\n",
        "encoder, decoder, encoder_optimizer, decoder_optimizer, params, ds = set_model_from_param_file(fname=fname)\n",
        "fushimi1999_dataset = Fushimi1999_Dataset(source=params['source'], target=params['target'])\n",
        "\n",
        "check_vals_performance(\n",
        "    encoder=encoder, decoder=decoder,\n",
        "    _dataset={'Fushimi1999':fushimi1999_dataset},\n",
        "    source_vocab=ds.source_list, target_vocab=ds.target_list,\n",
        "    max_length=ds.maxlen, device=device)\n",
        "\n",
        "params"
      ]
    },
    {
      "cell_type": "markdown",
      "id": "31ac1ec1-de97-4572-9c61-c2989ee5f753",
      "metadata": {
        "id": "31ac1ec1-de97-4572-9c61-c2989ee5f753"
      },
      "source": [
        "## 2.1 Fushimi1999 の成績"
      ]
    },
    {
      "cell_type": "code",
      "execution_count": null,
      "id": "64831d02-6a8d-4282-8bda-998c3f627131",
      "metadata": {
        "id": "64831d02-6a8d-4282-8bda-998c3f627131"
      },
      "outputs": [],
      "source": [
        "check_fushimi1999_words(encoder=encoder, decoder=decoder, cr_every=4, ds=ds)"
      ]
    },
    {
      "cell_type": "code",
      "execution_count": null,
      "id": "af5c1304-dd72-4998-8b39-add7236ed37d",
      "metadata": {
        "id": "af5c1304-dd72-4998-8b39-add7236ed37d"
      },
      "outputs": [],
      "source": [
        "\"\"\"\n",
        "HF--__consitent:20/20\n",
        "HF_inconsistent:20/20\n",
        "HF_____atypical:19/20\n",
        "LF--__consitent:20/20\n",
        "LF_inconsistent:18/20\n",
        "LF_____atypical:10/20\n",
        "\n",
        "dataset_name psylex71\n",
        "traindata_size 20000\n",
        "epochs 30\n",
        "source orth\n",
        "target phon\n",
        "hidden_size 256\n",
        "lr 0.0001\n",
        "dropout_p 0.0\n",
        "teacher_forcing_ratio 0.5\n",
        "optim_func <class 'torch.optim.adam.Adam'>\n",
        "loss_func NLLLoss()\n",
        "random_seed 42\n",
        "pretrained False\n",
        "verbose False\n",
        "path_saved 2023_0214RAM_psylex71_20k_h256_nostoplist.pt\n",
        "エポック: 0 損失:1.93 経過時間: 5分 19秒 (残り時間 154分 15秒) 訓練データ精度:0.035 検証データ:['Fushimi1999readl_words:0.000']\n",
        "エポック: 1 損失:1.19 経過時間:10分 41秒 (残り時間 149分 34秒) 訓練データ精度:0.261 検証データ:['Fushimi1999readl_words:0.092']\n",
        "エポック: 2 損失:0.85 経過時間:16分  9秒 (残り時間 145分 26秒) 訓練データ精度:0.453 検証データ:['Fushimi1999readl_words:0.383']\n",
        "エポック: 3 損失:0.68 経過時間:21分 37秒 (残り時間 140分 35秒) 訓練データ精度:0.545 検証データ:['Fushimi1999readl_words:0.533']\n",
        "エポック: 4 損失:0.56 経過時間:27分 14秒 (残り時間 136分 14秒) 訓練データ精度:0.609 検証データ:['Fushimi1999readl_words:0.550']\n",
        "エポック: 5 損失:0.47 経過時間:32分 54秒 (残り時間 131分 39秒) 訓練データ精度:0.659 検証データ:['Fushimi1999readl_words:0.592']\n",
        "エポック: 6 損失:0.41 経過時間:38分 13秒 (残り時間 125分 34秒) 訓練データ精度:0.697 検証データ:['Fushimi1999readl_words:0.658']\n",
        "エポック: 7 損失:0.35 経過時間:43分 25秒 (残り時間 119分 24秒) 訓練データ精度:0.733 検証データ:['Fushimi1999readl_words:0.733']\n",
        "エポック: 8 損失:0.29 経過時間:48分 32秒 (残り時間 113分 16秒) 訓練データ精度:0.764 検証データ:['Fushimi1999readl_words:0.700']\n",
        "エポック: 9 損失:0.26 経過時間:53分 39秒 (残り時間 107分 19秒) 訓練データ精度:0.791 検証データ:['Fushimi1999readl_words:0.758']\n",
        "エポック:10 損失:0.22 経過時間:59分 11秒 (残り時間 102分 14秒) 訓練データ精度:0.818 検証データ:['Fushimi1999readl_words:0.758']\n",
        "エポック:11 損失:0.19 経過時間:64分 44秒 (残り時間 97分  7秒) 訓練データ精度:0.838 検証データ:['Fushimi1999readl_words:0.792']\n",
        "エポック:12 損失:0.16 経過時間:70分  5秒 (残り時間 91分 39秒) 訓練データ精度:0.858 検証データ:['Fushimi1999readl_words:0.767']\n",
        "エポック:13 損失:0.14 経過時間:75分 26秒 (残り時間 86分 12秒) 訓練データ精度:0.877 検証データ:['Fushimi1999readl_words:0.833']\n",
        "エポック:14 損失:0.12 経過時間:80分 51秒 (残り時間 80分 51秒) 訓練データ精度:0.893 検証データ:['Fushimi1999readl_words:0.825']\n",
        "エポック:15 損失:0.10 経過時間:86分 22秒 (残り時間 75分 35秒) 訓練データ精度:0.908 検証データ:['Fushimi1999readl_words:0.825']\n",
        "エポック:16 損失:0.09 経過時間:91分 37秒 (残り時間 70分  4秒) 訓練データ精度:0.922 検証データ:['Fushimi1999readl_words:0.842']\n",
        "エポック:17 損失:0.08 経過時間:96分 53秒 (残り時間 64分 35秒) 訓練データ精度:0.932 検証データ:['Fushimi1999readl_words:0.858']\n",
        "エポック:18 損失:0.07 経過時間:102分  3秒 (残り時間 59分  4秒) 訓練データ精度:0.940 検証データ:['Fushimi1999readl_words:0.850']\n",
        "エポック:19 損失:0.06 経過時間:107分 13秒 (残り時間 53分 36秒) 訓練データ精度:0.945 検証データ:['Fushimi1999readl_words:0.867']\n",
        "エポック:20 損失:0.06 経過時間:112分 23秒 (残り時間 48分 10秒) 訓練データ精度:0.951 検証データ:['Fushimi1999readl_words:0.858']\n",
        "エポック:21 損失:0.05 経過時間:117分 44秒 (残り時間 42分 48秒) 訓練データ精度:0.952 検証データ:['Fushimi1999readl_words:0.867']\n",
        "エポック:22 損失:0.05 経過時間:123分  7秒 (残り時間 37分 28秒) 訓練データ精度:0.959 検証データ:['Fushimi1999readl_words:0.875']\n",
        "エポック:23 損失:0.05 経過時間:128分 24秒 (残り時間 32分  6秒) 訓練データ精度:0.960 検証データ:['Fushimi1999readl_words:0.875']\n",
        "エポック:24 損失:0.04 経過時間:133分 39秒 (残り時間 26分 43秒) 訓練データ精度:0.965 検証データ:['Fushimi1999readl_words:0.875']\n",
        "エポック:25 損失:0.04 経過時間:138分 58秒 (残り時間 21分 22秒) 訓練データ精度:0.964 検証データ:['Fushimi1999readl_words:0.867']\n",
        "エポック:26 損失:0.04 経過時間:144分 13秒 (残り時間 16分  1秒) 訓練データ精度:0.965 検証データ:['Fushimi1999readl_words:0.867']\n",
        "エポック:27 損失:0.04 経過時間:149分 31秒 (残り時間 10分 40秒) 訓練データ精度:0.967 検証データ:['Fushimi1999readl_words:0.858']\n",
        "エポック:28 損失:0.03 経過時間:154分 46秒 (残り時間  5分 20秒) 訓練データ精度:0.971 検証データ:['Fushimi1999readl_words:0.850']\n",
        "エポック:29 損失:0.03 経過時間:160分 15秒 (残り時間  0分  0秒) 訓練データ精度:0.972 検証データ:['Fushimi1999readl_words:0.875']\n",
        "92532.84user 3005.63system 2:40:22elapsed 992%CPU (0avgtext+0avgdata 1023692maxresident)k\n",
        "0inputs+0outputs (13major+291163minor)pagefaults 0swaps\n",
        "\"\"\"\n",
        "X={0:{'訓練データ精度':0.035, '検証データ':0.000},\n",
        "   1:{'訓練データ精度':0.261, '検証データ':0.092},\n",
        "   2:{'訓練データ精度':0.453, '検証データ':0.383},\n",
        "   3:{'訓練データ精度':0.545, '検証データ':0.533},\n",
        "   4:{'訓練データ精度':0.609, '検証データ':0.550},\n",
        "   5:{'訓練データ精度':0.659, '検証データ':0.592},\n",
        "   6:{'訓練データ精度':0.697, '検証データ':0.658},\n",
        "   7:{'訓練データ精度':0.733, '検証データ':0.733},\n",
        "   8:{'訓練データ精度':0.764, '検証データ':0.700},\n",
        "   9:{'訓練データ精度':0.791, '検証データ':0.758},\n",
        "   10:{'訓練データ精度':0.818, '検証データ':0.758},\n",
        "   11:{'訓練データ精度':0.838, '検証データ':0.792},\n",
        "   12:{'訓練データ精度':0.858, '検証データ':0.767},\n",
        "   13:{'訓練データ精度':0.877, '検証データ':0.833},\n",
        "   14:{'訓練データ精度':0.893, '検証データ':0.825},\n",
        "   15:{'訓練データ精度':0.908, '検証データ':0.825},\n",
        "   16:{'訓練データ精度':0.922, '検証データ':0.842},\n",
        "   17:{'訓練データ精度':0.932, '検証データ':0.858},\n",
        "   18:{'訓練データ精度':0.940, '検証データ':0.850},\n",
        "   19:{'訓練データ精度':0.945, '検証データ':0.867},\n",
        "   20:{'訓練データ精度':0.951, '検証データ':0.858},\n",
        "   21:{'訓練データ精度':0.952, '検証データ':0.867},\n",
        "   22:{'訓練データ精度':0.959, '検証データ':0.875},\n",
        "   23:{'訓練データ精度':0.960, '検証データ':0.875},\n",
        "   24:{'訓練データ精度':0.965, '検証データ':0.875},\n",
        "   25:{'訓練データ精度':0.964, '検証データ':0.867},\n",
        "   26:{'訓練データ精度':0.965, '検証データ':0.867},\n",
        "   27:{'訓練データ精度':0.967, '検証データ':0.858},\n",
        "   28:{'訓練データ精度':0.971, '検証データ':0.850},\n",
        "   29:{'訓練データ精度':0.972, '検証データ':0.875}}\n",
        "\n",
        "\n",
        "plt.plot([v['訓練データ精度'] for k, v in X.items()], label='訓練データ')\n",
        "plt.plot([v['検証データ'] for k, v in X.items()], label='検証データ')\n",
        "plt.legend(loc=\"lower right\")\n",
        "plt.xlabel('エポック')\n",
        "plt.ylabel('精度')\n",
        "plt.title('データセット:psylex71, 訓練語彙数:30K, 中間層素子数:256 の学習曲線')\n",
        "plt.show()\n"
      ]
    },
    {
      "cell_type": "code",
      "execution_count": 13,
      "id": "6fb339f0-e1d2-4e18-bbbc-b5a3d602ad8b",
      "metadata": {
        "colab": {
          "base_uri": "https://localhost:8080/"
        },
        "id": "6fb339f0-e1d2-4e18-bbbc-b5a3d602ad8b",
        "outputId": "a698a080-579e-4852-b811-c1736163ad2c"
      },
      "outputs": [
        {
          "output_type": "execute_result",
          "data": {
            "text/plain": [
              "{'dataset_name': 'psylex71',\n",
              " 'traindata_size': 30000,\n",
              " 'epochs': 30,\n",
              " 'val_dataset_name': 'fushimi1999',\n",
              " 'source': 'orth',\n",
              " 'target': 'phon',\n",
              " 'hidden_size': 256,\n",
              " 'lr': 0.0001,\n",
              " 'dropout_p': 0.0,\n",
              " 'teacher_forcing_ratio': 0.5,\n",
              " 'optim_func': torch.optim.adam.Adam,\n",
              " 'loss_func': NLLLoss(),\n",
              " 'random_seed': 42,\n",
              " 'pretrained': False,\n",
              " 'verbose': False,\n",
              " 'path_saved': '2023_0215RAM_psylex71_30k_h256_nostoplist.pt'}"
            ]
          },
          "metadata": {},
          "execution_count": 13
        }
      ],
      "source": [
        "#fname = '2023_0214RAM_psylex71_30k_h256.pt'\n",
        "fname = 'RAM/2023_0215RAM_psylex71_30k_h256_nostoplist.pt'\n",
        "encoder, decoder, encoder_optimizer, decoder_optimizer, params, ds = set_model_from_param_file(fname=fname)\n",
        "fushimi1999_dataset = Fushimi1999_Dataset(source=params['source'], target=params['target'])\n",
        "\n",
        "check_vals_performance(\n",
        "    encoder=encoder, decoder=decoder,\n",
        "    _dataset={'Fushimi1999':fushimi1999_dataset},\n",
        "    source_vocab=ds.source_list, target_vocab=ds.target_list,\n",
        "    max_length=ds.maxlen, device=device)\n",
        "\n",
        "params"
      ]
    },
    {
      "cell_type": "code",
      "execution_count": null,
      "id": "a82aec6f-8f2b-42e5-8528-49f94b12bc6b",
      "metadata": {
        "id": "a82aec6f-8f2b-42e5-8528-49f94b12bc6b"
      },
      "outputs": [],
      "source": [
        "from RAM import eval_input_seq2seq\n",
        "_ = eval_input_seq2seq(encoder=encoder, decoder=decoder, ds=ds)"
      ]
    },
    {
      "cell_type": "markdown",
      "id": "273aac7b-ca17-4c48-86e3-a16f86ee2f10",
      "metadata": {
        "id": "273aac7b-ca17-4c48-86e3-a16f86ee2f10"
      },
      "source": [
        "# 3 `単語リスト（扱い注意).xls` "
      ]
    },
    {
      "cell_type": "code",
      "execution_count": null,
      "id": "f44271e1-8974-4392-b55c-5f69eca52d12",
      "metadata": {
        "id": "f44271e1-8974-4392-b55c-5f69eca52d12"
      },
      "outputs": [],
      "source": [
        "if isColab:\n",
        "    from google.colab import files\n",
        "    uploaded = files.upload()"
      ]
    },
    {
      "cell_type": "code",
      "execution_count": null,
      "id": "819460fc-2dc2-4f62-8768-9e756cfaadcc",
      "metadata": {
        "id": "819460fc-2dc2-4f62-8768-9e756cfaadcc"
      },
      "outputs": [],
      "source": [
        "import pandas as pd\n",
        "fushimi1998_pd = pd.read_excel('単語リスト（扱い注意）.xlsx', sheet_name='伏見(1998)')\n",
        "fushimi1998_wordlist = fushimi1998_pd['単語'].to_list()\n",
        "#print(len(fushimi1998_wordlist))\n",
        "\n",
        "sugiyama2019_pd = pd.read_excel('単語リスト（扱い注意）.xlsx', sheet_name='杉山（2019）')\n",
        "sugiyama2019_wordlist = sugiyama2019_pd['刺激語'].to_list()\n",
        "#print(sugiyama2019_wordlist)\n",
        "\n",
        "for i, wrd in enumerate(sugiyama2019_wordlist+fushimi1998_wordlist):\n",
        "    output = eval_input_seq2seq(encoder=encoder, decoder=decoder, ds=ds, inp_wrd=wrd, isPrint=False)\n",
        "    print(f'{i+1:2d} {wrd}->{\"\".join(_p for _p in output[0][:-1])}/')\n",
        "    #print(f'{i+1:2d} {wrd}:{output[0][:-1]}')    "
      ]
    },
    {
      "cell_type": "code",
      "execution_count": 21,
      "id": "ff04a658-1c04-4e42-83b6-ac70cfefa0ab",
      "metadata": {
        "colab": {
          "base_uri": "https://localhost:8080/"
        },
        "id": "ff04a658-1c04-4e42-83b6-ac70cfefa0ab",
        "outputId": "3684c70b-2bbb-4172-f022-ffc85b8b2a4e"
      },
      "outputs": [
        {
          "output_type": "stream",
          "name": "stdout",
          "text": [
            "HighHigh 17 20\n",
            "HighLow 20 20\n",
            "LowHigh 19 20\n",
            "LowLow 14 20\n"
          ]
        }
      ],
      "source": [
        "import numpy as np\n",
        "\n",
        "sugiyama2019_dict = {}\n",
        "\n",
        "for k, v in sugiyama2019_pd.iterrows():\n",
        "    _wrd  = v['刺激語']\n",
        "    _yomi = mecab_yomi(_wrd).strip()\n",
        "    _hira = jaconv.kata2hira(_yomi)\n",
        "    _juli = jaconv.hiragana2julius(_hira).split()\n",
        "    \n",
        "    _output = eval_input_seq2seq(encoder=encoder, decoder=decoder, ds=ds, inp_wrd=_wrd, isPrint=False)\n",
        "    sugiyama2019_dict[_wrd] = {'ヨミ': _yomi,\n",
        "                              'juli': _juli,\n",
        "                              '出力': _output[0][:-1],\n",
        "                               'yes/no': _juli == _output[0][:-1],\n",
        "                              '頻度': v['出現頻度'],\n",
        "                              '一貫性': v['一貫性'],\n",
        "                              '心像性': v['心像性']}\n",
        "\n",
        "freqs, consts, imags = {}, {}, {}\n",
        "freq_const, freq_imag = {}, {}\n",
        "for k, v in sugiyama2019_dict.items():\n",
        "    _freq, _const, _imag = v['頻度'], v['一貫性'], v['心像性']\n",
        "    _freq_const = v['頻度']+v['一貫性']\n",
        "    _freq_imag = v['頻度']+v['心像性']\n",
        "    if not _freq in freqs:\n",
        "        freqs[_freq] = []\n",
        "    if not _const in consts:\n",
        "        consts[_const] = []\n",
        "    if not _imag in imags:\n",
        "        imags[_imag] = []\n",
        "        \n",
        "    if not _freq_const in freq_const:\n",
        "        freq_const[_freq_const] = []\n",
        "    if not _freq_imag in freq_imag:\n",
        "        freq_imag[_freq_imag] = []\n",
        "        \n",
        "    freq_const[_freq_const].append(v['yes/no'])\n",
        "    freq_imag[_freq_imag].append(v['yes/no'])\n",
        "        \n",
        "    freqs[_freq].append(v['yes/no'])\n",
        "    consts[_const].append(v['yes/no'])\n",
        "    imags[_imag].append(v['yes/no'])\n",
        "        \n",
        "for k, v in freq_imag.items():\n",
        "    print(k, np.array(v * 1).sum(), len(v))        "
      ]
    },
    {
      "cell_type": "code",
      "execution_count": 22,
      "id": "26876a5c-c572-4236-aa5a-e8ee02f1c18a",
      "metadata": {
        "colab": {
          "base_uri": "https://localhost:8080/",
          "height": 334
        },
        "id": "26876a5c-c572-4236-aa5a-e8ee02f1c18a",
        "outputId": "d5cdbcf9-816b-4c48-9da3-125d5a43259c"
      },
      "outputs": [
        {
          "output_type": "display_data",
          "data": {
            "text/plain": [
              "<Figure size 360x360 with 1 Axes>"
            ],
            "image/png": "[encoded data removed]"
          },
          "metadata": {
            "needs_background": "light"
          }
        }
      ],
      "source": [
        "plt.figure(figsize=(5,5))\n",
        "plt.plot([17/20, 20/20], 'g^-', label='高心像', linewidth=2, markersize=14)\n",
        "plt.plot([19/20, 14/20], 'bv-', label='低心像', linewidth=2, markersize=12)\n",
        "plt.xlim(-0.3, 1.3)\n",
        "plt.ylim(0,1.1)\n",
        "plt.ylabel('正解率')\n",
        "plt.xticks([0, 1], [ \"高頻度\", \"低頻度\"])\n",
        "plt.legend(loc=\"lower left\")\n",
        "plt.title('杉山2019 頻度 X 心像性')\n",
        "plt.savefig('2019Sugiyama_freqXimag.pdf')\n",
        "plt.show()"
      ]
    },
    {
      "cell_type": "markdown",
      "id": "019b9f1b-d43b-458c-b478-7dd56f21756f",
      "metadata": {
        "id": "019b9f1b-d43b-458c-b478-7dd56f21756f"
      },
      "source": [
        "# 4 '1000stimulus-proponly-New2_2022.xls'"
      ]
    },
    {
      "cell_type": "code",
      "execution_count": 23,
      "id": "7e6f140e-d86d-40fa-9ce4-80de4002d73e",
      "metadata": {
        "colab": {
          "base_uri": "https://localhost:8080/",
          "height": 74
        },
        "id": "7e6f140e-d86d-40fa-9ce4-80de4002d73e",
        "outputId": "99e0fb91-83f9-415b-ba9c-0610aa030dbd"
      },
      "outputs": [
        {
          "output_type": "display_data",
          "data": {
            "text/plain": [
              "<IPython.core.display.HTML object>"
            ],
            "text/html": [
              "\n",
              "     <input type=\"file\" id=\"files-3835873e-784d-49d3-ab04-dfd6a195bb7c\" name=\"files[]\" multiple disabled\n",
              "        style=\"border:none\" />\n",
              "     <output id=\"result-3835873e-784d-49d3-ab04-dfd6a195bb7c\">\n",
              "      Upload widget is only available when the cell has been executed in the\n",
              "      current browser session. Please rerun this cell to enable.\n",
              "      </output>\n",
              "      <script>// Copyright 2017 Google LLC\n",
              "//\n",
              "// Licensed under the Apache License, Version 2.0 (the \"License\");\n",
              "// you may not use this file except in compliance with the License.\n",
              "// You may obtain a copy of the License at\n",
              "//\n",
              "//      http://www.apache.org/licenses/LICENSE-2.0\n",
              "//\n",
              "// Unless required by applicable law or agreed to in writing, software\n",
              "// distributed under the License is distributed on an \"AS IS\" BASIS,\n",
              "// WITHOUT WARRANTIES OR CONDITIONS OF ANY KIND, either express or implied.\n",
              "// See the License for the specific language governing permissions and\n",
              "// limitations under the License.\n",
              "\n",
              "/**\n",
              " * @fileoverview Helpers for google.colab Python module.\n",
              " */\n",
              "(function(scope) {\n",
              "function span(text, styleAttributes = {}) {\n",
              "  const element = document.createElement('span');\n",
              "  element.textContent = text;\n",
              "  for (const key of Object.keys(styleAttributes)) {\n",
              "    element.style[key] = styleAttributes[key];\n",
              "  }\n",
              "  return element;\n",
              "}\n",
              "\n",
              "// Max number of bytes which will be uploaded at a time.\n",
              "const MAX_PAYLOAD_SIZE = 100 * 1024;\n",
              "\n",
              "function _uploadFiles(inputId, outputId) {\n",
              "  const steps = uploadFilesStep(inputId, outputId);\n",
              "  const outputElement = document.getElementById(outputId);\n",
              "  // Cache steps on the outputElement to make it available for the next call\n",
              "  // to uploadFilesContinue from Python.\n",
              "  outputElement.steps = steps;\n",
              "\n",
              "  return _uploadFilesContinue(outputId);\n",
              "}\n",
              "\n",
              "// This is roughly an async generator (not supported in the browser yet),\n",
              "// where there are multiple asynchronous steps and the Python side is going\n",
              "// to poll for completion of each step.\n",
              "// This uses a Promise to block the python side on completion of each step,\n",
              "// then passes the result of the previous step as the input to the next step.\n",
              "function _uploadFilesContinue(outputId) {\n",
              "  const outputElement = document.getElementById(outputId);\n",
              "  const steps = outputElement.steps;\n",
              "\n",
              "  const next = steps.next(outputElement.lastPromiseValue);\n",
              "  return Promise.resolve(next.value.promise).then((value) => {\n",
              "    // Cache the last promise value to make it available to the next\n",
              "    // step of the generator.\n",
              "    outputElement.lastPromiseValue = value;\n",
              "    return next.value.response;\n",
              "  });\n",
              "}\n",
              "\n",
              "/**\n",
              " * Generator function which is called between each async step of the upload\n",
              " * process.\n",
              " * @param {string} inputId Element ID of the input file picker element.\n",
              " * @param {string} outputId Element ID of the output display.\n",
              " * @return {!Iterable<!Object>} Iterable of next steps.\n",
              " */\n",
              "function* uploadFilesStep(inputId, outputId) {\n",
              "  const inputElement = document.getElementById(inputId);\n",
              "  inputElement.disabled = false;\n",
              "\n",
              "  const outputElement = document.getElementById(outputId);\n",
              "  outputElement.innerHTML = '';\n",
              "\n",
              "  const pickedPromise = new Promise((resolve) => {\n",
              "    inputElement.addEventListener('change', (e) => {\n",
              "      resolve(e.target.files);\n",
              "    });\n",
              "  });\n",
              "\n",
              "  const cancel = document.createElement('button');\n",
              "  inputElement.parentElement.appendChild(cancel);\n",
              "  cancel.textContent = 'Cancel upload';\n",
              "  const cancelPromise = new Promise((resolve) => {\n",
              "    cancel.onclick = () => {\n",
              "      resolve(null);\n",
              "    };\n",
              "  });\n",
              "\n",
              "  // Wait for the user to pick the files.\n",
              "  const files = yield {\n",
              "    promise: Promise.race([pickedPromise, cancelPromise]),\n",
              "    response: {\n",
              "      action: 'starting',\n",
              "    }\n",
              "  };\n",
              "\n",
              "  cancel.remove();\n",
              "\n",
              "  // Disable the input element since further picks are not allowed.\n",
              "  inputElement.disabled = true;\n",
              "\n",
              "  if (!files) {\n",
              "    return {\n",
              "      response: {\n",
              "        action: 'complete',\n",
              "      }\n",
              "    };\n",
              "  }\n",
              "\n",
              "  for (const file of files) {\n",
              "    const li = document.createElement('li');\n",
              "    li.append(span(file.name, {fontWeight: 'bold'}));\n",
              "    li.append(span(\n",
              "        `(${file.type || 'n/a'}) - ${file.size} bytes, ` +\n",
              "        `last modified: ${\n",
              "            file.lastModifiedDate ? file.lastModifiedDate.toLocaleDateString() :\n",
              "                                    'n/a'} - `));\n",
              "    const percent = span('0% done');\n",
              "    li.appendChild(percent);\n",
              "\n",
              "    outputElement.appendChild(li);\n",
              "\n",
              "    const fileDataPromise = new Promise((resolve) => {\n",
              "      const reader = new FileReader();\n",
              "      reader.onload = (e) => {\n",
              "        resolve(e.target.result);\n",
              "      };\n",
              "      reader.readAsArrayBuffer(file);\n",
              "    });\n",
              "    // Wait for the data to be ready.\n",
              "    let fileData = yield {\n",
              "      promise: fileDataPromise,\n",
              "      response: {\n",
              "        action: 'continue',\n",
              "      }\n",
              "    };\n",
              "\n",
              "    // Use a chunked sending to avoid message size limits. See b/62115660.\n",
              "    let position = 0;\n",
              "    do {\n",
              "      const length = Math.min(fileData.byteLength - position, MAX_PAYLOAD_SIZE);\n",
              "      const chunk = new Uint8Array(fileData, position, length);\n",
              "      position += length;\n",
              "\n",
              "      const base64 = btoa(String.fromCharCode.apply(null, chunk));\n",
              "      yield {\n",
              "        response: {\n",
              "          action: 'append',\n",
              "          file: file.name,\n",
              "          data: base64,\n",
              "        },\n",
              "      };\n",
              "\n",
              "      let percentDone = fileData.byteLength === 0 ?\n",
              "          100 :\n",
              "          Math.round((position / fileData.byteLength) * 100);\n",
              "      percent.textContent = `${percentDone}% done`;\n",
              "\n",
              "    } while (position < fileData.byteLength);\n",
              "  }\n",
              "\n",
              "  // All done.\n",
              "  yield {\n",
              "    response: {\n",
              "      action: 'complete',\n",
              "    }\n",
              "  };\n",
              "}\n",
              "\n",
              "scope.google = scope.google || {};\n",
              "scope.google.colab = scope.google.colab || {};\n",
              "scope.google.colab._files = {\n",
              "  _uploadFiles,\n",
              "  _uploadFilesContinue,\n",
              "};\n",
              "})(self);\n",
              "</script> "
            ]
          },
          "metadata": {}
        },
        {
          "output_type": "stream",
          "name": "stdout",
          "text": [
            "Saving 1000stimulus-proponly-New2_2022.xls to 1000stimulus-proponly-New2_2022.xls\n"
          ]
        }
      ],
      "source": [
        "if isColab:\n",
        "    from google.colab import files\n",
        "    uploaded = files.upload()"
      ]
    },
    {
      "cell_type": "code",
      "execution_count": null,
      "id": "9afb57e6-9377-4b63-8cd5-31c0d9bba4a1",
      "metadata": {
        "id": "9afb57e6-9377-4b63-8cd5-31c0d9bba4a1"
      },
      "outputs": [],
      "source": [
        "kondo_pd = pd.read_excel('1000stimulus-proponly-New2_2022.xls', sheet_name='data')\n",
        "kondo_word1list = kondo_pd['kanji1'].to_list()\n",
        "kondo_word2list = kondo_pd['kanji2'].to_list()\n",
        "for i, (_1, _2) in enumerate(zip(kondo_word1list, kondo_word2list)):\n",
        "    wrd = _1+_2\n",
        "    output = eval_input_seq2seq(encoder=encoder, decoder=decoder, ds=ds, inp_wrd=wrd, isPrint=False)\n",
        "    print(f'{i+1:04d} {wrd}->/{\"\".join(_p for _p in output[0][:-1])}/')\n",
        "    #print(_1+_2)"
      ]
    },
    {
      "cell_type": "code",
      "execution_count": null,
      "id": "5541c0f9-3eac-4b66-a683-9da2484a2b3d",
      "metadata": {
        "id": "5541c0f9-3eac-4b66-a683-9da2484a2b3d"
      },
      "outputs": [],
      "source": [
        "import jaconv\n",
        "from termcolor import colored\n",
        "\n",
        "yomi = []\n",
        "for k in kondo_pd[['yomi1', 'yomi2']].iterrows():\n",
        "    _yomi = k[1][0]+k[1][1]\n",
        "    _hira = jaconv.kata2hira(_yomi)\n",
        "    _juli = \"\".join(_p for _p in jaconv.hiragana2julius(_hira).split())\n",
        "    yomi.append((_yomi, _juli))\n",
        "\n",
        "counter = 0\n",
        "outputs = {}\n",
        "for i, (_1, _2, _yomi) in enumerate(zip(kondo_word1list, kondo_word2list, yomi)):\n",
        "    wrd = _1+_2\n",
        "    _output = eval_input_seq2seq(encoder=encoder, decoder=decoder, ds=ds, inp_wrd=wrd, isPrint=False)\n",
        "    _outp = \"\".join(_p for _p in _output[0][:-1])\n",
        "    color = 'red' if _outp!=_yomi[1] else 'blue'\n",
        "    if _outp == _yomi[1]:\n",
        "        counter += 1\n",
        "\n",
        "    outputs[i] = {'wrd':wrd, \n",
        "                 'output': \"\".join(_p for _p in _outp), \n",
        "                 'teach': _yomi, \n",
        "                 'yes/no':_outp==_yomi[1]}\n",
        "    #print(f'{i+1:04d} {wrd} /{colored(\"\".join(_p for _p in _outp),color)}/')\n",
        "\n",
        "print(f'正解率 {counter:4d}/{len(kondo_word1list):4d}={counter/len(kondo_word1list) * 100:6.3f}%')"
      ]
    },
    {
      "cell_type": "code",
      "execution_count": null,
      "id": "58bb3796-27e2-4a5f-a6d0-d1177d27e593",
      "metadata": {
        "id": "58bb3796-27e2-4a5f-a6d0-d1177d27e593"
      },
      "outputs": [],
      "source": [
        "print(f'正解率 {counter:4d}/{len(kondo_word1list):4d}={counter/len(kondo_word1list) * 100:6.3f}%')\n",
        "counter = 0\n",
        "for k, v in outputs.items():\n",
        "    if v['yes/no'] == False:\n",
        "        print(f\"{k+1:4d} {v['wrd']} /{v['output']}/ ({v['teach'][1]}) {v['yes/no']}\")\n",
        "        counter += 1\n",
        "print(f'counter:{counter}')    "
      ]
    },
    {
      "cell_type": "markdown",
      "source": [
        "# TLPA と SALA で評価"
      ],
      "metadata": {
        "id": "9uTTw0TdvmPJ"
      },
      "id": "9uTTw0TdvmPJ"
    },
    {
      "cell_type": "code",
      "execution_count": null,
      "id": "0660cd0b-1e78-41ce-a8df-a7b6ff5c6205",
      "metadata": {
        "id": "0660cd0b-1e78-41ce-a8df-a7b6ff5c6205"
      },
      "outputs": [],
      "source": [
        "import json\n",
        "json_fname = 'RAM//2022_0508SALA_TLPA.json'\n",
        "if os.path.exists(json_fname):\n",
        "    with open(json_fname, 'r', encoding='utf-8') as f:\n",
        "        TLPA1, TLPA2, TLPA3, TLPA4, SALA_R29, SALA_R30, SALA_R31 = json.load(f)\n",
        "\n",
        "\n",
        "tlpa1 = {k:{'word':v[0], 'cond':v[1]} for k, v in TLPA1.items()}\n",
        "tlpa2 = {k:{'word':v[0], 'note':v[1]} for k, v in TLPA2.items()}\n",
        "tlpa3 = {k:{'word':v[0], 'note':v[1]} for k, v in TLPA3.items()}\n",
        "tlpa4 = {k:{'word':v[0], 'note':v[1]} for k, v in TLPA4.items()}\n",
        "sala_r29 = {k:{'word':v[0], 'cond':v[1]} for k, v in SALA_R29.items()}\n",
        "sala_r30 = {k:{'word':v[0], 'cond':v[1:]} for k, v in SALA_R30.items()}\n",
        "sala_r31 = {k:{'word':v[0], 'cond':v[1]} for k, v in SALA_R31.items()}\n",
        "\n",
        "cr_every=5\n",
        "for _dict in [tlpa1, tlpa2, tlpa3, tlpa4, sala_r29, sala_r30, sala_r31]:\n",
        "    print('-' * 77)\n",
        "    for i, wrd in enumerate([v['word'] for k, v in _dict.items()]):\n",
        "        _end = '\\n' if ((i+1) % cr_every) == 0 else ', '\n",
        "        wrd_ids = ds.source_tkn2ids(wrd)\n",
        "        ans = eval_input_seq2seq(encoder=encoder, decoder=decoder, ds=ds, inp_wrd=wrd, isPrint=False)\n",
        "        print(f'{i:03d}:{wrd}->/{\"\".join(ch for ch in ans[0][:-1])}/', end=_end) #, ans[1])\n",
        "    if ((i+1) % cr_every) != 0:\n",
        "        print()\n",
        "\n",
        "#help(eval_input_seq2seq)"
      ]
    }
  ],
  "metadata": {
    "kernelspec": {
      "display_name": "Python 3 (ipykernel)",
      "language": "python",
      "name": "python3"
    },
    "language_info": {
      "codemirror_mode": {
        "name": "ipython",
        "version": 3
      },
      "file_extension": ".py",
      "mimetype": "text/x-python",
      "name": "python",
      "nbconvert_exporter": "python",
      "pygments_lexer": "ipython3",
      "version": "3.9.13"
    },
    "colab": {
      "provenance": [],
      "toc_visible": true,
      "include_colab_link": true
    }
  },
  "nbformat": 4,
  "nbformat_minor": 5
}