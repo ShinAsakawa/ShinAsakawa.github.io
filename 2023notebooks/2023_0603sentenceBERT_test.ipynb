{
  "cells": [
    {
      "cell_type": "markdown",
      "metadata": {
        "id": "view-in-github",
        "colab_type": "text"
      },
      "source": [
        "<a href=\"https://colab.research.google.com/github/ShinAsakawa/ShinAsakawa.github.io/blob/master/2023notebooks/2023_0603sentenceBERT_test.ipynb\" target=\"_parent\"><img src=\"https://colab.research.google.com/assets/colab-badge.svg\" alt=\"Open In Colab\"/></a>"
      ]
    },
    {
      "cell_type": "markdown",
      "id": "df8000de-e505-49d2-98ea-bee5d9500e54",
      "metadata": {
        "id": "df8000de-e505-49d2-98ea-bee5d9500e54"
      },
      "source": [
        "# sentence BERT\n",
        "\n",
        "覚書：`from transformers import BertModel` は TensorFlow-io を仮定しているらしい。\n",
        "かつ，tensorflow-io は M1 Mac では動作しない。2023 年 9 月 18 日現在。\n",
        "仕方がないので，Intel Mac または colab で実行せざるを得ない。\n"
      ]
    },
    {
      "cell_type": "code",
      "source": [
        "import IPython\n",
        "isColab = 'google.colab' in str(IPython.get_ipython())\n",
        "if isColab:\n",
        "    !pip install 'fugashi'\n",
        "    !pip install 'ipadic'\n",
        "    !pip install transformers"
      ],
      "metadata": {
        "id": "6P194XrnMuEl"
      },
      "id": "6P194XrnMuEl",
      "execution_count": null,
      "outputs": []
    },
    {
      "cell_type": "code",
      "execution_count": null,
      "id": "caf9a5f5-0398-4bc3-99f8-521b6792b502",
      "metadata": {
        "tags": [],
        "id": "caf9a5f5-0398-4bc3-99f8-521b6792b502"
      },
      "outputs": [],
      "source": [
        "import torch\n",
        "from transformers import BertJapaneseTokenizer, BertModel\n",
        "from scipy.stats import pearsonr\n",
        "\n",
        "class SentenceBertJapanese:\n",
        "    def __init__(self, model_name_or_path, device=None):\n",
        "        self.tokenizer = BertJapaneseTokenizer.from_pretrained(model_name_or_path)\n",
        "        self.model = BertModel.from_pretrained(model_name_or_path)\n",
        "        self.model.eval()\n",
        "\n",
        "        if device is None:\n",
        "            device = \"cuda\" if torch.cuda.is_available() else \"cpu\"\n",
        "        self.device = torch.device(device)\n",
        "        self.model.to(device)\n",
        "\n",
        "    def _mean_pooling(self, model_output, attention_mask):\n",
        "        #First element of model_output contains all token embeddings\n",
        "        token_embeddings = model_output[0]\n",
        "\n",
        "        input_mask_expanded = attention_mask.unsqueeze(-1).expand(token_embeddings.size()).float()\n",
        "        return torch.sum(token_embeddings * input_mask_expanded, 1) / torch.clamp(input_mask_expanded.sum(1), min=1e-9)\n",
        "\n",
        "    @torch.no_grad()\n",
        "    def encode(self, sentences, batch_size=8):\n",
        "        all_embeddings = []\n",
        "        iterator = range(0, len(sentences), batch_size)\n",
        "        for batch_idx in iterator:\n",
        "            batch = sentences[batch_idx:batch_idx + batch_size]\n",
        "\n",
        "            encoded_input = self.tokenizer.batch_encode_plus(\n",
        "              batch,\n",
        "              padding=\"longest\",\n",
        "              truncation=True, return_tensors=\"pt\").to(self.device)\n",
        "            model_output = self.model(**encoded_input)\n",
        "            sentence_embeddings = self._mean_pooling(\n",
        "              model_output,\n",
        "              encoded_input[\"attention_mask\"]).to('cpu')\n",
        "\n",
        "            all_embeddings.extend(sentence_embeddings)\n",
        "\n",
        "        # return torch.stack(all_embeddings).numpy()\n",
        "        return torch.stack(all_embeddings)\n",
        "\n",
        "\n",
        "MODEL_NAME = \"sonoisa/sentence-bert-base-ja-mean-tokens-v2\"  # <- v2です。\n",
        "model = SentenceBertJapanese(MODEL_NAME)"
      ]
    },
    {
      "cell_type": "code",
      "execution_count": null,
      "id": "a6ab1f21-3c00-409a-ad22-3ca9eb114588",
      "metadata": {
        "id": "a6ab1f21-3c00-409a-ad22-3ca9eb114588"
      },
      "outputs": [],
      "source": [
        "sentences = [\"暴走したAI\", \"暴走した人工知能\"]\n",
        "\n",
        "sentence_embeddings = model.encode(sentences, batch_size=8)\n",
        "##print(\"Sentence embeddings:\", sentence_embeddings)\n",
        "\n",
        "print(f'相関係数:{pearsonr(sentence_embeddings[0], sentence_embeddings[1])[0]:.3f}')"
      ]
    },
    {
      "cell_type": "code",
      "execution_count": null,
      "id": "b9a5abe1-4844-4c83-9d99-1f82f870d242",
      "metadata": {
        "id": "b9a5abe1-4844-4c83-9d99-1f82f870d242"
      },
      "outputs": [],
      "source": [
        "print(f'相関係数:{pearsonr(sentence_embeddings[0], sentence_embeddings[1])[0]:.3f}')"
      ]
    },
    {
      "cell_type": "code",
      "execution_count": null,
      "id": "0544bd66-4a73-4512-94ee-5b0a85fcd208",
      "metadata": {
        "id": "0544bd66-4a73-4512-94ee-5b0a85fcd208"
      },
      "outputs": [],
      "source": []
    }
  ],
  "metadata": {
    "kernelspec": {
      "display_name": "Python 3 (ipykernel)",
      "language": "python",
      "name": "python3"
    },
    "language_info": {
      "codemirror_mode": {
        "name": "ipython",
        "version": 3
      },
      "file_extension": ".py",
      "mimetype": "text/x-python",
      "name": "python",
      "nbconvert_exporter": "python",
      "pygments_lexer": "ipython3",
      "version": "3.9.18"
    },
    "colab": {
      "provenance": [],
      "include_colab_link": true
    }
  },
  "nbformat": 4,
  "nbformat_minor": 5
}