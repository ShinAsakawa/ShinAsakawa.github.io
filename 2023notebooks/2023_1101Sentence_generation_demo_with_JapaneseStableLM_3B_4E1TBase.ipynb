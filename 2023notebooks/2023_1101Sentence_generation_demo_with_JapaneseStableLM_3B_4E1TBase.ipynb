{
  "nbformat": 4,
  "nbformat_minor": 0,
  "metadata": {
    "colab": {
      "provenance": [],
      "machine_shape": "hm",
      "gpuType": "V100",
      "authorship_tag": "ABX9TyP/MszQJVDLLCS5+Z5JJl4o",
      "include_colab_link": true
    },
    "kernelspec": {
      "name": "python3",
      "display_name": "Python 3"
    },
    "language_info": {
      "name": "python"
    },
    "accelerator": "GPU"
  },
  "cells": [
    {
      "cell_type": "markdown",
      "metadata": {
        "id": "view-in-github",
        "colab_type": "text"
      },
      "source": [
        "<a href=\"https://colab.research.google.com/github/ShinAsakawa/ShinAsakawa.github.io/blob/master/2023notebooks/2023_1101Sentence_generation_demo_with_JapaneseStableLM_3B_4E1TBase.ipynb\" target=\"_parent\"><img src=\"https://colab.research.google.com/assets/colab-badge.svg\" alt=\"Open In Colab\"/></a>"
      ]
    },
    {
      "cell_type": "markdown",
      "source": [
        "# LLM による単文作成デモ\n",
        "\n",
        "- source: https://huggingface.co/stabilityai/japanese-stablelm-instruct-gamma-7b\n",
        "- date: 2023_1101\n",
        "- author: 浅川伸一\n",
        "- filename: `2023_1101Sentence_generation_demo_with_JapaneseStableLM-3B-4E1TBase.ipynb`"
      ],
      "metadata": {
        "id": "k7jRuYXUOOph"
      }
    },
    {
      "cell_type": "code",
      "source": [
        "# Transformers >= 4.34.0 でないと動作しないようなのでアップデート\n",
        "# というか Colab にはそもそも transformers がインストールされていない\n",
        "import IPython\n",
        "isColab = 'google.colab' in str(IPython.get_ipython())\n",
        "\n",
        "if isColab:\n",
        "    !pip install --upgrade transformers"
      ],
      "metadata": {
        "id": "6nl_Jk4FNrXW"
      },
      "execution_count": null,
      "outputs": []
    },
    {
      "cell_type": "code",
      "source": [
        "import torch\n",
        "device = 'cuda' if torch.cuda.is_available() else 'cpu'\n",
        "print(device)"
      ],
      "metadata": {
        "colab": {
          "base_uri": "https://localhost:8080/"
        },
        "id": "FaRSUV1DPrJb",
        "outputId": "d758c61c-731b-459d-f41a-6ba80a21ff1b"
      },
      "execution_count": 2,
      "outputs": [
        {
          "output_type": "stream",
          "name": "stdout",
          "text": [
            "cuda\n"
          ]
        }
      ]
    },
    {
      "cell_type": "code",
      "source": [
        "from transformers import AutoTokenizer, AutoModelForCausalLM\n",
        "\n",
        "tokenizer = AutoTokenizer.from_pretrained(\"stabilityai/japanese-stablelm-3b-4e1t-base\")\n",
        "model = AutoModelForCausalLM.from_pretrained(\n",
        "  \"stabilityai/japanese-stablelm-3b-4e1t-base\",\n",
        "  trust_remote_code=True,\n",
        "  torch_dtype=\"auto\",\n",
        ")\n",
        "model = model.to(device)\n",
        "model.eval()"
      ],
      "metadata": {
        "id": "wSM-VforS1nz"
      },
      "execution_count": null,
      "outputs": []
    },
    {
      "cell_type": "code",
      "execution_count": 4,
      "metadata": {
        "id": "n1nK2e3uNUPz"
      },
      "outputs": [],
      "source": [
        "# 下記の gamma-7b モデルではメモリ不足でクラッシュしてしまうので\n",
        "# from transformers import AutoTokenizer, AutoModelForCausalLM\n",
        "\n",
        "# tokenizer = AutoTokenizer.from_pretrained(\"stabilityai/japanese-stablelm-instruct-gamma-7b\")\n",
        "# model = AutoModelForCausalLM.from_pretrained(\n",
        "#   \"stabilityai/japanese-stablelm-instruct-gamma-7b\",\n",
        "#   torch_dtype=\"auto\",\n",
        "# )\n",
        "# model = model.to(device)\n",
        "# model.eval()"
      ]
    },
    {
      "cell_type": "code",
      "source": [
        "def build_prompt(user_query, inputs=\"\", sep=\"\\n\\n### \"):\n",
        "    sys_msg = \"以下は、タスクを説明する指示と、文脈のある入力の組み合わせです。要求を適切に満たす応答を書きなさい。\"\n",
        "    p = sys_msg\n",
        "    roles = [\"指示\", \"応答\"]\n",
        "    msgs = [\": \\n\" + user_query, \": \\n\"]\n",
        "    if inputs:\n",
        "        roles.insert(1, \"入力\")\n",
        "        msgs.insert(1, \": \\n\" + inputs)\n",
        "    for role, msg in zip(roles, msgs):\n",
        "        p += sep + role + msg\n",
        "    return p"
      ],
      "metadata": {
        "id": "7QPyaPhvNWnW"
      },
      "execution_count": 4,
      "outputs": []
    },
    {
      "cell_type": "code",
      "source": [
        "# Infer with prompt without any additional input\n",
        "user_inputs = {\n",
        "    \"user_query\": \"以下の例文を参考にして，日本語教育で使用する例文を作ってください。レベルは初級です\",\n",
        "    #\"inputs\": \"これはペンです\"\n",
        "    #\"inputs\": \"わたしの名前は田中です\"\n",
        "    \"inputs\": \"スーパーマーケットはどこですか？\"\n",
        "}\n",
        "prompt = build_prompt(**user_inputs)\n",
        "\n",
        "input_ids = tokenizer.encode(\n",
        "    prompt,\n",
        "    add_special_tokens=False,\n",
        "    return_tensors=\"pt\"\n",
        ")\n",
        "\n",
        "tokens = model.generate(\n",
        "    input_ids.to(device=model.device),\n",
        "    max_new_tokens=256,\n",
        "    temperature=1,\n",
        "    top_p=0.95,\n",
        "    do_sample=True,\n",
        "    pad_token_id=tokenizer.eos_token_id\n",
        ")\n",
        "\n",
        "out = tokenizer.decode(tokens[0][input_ids.shape[1]:], skip_special_tokens=True).strip()\n",
        "print(out)\n"
      ],
      "metadata": {
        "colab": {
          "base_uri": "https://localhost:8080/"
        },
        "id": "Ov7dSWVMPbw1",
        "outputId": "6a0f5aa5-6f43-4870-c127-ff3dd489e0b3"
      },
      "execution_count": 36,
      "outputs": [
        {
          "output_type": "stream",
          "name": "stdout",
          "text": [
            "スーパーマーケットは、南海東通りにあります。\n",
            "\n",
            "```java\n",
            "import java.util.HashMap;\n",
            "\n",
            "public class Example4 {\n",
            "    public static HashMap<String, String> toPhrase(String input) {\n",
            "        HashMap<String, String> sentence = new HashMap<>();\n",
            "        // パターンマッチングの語を入れる\n",
            "        sentence.put(\"スーパーマーケットはどこですか？\", \"スーパーマーケットはどこですか？\");\n",
            "        // パターンマッチングのパターンの値を入れる\n",
            "        sentence.put(\"南海東通りにあります。\", \"南海東通りにあります。\");\n",
            "        // パターンマッチングの結果の値を入れる\n",
            "        sentence.put(\"あなたは何を探していますか？\", \"あなたは何を探していますか？\");\n",
            "        return sentence;\n",
            "    }\n",
            "}\n",
            "```\n"
          ]
        }
      ]
    },
    {
      "cell_type": "code",
      "source": [
        "user_inputs = {\n",
        "    \"user_query\": \"次の文と同じような例文を考えてください。\",\n",
        "    #\"user_query\": \"与えられた文の難易度と同程度の文を生成してください。\",\n",
        "    \"inputs\": \"彼女は音楽が好きなようで、毎日、ＣＤを聞いたり歌を歌ったりピアノをひいたりしている。\" # ソースははごろも\n",
        "}\n",
        "prompt = build_prompt(**user_inputs)\n",
        "\n",
        "input_ids = tokenizer.encode(\n",
        "    prompt,\n",
        "    add_special_tokens=False,\n",
        "    return_tensors=\"pt\"\n",
        ")\n",
        "\n",
        "tokens = model.generate(\n",
        "    input_ids.to(device=model.device),\n",
        "    max_new_tokens=256,\n",
        "    #temperature=0.5,\n",
        "    temperature=1,\n",
        "    top_p=0.95,\n",
        "    do_sample=True,\n",
        "    pad_token_id=tokenizer.eos_token_id\n",
        ")\n",
        "\n",
        "out = tokenizer.decode(tokens[0][input_ids.shape[1]:], skip_special_tokens=True).strip()\n",
        "print(f'--- 得られた出力:---\\n{out}')\n"
      ],
      "metadata": {
        "colab": {
          "base_uri": "https://localhost:8080/"
        },
        "id": "8ZEuwJHJVmHH",
        "outputId": "7c5a124d-29b2-4f14-9e7c-a0fb6a5a179d"
      },
      "execution_count": 30,
      "outputs": [
        {
          "output_type": "stream",
          "name": "stdout",
          "text": [
            "--- 得られた出力:---\n",
            "彼女はピアノ演奏に向いているようで、音大を卒業してから、教育機関に勤務しながら教鞭を執っている。\n"
          ]
        }
      ]
    },
    {
      "cell_type": "code",
      "source": [
        "# # こちらは松尾研のバージョンなので無視してください。\n",
        "# # source: https://huggingface.co/matsuo-lab/weblab-10b-instruction-sft\n",
        "# import torch\n",
        "# from transformers import AutoTokenizer, AutoModelForCausalLM\n",
        "\n",
        "# tokenizer = AutoTokenizer.from_pretrained(\"matsuo-lab/weblab-10b-instruction-sft\")\n",
        "# model = AutoModelForCausalLM.from_pretrained(\"matsuo-lab/weblab-10b-instruction-sft\", torch_dtype=torch.float16)\n",
        "\n",
        "# if torch.cuda.is_available():\n",
        "#     model = model.to(\"cuda\")\n",
        "\n",
        "# text = \"大規模言語モデルについて説明してください。\"\n",
        "# text = f'以下は、タスクを説明する指示です。要求を適切に満たす応答を書きなさい。\\n\\n### 指示:\\n{text}\\n\\n### 応答:'\n",
        "# token_ids = tokenizer.encode(text, add_special_tokens=False, return_tensors=\"pt\")\n",
        "\n",
        "# with torch.no_grad():\n",
        "#     output_ids = model.generate(\n",
        "#         token_ids.to(model.device),\n",
        "#         max_new_tokens=100,\n",
        "#         do_sample=True,\n",
        "#         temperature=0.7,\n",
        "#         top_p=0.95\n",
        "#     )\n",
        "\n",
        "# output = tokenizer.decode(output_ids.tolist()[0])\n",
        "# print(output)\n"
      ],
      "metadata": {
        "id": "GjIJtaCZP3Lj"
      },
      "execution_count": null,
      "outputs": []
    }
  ]
}