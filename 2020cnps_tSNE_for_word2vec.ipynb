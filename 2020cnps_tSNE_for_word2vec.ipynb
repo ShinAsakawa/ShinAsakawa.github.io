{
  "nbformat": 4,
  "nbformat_minor": 0,
  "metadata": {
    "colab": {
      "provenance": [],
      "include_colab_link": true
    },
    "kernelspec": {
      "display_name": "Python 3",
      "language": "python",
      "name": "python3"
    },
    "language_info": {
      "codemirror_mode": {
        "name": "ipython",
        "version": 3
      },
      "file_extension": ".py",
      "mimetype": "text/x-python",
      "name": "python",
      "nbconvert_exporter": "python",
      "pygments_lexer": "ipython3",
      "version": "3.7.5"
    }
  },
  "cells": [
    {
      "cell_type": "markdown",
      "metadata": {
        "id": "view-in-github",
        "colab_type": "text"
      },
      "source": [
        "<a href=\"https://colab.research.google.com/github/ShinAsakawa/ShinAsakawa.github.io/blob/master/2020cnps_tSNE_for_word2vec.ipynb\" target=\"_parent\"><img src=\"https://colab.research.google.com/assets/colab-badge.svg\" alt=\"Open In Colab\"/></a>"
      ]
    },
    {
      "cell_type": "markdown",
      "metadata": {
        "id": "b31yw4PFDP7r"
      },
      "source": [
        "# word2vec を tSNE 視覚化\n",
        "\n",
        "<div align='right'>\n",
        "<a href='mailto:asakawa@ieee.org'>Shin Aasakawa</a>, all rights reserved.<br>\n",
        "Date: 09/Mar/2020<br>\n",
        " MIT license\n",
        "</div>\n",
        "\n",
        "References:\n",
        "- Paper: http://www.jmlr.org/papers/volume9/vandermaaten08a/vandermaaten08a.pdf\n",
        "- Distill: https://distill.pub/2016/misread-tsne/\n",
        "- wikipedia: https://en.wikipedia.org/wiki/T-distributed_stochastic_neighbor_embedding\n",
        "- wikipedia.ja: https://ja.wikipedia.org/wiki/T%E5%88%86%E5%B8%83%E5%9E%8B%E7%A2%BA%E7%8E%87%E7%9A%84%E8%BF%91%E5%82%8D%E5%9F%8B%E3%82%81%E8%BE%BC%E3%81%BF%E6%B3%95\n",
        "\n"
      ]
    },
    {
      "cell_type": "code",
      "source": [
        "# 2025 年 05 月 01 日時点でのメモ\n",
        "# numpy のバージョンを強制的に 1.26.4 にダウングレードした場合，ランタイムの再起動をしないと\n",
        "# ダウングレードした numpy が実行時に反映されない。\n",
        "# このため一度このセルを実行した後に,上のメニューバー左から 5 つ目の「ランタイム」から「セッションを再起動する」\n",
        "# を選択して再度このセルを実行する必要がある。\n",
        "\n",
        "# Google Colab 上で実行しているかどうかを判定\n",
        "import IPython\n",
        "isColab = 'google.colab' in str(IPython.get_ipython())\n",
        "\n",
        "# Google colab で実行している場合必要なライブラリをインストールして word2vec ファイルをダウンロードする\n",
        "if isColab:\n",
        "    # Install PyDrive\n",
        "    !pip install pydrive2\n",
        "    #!pip install PyDrive2\n",
        "\n",
        "    #Import modules\n",
        "    from pydrive2.auth import GoogleAuth\n",
        "    #from pydrive.auth import GoogleAuth\n",
        "    from pydrive2.drive import GoogleDrive\n",
        "    from google.colab import auth\n",
        "    from oauth2client.client import GoogleCredentials\n",
        "\n",
        "    #Authenticate and create the PyDrive client\n",
        "    auth.authenticate_user()\n",
        "    gauth = GoogleAuth()\n",
        "    gauth.credentials = GoogleCredentials.get_application_default()\n",
        "    drive = GoogleDrive(gauth)\n",
        "\n",
        "    #Get the Shareable link\n",
        "    # 2017Jul_jawiki-wakati_neologd_hid200_win20_neg20_cbow.bin.gz: 1Rp3HbDkbpzMg5ehq1ARwCATX8iZAxTgj\n",
        "    # 2017Jul_jawiki-wakati_neologd_hid200_win20_neg20_sgns.bin.gz: 19BKVOBNHESt1K8725UTM9J3OpqK7YlVb\n",
        "    downloaded = drive.CreateFile({'id':\"1Rp3HbDkbpzMg5ehq1ARwCATX8iZAxTgj\"})\n",
        "    downloaded.GetContentFile('2017Jul_jawiki-wakati_neologd_hid200_win20_neg20_cbow.bin.gz')\n",
        "\n",
        "    # 2021_05jawiki_hid200_win20_neg20_sgns.bin.gz: 1JTkU5SUBU2GkURCYeHkAWYs_Zlbqob0s\n",
        "    # 2021_05jawiki_hid200_win20_neg20_cbow.bin.gz: 1VPL2Mr9JgWHik9HjRmcADoxXIdrQ3ds7\n",
        "    # 2021_05jawiki_hid128_win10_neg10_sgns.bin.gz: 1OWmFOVRC6amCxsomcRwdA6ILAA5s4y4M\n",
        "    # 2021_05jawiki_hid128_win10_neg10_cbow.bin.gz: 1B9HGhLZOja4Xku5c_d-kMhCXn1LBZgDb\n",
        "    # 上記は cbow で訓練済ファイルをダウンロードしています。\n",
        "    # skip gram モデルで訓練済モデルに変更する場合には，上記情報に従って適宜書き換えてください。\n",
        "\n",
        "    !pip uninstall numpy thinc spacy --yes\n",
        "    !pip install --upgrade numpy==1.26.4 --force-reinstall\n",
        "    !pip install --upgrade gensim==4.3.3\n",
        "    #!pip install --upgrade numpy==1.26.4 gensim==4.3.3 --force-reinstall\n",
        "\n",
        "    import numpy as np\n",
        "    print(f'np.__version__:{np.__version__}')\n",
        "\n",
        "    import gensim\n",
        "    print(f'gensim.__version__:{gensim.__version__}')"
      ],
      "metadata": {
        "id": "sotTw8sA8STn"
      },
      "execution_count": null,
      "outputs": []
    },
    {
      "cell_type": "code",
      "source": [
        "# 上セルでダウンロードした訓練済 word2vec ファイルを読み込む\n",
        "word2vec_file='2017Jul_jawiki-wakati_neologd_hid200_win20_neg20_cbow.bin.gz'\n",
        "asakawa_w2v = gensim.models.KeyedVectors.load_word2vec_format(word2vec_file,\n",
        "                                                        encoding='utf-8',\n",
        "                                                        unicode_errors='replace',\n",
        "                                                        binary=True)"
      ],
      "metadata": {
        "id": "1uOcmiLa8W_H"
      },
      "execution_count": 2,
      "outputs": []
    },
    {
      "cell_type": "code",
      "metadata": {
        "id": "b8-OHQ5-R47c"
      },
      "source": [
        "# 確認\n",
        "#help(asakawa_w2v.get_vector)\n",
        "asakawa_w2v.get_vector('頻度').shape # (200,)  これは word2vec の次元数"
      ],
      "execution_count": null,
      "outputs": []
    },
    {
      "cell_type": "code",
      "metadata": {
        "id": "1rp8406IP8IF"
      },
      "source": [
        "# tlpa のデータを GitHub から取得する\n",
        "!wget 'https://github.com/ShinAsakawa/ShinAsakawa.github.io/blob/master/tlpa.pkl?raw=true'\n",
        "!mv 'tlpa.pkl?raw=true' tlpa.pkl"
      ],
      "execution_count": null,
      "outputs": []
    },
    {
      "cell_type": "code",
      "metadata": {
        "id": "rWcQZivESydp"
      },
      "source": [
        "# 取得した tlpa データの読み込み\n",
        "import pickle\n",
        "with open('tlpa.pkl','rb') as f:\n",
        "    tlpa = pickle.load(f)"
      ],
      "execution_count": 8,
      "outputs": []
    },
    {
      "cell_type": "code",
      "metadata": {
        "id": "MLgAKPceC0T2"
      },
      "source": [
        " # tlpa の親密度とカテゴリーの表記情報を読み込む\n",
        "tlpa_fam = [tlpa[k]['Fam'] for k in tlpa.keys()]\n",
        "tlpa_cat = [tlpa[k]['Cat'] for k in tlpa.keys()]\n",
        "print(set(tlpa_fam), len(tlpa_fam), set(tlpa_cat), len(tlpa_fam))"
      ],
      "execution_count": null,
      "outputs": []
    },
    {
      "cell_type": "code",
      "metadata": {
        "id": "4VxLGeDeSgUr"
      },
      "source": [
        "# 印刷して確認\n",
        "print(tlpa_fam)\n",
        "print(tlpa_cat)"
      ],
      "execution_count": null,
      "outputs": []
    },
    {
      "cell_type": "code",
      "metadata": {
        "id": "dlLBG5bCUXvC"
      },
      "source": [
        "# 以下の作業は，tlpa データと word2vec のデータが不一致だったので強制的に書き換えています\n",
        "tlpa[106]['label'] = \"刺身\"\n",
        "tlpa[116]['label'] = \"すりこ木\"\n",
        "tlpa[123]['label'] = \"ぶどう\"\n",
        "tlpa[139]['label'] = \"畳\"\n",
        "tlpa[162]['label'] = \"タイヤキ\"\n",
        "tlpa[188]['label'] = \"タツノオトシゴ\""
      ],
      "execution_count": 11,
      "outputs": []
    },
    {
      "cell_type": "code",
      "metadata": {
        "id": "m9GGmnAsShaF"
      },
      "source": [
        "# ここがポイントで，tlpa のデータと word2vec のデータを結合します\n",
        "w2v_vect = np.zeros([200,200])\n",
        "for k in tlpa.keys():\n",
        "    word = tlpa[k]['label']\n",
        "    w2v_vect[k-1] = np.copy(asakawa_w2v[word])\n",
        "    if k % 10 == 0:\n",
        "        print('{0:03d} {1:s}'.format(k, word))\n",
        "    else:\n",
        "        print('{0:03d} {1:s}'.format(k, word), end=\", \")\n"
      ],
      "execution_count": null,
      "outputs": []
    },
    {
      "cell_type": "code",
      "metadata": {
        "id": "b23PBnfPh1K4"
      },
      "source": [
        "# tSNE の前段階として主成分分析を実施します\n",
        "from sklearn.decomposition import PCA\n",
        "from sklearn.manifold import TSNE\n",
        "%matplotlib inline\n",
        "import matplotlib.pyplot as plt\n",
        "from mpl_toolkits.mplot3d import Axes3D\n",
        "import pandas as pd\n",
        "import seaborn as sns\n",
        "\n",
        "tlpa_pca = PCA(n_components=3)\n",
        "tlpa_pca_result = tlpa_pca.fit_transform(w2v_vect)\n",
        "pca1 = tlpa_pca_result[:,0]\n",
        "pca2 = tlpa_pca_result[:,1]\n",
        "pca3 = tlpa_pca_result[:,2]\n",
        "print('Explained variation per principal component: {}'.format(tlpa_pca.explained_variance_ratio_))"
      ],
      "execution_count": null,
      "outputs": []
    },
    {
      "cell_type": "code",
      "metadata": {
        "id": "dORxdWn4C0T7"
      },
      "source": [
        "# 結果の再現性を保証するため，乱数の種を指定します。この作業は省略可です\n",
        "np.random.seed(42)\n",
        "#rndperm = np.random.permutation(w2v_vect.shape[0])"
      ],
      "execution_count": 17,
      "outputs": []
    },
    {
      "cell_type": "code",
      "metadata": {
        "id": "UcMVhYL1VfwJ"
      },
      "source": [
        "# 主成分分析の結果を画面に表示\n",
        "x_inch = 7; y_inch = 7\n",
        "fig = plt.figure(figsize=(x_inch, y_inch))\n",
        "plt.scatter(pca1,pca2)"
      ],
      "execution_count": null,
      "outputs": []
    },
    {
      "cell_type": "code",
      "metadata": {
        "id": "xrDRduOaiFaX"
      },
      "source": [
        "# 主成分分析結果をカテゴリごとに色分けして描画\n",
        "df = pd.DataFrame(tlpa_pca_result, columns=[\"pca1\", \"pca2\", \"pca3\"])\n",
        "#help(sns.scatterplot)\n",
        "df[\"fam\"] = tlpa_fam; df[\"cat\"] = tlpa_cat"
      ],
      "execution_count": 19,
      "outputs": []
    },
    {
      "cell_type": "markdown",
      "metadata": {
        "id": "RJ2xkwfUVwds"
      },
      "source": [
        "T:乗り物, C:色, P:植物, F:加工食品, E:建造物, D:道具, V:野菜果物，B:身体部位, I:屋内部位, A:動物"
      ]
    },
    {
      "cell_type": "code",
      "metadata": {
        "id": "8HZHvXrpVql4"
      },
      "source": [
        "plt.figure(figsize=(12,12))\n",
        "ax = sns.scatterplot(x=\"pca2\", y=\"pca1\", data=df, hue=\"cat\", size=\"fam\", sizes=(100,300)) # , legend=\"full\")\n",
        "#T:乗り物, C:色, P:植物, F:加工食品, E:建造物, D:道具, V:野菜果物，B:身体部位, I:屋内部位, A:動物"
      ],
      "execution_count": null,
      "outputs": []
    },
    {
      "cell_type": "code",
      "metadata": {
        "id": "xNmw4cUvV3z-"
      },
      "source": [
        "# 上記の図を pdf ファイルとして保存\n",
        "fig = ax.get_figure()\n",
        "fig.savefig('tlpa_pca2-3.pdf')"
      ],
      "execution_count": 21,
      "outputs": []
    },
    {
      "cell_type": "markdown",
      "metadata": {
        "id": "fKR8PWQOs_Eu"
      },
      "source": [
        "# ここから先が tSNE の計算"
      ]
    },
    {
      "cell_type": "code",
      "metadata": {
        "id": "1qwML4NXWDvf",
        "outputId": "250556d8-37ad-4a2c-8939-ee267879f75f",
        "colab": {
          "base_uri": "https://localhost:8080/"
        }
      },
      "source": [
        "#time_start = time.time()\n",
        "tsne = TSNE(n_components=2, verbose=1, perplexity=40, n_iter=500)  # tSNE の定義\n",
        "tsne_results = tsne.fit_transform(w2v_vect)  # tSNE による word2vec の可視化\n",
        "#print('t-SNE done! Time elapsed: {} seconds'.format(time.time()-time_start))"
      ],
      "execution_count": 24,
      "outputs": [
        {
          "output_type": "stream",
          "name": "stderr",
          "text": [
            "/usr/local/lib/python3.11/dist-packages/sklearn/manifold/_t_sne.py:1164: FutureWarning: 'n_iter' was renamed to 'max_iter' in version 1.5 and will be removed in 1.7.\n",
            "  warnings.warn(\n"
          ]
        },
        {
          "output_type": "stream",
          "name": "stdout",
          "text": [
            "[t-SNE] Computing 121 nearest neighbors...\n",
            "[t-SNE] Indexed 200 samples in 0.001s...\n",
            "[t-SNE] Computed neighbors for 200 samples in 0.009s...\n",
            "[t-SNE] Computed conditional probabilities for sample 200 / 200\n",
            "[t-SNE] Mean sigma: 12.173744\n",
            "[t-SNE] KL divergence after 250 iterations with early exaggeration: 67.403603\n",
            "[t-SNE] KL divergence after 500 iterations: 0.620870\n"
          ]
        }
      ]
    },
    {
      "cell_type": "code",
      "metadata": {
        "id": "hCEnOKNVWO1h"
      },
      "source": [
        "# tSNE 結果の描画\n",
        "df_subset = df.copy()\n",
        "#df_subset['pca-one'] = pca_result[:,0]\n",
        "#df_subset['pca-two'] = pca_result[:,1]\n",
        "#df_subset['pca-three'] = pca_result[:,2]\n",
        "\n",
        "df_subset['tSNE1'] = tsne_results[:,0]\n",
        "df_subset['tSNE2'] = tsne_results[:,1]\n",
        "\n",
        "plt.figure(figsize=(12,12))\n",
        "ax = sns.scatterplot(x=\"tSNE1\", y=\"tSNE2\", hue=\"cat\", size=\"fam\",\n",
        "    data=df_subset, sizes=(120,300)\n",
        ")\n",
        "fig = ax.get_figure()\n",
        "fig.savefig('tlpa_tSNE.pdf')  # 結果の保存"
      ],
      "execution_count": null,
      "outputs": []
    },
    {
      "cell_type": "code",
      "metadata": {
        "id": "vIZFRnc9WSpY"
      },
      "source": [],
      "execution_count": null,
      "outputs": []
    }
  ]
}