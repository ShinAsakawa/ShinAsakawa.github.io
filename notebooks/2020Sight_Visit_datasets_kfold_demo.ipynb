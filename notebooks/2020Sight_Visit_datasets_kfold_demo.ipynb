{
  "nbformat": 4,
  "nbformat_minor": 0,
  "metadata": {
    "colab": {
      "name": "2020Sight_Visit_datasets_kfold_demo.ipynb",
      "provenance": [],
      "private_outputs": true,
      "authorship_tag": "ABX9TyM7eWzKIKWl+p9bsRs2p06A",
      "include_colab_link": true
    },
    "kernelspec": {
      "name": "python3",
      "display_name": "Python 3"
    }
  },
  "cells": [
    {
      "cell_type": "markdown",
      "metadata": {
        "id": "view-in-github",
        "colab_type": "text"
      },
      "source": [
        "<a href=\"https://colab.research.google.com/github/ShinAsakawa/ShinAsakawa.github.io/blob/master/notebooks/2020Sight_Visit_datasets_kfold_demo.ipynb\" target=\"_parent\"><img src=\"https://colab.research.google.com/assets/colab-badge.svg\" alt=\"Open In Colab\"/></a>"
      ]
    },
    {
      "cell_type": "markdown",
      "metadata": {
        "id": "zVge4DNUAmf_",
        "colab_type": "text"
      },
      "source": [
        "出典: <http://codh.rois.ac.jp/kmnist/>\n",
        "\n",
        "<center>\n",
        "<img src=\"http://codh.rois.ac.jp/img/kmnist.png\" style=\"widht:59%\">\n",
        "</center>"
      ]
    },
    {
      "cell_type": "code",
      "metadata": {
        "id": "I_fTpiaczdO7",
        "colab_type": "code",
        "colab": {}
      },
      "source": [
        "!wget http://codh.rois.ac.jp/kmnist/dataset/kmnist/kmnist-train-imgs.npz\n",
        "!wget http://codh.rois.ac.jp/kmnist/dataset/kmnist/kmnist-train-labels.npz\n",
        "!wget http://codh.rois.ac.jp/kmnist/dataset/kmnist/kmnist-test-imgs.npz\n",
        "!wget http://codh.rois.ac.jp/kmnist/dataset/kmnist/kmnist-test-labels.npz"
      ],
      "execution_count": null,
      "outputs": []
    },
    {
      "cell_type": "code",
      "metadata": {
        "id": "mP1R4Z-yziNb",
        "colab_type": "code",
        "colab": {}
      },
      "source": [
        "from sklearn.neighbors import KNeighborsClassifier\n",
        "import numpy as np\n",
        "\n",
        "def load(f):\n",
        "    return np.load(f)['arr_0']\n",
        "\n",
        "# Load the data\n",
        "x_train = load('kmnist-train-imgs.npz')\n",
        "x_test = load('kmnist-test-imgs.npz')\n",
        "y_train = load('kmnist-train-labels.npz')\n",
        "y_test = load('kmnist-test-labels.npz')\n",
        "\n",
        "# Flatten images\n",
        "n_samples = 5000\n",
        "x_train = x_train.reshape(-1, 784)[:n_samples]\n",
        "y_train = y_train[:n_samples]\n",
        "x_test = x_test.reshape(-1, 784)\n",
        "\n",
        "ind2c =[c for c in 'おきすつなまはやれを']"
      ],
      "execution_count": null,
      "outputs": []
    },
    {
      "cell_type": "code",
      "metadata": {
        "id": "YNo-X0BsBci9",
        "colab_type": "code",
        "colab": {}
      },
      "source": [
        "!pip install japanize-matplotlib"
      ],
      "execution_count": null,
      "outputs": []
    },
    {
      "cell_type": "code",
      "metadata": {
        "id": "cp0WUAN1_riO",
        "colab_type": "code",
        "colab": {}
      },
      "source": [
        "import matplotlib.pyplot as plt\n",
        "import japanize_matplotlib\n",
        "\n",
        "n = 0\n",
        "for n in (0, 3, 5, 7):\n",
        "    plt.imshow(x_train[n].reshape(28,-1),cmap='gray')\n",
        "    plt.title(ind2c[y_train[n]]); plt.show()"
      ],
      "execution_count": null,
      "outputs": []
    },
    {
      "cell_type": "code",
      "metadata": {
        "id": "5fHfPrHhzr8f",
        "colab_type": "code",
        "colab": {}
      },
      "source": [
        "from sklearn import svm\n",
        "\n",
        "clf = svm.SVC(kernel='linear')\n",
        "print('Fitting', clf)\n",
        "clf.fit(x_train, y_train)\n",
        "print('Evaluating', clf)\n",
        "test_score = clf.score(x_test, y_test)\n",
        "print('Test accuracy:', test_score)"
      ],
      "execution_count": null,
      "outputs": []
    },
    {
      "cell_type": "code",
      "metadata": {
        "id": "iEHJ4UzaU8ez",
        "colab_type": "code",
        "colab": {}
      },
      "source": [
        "from sklearn.model_selection import KFold, cross_val_score\n",
        "X = [\"a\", \"a\", \"b\", \"c\", \"c\", \"c\"]\n",
        "k_fold = KFold(n_splits=3)\n",
        "for train_, test_ in k_fold.split(X):\n",
        "    print('Train: %s | test: %s' % (train_, test_))"
      ],
      "execution_count": null,
      "outputs": []
    },
    {
      "cell_type": "code",
      "metadata": {
        "id": "3Um9nFCiVM3o",
        "colab_type": "code",
        "colab": {}
      },
      "source": [
        "def train_and_evaluate(clf, X_train, y_train):\n",
        "    clf.fit(x_train, y_train)\n",
        "    print(\"Coefficient of determination on training set:\", clf.score(X_train, y_train))\n",
        "    # create a k-fold cross validation iterator of k=5 folds\n",
        "    cv = KFold(X_train.shape[0], 5, shuffle=True) # , random_state=33)\n",
        "    scores = cross_val_score(clf, X_train, y_train, cv=cv)\n",
        "    print(\"Average coefficient of determination using 5-fold crossvalidation:\", np.mean(scores))"
      ],
      "execution_count": null,
      "outputs": []
    },
    {
      "cell_type": "code",
      "metadata": {
        "id": "zSN1Vl3xSuO3",
        "colab_type": "code",
        "colab": {}
      },
      "source": [
        "k_fold = KFold(n_splits=3)\n",
        "[clf.fit(x_train[train], y_train[train]).score(x_train[test], y_train[test]) for train, test in k_fold.split(x_train)]"
      ],
      "execution_count": null,
      "outputs": []
    }
  ]
}