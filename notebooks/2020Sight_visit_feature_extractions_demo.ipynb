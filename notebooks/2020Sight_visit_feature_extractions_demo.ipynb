{
  "nbformat": 4,
  "nbformat_minor": 0,
  "metadata": {
    "colab": {
      "name": "2020Sight_visit_feature_extractions_demo.ipynb",
      "private_outputs": true,
      "provenance": [],
      "include_colab_link": true
    },
    "kernelspec": {
      "name": "python3",
      "display_name": "Python 3"
    }
  },
  "cells": [
    {
      "cell_type": "markdown",
      "metadata": {
        "id": "view-in-github",
        "colab_type": "text"
      },
      "source": [
        "<a href=\"https://colab.research.google.com/github/ShinAsakawa/ShinAsakawa.github.io/blob/master/notebooks/2020Sight_visit_feature_extractions_demo.ipynb\" target=\"_parent\"><img src=\"https://colab.research.google.com/assets/colab-badge.svg\" alt=\"Open In Colab\"/></a>"
      ]
    },
    {
      "cell_type": "markdown",
      "metadata": {
        "id": "i_17xEva0U1X"
      },
      "source": [
        "# サイトビジット G 検定対策ビデオ教材\n",
        "\n",
        "# 画像処理における特徴量抽出の実演教材\n",
        "\n",
        "- 浅川伸一\n",
        "- date: 2020-0909\n",
        "- revised at: 2021-0526\n",
        "\n",
        "SIFT と SURF が opencv では対応しなくなったため，代わりに ORB を使ったデモを追加しました。\n",
        "\n",
        "\n"
      ]
    },
    {
      "cell_type": "code",
      "metadata": {
        "id": "HIsQsOleX35_"
      },
      "source": [
        "#最新の OpenCV では surf などが著作権の問題で実装はされなくなりました。\n",
        "#従って，以前のバージョンをインストールしなければなりません \n",
        "#!pip install opencv-python==3.4.2.16\n",
        "#!pip install opencv-contrib-python==3.4.2.16"
      ],
      "execution_count": null,
      "outputs": []
    },
    {
      "cell_type": "code",
      "metadata": {
        "id": "4nh1RVBzD-ko"
      },
      "source": [
        "import numpy as np\n",
        "import matplotlib.pyplot as plt\n",
        "%matplotlib inline"
      ],
      "execution_count": null,
      "outputs": []
    },
    {
      "cell_type": "code",
      "metadata": {
        "id": "AW0aE6dbEzvp"
      },
      "source": [
        "#ファイルをアップロードします\n",
        "from google.colab import files\n",
        "#files?"
      ],
      "execution_count": null,
      "outputs": []
    },
    {
      "cell_type": "code",
      "metadata": {
        "id": "74d7ML8AE43G"
      },
      "source": [
        "files.upload()  # ご自身の PC からファイルをアップロードして下さい"
      ],
      "execution_count": null,
      "outputs": []
    },
    {
      "cell_type": "code",
      "metadata": {
        "id": "cWKvoooNE9XK"
      },
      "source": [
        "image_file = 'IMG_3189.JPG'  # ファイル名はアップロードしたファイル名に合わせて変更します\n",
        "img = plt.imread(image_file)\n",
        "print(img.shape)  # 画像のサイズを表示します"
      ],
      "execution_count": null,
      "outputs": []
    },
    {
      "cell_type": "code",
      "metadata": {
        "id": "eEKQ87cxGzlY"
      },
      "source": [
        "#OpenCV の読み込み\n",
        "import cv2\n",
        "\n",
        "#アップロードしたファイルの表示\n",
        "img_cv2 = cv2.imread(image_file)\n",
        "plt.figure(figsize = (12, 16)); plt.axis('off')\n",
        "plt.imshow(cv2.cvtColor(img_cv2, cv2.COLOR_BGR2RGB))  # OpenCV は RGB ではなく BGR なので変換する\n"
      ],
      "execution_count": null,
      "outputs": []
    },
    {
      "cell_type": "code",
      "metadata": {
        "id": "KlHE67kOwnRf"
      },
      "source": [
        "from skimage.color import rgb2gray\n",
        "\n",
        "img_gray = rgb2gray(img)\n",
        "print('画像のサイズ:', img_gray.shape, '\\n')\n",
        "\n",
        "# 2D pixel map\n",
        "print('画像の画素の値')\n",
        "print(np.round(img_gray, 2), '\\n')\n",
        "\n",
        "# flattened pixel feature vector\n",
        "print('一次元にしてみます', (np.round(img_gray.flatten(), 2)))"
      ],
      "execution_count": null,
      "outputs": []
    },
    {
      "cell_type": "code",
      "metadata": {
        "id": "IDnM8KpYwrWv"
      },
      "source": [
        "plt.figure(figsize = (10, 8)); plt.axis('off') # 表示画像のサイズ単位はインチで横と縦を指定\n",
        "\n",
        "plt.imshow(img_gray, cmap=\"gray\"); \n",
        "plt.show()\n",
        "\n",
        "plt.figure(figsize = (10, 6)); plt.axis('off')\n",
        "c_freq, c_bins, c_patches = plt.hist(img_gray.flatten(), bins=30)"
      ],
      "execution_count": null,
      "outputs": []
    },
    {
      "cell_type": "code",
      "metadata": {
        "id": "uZFwi1RXwJEr"
      },
      "source": [
        "#DoG 関数の定義\n",
        "def DoG(img, ker1=3, ker2=5):\n",
        "    \"\"\"img : cv2.imread file\"\"\"\n",
        "\n",
        "    blur2 = cv2.GaussianBlur(img, (ker2, ker2), 0)\n",
        "    blur1 = cv2.GaussianBlur(img, (ker1, ker1), 0)\n",
        "\n",
        "    return blur2 - blur1"
      ],
      "execution_count": null,
      "outputs": []
    },
    {
      "cell_type": "code",
      "metadata": {
        "id": "tibCYIrfwTOc"
      },
      "source": [
        "dog_img = DoG(img)\n",
        "plt.figure(figsize = (10, 8)); plt.axis('off')\n",
        "plt.imshow(dog_img); plt.show()\n",
        "\n",
        "\n",
        "dog_img = DoG(img, ker1=3, ker2=9)\n",
        "plt.figure(figsize = (10, 8)); plt.axis('off')\n",
        "plt.imshow(dog_img); plt.show()"
      ],
      "execution_count": null,
      "outputs": []
    },
    {
      "cell_type": "code",
      "metadata": {
        "id": "WO-Y1O0AIP6H"
      },
      "source": [
        "#SIFT と SURF の定義\n",
        "#sift_detector = cv2.xfeatures2d.SIFT_create()\n",
        "#surf_detector = cv2.xfeatures2d.SURF_create()\n",
        "#help(cv2.xfeatures2d)\n"
      ],
      "execution_count": null,
      "outputs": []
    },
    {
      "cell_type": "markdown",
      "metadata": {
        "id": "Ox0zsJ06KYVk"
      },
      "source": [
        "# 注記: 2021年５月２６日\n",
        "\n",
        "ビデオでは SIFT と SURF を紹介しました。ですが，SIFT と SURF は著作権の関係から opencv ライブラリでは使えなくなりました。\n",
        "代わりとして ORB を紹介します。\n",
        "ORB は SIFT や ORB の代替として更に性能が高いように見受けられます。\n",
        "\n",
        "参考文献:\n",
        "Rublee, E.,  Rabaud, V., Konolige, K., and Bradski, G (2011) ORB: an efficient alternative to SIFT or SURF, Proceedings IEEE International Conference on Computer Vision."
      ]
    },
    {
      "cell_type": "code",
      "metadata": {
        "id": "jIliQAH-HJ3u"
      },
      "source": [
        "# Initiate ORB detector\n",
        "orb = cv2.ORB_create()\n",
        "# find the keypoints with ORB\n",
        "orb_keypoints = orb.detect(img_cv2,None)\n",
        "# compute the descriptors with ORB\n",
        "orb_keypoints, des = orb.compute(img_cv2, orb_keypoints)\n",
        "\n",
        "radius = 15\n",
        "for ky in orb_keypoints:\n",
        "    cv2.circle(img_cv2, (int(ky.pt[0]),int(ky.pt[1])), radius, (0,255,0), -1)\n",
        "\n",
        "plt.figure(figsize = (12, 16))\n",
        "plt.axis('off')\n",
        "plt.imshow(cv2.cvtColor(img_cv2, cv2.COLOR_BGR2RGB))\n",
        "\n",
        "# draw only keypoints location,not size and orientation\n",
        "#img2 = cv2.drawKeypoints(img_cv2, orb_keypoints, None, color=(0,255,0), flags=0)"
      ],
      "execution_count": null,
      "outputs": []
    },
    {
      "cell_type": "code",
      "metadata": {
        "id": "zNt0DdNmHM1r"
      },
      "source": [
        "# #SURF の実演\n",
        "# img_cv2 = cv2.imread(image_file)\n",
        "# surf_keypoints, _ = surf_detector.detectAndCompute(img_cv2, None)\n",
        "\n",
        "# radius = 5\n",
        "# for k in surf_keypoints:\n",
        "#     cv2.circle(img_cv2, (int(k.pt[0]),int(k.pt[1])), radius, (0,255,0),-1)\n",
        "\n",
        "# plt.figure(figsize = (6, 8))\n",
        "# plt.imshow(cv2.cvtColor(img_cv2, cv2.COLOR_BGR2RGB))\n"
      ],
      "execution_count": null,
      "outputs": []
    },
    {
      "cell_type": "code",
      "metadata": {
        "id": "sfpV64w3NhLZ"
      },
      "source": [
        "# #sift の実演\n",
        "# img_cv2 = cv2.imread(image_file)\n",
        "# sift_keypoints, _ = sift_detector.detectAndCompute(img_cv2, None)\n",
        "\n",
        "# radius = 5\n",
        "# for k in sift_keypoints:\n",
        "#     cv2.circle(img_cv2, (int(k.pt[0]),int(k.pt[1])), radius, (0,255,0),-1)\n",
        "\n",
        "# plt.figure(figsize = (6, 8)) \n",
        "# plt.imshow(cv2.cvtColor(img_cv2, cv2.COLOR_BGR2RGB))\n"
      ],
      "execution_count": null,
      "outputs": []
    },
    {
      "cell_type": "code",
      "metadata": {
        "id": "dYh704hvGXn_"
      },
      "source": [
        "# Canny アルゴリズムによるエッジ（端点）検出の実演\n",
        "from skimage.feature import canny\n",
        "\n",
        "img_edges = canny(img_gray, sigma=3)\n",
        "\n",
        "plt.figure(figsize = (10, 8)); plt.axis('off')\n",
        "plt.imshow(img_edges, cmap='binary')\n"
      ],
      "execution_count": null,
      "outputs": []
    },
    {
      "cell_type": "code",
      "metadata": {
        "id": "VrqI-iXAGmvV"
      },
      "source": [
        "#HOG の実演\n",
        "from skimage.feature import hog\n",
        "from skimage import exposure\n",
        "\n",
        "# 下の orientation の値は 0 から 9 までです。変化させて，結果を観察してください\n",
        "fd_img, img_hog = hog(img_gray, orientations=8, pixels_per_cell=(8, 8), \n",
        "                      cells_per_block=(3, 3), visualize=True)\n",
        "\n",
        "# rescaling intensity to get better plots\n",
        "img_hogs = exposure.rescale_intensity(img_hog, in_range=(0, 0.04))\n",
        "\n",
        "#plt.figure(figsize = (6, 8))\n",
        "plt.figure(figsize = (10,8)); plt.axis('off')\n",
        "plt.imshow(img_hogs, cmap='binary')\n"
      ],
      "execution_count": null,
      "outputs": []
    },
    {
      "cell_type": "code",
      "metadata": {
        "id": "XJA2fXJLMNaY"
      },
      "source": [
        ""
      ],
      "execution_count": null,
      "outputs": []
    }
  ]
}