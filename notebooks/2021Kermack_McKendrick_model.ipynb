{
  "nbformat": 4,
  "nbformat_minor": 0,
  "metadata": {
    "colab": {
      "name": "2021Kermack_McKendrick_model.ipynb",
      "provenance": []
    },
    "kernelspec": {
      "display_name": "Python 3",
      "language": "python",
      "name": "python3"
    },
    "language_info": {
      "codemirror_mode": {
        "name": "ipython",
        "version": 3
      },
      "file_extension": ".py",
      "mimetype": "text/x-python",
      "name": "python",
      "nbconvert_exporter": "python",
      "pygments_lexer": "ipython3",
      "version": "3.7.9"
    }
  },
  "cells": [
    {
      "cell_type": "markdown",
      "metadata": {
        "id": "nIAyV7yU40Fj"
      },
      "source": [
        "# 疫学の数理モデルによる導入\n",
        "\n",
        "<font color=\"teal\" size=\"+1\">高等学校の数学だけを使って CCP ウィルスの感染予測と，そこからニューラルネットワークの出力関数との関係に言及，考察する</font><br/>\n",
        "\n",
        "- Date: 2021-0215\n",
        "- Author: 浅川伸一 asakawa@ieee.org\n",
        "\n",
        "まずは東京都の感染データを読み込んで表示\n"
      ]
    },
    {
      "cell_type": "code",
      "metadata": {
        "id": "aUPy9xF1cCSs"
      },
      "source": [
        "#!pwd\n",
        "import numpy as np\n",
        "import matplotlib.pyplot as plt\n",
        "%matplotlib inline\n",
        "\n",
        "!pip install japanize_matplotlib\n",
        "import japanize_matplotlib"
      ],
      "execution_count": null,
      "outputs": []
    },
    {
      "cell_type": "code",
      "metadata": {
        "id": "xdRr5c3bgUOn"
      },
      "source": [
        "# 東京都のデータを確認\n",
        "import json\n",
        "import urllib.request\n",
        "\n",
        "# 東京都の感染者数は https://dev-covid19-tokyo.netlify.app/ で日々公開されている \n",
        "# このサイトのソースコードは以下の GitHub で公開されているので利用させていただく\n",
        "# source: https://github.com/tokyo-metropolitan-gov/covid19\n",
        "tokyo_json_file = 'https://raw.githubusercontent.com/tokyo-metropolitan-gov/covid19/development/data/data.json'\n",
        "\n",
        "# 実際のデータ入手\n",
        "req = urllib.request.Request(tokyo_json_file)\n",
        "with urllib.request.urlopen(req) as response:\n",
        "    data = json.load(response)\n",
        "\n",
        "# 日付が '2021-02-18T08:00:00.000Z' のような書式なので先頭から 10 文字だけ\n",
        "# 取り出すため，下行では x['日付'][:10] のようにしている\n",
        "x = {x['日付'][:10]:int(x['小計']) for x in data['patients_summary']['data']}"
      ],
      "execution_count": null,
      "outputs": []
    },
    {
      "cell_type": "code",
      "metadata": {
        "id": "5coDJKyNgUOo"
      },
      "source": [
        "# `https://dev-covid19-tokyo.netlify.app/en/` のグラフと比較のこと\n",
        "plt.figure(figsize=(10, 8)) # 画像のサイズ指定 (横(インチ), 縦(インチ))\n",
        "n_last = 115\n",
        "\n",
        "# 棒グラフ \n",
        "plt.bar(range(n_last), [v for v in x.values()][-n_last:])\n",
        "\n",
        "# 折れ線グラフ\n",
        "plt.plot([v for v in x.values()][-n_last:])\n",
        "\n",
        "plt.title('https://dev-covid19-tokyo.netlify.app/ のグラフと比較のこと')\n",
        "save_file_name = '2020-0518Tokyo_covid19_patients_summary.png'\n",
        "\n",
        "# 保存する場合は，下行の行頭 # を削除する\n",
        "#plt.savefig(save_file_name)\n",
        "\n",
        "# 自分の PC にグラフをダウンロード colab 用\n",
        "#from google.colab import files\n",
        "#files.download(save_file_name)"
      ],
      "execution_count": null,
      "outputs": []
    },
    {
      "cell_type": "markdown",
      "metadata": {
        "id": "lzM1PwKCgUOp"
      },
      "source": [
        "Kermack と McKendrick は 1905 年から 1906 年にかけてインドで発生したコレラの大流行についての疫学的流行モデルを提案した。\n",
        "\n",
        "- $y$: population infected 感染者数\n",
        "- $x$: number of individuals still unaffected 未感染者数\n",
        "- $z$: number who have been removed by recover and death 地域社会から隔離された人口（理由は問わない，隔離，死去，免疫獲得など）\n",
        "- $N$: population density 地域社会の総人口 $N=x+y+z$\n",
        "\n",
        "$\\kappa$ を感染率，$\\ell$ を隔離係数として Kermack=McKendrick モデルは次式で表される:\n",
        "\n",
        "$$\n",
        "\\begin{cases}\n",
        "\\frac{dx}{dt} &= - \\kappa x y\\\\\n",
        "\\frac{dy}{dt} &= \\kappa x y - \\ell y\\\\\n",
        "\\frac{dz}{dt} &= \\ell y\n",
        "\\end{cases}\n",
        "$$\n",
        "\n",
        "- Reference:\n",
        "Kermack and McKendrick (1927) A Contribution to the Mathematical Theory of Epidemics.\n",
        "\n",
        "Kermack と McKendrick の感染症モデルは，3 状態モデルと呼ばれるモデルで，感染者(y)，非感染者(x)，それ以外(z) の 3 つからなる。\n",
        "このモデルは **常微分方程式** で表される。\n",
        "3 状態モデルではあるが，3 者を足し合わせると総人口になるため，本質的には 2 変数で考えても良い。\n",
        "\n",
        "常微分方程式とは，上式に即して言えば，各変数が 時刻 $t$ の変化率（微分）で表現されていることを意味する。\n",
        "すなわち 非感染者 x の時間変化 $\\displaystyle\\frac{dx}{dt}$ は，その時刻での感染者 x と非感染者 y との積で表されことを主張している。\n",
        "\n",
        "ここで $\\kappa>0$ は定数であり感染の速さを定める。\n",
        "\n",
        "反対に 感染者はこの値 $\\kappa$ と感染者と非感染者の積の大きさに応じて増加する。\n",
        "（非感染者 x は減少する。なぜなら $-\\kappa$ と負の値だからである）\n",
        "\n",
        "さらに 感染者は一定の割合 $\\ell$ で減少する。\n",
        "この $\\ell$ は，免疫を獲得する，死亡する，ワクチン接種によって抗体を獲得するなどによって集団から隔離される割合を表す。\n",
        "\n",
        "まずは，原著論文に掲載された図を表示してみよう。\n"
      ]
    },
    {
      "cell_type": "code",
      "metadata": {
        "id": "PxipJWsbdZWh"
      },
      "source": [
        "# 原著論文に掲載された図画像の取得\n",
        "!wget https://raw.githubusercontent.com/ShinAsakawa/ShinAsakawa.github.io/master/assets/1927Kermack_McKendrick_fig.png"
      ],
      "execution_count": null,
      "outputs": []
    },
    {
      "cell_type": "code",
      "metadata": {
        "id": "ko59y5h1cvgJ"
      },
      "source": [
        "# 画像の表示\n",
        "img = plt.imread('1927Kermack_McKendrick_fig.png')\n",
        "plt.figure(figsize=(6, 10))\n",
        "plt.axis(False); plt.imshow(img, cmap='gray')\n",
        "plt.show()"
      ],
      "execution_count": null,
      "outputs": []
    },
    {
      "cell_type": "code",
      "metadata": {
        "id": "oD497lby40Fp"
      },
      "source": [
        "def KM(x0=99, y0=1, length=100, kappa=1.0, ell=1.0, dt=0.005):\n",
        "    \"\"\"Kermack and McKendrick differenctial equations model\n",
        "    \n",
        "    arguments:\n",
        "    x0: float\n",
        "        非感染率の初期値\n",
        "    y0: float\n",
        "        感染率の初期値\n",
        "    length: int\n",
        "        シミュレーションを繰り返す回数\n",
        "    kappa: float\n",
        "        感染係数 感染しやすさの目安\n",
        "        大きければ感染力が強い，すなわち感染拡大率が増大することを意味する\n",
        "    ell: 隔離係数\n",
        "        感染者が，地域社会から隔離される率，すなわち，\n",
        "        - 免疫を獲得する，\n",
        "        - 抗体を持つ\n",
        "        - 死亡する\n",
        "        等によって，感染から除外される率を表す。\n",
        "    dt: float\n",
        "        時間単位の増分\n",
        "    \n",
        "    \"\"\"\n",
        "    X, Y, Z = [], [], []\n",
        "    x, y, z = x0, y0, 0.\n",
        "    for _ in range(length):\n",
        "        dx = (-kappa * x * y) * dt\n",
        "        dy = (kappa * x * y - ell * y) * dt\n",
        "        dz = (ell * y) * dt\n",
        "        x += dx\n",
        "        y += dy\n",
        "        z += dz\n",
        "        X.append(x)\n",
        "        Y.append(y)\n",
        "        Z.append(z)\n",
        "\n",
        "    return X, Y, Z\n",
        "\n",
        "kappa = 1.0\n",
        "l1 = 10. # 隔離係数 (現実に近い？ 緊急事態宣言のことか？)\n",
        "l2 = 50.  # 隔離係数が大きい場合\n",
        "\n",
        "#n_last = 70\n",
        "_, Y1, Z1 = KM(kappa=1.0, ell=l1, length=n_last, dt=0.004)\n",
        "X, Y2, Z2 = KM(kappa=1.0, ell=l2, length=n_last)\n",
        "T = range(len(X))\n",
        "\n",
        "#m = 2400 / 70\n",
        "m = 0.97 * np.array([x for x in list(x.values())]).max() / n_last\n",
        "plt.figure(figsize=(10, 8))  # width, height inches\n",
        "plt.plot(T, [v for v in x.values()][-n_last:], c='red', label='東京都の日毎感染者数')  # 実データ\n",
        "\n",
        "#plt.plot(T, X, c='g', label='非感染者数')  # X軸を T, Y軸を X(非感染者) 色(c)を緑(g)で描画\n",
        "plt.plot(T, m * np.array(Y1), c='blue', label='Y1 感染者数の予測値')  # X軸を T, Y軸を Y1(感染者, l=l1) 色(c)を黄色(y)で描画\n",
        "#plt.plot(T, m * np.array(Y2), c='red', label='Y2 感染者数')  # X軸を T, Y軸を X2(感染者, l=l2) 色(c)を緑(r)で描画\n",
        "plt.legend(fontsize=20)\n",
        "plt.title('Kermack と McKendrick モデルによる感染予測')\n",
        "plt.show()\n",
        "# plt.savefig('KM_model_output.png') グラフの保存"
      ],
      "execution_count": null,
      "outputs": []
    },
    {
      "cell_type": "markdown",
      "metadata": {
        "id": "ic1bFlJN40Ft"
      },
      "source": [
        "<!--\n",
        "$\\sinh(x) = \\frac{\\exp(x)-\\exp(-x)}{2}$\n",
        "\n",
        "$\\cosh(x) = \\frac{\\exp(x)+\\exp(-x)}{2}$\n",
        "\n",
        "$\\tanh(x) = \\frac{\\exp(x)-\\exp(-x)}{\\exp(x)+\\exp(-x)}$\n",
        "\n",
        "$\\text{sech}(x) = \\frac{1}{\\cosh(x)}$\n",
        "\n",
        "$\\text{cosech}(x) = \\frac{1}{\\sinh(x)}$\n",
        "\n",
        "$\\coth(x) = \\frac{\\cosh(x)}{\\sinh(x)}$\n",
        "-->"
      ]
    },
    {
      "cell_type": "markdown",
      "metadata": {
        "id": "jWMz0LFwgUOr"
      },
      "source": [
        "上記のことを，さらに簡単に記述することを試みる。\n",
        "\n",
        "Kermack McKendrick モデル (以下 KM) の解説を試みる。\n",
        "感染者の割合を $y$ とし，非感染者の割合を $y$ する。\n",
        "時刻 $t$ における非感染者の割合の変化率は以下のごときであることが主張されている:\n",
        "$$\n",
        "\\frac{dx}{dt}=\\kappa x\\,y.\n",
        "$$\n",
        "表記方法によっては 時刻を明記して $y(t)$ と表記することもある。\n",
        "\n",
        "$y$ は割合であるので $0\\le y\\le 1$ である。\n",
        "一方，非感染者の割合は $1-y$ と表すことができので，$0\\le y\\le 1$ であり $y + 1 - y = 0$ が成り立つ。\n",
        "\n",
        "東京都の感染者数は，東京都の全人口を $N$ とすれば，感染率 $y$ との積 $Ny$ である。\n",
        "\n",
        "KM モデルの第一式 $\\displaystyle\\frac{dx}{dt}=-\\kappa x y$ の意味は次のとおりである。\n",
        "左辺は 非感染者 $x$ の時間変化，すなわち変化率の意味である。\n",
        "右辺は，この変化率が 非感染者率と感染者率 $y$ との積に定数 $\\kappa$ を掛けたものであることを主張している。\n",
        "簡単のため $\\kappa=1$ と考えれば，$\\displaystyle\\frac{dx}{dt}=x\\,y$ である。\n",
        "\n",
        "$x$ と $y$ は，どちらかが分かれば，1 からその値を引くことで求めることができるので，一方だけ考えれば良い。\n",
        "どちらを考えても同じことになる。そこで $x$ を $1-y$ と書き換えれば，与式は次のように書くことができる:\n",
        "\n",
        "$$\n",
        "\\frac{dy}{dt}=y (1-y), \\hspace{3em}\\text{あるいは}\\hspace{3em} \\frac{dx}{dt}=x(1-x)\n",
        "$$\n",
        "\n",
        "ここで，$x$ と $y$ の積が大きくなること，すなわち一日の感染者数が多くなることの意味を考える。\n",
        "$x$ と $y$ との積であるから，$x$ と $y$ とを一辺とする長方形の面積を求めていることに擬（なぞら）えることができる。\n",
        "この長方形の面積が大きくなるのは，正方形のとき，すなわち $x$ と $y$ とが等しいときであることが予想できる。"
      ]
    },
    {
      "cell_type": "code",
      "metadata": {
        "id": "bUB0x6OPgUOs",
        "outputId": "aa659628-231c-4ea1-e690-a3947a996455"
      },
      "source": [
        "p = np.linspace(0,1)  # 0 から 1 までの間を分割して，そのすべての値をまとめて p に格納\n",
        "x = p      # x は p そのもの，感染者率\n",
        "y = (1-x)  # ｙ は 1 から x を引いた値 すなわち 非感染者率\n",
        "plt.plot(x, x * y)"
      ],
      "execution_count": null,
      "outputs": [
        {
          "output_type": "execute_result",
          "data": {
            "text/plain": [
              "[<matplotlib.lines.Line2D at 0x7ffb98bfc290>]"
            ]
          },
          "metadata": {
            "tags": []
          },
          "execution_count": 7
        },
        {
          "output_type": "display_data",
          "data": {
            "image/png": "[encoded data removed]",
            "text/plain": [
              "<Figure size 432x288 with 1 Axes>"
            ]
          },
          "metadata": {
            "tags": [],
            "needs_background": "light"
          }
        }
      ]
    },
    {
      "cell_type": "markdown",
      "metadata": {
        "id": "vEua0Z6egUOs"
      },
      "source": [
        "直上図から，直感のとおりで正方形の面積である $x = (1-x) = y = 0.5$ のときに面積 $0.5\\times 0.5=0.25$ が最大であることがわかる。\n",
        "翻（ひるがえ）って，これは感染症患者数の増加率であったから，感染者と非感染者との数が同数のときに感染者の増加が最大となることが推察される。"
      ]
    },
    {
      "cell_type": "markdown",
      "metadata": {
        "id": "ZKFg1-iKgUOs"
      },
      "source": [
        "両辺を $y(1-y)$ で割ることで，\n",
        "$$\n",
        "\\frac{1}{y(1-y)}\\frac{dy}{dt}=1.\n",
        "$$\n",
        "\n",
        "となる。LHS 第一因子はそのままでは積分できないので，部分分数に分解する。\n",
        "上式 RHS 第一因子が $1/y$ と $1/(1-y)$ との和に部分分数分解できたとする。\n",
        "分解してできた項の分母を $a$, $b$ と考えて次式を得る。\n",
        "\n",
        "$$\n",
        "\\frac{a}{y}+\\frac{b}{1-y}=\\frac{1}{y(1-y)}.\n",
        "$$\n",
        "\n",
        "上式の $a$, $b$ を求めると $a=1$, $b=1$ を得る。\n",
        "したがって与式 RHS は項別積分できる形に分解できる。すなわち次式のように書くことができる:\n",
        "\n",
        "$$\n",
        "\\frac{1}{y(1-y)}=\\frac{1}{y}+\\frac{1}{1-y}.\n",
        "$$\n",
        "\n",
        "このことにより RHS は項別に積分が可能となる。\n",
        "すなわち，$\\displaystyle \\int\\frac{1}{y(1-y)}dy=\\int\\frac{1}{y}dy+\\int\\frac{1}{1-y}dy$ である。\n",
        "これらの積分を実行することにより，次式を得る:\n",
        "\n",
        "$$\n",
        "\\int\\frac{1}{y}\\;dy+\\int\\frac{1}{1-y}\\;dy = \\log|y|-\\log|1-y| + C.\n",
        "$$\n",
        "ただし $C$ は積分定数である。"
      ]
    },
    {
      "cell_type": "markdown",
      "metadata": {
        "id": "Qn5PHdqhgUOt"
      },
      "source": [
        "対数の引き算は対数の割り算に変換できるので\n",
        "$\\displaystyle\\log\\left(\\frac{y}{1-y}\\right)+C$ を得る。\n"
      ]
    },
    {
      "cell_type": "markdown",
      "metadata": {
        "id": "xaqeoUPvgUOt"
      },
      "source": [
        "$$\n",
        "x - c =\\log\\left(\\frac{y}{1-y}\\right)\n",
        "$$\n",
        "\n",
        "指数と対数とは逆の操作であることに注意して\n",
        "$\\log x = y$ なら $e^y = x$ であるから\n",
        "\n",
        "$$\n",
        "e^{x-c}=\\frac{y}{1-y}          \\hspace{2em}\\text{RHS の denominator を LHS へ　　　　　　　　　　　　　　　　}\\\\\n",
        "(1-y)e^{x-c}=y                 \\hspace{2em}\\text{LHS を積の分配法則に従って　　　　　　　　　　　　　　　　　　　}\\\\\n",
        "e^{x-c}-ye^{x-c}=y             \\hspace{2em}\\text{LHS と RHS をひっくり返して，かつ $y$ に関する項を移項　　　　}\\\\\n",
        "y+ye^{x-c}=e^{x-c}             \\hspace{2em}\\text{共通項を使ってまとめる　　　　　　　　　　　　　　　　　　　　　　}\\\\\n",
        "y\\left(1+e^{x-c}\\right)=e^{x-c}\\hspace{2em}\\text{LHS 第2因子で両辺を割る　　　　　　　　　　　　　　　　　　　　　　　　　　}\\\\\n",
        "y = \\frac{e^{x-c}}{1+e^{x-c}}  \\hspace{2em}\\text{LHS の numerator で nemerator と denominator を割る}\\\\\n",
        "y = \\frac{1}{1+e^{-(x-c)}}     \\hspace{2em}\\text{　　　　　　　　　　　　　　　　　　　　　　　　　　　　　　　　　}\\\\\n",
        "$$"
      ]
    },
    {
      "cell_type": "markdown",
      "metadata": {
        "id": "i32BWcpNgUOt"
      },
      "source": [
        "$$\n",
        "(1-y)Ce^x=y\\\\\n",
        "Ce^x=y+yCe^x\\\\\n",
        "Ce^x=y(1+Ce^x)\\\\\n",
        "y=\\frac{Ce^x}{1+Ce^x}\\\\\n",
        "y=\\frac{1}{1+e^{-x}}\n",
        "$$"
      ]
    },
    {
      "cell_type": "code",
      "metadata": {
        "id": "EPUgW2uigUOv"
      },
      "source": [
        "# source: https://towardsdatascience.com/say-goodbye-to-excel-a-simple-evaluation-of-python-grid-studio-using-covid-19-data-90624f322b81\n",
        "import pandas as pd\n",
        "\n",
        "# Read all data\n",
        "df = pd.read_csv(\"https://opendata.ecdc.europa.eu/covid19/casedistribution/csv\").dropna()\n",
        "\n",
        "# Convert date to integer (because of Grid Studio limitation)\n",
        "df.dateRep = pd.to_datetime(df.dateRep, format='%d/%m/%Y').dt.strftime('%Y%m%d').astype(int)\n",
        "df\n",
        "\n",
        "# Get Australia data\n",
        "df_oz = df[df.countriesAndTerritories == 'Australia']\n",
        "df_oz\n",
        "\n",
        "df_us = df[df.geoId == 'US']\n",
        "df_us\n",
        "\n",
        "# Get Japan data\n",
        "df_jp = df[df.countriesAndTerritories == 'Japan']\n",
        "df_jp\n",
        "\n",
        "\n",
        "# Retain only date, cases and deaths columns\n",
        "df_oz = df_oz[['dateRep', 'cases', 'deaths']]\n",
        "df_jp = df_jp[['dateRep', 'cases', 'deaths']]\n",
        "df_us = df_us[['dateRep', 'cases', 'deaths']]\n",
        "\n",
        "# Calculate cumulative cases & deaths\n",
        "df_oz = df_oz.sort_values('dateRep', ascending=False)\n",
        "df_oz['cumCases'] = df_oz.cases.cumsum()\n",
        "df_oz['cumDeaths'] = df_oz.deaths.cumsum()\n",
        "\n",
        "# Calculate cumulative cases & deaths\n",
        "df_jp = df_jp.sort_values('dateRep', ascending=False)\n",
        "df_jp['cumCases'] = df_jp.cases.cumsum()\n",
        "df_jp['cumDeaths'] = df_jp.deaths.cumsum()\n",
        "\n",
        "# Calculate cumulative cases & deaths\n",
        "df_us = df_us.sort_values('dateRep')\n",
        "df_us['cumCases'] = df_us.cases.cumsum()\n",
        "df_us['cumDeaths'] = df_us.deaths.cumsum()\n",
        "df_jp\n",
        "#print(df_jp['cumDeaths'].head(7))\n",
        "\n",
        "import matplotlib.pyplot as plt\n",
        "xx = list(df_jp['dateRep'])[-10:]\n",
        "#plt.xlabel(xx)\n",
        "plt.bar(range(190), df_jp['cases'].tail(190))"
      ],
      "execution_count": null,
      "outputs": []
    }
  ]
}