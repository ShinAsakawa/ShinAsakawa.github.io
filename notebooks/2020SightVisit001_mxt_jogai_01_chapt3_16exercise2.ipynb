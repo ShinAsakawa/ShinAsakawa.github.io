{
  "nbformat": 4,
  "nbformat_minor": 0,
  "metadata": {
    "kernelspec": {
      "display_name": "Python 3",
      "language": "python",
      "name": "python3"
    },
    "language_info": {
      "codemirror_mode": {
        "name": "ipython",
        "version": 3
      },
      "file_extension": ".py",
      "mimetype": "text/x-python",
      "name": "python",
      "nbconvert_exporter": "python",
      "pygments_lexer": "ipython3",
      "version": "3.7.7"
    },
    "colab": {
      "name": "2020SightVisit001_mxt_jogai_01_chapt3-16exercise2.ipynb",
      "provenance": [],
      "include_colab_link": true
    }
  },
  "cells": [
    {
      "cell_type": "markdown",
      "metadata": {
        "id": "view-in-github",
        "colab_type": "text"
      },
      "source": [
        "<a href=\"https://colab.research.google.com/github/ShinAsakawa/ShinAsakawa.github.io/blob/master/notebooks/2020SightVisit001_mxt_jogai_01_chapt3_16exercise2.ipynb\" target=\"_parent\"><img src=\"https://colab.research.google.com/assets/colab-badge.svg\" alt=\"Open In Colab\"/></a>"
      ]
    },
    {
      "cell_type": "markdown",
      "metadata": {
        "id": "AABj3df_FQMR",
        "colab_type": "text"
      },
      "source": [
        "- 出典: 2020-0702情報とデータサイエンスpart2\n",
        "\n",
        "## 参考資料\n",
        "文部科学省の[高等学校情報科「情報II」教員研修用教材(本編)](https://www.mext.go.jp/a_menu/shotou/zyouhou/detail/mext_00742.html) に掲載されている情報\n",
        "\n",
        "- [第3章 情報とデータサイエンス 前半](https://www.mext.go.jp/content/20200702-mxt_jogai01-000007843_004.pdf)\n",
        "- [第3章 情報とデータサイエンス 後半](https://www.mext.go.jp/content/20200609-mxt_jogai01-000007843_007.pdf)\n",
        "\n",
        "### page 156. 演習 2 引用\n",
        "\n",
        "カリフォルニア大学アーバイン校（UCI）が運営する機械学習用データ配布サイトで公開されている卸売業者の顧客データを用いて，顧客をクラスタリングし，どのような顧客が購入しているか分析してみましょう。\n",
        "\n",
        "[UCI](http://archive.ics.uci.edu/ml/datasets/Wholesale+customers) から，卸売業者のデータのファイル名を `Wholesale_customers_data.csv` に変更してダウンロードする。\n",
        "そのファイルから，プログラムを用いてデータを読み込む。\n",
        "\n",
        "```python\n",
        "import pandas as pd\n",
        "df = pd.read_csv(\"Wholesale_customers_data.csv\")\n",
        "```\n",
        "\n",
        "このデータは，8個の属性から構成されており，1行1顧客のデータとなっている。\n",
        "このうち，6個の属性が年間注文額となっており，これらの属性を用いてクラスタリングを行う。\n",
        "\n",
        "```python\n",
        "sub_cols=df[['Fresh','Milk', 'Grocery','Frozen', 'Detergents_Paper','Delicassen']]\n",
        "```\n",
        "\n",
        "金額を用いてクラスタリングを行いたいので，値の基準化は行わない。次にクラスタ数と SSE の関係をグラフに描き，クラスタ数をエルボー法で推定する 図表８。\n",
        "グラフを見ると，極端に折れ曲がっているクラスタ数はないが，クラスタ数が5の場合の点からゆるやかに減少していることから，クラスタ数を 5 とする。\n",
        "\n",
        "```python\n",
        "import matplotlib.pyplot as plt\n",
        "from sklearn.cluster import KMeans\n",
        "dist_list=[]\n",
        "for i in range( 1, 11 ):\n",
        "kmeans = KMeans( init='random',\n",
        "n_clusters=i,random_state=0 )\n",
        "y_km = kmeans.fit( sub_cols )\n",
        "dist_list.append( kmeans.inertia_ )\n",
        "plt.plot(range(1,11),dist_list,marker='*',\n",
        "markersize=10)\n",
        "plt.xlabel('クラスタ数')\n",
        "plt.ylabel('クラスタ内誤差の平方和　SSE')\n",
        "```\n",
        "\n",
        "次にk-means法によりクラスタリングする。\n",
        "\n",
        "```python\n",
        "kmeans = KMeans( init='random', n_clusters=5, random_state=0 )\n",
        "pred = kmeans.fit_predict( sub_cols )\n",
        "df['cluster_id'] = pred\n",
        "```\n",
        "\n",
        "このようにクラスタリングしたデータの特徴を，属性ごとに平均値を求めて調べる（凡例の位置は調整してある）図表９。\n",
        "\n",
        "```python\n",
        "clusterinfo = pd.DataFrame()\n",
        "for i in range(5):\n",
        "    clusterinfo['clust_' + str(i)] = df[df['cluster_id'] == i].mean()\n",
        "clusterinfo = clusterinfo.drop(['Channel','Region','cluster_id'])\n",
        "clusterinfo.T.plot.bar(stacked=True)\n",
        "```\n",
        "\n",
        "また，各クラスタに含まれるデータ数を次のプログラムで調べる 図表10。\n",
        "\n",
        "```python\n",
        "labels = pd.Series(kmeans.labels_,name='cluster_number')\n",
        "ax=labels.value_counts(sort=False).plot(kind='bar')\n",
        "ax.set_xlabel('クラスタ番号')\n",
        "ax.set_ylabel('データ数')\n",
        "```\n"
      ]
    },
    {
      "cell_type": "code",
      "metadata": {
        "id": "YIBaqpKJFQMT",
        "colab_type": "code",
        "colab": {}
      },
      "source": [
        "#!wget http://archive.ics.uci.edu/ml/machine-learning-databases/00292/Wholesale%20customers%20data.csv"
      ],
      "execution_count": 1,
      "outputs": []
    },
    {
      "cell_type": "code",
      "metadata": {
        "id": "hgaNJGCTFQMZ",
        "colab_type": "code",
        "colab": {
          "base_uri": "https://localhost:8080/",
          "height": 34
        },
        "outputId": "d76adff7-02f1-4df4-9b65-a71d52e11d3e"
      },
      "source": [
        "import requests\n",
        "\n",
        "url = 'http://archive.ics.uci.edu/ml/machine-learning-databases/00292/Wholesale%20customers%20data.csv'\n",
        "r = requests.get(url, allow_redirects=True)\n",
        "open('wholesales_customers_data.csv', 'wb').write(r.content)\n",
        "#!ls *.csv"
      ],
      "execution_count": 2,
      "outputs": [
        {
          "output_type": "execute_result",
          "data": {
            "text/plain": [
              "15021"
            ]
          },
          "metadata": {
            "tags": []
          },
          "execution_count": 2
        }
      ]
    },
    {
      "cell_type": "code",
      "metadata": {
        "id": "A32Y3eleFQMf",
        "colab_type": "code",
        "colab": {}
      },
      "source": [
        "import pandas as pd\n",
        "df = pd.read_csv('wholesales_customers_data.csv')"
      ],
      "execution_count": 3,
      "outputs": []
    },
    {
      "cell_type": "code",
      "metadata": {
        "id": "vo1mM0lbFQMj",
        "colab_type": "code",
        "colab": {
          "base_uri": "https://localhost:8080/",
          "height": 68
        },
        "outputId": "1a35e4b1-cf6b-45f6-88cd-90e710acdf55"
      },
      "source": [
        "df.columns"
      ],
      "execution_count": 4,
      "outputs": [
        {
          "output_type": "execute_result",
          "data": {
            "text/plain": [
              "Index(['Channel', 'Region', 'Fresh', 'Milk', 'Grocery', 'Frozen',\n",
              "       'Detergents_Paper', 'Delicassen'],\n",
              "      dtype='object')"
            ]
          },
          "metadata": {
            "tags": []
          },
          "execution_count": 4
        }
      ]
    },
    {
      "cell_type": "code",
      "metadata": {
        "id": "VT3U5GJTFQMq",
        "colab_type": "code",
        "colab": {}
      },
      "source": [
        "sub_cols = df[['Fresh', 'Milk', 'Grocery', 'Frozen', 'Detergents_Paper', 'Delicassen']]"
      ],
      "execution_count": 5,
      "outputs": []
    },
    {
      "cell_type": "code",
      "metadata": {
        "id": "QtBlVHWoFdQI",
        "colab_type": "code",
        "colab": {
          "base_uri": "https://localhost:8080/",
          "height": 306
        },
        "outputId": "53b20b6a-e4de-4fc9-f216-0d3e7337ecd5"
      },
      "source": [
        "!pip install japanize-matplotlib"
      ],
      "execution_count": 7,
      "outputs": [
        {
          "output_type": "stream",
          "text": [
            "Collecting japanize-matplotlib\n",
            "\u001b[?25l  Downloading https://files.pythonhosted.org/packages/2c/aa/3b24d54bd02e25d63c8f23bb316694e1aad7ffdc07ba296e7c9be2f6837d/japanize-matplotlib-1.1.2.tar.gz (4.1MB)\n",
            "\u001b[K     |████████████████████████████████| 4.1MB 6.4MB/s \n",
            "\u001b[?25hRequirement already satisfied: matplotlib in /usr/local/lib/python3.6/dist-packages (from japanize-matplotlib) (3.2.2)\n",
            "Requirement already satisfied: kiwisolver>=1.0.1 in /usr/local/lib/python3.6/dist-packages (from matplotlib->japanize-matplotlib) (1.2.0)\n",
            "Requirement already satisfied: numpy>=1.11 in /usr/local/lib/python3.6/dist-packages (from matplotlib->japanize-matplotlib) (1.18.5)\n",
            "Requirement already satisfied: python-dateutil>=2.1 in /usr/local/lib/python3.6/dist-packages (from matplotlib->japanize-matplotlib) (2.8.1)\n",
            "Requirement already satisfied: cycler>=0.10 in /usr/local/lib/python3.6/dist-packages (from matplotlib->japanize-matplotlib) (0.10.0)\n",
            "Requirement already satisfied: pyparsing!=2.0.4,!=2.1.2,!=2.1.6,>=2.0.1 in /usr/local/lib/python3.6/dist-packages (from matplotlib->japanize-matplotlib) (2.4.7)\n",
            "Requirement already satisfied: six>=1.5 in /usr/local/lib/python3.6/dist-packages (from python-dateutil>=2.1->matplotlib->japanize-matplotlib) (1.15.0)\n",
            "Building wheels for collected packages: japanize-matplotlib\n",
            "  Building wheel for japanize-matplotlib (setup.py) ... \u001b[?25l\u001b[?25hdone\n",
            "  Created wheel for japanize-matplotlib: filename=japanize_matplotlib-1.1.2-cp36-none-any.whl size=4120191 sha256=86aed1da42c54e353d9c82fe1ade7f9a7ddbe70a4da81c629dfde47edb9bf97a\n",
            "  Stored in directory: /root/.cache/pip/wheels/9c/f9/fc/bc052ce743a03f94ccc7fda73d1d389ce98216c6ffaaf65afc\n",
            "Successfully built japanize-matplotlib\n",
            "Installing collected packages: japanize-matplotlib\n",
            "Successfully installed japanize-matplotlib-1.1.2\n"
          ],
          "name": "stdout"
        }
      ]
    },
    {
      "cell_type": "code",
      "metadata": {
        "id": "8ikqVN4mFQMu",
        "colab_type": "code",
        "colab": {
          "base_uri": "https://localhost:8080/",
          "height": 355
        },
        "outputId": "db677bde-e9c2-4cd1-81e1-aca2da3e5da2"
      },
      "source": [
        "import matplotlib.pyplot as plt\n",
        "import japanize_matplotlib\n",
        "%matplotlib inline\n",
        "from sklearn.cluster import KMeans\n",
        "\n",
        "dist_list = []\n",
        "for i in range(1, 11):\n",
        "    kmeans = KMeans(init='random', n_clusters=i, random_state=0)\n",
        "    y_km = kmeans.fit(sub_cols)\n",
        "    dist_list.append(kmeans.inertia_)\n",
        "\n",
        "plt.plot(range(1,11), dist_list, marker='*', markersize=10)\n",
        "plt.xlabel('クラスタ数')\n",
        "plt.ylabel('クラスタ内誤差平均')"
      ],
      "execution_count": 8,
      "outputs": [
        {
          "output_type": "stream",
          "text": [
            "/usr/local/lib/python3.6/dist-packages/japanize_matplotlib/japanize_matplotlib.py:15: MatplotlibDeprecationWarning: \n",
            "The createFontList function was deprecated in Matplotlib 3.2 and will be removed two minor releases later. Use FontManager.addfont instead.\n",
            "  font_list = font_manager.createFontList(font_files)\n"
          ],
          "name": "stderr"
        },
        {
          "output_type": "execute_result",
          "data": {
            "text/plain": [
              "Text(0, 0.5, 'クラスタ内誤差平均')"
            ]
          },
          "metadata": {
            "tags": []
          },
          "execution_count": 8
        },
        {
          "output_type": "display_data",
          "data": {
            "image/png": "[encoded data removed]",
            "text/plain": [
              "<Figure size 432x288 with 1 Axes>"
            ]
          },
          "metadata": {
            "tags": [],
            "needs_background": "light"
          }
        }
      ]
    },
    {
      "cell_type": "code",
      "metadata": {
        "id": "foxTDHhiFQMy",
        "colab_type": "code",
        "colab": {}
      },
      "source": [
        "# 次にk-means法によりクラスタリングする。\n",
        "kmeans = KMeans(init='random', n_clusters=5, random_state=0)\n",
        "pred = kmeans.fit_predict( sub_cols )\n",
        "df['cluster_id'] = pred"
      ],
      "execution_count": 9,
      "outputs": []
    },
    {
      "cell_type": "code",
      "metadata": {
        "id": "9ivK0vJ3FQM2",
        "colab_type": "code",
        "colab": {
          "base_uri": "https://localhost:8080/",
          "height": 306
        },
        "outputId": "1aa01460-d25f-45dd-f05e-aed893185ba7"
      },
      "source": [
        "# このようにクラスタリングしたデータの特徴を，属性ごとに平均値を求めて調べる（凡例の位置は調整してある）図表９。\n",
        "\n",
        "clusterinfo = pd.DataFrame()\n",
        "for i in range(5):\n",
        "    clusterinfo['clust_' + str(i)] = df[df['cluster_id'] == i].mean()\n",
        "\n",
        "clusterinfo = clusterinfo.drop(['Channel','Region','cluster_id'])\n",
        "clusterinfo.T.plot.bar(stacked=True)"
      ],
      "execution_count": 10,
      "outputs": [
        {
          "output_type": "execute_result",
          "data": {
            "text/plain": [
              "<matplotlib.axes._subplots.AxesSubplot at 0x7fe2aaecb400>"
            ]
          },
          "metadata": {
            "tags": []
          },
          "execution_count": 10
        },
        {
          "output_type": "display_data",
          "data": {
            "image/png": "[encoded data removed]",
            "text/plain": [
              "<Figure size 432x288 with 1 Axes>"
            ]
          },
          "metadata": {
            "tags": [],
            "needs_background": "light"
          }
        }
      ]
    },
    {
      "cell_type": "code",
      "metadata": {
        "id": "QobyxMUWFQM5",
        "colab_type": "code",
        "colab": {
          "base_uri": "https://localhost:8080/",
          "height": 292
        },
        "outputId": "623abf4a-80cb-4b49-c07b-55499c8c7d16"
      },
      "source": [
        "# また，各クラスタに含まれるデータ数を次のプログラムで調べる 図表10。\n",
        "\n",
        "labels = pd.Series(kmeans.labels_,name='cluster_number')\n",
        "ax=labels.value_counts(sort=False).plot(kind='bar')\n",
        "ax.set_xlabel('クラスタ番号')\n",
        "ax.set_ylabel('データ数')\n"
      ],
      "execution_count": 11,
      "outputs": [
        {
          "output_type": "execute_result",
          "data": {
            "text/plain": [
              "Text(0, 0.5, 'データ数')"
            ]
          },
          "metadata": {
            "tags": []
          },
          "execution_count": 11
        },
        {
          "output_type": "display_data",
          "data": {
            "image/png": "[encoded data removed]",
            "text/plain": [
              "<Figure size 432x288 with 1 Axes>"
            ]
          },
          "metadata": {
            "tags": [],
            "needs_background": "light"
          }
        }
      ]
    },
    {
      "cell_type": "code",
      "metadata": {
        "id": "rmPon-vsFQM9",
        "colab_type": "code",
        "colab": {}
      },
      "source": [
        ""
      ],
      "execution_count": null,
      "outputs": []
    }
  ]
}