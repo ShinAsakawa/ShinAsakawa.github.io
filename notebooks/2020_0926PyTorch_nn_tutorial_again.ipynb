{
  "nbformat": 4,
  "nbformat_minor": 0,
  "metadata": {
    "kernelspec": {
      "display_name": "Python 3",
      "language": "python",
      "name": "python3"
    },
    "language_info": {
      "codemirror_mode": {
        "name": "ipython",
        "version": 3
      },
      "file_extension": ".py",
      "mimetype": "text/x-python",
      "name": "python",
      "nbconvert_exporter": "python",
      "pygments_lexer": "ipython3",
      "version": "3.6.8"
    },
    "colab": {
      "name": "2020-0926PyTorch_nn_tutorial_again.ipynb",
      "provenance": [],
      "collapsed_sections": [
        "fDcV5QeyeGCJ"
      ],
      "include_colab_link": true
    }
  },
  "cells": [
    {
      "cell_type": "markdown",
      "metadata": {
        "id": "view-in-github",
        "colab_type": "text"
      },
      "source": [
        "<a href=\"https://colab.research.google.com/github/ShinAsakawa/ShinAsakawa.github.io/blob/master/notebooks/2020_0926PyTorch_nn_tutorial_again.ipynb\" target=\"_parent\"><img src=\"https://colab.research.google.com/assets/colab-badge.svg\" alt=\"Open In Colab\"/></a>"
      ]
    },
    {
      "cell_type": "markdown",
      "metadata": {
        "id": "6RhgkF52ef8c"
      },
      "source": [
        "- source: https://colab.research.google.com/github/pytorch/tutorials/blob/gh-pages/_downloads/5ddab57bb7482fbcc76722617dd47324/nn_tutorial.ipynb#scrollTo=1jkWbziDeGBV\n",
        "- date: 2020-0926\n"
      ]
    },
    {
      "cell_type": "code",
      "metadata": {
        "id": "0IH1vr12eGAV"
      },
      "source": [
        "%matplotlib inline"
      ],
      "execution_count": 2,
      "outputs": []
    },
    {
      "cell_type": "markdown",
      "metadata": {
        "id": "gVUUnRrXeGAZ"
      },
      "source": [
        "\n",
        "What is `torch.nn` *really*?\n",
        "============================\n",
        "by Jeremy Howard, `fast.ai <https://www.fast.ai>`_. Thanks to Rachel Thomas and Francisco Ingham.\n",
        "\n"
      ]
    },
    {
      "cell_type": "markdown",
      "metadata": {
        "id": "KUYCYC_beGAa"
      },
      "source": [
        "PyTorch には，頻用されるクラスが用意されています。例えば，以下のようなものです:\n",
        "\n",
        "- [torch.nn](https://pytorch.org/docs/stable/nn.html),\n",
        "- [torch.optim](https://pytorch.org/docs/stable/optim.html),\n",
        "- [Dataset](https://pytorch.org/docs/stable/data.html?highlight=dataset#torch.utils.data.Dataset),\n",
        "- [DataLoader](https://pytorch.org/docs/stable/data.html?highlight=dataloader#torch.utils.data.DataLoader),\n",
        "\n",
        "これらがどのように動作するかを知ることが，ディープラーニングの理解を促進します。\n",
        "実際にコードを書いてみること理解が深まります。\n",
        "\n",
        "ここではそれぞれを使ったコードを書いてみましょう。\n"
      ]
    },
    {
      "cell_type": "code",
      "metadata": {
        "id": "Bw2L2CUseGAa"
      },
      "source": [
        "#  日本語くずし字データセットをダウンロード\n",
        "!wget http://codh.rois.ac.jp/kmnist/dataset/kmnist/kmnist-train-imgs.npz\n",
        "!wget http://codh.rois.ac.jp/kmnist/dataset/kmnist/kmnist-train-labels.npz\n",
        "!wget http://codh.rois.ac.jp/kmnist/dataset/kmnist/kmnist-test-imgs.npz\n",
        "!wget http://codh.rois.ac.jp/kmnist/dataset/kmnist/kmnist-test-labels.npz\n"
      ],
      "execution_count": null,
      "outputs": []
    },
    {
      "cell_type": "code",
      "metadata": {
        "id": "VfB4dXViFYWc"
      },
      "source": [
        "# ダウロードしたデータを読み込み\n",
        "import numpy as np\n",
        "\n",
        "def load(f):\n",
        "    return np.load(f)['arr_0']\n",
        "\n",
        "# Load the data\n",
        "Xkm_train = load('kmnist-train-imgs.npz')\n",
        "Xkm_test = load('kmnist-test-imgs.npz')\n",
        "ykm_train = load('kmnist-train-labels.npz')\n",
        "ykm_test = load('kmnist-test-labels.npz')\n",
        "\n",
        "# Flatten images\n",
        "n_samples = 2000\n",
        "#x_train = x_train.reshape(-1, 784)[:n_samples]\n",
        "#y_train = y_train[:n_samples]\n",
        "#x_test = x_test.reshape(-1, 784)\n",
        "\n",
        "ind2c =[c for c in 'おきすつなまはやれを']\n",
        "\n",
        "!pip install japanize-matplotlib\n",
        "import japanize_matplotlib"
      ],
      "execution_count": null,
      "outputs": []
    },
    {
      "cell_type": "code",
      "metadata": {
        "id": "LpbRVAAQeGAg"
      },
      "source": [
        "from matplotlib import pyplot\n",
        "\n",
        "pyplot.imshow(Xkm_train[0], cmap=\"gray\") # 確認のためデータを表示\n",
        "#print(x_train.shape)"
      ],
      "execution_count": null,
      "outputs": []
    },
    {
      "cell_type": "markdown",
      "metadata": {
        "id": "dcbYSDLHeGAi"
      },
      "source": [
        "PyTorch uses ``torch.tensor``, rather than numpy arrays, so we need to\n",
        "convert our data.\n",
        "\n"
      ]
    },
    {
      "cell_type": "code",
      "metadata": {
        "id": "QagN7yxjeGAi",
        "outputId": "f3ffd2c3-4c0a-40d1-84b6-9beaaf3c49bf",
        "colab": {
          "base_uri": "https://localhost:8080/",
          "height": 34
        }
      },
      "source": [
        "import torch\n",
        "\n",
        "x_train, y_train, x_valid, y_valid = map(\n",
        "    torch.tensor, (Xkm_train, ykm_train, Xkm_test, ykm_test)\n",
        ")\n",
        "\n",
        "# np.array と異なり PyTorch ではデフォルトの浮動小数点サイズが 32 なので変換しておく\n",
        "x_train, x_valid = x_train.float(), x_valid.float()\n",
        "y_train, y_valid = y_train.long(), y_valid.long()\n",
        "#n, c, _ = x_train.shape\n",
        "\n",
        "print(x_train.shape, y_train.min(), y_train.max())"
      ],
      "execution_count": 9,
      "outputs": [
        {
          "output_type": "stream",
          "text": [
            "torch.Size([60000, 28, 28]) tensor(0) tensor(9)\n"
          ],
          "name": "stdout"
        }
      ]
    },
    {
      "cell_type": "markdown",
      "metadata": {
        "id": "8pbYWqKweGAl"
      },
      "source": [
        "# 簡単なニューラルネットワーク\n",
        "\n",
        "結合係数行列とバイアスを使って簡単なニューラルネットワークを作ってみましょう。\n",
        "PyTorch には自動微分機能があり，`require_grad()` を使うことでどの変数を学習させるかを定義します。\n",
        "定義するだけで，誤差逆伝播法に基づく学習は自動的に行なってくれます。\n",
        "\n",
        "学習の直前に ``require_grad`` をセットする必要があります。\n",
        "PyTorch では 後尾に``_``が付いた操作は，その場で変数が書き換わる（インライン操作）を意味します。\n"
      ]
    },
    {
      "cell_type": "code",
      "metadata": {
        "id": "l9IEEyiReGAl"
      },
      "source": [
        "import math\n",
        "\n",
        "n_neurons = 784\n",
        "n_classes = 10\n",
        "weights = torch.randn(n_neurons, n_classes) / math.sqrt(n_neurons)  # ザビエルの初期化\n",
        "weights.requires_grad_()\n",
        "bias = torch.zeros(n_classes, requires_grad=True)"
      ],
      "execution_count": 11,
      "outputs": []
    },
    {
      "cell_type": "code",
      "metadata": {
        "id": "M9OI3vN5eGAo"
      },
      "source": [
        "# ソフトマックス関数の対数\n",
        "def log_softmax(x):\n",
        "    return x - x.exp().sum(-1).log().unsqueeze(-1)\n",
        "\n",
        "def model(X):\n",
        "    return log_softmax(X.reshape(-1, n_neurons).mm(weights) + bias)\n"
      ],
      "execution_count": 12,
      "outputs": []
    },
    {
      "cell_type": "markdown",
      "metadata": {
        "id": "PXRE9GkBeGAq"
      },
      "source": [
        "In the above, the ``@`` stands for the dot product operation. We will call\n",
        "our function on one batch of data (in this case, 64 images).  This is\n",
        "one *forward pass*.  Note that our predictions won't be any better than\n",
        "random at this stage, since we start with random weights.\n",
        "\n"
      ]
    },
    {
      "cell_type": "code",
      "metadata": {
        "id": "4u6C5ReKeGAq",
        "outputId": "27a6c6b6-413a-425d-dbfc-169defe03c4f",
        "colab": {
          "base_uri": "https://localhost:8080/",
          "height": 51
        }
      },
      "source": [
        "batch_size = 64  # batch size\n",
        "\n",
        "X = x_train[0:batch_size] # a mini-batch from x\n",
        "preds = model(X)  # predictions\n",
        "print(preds[0], preds.shape)"
      ],
      "execution_count": 13,
      "outputs": [
        {
          "output_type": "stream",
          "text": [
            "tensor([-inf, -inf, -inf, -inf, -inf, -inf, -inf, -inf, -inf, -inf],\n",
            "       grad_fn=<SelectBackward>) torch.Size([64, 10])\n"
          ],
          "name": "stdout"
        }
      ]
    },
    {
      "cell_type": "markdown",
      "metadata": {
        "id": "07n5xTHleGAt"
      },
      "source": [
        "As you see, the ``preds`` tensor contains not only the tensor values, but also a\n",
        "gradient function. We'll use this later to do backprop.\n",
        "\n",
        "Let's implement negative log-likelihood to use as the loss function\n",
        "(again, we can just use standard Python):\n",
        "\n"
      ]
    },
    {
      "cell_type": "code",
      "metadata": {
        "id": "Kr1Ju83beGAt"
      },
      "source": [
        "def nll(input, target):\n",
        "    return -input[range(target.shape[0]), target].mean()\n",
        "\n",
        "loss_func = nll"
      ],
      "execution_count": 14,
      "outputs": []
    },
    {
      "cell_type": "markdown",
      "metadata": {
        "id": "7gfxrsTOeGAv"
      },
      "source": [
        "Let's check our loss with our random model, so we can see if we improve\n",
        "after a backprop pass later.\n",
        "\n"
      ]
    },
    {
      "cell_type": "code",
      "metadata": {
        "id": "ribpTftseGAv",
        "outputId": "31a20d9b-fabd-48f3-c28f-694dfa05adbc",
        "colab": {
          "base_uri": "https://localhost:8080/",
          "height": 34
        }
      },
      "source": [
        "y = y_train[0:batch_size]\n",
        "print(loss_func(preds, y))"
      ],
      "execution_count": 16,
      "outputs": [
        {
          "output_type": "stream",
          "text": [
            "tensor(inf, grad_fn=<NegBackward>)\n"
          ],
          "name": "stdout"
        }
      ]
    },
    {
      "cell_type": "markdown",
      "metadata": {
        "id": "Cq1Wx3KleGAy"
      },
      "source": [
        "Let's also implement a function to calculate the accuracy of our model.\n",
        "For each prediction, if the index with the largest value matches the\n",
        "target value, then the prediction was correct.\n",
        "\n"
      ]
    },
    {
      "cell_type": "code",
      "metadata": {
        "id": "ZloyidXoeGAy"
      },
      "source": [
        "def accuracy(out, y):\n",
        "    preds = torch.argmax(out, dim=1)\n",
        "    return (preds == y).float().mean()"
      ],
      "execution_count": 17,
      "outputs": []
    },
    {
      "cell_type": "markdown",
      "metadata": {
        "id": "T05hbCDveGA0"
      },
      "source": [
        "Let's check the accuracy of our random model, so we can see if our\n",
        "accuracy improves as our loss improves.\n",
        "\n"
      ]
    },
    {
      "cell_type": "code",
      "metadata": {
        "id": "AWkdi6ROeGA0",
        "outputId": "e8fe3dea-b3ee-4280-d450-4f9ba57c0fa3",
        "colab": {
          "base_uri": "https://localhost:8080/",
          "height": 34
        }
      },
      "source": [
        "print(accuracy(preds, y))"
      ],
      "execution_count": 18,
      "outputs": [
        {
          "output_type": "stream",
          "text": [
            "tensor(0.0781)\n"
          ],
          "name": "stdout"
        }
      ]
    },
    {
      "cell_type": "markdown",
      "metadata": {
        "id": "4j5_0I-MeGA2"
      },
      "source": [
        "ニューラルネットワークの学習，訓練時には以下の手順になります:\n",
        "\n",
        "1. ミニバッチサイズを決める\n",
        "2. モデルを定める\n",
        "3. 損失関数を計算する\n",
        "4. ``loss.backward()`` で，結合係数のパラメータをモデルの勾配から更新する\n",
        "\n",
        "We now use these gradients to update the weights and bias.  We do this\n",
        "within the ``torch.no_grad()`` context manager, because we do not want these\n",
        "actions to be recorded for our next calculation of the gradient.  You can read\n",
        "more about how PyTorch's Autograd records operations\n",
        "[here](https://pytorch.org/docs/stable/notes/autograd.html).\n",
        "\n",
        "We then set the gradients to zero, so that we are ready for the next loop.\n",
        "Otherwise, our gradients would record a running tally of all the operations that had happened (i.e. ``loss.backward()`` *adds* the gradients to whatever is already stored, rather than replacing them).\n",
        "\n",
        "#### tip\n",
        "You can use the standard python debugger to step through PyTorch    code, allowing you to check the various variable values at each step.\n",
        "Uncomment ``set_trace()`` below to try it out.\n",
        "\n",
        "\n"
      ]
    },
    {
      "cell_type": "code",
      "metadata": {
        "id": "DgSbonUWeGA2",
        "outputId": "698c301b-5d86-4b85-cffc-a417cfa2ad3b",
        "colab": {
          "base_uri": "https://localhost:8080/",
          "height": 334
        }
      },
      "source": [
        "from IPython.core.debugger import set_trace\n",
        "\n",
        "lr = 0.5  # learning rate\n",
        "epochs = 2  # how many epochs to train for\n",
        "\n",
        "for epoch in range(epochs):\n",
        "    for i in range((n - 1) // batch_size + 1):\n",
        "        # set_trace()\n",
        "        start_i = i * batch_size\n",
        "        end_i = start_i + batch_size\n",
        "        X = x_train[start_i:end_i]\n",
        "        y = y_train[start_i:end_i]\n",
        "        print(X.shape)\n",
        "        pred = model(X)\n",
        "        loss = loss_func(pred, y)\n",
        "\n",
        "        loss.backward()\n",
        "        with torch.no_grad():\n",
        "            weights -= weights.grad * lr\n",
        "            bias -= bias.grad * lr\n",
        "            weights.grad.zero_()\n",
        "            bias.grad.zero_()"
      ],
      "execution_count": 24,
      "outputs": [
        {
          "output_type": "stream",
          "text": [
            "torch.Size([64, 28, 28])\n"
          ],
          "name": "stdout"
        },
        {
          "output_type": "error",
          "ename": "RuntimeError",
          "evalue": "ignored",
          "traceback": [
            "\u001b[0;31m---------------------------------------------------------------------------\u001b[0m",
            "\u001b[0;31mRuntimeError\u001b[0m                              Traceback (most recent call last)",
            "\u001b[0;32m<ipython-input-24-a30cbb2c5ea3>\u001b[0m in \u001b[0;36m<module>\u001b[0;34m()\u001b[0m\n\u001b[1;32m     12\u001b[0m         \u001b[0my\u001b[0m \u001b[0;34m=\u001b[0m \u001b[0my_train\u001b[0m\u001b[0;34m[\u001b[0m\u001b[0mstart_i\u001b[0m\u001b[0;34m:\u001b[0m\u001b[0mend_i\u001b[0m\u001b[0;34m]\u001b[0m\u001b[0;34m\u001b[0m\u001b[0;34m\u001b[0m\u001b[0m\n\u001b[1;32m     13\u001b[0m         \u001b[0mprint\u001b[0m\u001b[0;34m(\u001b[0m\u001b[0mX\u001b[0m\u001b[0;34m.\u001b[0m\u001b[0mshape\u001b[0m\u001b[0;34m)\u001b[0m\u001b[0;34m\u001b[0m\u001b[0;34m\u001b[0m\u001b[0m\n\u001b[0;32m---> 14\u001b[0;31m         \u001b[0mpred\u001b[0m \u001b[0;34m=\u001b[0m \u001b[0mmodel\u001b[0m\u001b[0;34m(\u001b[0m\u001b[0mX\u001b[0m\u001b[0;34m)\u001b[0m\u001b[0;34m\u001b[0m\u001b[0;34m\u001b[0m\u001b[0m\n\u001b[0m\u001b[1;32m     15\u001b[0m         \u001b[0mloss\u001b[0m \u001b[0;34m=\u001b[0m \u001b[0mloss_func\u001b[0m\u001b[0;34m(\u001b[0m\u001b[0mpred\u001b[0m\u001b[0;34m,\u001b[0m \u001b[0my\u001b[0m\u001b[0;34m)\u001b[0m\u001b[0;34m\u001b[0m\u001b[0;34m\u001b[0m\u001b[0m\n\u001b[1;32m     16\u001b[0m \u001b[0;34m\u001b[0m\u001b[0m\n",
            "\u001b[0;32m<ipython-input-21-f3d64d5f77d1>\u001b[0m in \u001b[0;36mmodel\u001b[0;34m(X)\u001b[0m\n\u001b[1;32m      4\u001b[0m \u001b[0;34m\u001b[0m\u001b[0m\n\u001b[1;32m      5\u001b[0m \u001b[0;32mdef\u001b[0m \u001b[0mmodel\u001b[0m\u001b[0;34m(\u001b[0m\u001b[0mX\u001b[0m\u001b[0;34m)\u001b[0m\u001b[0;34m:\u001b[0m\u001b[0;34m\u001b[0m\u001b[0;34m\u001b[0m\u001b[0m\n\u001b[0;32m----> 6\u001b[0;31m     \u001b[0;32mreturn\u001b[0m \u001b[0mX\u001b[0m\u001b[0;34m.\u001b[0m\u001b[0mmm\u001b[0m\u001b[0;34m(\u001b[0m\u001b[0mweights\u001b[0m\u001b[0;34m)\u001b[0m \u001b[0;34m+\u001b[0m \u001b[0mbias\u001b[0m\u001b[0;34m\u001b[0m\u001b[0;34m\u001b[0m\u001b[0m\n\u001b[0m",
            "\u001b[0;31mRuntimeError\u001b[0m: matrices expected, got 3D, 2D tensors at /pytorch/aten/src/TH/generic/THTensorMath.cpp:36"
          ]
        }
      ]
    },
    {
      "cell_type": "markdown",
      "metadata": {
        "id": "Oz9RdSPqeGA4"
      },
      "source": [
        "That's it: we've created and trained a minimal neural network (in this case, a\n",
        "logistic regression, since we have no hidden layers) entirely from scratch!\n",
        "\n",
        "Let's check the loss and accuracy and compare those to what we got\n",
        "earlier. We expect that the loss will have decreased and accuracy to\n",
        "have increased, and they have.\n",
        "\n"
      ]
    },
    {
      "cell_type": "code",
      "metadata": {
        "id": "-A1L9Vf6eGA5",
        "outputId": "3154dcfd-181d-4eb2-cbab-e032f52c36fb",
        "colab": {
          "base_uri": "https://localhost:8080/",
          "height": 34
        }
      },
      "source": [
        "print(loss_func(model(X), y), accuracy(model(X), y))"
      ],
      "execution_count": 20,
      "outputs": [
        {
          "output_type": "stream",
          "text": [
            "tensor(nan, grad_fn=<NegBackward>) tensor(0.0312)\n"
          ],
          "name": "stdout"
        }
      ]
    },
    {
      "cell_type": "markdown",
      "metadata": {
        "id": "4ahfYHKAeGA7"
      },
      "source": [
        "Using torch.nn.functional\n",
        "------------------------------\n",
        "\n",
        "We will now refactor our code, so that it does the same thing as before, only\n",
        "we'll start taking advantage of PyTorch's ``nn`` classes to make it more concise\n",
        "and flexible. At each step from here, we should be making our code one or more\n",
        "of: shorter, more understandable, and/or more flexible.\n",
        "\n",
        "The first and easiest step is to make our code shorter by replacing our\n",
        "hand-written activation and loss functions with those from ``torch.nn.functional``\n",
        "(which is generally imported into the namespace ``F`` by convention). This module\n",
        "contains all the functions in the ``torch.nn`` library (whereas other parts of the\n",
        "library contain classes). As well as a wide range of loss and activation\n",
        "functions, you'll also find here some convenient functions for creating neural\n",
        "nets, such as pooling functions. (There are also functions for doing convolutions,\n",
        "linear layers, etc, but as we'll see, these are usually better handled using\n",
        "other parts of the library.)\n",
        "\n",
        "If you're using negative log likelihood loss and log softmax activation,\n",
        "then Pytorch provides a single function ``F.cross_entropy`` that combines\n",
        "the two. So we can even remove the activation function from our model.\n",
        "\n"
      ]
    },
    {
      "cell_type": "code",
      "metadata": {
        "id": "qoOc-zDMeGA7"
      },
      "source": [
        "import torch.nn.functional as F\n",
        "\n",
        "loss_func = F.cross_entropy\n",
        "\n",
        "def model(X):\n",
        "    return X.reshape(-1, n_neurons).mm(weights) + bias"
      ],
      "execution_count": 25,
      "outputs": []
    },
    {
      "cell_type": "markdown",
      "metadata": {
        "id": "HSHKnfQPeGBA"
      },
      "source": [
        "Note that we no longer call ``log_softmax`` in the ``model`` function. Let's\n",
        "confirm that our loss and accuracy are the same as before:\n",
        "\n"
      ]
    },
    {
      "cell_type": "code",
      "metadata": {
        "id": "DUdNrQ9ueGBA",
        "outputId": "c9fd88c7-3e5f-48f5-9e47-24ed8fa04c73",
        "colab": {
          "base_uri": "https://localhost:8080/",
          "height": 34
        }
      },
      "source": [
        "print(loss_func(model(X), y), accuracy(model(X), y))"
      ],
      "execution_count": 26,
      "outputs": [
        {
          "output_type": "stream",
          "text": [
            "tensor(nan, grad_fn=<NllLossBackward>) tensor(0.0938)\n"
          ],
          "name": "stdout"
        }
      ]
    },
    {
      "cell_type": "markdown",
      "metadata": {
        "id": "eFAHoIVDeGBC"
      },
      "source": [
        "# Refactor using nn.Module\n",
        "\n",
        "Next up, we'll use ``nn.Module`` and ``nn.Parameter``, for a clearer and more concise training loop. \n",
        "We subclass ``nn.Module`` (which itself is a class and able to keep track of state). \n",
        "In this case, we want to create a class that holds our weights, bias, and method for the forward step.  \n",
        "``nn.Module`` has a number of attributes and methods (such as ``.parameters()`` and ``.zero_grad()``) which we will be using.\n",
        "\n",
        "#### Note\n",
        "\n",
        "``nn.Module`` (uppercase M) is a PyTorch specific concept, and is a\n",
        "class we'll be using a lot. ``nn.Module`` is not to be confused with the Python\n",
        "concept of a (lowercase ``m``)  [module](https://docs.python.org/3/tutorial/modules.html), \n",
        "which is a file of Python code that can be imported."
      ]
    },
    {
      "cell_type": "code",
      "metadata": {
        "id": "vaFJMoqqeGBD"
      },
      "source": [
        "from torch import nn\n",
        "\n",
        "class my_Logistic(nn.Module):\n",
        "    def __init__(self):\n",
        "        super().__init__()\n",
        "        self.weights = nn.Parameter(torch.randn(n_neurons, n_classes) / math.sqrt(784))\n",
        "        self.bias = nn.Parameter(torch.zeros(n_classes))\n",
        "\n",
        "    def forward(self, X):\n",
        "        return X.reshape(-1, n_neurons).mm(self.weights) + self.bias"
      ],
      "execution_count": 28,
      "outputs": []
    },
    {
      "cell_type": "markdown",
      "metadata": {
        "id": "zgKMMNheeGBF"
      },
      "source": [
        "Since we're now using an object instead of just using a function, we\n",
        "first have to instantiate our model:\n",
        "\n"
      ]
    },
    {
      "cell_type": "code",
      "metadata": {
        "id": "cm-t5iKYeGBF"
      },
      "source": [
        "model = my_Logistic()"
      ],
      "execution_count": 29,
      "outputs": []
    },
    {
      "cell_type": "markdown",
      "metadata": {
        "id": "EUigSZiVeGBH"
      },
      "source": [
        "Now we can calculate the loss in the same way as before. Note that\n",
        "``nn.Module`` objects are used as if they are functions (i.e they are\n",
        "*callable*), but behind the scenes Pytorch will call our ``forward``\n",
        "method automatically.\n",
        "\n"
      ]
    },
    {
      "cell_type": "code",
      "metadata": {
        "id": "_lz7SlSOeGBH",
        "outputId": "1ff50eaf-5f72-4fc6-e0c9-6b858a7cb30a",
        "colab": {
          "base_uri": "https://localhost:8080/",
          "height": 34
        }
      },
      "source": [
        "print(loss_func(model(X), y))"
      ],
      "execution_count": 31,
      "outputs": [
        {
          "output_type": "stream",
          "text": [
            "tensor(157.7867, grad_fn=<NllLossBackward>)\n"
          ],
          "name": "stdout"
        }
      ]
    },
    {
      "cell_type": "markdown",
      "metadata": {
        "id": "woneUYTOeGBJ"
      },
      "source": [
        "Previously for our training loop we had to update the values for each parameter\n",
        "by name, and manually zero out the grads for each parameter separately, like this:\n",
        "\n",
        "```python\n",
        "with torch.no_grad():\n",
        "    weights -= weights.grad * lr\n",
        "    bias -= bias.grad * lr\n",
        "    weights.grad.zero_()\n",
        "    bias.grad.zero_()\n",
        "```\n",
        "\n",
        "Now we can take advantage of model.parameters() and model.zero_grad() (which\n",
        "are both defined by PyTorch for ``nn.Module``) to make those steps more concise\n",
        "and less prone to the error of forgetting some of our parameters, particularly\n",
        "if we had a more complicated model:\n",
        "\n",
        "```python\n",
        "with torch.no_grad():\n",
        "    for p in model.parameters(): p -= p.grad * lr\n",
        "    model.zero_grad()\n",
        "```\n",
        "\n",
        "We'll wrap our little training loop in a ``fit`` function so we can run it again later."
      ]
    },
    {
      "cell_type": "code",
      "metadata": {
        "id": "rC6a_8L9eGBK"
      },
      "source": [
        "def fit():\n",
        "    for epoch in range(epochs):\n",
        "        for i in range((n - 1) // batch_size + 1):\n",
        "            start_i = i * batch_size\n",
        "            end_i = start_i + batch_size\n",
        "            xb = x_train[start_i:end_i]\n",
        "            yb = y_train[start_i:end_i]\n",
        "            pred = model(xb)\n",
        "            loss = loss_func(pred, yb)\n",
        "\n",
        "            loss.backward()\n",
        "            with torch.no_grad():\n",
        "                for p in model.parameters():\n",
        "                    p -= p.grad * lr\n",
        "                model.zero_grad()\n",
        "\n",
        "fit()"
      ],
      "execution_count": 32,
      "outputs": []
    },
    {
      "cell_type": "markdown",
      "metadata": {
        "id": "0Op2FehueGBM"
      },
      "source": [
        "Let's double-check that our loss has gone down:\n",
        "\n"
      ]
    },
    {
      "cell_type": "code",
      "metadata": {
        "id": "Cr6mIxsoeGBM",
        "outputId": "f86c2e00-cf34-4030-e2cc-8cc216a8138b",
        "colab": {
          "base_uri": "https://localhost:8080/",
          "height": 34
        }
      },
      "source": [
        "print(loss_func(model(X), y))"
      ],
      "execution_count": 34,
      "outputs": [
        {
          "output_type": "stream",
          "text": [
            "tensor(45983.3359, grad_fn=<NllLossBackward>)\n"
          ],
          "name": "stdout"
        }
      ]
    },
    {
      "cell_type": "markdown",
      "metadata": {
        "id": "oNmHX_--eGBO"
      },
      "source": [
        "# Refactor using nn.Linear\n",
        "\n",
        "We continue to refactor our code.  Instead of manually defining and\n",
        "initializing ``self.weights`` and ``self.bias``, and calculating \n",
        "``xb  @ self.weights + self.bias``, \n",
        "we will instead use the Pytorch class [nn.Linear](https://pytorch.org/docs/stable/nn.html#linear-layers) for a linear layer, which does all that for us. Pytorch has many types of\n",
        "predefined layers that can greatly simplify our code, and often makes it\n",
        "faster too.\n",
        "\n"
      ]
    },
    {
      "cell_type": "code",
      "metadata": {
        "id": "zX6TmI3ceGBP"
      },
      "source": [
        "class my_Logistic(nn.Module):\n",
        "    def __init__(self):\n",
        "        super().__init__()\n",
        "        self.lin = nn.Linear(784, 10)\n",
        "\n",
        "    def forward(self, xb):\n",
        "        return self.lin(xb.reshape(-1,784))"
      ],
      "execution_count": 35,
      "outputs": []
    },
    {
      "cell_type": "markdown",
      "metadata": {
        "id": "P0oBx07feGBQ"
      },
      "source": [
        "We instantiate our model and calculate the loss in the same way as before:\n",
        "\n"
      ]
    },
    {
      "cell_type": "code",
      "metadata": {
        "id": "lUq3mEJ7eGBR",
        "outputId": "9dd0d920-c0ee-4ad3-d390-22090b2afee4",
        "colab": {
          "base_uri": "https://localhost:8080/",
          "height": 34
        }
      },
      "source": [
        "model = my_Logistic()\n",
        "print(loss_func(model(X), y))"
      ],
      "execution_count": 38,
      "outputs": [
        {
          "output_type": "stream",
          "text": [
            "tensor(106.6129, grad_fn=<NllLossBackward>)\n"
          ],
          "name": "stdout"
        }
      ]
    },
    {
      "cell_type": "markdown",
      "metadata": {
        "id": "FbcLay08eGBT"
      },
      "source": [
        "We are still able to use our same ``fit`` method as before.\n",
        "\n"
      ]
    },
    {
      "cell_type": "code",
      "metadata": {
        "id": "SmopYvQzeGBT",
        "outputId": "5f723562-59e2-41d1-d129-67d707caa842",
        "colab": {
          "base_uri": "https://localhost:8080/",
          "height": 34
        }
      },
      "source": [
        "fit()\n",
        "\n",
        "print(loss_func(model(X), y))"
      ],
      "execution_count": 40,
      "outputs": [
        {
          "output_type": "stream",
          "text": [
            "tensor(43942.3828, grad_fn=<NllLossBackward>)\n"
          ],
          "name": "stdout"
        }
      ]
    },
    {
      "cell_type": "markdown",
      "metadata": {
        "id": "1jkWbziDeGBV"
      },
      "source": [
        "# Refactor using optim\n",
        "\n",
        "Pytorch also has a package with various optimization algorithms, ``torch.optim``.\n",
        "We can use the ``step`` method from our optimizer to take a forward step, instead\n",
        "of manually updating each parameter.\n",
        "\n",
        "This will let us replace our previous manually coded optimization step:\n",
        "\n",
        "```python\n",
        "with torch.no_grad():\n",
        "    for p in model.parameters(): p -= p.grad * lr\n",
        "    model.zero_grad()\n",
        "```\n",
        "\n",
        "and instead use just:\n",
        "\n",
        "```python\n",
        "opt.step()\n",
        "opt.zero_grad()\n",
        "```\n",
        "\n",
        "(``optim.zero_grad()`` resets the gradient to 0 and we need to call it before\n",
        "computing the gradient for the next minibatch.)\n",
        "\n"
      ]
    },
    {
      "cell_type": "code",
      "metadata": {
        "id": "Iwn1TfTYeGBV"
      },
      "source": [
        "from torch import optim"
      ],
      "execution_count": 41,
      "outputs": []
    },
    {
      "cell_type": "markdown",
      "metadata": {
        "id": "JMT6k0fIeGBX"
      },
      "source": [
        "We'll define a little function to create our model and optimizer so we\n",
        "can reuse it in the future.\n",
        "\n"
      ]
    },
    {
      "cell_type": "code",
      "metadata": {
        "id": "wyumQM4NeGBX",
        "outputId": "5cf6b9f6-62f0-4f34-ef91-10d5a337c8fa",
        "colab": {
          "base_uri": "https://localhost:8080/",
          "height": 51
        }
      },
      "source": [
        "def get_model():\n",
        "    model = my_Logistic()\n",
        "    return model, optim.SGD(model.parameters(), lr=lr)\n",
        "\n",
        "model, opt = get_model()\n",
        "print(loss_func(model(X), y))\n",
        "\n",
        "for epoch in range(epochs):\n",
        "    for i in range((n - 1) // batch_size + 1):\n",
        "        start_i = i * batch_size\n",
        "        end_i = start_i + batch_size\n",
        "        X = x_train[start_i:end_i]\n",
        "        y = y_train[start_i:end_i]\n",
        "        pred = model(X)\n",
        "        loss = loss_func(pred, y)\n",
        "\n",
        "        loss.backward()\n",
        "        opt.step()\n",
        "        opt.zero_grad()\n",
        "\n",
        "print(loss_func(model(X), y))"
      ],
      "execution_count": 43,
      "outputs": [
        {
          "output_type": "stream",
          "text": [
            "tensor(75.2757, grad_fn=<NllLossBackward>)\n",
            "tensor(11273.9824, grad_fn=<NllLossBackward>)\n"
          ],
          "name": "stdout"
        }
      ]
    },
    {
      "cell_type": "markdown",
      "metadata": {
        "id": "rjaY_JLPeGBa"
      },
      "source": [
        "# Refactor using Dataset\n",
        "\n",
        "PyTorch has an abstract Dataset class.  \n",
        "A Dataset can be anything that has a ``__len__`` function (called by Python's standard ``len`` function) \n",
        "and a ``__getitem__`` function as a way of indexing into it.\n",
        "[This tutorial](https://pytorch.org/tutorials/beginner/data_loading_tutorial.html) walks through a nice example of creating a custom ``FacialLandmarkDataset`` class as a subclass of ``Dataset``.\n",
        "\n",
        "PyTorch's [TensorDataset](https://pytorch.org/docs/stable/_modules/torch/utils/data/dataset.html#TensorDataset) \n",
        "is a Dataset wrapping tensors. By defining a length and way of indexing,\n",
        "this also gives us a way to iterate, index, and slice along the first\n",
        "dimension of a tensor. This will make it easier to access both the\n",
        "independent and dependent variables in the same line as we train.\n",
        "\n"
      ]
    },
    {
      "cell_type": "code",
      "metadata": {
        "id": "zUfB4bNLeGBa"
      },
      "source": [
        "from torch.utils.data import TensorDataset"
      ],
      "execution_count": 44,
      "outputs": []
    },
    {
      "cell_type": "markdown",
      "metadata": {
        "id": "J-Pvy94QeGBb"
      },
      "source": [
        "Both ``x_train`` and ``y_train`` can be combined in a single ``TensorDataset``,\n",
        "which will be easier to iterate over and slice.\n",
        "\n"
      ]
    },
    {
      "cell_type": "code",
      "metadata": {
        "id": "B465r0NDeGBc"
      },
      "source": [
        "train_ds = TensorDataset(x_train, y_train)"
      ],
      "execution_count": 45,
      "outputs": []
    },
    {
      "cell_type": "markdown",
      "metadata": {
        "id": "NMnZwd20eGBd"
      },
      "source": [
        "Previously, we had to iterate through minibatches of x and y values separately:\n",
        "::\n",
        "    xb = x_train[start_i:end_i]\n",
        "    yb = y_train[start_i:end_i]\n",
        "\n",
        "\n",
        "Now, we can do these two steps together:\n",
        "::\n",
        "    xb,yb = train_ds[i*bs : i*bs+bs]\n",
        "\n",
        "\n"
      ]
    },
    {
      "cell_type": "code",
      "metadata": {
        "id": "RHIGXVp6eGBd",
        "outputId": "d544eac7-ef96-4b5b-ff44-7aa36590dcea",
        "colab": {
          "base_uri": "https://localhost:8080/",
          "height": 34
        }
      },
      "source": [
        "model, opt = get_model()\n",
        "\n",
        "for epoch in range(epochs):\n",
        "    for i in range((n - 1) // batch_size + 1):\n",
        "        xb, yb = train_ds[i * batch_size: i * batch_size + batch_size]\n",
        "        pred = model(xb)\n",
        "        loss = loss_func(pred, yb)\n",
        "\n",
        "        loss.backward()\n",
        "        opt.step()\n",
        "        opt.zero_grad()\n",
        "\n",
        "print(loss_func(model(xb), yb))"
      ],
      "execution_count": 46,
      "outputs": [
        {
          "output_type": "stream",
          "text": [
            "tensor(13334.7217, grad_fn=<NllLossBackward>)\n"
          ],
          "name": "stdout"
        }
      ]
    },
    {
      "cell_type": "markdown",
      "metadata": {
        "id": "Qn417kWreGBf"
      },
      "source": [
        "Refactor using DataLoader\n",
        "------------------------------\n",
        "\n",
        "Pytorch's ``DataLoader`` is responsible for managing batches. You can\n",
        "create a ``DataLoader`` from any ``Dataset``. ``DataLoader`` makes it easier\n",
        "to iterate over batches. Rather than having to use ``train_ds[i*bs : i*bs+bs]``,\n",
        "the DataLoader gives us each minibatch automatically.\n",
        "\n"
      ]
    },
    {
      "cell_type": "code",
      "metadata": {
        "id": "j-rbJkTpeGBg"
      },
      "source": [
        "from torch.utils.data import DataLoader\n",
        "\n",
        "train_ds = TensorDataset(x_train, y_train)\n",
        "train_dl = DataLoader(train_ds, batch_size=batch_size)"
      ],
      "execution_count": 47,
      "outputs": []
    },
    {
      "cell_type": "markdown",
      "metadata": {
        "id": "DEa0NB8teGBh"
      },
      "source": [
        "Previously, our loop iterated over batches (xb, yb) like this:\n",
        "\n",
        "```python\n",
        "for i in range((n-1)//batch_size + 1):\n",
        "    xb,yb = train_ds[i*batch_size : i* batch_size + batch_size]\n",
        "    pred = model(xb)\n",
        "```\n",
        "\n",
        "Now, our loop is much cleaner, as (xb, yb) are loaded automatically from the data loader:\n",
        "\n",
        "```python\n",
        "for xb,yb in train_dl:\n",
        "    pred = model(xb)\n",
        "```\n",
        "\n"
      ]
    },
    {
      "cell_type": "code",
      "metadata": {
        "id": "KAklaUSEeGBi",
        "outputId": "9a64f182-1cfb-4830-e2d7-3d2474c3159e",
        "colab": {
          "base_uri": "https://localhost:8080/",
          "height": 34
        }
      },
      "source": [
        "model, opt = get_model()\n",
        "\n",
        "for epoch in range(epochs):\n",
        "    for xb, yb in train_dl:\n",
        "        pred = model(xb)\n",
        "        loss = loss_func(pred, yb)\n",
        "\n",
        "        loss.backward()\n",
        "        opt.step()\n",
        "        opt.zero_grad()\n",
        "\n",
        "print(loss_func(model(xb), yb))"
      ],
      "execution_count": 48,
      "outputs": [
        {
          "output_type": "stream",
          "text": [
            "tensor(6279.9634, grad_fn=<NllLossBackward>)\n"
          ],
          "name": "stdout"
        }
      ]
    },
    {
      "cell_type": "markdown",
      "metadata": {
        "id": "UhXq427XeGBj"
      },
      "source": [
        "Thanks to Pytorch's ``nn.Module``, ``nn.Parameter``, ``Dataset``, and ``DataLoader``,\n",
        "our training loop is now dramatically smaller and easier to understand. Let's\n",
        "now try to add the basic features necessary to create effecive models in practice.\n",
        "\n",
        "## Add validation\n",
        "\n",
        "In section 1, we were just trying to get a reasonable training loop set up for\n",
        "use on our training data.  In reality, you **always** should also have\n",
        "a [validation set](https://www.fast.ai/2017/11/13/validation-sets/), in order to identify if you are overfitting.\n",
        "\n",
        "Shuffling the training data is\n",
        "[important](https://www.quora.com/Does-the-order-of-training-data-matter-when-training-neural-networks)\n",
        "to prevent correlation between batches and overfitting. On the other hand, the\n",
        "validation loss will be identical whether we shuffle the validation set or not.\n",
        "Since shuffling takes extra time, it makes no sense to shuffle the validation data.\n",
        "\n",
        "We'll use a batch size for the validation set that is twice as large as\n",
        "that for the training set. This is because the validation set does not\n",
        "need backpropagation and thus takes less memory (it doesn't need to\n",
        "store the gradients). We take advantage of this to use a larger batch\n",
        "size and compute the loss more quickly.\n",
        "\n"
      ]
    },
    {
      "cell_type": "code",
      "metadata": {
        "id": "EsblUeNgeGBk"
      },
      "source": [
        "train_ds = TensorDataset(x_train, y_train)\n",
        "train_dl = DataLoader(train_ds, batch_size=batch_size, shuffle=True)\n",
        "\n",
        "valid_ds = TensorDataset(x_valid, y_valid)\n",
        "valid_dl = DataLoader(valid_ds, batch_size=batch_size * 2)"
      ],
      "execution_count": 49,
      "outputs": []
    },
    {
      "cell_type": "markdown",
      "metadata": {
        "id": "4vA5j-9YeGBl"
      },
      "source": [
        "We will calculate and print the validation loss at the end of each epoch.\n",
        "\n",
        "(Note that we always call ``model.train()`` before training, and ``model.eval()``\n",
        "before inference, because these are used by layers such as ``nn.BatchNorm2d``\n",
        "and ``nn.Dropout`` to ensure appropriate behaviour for these different phases.)\n",
        "\n"
      ]
    },
    {
      "cell_type": "code",
      "metadata": {
        "id": "xgzCp3uneGBm",
        "outputId": "3f389961-25a0-4e8b-ca75-fd847ef3b9b7",
        "colab": {
          "base_uri": "https://localhost:8080/",
          "height": 51
        }
      },
      "source": [
        "model, opt = get_model()\n",
        "\n",
        "for epoch in range(epochs):\n",
        "    model.train()\n",
        "    for xb, yb in train_dl:\n",
        "        pred = model(xb)\n",
        "        loss = loss_func(pred, yb)\n",
        "\n",
        "        loss.backward()\n",
        "        opt.step()\n",
        "        opt.zero_grad()\n",
        "\n",
        "    model.eval()\n",
        "    with torch.no_grad():\n",
        "        valid_loss = sum(loss_func(model(xb), yb) for xb, yb in valid_dl)\n",
        "\n",
        "    print(epoch, valid_loss / len(valid_dl))"
      ],
      "execution_count": 50,
      "outputs": [
        {
          "output_type": "stream",
          "text": [
            "0 tensor(64475.6406)\n",
            "1 tensor(40324.2305)\n"
          ],
          "name": "stdout"
        }
      ]
    },
    {
      "cell_type": "markdown",
      "metadata": {
        "id": "g79k0tBieGBn"
      },
      "source": [
        "Create fit() and get_data()\n",
        "----------------------------------\n",
        "\n",
        "We'll now do a little refactoring of our own. Since we go through a similar\n",
        "process twice of calculating the loss for both the training set and the\n",
        "validation set, let's make that into its own function, ``loss_batch``, which\n",
        "computes the loss for one batch.\n",
        "\n",
        "We pass an optimizer in for the training set, and use it to perform\n",
        "backprop.  For the validation set, we don't pass an optimizer, so the\n",
        "method doesn't perform backprop.\n",
        "\n"
      ]
    },
    {
      "cell_type": "code",
      "metadata": {
        "id": "V5wLE6GjeGBn"
      },
      "source": [
        "def loss_batch(model, loss_func, xb, yb, opt=None):\n",
        "    loss = loss_func(model(xb), yb)\n",
        "\n",
        "    if opt is not None:\n",
        "        loss.backward()\n",
        "        opt.step()\n",
        "        opt.zero_grad()\n",
        "\n",
        "    return loss.item(), len(xb)"
      ],
      "execution_count": 51,
      "outputs": []
    },
    {
      "cell_type": "markdown",
      "metadata": {
        "id": "Y24hEjC2eGBq"
      },
      "source": [
        "``fit`` runs the necessary operations to train our model and compute the\n",
        "training and validation losses for each epoch.\n",
        "\n"
      ]
    },
    {
      "cell_type": "code",
      "metadata": {
        "id": "bKpU2iQeeGBq"
      },
      "source": [
        "import numpy as np\n",
        "\n",
        "def fit(epochs, model, loss_func, opt, train_dl, valid_dl):\n",
        "    for epoch in range(epochs):\n",
        "        model.train()\n",
        "        for xb, yb in train_dl:\n",
        "            loss_batch(model, loss_func, xb, yb, opt)\n",
        "\n",
        "        model.eval()\n",
        "        with torch.no_grad():\n",
        "            losses, nums = zip(\n",
        "                *[loss_batch(model, loss_func, xb, yb) for xb, yb in valid_dl]\n",
        "            )\n",
        "        val_loss = np.sum(np.multiply(losses, nums)) / np.sum(nums)\n",
        "\n",
        "        print(epoch, val_loss)"
      ],
      "execution_count": 52,
      "outputs": []
    },
    {
      "cell_type": "markdown",
      "metadata": {
        "id": "Q7Ir__LBeGBs"
      },
      "source": [
        "``get_data`` returns dataloaders for the training and validation sets.\n",
        "\n"
      ]
    },
    {
      "cell_type": "code",
      "metadata": {
        "id": "GO7hanbCeGBt"
      },
      "source": [
        "def get_data(train_ds, valid_ds, bs):\n",
        "    return (\n",
        "        DataLoader(train_ds, batch_size=bs, shuffle=True),\n",
        "        DataLoader(valid_ds, batch_size=bs * 2),\n",
        "    )"
      ],
      "execution_count": 53,
      "outputs": []
    },
    {
      "cell_type": "markdown",
      "metadata": {
        "id": "wNf9mrCFeGBv"
      },
      "source": [
        "Now, our whole process of obtaining the data loaders and fitting the\n",
        "model can be run in 3 lines of code:\n",
        "\n"
      ]
    },
    {
      "cell_type": "code",
      "metadata": {
        "id": "hd6d8kcDeGBv",
        "outputId": "5352df95-946e-4dfc-eb9e-3871e76f73e2",
        "colab": {
          "base_uri": "https://localhost:8080/",
          "height": 51
        }
      },
      "source": [
        "train_dl, valid_dl = get_data(train_ds, valid_ds, batch_size)\n",
        "model, opt = get_model()\n",
        "fit(epochs, model, loss_func, opt, train_dl, valid_dl)"
      ],
      "execution_count": 54,
      "outputs": [
        {
          "output_type": "stream",
          "text": [
            "0 51620.8360625\n",
            "1 60496.70879375\n"
          ],
          "name": "stdout"
        }
      ]
    },
    {
      "cell_type": "markdown",
      "metadata": {
        "id": "FsJZCPuZeGBx"
      },
      "source": [
        "You can use these basic 3 lines of code to train a wide variety of models.\n",
        "Let's see if we can use them to train a convolutional neural network (CNN)!\n",
        "\n",
        "Switch to CNN\n",
        "-------------\n",
        "\n",
        "We are now going to build our neural network with three convolutional layers.\n",
        "Because none of the functions in the previous section assume anything about\n",
        "the model form, we'll be able to use them to train a CNN without any modification.\n",
        "\n",
        "We will use Pytorch's predefined\n",
        "`Conv2d <https://pytorch.org/docs/stable/nn.html#torch.nn.Conv2d>`_ class\n",
        "as our convolutional layer. We define a CNN with 3 convolutional layers.\n",
        "Each convolution is followed by a ReLU.  At the end, we perform an\n",
        "average pooling.  (Note that ``view`` is PyTorch's version of numpy's\n",
        "``reshape``)\n",
        "\n"
      ]
    },
    {
      "cell_type": "code",
      "metadata": {
        "id": "gdh4car2eGBy"
      },
      "source": [
        "class my_CNN(nn.Module):\n",
        "    def __init__(self):\n",
        "        super().__init__()\n",
        "        self.conv1 = nn.Conv2d(1, 16, kernel_size=3, stride=2, padding=1)\n",
        "        self.conv2 = nn.Conv2d(16, 16, kernel_size=3, stride=2, padding=1)\n",
        "        self.conv3 = nn.Conv2d(16, 10, kernel_size=3, stride=2, padding=1)\n",
        "\n",
        "    def forward(self, xb):\n",
        "        xb = xb.view(-1, 1, 28, 28)\n",
        "        xb = F.relu(self.conv1(xb))\n",
        "        xb = F.relu(self.conv2(xb))\n",
        "        xb = F.relu(self.conv3(xb))\n",
        "        xb = F.avg_pool2d(xb, 4)\n",
        "        return xb.view(-1, xb.size(1))\n",
        "\n",
        "lr = 0.1"
      ],
      "execution_count": 55,
      "outputs": []
    },
    {
      "cell_type": "markdown",
      "metadata": {
        "id": "BUIIa4BgeGB0"
      },
      "source": [
        "[Momentum](https://cs231n.github.io/neural-networks-3/#sgd) is a variation on stochastic gradient descent that takes previous updates into account as well and generally leads to faster training.\n",
        "\n"
      ]
    },
    {
      "cell_type": "code",
      "metadata": {
        "id": "6PmGF8RCeGB0",
        "outputId": "358e81d9-fb4e-402a-9f35-de6734be4742",
        "colab": {
          "base_uri": "https://localhost:8080/",
          "height": 51
        }
      },
      "source": [
        "model = my_CNN()\n",
        "opt = optim.SGD(model.parameters(), lr=lr, momentum=0.9)\n",
        "\n",
        "fit(epochs, model, loss_func, opt, train_dl, valid_dl)"
      ],
      "execution_count": 56,
      "outputs": [
        {
          "output_type": "stream",
          "text": [
            "0 2.302583031463623\n",
            "1 2.302581801223755\n"
          ],
          "name": "stdout"
        }
      ]
    },
    {
      "cell_type": "markdown",
      "metadata": {
        "id": "kP7SimwneGB2"
      },
      "source": [
        "nn.Sequential\n",
        "------------------------\n",
        "\n",
        "``torch.nn`` has another handy class we can use to simply our code:\n",
        "[Sequential](https://pytorch.org/docs/stable/nn.html#torch.nn.Sequential). \n",
        "A ``Sequential`` object runs each of the modules contained within it, in a\n",
        "sequential manner. This is a simpler way of writing our neural network.\n",
        "\n",
        "To take advantage of this, we need to be able to easily define a\n",
        "**custom layer** from a given function.  For instance, PyTorch doesn't\n",
        "have a `view` layer, and we need to create one for our network. ``Lambda``\n",
        "will create a layer that we can then use when defining a network with\n",
        "``Sequential``.\n",
        "\n"
      ]
    },
    {
      "cell_type": "code",
      "metadata": {
        "id": "pvrU2850eGB2"
      },
      "source": [
        "class Lambda(nn.Module):\n",
        "    def __init__(self, func):\n",
        "        super().__init__()\n",
        "        self.func = func\n",
        "\n",
        "    def forward(self, x):\n",
        "        return self.func(x)\n",
        "\n",
        "\n",
        "def preprocess(x):\n",
        "    return x.view(-1, 1, 28, 28)"
      ],
      "execution_count": 57,
      "outputs": []
    },
    {
      "cell_type": "markdown",
      "metadata": {
        "id": "pntzsnsxeGB4"
      },
      "source": [
        "The model created with ``Sequential`` is simply:\n",
        "\n"
      ]
    },
    {
      "cell_type": "code",
      "metadata": {
        "id": "YSvOHEh3eGB4",
        "outputId": "0edc46b9-af42-4a74-e3ab-a77ae44f9e44",
        "colab": {
          "base_uri": "https://localhost:8080/",
          "height": 51
        }
      },
      "source": [
        "model = nn.Sequential(\n",
        "    Lambda(preprocess),\n",
        "    nn.Conv2d(1, 16, kernel_size=3, stride=2, padding=1),\n",
        "    nn.ReLU(),\n",
        "    nn.Conv2d(16, 16, kernel_size=3, stride=2, padding=1),\n",
        "    nn.ReLU(),\n",
        "    nn.Conv2d(16, 10, kernel_size=3, stride=2, padding=1),\n",
        "    nn.ReLU(),\n",
        "    nn.AvgPool2d(4),\n",
        "    Lambda(lambda x: x.view(x.size(0), -1)),\n",
        ")\n",
        "\n",
        "opt = optim.SGD(model.parameters(), lr=lr, momentum=0.9)\n",
        "\n",
        "fit(epochs, model, loss_func, opt, train_dl, valid_dl)"
      ],
      "execution_count": 58,
      "outputs": [
        {
          "output_type": "stream",
          "text": [
            "0 2.3025827480316163\n",
            "1 2.3025827938079835\n"
          ],
          "name": "stdout"
        }
      ]
    },
    {
      "cell_type": "markdown",
      "metadata": {
        "id": "6KP0rTg3eGB5"
      },
      "source": [
        "Wrapping DataLoader\n",
        "-----------------------------\n",
        "\n",
        "Our CNN is fairly concise, but it only works with MNIST, because:\n",
        " - It assumes the input is a 28\\*28 long vector\n",
        " - It assumes that the final CNN grid size is 4\\*4 (since that's the average\n",
        "pooling kernel size we used)\n",
        "\n",
        "Let's get rid of these two assumptions, so our model works with any 2d\n",
        "single channel image. First, we can remove the initial Lambda layer but\n",
        "moving the data preprocessing into a generator:\n",
        "\n"
      ]
    },
    {
      "cell_type": "code",
      "metadata": {
        "id": "W1lyRvzVeGB6"
      },
      "source": [
        "def preprocess(x, y):\n",
        "    return x.view(-1, 1, 28, 28), y\n",
        "\n",
        "\n",
        "class WrappedDataLoader:\n",
        "    def __init__(self, dl, func):\n",
        "        self.dl = dl\n",
        "        self.func = func\n",
        "\n",
        "    def __len__(self):\n",
        "        return len(self.dl)\n",
        "\n",
        "    def __iter__(self):\n",
        "        batches = iter(self.dl)\n",
        "        for b in batches:\n",
        "            yield (self.func(*b))\n",
        "\n",
        "train_dl, valid_dl = get_data(train_ds, valid_ds, batch_size)\n",
        "train_dl = WrappedDataLoader(train_dl, preprocess)\n",
        "valid_dl = WrappedDataLoader(valid_dl, preprocess)"
      ],
      "execution_count": 59,
      "outputs": []
    },
    {
      "cell_type": "markdown",
      "metadata": {
        "id": "sZ-s8T6ceGB8"
      },
      "source": [
        "Next, we can replace ``nn.AvgPool2d`` with ``nn.AdaptiveAvgPool2d``, which\n",
        "allows us to define the size of the *output* tensor we want, rather than\n",
        "the *input* tensor we have. As a result, our model will work with any\n",
        "size input.\n",
        "\n"
      ]
    },
    {
      "cell_type": "code",
      "metadata": {
        "id": "i9-c4mNleGB8"
      },
      "source": [
        "model = nn.Sequential(\n",
        "    nn.Conv2d(1, 16, kernel_size=3, stride=2, padding=1),\n",
        "    nn.ReLU(),\n",
        "    nn.Conv2d(16, 16, kernel_size=3, stride=2, padding=1),\n",
        "    nn.ReLU(),\n",
        "    nn.Conv2d(16, 10, kernel_size=3, stride=2, padding=1),\n",
        "    nn.ReLU(),\n",
        "    nn.AdaptiveAvgPool2d(1),\n",
        "    Lambda(lambda x: x.view(x.size(0), -1)),\n",
        ")\n",
        "\n",
        "opt = optim.SGD(model.parameters(), lr=lr, momentum=0.9)"
      ],
      "execution_count": null,
      "outputs": []
    },
    {
      "cell_type": "markdown",
      "metadata": {
        "id": "yd0gUtP1eGB9"
      },
      "source": [
        "Let's try it out:\n",
        "\n"
      ]
    },
    {
      "cell_type": "code",
      "metadata": {
        "id": "PVROmn5ceGB9",
        "outputId": "ef0752a7-2fb2-4cef-9e61-ee64c7cdc98d",
        "colab": {
          "base_uri": "https://localhost:8080/",
          "height": 51
        }
      },
      "source": [
        "fit(epochs, model, loss_func, opt, train_dl, valid_dl)"
      ],
      "execution_count": null,
      "outputs": [
        {
          "output_type": "stream",
          "text": [
            "0 1.993437435913086\n",
            "1 1.8620176559448243\n"
          ],
          "name": "stdout"
        }
      ]
    },
    {
      "cell_type": "markdown",
      "metadata": {
        "id": "tOI6mJvReGB_"
      },
      "source": [
        "Using your GPU\n",
        "---------------\n",
        "\n",
        "If you're lucky enough to have access to a CUDA-capable GPU (you can\n",
        "rent one for about $0.50/hour from most cloud providers) you can\n",
        "use it to speed up your code. First check that your GPU is working in\n",
        "Pytorch:\n",
        "\n"
      ]
    },
    {
      "cell_type": "code",
      "metadata": {
        "id": "9OImf8TDeGB_",
        "outputId": "4ff2370a-6db4-44b1-db48-0b4aa7de7910",
        "colab": {
          "base_uri": "https://localhost:8080/",
          "height": 34
        }
      },
      "source": [
        "print(torch.cuda.is_available())"
      ],
      "execution_count": null,
      "outputs": [
        {
          "output_type": "stream",
          "text": [
            "False\n"
          ],
          "name": "stdout"
        }
      ]
    },
    {
      "cell_type": "markdown",
      "metadata": {
        "id": "YYfuNP6weGCC"
      },
      "source": [
        "And then create a device object for it:\n",
        "\n"
      ]
    },
    {
      "cell_type": "code",
      "metadata": {
        "id": "pO89XcUDeGCC"
      },
      "source": [
        "dev = torch.device(\n",
        "    \"cuda\") if torch.cuda.is_available() else torch.device(\"cpu\")"
      ],
      "execution_count": null,
      "outputs": []
    },
    {
      "cell_type": "markdown",
      "metadata": {
        "id": "XLOO9P4_eGCE"
      },
      "source": [
        "Let's update ``preprocess`` to move batches to the GPU:\n",
        "\n"
      ]
    },
    {
      "cell_type": "code",
      "metadata": {
        "id": "iLOB1n2ReGCE"
      },
      "source": [
        "def preprocess(x, y):\n",
        "    return x.view(-1, 1, 28, 28).to(dev), y.to(dev)\n",
        "\n",
        "\n",
        "train_dl, valid_dl = get_data(train_ds, valid_ds, batch_size)\n",
        "train_dl = WrappedDataLoader(train_dl, preprocess)\n",
        "valid_dl = WrappedDataLoader(valid_dl, preprocess)"
      ],
      "execution_count": null,
      "outputs": []
    },
    {
      "cell_type": "markdown",
      "metadata": {
        "id": "528YuEG_eGCG"
      },
      "source": [
        "Finally, we can move our model to the GPU.\n",
        "\n"
      ]
    },
    {
      "cell_type": "code",
      "metadata": {
        "id": "r_9vvYyreGCG"
      },
      "source": [
        "model.to(dev)\n",
        "opt = optim.SGD(model.parameters(), lr=lr, momentum=0.9)"
      ],
      "execution_count": null,
      "outputs": []
    },
    {
      "cell_type": "markdown",
      "metadata": {
        "id": "jGo8gAHNeGCI"
      },
      "source": [
        "You should find it runs faster now:\n",
        "\n"
      ]
    },
    {
      "cell_type": "code",
      "metadata": {
        "id": "8aFgHMYgeGCI",
        "outputId": "b1e690ef-24b0-4a5f-d6f9-e573623d9dcf",
        "colab": {
          "base_uri": "https://localhost:8080/",
          "height": 51
        }
      },
      "source": [
        "fit(epochs, model, loss_func, opt, train_dl, valid_dl)"
      ],
      "execution_count": null,
      "outputs": [
        {
          "output_type": "stream",
          "text": [
            "0 1.8035961652755736\n",
            "1 1.7888155118942262\n"
          ],
          "name": "stdout"
        }
      ]
    },
    {
      "cell_type": "markdown",
      "metadata": {
        "id": "fDcV5QeyeGCJ"
      },
      "source": [
        "Closing thoughts\n",
        "-----------------\n",
        "\n",
        "We now have a general data pipeline and training loop which you can use for\n",
        "training many types of models using Pytorch. To see how simple training a model\n",
        "can now be, take a look at the `mnist_sample` sample notebook.\n",
        "\n",
        "Of course, there are many things you'll want to add, such as data augmentation,\n",
        "hyperparameter tuning, monitoring training, transfer learning, and so forth.\n",
        "These features are available in the fastai library, which has been developed\n",
        "using the same design approach shown in this tutorial, providing a natural\n",
        "next step for practitioners looking to take their models further.\n",
        "\n",
        "We promised at the start of this tutorial we'd explain through example each of\n",
        "``torch.nn``, ``torch.optim``, ``Dataset``, and ``DataLoader``. So let's summarize\n",
        "what we've seen:\n",
        "\n",
        " - **torch.nn**\n",
        "\n",
        "   + ``Module``: creates a callable which behaves like a function, but can also\n",
        "     contain state(such as neural net layer weights). It knows what ``Parameter`` (s) it\n",
        "     contains and can zero all their gradients, loop through them for weight updates, etc.\n",
        "   + ``Parameter``: a wrapper for a tensor that tells a ``Module`` that it has weights\n",
        "     that need updating during backprop. Only tensors with the `requires_grad` attribute set are updated\n",
        "   + ``functional``: a module(usually imported into the ``F`` namespace by convention)\n",
        "     which contains activation functions, loss functions, etc, as well as non-stateful\n",
        "     versions of layers such as convolutional and linear layers.\n",
        " - ``torch.optim``: Contains optimizers such as ``SGD``, which update the weights\n",
        "   of ``Parameter`` during the backward step\n",
        " - ``Dataset``: An abstract interface of objects with a ``__len__`` and a ``__getitem__``,\n",
        "   including classes provided with Pytorch such as ``TensorDataset``\n",
        " - ``DataLoader``: Takes any ``Dataset`` and creates an iterator which returns batches of data.\n",
        "\n"
      ]
    }
  ]
}