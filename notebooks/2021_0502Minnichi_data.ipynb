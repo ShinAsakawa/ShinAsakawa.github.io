{
  "nbformat": 4,
  "nbformat_minor": 0,
  "metadata": {
    "kernelspec": {
      "display_name": "Python 3",
      "language": "python",
      "name": "python3"
    },
    "language_info": {
      "codemirror_mode": {
        "name": "ipython",
        "version": 3
      },
      "file_extension": ".py",
      "mimetype": "text/x-python",
      "name": "python",
      "nbconvert_exporter": "python",
      "pygments_lexer": "ipython3",
      "version": "3.7.9"
    },
    "colab": {
      "name": "2021_0502Minnichi_data.ipynb",
      "provenance": [],
      "include_colab_link": true
    }
  },
  "cells": [
    {
      "cell_type": "markdown",
      "metadata": {
        "id": "view-in-github",
        "colab_type": "text"
      },
      "source": [
        "<a href=\"https://colab.research.google.com/github/ShinAsakawa/ShinAsakawa.github.io/blob/master/notebooks/2021_0502Minnichi_data.ipynb\" target=\"_parent\"><img src=\"https://colab.research.google.com/assets/colab-badge.svg\" alt=\"Open In Colab\"/></a>"
      ]
    },
    {
      "cell_type": "markdown",
      "metadata": {
        "id": "Rq_MpVnFp1Vz"
      },
      "source": [
        "# みんなの日本語関係の処理 データ作成\n",
        "- date: 2021_0502\n",
        "- author: 浅川伸一\n",
        "\n"
      ]
    },
    {
      "cell_type": "code",
      "metadata": {
        "id": "LLsY1epfp1V6"
      },
      "source": [
        "%load_ext autoreload\n",
        "%autoreload 2\n",
        "#!pwd\n",
        "\n",
        "import os\n",
        "import sys\n",
        "import unicodedata\n",
        "import glob\n",
        "\n",
        "import numpy as np\n",
        "np.set_printoptions(precision=2)  # numpy の表示桁数設定\n",
        "np.set_printoptions(suppress=False, formatter={'float': '{:6.3f}'.format})\n",
        "\n",
        "import pandas as pd\n",
        "import json\n",
        "import matplotlib.pyplot as plt\n",
        "%matplotlib inline"
      ],
      "execution_count": null,
      "outputs": []
    },
    {
      "cell_type": "code",
      "metadata": {
        "id": "6ZUjAfhIp1V7"
      },
      "source": [
        "#colab 上で MeCab をインストール際に，次行をコメントアウト\n",
        "!pip install mecab-python3==0.996.3\n",
        "import MeCab\n",
        "\n",
        "wakati = MeCab.Tagger('-Owakati')\n",
        "yomi = MeCab.Tagger('-Oyomi')\n",
        "\n",
        "!pip install jaconv\n",
        "import jaconv\n",
        "\n",
        "!pip install japanize_matplotlib\n",
        "import japanize_matplotlib  # matplotlib の日本語表示"
      ],
      "execution_count": null,
      "outputs": []
    },
    {
      "cell_type": "code",
      "metadata": {
        "id": "_dwn2azUp1V8"
      },
      "source": [
        "# word2vec データ処理のため gensim を使う\n",
        "from gensim.models import KeyedVectors\n",
        "from gensim.models import Word2Vec\n",
        "\n",
        "#from scipy import stats\n",
        "#import termcolor"
      ],
      "execution_count": null,
      "outputs": []
    },
    {
      "cell_type": "code",
      "metadata": {
        "id": "QFZZhSvxp1V8"
      },
      "source": [
        "#GitHub からライブラリをダウンロード\n",
        "!wget -O ja_util.py https://raw.githubusercontent.com/ShinAsakawa/ShinAsakawa.github.io/master/2020ccap/ja_util.py\n",
        "#カレントディレクトリからライブラリを読み込むために path を追加\n",
        "import sys\n",
        "sys.path.append(\".\")\n",
        "# ja_util は 2021 Apr に作った日本語処理関係\n",
        "import ja_util   #自作の ja_util を読み込み"
      ],
      "execution_count": null,
      "outputs": []
    },
    {
      "cell_type": "code",
      "metadata": {
        "id": "-Ah0a7Vup1V8"
      },
      "source": [
        "# word2vec データの読み込み\n",
        "# ローカルディスクから読み込むようになっています。colab でお使いの場合には適宜変更してください\n",
        "# word2vec の訓練済モデルを入手\n",
        "!wget http://www.cis.twcu.ac.jp/~asakawa/2017jpa/2017Jul_jawiki-wakati_neologd_hid200_win20_neg20_cbow.bin.gz\n",
        "#!wget http://www.cis.twcu.ac.jp/~asakawa/2017jpa/2017Jul_jawiki-wakati_neologd_hid200_win20_neg20_sgns.bin.gz\n",
        "#!wget http://www.cis.twcu.ac.jp/~asakawa/2017jpa/2017Jul_jawiki-wakati_neologd_hid300_win20_neg20_sgns.bin.gz\n",
        "#!wget http://www.cis.twcu.ac.jp/~asakawa/2017jpa/2017Jul_jawiki-wakati_neologd_hid200_win20_neg20_cbow.bin.gz\n",
        "\n",
        "# 訓練済 word2vec，訓練データは wikipedia 全文  読み込みに時間がかかります\n",
        "w2v_base = './'\n",
        "w2v_file = '2017Jul_jawiki-wakati_neologd_hid200_win20_neg20_cbow.bin.gz'\n",
        "#w2v_file = '2017Jul_jawiki-wakati_neologd_hid200_win20_neg10_cbow.bin.gz'\n",
        "#w2v_file = '2017Jul_jawiki-wakati_neologd_hid200_win20_neg20_sgns.bin.gz'\n",
        "#w2v_file = '2017Jul_jawiki-wakati_neologd_hid200_win20_neg10_sgns.bin.gz'\n",
        "asakawa_w2v_file = os.path.join(w2v_base, w2v_file)\n",
        "asakawa_w2v = KeyedVectors.load_word2vec_format(asakawa_w2v_file, \n",
        "                                                encoding='utf-8', \n",
        "                                                unicode_errors='replace',\n",
        "                                                binary=True) \n",
        "\n",
        "w2v = asakawa_w2v"
      ],
      "execution_count": null,
      "outputs": []
    },
    {
      "cell_type": "markdown",
      "metadata": {
        "id": "wujL3seerRRq"
      },
      "source": [
        "以下，コードではなく，テキストにしています。データに著作権があるでしょから，保護の意味合いです。\n",
        "\n",
        "```pytthon\n",
        "# 岩下先生から頂いた「みんなの日本語」データの読み込み\n",
        "jlpt_base = '/Users/asakawa/study/2021jlpt'\n",
        "minnichi_files = sorted(glob.glob(os.path.join(jlpt_base, 'MINNICHI_*.txt')))\n",
        "print(minnichi_files)\n",
        "\n",
        "# みんなの日本語テキストを読み込み\n",
        "minnichi_text = {}\n",
        "text_data = []\n",
        "for file in minnichi_files:\n",
        "    fname = os.path.split(file)[-1].split('.')[0]\n",
        "\n",
        "    if not fname in minnichi_text:\n",
        "        minnichi_text[fname] = []\n",
        "    #txt = []\n",
        "    with open(file,'r') as f:\n",
        "        texts = f.readlines()\n",
        "        \n",
        "        for txt in texts:\n",
        "            txt = unicodedata.normalize(\"NFC\", txt).strip()  # 全角記号を半角へ置換\n",
        "            #txt = ja_util.normalize_neologd(txt)\n",
        "            if len(txt) > 1:\n",
        "                minnichi_text[fname].append(txt)\n",
        "                text_data.append(wakati.parse(txt).strip().split())\n",
        "\n",
        "#「いっしょにごはん」を 「いっしょ」「に」「ごはん」に修正\n",
        "text_data[120] = ['今度', 'は', 'わたし', 'の', 'うち', 'へ', '来', 'ませ', 'ん', 'か', '。', 'ここ', 'の', '野菜', 'は', 'おいしい', 'です', 'よ', '。', 'いっしょ', 'に', 'ごはん', 'を', '食べ', 'ましょ', 'う', '。']\n",
        "\n",
        "# 「こいぬ」を [子犬] に修正\n",
        "#text_data[207] = ['D', ':', 'げんき', 'な', '子犬', 'が', '5', 'ひきい', 'ます', '。', 'しろい', 'の', 'が', '3', 'びき', 'と', 'くろい', 'の', 'が', '2', 'ひき', 'です', '。', 'もらっ', 'て', 'ください', '。']\n",
        "\n",
        "\n",
        "# 229 「大人しか」 を 「大人」 「しか」に修正\n",
        "text_data[229] = ['それで', '、', 'お酒', 'の', '販売', '機', 'は', '夜', '11時', 'から', '朝', '5時', 'まで', '止め', 'て', 'ある', '。', 'たばこ', 'は', '「', 'タスポ', '」', 'という', 'カード', 'を', '機械', 'に', 'タッチ', 'し', 'なけれ', 'ば', '、', '買え', 'ない', '。', 'この', 'カード', 'は', '大人', 'しか', '持て', 'ない', '。', 'また', '、', '最近', 'で', 'は', '、', '販売', '機', 'の', 'ほとんど', 'が', '節電', 'タイプ', 'に', 'なっ', 'て', 'いる', '。', '1991年', 'から', '2013年', 'まで', 'に', '、', '飲み物', 'の', '販売', '機', 'が', '使う', '電力', 'は', '75', '％', '減っ', 'た', '。']\n",
        "\n",
        "# 338 「わたしたち」 を「わたし」「たち」に修正\n",
        "text_data[338] = ['次に', 'コーヒー', 'を', '飲む', 'と', '、', 'リラックス', 'する', 'こと', 'が', 'でき', 'ます', '。', 'です', 'から', 'わたし', 'たち', 'は', '喫茶店', 'で', '友達', 'と', '話す', 'とき', '、', '仕事', 'が', '終わっ', 'て', '少し', '休む', 'とき', '、', 'よく', 'コーヒー', 'を', '飲み', 'ます', '。']\n",
        "\n",
        "# 「かた」「かな」 を修正\n",
        "text_data[-14] = ['かたかな', 'の', 'ことば', 'は', '英語', 'から', '来', 'た', 'ことば', 'が', '多い', 'です', '。', '日本', 'で', '作っ', 'た', 'かたかな', 'の', 'ことば', 'も', 'たくさん', 'あり', 'ます', 'が', '、', '英語', 'で', 'は', 'あり', 'ませ', 'ん', '。', 'です', 'から', '、', '英語', 'が', 'わかる', '外国人', 'も', '意味', 'が', 'わかり', 'ませ', 'ん', '。']    \n",
        "\n",
        "# [.日本] を [.] [日本] に修正\n",
        "text_data[-11] = ['2', '.', '日本', 'の', '車', 'は', 'ハンドル', 'が', '右', 'に', 'あり', 'ます', '。']\n",
        "\n",
        "# 以上の修正で，word2vec にエントリのない語彙は，以下のとおり `!!??`, `かたかな`, `こいぬ`, `ふろ場`, `弁当屋`, `赤繁`\n",
        "\n",
        "with open('minnichi.txt', 'w') as f:\n",
        "    for line in text_data:\n",
        "        for word in line:\n",
        "            f.write(f'{word} ')\n",
        "        f.write('\\n')\n",
        "\n",
        "```"
      ]
    },
    {
      "cell_type": "code",
      "metadata": {
        "colab": {
          "resources": {
            "http://localhost:8080/nbextensions/google.colab/files.js": {
              "data": "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",
              "ok": true,
              "headers": [
                [
                  "content-type",
                  "application/javascript"
                ]
              ],
              "status": 200,
              "status_text": ""
            }
          },
          "base_uri": "https://localhost:8080/",
          "height": 55
        },
        "id": "y18mMszLp1V-",
        "outputId": "ae2f6e00-600d-481a-afc9-8d0864529a59"
      },
      "source": [
        "#上で作成した minnchi.txt を upload してださい。\n",
        "from google.colab import files\n",
        "files.upload()"
      ],
      "execution_count": null,
      "outputs": [
        {
          "output_type": "display_data",
          "data": {
            "text/html": [
              "\n",
              "     <input type=\"file\" id=\"files-095abb2c-7a14-44e7-9ec4-30584791ce52\" name=\"files[]\" multiple disabled\n",
              "        style=\"border:none\" />\n",
              "     <output id=\"result-095abb2c-7a14-44e7-9ec4-30584791ce52\">\n",
              "      Upload widget is only available when the cell has been executed in the\n",
              "      current browser session. Please rerun this cell to enable.\n",
              "      </output>\n",
              "      <script src=\"/nbextensions/google.colab/files.js\"></script> "
            ],
            "text/plain": [
              "<IPython.core.display.HTML object>"
            ]
          },
          "metadata": {
            "tags": []
          }
        },
        {
          "output_type": "execute_result",
          "data": {
            "text/plain": [
              "{}"
            ]
          },
          "metadata": {
            "tags": []
          },
          "execution_count": 12
        }
      ]
    },
    {
      "cell_type": "code",
      "metadata": {
        "id": "ftueUphCp1V-"
      },
      "source": [
        "with open('minnichi.txt', 'r') as f:\n",
        "    X = f.readlines()\n",
        "\n",
        "text_data = [line.strip().split() for line in X]\n",
        "\n",
        "minnichi_freq = {}\n",
        "for line in text_data:\n",
        "    for word in line:\n",
        "        if not word in minnichi_freq:\n",
        "            minnichi_freq[word] = 1\n",
        "        else:\n",
        "            minnichi_freq[word] += 1\n",
        "\n",
        "minnichi_words = list(sorted(minnichi_freq))\n",
        "\n",
        "minnichi_words = sorted(minnichi_freq)\n",
        "XXX = np.array([minnichi_freq[w] for w in minnichi_freq])\n",
        "plt.plot(np.sort(XXX)[::-1])\n",
        "\n",
        "minnichi_freq = {}\n",
        "for line in text_data:\n",
        "    for word in line:\n",
        "        if not word in minnichi_freq:\n",
        "            minnichi_freq[word] = 1\n",
        "        else:\n",
        "            minnichi_freq[word] += 1\n",
        "\n",
        "minnichi_words = list(sorted(minnichi_freq))\n",
        "\n",
        "minnichi_words = sorted(minnichi_freq)\n",
        "XXX = np.array([minnichi_freq[w] for w in minnichi_freq])\n",
        "plt.plot(np.sort(XXX)[::-1])\n",
        "#XX = [line.strip().split() for line in X]\n",
        "#print(XX[-14])"
      ],
      "execution_count": null,
      "outputs": []
    },
    {
      "cell_type": "code",
      "metadata": {
        "id": "opVP0XZBp1V_"
      },
      "source": [
        "for word in minnichi_words:\n",
        "    if word not in w2v:\n",
        "        print(word)"
      ],
      "execution_count": null,
      "outputs": []
    },
    {
      "cell_type": "code",
      "metadata": {
        "id": "pZxelFLLp1V_"
      },
      "source": [
        "# みんなの日本語全テキストをモーラへ変換\n",
        "min_mora = {}\n",
        "for word in minnichi_words:\n",
        "    yomi = ja_util.mora_wakati().getPronunciation(word)\n",
        "    min_mora[word] = {'yomi':yomi,\n",
        "                      'id': minnichi_words.index(word),\n",
        "                      'freq': minnichi_freq[word]\n",
        "                     }\n"
      ],
      "execution_count": null,
      "outputs": []
    },
    {
      "cell_type": "code",
      "metadata": {
        "id": "dMgC8rkPp1V_"
      },
      "source": [
        "print(min_mora)"
      ],
      "execution_count": null,
      "outputs": []
    }
  ]
}