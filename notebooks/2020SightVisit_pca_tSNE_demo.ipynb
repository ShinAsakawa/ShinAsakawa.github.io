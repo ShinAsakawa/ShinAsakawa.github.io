{
  "nbformat": 4,
  "nbformat_minor": 0,
  "metadata": {
    "colab": {
      "name": "2020SightVisit_pca_tSNE_demo.ipynb",
      "provenance": [],
      "private_outputs": true,
      "authorship_tag": "ABX9TyOeY0yTbTD0VBg90SI+aWTm",
      "include_colab_link": true
    },
    "kernelspec": {
      "name": "python3",
      "display_name": "Python 3"
    },
    "accelerator": "GPU"
  },
  "cells": [
    {
      "cell_type": "markdown",
      "metadata": {
        "id": "view-in-github",
        "colab_type": "text"
      },
      "source": [
        "<a href=\"https://colab.research.google.com/github/ShinAsakawa/ShinAsakawa.github.io/blob/master/notebooks/2020SightVisit_pca_tSNE_demo.ipynb\" target=\"_parent\"><img src=\"https://colab.research.google.com/assets/colab-badge.svg\" alt=\"Open In Colab\"/></a>"
      ]
    },
    {
      "cell_type": "markdown",
      "metadata": {
        "id": "3DASqxfVvHue",
        "colab_type": "text"
      },
      "source": [
        "出典: <http://codh.rois.ac.jp/kmnist/>\n",
        "\n",
        "<center>\n",
        "<img src=\"http://codh.rois.ac.jp/img/kmnist.png\" style=\"widht:59%\">\n",
        "</center>"
      ]
    },
    {
      "cell_type": "code",
      "metadata": {
        "id": "9jWOOZZIvLkz",
        "colab_type": "code",
        "colab": {}
      },
      "source": [
        "# データの読み込み\n",
        "!wget http://codh.rois.ac.jp/kmnist/dataset/kmnist/kmnist-train-imgs.npz\n",
        "!wget http://codh.rois.ac.jp/kmnist/dataset/kmnist/kmnist-train-labels.npz\n",
        "!wget http://codh.rois.ac.jp/kmnist/dataset/kmnist/kmnist-test-imgs.npz\n",
        "!wget http://codh.rois.ac.jp/kmnist/dataset/kmnist/kmnist-test-labels.npz"
      ],
      "execution_count": null,
      "outputs": []
    },
    {
      "cell_type": "code",
      "metadata": {
        "id": "ixKd68VKvSOX",
        "colab_type": "code",
        "colab": {}
      },
      "source": [
        "import numpy as np\n",
        "\n",
        "def load(f):\n",
        "    return np.load(f)['arr_0']\n",
        "\n",
        "# Load the data\n",
        "x_train = load('kmnist-train-imgs.npz')\n",
        "x_test = load('kmnist-test-imgs.npz')\n",
        "y_train = load('kmnist-train-labels.npz')\n",
        "y_test = load('kmnist-test-labels.npz')\n",
        "\n",
        "# Flatten images\n",
        "n_samples = 5000\n",
        "x_train = x_train.reshape(-1, 784)[:n_samples]\n",
        "y_train = y_train[:n_samples]\n",
        "x_test = x_test.reshape(-1, 784)\n",
        "\n",
        "ind2c =[c for c in 'おきすつなまはやれを']"
      ],
      "execution_count": null,
      "outputs": []
    },
    {
      "cell_type": "code",
      "metadata": {
        "id": "d_t4b0qNU3IH",
        "colab_type": "code",
        "colab": {}
      },
      "source": [
        "%pylab inline"
      ],
      "execution_count": null,
      "outputs": []
    },
    {
      "cell_type": "code",
      "metadata": {
        "id": "Bf-RlrpXU4K0",
        "colab_type": "code",
        "colab": {}
      },
      "source": [
        "X_digits, y_digits = x_train, y_train"
      ],
      "execution_count": null,
      "outputs": []
    },
    {
      "cell_type": "code",
      "metadata": {
        "id": "j_WBMLC7VA8Z",
        "colab_type": "code",
        "colab": {}
      },
      "source": [
        "def plot_pca_scatter(X, y):\n",
        "    plt.figure(figsize=(10,9))\n",
        "    colors = ['black', 'blue', 'purple', 'yellow', 'white', 'red', 'lime', 'cyan', 'orange', 'gray']\n",
        "    for i in range(len(colors)):\n",
        "        px = X[:, 0][y == i]\n",
        "        py = X[:, 1][y == i]\n",
        "        plt.scatter(px, py, c=colors[i])\n",
        "    plt.legend(digits.target_names)\n",
        "    plt.xlabel('First Principal Component')\n",
        "    plt.ylabel('Second Principal Component')"
      ],
      "execution_count": null,
      "outputs": []
    },
    {
      "cell_type": "code",
      "metadata": {
        "id": "TlpehihSVEqm",
        "colab_type": "code",
        "colab": {}
      },
      "source": [
        "from sklearn.decomposition import PCA\n",
        "\n",
        "n_components = n_row * n_col\n",
        "estimator = PCA(n_components=n_components)\n",
        "X_pca = estimator.fit_transform(X_digits)\n",
        "plot_pca_scatter(X_pca, y_digits)"
      ],
      "execution_count": null,
      "outputs": []
    },
    {
      "cell_type": "code",
      "metadata": {
        "id": "B6T7OjIpVHp2",
        "colab_type": "code",
        "colab": {}
      },
      "source": [
        "def print_pca_components(images, n_col, n_row):\n",
        "    plt.figure(figsize=(2. * n_col, 2.26 * n_row))\n",
        "    for i, comp in enumerate(images):\n",
        "        plt.subplot(n_row, n_col, i + 1)\n",
        "        plt.imshow(comp.reshape((28, 28)), interpolation='nearest', cmap='gray')\n",
        "        plt.text(0, -1, str(i + 1) + '-component')\n",
        "        plt.xticks(())\n",
        "        plt.yticks(())"
      ],
      "execution_count": null,
      "outputs": []
    },
    {
      "cell_type": "code",
      "metadata": {
        "id": "5SbOaaUkVR6m",
        "colab_type": "code",
        "colab": {}
      },
      "source": [
        "print_pca_components(estimator.components_[:n_components], n_col, n_row)"
      ],
      "execution_count": null,
      "outputs": []
    },
    {
      "cell_type": "code",
      "metadata": {
        "id": "6pK7St05VT-n",
        "colab_type": "code",
        "colab": {}
      },
      "source": [
        "from sklearn.manifold import TSNE\n",
        "tsne = TSNE()\n",
        "x_ = tsne.fit_transform(X_digits)\n",
        "plot_pca_scatter(x_, y_digits)"
      ],
      "execution_count": null,
      "outputs": []
    },
    {
      "cell_type": "code",
      "metadata": {
        "id": "jJxWx5PSv0yd",
        "colab_type": "code",
        "colab": {}
      },
      "source": [
        ""
      ],
      "execution_count": null,
      "outputs": []
    }
  ]
}