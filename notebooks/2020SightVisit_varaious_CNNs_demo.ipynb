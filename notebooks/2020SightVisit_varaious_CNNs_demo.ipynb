{
  "nbformat": 4,
  "nbformat_minor": 0,
  "metadata": {
    "colab": {
      "name": "2020SightVisit_varaious_CNNs_demo.ipynb",
      "provenance": [],
      "private_outputs": true,
      "authorship_tag": "ABX9TyNNzGHZlYeq/PDjdJxUjcP3",
      "include_colab_link": true
    },
    "kernelspec": {
      "name": "python3",
      "display_name": "Python 3"
    }
  },
  "cells": [
    {
      "cell_type": "markdown",
      "metadata": {
        "id": "view-in-github",
        "colab_type": "text"
      },
      "source": [
        "<a href=\"https://colab.research.google.com/github/ShinAsakawa/ShinAsakawa.github.io/blob/master/notebooks/2020SightVisit_varaious_CNNs_demo.ipynb\" target=\"_parent\"><img src=\"https://colab.research.google.com/assets/colab-badge.svg\" alt=\"Open In Colab\"/></a>"
      ]
    },
    {
      "cell_type": "code",
      "metadata": {
        "id": "0i1j87nBxKMJ"
      },
      "source": [
        "import numpy as np\n",
        "import sys\n",
        "\n",
        "from torchvision import models, transforms\n",
        "from torch.autograd import Variable\n",
        "from torch.nn import functional as F\n"
      ],
      "execution_count": null,
      "outputs": []
    },
    {
      "cell_type": "code",
      "metadata": {
        "id": "ddPbeX2QxS2b"
      },
      "source": [
        "# import cv2\n",
        "# In case of google colab, uncomment the below line,\n",
        "#from google.colab.patches import cv2_imshow\n",
        "\n",
        "import PIL.Image as PILImage\n",
        "\n",
        "# matplotlib はグラフ描画などに頻用される\n",
        "import matplotlib.pyplot as plt"
      ],
      "execution_count": null,
      "outputs": []
    },
    {
      "cell_type": "code",
      "metadata": {
        "id": "7M4IVtWixU0N"
      },
      "source": [
        "# matplotlib の日本語化ライブラリのインストール\n",
        "!pip install japanize-matplotlib\n",
        "import japanize_matplotlib"
      ],
      "execution_count": null,
      "outputs": []
    },
    {
      "cell_type": "code",
      "metadata": {
        "id": "plXuGLD4xgAc"
      },
      "source": [
        "# このセルを実行するか，または，すぐ下のセルを実行して画像ファイルを `test.jpg` としてください\n",
        "#!wget -O test.jpg https://image.shutterstock.com/image-photo/summer-portrait-cute-dalmatian-dog-600w-1124451662.jpg\n",
        "#img_file = 'test.jpg'"
      ],
      "execution_count": null,
      "outputs": []
    },
    {
      "cell_type": "code",
      "metadata": {
        "id": "1Jv_z3Acz9iZ"
      },
      "source": [
        "#ファイルをアップロードします\n",
        "from google.colab import files\n",
        "#files?"
      ],
      "execution_count": null,
      "outputs": []
    },
    {
      "cell_type": "code",
      "metadata": {
        "id": "KEQ5lh_P0kip"
      },
      "source": [
        "files.upload()  # ご自身の PC からファイルをアップロードして下さい\n"
      ],
      "execution_count": null,
      "outputs": []
    },
    {
      "cell_type": "code",
      "metadata": {
        "id": "9zckj-UR1rt2"
      },
      "source": [
        "!mv 19960222_004.jpg test.jpg"
      ],
      "execution_count": null,
      "outputs": []
    },
    {
      "cell_type": "code",
      "metadata": {
        "id": "d6vI2AEJxbFJ"
      },
      "source": [
        "img_file = 'test.jpg'\n",
        "img_pil = PILImage.open(img_file)\n",
        "plt.title('PIL による画像表示例')\n",
        "plt.axis(False); plt.imshow(img_pil)\n"
      ],
      "execution_count": null,
      "outputs": []
    },
    {
      "cell_type": "code",
      "metadata": {
        "id": "CB-3s7OaxnOW"
      },
      "source": [
        "# どれか一つだけ，事前訓練済のモデルを使用する\n",
        "import torchvision.models\n",
        "model = torchvision.models.vgg16(pretrained=True)\n",
        "#model = torchvision.models.squeezenet1_0(pretrained=True, progress=True)\n",
        "#model = torchvision.models.densenet161(pretrained=True, progress=True)\n",
        "#model = torchvision.models.inception_v3(pretrained=True, progress=True)\n",
        "#model = torchvision.models.googlenet(pretrained=True, progress=True)\n",
        "#model = torchvision.models.shufflenet_v2_x1_0(pretrained=True, progress=True)\n",
        "#model = torchvision.models.mobilenet_v2(pretrained=True, progress=True)\n",
        "#model = torchvision.models.resnext50_32x4d(pretrained=True, progress=True)\n",
        "#model = torchvision.models.wide_resnet50_2(pretrained=True, progress=True)\n",
        "#model = torchvision.models.mnasnet1_0(pretrained=True, progress=True)"
      ],
      "execution_count": null,
      "outputs": []
    },
    {
      "cell_type": "code",
      "metadata": {
        "id": "3470DHAvyCHa"
      },
      "source": [
        "# PyTorch による画像変換，画像サイズの変換\n",
        "t1 = transforms.Resize((224,224)) \n",
        "\n",
        "_img = t1(img_pil)\n",
        "print(type(_img), np.array(_img).shape)  # <class 'PIL.Image.Image'> (224, 224, 3)\n",
        "\n",
        "t2 = transforms.ToTensor()\n",
        "_img = t2(_img)\n",
        "print(type(_img), np.array(_img).shape)  # <class 'torch.Tensor'> (3, 224, 224)\n",
        "\n",
        "t3 = transforms.Normalize(\n",
        "   mean=[0.485, 0.456, 0.406],\n",
        "   std=[0.229, 0.224, 0.225]\n",
        ")\n",
        "\n",
        "_img = t3(_img)\n",
        "print(type(_img), np.array(_img).shape)  # <class 'torch.Tensor'> (3, 224, 224)"
      ],
      "execution_count": null,
      "outputs": []
    },
    {
      "cell_type": "code",
      "metadata": {
        "id": "RF6jrDNoyQJQ"
      },
      "source": [
        "logit = model(_img.unsqueeze(0))\n",
        "h_x = F.softmax(logit, dim=1).data.squeeze()\n",
        "probs, idx = h_x.sort(0, True)\n",
        "probs = probs.numpy()"
      ],
      "execution_count": null,
      "outputs": []
    },
    {
      "cell_type": "code",
      "metadata": {
        "id": "t9mJ3aIHy1R5"
      },
      "source": [
        "import requests\n",
        "\n",
        "LABELS_URL = 'https://s3.amazonaws.com/outcome-blog/imagenet/labels.json'\n",
        "\n",
        "# download the imagenet category list\n",
        "classes = {int(key):value for (key, value)\n",
        "          in requests.get(LABELS_URL).json().items()}\n"
      ],
      "execution_count": null,
      "outputs": []
    },
    {
      "cell_type": "code",
      "metadata": {
        "id": "H7LUuHpVyc-9"
      },
      "source": [
        "n_best = 5 \n",
        "outnp = logit.detach().numpy()\n",
        "ids = np.argsort(-outnp[0])\n",
        "for i in range(0, n_best):\n",
        "    print('{:.3f} -> {}'.format(probs[i], classes[ids[i]]))"
      ],
      "execution_count": null,
      "outputs": []
    },
    {
      "cell_type": "code",
      "metadata": {
        "id": "gpuo3bWzz4D8"
      },
      "source": [
        ""
      ],
      "execution_count": null,
      "outputs": []
    }
  ]
}