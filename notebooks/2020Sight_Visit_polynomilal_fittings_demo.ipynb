{
  "nbformat": 4,
  "nbformat_minor": 0,
  "metadata": {
    "colab": {
      "name": "2020Sight_Visit_polynomilal_fittings_demo.ipynb",
      "provenance": [],
      "private_outputs": true,
      "authorship_tag": "ABX9TyNgjQiKDfecHAan0c8J3OsN",
      "include_colab_link": true
    },
    "kernelspec": {
      "name": "python3",
      "display_name": "Python 3"
    }
  },
  "cells": [
    {
      "cell_type": "markdown",
      "metadata": {
        "id": "view-in-github",
        "colab_type": "text"
      },
      "source": [
        "<a href=\"https://colab.research.google.com/github/ShinAsakawa/ShinAsakawa.github.io/blob/master/notebooks/2020Sight_Visit_polynomilal_fittings_demo.ipynb\" target=\"_parent\"><img src=\"https://colab.research.google.com/assets/colab-badge.svg\" alt=\"Open In Colab\"/></a>"
      ]
    },
    {
      "cell_type": "markdown",
      "metadata": {
        "id": "Frdmnsb8V8t7",
        "colab_type": "text"
      },
      "source": [
        "# 2020 サイトビジット 機械学習 04_07\n",
        "## 多項式回帰によるアンダーフィッティング，オーバーフィッテイングのデモ\n",
        "- 浅川伸一\n"
      ]
    },
    {
      "cell_type": "code",
      "metadata": {
        "id": "vK-H16gcPkcn",
        "colab_type": "code",
        "colab": {}
      },
      "source": [
        "import numpy as np\n",
        "import sys\n",
        "import matplotlib.pyplot as plt\n",
        "%matplotlib inline"
      ],
      "execution_count": null,
      "outputs": []
    },
    {
      "cell_type": "code",
      "metadata": {
        "id": "DhC3yXkRPmKm",
        "colab_type": "code",
        "colab": {}
      },
      "source": [
        "# データを作成します。ここではサイン曲線を用いることにします。\n",
        "N_sample = 100   # データ数を定義\n",
        "X_points = np.linspace(0, 6*np.pi, N_sample)  # 0 から 6 π の範囲を  X 入力値とします\n",
        "sinY = np.sin(X_points)  # X の範囲の正弦（サイン）関数の値を y とします\n",
        "\n",
        "plt.figure(figsize=(8, 4))  # 表示サイズ，単位はインチ\n",
        "plt.plot(X_points, sinY); plt.show()  # X, y の値で図を描画"
      ],
      "execution_count": null,
      "outputs": []
    },
    {
      "cell_type": "code",
      "metadata": {
        "id": "7SguTr3LPtEo",
        "colab_type": "code",
        "colab": {}
      },
      "source": [
        "def make_poly(points, n_ord):\n",
        "    # n 次の多項式を定義\n",
        "    n_points = len(points)\n",
        "    data = [np.ones(n_points)]\n",
        "    for n in range(n_ord):\n",
        "        data.append(points**(n+1))\n",
        "    return np.vstack(data).T"
      ],
      "execution_count": null,
      "outputs": []
    },
    {
      "cell_type": "code",
      "metadata": {
        "id": "KFg5PvqoPvbr",
        "colab_type": "code",
        "colab": {}
      },
      "source": [
        "def linfit(X, Y):\n",
        "    # 多項回帰による近似解を返します\n",
        "    return np.linalg.solve(np.dot(X.T,X),np.dot(X.T,Y))\n"
      ],
      "execution_count": null,
      "outputs": []
    },
    {
      "cell_type": "code",
      "metadata": {
        "id": "acIY5Hc_P4lo",
        "colab_type": "code",
        "colab": {}
      },
      "source": [
        "n_samples = 10  # データから n_sample 個の点をサンプリングするために使います\n",
        "N_data = len(X_points)\n",
        "train_idx = np.random.choice(N_data, n_samples)  # 実際のサンプリング\n",
        "X_train = X_points[train_idx]  # サンプリングされた X の値\n",
        "y_train = sinY[train_idx]  # サンプリングされた y の値\n",
        "\n",
        "for n in (1, 2, 3, 4, 5):\n",
        "    n_ord = n + 1\n",
        "    Xtrain_poly = make_poly(X_train, n_ord)\n",
        "    w = linfit(Xtrain_poly, y_train)\n",
        "\n",
        "    X_poly = make_poly(X_points, n_ord)\n",
        "    y_hat = np.dot(X_poly, w)\n",
        "\n",
        "    plt.figure(figsize=(8, 4))\n",
        "\n",
        "    plt.plot(X_points, sinY)   # オリジナルのデータ曲線，サイン波の描画\n",
        "    plt.plot(X_points, y_hat)  # 多項回帰に基づく曲線の描画\n",
        "    plt.scatter(X_train, y_train)  # サンプリングされた点の描画\n",
        "    plt.title(\"power(%d)\" % n_ord)  # 図のタイトルの表示\n",
        "\n",
        "    plt.ylim(-1.5,2.5)  # y 軸の範囲を設定\n",
        "    plt.show()"
      ],
      "execution_count": null,
      "outputs": []
    }
  ]
}