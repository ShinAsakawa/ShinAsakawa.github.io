{
  "nbformat": 4,
  "nbformat_minor": 0,
  "metadata": {
    "colab": {
      "name": "2020sightvisit_04_03regression_sklearn_boston_demo.ipynb",
      "provenance": [],
      "private_outputs": true,
      "collapsed_sections": [],
      "authorship_tag": "ABX9TyM3wOyGFQQhLzfqeRgmEV0v",
      "include_colab_link": true
    },
    "kernelspec": {
      "name": "python3",
      "display_name": "Python 3"
    }
  },
  "cells": [
    {
      "cell_type": "markdown",
      "metadata": {
        "id": "view-in-github",
        "colab_type": "text"
      },
      "source": [
        "<a href=\"https://colab.research.google.com/github/ShinAsakawa/ShinAsakawa.github.io/blob/master/notebooks/2020sightvisit_04_03regression_sklearn_boston_demo.ipynb\" target=\"_parent\"><img src=\"https://colab.research.google.com/assets/colab-badge.svg\" alt=\"Open In Colab\"/></a>"
      ]
    },
    {
      "cell_type": "markdown",
      "metadata": {
        "id": "X5KhxS9K-03Q",
        "colab_type": "text"
      },
      "source": [
        "# Scikit-learn による重回帰実習\n",
        "\n",
        "\n",
        "|属性名|説明|\n",
        "|-----|---|\n",
        "|CRIM| 人口 1 人あたりの犯罪発生率|\n",
        "|ZN|25,000 平方フィート以上の住宅区画が占める割合|\n",
        "|INDUS|小売業以外の商業が占める面積の割合|\n",
        "|CHAS|チャールズ川の川沿いかどうか (0 or 1)|\n",
        "|NOX|窒素酸化物の濃度|\n",
        "|RM|住居の平均部屋数|\n",
        "|AGE|1940 年より前に建てられた持ち主が住んでいる物件の割合|\n",
        "|DIS|5 つのボストン雇用施設からの重み付き距離|\n",
        "|RAD|環状高速道路へのアクセシビリティ指標|\n",
        "|TAX|$10,000 あたりの固定資産税率|\n",
        "|PTRATIO|町ごとにみた教師 1 人あたりの生徒数|\n",
        "|B|町ごとにみた黒人の比率を Bk としたときの (Bk - 0.63)^2 の値|\n",
        "|LSTAT|給与の低い職業に従事する人口の割合|\n",
        "|MEDV|物件価格の中央値|\n",
        "\n",
        "このデータセットを用いて、最後の MEDV 以外の 13 個の指標から、MEDV を予測する回帰問題に取り組んでみましょう。 このデータセットは、scikit-learn の load_boston() という関数を呼び出すことで読み込むことができます。\n",
        "\n"
      ]
    },
    {
      "cell_type": "code",
      "metadata": {
        "id": "GCrsQ-Er-tUx",
        "colab_type": "code",
        "colab": {}
      },
      "source": [
        "from sklearn.datasets import load_boston\n",
        "dataset = load_boston()"
      ],
      "execution_count": null,
      "outputs": []
    },
    {
      "cell_type": "code",
      "metadata": {
        "id": "wILylYqA_WG3",
        "colab_type": "code",
        "colab": {}
      },
      "source": [
        "X = dataset.data\n",
        "y = dataset.target"
      ],
      "execution_count": null,
      "outputs": []
    },
    {
      "cell_type": "code",
      "metadata": {
        "id": "-pM5ObMR_ekr",
        "colab_type": "code",
        "colab": {}
      },
      "source": [
        "# データセットを分割する関数の読み込み\n",
        "from sklearn.model_selection import train_test_split\n",
        "\n",
        "# 訓練用データセットとテスト用データセットへの分割\n",
        "X_train, X_test, y_train, y_test = train_test_split(X, y, test_size=0.2, random_state=0)"
      ],
      "execution_count": null,
      "outputs": []
    },
    {
      "cell_type": "code",
      "metadata": {
        "id": "bXBA1Uzc_mym",
        "colab_type": "code",
        "colab": {}
      },
      "source": [
        "# モデル・目的関数・最適化手法\n",
        "# scikit-learn で重回帰分析を行う場合は、LinearRegression クラスを使用します。\n",
        "# sklearn.linear_model 以下にある LinearRegression クラスを読み込んで、インスタンスを作成しましょう。\n",
        "from sklearn.linear_model import LinearRegression\n",
        "\n",
        "# モデルの定義\n",
        "reg_model = LinearRegression()"
      ],
      "execution_count": null,
      "outputs": []
    },
    {
      "cell_type": "code",
      "metadata": {
        "id": "KrlKyl7t_xmo",
        "colab_type": "code",
        "colab": {}
      },
      "source": [
        "# モデルの訓練\n",
        "# scikit-learn では fit() というメソッドを用いてモデルの訓練を行います\n",
        "# `reg_model` を用いて訓練を実行するには `fit()`` の引数に入力値 `X` と目標値 `y` を与えます。\n",
        "reg_model.fit(X_train, y_train)"
      ],
      "execution_count": null,
      "outputs": []
    },
    {
      "cell_type": "code",
      "metadata": {
        "id": "dxVLQ7Y3AFcQ",
        "colab_type": "code",
        "colab": {}
      },
      "source": [
        "# 訓練後のパラメータ w\n",
        "reg_model.coef_"
      ],
      "execution_count": null,
      "outputs": []
    },
    {
      "cell_type": "code",
      "metadata": {
        "id": "CV6VASBXAWC1",
        "colab_type": "code",
        "colab": {}
      },
      "source": [
        "# 訓練後のバイアス b\n",
        "reg_model.intercept_"
      ],
      "execution_count": null,
      "outputs": []
    },
    {
      "cell_type": "code",
      "metadata": {
        "id": "wEceCjidAYtY",
        "colab_type": "code",
        "colab": {}
      },
      "source": [
        "# 精度の検証\n",
        "reg_model.score(X_train, y_train)"
      ],
      "execution_count": null,
      "outputs": []
    },
    {
      "cell_type": "code",
      "metadata": {
        "id": "_NAfjzfdAdjU",
        "colab_type": "code",
        "colab": {}
      },
      "source": [
        "#新しい入力値に対する予測の計算（推論）\n",
        "#訓練済みのモデルに、新たな入力値を与えて、予測値の精度を検証します\n",
        "# `predict()` を使います\n",
        "reg_model.predict(X_test[:1])"
      ],
      "execution_count": null,
      "outputs": []
    },
    {
      "cell_type": "code",
      "metadata": {
        "id": "Czu9wnv-Ax9F",
        "colab_type": "code",
        "colab": {}
      },
      "source": [
        "# 実際の値は？\n",
        "y_test[:1]"
      ],
      "execution_count": null,
      "outputs": []
    },
    {
      "cell_type": "code",
      "metadata": {
        "id": "3oCEPNJqA3dt",
        "colab_type": "code",
        "colab": {}
      },
      "source": [
        ""
      ],
      "execution_count": null,
      "outputs": []
    }
  ]
}