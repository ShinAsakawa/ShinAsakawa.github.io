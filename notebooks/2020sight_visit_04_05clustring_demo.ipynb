{
  "nbformat": 4,
  "nbformat_minor": 0,
  "metadata": {
    "colab": {
      "name": "2020sight_visit_04_05clustring_demo.ipynb",
      "provenance": [],
      "private_outputs": true,
      "authorship_tag": "ABX9TyMy/bcACaXhKtalD+3HbMjT",
      "include_colab_link": true
    },
    "kernelspec": {
      "name": "python3",
      "display_name": "Python 3"
    }
  },
  "cells": [
    {
      "cell_type": "markdown",
      "metadata": {
        "id": "view-in-github",
        "colab_type": "text"
      },
      "source": [
        "<a href=\"https://colab.research.google.com/github/ShinAsakawa/ShinAsakawa.github.io/blob/master/notebooks/2020sight_visit_04_05clustring_demo.ipynb\" target=\"_parent\"><img src=\"https://colab.research.google.com/assets/colab-badge.svg\" alt=\"Open In Colab\"/></a>"
      ]
    },
    {
      "cell_type": "markdown",
      "metadata": {
        "id": "BmzmhkgS67Om",
        "colab_type": "text"
      },
      "source": [
        "フィッシャーのアヤメのデータをつかってみましょう。\n",
        "統計学者 R.A. フィッシャーによって 1936 年に提唱されたサンプルデータです。\n",
        "\n",
        "セトサ setosa, バージカラー versicolor, バージニカ versinica という 3 種のアヤメのデータになります。\n",
        "\n",
        "<img src=\"https://upload.wikimedia.org/wikipedia/commons/thumb/5/56/Kosaciec_szczecinkowaty_Iris_setosa.jpg/220px-Kosaciec_szczecinkowaty_Iris_setosa.jpg\"><br/>\n",
        "セトサの画像 出典: <https://en.wikipedia.org/wiki/Iris_flower_data_set>\n",
        "\n",
        "<img src=\"https://upload.wikimedia.org/wikipedia/commons/thumb/4/41/Iris_versicolor_3.jpg/220px-Iris_versicolor_3.jpg\"><br/>\n",
        "バージカラーの画像 出典: <https://en.wikipedia.org/wiki/Iris_flower_data_set>\n",
        "\n",
        "<img src=\"https://upload.wikimedia.org/wikipedia/commons/thumb/9/9f/Iris_virginica.jpg/220px-Iris_virginica.jpg\"><br/>\n",
        "バージニカの画像 出典: <https://en.wikipedia.org/wiki/Iris_flower_data_set>\n"
      ]
    },
    {
      "cell_type": "code",
      "metadata": {
        "id": "wIId-us6tBCN",
        "colab_type": "code",
        "colab": {}
      },
      "source": [
        "from sklearn import datasets\n",
        "from sklearn import cluster\n",
        "\n",
        "iris = datasets.load_iris()\n",
        "X, y = iris.data, iris.target\n",
        "print(iris.feature_names)\n",
        "print(X.shape, y.shape)\n",
        "print(X[:10])\n",
        "print(y[:10])"
      ],
      "execution_count": null,
      "outputs": []
    },
    {
      "cell_type": "code",
      "metadata": {
        "id": "ssfmxx5ZtIFO",
        "colab_type": "code",
        "colab": {}
      },
      "source": [
        "print(iris.target)"
      ],
      "execution_count": null,
      "outputs": []
    },
    {
      "cell_type": "code",
      "metadata": {
        "id": "C5b4vykpBMk9",
        "colab_type": "code",
        "colab": {}
      },
      "source": [
        "import numpy as np\n",
        "from sklearn.cluster import KMeans\n",
        "\n",
        "kmeans = KMeans(n_clusters=3, random_state=0).fit(X)\n",
        "print(kmeans.labels_)\n",
        "print(kmeans.cluster_centers_)\n",
        "\n",
        "#from sklearn.neighbors import KNeighborsClassifier\n",
        "#clf = KNeighborsClassifier(n_neighbors=5)                   # kNN法オブジェクトを定義\n",
        "#clf.fit(X, y) \n",
        "#print(clf.predict(X))\n",
        "#print(y)"
      ],
      "execution_count": null,
      "outputs": []
    },
    {
      "cell_type": "markdown",
      "metadata": {
        "id": "umR2mSFq2upg",
        "colab_type": "text"
      },
      "source": [
        "# 日本語崩し字データセットによるデモ\n",
        "\n",
        "出典: <https://github.com/rois-codh/kmnist>\n",
        "<img src=\"https://github.com/rois-codh/kmnist/raw/master/images/kmnist_examples.png\">"
      ]
    },
    {
      "cell_type": "code",
      "metadata": {
        "id": "d5HjuEk-1SNx",
        "colab_type": "code",
        "colab": {}
      },
      "source": [
        "import requests\n",
        "\n",
        "# source: https://github.com/rois-codh/kmnist/blob/master/download_data.py\n",
        "url_list = ['http://codh.rois.ac.jp/kmnist/dataset/kmnist/kmnist-train-imgs.npz',\n",
        "            'http://codh.rois.ac.jp/kmnist/dataset/kmnist/kmnist-train-labels.npz',\n",
        "            'http://codh.rois.ac.jp/kmnist/dataset/kmnist/kmnist-test-imgs.npz',\n",
        "            'http://codh.rois.ac.jp/kmnist/dataset/kmnist/kmnist-test-labels.npz'\n",
        "]\n",
        "\n",
        "for url in url_list:\n",
        "    path = url.split('/')[-1]\n",
        "    r = requests.get(url, stream=True)\n",
        "    with open(path, 'wb') as f:\n",
        "        total_length = int(r.headers.get('content-length'))\n",
        "        print('Downloading {} - {:.1f} MB'.format(path, (total_length / 1024000)))\n",
        "\n",
        "        for chunk in r.iter_content(chunk_size=1024):\n",
        "            if chunk:\n",
        "                f.write(chunk)\n"
      ],
      "execution_count": null,
      "outputs": []
    },
    {
      "cell_type": "code",
      "metadata": {
        "id": "OWb5DVb4tp4f",
        "colab_type": "code",
        "colab": {}
      },
      "source": [
        "# kNN with neighbors=4 benchmark for Kuzushiji-MNIST\n",
        "# Acheives 92.10% test accuracy\n",
        "\n",
        "from sklearn.neighbors import KNeighborsClassifier\n",
        "import numpy as np\n",
        "\n",
        "def load(f):\n",
        "    return np.load(f)['arr_0']\n",
        "\n",
        "# Load the data\n",
        "X_train = load('kmnist-train-imgs.npz')\n",
        "X_test = load('kmnist-test-imgs.npz')\n",
        "y_train = load('kmnist-train-labels.npz')\n",
        "y_test = load('kmnist-test-labels.npz')\n",
        "\n",
        "# Flatten images\n",
        "X_train = X_train.reshape(-1, 784)\n",
        "X_test = X_test.reshape(-1, 784)\n",
        "\n",
        "data_size = 1000\n",
        "X_train = X_train[:data_size]\n",
        "y_train = y_train[:data_size]\n",
        "X_test = X_test[:data_size]\n",
        "y_test = y_test[:data_size]\n",
        "\n",
        "kmeans = KMeans(n_clusters=10, random_state=0).fit(X_train,y_train)\n",
        "print(kmeans.labels_[:40])\n",
        "print(y_train[:40])\n",
        "\n"
      ],
      "execution_count": null,
      "outputs": []
    },
    {
      "cell_type": "code",
      "metadata": {
        "id": "A8bfc50PeNNs",
        "colab_type": "code",
        "colab": {}
      },
      "source": [
        "knn = KNeighborsClassifier(n_neighbors=10)                   # kNN法オブジェクトを定義\n",
        "knn.fit(X_train, y_train) \n",
        "#print(knn.predict(X_test))\n",
        "\n",
        "print(knn.predict(X_test[:30]))\n",
        "print(y_test[:30])"
      ],
      "execution_count": null,
      "outputs": []
    },
    {
      "cell_type": "code",
      "metadata": {
        "id": "fRi5ej9tCSVE",
        "colab_type": "code",
        "colab": {}
      },
      "source": [
        "import matplotlib.pyplot as plt\n",
        "%matplotlib inline\n",
        "\n",
        "for num in range(5):\n",
        "    plt.axis(False); plt.imshow(X_train[num].reshape(28,28), cmap='gray'); plt.show()\n",
        "    print(y_train[num])"
      ],
      "execution_count": null,
      "outputs": []
    },
    {
      "cell_type": "code",
      "metadata": {
        "id": "oVpIw4LtCXvI",
        "colab_type": "code",
        "colab": {}
      },
      "source": [
        ""
      ],
      "execution_count": null,
      "outputs": []
    }
  ]
}