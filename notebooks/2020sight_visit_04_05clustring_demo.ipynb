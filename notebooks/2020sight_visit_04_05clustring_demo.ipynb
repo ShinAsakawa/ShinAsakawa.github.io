{
  "nbformat": 4,
  "nbformat_minor": 0,
  "metadata": {
    "colab": {
      "name": "2020sight_visit_04_05clustring_demo.ipynb",
      "provenance": [],
      "private_outputs": true,
      "authorship_tag": "ABX9TyPJLOqptk7xNp6CzMQYQOpD",
      "include_colab_link": true
    },
    "kernelspec": {
      "name": "python3",
      "display_name": "Python 3"
    }
  },
  "cells": [
    {
      "cell_type": "markdown",
      "metadata": {
        "id": "view-in-github",
        "colab_type": "text"
      },
      "source": [
        "<a href=\"https://colab.research.google.com/github/ShinAsakawa/ShinAsakawa.github.io/blob/master/notebooks/2020sight_visit_04_05clustring_demo.ipynb\" target=\"_parent\"><img src=\"https://colab.research.google.com/assets/colab-badge.svg\" alt=\"Open In Colab\"/></a>"
      ]
    },
    {
      "cell_type": "code",
      "metadata": {
        "id": "wIId-us6tBCN",
        "colab_type": "code",
        "colab": {}
      },
      "source": [
        "from sklearn import datasets\n",
        "from sklearn import cluster\n",
        "\n",
        "iris = datasets.load_iris()\n",
        "X, y = iris.data, iris.target\n",
        "print(iris.feature_names)\n",
        "print(X.shape, y.shape)\n",
        "print(X[:10])\n",
        "print(y[:10])"
      ],
      "execution_count": null,
      "outputs": []
    },
    {
      "cell_type": "code",
      "metadata": {
        "id": "ssfmxx5ZtIFO",
        "colab_type": "code",
        "colab": {}
      },
      "source": [
        "print(iris.target)"
      ],
      "execution_count": null,
      "outputs": []
    },
    {
      "cell_type": "code",
      "metadata": {
        "id": "QCYfqc5HtNeN",
        "colab_type": "code",
        "colab": {}
      },
      "source": [
        "k_means = cluster.KMeans(n_clusters=3)\n",
        "k_means.fit(X)\n",
        "print(k_means.labels_)\n"
      ],
      "execution_count": null,
      "outputs": []
    },
    {
      "cell_type": "markdown",
      "metadata": {
        "id": "umR2mSFq2upg",
        "colab_type": "text"
      },
      "source": [
        "<img src=\"https://github.com/rois-codh/kmnist/raw/master/images/kmnist_examples.png\">"
      ]
    },
    {
      "cell_type": "code",
      "metadata": {
        "id": "d5HjuEk-1SNx",
        "colab_type": "code",
        "colab": {}
      },
      "source": [
        "import requests\n",
        "\n",
        "# source: https://github.com/rois-codh/kmnist/blob/master/download_data.py\n",
        "url_list = ['http://codh.rois.ac.jp/kmnist/dataset/kmnist/kmnist-train-imgs.npz',\n",
        "            'http://codh.rois.ac.jp/kmnist/dataset/kmnist/kmnist-train-labels.npz',\n",
        "            'http://codh.rois.ac.jp/kmnist/dataset/kmnist/kmnist-test-imgs.npz',\n",
        "            'http://codh.rois.ac.jp/kmnist/dataset/kmnist/kmnist-test-labels.npz'\n",
        "]\n",
        "\n",
        "for url in url_list:\n",
        "    path = url.split('/')[-1]\n",
        "    r = requests.get(url, stream=True)\n",
        "    with open(path, 'wb') as f:\n",
        "        total_length = int(r.headers.get('content-length'))\n",
        "        print('Downloading {} - {:.1f} MB'.format(path, (total_length / 1024000)))\n",
        "\n",
        "        for chunk in r.iter_content(chunk_size=1024):\n",
        "            if chunk:\n",
        "                f.write(chunk)\n"
      ],
      "execution_count": null,
      "outputs": []
    },
    {
      "cell_type": "code",
      "metadata": {
        "id": "OWb5DVb4tp4f",
        "colab_type": "code",
        "colab": {}
      },
      "source": [
        "# kNN with neighbors=4 benchmark for Kuzushiji-MNIST\n",
        "# Acheives 92.10% test accuracy\n",
        "\n",
        "from sklearn.neighbors import KNeighborsClassifier\n",
        "import numpy as np\n",
        "\n",
        "def load(f):\n",
        "    return np.load(f)['arr_0']\n",
        "\n",
        "# Load the data\n",
        "x_train = load('kmnist-train-imgs.npz')\n",
        "x_test = load('kmnist-test-imgs.npz')\n",
        "y_train = load('kmnist-train-labels.npz')\n",
        "y_test = load('kmnist-test-labels.npz')\n",
        "\n",
        "# Flatten images\n",
        "x_train = x_train.reshape(-1, 784)\n",
        "x_test = x_test.reshape(-1, 784)\n",
        "\n",
        "data_size = 500\n",
        "x_train = x_train[:data_size]\n",
        "y_train = y_train[:data_size]\n",
        "x_test = x_test[:data_size]\n",
        "y_test = y_test[:data_size]\n",
        "\n",
        "clf = KNeighborsClassifier(n_neighbors=4, weights='distance', n_jobs=-1)\n",
        "print('Fitting', clf)\n",
        "clf.fit(x_train, y_train)\n",
        "print('Evaluating', clf)\n",
        "\n",
        "test_score = clf.score(x_test, y_test)\n",
        "print('Test accuracy:', test_score)"
      ],
      "execution_count": null,
      "outputs": []
    },
    {
      "cell_type": "code",
      "metadata": {
        "id": "zMmShEc13A3Y",
        "colab_type": "code",
        "colab": {}
      },
      "source": [
        "k_means = cluster.KMeans(n_clusters=10)\n",
        "k_means.fit(x_train)\n",
        "print(k_means.labels_[:100])\n",
        "print(y_train[:100])"
      ],
      "execution_count": null,
      "outputs": []
    }
  ]
}