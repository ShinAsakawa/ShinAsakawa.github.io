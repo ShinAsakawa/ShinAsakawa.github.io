{
  "nbformat": 4,
  "nbformat_minor": 0,
  "metadata": {
    "colab": {
      "name": "2020Sight_Visit_04_10logistice_regression.ipynb",
      "provenance": [],
      "private_outputs": true,
      "authorship_tag": "ABX9TyMbzyYF7gxjToaQjdEvKQP8",
      "include_colab_link": true
    },
    "kernelspec": {
      "name": "python3",
      "display_name": "Python 3"
    }
  },
  "cells": [
    {
      "cell_type": "markdown",
      "metadata": {
        "id": "view-in-github",
        "colab_type": "text"
      },
      "source": [
        "<a href=\"https://colab.research.google.com/github/ShinAsakawa/ShinAsakawa.github.io/blob/master/notebooks/2020Sight_Visit_04_10logistice_regression.ipynb\" target=\"_parent\"><img src=\"https://colab.research.google.com/assets/colab-badge.svg\" alt=\"Open In Colab\"/></a>"
      ]
    },
    {
      "cell_type": "code",
      "metadata": {
        "id": "7rlKccHKKZdF",
        "colab_type": "code",
        "colab": {}
      },
      "source": [
        "import numpy as np\n",
        "import scipy.optimize as scipy_opt\n",
        "import matplotlib.pyplot as plt\n",
        "%matplotlib inline"
      ],
      "execution_count": null,
      "outputs": []
    },
    {
      "cell_type": "markdown",
      "metadata": {
        "id": "d3oUsc9XLrSs",
        "colab_type": "text"
      },
      "source": [
        "$$\n",
        "f(𝑥;𝑎,𝑏,𝑐,𝑑)= \\frac{𝑎}{1+𝑒^{−𝑐(𝑥−𝑑)}}+𝑏\n",
        "$$\n",
        "\n",
        "あるいは\n",
        "\n",
        "$$\n",
        "f(𝑥;𝑑)= \\frac{1}{1+𝑒^{−(𝑥−𝑑)}}\n",
        "$$"
      ]
    },
    {
      "cell_type": "code",
      "metadata": {
        "id": "ckYXEDB_Kclm",
        "colab_type": "code",
        "colab": {}
      },
      "source": [
        "def full_model(x, a, b, c, d):\n",
        "    return a/(1. + np.exp(-c * (x-d))) + b\n",
        "\n",
        "def model(x, d):\n",
        "    return 1/(1. + np.exp(-(x-d)))\n"
      ],
      "execution_count": null,
      "outputs": []
    },
    {
      "cell_type": "code",
      "metadata": {
        "id": "JhVkQ_mZKos4",
        "colab_type": "code",
        "colab": {}
      },
      "source": [
        "a, c = np.random.exponential(size=2)\n",
        "b, d = np.random.randn(2)"
      ],
      "execution_count": null,
      "outputs": []
    },
    {
      "cell_type": "code",
      "metadata": {
        "id": "IK4ZIUxHKxgN",
        "colab_type": "code",
        "colab": {}
      },
      "source": [
        "n = 100\n",
        "x = np.linspace(-10., 10., n)\n",
        "y_model = model(x, d)\n",
        "y = y_model + 0.5 * np.random.randn(n)"
      ],
      "execution_count": null,
      "outputs": []
    },
    {
      "cell_type": "code",
      "metadata": {
        "id": "ACpEcTqCK77h",
        "colab_type": "code",
        "colab": {}
      },
      "source": [
        "plt.figure(figsize=(6,4));\n",
        "plt.plot(x, y_model, '--k');\n",
        "plt.plot(x, y, 'o');"
      ],
      "execution_count": null,
      "outputs": []
    },
    {
      "cell_type": "code",
      "metadata": {
        "id": "GQHCXIxgK-U4",
        "colab_type": "code",
        "colab": {}
      },
      "source": [
        "d"
      ],
      "execution_count": null,
      "outputs": []
    },
    {
      "cell_type": "code",
      "metadata": {
        "id": "3RxEzCLfLFel",
        "colab_type": "code",
        "colab": {}
      },
      "source": [
        "d_, _ = scipy_opt.curve_fit(model, x, y, (d))"
      ],
      "execution_count": null,
      "outputs": []
    },
    {
      "cell_type": "code",
      "metadata": {
        "id": "lgF9np8eLOFx",
        "colab_type": "code",
        "colab": {}
      },
      "source": [
        "y_fit = model(x, d_)"
      ],
      "execution_count": null,
      "outputs": []
    },
    {
      "cell_type": "code",
      "metadata": {
        "id": "DHHOw64vLbPl",
        "colab_type": "code",
        "colab": {}
      },
      "source": [
        "plt.figure(figsize=(6,4));\n",
        "plt.plot(x, y_model, '--k');\n",
        "plt.plot(x, y, 'o');\n",
        "plt.plot(x, y_fit, ',r');\n"
      ],
      "execution_count": null,
      "outputs": []
    }
  ]
}