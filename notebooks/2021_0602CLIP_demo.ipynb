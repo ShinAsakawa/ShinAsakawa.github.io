{
  "nbformat": 4,
  "nbformat_minor": 0,
  "metadata": {
    "colab": {
      "name": "2021_0602CLIP_demo.ipynb",
      "private_outputs": true,
      "provenance": [],
      "authorship_tag": "ABX9TyMjT0CqljYk2dMiZURFO27T",
      "include_colab_link": true
    },
    "kernelspec": {
      "name": "python3",
      "display_name": "Python 3"
    },
    "language_info": {
      "name": "python"
    },
    "accelerator": "GPU"
  },
  "cells": [
    {
      "cell_type": "markdown",
      "metadata": {
        "id": "view-in-github",
        "colab_type": "text"
      },
      "source": [
        "<a href=\"https://colab.research.google.com/github/ShinAsakawa/ShinAsakawa.github.io/blob/master/notebooks/2021_0602CLIP_demo.ipynb\" target=\"_parent\"><img src=\"https://colab.research.google.com/assets/colab-badge.svg\" alt=\"Open In Colab\"/></a>"
      ]
    },
    {
      "cell_type": "markdown",
      "metadata": {
        "id": "CDyCax-4WfiP"
      },
      "source": [
        "# CLIP (Contrastive Language–Image Pre-training) のデモ\n",
        "[ブログ](https://openai.com/blog/clip/), [論文](https://arxiv.org/pdf/2103.00020.pdf), [コード](https://github.com/openai/CLIP)\n",
        "\n",
        "a.k.a ゼロショット学習\n",
        "\n",
        "- 参入障壁を低くすることが期待される。産業応用が加速する（？）\n",
        "- 一方で，倫理，法律，社会的な問題を孕んでいるように思える\n"
      ]
    },
    {
      "cell_type": "markdown",
      "metadata": {
        "id": "li11bTfNUSZu"
      },
      "source": [
        "* 深層学習には大量のデータが必要\n",
        "* 従来モデルでは，人間が手動でラベル付けしたデータセットが用いられてきた。\n",
        "* データセットは構築には，人的にも高費用 かつ，用途が限定的\n",
        "* たとえばイメージネットでは 25,000人以上の作業者が 22,000 のカテゴリに 1,400万枚の画像に注釈を付けた\n",
        "* CLIP はインターネット上で既に公開されているテキストと画像のペアから学習\n",
        "* 背景となる基礎技術\n",
        "    * 自己教師付き学習 self-supervised learning\n",
        "    * 対比損失 contrastive loss\n",
        "    * 自己学習 self-training\n",
        "    * 生成モデル generative model\n",
        "\n",
        "\n",
        "- source: https://openai.com/blog/clip/\n",
        "\n",
        "<center>\n",
        "<img src=\"https://openaiassets.blob.core.windows.net/$web/clip/draft/20210104b/overview-a.svg\" style=\"width:77%\"><br/>\n",
        "\n",
        "<img src=\"https://openaiassets.blob.core.windows.net/$web/clip/draft/20210104b/overview-b.svg\" style=\"width:17%\"><br/>\n",
        "</center>"
      ]
    },
    {
      "cell_type": "code",
      "metadata": {
        "id": "Ftom1AhYRYD4"
      },
      "source": [
        "import subprocess\n",
        "CUDA_version = [s for s in subprocess.check_output([\"nvcc\", \"--version\"]).decode(\"UTF-8\").split(\", \") if s.startswith(\"release\")][0].split(\" \")[-1]\n",
        "print(\"CUDA version:\", CUDA_version)\n",
        "\n",
        "if CUDA_version == \"10.0\":\n",
        "    torch_version_suffix = \"+cu100\"\n",
        "elif CUDA_version == \"10.1\":\n",
        "    torch_version_suffix = \"+cu101\"\n",
        "elif CUDA_version == \"10.2\":\n",
        "    torch_version_suffix = \"\"\n",
        "else:\n",
        "    torch_version_suffix = \"+cu110\""
      ],
      "execution_count": null,
      "outputs": []
    },
    {
      "cell_type": "code",
      "metadata": {
        "id": "4K9GsjWkRcg6"
      },
      "source": [
        "!pip install torch==1.7.1{torch_version_suffix} torchvision==0.8.2{torch_version_suffix} -f https://download.pytorch.org/whl/torch_stable.html ftfy regex"
      ],
      "execution_count": null,
      "outputs": []
    },
    {
      "cell_type": "code",
      "metadata": {
        "id": "h9wk4Q0sRsPO"
      },
      "source": [
        "!pip install git+https://github.com/openai/CLIP.git"
      ],
      "execution_count": null,
      "outputs": []
    },
    {
      "cell_type": "code",
      "metadata": {
        "id": "V_i_GK4WR2DX"
      },
      "source": [
        "import numpy as np\n",
        "from PIL import Image\n",
        "import torch\n",
        "import clip\n",
        "#from tqdm.notebook import tqdm\n",
        "print(\"Torch version:\", torch.__version__)"
      ],
      "execution_count": null,
      "outputs": []
    },
    {
      "cell_type": "code",
      "metadata": {
        "id": "DeDrB9zNSyDC"
      },
      "source": [
        "from google.colab import files\n",
        "uploaded = files.upload()"
      ],
      "execution_count": null,
      "outputs": []
    },
    {
      "cell_type": "code",
      "metadata": {
        "id": "CuWVyoZVR_sG"
      },
      "source": [
        "device = \"cuda\" if torch.cuda.is_available() else \"cpu\"\n",
        "model, preprocess = clip.load(\"ViT-B/32\", device=device)\n",
        "\n",
        "image = preprocess(Image.open(\"CLIP.png\")).unsqueeze(0).to(device)\n",
        "text = clip.tokenize([\"a diagram\", \"a dog\", \"a cat\"]).to(device)\n",
        "\n",
        "with torch.no_grad():\n",
        "    image_features = model.encode_image(image)\n",
        "    text_features = model.encode_text(text)\n",
        "\n",
        "    logits_per_image, logits_per_text = model(image, text)\n",
        "    probs = logits_per_image.softmax(dim=-1).cpu().numpy()\n",
        "\n",
        "print(\"Label probs:\", probs)  # prints: [[0.9927937  0.00421068 0.00299572]]\n"
      ],
      "execution_count": null,
      "outputs": []
    },
    {
      "cell_type": "code",
      "metadata": {
        "id": "YSF2hp95TFWw"
      },
      "source": [
        "import matplotlib.pyplot as plt\n",
        "img = plt.imread('CLIP.png')\n",
        "\n",
        "plt.figure(figsize=(14,4))\n",
        "plt.axis('off')\n",
        "plt.imshow(img)"
      ],
      "execution_count": null,
      "outputs": []
    },
    {
      "cell_type": "code",
      "metadata": {
        "id": "Gzov9KLnTL7T"
      },
      "source": [
        ""
      ],
      "execution_count": null,
      "outputs": []
    }
  ]
}