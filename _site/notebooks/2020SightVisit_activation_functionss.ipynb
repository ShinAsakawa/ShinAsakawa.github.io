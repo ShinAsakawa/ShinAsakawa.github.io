{
  "nbformat": 4,
  "nbformat_minor": 0,
  "metadata": {
    "colab": {
      "name": "2020SightVisit_activation_functionss.ipynb",
      "provenance": [],
      "private_outputs": true,
      "collapsed_sections": [],
      "authorship_tag": "ABX9TyOBaAyUqETTR5Qxgq4i+QyP",
      "include_colab_link": true
    },
    "kernelspec": {
      "name": "python3",
      "display_name": "Python 3"
    }
  },
  "cells": [
    {
      "cell_type": "markdown",
      "metadata": {
        "id": "view-in-github",
        "colab_type": "text"
      },
      "source": [
        "<a href=\"https://colab.research.google.com/github/ShinAsakawa/ShinAsakawa.github.io/blob/master/notebooks/2020SightVisit_activation_functionss.ipynb\" target=\"_parent\"><img src=\"https://colab.research.google.com/assets/colab-badge.svg\" alt=\"Open In Colab\"/></a>"
      ]
    },
    {
      "cell_type": "markdown",
      "metadata": {
        "id": "FItC-yjbbnjP"
      },
      "source": [
        "# さまざまな出力関数\n",
        "- 浅川伸一\n",
        "- G 検定対策ビデオ教材\n"
      ]
    },
    {
      "cell_type": "code",
      "metadata": {
        "id": "MgKtFQoObEQd"
      },
      "source": [
        "# 必要なライブラリの輸入\n",
        "import numpy as np\n",
        "import matplotlib.pyplot as plt\n",
        "%matplotlib inline\n"
      ],
      "execution_count": null,
      "outputs": []
    },
    {
      "cell_type": "code",
      "metadata": {
        "id": "UgTXcdVDbLY4"
      },
      "source": [
        "\n",
        "# PLOT OF DIFFERENT OUTPUT USNITS\n",
        "x = np.linspace(-3, 4, 100)  # x の範囲を -3 から 4 までとし，その間を 100 分割して，それら 100 の各点 x の値とする\n",
        "relu = lambda x: np.maximum(0, x)  # 整流線型ユニット ReLU の定義\n",
        "leaky_relu = lambda x: np.maximum(0, x) + 0.1 * np.minimum(0, x)  # leaky ReLU の定義\n",
        "elu = lambda x: (x > 0)*x + (1 - (x > 0)) * (np.exp(x) - 1)  # elu の定義\n",
        "sigmoid = lambda x: (1+np.exp(-x))**(-1)   # シグモイド関数のの定義\n",
        "def softmax(w, t = 1.0):  # ソフトマックス関数の定義\n",
        "    e = np.exp(w)\n",
        "    dist = e / np.sum(e)\n",
        "    return dist\n",
        "x_softmax = softmax(x)\n",
        "\n",
        "plt.figure(figsize=(8,6))  # 描画サイズの定義，単位はインチ\n",
        "plt.plot(x, relu(x), label='ReLU', lw=2)   # ReLU の描画 lw は線の太さの指定\n",
        "plt.plot(x, leaky_relu(x), label='Leaky ReLU',lw=2)  # Leaky ReLU の描画\n",
        "plt.plot(x, elu(x), label='Elu', lw=2)  # elu の描画\n",
        "plt.plot(x, sigmoid(x), label='Sigmoid',lw=2)  # シグモイド関数の描画\n",
        "plt.legend(loc=2, fontsize=16)\n",
        "plt.title('Non-linearities', fontsize=20)\n",
        "plt.ylim([-2, 4])\n",
        "plt.xlim([-3, 3])\n",
        "\n",
        "# softmax\n",
        "# assert that all class probablities sum to one\n",
        "print(np.sum(x_softmax))\n",
        "assert abs(1.0 - x_softmax.sum()) < 1e-8"
      ],
      "execution_count": null,
      "outputs": []
    },
    {
      "cell_type": "code",
      "metadata": {
        "id": "YVRIGKHGck5H"
      },
      "source": [
        ""
      ],
      "execution_count": null,
      "outputs": []
    }
  ]
}