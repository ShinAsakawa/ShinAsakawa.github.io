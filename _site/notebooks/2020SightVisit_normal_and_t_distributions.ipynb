{
  "nbformat": 4,
  "nbformat_minor": 0,
  "metadata": {
    "colab": {
      "name": "2020SightVisit_normal_and_t_distributions.ipynb",
      "provenance": [],
      "private_outputs": true,
      "authorship_tag": "ABX9TyOTzOfbLrDVLxn18oqBGMFy",
      "include_colab_link": true
    },
    "kernelspec": {
      "name": "python3",
      "display_name": "Python 3"
    }
  },
  "cells": [
    {
      "cell_type": "markdown",
      "metadata": {
        "id": "view-in-github",
        "colab_type": "text"
      },
      "source": [
        "<a href=\"https://colab.research.google.com/github/ShinAsakawa/ShinAsakawa.github.io/blob/master/notebooks/2020SightVisit_normal_and_t_distributions.ipynb\" target=\"_parent\"><img src=\"https://colab.research.google.com/assets/colab-badge.svg\" alt=\"Open In Colab\"/></a>"
      ]
    },
    {
      "cell_type": "code",
      "metadata": {
        "id": "O1aLNvQV7EoM",
        "colab_type": "code",
        "colab": {}
      },
      "source": [
        "import numpy as np\n",
        "from scipy.stats import t\n",
        "from scipy.stats import norm\n",
        "import matplotlib.pyplot as plt\n",
        "%matplotlib inline\n",
        "\n",
        "x = np.linspace(-3,3,100)\n",
        "plt.figure(figsize=(12,8))\n",
        "plt.plot(x, norm.pdf(x), 'g-', lw=3, alpha=0.6, label='norm')\n",
        "plt.plot(x, t.pdf(x,1), 'r-', lw=3, alpha=0.6, label='t(df=1)')\n",
        "plt.plot(x, t.pdf(x,2), 'b-', lw=3, alpha=0.6, label='t(df=2)')\n",
        "plt.legend()\n",
        "plt.show()"
      ],
      "execution_count": null,
      "outputs": []
    },
    {
      "cell_type": "code",
      "metadata": {
        "id": "ElaOA3By7II3",
        "colab_type": "code",
        "colab": {}
      },
      "source": [
        ""
      ],
      "execution_count": null,
      "outputs": []
    }
  ]
}