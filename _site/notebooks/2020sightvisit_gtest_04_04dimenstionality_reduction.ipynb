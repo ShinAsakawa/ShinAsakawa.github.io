{
  "nbformat": 4,
  "nbformat_minor": 0,
  "metadata": {
    "colab": {
      "name": "2020sightvisit_gtest_04_04dimenstionality_reduction.ipynb",
      "provenance": [],
      "private_outputs": true,
      "authorship_tag": "ABX9TyNcH+rNrnVmkFq826XLBdgh",
      "include_colab_link": true
    },
    "kernelspec": {
      "name": "python3",
      "display_name": "Python 3"
    }
  },
  "cells": [
    {
      "cell_type": "markdown",
      "metadata": {
        "id": "view-in-github",
        "colab_type": "text"
      },
      "source": [
        "<a href=\"https://colab.research.google.com/github/ShinAsakawa/ShinAsakawa.github.io/blob/master/notebooks/2020sightvisit_gtest_04_04dimenstionality_reduction.ipynb\" target=\"_parent\"><img src=\"https://colab.research.google.com/assets/colab-badge.svg\" alt=\"Open In Colab\"/></a>"
      ]
    },
    {
      "cell_type": "code",
      "metadata": {
        "id": "Ab3ZTXj5UHoJ",
        "colab_type": "code",
        "colab": {}
      },
      "source": [
        "from sklearn.datasets import fetch_lfw_people\n",
        "import matplotlib.pyplot as plt\n",
        "%matplotlib inline"
      ],
      "execution_count": null,
      "outputs": []
    },
    {
      "cell_type": "code",
      "metadata": {
        "id": "9EXS4iqDUIqz",
        "colab_type": "code",
        "colab": {}
      },
      "source": [
        "lfw_people = fetch_lfw_people()"
      ],
      "execution_count": null,
      "outputs": []
    },
    {
      "cell_type": "code",
      "metadata": {
        "id": "rQLO7ch9UP1S",
        "colab_type": "code",
        "colab": {}
      },
      "source": [
        "n_samples, height, width = lfw_people.images.shape"
      ],
      "execution_count": null,
      "outputs": []
    },
    {
      "cell_type": "code",
      "metadata": {
        "id": "iBmLkSq0UkWG",
        "colab_type": "code",
        "colab": {}
      },
      "source": [
        "print(n_samples, height, width)"
      ],
      "execution_count": null,
      "outputs": []
    },
    {
      "cell_type": "code",
      "metadata": {
        "id": "j7QikbWsUhr5",
        "colab_type": "code",
        "colab": {}
      },
      "source": [
        "X = lfw_people.data\n",
        "n_features = X.shape[1]\n",
        "\n",
        "# the label to predict is the id of the person\n",
        "y = lfw_people.target\n",
        "target_names = lfw_people.target_names\n",
        "n_classes = target_names.shape[0]\n",
        "\n",
        "print(\"Total dataset size:\")\n",
        "print(\"n_samples: %d\" % n_samples)\n",
        "print(\"n_features: %d\" % n_features)\n",
        "print(\"n_classes: %d\" % n_classes)\n"
      ],
      "execution_count": null,
      "outputs": []
    },
    {
      "cell_type": "code",
      "metadata": {
        "id": "zMcVRdQeU0lD",
        "colab_type": "code",
        "colab": {}
      },
      "source": [
        "n = 3\n",
        "plt.axis(False); plt.imshow(X[n].reshape(height,width), cmap='gray')"
      ],
      "execution_count": null,
      "outputs": []
    },
    {
      "cell_type": "code",
      "metadata": {
        "id": "VZjt1lhwUqO6",
        "colab_type": "code",
        "colab": {}
      },
      "source": [
        "from sklearn.decomposition import PCA\n",
        "n_components = 10\n",
        "\n",
        "pca = PCA(n_components=n_components, svd_solver='randomized', whiten=True).fit(X) \n",
        "eigenfaces = pca.components_.reshape((n_components, height, width))\n"
      ],
      "execution_count": null,
      "outputs": []
    },
    {
      "cell_type": "code",
      "metadata": {
        "id": "6JlDIhLoW1eS",
        "colab_type": "code",
        "colab": {}
      },
      "source": [
        "print(type(eigenfaces), eigenfaces.shape)\n",
        "plt.axis(False); plt.imshow(eigenfaces[0], cmap='gray'); plt.show()\n",
        "plt.axis(False); plt.imshow(eigenfaces[1], cmap='gray'); plt.show()"
      ],
      "execution_count": null,
      "outputs": []
    }
  ]
}