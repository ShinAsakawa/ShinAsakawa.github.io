{
  "nbformat": 4,
  "nbformat_minor": 0,
  "metadata": {
    "colab": {
      "name": "2020SightVisit_Decision_tree_Random_forest_demo.ipynb",
      "provenance": [],
      "private_outputs": true,
      "collapsed_sections": [],
      "authorship_tag": "ABX9TyN1Gt3kE34cRDdFxa76iZZ4",
      "include_colab_link": true
    },
    "kernelspec": {
      "name": "python3",
      "display_name": "Python 3"
    }
  },
  "cells": [
    {
      "cell_type": "markdown",
      "metadata": {
        "id": "view-in-github",
        "colab_type": "text"
      },
      "source": [
        "<a href=\"https://colab.research.google.com/github/ShinAsakawa/ShinAsakawa.github.io/blob/master/notebooks/2020SightVisit_Decision_tree_Random_forest_demo.ipynb\" target=\"_parent\"><img src=\"https://colab.research.google.com/assets/colab-badge.svg\" alt=\"Open In Colab\"/></a>"
      ]
    },
    {
      "cell_type": "markdown",
      "metadata": {
        "id": "KKkZN0ZZ0Q4H",
        "colab_type": "text"
      },
      "source": [
        "Kaggle の タイタニック号沈没 データ `https://www.kaggle.com/c/titanic/data` から\n",
        "ファイルを入手してください。\n",
        "\n",
        "ただし，データの入手には kaggle のアカウントを作成する必要があります。\n",
        "著作権の問題ですので，kaggle アカウントを作成しなければデータを入手できません。\n",
        "アカウント作成はそれほど難しくありません。\n",
        "\n",
        "コマンドラインとしては以下のとおりです\n",
        "```bash\n",
        "$ kaggle competitions download -c titanic\n",
        "```"
      ]
    },
    {
      "cell_type": "code",
      "metadata": {
        "id": "zX9KNxp6zr-j",
        "colab_type": "code",
        "colab": {}
      },
      "source": [
        "from google.colab import files\n",
        "uploaded = files.upload()  # kaggle から入手した `titanic.csv` をアップロードしてください "
      ],
      "execution_count": null,
      "outputs": []
    },
    {
      "cell_type": "code",
      "metadata": {
        "id": "FYSknwzx1xOG",
        "colab_type": "code",
        "colab": {}
      },
      "source": [
        "# アップロードしたファイルを確認します\n",
        "!head titanic.csv\n",
        "!wc titanic.csv\n"
      ],
      "execution_count": null,
      "outputs": []
    },
    {
      "cell_type": "code",
      "metadata": {
        "id": "2HSUfsmYzqce",
        "colab_type": "code",
        "colab": {}
      },
      "source": [
        "import numpy as np\n",
        "import os\n",
        "import csv"
      ],
      "execution_count": null,
      "outputs": []
    },
    {
      "cell_type": "code",
      "metadata": {
        "id": "rHfG0SK11a1j",
        "colab_type": "code",
        "colab": {}
      },
      "source": [
        "X, y = np.zeros((891,5), dtype=np.float), np.zeros((891,),dtype=np.float)\n",
        "\n",
        "with open('titanic.csv', newline='') as csvfile:\n",
        "    reader = csv.DictReader(csvfile)\n",
        "    for row in reader:\n",
        "        id = int(row['PassengerId']) - 1\n",
        "        y[id,] = int(row['Survived'])\n",
        "        try:\n",
        "            X[id, 0] = float(row['Age'])\n",
        "        except:\n",
        "            continue\n",
        "        X[id,1] = 1 if row['Sex'] == 'male' else 0\n",
        "        _class = row['Pclass']\n",
        "        if _class == '1':\n",
        "            X[id,2] = 1\n",
        "        elif _class == '2':\n",
        "            X[id,3] = 1\n",
        "        else:\n",
        "            X[id,4] = 1"
      ],
      "execution_count": null,
      "outputs": []
    },
    {
      "cell_type": "code",
      "metadata": {
        "id": "aoIYbu9R1-6D",
        "colab_type": "code",
        "colab": {}
      },
      "source": [
        "feature_names = ['age', 'sex', 'first_class', 'second_class', 'third_class']\n",
        "print(X[:3])  # 確認のため最初の 3 行分のデータを表示"
      ],
      "execution_count": null,
      "outputs": []
    },
    {
      "cell_type": "code",
      "metadata": {
        "id": "P2LXoIAL2RVw",
        "colab_type": "code",
        "colab": {}
      },
      "source": [
        "from sklearn.model_selection import train_test_split\n",
        "# 訓練データとテストデータに分割\n",
        "X_train, X_test, y_train, y_test = train_test_split(X, y, test_size=0.20)"
      ],
      "execution_count": null,
      "outputs": []
    },
    {
      "cell_type": "code",
      "metadata": {
        "id": "eL6TGerw2e6t",
        "colab_type": "code",
        "colab": {}
      },
      "source": [
        "# 判断木の実行\n",
        "from sklearn import tree\n",
        "clf = tree.DecisionTreeClassifier(criterion='entropy', \n",
        "                                  max_depth=3,\n",
        "                                  min_samples_leaf=5)\n",
        "clf = clf.fit(X_train, y_train) # clf.fit() は訓練させることを意味します"
      ],
      "execution_count": null,
      "outputs": []
    },
    {
      "cell_type": "code",
      "metadata": {
        "id": "Z9SYpQ_A2xPj",
        "colab_type": "code",
        "colab": {}
      },
      "source": [
        "import pydotplus\n",
        "import io\n",
        "\n",
        "dot_data = io.StringIO() \n",
        "tree.export_graphviz(clf, out_file=dot_data, feature_names=['age','sex','1st_class','2nd_class','3rd_class']) \n",
        "graph = pydotplus.graph_from_dot_data(dot_data.getvalue()) \n",
        "graph.write_png('titanic.png') \n",
        "from IPython.core.display import Image \n",
        "Image(filename='titanic.png')"
      ],
      "execution_count": null,
      "outputs": []
    },
    {
      "cell_type": "code",
      "metadata": {
        "id": "k-ScW0XH21M0",
        "colab_type": "code",
        "colab": {}
      },
      "source": [
        "# 精度の表示\n",
        "from sklearn import metrics\n",
        "def measure_performance(X, y,\n",
        "                        clf, \n",
        "                        show_accuracy=True, \n",
        "                        show_classification_report=True, \n",
        "                        show_confusion_matrix=True):\n",
        "    y_pred=clf.predict(X)   \n",
        "    if show_accuracy:\n",
        "        print(\"Accuracy:{0:.3f}\".format(metrics.accuracy_score(y,y_pred)),\"\\n\")\n",
        "\n",
        "    if show_classification_report:\n",
        "        print(\"Classification report\")\n",
        "        print(metrics.classification_report(y,y_pred),\"\\n\")\n",
        "        \n",
        "    if show_confusion_matrix:\n",
        "        print(\"Confusion matrix\")\n",
        "        print(metrics.confusion_matrix(y,y_pred),\"\\n\")\n",
        "        \n",
        "measure_performance(X_train,\n",
        "                    y_train,\n",
        "                    clf, \n",
        "                    show_classification_report=True, \n",
        "                    show_confusion_matrix=True)"
      ],
      "execution_count": null,
      "outputs": []
    },
    {
      "cell_type": "code",
      "metadata": {
        "id": "5gMHl7dM3Ev9",
        "colab_type": "code",
        "colab": {}
      },
      "source": [
        "import graphviz\n",
        "dot_data = tree.export_graphviz(clf, out_file=None)\n",
        "graph = graphviz.Source(dot_data)\n",
        "graph.render(\"titanic\")\n",
        "\n",
        "\n",
        "dot_data = tree.export_graphviz(clf, \n",
        "                                out_file=None, \n",
        "                                feature_names=feature_names, \n",
        "                                class_names=['Survived', 'Not'],\n",
        "                                filled=True, rounded=True, \n",
        "                                special_characters=True)\n",
        "\n",
        "graph = graphviz.Source(dot_data) \n",
        "graph.render('titanic')                                                                                         "
      ],
      "execution_count": null,
      "outputs": []
    },
    {
      "cell_type": "code",
      "metadata": {
        "id": "xTH3IS2h3NlK",
        "colab_type": "code",
        "colab": {}
      },
      "source": [
        "files.download('titanic.pdf')"
      ],
      "execution_count": null,
      "outputs": []
    },
    {
      "cell_type": "code",
      "metadata": {
        "id": "3lhJuF913Yzt",
        "colab_type": "code",
        "colab": {}
      },
      "source": [
        "# ランダムフォレストによる分析\n",
        "from sklearn.ensemble import RandomForestClassifier\n",
        "clf = RandomForestClassifier(n_estimators=10)\n",
        "clf = clf.fit(X_train,y_train)\n",
        "\n",
        "measure_performance(X_train,\n",
        "                    y_train,\n",
        "                    clf, \n",
        "                    show_classification_report=True, \n",
        "                    show_confusion_matrix=True)"
      ],
      "execution_count": null,
      "outputs": []
    }
  ]
}