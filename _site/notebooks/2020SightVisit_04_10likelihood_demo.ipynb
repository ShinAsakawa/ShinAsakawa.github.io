{
  "nbformat": 4,
  "nbformat_minor": 0,
  "metadata": {
    "colab": {
      "name": "2020SightVisit_04_10likelihood_demo.ipynb",
      "provenance": [],
      "private_outputs": true,
      "collapsed_sections": [],
      "authorship_tag": "ABX9TyMidfV6snNW6/rxqwX8PmDZ",
      "include_colab_link": true
    },
    "kernelspec": {
      "name": "python3",
      "display_name": "Python 3"
    }
  },
  "cells": [
    {
      "cell_type": "markdown",
      "metadata": {
        "id": "view-in-github",
        "colab_type": "text"
      },
      "source": [
        "<a href=\"https://colab.research.google.com/github/ShinAsakawa/ShinAsakawa.github.io/blob/master/notebooks/2020SightVisit_04_10likelihood_demo.ipynb\" target=\"_parent\"><img src=\"https://colab.research.google.com/assets/colab-badge.svg\" alt=\"Open In Colab\"/></a>"
      ]
    },
    {
      "cell_type": "code",
      "metadata": {
        "id": "9RXPWbPI3R2Y",
        "colab_type": "code",
        "colab": {}
      },
      "source": [
        "import numpy as np"
      ],
      "execution_count": null,
      "outputs": []
    },
    {
      "cell_type": "code",
      "metadata": {
        "id": "Uz7L68N63UCZ",
        "colab_type": "code",
        "colab": {}
      },
      "source": [
        "trials = np.array([0, 1, 1, 1, 0, 0, 0, 0, 0, 0])\n",
        "np.sum(trials) \n",
        "theta = np.sum(trials)/len(trials)\n",
        "theta"
      ],
      "execution_count": null,
      "outputs": []
    },
    {
      "cell_type": "code",
      "metadata": {
        "id": "QOYAiI0R3pIw",
        "colab_type": "code",
        "colab": {}
      },
      "source": [
        "theta = np.linspace(0,1)\n",
        "l = theta ** 3.0 * (1.-theta) **7.0"
      ],
      "execution_count": null,
      "outputs": []
    },
    {
      "cell_type": "code",
      "metadata": {
        "id": "ulagV-664Kgq",
        "colab_type": "code",
        "colab": {}
      },
      "source": [
        "import matplotlib.pyplot as plt"
      ],
      "execution_count": null,
      "outputs": []
    },
    {
      "cell_type": "code",
      "metadata": {
        "id": "6ycWaN564SQX",
        "colab_type": "code",
        "colab": {}
      },
      "source": [
        "plt.plot(theta, l)"
      ],
      "execution_count": null,
      "outputs": []
    }
  ]
}