{
  "nbformat": 4,
  "nbformat_minor": 0,
  "metadata": {
    "colab": {
      "name": "2020SightVisit_EfficientNet_parameter_numbers.ipynb",
      "provenance": [],
      "private_outputs": true,
      "authorship_tag": "ABX9TyNaVxCJwDoBDqG9gRmWFGEt",
      "include_colab_link": true
    },
    "kernelspec": {
      "name": "python3",
      "display_name": "Python 3"
    }
  },
  "cells": [
    {
      "cell_type": "markdown",
      "metadata": {
        "id": "view-in-github",
        "colab_type": "text"
      },
      "source": [
        "<a href=\"https://colab.research.google.com/github/ShinAsakawa/ShinAsakawa.github.io/blob/master/notebooks/2020SightVisit_EfficientNet_parameter_numbers.ipynb\" target=\"_parent\"><img src=\"https://colab.research.google.com/assets/colab-badge.svg\" alt=\"Open In Colab\"/></a>"
      ]
    },
    {
      "cell_type": "markdown",
      "metadata": {
        "id": "lKxQiUPhKQnx"
      },
      "source": [
        "# G検定対策ビデオ教材\n",
        "\n",
        "## EfficientNet パラメータ数の確認\n",
        "- date: 2020-0928\n",
        "- author: 浅川伸一\n",
        "- references: https://towardsdatascience.com/complete-architectural-details-of-all-efficientnet-models-5fd5b736142"
      ]
    },
    {
      "cell_type": "code",
      "metadata": {
        "id": "IUfEX57GJ3Oy"
      },
      "source": [
        "import tensorflow as tf\n"
      ],
      "execution_count": null,
      "outputs": []
    },
    {
      "cell_type": "code",
      "metadata": {
        "id": "PjPWh6wtJ9nd"
      },
      "source": [
        "tf.__version__"
      ],
      "execution_count": null,
      "outputs": []
    },
    {
      "cell_type": "code",
      "metadata": {
        "id": "m14hydX3J7xE"
      },
      "source": [
        "IMG_SHAPE = (224, 224, 3)\n",
        "model0 = tf.keras.applications.EfficientNetB0(input_shape=IMG_SHAPE, include_top=False, weights=\"imagenet\")\n",
        "model7 = tf.keras.applications.EfficientNetB7(input_shape=IMG_SHAPE, include_top=False, weights=\"imagenet\")"
      ],
      "execution_count": null,
      "outputs": []
    },
    {
      "cell_type": "code",
      "metadata": {
        "id": "YeokDrxcKBIi"
      },
      "source": [
        "tf.keras.utils.plot_model(model0) # to draw and visualize\n",
        "tf.keras.utils.plot_model(model7) # to draw and visualize\n"
      ],
      "execution_count": null,
      "outputs": []
    },
    {
      "cell_type": "code",
      "metadata": {
        "id": "Oj-18gamKGtO"
      },
      "source": [
        "#model0.summary() # to see the list of layers and parameters\n",
        "model7.summary()"
      ],
      "execution_count": null,
      "outputs": []
    },
    {
      "cell_type": "markdown",
      "metadata": {
        "id": "FeNJ_pnkLAMF"
      },
      "source": [
        "\n",
        "<img src=\"https://miro.medium.com/max/1400/1*PTmdERX7H11aYT2P2gjJSQ.png\" style=\"width:44%\">\n"
      ]
    },
    {
      "cell_type": "code",
      "metadata": {
        "id": "OenziXL3KJA3"
      },
      "source": [
        ""
      ],
      "execution_count": null,
      "outputs": []
    }
  ]
}