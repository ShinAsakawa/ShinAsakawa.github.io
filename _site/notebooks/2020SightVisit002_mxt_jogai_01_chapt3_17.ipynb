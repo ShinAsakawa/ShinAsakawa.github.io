{
  "nbformat": 4,
  "nbformat_minor": 0,
  "metadata": {
    "kernelspec": {
      "display_name": "Python 3",
      "language": "python",
      "name": "python3"
    },
    "language_info": {
      "codemirror_mode": {
        "name": "ipython",
        "version": 3
      },
      "file_extension": ".py",
      "mimetype": "text/x-python",
      "name": "python",
      "nbconvert_exporter": "python",
      "pygments_lexer": "ipython3",
      "version": "3.7.7"
    },
    "colab": {
      "name": "2020SightVisit002_mxt_jogai_01_chapt3-17.ipynb",
      "provenance": [],
      "include_colab_link": true
    },
    "accelerator": "GPU",
    "widgets": {
      "application/vnd.jupyter.widget-state+json": {
        "0f1568fdfc8f4b10a65d9706a5627910": {
          "model_module": "@jupyter-widgets/controls",
          "model_name": "HBoxModel",
          "state": {
            "_view_name": "HBoxView",
            "_dom_classes": [],
            "_model_name": "HBoxModel",
            "_view_module": "@jupyter-widgets/controls",
            "_model_module_version": "1.5.0",
            "_view_count": null,
            "_view_module_version": "1.5.0",
            "box_style": "",
            "layout": "IPY_MODEL_ebb392c7a7f042a1ad2659b30e807a85",
            "_model_module": "@jupyter-widgets/controls",
            "children": [
              "IPY_MODEL_9f2e563780c240f6a6483913360fd9d7",
              "IPY_MODEL_e7909ec13d754d42a75b46f45dc9646a"
            ]
          }
        },
        "ebb392c7a7f042a1ad2659b30e807a85": {
          "model_module": "@jupyter-widgets/base",
          "model_name": "LayoutModel",
          "state": {
            "_view_name": "LayoutView",
            "grid_template_rows": null,
            "right": null,
            "justify_content": null,
            "_view_module": "@jupyter-widgets/base",
            "overflow": null,
            "_model_module_version": "1.2.0",
            "_view_count": null,
            "flex_flow": null,
            "width": null,
            "min_width": null,
            "border": null,
            "align_items": null,
            "bottom": null,
            "_model_module": "@jupyter-widgets/base",
            "top": null,
            "grid_column": null,
            "overflow_y": null,
            "overflow_x": null,
            "grid_auto_flow": null,
            "grid_area": null,
            "grid_template_columns": null,
            "flex": null,
            "_model_name": "LayoutModel",
            "justify_items": null,
            "grid_row": null,
            "max_height": null,
            "align_content": null,
            "visibility": null,
            "align_self": null,
            "height": null,
            "min_height": null,
            "padding": null,
            "grid_auto_rows": null,
            "grid_gap": null,
            "max_width": null,
            "order": null,
            "_view_module_version": "1.2.0",
            "grid_template_areas": null,
            "object_position": null,
            "object_fit": null,
            "grid_auto_columns": null,
            "margin": null,
            "display": null,
            "left": null
          }
        },
        "9f2e563780c240f6a6483913360fd9d7": {
          "model_module": "@jupyter-widgets/controls",
          "model_name": "FloatProgressModel",
          "state": {
            "_view_name": "ProgressView",
            "style": "IPY_MODEL_0bae8b315597472f9ea18ae7e4ead07a",
            "_dom_classes": [],
            "description": "",
            "_model_name": "FloatProgressModel",
            "bar_style": "info",
            "max": 1,
            "_view_module": "@jupyter-widgets/controls",
            "_model_module_version": "1.5.0",
            "value": 1,
            "_view_count": null,
            "_view_module_version": "1.5.0",
            "orientation": "horizontal",
            "min": 0,
            "description_tooltip": null,
            "_model_module": "@jupyter-widgets/controls",
            "layout": "IPY_MODEL_c8409d48170e44d5b29bd6214103e282"
          }
        },
        "e7909ec13d754d42a75b46f45dc9646a": {
          "model_module": "@jupyter-widgets/controls",
          "model_name": "HTMLModel",
          "state": {
            "_view_name": "HTMLView",
            "style": "IPY_MODEL_358a04b657aa4fbbbf16595174bf3ade",
            "_dom_classes": [],
            "description": "",
            "_model_name": "HTMLModel",
            "placeholder": "​",
            "_view_module": "@jupyter-widgets/controls",
            "_model_module_version": "1.5.0",
            "value": " 9920512/? [00:20&lt;00:00, 1570790.67it/s]",
            "_view_count": null,
            "_view_module_version": "1.5.0",
            "description_tooltip": null,
            "_model_module": "@jupyter-widgets/controls",
            "layout": "IPY_MODEL_b91c17958681432190a71395aaecd909"
          }
        },
        "0bae8b315597472f9ea18ae7e4ead07a": {
          "model_module": "@jupyter-widgets/controls",
          "model_name": "ProgressStyleModel",
          "state": {
            "_view_name": "StyleView",
            "_model_name": "ProgressStyleModel",
            "description_width": "initial",
            "_view_module": "@jupyter-widgets/base",
            "_model_module_version": "1.5.0",
            "_view_count": null,
            "_view_module_version": "1.2.0",
            "bar_color": null,
            "_model_module": "@jupyter-widgets/controls"
          }
        },
        "c8409d48170e44d5b29bd6214103e282": {
          "model_module": "@jupyter-widgets/base",
          "model_name": "LayoutModel",
          "state": {
            "_view_name": "LayoutView",
            "grid_template_rows": null,
            "right": null,
            "justify_content": null,
            "_view_module": "@jupyter-widgets/base",
            "overflow": null,
            "_model_module_version": "1.2.0",
            "_view_count": null,
            "flex_flow": null,
            "width": null,
            "min_width": null,
            "border": null,
            "align_items": null,
            "bottom": null,
            "_model_module": "@jupyter-widgets/base",
            "top": null,
            "grid_column": null,
            "overflow_y": null,
            "overflow_x": null,
            "grid_auto_flow": null,
            "grid_area": null,
            "grid_template_columns": null,
            "flex": null,
            "_model_name": "LayoutModel",
            "justify_items": null,
            "grid_row": null,
            "max_height": null,
            "align_content": null,
            "visibility": null,
            "align_self": null,
            "height": null,
            "min_height": null,
            "padding": null,
            "grid_auto_rows": null,
            "grid_gap": null,
            "max_width": null,
            "order": null,
            "_view_module_version": "1.2.0",
            "grid_template_areas": null,
            "object_position": null,
            "object_fit": null,
            "grid_auto_columns": null,
            "margin": null,
            "display": null,
            "left": null
          }
        },
        "358a04b657aa4fbbbf16595174bf3ade": {
          "model_module": "@jupyter-widgets/controls",
          "model_name": "DescriptionStyleModel",
          "state": {
            "_view_name": "StyleView",
            "_model_name": "DescriptionStyleModel",
            "description_width": "",
            "_view_module": "@jupyter-widgets/base",
            "_model_module_version": "1.5.0",
            "_view_count": null,
            "_view_module_version": "1.2.0",
            "_model_module": "@jupyter-widgets/controls"
          }
        },
        "b91c17958681432190a71395aaecd909": {
          "model_module": "@jupyter-widgets/base",
          "model_name": "LayoutModel",
          "state": {
            "_view_name": "LayoutView",
            "grid_template_rows": null,
            "right": null,
            "justify_content": null,
            "_view_module": "@jupyter-widgets/base",
            "overflow": null,
            "_model_module_version": "1.2.0",
            "_view_count": null,
            "flex_flow": null,
            "width": null,
            "min_width": null,
            "border": null,
            "align_items": null,
            "bottom": null,
            "_model_module": "@jupyter-widgets/base",
            "top": null,
            "grid_column": null,
            "overflow_y": null,
            "overflow_x": null,
            "grid_auto_flow": null,
            "grid_area": null,
            "grid_template_columns": null,
            "flex": null,
            "_model_name": "LayoutModel",
            "justify_items": null,
            "grid_row": null,
            "max_height": null,
            "align_content": null,
            "visibility": null,
            "align_self": null,
            "height": null,
            "min_height": null,
            "padding": null,
            "grid_auto_rows": null,
            "grid_gap": null,
            "max_width": null,
            "order": null,
            "_view_module_version": "1.2.0",
            "grid_template_areas": null,
            "object_position": null,
            "object_fit": null,
            "grid_auto_columns": null,
            "margin": null,
            "display": null,
            "left": null
          }
        },
        "51129124c33742988f37bb89c21f7c90": {
          "model_module": "@jupyter-widgets/controls",
          "model_name": "HBoxModel",
          "state": {
            "_view_name": "HBoxView",
            "_dom_classes": [],
            "_model_name": "HBoxModel",
            "_view_module": "@jupyter-widgets/controls",
            "_model_module_version": "1.5.0",
            "_view_count": null,
            "_view_module_version": "1.5.0",
            "box_style": "",
            "layout": "IPY_MODEL_eecc6d79a58d43849480774913a8989b",
            "_model_module": "@jupyter-widgets/controls",
            "children": [
              "IPY_MODEL_1e61af29f5e04658a20a046f372ee041",
              "IPY_MODEL_3a015476af2a40babb3df04fab0cccad"
            ]
          }
        },
        "eecc6d79a58d43849480774913a8989b": {
          "model_module": "@jupyter-widgets/base",
          "model_name": "LayoutModel",
          "state": {
            "_view_name": "LayoutView",
            "grid_template_rows": null,
            "right": null,
            "justify_content": null,
            "_view_module": "@jupyter-widgets/base",
            "overflow": null,
            "_model_module_version": "1.2.0",
            "_view_count": null,
            "flex_flow": null,
            "width": null,
            "min_width": null,
            "border": null,
            "align_items": null,
            "bottom": null,
            "_model_module": "@jupyter-widgets/base",
            "top": null,
            "grid_column": null,
            "overflow_y": null,
            "overflow_x": null,
            "grid_auto_flow": null,
            "grid_area": null,
            "grid_template_columns": null,
            "flex": null,
            "_model_name": "LayoutModel",
            "justify_items": null,
            "grid_row": null,
            "max_height": null,
            "align_content": null,
            "visibility": null,
            "align_self": null,
            "height": null,
            "min_height": null,
            "padding": null,
            "grid_auto_rows": null,
            "grid_gap": null,
            "max_width": null,
            "order": null,
            "_view_module_version": "1.2.0",
            "grid_template_areas": null,
            "object_position": null,
            "object_fit": null,
            "grid_auto_columns": null,
            "margin": null,
            "display": null,
            "left": null
          }
        },
        "1e61af29f5e04658a20a046f372ee041": {
          "model_module": "@jupyter-widgets/controls",
          "model_name": "FloatProgressModel",
          "state": {
            "_view_name": "ProgressView",
            "style": "IPY_MODEL_fd6a39fd0b8e4ca893b380ae1103dc91",
            "_dom_classes": [],
            "description": "",
            "_model_name": "FloatProgressModel",
            "bar_style": "info",
            "max": 1,
            "_view_module": "@jupyter-widgets/controls",
            "_model_module_version": "1.5.0",
            "value": 1,
            "_view_count": null,
            "_view_module_version": "1.5.0",
            "orientation": "horizontal",
            "min": 0,
            "description_tooltip": null,
            "_model_module": "@jupyter-widgets/controls",
            "layout": "IPY_MODEL_14c5c87439ad4993aa3075a205eb7d16"
          }
        },
        "3a015476af2a40babb3df04fab0cccad": {
          "model_module": "@jupyter-widgets/controls",
          "model_name": "HTMLModel",
          "state": {
            "_view_name": "HTMLView",
            "style": "IPY_MODEL_82ad6ba0c4664da9b8c89171f1bd1244",
            "_dom_classes": [],
            "description": "",
            "_model_name": "HTMLModel",
            "placeholder": "​",
            "_view_module": "@jupyter-widgets/controls",
            "_model_module_version": "1.5.0",
            "value": " 32768/? [00:17&lt;00:00, 93040.56it/s]",
            "_view_count": null,
            "_view_module_version": "1.5.0",
            "description_tooltip": null,
            "_model_module": "@jupyter-widgets/controls",
            "layout": "IPY_MODEL_36ee28c0258447a7af965b6bc4022a37"
          }
        },
        "fd6a39fd0b8e4ca893b380ae1103dc91": {
          "model_module": "@jupyter-widgets/controls",
          "model_name": "ProgressStyleModel",
          "state": {
            "_view_name": "StyleView",
            "_model_name": "ProgressStyleModel",
            "description_width": "initial",
            "_view_module": "@jupyter-widgets/base",
            "_model_module_version": "1.5.0",
            "_view_count": null,
            "_view_module_version": "1.2.0",
            "bar_color": null,
            "_model_module": "@jupyter-widgets/controls"
          }
        },
        "14c5c87439ad4993aa3075a205eb7d16": {
          "model_module": "@jupyter-widgets/base",
          "model_name": "LayoutModel",
          "state": {
            "_view_name": "LayoutView",
            "grid_template_rows": null,
            "right": null,
            "justify_content": null,
            "_view_module": "@jupyter-widgets/base",
            "overflow": null,
            "_model_module_version": "1.2.0",
            "_view_count": null,
            "flex_flow": null,
            "width": null,
            "min_width": null,
            "border": null,
            "align_items": null,
            "bottom": null,
            "_model_module": "@jupyter-widgets/base",
            "top": null,
            "grid_column": null,
            "overflow_y": null,
            "overflow_x": null,
            "grid_auto_flow": null,
            "grid_area": null,
            "grid_template_columns": null,
            "flex": null,
            "_model_name": "LayoutModel",
            "justify_items": null,
            "grid_row": null,
            "max_height": null,
            "align_content": null,
            "visibility": null,
            "align_self": null,
            "height": null,
            "min_height": null,
            "padding": null,
            "grid_auto_rows": null,
            "grid_gap": null,
            "max_width": null,
            "order": null,
            "_view_module_version": "1.2.0",
            "grid_template_areas": null,
            "object_position": null,
            "object_fit": null,
            "grid_auto_columns": null,
            "margin": null,
            "display": null,
            "left": null
          }
        },
        "82ad6ba0c4664da9b8c89171f1bd1244": {
          "model_module": "@jupyter-widgets/controls",
          "model_name": "DescriptionStyleModel",
          "state": {
            "_view_name": "StyleView",
            "_model_name": "DescriptionStyleModel",
            "description_width": "",
            "_view_module": "@jupyter-widgets/base",
            "_model_module_version": "1.5.0",
            "_view_count": null,
            "_view_module_version": "1.2.0",
            "_model_module": "@jupyter-widgets/controls"
          }
        },
        "36ee28c0258447a7af965b6bc4022a37": {
          "model_module": "@jupyter-widgets/base",
          "model_name": "LayoutModel",
          "state": {
            "_view_name": "LayoutView",
            "grid_template_rows": null,
            "right": null,
            "justify_content": null,
            "_view_module": "@jupyter-widgets/base",
            "overflow": null,
            "_model_module_version": "1.2.0",
            "_view_count": null,
            "flex_flow": null,
            "width": null,
            "min_width": null,
            "border": null,
            "align_items": null,
            "bottom": null,
            "_model_module": "@jupyter-widgets/base",
            "top": null,
            "grid_column": null,
            "overflow_y": null,
            "overflow_x": null,
            "grid_auto_flow": null,
            "grid_area": null,
            "grid_template_columns": null,
            "flex": null,
            "_model_name": "LayoutModel",
            "justify_items": null,
            "grid_row": null,
            "max_height": null,
            "align_content": null,
            "visibility": null,
            "align_self": null,
            "height": null,
            "min_height": null,
            "padding": null,
            "grid_auto_rows": null,
            "grid_gap": null,
            "max_width": null,
            "order": null,
            "_view_module_version": "1.2.0",
            "grid_template_areas": null,
            "object_position": null,
            "object_fit": null,
            "grid_auto_columns": null,
            "margin": null,
            "display": null,
            "left": null
          }
        },
        "2a209df9897d44019021310810d31d5c": {
          "model_module": "@jupyter-widgets/controls",
          "model_name": "HBoxModel",
          "state": {
            "_view_name": "HBoxView",
            "_dom_classes": [],
            "_model_name": "HBoxModel",
            "_view_module": "@jupyter-widgets/controls",
            "_model_module_version": "1.5.0",
            "_view_count": null,
            "_view_module_version": "1.5.0",
            "box_style": "",
            "layout": "IPY_MODEL_e93c837d17664b39934e444b1197945a",
            "_model_module": "@jupyter-widgets/controls",
            "children": [
              "IPY_MODEL_d50ebe820ffb44189feaf37c6711f97e",
              "IPY_MODEL_83a6caf3ea2248288007142003b4ddae"
            ]
          }
        },
        "e93c837d17664b39934e444b1197945a": {
          "model_module": "@jupyter-widgets/base",
          "model_name": "LayoutModel",
          "state": {
            "_view_name": "LayoutView",
            "grid_template_rows": null,
            "right": null,
            "justify_content": null,
            "_view_module": "@jupyter-widgets/base",
            "overflow": null,
            "_model_module_version": "1.2.0",
            "_view_count": null,
            "flex_flow": null,
            "width": null,
            "min_width": null,
            "border": null,
            "align_items": null,
            "bottom": null,
            "_model_module": "@jupyter-widgets/base",
            "top": null,
            "grid_column": null,
            "overflow_y": null,
            "overflow_x": null,
            "grid_auto_flow": null,
            "grid_area": null,
            "grid_template_columns": null,
            "flex": null,
            "_model_name": "LayoutModel",
            "justify_items": null,
            "grid_row": null,
            "max_height": null,
            "align_content": null,
            "visibility": null,
            "align_self": null,
            "height": null,
            "min_height": null,
            "padding": null,
            "grid_auto_rows": null,
            "grid_gap": null,
            "max_width": null,
            "order": null,
            "_view_module_version": "1.2.0",
            "grid_template_areas": null,
            "object_position": null,
            "object_fit": null,
            "grid_auto_columns": null,
            "margin": null,
            "display": null,
            "left": null
          }
        },
        "d50ebe820ffb44189feaf37c6711f97e": {
          "model_module": "@jupyter-widgets/controls",
          "model_name": "FloatProgressModel",
          "state": {
            "_view_name": "ProgressView",
            "style": "IPY_MODEL_4f9f56b1b7df4707a0057e89c92d7457",
            "_dom_classes": [],
            "description": "",
            "_model_name": "FloatProgressModel",
            "bar_style": "info",
            "max": 1,
            "_view_module": "@jupyter-widgets/controls",
            "_model_module_version": "1.5.0",
            "value": 1,
            "_view_count": null,
            "_view_module_version": "1.5.0",
            "orientation": "horizontal",
            "min": 0,
            "description_tooltip": null,
            "_model_module": "@jupyter-widgets/controls",
            "layout": "IPY_MODEL_45c08a28ae084e85b97ba5ab5620a5df"
          }
        },
        "83a6caf3ea2248288007142003b4ddae": {
          "model_module": "@jupyter-widgets/controls",
          "model_name": "HTMLModel",
          "state": {
            "_view_name": "HTMLView",
            "style": "IPY_MODEL_08177dea738348aaa0ac67149e9eaed5",
            "_dom_classes": [],
            "description": "",
            "_model_name": "HTMLModel",
            "placeholder": "​",
            "_view_module": "@jupyter-widgets/controls",
            "_model_module_version": "1.5.0",
            "value": " 1654784/? [00:16&lt;00:00, 726017.29it/s]",
            "_view_count": null,
            "_view_module_version": "1.5.0",
            "description_tooltip": null,
            "_model_module": "@jupyter-widgets/controls",
            "layout": "IPY_MODEL_cda4a6ff336e4dde9bb03ac2c839f50a"
          }
        },
        "4f9f56b1b7df4707a0057e89c92d7457": {
          "model_module": "@jupyter-widgets/controls",
          "model_name": "ProgressStyleModel",
          "state": {
            "_view_name": "StyleView",
            "_model_name": "ProgressStyleModel",
            "description_width": "initial",
            "_view_module": "@jupyter-widgets/base",
            "_model_module_version": "1.5.0",
            "_view_count": null,
            "_view_module_version": "1.2.0",
            "bar_color": null,
            "_model_module": "@jupyter-widgets/controls"
          }
        },
        "45c08a28ae084e85b97ba5ab5620a5df": {
          "model_module": "@jupyter-widgets/base",
          "model_name": "LayoutModel",
          "state": {
            "_view_name": "LayoutView",
            "grid_template_rows": null,
            "right": null,
            "justify_content": null,
            "_view_module": "@jupyter-widgets/base",
            "overflow": null,
            "_model_module_version": "1.2.0",
            "_view_count": null,
            "flex_flow": null,
            "width": null,
            "min_width": null,
            "border": null,
            "align_items": null,
            "bottom": null,
            "_model_module": "@jupyter-widgets/base",
            "top": null,
            "grid_column": null,
            "overflow_y": null,
            "overflow_x": null,
            "grid_auto_flow": null,
            "grid_area": null,
            "grid_template_columns": null,
            "flex": null,
            "_model_name": "LayoutModel",
            "justify_items": null,
            "grid_row": null,
            "max_height": null,
            "align_content": null,
            "visibility": null,
            "align_self": null,
            "height": null,
            "min_height": null,
            "padding": null,
            "grid_auto_rows": null,
            "grid_gap": null,
            "max_width": null,
            "order": null,
            "_view_module_version": "1.2.0",
            "grid_template_areas": null,
            "object_position": null,
            "object_fit": null,
            "grid_auto_columns": null,
            "margin": null,
            "display": null,
            "left": null
          }
        },
        "08177dea738348aaa0ac67149e9eaed5": {
          "model_module": "@jupyter-widgets/controls",
          "model_name": "DescriptionStyleModel",
          "state": {
            "_view_name": "StyleView",
            "_model_name": "DescriptionStyleModel",
            "description_width": "",
            "_view_module": "@jupyter-widgets/base",
            "_model_module_version": "1.5.0",
            "_view_count": null,
            "_view_module_version": "1.2.0",
            "_model_module": "@jupyter-widgets/controls"
          }
        },
        "cda4a6ff336e4dde9bb03ac2c839f50a": {
          "model_module": "@jupyter-widgets/base",
          "model_name": "LayoutModel",
          "state": {
            "_view_name": "LayoutView",
            "grid_template_rows": null,
            "right": null,
            "justify_content": null,
            "_view_module": "@jupyter-widgets/base",
            "overflow": null,
            "_model_module_version": "1.2.0",
            "_view_count": null,
            "flex_flow": null,
            "width": null,
            "min_width": null,
            "border": null,
            "align_items": null,
            "bottom": null,
            "_model_module": "@jupyter-widgets/base",
            "top": null,
            "grid_column": null,
            "overflow_y": null,
            "overflow_x": null,
            "grid_auto_flow": null,
            "grid_area": null,
            "grid_template_columns": null,
            "flex": null,
            "_model_name": "LayoutModel",
            "justify_items": null,
            "grid_row": null,
            "max_height": null,
            "align_content": null,
            "visibility": null,
            "align_self": null,
            "height": null,
            "min_height": null,
            "padding": null,
            "grid_auto_rows": null,
            "grid_gap": null,
            "max_width": null,
            "order": null,
            "_view_module_version": "1.2.0",
            "grid_template_areas": null,
            "object_position": null,
            "object_fit": null,
            "grid_auto_columns": null,
            "margin": null,
            "display": null,
            "left": null
          }
        },
        "6f1306d7345a441d90ed10144b6217b7": {
          "model_module": "@jupyter-widgets/controls",
          "model_name": "HBoxModel",
          "state": {
            "_view_name": "HBoxView",
            "_dom_classes": [],
            "_model_name": "HBoxModel",
            "_view_module": "@jupyter-widgets/controls",
            "_model_module_version": "1.5.0",
            "_view_count": null,
            "_view_module_version": "1.5.0",
            "box_style": "",
            "layout": "IPY_MODEL_4f5811cc56ef4188bc1b7c4e7b02e6cc",
            "_model_module": "@jupyter-widgets/controls",
            "children": [
              "IPY_MODEL_7a43579565d14814ad8d6af0c3714c6f",
              "IPY_MODEL_fd1b37651b0844919871377e5b128433"
            ]
          }
        },
        "4f5811cc56ef4188bc1b7c4e7b02e6cc": {
          "model_module": "@jupyter-widgets/base",
          "model_name": "LayoutModel",
          "state": {
            "_view_name": "LayoutView",
            "grid_template_rows": null,
            "right": null,
            "justify_content": null,
            "_view_module": "@jupyter-widgets/base",
            "overflow": null,
            "_model_module_version": "1.2.0",
            "_view_count": null,
            "flex_flow": null,
            "width": null,
            "min_width": null,
            "border": null,
            "align_items": null,
            "bottom": null,
            "_model_module": "@jupyter-widgets/base",
            "top": null,
            "grid_column": null,
            "overflow_y": null,
            "overflow_x": null,
            "grid_auto_flow": null,
            "grid_area": null,
            "grid_template_columns": null,
            "flex": null,
            "_model_name": "LayoutModel",
            "justify_items": null,
            "grid_row": null,
            "max_height": null,
            "align_content": null,
            "visibility": null,
            "align_self": null,
            "height": null,
            "min_height": null,
            "padding": null,
            "grid_auto_rows": null,
            "grid_gap": null,
            "max_width": null,
            "order": null,
            "_view_module_version": "1.2.0",
            "grid_template_areas": null,
            "object_position": null,
            "object_fit": null,
            "grid_auto_columns": null,
            "margin": null,
            "display": null,
            "left": null
          }
        },
        "7a43579565d14814ad8d6af0c3714c6f": {
          "model_module": "@jupyter-widgets/controls",
          "model_name": "FloatProgressModel",
          "state": {
            "_view_name": "ProgressView",
            "style": "IPY_MODEL_bbbb02ea59154595b458b6c31f8f06df",
            "_dom_classes": [],
            "description": "  0%",
            "_model_name": "FloatProgressModel",
            "bar_style": "info",
            "max": 1,
            "_view_module": "@jupyter-widgets/controls",
            "_model_module_version": "1.5.0",
            "value": 0,
            "_view_count": null,
            "_view_module_version": "1.5.0",
            "orientation": "horizontal",
            "min": 0,
            "description_tooltip": null,
            "_model_module": "@jupyter-widgets/controls",
            "layout": "IPY_MODEL_8eaff5ad87ea43c89b9170522cf0a089"
          }
        },
        "fd1b37651b0844919871377e5b128433": {
          "model_module": "@jupyter-widgets/controls",
          "model_name": "HTMLModel",
          "state": {
            "_view_name": "HTMLView",
            "style": "IPY_MODEL_6f09f7f457854a6a97be846156e02040",
            "_dom_classes": [],
            "description": "",
            "_model_name": "HTMLModel",
            "placeholder": "​",
            "_view_module": "@jupyter-widgets/controls",
            "_model_module_version": "1.5.0",
            "value": " 0/4542 [00:00&lt;?, ?it/s]",
            "_view_count": null,
            "_view_module_version": "1.5.0",
            "description_tooltip": null,
            "_model_module": "@jupyter-widgets/controls",
            "layout": "IPY_MODEL_39fcfa0ac5ba4fcebe74b449e0913b95"
          }
        },
        "bbbb02ea59154595b458b6c31f8f06df": {
          "model_module": "@jupyter-widgets/controls",
          "model_name": "ProgressStyleModel",
          "state": {
            "_view_name": "StyleView",
            "_model_name": "ProgressStyleModel",
            "description_width": "initial",
            "_view_module": "@jupyter-widgets/base",
            "_model_module_version": "1.5.0",
            "_view_count": null,
            "_view_module_version": "1.2.0",
            "bar_color": null,
            "_model_module": "@jupyter-widgets/controls"
          }
        },
        "8eaff5ad87ea43c89b9170522cf0a089": {
          "model_module": "@jupyter-widgets/base",
          "model_name": "LayoutModel",
          "state": {
            "_view_name": "LayoutView",
            "grid_template_rows": null,
            "right": null,
            "justify_content": null,
            "_view_module": "@jupyter-widgets/base",
            "overflow": null,
            "_model_module_version": "1.2.0",
            "_view_count": null,
            "flex_flow": null,
            "width": null,
            "min_width": null,
            "border": null,
            "align_items": null,
            "bottom": null,
            "_model_module": "@jupyter-widgets/base",
            "top": null,
            "grid_column": null,
            "overflow_y": null,
            "overflow_x": null,
            "grid_auto_flow": null,
            "grid_area": null,
            "grid_template_columns": null,
            "flex": null,
            "_model_name": "LayoutModel",
            "justify_items": null,
            "grid_row": null,
            "max_height": null,
            "align_content": null,
            "visibility": null,
            "align_self": null,
            "height": null,
            "min_height": null,
            "padding": null,
            "grid_auto_rows": null,
            "grid_gap": null,
            "max_width": null,
            "order": null,
            "_view_module_version": "1.2.0",
            "grid_template_areas": null,
            "object_position": null,
            "object_fit": null,
            "grid_auto_columns": null,
            "margin": null,
            "display": null,
            "left": null
          }
        },
        "6f09f7f457854a6a97be846156e02040": {
          "model_module": "@jupyter-widgets/controls",
          "model_name": "DescriptionStyleModel",
          "state": {
            "_view_name": "StyleView",
            "_model_name": "DescriptionStyleModel",
            "description_width": "",
            "_view_module": "@jupyter-widgets/base",
            "_model_module_version": "1.5.0",
            "_view_count": null,
            "_view_module_version": "1.2.0",
            "_model_module": "@jupyter-widgets/controls"
          }
        },
        "39fcfa0ac5ba4fcebe74b449e0913b95": {
          "model_module": "@jupyter-widgets/base",
          "model_name": "LayoutModel",
          "state": {
            "_view_name": "LayoutView",
            "grid_template_rows": null,
            "right": null,
            "justify_content": null,
            "_view_module": "@jupyter-widgets/base",
            "overflow": null,
            "_model_module_version": "1.2.0",
            "_view_count": null,
            "flex_flow": null,
            "width": null,
            "min_width": null,
            "border": null,
            "align_items": null,
            "bottom": null,
            "_model_module": "@jupyter-widgets/base",
            "top": null,
            "grid_column": null,
            "overflow_y": null,
            "overflow_x": null,
            "grid_auto_flow": null,
            "grid_area": null,
            "grid_template_columns": null,
            "flex": null,
            "_model_name": "LayoutModel",
            "justify_items": null,
            "grid_row": null,
            "max_height": null,
            "align_content": null,
            "visibility": null,
            "align_self": null,
            "height": null,
            "min_height": null,
            "padding": null,
            "grid_auto_rows": null,
            "grid_gap": null,
            "max_width": null,
            "order": null,
            "_view_module_version": "1.2.0",
            "grid_template_areas": null,
            "object_position": null,
            "object_fit": null,
            "grid_auto_columns": null,
            "margin": null,
            "display": null,
            "left": null
          }
        }
      }
    }
  },
  "cells": [
    {
      "cell_type": "markdown",
      "metadata": {
        "id": "view-in-github",
        "colab_type": "text"
      },
      "source": [
        "<a href=\"https://colab.research.google.com/github/ShinAsakawa/ShinAsakawa.github.io/blob/master/notebooks/2020SightVisit002_mxt_jogai_01_chapt3_17.ipynb\" target=\"_parent\"><img src=\"https://colab.research.google.com/assets/colab-badge.svg\" alt=\"Open In Colab\"/></a>"
      ]
    },
    {
      "cell_type": "markdown",
      "metadata": {
        "id": "JI67iWnBG-ev",
        "colab_type": "text"
      },
      "source": [
        "- 出典: 2020-0702情報とデータサイエンスpart2\n",
        "\n",
        "# 参考資料\n",
        "文部科学省の[高等学校情報科「情報II」教員研修用教材(本編)](https://www.mext.go.jp/a_menu/shotou/zyouhou/detail/mext_00742.html) に掲載されている情報\n",
        "\n",
        "- [第3章 情報とデータサイエンス 前半](https://www.mext.go.jp/content/20200702-mxt_jogai01-000007843_004.pdf)\n",
        "- [第3章 情報とデータサイエンス 後半](https://www.mext.go.jp/content/20200609-mxt_jogai01-000007843_007.pdf)\n",
        "\n",
        "- page 160 から 引用\n",
        "\n",
        "## ニューラルネットワークとその仕組み\n",
        "\n",
        "## 研修内容\n",
        "* 生徒に「自律性」と「適応性」の観点からAIの定義を考えさせられるようになる。\n",
        "* 機械学習，AI，ディープラーニングの言葉の違いとそれぞれの関連を生徒に示せるようになる。\n",
        "* ニューラルネットワークの概念と仕組みを生徒に理解させられるようになる。特に「学習」について実習を交えた授業を展開し，生徒がより理解を深められる授業をできるようになる。\n",
        "* 生徒とニューラルネットワークによる手書き文字認識等のサンプルプログラムを実行し，仕組みを確認し，ニューラルネットワークの有用性とAI技術の活用を考えられるようになる。\n",
        "\n",
        "### 1. 人工知能（AI）とは何か，AIの活用例\n",
        "\n",
        "この学習項目では， 人工知能（Artificial Intelligence，AI，以後AIと表記）の定義や活用事例から AI がどのようなものかを捉えることを目標とする。\n",
        "AI は人によって想像するものが異なる幅広い意味を含んだ語であり，明確な定義はない。\n",
        "例えば AI のキーワードに自律性 (Autonomy) と適応性 (Adaptivity) がある。\n",
        "以下の活用例から自律性と適応性を確認する。\n",
        "\n",
        "* 自動車の自動運転技術\n",
        "* 写真に写っている顔への自動タグ付け\n",
        "* Webの閲覧状況からのお薦め表示\n",
        "\n",
        "自動車の自動運転では，突然前に障害物が飛び出してきたときやカーブした道等の様々な状況下で，自動車が自分で判断して適切にブレーキを踏みハンドルを切る。\n",
        "写真の自動タグ付けではポインターを指定せずに撮影した画像から顔を認識する。\n",
        "自律性とはこのように，人の判断なしに状況に応じて動作する能力である。\n",
        "適応性とは，大量のデータから特徴を見つけ出し状況判断ができる，あるいは与えられた正解データと新たなデータを照合することで自らのプログラムの精度を上げていくことができる（学習）能力である。\n",
        "前述の例では Web の閲覧状況から閲覧者に合わせた情報を表示する。\n",
        "\n",
        "### 2. ニューラルネットワークの由来\n",
        "\n",
        "この学習項目では，ニューラルネットワーク，AI，ディープラーニング，機械学習の関連を整理する。\n",
        "ニューラルネットワークとは人間の神経細胞とその仕組みに似せて考えられたコンピュータの処理である。\n",
        "人間の神経細胞（ニューロン）は，受容体を持つ樹状突起と軸索，シナプスの組み合わせ 図表３ で構成され，シナプス間を神経伝達物質といわれる化学物質が伝達されることで成り立っている。\n",
        "\n",
        "このモデルを使ったネットワークの原形が 1943 年に発表された。\n",
        "ニューラルネットワークは，膨大な計算量とその計算時間が大量であること，隠れ層の重み付けを決めるアルゴリズムの難しさから長らく非現実的とされた（冬の時代）。\n",
        "その間，人が特徴量を指定して行う機械学習が活用されるようになったが，人によるコンピュータの学習であり，限界が見られていた。\n",
        "その後，計算処理を分散して実行できる GPU の登場と，コンピュータの計算処理速度の向上により重み付けの調整が人の手から離れ，コンピュータが計算を繰り返すことで最適解を探すこと（自律学習）が可能となった。このコンピュータによる学習の繰り返しを多層ニューラルネットワークで表したものをディープラーニング（深層学習）という。\n",
        "これにより AI の予測分類精度がそれまでのものから劇的に上がり，ニューラルネットワークを基にした AI 技術が大きく注目されるようになった図表４ 。\n",
        "\n",
        "### 3. ニューラルネットワークの概念\n",
        "この学習項目では，ニューラルネットワークの概念と仕組みを演習しながら学び，理解することを目標とする。\n",
        "ニューラルネットワークは大きく分けて「入力」「隠れ層（中間層）」「出力層」で構成されている図表５ 。\n",
        "隠れ層を次の入力として別の隠れ層に渡していくことを繰り返すと図表６ ，複数の層の隠れ層をもつ深層学習（Deep Learning）となり，より複雑な出力に対応できる。\n",
        "一般に隠れ層と出力層を合わせてネットワークの層の数を表す。\n",
        "各ニューロンでは下記のように計算を行っている。\n",
        "\n",
        "```\n",
        "（入力）　×　（重み付け）　＋　（バイアス）\n",
        "```\n",
        "\n",
        "その後，各ニューロンの結果を活性化関数に入れて（発火という）出力とする。\n",
        "\n",
        "例えば手書き文字が 4 か 9 か認識したいとする。\n",
        "入力は手書き文字画像のピクセルごとのグレースケールの階調を値にして表した配列である。\n",
        "出力は手書き文字が 4 であれば 0，9 であれば 1 とする。\n",
        "各ピクセルの値に重み付けとバイアスの値を加えることでどちらかの出力値に寄せていく。\n",
        "最初の重み付けとバイアスはコンピュータがランダムに行い，学習の過程で自律的にそれぞれ修整していく。\n",
        "活性化関数は，隠れ層の計算結果が一定の値（閾値）を超えたときに大きな値を得られる関数である。具体的な活性化関数については次節で扱う。\n",
        "\n",
        "### 4. ニューラルネットワークの仕組み\n",
        "この学習項目では，ニューラルネットワークの仕組みを計算とプログラムで表現し，ニューラルネットワークの計算や活性化関数の働きを理解しよう。\n",
        "\n",
        "#### （1）ニューラルネットワークの計算\n",
        "入力値が複数の場合や隠れ層が多層になったときは行列の乗算（内積，ドット積）を行う図表８ 。\n",
        "\n",
        "### 演習 3\n",
        "ニューラルネットワークの計算を確認しましょう。\n",
        "入力（0.3，0.8，1.2，0.7），重み付け（1，2，1，1），バイアス0.2 のときの出力結果を求めましょう。"
      ]
    },
    {
      "cell_type": "code",
      "metadata": {
        "id": "A8UbYrcYG-ex",
        "colab_type": "code",
        "colab": {
          "base_uri": "https://localhost:8080/",
          "height": 153
        },
        "outputId": "6b33ae2c-63c2-4af7-aa14-96f2588a77ba"
      },
      "source": [
        "# colab では直下行頭の # を削除して実行してください\n",
        "!pip install japanize-matplotlib"
      ],
      "execution_count": null,
      "outputs": [
        {
          "output_type": "stream",
          "text": [
            "Requirement already satisfied: japanize-matplotlib in /usr/local/lib/python3.6/dist-packages (1.1.2)\n",
            "Requirement already satisfied: matplotlib in /usr/local/lib/python3.6/dist-packages (from japanize-matplotlib) (3.2.2)\n",
            "Requirement already satisfied: kiwisolver>=1.0.1 in /usr/local/lib/python3.6/dist-packages (from matplotlib->japanize-matplotlib) (1.2.0)\n",
            "Requirement already satisfied: cycler>=0.10 in /usr/local/lib/python3.6/dist-packages (from matplotlib->japanize-matplotlib) (0.10.0)\n",
            "Requirement already satisfied: numpy>=1.11 in /usr/local/lib/python3.6/dist-packages (from matplotlib->japanize-matplotlib) (1.18.5)\n",
            "Requirement already satisfied: python-dateutil>=2.1 in /usr/local/lib/python3.6/dist-packages (from matplotlib->japanize-matplotlib) (2.8.1)\n",
            "Requirement already satisfied: pyparsing!=2.0.4,!=2.1.2,!=2.1.6,>=2.0.1 in /usr/local/lib/python3.6/dist-packages (from matplotlib->japanize-matplotlib) (2.4.7)\n",
            "Requirement already satisfied: six in /usr/local/lib/python3.6/dist-packages (from cycler>=0.10->matplotlib->japanize-matplotlib) (1.15.0)\n"
          ],
          "name": "stdout"
        }
      ]
    },
    {
      "cell_type": "code",
      "metadata": {
        "id": "QJselEuKG-e2",
        "colab_type": "code",
        "colab": {
          "base_uri": "https://localhost:8080/",
          "height": 68
        },
        "outputId": "0d253d98-513e-4798-dfb7-8766da4db733"
      },
      "source": [
        "import matplotlib.pyplot as plt\n",
        "import japanize_matplotlib"
      ],
      "execution_count": 2,
      "outputs": [
        {
          "output_type": "stream",
          "text": [
            "/usr/local/lib/python3.6/dist-packages/japanize_matplotlib/japanize_matplotlib.py:15: MatplotlibDeprecationWarning: \n",
            "The createFontList function was deprecated in Matplotlib 3.2 and will be removed two minor releases later. Use FontManager.addfont instead.\n",
            "  font_list = font_manager.createFontList(font_files)\n"
          ],
          "name": "stderr"
        }
      ]
    },
    {
      "cell_type": "code",
      "metadata": {
        "id": "zgYJLns0G-e7",
        "colab_type": "code",
        "colab": {
          "base_uri": "https://localhost:8080/",
          "height": 69
        },
        "outputId": "c3fa8b83-58ef-4565-9dad-eb26a16c8e85"
      },
      "source": [
        "import numpy as np\n",
        "\n",
        "X = np.array([0.3, 0.8, 1.2, 0.7])\n",
        "W = np.array([1, 2, 1, 1])\n",
        "B = 0.2\n",
        "\n",
        "A = np.dot(X,W) + B\n",
        "print(A)  # 出力結果は 4\n",
        "\n",
        "\"\"\"\n",
        "Xは入力，Wは重み付け，Bはバイアスを表す。\n",
        "1 行目では，Pythonで計算処理ができるパッケージ numpy を np として使えるようにしている。\n",
        "2 〜 4行目で演習3と同じ値をそれぞれに用意している。\n",
        "5 行目で numpy パッケージにあるdot関数を使って行列計算をしてバイアスを加え，出力 A としている。\n",
        "最後に print 文で計算結果を出力している。\n",
        "この隠れ層での計算の後，活性化関数を用いる。\n",
        "\"\"\""
      ],
      "execution_count": 3,
      "outputs": [
        {
          "output_type": "stream",
          "text": [
            "4.0\n"
          ],
          "name": "stdout"
        },
        {
          "output_type": "execute_result",
          "data": {
            "application/vnd.google.colaboratory.intrinsic+json": {
              "type": "string"
            },
            "text/plain": [
              "'\\nXは入力，Wは重み付け，Bはバイアスを表す。\\n1 行目では，Pythonで計算処理ができるパッケージ numpy を np として使えるようにしている。\\n2 〜 4行目で演習3と同じ値をそれぞれに用意している。\\n5 行目で numpy パッケージにあるdot関数を使って行列計算をしてバイアスを加え，出力 A としている。\\n最後に print 文で計算結果を出力している。\\nこの隠れ層での計算の後，活性化関数を用いる。\\n'"
            ]
          },
          "metadata": {
            "tags": []
          },
          "execution_count": 3
        }
      ]
    },
    {
      "cell_type": "markdown",
      "metadata": {
        "id": "aG0FAZxdG-fB",
        "colab_type": "text"
      },
      "source": [
        "### （2）活性化関数\n",
        "各ニューロンの出力に作用させる関数を活性化関数という。\n",
        "活性化関数は各ニューロンの結果の正確さを確率で表したものである。\n",
        "論理演算のように入力に対して 0 か 1 を返すような 2 値に分類ができる場合はステップ関数(図表９) を用いる。\n",
        "はっきりとした分類ができる分類器をパーセプトロンという。\n",
        "ニューラルネットワークでは論理演算のように 2 値に分けられるとは限らない。\n",
        "猫か犬かのような2値分類の場合には，シグモイド関数 (図表10) やReLU（ランプ）関数を使い，猫か犬か鳥かといった複数に分類する場合はソフトマックス関数が多く用いられている(図表11)。"
      ]
    },
    {
      "cell_type": "code",
      "metadata": {
        "id": "pcZLuqTrG-fC",
        "colab_type": "code",
        "colab": {}
      },
      "source": [
        "import matplotlib.pyplot as plt\n",
        "%matplotlib inline\n",
        "\n",
        "class step(object):\n",
        "    @staticmethod\n",
        "    def forward(x):\n",
        "        z = np.zeros_like(x)\n",
        "        z = [1. if x_ >= 0 else 0. for x_ in x]\n",
        "        return z\n",
        "\n",
        "\n",
        "class sigmoid(object):\n",
        "    \"\"\"Logistic Sigmoid function, that returns from 0 to 1.\n",
        "\n",
        "    Reference:\n",
        "        David E. Rumelhart, Geoffrey E. Hinton, and Ronald J. williams.\n",
        "        Learning representations by back-propagating errors. Nature,\n",
        "        323(6088):533-536, 1986\n",
        "\n",
        "    Link:\n",
        "        [https://timvieira.github.io/blog/post/2014/02/11/exp-normalize-trick/].\n",
        "    \"\"\"\n",
        "\n",
        "    @staticmethod\n",
        "    def forward(x):\n",
        "        if x.any() >= 0:\n",
        "            z = np.exp(x)\n",
        "        else:\n",
        "            z = np.exp(-x)\n",
        "        return z / (1 + z)\n",
        "        #return 1 / (1. + np.exp(-x))\n",
        "\n",
        "    @staticmethod\n",
        "    def backward(y):\n",
        "        #y = sigmoid.forward(x)\n",
        "        #return x * (1. - x)\n",
        "        return y * (1. - y)\n",
        "\n"
      ],
      "execution_count": 4,
      "outputs": []
    },
    {
      "cell_type": "code",
      "metadata": {
        "id": "M0wjhGlMG-fH",
        "colab_type": "code",
        "colab": {
          "base_uri": "https://localhost:8080/",
          "height": 543
        },
        "outputId": "c8573570-9ee6-45b2-acc4-1bab1ab57e36"
      },
      "source": [
        "x = np.linspace(-5,5)\n",
        "\n",
        "plt.title('ステップ関数'); plt.plot(x, step.forward(x)); plt.show()\n",
        "plt.title('シグモイド関数'); plt.plot(x, sigmoid.forward(x));plt.show()"
      ],
      "execution_count": 5,
      "outputs": [
        {
          "output_type": "display_data",
          "data": {
            "image/png": "[encoded data removed]",
            "text/plain": [
              "<Figure size 432x288 with 1 Axes>"
            ]
          },
          "metadata": {
            "tags": [],
            "needs_background": "light"
          }
        },
        {
          "output_type": "display_data",
          "data": {
            "image/png": "[encoded data removed]",
            "text/plain": [
              "<Figure size 432x288 with 1 Axes>"
            ]
          },
          "metadata": {
            "tags": [],
            "needs_background": "light"
          }
        }
      ]
    },
    {
      "cell_type": "code",
      "metadata": {
        "id": "en2wD7XLG-fL",
        "colab_type": "code",
        "colab": {
          "base_uri": "https://localhost:8080/",
          "height": 280
        },
        "outputId": "4412a685-41ee-4f08-dd32-858d9395b681"
      },
      "source": [
        "from scipy.special import softmax \n",
        "\n",
        "a = np.array([4, 5, 6])\n",
        "label=['p(4)', 'p(5)', 'p(6)']\n",
        "\n",
        "plt.bar([1,2,3], softmax(a), tick_label=label)\n",
        "plt.title(\"ソフトマックス関数\"); plt.ylim([0,0.8]); plt.show()"
      ],
      "execution_count": 6,
      "outputs": [
        {
          "output_type": "display_data",
          "data": {
            "image/png": "[encoded data removed]",
            "text/plain": [
              "<Figure size 432x288 with 1 Axes>"
            ]
          },
          "metadata": {
            "tags": [],
            "needs_background": "light"
          }
        }
      ]
    },
    {
      "cell_type": "markdown",
      "metadata": {
        "id": "4WyyVPeJG-fQ",
        "colab_type": "text"
      },
      "source": [
        "### 5. ニューラルネットワークの学習\n",
        "ニューラルネットワークで学習する際に必要な技術\n",
        "を確認する。\n",
        "\n",
        "#### （1）損失関数\n",
        "ニューラルネットワークの性能の良し悪しを測る指標を損失関数という。\n",
        "損失関数では予測データと教師データとの誤差を表し，この値が0に近いほど性能がよい。\n",
        "ニューラルネットワークの学習は，この損失関数の結果が最小となるような重みを探していくことである。\n",
        "学習に使われる計算については次項「（2）勾配降下法」で説明する。損失関数には状況に応じて様々な関数を使う。\n",
        "2乗和誤差や交差エントロピー誤差が有名である。2乗和誤差とは学習結果と教師データの差分を2乗した合計を2で割ったものである。\n",
        "\n",
        "$$\n",
        "E=\\frac{1}{2}\\sum_{k=1}^n\\left(y_k-t_k\\right)^2\n",
        "$$\n",
        "\n",
        "#### （2）勾配降下法\n",
        "ニューラルネットワークは学習を繰り返し，損失関数の結果が最も小さくなる重みやバイアスを探している。\n",
        "ニューラルネットワークの学習では，最適な重みやバイアスを勾配降下法（最急降下法）によって探すことが多い(図表12)。\n",
        "勾配降下法は，勾配を使って損失関数の値を最も減らす方向を求める方法である。\n",
        "勾配はある地点での各重みにおける損失関数の傾きである。\n",
        "全ての重みで勾配が 0 となる地点を極値といい，局所的な最小値（極小値）の候補となる(図表13)。\n",
        "ただし極小値が全体の最小値となるとは限らないため，地点を変えながら繰り返し極小値を探り，最小値を求めている。\n",
        "\n",
        "#### （3）バックプロパゲーションによる学習\n",
        "バックプロパゲーション（誤差逆伝播法）は前項（2）勾配降下法をもとにしたニューラルネットワークの学習で最適な重みとバイアスを探す代表的な手法である(図表14)。\n",
        "\n",
        "#### （4）オーバーフィッティングとその防止\n",
        "オーバーフィッティング（過学習）とは学習の際に特定のデータにだけ過剰に対応し，学習に用いていない他のデータでは正しくならない状態のことである。\n",
        "これらの技術を Python 等のプログラミング言語で実装することもできるが，ここでは，ニューラルネットワークを容易に構築するために Neural Network Console（SONY）を利用する。\n",
        "Neural Network Consoleには，Webブラウザで動作するクラウド版\n",
        "\n",
        "ここでは pytorch 版にしてみます。"
      ]
    },
    {
      "cell_type": "code",
      "metadata": {
        "id": "-kH1IcjvG-fQ",
        "colab_type": "code",
        "colab": {}
      },
      "source": [
        "# from https://github.com/dmlc/xgboost/issues/1715\n",
        "import os\n",
        "os.environ['KMP_DUPLICATE_LIB_OK']='True'"
      ],
      "execution_count": 7,
      "outputs": []
    },
    {
      "cell_type": "code",
      "metadata": {
        "id": "RtGsOUZ4G-fV",
        "colab_type": "code",
        "colab": {}
      },
      "source": [
        "import torch"
      ],
      "execution_count": 8,
      "outputs": []
    },
    {
      "cell_type": "code",
      "metadata": {
        "id": "Nk8w3Cb7G-fY",
        "colab_type": "code",
        "colab": {
          "base_uri": "https://localhost:8080/",
          "height": 34
        },
        "outputId": "71efb411-8598-41e5-9193-aec5661c5104"
      },
      "source": [
        "print(torch.__version__)"
      ],
      "execution_count": 9,
      "outputs": [
        {
          "output_type": "stream",
          "text": [
            "1.6.0+cu101\n"
          ],
          "name": "stdout"
        }
      ]
    },
    {
      "cell_type": "code",
      "metadata": {
        "id": "obdAI9iEG-fc",
        "colab_type": "code",
        "colab": {
          "base_uri": "https://localhost:8080/",
          "height": 369,
          "referenced_widgets": [
            "0f1568fdfc8f4b10a65d9706a5627910",
            "ebb392c7a7f042a1ad2659b30e807a85",
            "9f2e563780c240f6a6483913360fd9d7",
            "e7909ec13d754d42a75b46f45dc9646a",
            "0bae8b315597472f9ea18ae7e4ead07a",
            "c8409d48170e44d5b29bd6214103e282",
            "358a04b657aa4fbbbf16595174bf3ade",
            "b91c17958681432190a71395aaecd909",
            "51129124c33742988f37bb89c21f7c90",
            "eecc6d79a58d43849480774913a8989b",
            "1e61af29f5e04658a20a046f372ee041",
            "3a015476af2a40babb3df04fab0cccad",
            "fd6a39fd0b8e4ca893b380ae1103dc91",
            "14c5c87439ad4993aa3075a205eb7d16",
            "82ad6ba0c4664da9b8c89171f1bd1244",
            "36ee28c0258447a7af965b6bc4022a37",
            "2a209df9897d44019021310810d31d5c",
            "e93c837d17664b39934e444b1197945a",
            "d50ebe820ffb44189feaf37c6711f97e",
            "83a6caf3ea2248288007142003b4ddae",
            "4f9f56b1b7df4707a0057e89c92d7457",
            "45c08a28ae084e85b97ba5ab5620a5df",
            "08177dea738348aaa0ac67149e9eaed5",
            "cda4a6ff336e4dde9bb03ac2c839f50a",
            "6f1306d7345a441d90ed10144b6217b7",
            "4f5811cc56ef4188bc1b7c4e7b02e6cc",
            "7a43579565d14814ad8d6af0c3714c6f",
            "fd1b37651b0844919871377e5b128433",
            "bbbb02ea59154595b458b6c31f8f06df",
            "8eaff5ad87ea43c89b9170522cf0a089",
            "6f09f7f457854a6a97be846156e02040",
            "39fcfa0ac5ba4fcebe74b449e0913b95"
          ]
        },
        "outputId": "8cd13511-5d7a-4234-da2b-f9a667c6028f"
      },
      "source": [
        "import torch.nn as nn\n",
        "import torch.nn.functional as F\n",
        "import torch.optim as optim\n",
        "from torch.optim.lr_scheduler import StepLR\n",
        "from torchvision import datasets, transforms\n",
        "\n",
        "use_cuda = torch.cuda.is_available()\n",
        "device = torch.device(\"cuda\" if use_cuda else \"cpu\")\n",
        "\n",
        "transform=transforms.Compose([\n",
        "    transforms.ToTensor(),\n",
        "    transforms.Normalize((0.1307,), (0.3081,))\n",
        "])\n",
        "dataset1 = datasets.MNIST('../data', train=True, download=True,\n",
        "                          transform=transform)\n",
        "dataset2 = datasets.MNIST('../data', train=False,\n",
        "                          transform=transform)\n"
      ],
      "execution_count": 10,
      "outputs": [
        {
          "output_type": "stream",
          "text": [
            "Downloading http://yann.lecun.com/exdb/mnist/train-images-idx3-ubyte.gz to ../data/MNIST/raw/train-images-idx3-ubyte.gz\n"
          ],
          "name": "stdout"
        },
        {
          "output_type": "display_data",
          "data": {
            "application/vnd.jupyter.widget-view+json": {
              "model_id": "0f1568fdfc8f4b10a65d9706a5627910",
              "version_minor": 0,
              "version_major": 2
            },
            "text/plain": [
              "HBox(children=(FloatProgress(value=1.0, bar_style='info', max=1.0), HTML(value='')))"
            ]
          },
          "metadata": {
            "tags": []
          }
        },
        {
          "output_type": "stream",
          "text": [
            "Extracting ../data/MNIST/raw/train-images-idx3-ubyte.gz to ../data/MNIST/raw\n",
            "Downloading http://yann.lecun.com/exdb/mnist/train-labels-idx1-ubyte.gz to ../data/MNIST/raw/train-labels-idx1-ubyte.gz\n"
          ],
          "name": "stdout"
        },
        {
          "output_type": "display_data",
          "data": {
            "application/vnd.jupyter.widget-view+json": {
              "model_id": "51129124c33742988f37bb89c21f7c90",
              "version_minor": 0,
              "version_major": 2
            },
            "text/plain": [
              "HBox(children=(FloatProgress(value=1.0, bar_style='info', max=1.0), HTML(value='')))"
            ]
          },
          "metadata": {
            "tags": []
          }
        },
        {
          "output_type": "stream",
          "text": [
            "Extracting ../data/MNIST/raw/train-labels-idx1-ubyte.gz to ../data/MNIST/raw\n",
            "Downloading http://yann.lecun.com/exdb/mnist/t10k-images-idx3-ubyte.gz to ../data/MNIST/raw/t10k-images-idx3-ubyte.gz\n"
          ],
          "name": "stdout"
        },
        {
          "output_type": "display_data",
          "data": {
            "application/vnd.jupyter.widget-view+json": {
              "model_id": "2a209df9897d44019021310810d31d5c",
              "version_minor": 0,
              "version_major": 2
            },
            "text/plain": [
              "HBox(children=(FloatProgress(value=1.0, bar_style='info', max=1.0), HTML(value='')))"
            ]
          },
          "metadata": {
            "tags": []
          }
        },
        {
          "output_type": "stream",
          "text": [
            "Extracting ../data/MNIST/raw/t10k-images-idx3-ubyte.gz to ../data/MNIST/raw\n",
            "Downloading http://yann.lecun.com/exdb/mnist/t10k-labels-idx1-ubyte.gz to ../data/MNIST/raw/t10k-labels-idx1-ubyte.gz\n"
          ],
          "name": "stdout"
        },
        {
          "output_type": "display_data",
          "data": {
            "application/vnd.jupyter.widget-view+json": {
              "model_id": "6f1306d7345a441d90ed10144b6217b7",
              "version_minor": 0,
              "version_major": 2
            },
            "text/plain": [
              "HBox(children=(FloatProgress(value=1.0, bar_style='info', max=1.0), HTML(value='')))"
            ]
          },
          "metadata": {
            "tags": []
          }
        },
        {
          "output_type": "stream",
          "text": [
            "Extracting ../data/MNIST/raw/t10k-labels-idx1-ubyte.gz to ../data/MNIST/raw\n",
            "Processing...\n",
            "Done!\n"
          ],
          "name": "stdout"
        },
        {
          "output_type": "stream",
          "text": [
            "/usr/local/lib/python3.6/dist-packages/torchvision/datasets/mnist.py:469: UserWarning: The given NumPy array is not writeable, and PyTorch does not support non-writeable tensors. This means you can write to the underlying (supposedly non-writeable) NumPy array using the tensor. You may want to copy the array to protect its data or make it writeable before converting it to a tensor. This type of warning will be suppressed for the rest of this program. (Triggered internally at  /pytorch/torch/csrc/utils/tensor_numpy.cpp:141.)\n",
            "  return torch.from_numpy(parsed.astype(m[2], copy=False)).view(*s)\n"
          ],
          "name": "stderr"
        }
      ]
    },
    {
      "cell_type": "code",
      "metadata": {
        "id": "lS7jO0F0Hde2",
        "colab_type": "code",
        "colab": {
          "base_uri": "https://localhost:8080/",
          "height": 34
        },
        "outputId": "59172211-f567-4e5e-d7e1-16864e258067"
      },
      "source": [
        "device"
      ],
      "execution_count": 11,
      "outputs": [
        {
          "output_type": "execute_result",
          "data": {
            "text/plain": [
              "device(type='cuda')"
            ]
          },
          "metadata": {
            "tags": []
          },
          "execution_count": 11
        }
      ]
    },
    {
      "cell_type": "code",
      "metadata": {
        "id": "U-KZvtm5G-fg",
        "colab_type": "code",
        "colab": {}
      },
      "source": [
        "class Net(nn.Module):\n",
        "    def __init__(self):\n",
        "        super(Net, self).__init__()\n",
        "        self.conv1 = nn.Conv2d(1, 32, 3, 1)\n",
        "        self.conv2 = nn.Conv2d(32, 64, 3, 1)\n",
        "        self.dropout1 = nn.Dropout2d(0.25)\n",
        "        self.dropout2 = nn.Dropout2d(0.5)\n",
        "        self.fc1 = nn.Linear(9216, 128)\n",
        "        self.fc2 = nn.Linear(128, 10)\n",
        "\n",
        "    def forward(self, x):\n",
        "        x = self.conv1(x)\n",
        "        x = F.relu(x)\n",
        "        x = self.conv2(x)\n",
        "        x = F.relu(x)\n",
        "        x = F.max_pool2d(x, 2)\n",
        "        x = self.dropout1(x)\n",
        "        x = torch.flatten(x, 1)\n",
        "        x = self.fc1(x)\n",
        "        x = F.relu(x)\n",
        "        x = self.dropout2(x)\n",
        "        x = self.fc2(x)\n",
        "        output = F.log_softmax(x, dim=1)\n",
        "        return output"
      ],
      "execution_count": 12,
      "outputs": []
    },
    {
      "cell_type": "code",
      "metadata": {
        "id": "NAGgk7I6G-fl",
        "colab_type": "code",
        "colab": {}
      },
      "source": [
        "def train(model, device, train_loader, optimizer, epoch, log_interval=10000, dry_run=False):\n",
        "    model.train()\n",
        "    for batch_idx, (data, target) in enumerate(train_loader):\n",
        "        data, target = data.to(device), target.to(device)\n",
        "        optimizer.zero_grad()\n",
        "        output = model(data)\n",
        "        loss = F.nll_loss(output, target)\n",
        "        loss.backward()\n",
        "        optimizer.step()\n",
        "        if batch_idx % log_interval == 0:\n",
        "            print('Train Epoch: {} [{}/{} ({:.0f}%)]\\tLoss: {:.6f}'.format(\n",
        "                epoch, batch_idx * len(data), len(train_loader.dataset),\n",
        "                100. * batch_idx / len(train_loader), loss.item()))\n",
        "            if dry_run:\n",
        "                break\n",
        "\n",
        "\n",
        "def test(model, device, test_loader):\n",
        "    model.eval()\n",
        "    test_loss = 0\n",
        "    correct = 0\n",
        "    with torch.no_grad():\n",
        "        for data, target in test_loader:\n",
        "            data, target = data.to(device), target.to(device)\n",
        "            output = model(data)\n",
        "            test_loss += F.nll_loss(output, target, reduction='sum').item()  # sum up batch loss\n",
        "            pred = output.argmax(dim=1, keepdim=True)  # get the index of the max log-probability\n",
        "            correct += pred.eq(target.view_as(pred)).sum().item()\n",
        "\n",
        "    test_loss /= len(test_loader.dataset)\n",
        "\n",
        "    print('\\nTest set: Average loss: {:.4f}, Accuracy: {}/{} ({:.0f}%)\\n'.format(\n",
        "        test_loss, correct, len(test_loader.dataset),\n",
        "        100. * correct / len(test_loader.dataset)))\n",
        "\n"
      ],
      "execution_count": 17,
      "outputs": []
    },
    {
      "cell_type": "code",
      "metadata": {
        "id": "vmpYMfVxG-fr",
        "colab_type": "code",
        "colab": {
          "base_uri": "https://localhost:8080/",
          "height": 170
        },
        "outputId": "b09def02-7204-4c9f-a1c3-e781c9aa6a86"
      },
      "source": [
        "seed = '20200810'\n",
        "torch.manual_seed(seed)\n",
        "\n",
        "use_cuda = False\n",
        "device = torch.device(\"cuda\" if use_cuda else \"cpu\")\n",
        "\n",
        "batch_size = 128\n",
        "batch_size = 256\n",
        "transform=transforms.Compose([\n",
        "    transforms.ToTensor(),\n",
        "    transforms.Normalize((0.1307,), (0.3081,))\n",
        "])\n",
        "\n",
        "train_loader = torch.utils.data.DataLoader(dataset1)\n",
        "test_loader = torch.utils.data.DataLoader(dataset2)\n",
        "\n",
        "model = Net().to(device)\n",
        "\n",
        "lr = 1.0\n",
        "optimizer = optim.Adadelta(model.parameters(), lr=lr)\n",
        "\n",
        "gamma = 0.7\n",
        "scheduler = StepLR(optimizer, step_size=1, gamma=gamma)\n",
        "\n",
        "epochs = 10\n",
        "epochs = 1\n",
        "save_model = False\n",
        "for epoch in range(1, epochs + 1):\n",
        "    train(model, device, train_loader, optimizer, epoch)\n",
        "    test(model, device, test_loader)\n",
        "    scheduler.step()\n",
        "\n",
        "    if save_model:\n",
        "        torch.save(model.state_dict(), \"mnist_cnn.pt\")\n"
      ],
      "execution_count": 18,
      "outputs": [
        {
          "output_type": "stream",
          "text": [
            "Train Epoch: 1 [0/60000 (0%)]\tLoss: 2.338791\n",
            "Train Epoch: 1 [10000/60000 (17%)]\tLoss: 0.000000\n",
            "Train Epoch: 1 [20000/60000 (33%)]\tLoss: 0.000000\n",
            "Train Epoch: 1 [30000/60000 (50%)]\tLoss: 0.000080\n",
            "Train Epoch: 1 [40000/60000 (67%)]\tLoss: 0.000000\n",
            "Train Epoch: 1 [50000/60000 (83%)]\tLoss: 0.000008\n",
            "\n",
            "Test set: Average loss: 0.1236, Accuracy: 9693/10000 (97%)\n",
            "\n"
          ],
          "name": "stdout"
        }
      ]
    },
    {
      "cell_type": "code",
      "metadata": {
        "id": "QRscTKv3HhsC",
        "colab_type": "code",
        "colab": {}
      },
      "source": [
        ""
      ],
      "execution_count": null,
      "outputs": []
    }
  ]
}