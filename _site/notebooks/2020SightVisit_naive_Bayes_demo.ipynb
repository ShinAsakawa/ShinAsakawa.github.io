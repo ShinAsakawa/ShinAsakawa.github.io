{
  "nbformat": 4,
  "nbformat_minor": 0,
  "metadata": {
    "colab": {
      "name": "2020SightVisit_naive_Bayes_demo.ipynb",
      "provenance": [],
      "private_outputs": true,
      "authorship_tag": "ABX9TyNLzW/fnnuGUOWgx7oUKTjV",
      "include_colab_link": true
    },
    "kernelspec": {
      "name": "python3",
      "display_name": "Python 3"
    }
  },
  "cells": [
    {
      "cell_type": "markdown",
      "metadata": {
        "id": "view-in-github",
        "colab_type": "text"
      },
      "source": [
        "<a href=\"https://colab.research.google.com/github/ShinAsakawa/ShinAsakawa.github.io/blob/master/notebooks/2020SightVisit_naive_Bayes_demo.ipynb\" target=\"_parent\"><img src=\"https://colab.research.google.com/assets/colab-badge.svg\" alt=\"Open In Colab\"/></a>"
      ]
    },
    {
      "cell_type": "markdown",
      "metadata": {
        "id": "xoDDm1x1Z4sY",
        "colab_type": "text"
      },
      "source": [
        "# ナイーブベイズの実習"
      ]
    },
    {
      "cell_type": "code",
      "metadata": {
        "id": "FMZdoNL1Z0qE",
        "colab_type": "code",
        "colab": {}
      },
      "source": [
        "from sklearn.datasets import load_iris\n",
        "from sklearn.model_selection import train_test_split\n",
        "from sklearn.naive_bayes import GaussianNB\n",
        "X, y = load_iris(return_X_y=True)\n",
        "X_train, X_test, y_train, y_test = train_test_split(X, y, test_size=0.5)\n",
        "gnb = GaussianNB()\n",
        "y_pred = gnb.fit(X_train, y_train).predict(X_test)\n",
        "print(\"間違って分類された数 (総数:%d 中) %d データ\" % (X_test.shape[0], (y_test != y_pred).sum()))"
      ],
      "execution_count": null,
      "outputs": []
    },
    {
      "cell_type": "code",
      "metadata": {
        "id": "QwOa4Xb2aRlH",
        "colab_type": "code",
        "colab": {}
      },
      "source": [
        "import sklearn.datasets\n",
        "news = sklearn.datasets.fetch_20newsgroups(subset='all')"
      ],
      "execution_count": null,
      "outputs": []
    },
    {
      "cell_type": "code",
      "metadata": {
        "id": "TnbYTzsrbG23",
        "colab_type": "code",
        "colab": {}
      },
      "source": [
        "print(news.keys())"
      ],
      "execution_count": null,
      "outputs": []
    },
    {
      "cell_type": "code",
      "metadata": {
        "id": "OIXZjD5_bLPb",
        "colab_type": "code",
        "colab": {}
      },
      "source": [
        "print(news.target_names)\n",
        "print(len(news.data), len(news.target))"
      ],
      "execution_count": null,
      "outputs": []
    },
    {
      "cell_type": "code",
      "metadata": {
        "id": "m6RzR2tqbUTW",
        "colab_type": "code",
        "colab": {}
      },
      "source": [
        "print(news.data[0])\n",
        "print(news.target[0], news.target_names[news.target[0]])"
      ],
      "execution_count": null,
      "outputs": []
    },
    {
      "cell_type": "code",
      "metadata": {
        "id": "b6Tp_gBGbb9E",
        "colab_type": "code",
        "colab": {}
      },
      "source": [
        "from sklearn.model_selection import train_test_split\n",
        "X_train, X_test, y_train, y_test = train_test_split(news.data, news.target, test_size=0.5)"
      ],
      "execution_count": null,
      "outputs": []
    },
    {
      "cell_type": "code",
      "metadata": {
        "id": "_K4DocwWbf1h",
        "colab_type": "code",
        "colab": {}
      },
      "source": [
        "from sklearn import metrics\n",
        "\n",
        "def train_and_evaluate(clf, X_train, X_test, y_train, y_test):\n",
        "    \n",
        "    clf.fit(X_train, y_train)\n",
        "    print(\"訓練データの精度:\", clf.score(X_train, y_train))\n",
        "    print(\"テストデータの精度:\", clf.score(X_test, y_test))\n",
        "    \n",
        "    y_pred = clf.predict(X_test)\n",
        "\n",
        "    print(\"分類結果レポート:\\n\", metrics.classification_report(y_test, y_pred))\n",
        "    print(\"混同行列:\\n\", metrics.confusion_matrix(y_test, y_pred))"
      ],
      "execution_count": null,
      "outputs": []
    },
    {
      "cell_type": "code",
      "metadata": {
        "id": "kbV_y4Scbwxd",
        "colab_type": "code",
        "colab": {}
      },
      "source": [
        "from sklearn.naive_bayes import MultinomialNB\n",
        "from sklearn.pipeline import Pipeline\n",
        "from sklearn.feature_extraction.text import TfidfVectorizer, CountVectorizer\n",
        "\n",
        "clf_1 = Pipeline([\n",
        "    ('vect', CountVectorizer()),\n",
        "    ('clf', MultinomialNB()),\n",
        "])\n",
        "clf_2 = Pipeline([\n",
        "    ('vect', TfidfVectorizer()),\n",
        "    ('clf', MultinomialNB()),\n",
        "])"
      ],
      "execution_count": null,
      "outputs": []
    },
    {
      "cell_type": "code",
      "metadata": {
        "id": "amaZwcP6b1O7",
        "colab_type": "code",
        "colab": {}
      },
      "source": [
        "for clf in [clf_1, clf_2]:\n",
        "    train_and_evaluate(clf, X_train, X_test, y_train, y_test)\n"
      ],
      "execution_count": null,
      "outputs": []
    },
    {
      "cell_type": "code",
      "metadata": {
        "id": "UxrxTfQib7o5",
        "colab_type": "code",
        "colab": {}
      },
      "source": [
        "clf_3 = Pipeline([\n",
        "    ('vect', TfidfVectorizer(\n",
        "                token_pattern=r\"\\b[a-z0-9_\\-\\.]+[a-z][a-z0-9_\\-\\.]+\\b\",\n",
        "    )),\n",
        "    ('clf', MultinomialNB()),\n",
        "])\n",
        "train_and_evaluate(clf_3, X_train, X_test, y_train, y_test)"
      ],
      "execution_count": null,
      "outputs": []
    }
  ]
}