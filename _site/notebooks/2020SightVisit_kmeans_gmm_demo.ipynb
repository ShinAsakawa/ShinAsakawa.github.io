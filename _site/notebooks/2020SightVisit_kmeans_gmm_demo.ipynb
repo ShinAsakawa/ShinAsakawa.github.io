{
  "nbformat": 4,
  "nbformat_minor": 0,
  "metadata": {
    "colab": {
      "name": "2020SightVisit_kmeans_gmm_demo.ipynb",
      "provenance": [],
      "private_outputs": true,
      "authorship_tag": "ABX9TyNg//9q0Np6SfxEsxjJl7zG",
      "include_colab_link": true
    },
    "kernelspec": {
      "name": "python3",
      "display_name": "Python 3"
    },
    "accelerator": "GPU"
  },
  "cells": [
    {
      "cell_type": "markdown",
      "metadata": {
        "id": "view-in-github",
        "colab_type": "text"
      },
      "source": [
        "<a href=\"https://colab.research.google.com/github/ShinAsakawa/ShinAsakawa.github.io/blob/master/notebooks/2020SightVisit_kmeans_gmm_demo.ipynb\" target=\"_parent\"><img src=\"https://colab.research.google.com/assets/colab-badge.svg\" alt=\"Open In Colab\"/></a>"
      ]
    },
    {
      "cell_type": "markdown",
      "metadata": {
        "id": "3DASqxfVvHue",
        "colab_type": "text"
      },
      "source": [
        "出典: <http://codh.rois.ac.jp/kmnist/>\n",
        "\n",
        "<center>\n",
        "<img src=\"http://codh.rois.ac.jp/img/kmnist.png\" style=\"widht:59%\">\n",
        "</center>"
      ]
    },
    {
      "cell_type": "code",
      "metadata": {
        "id": "9jWOOZZIvLkz",
        "colab_type": "code",
        "colab": {}
      },
      "source": [
        "# データの読み込み\n",
        "!wget http://codh.rois.ac.jp/kmnist/dataset/kmnist/kmnist-train-imgs.npz\n",
        "!wget http://codh.rois.ac.jp/kmnist/dataset/kmnist/kmnist-train-labels.npz\n",
        "!wget http://codh.rois.ac.jp/kmnist/dataset/kmnist/kmnist-test-imgs.npz\n",
        "!wget http://codh.rois.ac.jp/kmnist/dataset/kmnist/kmnist-test-labels.npz"
      ],
      "execution_count": null,
      "outputs": []
    },
    {
      "cell_type": "code",
      "metadata": {
        "id": "ixKd68VKvSOX",
        "colab_type": "code",
        "colab": {}
      },
      "source": [
        "import numpy as np\n",
        "\n",
        "def load(f):\n",
        "    return np.load(f)['arr_0']\n",
        "\n",
        "# Load the data\n",
        "x_train = load('kmnist-train-imgs.npz')\n",
        "x_test = load('kmnist-test-imgs.npz')\n",
        "y_train = load('kmnist-train-labels.npz')\n",
        "y_test = load('kmnist-test-labels.npz')\n",
        "\n",
        "# Flatten images\n",
        "n_samples = 10000\n",
        "x_train = x_train.reshape(-1, 784)[:n_samples]\n",
        "y_train = y_train[:n_samples]\n",
        "x_test = x_test.reshape(-1, 784)\n",
        "\n",
        "ind2c =[c for c in 'おきすつなまはやれを']"
      ],
      "execution_count": null,
      "outputs": []
    },
    {
      "cell_type": "code",
      "metadata": {
        "id": "MOq8Q7w7YxEy",
        "colab_type": "code",
        "colab": {}
      },
      "source": [
        "!pip install japanize-matplotlib"
      ],
      "execution_count": null,
      "outputs": []
    },
    {
      "cell_type": "code",
      "metadata": {
        "id": "d_t4b0qNU3IH",
        "colab_type": "code",
        "colab": {}
      },
      "source": [
        "%pylab inline\n",
        "import matplotlib.pyplot as plt\n",
        "import japanize_matplotlib"
      ],
      "execution_count": null,
      "outputs": []
    },
    {
      "cell_type": "code",
      "metadata": {
        "id": "Bf-RlrpXU4K0",
        "colab_type": "code",
        "colab": {}
      },
      "source": [
        "def print_digits(images,y,max_n=10):\n",
        "    fig = plt.figure(figsize=(14, 14))\n",
        "    fig.subplots_adjust(left=0, right=1, bottom=0, top=1, hspace=0.8, wspace=0.05)\n",
        "    i = 0\n",
        "    while i < max_n:\n",
        "        p = fig.add_subplot(20, 20, i + 1, xticks=[], yticks=[])\n",
        "        p.imshow(images[i].reshape(28,-1), cmap=plt.cm.bone)\n",
        "        p.text(10, 0, ind2c[y[i]])\n",
        "        i = i + 1\n",
        "    \n",
        "print_digits(x_train, y_train, max_n=10)\n"
      ],
      "execution_count": null,
      "outputs": []
    },
    {
      "cell_type": "code",
      "metadata": {
        "id": "j_WBMLC7VA8Z",
        "colab_type": "code",
        "colab": {}
      },
      "source": [
        "from sklearn.model_selection import train_test_split\n",
        "_X_train, _X_test, _y_train, _y_test = train_test_split(\n",
        "        x_train, y_train, test_size=0.2)\n",
        "\n",
        "n_samples, n_features = _X_train.shape\n",
        "n_digits = len(np.unique(_y_train))\n"
      ],
      "execution_count": null,
      "outputs": []
    },
    {
      "cell_type": "code",
      "metadata": {
        "id": "TlpehihSVEqm",
        "colab_type": "code",
        "colab": {}
      },
      "source": [
        "from sklearn import cluster\n",
        "# K 平均法による分類を行います\n",
        "kmeans_clf = cluster.KMeans(init='k-means++', n_clusters=10, random_state=42)\n",
        "\n",
        "kmeans_clf.fit(_X_train, _y_train)\n",
        "print_digits(_X_test, kmeans_clf.labels_, max_n=10)\n",
        "\n"
      ],
      "execution_count": null,
      "outputs": []
    },
    {
      "cell_type": "code",
      "metadata": {
        "id": "B6T7OjIpVHp2",
        "colab_type": "code",
        "colab": {}
      },
      "source": [
        "# 結果の予測を行います\n",
        "y_pred = kmeans_clf.predict(_X_test)\n",
        "\n",
        "def print_cluster(X, y, cluster_number):\n",
        "    images = X[y==cluster_number]\n",
        "    y_pred = y[y==cluster_number]\n",
        "    print_digits(images, y_pred, max_n=10)\n",
        "\n",
        "for i in range(10):\n",
        "     print_cluster(_X_test, y_pred, i)\n"
      ],
      "execution_count": null,
      "outputs": []
    },
    {
      "cell_type": "code",
      "metadata": {
        "id": "5SbOaaUkVR6m",
        "colab_type": "code",
        "colab": {}
      },
      "source": [
        "from sklearn import metrics\n",
        "print(\"Addjusted rand score:{:.2}\".format(metrics.adjusted_rand_score(_y_test, y_pred)))\n",
        "print(\"Homogeneity score:{:.2} \".format(metrics.homogeneity_score(_y_test, y_pred)))\n",
        "print(\"Completeness score: {:.2} \".format(metrics.completeness_score(_y_test, y_pred)))\n",
        "print(\"Confusion matrix\")\n",
        "print(metrics.confusion_matrix(_y_test, y_pred))"
      ],
      "execution_count": null,
      "outputs": []
    },
    {
      "cell_type": "code",
      "metadata": {
        "id": "KFrykvw6bRmN",
        "colab_type": "code",
        "colab": {}
      },
      "source": [
        "from sklearn import mixture\n",
        "\n",
        "# Define a heldout dataset to estimate covariance type\n",
        "X_train_heldout, X_test_heldout, y_train_heldout, y_test_heldout = train_test_split(\n",
        "        x_train, y_train, test_size=0.2) \n",
        "for covariance_type in ['spherical','tied','diag','full']:\n",
        "    gm=mixture.GaussianMixture(n_components=n_digits, covariance_type=covariance_type, random_state=42, n_init=5)\n",
        "    gm.fit(X_train_heldout)\n",
        "    y_pred=gm.predict(X_test_heldout)\n",
        "    print(\"Adjusted rand score for covariance={}:{:.2}\".format(covariance_type, metrics.adjusted_rand_score(y_test_heldout, y_pred)))\n"
      ],
      "execution_count": null,
      "outputs": []
    },
    {
      "cell_type": "code",
      "metadata": {
        "id": "6pK7St05VT-n",
        "colab_type": "code",
        "colab": {}
      },
      "source": [
        "gm = mixture.GaussianMixture(n_components=n_digits, covariance_type='tied', random_state=42)\n",
        "gm.fit(x_train)"
      ],
      "execution_count": null,
      "outputs": []
    },
    {
      "cell_type": "code",
      "metadata": {
        "id": "jJxWx5PSv0yd",
        "colab_type": "code",
        "colab": {}
      },
      "source": [
        "# Print train clustering and confusion matrix\n",
        "y_pred = gm.predict(x_test)\n",
        "print(\"Addjusted rand score:{:.2}\".format(metrics.adjusted_rand_score(y_test, y_pred)))\n",
        "print(\"Homogeneity score:{:.2} \".format(metrics.homogeneity_score(y_test, y_pred)) )\n",
        "print(\"Completeness score: {:.2} \".format(metrics.completeness_score(y_test, y_pred)))\n",
        "for i in range(10):\n",
        "     print_cluster(x_test, y_pred, i)\n",
        "print(\"Confusion matrix\")\n",
        "print(metrics.confusion_matrix(y_test, y_pred))"
      ],
      "execution_count": null,
      "outputs": []
    },
    {
      "cell_type": "code",
      "metadata": {
        "id": "JXGP8frra31U",
        "colab_type": "code",
        "colab": {}
      },
      "source": [
        ""
      ],
      "execution_count": null,
      "outputs": []
    }
  ]
}