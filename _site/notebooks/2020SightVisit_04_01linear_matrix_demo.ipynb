{
  "nbformat": 4,
  "nbformat_minor": 0,
  "metadata": {
    "colab": {
      "name": "2020SightVisit_04_01linear_matrix_demo.ipynb",
      "provenance": [],
      "private_outputs": true,
      "authorship_tag": "ABX9TyPFn6N5o3iSaC+WWt8lJDP2",
      "include_colab_link": true
    },
    "kernelspec": {
      "name": "python3",
      "display_name": "Python 3"
    }
  },
  "cells": [
    {
      "cell_type": "markdown",
      "metadata": {
        "id": "view-in-github",
        "colab_type": "text"
      },
      "source": [
        "<a href=\"https://colab.research.google.com/github/ShinAsakawa/ShinAsakawa.github.io/blob/master/notebooks/2020SightVisit_04_01linear_matrix_demo.ipynb\" target=\"_parent\"><img src=\"https://colab.research.google.com/assets/colab-badge.svg\" alt=\"Open In Colab\"/></a>"
      ]
    },
    {
      "cell_type": "code",
      "metadata": {
        "id": "ZDJgm5Q-rixJ",
        "colab_type": "code",
        "colab": {}
      },
      "source": [
        "import numpy as np"
      ],
      "execution_count": null,
      "outputs": []
    },
    {
      "cell_type": "code",
      "metadata": {
        "id": "Qg2ZJ6GVrkRs",
        "colab_type": "code",
        "colab": {}
      },
      "source": [
        "# 適当に行列を用意します\n",
        "X = np.array([[1,2], [2, 1], [3, 5]])\n",
        "y = np.array([1,2,3])"
      ],
      "execution_count": null,
      "outputs": []
    },
    {
      "cell_type": "code",
      "metadata": {
        "id": "DsfEkO_ArvvT",
        "colab_type": "code",
        "colab": {}
      },
      "source": [
        "print(X.shape, y.shape)  # X と \b\by の行列の次数を表示\n",
        "print(X.T) # X の転置は X.T "
      ],
      "execution_count": null,
      "outputs": []
    },
    {
      "cell_type": "code",
      "metadata": {
        "id": "Ki1j8_Mor2yn",
        "colab_type": "code",
        "colab": {}
      },
      "source": [
        "X.T @ X  # 行列の積"
      ],
      "execution_count": null,
      "outputs": []
    },
    {
      "cell_type": "code",
      "metadata": {
        "id": "89TLm9p0sBQL",
        "colab_type": "code",
        "colab": {}
      },
      "source": [
        "np.matmul(X.T,X)  # 行列の積別解"
      ],
      "execution_count": null,
      "outputs": []
    },
    {
      "cell_type": "code",
      "metadata": {
        "id": "la6d5ylosKAH",
        "colab_type": "code",
        "colab": {}
      },
      "source": [
        "XX = np.matmul(X.T,X)  # X^T と X との積\n",
        "XXinv = np.linalg.inv(XX)   # (X^T と X との積)の逆行列\n",
        "XXinvXT = np.matmul(XXinv, X.T)  # (X^T と X との積)の逆行列に右から X^T をかける"
      ],
      "execution_count": null,
      "outputs": []
    },
    {
      "cell_type": "code",
      "metadata": {
        "id": "D9motBN7sXe5",
        "colab_type": "code",
        "colab": {}
      },
      "source": [
        "y_hat = X @ (XXinvXT @ y)  # y の予測値を計算"
      ],
      "execution_count": null,
      "outputs": []
    },
    {
      "cell_type": "code",
      "metadata": {
        "id": "Ckjzo5k4svgq",
        "colab_type": "code",
        "colab": {}
      },
      "source": [
        "print(y, y_hat)"
      ],
      "execution_count": null,
      "outputs": []
    }
  ]
}