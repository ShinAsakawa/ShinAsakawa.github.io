{
  "nbformat": 4,
  "nbformat_minor": 0,
  "metadata": {
    "colab": {
      "provenance": [],
      "include_colab_link": true
    },
    "kernelspec": {
      "name": "python3",
      "display_name": "Python 3"
    },
    "language_info": {
      "name": "python"
    }
  },
  "cells": [
    {
      "cell_type": "markdown",
      "metadata": {
        "id": "view-in-github",
        "colab_type": "text"
      },
      "source": [
        "<a href=\"https://colab.research.google.com/github/ShinAsakawa/ShinAsakawa.github.io/blob/master/2025notebooks/2025_0428get_word2vec_pretrained_file_from_GDrive.ipynb\" target=\"_parent\"><img src=\"https://colab.research.google.com/assets/colab-badge.svg\" alt=\"Open In Colab\"/></a>"
      ]
    },
    {
      "cell_type": "markdown",
      "source": [
        "# 訓練済 word2vec ファイルの読み込み\n",
        "\n",
        "* datea: 2025_0428\n",
        "* author: 浅川伸一\n",
        "* email: asakawa@ieee.org\n",
        "* note:\n",
        "東京女子大学の https サーバが改変になったため，訓練済ファイルを Google Drive に置いた。\n",
        "以下のコードは，新しく Google Drive においた訓練済 word2vec ファイルを読み込むためのサンプルコードです。\n"
      ],
      "metadata": {
        "id": "OpwZR5d5SV2b"
      }
    },
    {
      "cell_type": "code",
      "execution_count": null,
      "metadata": {
        "id": "KdafwnuePPFN"
      },
      "outputs": [],
      "source": [
        "# Google Colab 上で実行しているかどうかを判定\n",
        "import IPython\n",
        "isColab = 'google.colab' in str(IPython.get_ipython())\n",
        "\n",
        "# Google colab で実行している場合必要なライブラリをインストールして word2vec ファイルをダウンロードする\n",
        "if isColab:\n",
        "    # Install PyDrive\n",
        "    !pip install pydrive2\n",
        "    #!pip install PyDrive2\n",
        "\n",
        "    #Import modules\n",
        "    from pydrive2.auth import GoogleAuth\n",
        "    #from pydrive.auth import GoogleAuth\n",
        "    from pydrive2.drive import GoogleDrive\n",
        "    from google.colab import auth\n",
        "    from oauth2client.client import GoogleCredentials\n",
        "\n",
        "    #Authenticate and create the PyDrive client\n",
        "    auth.authenticate_user()\n",
        "    gauth = GoogleAuth()\n",
        "    gauth.credentials = GoogleCredentials.get_application_default()\n",
        "    drive = GoogleDrive(gauth)\n",
        "\n",
        "    #Get the Shareable link\n",
        "    # 2017Jul_jawiki-wakati_neologd_hid200_win20_neg20_cbow.bin.gz: 1Rp3HbDkbpzMg5ehq1ARwCATX8iZAxTgj\n",
        "    # 2017Jul_jawiki-wakati_neologd_hid200_win20_neg20_sgns.bin.gz: 19BKVOBNHESt1K8725UTM9J3OpqK7YlVb\n",
        "    downloaded = drive.CreateFile({'id':\"1Rp3HbDkbpzMg5ehq1ARwCATX8iZAxTgj\"})\n",
        "    downloaded.GetContentFile('2017Jul_jawiki-wakati_neologd_hid200_win20_neg20_cbow.bin.gz')\n",
        "\n",
        "    # 2021_05jawiki_hid200_win20_neg20_sgns.bin.gz: 1JTkU5SUBU2GkURCYeHkAWYs_Zlbqob0s\n",
        "    # 2021_05jawiki_hid200_win20_neg20_cbow.bin.gz: 1VPL2Mr9JgWHik9HjRmcADoxXIdrQ3ds7\n",
        "    # 2021_05jawiki_hid128_win10_neg10_sgns.bin.gz: 1OWmFOVRC6amCxsomcRwdA6ILAA5s4y4M\n",
        "    # 2021_05jawiki_hid128_win10_neg10_cbow.bin.gz: 1B9HGhLZOja4Xku5c_d-kMhCXn1LBZgDb\n",
        "    # 上記は cbow で訓練済ファイルをダウンロードしています。\n",
        "    # skip gram モデルで訓練済モデルに変更する場合には，上記情報に従って 27 行目と 28 行目を書き換えてください。"
      ]
    },
    {
      "cell_type": "code",
      "source": [
        "# gensim のインストール\n",
        "try:\n",
        "    import gensim\n",
        "except ImportError:\n",
        "    !pip install --upgrade gensim numpy==2.0.2\n",
        "\n",
        "import numpy as np\n",
        "from gensim.models import KeyedVectors\n",
        "\n",
        "w2v = KeyedVectors.load_word2vec_format(\n",
        "    '2017Jul_jawiki-wakati_neologd_hid200_win20_neg20_cbow.bin.gz',\n",
        "    encoding='utf-8',\n",
        "    unicode_errors='replace',\n",
        "    binary=True)"
      ],
      "metadata": {
        "id": "t2G6CnHaPlsA"
      },
      "execution_count": 7,
      "outputs": []
    },
    {
      "cell_type": "code",
      "source": [
        "# 以下は動作確認です。\n",
        "# 埋め込みベクトルを得る\n",
        "print(w2v['心理学'])"
      ],
      "metadata": {
        "id": "iTBc_su9PmtN"
      },
      "execution_count": null,
      "outputs": []
    },
    {
      "cell_type": "code",
      "source": [
        "# 最も近い単語を得る\n",
        "print(w2v.most_similar('認知科学'))"
      ],
      "metadata": {
        "id": "jCY7a98vSH19"
      },
      "execution_count": null,
      "outputs": []
    }
  ]
}