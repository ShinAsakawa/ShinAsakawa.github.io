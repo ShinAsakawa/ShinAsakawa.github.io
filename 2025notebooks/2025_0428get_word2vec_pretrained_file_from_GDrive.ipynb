{
  "nbformat": 4,
  "nbformat_minor": 0,
  "metadata": {
    "colab": {
      "provenance": [],
      "include_colab_link": true
    },
    "kernelspec": {
      "name": "python3",
      "display_name": "Python 3"
    },
    "language_info": {
      "name": "python"
    }
  },
  "cells": [
    {
      "cell_type": "markdown",
      "metadata": {
        "id": "view-in-github",
        "colab_type": "text"
      },
      "source": [
        "<a href=\"https://colab.research.google.com/github/ShinAsakawa/ShinAsakawa.github.io/blob/master/2025notebooks/2025_0428get_word2vec_pretrained_file_from_GDrive.ipynb\" target=\"_parent\"><img src=\"https://colab.research.google.com/assets/colab-badge.svg\" alt=\"Open In Colab\"/></a>"
      ]
    },
    {
      "cell_type": "markdown",
      "source": [
        "# 訓練済 word2vec ファイルの読み込み\n",
        "\n",
        "* datea: 2025_0428\n",
        "* author: 浅川伸一\n",
        "* email: asakawa@ieee.org\n",
        "* note:\n",
        "東京女子大学の https サーバが改変になったため，訓練済ファイルを Google Drive に置いた。\n",
        "以下のコードは，新しく Google Drive においた訓練済 word2vec ファイルを読み込むためのサンプルコードです。\n"
      ],
      "metadata": {
        "id": "OpwZR5d5SV2b"
      }
    },
    {
      "cell_type": "code",
      "execution_count": 1,
      "metadata": {
        "id": "KdafwnuePPFN",
        "colab": {
          "base_uri": "https://localhost:8080/"
        },
        "outputId": "1b828f3e-50bb-471d-a5ce-0f7c85a8121c"
      },
      "outputs": [
        {
          "output_type": "stream",
          "name": "stdout",
          "text": [
            "Requirement already satisfied: pydrive2 in /usr/local/lib/python3.11/dist-packages (1.21.3)\n",
            "Requirement already satisfied: google-api-python-client>=1.12.5 in /usr/local/lib/python3.11/dist-packages (from pydrive2) (2.168.0)\n",
            "Requirement already satisfied: oauth2client>=4.0.0 in /usr/local/lib/python3.11/dist-packages (from pydrive2) (4.1.3)\n",
            "Requirement already satisfied: PyYAML>=3.0 in /usr/local/lib/python3.11/dist-packages (from pydrive2) (6.0.2)\n",
            "Requirement already satisfied: cryptography<44 in /usr/local/lib/python3.11/dist-packages (from pydrive2) (43.0.3)\n",
            "Requirement already satisfied: pyOpenSSL<=24.2.1,>=19.1.0 in /usr/local/lib/python3.11/dist-packages (from pydrive2) (24.2.1)\n",
            "Requirement already satisfied: cffi>=1.12 in /usr/local/lib/python3.11/dist-packages (from cryptography<44->pydrive2) (1.17.1)\n",
            "Requirement already satisfied: httplib2<1.0.0,>=0.19.0 in /usr/local/lib/python3.11/dist-packages (from google-api-python-client>=1.12.5->pydrive2) (0.22.0)\n",
            "Requirement already satisfied: google-auth!=2.24.0,!=2.25.0,<3.0.0,>=1.32.0 in /usr/local/lib/python3.11/dist-packages (from google-api-python-client>=1.12.5->pydrive2) (2.38.0)\n",
            "Requirement already satisfied: google-auth-httplib2<1.0.0,>=0.2.0 in /usr/local/lib/python3.11/dist-packages (from google-api-python-client>=1.12.5->pydrive2) (0.2.0)\n",
            "Requirement already satisfied: google-api-core!=2.0.*,!=2.1.*,!=2.2.*,!=2.3.0,<3.0.0,>=1.31.5 in /usr/local/lib/python3.11/dist-packages (from google-api-python-client>=1.12.5->pydrive2) (2.24.2)\n",
            "Requirement already satisfied: uritemplate<5,>=3.0.1 in /usr/local/lib/python3.11/dist-packages (from google-api-python-client>=1.12.5->pydrive2) (4.1.1)\n",
            "Requirement already satisfied: pyasn1>=0.1.7 in /usr/local/lib/python3.11/dist-packages (from oauth2client>=4.0.0->pydrive2) (0.6.1)\n",
            "Requirement already satisfied: pyasn1-modules>=0.0.5 in /usr/local/lib/python3.11/dist-packages (from oauth2client>=4.0.0->pydrive2) (0.4.2)\n",
            "Requirement already satisfied: rsa>=3.1.4 in /usr/local/lib/python3.11/dist-packages (from oauth2client>=4.0.0->pydrive2) (4.9.1)\n",
            "Requirement already satisfied: six>=1.6.1 in /usr/local/lib/python3.11/dist-packages (from oauth2client>=4.0.0->pydrive2) (1.17.0)\n",
            "Requirement already satisfied: pycparser in /usr/local/lib/python3.11/dist-packages (from cffi>=1.12->cryptography<44->pydrive2) (2.22)\n",
            "Requirement already satisfied: googleapis-common-protos<2.0.0,>=1.56.2 in /usr/local/lib/python3.11/dist-packages (from google-api-core!=2.0.*,!=2.1.*,!=2.2.*,!=2.3.0,<3.0.0,>=1.31.5->google-api-python-client>=1.12.5->pydrive2) (1.70.0)\n",
            "Requirement already satisfied: protobuf!=3.20.0,!=3.20.1,!=4.21.0,!=4.21.1,!=4.21.2,!=4.21.3,!=4.21.4,!=4.21.5,<7.0.0,>=3.19.5 in /usr/local/lib/python3.11/dist-packages (from google-api-core!=2.0.*,!=2.1.*,!=2.2.*,!=2.3.0,<3.0.0,>=1.31.5->google-api-python-client>=1.12.5->pydrive2) (5.29.4)\n",
            "Requirement already satisfied: proto-plus<2.0.0,>=1.22.3 in /usr/local/lib/python3.11/dist-packages (from google-api-core!=2.0.*,!=2.1.*,!=2.2.*,!=2.3.0,<3.0.0,>=1.31.5->google-api-python-client>=1.12.5->pydrive2) (1.26.1)\n",
            "Requirement already satisfied: requests<3.0.0,>=2.18.0 in /usr/local/lib/python3.11/dist-packages (from google-api-core!=2.0.*,!=2.1.*,!=2.2.*,!=2.3.0,<3.0.0,>=1.31.5->google-api-python-client>=1.12.5->pydrive2) (2.32.3)\n",
            "Requirement already satisfied: cachetools<6.0,>=2.0.0 in /usr/local/lib/python3.11/dist-packages (from google-auth!=2.24.0,!=2.25.0,<3.0.0,>=1.32.0->google-api-python-client>=1.12.5->pydrive2) (5.5.2)\n",
            "Requirement already satisfied: pyparsing!=3.0.0,!=3.0.1,!=3.0.2,!=3.0.3,<4,>=2.4.2 in /usr/local/lib/python3.11/dist-packages (from httplib2<1.0.0,>=0.19.0->google-api-python-client>=1.12.5->pydrive2) (3.2.3)\n",
            "Requirement already satisfied: charset-normalizer<4,>=2 in /usr/local/lib/python3.11/dist-packages (from requests<3.0.0,>=2.18.0->google-api-core!=2.0.*,!=2.1.*,!=2.2.*,!=2.3.0,<3.0.0,>=1.31.5->google-api-python-client>=1.12.5->pydrive2) (3.4.1)\n",
            "Requirement already satisfied: idna<4,>=2.5 in /usr/local/lib/python3.11/dist-packages (from requests<3.0.0,>=2.18.0->google-api-core!=2.0.*,!=2.1.*,!=2.2.*,!=2.3.0,<3.0.0,>=1.31.5->google-api-python-client>=1.12.5->pydrive2) (3.10)\n",
            "Requirement already satisfied: urllib3<3,>=1.21.1 in /usr/local/lib/python3.11/dist-packages (from requests<3.0.0,>=2.18.0->google-api-core!=2.0.*,!=2.1.*,!=2.2.*,!=2.3.0,<3.0.0,>=1.31.5->google-api-python-client>=1.12.5->pydrive2) (2.4.0)\n",
            "Requirement already satisfied: certifi>=2017.4.17 in /usr/local/lib/python3.11/dist-packages (from requests<3.0.0,>=2.18.0->google-api-core!=2.0.*,!=2.1.*,!=2.2.*,!=2.3.0,<3.0.0,>=1.31.5->google-api-python-client>=1.12.5->pydrive2) (2025.1.31)\n",
            "Requirement already satisfied: gensim==4.3.3 in /usr/local/lib/python3.11/dist-packages (4.3.3)\n",
            "Requirement already satisfied: numpy<2.0,>=1.18.5 in /usr/local/lib/python3.11/dist-packages (from gensim==4.3.3) (1.26.4)\n",
            "Requirement already satisfied: scipy<1.14.0,>=1.7.0 in /usr/local/lib/python3.11/dist-packages (from gensim==4.3.3) (1.13.1)\n",
            "Requirement already satisfied: smart-open>=1.8.1 in /usr/local/lib/python3.11/dist-packages (from gensim==4.3.3) (7.1.0)\n",
            "Requirement already satisfied: wrapt in /usr/local/lib/python3.11/dist-packages (from smart-open>=1.8.1->gensim==4.3.3) (1.17.2)\n",
            "Found existing installation: numpy 1.26.4\n",
            "Uninstalling numpy-1.26.4:\n",
            "  Successfully uninstalled numpy-1.26.4\n",
            "\u001b[33mWARNING: Skipping thinc as it is not installed.\u001b[0m\u001b[33m\n",
            "\u001b[0mFound existing installation: spacy 3.8.5\n",
            "Uninstalling spacy-3.8.5:\n",
            "  Successfully uninstalled spacy-3.8.5\n",
            "Collecting numpy==1.26.4\n",
            "  Using cached numpy-1.26.4-cp311-cp311-manylinux_2_17_x86_64.manylinux2014_x86_64.whl.metadata (61 kB)\n",
            "Using cached numpy-1.26.4-cp311-cp311-manylinux_2_17_x86_64.manylinux2014_x86_64.whl (18.3 MB)\n",
            "Installing collected packages: numpy\n",
            "\u001b[31mERROR: pip's dependency resolver does not currently take into account all the packages that are installed. This behaviour is the source of the following dependency conflicts.\n",
            "fastai 2.7.19 requires spacy<4, which is not installed.\u001b[0m\u001b[31m\n",
            "\u001b[0mSuccessfully installed numpy-1.26.4\n",
            "np.__version__:1.26.4\n",
            "gensim.__version__:4.3.3\n"
          ]
        }
      ],
      "source": [
        "# Google Colab 上で実行しているかどうかを判定\n",
        "import IPython\n",
        "isColab = 'google.colab' in str(IPython.get_ipython())\n",
        "\n",
        "# Google colab で実行している場合必要なライブラリをインストールして word2vec ファイルをダウンロードする\n",
        "if isColab:\n",
        "    # Install PyDrive\n",
        "    !pip install pydrive2\n",
        "    #!pip install PyDrive2\n",
        "\n",
        "    #Import modules\n",
        "    from pydrive2.auth import GoogleAuth\n",
        "    #from pydrive.auth import GoogleAuth\n",
        "    from pydrive2.drive import GoogleDrive\n",
        "    from google.colab import auth\n",
        "    from oauth2client.client import GoogleCredentials\n",
        "\n",
        "    #Authenticate and create the PyDrive client\n",
        "    auth.authenticate_user()\n",
        "    gauth = GoogleAuth()\n",
        "    gauth.credentials = GoogleCredentials.get_application_default()\n",
        "    drive = GoogleDrive(gauth)\n",
        "\n",
        "    #Get the Shareable link\n",
        "    # 2017Jul_jawiki-wakati_neologd_hid200_win20_neg20_cbow.bin.gz: 1Rp3HbDkbpzMg5ehq1ARwCATX8iZAxTgj\n",
        "    # 2017Jul_jawiki-wakati_neologd_hid200_win20_neg20_sgns.bin.gz: 19BKVOBNHESt1K8725UTM9J3OpqK7YlVb\n",
        "    downloaded = drive.CreateFile({'id':\"1Rp3HbDkbpzMg5ehq1ARwCATX8iZAxTgj\"})\n",
        "    downloaded.GetContentFile('2017Jul_jawiki-wakati_neologd_hid200_win20_neg20_cbow.bin.gz')\n",
        "\n",
        "    # 2021_05jawiki_hid200_win20_neg20_sgns.bin.gz: 1JTkU5SUBU2GkURCYeHkAWYs_Zlbqob0s\n",
        "    # 2021_05jawiki_hid200_win20_neg20_cbow.bin.gz: 1VPL2Mr9JgWHik9HjRmcADoxXIdrQ3ds7\n",
        "    # 2021_05jawiki_hid128_win10_neg10_sgns.bin.gz: 1OWmFOVRC6amCxsomcRwdA6ILAA5s4y4M\n",
        "    # 2021_05jawiki_hid128_win10_neg10_cbow.bin.gz: 1B9HGhLZOja4Xku5c_d-kMhCXn1LBZgDb\n",
        "    # 上記は cbow で訓練済ファイルをダウンロードしています。\n",
        "    # skip gram モデルで訓練済モデルに変更する場合には，上記情報に従って 27 行目と 28 行目を書き換えてください。\n",
        "\n",
        "    !pip install --upgrade gensim==4.3.3\n",
        "    !pip uninstall numpy thinc spacy --yes\n",
        "    !pip install --upgrade \"numpy==1.26.4\" --force-reinstall\n",
        "\n",
        "    import numpy as np\n",
        "    print(f'np.__version__:{np.__version__}')\n",
        "\n",
        "    import gensim\n",
        "    print(f'gensim.__version__:{gensim.__version__}')"
      ]
    },
    {
      "cell_type": "code",
      "source": [
        "import numpy as np\n",
        "from gensim.models import KeyedVectors\n",
        "\n",
        "w2v = KeyedVectors.load_word2vec_format(\n",
        "    '2017Jul_jawiki-wakati_neologd_hid200_win20_neg20_cbow.bin.gz',\n",
        "    encoding='utf-8',\n",
        "    unicode_errors='replace',\n",
        "    binary=True)"
      ],
      "metadata": {
        "id": "t2G6CnHaPlsA"
      },
      "execution_count": 2,
      "outputs": []
    },
    {
      "cell_type": "code",
      "source": [
        "# 以下は動作確認です。\n",
        "# 埋め込みベクトルを得る\n",
        "print(w2v['心理学'])"
      ],
      "metadata": {
        "id": "iTBc_su9PmtN",
        "colab": {
          "base_uri": "https://localhost:8080/"
        },
        "outputId": "7637236d-0894-4c5e-c9f0-0d61095df238"
      },
      "execution_count": 3,
      "outputs": [
        {
          "output_type": "stream",
          "name": "stdout",
          "text": [
            "[-4.6366450e-01  1.5878254e+00  5.8640881e+00 -2.4789960e+00\n",
            "  4.4675736e+00  2.3570426e+00  1.9700968e+00  7.6300138e-01\n",
            " -6.8736953e-01  7.8190148e-02 -2.0284784e+00  3.0657043e+00\n",
            "  2.6066406e+00  3.3269143e+00 -2.4478278e+00 -1.7574381e+00\n",
            "  2.9796679e+00 -3.0204411e+00  7.4983114e-01 -1.5748807e+00\n",
            "  2.1394424e+00 -2.5953643e+00  1.9991114e+00  3.2585974e+00\n",
            "  3.6972950e+00 -2.9773614e+00 -3.2851970e+00  1.3825095e+00\n",
            "  6.7821040e+00 -1.8315959e+00  5.7784092e-01 -5.8598828e+00\n",
            "  4.0215831e+00 -1.9340446e+00 -1.6892830e+00  1.4817338e+00\n",
            " -4.3826711e-01  3.2008557e+00 -3.6775868e+00 -1.7771831e+00\n",
            "  1.1878880e+00  2.2123621e+00 -5.0803962e+00 -8.0637515e-01\n",
            " -1.0886536e+00 -1.7441139e+00 -4.4455419e+00 -2.1554409e-01\n",
            "  2.6759894e+00  4.2460856e-01  2.1190140e+00 -5.9657230e+00\n",
            " -2.2607414e-02 -2.6261637e+00  2.7910161e+00 -1.4153436e+00\n",
            "  2.5909829e+00 -2.0054159e+00  3.7389710e+00 -5.9629166e-01\n",
            " -5.3036410e-01 -4.0315208e+00  2.2770782e+00 -1.0734141e+00\n",
            " -4.0930724e+00  1.2078514e+00  2.9437931e+00 -1.5026382e-01\n",
            " -5.0630479e+00 -3.8920131e+00  1.7900462e+00  3.9048674e+00\n",
            "  2.8881067e-01 -6.8426751e-02  1.9942945e+00 -2.3869390e+00\n",
            "  3.8603172e+00 -1.3296098e+00 -7.7753204e-01  5.8895178e+00\n",
            "  3.8204203e+00  6.9899517e-01 -1.7083251e+00 -1.5517281e+00\n",
            " -1.5303540e+00 -6.0977125e-01 -4.0945435e+00 -2.3171732e+00\n",
            " -2.9716942e-01  1.5492259e+00 -1.0064278e+00  1.6148415e+00\n",
            "  2.1801968e+00  4.9271074e-01  2.5425961e+00  2.9621291e+00\n",
            " -2.3301136e+00 -8.6282778e-01 -1.9701257e+00  1.0512820e+00\n",
            " -1.7490621e+00  1.1562370e+00  2.6049366e+00 -7.0200914e-01\n",
            "  5.2662487e+00 -4.0454087e+00 -4.9507672e-01 -9.0935268e-02\n",
            " -1.2934088e+00 -8.4746492e-01 -3.1633002e-01 -2.4453161e+00\n",
            "  2.1162889e+00  4.9274273e+00 -7.9539156e-01 -8.7140828e-02\n",
            "  1.8126452e+00 -2.7289736e+00 -1.0537194e+00 -3.6183873e-01\n",
            "  1.5653979e+00  4.3469140e-01  3.1448655e+00 -3.6398454e+00\n",
            "  3.3301122e+00 -5.5908871e-01  1.8419091e+00 -3.0456142e+00\n",
            "  1.6437793e-01 -2.1436231e-01 -1.1200224e+00 -1.4071581e+00\n",
            " -1.2229035e+00  3.8800476e+00 -1.6567461e+00  5.3504133e+00\n",
            " -4.2151971e+00 -1.2781119e+00 -1.6381439e+00 -2.4234860e+00\n",
            "  3.3492017e-01 -6.3959938e-01  2.3564796e+00 -4.3826750e-01\n",
            " -4.8541069e-01 -1.5896546e+00 -2.2687018e-01  1.8090745e+00\n",
            " -5.2162099e-01  1.6937003e+00  1.3227440e-02 -1.3037068e+00\n",
            " -2.2658823e-01  1.7535419e+00  2.1658235e+00  3.8142624e+00\n",
            "  1.4665395e+00 -3.6781485e+00 -4.1658902e+00 -3.5790877e+00\n",
            " -7.5764012e-01  1.5610951e-01 -2.4576883e+00  6.7736012e-01\n",
            "  3.4743016e+00 -3.2996160e-01  4.1616580e-01  6.6194587e+00\n",
            " -1.7691375e-01  3.8939601e-01  4.9709172e+00  5.9178805e+00\n",
            "  2.6238139e+00  8.9098030e-01  4.2613801e-01  1.2305405e+00\n",
            " -7.6187171e-05  3.0493753e+00  5.1848722e-01  4.7975677e-01\n",
            " -8.4148836e-01 -2.1107361e+00  2.6246517e+00 -1.9321957e+00\n",
            " -5.2257209e+00  4.1935592e+00  1.9429837e+00  3.5782638e+00\n",
            " -2.5575769e+00 -2.3765306e+00 -5.4039210e-01  8.5244566e-01\n",
            "  1.1997930e+00 -1.0852900e+00 -2.7541277e+00  2.4039927e+00\n",
            " -1.6747514e+00 -3.2592092e+00 -2.1855257e+00 -2.0284247e+00]\n"
          ]
        }
      ]
    },
    {
      "cell_type": "code",
      "source": [
        "# 最も近い単語を得る\n",
        "print(w2v.most_similar('認知科学'))"
      ],
      "metadata": {
        "id": "jCY7a98vSH19"
      },
      "execution_count": null,
      "outputs": []
    }
  ]
}