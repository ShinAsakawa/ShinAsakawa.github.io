{
  "nbformat": 4,
  "nbformat_minor": 0,
  "metadata": {
    "colab": {
      "provenance": [],
      "authorship_tag": "ABX9TyNAyekTkudZPJaHV9gkLoix",
      "include_colab_link": true
    },
    "kernelspec": {
      "name": "python3",
      "display_name": "Python 3"
    },
    "language_info": {
      "name": "python"
    }
  },
  "cells": [
    {
      "cell_type": "markdown",
      "metadata": {
        "id": "view-in-github",
        "colab_type": "text"
      },
      "source": [
        "<a href=\"https://colab.research.google.com/github/ShinAsakawa/ShinAsakawa.github.io/blob/master/2025notebooks/2025_0428get_word2vec_pretrained_file_from_GDrive.ipynb\" target=\"_parent\"><img src=\"https://colab.research.google.com/assets/colab-badge.svg\" alt=\"Open In Colab\"/></a>"
      ]
    },
    {
      "cell_type": "markdown",
      "source": [
        "# 訓練済 word2vec ファイルの読み込み\n",
        "\n",
        "* datea: 2025_0428\n",
        "* author: 浅川伸一\n",
        "* email: asakawa@ieee.org\n",
        "* note:\n",
        "東京女子大学の https サーバが改変になったため，訓練済ファイルを Google Drive に置いた。\n",
        "以下のコードは，新しく Google Drive においた訓練済 word2vec ファイルを読み込むためのサンプルコードです。\n"
      ],
      "metadata": {
        "id": "OpwZR5d5SV2b"
      }
    },
    {
      "cell_type": "code",
      "execution_count": null,
      "metadata": {
        "id": "KdafwnuePPFN"
      },
      "outputs": [],
      "source": [
        "# Google Colab 上で実行しているかどうかを判定\n",
        "import IPython\n",
        "isColab = 'google.colab' in str(IPython.get_ipython())\n",
        "\n",
        "# Google colab で実行している場合必要なライブラリをインストールして word2vec ファイルをダウンロードする\n",
        "if isColab:\n",
        "    # Install PyDrive\n",
        "    !pip install pydrive2\n",
        "    #!pip install PyDrive2\n",
        "\n",
        "    #Import modules\n",
        "    from pydrive2.auth import GoogleAuth\n",
        "    #from pydrive.auth import GoogleAuth\n",
        "    from pydrive2.drive import GoogleDrive\n",
        "    from google.colab import auth\n",
        "    from oauth2client.client import GoogleCredentials\n",
        "\n",
        "    #Authenticate and create the PyDrive client\n",
        "    auth.authenticate_user()\n",
        "    gauth = GoogleAuth()\n",
        "    gauth.credentials = GoogleCredentials.get_application_default()\n",
        "    drive = GoogleDrive(gauth)\n",
        "\n",
        "    #Get the Shareable link\n",
        "    # 2017Jul_jawiki-wakati_neologd_hid200_win20_neg20_cbow.bin.gz: 1Rp3HbDkbpzMg5ehq1ARwCATX8iZAxTgj\n",
        "    # 2017Jul_jawiki-wakati_neologd_hid200_win20_neg20_sgns.bin.gz: 19BKVOBNHESt1K8725UTM9J3OpqK7YlVb\n",
        "    downloaded = drive.CreateFile({'id':\"1Rp3HbDkbpzMg5ehq1ARwCATX8iZAxTgj\"})\n",
        "    downloaded.GetContentFile('2017Jul_jawiki-wakati_neologd_hid200_win20_neg20_cbow.bin.gz')\n",
        "    # 上記は cbow で訓練済ファイルをダウンロードしています。\n",
        "    # skip gram モデルで訓練済モデルに変更する場合には，上記 26 行目の情報に従って 27 行目と 28 行目を書き換えてください。"
      ]
    },
    {
      "cell_type": "code",
      "source": [
        "# gensim のインストール\n",
        "try:\n",
        "  import gensim\n",
        "except ImportError:\n",
        "  !pip install --upgrade gensim numpy\n",
        "\n",
        "from gensim.models import KeyedVectors\n",
        "\n",
        "w2v = KeyedVectors.load_word2vec_format(\n",
        "    '2017Jul_jawiki-wakati_neologd_hid200_win20_neg20_cbow.bin.gz',\n",
        "    encoding='utf-8',\n",
        "    unicode_errors='replace',\n",
        "    binary=True)"
      ],
      "metadata": {
        "id": "t2G6CnHaPlsA"
      },
      "execution_count": 4,
      "outputs": []
    },
    {
      "cell_type": "code",
      "source": [
        "# 以下は動作確認です。\n",
        "# 埋め込みベクトルを得る\n",
        "print(w2v['心理学'])"
      ],
      "metadata": {
        "id": "iTBc_su9PmtN"
      },
      "execution_count": null,
      "outputs": []
    },
    {
      "cell_type": "code",
      "source": [
        "# 最も近い単語を得る\n",
        "print(w2v.most_similar('認知科学'))"
      ],
      "metadata": {
        "colab": {
          "base_uri": "https://localhost:8080/"
        },
        "id": "jCY7a98vSH19",
        "outputId": "2929d934-081c-47f3-f456-85910c925b84"
      },
      "execution_count": 6,
      "outputs": [
        {
          "output_type": "stream",
          "name": "stdout",
          "text": [
            "[('認知心理学', 0.8334233164787292), ('神経科学', 0.7818430066108704), ('進化心理学', 0.7730923295021057), ('心の哲学', 0.7299574017524719), ('脳科学', 0.7170137763023376), ('記号論', 0.7064270973205566), ('科学哲学', 0.7022131681442261), ('情報工学', 0.6849184632301331), ('計算理論', 0.6785038709640503), ('進化生物学', 0.67652428150177)]\n"
          ]
        }
      ]
    },
    {
      "cell_type": "code",
      "source": [],
      "metadata": {
        "id": "u56DcIyLSRUN"
      },
      "execution_count": null,
      "outputs": []
    }
  ]
}