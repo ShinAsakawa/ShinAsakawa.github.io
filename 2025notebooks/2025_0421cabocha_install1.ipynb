{
  "nbformat": 4,
  "nbformat_minor": 0,
  "metadata": {
    "colab": {
      "private_outputs": true,
      "provenance": [],
      "authorship_tag": "ABX9TyPqucCqWC5R/8vYWlPiqzpG",
      "include_colab_link": true
    },
    "kernelspec": {
      "name": "python3",
      "display_name": "Python 3"
    },
    "language_info": {
      "name": "python"
    }
  },
  "cells": [
    {
      "cell_type": "markdown",
      "metadata": {
        "id": "view-in-github",
        "colab_type": "text"
      },
      "source": [
        "<a href=\"https://colab.research.google.com/github/ShinAsakawa/ShinAsakawa.github.io/blob/master/2025notebooks/2025_0421cabocha_install1.ipynb\" target=\"_parent\"><img src=\"https://colab.research.google.com/assets/colab-badge.svg\" alt=\"Open In Colab\"/></a>"
      ]
    },
    {
      "cell_type": "markdown",
      "source": [
        "# [MeCab のインストール](https://qiita.com/iimuz/items/30a7e02772ffd3445f3b)\n"
      ],
      "metadata": {
        "id": "oiCG8Ht-FfK6"
      }
    },
    {
      "cell_type": "code",
      "execution_count": null,
      "metadata": {
        "id": "Eoy2IjLsFd_i"
      },
      "outputs": [],
      "source": [
        "!apt install -y curl file git libmecab-dev make mecab mecab-ipadic-utf8 swig xz-utils\n",
        "!pip install mecab-python3"
      ]
    },
    {
      "cell_type": "markdown",
      "source": [
        "# CRF++ のインストール\n",
        "次に、 Cabocha の依存パッケージである CRF++ をインストールします。最新版の CRF++ はダウンロードページ(Google Drive)から取得できます。"
      ],
      "metadata": {
        "id": "tdu-OBzGFuw4"
      }
    },
    {
      "cell_type": "code",
      "source": [
        "import os\n",
        "\n",
        "filename_crfpp = 'CRF++-0.58.tar.gz'\n",
        "!wget \"https://drive.google.com/uc?export=download&id=1lEwSRLAXpPnlPMPv8fx48y13Xy5eHNU9\" -O $filename_crfpp\n",
        "!tar zxvf $filename_crfpp\n",
        "%cd CRF++-0.58\n",
        "!./configure\n",
        "!make\n",
        "!make install\n",
        "%cd ..\n",
        "\n",
        "os.environ['LD_LIBRARY_PATH'] += ':/usr/local/lib'\n"
      ],
      "metadata": {
        "id": "z5RDGMtOFsIe"
      },
      "execution_count": null,
      "outputs": []
    },
    {
      "cell_type": "markdown",
      "source": [
        "CRF++ のインストール後にライブラリへのパスを追加する必要があります。\n",
        "これをしないと、 CaboCha のインストール時に CRF++ の共有ファイル (.so) が見つからないというかエラーが発生します。\n",
        "最初は、コマンド形式でインストールしていたため、パスの追加に export を使って書いたのですが、変更されませんでした。\n",
        "結局、 os.environ で設定を書き換えることで、認識できました。"
      ],
      "metadata": {
        "id": "epUhB3CpF6jG"
      }
    },
    {
      "cell_type": "markdown",
      "source": [
        "# CaboCha のインストール\n",
        "\n",
        "最後に、今回使いたい Cabocha をインストールします。\n",
        "上記の CRF++ までが、正常にインストール出来ていれば、うまく行くはずです。"
      ],
      "metadata": {
        "id": "0L5ZU7bsGBVD"
      }
    },
    {
      "cell_type": "code",
      "source": [
        "# https://drive.google.com/drive/folders/12QKBOFCjfaPebMVnXuBTBGX4VvNb5kPF からファイルを入手できないため，ローカルドライブからアップロード\n",
        "#!rm -f cabocha*\n",
        "from google.colab import files\n",
        "_ = files.upload()"
      ],
      "metadata": {
        "id": "KnlzM9FBIcMB"
      },
      "execution_count": null,
      "outputs": []
    },
    {
      "cell_type": "code",
      "source": [
        "filename_cabocha = 'cabocha-0.69.tar.bz2'\n",
        "#url_cabocha = 'https://drive.google.com/uc?export=download&id=1hw5En9Qlm4bsXOboMn4SJQzwmLQVAvXZ'\n",
        "#url_cabocha  = 'https://drive.google.com/uc?export=download&id=1hw5En9Qlm4bsXOboMn4SJQzwmLQVAvXZ'\n",
        "#!wget \"https://drive.google.com/uc?export=download&id=1lEwSRLAXpPnlPMPv8fx48y13Xy5eHNU9\" -O $filename_crfpp\n",
        "#!wget 'https://drive.google.com/uc?export=download&id=1hw5En9Qlm4bsXOboMn4SJQzwmLQVAvXZ' -O $filename_cabocha\n",
        "#url_cabocha = 'https://drive.google.com/uc?export=download&id=0B4y35FiV1wh7SDd1Q1dUQkZQaUU'\n",
        "#!wget \"$url_cabocha\" -O $filename_cabocha\n",
        "!bzip2 -dc $filename_cabocha | tar xvf -\n",
        "%cd cabocha-0.69\n",
        "!./configure --with-mecab-config=`which mecab-config` --with-charset=UTF8\n",
        "!make\n",
        "!make check\n",
        "!make install\n",
        "%cd ..\n",
        "!cabocha --version\n"
      ],
      "metadata": {
        "id": "OsWU3STYGER0"
      },
      "execution_count": null,
      "outputs": []
    },
    {
      "cell_type": "code",
      "source": [
        "%cd cabocha-0.69/python\n",
        "!python setup.py build_ext\n",
        "!python setup.py install\n",
        "!ldconfig\n",
        "%cd ../.."
      ],
      "metadata": {
        "id": "d-wSBliyMMQw"
      },
      "execution_count": null,
      "outputs": []
    },
    {
      "cell_type": "code",
      "source": [
        "!echo '太郎は花子が読んでいる本を次郎に渡した' | cabocha"
      ],
      "metadata": {
        "id": "R72KJD8-M__g"
      },
      "execution_count": null,
      "outputs": []
    }
  ]
}