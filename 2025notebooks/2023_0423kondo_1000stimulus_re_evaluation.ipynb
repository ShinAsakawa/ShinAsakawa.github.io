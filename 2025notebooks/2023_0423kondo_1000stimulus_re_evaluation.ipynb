{
  "cells": [
    {
      "cell_type": "markdown",
      "metadata": {
        "id": "view-in-github",
        "colab_type": "text"
      },
      "source": [
        "<a href=\"https://colab.research.google.com/github/ShinAsakawa/ShinAsakawa.github.io/blob/master/2025notebooks/2023_0423kondo_1000stimulus_re_evaluation.ipynb\" target=\"_parent\"><img src=\"https://colab.research.google.com/assets/colab-badge.svg\" alt=\"Open In Colab\"/></a>"
      ]
    },
    {
      "cell_type": "markdown",
      "id": "068df1c0-ceca-4741-8787-b3c2f95cd668",
      "metadata": {
        "id": "068df1c0-ceca-4741-8787-b3c2f95cd668"
      },
      "source": [
        "* date: 2023_0423\n",
        "* filename: `2023_0423kondo_1000stimulus_re-evaluation.ipynb`\n",
        "* author: Shin Asakawa\n",
        "\n",
        "## 2023_0513 追記\n",
        "\n",
        "### BCCWJ データ問題\n",
        "\n",
        "以下は code 内に BCCWJ が入っているので，本ディレクトリにコピーした。\n",
        "\n",
        "```bash\n",
        "gcp ../../2022ccap/notebooks/2022_0213minnichi_lm_generator.ipynb .\n",
        "gcp ../../2022kondo_project/notebooks/2021_1213bccwj_test.ipynb .\n",
        "gcp ../../2022kondo_project/notebooks/2022_0202wiki_onomatope_filtered.ipynb .\n",
        "```\n",
        "\n",
        "### 常用漢字問題\n",
        "\n",
        "開発した ortho2phon 読字モデルは，常用漢字しか扱っていなかった。\n",
        "このため，常用漢字に定義されていない文字を含む語は，一部が unknown topen (`<UNK>`) として扱われることとなる。\n",
        "\n",
        "具体的には，以下の 63 語が，常用漢字で定義されていない文字を含む単語刺激である\n",
        "\n",
        "`['合鴨', '相槌', '赤錆', '熱燗', '斡旋', '甘鯛', '飴色', '飴玉', '石鯛', '芋粥', '金槌', '蟹玉', '蒲鉾', '革紐', '柑橘', '口髭', '栗色', '黒鯛', '啓蒙', '腰紐', '骨董', '昏睡', '混沌', '紺碧', '酒樽', '酒粕', '笹舟', '鮫肌', '沢蟹', '灼熱', '白樺', '惣菜', '竹竿', '竹薮', '只事', '只者', '縦縞', '吊鐘', '吊革', '釣竿', '吊棚', '吊橋', '鳩麦', '挽回', '晩餐', '髭面', '菱形', '呆然', '頬杖', '頬骨', '星屑', '松茸', '水飴', '耳垢', '麦藁', '薮蛇', '山鳩', '槍玉', '夕凪', '淋病', '牢獄', '歪曲', '若鮎']`\n",
        "\n",
        "これらの 63 語を除外して 1000-63=937 語中の正解率をみると 615/937=0.65635 となり 65 % ほどの正解率となった。\n",
        "\n",
        "\n",
        "### julius 表記との齟齬問題\n",
        "\n",
        "近藤先生との相談の上，`1000stimulus-poponly-News2_2022.xlsx` の音韻表記と `jaconv.julius` の表記が異なる。\n",
        "そのため，2023cnps で訓練済モデル `fname = 'RAM/2023_0313RAM_o2p_psylex71_30k_h256_leda.pt'` とは不一致が存在する。\n",
        "\n",
        "そこで， `1000stimulus-poponly-News2_2022.xlsx` の 'yomo1' と 'yomi2' の両列から再構成した読みを julius 表記に変換して，正解データとみなした。\n",
        "\n",
        "結果:\n",
        "\n",
        "正解数は 615 となった。正解率では 0.615 であった。\n",
        "それほど高い値ではないが，以前と比べれば向上している。\n",
        "\n",
        "`1000stimulus-poponly-News_2022.xlsx` に記載されている音韻表記と julius 表記した音韻と異なる音韻表記は，248 語であった。\n",
        "\n",
        "例えば以下の通りである:\n",
        "```\n",
        ":{'斡旋': {'phon_julius': 'aqseN', 'phon_orig': 'aQseN'}, '圧倒': {'phon_julius': 'aqto:', 'phon_orig': 'aQto:'}, '雨足': {'phon_julius': 'ama:shi', 'phon_orig': 'amaashi'}, '育成': {'phon_julius': 'ikusei', 'phon_orig': 'ikuse:'}, '飲食': {'phon_julius': 'iNshoku', 'phon_orig': 'iNshyoku'}, '印税': {'phon_julius': 'iNzei', 'phon_orig': 'iNze:'}, '上顎': {'phon_julius': 'uwa:go', 'phon_orig': 'uwaago'}, '上背': {'phon_julius': 'uwazei', 'phon_orig': 'uwaze:'},\n",
        "```\n",
        "\n",
        "音韻表現の異なった全単語を以下に示す:\n",
        "```\n",
        "print(phon_diffs)\n",
        "['斡旋', '圧倒', '雨足', '育成', '飲食', '印税', '上顎', '上背', '運営', '雲泥', '影響', '永住', '鋭敏', '英雄', '越境', '炎上', '欧米', '屋上', '恩恵', '革命', '学校', '合作', '渇水', '活発', '金網', '歓迎', '吉報', '救出', '吟醸', '空襲', '屈辱', '栗色', '黒帯', '軍縮', '軽減', '芸術', '迎春', '計測', '警笛', '芸能', '啓蒙', '契約', '敬礼', '系列', '敬老', '月給', '欠勤', '傑作', '決着', '潔白', '剣術', '減税', '幻聴', '強情', '骨董', '昆虫', '婚礼', '撮影', '錯覚', '作曲', '殺菌', '雑菌', '里親', '算術', '暫定', '敷石', '下味', '失脚', '実態', '執筆', '弱小', '灼熱', '若輩', '尺八', '釈明', '借用', '醜悪', '重圧', '収縮', '住宅', '終点', '終電', '充電', '充満', '集約', '縦列', '収賄', '縮尺', '熟読', '宿泊', '祝福', '出願', '純愛', '潤滑', '準急', '俊足', '瞬発', '順番', '純朴', '巡礼', '順列', '掌握', '消音', '昇格', '正月', '照準', '上旬', '常食', '乗船', '醸造', '承諾', '衝突', '蒸発', '城壁', '静脈', '条約', '条例', '食通', '職人', '触発', '植毛', '尋常', '垂直', '凄腕', '制圧', '税額', '生活', '清潔', '税収', '青春', '整頓', '西北', '精米', '成立', '席上', '雪辱', '節水', '設定', '窃盗', '説得', '絶筆', '前衛', '先着', '操縦', '増収', '早春', '造成', '贈呈', '率直', '卒倒', '台形', '奪還', '脱走', '誕生', '壇上', '着水', '仲裁', '駐在', '注釈', '抽選', '駐屯', '中腹', '超越', '調教', '朝食', '長編', '眺望', '調律', '直列', '珍獣', '沈着', '釣糸', '提供', '低空', '抵抗', '体裁', '偵察', '定住', '邸宅', '停泊', '堤防', '撤収', '撤退', '徹底', '透明', '特訓', '突出', '長雨', '南米', '日直', '捻出', '粘着', '灰色', '敗因', '拝借', '買収', '賠償', '薄弱', '罰金', '白骨', '発色', '抜粋', '半周', '半熟', '判明', '筆跡', '匹敵', '漂着', '表明', '便乗', '藤色', '復権', '物色', '沸騰', '兵役', '弊害', '平然', '閉店', '併用', '並立', '別品', '報酬', '放出', '墨汁', '細腕', '北極', '勃発', '抹殺', '末端', '密告', '明確', '名作', '免税', '遊泳', '幼虫', '翌週', '抑制', '欲求', '陸上', '立腹', '猟銃', '臨終', '冷却', '例題', '列強', '練習', '若鮎', '腕章']\n",
        "```\n",
        "\n",
        "`1000stimulus-poponly-News2_2022.xlsx` に対して，\n",
        "['word', 'model_output', 'julius_tch', 'yes/no', 'entropy'] の列を追加したエクセルファイルを\n",
        "ファイル名 '2023_0423_1000stimulus-proponly-New2_2022.xlsx' として保存した\n"
      ]
    },
    {
      "cell_type": "markdown",
      "id": "0fc8477f-1740-499f-9459-9f34d97741af",
      "metadata": {
        "id": "0fc8477f-1740-499f-9459-9f34d97741af"
      },
      "source": [
        "## isColab の判定とライブラリの輸入"
      ]
    },
    {
      "cell_type": "code",
      "source": [
        "from IPython import get_ipython\n",
        "isColab = 'google.colab' in str(get_ipython())\n",
        "\n",
        "if isColab:\n",
        "    # numpy は python 処理系に予めインストールされている前提なので，このランタイムは再起動する必要がある\n",
        "    #!pip install gensim==4.3 numpy==1.26 scipy==1.13.1\n",
        "    !pip install gensim==4.3 numpy==1.26 scipy==1.10.1\n",
        "    import numpy\n",
        "    import scipy\n",
        "    import gensim\n",
        "    print(f'numpy.__version__:{numpy.__version__},\\n',\n",
        "          f'scipy.__version__:{scipy.__version__},\\n',\n",
        "          f'gensim.__version__:{gensim.__version__}\\n# ランタイムを再起動してください Restart current runtime!')\n"
      ],
      "metadata": {
        "id": "bBkels_jOza0"
      },
      "id": "bBkels_jOza0",
      "execution_count": null,
      "outputs": []
    },
    {
      "cell_type": "code",
      "source": [
        "# 上セルに加えて Pytorch のバージョンもダウングレードする必要があるのかも知れない\n",
        "if isColab:\n",
        "    # numpy は python 処理系に予めインストールされている前提なので，このランタイムは再起動する必要がある\n",
        "    !pip install torch==2.2\n",
        "    import torch\n",
        "    print(f'torch.__version__:{torch.__version__}')\n"
      ],
      "metadata": {
        "id": "eB6_pCaQURrt"
      },
      "id": "eB6_pCaQURrt",
      "execution_count": null,
      "outputs": []
    },
    {
      "cell_type": "code",
      "execution_count": null,
      "id": "15daedfc-18e7-466e-9812-2bda769ddf37",
      "metadata": {
        "id": "15daedfc-18e7-466e-9812-2bda769ddf37"
      },
      "outputs": [],
      "source": [
        "import torch\n",
        "device = torch.device('cuda:0' if torch.cuda.is_available() else 'cpu')\n",
        "\n",
        "from IPython import get_ipython\n",
        "isColab = 'google.colab' in str(get_ipython())\n",
        "\n",
        "if isColab:\n",
        "\n",
        "    # termcolor を downgrade しないと colab ではテキストに色がつかない\n",
        "    !pip install --upgrade termcolor==1.1\n",
        "    import termcolor\n",
        "\n",
        "    !pip install jaconv\n",
        "\n",
        "    # colab 上で MeCab を動作させるために，C コンパイラを起動して，MeCab の構築を行うため時間がかかる。\n",
        "    !apt install aptitude\n",
        "    !aptitude install mecab libmecab-dev mecab-ipadic-utf8 git make curl xz-utils file -y\n",
        "    !pip install mecab-python3==0.7\n",
        "    !pip install jaconv\n",
        "    !pip install japanize_matplotlib\n",
        "\n",
        "    import MeCab\n",
        "    mecab_wakati = MeCab.Tagger('-Owakati').parse\n",
        "    mecab_yomi = MeCab.Tagger('-Oyomi').parse\n",
        "else:\n",
        "    from ccap.mecab_settings import yomi as mecab_yomi\n",
        "    from ccap.mecab_settings import wakati as mecab_wakati\n",
        "\n",
        "import os\n",
        "if not os.path.exists('RAM'):\n",
        "    !git clone https://github.com/ShinAsakawa/RAM.git\n",
        "\n",
        "from RAM.dataset import *\n",
        "from RAM import check_vals_performance\n",
        "from RAM import set_model_from_param_file\n",
        "from RAM import check_fushimi1999_words\n",
        "\n",
        "import matplotlib.pyplot as plt\n",
        "try:\n",
        "    import japanize_matplotlib\n",
        "except ImportError:\n",
        "    !pip install japanize_matplotlib\n",
        "    import japanize_matplotlib\n",
        "\n",
        "from termcolor import colored"
      ]
    },
    {
      "cell_type": "markdown",
      "id": "f9fb381b-031f-4228-b449-ecb25fa857b5",
      "metadata": {
        "id": "f9fb381b-031f-4228-b449-ecb25fa857b5"
      },
      "source": [
        "# 1. 訓練済パラメータの読み込み"
      ]
    },
    {
      "cell_type": "code",
      "execution_count": 6,
      "id": "3c173213-ec04-4cb7-90d3-c2703951cdc3",
      "metadata": {
        "colab": {
          "base_uri": "https://localhost:8080/"
        },
        "id": "3c173213-ec04-4cb7-90d3-c2703951cdc3",
        "outputId": "682e7356-b29a-41d7-8536-990b3d6cac80"
      },
      "outputs": [
        {
          "output_type": "stream",
          "name": "stdout",
          "text": [
            "dataset_name \u001b[1m\u001b[34mpsylex71\u001b[0m\n",
            "decoder \u001b[1m\u001b[34mAttnDecoderRNN(\n",
            "  (embedding): Embedding(48, 256)\n",
            "  (attn): Linear(in_features=512, out_features=33, bias=True)\n",
            "  (attn_combine): Linear(in_features=512, out_features=256, bias=True)\n",
            "  (dropout): Dropout(p=0.0, inplace=False)\n",
            "  (gru): GRU(256, 256)\n",
            "  (out_layer): Linear(in_features=256, out_features=48, bias=True)\n",
            ")\u001b[0m\n",
            "decoder_optimizer \u001b[1m\u001b[34mAdam (\n",
            "Parameter Group 0\n",
            "    amsgrad: False\n",
            "    betas: (0.9, 0.999)\n",
            "    capturable: False\n",
            "    differentiable: False\n",
            "    eps: 1e-08\n",
            "    foreach: None\n",
            "    fused: False\n",
            "    lr: 0.0001\n",
            "    maximize: False\n",
            "    weight_decay: 0\n",
            ")\u001b[0m\n",
            "dropout_p \u001b[1m\u001b[34m0.0\u001b[0m\n",
            "encoder \u001b[1m\u001b[34mEncoderRNN(\n",
            "  (embedding): Embedding(2375, 256)\n",
            "  (gru): GRU(256, 256)\n",
            ")\u001b[0m\n",
            "encoder_optimizer \u001b[1m\u001b[34mAdam (\n",
            "Parameter Group 0\n",
            "    amsgrad: False\n",
            "    betas: (0.9, 0.999)\n",
            "    capturable: False\n",
            "    differentiable: False\n",
            "    eps: 1e-08\n",
            "    foreach: None\n",
            "    fused: False\n",
            "    lr: 0.0001\n",
            "    maximize: False\n",
            "    weight_decay: 0\n",
            ")\u001b[0m\n",
            "epochs \u001b[1m\u001b[34m30\u001b[0m\n",
            "hidden_size \u001b[1m\u001b[34m256\u001b[0m\n",
            "loss_func \u001b[1m\u001b[34mNLLLoss()\u001b[0m\n",
            "losses \u001b[1m\u001b[34m[1.7812093782818887, 1.0101539163559348, 0.7366840303208056, 0.5948081974750001, 0.5001204245324711, 0.42938026334637514, 0.36713247032689217, 0.31856378100679716, 0.27468505834327245, 0.23933765868400472, 0.20845899162199558, 0.18097988864053396, 0.16246927148613896, 0.14058788322053037, 0.12440036989861045, 0.10605569922191331, 0.09980184163321189, 0.08755077047341164, 0.07729329316769439, 0.07480163936612443, 0.06665216356949985, 0.06392260554936514, 0.059016609544790155, 0.05332798757155016, 0.05181920700995705, 0.049555035120123804, 0.04828389251618111, 0.047114131772864005, 0.044057569747047505, 0.04305026881319685]\u001b[0m\n",
            "lr \u001b[1m\u001b[34m0.0001\u001b[0m\n",
            "optim_func \u001b[1m\u001b[34m<class 'torch.optim.adam.Adam'>\u001b[0m\n",
            "path_saved \u001b[1m\u001b[34mRAM/2023_0313RAM_o2p_psylex71_30k_h256_leda.pt\u001b[0m\n",
            "pretrained \u001b[1m\u001b[34mFalse\u001b[0m\n",
            "random_seed \u001b[1m\u001b[34m42\u001b[0m\n",
            "source \u001b[1m\u001b[34morth\u001b[0m\n",
            "stop_list \u001b[1m\u001b[34m[]\u001b[0m\n",
            "target \u001b[1m\u001b[34mphon\u001b[0m\n",
            "teacher_forcing_ratio \u001b[1m\u001b[34m0.5\u001b[0m\n",
            "train_accus \u001b[1m\u001b[34m[0.076, 0.37106666666666666, 0.5118, 0.5853333333333334, 0.6432333333333333, 0.6845666666666667, 0.7211333333333333, 0.7478333333333333, 0.7771666666666667, 0.8031333333333334, 0.8238, 0.8425666666666667, 0.8595333333333334, 0.8760333333333333, 0.8919666666666667, 0.9032666666666667, 0.9108, 0.9208666666666666, 0.9285333333333333, 0.9358333333333333, 0.9395666666666667, 0.9441, 0.9451333333333334, 0.9513, 0.9549333333333333, 0.9568666666666666, 0.9584333333333334, 0.9593333333333334, 0.9640666666666666, 0.9627]\u001b[0m\n",
            "traindata_ratio \u001b[1m\u001b[34m1.0\u001b[0m\n",
            "traindata_size \u001b[1m\u001b[34m30000\u001b[0m\n",
            "val_accus \u001b[1m\u001b[34m[['val:0.000'], ['val:0.300'], ['val:0.533'], ['val:0.625'], ['val:0.692'], ['val:0.708'], ['val:0.750'], ['val:0.817'], ['val:0.817'], ['val:0.850'], ['val:0.900'], ['val:0.858'], ['val:0.908'], ['val:0.942'], ['val:0.942'], ['val:0.942'], ['val:0.958'], ['val:0.967'], ['val:0.958'], ['val:0.967'], ['val:0.967'], ['val:0.950'], ['val:0.975'], ['val:0.967'], ['val:0.975'], ['val:0.967'], ['val:0.942'], ['val:0.958'], ['val:0.967'], ['val:0.967']]\u001b[0m\n",
            "verbose \u001b[1m\u001b[34mTrue\u001b[0m\n",
            "white_list \u001b[1m\u001b[34m['戦争', '倉庫', '医学', '注意', '記念', '番号', '料理', '完全', '開始', '印刷', '連続', '予約', '多少', '教員', '当局', '材料', '夕刊', '労働', '運送', '電池', '反対', '失敗', '作品', '指定', '実験', '決定', '独占', '独身', '固定', '食品', '表明', '安定', '各種', '役所', '海岸', '決算', '地帯', '道路', '安打', '楽団', '仲間', '夫婦', '人間', '神経', '相手', '反発', '化粧', '建物', '彼女', '毛糸', '場合', '台風', '夜間', '人形', '東西', '地元', '松原', '競馬', '大幅', '貸家', '集計', '観察', '予告', '動脈', '理学', '信任', '任務', '返信', '医局', '低温', '区別', '永続', '持続', '試練', '満開', '軍備', '製材', '銀貨', '急送', '改選', '表紙', '指針', '熱帯', '作詞', '決着', '食費', '古代', '地形', '役場', '品種', '祝福', '金銭', '根底', '接種', '経由', '郷土', '街路', '宿直', '曲折', '越境', '強引', '寿命', '豆腐', '出前', '歌声', '近道', '間口', '風物', '面影', '眼鏡', '居所', '献立', '小雨', '毛皮', '鳥居', '仲買', '頭取', '極上', '奉行', '夢路']\u001b[0m\n"
          ]
        }
      ],
      "source": [
        "%reload_ext autoreload\n",
        "%autoreload 2\n",
        "\n",
        "# 直下行では，fname を指定することで，異なる訓練済モデルを読み込むことが可能である。\n",
        "#fname = 'RAM/2023_0306ram_psylex71_10k_h256_o2p.pt'\n",
        "#fname = \"RAM/2023_0315ram_psylex71_10k_h64_o2p.pt\"\n",
        "#fname = \"RAM/2023_0315ram_psylex71_10k_h64_o2p_white_fushimi120.pt\"\n",
        "fname = 'RAM/2023_0313RAM_o2p_psylex71_30k_h256_leda.pt'\n",
        "#fname = 'RAM/2023_0311RAM_o2p_psylex71_20k_h256.pt'\n",
        "#_X = torch.load(fname)\n",
        "#_X = torch.load(fname, weights_only=True)\n",
        "\n",
        "# 訓練済ファイルを元に，モデルを復元，パラメータの再設定\n",
        "encoder, decoder, encoder_optimizer, decoder_optimizer, params, ds = set_model_from_param_file(fname=fname)\n",
        "fushimi1999_dataset = Fushimi1999_Dataset(source=params['source'], target=params['target'])\n",
        "\n",
        "check_vals_performance(\n",
        "    encoder=encoder, decoder=decoder,\n",
        "    _dataset={'Fushimi1999':fushimi1999_dataset},\n",
        "    source_vocab=ds.source_list, target_vocab=ds.target_list,\n",
        "    max_length=ds.maxlen, device=device)\n",
        "\n",
        "for k, v in sorted(params.items()):\n",
        "    print(k, colored(v,'blue',attrs=['bold']))"
      ]
    },
    {
      "cell_type": "code",
      "execution_count": 7,
      "id": "806bded9-22e8-463f-ad77-c259a450cedd",
      "metadata": {
        "colab": {
          "base_uri": "https://localhost:8080/",
          "height": 1000
        },
        "id": "806bded9-22e8-463f-ad77-c259a450cedd",
        "outputId": "470988f1-3aaa-4bd3-eee6-52a85e9073c0"
      },
      "outputs": [
        {
          "output_type": "display_data",
          "data": {
            "text/plain": [
              "<Figure size 2000x400 with 1 Axes>"
            ],
            "image/png": "[encoded data removed]"
          },
          "metadata": {}
        },
        {
          "output_type": "display_data",
          "data": {
            "text/plain": [
              "<Figure size 800x300 with 1 Axes>"
            ],
            "image/png": "[encoded data removed]"
          },
          "metadata": {}
        },
        {
          "output_type": "display_data",
          "data": {
            "text/plain": [
              "<Figure size 2000x400 with 1 Axes>"
            ],
            "image/png": "[encoded data removed]"
          },
          "metadata": {}
        },
        {
          "output_type": "display_data",
          "data": {
            "text/plain": [
              "<Figure size 800x300 with 1 Axes>"
            ],
            "image/png": "[encoded data removed]"
          },
          "metadata": {}
        },
        {
          "output_type": "execute_result",
          "data": {
            "text/plain": [
              "<function matplotlib.pyplot.show(close=None, block=None)>"
            ],
            "text/html": [
              "<div style=\"max-width:800px; border: 1px solid var(--colab-border-color);\"><style>\n",
              "      pre.function-repr-contents {\n",
              "        overflow-x: auto;\n",
              "        padding: 8px 12px;\n",
              "        max-height: 500px;\n",
              "      }\n",
              "\n",
              "      pre.function-repr-contents.function-repr-contents-collapsed {\n",
              "        cursor: pointer;\n",
              "        max-height: 100px;\n",
              "      }\n",
              "    </style>\n",
              "    <pre style=\"white-space: initial; background:\n",
              "         var(--colab-secondary-surface-color); padding: 8px 12px;\n",
              "         border-bottom: 1px solid var(--colab-border-color);\"><b>matplotlib.pyplot.show</b><br/>def show(*args, **kwargs) -&gt; None</pre><pre class=\"function-repr-contents function-repr-contents-collapsed\" style=\"\"><a class=\"filepath\" style=\"display:none\" href=\"#\">/usr/local/lib/python3.11/dist-packages/matplotlib/pyplot.py</a>Display all open figures.\n",
              "\n",
              "Parameters\n",
              "----------\n",
              "block : bool, optional\n",
              "    Whether to wait for all figures to be closed before returning.\n",
              "\n",
              "    If `True` block and run the GUI main loop until all figure windows\n",
              "    are closed.\n",
              "\n",
              "    If `False` ensure that all figure windows are displayed and return\n",
              "    immediately.  In this case, you are responsible for ensuring\n",
              "    that the event loop is running to have responsive figures.\n",
              "\n",
              "    Defaults to True in non-interactive mode and to False in interactive\n",
              "    mode (see `.pyplot.isinteractive`).\n",
              "\n",
              "See Also\n",
              "--------\n",
              "ion : Enable interactive mode, which shows / updates the figure after\n",
              "      every plotting command, so that calling ``show()`` is not necessary.\n",
              "ioff : Disable interactive mode.\n",
              "savefig : Save the figure to an image file instead of showing it on screen.\n",
              "\n",
              "Notes\n",
              "-----\n",
              "**Saving figures to file and showing a window at the same time**\n",
              "\n",
              "If you want an image file as well as a user interface window, use\n",
              "`.pyplot.savefig` before `.pyplot.show`. At the end of (a blocking)\n",
              "``show()`` the figure is closed and thus unregistered from pyplot. Calling\n",
              "`.pyplot.savefig` afterwards would save a new and thus empty figure. This\n",
              "limitation of command order does not apply if the show is non-blocking or\n",
              "if you keep a reference to the figure and use `.Figure.savefig`.\n",
              "\n",
              "**Auto-show in jupyter notebooks**\n",
              "\n",
              "The jupyter backends (activated via ``%matplotlib inline``,\n",
              "``%matplotlib notebook``, or ``%matplotlib widget``), call ``show()`` at\n",
              "the end of every cell by default. Thus, you usually don&#x27;t have to call it\n",
              "explicitly there.</pre>\n",
              "      <script>\n",
              "      if (google.colab.kernel.accessAllowed && google.colab.files && google.colab.files.view) {\n",
              "        for (const element of document.querySelectorAll('.filepath')) {\n",
              "          element.style.display = 'block'\n",
              "          element.onclick = (event) => {\n",
              "            event.preventDefault();\n",
              "            event.stopPropagation();\n",
              "            google.colab.files.view(element.textContent, 569);\n",
              "          };\n",
              "        }\n",
              "      }\n",
              "      for (const element of document.querySelectorAll('.function-repr-contents')) {\n",
              "        element.onclick = (event) => {\n",
              "          event.preventDefault();\n",
              "          event.stopPropagation();\n",
              "          element.classList.toggle('function-repr-contents-collapsed');\n",
              "        };\n",
              "      }\n",
              "      </script>\n",
              "      </div>"
            ]
          },
          "metadata": {},
          "execution_count": 7
        },
        {
          "output_type": "display_data",
          "data": {
            "text/plain": [
              "<Figure size 640x480 with 1 Axes>"
            ],
            "image/png": "[encoded data removed]"
          },
          "metadata": {}
        }
      ],
      "source": [
        "from RAM import draw_word_char_histgram\n",
        "\n",
        "draw_word_char_histgram(_dict=ds.data_dict, key='orth', title='書記', figsize2=(8,3))\n",
        "#plt.savefig('2023_0313psylex71_30k_orth_freq.pdf')\n",
        "draw_word_char_histgram(_dict=ds.data_dict, key='phon', title='音韻', figsize2=(8,3))\n",
        "#plt.savefig('2023_0313psylex71_30k_phon_freq.pdf')\n",
        "\n",
        "plt.plot(params['train_accus'], label='訓練データ')\n",
        "plt.plot([float(v[0].split(':')[-1]) for v in params['val_accus']], label='検証データ')\n",
        "plt.legend(loc='lower right')\n",
        "plt.show"
      ]
    },
    {
      "cell_type": "code",
      "source": [
        "print(list(params.keys()))"
      ],
      "metadata": {
        "colab": {
          "base_uri": "https://localhost:8080/"
        },
        "id": "3gevAn0HXvKy",
        "outputId": "52d1dc5a-32dc-4d09-de01-6bc97ad76937"
      },
      "id": "3gevAn0HXvKy",
      "execution_count": 8,
      "outputs": [
        {
          "output_type": "stream",
          "name": "stdout",
          "text": [
            "['dataset_name', 'traindata_size', 'traindata_ratio', 'source', 'target', 'hidden_size', 'stop_list', 'white_list', 'epochs', 'lr', 'dropout_p', 'teacher_forcing_ratio', 'optim_func', 'loss_func', 'random_seed', 'pretrained', 'verbose', 'path_saved', 'losses', 'train_accus', 'val_accus', 'encoder', 'decoder', 'encoder_optimizer', 'decoder_optimizer']\n"
          ]
        }
      ]
    },
    {
      "cell_type": "markdown",
      "source": [
        "## 1.1 Fushimi1999 の成績"
      ],
      "metadata": {
        "id": "v8DshwyvbTQj"
      },
      "id": "v8DshwyvbTQj"
    },
    {
      "cell_type": "code",
      "execution_count": 9,
      "id": "5418c8c5-c45c-4b96-b24e-9085edd9b595",
      "metadata": {
        "colab": {
          "base_uri": "https://localhost:8080/"
        },
        "id": "5418c8c5-c45c-4b96-b24e-9085edd9b595",
        "outputId": "1849ab01-d0c6-4b79-94aa-d2f2df77ed30"
      },
      "outputs": [
        {
          "output_type": "stream",
          "name": "stdout",
          "text": [
            "001 戦争 :/seNso:/(seNso:) \u001b[1m\u001b[34mTrue\u001b[0m, 002 倉庫 :/so:ko/(so:ko) \u001b[1m\u001b[34mTrue\u001b[0m, 003 医学 :/igaku/(igaku) \u001b[1m\u001b[34mTrue\u001b[0m, 004 注意 :/chu:i/(chu:i) \u001b[1m\u001b[34mTrue\u001b[0m\n",
            "005 記念 :/kineN/(kineN) \u001b[1m\u001b[34mTrue\u001b[0m, 006 番号 :/baNgo:/(baNgo:) \u001b[1m\u001b[34mTrue\u001b[0m, 007 料理 :/ryo:ri/(ryo:ri) \u001b[1m\u001b[34mTrue\u001b[0m, 008 完全 :/kaNzeN/(kaNzeN) \u001b[1m\u001b[34mTrue\u001b[0m\n",
            "009 開始 :/kaishi/(kaishi) \u001b[1m\u001b[34mTrue\u001b[0m, 010 印刷 :/iNsatsu/(iNsatsu) \u001b[1m\u001b[34mTrue\u001b[0m, 011 連続 :/reNzoku/(reNzoku) \u001b[1m\u001b[34mTrue\u001b[0m, 012 予約 :/yoyaku/(yoyaku) \u001b[1m\u001b[34mTrue\u001b[0m\n",
            "013 多少 :/tasho:/(tasho:) \u001b[1m\u001b[34mTrue\u001b[0m, 014 教員 :/kyo:iN/(kyo:iN) \u001b[1m\u001b[34mTrue\u001b[0m, 015 当局 :/to:kyoku/(to:kyoku) \u001b[1m\u001b[34mTrue\u001b[0m, 016 材料 :/zairyo:/(zairyo:) \u001b[1m\u001b[34mTrue\u001b[0m\n",
            "017 夕刊 :/yu:kaN/(yu:kaN) \u001b[1m\u001b[34mTrue\u001b[0m, 018 労働 :/ro:do:/(ro:do:) \u001b[1m\u001b[34mTrue\u001b[0m, 019 運送 :/uNso:/(uNso:) \u001b[1m\u001b[34mTrue\u001b[0m, 020 電池 :/deNchi/(deNchi) \u001b[1m\u001b[34mTrue\u001b[0m\n",
            "021 反対 :/haNtai/(haNtai) \u001b[1m\u001b[34mTrue\u001b[0m, 022 失敗 :/shiqpai/(shiqpai) \u001b[1m\u001b[34mTrue\u001b[0m, 023 作品 :/sakuhiN/(sakuhiN) \u001b[1m\u001b[34mTrue\u001b[0m, 024 指定 :/shitei/(shitei) \u001b[1m\u001b[34mTrue\u001b[0m\n",
            "025 実験 :/jiqkeN/(jiqkeN) \u001b[1m\u001b[34mTrue\u001b[0m, 026 決定 :/keqtei/(keqtei) \u001b[1m\u001b[34mTrue\u001b[0m, 027 独占 :/hitoriuranai/(hitoriuranai) \u001b[1m\u001b[34mTrue\u001b[0m, 028 独身 :/dokushiN/(dokushiN) \u001b[1m\u001b[34mTrue\u001b[0m\n",
            "029 固定 :/kotei/(kotei) \u001b[1m\u001b[34mTrue\u001b[0m, 030 食品 :/shokuhiN/(shokuhiN) \u001b[1m\u001b[34mTrue\u001b[0m, 031 表明 :/hyo:mei/(hyo:mei) \u001b[1m\u001b[34mTrue\u001b[0m, 032 安定 :/aNtei/(aNtei) \u001b[1m\u001b[34mTrue\u001b[0m\n",
            "033 各種 :/kakushu/(kakushu) \u001b[1m\u001b[34mTrue\u001b[0m, 034 役所 :/yakudokoro/(yakudokoro) \u001b[1m\u001b[34mTrue\u001b[0m, 035 海岸 :/kaigaN/(kaigaN) \u001b[1m\u001b[34mTrue\u001b[0m, 036 決算 :/keqsaN/(keqsaN) \u001b[1m\u001b[34mTrue\u001b[0m\n",
            "037 地帯 :/chitai/(chitai) \u001b[1m\u001b[34mTrue\u001b[0m, 038 道路 :/do:ro/(do:ro) \u001b[1m\u001b[34mTrue\u001b[0m, 039 安打 :/aNda/(aNda) \u001b[1m\u001b[34mTrue\u001b[0m, 040 楽団 :/gakudaN/(gakudaN) \u001b[1m\u001b[34mTrue\u001b[0m\n",
            "041 仲間 :/nakama/(nakama) \u001b[1m\u001b[34mTrue\u001b[0m, 042 夫婦 :/fu:fu/(fu:fu) \u001b[1m\u001b[34mTrue\u001b[0m, 043 人間 :/niNgeN/(niNgeN) \u001b[1m\u001b[34mTrue\u001b[0m, 044 神経 :/shiNkei/(shiNkei) \u001b[1m\u001b[34mTrue\u001b[0m\n",
            "045 相手 :/aite/(aite) \u001b[1m\u001b[34mTrue\u001b[0m, 046 反発 :/haNpatsu/(haNpatsu) \u001b[1m\u001b[34mTrue\u001b[0m, 047 化粧 :/kesho:/(kesho:) \u001b[1m\u001b[34mTrue\u001b[0m, 048 建物 :/tatemono/(tatemono) \u001b[1m\u001b[34mTrue\u001b[0m\n",
            "049 彼女 :/kanojo/(kanojo) \u001b[1m\u001b[34mTrue\u001b[0m, 050 毛糸 :/keito/(keito) \u001b[1m\u001b[34mTrue\u001b[0m, 051 場合 :/ba:i/(ba:i) \u001b[1m\u001b[34mTrue\u001b[0m, 052 台風 :/taifu:/(taifu:) \u001b[1m\u001b[34mTrue\u001b[0m\n",
            "053 夜間 :/yakaN/(yakaN) \u001b[1m\u001b[34mTrue\u001b[0m, 054 人形 :/niNgyo:/(niNgyo:) \u001b[1m\u001b[34mTrue\u001b[0m, 055 東西 :/to:zai/(to:zai) \u001b[1m\u001b[34mTrue\u001b[0m, 056 地元 :/jimoto/(jimoto) \u001b[1m\u001b[34mTrue\u001b[0m\n",
            "057 松原 :/matsubara/(matsubara) \u001b[1m\u001b[34mTrue\u001b[0m, 058 競馬 :/keiba/(keiba) \u001b[1m\u001b[34mTrue\u001b[0m, 059 大幅 :/o:haba/(o:haba) \u001b[1m\u001b[34mTrue\u001b[0m, 060 貸家 :/kashiya/(kashiya) \u001b[1m\u001b[34mTrue\u001b[0m\n",
            "061 集計 :/shu:kei/(shu:kei) \u001b[1m\u001b[34mTrue\u001b[0m, 062 観察 :/kaNsatsu/(kaNsatsu) \u001b[1m\u001b[34mTrue\u001b[0m, 063 予告 :/yokoku/(yokoku) \u001b[1m\u001b[34mTrue\u001b[0m, 064 動脈 :/do:myaku/(do:myaku) \u001b[1m\u001b[34mTrue\u001b[0m\n",
            "065 理学 :/rigaku/(rigaku) \u001b[1m\u001b[34mTrue\u001b[0m, 066 信任 :/shiNniN/(shiNniN) \u001b[1m\u001b[34mTrue\u001b[0m, 067 任務 :/niNmu/(niNmu) \u001b[1m\u001b[34mTrue\u001b[0m, 068 返信 :/heNshiN/(heNshiN) \u001b[1m\u001b[34mTrue\u001b[0m\n",
            "069 医局 :/ikyoku/(ikyoku) \u001b[1m\u001b[34mTrue\u001b[0m, 070 低温 :/teioN/(teioN) \u001b[1m\u001b[34mTrue\u001b[0m, 071 区別 :/kubetsu/(kubetsu) \u001b[1m\u001b[34mTrue\u001b[0m, 072 永続 :/eizoku/(eizoku) \u001b[1m\u001b[34mTrue\u001b[0m\n",
            "073 持続 :/jizoku/(jizoku) \u001b[1m\u001b[34mTrue\u001b[0m, 074 試練 :/shireN/(shireN) \u001b[1m\u001b[34mTrue\u001b[0m, 075 満開 :/maNkai/(maNkai) \u001b[1m\u001b[34mTrue\u001b[0m, 076 軍備 :/guNbi/(guNbi) \u001b[1m\u001b[34mTrue\u001b[0m\n",
            "077 製材 :/seizai/(seizai) \u001b[1m\u001b[34mTrue\u001b[0m, 078 銀貨 :/giNka/(giNka) \u001b[1m\u001b[34mTrue\u001b[0m, 079 急送 :/kyu:so:/(kyu:so:) \u001b[1m\u001b[34mTrue\u001b[0m, 080 改選 :/kaiseN/(kaiseN) \u001b[1m\u001b[34mTrue\u001b[0m\n",
            "081 表紙 :/hyo:shi/(hyo:shi) \u001b[1m\u001b[34mTrue\u001b[0m, 082 指針 :/shishiN/(shishiN) \u001b[1m\u001b[34mTrue\u001b[0m, 083 熱帯 :/neqtai/(neqtai) \u001b[1m\u001b[34mTrue\u001b[0m, 084 作詞 :/sakushi/(sakushi) \u001b[1m\u001b[34mTrue\u001b[0m\n",
            "085 決着 :/keqchaku/(keqchaku) \u001b[1m\u001b[34mTrue\u001b[0m, 086 食費 :/shokuhi/(shokuhi) \u001b[1m\u001b[34mTrue\u001b[0m, 087 古代 :/kodai/(kodai) \u001b[1m\u001b[34mTrue\u001b[0m, 088 地形 :/chikei/(chikei) \u001b[1m\u001b[34mTrue\u001b[0m\n",
            "089 役場 :/yakuba/(yakuba) \u001b[1m\u001b[34mTrue\u001b[0m, 090 品種 :/hiNshu/(hiNshu) \u001b[1m\u001b[34mTrue\u001b[0m, 091 祝福 :/shukufuku/(shukufuku) \u001b[1m\u001b[34mTrue\u001b[0m, 092 金銭 :/kiNseN/(kiNseN) \u001b[1m\u001b[34mTrue\u001b[0m\n",
            "093 根底 :/koNtei/(koNtei) \u001b[1m\u001b[34mTrue\u001b[0m, 094 接種 :/seqshu/(seqshu) \u001b[1m\u001b[34mTrue\u001b[0m, 095 経由 :/keiyu/(keiyu) \u001b[1m\u001b[34mTrue\u001b[0m, 096 郷土 :/kyo:do/(kyo:do) \u001b[1m\u001b[34mTrue\u001b[0m\n",
            "097 街路 :/gairo/(gairo) \u001b[1m\u001b[34mTrue\u001b[0m, 098 宿直 :/shukuchoku/(shukuchoku) \u001b[1m\u001b[34mTrue\u001b[0m, 099 曲折 :/kyokusetsu/(kyokusetsu) \u001b[1m\u001b[34mTrue\u001b[0m, 100 越境 :/eqkyo:/(eqkyo:) \u001b[1m\u001b[34mTrue\u001b[0m\n",
            "101 強引 :/go:iN/(go:iN) \u001b[1m\u001b[34mTrue\u001b[0m, 102 寿命 :/jumyo:/(jumyo:) \u001b[1m\u001b[34mTrue\u001b[0m, 103 豆腐 :/to:fu/(to:fu) \u001b[1m\u001b[34mTrue\u001b[0m, 104 出前 :/demae/(demae) \u001b[1m\u001b[34mTrue\u001b[0m\n",
            "105 歌声 :/utagoe/(utagoe) \u001b[1m\u001b[34mTrue\u001b[0m, 106 近道 :/chikamichi/(chikamichi) \u001b[1m\u001b[34mTrue\u001b[0m, 107 間口 :/maguchi/(maguchi) \u001b[1m\u001b[34mTrue\u001b[0m, 108 風物 :/fu:butsu/(fu:butsu) \u001b[1m\u001b[34mTrue\u001b[0m\n",
            "109 面影 :/omokage/(omokage) \u001b[1m\u001b[34mTrue\u001b[0m, 110 眼鏡 :/megane/(megane) \u001b[1m\u001b[34mTrue\u001b[0m, 111 居所 :/idokoro/(idokoro) \u001b[1m\u001b[34mTrue\u001b[0m, 112 献立 :/koNdate/(koNdate) \u001b[1m\u001b[34mTrue\u001b[0m\n",
            "113 小雨 :/sho::/(sho::) \u001b[1m\u001b[34mTrue\u001b[0m, 114 毛皮 :/kegawa/(kegawa) \u001b[1m\u001b[34mTrue\u001b[0m, 115 鳥居 :/tori:/(tori:) \u001b[1m\u001b[34mTrue\u001b[0m, 116 仲買 :/nakagai/(nakagai) \u001b[1m\u001b[34mTrue\u001b[0m\n",
            "117 頭取 :/to:dori/(to:dori) \u001b[1m\u001b[34mTrue\u001b[0m, 118 極上 :/gokujo:/(gokujo:) \u001b[1m\u001b[34mTrue\u001b[0m, 119 奉行 :/bugyo:/(bugyo:) \u001b[1m\u001b[34mTrue\u001b[0m, 120 夢路 :/yumeji/(yumeji) \u001b[1m\u001b[34mTrue\u001b[0m\n",
            "正解率: \u001b[1m\u001b[32m100.000%=(120/120)\u001b[0m\n",
            "  1 戦争->/seNso:/ 0.0000,   2 倉庫->/so:ko/ 0.0037,   3 医学->/igaku/ 0.0001,   4 注意->/chu:i/ 0.0004\n",
            "  5 記念->/kineN/ 0.0000,   6 番号->/baNgo:/ 0.0002,   7 料理->/ryo:ri/ 0.0001,   8 完全->/kaNzeN/ 0.0001\n",
            "  9 開始->/kaishi/ 0.0004,  10 印刷->/iNsatsu/ 0.0002,  11 連続->/reNzoku/ 0.0001,  12 予約->/yoyaku/ 0.0001\n",
            " 13 多少->/tasho:/ 0.0005,  14 教員->/kyo:iN/ 0.0002,  15 当局->/to:kyoku/ 0.0001,  16 材料->/zairyo:/ 0.0000\n",
            " 17 夕刊->/yu:kaN/ 0.0009,  18 労働->/ro:do:/ 0.0004,  19 運送->/uNso:/ 0.0005,  20 電池->/deNchi/ 0.0006\n",
            " 21 反対->/haNtai/ 0.0001,  22 失敗->/shiqpai/ 0.0001,  23 作品->/sakuhiN/ 0.0001,  24 指定->/shitei/ 0.0003\n",
            " 25 実験->/jiqkeN/ 0.0001,  26 決定->/keqtei/ 0.0000,  27 独占->/hitoriuranai/ 0.0193,  28 独身->/dokushiN/ 0.0020\n",
            " 29 固定->/kotei/ 0.0002,  30 食品->/shokuhiN/ 0.0001,  31 表明->/hyo:mei/ 0.0002,  32 安定->/aNtei/ 0.0006\n",
            " 33 各種->/kakushu/ 0.0007,  34 役所->/yakudokoro/ 0.0055,  35 海岸->/kaigaN/ 0.0006,  36 決算->/keqsaN/ 0.0000\n",
            " 37 地帯->/chitai/ 0.0004,  38 道路->/do:ro/ 0.0007,  39 安打->/aNda/ 0.0013,  40 楽団->/gakudaN/ 0.0012\n",
            " 41 仲間->/nakama/ 0.0016,  42 夫婦->/fu:fu/ 0.0057,  43 人間->/niNgeN/ 0.0003,  44 神経->/shiNkei/ 0.0004\n",
            " 45 相手->/aite/ 0.0022,  46 反発->/haNpatsu/ 0.0000,  47 化粧->/kesho:/ 0.0055,  48 建物->/tatemono/ 0.0025\n",
            " 49 彼女->/kanojo/ 0.0058,  50 毛糸->/keito/ 0.0056,  51 場合->/ba:i/ 0.0539,  52 台風->/taifu:/ 0.0025\n",
            " 53 夜間->/yakaN/ 0.0006,  54 人形->/niNgyo:/ 0.0222,  55 東西->/to:zai/ 0.0034,  56 地元->/jimoto/ 0.0049\n",
            " 57 松原->/matsubara/ 0.0022,  58 競馬->/keiba/ 0.0024,  59 大幅->/o:haba/ 0.0029,  60 貸家->/kashiya/ 0.0076\n",
            " 61 集計->/shu:kei/ 0.0000,  62 観察->/kaNsatsu/ 0.0001,  63 予告->/yokoku/ 0.0000,  64 動脈->/do:myaku/ 0.0002\n",
            " 65 理学->/rigaku/ 0.0002,  66 信任->/shiNniN/ 0.0023,  67 任務->/niNmu/ 0.0005,  68 返信->/heNshiN/ 0.0011\n",
            " 69 医局->/ikyoku/ 0.0001,  70 低温->/teioN/ 0.0034,  71 区別->/kubetsu/ 0.0004,  72 永続->/eizoku/ 0.0030\n",
            " 73 持続->/jizoku/ 0.0007,  74 試練->/shireN/ 0.0001,  75 満開->/maNkai/ 0.0017,  76 軍備->/guNbi/ 0.0007\n",
            " 77 製材->/seizai/ 0.0001,  78 銀貨->/giNka/ 0.0000,  79 急送->/kyu:so:/ 0.0000,  80 改選->/kaiseN/ 0.0017\n",
            " 81 表紙->/hyo:shi/ 0.0003,  82 指針->/shishiN/ 0.0005,  83 熱帯->/neqtai/ 0.0018,  84 作詞->/sakushi/ 0.0007\n",
            " 85 決着->/keqchaku/ 0.0003,  86 食費->/shokuhi/ 0.0003,  87 古代->/kodai/ 0.0002,  88 地形->/chikei/ 0.0006\n",
            " 89 役場->/yakuba/ 0.0049,  90 品種->/hiNshu/ 0.0001,  91 祝福->/shukufuku/ 0.0217,  92 金銭->/kiNseN/ 0.0000\n",
            " 93 根底->/koNtei/ 0.0012,  94 接種->/seqshu/ 0.0003,  95 経由->/keiyu/ 0.0019,  96 郷土->/kyo:do/ 0.0025\n",
            " 97 街路->/gairo/ 0.0007,  98 宿直->/shukuchoku/ 0.0008,  99 曲折->/kyokusetsu/ 0.0001, 100 越境->/eqkyo:/ 0.0017\n",
            "101 強引->/go:iN/ 0.0033, 102 寿命->/jumyo:/ 0.0316, 103 豆腐->/to:fu/ 0.0009, 104 出前->/demae/ 0.0004\n",
            "105 歌声->/utagoe/ 0.0098, 106 近道->/chikamichi/ 0.0142, 107 間口->/maguchi/ 0.0088, 108 風物->/fu:butsu/ 0.0036\n",
            "109 面影->/omokage/ 0.0035, 110 眼鏡->/megane/ 0.0241, 111 居所->/idokoro/ 0.0097, 112 献立->/koNdate/ 0.0062\n",
            "113 小雨->/sho::/ 0.0026, 114 毛皮->/kegawa/ 0.0058, 115 鳥居->/tori:/ 0.0705, 116 仲買->/nakagai/ 0.0013\n",
            "117 頭取->/to:dori/ 0.0033, 118 極上->/gokujo:/ 0.0038, 119 奉行->/bugyo:/ 0.0530, 120 夢路->/yumeji/ 0.0649\n",
            "121 集学->/shu:gaku/ 0.0003, 122 信別->/shiNbetsu/ 0.0090, 123 製信->/seishiN/ 0.0020, 124 運学->/uNgaku/ 0.0009\n",
            "125 番送->/baNso:/ 0.0003, 126 電続->/deNzoku/ 0.0059, 127 完意->/kaNi/ 0.0195, 128 軍開->/guNkai/ 0.0001\n",
            "129 動選->/do:seN/ 0.0006, 130 当働->/to:haN/ 0.2217, 131 予続->/yozoku/ 0.0645, 132 倉理->/kurari/ 0.0292\n",
            "133 予少->/yosho:/ 0.0019, 134 教池->/kyo:i/ 0.1036, 135 理任->/riniN/ 0.0005, 136 銀務->/giNmu/ 0.0003\n",
            "137 連料->/reNryo:/ 0.0000, 138 開員->/kaiN/ 0.1008, 139 注全->/chu:maN/ 0.0204, 140 記争->/kiso:/ 0.0001\n",
            "141 作明->/sakumei/ 0.0004, 142 風行->/fu:ko:/ 0.0019, 143 失定->/shiqtei/ 0.0006, 144 指団->/shidaN/ 0.0003\n",
            "145 決所->/ketsujo/ 0.1085, 146 各算->/kakusaN/ 0.0014, 147 海身->/kaimiN/ 0.0707, 148 東発->/to:hatsu/ 0.0083\n",
            "149 楽験->/rakukeN/ 0.0638, 150 作代->/sakui/ 0.0163, 151 反原->/taNbara/ 0.0094, 152 独対->/dokutai/ 0.0008\n",
            "153 歌上->/kauo:/ 0.1621, 154 反定->/haNtei/ 0.0005, 155 独定->/dokutei/ 0.0021, 156 場家->/basha/ 0.2356\n",
            "157 安種->/aNshu/ 0.0082, 158 経着->/keichaku/ 0.0007, 159 決土->/ketsudo/ 0.0126, 160 松合->/matsugau/ 0.1061\n",
            "161 表品->/hyo:hiN/ 0.0027, 162 実定->/jiqsei/ 0.0227, 163 人風->/hitonome/ 0.1488, 164 神間->/kiNkaN/ 0.1995\n",
            "165 相経->/so:kei/ 0.0005, 166 人元->/hitomoto/ 0.0492, 167 小引->/kobi/ 0.2363, 168 指場->/yubi/ 0.2026\n",
            "169 毛所->/mo:sho:/ 0.0692, 170 台手->/daite/ 0.0275, 171 間物->/mamono/ 0.0909, 172 道品->/do:hiN/ 0.0004\n",
            "173 出取->/deqshu/ 0.1031, 174 建馬->/tataba/ 0.0781, 175 大婦->/daifu/ 0.0590, 176 地打->/chiua/ 0.1690\n",
            "177 化間->/kama/ 0.0009, 178 面口->/mogokuchi/ 0.1495, 179 金由->/kiNyu:/ 0.0598, 180 彼間->/karuma/ 0.0395\n",
            "181 急材->/kyu:zai/ 0.0003, 182 戦刊->/seNkaN/ 0.0001, 183 返計->/heNkei/ 0.0311, 184 印念->/iNneN/ 0.0007\n",
            "185 低局->/teikyoku/ 0.0000, 186 労号->/ro:go:/ 0.0000, 187 満送->/maNso:/ 0.0001, 188 永告->/eikoku/ 0.0014\n",
            "189 試脈->/shimyaku/ 0.0136, 190 観備->/kaNbi/ 0.0009, 191 材約->/zaiyaku/ 0.0002, 192 夕局->/yu:kyoku/ 0.0063\n",
            "193 医庫->/iko/ 0.0030, 194 任続->/niNzoku/ 0.0038, 195 医貨->/ika/ 0.0025, 196 改練->/kaireN/ 0.0012\n",
            "197 区温->/kuio/ 0.1044, 198 多始->/tashi/ 0.0055, 199 材刷->/zaisai/ 0.0617, 200 持察->/jisatsu/ 0.0829\n",
            "201 食占->/shokuseN/ 0.0020, 202 表底->/hyo:seN/ 0.0015, 203 宿帯->/shukutai/ 0.0085, 204 決帯->/keqtai/ 0.0002\n",
            "205 古費->/kohi/ 0.0021, 206 安敗->/aNpai/ 0.0156, 207 役針->/yakuhara/ 0.1120, 208 近命->/kiNmei/ 0.0007\n",
            "209 眼道->/gaNdo:/ 0.0040, 210 豆立->/cho:rutsu/ 0.1989, 211 街直->/gaqchoku/ 0.0954, 212 固路->/koro/ 0.0012\n",
            "213 郷種->/kyo:shu/ 0.0061, 214 品路->/shiNron/ 0.1042, 215 曲銭->/kyokuzoku/ 0.1041, 216 献居->/keNkyo/ 0.0026\n",
            "217 奉買->/ho:bai/ 0.0222, 218 根境->/koNkyo:/ 0.0852, 219 役岸->/yakugaN/ 0.0170, 220 祝折->/shukuiri/ 0.0373\n",
            "221 食形->/shokukei/ 0.0163, 222 接紙->/seqshi/ 0.0019, 223 競物->/kyo:butsu/ 0.0181, 224 地詞->/chigi/ 0.1110\n",
            "225 強腐->/kyo:fu/ 0.0151, 226 頭路->/atamiro/ 0.0773, 227 毛西->/mo:sei/ 0.1114, 228 夜糸->/yoiN/ 0.1221\n",
            "229 仲影->/chu:ka/ 0.2025, 230 熱福->/netsuuuku/ 0.0589, 231 寿前->/juzeN/ 0.1339, 232 鳥雨->/toa/ 0.1809\n",
            "233 地粧->/chiheki/ 0.0729, 234 越種->/eqshu/ 0.0405, 235 仲女->/chu:jo/ 0.1010, 236 極鏡->/kyokukyo:/ 0.0249\n",
            "237 夢皮->/yumiha/ 0.1052, 238 居声->/kyosei/ 0.0612, 239 貸形->/kakatachi/ 0.0601, 240 夫幅->/fu:fa/ 0.1989\n"
          ]
        }
      ],
      "source": [
        "from RAM import eval_input_seq2seq\n",
        "import numpy as np\n",
        "\n",
        "check_fushimi1999_words(encoder=encoder, decoder=decoder, cr_every=4, ds=ds)\n",
        "\n",
        "cr_every = 4\n",
        "entropies = []\n",
        "for i, wrd in enumerate(fushimi1999_list[:]):\n",
        "#for i, wrd in enumerate(fushimi1999_list[120:]):\n",
        "    #print(i+121, wrd)\n",
        "    dec_wrd, topvs = eval_input_seq2seq(encoder=encoder, decoder=decoder, ds=ds, inp_wrd=wrd, isPrint=False)\n",
        "    dec_wrd = \"\".join(p for p in dec_wrd[:-1])\n",
        "    p = np.exp(np.array(topvs)).mean()\n",
        "    ent = - p * np.log(p)\n",
        "\n",
        "    #ent = np.array(topvs).mean()\n",
        "    entropies.append(ent)\n",
        "    _end = '\\n' if ((i+1) % cr_every) == 0 else \", \"\n",
        "    print(f'{i+1:3d} {wrd}->/{dec_wrd}/ {ent:.4f}', end=_end)"
      ]
    },
    {
      "cell_type": "markdown",
      "id": "8af3331a-bad5-4990-82e1-b4a0e7140ce3",
      "metadata": {
        "id": "8af3331a-bad5-4990-82e1-b4a0e7140ce3"
      },
      "source": [
        "# 4. 近藤 & Wydell リスト '1000stimulus-proponly-New2_2022.xls' の読み込み"
      ]
    },
    {
      "cell_type": "code",
      "execution_count": null,
      "id": "3a64d515-dc99-4df3-9aa3-2ab7b24d958e",
      "metadata": {
        "id": "3a64d515-dc99-4df3-9aa3-2ab7b24d958e",
        "outputId": "8c9df239-42d8-4237-c8c3-b0b22411aeaa"
      },
      "outputs": [
        {
          "name": "stdout",
          "output_type": "stream",
          "text": [
            "len(phon_diffs):248\n"
          ]
        }
      ],
      "source": [
        "# `1000stimulus-proponly-New2_2022.xls` ファイルの読み込み\n",
        "kondo_1000stim_fname = '1000stimulus-proponly-New2_2022.xls'\n",
        "if not os.path.exists(kondo_1000stim_fname) and isColab:\n",
        "    from google.colab import files\n",
        "    uploaded = files.upload()\n",
        "\n",
        "kondo_pd = pd.read_excel('1000stimulus-proponly-New2_2022.xls', sheet_name='data')\n",
        "kondo1000_dict = {}\n",
        "phon_diffs = {}\n",
        "for r in kondo_pd.iterrows():\n",
        "    idx = r[1]['id']                     # ID を idx として格納\n",
        "    wrd = r[1]['kanji1']+r[1]['kanji2']  # 一文字目と二文字目を連結して単語 wrd として格納\n",
        "    yomi = r[1]['yomi1']+r[1]['yomi2']   # 同様にヨミを yomi として格納\n",
        "\n",
        "    # ヨミの julius 表現を phon_julius として登録\n",
        "    phon_julius = jaconv.hiragana2julius(jaconv.kata2hira(yomi)).split()\n",
        "\n",
        "    # オリジナルのヨミを phon として登録\n",
        "    phon = [r[1]['mora11'], r[1]['mora12'], r[1]['mora21'], r[1]['mora22']]\n",
        "\n",
        "    _phon_j = \"\".join(_p for _p in phon_julius)\n",
        "    _phon   = \"\".join(_p for _p in phon)\n",
        "\n",
        "    if _phon_j != _phon:\n",
        "        if not wrd in phon_diffs:\n",
        "            phon_diffs[wrd] = {'phon_julius': _phon_j, 'phon_orig':_phon}\n",
        "        else:\n",
        "            print(wrd, 'is duplicated')\n",
        "\n",
        "    # 上記を合わせて辞書として登録\n",
        "    kondo1000_dict[idx] = {'wrd':wrd,\n",
        "                           'yomi':yomi,\n",
        "                           'phon':phon_julius,\n",
        "                           'phon_orig':phon, 'dict':r[1]}\n",
        "\n",
        "print(f'len(phon_diffs):{len(phon_diffs)}')\n",
        "#print(phon_diffs)\n",
        "#print(f'len(phon_diffs):{len(phon_diffs)}, phon_diffs:{phon_diffs}')\n"
      ]
    },
    {
      "cell_type": "code",
      "execution_count": null,
      "id": "ca0d384b-9402-4398-b61c-71c71be0ce10",
      "metadata": {
        "id": "ca0d384b-9402-4398-b61c-71c71be0ce10",
        "outputId": "3dda7e49-88c3-4f42-8575-9e9ffc993c7e"
      },
      "outputs": [
        {
          "name": "stdout",
          "output_type": "stream",
          "text": [
            "63 ['合鴨', '相槌', '赤錆', '熱燗', '斡旋', '甘鯛', '飴色', '飴玉', '石鯛', '芋粥', '金槌', '蟹玉', '蒲鉾', '革紐', '柑橘', '口髭', '栗色', '黒鯛', '啓蒙', '腰紐', '骨董', '昏睡', '混沌', '紺碧', '酒樽', '酒粕', '笹舟', '鮫肌', '沢蟹', '灼熱', '白樺', '惣菜', '竹竿', '竹薮', '只事', '只者', '縦縞', '吊鐘', '吊革', '釣竿', '吊棚', '吊橋', '鳩麦', '挽回', '晩餐', '髭面', '菱形', '呆然', '頬杖', '頬骨', '星屑', '松茸', '水飴', '耳垢', '麦藁', '薮蛇', '山鳩', '槍玉', '夕凪', '淋病', '牢獄', '歪曲', '若鮎']\n"
          ]
        }
      ],
      "source": [
        "unk_tokens = []\n",
        "for i, k in enumerate(kondo1000_dict.keys()):\n",
        "    wrd = kondo1000_dict[k]['wrd']\n",
        "    ids = ds.orth_tkn2ids(wrd)\n",
        "    _wrd = ds.orth_ids2tkn(ids)\n",
        "    if ds.orth_list.index('<UNK>') in ids:\n",
        "        unk_tokens.append((i, wrd, ids, _wrd))\n",
        "\n",
        "print(len(unk_tokens), [_u[1] for _u in unk_tokens])"
      ]
    },
    {
      "cell_type": "code",
      "execution_count": null,
      "id": "70a9b5e1-3e9c-4951-9f0a-6273cb32227e",
      "metadata": {
        "id": "70a9b5e1-3e9c-4951-9f0a-6273cb32227e",
        "outputId": "79a812ea-7a9b-4cd8-f27b-de92647d8246"
      },
      "outputs": [
        {
          "name": "stdout",
          "output_type": "stream",
          "text": [
            "2136\n",
            "[('合鴨', [True, False]), ('相槌', [True, False]), ('赤錆', [True, False]), ('熱燗', [True, False]), ('斡旋', [False, True]), ('甘鯛', [True, False]), ('飴色', [False, True]), ('飴玉', [False, True]), ('石鯛', [True, False]), ('芋粥', [True, False]), ('金槌', [True, False]), ('蟹玉', [False, True]), ('蒲鉾', [False, False]), ('革紐', [True, False]), ('柑橘', [False, False]), ('口髭', [True, False]), ('栗色', [False, True]), ('黒鯛', [True, False]), ('啓蒙', [True, False]), ('腰紐', [True, False]), ('骨董', [True, False]), ('昏睡', [False, True]), ('混沌', [True, False]), ('紺碧', [True, False]), ('酒樽', [True, False]), ('酒粕', [True, False]), ('笹舟', [False, True]), ('鮫肌', [False, True]), ('沢蟹', [True, False]), ('灼熱', [False, True]), ('白樺', [True, False]), ('惣菜', [False, True]), ('竹竿', [True, False]), ('竹薮', [True, False]), ('只事', [False, True]), ('只者', [False, True]), ('縦縞', [True, False]), ('吊鐘', [False, True]), ('吊革', [False, True]), ('釣竿', [True, False]), ('吊棚', [False, True]), ('吊橋', [False, True]), ('鳩麦', [False, True]), ('挽回', [False, True]), ('晩餐', [True, False]), ('髭面', [False, True]), ('菱形', [False, True]), ('呆然', [False, True]), ('頬杖', [False, False]), ('頬骨', [False, True]), ('星屑', [True, False]), ('松茸', [True, False]), ('水飴', [True, False]), ('耳垢', [True, False]), ('麦藁', [True, False]), ('薮蛇', [False, True]), ('山鳩', [True, False]), ('槍玉', [False, True]), ('夕凪', [True, False]), ('淋病', [False, True]), ('牢獄', [False, True]), ('歪曲', [False, True]), ('若鮎', [True, False])]\n"
          ]
        }
      ],
      "source": [
        "from RAM import chars_joyo\n",
        "_joyo = chars_joyo()\n",
        "joyo_df = _joyo.df\n",
        "joyo_chars = joyo_df['通用字体'].to_list()\n",
        "print(len(joyo_chars))\n",
        "\n",
        "aaa = []\n",
        "for x in unk_tokens:\n",
        "    wrd = x[1]\n",
        "    judge = [ch in joyo_chars for ch in wrd]\n",
        "    aaa.append((wrd, judge))\n",
        "\n",
        "print(aaa)"
      ]
    },
    {
      "cell_type": "markdown",
      "id": "df1b3eb6-dd80-423d-b27f-a209625ae88f",
      "metadata": {
        "id": "df1b3eb6-dd80-423d-b27f-a209625ae88f"
      },
      "source": [
        "```\n",
        "以下はgradeが8なのにいただいた63語に入ってません\n",
        "1文字目\n",
        "眉尻      wakurr\n",
        "凄腕      hoidesu\n",
        "袖丈      shu:daku\n",
        "藤棚      fujita\n",
        "餅肌      moqto\n",
        "鍵穴      kawaku\n",
        "脇腹      arabura\n",
        "釜飯      kamui\n",
        "羨望      kabo:\n",
        "鍋底      baseo\n",
        "脇差      wasa\n",
        "尻軽      shikira\n",
        "喉笛      rigimm\n",
        "勃発      mahaatsu\n",
        "喉元      kotomoto\n",
        "膝元      ishimoto\n",
        "藤色      fujiro\n",
        "餅米      mobei\n",
        "脇道      o:mido:\n",
        "袖口      hadaguchi\n",
        "袖下      hoshigata\n",
        "捻出      aruide\n",
        "股下      mokura\n",
        "\n",
        "2文字目\n",
        "謙遜      keNbe\n",
        "片袖      katabaru\n",
        "関脇      sekiwake\n",
        "暗闇      aNsai\n",
        "整頓      seito\n",
        "鼻唄      hanaoka\n",
        "深爪      shiNgyaka\n",
        "合鍵      gatsuki\n",
        "後釜      go:kai\n",
        "今頃      koNso\n",
        "海亀      kaika\n",
        "元旦      motigate\n",
        "外股      gaitak\n",
        "鳥籠      tori\n",
        "石臼      sekio\n",
        "上顎      jo:sue\n",
        "年頃      neNso\n",
        "中頃      chu:ko\n",
        "生唾      seito:\n",
        "二股      nitai\n",
        "虫籠      muqto\n",
        "夕闇      yu:gami\n",
        "上蓋      jo:fu:\n",
        "\n",
        "こららのうち，\n",
        "関脇      sekiwake\n",
        "は脇は常用漢字ではないですが読めているようです．\n",
        "```"
      ]
    },
    {
      "cell_type": "code",
      "execution_count": null,
      "id": "7e69d2b6-a586-4575-9094-fe6d5d4e70aa",
      "metadata": {
        "id": "7e69d2b6-a586-4575-9094-fe6d5d4e70aa",
        "outputId": "46679b7d-f150-47b2-d169-5fe5aad593af"
      },
      "outputs": [
        {
          "name": "stdout",
          "output_type": "stream",
          "text": [
            "23 23 46\n",
            "[('眉', True), ('尻', True)]\n",
            "[('凄', True), ('腕', True)]\n",
            "[('袖', True), ('丈', True)]\n",
            "[('藤', True), ('棚', True)]\n",
            "[('餅', True), ('肌', True)]\n",
            "[('鍵', True), ('穴', True)]\n",
            "[('脇', True), ('腹', True)]\n",
            "[('釜', True), ('飯', True)]\n",
            "[('羨', True), ('望', True)]\n",
            "[('鍋', True), ('底', True)]\n",
            "[('脇', True), ('差', True)]\n",
            "[('尻', True), ('軽', True)]\n",
            "[('喉', True), ('笛', True)]\n",
            "[('勃', True), ('発', True)]\n",
            "[('喉', True), ('元', True)]\n",
            "[('膝', True), ('元', True)]\n",
            "[('藤', True), ('色', True)]\n",
            "[('餅', True), ('米', True)]\n",
            "[('脇', True), ('道', True)]\n",
            "[('袖', True), ('口', True)]\n",
            "[('袖', True), ('下', True)]\n",
            "[('捻', True), ('出', True)]\n",
            "[('股', True), ('下', True)]\n",
            "[('謙', True), ('遜', True)]\n",
            "[('片', True), ('袖', True)]\n",
            "[('関', True), ('脇', True)]\n",
            "[('暗', True), ('闇', True)]\n",
            "[('整', True), ('頓', True)]\n",
            "[('鼻', True), ('唄', True)]\n",
            "[('深', True), ('爪', True)]\n",
            "[('合', True), ('鍵', True)]\n",
            "[('後', True), ('釜', True)]\n",
            "[('今', True), ('頃', True)]\n",
            "[('海', True), ('亀', True)]\n",
            "[('元', True), ('旦', True)]\n",
            "[('外', True), ('股', True)]\n",
            "[('鳥', True), ('籠', True)]\n",
            "[('石', True), ('臼', True)]\n",
            "[('上', True), ('顎', True)]\n",
            "[('年', True), ('頃', True)]\n",
            "[('中', True), ('頃', True)]\n",
            "[('生', True), ('唾', True)]\n",
            "[('二', True), ('股', True)]\n",
            "[('虫', True), ('籠', True)]\n",
            "[('夕', True), ('闇', True)]\n",
            "[('上', True), ('蓋', True)]\n"
          ]
        }
      ],
      "source": [
        "# 近藤先生からいただいた上のリストをチェックしてみよう。\n",
        "_first = ['眉尻','凄腕','袖丈','藤棚','餅肌','鍵穴','脇腹','釜飯','羨望','鍋底',\n",
        "         '脇差','尻軽','喉笛','勃発','喉元','膝元','藤色','餅米','脇道','袖口',\n",
        "         '袖下','捻出','股下']\n",
        "_second = ['謙遜','片袖','関脇','暗闇','整頓','鼻唄','深爪','合鍵','後釜','今頃',\n",
        "           '海亀','元旦','外股','鳥籠','石臼','上顎','年頃','中頃','生唾','二股',\n",
        "           '虫籠','夕闇','上蓋']\n",
        "_list = _first + _second\n",
        "print(len(_first), len(_second), len(_list))\n",
        "for wrd in _list:\n",
        "    true_false = [(ch,ch in joyo_chars) for ch in wrd]\n",
        "    #bbb.append(true_false)\n",
        "    print(true_false)\n",
        ""
      ]
    },
    {
      "cell_type": "code",
      "execution_count": null,
      "id": "c5790c9c-e0b2-4ecc-aae1-b13731f5c40a",
      "metadata": {
        "id": "c5790c9c-e0b2-4ecc-aae1-b13731f5c40a",
        "outputId": "acc2120a-f6af-4e0d-aaf7-3557c6e5d688"
      },
      "outputs": [
        {
          "ename": "NameError",
          "evalue": "name 'kondo1000_dict' is not defined",
          "output_type": "error",
          "traceback": [
            "\u001b[0;31m---------------------------------------------------------------------------\u001b[0m",
            "\u001b[0;31mNameError\u001b[0m                                 Traceback (most recent call last)",
            "Cell \u001b[0;32mIn[1], line 9\u001b[0m\n\u001b[1;32m      7\u001b[0m julius_tchs \u001b[38;5;241m=\u001b[39m []\n\u001b[1;32m      8\u001b[0m words \u001b[38;5;241m=\u001b[39m []\n\u001b[0;32m----> 9\u001b[0m \u001b[38;5;28;01mfor\u001b[39;00m i, (idx, v) \u001b[38;5;129;01min\u001b[39;00m \u001b[38;5;28menumerate\u001b[39m(kondo1000_dict\u001b[38;5;241m.\u001b[39mitems()):\n\u001b[1;32m     10\u001b[0m     wrd \u001b[38;5;241m=\u001b[39m v[\u001b[38;5;124m'\u001b[39m\u001b[38;5;124mwrd\u001b[39m\u001b[38;5;124m'\u001b[39m]\n\u001b[1;32m     11\u001b[0m     phn \u001b[38;5;241m=\u001b[39m v[\u001b[38;5;124m'\u001b[39m\u001b[38;5;124mphon\u001b[39m\u001b[38;5;124m'\u001b[39m]\n",
            "\u001b[0;31mNameError\u001b[0m: name 'kondo1000_dict' is not defined"
          ]
        }
      ],
      "source": [
        "# 上セルで登録した kondo1000_dict を使ってモデルの正誤判定を行う\n",
        "n_hit = 0\n",
        "N = 0\n",
        "responses = []\n",
        "yesnos = []\n",
        "entropies = []\n",
        "julius_tchs = []\n",
        "words = []\n",
        "for i, (idx, v) in enumerate(kondo1000_dict.items()):\n",
        "    wrd = v['wrd']\n",
        "    phn = v['phon']\n",
        "    phn_orig = v['phon_orig']\n",
        "\n",
        "\n",
        "    # encoder と decoder を与えてモデルの出力を得る\n",
        "    output = eval_input_seq2seq(encoder=encoder, decoder=decoder, ds=ds, inp_wrd=wrd, isPrint=False)\n",
        "\n",
        "    # トークンの切り方が異なる場合があるので，出力と教師との両者とも連結してから比較\n",
        "    # 出力トークンを連結して res とする\n",
        "    res = \"\".join(_p for _p in output[0][:-1])\n",
        "\n",
        "    # 教師信号トークンを連結して tch とする\n",
        "    tch = \"\".join(_p for _p in phn)\n",
        "\n",
        "    yesno = res == tch                   # 正誤判定\n",
        "    #color = 'grey' if yesno else 'red'   # 読みが正しければ グレー，誤っていれば 赤\n",
        "    if yesno:                            # 正答数をインクリメント\n",
        "        n_hit += 1\n",
        "        color = 'grey'\n",
        "    else:\n",
        "        color = 'red'\n",
        "\n",
        "    unk_flag = False\n",
        "    _ids = ds.orth_tkn2ids(wrd)\n",
        "    _wrd = ds.orth_ids2tkn(ids)\n",
        "    if ds.orth_list.index('<UNK>') in _ids:\n",
        "        unk_flag = True\n",
        "        color = 'grey'\n",
        "    else:\n",
        "        N += 1\n",
        "\n",
        "    words.append(wrd)\n",
        "    julius_tchs.append(tch)\n",
        "    responses.append(res)\n",
        "    yesnos.append(yesno)\n",
        "\n",
        "    logp = output[1]             # 出力の対数確率\n",
        "    p = np.exp(logp)             # 対数確率を指数乗して元の確率に戻す\n",
        "    entropy = np.sum(- p * logp) # 戻した確率と対数確率の積の総和からエントロピーを計算\n",
        "    entropies.append(entropy)\n",
        "\n",
        "    if not unk_flag:\n",
        "        #print(f'{i:3d} 刺激語:{wrd} 正解:{tch}, 反応:{res}, entropy:{entropy:.3f}',\n",
        "        #      f'{colored(yesno, color=color, attrs=[\"bold\"])}')\n",
        "        ;\n",
        "    else:\n",
        "        print(colored(f'{i:3d} 刺激語:{wrd} 教師信号:{tch}, 反応:{res}, entropy:{entropy:.3f}',color=color),\n",
        "              f'{colored(yesno, color=color, attrs=[\"bold\"])}')\n",
        "\n",
        "    #print(f'{i:3d} 刺激語:{wrd} 正解:{tch}, 反応:{res}, entropy:{entropy:.3f} {colored(yesno,color)}')\n",
        "    #print(i, wrd, \"\".join(_p for _p in phn), res, f'{entropy:.3f}', colored(yesno,color))\n",
        "    #if i > 30:\n",
        "    #    sys.exit()\n",
        "\n",
        "\n",
        "print(f'n_hit:{n_hit}/N:{N}={n_hit/N*100:.3f}')\n",
        "\n",
        "# kondo_pd['word'] = words\n",
        "# kondo_pd['model_output'] = responses\n",
        "# kondo_pd['julius_tch'] = julius_tchs\n",
        "# kondo_pd['yes/no'] = yesnos\n",
        "# kondo_pd['entropy'] = entropies\n",
        "# kondo_pd.to_excel('2023_0423_1000stimulus-proponly-New2_2022.xlsx')\n",
        "# kondo_pd"
      ]
    },
    {
      "cell_type": "markdown",
      "id": "8f46a213-c635-4942-a2fd-f886fb415c64",
      "metadata": {
        "id": "8f46a213-c635-4942-a2fd-f886fb415c64"
      },
      "source": [
        "上の結果から，1000 単語中 615 語しか正解できなかった。\n",
        "そこで，`近藤 & Wydell リスト '1000stimulus-proponly-New2_2022.xls'` を使って再訓練をしてみる。\n"
      ]
    },
    {
      "cell_type": "code",
      "execution_count": null,
      "id": "248664ea-9ffd-4b97-bf58-91e7044cc7a1",
      "metadata": {
        "id": "248664ea-9ffd-4b97-bf58-91e7044cc7a1"
      },
      "outputs": [],
      "source": [
        "#list(kondo1000_dict.values())[:3]"
      ]
    },
    {
      "cell_type": "code",
      "execution_count": null,
      "id": "3e43e1e1-b85c-4253-bd6c-dea084a36826",
      "metadata": {
        "id": "3e43e1e1-b85c-4253-bd6c-dea084a36826"
      },
      "outputs": [],
      "source": [
        "fname = 'RAM/2023_0313RAM_o2p_psylex71_30k_h256_leda.pt'\n",
        "_X = torch.load(fname)\n",
        "\n",
        "# 訓練済ファイルを元に，モデルを復元，パラメータの再設定\n",
        "encoder, decoder, encoder_optimizer, decoder_optimizer, params, ds = set_model_from_param_file(fname=fname)\n",
        "fushimi1999_dataset = Fushimi1999_Dataset(source=params['source'], target=params['target'])\n",
        "\n",
        "check_vals_performance(\n",
        "    encoder=encoder, decoder=decoder,\n",
        "    _dataset={'Fushimi1999':fushimi1999_dataset},\n",
        "    source_vocab=ds.source_list, target_vocab=ds.target_list,\n",
        "    max_length=ds.maxlen, device=device)\n",
        "\n",
        "for k, v in sorted(params.items()):\n",
        "    print(k, colored(v,'blue',attrs=['bold']))"
      ]
    },
    {
      "cell_type": "code",
      "execution_count": null,
      "id": "78385046-5aad-4a86-99ec-bf68258dfcec",
      "metadata": {
        "id": "78385046-5aad-4a86-99ec-bf68258dfcec"
      },
      "outputs": [],
      "source": [
        "kondo_pd[['kanji1','kanji2']]"
      ]
    },
    {
      "cell_type": "code",
      "execution_count": null,
      "id": "ad683610-479d-47b7-afe4-7dd40435f089",
      "metadata": {
        "id": "ad683610-479d-47b7-afe4-7dd40435f089"
      },
      "outputs": [],
      "source": [
        "class kondo1000_Dataset(RAM_Dataset):\n",
        "    def __init__(self,\n",
        "                 source:str=\"orth\",\n",
        "                 target:str=\"phon\",\n",
        "                 max_words:int=20000,\n",
        "                 white_list:list=fushimi1999_list[:120],\n",
        "                 stop_list:list=[] #fushimi1999_list[:120],\n",
        "                ):\n",
        "\n",
        "        super().__init__()\n",
        "        self.datasetname = 'psylex71'\n",
        "        psylex71_data_fname = 'RAM/psylex71_data.gz'\n",
        "        with gzip.open(psylex71_data_fname, 'rb') as zipfile:\n",
        "            _X = json.loads(zipfile.read().decode('utf-8'))\n",
        "        psylex71_dict = _X['dict']\n",
        "        psylex71_freq = _X['freq']\n",
        "\n",
        "        self.max_words = max_words\n",
        "        self.phon_list = super().get_phon_list()\n",
        "        self.jchar_list = super().get_jchar_list()\n",
        "        self.source = source\n",
        "        self.target = target\n",
        "        self.orth_list = self.jchar_list\n",
        "\n",
        "        data_dict, orth_maxlen, phon_maxlen = {}, 0, 0\n",
        "        self.white_list = white_list\n",
        "\n",
        "        for wrd in white_list:\n",
        "            idx = len(data_dict)\n",
        "            val = psylex71_dict[wrd]\n",
        "            data_dict[idx] = val\n",
        "\n",
        "            orth_len = len(psylex71_dict[wrd]['orth'])\n",
        "            if orth_len > orth_maxlen:\n",
        "                orth_maxlen = orth_len\n",
        "            phon_len = len(psylex71_dict[wrd][\"phon\"])\n",
        "            if phon_len > phon_maxlen:\n",
        "                phon_maxlen = phon_len\n",
        "\n",
        "\n",
        "        for wrd in psylex71_freq:\n",
        "            if not wrd in stop_list:\n",
        "                idx = len(data_dict)\n",
        "                val = psylex71_dict[wrd]\n",
        "                data_dict[idx] = val\n",
        "\n",
        "                orth_len = len(psylex71_dict[wrd]['orth'])\n",
        "                if orth_len > orth_maxlen:\n",
        "                    orth_maxlen = orth_len\n",
        "                phon_len = len(psylex71_dict[wrd][\"phon\"])\n",
        "                if phon_len > phon_maxlen:\n",
        "                    phon_maxlen = phon_len\n",
        "\n",
        "                if idx >= (max_words -1):\n",
        "                    break\n",
        "\n",
        "        self.orth_maxlen = orth_maxlen + 1\n",
        "        self.phon_maxlen = phon_maxlen + 1\n",
        ":\n",
        ""
      ]
    },
    {
      "cell_type": "code",
      "execution_count": null,
      "id": "5f6f10f5-139d-4a5d-a36e-daf50e64403e",
      "metadata": {
        "id": "5f6f10f5-139d-4a5d-a36e-daf50e64403e"
      },
      "outputs": [],
      "source": [
        "jaconv.hiragana2julius(jaconv.kata2hira(kondo1000_dict[41]['yomi'])).split()"
      ]
    },
    {
      "cell_type": "code",
      "execution_count": null,
      "id": "ce7429ed-d140-4417-805f-c856a4f868f7",
      "metadata": {
        "id": "ce7429ed-d140-4417-805f-c856a4f868f7"
      },
      "outputs": [],
      "source": [
        "logp = np.array([-0.38164880871772766, -0.178680881857872, -0.07732096314430237, -0.003106769872829318, -0.03272553160786629, -0.9834433197975159, -0.05197757109999657])\n",
        "p = np.exp(logp)\n",
        "print(np.sum(- p * logp))\n",
        "print(np.mean(- p * logp))"
      ]
    },
    {
      "cell_type": "code",
      "execution_count": null,
      "id": "e0d10bc7-79b7-4c38-acf6-9d6f9c1ef6a7",
      "metadata": {
        "id": "e0d10bc7-79b7-4c38-acf6-9d6f9c1ef6a7"
      },
      "outputs": [],
      "source": []
    }
  ],
  "metadata": {
    "kernelspec": {
      "display_name": "Python 3 (ipykernel)",
      "language": "python",
      "name": "python3"
    },
    "language_info": {
      "codemirror_mode": {
        "name": "ipython",
        "version": 3
      },
      "file_extension": ".py",
      "mimetype": "text/x-python",
      "name": "python",
      "nbconvert_exporter": "python",
      "pygments_lexer": "ipython3",
      "version": "3.12.7"
    },
    "colab": {
      "provenance": [],
      "include_colab_link": true
    }
  },
  "nbformat": 4,
  "nbformat_minor": 5
}