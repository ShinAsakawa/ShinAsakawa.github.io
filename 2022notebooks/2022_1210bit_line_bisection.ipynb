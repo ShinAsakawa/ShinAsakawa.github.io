{
  "nbformat": 4,
  "nbformat_minor": 0,
  "metadata": {
    "colab": {
      "private_outputs": true,
      "provenance": [],
      "toc_visible": true,
      "include_colab_link": true
    },
    "kernelspec": {
      "name": "python3",
      "display_name": "Python 3"
    },
    "language_info": {
      "name": "python"
    }
  },
  "cells": [
    {
      "cell_type": "markdown",
      "metadata": {
        "id": "view-in-github",
        "colab_type": "text"
      },
      "source": [
        "<a href=\"https://colab.research.google.com/github/ShinAsakawa/ShinAsakawa.github.io/blob/master/2022notebooks/2022_1210bit_line_bisection.ipynb\" target=\"_parent\"><img src=\"https://colab.research.google.com/assets/colab-badge.svg\" alt=\"Open In Colab\"/></a>"
      ]
    },
    {
      "cell_type": "markdown",
      "source": [
        "# BIT 線分二等分線の試作機"
      ],
      "metadata": {
        "id": "7ptGrhyVOaCw"
      }
    },
    {
      "cell_type": "markdown",
      "source": [
        "# 1. 準備作業"
      ],
      "metadata": {
        "id": "kMvbAxvrOgco"
      }
    },
    {
      "cell_type": "code",
      "source": [
        "# このセルは 2 回実行しないといけないかも知れません\n",
        "%config InlineBackend.figure_format = 'retina'\n",
        "try:\n",
        "    import bit\n",
        "except ImportError:\n",
        "    !pip install ipynbname --upgrade > /dev/null\n",
        "    !git clone https://github.com/ShinAsakawa/bit.git > /dev/null\n",
        "    import bit\n",
        "\n",
        "isColab = bit.isColab\n",
        "HOME = bit.HOME\n",
        "\n",
        "if isColab:\n",
        "    # 2022_0916 現在 PIL のバージョンが古く truetype フォント\n",
        "    # の表示に不具合が出るためバージョン 9.2.0 以上に更新する\n",
        "    !pip install --upgrade Pillow\n",
        "\n",
        "fonts_jp = bit.get_notojp_fonts()\n",
        "fonts_en = bit.get_notoen_fonts()\n",
        "\n",
        "import torch\n",
        "import PIL\n",
        "print(f'PIL.__version__:{PIL.__version__}')\n",
        "import os\n",
        "import sys\n",
        "import numpy as np\n",
        "import matplotlib.pyplot as plt"
      ],
      "metadata": {
        "id": "moT9LtTZDV-J"
      },
      "execution_count": null,
      "outputs": []
    },
    {
      "cell_type": "markdown",
      "source": [
        "## 1.1 準備作業 続き"
      ],
      "metadata": {
        "id": "8q_gwupmOnCE"
      }
    },
    {
      "cell_type": "code",
      "source": [
        "try:\n",
        "    import japanize_matplotlib\n",
        "except ImportError:\n",
        "    !pip install japanize_matplotlib\n",
        "    import japanize_matplotlib\n",
        "\n",
        "try:\n",
        "    import PIL_util # if not os.path.exists('PIL_util.py'):\n",
        "except ImportError:\n",
        "    !wget https://ShinAsakawa.github.io/2022notebooks/PIL_util.py -O PIL_util.py\n",
        "    import PIL_util # if not os.path.exists('PIL_util.py'):\n",
        "\n",
        "try:\n",
        "    import bit_utils\n",
        "except ImportError:\n",
        "    #if not os.path.exists('bit_utils.py'):\n",
        "    !wget https://ShinAsakawa.github.io/2022notebooks/bit_utils.py -O bit_utils.py\n",
        "    import bit_utils"
      ],
      "metadata": {
        "id": "ipcL4sqOv5y6"
      },
      "execution_count": null,
      "outputs": []
    },
    {
      "cell_type": "code",
      "source": [
        "import os\n",
        "from glob import glob\n",
        "from PIL import ImageFont\n",
        "\n",
        "noto_font_dir = 'fonts'\n",
        "notofonts_fnames = glob(os.path.join(noto_font_dir,'*otf'))\n",
        "notofonts = {fname.split('/')[-1].split('.')[0]:{'fname':fname} for fname in notofonts_fnames}\n",
        "for fontname in notofonts.keys():\n",
        "    notofonts[fontname]['data'] = ImageFont.truetype(notofonts[fontname]['fname'])\n",
        "#notofonts;\n",
        "symbols = bit.BIT(fontdata=notofonts).symbols     # 文字の登録\n",
        "#print(symbols);"
      ],
      "metadata": {
        "id": "QMAZbysCXgOk"
      },
      "execution_count": null,
      "outputs": []
    },
    {
      "cell_type": "markdown",
      "source": [
        "## 1.2 準備作業 続き 2"
      ],
      "metadata": {
        "id": "mkWrO01mOV1Z"
      }
    },
    {
      "cell_type": "code",
      "source": [
        "import os\n",
        "import sys\n",
        "import shutil\n",
        "import typing\n",
        "import cv2\n",
        "import glob\n",
        "from tqdm.notebook import tqdm\n",
        "\n",
        "if isColab:\n",
        "    from PIL import ImageFont\n",
        "    from glob import glob\n",
        "\n",
        "    !pip install pycocotools --quiet\n",
        "    !git clone https://github.com/pytorch/vision.git\n",
        "    !git checkout v0.3.0\n",
        "\n",
        "    # Download TorchVision repo to use some files from references/detection\n",
        "    # os.symlink(src,dst) にした方が良いかも\n",
        "    !cp vision/references/detection/utils.py ./\n",
        "    !cp vision/references/detection/transforms.py ./\n",
        "    !cp vision/references/detection/coco_eval.py ./\n",
        "    !cp vision/references/detection/engine.py ./\n",
        "    !cp vision/references/detection/coco_utils.py ./\n",
        "\n",
        "    !pip install japanize_matplotlib"
      ],
      "metadata": {
        "id": "6joMqarDDagV"
      },
      "execution_count": null,
      "outputs": []
    },
    {
      "cell_type": "markdown",
      "source": [
        "## 1.3 Torch ライブラリなどの準備作業"
      ],
      "metadata": {
        "id": "uhWmioCqPDKw"
      }
    },
    {
      "cell_type": "code",
      "source": [
        "# ライブラリのインポート\n",
        "# torchvision ライブラリ\n",
        "import torch\n",
        "import torchvision\n",
        "from torchvision import transforms as torchtrans\n",
        "from torchvision.models.detection.faster_rcnn import FastRCNNPredictor\n",
        "#from torchvision.models.detection import fasterrcnn_resnet50_fpn\n",
        "\n",
        "import os\n",
        "import random\n",
        "import numpy as np\n",
        "\n",
        "import matplotlib.pyplot as plt\n",
        "import matplotlib.patches as patches\n",
        "try:\n",
        "    import japanize_matplotlib\n",
        "except ImportError:\n",
        "    !pip install japanize_matplotlib\n",
        "    import japanize_matplotlib\n",
        "\n",
        "\n",
        "# ヘルパライブラリをインポート\n",
        "from engine import train_one_epoch, evaluate\n",
        "import utils\n",
        "import transforms as T"
      ],
      "metadata": {
        "id": "VspHVtq0De3c"
      },
      "execution_count": null,
      "outputs": []
    },
    {
      "cell_type": "markdown",
      "source": [
        "## 1.4 作業モデルの変更作業"
      ],
      "metadata": {
        "id": "yD-Qt8M7PL2a"
      }
    },
    {
      "cell_type": "code",
      "source": [
        "def get_object_detection_model(num_classes):\n",
        "    \"\"\"see https://pytorch.org/tutorials/intermediate/torchvision_tutorial.html\"\"\"\n",
        "    # MS-COCO で事前に学習させたモデルを読み込み\n",
        "    model = torchvision.models.detection.fasterrcnn_resnet50_fpn(pretrained=True)\n",
        "\n",
        "    # 分類器の入力特徴数の取得\n",
        "    in_features = model.roi_heads.box_predictor.cls_score.in_features\n",
        "    print(f'変換前 model.roi_heads:{model.roi_heads}')\n",
        "\n",
        "    # 事前学習済頭部を新しいものに置き換え\n",
        "    model.roi_heads.box_predictor = FastRCNNPredictor(in_features, num_classes)\n",
        "    print(f'変換後 model.roi_heads:{model.roi_heads}')\n",
        "\n",
        "    return model\n",
        "\n",
        "num_classes = len(symbols)\n",
        "#num_classes = len(bit.symbols)\n",
        "bit_model = get_object_detection_model(num_classes)\n",
        "print(f'num_classes:{num_classes}, bit.symbols:{symbols}')\n",
        "#print(f'num_classes:{num_classes}, bit.symbols:{bit.symbols}')\n",
        "#bit_model.roi_heads"
      ],
      "metadata": {
        "id": "7FjfJXKYEnyt"
      },
      "execution_count": null,
      "outputs": []
    },
    {
      "cell_type": "markdown",
      "source": [
        "# 2. 訓練済パラメータの読み込み\n",
        "\n",
        "Google アカウントでの認証作業が必要となる\n",
        "\n"
      ],
      "metadata": {
        "id": "_IeedKD0NxQz"
      }
    },
    {
      "cell_type": "code",
      "execution_count": null,
      "metadata": {
        "id": "E4jCzhOgCEUW"
      },
      "outputs": [],
      "source": [
        "!pip install -U -q PyDrive\n",
        "from pydrive.auth import GoogleAuth\n",
        "from pydrive.drive import GoogleDrive\n",
        "from google.colab import auth\n",
        "from oauth2client.client import GoogleCredentials\n",
        "\n",
        "# 1. Authenticate and create the PyDrive client.\n",
        "auth.authenticate_user()\n",
        "gauth = GoogleAuth()\n",
        "gauth.credentials = GoogleCredentials.get_application_default()\n",
        "drive = GoogleDrive(gauth)\n",
        "\n",
        "# データの ID を入れて，データを入手\n",
        "download = drive.CreateFile({'id': '1pn9VafOaSL4OCxE-oFg_t4LH9OU2xj5F'})\n",
        "download = drive.CreateFile({'id': '1csAtAOsrRv0YUTp1LIMhmckX8AG45Cu6'})\n",
        "#download = drive.CreateFile({'id': '1KhP4iAP_tc28EV5fyo95pKuQrNOAX-bT'})\n",
        "\n",
        "download.GetContentFile('2022_0620fine_tuned_bit_line_bisection.cpt')"
      ]
    },
    {
      "cell_type": "code",
      "source": [
        "# 上で認証した訓練済パラメータの読み込み\n",
        "pretrained_fname = '2022_0620fine_tuned_bit_line_bisection.cpt'\n",
        "bit_model.load_state_dict(torch.load(pretrained_fname)['model'])"
      ],
      "metadata": {
        "id": "rnwU8keGC_4C"
      },
      "execution_count": null,
      "outputs": []
    },
    {
      "cell_type": "code",
      "source": [
        "from bit_utils import torch_to_pil\n",
        "from bit_utils import plot_img_bbox\n",
        "from bit_utils import apply_nms\n",
        "\n",
        "import matplotlib.pyplot as plt\n",
        "device = 'cuda' if torch.cuda.is_available() else 'cpu'"
      ],
      "metadata": {
        "id": "ANVGamKuyyap"
      },
      "execution_count": null,
      "outputs": []
    },
    {
      "cell_type": "code",
      "source": [
        "_bit = bit.BIT(fontdata=notofonts)\n",
        "images, bboxes = _bit.make_line_bisection_task_images(N=5, n_lines=3)\n",
        "img = images[4]"
      ],
      "metadata": {
        "id": "tT4kGJSrHvFK"
      },
      "execution_count": null,
      "outputs": []
    },
    {
      "cell_type": "code",
      "source": [
        "# plt.figure(figsize=(8,8))\n",
        "# plt.axis('off')\n",
        "# plt.imshow(img)"
      ],
      "metadata": {
        "id": "7-vV1OFLHOk1"
      },
      "execution_count": null,
      "outputs": []
    },
    {
      "cell_type": "code",
      "source": [
        "import PIL\n",
        "\n",
        "def draw_center_mark(img_pt:torch.Tensor=None,\n",
        "                     prediction:dict=None,\n",
        "                     check_mark_offset:int=6,\n",
        "                     check_mark_width:int=4,\n",
        "                     check_mark_color:tuple=(0,255,0),\n",
        "                     title=None,\n",
        "                     img:PIL.Image=None,\n",
        "                    ):\n",
        "\n",
        "    if img == None:\n",
        "        img = torch_to_pil(img_pt)\n",
        "    _draw = PIL.ImageDraw.Draw(img)\n",
        "    #_draw = ImageDraw.Draw(img)\n",
        "\n",
        "    boxes = prediction['boxes']\n",
        "    for box in boxes:\n",
        "        left, top, right, bottom = box.clone().numpy()\n",
        "        #print(left,top,right,bottom)\n",
        "        h_center = int((right - left)/2 + left)\n",
        "        v_center = int((bottom - top)/2 + top)\n",
        "\n",
        "        x0 = h_center - check_mark_offset\n",
        "        y0 = v_center - check_mark_offset\n",
        "        x1 = h_center + check_mark_offset\n",
        "        y1 = v_center + check_mark_offset\n",
        "        _draw.line(xy=[(x0,y0),(x1,y1)], fill=check_mark_color, width=check_mark_width, joint=None)\n",
        "\n",
        "    return img, _draw"
      ],
      "metadata": {
        "id": "dIBVcKsrHcgC"
      },
      "execution_count": null,
      "outputs": []
    },
    {
      "cell_type": "code",
      "source": [
        "device = torch.device('cuda') if torch.cuda.is_available() else torch.device('cpu')\n",
        "\n",
        "N=25\n",
        "images, bboxes = _bit.make_line_bisection_task_images(N=N, n_lines=3)\n",
        "\n",
        "num = np.random.choice(N)\n",
        "img = images[num]\n",
        "print(bboxes)\n",
        "\n",
        "img_rgb = cv2.cvtColor(np.array(img), cv2.COLOR_BGR2RGB).astype(np.float32)\n",
        "img_res = cv2.resize(img_rgb, (224, 224), cv2.INTER_AREA)\n",
        "img_res /= 255.0\n",
        "img_pt = torch.Tensor(img_res).permute(2,0,1)\n",
        "\n",
        "bit_model.eval()\n",
        "with torch.no_grad():\n",
        "    pred = bit_model([img_pt.to(device)])[0]\n",
        "pred"
      ],
      "metadata": {
        "id": "gXh9aiPmwu3t"
      },
      "execution_count": null,
      "outputs": []
    },
    {
      "cell_type": "code",
      "source": [
        "nms_prediction = apply_nms(pred, iou_thresh=0.01)\n",
        "print(nms_prediction)"
      ],
      "metadata": {
        "id": "zm0OndyOyg8j"
      },
      "execution_count": null,
      "outputs": []
    },
    {
      "cell_type": "code",
      "source": [
        "#nms_prediction\n",
        "plot_img_bbox(img_pt.numpy().transpose(1,2,0),\n",
        "              nms_prediction)"
      ],
      "metadata": {
        "id": "iie2m0vpy-RM"
      },
      "execution_count": null,
      "outputs": []
    },
    {
      "cell_type": "code",
      "source": [
        "import copy\n",
        "\n",
        "def deviate_prediction(prediction:dict=None,\n",
        "                       factor:float=0.2):\n",
        "    \"\"\"素朴な偏位モデルの実装\"\"\"\n",
        "    _prediction = copy.deepcopy(prediction)\n",
        "    _boxes = _prediction['boxes'].clone()\n",
        "    for i, _box in enumerate(_boxes):\n",
        "        left, top, right, bottom = _box\n",
        "        _len = right - left\n",
        "        _len *= factor\n",
        "        _left = left + _len\n",
        "        _box[0] = _left\n",
        "        _boxes[i][0] = _left\n",
        "\n",
        "    _prediction['boxes'] = _boxes\n",
        "    return _prediction\n",
        "\n",
        "def deviate_prediction_left(prediction:dict=None,\n",
        "                            factor:float=0.2):\n",
        "    \"\"\"素朴な偏位モデルの実装\"\"\"\n",
        "    _prediction = copy.deepcopy(prediction)\n",
        "    _boxes = _prediction['boxes'].clone()\n",
        "    for i, _box in enumerate(_boxes):\n",
        "        left, top, right, bottom = _box\n",
        "        _len = right - left\n",
        "        _len *= factor\n",
        "        _right = left - _len\n",
        "        _box[2] = _right\n",
        "        _boxes[i][2] = _right\n",
        "\n",
        "    _prediction['boxes'] = _boxes\n",
        "    return _prediction\n",
        "\n",
        "factor = 0.4\n",
        "_prediction = deviate_prediction(pred, factor=factor)\n",
        "print(f'prediction:{pred[\"boxes\"]}')\n",
        "print(f'_prediction:{_prediction[\"boxes\"]}')\n",
        "\n",
        "_img, _draw = draw_center_mark(img_pt=img_pt, prediction=nms_prediction, check_mark_color='green') #, img=img)\n",
        "#_img, _draw = draw_center_mark(img_pt=img_pt, prediction=_prediction, check_mark_color='green', img=img)\n",
        "plt.figure(figsize=(5,5))\n",
        "plt.title(f'素朴 偏位モデル: 偏位因子:{factor}')\n",
        "plt.imshow(_img)\n",
        "plt.show()"
      ],
      "metadata": {
        "id": "d8pTCbgN08P9"
      },
      "execution_count": null,
      "outputs": []
    },
    {
      "cell_type": "code",
      "source": [
        "#img, img_pt, pred = make_a_prediction(n_lines=2)\n",
        "\n",
        "#factor = 0.4\n",
        "#img, _ = draw_center_mark(img_pt=img_pt, img=img, prediction=pred, check_mark_color='blue', check_mark_width=4)\n",
        "#img, _draw = draw_center_mark(img_pt=img, prediction=pred, check_mark_color='green', img=img)\n",
        "#_pred = deviate_prediction(pred, factor=factor)\n",
        "#plt.imshow(_img)\n",
        "#pred, __img, draw = make_a_stim_then_predict(n_lines=2, isDraw=False, verbose=False)\n",
        "#plt.imshow(__img)\n",
        "#print(f'pred:{pred}')\n"
      ],
      "metadata": {
        "id": "zSqompzWSo-g"
      },
      "execution_count": null,
      "outputs": []
    },
    {
      "cell_type": "code",
      "source": [
        "#images, bboxes = _bit.make_line_bisection_task_images(N=10, n_lines=3)\n",
        "#prediction, _img, draw = make_a_stim_then_predict(isDraw=False, verbose=False)\n",
        "\n",
        "factor = 0.4\n",
        "_img, _draw = draw_center_mark(img_pt=img_pt, prediction=nms_prediction, check_mark_color='green') #, img=images[-1])\n",
        "_prediction = deviate_prediction(nms_prediction, factor=factor)\n",
        "#print(f'prediction:{prediction[\"boxes\"]}')\n",
        "#print(f'_prediction:{_prediction[\"boxes\"]}')\n",
        "\n",
        "_img, _draw = draw_center_mark(img_pt=img_pt, prediction=_prediction, check_mark_color='green') #, img=img)\n",
        "plt.figure(figsize=(5,5))\n",
        "plt.title(f'素朴 偏位モデル: 偏位因子:{factor}')\n",
        "plt.imshow(_img)\n",
        "plt.show()"
      ],
      "metadata": {
        "id": "p4c0j3esQWLp"
      },
      "execution_count": null,
      "outputs": []
    },
    {
      "cell_type": "code",
      "source": [
        "#images, bboxes = _bit.make_line_bisection_task_images(N=10, n_lines=3)\n",
        "#prediction, _img, draw = make_a_stim_then_predict(isDraw=False, verbose=False)\n",
        "\n",
        "factor = 0.4\n",
        "_img, _draw = draw_center_mark(img_pt=img_pt, prediction=nms_prediction, check_mark_color='green') #, img=images[-1])\n",
        "_prediction = deviate_prediction(nms_prediction, factor=factor)\n",
        "#print(f'prediction:{prediction[\"boxes\"]}')\n",
        "#print(f'_prediction:{_prediction[\"boxes\"]}')\n",
        "\n",
        "_img, _draw = draw_center_mark(img_pt=img_pt, prediction=_prediction, check_mark_color='green') #, img=img)\n",
        "plt.figure(figsize=(5,5))\n",
        "plt.title(f'素朴 偏位モデル: 偏位因子:{factor}')\n",
        "plt.imshow(_img)\n",
        "plt.show()"
      ],
      "metadata": {
        "id": "1IGEoKZ1dkKb"
      },
      "execution_count": null,
      "outputs": []
    },
    {
      "cell_type": "code",
      "source": [
        "import copy\n",
        "\n",
        "def deviate_prediction(prediction:dict=None,\n",
        "                       factor:float=0.2):\n",
        "    \"\"\"素朴な偏位モデルの実装\"\"\"\n",
        "    _prediction = copy.deepcopy(prediction)\n",
        "    _boxes = _prediction['boxes'].clone()\n",
        "    for i, _box in enumerate(_boxes):\n",
        "        left, top, right, bottom = _box\n",
        "        _len = right - left\n",
        "        _len *= factor\n",
        "        _left = left - _len\n",
        "        _box[0] = _left\n",
        "        _boxes[i][0] = _left\n",
        "\n",
        "    _prediction['boxes'] = _boxes\n",
        "    return _prediction\n",
        "\n",
        "def deviate_prediction_left(prediction:dict=None,\n",
        "                            factor:float=0.2):\n",
        "    \"\"\"素朴な偏位モデルの実装\"\"\"\n",
        "    _prediction = copy.deepcopy(prediction)\n",
        "    _boxes = _prediction['boxes'].clone()\n",
        "    for i, _box in enumerate(_boxes):\n",
        "        left, top, right, bottom = _box\n",
        "        _len = right - left\n",
        "        _len *= factor\n",
        "        _right = left - _len\n",
        "        _box[2] = _right\n",
        "        _boxes[i][2] = _right\n",
        "\n",
        "    _prediction['boxes'] = _boxes\n",
        "    return _prediction\n",
        "\n",
        "factor = 0.4\n",
        "_prediction = deviate_prediction(pred, factor=factor)\n",
        "print(f'prediction:{pred[\"boxes\"]}')\n",
        "print(f'_prediction:{_prediction[\"boxes\"]}')\n",
        "\n",
        "_img, _draw = draw_center_mark(img_pt=img_pt, prediction=_prediction, check_mark_color='green', img=img)\n",
        "#_img, _draw = draw_center_mark(img_pt=img_pt, prediction=_prediction, check_mark_color='green', img=img)\n",
        "plt.figure(figsize=(5,5))\n",
        "plt.title(f'素朴 偏位モデル: 偏位因子:{factor}')\n",
        "plt.imshow(_img)\n",
        "plt.show()"
      ],
      "metadata": {
        "id": "SYJ124a2MA7u"
      },
      "execution_count": null,
      "outputs": []
    },
    {
      "cell_type": "code",
      "source": [
        "images, bboxes = _bit.make_line_bisection_task_images(N=5, n_lines=3)\n",
        "img = images[4]\n",
        "plt.imshow(img)"
      ],
      "metadata": {
        "id": "juQSIRWQIFU7"
      },
      "execution_count": null,
      "outputs": []
    },
    {
      "cell_type": "code",
      "source": [
        "factor = 0.4\n",
        "_prediction = deviate_prediction(pred, factor=factor)\n",
        "print(f'prediction:{pred[\"boxes\"]}')\n",
        "#print(f'_prediction:{_pred[\"boxes\"]}')\n",
        "\n",
        "_img, _draw = draw_center_mark(img_pt=img, prediction=pred, check_mark_color='green', img=img)\n",
        "#_img, _draw = draw_center_mark(img_pt=img_pt, prediction=_pred, check_mark_color='green', img=img)\n",
        "plt.figure(figsize=(7,7))\n",
        "plt.title(f'素朴 偏位モデル: 偏位因子:{factor}')\n",
        "plt.imshow(_img)\n",
        "plt.show()\n",
        "\n",
        "_img, _draw = draw_center_mark(img_pt=img, prediction=_prediction, check_mark_color='green', img=img)\n",
        "#_img, _draw = draw_center_mark(img_pt=img_pt, prediction=_prediction, check_mark_color='green', img=img)\n",
        "plt.figure(figsize=(7,7))\n",
        "plt.title(f'素朴 偏位モデル: 偏位因子:{factor}')\n",
        "plt.imshow(_img)\n",
        "plt.show()"
      ],
      "metadata": {
        "id": "UDyOZj1LLnX8"
      },
      "execution_count": null,
      "outputs": []
    },
    {
      "cell_type": "code",
      "source": [],
      "metadata": {
        "id": "sDfTuRFAMrPS"
      },
      "execution_count": null,
      "outputs": []
    }
  ]
}