{
  "cells": [
    {
      "cell_type": "markdown",
      "metadata": {
        "id": "view-in-github",
        "colab_type": "text"
      },
      "source": [
        "<a href=\"https://colab.research.google.com/github/ShinAsakawa/ShinAsakawa.github.io/blob/master/2022notebooks/2022_0719japanese_gpt_1b.ipynb\" target=\"_parent\"><img src=\"https://colab.research.google.com/assets/colab-badge.svg\" alt=\"Open In Colab\"/></a>"
      ]
    },
    {
      "cell_type": "markdown",
      "id": "3dc96c3e-c4a7-4c7c-9495-7074e5a892e4",
      "metadata": {
        "id": "3dc96c3e-c4a7-4c7c-9495-7074e5a892e4"
      },
      "source": [
        "# GPT-3 を使って，自発話のシミュレーション\n",
        " - date: 2022_0714\n",
        "- author: 浅川 伸一\n",
        "- ref: https://huggingface.co/rinna/japanese-gpt-1b"
      ]
    },
    {
      "cell_type": "code",
      "source": [
        "import torch\n",
        "%config InlineBackend.figure_format = 'retina'\n",
        "try:\n",
        "    import bit\n",
        "except ImportError:\n",
        "    !pip install ipynbname > /dev/null 2>&1\n",
        "    !git clone https://github.com/ShinAsakawa/bit.git\n",
        "import bit\n",
        "isColab = bit.isColab\n",
        "HOME = bit.HOME\n",
        "\n",
        "if isColab:\n",
        "    !pip install --upgrade xlrd\n",
        "    !pip install --upgrade 'fugashi[ipadic]'\n",
        "    !pip install --upgrade 'fugashi[unidic]'\n",
        "    !python -m unidic download\n",
        "    !pip install --upgrade ipadic\n",
        "    !pip install --upgrade sentencepiece\n",
        "    !pip install --upgrade transformers\n",
        "    !pip install --upgrade termcolor\n",
        "    !pip install --upgrade jaconv    "
      ],
      "metadata": {
        "id": "Fy-jIiMtN7se",
        "outputId": "21629934-2e4d-41f5-fca6-6fff6c90ba61",
        "colab": {
          "base_uri": "https://localhost:8080/"
        }
      },
      "id": "Fy-jIiMtN7se",
      "execution_count": 1,
      "outputs": [
        {
          "output_type": "stream",
          "name": "stdout",
          "text": [
            "Cloning into 'bit'...\n",
            "remote: Enumerating objects: 337, done.\u001b[K\n",
            "remote: Counting objects: 100% (15/15), done.\u001b[K\n",
            "remote: Compressing objects: 100% (15/15), done.\u001b[K\n",
            "remote: Total 337 (delta 7), reused 0 (delta 0), pack-reused 322\u001b[K\n",
            "Receiving objects: 100% (337/337), 6.05 MiB | 25.39 MiB/s, done.\n",
            "Resolving deltas: 100% (247/247), done.\n",
            "日付: 2023-02-05\n",
            "HOSTNAME: 800f1cb13ac9\n",
            "ユーザ名: root\n",
            "HOME: /root\n",
            "ファイル名: /fileId=https%3A%2F%2Fgithub.com%2FShinAsakawa%2FShinAsakawa.github.io%2Fblob%2Fmaster%2F2022notebooks%2F2022_0719japanese_gpt_1b.ipynb\n",
            "torch.__version__: 1.13.1+cu116\n",
            "url:https://noto-website-2.storage.googleapis.com/pkgs/NotoSerifJP.zip\n",
            "NotoSerifJP.zip をダウンロード中 36145566 バイト\n",
            "url:https://noto-website-2.storage.googleapis.com/pkgs/NotoSansJP.zip\n",
            "NotoSansJP.zip をダウンロード中 26466579 バイト\n",
            "Looking in indexes: https://pypi.org/simple, https://us-python.pkg.dev/colab-wheels/public/simple/\n",
            "Requirement already satisfied: xlrd in /usr/local/lib/python3.8/dist-packages (1.2.0)\n",
            "Collecting xlrd\n",
            "  Downloading xlrd-2.0.1-py2.py3-none-any.whl (96 kB)\n",
            "\u001b[2K     \u001b[90m━━━━━━━━━━━━━━━━━━━━━━━━━━━━━━━━━━━━━━━━\u001b[0m \u001b[32m96.5/96.5 KB\u001b[0m \u001b[31m4.3 MB/s\u001b[0m eta \u001b[36m0:00:00\u001b[0m\n",
            "\u001b[?25hInstalling collected packages: xlrd\n",
            "  Attempting uninstall: xlrd\n",
            "    Found existing installation: xlrd 1.2.0\n",
            "    Uninstalling xlrd-1.2.0:\n",
            "      Successfully uninstalled xlrd-1.2.0\n",
            "Successfully installed xlrd-2.0.1\n",
            "Looking in indexes: https://pypi.org/simple, https://us-python.pkg.dev/colab-wheels/public/simple/\n",
            "Collecting fugashi[ipadic]\n",
            "  Downloading fugashi-1.2.1-cp38-cp38-manylinux_2_17_x86_64.manylinux2014_x86_64.whl (615 kB)\n",
            "\u001b[2K     \u001b[90m━━━━━━━━━━━━━━━━━━━━━━━━━━━━━━━━━━━━━━\u001b[0m \u001b[32m615.9/615.9 KB\u001b[0m \u001b[31m10.8 MB/s\u001b[0m eta \u001b[36m0:00:00\u001b[0m\n",
            "\u001b[?25h\u001b[33mWARNING: fugashi 1.2.1 does not provide the extra 'ipadic'\u001b[0m\u001b[33m\n",
            "\u001b[0mInstalling collected packages: fugashi\n",
            "Successfully installed fugashi-1.2.1\n",
            "Looking in indexes: https://pypi.org/simple, https://us-python.pkg.dev/colab-wheels/public/simple/\n",
            "Requirement already satisfied: fugashi[unidic] in /usr/local/lib/python3.8/dist-packages (1.2.1)\n",
            "Collecting unidic\n",
            "  Downloading unidic-1.1.0.tar.gz (7.7 kB)\n",
            "  Preparing metadata (setup.py) ... \u001b[?25l\u001b[?25hdone\n",
            "Requirement already satisfied: requests<3.0.0,>=2.22.0 in /usr/local/lib/python3.8/dist-packages (from unidic->fugashi[unidic]) (2.25.1)\n",
            "Requirement already satisfied: tqdm<5.0.0,>=4.41.1 in /usr/local/lib/python3.8/dist-packages (from unidic->fugashi[unidic]) (4.64.1)\n",
            "Requirement already satisfied: wasabi<1.0.0,>=0.6.0 in /usr/local/lib/python3.8/dist-packages (from unidic->fugashi[unidic]) (0.10.1)\n",
            "Collecting plac<2.0.0,>=1.1.3\n",
            "  Downloading plac-1.3.5-py2.py3-none-any.whl (22 kB)\n",
            "Requirement already satisfied: idna<3,>=2.5 in /usr/local/lib/python3.8/dist-packages (from requests<3.0.0,>=2.22.0->unidic->fugashi[unidic]) (2.10)\n",
            "Requirement already satisfied: chardet<5,>=3.0.2 in /usr/local/lib/python3.8/dist-packages (from requests<3.0.0,>=2.22.0->unidic->fugashi[unidic]) (4.0.0)\n",
            "Requirement already satisfied: certifi>=2017.4.17 in /usr/local/lib/python3.8/dist-packages (from requests<3.0.0,>=2.22.0->unidic->fugashi[unidic]) (2022.12.7)\n",
            "Requirement already satisfied: urllib3<1.27,>=1.21.1 in /usr/local/lib/python3.8/dist-packages (from requests<3.0.0,>=2.22.0->unidic->fugashi[unidic]) (1.24.3)\n",
            "Building wheels for collected packages: unidic\n",
            "  Building wheel for unidic (setup.py) ... \u001b[?25l\u001b[?25hdone\n",
            "  Created wheel for unidic: filename=unidic-1.1.0-py3-none-any.whl size=7425 sha256=09d514cb52bd73e71332f6340524f0a7f072b03e1555d0b5cf4cf948df19e71c\n",
            "  Stored in directory: /root/.cache/pip/wheels/22/bc/bb/46aba36d0388f67dfe44bb0edc20a2c964560d4d19ec394e05\n",
            "Successfully built unidic\n",
            "Installing collected packages: plac, unidic\n",
            "Successfully installed plac-1.3.5 unidic-1.1.0\n",
            "download url: https://cotonoha-dic.s3-ap-northeast-1.amazonaws.com/unidic-3.1.0.zip\n",
            "Dictionary version: 3.1.0+2021-08-31\n",
            "Downloading UniDic v3.1.0+2021-08-31...\n",
            "unidic-3.1.0.zip: 100% 526M/526M [00:28<00:00, 18.6MB/s]\n",
            "Finished download.\n",
            "Downloaded UniDic v3.1.0+2021-08-31 to /usr/local/lib/python3.8/dist-packages/unidic/dicdir\n",
            "Looking in indexes: https://pypi.org/simple, https://us-python.pkg.dev/colab-wheels/public/simple/\n",
            "Collecting ipadic\n",
            "  Downloading ipadic-1.0.0.tar.gz (13.4 MB)\n",
            "\u001b[2K     \u001b[90m━━━━━━━━━━━━━━━━━━━━━━━━━━━━━━━━━━━━━━━━\u001b[0m \u001b[32m13.4/13.4 MB\u001b[0m \u001b[31m80.8 MB/s\u001b[0m eta \u001b[36m0:00:00\u001b[0m\n",
            "\u001b[?25h  Preparing metadata (setup.py) ... \u001b[?25l\u001b[?25hdone\n",
            "Building wheels for collected packages: ipadic\n",
            "  Building wheel for ipadic (setup.py) ... \u001b[?25l\u001b[?25hdone\n",
            "  Created wheel for ipadic: filename=ipadic-1.0.0-py3-none-any.whl size=13556723 sha256=d24cc35322d679537b7bc557af23874f3d72073f393caad646ab8957073187ff\n",
            "  Stored in directory: /root/.cache/pip/wheels/45/b7/f5/a21e68db846eedcd00d69e37d60bab3f68eb20b1d99cdff652\n",
            "Successfully built ipadic\n",
            "Installing collected packages: ipadic\n",
            "Successfully installed ipadic-1.0.0\n",
            "Looking in indexes: https://pypi.org/simple, https://us-python.pkg.dev/colab-wheels/public/simple/\n",
            "Collecting sentencepiece\n",
            "  Downloading sentencepiece-0.1.97-cp38-cp38-manylinux_2_17_x86_64.manylinux2014_x86_64.whl (1.3 MB)\n",
            "\u001b[2K     \u001b[90m━━━━━━━━━━━━━━━━━━━━━━━━━━━━━━━━━━━━━━━━\u001b[0m \u001b[32m1.3/1.3 MB\u001b[0m \u001b[31m18.0 MB/s\u001b[0m eta \u001b[36m0:00:00\u001b[0m\n",
            "\u001b[?25hInstalling collected packages: sentencepiece\n",
            "Successfully installed sentencepiece-0.1.97\n",
            "Looking in indexes: https://pypi.org/simple, https://us-python.pkg.dev/colab-wheels/public/simple/\n",
            "Collecting transformers\n",
            "  Downloading transformers-4.26.0-py3-none-any.whl (6.3 MB)\n",
            "\u001b[2K     \u001b[90m━━━━━━━━━━━━━━━━━━━━━━━━━━━━━━━━━━━━━━━━\u001b[0m \u001b[32m6.3/6.3 MB\u001b[0m \u001b[31m22.9 MB/s\u001b[0m eta \u001b[36m0:00:00\u001b[0m\n",
            "\u001b[?25hRequirement already satisfied: packaging>=20.0 in /usr/local/lib/python3.8/dist-packages (from transformers) (23.0)\n",
            "Requirement already satisfied: regex!=2019.12.17 in /usr/local/lib/python3.8/dist-packages (from transformers) (2022.6.2)\n",
            "Requirement already satisfied: requests in /usr/local/lib/python3.8/dist-packages (from transformers) (2.25.1)\n",
            "Requirement already satisfied: tqdm>=4.27 in /usr/local/lib/python3.8/dist-packages (from transformers) (4.64.1)\n",
            "Requirement already satisfied: pyyaml>=5.1 in /usr/local/lib/python3.8/dist-packages (from transformers) (6.0)\n",
            "Collecting huggingface-hub<1.0,>=0.11.0\n",
            "  Downloading huggingface_hub-0.12.0-py3-none-any.whl (190 kB)\n",
            "\u001b[2K     \u001b[90m━━━━━━━━━━━━━━━━━━━━━━━━━━━━━━━━━━━━━━\u001b[0m \u001b[32m190.3/190.3 KB\u001b[0m \u001b[31m23.5 MB/s\u001b[0m eta \u001b[36m0:00:00\u001b[0m\n",
            "\u001b[?25hRequirement already satisfied: numpy>=1.17 in /usr/local/lib/python3.8/dist-packages (from transformers) (1.21.6)\n",
            "Requirement already satisfied: filelock in /usr/local/lib/python3.8/dist-packages (from transformers) (3.9.0)\n",
            "Collecting tokenizers!=0.11.3,<0.14,>=0.11.1\n",
            "  Downloading tokenizers-0.13.2-cp38-cp38-manylinux_2_17_x86_64.manylinux2014_x86_64.whl (7.6 MB)\n",
            "\u001b[2K     \u001b[90m━━━━━━━━━━━━━━━━━━━━━━━━━━━━━━━━━━━━━━━━\u001b[0m \u001b[32m7.6/7.6 MB\u001b[0m \u001b[31m113.2 MB/s\u001b[0m eta \u001b[36m0:00:00\u001b[0m\n",
            "\u001b[?25hRequirement already satisfied: typing-extensions>=3.7.4.3 in /usr/local/lib/python3.8/dist-packages (from huggingface-hub<1.0,>=0.11.0->transformers) (4.4.0)\n",
            "Requirement already satisfied: certifi>=2017.4.17 in /usr/local/lib/python3.8/dist-packages (from requests->transformers) (2022.12.7)\n",
            "Requirement already satisfied: chardet<5,>=3.0.2 in /usr/local/lib/python3.8/dist-packages (from requests->transformers) (4.0.0)\n",
            "Requirement already satisfied: urllib3<1.27,>=1.21.1 in /usr/local/lib/python3.8/dist-packages (from requests->transformers) (1.24.3)\n",
            "Requirement already satisfied: idna<3,>=2.5 in /usr/local/lib/python3.8/dist-packages (from requests->transformers) (2.10)\n",
            "Installing collected packages: tokenizers, huggingface-hub, transformers\n",
            "Successfully installed huggingface-hub-0.12.0 tokenizers-0.13.2 transformers-4.26.0\n",
            "Looking in indexes: https://pypi.org/simple, https://us-python.pkg.dev/colab-wheels/public/simple/\n",
            "Requirement already satisfied: termcolor in /usr/local/lib/python3.8/dist-packages (2.2.0)\n",
            "Looking in indexes: https://pypi.org/simple, https://us-python.pkg.dev/colab-wheels/public/simple/\n",
            "Collecting jaconv\n",
            "  Downloading jaconv-0.3.3.tar.gz (16 kB)\n",
            "  Preparing metadata (setup.py) ... \u001b[?25l\u001b[?25hdone\n",
            "Building wheels for collected packages: jaconv\n",
            "  Building wheel for jaconv (setup.py) ... \u001b[?25l\u001b[?25hdone\n",
            "  Created wheel for jaconv: filename=jaconv-0.3.3-py3-none-any.whl size=16149 sha256=a49a04b2fa3c8a81bd99cccdf0c14bf6e0407b2df93c411a6e4f5004146fbbae\n",
            "  Stored in directory: /root/.cache/pip/wheels/96/35/01/44a4e0440636d2d56517751e30be96256c7c87e75dbbcc6dcf\n",
            "Successfully built jaconv\n",
            "Installing collected packages: jaconv\n",
            "Successfully installed jaconv-0.3.3\n"
          ]
        }
      ]
    },
    {
      "cell_type": "code",
      "execution_count": 8,
      "id": "0c6ad43c-260f-45c2-8eee-c0e19d3c4ce3",
      "metadata": {
        "id": "0c6ad43c-260f-45c2-8eee-c0e19d3c4ce3",
        "outputId": "eec88917-51eb-4c3e-85cd-320964161520",
        "colab": {
          "base_uri": "https://localhost:8080/"
        }
      },
      "outputs": [
        {
          "output_type": "stream",
          "name": "stdout",
          "text": [
            "「鬼の面」という物語も登場するそうです。邪気があったら、鬼になってもおかしくないですよね!? それなら、「鬼」というのも、仕方ないのかな? と思ったりします。 ところで、節分の日に「鬼は外! 福は内!」と言うことで、「鬼」は、果たして本当に悪い存在なのでしょうか? つまり、悪いものなのでしょうか? 「鬼」の童話では、鬼が村を襲う話で、善玉は「桃太郎」ですが、鬼を倒すために奮闘する物語も登場します。 桃太郎は、鬼を退治するために旅に出ます。鬼を悪く言わないで、どうやって退治するのか、気になるところです。でも、ちょっと考えてみると、これは「鬼」は悪いもの、退治すべきもので、桃太郎も退治しなければならない存在ということになりかねません。でも、村人はみんな「鬼」のおかげで、豊かで幸せに暮らせているのですよね? これでは、桃太郎が悪いと言い出すことはできません。桃太郎は悪いもの、退治しなければならない存在ではないのでしょうか? これについては、ちょっと考えたいと思います。 話は変わります。この「鬼」の話は、もともとは中国で考えられた話です。中国の書物で記録されている鬼は、赤ら顔をした西洋の鬼とは違って、非常に人間臭い鬼でした。 日本でも、そのようなイメージを膨らませて、「鬼」を捉えるようです。 この節分の日には、「鬼」についてよく考えてみるのもいいかもしれません。 鬼も、桃太郎も日本人にとって、親しい仲間です。いや、一味、二味深くて、非常に味わい深い存在だと思います。もっと根源的なところで、日本人にとって「鬼」とは何か?について、いろいろと想像してみるのも、いいかもしれませんね! いつもは、穏やかに過ごすためにも、嫌なことは嫌と言えたほうがいいと思います。でも、嫌だって言えなかったり、好き勝手なことが横行したりして、ついついギスギスしてしまう場合もあると思います。 そんな時に、「鬼」を想像してみることで、ホッとするでしょう。 それから、別のことを思い浮かべても、いいかもしれませんね。 自分の嫌いな面、嫌なところに気づいて、そこを責め過ぎないようにしたり、愚痴を言い過ぎないように注意してみると、少しは気分が楽になることもあると思います。 今日と明日が「節分」です。よかったら、自分も人も悪いところばかり見ては、ないていないと思い当たる節がないか、考えてみましょう。自分の中にある「鬼」と戦うのではなく、向き合うことが、大事だと思います。 「嫌なこと」を「嫌だ」と言えるだけでも、人間は成長できるのではないでしょうか? いつも「鬼」に脅え、攻撃してばかりでは、豊かな人生ではありませんよね? 自分の悪い面を強く叱りつけては、反省することの大切な時期も無駄になってしまいます。 反省するならば、人の嫌な面だけ見て、やっかむのではなく、素直に認めて、自分の成長につなげることが大事だと思います。 そして、嫌だと感じることもありますが、嫌と感じつつも、ずっと見張られているわけではなく、ある程度、放っておかれたり、時間が経てば、それまで通り過ごせるものもあり、それほど嫌ではないのであれば、我慢をするよりも、それが当たり前として、受け入れる方が、自分らしくいられる場合もあると思います。 嫌なことは嫌と言えるのは、立派な、大人だと思います。自分の人生を歩んでいる以上、人には嫌だなと感じることを、しない方がいい場合もあるはずです。でも、もちろん、悪気はなくて、単純に知らないでしてしまっているだけであり、やられたら嫌なこと、相手が悪い場合もあります。それなのに、自分も好き好んで、そのことをしているわけではないのに、「嫌だ」というのは、どうなのでしょうか? 自分は嫌だと感じたとしても、それは自分の心に素直に感じたことであり、心の底から嫌だと感じたら、相手を責めて、憎んで、自分の気持ちを壊してしまうことになってしまいかねません。でも、たまには、そうではない場合もあると思うのです。「嫌だな」と感じたとしても、そこで大人げないと思ったり、そのままにしておけばいいのに、冷静になる努力をせず、嫌なことを嫌だと言えないのであれば、それは「大人げない」ということになってしまうのではないかと思うのです。自分だけが不機嫌なままで、理不尽な世界を受け入れ続けることは、自分にとっては不愉快なことでも、それが自分にとっては、幸せなことなのであれば、相手のために我慢するということも、大人の務めだと思うのです。 「嫌だ」とはっきりと言えると、相手のためにと無理して一緒にいても、それが本当に自分の幸せなのかどうか、自分で気づくことができ、納得できる生き方ができるようになるのではないでしょうか? 私は、自分に素直に生きたいと思います。</s>\n"
          ]
        }
      ],
      "source": [
        "import torch\n",
        "from transformers import T5Tokenizer, AutoModelForCausalLM\n",
        "\n",
        "tokenizer = T5Tokenizer.from_pretrained(\"rinna/japanese-gpt-1b\")\n",
        "model = AutoModelForCausalLM.from_pretrained(\"rinna/japanese-gpt-1b\")\n",
        "\n",
        "if torch.cuda.is_available():\n",
        "    model = model.to(\"cuda\")\n",
        "\n",
        "text = \"「鬼の面」という物語\"\n",
        "token_ids = tokenizer.encode(text, add_special_tokens=False, return_tensors=\"pt\")\n",
        "\n",
        "with torch.no_grad():\n",
        "    output_ids = model.generate(\n",
        "        token_ids.to(model.device),\n",
        "        max_length=1000,\n",
        "        min_length=800,\n",
        "        do_sample=True,\n",
        "        top_k=500,\n",
        "        top_p=0.95,\n",
        "        pad_token_id=tokenizer.pad_token_id,\n",
        "        bos_token_id=tokenizer.bos_token_id,\n",
        "        eos_token_id=tokenizer.eos_token_id,\n",
        "        #bad_word_ids=[[tokenizer.unk_token_id]]\n",
        "    )\n",
        "\n",
        "output = tokenizer.decode(output_ids.tolist()[0])\n",
        "print(output)  \n",
        "# sample output: 西田幾多郎は、その主著の「善の研究」などで、人間の内面に自然とその根源があると指摘し、その根源的な性格は、この西田哲学を象徴しているとして、カントの「純粋理性批判」と「判断力批判」を対比して捉えます。それは、「人が理性的存在であるかぎりにおいて、人はその当人に固有な道徳的に自覚された善悪の基準を持っている」とするもので、この理性的な善悪の観念を否定するのがカントの\n"
      ]
    }
  ],
  "metadata": {
    "kernelspec": {
      "display_name": "Python 3 (ipykernel)",
      "language": "python",
      "name": "python3"
    },
    "language_info": {
      "codemirror_mode": {
        "name": "ipython",
        "version": 3
      },
      "file_extension": ".py",
      "mimetype": "text/x-python",
      "name": "python",
      "nbconvert_exporter": "python",
      "pygments_lexer": "ipython3",
      "version": "3.9.12"
    },
    "colab": {
      "name": "2022_0719japanese-gpt-1b.ipynb",
      "provenance": [],
      "include_colab_link": true
    },
    "accelerator": "GPU",
    "gpuClass": "standard"
  },
  "nbformat": 4,
  "nbformat_minor": 5
}