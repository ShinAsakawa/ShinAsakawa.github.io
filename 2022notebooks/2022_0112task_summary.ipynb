{
  "cells": [
    {
      "cell_type": "markdown",
      "metadata": {
        "id": "view-in-github",
        "colab_type": "text"
      },
      "source": [
        "<a href=\"https://colab.research.google.com/github/ShinAsakawa/ShinAsakawa.github.io/blob/master/2022notebooks/2022_0112task_summary.ipynb\" target=\"_parent\"><img src=\"https://colab.research.google.com/assets/colab-badge.svg\" alt=\"Open In Colab\"/></a>"
      ]
    },
    {
      "cell_type": "markdown",
      "source": [
        "- date: 2022_0112\n",
        "- source url: https://colab.research.google.com/github/huggingface/notebooks/blob/master/transformers_doc/task_summary.ipynb\n",
        "- filename: 2022_0112task_summary.ipynb\n"
      ],
      "metadata": {
        "id": "bNCgc87Mi67e"
      }
    },
    {
      "cell_type": "code",
      "execution_count": 1,
      "metadata": {
        "id": "I0-lTZpcJoSr"
      },
      "outputs": [],
      "source": [
        "import platform\n",
        "\n",
        "isColab = platform.system() == 'Linux'\n",
        "if isColab:\n",
        "    # Transformers installation\n",
        "    !pip install transformers datasets > /dev/null 2>&1 \n",
        "    # To install from source instead of the last release, comment the command above and uncomment the following one.\n",
        "    #! pip install git+https://github.com/huggingface/transformers.git"
      ]
    },
    {
      "cell_type": "code",
      "source": [
        "if isColab:\n",
        "    # MeCab, fugashi, ipadic のインストール\n",
        "    !apt install aptitude swig > /dev/null 2>&1\n",
        "    !aptitude install mecab libmecab-dev mecab-ipadic-utf8 git make curl xz-utils file -y > /dev/null 2>&1\n",
        "    !pip install mecab-python3 > /dev/null 2>&1\n",
        "    !git clone --depth 1 https://github.com/neologd/mecab-ipadic-neologd.git > /dev/null 2>&1\n",
        "    !echo yes | mecab-ipadic-neologd/bin/install-mecab-ipadic-neologd -n -a > /dev/null 2>&1\n",
        "    \n",
        "    import subprocess\n",
        "    cmd='echo `mecab-config --dicdir`\\\"/mecab-ipadic-neologd\\\"'\n",
        "    path_neologd = (subprocess.Popen(cmd, stdout=subprocess.PIPE,\n",
        "                                     shell=True).communicate()[0]).decode('utf-8')\n",
        "\n",
        "    !pip install 'fugashi[unidic]' > /dev/null 2>&1\n",
        "    !python -m unidic download > /dev/null 2>&1\n",
        "    !pip install ipadic > /dev/null 2>&1    "
      ],
      "metadata": {
        "id": "xo9AjWa1NnRt"
      },
      "execution_count": 2,
      "outputs": []
    },
    {
      "cell_type": "markdown",
      "metadata": {
        "id": "XWhjI8-AJoSu"
      },
      "source": [
        "# 課題のまとめ\n",
        "<!-- # Summary of the tasks -->"
      ]
    },
    {
      "cell_type": "markdown",
      "metadata": {
        "id": "latnO3lrJoSv"
      },
      "source": [
        "このページでは，ライブラリを使用する際に最も頻用されるユースケースを紹介します。\n",
        "用意されているモデルは様々な構成が可能で，使用例も多岐にわたります。\n",
        "ここでは，最も簡単なものを紹介し，質問応答，系列分類，名前付き実体認識 (NER) などの課題での使用を紹介します。\n",
        "<!-- This page shows the most frequent use-cases when using the library. \n",
        "The models available allow for many different configurations and a great versatility in use-cases. \n",
        "The most simple ones are presented here, showcasing usage for tasks such as question answering, sequence classification, named entity recognition and others. -->\n",
        "\n",
        "これらの例では，auto-models を活用しています。\n",
        "Auto-models は，与えられたチェックポイントに従ってモデルを実体化し，正しいモデルアーキテクチャを自動的に選択するクラスです。\n",
        "詳細は [AutoModel](https://huggingface.co/docs/transformers/master/en/model_doc/auto#transformers.AutoModel) の文書をご覧ください。\n",
        "コードをより具体的に変更したり，特定のユースケースに合わせて自由にアレンジしてください。\n",
        "<!-- These examples leverage auto-models, which are classes that will instantiate a model according to a given checkpoint, automatically selecting the correct model architecture. \n",
        "Please check the [AutoModel](https://huggingface.co/docs/transformers/master/en/model_doc/auto#transformers.AutoModel) documentation for more information. \n",
        "Feel free to modify the code to be more specific and adapt it to your specific use-case. -->\n",
        "\n",
        "ある課題でモデルが十分な性能を発揮するためには，その課題に対応するチェックポイントからモデルを読み込む必要があります。\n",
        "これらのチェックポイントは，通常，大規模なデータコーパスで事前訓練され，特定課題で微調整されています。\n",
        "これは次のような意味を持ちます。\n",
        "<!-- In order for a model to perform well on a task, it must be loaded from a checkpoint corresponding to that task. \n",
        "These checkpoints are usually pre-trained on a large corpus of data and fine-tuned on a specific task. \n",
        "This means the following: -->\n",
        "\n",
        "- すべてのモデルがすべての課題で微調整されたわけではありません。\n",
        "特定の課題でモデルを微調整したい場合は [examples](https://github.com/huggingface/transformers/tree/master/examples) ディレクトリにある*run_$TASK.py* スクリプトの 1 つを活用できます。\n",
        "- 微調整済モデルは，特定のデータセットで微調整されています。\n",
        "このデータセットは，あなたのユースケースやドメインと重なる場合もあれば，そうでない場合もあります。\n",
        "前述のように [examples](https://github.com/huggingface/transformers/tree/master/examples) のスクリプトを利用してモデルを微調整することもできますし，独自の訓練クリプトを作成することもできます。\n",
        "\n",
        "<!-- - Not all models were fine-tuned on all tasks. \n",
        "If you want to fine-tune a model on a specific task, you can leverage one of the *run_$TASK.py* scripts in the [examples](https://github.com/huggingface/transformers/tree/master/examples) directory.\n",
        "- Fine-tuned models were fine-tuned on a specific dataset. \n",
        "This dataset may or may not overlap with your use-case and domain. \n",
        "As mentioned previously, you may leverage the [examples](https://github.com/huggingface/transformers/tree/master/examples) scripts to fine-tune your model, or you may create your own training script. -->\n",
        "\n",
        "課題の推論を行うために，ライブラリにはいくつかの機構が用意されています。\n",
        "<!-- In order to do an inference on a task, several mechanisms are made available by the library:-->\n",
        "\n",
        "- パイプライン：非常に使いやすい抽象化で，わずか 2 行のコードで済みます。\n",
        "- モデルの直接利用。トークン化器 (PyTorch/TensorFlow) に直接アクセスし，推論能力をフルに発揮することで，抽象化は少ないが，より高い柔軟性とパワーを発揮する。\n",
        "\n",
        "<!-- - Pipelines: very easy-to-use abstractions, which require as little as two lines of code.\n",
        "- Direct model use: Less abstractions, but more flexibility and power via a direct access to a tokenizer (PyTorch/TensorFlow) and full inference capacity. -->\n",
        "\n",
        "両アプローチがここで紹介されています。\n",
        "\n",
        "<!-- Both approaches are showcased here. -->\n",
        "\n",
        "<Tip>\n",
        "\n",
        "ここで紹介する全課題は，特定課題で微調整された事前訓練済チェックポイントを利用しています。\n",
        "特定の課題で微調整されていないチェックポイントをロードすると，ベースの transformer 層のみがロードされ，課題で使用される追加ヘッドはロードされず，そのヘッドの重み係数はランダムに初期化されます。\n",
        "<!-- All tasks presented here leverage pre-trained checkpoints that were fine-tuned on specific tasks. \n",
        "Loading a checkpoint that was not fine-tuned on a specific task would load only the base transformer layers and not the additional head that is used for the task, initializing the weights of that head randomly.-->\n",
        "\n",
        "これにより，ランダムな出力が得られます。\n",
        "<!--This would produce random output. -->\n",
        "\n",
        "</Tip>"
      ]
    },
    {
      "cell_type": "markdown",
      "metadata": {
        "id": "VCQoPr8aJoSv"
      },
      "source": [
        "## 1. 系列分類\n",
        "<!-- ## Sequence Classification -->"
      ]
    },
    {
      "cell_type": "markdown",
      "metadata": {
        "id": "ZQvM3hBRJoSw"
      },
      "source": [
        "系列分類とは，与えられた数のクラスに従って系列を分類する課題です。\n",
        "系列分類の例としては，GLUE データセットがありますが，これはすべてこの課題に基づいています。\n",
        "GLUE の系列分類課題でモデルを微調整したい場合は，[run_glue.py](https://github.com/huggingface/transformers/tree/master/examples/pytorch/text-classification/run_glue.py)，[run_tf_glue.py](https://github.com/huggingface/transformers/tree/master/examples/tensorflow/text-classification/run_tf_glue.py)，[run_tf_text_classification.py](https://github.com/huggingface/transformers/tree/master/examples/tensorflow/text-classification/run_tf_text_classification.py)，[run_xnli.py](https://github.com/huggingface/transformers/tree/master/examples/pytorch/text-classification/run_xnli.py) のスクリプトを活用できます。\n",
        "<!-- Sequence classification is the task of classifying sequences according to a given number of classes. \n",
        "An example of sequence classification is the GLUE dataset, which is entirely based on that task. \n",
        "If you would like to fine-tune a model on a GLUE sequence classification task, you may leverage the [run_glue.py](https://github.com/huggingface/transformers/tree/master/examples/pytorch/text-classification/run_glue.py), [run_tf_glue.py](https://github.com/huggingface/transformers/tree/master/examples/tensorflow/text-classification/run_tf_glue.py), [run_tf_text_classification.py](https://github.com/huggingface/transformers/tree/master/examples/tensorflow/text-classification/run_tf_text_classification.py) or [run_xnli.py](https://github.com/huggingface/transformers/tree/master/examples/pytorch/text-classification/run_xnli.py) scripts.-->\n",
        "\n",
        "ここでは，パイプラインを使用して，系列が陽性 (ポジティブ) か陰性 (ネガティブ) かを識別する極性分析の例を紹介します。\n",
        "GLUE 課題である sst2 の微調整されたモデルを利用しています。\n",
        "<!-- Here is an example of using pipelines to do sentiment analysis: identifying if a sequence is positive or negative. \n",
        "It leverages a fine-tuned model on sst2, which is a GLUE task. -->\n",
        "\n",
        "これは，以下のように得点と一緒にラベル (POSITIVE または NEGATIVE) を返します。\n",
        "<!-- This returns a label (\"POSITIVE\" or \"NEGATIVE\") alongside a score, as follows: -->"
      ]
    },
    {
      "cell_type": "code",
      "execution_count": null,
      "metadata": {
        "id": "3Ss0sGs_JoSw"
      },
      "outputs": [],
      "source": [
        "from transformers import pipeline\n",
        "\n",
        "classifier = pipeline(\"sentiment-analysis\")\n",
        "result = classifier(\"I hate you\")[0]\n",
        "print(f\"label: {result['label']}, with score: {round(result['score'], 4)}\")\n",
        "\n",
        "\n",
        "classifier_ja = pipeline(\"sentiment-analysis\", model=\"daigo/bert-base-japanese-sentiment\",tokenizer=\"daigo/bert-base-japanese-sentiment\")\n",
        "result_ja = classifier_ja(\"お前なんかきらいだ\")[0]\n",
        "print(f\"ラベルl: {result_ja['label']}, 得点: {round(result_ja['score'], 4)}\")"
      ]
    },
    {
      "cell_type": "code",
      "execution_count": null,
      "metadata": {
        "id": "woOBOp_kJoSx"
      },
      "outputs": [],
      "source": [
        "result = classifier(\"I love you\")[0]\n",
        "print(f\"label: {result['label']}, with score: {round(result['score'], 4)}\")\n",
        "\n",
        "# 日本語\n",
        "result_ja = classifier_ja(\"お前が好きだ\")[0]\n",
        "print(f\"ラベルl: {result_ja['label']}, 得点: {round(result_ja['score'], 4)}\")"
      ]
    },
    {
      "cell_type": "markdown",
      "metadata": {
        "id": "JBMitzm9JoSy"
      },
      "source": [
        "ここでは 2 つの配列が互いに言い換えられているかどうかを判断するために，モデルを使用して配列分類を行う例を示します。\n",
        "処理は以下の通りです。\n",
        "<!-- Here is an example of doing a sequence classification using a model to determine if two sequences are paraphrases of each other. \n",
        "The process is the following:-->\n",
        "\n",
        "1. チェックポイント名からトークン化器とモデルを実体化する\n",
        "モデルは，BERT モデルとして識別され，チェックポイントに保存されている重みでロードされます\n",
        "2. 2 つの文から，正しいモデル固有のセパレータ，トークンタイプ ID，および注意マスク (トークン化器によって自動的に作成される) を使用して系列を構築します\n",
        "3. この系列をモデルに通して，利用可能な 2 つのクラスのいずれかに分類する。0 (言い換えではない) と 1 (パラフレーズである) です\n",
        "4. クラスの確率を得るために，結果のソフトマックスを計算します\n",
        "5. 結果を印刷します\n",
        "\n",
        "<!-- \n",
        "1. Instantiate a tokenizer and a model from the checkpoint name. \n",
        "The model is identified as a BERT model and loads it with the weights stored in the checkpoint.\n",
        "2. Build a sequence from the two sentences, with the correct model-specific separators, token type ids and attention masks (which will be created automatically by the tokenizer).\n",
        "3. Pass this sequence through the model so that it is classified in one of the two available classes: 0 (not a paraphrase) and 1 (is a paraphrase).\n",
        "4. Compute the softmax of the result to get probabilities over the classes.\n",
        "5. Print the results. -->"
      ]
    },
    {
      "cell_type": "code",
      "execution_count": null,
      "metadata": {
        "id": "TQ-AgiELJoSy"
      },
      "outputs": [],
      "source": [
        "from transformers import AutoTokenizer, AutoModelForSequenceClassification\n",
        "import torch\n",
        "\n",
        "tokenizer = AutoTokenizer.from_pretrained(\"bert-base-cased-finetuned-mrpc\")\n",
        "model = AutoModelForSequenceClassification.from_pretrained(\"bert-base-cased-finetuned-mrpc\")\n",
        "\n",
        "classes = [\"not paraphrase\", \"is paraphrase\"]\n",
        "\n",
        "sequence_0 = \"The company HuggingFace is based in New York City\"\n",
        "sequence_1 = \"Apples are especially bad for your health\"\n",
        "sequence_2 = \"HuggingFace's headquarters are situated in Manhattan\"\n",
        "\n",
        "# トークン化器は，モデル固有のセパレータ (例 <CLS> や <SEP>) やトークンを自動的に系列に追加し，注意マスクを計算します。\n",
        "# The tokenizer will automatically add any model specific separators (i.e. <CLS> and <SEP>) and tokens to the sequence, as well as compute the attention masks.\n",
        "paraphrase = tokenizer(sequence_0, sequence_2, return_tensors=\"pt\")\n",
        "not_paraphrase = tokenizer(sequence_0, sequence_1, return_tensors=\"pt\")\n",
        "\n",
        "paraphrase_classification_logits = model(**paraphrase).logits\n",
        "not_paraphrase_classification_logits = model(**not_paraphrase).logits\n",
        "\n",
        "paraphrase_results = torch.softmax(paraphrase_classification_logits, dim=1).tolist()[0]\n",
        "not_paraphrase_results = torch.softmax(not_paraphrase_classification_logits, dim=1).tolist()[0]\n",
        "\n",
        "# 言い換えか？\n",
        "# Should be paraphrase\n",
        "for i in range(len(classes)):\n",
        "    print(f\"{classes[i]}: {int(round(paraphrase_results[i] * 100))}%\")"
      ]
    },
    {
      "cell_type": "code",
      "source": [
        "# 直上セルの日本語バージョン\n",
        "from transformers import AutoTokenizer, AutoModelForSequenceClassification\n",
        "import torch\n",
        "\n",
        "model_name_ja = 'cl-tohoku/bert-base-japanese'\n",
        "#model_name_ja = 'sonoisa/t5-base-japanese'\n",
        "tknz_ja = AutoTokenizer.from_pretrained(model_name_ja)\n",
        "model_ja = AutoModelForSequenceClassification.from_pretrained(model_name_ja)\n",
        "\n",
        "classes = [\"not paraphrase\", \"is paraphrase\"]\n",
        "\n",
        "sequence_0_ja = \"東京女子大学は杉並区にある大学です\"\n",
        "sequence_1_ja = \"東京大学は異世界に転生しました\"\n",
        "sequence_2_ja = \"西荻窪駅には東京女子大学があります\"\n",
        "\n",
        "# トークン化器は，モデル固有のセパレータ (例 <CLS> や <SEP>) やトークンを自動的に系列に追加し，注意マスクを計算します。\n",
        "# The tokenizer will automatically add any model specific separators (i.e. <CLS> and <SEP>) and tokens to the sequence, as well as compute the attention masks.\n",
        "paraphrase_ja = tknz_ja(sequence_0_ja, sequence_2_ja, return_tensors=\"pt\")\n",
        "not_paraphrase_ja = tknz_ja(sequence_0_ja, sequence_1_ja, return_tensors=\"pt\")\n",
        "\n",
        "paraphrase_classification_logits_ja = model_ja(**paraphrase_ja).logits\n",
        "not_paraphrase_classification_logits_ja = model_ja(**not_paraphrase_ja).logits\n",
        "\n",
        "paraphrase_results_ja = torch.softmax(paraphrase_classification_logits_ja, dim=1).tolist()[0]\n",
        "not_paraphrase_results_ja = torch.softmax(not_paraphrase_classification_logits_ja, dim=1).tolist()[0]\n",
        "\n",
        "# 言い換えか？\n",
        "# Should be paraphrase\n",
        "for i in range(len(classes)):\n",
        "    print(f\"{classes[i]}: {int(round(paraphrase_results_ja[i] * 100))}%\")"
      ],
      "metadata": {
        "id": "vTVVQ-EJQmnV"
      },
      "execution_count": null,
      "outputs": []
    },
    {
      "cell_type": "code",
      "execution_count": null,
      "metadata": {
        "id": "HYt-rTINJoSz"
      },
      "outputs": [],
      "source": [
        "# Should not be paraphrase\n",
        "for i in range(len(classes)):\n",
        "    print(f\"{classes[i]}: {int(round(not_paraphrase_results[i] * 100))}%\")\n",
        "\n",
        "# 言い換えではない？ Should not be paraphrase\n",
        "for i in range(len(classes)):\n",
        "    print(f\"{classes[i]}: {int(round(not_paraphrase_results_ja[i] * 100))}%\")    "
      ]
    },
    {
      "cell_type": "code",
      "execution_count": null,
      "metadata": {
        "id": "W8wo5mUDJoSz"
      },
      "outputs": [],
      "source": [
        "from transformers import AutoTokenizer, TFAutoModelForSequenceClassification\n",
        "import tensorflow as tf\n",
        "\n",
        "tokenizer = AutoTokenizer.from_pretrained(\"bert-base-cased-finetuned-mrpc\")\n",
        "model = TFAutoModelForSequenceClassification.from_pretrained(\"bert-base-cased-finetuned-mrpc\")\n",
        "\n",
        "classes = [\"not paraphrase\", \"is paraphrase\"]\n",
        "\n",
        "sequence_0 = \"The company HuggingFace is based in New York City\"\n",
        "sequence_1 = \"Apples are especially bad for your health\"\n",
        "sequence_2 = \"HuggingFace's headquarters are situated in Manhattan\"\n",
        "\n",
        "# The tokenizer will automatically add any model specific separators (i.e. <CLS> and <SEP>) and tokens to\n",
        "# the sequence, as well as compute the attention masks.\n",
        "paraphrase = tokenizer(sequence_0, sequence_2, return_tensors=\"tf\")\n",
        "not_paraphrase = tokenizer(sequence_0, sequence_1, return_tensors=\"tf\")\n",
        "\n",
        "paraphrase_classification_logits = model(paraphrase).logits\n",
        "not_paraphrase_classification_logits = model(not_paraphrase).logits\n",
        "\n",
        "paraphrase_results = tf.nn.softmax(paraphrase_classification_logits, axis=1).numpy()[0]\n",
        "not_paraphrase_results = tf.nn.softmax(not_paraphrase_classification_logits, axis=1).numpy()[0]\n",
        "\n",
        "# Should be paraphrase\n",
        "for i in range(len(classes)):\n",
        "    print(f\"{classes[i]}: {int(round(paraphrase_results[i] * 100))}%\")"
      ]
    },
    {
      "cell_type": "code",
      "execution_count": null,
      "metadata": {
        "id": "ODD0gvvuJoSz"
      },
      "outputs": [],
      "source": [
        "# Should not be paraphrase\n",
        "for i in range(len(classes)):\n",
        "    print(f\"{classes[i]}: {int(round(not_paraphrase_results[i] * 100))}%\")"
      ]
    },
    {
      "cell_type": "markdown",
      "metadata": {
        "id": "1PR2FNmFJoS0"
      },
      "source": [
        "## 2. 抽出型質問応答\n",
        "<!-- ## Extractive Question Answering -->"
      ]
    },
    {
      "cell_type": "markdown",
      "metadata": {
        "id": "VsLuXAMPJoS0"
      },
      "source": [
        "抽出型質問応答は，質問が与えられたテキストから答えを抽出する課題です。\n",
        "質問応答データセットの例としては SQuAD データセットがあり，この課題に完全に基づいています。\n",
        "SQuAD 課題でモデルを微調整したい場合は [run_qa.py](https://github.com/huggingface/transformers/tree/master/examples/pytorch/question-answering/run_qa.py) と [run_tf_squad.py](https://github.com/huggingface/transformers/tree/master/examples/tensorflow/question-answering/run_tf_squad.py) のスクリプトを活用してください。\n",
        "<!-- Extractive Question Answering is the task of extracting an answer from a text given a question. \n",
        "An example of a question answering dataset is the SQuAD dataset, which is entirely based on that task. \n",
        "If you would like to fine-tune a model on a SQuAD task, you may leverage the [run_qa.py](https://github.com/huggingface/transformers/tree/master/examples/pytorch/question-answering/run_qa.py) and [run_tf_squad.py](https://github.com/huggingface/transformers/tree/master/examples/tensorflow/question-answering/run_tf_squad.py) scripts.-->\n",
        "\n",
        "ここでは，パイプラインを使って質問応答を行う例を紹介します。\n",
        "質問が与えられたテキストから答えを抽出します。\n",
        "この例では SQuAD の微調整されたモデルを利用しています。\n",
        "<!-- Here is an example of using pipelines to do question answering: extracting an answer from a text given a question. \n",
        "It leverages a fine-tuned model on SQuAD. -->"
      ]
    },
    {
      "cell_type": "code",
      "execution_count": null,
      "metadata": {
        "id": "hqkiNSDiJoS0"
      },
      "outputs": [],
      "source": [
        "from transformers import pipeline\n",
        "\n",
        "question_answerer = pipeline(\"question-answering\")\n",
        "\n",
        "context = r\"\"\"\n",
        "Extractive Question Answering is the task of extracting an answer from a text given a question. An example of a\n",
        "question answering dataset is the SQuAD dataset, which is entirely based on that task. If you would like to fine-tune\n",
        "a model on a SQuAD task, you may leverage the examples/pytorch/question-answering/run_squad.py script.\n",
        "\"\"\""
      ]
    },
    {
      "cell_type": "markdown",
      "metadata": {
        "id": "vaB-w6ZDJoS0"
      },
      "source": [
        "これにより，テキストから抽出された回答，信頼度得点，および抽出された回答のテキスト中の位置である start と end の値が返されます。\n",
        "<!-- This returns an answer extracted from the text, a confidence score, alongside \"start\" and \"end\" values, which are the positions of the extracted answer in the text. -->"
      ]
    },
    {
      "cell_type": "code",
      "execution_count": 11,
      "metadata": {
        "id": "QFfd9HJPJoS1",
        "outputId": "810ea3e6-98ba-450b-fc52-b9cf0d1b72a3",
        "colab": {
          "base_uri": "https://localhost:8080/"
        }
      },
      "outputs": [
        {
          "output_type": "stream",
          "name": "stdout",
          "text": [
            "Answer: 'the task of extracting an answer from a text given a question', score: 0.6177, start: 34, end: 95\n"
          ]
        }
      ],
      "source": [
        "result = question_answerer(question=\"What is extractive question answering?\", context=context)\n",
        "print(\n",
        "    f\"Answer: '{result['answer']}', score: {round(result['score'], 4)}, start: {result['start']}, end: {result['end']}\"\n",
        ")"
      ]
    },
    {
      "cell_type": "code",
      "execution_count": 12,
      "metadata": {
        "id": "N_L6Ai1KJoS1",
        "outputId": "2bb6205b-62a1-4a5e-f1e0-904a34c70132",
        "colab": {
          "base_uri": "https://localhost:8080/"
        }
      },
      "outputs": [
        {
          "output_type": "stream",
          "name": "stdout",
          "text": [
            "Answer: 'SQuAD dataset', score: 0.5152, start: 147, end: 160\n"
          ]
        }
      ],
      "source": [
        "result = question_answerer(question=\"What is a good example of a question answering dataset?\", context=context)\n",
        "print(\n",
        "    f\"Answer: '{result['answer']}', score: {round(result['score'], 4)}, start: {result['start']}, end: {result['end']}\"\n",
        ")"
      ]
    },
    {
      "cell_type": "code",
      "source": [
        "# 直上 3 セルの日本語版\n",
        "from transformers import pipeline\n",
        "\n",
        "model_name_ja = 'cl-tohoku/bert-base-japanese'\n",
        "question_answerer_ja = pipeline(\"question-answering\", model=model_name_ja, tokenizer=model_name_ja)\n",
        "\n",
        "# context = r\"\"\"\n",
        "# Extractive Question Answering is the task of extracting an answer from a text given a question. \n",
        "# An example of a question answering dataset is the SQuAD dataset, which is entirely based on that task. \n",
        "# If you would like to fine-tune a model on a SQuAD task, you may leverage the examples/pytorch/question-answering/run_squad.py script.\n",
        "# \"\"\"\n",
        "\n",
        "context_ja = r\"\"\"\n",
        "抽出型質問応答とは，質問が与えられたテキストから答えを抽出する課題です。\n",
        "質問応答データセットの例としては，SQuAD データセットがあり，この課題に完全に基づいています。\n",
        "SQuAD 課題でモデルを微調整したい場合は，examples/pytorch/question-answering/run_squad.py スクリプトをご利用ください。\n",
        "\"\"\"\n",
        "\n",
        "result_ja = question_answerer_ja(question=\"抽出型質問応答とは何か？\", context=context_ja)\n",
        "print(\n",
        "    f\"Answer: '{result_ja['answer']}', 得点: {round(result_ja['score'], 4)}, start: {result_ja['start']}, end: {result_ja['end']}\"\n",
        ")\n",
        "\n",
        "result_ja = question_answerer_ja(question=\"質問応答データセットの良い例は？\", context=context_ja)\n",
        "print(\n",
        "    f\"Answer: '{result_ja['answer']}', score: {round(result_ja['score'], 4)}, start: {result_ja['start']}, end: {result_ja['end']}\"\n",
        ")"
      ],
      "metadata": {
        "id": "VBQm-p9CXMGb",
        "outputId": "70170bb1-dbbe-4df1-c52b-690e47626308",
        "colab": {
          "base_uri": "https://localhost:8080/"
        }
      },
      "execution_count": 13,
      "outputs": [
        {
          "output_type": "stream",
          "name": "stderr",
          "text": [
            "Some weights of the model checkpoint at cl-tohoku/bert-base-japanese were not used when initializing BertForQuestionAnswering: ['cls.predictions.transform.LayerNorm.weight', 'cls.predictions.decoder.weight', 'cls.seq_relationship.bias', 'cls.predictions.transform.dense.bias', 'cls.predictions.transform.dense.weight', 'cls.predictions.transform.LayerNorm.bias', 'cls.seq_relationship.weight', 'cls.predictions.bias']\n",
            "- This IS expected if you are initializing BertForQuestionAnswering from the checkpoint of a model trained on another task or with another architecture (e.g. initializing a BertForSequenceClassification model from a BertForPreTraining model).\n",
            "- This IS NOT expected if you are initializing BertForQuestionAnswering from the checkpoint of a model that you expect to be exactly identical (initializing a BertForSequenceClassification model from a BertForSequenceClassification model).\n",
            "Some weights of BertForQuestionAnswering were not initialized from the model checkpoint at cl-tohoku/bert-base-japanese and are newly initialized: ['qa_outputs.bias', 'qa_outputs.weight']\n",
            "You should probably TRAIN this model on a down-stream task to be able to use it for predictions and inference.\n"
          ]
        },
        {
          "output_type": "stream",
          "name": "stdout",
          "text": [
            "Answer: '抽出型質問応答とは，質問が与えられたテキストから答えを抽出する課題です。', 得点: 0.0002, start: 1, end: 37\n",
            "Answer: '抽出型質問応答とは，質問が与えられたテキストから答えを抽出する課題です。', score: 0.0002, start: 1, end: 37\n"
          ]
        }
      ]
    },
    {
      "cell_type": "markdown",
      "metadata": {
        "id": "c-yD3NQ6JoS1"
      },
      "source": [
        "ここでは，モデルとトークン化器を使った質問応答の例を紹介します。\n",
        "処理は以下の通りです。\n",
        "<!-- Here is an example of question answering using a model and a tokenizer. \n",
        "The process is the following:-->\n",
        "\n",
        "1. チェックポイント名からトークン化器とモデルを実体化する。モデルは BERT モデルとして識別され，チェックポイントに格納されている重みでロードされます。\n",
        "2. テキストといくつかの質問を定義する。\n",
        "3. 質問を繰り返し処理し，テキストと現在の質問から，モデル固有の正しいセパレータトー クン型 ID，注意マスクを使用して，系列を構築します。\n",
        "4. この系列をモデルに通します。\n",
        "これにより，開始位置と終了位置の両方について，系列トークン (質問とテキスト) 全体の得点の範囲が出力されます。\n",
        "5. 結果のソフトマックスを計算して，トークンの確率を得る。\n",
        "6. 識別された開始値と停止値からトークンを取得し，それらのトークンを文字列に変換します。\n",
        "7. 結果を印刷します。\n",
        "\n",
        "<!--\n",
        "1. Instantiate a tokenizer and a model from the checkpoint name. The model is identified as a BERT model and loads it with the weights stored in the checkpoint.\n",
        "2. Define a text and a few questions.\n",
        "3. Iterate over the questions and build a sequence from the text and the current question, with the correct model-specific separators token type ids and attention masks.\n",
        "4. Pass this sequence through the model. \n",
        "This outputs a range of scores across the entire sequence tokens (question and text), for both the start and end positions.\n",
        "5. Compute the softmax of the result to get probabilities over the tokens.\n",
        "6. Fetch the tokens from the identified start and stop values, convert those tokens to a string.\n",
        "7. Print the results. -->"
      ]
    },
    {
      "cell_type": "code",
      "execution_count": 14,
      "metadata": {
        "id": "HsqIoHv4JoS1",
        "outputId": "6074966c-f1f8-43e7-aac8-5316a1cf72e6",
        "colab": {
          "base_uri": "https://localhost:8080/",
          "height": 281,
          "referenced_widgets": [
            "7f880fc7072c4e2eb080edeaedc1ae46",
            "de696d6d7519442b85d19deb1fd3713c",
            "6e278128030f4a6c9ce6046c78e3237d",
            "a7d9fe46350d45d0b99bec668dcd4012",
            "48c9b53b47f14b32a766b6d4e20e56df",
            "893d1fe53c4a472094a2977f29e10762",
            "5af650bfab0b487ba18b2f760f7a3640",
            "19ec6f7d66724514a8c78fad71088b1b",
            "aff20140f313400f94433940c19e2028",
            "90fe5bba282843b795103ced2db2d602",
            "e0fd83a330e14428b3103ee8d6c555d3",
            "e522d796e6494200845d8dfeabfb5533",
            "6b10458400e64152a118013d77cc9b02",
            "026294e578c94c1aac1fc101467570cb",
            "9922b8d06cad4e1cb6b68674120a2512",
            "a64e94cf6ddd4d8986be9f88c9e8b5f9",
            "6e5c05230d25402a894a49089a5dc20c",
            "ee741206e35945b8986ac35072ba3d13",
            "29013b3394f04dce93954c3f33f89af8",
            "a4bc977283764ab7b3b17a4716424f02",
            "2525b6b8847144b0bd71c25a764e26be",
            "4b0c259fd5f944aea8ef1b370ba12208",
            "235f8ee4426f49fc9ef23314d9e0695e",
            "063080bf538148b6b5734e7da334f386",
            "27814cc6037f4e2ca7f44407707e3ac0",
            "6fcf1f02d6834a3281c3eacf7b7100fe",
            "2ae6e71ebb07446a958c5a5f140f0407",
            "7cd2e4d4812c48ec800860552ec566ef",
            "156dd533043c427493f20906b571c558",
            "e43c650ab3b14b65a75628c7359eb16a",
            "6d90196ccfa7476bb138da178a5e3717",
            "15e73b4d9a2742bba7cff94ea14d46c1",
            "800442dd3b11491c8dd273855edfc29c",
            "03c81452758544c493146d23b1957308",
            "7f5a4b3a695f46548872f80f740c4b19",
            "479d589c00df4bb8a1bbd446ab5a58f1",
            "bea826716ff54359a20b6999c57469e9",
            "9976b9cc30d240aba3c89cb83e2e46de",
            "b90ca01eebc840d6b9fb1df8e8af8a01",
            "dbbbd395264342b782d5f09098f7464e",
            "f06abe7eb62f4db1bf296c0c8cc342c1",
            "e9d426cdc24e4bd5981e42fe5f7385a3",
            "8cfd9b8012164235a3ae994516f9d837",
            "efb3a3943f214e4b8b2cafaf9a44ad7c",
            "ae400586f23f44579fab4f017a2cc9ce",
            "5267e5638c724b7d80227a4c4ec7a3ab",
            "abc3b8a878084b7a8188e1ced731fc54",
            "2ec3b1ee849a432e822faae1cafaf21c",
            "15fdcfbfcb7641fe9701fc50600d4205",
            "5d4611f2b3fe474b9d1e6879a7a555bc",
            "ed4cae46fa1940a3837c5ced9c3987ce",
            "66418ac7fadd451689b43caea64b6636",
            "e18b5bfcaae54286bfd97ab422c3ee5f",
            "0d21498ede2140c899c59d7b2737b496",
            "16410393d4a4445ba65645e94bc3ea41"
          ]
        }
      },
      "outputs": [
        {
          "output_type": "display_data",
          "data": {
            "application/vnd.jupyter.widget-view+json": {
              "model_id": "7f880fc7072c4e2eb080edeaedc1ae46",
              "version_minor": 0,
              "version_major": 2
            },
            "text/plain": [
              "Downloading:   0%|          | 0.00/28.0 [00:00<?, ?B/s]"
            ]
          },
          "metadata": {}
        },
        {
          "output_type": "display_data",
          "data": {
            "application/vnd.jupyter.widget-view+json": {
              "model_id": "e522d796e6494200845d8dfeabfb5533",
              "version_minor": 0,
              "version_major": 2
            },
            "text/plain": [
              "Downloading:   0%|          | 0.00/443 [00:00<?, ?B/s]"
            ]
          },
          "metadata": {}
        },
        {
          "output_type": "display_data",
          "data": {
            "application/vnd.jupyter.widget-view+json": {
              "model_id": "235f8ee4426f49fc9ef23314d9e0695e",
              "version_minor": 0,
              "version_major": 2
            },
            "text/plain": [
              "Downloading:   0%|          | 0.00/226k [00:00<?, ?B/s]"
            ]
          },
          "metadata": {}
        },
        {
          "output_type": "display_data",
          "data": {
            "application/vnd.jupyter.widget-view+json": {
              "model_id": "03c81452758544c493146d23b1957308",
              "version_minor": 0,
              "version_major": 2
            },
            "text/plain": [
              "Downloading:   0%|          | 0.00/455k [00:00<?, ?B/s]"
            ]
          },
          "metadata": {}
        },
        {
          "output_type": "display_data",
          "data": {
            "application/vnd.jupyter.widget-view+json": {
              "model_id": "ae400586f23f44579fab4f017a2cc9ce",
              "version_minor": 0,
              "version_major": 2
            },
            "text/plain": [
              "Downloading:   0%|          | 0.00/1.25G [00:00<?, ?B/s]"
            ]
          },
          "metadata": {}
        },
        {
          "output_type": "stream",
          "name": "stdout",
          "text": [
            "Question: How many pretrained models are available in 🤗 Transformers?\n",
            "Answer: over 32 +\n",
            "Question: What does 🤗 Transformers provide?\n",
            "Answer: general - purpose architectures\n",
            "Question: 🤗 Transformers provides interoperability between which frameworks?\n",
            "Answer: tensorflow 2. 0 and pytorch\n"
          ]
        }
      ],
      "source": [
        "from transformers import AutoTokenizer, AutoModelForQuestionAnswering\n",
        "import torch\n",
        "\n",
        "tokenizer = AutoTokenizer.from_pretrained(\"bert-large-uncased-whole-word-masking-finetuned-squad\")\n",
        "model = AutoModelForQuestionAnswering.from_pretrained(\"bert-large-uncased-whole-word-masking-finetuned-squad\")\n",
        "\n",
        "text = r\"\"\"\n",
        "🤗 Transformers (formerly known as pytorch-transformers and pytorch-pretrained-bert) provides general-purpose\n",
        "architectures (BERT, GPT-2, RoBERTa, XLM, DistilBert, XLNet…) for Natural Language Understanding (NLU) and Natural\n",
        "Language Generation (NLG) with over 32+ pretrained models in 100+ languages and deep interoperability between\n",
        "TensorFlow 2.0 and PyTorch.\n",
        "\"\"\"\n",
        "\n",
        "questions = [\n",
        "    \"How many pretrained models are available in 🤗 Transformers?\",\n",
        "    \"What does 🤗 Transformers provide?\",\n",
        "    \"🤗 Transformers provides interoperability between which frameworks?\",\n",
        "]\n",
        "\n",
        "for question in questions:\n",
        "    inputs = tokenizer(question, text, add_special_tokens=True, return_tensors=\"pt\")\n",
        "    input_ids = inputs[\"input_ids\"].tolist()[0]\n",
        "\n",
        "    outputs = model(**inputs)\n",
        "    answer_start_scores = outputs.start_logits\n",
        "    answer_end_scores = outputs.end_logits\n",
        "\n",
        "    # Get the most likely beginning of answer with the argmax of the score\n",
        "    answer_start = torch.argmax(answer_start_scores)\n",
        "    # Get the most likely end of answer with the argmax of the score\n",
        "    answer_end = torch.argmax(answer_end_scores) + 1\n",
        "\n",
        "    answer = tokenizer.convert_tokens_to_string(\n",
        "        tokenizer.convert_ids_to_tokens(input_ids[answer_start:answer_end])\n",
        "    )\n",
        "\n",
        "    print(f\"Question: {question}\")\n",
        "    print(f\"Answer: {answer}\")"
      ]
    },
    {
      "cell_type": "code",
      "execution_count": null,
      "metadata": {
        "id": "NgFw1NbvJoS2",
        "outputId": "8aee4901-09c0-4d9b-d291-a938abcbd8fd"
      },
      "outputs": [
        {
          "data": {
            "text/plain": [
              "Question: How many pretrained models are available in 🤗 Transformers?\n",
              "Answer: over 32 +\n",
              "Question: What does 🤗 Transformers provide?\n",
              "Answer: general - purpose architectures\n",
              "Question: 🤗 Transformers provides interoperability between which frameworks?\n",
              "Answer: tensorflow 2. 0 and pytorch"
            ]
          },
          "execution_count": null,
          "metadata": {},
          "output_type": "execute_result"
        }
      ],
      "source": [
        "# Tensorflow 版なので全てコメントアウトした\n",
        "\n",
        "# from transformers import AutoTokenizer, TFAutoModelForQuestionAnswering\n",
        "# import tensorflow as tf\n",
        "\n",
        "# tokenizer = AutoTokenizer.from_pretrained(\"bert-large-uncased-whole-word-masking-finetuned-squad\")\n",
        "# model = TFAutoModelForQuestionAnswering.from_pretrained(\"bert-large-uncased-whole-word-masking-finetuned-squad\")\n",
        "\n",
        "# text = r\"\"\"\n",
        "# 🤗 Transformers (formerly known as pytorch-transformers and pytorch-pretrained-bert) provides general-purpose\n",
        "# architectures (BERT, GPT-2, RoBERTa, XLM, DistilBert, XLNet…) for Natural Language Understanding (NLU) and Natural\n",
        "# Language Generation (NLG) with over 32+ pretrained models in 100+ languages and deep interoperability between\n",
        "# TensorFlow 2.0 and PyTorch.\n",
        "# \"\"\"\n",
        "\n",
        "# questions = [\n",
        "#     \"How many pretrained models are available in 🤗 Transformers?\",\n",
        "#     \"What does 🤗 Transformers provide?\",\n",
        "#     \"🤗 Transformers provides interoperability between which frameworks?\",\n",
        "# ]\n",
        "\n",
        "# for question in questions:\n",
        "#     inputs = tokenizer(question, text, add_special_tokens=True, return_tensors=\"tf\")\n",
        "#     input_ids = inputs[\"input_ids\"].numpy()[0]\n",
        "\n",
        "#     outputs = model(inputs)\n",
        "#     answer_start_scores = outputs.start_logits\n",
        "#     answer_end_scores = outputs.end_logits\n",
        "\n",
        "#     # Get the most likely beginning of answer with the argmax of the score\n",
        "#     answer_start = tf.argmax(answer_start_scores, axis=1).numpy()[0]\n",
        "#     # Get the most likely end of answer with the argmax of the score\n",
        "#     answer_end = tf.argmax(answer_end_scores, axis=1).numpy()[0] + 1\n",
        "\n",
        "#     answer = tokenizer.convert_tokens_to_string(\n",
        "#         tokenizer.convert_ids_to_tokens(input_ids[answer_start:answer_end])\n",
        "#     )\n",
        "\n",
        "#     print(f\"Question: {question}\")\n",
        "#     print(f\"Answer: {answer}\")"
      ]
    },
    {
      "cell_type": "markdown",
      "metadata": {
        "id": "UKzBUgEFJoS2"
      },
      "source": [
        "## 3. 言語モデル \n",
        "<!-- ## Language Modeling -->"
      ]
    },
    {
      "cell_type": "markdown",
      "metadata": {
        "id": "UVgHhD0EJoS2"
      },
      "source": [
        "言語モデルとは，モデルをコーパスに適合させる作業であり，ドメイン固有のものである可能性があります。\n",
        "一般的な transfomrer ベースのモデルはすべて，\n",
        "言語モデルの変形を用いて学習されています。\n",
        "例えば BERT はマスク化言語モデルを，GPT-2 は因果言語モデルを用いています。\n",
        "<!-- Language modeling is the task of fitting a model to a corpus, which can be domain specific. \n",
        "All popular transformer-based models are trained using a variant of language modeling, e.g. BERT with masked language modeling, GPT-2 with causal language modeling.-->\n",
        "\n",
        "例えば，非常に大きなコーパスで学習された言語モデルを使用して，ニュースデータセットや科学論文で微調整することができます。\n",
        "例えば [LysandreJik/arxiv-nlp](https://huggingface.co/lysandre/arxiv-nlp) などです。\n",
        "<!-- Language modeling can be useful outside of pretraining as well, for example to shift the model distribution to be domain-specific: using a language model trained over a very large corpus, and then fine-tuning it to a news dataset or on scientific papers e.g. [LysandreJik/arxiv-nlp](https://huggingface.co/lysandre/arxiv-nlp). -->"
      ]
    },
    {
      "cell_type": "markdown",
      "metadata": {
        "id": "C1-kT38LJoS3"
      },
      "source": [
        "### 3.1 マスク化言語モデル\n",
        "<!-- ### Masked Language Modeling -->"
      ]
    },
    {
      "cell_type": "markdown",
      "metadata": {
        "id": "bgsvMCYXJoS3"
      },
      "source": [
        "マスク化言語モデルとは，一連のトークンをマスクトークンでマスクし，そのマスクを適切なトークンで埋めるようモデルに促す課題です。\n",
        "これにより，モデルは右の文脈 (マスクの右にあるトークン) と左の文脈 (マスクの左にあるトークン) の両方に注意を払うことができます。\n",
        "このようなトレーニングは SQuAD (質問応答 [Lewis, Lui, Goyal et al.](https://arxiv.org/abs/1910.13461) の 4.2 節参照) のような，双方向の文脈を必要とする下流課題のための強力な基盤を作ります。\n",
        "もし，マスク化言語モデル課題でモデルを微調整したい場合は [run_mlm.py](https://github.com/huggingface/transformers/tree/master/examples/pytorch/language-modeling/run_mlm.py) スクリプトを活用することができます。\n",
        "<!-- Masked language modeling is the task of masking tokens in a sequence with a masking token, and prompting the model to fill that mask with an appropriate token. \n",
        "This allows the model to attend to both the right context (tokens on the right of the mask) and the left context (tokens on the left of the mask). \n",
        "Such a training creates a strong basis for downstream tasks requiring bi-directional context, such as SQuAD (question answering, see [Lewis, Lui, Goyal et al.](https://arxiv.org/abs/1910.13461), part 4.2). \n",
        "If you would like to fine-tune a model on a masked language modeling task, you may leverage the [run_mlm.py](https://github.com/huggingface/transformers/tree/master/examples/pytorch/language-modeling/run_mlm.py) script.-->\n",
        "\n",
        "ここでは，パイプラインを使って系列からマスクを置き換える例を紹介します。\n",
        "<!-- Here is an example of using pipelines to replace a mask from a sequence: -->"
      ]
    },
    {
      "cell_type": "code",
      "execution_count": null,
      "metadata": {
        "id": "fWM24C27JoS3"
      },
      "outputs": [],
      "source": [
        "from transformers import pipeline\n",
        "unmasker = pipeline(\"fill-mask\")"
      ]
    },
    {
      "cell_type": "markdown",
      "metadata": {
        "id": "HXBIneIOJoS3"
      },
      "source": [
        "これにより，マスクが満たされた配列，信頼性得点，トークン化された語彙のトークンID が出力されます。\n",
        "<!-- This outputs the sequences with the mask filled, the confidence score, and the token id in the tokenizer vocabulary: -->"
      ]
    },
    {
      "cell_type": "code",
      "execution_count": null,
      "metadata": {
        "id": "YUziEK_7JoS3",
        "outputId": "012809f9-8026-4493-f3cd-f2452552043e",
        "colab": {
          "base_uri": "https://localhost:8080/"
        }
      },
      "outputs": [
        {
          "output_type": "stream",
          "name": "stdout",
          "text": [
            "[{'score': 0.17927499115467072,\n",
            "  'sequence': 'HuggingFace is creating a tool that the community uses to solve '\n",
            "              'NLP tasks.',\n",
            "  'token': 3944,\n",
            "  'token_str': ' tool'},\n",
            " {'score': 0.11349404603242874,\n",
            "  'sequence': 'HuggingFace is creating a framework that the community uses to '\n",
            "              'solve NLP tasks.',\n",
            "  'token': 7208,\n",
            "  'token_str': ' framework'},\n",
            " {'score': 0.05243541672825813,\n",
            "  'sequence': 'HuggingFace is creating a library that the community uses to '\n",
            "              'solve NLP tasks.',\n",
            "  'token': 5560,\n",
            "  'token_str': ' library'},\n",
            " {'score': 0.034935448318719864,\n",
            "  'sequence': 'HuggingFace is creating a database that the community uses to '\n",
            "              'solve NLP tasks.',\n",
            "  'token': 8503,\n",
            "  'token_str': ' database'},\n",
            " {'score': 0.028602484613656998,\n",
            "  'sequence': 'HuggingFace is creating a prototype that the community uses to '\n",
            "              'solve NLP tasks.',\n",
            "  'token': 17715,\n",
            "  'token_str': ' prototype'}]\n"
          ]
        }
      ],
      "source": [
        "from pprint import pprint\n",
        "\n",
        "pprint(\n",
        "    unmasker(\n",
        "        f\"HuggingFace is creating a {unmasker.tokenizer.mask_token} that the community uses to solve NLP tasks.\"\n",
        "    )\n",
        ")"
      ]
    },
    {
      "cell_type": "code",
      "source": [
        "from transformers import pipeline\n",
        "\n",
        "model_name_ja = 'cl-tohoku/bert-base-japanese'\n",
        "unmasker_ja = pipeline(\"fill-mask\", model=model_name_ja, tokenizer=model_name_ja)\n",
        "\n",
        "from pprint import pprint\n",
        "\n",
        "pprint(\n",
        "    unmasker_ja(\n",
        "        f\"月日は百代の過客にして、行き交ふ年もまた {unmasker_ja.tokenizer.mask_token} なり。.\"\n",
        "    )\n",
        ")"
      ],
      "metadata": {
        "id": "-jUWfvZMbtup",
        "outputId": "9cbdbe24-174c-455d-f8a0-57bbc8f9b6c3",
        "colab": {
          "base_uri": "https://localhost:8080/"
        }
      },
      "execution_count": null,
      "outputs": [
        {
          "output_type": "stream",
          "name": "stderr",
          "text": [
            "Some weights of the model checkpoint at cl-tohoku/bert-base-japanese were not used when initializing BertForMaskedLM: ['cls.seq_relationship.bias', 'cls.seq_relationship.weight']\n",
            "- This IS expected if you are initializing BertForMaskedLM from the checkpoint of a model trained on another task or with another architecture (e.g. initializing a BertForSequenceClassification model from a BertForPreTraining model).\n",
            "- This IS NOT expected if you are initializing BertForMaskedLM from the checkpoint of a model that you expect to be exactly identical (initializing a BertForSequenceClassification model from a BertForSequenceClassification model).\n"
          ]
        },
        {
          "output_type": "stream",
          "name": "stdout",
          "text": [
            "[{'score': 0.04446588456630707,\n",
            "  'sequence': '月日 は 百 代 の 過客 に し て 、 行き 交 ふ 年 も また なり 。.',\n",
            "  'token': 1,\n",
            "  'token_str': '[ U N K ]'},\n",
            " {'score': 0.036625366657972336,\n",
            "  'sequence': '月日 は 百 代 の 過客 に し て 、 行き 交 ふ 年 も また 同じ なり 。.',\n",
            "  'token': 552,\n",
            "  'token_str': '同 じ'},\n",
            " {'score': 0.02357492409646511,\n",
            "  'sequence': '月日 は 百 代 の 過客 に し て 、 行き 交 ふ 年 も また 長く なり 。.',\n",
            "  'token': 4109,\n",
            "  'token_str': '長 く'},\n",
            " {'score': 0.019527362659573555,\n",
            "  'sequence': '月日 は 百 代 の 過客 に し て 、 行き 交 ふ 年 も また 正月 なり 。.',\n",
            "  'token': 9782,\n",
            "  'token_str': '正 月'},\n",
            " {'score': 0.01736573502421379,\n",
            "  'sequence': '月日 は 百 代 の 過客 に し て 、 行き 交 ふ 年 も また 毎年 なり 。.',\n",
            "  'token': 2617,\n",
            "  'token_str': '毎 年'}]\n"
          ]
        }
      ]
    },
    {
      "cell_type": "markdown",
      "metadata": {
        "id": "4uNA77mnJoS3"
      },
      "source": [
        "ここでは，モデルとトークン化器を使って，マスク化言語モデルを行う例を紹介します。\n",
        "処理は以下の通りです。\n",
        "<!-- Here is an example of doing masked language modeling using a model and a tokenizer. \n",
        "The process is the following: -->\n",
        "\n",
        "1. チェックポイント名からトークン化器とモデルを実体化します。モデルは DistilBERT モデルとして識別され，チェックポイントに保存されている重みでロードされます\n",
        "2. 単語の代わりに `tokenizer.mask_token` を置いて，マスクトークンを持つ系列を定義します\n",
        "3. そのシーケンスを ID のリストに符号化し，そのリスト内のマスクトークンの位置を見つける\n",
        "4. このテンソルは，語彙と同じサイズで，値は各トークンに割り当てられた得点です\n",
        "モデルは，その文脈で可能性が高いと判断したトークンに高い得点を与えます\n",
        "5. PyTorchの `topk` または TensorFlow の `top_k` メソッドを使用して，上位 5 つのトークンを取得します\n",
        "6. マスクトークンをトークンで置き換えて，結果を表示します\n",
        "\n",
        "<!-- \n",
        "1. Instantiate a tokenizer and a model from the checkpoint name. The model is identified as a DistilBERT model and loads it with the weights stored in the checkpoint.\n",
        "2. Define a sequence with a masked token, placing the `tokenizer.mask_token` instead of a word. \n",
        "3. Encode that sequence into a list of IDs and find the position of the masked token in that list.\n",
        "4. Retrieve the predictions at the index of the mask token: this tensor has the same size as the vocabulary, and the values are the scores attributed to each token. \n",
        "The model gives higher score to tokens it deems probable in that context.\n",
        "5. Retrieve the top 5 tokens using the PyTorch `topk` or TensorFlow `top_k` methods.\n",
        "6. Replace the mask token by the tokens and print the results -->"
      ]
    },
    {
      "cell_type": "code",
      "execution_count": 15,
      "metadata": {
        "id": "v8srycVlJoS4",
        "outputId": "cc2f8811-2a10-40c6-f0ea-7d9d73a8662d",
        "colab": {
          "base_uri": "https://localhost:8080/",
          "height": 264,
          "referenced_widgets": [
            "725ab4bb0a6d46e1b2fe0a4de632f2bb",
            "ad251517a54d4714823d37b22dc5e655",
            "a2de2957538f4019bbfe8e36fb0e25d9",
            "f6e36eb8255e4003bf50f9c7b293dee6",
            "5949230738a4475cad9feb8706c970a0",
            "3dbf5eb632bb4adb9d74c2ee8c70730b",
            "06f7115c5a1f4c95b6c22c0a154255fe",
            "b15c91f1426747058ac8b7bc3f3ae4b3",
            "334b082ca6ba4803bf78f6c67a1162a2",
            "6d37f12bb0074876ba704439b0dfab37",
            "e934249e45e847b2bcc0fa5399777ef2",
            "54d2e6f8f2fc4f118e6300a94e65f103",
            "eb1d6923ae744369810b3c2cec2f2c60",
            "431f35c9b6d34205bb17b2ee21824704",
            "7cf951cdfe4a41d2b11d1ab62139e3e0",
            "3a97b5c2955e4a9cbb68b9501aad2035",
            "efd36e55354741ac9a3a6669028900b5",
            "f1347de95ca1467b92db943a68c3e3c8",
            "fe985e40716f42efb9cafd79eb0262d1",
            "8429de88cffb453ebcbe564e9312e798",
            "96513d9e1dd04352aa00bd798c320cb4",
            "7eff6e12405149b2aae8521df702e61d",
            "e47358c975f640e4a74d983ecb536693",
            "6fb4c4ac74d6435c833f40e5c71a97de",
            "4dc8e878b6684ed18ab3f2aec6943c3f",
            "530a5e7a7c524254b4118d1ebfad96ac",
            "77c1f500ccd84e0584b6fef438ccba06",
            "8afb7096565f42b69a6f1e7d166d8cfe",
            "df467832101446c5bba2cf9473d959a4",
            "12d2196213724915812361299fe4ac01",
            "09b23df0027440bab7d9164bb240ec62",
            "00441945f2b24dfe946a9a33bab6e24f",
            "5168ed01bdd849959699e3e5e93715fc",
            "11a45c994b3a4414b845fe9291ca70f0",
            "1435fcdfe7a049efac268afaeafc0608",
            "f06028c5504c4b91b1e46fd27a9ee5ca",
            "46c8a985122e4bc7a1eca4353dfefb76",
            "c7c1ef2e23f748fcba1cd3c0c420dc7c",
            "18f5ad40e13749429a84cbf4176dc71a",
            "6d955a7004884ae9807dbd76d3bd1f1a",
            "402c58f6f41d4f39bd559a2fac435c14",
            "6a14c48e5fdb432da1872ab114b53957",
            "40c07350d6314880be96b147380a5d2f",
            "75b1c9d9e3534108abc4f7a916ce7d9a",
            "9c9d2a3ec42f4ee6bbfc8e7f221b44fa",
            "b060972087b845bfb88f5319e52a0f09",
            "1c1d9d33d1464d6980d07c29f7ef3faa",
            "deb04b4a8f3d4fa5bdd95f7cebb2d104",
            "6879db605e6645d4b00620436e367b34",
            "0b85b5d3a6ae474395af21fc0fb2f448",
            "13f950311bbf429e83bc26560258aa94",
            "5605c4d0a96e465e904a24e25e13e867",
            "db158d9a6c3445c186dfa5e92eb58e78",
            "64da8755e61f48f992c9b973de4785d3",
            "7706c286723443c3b27495a89edf3410"
          ]
        }
      },
      "outputs": [
        {
          "output_type": "display_data",
          "data": {
            "application/vnd.jupyter.widget-view+json": {
              "model_id": "725ab4bb0a6d46e1b2fe0a4de632f2bb",
              "version_minor": 0,
              "version_major": 2
            },
            "text/plain": [
              "Downloading:   0%|          | 0.00/29.0 [00:00<?, ?B/s]"
            ]
          },
          "metadata": {}
        },
        {
          "output_type": "display_data",
          "data": {
            "application/vnd.jupyter.widget-view+json": {
              "model_id": "54d2e6f8f2fc4f118e6300a94e65f103",
              "version_minor": 0,
              "version_major": 2
            },
            "text/plain": [
              "Downloading:   0%|          | 0.00/411 [00:00<?, ?B/s]"
            ]
          },
          "metadata": {}
        },
        {
          "output_type": "display_data",
          "data": {
            "application/vnd.jupyter.widget-view+json": {
              "model_id": "e47358c975f640e4a74d983ecb536693",
              "version_minor": 0,
              "version_major": 2
            },
            "text/plain": [
              "Downloading:   0%|          | 0.00/208k [00:00<?, ?B/s]"
            ]
          },
          "metadata": {}
        },
        {
          "output_type": "display_data",
          "data": {
            "application/vnd.jupyter.widget-view+json": {
              "model_id": "11a45c994b3a4414b845fe9291ca70f0",
              "version_minor": 0,
              "version_major": 2
            },
            "text/plain": [
              "Downloading:   0%|          | 0.00/426k [00:00<?, ?B/s]"
            ]
          },
          "metadata": {}
        },
        {
          "output_type": "display_data",
          "data": {
            "application/vnd.jupyter.widget-view+json": {
              "model_id": "9c9d2a3ec42f4ee6bbfc8e7f221b44fa",
              "version_minor": 0,
              "version_major": 2
            },
            "text/plain": [
              "Downloading:   0%|          | 0.00/251M [00:00<?, ?B/s]"
            ]
          },
          "metadata": {}
        },
        {
          "output_type": "stream",
          "name": "stdout",
          "text": [
            "Distilled models are smaller than the models they mimic. Using them instead of the large versions would help reduce our carbon footprint.\n",
            "Distilled models are smaller than the models they mimic. Using them instead of the large versions would help increase our carbon footprint.\n",
            "Distilled models are smaller than the models they mimic. Using them instead of the large versions would help decrease our carbon footprint.\n",
            "Distilled models are smaller than the models they mimic. Using them instead of the large versions would help offset our carbon footprint.\n",
            "Distilled models are smaller than the models they mimic. Using them instead of the large versions would help improve our carbon footprint.\n"
          ]
        }
      ],
      "source": [
        "from transformers import AutoModelForMaskedLM, AutoTokenizer\n",
        "import torch\n",
        "\n",
        "tokenizer = AutoTokenizer.from_pretrained(\"distilbert-base-cased\")\n",
        "model = AutoModelForMaskedLM.from_pretrained(\"distilbert-base-cased\")\n",
        "\n",
        "sequence = (\n",
        "    \"Distilled models are smaller than the models they mimic. Using them instead of the large \"\n",
        "    f\"versions would help {tokenizer.mask_token} our carbon footprint.\"\n",
        ")\n",
        "\n",
        "inputs = tokenizer(sequence, return_tensors=\"pt\")\n",
        "mask_token_index = torch.where(inputs[\"input_ids\"] == tokenizer.mask_token_id)[1]\n",
        "\n",
        "token_logits = model(**inputs).logits\n",
        "mask_token_logits = token_logits[0, mask_token_index, :]\n",
        "\n",
        "top_5_tokens = torch.topk(mask_token_logits, 5, dim=1).indices[0].tolist()\n",
        "\n",
        "for token in top_5_tokens:\n",
        "    print(sequence.replace(tokenizer.mask_token, tokenizer.decode([token])))"
      ]
    },
    {
      "cell_type": "code",
      "source": [
        "# 直上セルの日本語版\n",
        "from transformers import AutoModelForMaskedLM, AutoTokenizer\n",
        "import torch\n",
        "\n",
        "model_name_ja = 'cl-tohoku/bert-base-japanese'\n",
        "tknz = AutoTokenizer.from_pretrained(model_name_ja)\n",
        "model_ja = AutoModelForMaskedLM.from_pretrained(model_name_ja)\n",
        "\n",
        "sequence_ja = (\n",
        "    \"吾輩は猫である。\" f\"名前はまだ{tknz_ja.mask_token}。\"\n",
        ")\n",
        "\n",
        "inputs_ja = tknz(sequence_ja, truncation=True, padding=True, return_tensors=\"pt\")\n",
        "mask_token_index_ja = torch.where(inputs_ja[\"input_ids\"] == tknz.mask_token_id)[1]\n",
        "\n",
        "token_logits_ja = model_ja(**inputs_ja).logits\n",
        "mask_token_logits_ja = token_logits_ja[0, mask_token_index_ja, :]\n",
        "\n",
        "top_5_tokens_ja = torch.topk(mask_token_logits_ja, 5, dim=1).indices[0].tolist()\n",
        "\n",
        "for token in top_5_tokens_ja:\n",
        "    print(sequence_ja.replace(tknz.mask_token, tknz.decode([token])))"
      ],
      "metadata": {
        "id": "e6zdmAWAurBz",
        "outputId": "5870156a-6975-4f5d-9151-404acfa74860",
        "colab": {
          "base_uri": "https://localhost:8080/"
        }
      },
      "execution_count": 23,
      "outputs": [
        {
          "output_type": "stream",
          "name": "stderr",
          "text": [
            "Some weights of the model checkpoint at cl-tohoku/bert-base-japanese were not used when initializing BertForMaskedLM: ['cls.seq_relationship.bias', 'cls.seq_relationship.weight']\n",
            "- This IS expected if you are initializing BertForMaskedLM from the checkpoint of a model trained on another task or with another architecture (e.g. initializing a BertForSequenceClassification model from a BertForPreTraining model).\n",
            "- This IS NOT expected if you are initializing BertForMaskedLM from the checkpoint of a model that you expect to be exactly identical (initializing a BertForSequenceClassification model from a BertForSequenceClassification model).\n"
          ]
        },
        {
          "output_type": "stream",
          "name": "stdout",
          "text": [
            "吾輩は猫である。名前はまだ不明。\n",
            "吾輩は猫である。名前はまだない。\n",
            "吾輩は猫である。名前はまだ赤ちゃん。\n",
            "吾輩は猫である。名前はまだら。\n",
            "吾輩は猫である。名前はまだ若い。\n"
          ]
        }
      ]
    },
    {
      "cell_type": "code",
      "execution_count": 24,
      "metadata": {
        "id": "MBgodNS_JoS4"
      },
      "outputs": [],
      "source": [
        "# Tensorflow 版なのでコメントアウト\n",
        "# from transformers import TFAutoModelForMaskedLM, AutoTokenizer\n",
        "# import tensorflow as tf\n",
        "\n",
        "# tokenizer = AutoTokenizer.from_pretrained(\"distilbert-base-cased\")\n",
        "# model = TFAutoModelForMaskedLM.from_pretrained(\"distilbert-base-cased\")\n",
        "\n",
        "# sequence = (\n",
        "#     \"Distilled models are smaller than the models they mimic. Using them instead of the large \"\n",
        "#     f\"versions would help {tokenizer.mask_token} our carbon footprint.\"\n",
        "# )\n",
        "\n",
        "# inputs = tokenizer(sequence, return_tensors=\"tf\")\n",
        "# mask_token_index = tf.where(inputs[\"input_ids\"] == tokenizer.mask_token_id)[0, 1]\n",
        "\n",
        "# token_logits = model(**inputs).logits\n",
        "# mask_token_logits = token_logits[0, mask_token_index, :]\n",
        "\n",
        "# top_5_tokens = tf.math.top_k(mask_token_logits, 5).indices.numpy()\n",
        "\n",
        "# for token in top_5_tokens:\n",
        "#     print(sequence.replace(tokenizer.mask_token, tokenizer.decode([token])))"
      ]
    },
    {
      "cell_type": "markdown",
      "metadata": {
        "id": "CFchFzh5JoS4"
      },
      "source": [
        "これにより，モデルが予測した上位 5 つのトークンを含む 5 つの系列が表示されます。\n",
        "<!-- This prints five sequences, with the top 5 tokens predicted by the model. -->"
      ]
    },
    {
      "cell_type": "markdown",
      "metadata": {
        "id": "1M8NzynOJoS4"
      },
      "source": [
        "### 3.2 因果言語モデル\n",
        "<!-- ### Causal Language Modeling -->"
      ]
    },
    {
      "cell_type": "markdown",
      "metadata": {
        "id": "ArnVCmvyJoS4"
      },
      "source": [
        "因果言語モデルとは，一連のトークンの後に続くトークンを予測する課題です。\n",
        "この状況では，モデルは左の文脈 (マスクの左にあるトークン) にのみ注意を払います。\n",
        "このような訓練は，特に文生成課題において興味深いものです。\n",
        "因果言語モデル課題でモデルを微調整したい場合は，[run_clm.py](https://github.com/huggingface/transformers/tree/master/examples/pytorch/language-modeling/run_clm.py) スクリプトを活用できます。\n",
        "<!-- Causal language modeling is the task of predicting the token following a sequence of tokens. \n",
        "In this situation, the model only attends to the left context (tokens on the left of the mask). \n",
        "Such a training is particularly interesting for generation tasks. \n",
        "If you would like to fine-tune a model on a causal language modeling task, you may leverage the [run_clm.py](https://github.com/huggingface/transformers/tree/master/examples/pytorch/language-modeling/run_clm.py) script.-->\n",
        "\n",
        "通常，次のトークンは，モデルが入力系列から生成する最後の隠れ状態のロジット比からサンプリングして予測します。\n",
        "<!-- Usually, the next token is predicted by sampling from the logits of the last hidden state the model produces from the input sequence. -->\n",
        "\n",
        "ここでは，トークン化器とモデルを使い `PreTrainedModel.top_k_top_p_filtering` メソッドを活用して，トークンの入力系列に続く次のトークンをサンプリングする例を紹介します。\n",
        "<!-- Here is an example of using the tokenizer and model and leveraging the `PreTrainedModel.top_k_top_p_filtering` method to sample the next token following an input sequence of tokens. -->"
      ]
    },
    {
      "cell_type": "code",
      "source": [
        "from transformers import AutoModelForCausalLM, AutoTokenizer, top_k_top_p_filtering\n",
        "import torch\n",
        "from torch import nn\n",
        "\n",
        "\n",
        "tokenizer = AutoTokenizer.from_pretrained(\"gpt2\")\n",
        "model = AutoModelForCausalLM.from_pretrained(\"gpt2\")\n",
        "\n",
        "sequence = f\"Hugging Face is based in DUMBO, New York City, and\"\n",
        "\n",
        "inputs = tokenizer(sequence, return_tensors=\"pt\")\n",
        "input_ids = inputs[\"input_ids\"]\n",
        "\n",
        "# get logits of last hidden state\n",
        "next_token_logits = model(**inputs).logits[:, -1, :]\n",
        "\n",
        "# filter\n",
        "filtered_next_token_logits = top_k_top_p_filtering(next_token_logits, top_k=50, top_p=1.0)\n",
        "\n",
        "# sample\n",
        "probs = nn.functional.softmax(filtered_next_token_logits, dim=-1)\n",
        "next_token = torch.multinomial(probs, num_samples=1)\n",
        "\n",
        "generated = torch.cat([input_ids, next_token], dim=-1)\n",
        "\n",
        "resulting_string = tokenizer.decode(generated.tolist()[0])\n",
        "print(resulting_string)"
      ],
      "metadata": {
        "id": "5PIcm9BZ0iSG",
        "outputId": "85135e7d-c321-41d6-ded8-a46bc8cd2b6d",
        "colab": {
          "base_uri": "https://localhost:8080/"
        }
      },
      "execution_count": 28,
      "outputs": [
        {
          "output_type": "stream",
          "name": "stdout",
          "text": [
            "Hugging Face is based in DUMBO, New York City, and features\n"
          ]
        }
      ]
    },
    {
      "cell_type": "code",
      "execution_count": 31,
      "metadata": {
        "id": "p4VWIsY4JoS4",
        "outputId": "d8c04ac7-3067-4811-9c2c-19cdb2dee261",
        "colab": {
          "base_uri": "https://localhost:8080/"
        }
      },
      "outputs": [
        {
          "output_type": "stream",
          "name": "stderr",
          "text": [
            "Some weights of the model checkpoint at cl-tohoku/bert-base-japanese were not used when initializing BertLMHeadModel: ['cls.seq_relationship.bias', 'cls.seq_relationship.weight']\n",
            "- This IS expected if you are initializing BertLMHeadModel from the checkpoint of a model trained on another task or with another architecture (e.g. initializing a BertForSequenceClassification model from a BertForPreTraining model).\n",
            "- This IS NOT expected if you are initializing BertLMHeadModel from the checkpoint of a model that you expect to be exactly identical (initializing a BertForSequenceClassification model from a BertForSequenceClassification model).\n"
          ]
        },
        {
          "output_type": "stream",
          "name": "stdout",
          "text": [
            "[CLS] 月日 は 百 代 の 過客 に し て 、 行か ふ 年 も 又 旅人 [SEP] [PAD]\n"
          ]
        }
      ],
      "source": [
        "# 直上セルの日本語版\n",
        "from transformers import AutoModelForCausalLM, AutoTokenizer, top_k_top_p_filtering\n",
        "import torch\n",
        "from torch import nn\n",
        "\n",
        "model_name_ja = 'cl-tohoku/bert-base-japanese'\n",
        "tknz = AutoTokenizer.from_pretrained(model_name_ja)\n",
        "model_ja = AutoModelForCausalLM.from_pretrained(model_name_ja, is_decoder=True)\n",
        "\n",
        "sequence_ja = f\"月日は百代の過客にして、行かふ年も又旅人\"\n",
        "\n",
        "inputs_ja = tknz(sequence_ja, truncation=True, padding=True, return_tensors=\"pt\")\n",
        "input_ids_ja = inputs_ja[\"input_ids\"]\n",
        "\n",
        "# 最上位中間層の確率比を取得する # get logits of last hidden state\n",
        "next_token_logits_ja = model(**inputs_ja).logits[:, -1, :]\n",
        "\n",
        "# フィルタ filter\n",
        "filtered_next_token_logits_ja = top_k_top_p_filtering(next_token_logits_ja, top_k=50, top_p=1.0)\n",
        "\n",
        "# サンプリング sample\n",
        "probs_ja = nn.functional.softmax(filtered_next_token_logits_ja, dim=-1)\n",
        "next_token_ja = torch.multinomial(probs_ja, num_samples=1)\n",
        "\n",
        "generated_ja = torch.cat([input_ids_ja, next_token_ja], dim=-1)\n",
        "\n",
        "resulting_string_ja = tknz.decode(generated_ja.tolist()[0])\n",
        "print(resulting_string_ja)"
      ]
    },
    {
      "cell_type": "code",
      "execution_count": 32,
      "metadata": {
        "id": "IdTHGASkJoS4"
      },
      "outputs": [],
      "source": [
        "# Tensorflow 版なのでコメントアウト\n",
        "# from transformers import TFAutoModelForCausalLM, AutoTokenizer, tf_top_k_top_p_filtering\n",
        "# import tensorflow as tf\n",
        "\n",
        "# tokenizer = AutoTokenizer.from_pretrained(\"gpt2\")\n",
        "# model = TFAutoModelForCausalLM.from_pretrained(\"gpt2\")\n",
        "\n",
        "# sequence = f\"Hugging Face is based in DUMBO, New York City, and\"\n",
        "\n",
        "# inputs = tokenizer(sequence, return_tensors=\"tf\")\n",
        "# input_ids = inputs[\"input_ids\"]\n",
        "\n",
        "# # get logits of last hidden state\n",
        "# next_token_logits = model(**inputs).logits[:, -1, :]\n",
        "\n",
        "# # filter\n",
        "# filtered_next_token_logits = tf_top_k_top_p_filtering(next_token_logits, top_k=50, top_p=1.0)\n",
        "\n",
        "# # sample\n",
        "# next_token = tf.random.categorical(filtered_next_token_logits, dtype=tf.int32, num_samples=1)\n",
        "\n",
        "# generated = tf.concat([input_ids, next_token], axis=1)\n",
        "\n",
        "# resulting_string = tokenizer.decode(generated.numpy().tolist()[0])\n",
        "# print(resulting_string)"
      ]
    },
    {
      "cell_type": "markdown",
      "metadata": {
        "id": "BGpVcqOGJoS5"
      },
      "source": [
        "これにより，元の配列に続く (うまくいけば) まとまった次のトークンが出力されます。\n",
        "この例では，単語の  *is*  や  *features*  が出力されます。\n",
        "<!-- This outputs a (hopefully) coherent next token following the original sequence, which in our case is the word *is* or *features*.-->\n",
        "\n",
        "次節では [generation_utils.GenerationMixin.generate()](https://huggingface.co/docs/transformers/master/en/main_classes/model#transformers.generation_utils.GenerationMixin.generate) を使って，一度に一つのトークンではなく，指定した長さまでの複数のトークンを生成する方法を紹介します。\n",
        "<!-- In the next section, we show how [generation_utils.GenerationMixin.generate()](https://huggingface.co/docs/transformers/master/en/main_classes/model#transformers.generation_utils.GenerationMixin.generate) can be used to generate multiple tokens up to a specified length instead of one token at a time. -->"
      ]
    },
    {
      "cell_type": "markdown",
      "metadata": {
        "id": "G6aRwerCJoS5"
      },
      "source": [
        "### 3.3 文生成\n",
        "<!-- ### Text Generation -->"
      ]
    },
    {
      "cell_type": "markdown",
      "metadata": {
        "id": "5ah5jWiAJoS5"
      },
      "source": [
        "テキスト生成 (*a.k.a* *open-ended text generation*) では，与えられた文脈から続く，まとまった部分のテキストを作成することが目的です。\n",
        "次の例では，パイプラインでテキストを生成するために，*GPT-2* をどのように使用するかを示しています。\n",
        "デフォルトでは，すべてのモデルは，パイプラインで使用されるときに，それぞれの設定 (例として [gpt-2 config](https://huggingface.co/gpt2/blob/main/config.json) を参照) に応じて，*Top-K* サンプリングを適用します。\n",
        "<!-- In text generation (*a.k.a* *open-ended text generation*) the goal is to create a coherent portion of text that is a continuation from the given context. \n",
        "The following example shows how *GPT-2* can be used in pipelines to generate text.\n",
        "As a default all models apply *Top-K* sampling when used in pipelines, as configured in their respective configurations (see [gpt-2 config](https://huggingface.co/gpt2/blob/main/config.json) for example). -->"
      ]
    },
    {
      "cell_type": "code",
      "execution_count": 33,
      "metadata": {
        "id": "k4QKAJZuJoS5",
        "outputId": "095ccd1b-0eeb-4026-997b-68624f7d2a41",
        "colab": {
          "base_uri": "https://localhost:8080/"
        }
      },
      "outputs": [
        {
          "output_type": "stream",
          "name": "stderr",
          "text": [
            "No model was supplied, defaulted to gpt2 (https://huggingface.co/gpt2)\n",
            "Setting `pad_token_id` to `eos_token_id`:50256 for open-end generation.\n"
          ]
        },
        {
          "output_type": "stream",
          "name": "stdout",
          "text": [
            "[{'generated_text': 'As far as I am concerned, I will be the first to admit that I am not a fan of the idea of a \"free market.\" I think that the idea of a free market is a bit of a stretch. I think that the idea'}]\n"
          ]
        }
      ],
      "source": [
        "from transformers import pipeline\n",
        "\n",
        "text_generator = pipeline(\"text-generation\")\n",
        "print(text_generator(\"As far as I am concerned, I will\", max_length=50, do_sample=False))"
      ]
    },
    {
      "cell_type": "code",
      "source": [
        "#直上セルの日本語版\n",
        "from transformers import pipeline\n",
        "\n",
        "model_name_ja = 'cl-tohoku/bert-base-japanese'\n",
        "text_generator_ja = pipeline(\"text-generation\", model=model_name_ja, tokenizer=model_name_ja, is_decoder=True)\n",
        "\n",
        "print(text_generator_ja(\"私の知る限り鬼滅の刃の視聴率は，\", max_length=50, do_sample=False, is_decoder=True))\n",
        "print(text_generator_ja(\"明日の天気は\", max_length=50, do_sample=False, is_decoder=True))"
      ],
      "metadata": {
        "id": "ANwKUq7136bs",
        "outputId": "48a5fa2e-0afa-4a83-a71c-491a2fda6c95",
        "colab": {
          "base_uri": "https://localhost:8080/"
        }
      },
      "execution_count": 38,
      "outputs": [
        {
          "output_type": "stream",
          "name": "stderr",
          "text": [
            "If you want to use `BertLMHeadModel` as a standalone, add `is_decoder=True.`\n",
            "Some weights of the model checkpoint at cl-tohoku/bert-base-japanese were not used when initializing BertLMHeadModel: ['cls.seq_relationship.bias', 'cls.seq_relationship.weight']\n",
            "- This IS expected if you are initializing BertLMHeadModel from the checkpoint of a model trained on another task or with another architecture (e.g. initializing a BertForSequenceClassification model from a BertForPreTraining model).\n",
            "- This IS NOT expected if you are initializing BertLMHeadModel from the checkpoint of a model that you expect to be exactly identical (initializing a BertForSequenceClassification model from a BertForSequenceClassification model).\n"
          ]
        },
        {
          "output_type": "stream",
          "name": "stdout",
          "text": [
            "[{'generated_text': '私の知る限り鬼滅の刃の視聴率は，,,,,,,,,,,,,,,,,,,,,,,,,,,,,,,,,,,,,,'}]\n",
            "[{'generated_text': '明日の天気は は は は は は は は は は は は は は は は は は は は は は は は は は は は は は は は は は は は は は は は は は は は は は は'}]\n"
          ]
        }
      ]
    },
    {
      "cell_type": "markdown",
      "metadata": {
        "id": "uemfYnMXJoS5"
      },
      "source": [
        "ここでは，モデルはコンテキスト  *\"As far as I am concerned, I will “*  から，トークンの合計最大長が *50* のランダムなテキストを生成します。\n",
        "舞台裏では，パイプラインオブジェクトが [PreTrainedModel.generate()](https://huggingface.co/docs/transformers/master/en/main_classes/model#transformers.generation_utils.GenerationMixin.generate) というメソッドを呼び出し，テキストを生成しています。\n",
        "このメソッドのデフォルトの引数は `max_length` と `do_sample` のように，パイプラインで上書きすることができます。\n",
        "<!-- Here, the model generates a random text with a total maximal length of *50* tokens from context *\"As far as I am concerned, I will\"*. Behind the scenes, the pipeline object calls the method [PreTrainedModel.generate()](https://huggingface.co/docs/transformers/master/en/main_classes/model#transformers.generation_utils.GenerationMixin.generate) to generate text. The default arguments for this method can be\n",
        "overridden in the pipeline, as is shown above for the arguments `max_length` and `do_sample`.-->\n",
        "\n",
        "以下は `XLNet` とそのトークン化器を使ったテキスト生成例で `generate()` を直接呼び出しています。\n",
        "<!-- Below is an example of text generation using `XLNet` and its tokenizer, which includes calling `generate()` directly: -->"
      ]
    },
    {
      "cell_type": "code",
      "execution_count": 39,
      "metadata": {
        "id": "jy58SvCWJoS5",
        "outputId": "71050db5-ac72-4590-9708-5344f8f18e6c",
        "colab": {
          "base_uri": "https://localhost:8080/",
          "height": 182,
          "referenced_widgets": [
            "4ac82a38e5434b468d1953282530f4a4",
            "21412c1519b0446789a0eff2b12cd54d",
            "a4c3c14cea184f58b54f17843ec7d690",
            "fcce3bff716341c8b5f12111a867c862",
            "9b1e8911800644fc90e162564650a617",
            "c332e8d88f8f42b085dc11241adbf041",
            "e8ac0278b8ad437f97d8914ef2b96736",
            "f3599bcf96ed4f0882f8e88841acd63c",
            "71f8a6117c20493db370e9281b39eccc",
            "020752325a084b1192ac6ddf2f408d16",
            "c5e67e4d64c841d0818b94ba3a131d53",
            "c561d4d3adab45b29d19ea2e25978b95",
            "a441cb233d7b47439f3e2c33a85e41a4",
            "60fee020ec0542dca9224aea3957fbdd",
            "54852c3ce7964cfbaae01c5fba72eda6",
            "4feee20339fa4a689bf4b0229284bc16",
            "b9477c9a12a74811877389844a43514f",
            "5de9c75e7af04f24ade3103bafe44d1a",
            "462464b3d96b442eb15abb62ea140cb7",
            "4a2e62ca79e34d5dbc9cc6e5cc366b4e",
            "be8421d771a041b29a06fa3f5eb9ae20",
            "f99ebd83d8b54d789fa1bff1279c5c36",
            "c62852be399442019e722fe94d998017",
            "da9c44cfbc4145d7bce631ff39a8ebb1",
            "e838e13865034d0faf116ba9898335e4",
            "88eea2843521483197760c4e34304173",
            "48e776f0d7b247c6b3675c56b40ceb29",
            "dfe76ca69c5944fdab34804067cf7d13",
            "d2863de18c024a5680bb2c79a434872f",
            "cb5427648e22448cb78581d86c0f58fc",
            "d6c602fba2c647a8a4189ea984aaad48",
            "bbb8075a369c44428b5b45fd49556f2b",
            "9422bf6d6cc642019817c3d2aa366ed3",
            "ef2017f6fca5446fa09b9cc75bcf6baf",
            "e4227cd4dbf24e50b5303cd8914b476d",
            "c36d468489eb4cc8ab6bad74e5bd2035",
            "784e61251ccb4ff5833720edace5b3dd",
            "6a18a2fea43f42e78ff48d52302e4d6c",
            "09faae89bd4f481ba4fd1af941ebf3e3",
            "43f720df3dd3411f9e243d3c9f67e68a",
            "13d6c757bdd44e3ca6454337fcac5f7c",
            "4349a0d239bb4eaf899aa059f12b1c5a",
            "7070f2595ac7499b85594adfd83b9b42",
            "f862fc907a3942168ff9345e62a8e463"
          ]
        }
      },
      "outputs": [
        {
          "output_type": "display_data",
          "data": {
            "application/vnd.jupyter.widget-view+json": {
              "model_id": "4ac82a38e5434b468d1953282530f4a4",
              "version_minor": 0,
              "version_major": 2
            },
            "text/plain": [
              "Downloading:   0%|          | 0.00/760 [00:00<?, ?B/s]"
            ]
          },
          "metadata": {}
        },
        {
          "output_type": "display_data",
          "data": {
            "application/vnd.jupyter.widget-view+json": {
              "model_id": "c561d4d3adab45b29d19ea2e25978b95",
              "version_minor": 0,
              "version_major": 2
            },
            "text/plain": [
              "Downloading:   0%|          | 0.00/445M [00:00<?, ?B/s]"
            ]
          },
          "metadata": {}
        },
        {
          "output_type": "display_data",
          "data": {
            "application/vnd.jupyter.widget-view+json": {
              "model_id": "c62852be399442019e722fe94d998017",
              "version_minor": 0,
              "version_major": 2
            },
            "text/plain": [
              "Downloading:   0%|          | 0.00/779k [00:00<?, ?B/s]"
            ]
          },
          "metadata": {}
        },
        {
          "output_type": "display_data",
          "data": {
            "application/vnd.jupyter.widget-view+json": {
              "model_id": "ef2017f6fca5446fa09b9cc75bcf6baf",
              "version_minor": 0,
              "version_major": 2
            },
            "text/plain": [
              "Downloading:   0%|          | 0.00/1.32M [00:00<?, ?B/s]"
            ]
          },
          "metadata": {}
        },
        {
          "output_type": "stream",
          "name": "stdout",
          "text": [
            "Today the weather is really nice and I am planning on moving into the house. I'll be moving in the fall or spring in the fall. I'll be renting some of the space and having the first three of four bedrooms for each house.<eop> About 4 - 5 PM. I should be having a very nice day off. The first half of my day off, about six hours on a Sunday, at\n"
          ]
        }
      ],
      "source": [
        "from transformers import AutoModelForCausalLM, AutoTokenizer\n",
        "\n",
        "model = AutoModelForCausalLM.from_pretrained(\"xlnet-base-cased\")\n",
        "tokenizer = AutoTokenizer.from_pretrained(\"xlnet-base-cased\")\n",
        "\n",
        "# Padding text helps XLNet with short prompts - proposed by Aman Rusia in https://github.com/rusiaaman/XLNet-gen#methodology\n",
        "PADDING_TEXT = \"\"\"In 1991, the remains of Russian Tsar Nicholas II and his family\n",
        "(except for Alexei and Maria) are discovered.\n",
        "The voice of Nicholas's young son, Tsarevich Alexei Nikolaevich, narrates the\n",
        "remainder of the story. 1883 Western Siberia,\n",
        "a young Grigori Rasputin is asked by his father and a group of men to perform magic.\n",
        "Rasputin has a vision and denounces one of the men as a horse thief. Although his\n",
        "father initially slaps him for making such an accusation, Rasputin watches as the\n",
        "man is chased outside and beaten. Twenty years later, Rasputin sees a vision of\n",
        "the Virgin Mary, prompting him to become a priest. Rasputin quickly becomes famous,\n",
        "with people, even a bishop, begging for his blessing. <eod> </s> <eos>\"\"\"\n",
        "\n",
        "prompt = \"Today the weather is really nice and I am planning on \"\n",
        "inputs = tokenizer(PADDING_TEXT + prompt, add_special_tokens=False, return_tensors=\"pt\")[\"input_ids\"]\n",
        "\n",
        "prompt_length = len(tokenizer.decode(inputs[0]))\n",
        "outputs = model.generate(inputs, max_length=250, do_sample=True, top_p=0.95, top_k=60)\n",
        "generated = prompt + tokenizer.decode(outputs[0])[prompt_length + 1 :]\n",
        "\n",
        "print(generated)"
      ]
    },
    {
      "cell_type": "code",
      "source": [
        "#直上セルの日本語版\n",
        "from transformers import AutoModelForCausalLM, AutoTokenizer\n",
        "\n",
        "\n",
        "model_name_ja = 'cl-tohoku/bert-base-japanese'\n",
        "model_ja = AutoModelForCausalLM.from_pretrained(model_name_ja, is_decoder=True)\n",
        "tknz = AutoTokenizer.from_pretrained(model_name_ja)\n",
        "\n",
        "# Padding text helps XLNet with short prompts - proposed by Aman Rusia in https://github.com/rusiaaman/XLNet-gen#methodology\n",
        "PADDING_TEXT_ja = \"\"\"1991 年、ロシア皇帝ニコライ 2 世とその家族（アレクセイとマリアを除く）の遺骨が発見された。\n",
        "ニコライの幼い息子、アレクセイ・ニコラエヴィッチの声で、物語の続きが語られる。\n",
        "1883 年 西シベリア，若き日のグリゴリー・ラスプーチンは、父と男たちに魔法をかけてほしいと頼まれる。\n",
        "ラスプーチンは幻覚を見て、男たちの一人を馬泥棒として糾弾する。\n",
        "父はそんな告発をした彼を平手打ちしたが、ラスプーチンはその男が外に追い出されて殴られるのを見ていた。\n",
        "20 年後、ラスプーチンは聖母マリアの幻影を見て、司祭になることを決意する。\n",
        "ラスプーチンは瞬く間に有名になり、人々や司教までもが彼の祝福を求めるようになる。\"\"\"\n",
        "\n",
        "prompt_ja = \"今日はとてもいい天気なので、私は次のように計画しています。\"\n",
        "inputs_ja = tknz(PADDING_TEXT_ja + prompt_ja, add_special_tokens=False, return_tensors=\"pt\")[\"input_ids\"]\n",
        "\n",
        "prompt_length_ja = len(tknz.decode(inputs_ja[0]))\n",
        "outputs_ja = model_ja.generate(inputs_ja, max_length=250, do_sample=True, top_p=0.95, top_k=60)\n",
        "generated_ja = prompt_ja + tknz.decode(outputs_ja[0])[prompt_length_ja + 1 :]\n",
        "\n",
        "print(generated_ja)"
      ],
      "metadata": {
        "id": "nqJLjpwt6_-I",
        "outputId": "7e7935db-d864-4bc3-aa00-54d869846c5c",
        "colab": {
          "base_uri": "https://localhost:8080/"
        }
      },
      "execution_count": 43,
      "outputs": [
        {
          "output_type": "stream",
          "name": "stderr",
          "text": [
            "Some weights of the model checkpoint at cl-tohoku/bert-base-japanese were not used when initializing BertLMHeadModel: ['cls.seq_relationship.bias', 'cls.seq_relationship.weight']\n",
            "- This IS expected if you are initializing BertLMHeadModel from the checkpoint of a model trained on another task or with another architecture (e.g. initializing a BertForSequenceClassification model from a BertForPreTraining model).\n",
            "- This IS NOT expected if you are initializing BertLMHeadModel from the checkpoint of a model that you expect to be exactly identical (initializing a BertForSequenceClassification model from a BertForSequenceClassification model).\n"
          ]
        },
        {
          "output_type": "stream",
          "name": "stdout",
          "text": [
            "今日はとてもいい天気なので、私は次のように計画しています。。 。 。 。 」 」 」 」 」 」 」 」 」 」 」 」 「 「 「 「 「 「 」 」 」 」 」 」 」 」 」 」 」 」 」 」 「 「 「 「 「\n"
          ]
        }
      ]
    },
    {
      "cell_type": "code",
      "execution_count": null,
      "metadata": {
        "id": "g_R5vzwNJoS5",
        "outputId": "1493fa28-b850-4ab6-d8eb-50bc7ce8747a"
      },
      "outputs": [
        {
          "data": {
            "text/plain": [
              "Today the weather is really nice and I am planning ..."
            ]
          },
          "execution_count": null,
          "metadata": {},
          "output_type": "execute_result"
        }
      ],
      "source": [
        "# Tensorflow 版なのでコメントアウト\n",
        "\n",
        "# from transformers import TFAutoModelForCausalLM, AutoTokenizer\n",
        "\n",
        "# model = TFAutoModelForCausalLM.from_pretrained(\"xlnet-base-cased\")\n",
        "# tokenizer = AutoTokenizer.from_pretrained(\"xlnet-base-cased\")\n",
        "\n",
        "# # Padding text helps XLNet with short prompts - proposed by Aman Rusia in https://github.com/rusiaaman/XLNet-gen#methodology\n",
        "# PADDING_TEXT = \"\"\"In 1991, the remains of Russian Tsar Nicholas II and his family\n",
        "# (except for Alexei and Maria) are discovered.\n",
        "# The voice of Nicholas's young son, Tsarevich Alexei Nikolaevich, narrates the\n",
        "# remainder of the story. 1883 Western Siberia,\n",
        "# a young Grigori Rasputin is asked by his father and a group of men to perform magic.\n",
        "# Rasputin has a vision and denounces one of the men as a horse thief. Although his\n",
        "# father initially slaps him for making such an accusation, Rasputin watches as the\n",
        "# man is chased outside and beaten. Twenty years later, Rasputin sees a vision of\n",
        "# the Virgin Mary, prompting him to become a priest. Rasputin quickly becomes famous,\n",
        "# with people, even a bishop, begging for his blessing. <eod> </s> <eos>\"\"\"\n",
        "\n",
        "# prompt = \"Today the weather is really nice and I am planning on \"\n",
        "# inputs = tokenizer(PADDING_TEXT + prompt, add_special_tokens=False, return_tensors=\"tf\")[\"input_ids\"]\n",
        "\n",
        "# prompt_length = len(tokenizer.decode(inputs[0]))\n",
        "# outputs = model.generate(inputs, max_length=250, do_sample=True, top_p=0.95, top_k=60)\n",
        "# generated = prompt + tokenizer.decode(outputs[0])[prompt_length + 1 :]\n",
        "\n",
        "# print(generated)"
      ]
    },
    {
      "cell_type": "markdown",
      "metadata": {
        "id": "9b2UP88MJoS6"
      },
      "source": [
        "テキスト生成は現在，PyTorch の *GPT-2*，*OpenAi-GPT*，*CTRL*，*XLNet*，*Transfo-XL*，*Reformer* で可能で，Tensorflow でもほとんどのモデルで可能です。\n",
        "上の例でわかるように，*XLNet* と *Transfo-XL* は，うまく動作させるためにしばしばパディングが必要です。\n",
        "GPT-2 は，因果言語モデルを目的とした何百万ものウェブページで訓練されているため，通常は *オープンエンドのテキスト生成* に適しています。\n",
        "\n",
        "テキスト生成に様々なデコードストラテジーを適用する方法については，テキスト生成のブログ記事 [こちら](https://huggingface.co/blog/how-to-generate) もご参照ください。\n",
        "<!-- Text generation is currently possible with *GPT-2*, *OpenAi-GPT*, *CTRL*, *XLNet*, *Transfo-XL* and *Reformer* in PyTorch and for most models in Tensorflow as well. \n",
        "As can be seen in the example above *XLNet* and *Transfo-XL* often need to be padded to work well. GPT-2 is usually a good choice for *open-ended text generation* because it was trained on millions of webpages with a causal language modeling objective.\n",
        "\n",
        "For more information on how to apply different decoding strategies for text generation, please also refer to our text generation blog post [here](https://huggingface.co/blog/how-to-generate). -->"
      ]
    },
    {
      "cell_type": "markdown",
      "metadata": {
        "id": "wYMk1GjyJoS6"
      },
      "source": [
        "## Named Entity Recognition"
      ]
    },
    {
      "cell_type": "markdown",
      "metadata": {
        "id": "tou_92OZJoS6"
      },
      "source": [
        "Named Entity Recognition (NER) is the task of classifying tokens according to a class, for example, identifying a token\n",
        "as a person, an organisation or a location. An example of a named entity recognition dataset is the CoNLL-2003 dataset,\n",
        "which is entirely based on that task. If you would like to fine-tune a model on an NER task, you may leverage the\n",
        "[run_ner.py](https://github.com/huggingface/transformers/tree/master/examples/pytorch/token-classification/run_ner.py) script.\n",
        "\n",
        "Here is an example of using pipelines to do named entity recognition, specifically, trying to identify tokens as\n",
        "belonging to one of 9 classes:\n",
        "\n",
        "- O, Outside of a named entity\n",
        "- B-MIS, Beginning of a miscellaneous entity right after another miscellaneous entity\n",
        "- I-MIS, Miscellaneous entity\n",
        "- B-PER, Beginning of a person's name right after another person's name\n",
        "- I-PER, Person's name\n",
        "- B-ORG, Beginning of an organisation right after another organisation\n",
        "- I-ORG, Organisation\n",
        "- B-LOC, Beginning of a location right after another location\n",
        "- I-LOC, Location\n",
        "\n",
        "It leverages a fine-tuned model on CoNLL-2003, fine-tuned by [@stefan-it](https://github.com/stefan-it) from [dbmdz](https://github.com/dbmdz)."
      ]
    },
    {
      "cell_type": "code",
      "execution_count": null,
      "metadata": {
        "id": "U367kCdFJoS6"
      },
      "outputs": [],
      "source": [
        "from transformers import pipeline\n",
        "\n",
        "ner_pipe = pipeline(\"ner\")\n",
        "\n",
        "sequence = \"\"\"Hugging Face Inc. is a company based in New York City. Its headquarters are in DUMBO,\n",
        "therefore very close to the Manhattan Bridge which is visible from the window.\"\"\""
      ]
    },
    {
      "cell_type": "markdown",
      "metadata": {
        "id": "V5nOvf2bJoS6"
      },
      "source": [
        "This outputs a list of all words that have been identified as one of the entities from the 9 classes defined above.\n",
        "Here are the expected results:"
      ]
    },
    {
      "cell_type": "code",
      "execution_count": null,
      "metadata": {
        "id": "7xNqBEZ4JoS6",
        "outputId": "3dc1b805-1b49-4b15-d856-76200d5ea84d"
      },
      "outputs": [
        {
          "data": {
            "text/plain": [
              "{'entity': 'I-ORG', 'score': 0.9996, 'index': 1, 'word': 'Hu', 'start': 0, 'end': 2}\n",
              "{'entity': 'I-ORG', 'score': 0.9910, 'index': 2, 'word': '##gging', 'start': 2, 'end': 7}\n",
              "{'entity': 'I-ORG', 'score': 0.9982, 'index': 3, 'word': 'Face', 'start': 8, 'end': 12}\n",
              "{'entity': 'I-ORG', 'score': 0.9995, 'index': 4, 'word': 'Inc', 'start': 13, 'end': 16}\n",
              "{'entity': 'I-LOC', 'score': 0.9994, 'index': 11, 'word': 'New', 'start': 40, 'end': 43}\n",
              "{'entity': 'I-LOC', 'score': 0.9993, 'index': 12, 'word': 'York', 'start': 44, 'end': 48}\n",
              "{'entity': 'I-LOC', 'score': 0.9994, 'index': 13, 'word': 'City', 'start': 49, 'end': 53}\n",
              "{'entity': 'I-LOC', 'score': 0.9863, 'index': 19, 'word': 'D', 'start': 79, 'end': 80}\n",
              "{'entity': 'I-LOC', 'score': 0.9514, 'index': 20, 'word': '##UM', 'start': 80, 'end': 82}\n",
              "{'entity': 'I-LOC', 'score': 0.9337, 'index': 21, 'word': '##BO', 'start': 82, 'end': 84}\n",
              "{'entity': 'I-LOC', 'score': 0.9762, 'index': 28, 'word': 'Manhattan', 'start': 114, 'end': 123}\n",
              "{'entity': 'I-LOC', 'score': 0.9915, 'index': 29, 'word': 'Bridge', 'start': 124, 'end': 130}"
            ]
          },
          "execution_count": null,
          "metadata": {},
          "output_type": "execute_result"
        }
      ],
      "source": [
        "for entity in ner_pipe(sequence):\n",
        "    print(entity)"
      ]
    },
    {
      "cell_type": "markdown",
      "metadata": {
        "id": "p1AvgMmlJoS6"
      },
      "source": [
        "Note how the tokens of the sequence \"Hugging Face\" have been identified as an organisation, and \"New York City\",\n",
        "\"DUMBO\" and \"Manhattan Bridge\" have been identified as locations.\n",
        "\n",
        "Here is an example of doing named entity recognition, using a model and a tokenizer. The process is the following:\n",
        "\n",
        "1. Instantiate a tokenizer and a model from the checkpoint name. The model is identified as a BERT model and loads it\n",
        "   with the weights stored in the checkpoint.\n",
        "2. Define a sequence with known entities, such as \"Hugging Face\" as an organisation and \"New York City\" as a location.\n",
        "3. Split words into tokens so that they can be mapped to predictions. We use a small hack by, first, completely\n",
        "   encoding and decoding the sequence, so that we're left with a string that contains the special tokens.\n",
        "4. Encode that sequence into IDs (special tokens are added automatically).\n",
        "5. Retrieve the predictions by passing the input to the model and getting the first output. This results in a\n",
        "   distribution over the 9 possible classes for each token. We take the argmax to retrieve the most likely class for\n",
        "   each token.\n",
        "6. Zip together each token with its prediction and print it."
      ]
    },
    {
      "cell_type": "code",
      "execution_count": null,
      "metadata": {
        "id": "uRxrNqrJJoS7"
      },
      "outputs": [],
      "source": [
        "from transformers import AutoModelForTokenClassification, AutoTokenizer\n",
        "import torch\n",
        "\n",
        "model = AutoModelForTokenClassification.from_pretrained(\"dbmdz/bert-large-cased-finetuned-conll03-english\")\n",
        "tokenizer = AutoTokenizer.from_pretrained(\"bert-base-cased\")\n",
        "\n",
        "sequence = (\n",
        "    \"Hugging Face Inc. is a company based in New York City. Its headquarters are in DUMBO, \"\n",
        "    \"therefore very close to the Manhattan Bridge.\"\n",
        ")\n",
        "\n",
        "inputs = tokenizer(sequence, return_tensors=\"pt\")\n",
        "tokens = inputs.tokens()\n",
        "\n",
        "outputs = model(**inputs).logits\n",
        "predictions = torch.argmax(outputs, dim=2)"
      ]
    },
    {
      "cell_type": "code",
      "execution_count": null,
      "metadata": {
        "id": "QYkyoQfzJoS7"
      },
      "outputs": [],
      "source": [
        "from transformers import TFAutoModelForTokenClassification, AutoTokenizer\n",
        "import tensorflow as tf\n",
        "\n",
        "model = TFAutoModelForTokenClassification.from_pretrained(\"dbmdz/bert-large-cased-finetuned-conll03-english\")\n",
        "tokenizer = AutoTokenizer.from_pretrained(\"bert-base-cased\")\n",
        "\n",
        "sequence = (\n",
        "    \"Hugging Face Inc. is a company based in New York City. Its headquarters are in DUMBO, \"\n",
        "    \"therefore very close to the Manhattan Bridge.\"\n",
        ")\n",
        "\n",
        "inputs = tokenizer(sequence, return_tensors=\"tf\")\n",
        "tokens = inputs.tokens()\n",
        "\n",
        "outputs = model(**inputs)[0]\n",
        "predictions = tf.argmax(outputs, axis=2)"
      ]
    },
    {
      "cell_type": "markdown",
      "metadata": {
        "id": "fcf_WYNwJoS7"
      },
      "source": [
        "This outputs a list of each token mapped to its corresponding prediction. Differently from the pipeline, here every\n",
        "token has a prediction as we didn't remove the \"0\"th class, which means that no particular entity was found on that\n",
        "token.\n",
        "\n",
        "In the above example, `predictions` is an integer that corresponds to the predicted class. We can use the\n",
        "`model.config.id2label` property in order to recover the class name corresponding to the class number, which is\n",
        "illustrated below:"
      ]
    },
    {
      "cell_type": "code",
      "execution_count": null,
      "metadata": {
        "id": "YNhDr5B9JoS7",
        "outputId": "2616158f-d8ec-4582-9467-906dee87182f"
      },
      "outputs": [
        {
          "data": {
            "text/plain": [
              "('[CLS]', 'O')\n",
              "('Hu', 'I-ORG')\n",
              "('##gging', 'I-ORG')\n",
              "('Face', 'I-ORG')\n",
              "('Inc', 'I-ORG')\n",
              "('.', 'O')\n",
              "('is', 'O')\n",
              "('a', 'O')\n",
              "('company', 'O')\n",
              "('based', 'O')\n",
              "('in', 'O')\n",
              "('New', 'I-LOC')\n",
              "('York', 'I-LOC')\n",
              "('City', 'I-LOC')\n",
              "('.', 'O')\n",
              "('Its', 'O')\n",
              "('headquarters', 'O')\n",
              "('are', 'O')\n",
              "('in', 'O')\n",
              "('D', 'I-LOC')\n",
              "('##UM', 'I-LOC')\n",
              "('##BO', 'I-LOC')\n",
              "(',', 'O')\n",
              "('therefore', 'O')\n",
              "('very', 'O')\n",
              "('close', 'O')\n",
              "('to', 'O')\n",
              "('the', 'O')\n",
              "('Manhattan', 'I-LOC')\n",
              "('Bridge', 'I-LOC')\n",
              "('.', 'O')\n",
              "('[SEP]', 'O')"
            ]
          },
          "execution_count": null,
          "metadata": {},
          "output_type": "execute_result"
        }
      ],
      "source": [
        "for token, prediction in zip(tokens, predictions[0].numpy()):\n",
        "    print((token, model.config.id2label[prediction]))"
      ]
    },
    {
      "cell_type": "markdown",
      "metadata": {
        "id": "T72J_DBsJoS7"
      },
      "source": [
        "## Summarization"
      ]
    },
    {
      "cell_type": "markdown",
      "metadata": {
        "id": "-8hhxiZAJoS7"
      },
      "source": [
        "Summarization is the task of summarizing a document or an article into a shorter text. If you would like to fine-tune a\n",
        "model on a summarization task, you may leverage the [run_summarization.py](https://github.com/huggingface/transformers/tree/master/examples/pytorch/summarization/run_summarization.py)\n",
        "script.\n",
        "\n",
        "An example of a summarization dataset is the CNN / Daily Mail dataset, which consists of long news articles and was\n",
        "created for the task of summarization. If you would like to fine-tune a model on a summarization task, various\n",
        "approaches are described in this [document](https://github.com/huggingface/transformers/tree/master/examples/pytorch/summarization/README.md).\n",
        "\n",
        "Here is an example of using the pipelines to do summarization. It leverages a Bart model that was fine-tuned on the CNN\n",
        "/ Daily Mail data set."
      ]
    },
    {
      "cell_type": "code",
      "execution_count": null,
      "metadata": {
        "id": "AoAtGph5JoS7"
      },
      "outputs": [],
      "source": [
        "from transformers import pipeline\n",
        "\n",
        "summarizer = pipeline(\"summarization\")\n",
        "\n",
        "ARTICLE = \"\"\" New York (CNN)When Liana Barrientos was 23 years old, she got married in Westchester County, New York.\n",
        "A year later, she got married again in Westchester County, but to a different man and without divorcing her first husband.\n",
        "Only 18 days after that marriage, she got hitched yet again. Then, Barrientos declared \"I do\" five more times, sometimes only within two weeks of each other.\n",
        "In 2010, she married once more, this time in the Bronx. In an application for a marriage license, she stated it was her \"first and only\" marriage.\n",
        "Barrientos, now 39, is facing two criminal counts of \"offering a false instrument for filing in the first degree,\" referring to her false statements on the\n",
        "2010 marriage license application, according to court documents.\n",
        "Prosecutors said the marriages were part of an immigration scam.\n",
        "On Friday, she pleaded not guilty at State Supreme Court in the Bronx, according to her attorney, Christopher Wright, who declined to comment further.\n",
        "After leaving court, Barrientos was arrested and charged with theft of service and criminal trespass for allegedly sneaking into the New York subway through an emergency exit, said Detective\n",
        "Annette Markowski, a police spokeswoman. In total, Barrientos has been married 10 times, with nine of her marriages occurring between 1999 and 2002.\n",
        "All occurred either in Westchester County, Long Island, New Jersey or the Bronx. She is believed to still be married to four men, and at one time, she was married to eight men at once, prosecutors say.\n",
        "Prosecutors said the immigration scam involved some of her husbands, who filed for permanent residence status shortly after the marriages.\n",
        "Any divorces happened only after such filings were approved. It was unclear whether any of the men will be prosecuted.\n",
        "The case was referred to the Bronx District Attorney\\'s Office by Immigration and Customs Enforcement and the Department of Homeland Security\\'s\n",
        "Investigation Division. Seven of the men are from so-called \"red-flagged\" countries, including Egypt, Turkey, Georgia, Pakistan and Mali.\n",
        "Her eighth husband, Rashid Rajput, was deported in 2006 to his native Pakistan after an investigation by the Joint Terrorism Task Force.\n",
        "If convicted, Barrientos faces up to four years in prison.  Her next court appearance is scheduled for May 18.\n",
        "\"\"\""
      ]
    },
    {
      "cell_type": "markdown",
      "metadata": {
        "id": "fdxa4yh-JoS7"
      },
      "source": [
        "Because the summarization pipeline depends on the `PreTrainedModel.generate()` method, we can override the default\n",
        "arguments of `PreTrainedModel.generate()` directly in the pipeline for `max_length` and `min_length` as shown\n",
        "below. This outputs the following summary:"
      ]
    },
    {
      "cell_type": "code",
      "execution_count": null,
      "metadata": {
        "id": "T3R4KD0wJoS8",
        "outputId": "8344dc76-861c-48a3-d1bb-50df9993934b"
      },
      "outputs": [
        {
          "data": {
            "text/plain": [
              "[{'summary_text': ' Liana Barrientos, 39, is charged with two counts of \"offering a false instrument for filing in\n",
              "the first degree\" In total, she has been married 10 times, with nine of her marriages occurring between 1999 and\n",
              "2002 . At one time, she was married to eight men at once, prosecutors say .'}]"
            ]
          },
          "execution_count": null,
          "metadata": {},
          "output_type": "execute_result"
        }
      ],
      "source": [
        "print(summarizer(ARTICLE, max_length=130, min_length=30, do_sample=False))"
      ]
    },
    {
      "cell_type": "markdown",
      "metadata": {
        "id": "K5R-AsHXJoS8"
      },
      "source": [
        "Here is an example of doing summarization using a model and a tokenizer. The process is the following:\n",
        "\n",
        "1. Instantiate a tokenizer and a model from the checkpoint name. Summarization is usually done using an encoder-decoder\n",
        "   model, such as `Bart` or `T5`.\n",
        "2. Define the article that should be summarized.\n",
        "3. Add the T5 specific prefix \"summarize: \".\n",
        "4. Use the `PreTrainedModel.generate()` method to generate the summary.\n",
        "\n",
        "In this example we use Google's T5 model. Even though it was pre-trained only on a multi-task mixed dataset (including\n",
        "CNN / Daily Mail), it yields very good results."
      ]
    },
    {
      "cell_type": "code",
      "execution_count": null,
      "metadata": {
        "id": "tqxHECMLJoS8",
        "outputId": "9c5cb493-c4ae-4c88-bd9f-85c6950d8f37"
      },
      "outputs": [
        {
          "data": {
            "text/plain": [
              "<pad> prosecutors say the marriages were part of an immigration scam. if convicted, barrientos faces two criminal\n",
              "counts of \"offering a false instrument for filing in the first degree\" she has been married 10 times, nine of them\n",
              "between 1999 and 2002.</s>"
            ]
          },
          "execution_count": null,
          "metadata": {},
          "output_type": "execute_result"
        }
      ],
      "source": [
        "from transformers import AutoModelForSeq2SeqLM, AutoTokenizer\n",
        "\n",
        "model = AutoModelForSeq2SeqLM.from_pretrained(\"t5-base\")\n",
        "tokenizer = AutoTokenizer.from_pretrained(\"t5-base\")\n",
        "\n",
        "# T5 uses a max_length of 512 so we cut the article to 512 tokens.\n",
        "inputs = tokenizer(\"summarize: \" + ARTICLE, return_tensors=\"pt\", max_length=512, truncation=True)\n",
        "outputs = model.generate(\n",
        "    inputs[\"input_ids\"], max_length=150, min_length=40, length_penalty=2.0, num_beams=4, early_stopping=True\n",
        ")\n",
        "\n",
        "print(tokenizer.decode(outputs[0]))"
      ]
    },
    {
      "cell_type": "code",
      "execution_count": null,
      "metadata": {
        "id": "m1vRiY-MJoS8",
        "outputId": "b6cac878-b01f-41ba-b00c-34ba9f4a70ff"
      },
      "outputs": [
        {
          "data": {
            "text/plain": [
              "<pad> prosecutors say the marriages were part of an immigration scam. if convicted, barrientos faces two criminal\n",
              "counts of \"offering a false instrument for filing in the first degree\" she has been married 10 times, nine of them\n",
              "between 1999 and 2002."
            ]
          },
          "execution_count": null,
          "metadata": {},
          "output_type": "execute_result"
        }
      ],
      "source": [
        "from transformers import TFAutoModelForSeq2SeqLM, AutoTokenizer\n",
        "\n",
        "model = TFAutoModelForSeq2SeqLM.from_pretrained(\"t5-base\")\n",
        "tokenizer = AutoTokenizer.from_pretrained(\"t5-base\")\n",
        "\n",
        "# T5 uses a max_length of 512 so we cut the article to 512 tokens.\n",
        "inputs = tokenizer(\"summarize: \" + ARTICLE, return_tensors=\"tf\", max_length=512)\n",
        "outputs = model.generate(\n",
        "    inputs[\"input_ids\"], max_length=150, min_length=40, length_penalty=2.0, num_beams=4, early_stopping=True\n",
        ")\n",
        "\n",
        "print(tokenizer.decode(outputs[0]))"
      ]
    },
    {
      "cell_type": "markdown",
      "metadata": {
        "id": "Ys-ySXkYJoS8"
      },
      "source": [
        "## Translation"
      ]
    },
    {
      "cell_type": "markdown",
      "metadata": {
        "id": "GUw_6_E3JoS8"
      },
      "source": [
        "Translation is the task of translating a text from one language to another. If you would like to fine-tune a model on a\n",
        "translation task, you may leverage the [run_translation.py](https://github.com/huggingface/transformers/tree/master/examples/pytorch/translation/run_translation.py) script.\n",
        "\n",
        "An example of a translation dataset is the WMT English to German dataset, which has sentences in English as the input\n",
        "data and the corresponding sentences in German as the target data. If you would like to fine-tune a model on a\n",
        "translation task, various approaches are described in this [document](https://github.com/huggingface/transformers/tree/master/examples/pytorch/translation/README.md).\n",
        "\n",
        "Here is an example of using the pipelines to do translation. It leverages a T5 model that was only pre-trained on a\n",
        "multi-task mixture dataset (including WMT), yet, yielding impressive translation results."
      ]
    },
    {
      "cell_type": "code",
      "execution_count": null,
      "metadata": {
        "id": "-tUIr_j9JoS8",
        "outputId": "fe72ab3b-cc47-4a12-bc9f-46047c7fbe33"
      },
      "outputs": [
        {
          "data": {
            "text/plain": [
              "[{'translation_text': 'Hugging Face ist ein Technologieunternehmen mit Sitz in New York und Paris.'}]"
            ]
          },
          "execution_count": null,
          "metadata": {},
          "output_type": "execute_result"
        }
      ],
      "source": [
        "from transformers import pipeline\n",
        "\n",
        "translator = pipeline(\"translation_en_to_de\")\n",
        "print(translator(\"Hugging Face is a technology company based in New York and Paris\", max_length=40))"
      ]
    },
    {
      "cell_type": "markdown",
      "metadata": {
        "id": "8wYMbm--JoS8"
      },
      "source": [
        "Because the translation pipeline depends on the `PreTrainedModel.generate()` method, we can override the default\n",
        "arguments of `PreTrainedModel.generate()` directly in the pipeline as is shown for `max_length` above.\n",
        "\n",
        "Here is an example of doing translation using a model and a tokenizer. The process is the following:\n",
        "\n",
        "1. Instantiate a tokenizer and a model from the checkpoint name. Summarization is usually done using an encoder-decoder\n",
        "   model, such as `Bart` or `T5`.\n",
        "2. Define the article that should be summarized.\n",
        "3. Add the T5 specific prefix \"translate English to German: \"\n",
        "4. Use the `PreTrainedModel.generate()` method to perform the translation."
      ]
    },
    {
      "cell_type": "code",
      "execution_count": null,
      "metadata": {
        "id": "pteKXhKyJoS9",
        "outputId": "21560d4a-e559-4875-ab80-12566f80b965"
      },
      "outputs": [
        {
          "data": {
            "text/plain": [
              "<pad> Hugging Face ist ein Technologieunternehmen mit Sitz in New York und Paris.</s>"
            ]
          },
          "execution_count": null,
          "metadata": {},
          "output_type": "execute_result"
        }
      ],
      "source": [
        "from transformers import AutoModelForSeq2SeqLM, AutoTokenizer\n",
        "\n",
        "model = AutoModelForSeq2SeqLM.from_pretrained(\"t5-base\")\n",
        "tokenizer = AutoTokenizer.from_pretrained(\"t5-base\")\n",
        "\n",
        "inputs = tokenizer(\n",
        "    \"translate English to German: Hugging Face is a technology company based in New York and Paris\",\n",
        "    return_tensors=\"pt\",\n",
        ")\n",
        "outputs = model.generate(inputs[\"input_ids\"], max_length=40, num_beams=4, early_stopping=True)\n",
        "\n",
        "print(tokenizer.decode(outputs[0]))"
      ]
    },
    {
      "cell_type": "code",
      "execution_count": null,
      "metadata": {
        "id": "BfndENCtJoS9",
        "outputId": "8daad4bd-1175-47e1-cb5f-cf8030a11fe0"
      },
      "outputs": [
        {
          "data": {
            "text/plain": [
              "<pad> Hugging Face ist ein Technologieunternehmen mit Sitz in New York und Paris."
            ]
          },
          "execution_count": null,
          "metadata": {},
          "output_type": "execute_result"
        }
      ],
      "source": [
        "from transformers import TFAutoModelForSeq2SeqLM, AutoTokenizer\n",
        "\n",
        "model = TFAutoModelForSeq2SeqLM.from_pretrained(\"t5-base\")\n",
        "tokenizer = AutoTokenizer.from_pretrained(\"t5-base\")\n",
        "\n",
        "inputs = tokenizer(\n",
        "    \"translate English to German: Hugging Face is a technology company based in New York and Paris\",\n",
        "    return_tensors=\"tf\",\n",
        ")\n",
        "outputs = model.generate(inputs[\"input_ids\"], max_length=40, num_beams=4, early_stopping=True)\n",
        "\n",
        "print(tokenizer.decode(outputs[0]))"
      ]
    },
    {
      "cell_type": "markdown",
      "metadata": {
        "id": "4PkZBXt0JoS9"
      },
      "source": [
        "We get the same translation as with the pipeline example."
      ]
    }
  ],
  "metadata": {
    "colab": {
      "name": "2022_0112task_summary.ipynb",
      "provenance": [],
      "toc_visible": true,
      "machine_shape": "hm",
      "include_colab_link": true
    },
    "language_info": {
      "name": "python"
    },
    "kernelspec": {
      "name": "python3",
      "display_name": "Python 3"
    },
    "widgets": {
      "application/vnd.jupyter.widget-state+json": {
        "7f880fc7072c4e2eb080edeaedc1ae46": {
          "model_module": "@jupyter-widgets/controls",
          "model_name": "HBoxModel",
          "model_module_version": "1.5.0",
          "state": {
            "_view_name": "HBoxView",
            "_dom_classes": [],
            "_model_name": "HBoxModel",
            "_view_module": "@jupyter-widgets/controls",
            "_model_module_version": "1.5.0",
            "_view_count": null,
            "_view_module_version": "1.5.0",
            "box_style": "",
            "layout": "IPY_MODEL_de696d6d7519442b85d19deb1fd3713c",
            "_model_module": "@jupyter-widgets/controls",
            "children": [
              "IPY_MODEL_6e278128030f4a6c9ce6046c78e3237d",
              "IPY_MODEL_a7d9fe46350d45d0b99bec668dcd4012",
              "IPY_MODEL_48c9b53b47f14b32a766b6d4e20e56df"
            ]
          }
        },
        "de696d6d7519442b85d19deb1fd3713c": {
          "model_module": "@jupyter-widgets/base",
          "model_name": "LayoutModel",
          "model_module_version": "1.2.0",
          "state": {
            "_view_name": "LayoutView",
            "grid_template_rows": null,
            "right": null,
            "justify_content": null,
            "_view_module": "@jupyter-widgets/base",
            "overflow": null,
            "_model_module_version": "1.2.0",
            "_view_count": null,
            "flex_flow": null,
            "width": null,
            "min_width": null,
            "border": null,
            "align_items": null,
            "bottom": null,
            "_model_module": "@jupyter-widgets/base",
            "top": null,
            "grid_column": null,
            "overflow_y": null,
            "overflow_x": null,
            "grid_auto_flow": null,
            "grid_area": null,
            "grid_template_columns": null,
            "flex": null,
            "_model_name": "LayoutModel",
            "justify_items": null,
            "grid_row": null,
            "max_height": null,
            "align_content": null,
            "visibility": null,
            "align_self": null,
            "height": null,
            "min_height": null,
            "padding": null,
            "grid_auto_rows": null,
            "grid_gap": null,
            "max_width": null,
            "order": null,
            "_view_module_version": "1.2.0",
            "grid_template_areas": null,
            "object_position": null,
            "object_fit": null,
            "grid_auto_columns": null,
            "margin": null,
            "display": null,
            "left": null
          }
        },
        "6e278128030f4a6c9ce6046c78e3237d": {
          "model_module": "@jupyter-widgets/controls",
          "model_name": "HTMLModel",
          "model_module_version": "1.5.0",
          "state": {
            "_view_name": "HTMLView",
            "style": "IPY_MODEL_893d1fe53c4a472094a2977f29e10762",
            "_dom_classes": [],
            "description": "",
            "_model_name": "HTMLModel",
            "placeholder": "​",
            "_view_module": "@jupyter-widgets/controls",
            "_model_module_version": "1.5.0",
            "value": "Downloading: 100%",
            "_view_count": null,
            "_view_module_version": "1.5.0",
            "description_tooltip": null,
            "_model_module": "@jupyter-widgets/controls",
            "layout": "IPY_MODEL_5af650bfab0b487ba18b2f760f7a3640"
          }
        },
        "a7d9fe46350d45d0b99bec668dcd4012": {
          "model_module": "@jupyter-widgets/controls",
          "model_name": "FloatProgressModel",
          "model_module_version": "1.5.0",
          "state": {
            "_view_name": "ProgressView",
            "style": "IPY_MODEL_19ec6f7d66724514a8c78fad71088b1b",
            "_dom_classes": [],
            "description": "",
            "_model_name": "FloatProgressModel",
            "bar_style": "success",
            "max": 28,
            "_view_module": "@jupyter-widgets/controls",
            "_model_module_version": "1.5.0",
            "value": 28,
            "_view_count": null,
            "_view_module_version": "1.5.0",
            "orientation": "horizontal",
            "min": 0,
            "description_tooltip": null,
            "_model_module": "@jupyter-widgets/controls",
            "layout": "IPY_MODEL_aff20140f313400f94433940c19e2028"
          }
        },
        "48c9b53b47f14b32a766b6d4e20e56df": {
          "model_module": "@jupyter-widgets/controls",
          "model_name": "HTMLModel",
          "model_module_version": "1.5.0",
          "state": {
            "_view_name": "HTMLView",
            "style": "IPY_MODEL_90fe5bba282843b795103ced2db2d602",
            "_dom_classes": [],
            "description": "",
            "_model_name": "HTMLModel",
            "placeholder": "​",
            "_view_module": "@jupyter-widgets/controls",
            "_model_module_version": "1.5.0",
            "value": " 28.0/28.0 [00:00&lt;00:00, 868B/s]",
            "_view_count": null,
            "_view_module_version": "1.5.0",
            "description_tooltip": null,
            "_model_module": "@jupyter-widgets/controls",
            "layout": "IPY_MODEL_e0fd83a330e14428b3103ee8d6c555d3"
          }
        },
        "893d1fe53c4a472094a2977f29e10762": {
          "model_module": "@jupyter-widgets/controls",
          "model_name": "DescriptionStyleModel",
          "model_module_version": "1.5.0",
          "state": {
            "_view_name": "StyleView",
            "_model_name": "DescriptionStyleModel",
            "description_width": "",
            "_view_module": "@jupyter-widgets/base",
            "_model_module_version": "1.5.0",
            "_view_count": null,
            "_view_module_version": "1.2.0",
            "_model_module": "@jupyter-widgets/controls"
          }
        },
        "5af650bfab0b487ba18b2f760f7a3640": {
          "model_module": "@jupyter-widgets/base",
          "model_name": "LayoutModel",
          "model_module_version": "1.2.0",
          "state": {
            "_view_name": "LayoutView",
            "grid_template_rows": null,
            "right": null,
            "justify_content": null,
            "_view_module": "@jupyter-widgets/base",
            "overflow": null,
            "_model_module_version": "1.2.0",
            "_view_count": null,
            "flex_flow": null,
            "width": null,
            "min_width": null,
            "border": null,
            "align_items": null,
            "bottom": null,
            "_model_module": "@jupyter-widgets/base",
            "top": null,
            "grid_column": null,
            "overflow_y": null,
            "overflow_x": null,
            "grid_auto_flow": null,
            "grid_area": null,
            "grid_template_columns": null,
            "flex": null,
            "_model_name": "LayoutModel",
            "justify_items": null,
            "grid_row": null,
            "max_height": null,
            "align_content": null,
            "visibility": null,
            "align_self": null,
            "height": null,
            "min_height": null,
            "padding": null,
            "grid_auto_rows": null,
            "grid_gap": null,
            "max_width": null,
            "order": null,
            "_view_module_version": "1.2.0",
            "grid_template_areas": null,
            "object_position": null,
            "object_fit": null,
            "grid_auto_columns": null,
            "margin": null,
            "display": null,
            "left": null
          }
        },
        "19ec6f7d66724514a8c78fad71088b1b": {
          "model_module": "@jupyter-widgets/controls",
          "model_name": "ProgressStyleModel",
          "model_module_version": "1.5.0",
          "state": {
            "_view_name": "StyleView",
            "_model_name": "ProgressStyleModel",
            "description_width": "",
            "_view_module": "@jupyter-widgets/base",
            "_model_module_version": "1.5.0",
            "_view_count": null,
            "_view_module_version": "1.2.0",
            "bar_color": null,
            "_model_module": "@jupyter-widgets/controls"
          }
        },
        "aff20140f313400f94433940c19e2028": {
          "model_module": "@jupyter-widgets/base",
          "model_name": "LayoutModel",
          "model_module_version": "1.2.0",
          "state": {
            "_view_name": "LayoutView",
            "grid_template_rows": null,
            "right": null,
            "justify_content": null,
            "_view_module": "@jupyter-widgets/base",
            "overflow": null,
            "_model_module_version": "1.2.0",
            "_view_count": null,
            "flex_flow": null,
            "width": null,
            "min_width": null,
            "border": null,
            "align_items": null,
            "bottom": null,
            "_model_module": "@jupyter-widgets/base",
            "top": null,
            "grid_column": null,
            "overflow_y": null,
            "overflow_x": null,
            "grid_auto_flow": null,
            "grid_area": null,
            "grid_template_columns": null,
            "flex": null,
            "_model_name": "LayoutModel",
            "justify_items": null,
            "grid_row": null,
            "max_height": null,
            "align_content": null,
            "visibility": null,
            "align_self": null,
            "height": null,
            "min_height": null,
            "padding": null,
            "grid_auto_rows": null,
            "grid_gap": null,
            "max_width": null,
            "order": null,
            "_view_module_version": "1.2.0",
            "grid_template_areas": null,
            "object_position": null,
            "object_fit": null,
            "grid_auto_columns": null,
            "margin": null,
            "display": null,
            "left": null
          }
        },
        "90fe5bba282843b795103ced2db2d602": {
          "model_module": "@jupyter-widgets/controls",
          "model_name": "DescriptionStyleModel",
          "model_module_version": "1.5.0",
          "state": {
            "_view_name": "StyleView",
            "_model_name": "DescriptionStyleModel",
            "description_width": "",
            "_view_module": "@jupyter-widgets/base",
            "_model_module_version": "1.5.0",
            "_view_count": null,
            "_view_module_version": "1.2.0",
            "_model_module": "@jupyter-widgets/controls"
          }
        },
        "e0fd83a330e14428b3103ee8d6c555d3": {
          "model_module": "@jupyter-widgets/base",
          "model_name": "LayoutModel",
          "model_module_version": "1.2.0",
          "state": {
            "_view_name": "LayoutView",
            "grid_template_rows": null,
            "right": null,
            "justify_content": null,
            "_view_module": "@jupyter-widgets/base",
            "overflow": null,
            "_model_module_version": "1.2.0",
            "_view_count": null,
            "flex_flow": null,
            "width": null,
            "min_width": null,
            "border": null,
            "align_items": null,
            "bottom": null,
            "_model_module": "@jupyter-widgets/base",
            "top": null,
            "grid_column": null,
            "overflow_y": null,
            "overflow_x": null,
            "grid_auto_flow": null,
            "grid_area": null,
            "grid_template_columns": null,
            "flex": null,
            "_model_name": "LayoutModel",
            "justify_items": null,
            "grid_row": null,
            "max_height": null,
            "align_content": null,
            "visibility": null,
            "align_self": null,
            "height": null,
            "min_height": null,
            "padding": null,
            "grid_auto_rows": null,
            "grid_gap": null,
            "max_width": null,
            "order": null,
            "_view_module_version": "1.2.0",
            "grid_template_areas": null,
            "object_position": null,
            "object_fit": null,
            "grid_auto_columns": null,
            "margin": null,
            "display": null,
            "left": null
          }
        },
        "e522d796e6494200845d8dfeabfb5533": {
          "model_module": "@jupyter-widgets/controls",
          "model_name": "HBoxModel",
          "model_module_version": "1.5.0",
          "state": {
            "_view_name": "HBoxView",
            "_dom_classes": [],
            "_model_name": "HBoxModel",
            "_view_module": "@jupyter-widgets/controls",
            "_model_module_version": "1.5.0",
            "_view_count": null,
            "_view_module_version": "1.5.0",
            "box_style": "",
            "layout": "IPY_MODEL_6b10458400e64152a118013d77cc9b02",
            "_model_module": "@jupyter-widgets/controls",
            "children": [
              "IPY_MODEL_026294e578c94c1aac1fc101467570cb",
              "IPY_MODEL_9922b8d06cad4e1cb6b68674120a2512",
              "IPY_MODEL_a64e94cf6ddd4d8986be9f88c9e8b5f9"
            ]
          }
        },
        "6b10458400e64152a118013d77cc9b02": {
          "model_module": "@jupyter-widgets/base",
          "model_name": "LayoutModel",
          "model_module_version": "1.2.0",
          "state": {
            "_view_name": "LayoutView",
            "grid_template_rows": null,
            "right": null,
            "justify_content": null,
            "_view_module": "@jupyter-widgets/base",
            "overflow": null,
            "_model_module_version": "1.2.0",
            "_view_count": null,
            "flex_flow": null,
            "width": null,
            "min_width": null,
            "border": null,
            "align_items": null,
            "bottom": null,
            "_model_module": "@jupyter-widgets/base",
            "top": null,
            "grid_column": null,
            "overflow_y": null,
            "overflow_x": null,
            "grid_auto_flow": null,
            "grid_area": null,
            "grid_template_columns": null,
            "flex": null,
            "_model_name": "LayoutModel",
            "justify_items": null,
            "grid_row": null,
            "max_height": null,
            "align_content": null,
            "visibility": null,
            "align_self": null,
            "height": null,
            "min_height": null,
            "padding": null,
            "grid_auto_rows": null,
            "grid_gap": null,
            "max_width": null,
            "order": null,
            "_view_module_version": "1.2.0",
            "grid_template_areas": null,
            "object_position": null,
            "object_fit": null,
            "grid_auto_columns": null,
            "margin": null,
            "display": null,
            "left": null
          }
        },
        "026294e578c94c1aac1fc101467570cb": {
          "model_module": "@jupyter-widgets/controls",
          "model_name": "HTMLModel",
          "model_module_version": "1.5.0",
          "state": {
            "_view_name": "HTMLView",
            "style": "IPY_MODEL_6e5c05230d25402a894a49089a5dc20c",
            "_dom_classes": [],
            "description": "",
            "_model_name": "HTMLModel",
            "placeholder": "​",
            "_view_module": "@jupyter-widgets/controls",
            "_model_module_version": "1.5.0",
            "value": "Downloading: 100%",
            "_view_count": null,
            "_view_module_version": "1.5.0",
            "description_tooltip": null,
            "_model_module": "@jupyter-widgets/controls",
            "layout": "IPY_MODEL_ee741206e35945b8986ac35072ba3d13"
          }
        },
        "9922b8d06cad4e1cb6b68674120a2512": {
          "model_module": "@jupyter-widgets/controls",
          "model_name": "FloatProgressModel",
          "model_module_version": "1.5.0",
          "state": {
            "_view_name": "ProgressView",
            "style": "IPY_MODEL_29013b3394f04dce93954c3f33f89af8",
            "_dom_classes": [],
            "description": "",
            "_model_name": "FloatProgressModel",
            "bar_style": "success",
            "max": 443,
            "_view_module": "@jupyter-widgets/controls",
            "_model_module_version": "1.5.0",
            "value": 443,
            "_view_count": null,
            "_view_module_version": "1.5.0",
            "orientation": "horizontal",
            "min": 0,
            "description_tooltip": null,
            "_model_module": "@jupyter-widgets/controls",
            "layout": "IPY_MODEL_a4bc977283764ab7b3b17a4716424f02"
          }
        },
        "a64e94cf6ddd4d8986be9f88c9e8b5f9": {
          "model_module": "@jupyter-widgets/controls",
          "model_name": "HTMLModel",
          "model_module_version": "1.5.0",
          "state": {
            "_view_name": "HTMLView",
            "style": "IPY_MODEL_2525b6b8847144b0bd71c25a764e26be",
            "_dom_classes": [],
            "description": "",
            "_model_name": "HTMLModel",
            "placeholder": "​",
            "_view_module": "@jupyter-widgets/controls",
            "_model_module_version": "1.5.0",
            "value": " 443/443 [00:00&lt;00:00, 15.2kB/s]",
            "_view_count": null,
            "_view_module_version": "1.5.0",
            "description_tooltip": null,
            "_model_module": "@jupyter-widgets/controls",
            "layout": "IPY_MODEL_4b0c259fd5f944aea8ef1b370ba12208"
          }
        },
        "6e5c05230d25402a894a49089a5dc20c": {
          "model_module": "@jupyter-widgets/controls",
          "model_name": "DescriptionStyleModel",
          "model_module_version": "1.5.0",
          "state": {
            "_view_name": "StyleView",
            "_model_name": "DescriptionStyleModel",
            "description_width": "",
            "_view_module": "@jupyter-widgets/base",
            "_model_module_version": "1.5.0",
            "_view_count": null,
            "_view_module_version": "1.2.0",
            "_model_module": "@jupyter-widgets/controls"
          }
        },
        "ee741206e35945b8986ac35072ba3d13": {
          "model_module": "@jupyter-widgets/base",
          "model_name": "LayoutModel",
          "model_module_version": "1.2.0",
          "state": {
            "_view_name": "LayoutView",
            "grid_template_rows": null,
            "right": null,
            "justify_content": null,
            "_view_module": "@jupyter-widgets/base",
            "overflow": null,
            "_model_module_version": "1.2.0",
            "_view_count": null,
            "flex_flow": null,
            "width": null,
            "min_width": null,
            "border": null,
            "align_items": null,
            "bottom": null,
            "_model_module": "@jupyter-widgets/base",
            "top": null,
            "grid_column": null,
            "overflow_y": null,
            "overflow_x": null,
            "grid_auto_flow": null,
            "grid_area": null,
            "grid_template_columns": null,
            "flex": null,
            "_model_name": "LayoutModel",
            "justify_items": null,
            "grid_row": null,
            "max_height": null,
            "align_content": null,
            "visibility": null,
            "align_self": null,
            "height": null,
            "min_height": null,
            "padding": null,
            "grid_auto_rows": null,
            "grid_gap": null,
            "max_width": null,
            "order": null,
            "_view_module_version": "1.2.0",
            "grid_template_areas": null,
            "object_position": null,
            "object_fit": null,
            "grid_auto_columns": null,
            "margin": null,
            "display": null,
            "left": null
          }
        },
        "29013b3394f04dce93954c3f33f89af8": {
          "model_module": "@jupyter-widgets/controls",
          "model_name": "ProgressStyleModel",
          "model_module_version": "1.5.0",
          "state": {
            "_view_name": "StyleView",
            "_model_name": "ProgressStyleModel",
            "description_width": "",
            "_view_module": "@jupyter-widgets/base",
            "_model_module_version": "1.5.0",
            "_view_count": null,
            "_view_module_version": "1.2.0",
            "bar_color": null,
            "_model_module": "@jupyter-widgets/controls"
          }
        },
        "a4bc977283764ab7b3b17a4716424f02": {
          "model_module": "@jupyter-widgets/base",
          "model_name": "LayoutModel",
          "model_module_version": "1.2.0",
          "state": {
            "_view_name": "LayoutView",
            "grid_template_rows": null,
            "right": null,
            "justify_content": null,
            "_view_module": "@jupyter-widgets/base",
            "overflow": null,
            "_model_module_version": "1.2.0",
            "_view_count": null,
            "flex_flow": null,
            "width": null,
            "min_width": null,
            "border": null,
            "align_items": null,
            "bottom": null,
            "_model_module": "@jupyter-widgets/base",
            "top": null,
            "grid_column": null,
            "overflow_y": null,
            "overflow_x": null,
            "grid_auto_flow": null,
            "grid_area": null,
            "grid_template_columns": null,
            "flex": null,
            "_model_name": "LayoutModel",
            "justify_items": null,
            "grid_row": null,
            "max_height": null,
            "align_content": null,
            "visibility": null,
            "align_self": null,
            "height": null,
            "min_height": null,
            "padding": null,
            "grid_auto_rows": null,
            "grid_gap": null,
            "max_width": null,
            "order": null,
            "_view_module_version": "1.2.0",
            "grid_template_areas": null,
            "object_position": null,
            "object_fit": null,
            "grid_auto_columns": null,
            "margin": null,
            "display": null,
            "left": null
          }
        },
        "2525b6b8847144b0bd71c25a764e26be": {
          "model_module": "@jupyter-widgets/controls",
          "model_name": "DescriptionStyleModel",
          "model_module_version": "1.5.0",
          "state": {
            "_view_name": "StyleView",
            "_model_name": "DescriptionStyleModel",
            "description_width": "",
            "_view_module": "@jupyter-widgets/base",
            "_model_module_version": "1.5.0",
            "_view_count": null,
            "_view_module_version": "1.2.0",
            "_model_module": "@jupyter-widgets/controls"
          }
        },
        "4b0c259fd5f944aea8ef1b370ba12208": {
          "model_module": "@jupyter-widgets/base",
          "model_name": "LayoutModel",
          "model_module_version": "1.2.0",
          "state": {
            "_view_name": "LayoutView",
            "grid_template_rows": null,
            "right": null,
            "justify_content": null,
            "_view_module": "@jupyter-widgets/base",
            "overflow": null,
            "_model_module_version": "1.2.0",
            "_view_count": null,
            "flex_flow": null,
            "width": null,
            "min_width": null,
            "border": null,
            "align_items": null,
            "bottom": null,
            "_model_module": "@jupyter-widgets/base",
            "top": null,
            "grid_column": null,
            "overflow_y": null,
            "overflow_x": null,
            "grid_auto_flow": null,
            "grid_area": null,
            "grid_template_columns": null,
            "flex": null,
            "_model_name": "LayoutModel",
            "justify_items": null,
            "grid_row": null,
            "max_height": null,
            "align_content": null,
            "visibility": null,
            "align_self": null,
            "height": null,
            "min_height": null,
            "padding": null,
            "grid_auto_rows": null,
            "grid_gap": null,
            "max_width": null,
            "order": null,
            "_view_module_version": "1.2.0",
            "grid_template_areas": null,
            "object_position": null,
            "object_fit": null,
            "grid_auto_columns": null,
            "margin": null,
            "display": null,
            "left": null
          }
        },
        "235f8ee4426f49fc9ef23314d9e0695e": {
          "model_module": "@jupyter-widgets/controls",
          "model_name": "HBoxModel",
          "model_module_version": "1.5.0",
          "state": {
            "_view_name": "HBoxView",
            "_dom_classes": [],
            "_model_name": "HBoxModel",
            "_view_module": "@jupyter-widgets/controls",
            "_model_module_version": "1.5.0",
            "_view_count": null,
            "_view_module_version": "1.5.0",
            "box_style": "",
            "layout": "IPY_MODEL_063080bf538148b6b5734e7da334f386",
            "_model_module": "@jupyter-widgets/controls",
            "children": [
              "IPY_MODEL_27814cc6037f4e2ca7f44407707e3ac0",
              "IPY_MODEL_6fcf1f02d6834a3281c3eacf7b7100fe",
              "IPY_MODEL_2ae6e71ebb07446a958c5a5f140f0407"
            ]
          }
        },
        "063080bf538148b6b5734e7da334f386": {
          "model_module": "@jupyter-widgets/base",
          "model_name": "LayoutModel",
          "model_module_version": "1.2.0",
          "state": {
            "_view_name": "LayoutView",
            "grid_template_rows": null,
            "right": null,
            "justify_content": null,
            "_view_module": "@jupyter-widgets/base",
            "overflow": null,
            "_model_module_version": "1.2.0",
            "_view_count": null,
            "flex_flow": null,
            "width": null,
            "min_width": null,
            "border": null,
            "align_items": null,
            "bottom": null,
            "_model_module": "@jupyter-widgets/base",
            "top": null,
            "grid_column": null,
            "overflow_y": null,
            "overflow_x": null,
            "grid_auto_flow": null,
            "grid_area": null,
            "grid_template_columns": null,
            "flex": null,
            "_model_name": "LayoutModel",
            "justify_items": null,
            "grid_row": null,
            "max_height": null,
            "align_content": null,
            "visibility": null,
            "align_self": null,
            "height": null,
            "min_height": null,
            "padding": null,
            "grid_auto_rows": null,
            "grid_gap": null,
            "max_width": null,
            "order": null,
            "_view_module_version": "1.2.0",
            "grid_template_areas": null,
            "object_position": null,
            "object_fit": null,
            "grid_auto_columns": null,
            "margin": null,
            "display": null,
            "left": null
          }
        },
        "27814cc6037f4e2ca7f44407707e3ac0": {
          "model_module": "@jupyter-widgets/controls",
          "model_name": "HTMLModel",
          "model_module_version": "1.5.0",
          "state": {
            "_view_name": "HTMLView",
            "style": "IPY_MODEL_7cd2e4d4812c48ec800860552ec566ef",
            "_dom_classes": [],
            "description": "",
            "_model_name": "HTMLModel",
            "placeholder": "​",
            "_view_module": "@jupyter-widgets/controls",
            "_model_module_version": "1.5.0",
            "value": "Downloading: 100%",
            "_view_count": null,
            "_view_module_version": "1.5.0",
            "description_tooltip": null,
            "_model_module": "@jupyter-widgets/controls",
            "layout": "IPY_MODEL_156dd533043c427493f20906b571c558"
          }
        },
        "6fcf1f02d6834a3281c3eacf7b7100fe": {
          "model_module": "@jupyter-widgets/controls",
          "model_name": "FloatProgressModel",
          "model_module_version": "1.5.0",
          "state": {
            "_view_name": "ProgressView",
            "style": "IPY_MODEL_e43c650ab3b14b65a75628c7359eb16a",
            "_dom_classes": [],
            "description": "",
            "_model_name": "FloatProgressModel",
            "bar_style": "success",
            "max": 231508,
            "_view_module": "@jupyter-widgets/controls",
            "_model_module_version": "1.5.0",
            "value": 231508,
            "_view_count": null,
            "_view_module_version": "1.5.0",
            "orientation": "horizontal",
            "min": 0,
            "description_tooltip": null,
            "_model_module": "@jupyter-widgets/controls",
            "layout": "IPY_MODEL_6d90196ccfa7476bb138da178a5e3717"
          }
        },
        "2ae6e71ebb07446a958c5a5f140f0407": {
          "model_module": "@jupyter-widgets/controls",
          "model_name": "HTMLModel",
          "model_module_version": "1.5.0",
          "state": {
            "_view_name": "HTMLView",
            "style": "IPY_MODEL_15e73b4d9a2742bba7cff94ea14d46c1",
            "_dom_classes": [],
            "description": "",
            "_model_name": "HTMLModel",
            "placeholder": "​",
            "_view_module": "@jupyter-widgets/controls",
            "_model_module_version": "1.5.0",
            "value": " 226k/226k [00:00&lt;00:00, 2.38MB/s]",
            "_view_count": null,
            "_view_module_version": "1.5.0",
            "description_tooltip": null,
            "_model_module": "@jupyter-widgets/controls",
            "layout": "IPY_MODEL_800442dd3b11491c8dd273855edfc29c"
          }
        },
        "7cd2e4d4812c48ec800860552ec566ef": {
          "model_module": "@jupyter-widgets/controls",
          "model_name": "DescriptionStyleModel",
          "model_module_version": "1.5.0",
          "state": {
            "_view_name": "StyleView",
            "_model_name": "DescriptionStyleModel",
            "description_width": "",
            "_view_module": "@jupyter-widgets/base",
            "_model_module_version": "1.5.0",
            "_view_count": null,
            "_view_module_version": "1.2.0",
            "_model_module": "@jupyter-widgets/controls"
          }
        },
        "156dd533043c427493f20906b571c558": {
          "model_module": "@jupyter-widgets/base",
          "model_name": "LayoutModel",
          "model_module_version": "1.2.0",
          "state": {
            "_view_name": "LayoutView",
            "grid_template_rows": null,
            "right": null,
            "justify_content": null,
            "_view_module": "@jupyter-widgets/base",
            "overflow": null,
            "_model_module_version": "1.2.0",
            "_view_count": null,
            "flex_flow": null,
            "width": null,
            "min_width": null,
            "border": null,
            "align_items": null,
            "bottom": null,
            "_model_module": "@jupyter-widgets/base",
            "top": null,
            "grid_column": null,
            "overflow_y": null,
            "overflow_x": null,
            "grid_auto_flow": null,
            "grid_area": null,
            "grid_template_columns": null,
            "flex": null,
            "_model_name": "LayoutModel",
            "justify_items": null,
            "grid_row": null,
            "max_height": null,
            "align_content": null,
            "visibility": null,
            "align_self": null,
            "height": null,
            "min_height": null,
            "padding": null,
            "grid_auto_rows": null,
            "grid_gap": null,
            "max_width": null,
            "order": null,
            "_view_module_version": "1.2.0",
            "grid_template_areas": null,
            "object_position": null,
            "object_fit": null,
            "grid_auto_columns": null,
            "margin": null,
            "display": null,
            "left": null
          }
        },
        "e43c650ab3b14b65a75628c7359eb16a": {
          "model_module": "@jupyter-widgets/controls",
          "model_name": "ProgressStyleModel",
          "model_module_version": "1.5.0",
          "state": {
            "_view_name": "StyleView",
            "_model_name": "ProgressStyleModel",
            "description_width": "",
            "_view_module": "@jupyter-widgets/base",
            "_model_module_version": "1.5.0",
            "_view_count": null,
            "_view_module_version": "1.2.0",
            "bar_color": null,
            "_model_module": "@jupyter-widgets/controls"
          }
        },
        "6d90196ccfa7476bb138da178a5e3717": {
          "model_module": "@jupyter-widgets/base",
          "model_name": "LayoutModel",
          "model_module_version": "1.2.0",
          "state": {
            "_view_name": "LayoutView",
            "grid_template_rows": null,
            "right": null,
            "justify_content": null,
            "_view_module": "@jupyter-widgets/base",
            "overflow": null,
            "_model_module_version": "1.2.0",
            "_view_count": null,
            "flex_flow": null,
            "width": null,
            "min_width": null,
            "border": null,
            "align_items": null,
            "bottom": null,
            "_model_module": "@jupyter-widgets/base",
            "top": null,
            "grid_column": null,
            "overflow_y": null,
            "overflow_x": null,
            "grid_auto_flow": null,
            "grid_area": null,
            "grid_template_columns": null,
            "flex": null,
            "_model_name": "LayoutModel",
            "justify_items": null,
            "grid_row": null,
            "max_height": null,
            "align_content": null,
            "visibility": null,
            "align_self": null,
            "height": null,
            "min_height": null,
            "padding": null,
            "grid_auto_rows": null,
            "grid_gap": null,
            "max_width": null,
            "order": null,
            "_view_module_version": "1.2.0",
            "grid_template_areas": null,
            "object_position": null,
            "object_fit": null,
            "grid_auto_columns": null,
            "margin": null,
            "display": null,
            "left": null
          }
        },
        "15e73b4d9a2742bba7cff94ea14d46c1": {
          "model_module": "@jupyter-widgets/controls",
          "model_name": "DescriptionStyleModel",
          "model_module_version": "1.5.0",
          "state": {
            "_view_name": "StyleView",
            "_model_name": "DescriptionStyleModel",
            "description_width": "",
            "_view_module": "@jupyter-widgets/base",
            "_model_module_version": "1.5.0",
            "_view_count": null,
            "_view_module_version": "1.2.0",
            "_model_module": "@jupyter-widgets/controls"
          }
        },
        "800442dd3b11491c8dd273855edfc29c": {
          "model_module": "@jupyter-widgets/base",
          "model_name": "LayoutModel",
          "model_module_version": "1.2.0",
          "state": {
            "_view_name": "LayoutView",
            "grid_template_rows": null,
            "right": null,
            "justify_content": null,
            "_view_module": "@jupyter-widgets/base",
            "overflow": null,
            "_model_module_version": "1.2.0",
            "_view_count": null,
            "flex_flow": null,
            "width": null,
            "min_width": null,
            "border": null,
            "align_items": null,
            "bottom": null,
            "_model_module": "@jupyter-widgets/base",
            "top": null,
            "grid_column": null,
            "overflow_y": null,
            "overflow_x": null,
            "grid_auto_flow": null,
            "grid_area": null,
            "grid_template_columns": null,
            "flex": null,
            "_model_name": "LayoutModel",
            "justify_items": null,
            "grid_row": null,
            "max_height": null,
            "align_content": null,
            "visibility": null,
            "align_self": null,
            "height": null,
            "min_height": null,
            "padding": null,
            "grid_auto_rows": null,
            "grid_gap": null,
            "max_width": null,
            "order": null,
            "_view_module_version": "1.2.0",
            "grid_template_areas": null,
            "object_position": null,
            "object_fit": null,
            "grid_auto_columns": null,
            "margin": null,
            "display": null,
            "left": null
          }
        },
        "03c81452758544c493146d23b1957308": {
          "model_module": "@jupyter-widgets/controls",
          "model_name": "HBoxModel",
          "model_module_version": "1.5.0",
          "state": {
            "_view_name": "HBoxView",
            "_dom_classes": [],
            "_model_name": "HBoxModel",
            "_view_module": "@jupyter-widgets/controls",
            "_model_module_version": "1.5.0",
            "_view_count": null,
            "_view_module_version": "1.5.0",
            "box_style": "",
            "layout": "IPY_MODEL_7f5a4b3a695f46548872f80f740c4b19",
            "_model_module": "@jupyter-widgets/controls",
            "children": [
              "IPY_MODEL_479d589c00df4bb8a1bbd446ab5a58f1",
              "IPY_MODEL_bea826716ff54359a20b6999c57469e9",
              "IPY_MODEL_9976b9cc30d240aba3c89cb83e2e46de"
            ]
          }
        },
        "7f5a4b3a695f46548872f80f740c4b19": {
          "model_module": "@jupyter-widgets/base",
          "model_name": "LayoutModel",
          "model_module_version": "1.2.0",
          "state": {
            "_view_name": "LayoutView",
            "grid_template_rows": null,
            "right": null,
            "justify_content": null,
            "_view_module": "@jupyter-widgets/base",
            "overflow": null,
            "_model_module_version": "1.2.0",
            "_view_count": null,
            "flex_flow": null,
            "width": null,
            "min_width": null,
            "border": null,
            "align_items": null,
            "bottom": null,
            "_model_module": "@jupyter-widgets/base",
            "top": null,
            "grid_column": null,
            "overflow_y": null,
            "overflow_x": null,
            "grid_auto_flow": null,
            "grid_area": null,
            "grid_template_columns": null,
            "flex": null,
            "_model_name": "LayoutModel",
            "justify_items": null,
            "grid_row": null,
            "max_height": null,
            "align_content": null,
            "visibility": null,
            "align_self": null,
            "height": null,
            "min_height": null,
            "padding": null,
            "grid_auto_rows": null,
            "grid_gap": null,
            "max_width": null,
            "order": null,
            "_view_module_version": "1.2.0",
            "grid_template_areas": null,
            "object_position": null,
            "object_fit": null,
            "grid_auto_columns": null,
            "margin": null,
            "display": null,
            "left": null
          }
        },
        "479d589c00df4bb8a1bbd446ab5a58f1": {
          "model_module": "@jupyter-widgets/controls",
          "model_name": "HTMLModel",
          "model_module_version": "1.5.0",
          "state": {
            "_view_name": "HTMLView",
            "style": "IPY_MODEL_b90ca01eebc840d6b9fb1df8e8af8a01",
            "_dom_classes": [],
            "description": "",
            "_model_name": "HTMLModel",
            "placeholder": "​",
            "_view_module": "@jupyter-widgets/controls",
            "_model_module_version": "1.5.0",
            "value": "Downloading: 100%",
            "_view_count": null,
            "_view_module_version": "1.5.0",
            "description_tooltip": null,
            "_model_module": "@jupyter-widgets/controls",
            "layout": "IPY_MODEL_dbbbd395264342b782d5f09098f7464e"
          }
        },
        "bea826716ff54359a20b6999c57469e9": {
          "model_module": "@jupyter-widgets/controls",
          "model_name": "FloatProgressModel",
          "model_module_version": "1.5.0",
          "state": {
            "_view_name": "ProgressView",
            "style": "IPY_MODEL_f06abe7eb62f4db1bf296c0c8cc342c1",
            "_dom_classes": [],
            "description": "",
            "_model_name": "FloatProgressModel",
            "bar_style": "success",
            "max": 466062,
            "_view_module": "@jupyter-widgets/controls",
            "_model_module_version": "1.5.0",
            "value": 466062,
            "_view_count": null,
            "_view_module_version": "1.5.0",
            "orientation": "horizontal",
            "min": 0,
            "description_tooltip": null,
            "_model_module": "@jupyter-widgets/controls",
            "layout": "IPY_MODEL_e9d426cdc24e4bd5981e42fe5f7385a3"
          }
        },
        "9976b9cc30d240aba3c89cb83e2e46de": {
          "model_module": "@jupyter-widgets/controls",
          "model_name": "HTMLModel",
          "model_module_version": "1.5.0",
          "state": {
            "_view_name": "HTMLView",
            "style": "IPY_MODEL_8cfd9b8012164235a3ae994516f9d837",
            "_dom_classes": [],
            "description": "",
            "_model_name": "HTMLModel",
            "placeholder": "​",
            "_view_module": "@jupyter-widgets/controls",
            "_model_module_version": "1.5.0",
            "value": " 455k/455k [00:00&lt;00:00, 4.73MB/s]",
            "_view_count": null,
            "_view_module_version": "1.5.0",
            "description_tooltip": null,
            "_model_module": "@jupyter-widgets/controls",
            "layout": "IPY_MODEL_efb3a3943f214e4b8b2cafaf9a44ad7c"
          }
        },
        "b90ca01eebc840d6b9fb1df8e8af8a01": {
          "model_module": "@jupyter-widgets/controls",
          "model_name": "DescriptionStyleModel",
          "model_module_version": "1.5.0",
          "state": {
            "_view_name": "StyleView",
            "_model_name": "DescriptionStyleModel",
            "description_width": "",
            "_view_module": "@jupyter-widgets/base",
            "_model_module_version": "1.5.0",
            "_view_count": null,
            "_view_module_version": "1.2.0",
            "_model_module": "@jupyter-widgets/controls"
          }
        },
        "dbbbd395264342b782d5f09098f7464e": {
          "model_module": "@jupyter-widgets/base",
          "model_name": "LayoutModel",
          "model_module_version": "1.2.0",
          "state": {
            "_view_name": "LayoutView",
            "grid_template_rows": null,
            "right": null,
            "justify_content": null,
            "_view_module": "@jupyter-widgets/base",
            "overflow": null,
            "_model_module_version": "1.2.0",
            "_view_count": null,
            "flex_flow": null,
            "width": null,
            "min_width": null,
            "border": null,
            "align_items": null,
            "bottom": null,
            "_model_module": "@jupyter-widgets/base",
            "top": null,
            "grid_column": null,
            "overflow_y": null,
            "overflow_x": null,
            "grid_auto_flow": null,
            "grid_area": null,
            "grid_template_columns": null,
            "flex": null,
            "_model_name": "LayoutModel",
            "justify_items": null,
            "grid_row": null,
            "max_height": null,
            "align_content": null,
            "visibility": null,
            "align_self": null,
            "height": null,
            "min_height": null,
            "padding": null,
            "grid_auto_rows": null,
            "grid_gap": null,
            "max_width": null,
            "order": null,
            "_view_module_version": "1.2.0",
            "grid_template_areas": null,
            "object_position": null,
            "object_fit": null,
            "grid_auto_columns": null,
            "margin": null,
            "display": null,
            "left": null
          }
        },
        "f06abe7eb62f4db1bf296c0c8cc342c1": {
          "model_module": "@jupyter-widgets/controls",
          "model_name": "ProgressStyleModel",
          "model_module_version": "1.5.0",
          "state": {
            "_view_name": "StyleView",
            "_model_name": "ProgressStyleModel",
            "description_width": "",
            "_view_module": "@jupyter-widgets/base",
            "_model_module_version": "1.5.0",
            "_view_count": null,
            "_view_module_version": "1.2.0",
            "bar_color": null,
            "_model_module": "@jupyter-widgets/controls"
          }
        },
        "e9d426cdc24e4bd5981e42fe5f7385a3": {
          "model_module": "@jupyter-widgets/base",
          "model_name": "LayoutModel",
          "model_module_version": "1.2.0",
          "state": {
            "_view_name": "LayoutView",
            "grid_template_rows": null,
            "right": null,
            "justify_content": null,
            "_view_module": "@jupyter-widgets/base",
            "overflow": null,
            "_model_module_version": "1.2.0",
            "_view_count": null,
            "flex_flow": null,
            "width": null,
            "min_width": null,
            "border": null,
            "align_items": null,
            "bottom": null,
            "_model_module": "@jupyter-widgets/base",
            "top": null,
            "grid_column": null,
            "overflow_y": null,
            "overflow_x": null,
            "grid_auto_flow": null,
            "grid_area": null,
            "grid_template_columns": null,
            "flex": null,
            "_model_name": "LayoutModel",
            "justify_items": null,
            "grid_row": null,
            "max_height": null,
            "align_content": null,
            "visibility": null,
            "align_self": null,
            "height": null,
            "min_height": null,
            "padding": null,
            "grid_auto_rows": null,
            "grid_gap": null,
            "max_width": null,
            "order": null,
            "_view_module_version": "1.2.0",
            "grid_template_areas": null,
            "object_position": null,
            "object_fit": null,
            "grid_auto_columns": null,
            "margin": null,
            "display": null,
            "left": null
          }
        },
        "8cfd9b8012164235a3ae994516f9d837": {
          "model_module": "@jupyter-widgets/controls",
          "model_name": "DescriptionStyleModel",
          "model_module_version": "1.5.0",
          "state": {
            "_view_name": "StyleView",
            "_model_name": "DescriptionStyleModel",
            "description_width": "",
            "_view_module": "@jupyter-widgets/base",
            "_model_module_version": "1.5.0",
            "_view_count": null,
            "_view_module_version": "1.2.0",
            "_model_module": "@jupyter-widgets/controls"
          }
        },
        "efb3a3943f214e4b8b2cafaf9a44ad7c": {
          "model_module": "@jupyter-widgets/base",
          "model_name": "LayoutModel",
          "model_module_version": "1.2.0",
          "state": {
            "_view_name": "LayoutView",
            "grid_template_rows": null,
            "right": null,
            "justify_content": null,
            "_view_module": "@jupyter-widgets/base",
            "overflow": null,
            "_model_module_version": "1.2.0",
            "_view_count": null,
            "flex_flow": null,
            "width": null,
            "min_width": null,
            "border": null,
            "align_items": null,
            "bottom": null,
            "_model_module": "@jupyter-widgets/base",
            "top": null,
            "grid_column": null,
            "overflow_y": null,
            "overflow_x": null,
            "grid_auto_flow": null,
            "grid_area": null,
            "grid_template_columns": null,
            "flex": null,
            "_model_name": "LayoutModel",
            "justify_items": null,
            "grid_row": null,
            "max_height": null,
            "align_content": null,
            "visibility": null,
            "align_self": null,
            "height": null,
            "min_height": null,
            "padding": null,
            "grid_auto_rows": null,
            "grid_gap": null,
            "max_width": null,
            "order": null,
            "_view_module_version": "1.2.0",
            "grid_template_areas": null,
            "object_position": null,
            "object_fit": null,
            "grid_auto_columns": null,
            "margin": null,
            "display": null,
            "left": null
          }
        },
        "ae400586f23f44579fab4f017a2cc9ce": {
          "model_module": "@jupyter-widgets/controls",
          "model_name": "HBoxModel",
          "model_module_version": "1.5.0",
          "state": {
            "_view_name": "HBoxView",
            "_dom_classes": [],
            "_model_name": "HBoxModel",
            "_view_module": "@jupyter-widgets/controls",
            "_model_module_version": "1.5.0",
            "_view_count": null,
            "_view_module_version": "1.5.0",
            "box_style": "",
            "layout": "IPY_MODEL_5267e5638c724b7d80227a4c4ec7a3ab",
            "_model_module": "@jupyter-widgets/controls",
            "children": [
              "IPY_MODEL_abc3b8a878084b7a8188e1ced731fc54",
              "IPY_MODEL_2ec3b1ee849a432e822faae1cafaf21c",
              "IPY_MODEL_15fdcfbfcb7641fe9701fc50600d4205"
            ]
          }
        },
        "5267e5638c724b7d80227a4c4ec7a3ab": {
          "model_module": "@jupyter-widgets/base",
          "model_name": "LayoutModel",
          "model_module_version": "1.2.0",
          "state": {
            "_view_name": "LayoutView",
            "grid_template_rows": null,
            "right": null,
            "justify_content": null,
            "_view_module": "@jupyter-widgets/base",
            "overflow": null,
            "_model_module_version": "1.2.0",
            "_view_count": null,
            "flex_flow": null,
            "width": null,
            "min_width": null,
            "border": null,
            "align_items": null,
            "bottom": null,
            "_model_module": "@jupyter-widgets/base",
            "top": null,
            "grid_column": null,
            "overflow_y": null,
            "overflow_x": null,
            "grid_auto_flow": null,
            "grid_area": null,
            "grid_template_columns": null,
            "flex": null,
            "_model_name": "LayoutModel",
            "justify_items": null,
            "grid_row": null,
            "max_height": null,
            "align_content": null,
            "visibility": null,
            "align_self": null,
            "height": null,
            "min_height": null,
            "padding": null,
            "grid_auto_rows": null,
            "grid_gap": null,
            "max_width": null,
            "order": null,
            "_view_module_version": "1.2.0",
            "grid_template_areas": null,
            "object_position": null,
            "object_fit": null,
            "grid_auto_columns": null,
            "margin": null,
            "display": null,
            "left": null
          }
        },
        "abc3b8a878084b7a8188e1ced731fc54": {
          "model_module": "@jupyter-widgets/controls",
          "model_name": "HTMLModel",
          "model_module_version": "1.5.0",
          "state": {
            "_view_name": "HTMLView",
            "style": "IPY_MODEL_5d4611f2b3fe474b9d1e6879a7a555bc",
            "_dom_classes": [],
            "description": "",
            "_model_name": "HTMLModel",
            "placeholder": "​",
            "_view_module": "@jupyter-widgets/controls",
            "_model_module_version": "1.5.0",
            "value": "Downloading: 100%",
            "_view_count": null,
            "_view_module_version": "1.5.0",
            "description_tooltip": null,
            "_model_module": "@jupyter-widgets/controls",
            "layout": "IPY_MODEL_ed4cae46fa1940a3837c5ced9c3987ce"
          }
        },
        "2ec3b1ee849a432e822faae1cafaf21c": {
          "model_module": "@jupyter-widgets/controls",
          "model_name": "FloatProgressModel",
          "model_module_version": "1.5.0",
          "state": {
            "_view_name": "ProgressView",
            "style": "IPY_MODEL_66418ac7fadd451689b43caea64b6636",
            "_dom_classes": [],
            "description": "",
            "_model_name": "FloatProgressModel",
            "bar_style": "success",
            "max": 1340675298,
            "_view_module": "@jupyter-widgets/controls",
            "_model_module_version": "1.5.0",
            "value": 1340675298,
            "_view_count": null,
            "_view_module_version": "1.5.0",
            "orientation": "horizontal",
            "min": 0,
            "description_tooltip": null,
            "_model_module": "@jupyter-widgets/controls",
            "layout": "IPY_MODEL_e18b5bfcaae54286bfd97ab422c3ee5f"
          }
        },
        "15fdcfbfcb7641fe9701fc50600d4205": {
          "model_module": "@jupyter-widgets/controls",
          "model_name": "HTMLModel",
          "model_module_version": "1.5.0",
          "state": {
            "_view_name": "HTMLView",
            "style": "IPY_MODEL_0d21498ede2140c899c59d7b2737b496",
            "_dom_classes": [],
            "description": "",
            "_model_name": "HTMLModel",
            "placeholder": "​",
            "_view_module": "@jupyter-widgets/controls",
            "_model_module_version": "1.5.0",
            "value": " 1.25G/1.25G [00:33&lt;00:00, 43.1MB/s]",
            "_view_count": null,
            "_view_module_version": "1.5.0",
            "description_tooltip": null,
            "_model_module": "@jupyter-widgets/controls",
            "layout": "IPY_MODEL_16410393d4a4445ba65645e94bc3ea41"
          }
        },
        "5d4611f2b3fe474b9d1e6879a7a555bc": {
          "model_module": "@jupyter-widgets/controls",
          "model_name": "DescriptionStyleModel",
          "model_module_version": "1.5.0",
          "state": {
            "_view_name": "StyleView",
            "_model_name": "DescriptionStyleModel",
            "description_width": "",
            "_view_module": "@jupyter-widgets/base",
            "_model_module_version": "1.5.0",
            "_view_count": null,
            "_view_module_version": "1.2.0",
            "_model_module": "@jupyter-widgets/controls"
          }
        },
        "ed4cae46fa1940a3837c5ced9c3987ce": {
          "model_module": "@jupyter-widgets/base",
          "model_name": "LayoutModel",
          "model_module_version": "1.2.0",
          "state": {
            "_view_name": "LayoutView",
            "grid_template_rows": null,
            "right": null,
            "justify_content": null,
            "_view_module": "@jupyter-widgets/base",
            "overflow": null,
            "_model_module_version": "1.2.0",
            "_view_count": null,
            "flex_flow": null,
            "width": null,
            "min_width": null,
            "border": null,
            "align_items": null,
            "bottom": null,
            "_model_module": "@jupyter-widgets/base",
            "top": null,
            "grid_column": null,
            "overflow_y": null,
            "overflow_x": null,
            "grid_auto_flow": null,
            "grid_area": null,
            "grid_template_columns": null,
            "flex": null,
            "_model_name": "LayoutModel",
            "justify_items": null,
            "grid_row": null,
            "max_height": null,
            "align_content": null,
            "visibility": null,
            "align_self": null,
            "height": null,
            "min_height": null,
            "padding": null,
            "grid_auto_rows": null,
            "grid_gap": null,
            "max_width": null,
            "order": null,
            "_view_module_version": "1.2.0",
            "grid_template_areas": null,
            "object_position": null,
            "object_fit": null,
            "grid_auto_columns": null,
            "margin": null,
            "display": null,
            "left": null
          }
        },
        "66418ac7fadd451689b43caea64b6636": {
          "model_module": "@jupyter-widgets/controls",
          "model_name": "ProgressStyleModel",
          "model_module_version": "1.5.0",
          "state": {
            "_view_name": "StyleView",
            "_model_name": "ProgressStyleModel",
            "description_width": "",
            "_view_module": "@jupyter-widgets/base",
            "_model_module_version": "1.5.0",
            "_view_count": null,
            "_view_module_version": "1.2.0",
            "bar_color": null,
            "_model_module": "@jupyter-widgets/controls"
          }
        },
        "e18b5bfcaae54286bfd97ab422c3ee5f": {
          "model_module": "@jupyter-widgets/base",
          "model_name": "LayoutModel",
          "model_module_version": "1.2.0",
          "state": {
            "_view_name": "LayoutView",
            "grid_template_rows": null,
            "right": null,
            "justify_content": null,
            "_view_module": "@jupyter-widgets/base",
            "overflow": null,
            "_model_module_version": "1.2.0",
            "_view_count": null,
            "flex_flow": null,
            "width": null,
            "min_width": null,
            "border": null,
            "align_items": null,
            "bottom": null,
            "_model_module": "@jupyter-widgets/base",
            "top": null,
            "grid_column": null,
            "overflow_y": null,
            "overflow_x": null,
            "grid_auto_flow": null,
            "grid_area": null,
            "grid_template_columns": null,
            "flex": null,
            "_model_name": "LayoutModel",
            "justify_items": null,
            "grid_row": null,
            "max_height": null,
            "align_content": null,
            "visibility": null,
            "align_self": null,
            "height": null,
            "min_height": null,
            "padding": null,
            "grid_auto_rows": null,
            "grid_gap": null,
            "max_width": null,
            "order": null,
            "_view_module_version": "1.2.0",
            "grid_template_areas": null,
            "object_position": null,
            "object_fit": null,
            "grid_auto_columns": null,
            "margin": null,
            "display": null,
            "left": null
          }
        },
        "0d21498ede2140c899c59d7b2737b496": {
          "model_module": "@jupyter-widgets/controls",
          "model_name": "DescriptionStyleModel",
          "model_module_version": "1.5.0",
          "state": {
            "_view_name": "StyleView",
            "_model_name": "DescriptionStyleModel",
            "description_width": "",
            "_view_module": "@jupyter-widgets/base",
            "_model_module_version": "1.5.0",
            "_view_count": null,
            "_view_module_version": "1.2.0",
            "_model_module": "@jupyter-widgets/controls"
          }
        },
        "16410393d4a4445ba65645e94bc3ea41": {
          "model_module": "@jupyter-widgets/base",
          "model_name": "LayoutModel",
          "model_module_version": "1.2.0",
          "state": {
            "_view_name": "LayoutView",
            "grid_template_rows": null,
            "right": null,
            "justify_content": null,
            "_view_module": "@jupyter-widgets/base",
            "overflow": null,
            "_model_module_version": "1.2.0",
            "_view_count": null,
            "flex_flow": null,
            "width": null,
            "min_width": null,
            "border": null,
            "align_items": null,
            "bottom": null,
            "_model_module": "@jupyter-widgets/base",
            "top": null,
            "grid_column": null,
            "overflow_y": null,
            "overflow_x": null,
            "grid_auto_flow": null,
            "grid_area": null,
            "grid_template_columns": null,
            "flex": null,
            "_model_name": "LayoutModel",
            "justify_items": null,
            "grid_row": null,
            "max_height": null,
            "align_content": null,
            "visibility": null,
            "align_self": null,
            "height": null,
            "min_height": null,
            "padding": null,
            "grid_auto_rows": null,
            "grid_gap": null,
            "max_width": null,
            "order": null,
            "_view_module_version": "1.2.0",
            "grid_template_areas": null,
            "object_position": null,
            "object_fit": null,
            "grid_auto_columns": null,
            "margin": null,
            "display": null,
            "left": null
          }
        },
        "725ab4bb0a6d46e1b2fe0a4de632f2bb": {
          "model_module": "@jupyter-widgets/controls",
          "model_name": "HBoxModel",
          "model_module_version": "1.5.0",
          "state": {
            "_view_name": "HBoxView",
            "_dom_classes": [],
            "_model_name": "HBoxModel",
            "_view_module": "@jupyter-widgets/controls",
            "_model_module_version": "1.5.0",
            "_view_count": null,
            "_view_module_version": "1.5.0",
            "box_style": "",
            "layout": "IPY_MODEL_ad251517a54d4714823d37b22dc5e655",
            "_model_module": "@jupyter-widgets/controls",
            "children": [
              "IPY_MODEL_a2de2957538f4019bbfe8e36fb0e25d9",
              "IPY_MODEL_f6e36eb8255e4003bf50f9c7b293dee6",
              "IPY_MODEL_5949230738a4475cad9feb8706c970a0"
            ]
          }
        },
        "ad251517a54d4714823d37b22dc5e655": {
          "model_module": "@jupyter-widgets/base",
          "model_name": "LayoutModel",
          "model_module_version": "1.2.0",
          "state": {
            "_view_name": "LayoutView",
            "grid_template_rows": null,
            "right": null,
            "justify_content": null,
            "_view_module": "@jupyter-widgets/base",
            "overflow": null,
            "_model_module_version": "1.2.0",
            "_view_count": null,
            "flex_flow": null,
            "width": null,
            "min_width": null,
            "border": null,
            "align_items": null,
            "bottom": null,
            "_model_module": "@jupyter-widgets/base",
            "top": null,
            "grid_column": null,
            "overflow_y": null,
            "overflow_x": null,
            "grid_auto_flow": null,
            "grid_area": null,
            "grid_template_columns": null,
            "flex": null,
            "_model_name": "LayoutModel",
            "justify_items": null,
            "grid_row": null,
            "max_height": null,
            "align_content": null,
            "visibility": null,
            "align_self": null,
            "height": null,
            "min_height": null,
            "padding": null,
            "grid_auto_rows": null,
            "grid_gap": null,
            "max_width": null,
            "order": null,
            "_view_module_version": "1.2.0",
            "grid_template_areas": null,
            "object_position": null,
            "object_fit": null,
            "grid_auto_columns": null,
            "margin": null,
            "display": null,
            "left": null
          }
        },
        "a2de2957538f4019bbfe8e36fb0e25d9": {
          "model_module": "@jupyter-widgets/controls",
          "model_name": "HTMLModel",
          "model_module_version": "1.5.0",
          "state": {
            "_view_name": "HTMLView",
            "style": "IPY_MODEL_3dbf5eb632bb4adb9d74c2ee8c70730b",
            "_dom_classes": [],
            "description": "",
            "_model_name": "HTMLModel",
            "placeholder": "​",
            "_view_module": "@jupyter-widgets/controls",
            "_model_module_version": "1.5.0",
            "value": "Downloading: 100%",
            "_view_count": null,
            "_view_module_version": "1.5.0",
            "description_tooltip": null,
            "_model_module": "@jupyter-widgets/controls",
            "layout": "IPY_MODEL_06f7115c5a1f4c95b6c22c0a154255fe"
          }
        },
        "f6e36eb8255e4003bf50f9c7b293dee6": {
          "model_module": "@jupyter-widgets/controls",
          "model_name": "FloatProgressModel",
          "model_module_version": "1.5.0",
          "state": {
            "_view_name": "ProgressView",
            "style": "IPY_MODEL_b15c91f1426747058ac8b7bc3f3ae4b3",
            "_dom_classes": [],
            "description": "",
            "_model_name": "FloatProgressModel",
            "bar_style": "success",
            "max": 29,
            "_view_module": "@jupyter-widgets/controls",
            "_model_module_version": "1.5.0",
            "value": 29,
            "_view_count": null,
            "_view_module_version": "1.5.0",
            "orientation": "horizontal",
            "min": 0,
            "description_tooltip": null,
            "_model_module": "@jupyter-widgets/controls",
            "layout": "IPY_MODEL_334b082ca6ba4803bf78f6c67a1162a2"
          }
        },
        "5949230738a4475cad9feb8706c970a0": {
          "model_module": "@jupyter-widgets/controls",
          "model_name": "HTMLModel",
          "model_module_version": "1.5.0",
          "state": {
            "_view_name": "HTMLView",
            "style": "IPY_MODEL_6d37f12bb0074876ba704439b0dfab37",
            "_dom_classes": [],
            "description": "",
            "_model_name": "HTMLModel",
            "placeholder": "​",
            "_view_module": "@jupyter-widgets/controls",
            "_model_module_version": "1.5.0",
            "value": " 29.0/29.0 [00:00&lt;00:00, 802B/s]",
            "_view_count": null,
            "_view_module_version": "1.5.0",
            "description_tooltip": null,
            "_model_module": "@jupyter-widgets/controls",
            "layout": "IPY_MODEL_e934249e45e847b2bcc0fa5399777ef2"
          }
        },
        "3dbf5eb632bb4adb9d74c2ee8c70730b": {
          "model_module": "@jupyter-widgets/controls",
          "model_name": "DescriptionStyleModel",
          "model_module_version": "1.5.0",
          "state": {
            "_view_name": "StyleView",
            "_model_name": "DescriptionStyleModel",
            "description_width": "",
            "_view_module": "@jupyter-widgets/base",
            "_model_module_version": "1.5.0",
            "_view_count": null,
            "_view_module_version": "1.2.0",
            "_model_module": "@jupyter-widgets/controls"
          }
        },
        "06f7115c5a1f4c95b6c22c0a154255fe": {
          "model_module": "@jupyter-widgets/base",
          "model_name": "LayoutModel",
          "model_module_version": "1.2.0",
          "state": {
            "_view_name": "LayoutView",
            "grid_template_rows": null,
            "right": null,
            "justify_content": null,
            "_view_module": "@jupyter-widgets/base",
            "overflow": null,
            "_model_module_version": "1.2.0",
            "_view_count": null,
            "flex_flow": null,
            "width": null,
            "min_width": null,
            "border": null,
            "align_items": null,
            "bottom": null,
            "_model_module": "@jupyter-widgets/base",
            "top": null,
            "grid_column": null,
            "overflow_y": null,
            "overflow_x": null,
            "grid_auto_flow": null,
            "grid_area": null,
            "grid_template_columns": null,
            "flex": null,
            "_model_name": "LayoutModel",
            "justify_items": null,
            "grid_row": null,
            "max_height": null,
            "align_content": null,
            "visibility": null,
            "align_self": null,
            "height": null,
            "min_height": null,
            "padding": null,
            "grid_auto_rows": null,
            "grid_gap": null,
            "max_width": null,
            "order": null,
            "_view_module_version": "1.2.0",
            "grid_template_areas": null,
            "object_position": null,
            "object_fit": null,
            "grid_auto_columns": null,
            "margin": null,
            "display": null,
            "left": null
          }
        },
        "b15c91f1426747058ac8b7bc3f3ae4b3": {
          "model_module": "@jupyter-widgets/controls",
          "model_name": "ProgressStyleModel",
          "model_module_version": "1.5.0",
          "state": {
            "_view_name": "StyleView",
            "_model_name": "ProgressStyleModel",
            "description_width": "",
            "_view_module": "@jupyter-widgets/base",
            "_model_module_version": "1.5.0",
            "_view_count": null,
            "_view_module_version": "1.2.0",
            "bar_color": null,
            "_model_module": "@jupyter-widgets/controls"
          }
        },
        "334b082ca6ba4803bf78f6c67a1162a2": {
          "model_module": "@jupyter-widgets/base",
          "model_name": "LayoutModel",
          "model_module_version": "1.2.0",
          "state": {
            "_view_name": "LayoutView",
            "grid_template_rows": null,
            "right": null,
            "justify_content": null,
            "_view_module": "@jupyter-widgets/base",
            "overflow": null,
            "_model_module_version": "1.2.0",
            "_view_count": null,
            "flex_flow": null,
            "width": null,
            "min_width": null,
            "border": null,
            "align_items": null,
            "bottom": null,
            "_model_module": "@jupyter-widgets/base",
            "top": null,
            "grid_column": null,
            "overflow_y": null,
            "overflow_x": null,
            "grid_auto_flow": null,
            "grid_area": null,
            "grid_template_columns": null,
            "flex": null,
            "_model_name": "LayoutModel",
            "justify_items": null,
            "grid_row": null,
            "max_height": null,
            "align_content": null,
            "visibility": null,
            "align_self": null,
            "height": null,
            "min_height": null,
            "padding": null,
            "grid_auto_rows": null,
            "grid_gap": null,
            "max_width": null,
            "order": null,
            "_view_module_version": "1.2.0",
            "grid_template_areas": null,
            "object_position": null,
            "object_fit": null,
            "grid_auto_columns": null,
            "margin": null,
            "display": null,
            "left": null
          }
        },
        "6d37f12bb0074876ba704439b0dfab37": {
          "model_module": "@jupyter-widgets/controls",
          "model_name": "DescriptionStyleModel",
          "model_module_version": "1.5.0",
          "state": {
            "_view_name": "StyleView",
            "_model_name": "DescriptionStyleModel",
            "description_width": "",
            "_view_module": "@jupyter-widgets/base",
            "_model_module_version": "1.5.0",
            "_view_count": null,
            "_view_module_version": "1.2.0",
            "_model_module": "@jupyter-widgets/controls"
          }
        },
        "e934249e45e847b2bcc0fa5399777ef2": {
          "model_module": "@jupyter-widgets/base",
          "model_name": "LayoutModel",
          "model_module_version": "1.2.0",
          "state": {
            "_view_name": "LayoutView",
            "grid_template_rows": null,
            "right": null,
            "justify_content": null,
            "_view_module": "@jupyter-widgets/base",
            "overflow": null,
            "_model_module_version": "1.2.0",
            "_view_count": null,
            "flex_flow": null,
            "width": null,
            "min_width": null,
            "border": null,
            "align_items": null,
            "bottom": null,
            "_model_module": "@jupyter-widgets/base",
            "top": null,
            "grid_column": null,
            "overflow_y": null,
            "overflow_x": null,
            "grid_auto_flow": null,
            "grid_area": null,
            "grid_template_columns": null,
            "flex": null,
            "_model_name": "LayoutModel",
            "justify_items": null,
            "grid_row": null,
            "max_height": null,
            "align_content": null,
            "visibility": null,
            "align_self": null,
            "height": null,
            "min_height": null,
            "padding": null,
            "grid_auto_rows": null,
            "grid_gap": null,
            "max_width": null,
            "order": null,
            "_view_module_version": "1.2.0",
            "grid_template_areas": null,
            "object_position": null,
            "object_fit": null,
            "grid_auto_columns": null,
            "margin": null,
            "display": null,
            "left": null
          }
        },
        "54d2e6f8f2fc4f118e6300a94e65f103": {
          "model_module": "@jupyter-widgets/controls",
          "model_name": "HBoxModel",
          "model_module_version": "1.5.0",
          "state": {
            "_view_name": "HBoxView",
            "_dom_classes": [],
            "_model_name": "HBoxModel",
            "_view_module": "@jupyter-widgets/controls",
            "_model_module_version": "1.5.0",
            "_view_count": null,
            "_view_module_version": "1.5.0",
            "box_style": "",
            "layout": "IPY_MODEL_eb1d6923ae744369810b3c2cec2f2c60",
            "_model_module": "@jupyter-widgets/controls",
            "children": [
              "IPY_MODEL_431f35c9b6d34205bb17b2ee21824704",
              "IPY_MODEL_7cf951cdfe4a41d2b11d1ab62139e3e0",
              "IPY_MODEL_3a97b5c2955e4a9cbb68b9501aad2035"
            ]
          }
        },
        "eb1d6923ae744369810b3c2cec2f2c60": {
          "model_module": "@jupyter-widgets/base",
          "model_name": "LayoutModel",
          "model_module_version": "1.2.0",
          "state": {
            "_view_name": "LayoutView",
            "grid_template_rows": null,
            "right": null,
            "justify_content": null,
            "_view_module": "@jupyter-widgets/base",
            "overflow": null,
            "_model_module_version": "1.2.0",
            "_view_count": null,
            "flex_flow": null,
            "width": null,
            "min_width": null,
            "border": null,
            "align_items": null,
            "bottom": null,
            "_model_module": "@jupyter-widgets/base",
            "top": null,
            "grid_column": null,
            "overflow_y": null,
            "overflow_x": null,
            "grid_auto_flow": null,
            "grid_area": null,
            "grid_template_columns": null,
            "flex": null,
            "_model_name": "LayoutModel",
            "justify_items": null,
            "grid_row": null,
            "max_height": null,
            "align_content": null,
            "visibility": null,
            "align_self": null,
            "height": null,
            "min_height": null,
            "padding": null,
            "grid_auto_rows": null,
            "grid_gap": null,
            "max_width": null,
            "order": null,
            "_view_module_version": "1.2.0",
            "grid_template_areas": null,
            "object_position": null,
            "object_fit": null,
            "grid_auto_columns": null,
            "margin": null,
            "display": null,
            "left": null
          }
        },
        "431f35c9b6d34205bb17b2ee21824704": {
          "model_module": "@jupyter-widgets/controls",
          "model_name": "HTMLModel",
          "model_module_version": "1.5.0",
          "state": {
            "_view_name": "HTMLView",
            "style": "IPY_MODEL_efd36e55354741ac9a3a6669028900b5",
            "_dom_classes": [],
            "description": "",
            "_model_name": "HTMLModel",
            "placeholder": "​",
            "_view_module": "@jupyter-widgets/controls",
            "_model_module_version": "1.5.0",
            "value": "Downloading: 100%",
            "_view_count": null,
            "_view_module_version": "1.5.0",
            "description_tooltip": null,
            "_model_module": "@jupyter-widgets/controls",
            "layout": "IPY_MODEL_f1347de95ca1467b92db943a68c3e3c8"
          }
        },
        "7cf951cdfe4a41d2b11d1ab62139e3e0": {
          "model_module": "@jupyter-widgets/controls",
          "model_name": "FloatProgressModel",
          "model_module_version": "1.5.0",
          "state": {
            "_view_name": "ProgressView",
            "style": "IPY_MODEL_fe985e40716f42efb9cafd79eb0262d1",
            "_dom_classes": [],
            "description": "",
            "_model_name": "FloatProgressModel",
            "bar_style": "success",
            "max": 411,
            "_view_module": "@jupyter-widgets/controls",
            "_model_module_version": "1.5.0",
            "value": 411,
            "_view_count": null,
            "_view_module_version": "1.5.0",
            "orientation": "horizontal",
            "min": 0,
            "description_tooltip": null,
            "_model_module": "@jupyter-widgets/controls",
            "layout": "IPY_MODEL_8429de88cffb453ebcbe564e9312e798"
          }
        },
        "3a97b5c2955e4a9cbb68b9501aad2035": {
          "model_module": "@jupyter-widgets/controls",
          "model_name": "HTMLModel",
          "model_module_version": "1.5.0",
          "state": {
            "_view_name": "HTMLView",
            "style": "IPY_MODEL_96513d9e1dd04352aa00bd798c320cb4",
            "_dom_classes": [],
            "description": "",
            "_model_name": "HTMLModel",
            "placeholder": "​",
            "_view_module": "@jupyter-widgets/controls",
            "_model_module_version": "1.5.0",
            "value": " 411/411 [00:00&lt;00:00, 13.9kB/s]",
            "_view_count": null,
            "_view_module_version": "1.5.0",
            "description_tooltip": null,
            "_model_module": "@jupyter-widgets/controls",
            "layout": "IPY_MODEL_7eff6e12405149b2aae8521df702e61d"
          }
        },
        "efd36e55354741ac9a3a6669028900b5": {
          "model_module": "@jupyter-widgets/controls",
          "model_name": "DescriptionStyleModel",
          "model_module_version": "1.5.0",
          "state": {
            "_view_name": "StyleView",
            "_model_name": "DescriptionStyleModel",
            "description_width": "",
            "_view_module": "@jupyter-widgets/base",
            "_model_module_version": "1.5.0",
            "_view_count": null,
            "_view_module_version": "1.2.0",
            "_model_module": "@jupyter-widgets/controls"
          }
        },
        "f1347de95ca1467b92db943a68c3e3c8": {
          "model_module": "@jupyter-widgets/base",
          "model_name": "LayoutModel",
          "model_module_version": "1.2.0",
          "state": {
            "_view_name": "LayoutView",
            "grid_template_rows": null,
            "right": null,
            "justify_content": null,
            "_view_module": "@jupyter-widgets/base",
            "overflow": null,
            "_model_module_version": "1.2.0",
            "_view_count": null,
            "flex_flow": null,
            "width": null,
            "min_width": null,
            "border": null,
            "align_items": null,
            "bottom": null,
            "_model_module": "@jupyter-widgets/base",
            "top": null,
            "grid_column": null,
            "overflow_y": null,
            "overflow_x": null,
            "grid_auto_flow": null,
            "grid_area": null,
            "grid_template_columns": null,
            "flex": null,
            "_model_name": "LayoutModel",
            "justify_items": null,
            "grid_row": null,
            "max_height": null,
            "align_content": null,
            "visibility": null,
            "align_self": null,
            "height": null,
            "min_height": null,
            "padding": null,
            "grid_auto_rows": null,
            "grid_gap": null,
            "max_width": null,
            "order": null,
            "_view_module_version": "1.2.0",
            "grid_template_areas": null,
            "object_position": null,
            "object_fit": null,
            "grid_auto_columns": null,
            "margin": null,
            "display": null,
            "left": null
          }
        },
        "fe985e40716f42efb9cafd79eb0262d1": {
          "model_module": "@jupyter-widgets/controls",
          "model_name": "ProgressStyleModel",
          "model_module_version": "1.5.0",
          "state": {
            "_view_name": "StyleView",
            "_model_name": "ProgressStyleModel",
            "description_width": "",
            "_view_module": "@jupyter-widgets/base",
            "_model_module_version": "1.5.0",
            "_view_count": null,
            "_view_module_version": "1.2.0",
            "bar_color": null,
            "_model_module": "@jupyter-widgets/controls"
          }
        },
        "8429de88cffb453ebcbe564e9312e798": {
          "model_module": "@jupyter-widgets/base",
          "model_name": "LayoutModel",
          "model_module_version": "1.2.0",
          "state": {
            "_view_name": "LayoutView",
            "grid_template_rows": null,
            "right": null,
            "justify_content": null,
            "_view_module": "@jupyter-widgets/base",
            "overflow": null,
            "_model_module_version": "1.2.0",
            "_view_count": null,
            "flex_flow": null,
            "width": null,
            "min_width": null,
            "border": null,
            "align_items": null,
            "bottom": null,
            "_model_module": "@jupyter-widgets/base",
            "top": null,
            "grid_column": null,
            "overflow_y": null,
            "overflow_x": null,
            "grid_auto_flow": null,
            "grid_area": null,
            "grid_template_columns": null,
            "flex": null,
            "_model_name": "LayoutModel",
            "justify_items": null,
            "grid_row": null,
            "max_height": null,
            "align_content": null,
            "visibility": null,
            "align_self": null,
            "height": null,
            "min_height": null,
            "padding": null,
            "grid_auto_rows": null,
            "grid_gap": null,
            "max_width": null,
            "order": null,
            "_view_module_version": "1.2.0",
            "grid_template_areas": null,
            "object_position": null,
            "object_fit": null,
            "grid_auto_columns": null,
            "margin": null,
            "display": null,
            "left": null
          }
        },
        "96513d9e1dd04352aa00bd798c320cb4": {
          "model_module": "@jupyter-widgets/controls",
          "model_name": "DescriptionStyleModel",
          "model_module_version": "1.5.0",
          "state": {
            "_view_name": "StyleView",
            "_model_name": "DescriptionStyleModel",
            "description_width": "",
            "_view_module": "@jupyter-widgets/base",
            "_model_module_version": "1.5.0",
            "_view_count": null,
            "_view_module_version": "1.2.0",
            "_model_module": "@jupyter-widgets/controls"
          }
        },
        "7eff6e12405149b2aae8521df702e61d": {
          "model_module": "@jupyter-widgets/base",
          "model_name": "LayoutModel",
          "model_module_version": "1.2.0",
          "state": {
            "_view_name": "LayoutView",
            "grid_template_rows": null,
            "right": null,
            "justify_content": null,
            "_view_module": "@jupyter-widgets/base",
            "overflow": null,
            "_model_module_version": "1.2.0",
            "_view_count": null,
            "flex_flow": null,
            "width": null,
            "min_width": null,
            "border": null,
            "align_items": null,
            "bottom": null,
            "_model_module": "@jupyter-widgets/base",
            "top": null,
            "grid_column": null,
            "overflow_y": null,
            "overflow_x": null,
            "grid_auto_flow": null,
            "grid_area": null,
            "grid_template_columns": null,
            "flex": null,
            "_model_name": "LayoutModel",
            "justify_items": null,
            "grid_row": null,
            "max_height": null,
            "align_content": null,
            "visibility": null,
            "align_self": null,
            "height": null,
            "min_height": null,
            "padding": null,
            "grid_auto_rows": null,
            "grid_gap": null,
            "max_width": null,
            "order": null,
            "_view_module_version": "1.2.0",
            "grid_template_areas": null,
            "object_position": null,
            "object_fit": null,
            "grid_auto_columns": null,
            "margin": null,
            "display": null,
            "left": null
          }
        },
        "e47358c975f640e4a74d983ecb536693": {
          "model_module": "@jupyter-widgets/controls",
          "model_name": "HBoxModel",
          "model_module_version": "1.5.0",
          "state": {
            "_view_name": "HBoxView",
            "_dom_classes": [],
            "_model_name": "HBoxModel",
            "_view_module": "@jupyter-widgets/controls",
            "_model_module_version": "1.5.0",
            "_view_count": null,
            "_view_module_version": "1.5.0",
            "box_style": "",
            "layout": "IPY_MODEL_6fb4c4ac74d6435c833f40e5c71a97de",
            "_model_module": "@jupyter-widgets/controls",
            "children": [
              "IPY_MODEL_4dc8e878b6684ed18ab3f2aec6943c3f",
              "IPY_MODEL_530a5e7a7c524254b4118d1ebfad96ac",
              "IPY_MODEL_77c1f500ccd84e0584b6fef438ccba06"
            ]
          }
        },
        "6fb4c4ac74d6435c833f40e5c71a97de": {
          "model_module": "@jupyter-widgets/base",
          "model_name": "LayoutModel",
          "model_module_version": "1.2.0",
          "state": {
            "_view_name": "LayoutView",
            "grid_template_rows": null,
            "right": null,
            "justify_content": null,
            "_view_module": "@jupyter-widgets/base",
            "overflow": null,
            "_model_module_version": "1.2.0",
            "_view_count": null,
            "flex_flow": null,
            "width": null,
            "min_width": null,
            "border": null,
            "align_items": null,
            "bottom": null,
            "_model_module": "@jupyter-widgets/base",
            "top": null,
            "grid_column": null,
            "overflow_y": null,
            "overflow_x": null,
            "grid_auto_flow": null,
            "grid_area": null,
            "grid_template_columns": null,
            "flex": null,
            "_model_name": "LayoutModel",
            "justify_items": null,
            "grid_row": null,
            "max_height": null,
            "align_content": null,
            "visibility": null,
            "align_self": null,
            "height": null,
            "min_height": null,
            "padding": null,
            "grid_auto_rows": null,
            "grid_gap": null,
            "max_width": null,
            "order": null,
            "_view_module_version": "1.2.0",
            "grid_template_areas": null,
            "object_position": null,
            "object_fit": null,
            "grid_auto_columns": null,
            "margin": null,
            "display": null,
            "left": null
          }
        },
        "4dc8e878b6684ed18ab3f2aec6943c3f": {
          "model_module": "@jupyter-widgets/controls",
          "model_name": "HTMLModel",
          "model_module_version": "1.5.0",
          "state": {
            "_view_name": "HTMLView",
            "style": "IPY_MODEL_8afb7096565f42b69a6f1e7d166d8cfe",
            "_dom_classes": [],
            "description": "",
            "_model_name": "HTMLModel",
            "placeholder": "​",
            "_view_module": "@jupyter-widgets/controls",
            "_model_module_version": "1.5.0",
            "value": "Downloading: 100%",
            "_view_count": null,
            "_view_module_version": "1.5.0",
            "description_tooltip": null,
            "_model_module": "@jupyter-widgets/controls",
            "layout": "IPY_MODEL_df467832101446c5bba2cf9473d959a4"
          }
        },
        "530a5e7a7c524254b4118d1ebfad96ac": {
          "model_module": "@jupyter-widgets/controls",
          "model_name": "FloatProgressModel",
          "model_module_version": "1.5.0",
          "state": {
            "_view_name": "ProgressView",
            "style": "IPY_MODEL_12d2196213724915812361299fe4ac01",
            "_dom_classes": [],
            "description": "",
            "_model_name": "FloatProgressModel",
            "bar_style": "success",
            "max": 213450,
            "_view_module": "@jupyter-widgets/controls",
            "_model_module_version": "1.5.0",
            "value": 213450,
            "_view_count": null,
            "_view_module_version": "1.5.0",
            "orientation": "horizontal",
            "min": 0,
            "description_tooltip": null,
            "_model_module": "@jupyter-widgets/controls",
            "layout": "IPY_MODEL_09b23df0027440bab7d9164bb240ec62"
          }
        },
        "77c1f500ccd84e0584b6fef438ccba06": {
          "model_module": "@jupyter-widgets/controls",
          "model_name": "HTMLModel",
          "model_module_version": "1.5.0",
          "state": {
            "_view_name": "HTMLView",
            "style": "IPY_MODEL_00441945f2b24dfe946a9a33bab6e24f",
            "_dom_classes": [],
            "description": "",
            "_model_name": "HTMLModel",
            "placeholder": "​",
            "_view_module": "@jupyter-widgets/controls",
            "_model_module_version": "1.5.0",
            "value": " 208k/208k [00:00&lt;00:00, 2.26MB/s]",
            "_view_count": null,
            "_view_module_version": "1.5.0",
            "description_tooltip": null,
            "_model_module": "@jupyter-widgets/controls",
            "layout": "IPY_MODEL_5168ed01bdd849959699e3e5e93715fc"
          }
        },
        "8afb7096565f42b69a6f1e7d166d8cfe": {
          "model_module": "@jupyter-widgets/controls",
          "model_name": "DescriptionStyleModel",
          "model_module_version": "1.5.0",
          "state": {
            "_view_name": "StyleView",
            "_model_name": "DescriptionStyleModel",
            "description_width": "",
            "_view_module": "@jupyter-widgets/base",
            "_model_module_version": "1.5.0",
            "_view_count": null,
            "_view_module_version": "1.2.0",
            "_model_module": "@jupyter-widgets/controls"
          }
        },
        "df467832101446c5bba2cf9473d959a4": {
          "model_module": "@jupyter-widgets/base",
          "model_name": "LayoutModel",
          "model_module_version": "1.2.0",
          "state": {
            "_view_name": "LayoutView",
            "grid_template_rows": null,
            "right": null,
            "justify_content": null,
            "_view_module": "@jupyter-widgets/base",
            "overflow": null,
            "_model_module_version": "1.2.0",
            "_view_count": null,
            "flex_flow": null,
            "width": null,
            "min_width": null,
            "border": null,
            "align_items": null,
            "bottom": null,
            "_model_module": "@jupyter-widgets/base",
            "top": null,
            "grid_column": null,
            "overflow_y": null,
            "overflow_x": null,
            "grid_auto_flow": null,
            "grid_area": null,
            "grid_template_columns": null,
            "flex": null,
            "_model_name": "LayoutModel",
            "justify_items": null,
            "grid_row": null,
            "max_height": null,
            "align_content": null,
            "visibility": null,
            "align_self": null,
            "height": null,
            "min_height": null,
            "padding": null,
            "grid_auto_rows": null,
            "grid_gap": null,
            "max_width": null,
            "order": null,
            "_view_module_version": "1.2.0",
            "grid_template_areas": null,
            "object_position": null,
            "object_fit": null,
            "grid_auto_columns": null,
            "margin": null,
            "display": null,
            "left": null
          }
        },
        "12d2196213724915812361299fe4ac01": {
          "model_module": "@jupyter-widgets/controls",
          "model_name": "ProgressStyleModel",
          "model_module_version": "1.5.0",
          "state": {
            "_view_name": "StyleView",
            "_model_name": "ProgressStyleModel",
            "description_width": "",
            "_view_module": "@jupyter-widgets/base",
            "_model_module_version": "1.5.0",
            "_view_count": null,
            "_view_module_version": "1.2.0",
            "bar_color": null,
            "_model_module": "@jupyter-widgets/controls"
          }
        },
        "09b23df0027440bab7d9164bb240ec62": {
          "model_module": "@jupyter-widgets/base",
          "model_name": "LayoutModel",
          "model_module_version": "1.2.0",
          "state": {
            "_view_name": "LayoutView",
            "grid_template_rows": null,
            "right": null,
            "justify_content": null,
            "_view_module": "@jupyter-widgets/base",
            "overflow": null,
            "_model_module_version": "1.2.0",
            "_view_count": null,
            "flex_flow": null,
            "width": null,
            "min_width": null,
            "border": null,
            "align_items": null,
            "bottom": null,
            "_model_module": "@jupyter-widgets/base",
            "top": null,
            "grid_column": null,
            "overflow_y": null,
            "overflow_x": null,
            "grid_auto_flow": null,
            "grid_area": null,
            "grid_template_columns": null,
            "flex": null,
            "_model_name": "LayoutModel",
            "justify_items": null,
            "grid_row": null,
            "max_height": null,
            "align_content": null,
            "visibility": null,
            "align_self": null,
            "height": null,
            "min_height": null,
            "padding": null,
            "grid_auto_rows": null,
            "grid_gap": null,
            "max_width": null,
            "order": null,
            "_view_module_version": "1.2.0",
            "grid_template_areas": null,
            "object_position": null,
            "object_fit": null,
            "grid_auto_columns": null,
            "margin": null,
            "display": null,
            "left": null
          }
        },
        "00441945f2b24dfe946a9a33bab6e24f": {
          "model_module": "@jupyter-widgets/controls",
          "model_name": "DescriptionStyleModel",
          "model_module_version": "1.5.0",
          "state": {
            "_view_name": "StyleView",
            "_model_name": "DescriptionStyleModel",
            "description_width": "",
            "_view_module": "@jupyter-widgets/base",
            "_model_module_version": "1.5.0",
            "_view_count": null,
            "_view_module_version": "1.2.0",
            "_model_module": "@jupyter-widgets/controls"
          }
        },
        "5168ed01bdd849959699e3e5e93715fc": {
          "model_module": "@jupyter-widgets/base",
          "model_name": "LayoutModel",
          "model_module_version": "1.2.0",
          "state": {
            "_view_name": "LayoutView",
            "grid_template_rows": null,
            "right": null,
            "justify_content": null,
            "_view_module": "@jupyter-widgets/base",
            "overflow": null,
            "_model_module_version": "1.2.0",
            "_view_count": null,
            "flex_flow": null,
            "width": null,
            "min_width": null,
            "border": null,
            "align_items": null,
            "bottom": null,
            "_model_module": "@jupyter-widgets/base",
            "top": null,
            "grid_column": null,
            "overflow_y": null,
            "overflow_x": null,
            "grid_auto_flow": null,
            "grid_area": null,
            "grid_template_columns": null,
            "flex": null,
            "_model_name": "LayoutModel",
            "justify_items": null,
            "grid_row": null,
            "max_height": null,
            "align_content": null,
            "visibility": null,
            "align_self": null,
            "height": null,
            "min_height": null,
            "padding": null,
            "grid_auto_rows": null,
            "grid_gap": null,
            "max_width": null,
            "order": null,
            "_view_module_version": "1.2.0",
            "grid_template_areas": null,
            "object_position": null,
            "object_fit": null,
            "grid_auto_columns": null,
            "margin": null,
            "display": null,
            "left": null
          }
        },
        "11a45c994b3a4414b845fe9291ca70f0": {
          "model_module": "@jupyter-widgets/controls",
          "model_name": "HBoxModel",
          "model_module_version": "1.5.0",
          "state": {
            "_view_name": "HBoxView",
            "_dom_classes": [],
            "_model_name": "HBoxModel",
            "_view_module": "@jupyter-widgets/controls",
            "_model_module_version": "1.5.0",
            "_view_count": null,
            "_view_module_version": "1.5.0",
            "box_style": "",
            "layout": "IPY_MODEL_1435fcdfe7a049efac268afaeafc0608",
            "_model_module": "@jupyter-widgets/controls",
            "children": [
              "IPY_MODEL_f06028c5504c4b91b1e46fd27a9ee5ca",
              "IPY_MODEL_46c8a985122e4bc7a1eca4353dfefb76",
              "IPY_MODEL_c7c1ef2e23f748fcba1cd3c0c420dc7c"
            ]
          }
        },
        "1435fcdfe7a049efac268afaeafc0608": {
          "model_module": "@jupyter-widgets/base",
          "model_name": "LayoutModel",
          "model_module_version": "1.2.0",
          "state": {
            "_view_name": "LayoutView",
            "grid_template_rows": null,
            "right": null,
            "justify_content": null,
            "_view_module": "@jupyter-widgets/base",
            "overflow": null,
            "_model_module_version": "1.2.0",
            "_view_count": null,
            "flex_flow": null,
            "width": null,
            "min_width": null,
            "border": null,
            "align_items": null,
            "bottom": null,
            "_model_module": "@jupyter-widgets/base",
            "top": null,
            "grid_column": null,
            "overflow_y": null,
            "overflow_x": null,
            "grid_auto_flow": null,
            "grid_area": null,
            "grid_template_columns": null,
            "flex": null,
            "_model_name": "LayoutModel",
            "justify_items": null,
            "grid_row": null,
            "max_height": null,
            "align_content": null,
            "visibility": null,
            "align_self": null,
            "height": null,
            "min_height": null,
            "padding": null,
            "grid_auto_rows": null,
            "grid_gap": null,
            "max_width": null,
            "order": null,
            "_view_module_version": "1.2.0",
            "grid_template_areas": null,
            "object_position": null,
            "object_fit": null,
            "grid_auto_columns": null,
            "margin": null,
            "display": null,
            "left": null
          }
        },
        "f06028c5504c4b91b1e46fd27a9ee5ca": {
          "model_module": "@jupyter-widgets/controls",
          "model_name": "HTMLModel",
          "model_module_version": "1.5.0",
          "state": {
            "_view_name": "HTMLView",
            "style": "IPY_MODEL_18f5ad40e13749429a84cbf4176dc71a",
            "_dom_classes": [],
            "description": "",
            "_model_name": "HTMLModel",
            "placeholder": "​",
            "_view_module": "@jupyter-widgets/controls",
            "_model_module_version": "1.5.0",
            "value": "Downloading: 100%",
            "_view_count": null,
            "_view_module_version": "1.5.0",
            "description_tooltip": null,
            "_model_module": "@jupyter-widgets/controls",
            "layout": "IPY_MODEL_6d955a7004884ae9807dbd76d3bd1f1a"
          }
        },
        "46c8a985122e4bc7a1eca4353dfefb76": {
          "model_module": "@jupyter-widgets/controls",
          "model_name": "FloatProgressModel",
          "model_module_version": "1.5.0",
          "state": {
            "_view_name": "ProgressView",
            "style": "IPY_MODEL_402c58f6f41d4f39bd559a2fac435c14",
            "_dom_classes": [],
            "description": "",
            "_model_name": "FloatProgressModel",
            "bar_style": "success",
            "max": 435797,
            "_view_module": "@jupyter-widgets/controls",
            "_model_module_version": "1.5.0",
            "value": 435797,
            "_view_count": null,
            "_view_module_version": "1.5.0",
            "orientation": "horizontal",
            "min": 0,
            "description_tooltip": null,
            "_model_module": "@jupyter-widgets/controls",
            "layout": "IPY_MODEL_6a14c48e5fdb432da1872ab114b53957"
          }
        },
        "c7c1ef2e23f748fcba1cd3c0c420dc7c": {
          "model_module": "@jupyter-widgets/controls",
          "model_name": "HTMLModel",
          "model_module_version": "1.5.0",
          "state": {
            "_view_name": "HTMLView",
            "style": "IPY_MODEL_40c07350d6314880be96b147380a5d2f",
            "_dom_classes": [],
            "description": "",
            "_model_name": "HTMLModel",
            "placeholder": "​",
            "_view_module": "@jupyter-widgets/controls",
            "_model_module_version": "1.5.0",
            "value": " 426k/426k [00:00&lt;00:00, 4.49MB/s]",
            "_view_count": null,
            "_view_module_version": "1.5.0",
            "description_tooltip": null,
            "_model_module": "@jupyter-widgets/controls",
            "layout": "IPY_MODEL_75b1c9d9e3534108abc4f7a916ce7d9a"
          }
        },
        "18f5ad40e13749429a84cbf4176dc71a": {
          "model_module": "@jupyter-widgets/controls",
          "model_name": "DescriptionStyleModel",
          "model_module_version": "1.5.0",
          "state": {
            "_view_name": "StyleView",
            "_model_name": "DescriptionStyleModel",
            "description_width": "",
            "_view_module": "@jupyter-widgets/base",
            "_model_module_version": "1.5.0",
            "_view_count": null,
            "_view_module_version": "1.2.0",
            "_model_module": "@jupyter-widgets/controls"
          }
        },
        "6d955a7004884ae9807dbd76d3bd1f1a": {
          "model_module": "@jupyter-widgets/base",
          "model_name": "LayoutModel",
          "model_module_version": "1.2.0",
          "state": {
            "_view_name": "LayoutView",
            "grid_template_rows": null,
            "right": null,
            "justify_content": null,
            "_view_module": "@jupyter-widgets/base",
            "overflow": null,
            "_model_module_version": "1.2.0",
            "_view_count": null,
            "flex_flow": null,
            "width": null,
            "min_width": null,
            "border": null,
            "align_items": null,
            "bottom": null,
            "_model_module": "@jupyter-widgets/base",
            "top": null,
            "grid_column": null,
            "overflow_y": null,
            "overflow_x": null,
            "grid_auto_flow": null,
            "grid_area": null,
            "grid_template_columns": null,
            "flex": null,
            "_model_name": "LayoutModel",
            "justify_items": null,
            "grid_row": null,
            "max_height": null,
            "align_content": null,
            "visibility": null,
            "align_self": null,
            "height": null,
            "min_height": null,
            "padding": null,
            "grid_auto_rows": null,
            "grid_gap": null,
            "max_width": null,
            "order": null,
            "_view_module_version": "1.2.0",
            "grid_template_areas": null,
            "object_position": null,
            "object_fit": null,
            "grid_auto_columns": null,
            "margin": null,
            "display": null,
            "left": null
          }
        },
        "402c58f6f41d4f39bd559a2fac435c14": {
          "model_module": "@jupyter-widgets/controls",
          "model_name": "ProgressStyleModel",
          "model_module_version": "1.5.0",
          "state": {
            "_view_name": "StyleView",
            "_model_name": "ProgressStyleModel",
            "description_width": "",
            "_view_module": "@jupyter-widgets/base",
            "_model_module_version": "1.5.0",
            "_view_count": null,
            "_view_module_version": "1.2.0",
            "bar_color": null,
            "_model_module": "@jupyter-widgets/controls"
          }
        },
        "6a14c48e5fdb432da1872ab114b53957": {
          "model_module": "@jupyter-widgets/base",
          "model_name": "LayoutModel",
          "model_module_version": "1.2.0",
          "state": {
            "_view_name": "LayoutView",
            "grid_template_rows": null,
            "right": null,
            "justify_content": null,
            "_view_module": "@jupyter-widgets/base",
            "overflow": null,
            "_model_module_version": "1.2.0",
            "_view_count": null,
            "flex_flow": null,
            "width": null,
            "min_width": null,
            "border": null,
            "align_items": null,
            "bottom": null,
            "_model_module": "@jupyter-widgets/base",
            "top": null,
            "grid_column": null,
            "overflow_y": null,
            "overflow_x": null,
            "grid_auto_flow": null,
            "grid_area": null,
            "grid_template_columns": null,
            "flex": null,
            "_model_name": "LayoutModel",
            "justify_items": null,
            "grid_row": null,
            "max_height": null,
            "align_content": null,
            "visibility": null,
            "align_self": null,
            "height": null,
            "min_height": null,
            "padding": null,
            "grid_auto_rows": null,
            "grid_gap": null,
            "max_width": null,
            "order": null,
            "_view_module_version": "1.2.0",
            "grid_template_areas": null,
            "object_position": null,
            "object_fit": null,
            "grid_auto_columns": null,
            "margin": null,
            "display": null,
            "left": null
          }
        },
        "40c07350d6314880be96b147380a5d2f": {
          "model_module": "@jupyter-widgets/controls",
          "model_name": "DescriptionStyleModel",
          "model_module_version": "1.5.0",
          "state": {
            "_view_name": "StyleView",
            "_model_name": "DescriptionStyleModel",
            "description_width": "",
            "_view_module": "@jupyter-widgets/base",
            "_model_module_version": "1.5.0",
            "_view_count": null,
            "_view_module_version": "1.2.0",
            "_model_module": "@jupyter-widgets/controls"
          }
        },
        "75b1c9d9e3534108abc4f7a916ce7d9a": {
          "model_module": "@jupyter-widgets/base",
          "model_name": "LayoutModel",
          "model_module_version": "1.2.0",
          "state": {
            "_view_name": "LayoutView",
            "grid_template_rows": null,
            "right": null,
            "justify_content": null,
            "_view_module": "@jupyter-widgets/base",
            "overflow": null,
            "_model_module_version": "1.2.0",
            "_view_count": null,
            "flex_flow": null,
            "width": null,
            "min_width": null,
            "border": null,
            "align_items": null,
            "bottom": null,
            "_model_module": "@jupyter-widgets/base",
            "top": null,
            "grid_column": null,
            "overflow_y": null,
            "overflow_x": null,
            "grid_auto_flow": null,
            "grid_area": null,
            "grid_template_columns": null,
            "flex": null,
            "_model_name": "LayoutModel",
            "justify_items": null,
            "grid_row": null,
            "max_height": null,
            "align_content": null,
            "visibility": null,
            "align_self": null,
            "height": null,
            "min_height": null,
            "padding": null,
            "grid_auto_rows": null,
            "grid_gap": null,
            "max_width": null,
            "order": null,
            "_view_module_version": "1.2.0",
            "grid_template_areas": null,
            "object_position": null,
            "object_fit": null,
            "grid_auto_columns": null,
            "margin": null,
            "display": null,
            "left": null
          }
        },
        "9c9d2a3ec42f4ee6bbfc8e7f221b44fa": {
          "model_module": "@jupyter-widgets/controls",
          "model_name": "HBoxModel",
          "model_module_version": "1.5.0",
          "state": {
            "_view_name": "HBoxView",
            "_dom_classes": [],
            "_model_name": "HBoxModel",
            "_view_module": "@jupyter-widgets/controls",
            "_model_module_version": "1.5.0",
            "_view_count": null,
            "_view_module_version": "1.5.0",
            "box_style": "",
            "layout": "IPY_MODEL_b060972087b845bfb88f5319e52a0f09",
            "_model_module": "@jupyter-widgets/controls",
            "children": [
              "IPY_MODEL_1c1d9d33d1464d6980d07c29f7ef3faa",
              "IPY_MODEL_deb04b4a8f3d4fa5bdd95f7cebb2d104",
              "IPY_MODEL_6879db605e6645d4b00620436e367b34"
            ]
          }
        },
        "b060972087b845bfb88f5319e52a0f09": {
          "model_module": "@jupyter-widgets/base",
          "model_name": "LayoutModel",
          "model_module_version": "1.2.0",
          "state": {
            "_view_name": "LayoutView",
            "grid_template_rows": null,
            "right": null,
            "justify_content": null,
            "_view_module": "@jupyter-widgets/base",
            "overflow": null,
            "_model_module_version": "1.2.0",
            "_view_count": null,
            "flex_flow": null,
            "width": null,
            "min_width": null,
            "border": null,
            "align_items": null,
            "bottom": null,
            "_model_module": "@jupyter-widgets/base",
            "top": null,
            "grid_column": null,
            "overflow_y": null,
            "overflow_x": null,
            "grid_auto_flow": null,
            "grid_area": null,
            "grid_template_columns": null,
            "flex": null,
            "_model_name": "LayoutModel",
            "justify_items": null,
            "grid_row": null,
            "max_height": null,
            "align_content": null,
            "visibility": null,
            "align_self": null,
            "height": null,
            "min_height": null,
            "padding": null,
            "grid_auto_rows": null,
            "grid_gap": null,
            "max_width": null,
            "order": null,
            "_view_module_version": "1.2.0",
            "grid_template_areas": null,
            "object_position": null,
            "object_fit": null,
            "grid_auto_columns": null,
            "margin": null,
            "display": null,
            "left": null
          }
        },
        "1c1d9d33d1464d6980d07c29f7ef3faa": {
          "model_module": "@jupyter-widgets/controls",
          "model_name": "HTMLModel",
          "model_module_version": "1.5.0",
          "state": {
            "_view_name": "HTMLView",
            "style": "IPY_MODEL_0b85b5d3a6ae474395af21fc0fb2f448",
            "_dom_classes": [],
            "description": "",
            "_model_name": "HTMLModel",
            "placeholder": "​",
            "_view_module": "@jupyter-widgets/controls",
            "_model_module_version": "1.5.0",
            "value": "Downloading: 100%",
            "_view_count": null,
            "_view_module_version": "1.5.0",
            "description_tooltip": null,
            "_model_module": "@jupyter-widgets/controls",
            "layout": "IPY_MODEL_13f950311bbf429e83bc26560258aa94"
          }
        },
        "deb04b4a8f3d4fa5bdd95f7cebb2d104": {
          "model_module": "@jupyter-widgets/controls",
          "model_name": "FloatProgressModel",
          "model_module_version": "1.5.0",
          "state": {
            "_view_name": "ProgressView",
            "style": "IPY_MODEL_5605c4d0a96e465e904a24e25e13e867",
            "_dom_classes": [],
            "description": "",
            "_model_name": "FloatProgressModel",
            "bar_style": "success",
            "max": 263273408,
            "_view_module": "@jupyter-widgets/controls",
            "_model_module_version": "1.5.0",
            "value": 263273408,
            "_view_count": null,
            "_view_module_version": "1.5.0",
            "orientation": "horizontal",
            "min": 0,
            "description_tooltip": null,
            "_model_module": "@jupyter-widgets/controls",
            "layout": "IPY_MODEL_db158d9a6c3445c186dfa5e92eb58e78"
          }
        },
        "6879db605e6645d4b00620436e367b34": {
          "model_module": "@jupyter-widgets/controls",
          "model_name": "HTMLModel",
          "model_module_version": "1.5.0",
          "state": {
            "_view_name": "HTMLView",
            "style": "IPY_MODEL_64da8755e61f48f992c9b973de4785d3",
            "_dom_classes": [],
            "description": "",
            "_model_name": "HTMLModel",
            "placeholder": "​",
            "_view_module": "@jupyter-widgets/controls",
            "_model_module_version": "1.5.0",
            "value": " 251M/251M [00:07&lt;00:00, 41.3MB/s]",
            "_view_count": null,
            "_view_module_version": "1.5.0",
            "description_tooltip": null,
            "_model_module": "@jupyter-widgets/controls",
            "layout": "IPY_MODEL_7706c286723443c3b27495a89edf3410"
          }
        },
        "0b85b5d3a6ae474395af21fc0fb2f448": {
          "model_module": "@jupyter-widgets/controls",
          "model_name": "DescriptionStyleModel",
          "model_module_version": "1.5.0",
          "state": {
            "_view_name": "StyleView",
            "_model_name": "DescriptionStyleModel",
            "description_width": "",
            "_view_module": "@jupyter-widgets/base",
            "_model_module_version": "1.5.0",
            "_view_count": null,
            "_view_module_version": "1.2.0",
            "_model_module": "@jupyter-widgets/controls"
          }
        },
        "13f950311bbf429e83bc26560258aa94": {
          "model_module": "@jupyter-widgets/base",
          "model_name": "LayoutModel",
          "model_module_version": "1.2.0",
          "state": {
            "_view_name": "LayoutView",
            "grid_template_rows": null,
            "right": null,
            "justify_content": null,
            "_view_module": "@jupyter-widgets/base",
            "overflow": null,
            "_model_module_version": "1.2.0",
            "_view_count": null,
            "flex_flow": null,
            "width": null,
            "min_width": null,
            "border": null,
            "align_items": null,
            "bottom": null,
            "_model_module": "@jupyter-widgets/base",
            "top": null,
            "grid_column": null,
            "overflow_y": null,
            "overflow_x": null,
            "grid_auto_flow": null,
            "grid_area": null,
            "grid_template_columns": null,
            "flex": null,
            "_model_name": "LayoutModel",
            "justify_items": null,
            "grid_row": null,
            "max_height": null,
            "align_content": null,
            "visibility": null,
            "align_self": null,
            "height": null,
            "min_height": null,
            "padding": null,
            "grid_auto_rows": null,
            "grid_gap": null,
            "max_width": null,
            "order": null,
            "_view_module_version": "1.2.0",
            "grid_template_areas": null,
            "object_position": null,
            "object_fit": null,
            "grid_auto_columns": null,
            "margin": null,
            "display": null,
            "left": null
          }
        },
        "5605c4d0a96e465e904a24e25e13e867": {
          "model_module": "@jupyter-widgets/controls",
          "model_name": "ProgressStyleModel",
          "model_module_version": "1.5.0",
          "state": {
            "_view_name": "StyleView",
            "_model_name": "ProgressStyleModel",
            "description_width": "",
            "_view_module": "@jupyter-widgets/base",
            "_model_module_version": "1.5.0",
            "_view_count": null,
            "_view_module_version": "1.2.0",
            "bar_color": null,
            "_model_module": "@jupyter-widgets/controls"
          }
        },
        "db158d9a6c3445c186dfa5e92eb58e78": {
          "model_module": "@jupyter-widgets/base",
          "model_name": "LayoutModel",
          "model_module_version": "1.2.0",
          "state": {
            "_view_name": "LayoutView",
            "grid_template_rows": null,
            "right": null,
            "justify_content": null,
            "_view_module": "@jupyter-widgets/base",
            "overflow": null,
            "_model_module_version": "1.2.0",
            "_view_count": null,
            "flex_flow": null,
            "width": null,
            "min_width": null,
            "border": null,
            "align_items": null,
            "bottom": null,
            "_model_module": "@jupyter-widgets/base",
            "top": null,
            "grid_column": null,
            "overflow_y": null,
            "overflow_x": null,
            "grid_auto_flow": null,
            "grid_area": null,
            "grid_template_columns": null,
            "flex": null,
            "_model_name": "LayoutModel",
            "justify_items": null,
            "grid_row": null,
            "max_height": null,
            "align_content": null,
            "visibility": null,
            "align_self": null,
            "height": null,
            "min_height": null,
            "padding": null,
            "grid_auto_rows": null,
            "grid_gap": null,
            "max_width": null,
            "order": null,
            "_view_module_version": "1.2.0",
            "grid_template_areas": null,
            "object_position": null,
            "object_fit": null,
            "grid_auto_columns": null,
            "margin": null,
            "display": null,
            "left": null
          }
        },
        "64da8755e61f48f992c9b973de4785d3": {
          "model_module": "@jupyter-widgets/controls",
          "model_name": "DescriptionStyleModel",
          "model_module_version": "1.5.0",
          "state": {
            "_view_name": "StyleView",
            "_model_name": "DescriptionStyleModel",
            "description_width": "",
            "_view_module": "@jupyter-widgets/base",
            "_model_module_version": "1.5.0",
            "_view_count": null,
            "_view_module_version": "1.2.0",
            "_model_module": "@jupyter-widgets/controls"
          }
        },
        "7706c286723443c3b27495a89edf3410": {
          "model_module": "@jupyter-widgets/base",
          "model_name": "LayoutModel",
          "model_module_version": "1.2.0",
          "state": {
            "_view_name": "LayoutView",
            "grid_template_rows": null,
            "right": null,
            "justify_content": null,
            "_view_module": "@jupyter-widgets/base",
            "overflow": null,
            "_model_module_version": "1.2.0",
            "_view_count": null,
            "flex_flow": null,
            "width": null,
            "min_width": null,
            "border": null,
            "align_items": null,
            "bottom": null,
            "_model_module": "@jupyter-widgets/base",
            "top": null,
            "grid_column": null,
            "overflow_y": null,
            "overflow_x": null,
            "grid_auto_flow": null,
            "grid_area": null,
            "grid_template_columns": null,
            "flex": null,
            "_model_name": "LayoutModel",
            "justify_items": null,
            "grid_row": null,
            "max_height": null,
            "align_content": null,
            "visibility": null,
            "align_self": null,
            "height": null,
            "min_height": null,
            "padding": null,
            "grid_auto_rows": null,
            "grid_gap": null,
            "max_width": null,
            "order": null,
            "_view_module_version": "1.2.0",
            "grid_template_areas": null,
            "object_position": null,
            "object_fit": null,
            "grid_auto_columns": null,
            "margin": null,
            "display": null,
            "left": null
          }
        },
        "4ac82a38e5434b468d1953282530f4a4": {
          "model_module": "@jupyter-widgets/controls",
          "model_name": "HBoxModel",
          "model_module_version": "1.5.0",
          "state": {
            "_view_name": "HBoxView",
            "_dom_classes": [],
            "_model_name": "HBoxModel",
            "_view_module": "@jupyter-widgets/controls",
            "_model_module_version": "1.5.0",
            "_view_count": null,
            "_view_module_version": "1.5.0",
            "box_style": "",
            "layout": "IPY_MODEL_21412c1519b0446789a0eff2b12cd54d",
            "_model_module": "@jupyter-widgets/controls",
            "children": [
              "IPY_MODEL_a4c3c14cea184f58b54f17843ec7d690",
              "IPY_MODEL_fcce3bff716341c8b5f12111a867c862",
              "IPY_MODEL_9b1e8911800644fc90e162564650a617"
            ]
          }
        },
        "21412c1519b0446789a0eff2b12cd54d": {
          "model_module": "@jupyter-widgets/base",
          "model_name": "LayoutModel",
          "model_module_version": "1.2.0",
          "state": {
            "_view_name": "LayoutView",
            "grid_template_rows": null,
            "right": null,
            "justify_content": null,
            "_view_module": "@jupyter-widgets/base",
            "overflow": null,
            "_model_module_version": "1.2.0",
            "_view_count": null,
            "flex_flow": null,
            "width": null,
            "min_width": null,
            "border": null,
            "align_items": null,
            "bottom": null,
            "_model_module": "@jupyter-widgets/base",
            "top": null,
            "grid_column": null,
            "overflow_y": null,
            "overflow_x": null,
            "grid_auto_flow": null,
            "grid_area": null,
            "grid_template_columns": null,
            "flex": null,
            "_model_name": "LayoutModel",
            "justify_items": null,
            "grid_row": null,
            "max_height": null,
            "align_content": null,
            "visibility": null,
            "align_self": null,
            "height": null,
            "min_height": null,
            "padding": null,
            "grid_auto_rows": null,
            "grid_gap": null,
            "max_width": null,
            "order": null,
            "_view_module_version": "1.2.0",
            "grid_template_areas": null,
            "object_position": null,
            "object_fit": null,
            "grid_auto_columns": null,
            "margin": null,
            "display": null,
            "left": null
          }
        },
        "a4c3c14cea184f58b54f17843ec7d690": {
          "model_module": "@jupyter-widgets/controls",
          "model_name": "HTMLModel",
          "model_module_version": "1.5.0",
          "state": {
            "_view_name": "HTMLView",
            "style": "IPY_MODEL_c332e8d88f8f42b085dc11241adbf041",
            "_dom_classes": [],
            "description": "",
            "_model_name": "HTMLModel",
            "placeholder": "​",
            "_view_module": "@jupyter-widgets/controls",
            "_model_module_version": "1.5.0",
            "value": "Downloading: 100%",
            "_view_count": null,
            "_view_module_version": "1.5.0",
            "description_tooltip": null,
            "_model_module": "@jupyter-widgets/controls",
            "layout": "IPY_MODEL_e8ac0278b8ad437f97d8914ef2b96736"
          }
        },
        "fcce3bff716341c8b5f12111a867c862": {
          "model_module": "@jupyter-widgets/controls",
          "model_name": "FloatProgressModel",
          "model_module_version": "1.5.0",
          "state": {
            "_view_name": "ProgressView",
            "style": "IPY_MODEL_f3599bcf96ed4f0882f8e88841acd63c",
            "_dom_classes": [],
            "description": "",
            "_model_name": "FloatProgressModel",
            "bar_style": "success",
            "max": 760,
            "_view_module": "@jupyter-widgets/controls",
            "_model_module_version": "1.5.0",
            "value": 760,
            "_view_count": null,
            "_view_module_version": "1.5.0",
            "orientation": "horizontal",
            "min": 0,
            "description_tooltip": null,
            "_model_module": "@jupyter-widgets/controls",
            "layout": "IPY_MODEL_71f8a6117c20493db370e9281b39eccc"
          }
        },
        "9b1e8911800644fc90e162564650a617": {
          "model_module": "@jupyter-widgets/controls",
          "model_name": "HTMLModel",
          "model_module_version": "1.5.0",
          "state": {
            "_view_name": "HTMLView",
            "style": "IPY_MODEL_020752325a084b1192ac6ddf2f408d16",
            "_dom_classes": [],
            "description": "",
            "_model_name": "HTMLModel",
            "placeholder": "​",
            "_view_module": "@jupyter-widgets/controls",
            "_model_module_version": "1.5.0",
            "value": " 760/760 [00:00&lt;00:00, 23.6kB/s]",
            "_view_count": null,
            "_view_module_version": "1.5.0",
            "description_tooltip": null,
            "_model_module": "@jupyter-widgets/controls",
            "layout": "IPY_MODEL_c5e67e4d64c841d0818b94ba3a131d53"
          }
        },
        "c332e8d88f8f42b085dc11241adbf041": {
          "model_module": "@jupyter-widgets/controls",
          "model_name": "DescriptionStyleModel",
          "model_module_version": "1.5.0",
          "state": {
            "_view_name": "StyleView",
            "_model_name": "DescriptionStyleModel",
            "description_width": "",
            "_view_module": "@jupyter-widgets/base",
            "_model_module_version": "1.5.0",
            "_view_count": null,
            "_view_module_version": "1.2.0",
            "_model_module": "@jupyter-widgets/controls"
          }
        },
        "e8ac0278b8ad437f97d8914ef2b96736": {
          "model_module": "@jupyter-widgets/base",
          "model_name": "LayoutModel",
          "model_module_version": "1.2.0",
          "state": {
            "_view_name": "LayoutView",
            "grid_template_rows": null,
            "right": null,
            "justify_content": null,
            "_view_module": "@jupyter-widgets/base",
            "overflow": null,
            "_model_module_version": "1.2.0",
            "_view_count": null,
            "flex_flow": null,
            "width": null,
            "min_width": null,
            "border": null,
            "align_items": null,
            "bottom": null,
            "_model_module": "@jupyter-widgets/base",
            "top": null,
            "grid_column": null,
            "overflow_y": null,
            "overflow_x": null,
            "grid_auto_flow": null,
            "grid_area": null,
            "grid_template_columns": null,
            "flex": null,
            "_model_name": "LayoutModel",
            "justify_items": null,
            "grid_row": null,
            "max_height": null,
            "align_content": null,
            "visibility": null,
            "align_self": null,
            "height": null,
            "min_height": null,
            "padding": null,
            "grid_auto_rows": null,
            "grid_gap": null,
            "max_width": null,
            "order": null,
            "_view_module_version": "1.2.0",
            "grid_template_areas": null,
            "object_position": null,
            "object_fit": null,
            "grid_auto_columns": null,
            "margin": null,
            "display": null,
            "left": null
          }
        },
        "f3599bcf96ed4f0882f8e88841acd63c": {
          "model_module": "@jupyter-widgets/controls",
          "model_name": "ProgressStyleModel",
          "model_module_version": "1.5.0",
          "state": {
            "_view_name": "StyleView",
            "_model_name": "ProgressStyleModel",
            "description_width": "",
            "_view_module": "@jupyter-widgets/base",
            "_model_module_version": "1.5.0",
            "_view_count": null,
            "_view_module_version": "1.2.0",
            "bar_color": null,
            "_model_module": "@jupyter-widgets/controls"
          }
        },
        "71f8a6117c20493db370e9281b39eccc": {
          "model_module": "@jupyter-widgets/base",
          "model_name": "LayoutModel",
          "model_module_version": "1.2.0",
          "state": {
            "_view_name": "LayoutView",
            "grid_template_rows": null,
            "right": null,
            "justify_content": null,
            "_view_module": "@jupyter-widgets/base",
            "overflow": null,
            "_model_module_version": "1.2.0",
            "_view_count": null,
            "flex_flow": null,
            "width": null,
            "min_width": null,
            "border": null,
            "align_items": null,
            "bottom": null,
            "_model_module": "@jupyter-widgets/base",
            "top": null,
            "grid_column": null,
            "overflow_y": null,
            "overflow_x": null,
            "grid_auto_flow": null,
            "grid_area": null,
            "grid_template_columns": null,
            "flex": null,
            "_model_name": "LayoutModel",
            "justify_items": null,
            "grid_row": null,
            "max_height": null,
            "align_content": null,
            "visibility": null,
            "align_self": null,
            "height": null,
            "min_height": null,
            "padding": null,
            "grid_auto_rows": null,
            "grid_gap": null,
            "max_width": null,
            "order": null,
            "_view_module_version": "1.2.0",
            "grid_template_areas": null,
            "object_position": null,
            "object_fit": null,
            "grid_auto_columns": null,
            "margin": null,
            "display": null,
            "left": null
          }
        },
        "020752325a084b1192ac6ddf2f408d16": {
          "model_module": "@jupyter-widgets/controls",
          "model_name": "DescriptionStyleModel",
          "model_module_version": "1.5.0",
          "state": {
            "_view_name": "StyleView",
            "_model_name": "DescriptionStyleModel",
            "description_width": "",
            "_view_module": "@jupyter-widgets/base",
            "_model_module_version": "1.5.0",
            "_view_count": null,
            "_view_module_version": "1.2.0",
            "_model_module": "@jupyter-widgets/controls"
          }
        },
        "c5e67e4d64c841d0818b94ba3a131d53": {
          "model_module": "@jupyter-widgets/base",
          "model_name": "LayoutModel",
          "model_module_version": "1.2.0",
          "state": {
            "_view_name": "LayoutView",
            "grid_template_rows": null,
            "right": null,
            "justify_content": null,
            "_view_module": "@jupyter-widgets/base",
            "overflow": null,
            "_model_module_version": "1.2.0",
            "_view_count": null,
            "flex_flow": null,
            "width": null,
            "min_width": null,
            "border": null,
            "align_items": null,
            "bottom": null,
            "_model_module": "@jupyter-widgets/base",
            "top": null,
            "grid_column": null,
            "overflow_y": null,
            "overflow_x": null,
            "grid_auto_flow": null,
            "grid_area": null,
            "grid_template_columns": null,
            "flex": null,
            "_model_name": "LayoutModel",
            "justify_items": null,
            "grid_row": null,
            "max_height": null,
            "align_content": null,
            "visibility": null,
            "align_self": null,
            "height": null,
            "min_height": null,
            "padding": null,
            "grid_auto_rows": null,
            "grid_gap": null,
            "max_width": null,
            "order": null,
            "_view_module_version": "1.2.0",
            "grid_template_areas": null,
            "object_position": null,
            "object_fit": null,
            "grid_auto_columns": null,
            "margin": null,
            "display": null,
            "left": null
          }
        },
        "c561d4d3adab45b29d19ea2e25978b95": {
          "model_module": "@jupyter-widgets/controls",
          "model_name": "HBoxModel",
          "model_module_version": "1.5.0",
          "state": {
            "_view_name": "HBoxView",
            "_dom_classes": [],
            "_model_name": "HBoxModel",
            "_view_module": "@jupyter-widgets/controls",
            "_model_module_version": "1.5.0",
            "_view_count": null,
            "_view_module_version": "1.5.0",
            "box_style": "",
            "layout": "IPY_MODEL_a441cb233d7b47439f3e2c33a85e41a4",
            "_model_module": "@jupyter-widgets/controls",
            "children": [
              "IPY_MODEL_60fee020ec0542dca9224aea3957fbdd",
              "IPY_MODEL_54852c3ce7964cfbaae01c5fba72eda6",
              "IPY_MODEL_4feee20339fa4a689bf4b0229284bc16"
            ]
          }
        },
        "a441cb233d7b47439f3e2c33a85e41a4": {
          "model_module": "@jupyter-widgets/base",
          "model_name": "LayoutModel",
          "model_module_version": "1.2.0",
          "state": {
            "_view_name": "LayoutView",
            "grid_template_rows": null,
            "right": null,
            "justify_content": null,
            "_view_module": "@jupyter-widgets/base",
            "overflow": null,
            "_model_module_version": "1.2.0",
            "_view_count": null,
            "flex_flow": null,
            "width": null,
            "min_width": null,
            "border": null,
            "align_items": null,
            "bottom": null,
            "_model_module": "@jupyter-widgets/base",
            "top": null,
            "grid_column": null,
            "overflow_y": null,
            "overflow_x": null,
            "grid_auto_flow": null,
            "grid_area": null,
            "grid_template_columns": null,
            "flex": null,
            "_model_name": "LayoutModel",
            "justify_items": null,
            "grid_row": null,
            "max_height": null,
            "align_content": null,
            "visibility": null,
            "align_self": null,
            "height": null,
            "min_height": null,
            "padding": null,
            "grid_auto_rows": null,
            "grid_gap": null,
            "max_width": null,
            "order": null,
            "_view_module_version": "1.2.0",
            "grid_template_areas": null,
            "object_position": null,
            "object_fit": null,
            "grid_auto_columns": null,
            "margin": null,
            "display": null,
            "left": null
          }
        },
        "60fee020ec0542dca9224aea3957fbdd": {
          "model_module": "@jupyter-widgets/controls",
          "model_name": "HTMLModel",
          "model_module_version": "1.5.0",
          "state": {
            "_view_name": "HTMLView",
            "style": "IPY_MODEL_b9477c9a12a74811877389844a43514f",
            "_dom_classes": [],
            "description": "",
            "_model_name": "HTMLModel",
            "placeholder": "​",
            "_view_module": "@jupyter-widgets/controls",
            "_model_module_version": "1.5.0",
            "value": "Downloading: 100%",
            "_view_count": null,
            "_view_module_version": "1.5.0",
            "description_tooltip": null,
            "_model_module": "@jupyter-widgets/controls",
            "layout": "IPY_MODEL_5de9c75e7af04f24ade3103bafe44d1a"
          }
        },
        "54852c3ce7964cfbaae01c5fba72eda6": {
          "model_module": "@jupyter-widgets/controls",
          "model_name": "FloatProgressModel",
          "model_module_version": "1.5.0",
          "state": {
            "_view_name": "ProgressView",
            "style": "IPY_MODEL_462464b3d96b442eb15abb62ea140cb7",
            "_dom_classes": [],
            "description": "",
            "_model_name": "FloatProgressModel",
            "bar_style": "success",
            "max": 467042463,
            "_view_module": "@jupyter-widgets/controls",
            "_model_module_version": "1.5.0",
            "value": 467042463,
            "_view_count": null,
            "_view_module_version": "1.5.0",
            "orientation": "horizontal",
            "min": 0,
            "description_tooltip": null,
            "_model_module": "@jupyter-widgets/controls",
            "layout": "IPY_MODEL_4a2e62ca79e34d5dbc9cc6e5cc366b4e"
          }
        },
        "4feee20339fa4a689bf4b0229284bc16": {
          "model_module": "@jupyter-widgets/controls",
          "model_name": "HTMLModel",
          "model_module_version": "1.5.0",
          "state": {
            "_view_name": "HTMLView",
            "style": "IPY_MODEL_be8421d771a041b29a06fa3f5eb9ae20",
            "_dom_classes": [],
            "description": "",
            "_model_name": "HTMLModel",
            "placeholder": "​",
            "_view_module": "@jupyter-widgets/controls",
            "_model_module_version": "1.5.0",
            "value": " 445M/445M [00:15&lt;00:00, 29.8MB/s]",
            "_view_count": null,
            "_view_module_version": "1.5.0",
            "description_tooltip": null,
            "_model_module": "@jupyter-widgets/controls",
            "layout": "IPY_MODEL_f99ebd83d8b54d789fa1bff1279c5c36"
          }
        },
        "b9477c9a12a74811877389844a43514f": {
          "model_module": "@jupyter-widgets/controls",
          "model_name": "DescriptionStyleModel",
          "model_module_version": "1.5.0",
          "state": {
            "_view_name": "StyleView",
            "_model_name": "DescriptionStyleModel",
            "description_width": "",
            "_view_module": "@jupyter-widgets/base",
            "_model_module_version": "1.5.0",
            "_view_count": null,
            "_view_module_version": "1.2.0",
            "_model_module": "@jupyter-widgets/controls"
          }
        },
        "5de9c75e7af04f24ade3103bafe44d1a": {
          "model_module": "@jupyter-widgets/base",
          "model_name": "LayoutModel",
          "model_module_version": "1.2.0",
          "state": {
            "_view_name": "LayoutView",
            "grid_template_rows": null,
            "right": null,
            "justify_content": null,
            "_view_module": "@jupyter-widgets/base",
            "overflow": null,
            "_model_module_version": "1.2.0",
            "_view_count": null,
            "flex_flow": null,
            "width": null,
            "min_width": null,
            "border": null,
            "align_items": null,
            "bottom": null,
            "_model_module": "@jupyter-widgets/base",
            "top": null,
            "grid_column": null,
            "overflow_y": null,
            "overflow_x": null,
            "grid_auto_flow": null,
            "grid_area": null,
            "grid_template_columns": null,
            "flex": null,
            "_model_name": "LayoutModel",
            "justify_items": null,
            "grid_row": null,
            "max_height": null,
            "align_content": null,
            "visibility": null,
            "align_self": null,
            "height": null,
            "min_height": null,
            "padding": null,
            "grid_auto_rows": null,
            "grid_gap": null,
            "max_width": null,
            "order": null,
            "_view_module_version": "1.2.0",
            "grid_template_areas": null,
            "object_position": null,
            "object_fit": null,
            "grid_auto_columns": null,
            "margin": null,
            "display": null,
            "left": null
          }
        },
        "462464b3d96b442eb15abb62ea140cb7": {
          "model_module": "@jupyter-widgets/controls",
          "model_name": "ProgressStyleModel",
          "model_module_version": "1.5.0",
          "state": {
            "_view_name": "StyleView",
            "_model_name": "ProgressStyleModel",
            "description_width": "",
            "_view_module": "@jupyter-widgets/base",
            "_model_module_version": "1.5.0",
            "_view_count": null,
            "_view_module_version": "1.2.0",
            "bar_color": null,
            "_model_module": "@jupyter-widgets/controls"
          }
        },
        "4a2e62ca79e34d5dbc9cc6e5cc366b4e": {
          "model_module": "@jupyter-widgets/base",
          "model_name": "LayoutModel",
          "model_module_version": "1.2.0",
          "state": {
            "_view_name": "LayoutView",
            "grid_template_rows": null,
            "right": null,
            "justify_content": null,
            "_view_module": "@jupyter-widgets/base",
            "overflow": null,
            "_model_module_version": "1.2.0",
            "_view_count": null,
            "flex_flow": null,
            "width": null,
            "min_width": null,
            "border": null,
            "align_items": null,
            "bottom": null,
            "_model_module": "@jupyter-widgets/base",
            "top": null,
            "grid_column": null,
            "overflow_y": null,
            "overflow_x": null,
            "grid_auto_flow": null,
            "grid_area": null,
            "grid_template_columns": null,
            "flex": null,
            "_model_name": "LayoutModel",
            "justify_items": null,
            "grid_row": null,
            "max_height": null,
            "align_content": null,
            "visibility": null,
            "align_self": null,
            "height": null,
            "min_height": null,
            "padding": null,
            "grid_auto_rows": null,
            "grid_gap": null,
            "max_width": null,
            "order": null,
            "_view_module_version": "1.2.0",
            "grid_template_areas": null,
            "object_position": null,
            "object_fit": null,
            "grid_auto_columns": null,
            "margin": null,
            "display": null,
            "left": null
          }
        },
        "be8421d771a041b29a06fa3f5eb9ae20": {
          "model_module": "@jupyter-widgets/controls",
          "model_name": "DescriptionStyleModel",
          "model_module_version": "1.5.0",
          "state": {
            "_view_name": "StyleView",
            "_model_name": "DescriptionStyleModel",
            "description_width": "",
            "_view_module": "@jupyter-widgets/base",
            "_model_module_version": "1.5.0",
            "_view_count": null,
            "_view_module_version": "1.2.0",
            "_model_module": "@jupyter-widgets/controls"
          }
        },
        "f99ebd83d8b54d789fa1bff1279c5c36": {
          "model_module": "@jupyter-widgets/base",
          "model_name": "LayoutModel",
          "model_module_version": "1.2.0",
          "state": {
            "_view_name": "LayoutView",
            "grid_template_rows": null,
            "right": null,
            "justify_content": null,
            "_view_module": "@jupyter-widgets/base",
            "overflow": null,
            "_model_module_version": "1.2.0",
            "_view_count": null,
            "flex_flow": null,
            "width": null,
            "min_width": null,
            "border": null,
            "align_items": null,
            "bottom": null,
            "_model_module": "@jupyter-widgets/base",
            "top": null,
            "grid_column": null,
            "overflow_y": null,
            "overflow_x": null,
            "grid_auto_flow": null,
            "grid_area": null,
            "grid_template_columns": null,
            "flex": null,
            "_model_name": "LayoutModel",
            "justify_items": null,
            "grid_row": null,
            "max_height": null,
            "align_content": null,
            "visibility": null,
            "align_self": null,
            "height": null,
            "min_height": null,
            "padding": null,
            "grid_auto_rows": null,
            "grid_gap": null,
            "max_width": null,
            "order": null,
            "_view_module_version": "1.2.0",
            "grid_template_areas": null,
            "object_position": null,
            "object_fit": null,
            "grid_auto_columns": null,
            "margin": null,
            "display": null,
            "left": null
          }
        },
        "c62852be399442019e722fe94d998017": {
          "model_module": "@jupyter-widgets/controls",
          "model_name": "HBoxModel",
          "model_module_version": "1.5.0",
          "state": {
            "_view_name": "HBoxView",
            "_dom_classes": [],
            "_model_name": "HBoxModel",
            "_view_module": "@jupyter-widgets/controls",
            "_model_module_version": "1.5.0",
            "_view_count": null,
            "_view_module_version": "1.5.0",
            "box_style": "",
            "layout": "IPY_MODEL_da9c44cfbc4145d7bce631ff39a8ebb1",
            "_model_module": "@jupyter-widgets/controls",
            "children": [
              "IPY_MODEL_e838e13865034d0faf116ba9898335e4",
              "IPY_MODEL_88eea2843521483197760c4e34304173",
              "IPY_MODEL_48e776f0d7b247c6b3675c56b40ceb29"
            ]
          }
        },
        "da9c44cfbc4145d7bce631ff39a8ebb1": {
          "model_module": "@jupyter-widgets/base",
          "model_name": "LayoutModel",
          "model_module_version": "1.2.0",
          "state": {
            "_view_name": "LayoutView",
            "grid_template_rows": null,
            "right": null,
            "justify_content": null,
            "_view_module": "@jupyter-widgets/base",
            "overflow": null,
            "_model_module_version": "1.2.0",
            "_view_count": null,
            "flex_flow": null,
            "width": null,
            "min_width": null,
            "border": null,
            "align_items": null,
            "bottom": null,
            "_model_module": "@jupyter-widgets/base",
            "top": null,
            "grid_column": null,
            "overflow_y": null,
            "overflow_x": null,
            "grid_auto_flow": null,
            "grid_area": null,
            "grid_template_columns": null,
            "flex": null,
            "_model_name": "LayoutModel",
            "justify_items": null,
            "grid_row": null,
            "max_height": null,
            "align_content": null,
            "visibility": null,
            "align_self": null,
            "height": null,
            "min_height": null,
            "padding": null,
            "grid_auto_rows": null,
            "grid_gap": null,
            "max_width": null,
            "order": null,
            "_view_module_version": "1.2.0",
            "grid_template_areas": null,
            "object_position": null,
            "object_fit": null,
            "grid_auto_columns": null,
            "margin": null,
            "display": null,
            "left": null
          }
        },
        "e838e13865034d0faf116ba9898335e4": {
          "model_module": "@jupyter-widgets/controls",
          "model_name": "HTMLModel",
          "model_module_version": "1.5.0",
          "state": {
            "_view_name": "HTMLView",
            "style": "IPY_MODEL_dfe76ca69c5944fdab34804067cf7d13",
            "_dom_classes": [],
            "description": "",
            "_model_name": "HTMLModel",
            "placeholder": "​",
            "_view_module": "@jupyter-widgets/controls",
            "_model_module_version": "1.5.0",
            "value": "Downloading: 100%",
            "_view_count": null,
            "_view_module_version": "1.5.0",
            "description_tooltip": null,
            "_model_module": "@jupyter-widgets/controls",
            "layout": "IPY_MODEL_d2863de18c024a5680bb2c79a434872f"
          }
        },
        "88eea2843521483197760c4e34304173": {
          "model_module": "@jupyter-widgets/controls",
          "model_name": "FloatProgressModel",
          "model_module_version": "1.5.0",
          "state": {
            "_view_name": "ProgressView",
            "style": "IPY_MODEL_cb5427648e22448cb78581d86c0f58fc",
            "_dom_classes": [],
            "description": "",
            "_model_name": "FloatProgressModel",
            "bar_style": "success",
            "max": 798011,
            "_view_module": "@jupyter-widgets/controls",
            "_model_module_version": "1.5.0",
            "value": 798011,
            "_view_count": null,
            "_view_module_version": "1.5.0",
            "orientation": "horizontal",
            "min": 0,
            "description_tooltip": null,
            "_model_module": "@jupyter-widgets/controls",
            "layout": "IPY_MODEL_d6c602fba2c647a8a4189ea984aaad48"
          }
        },
        "48e776f0d7b247c6b3675c56b40ceb29": {
          "model_module": "@jupyter-widgets/controls",
          "model_name": "HTMLModel",
          "model_module_version": "1.5.0",
          "state": {
            "_view_name": "HTMLView",
            "style": "IPY_MODEL_bbb8075a369c44428b5b45fd49556f2b",
            "_dom_classes": [],
            "description": "",
            "_model_name": "HTMLModel",
            "placeholder": "​",
            "_view_module": "@jupyter-widgets/controls",
            "_model_module_version": "1.5.0",
            "value": " 779k/779k [00:00&lt;00:00, 2.38MB/s]",
            "_view_count": null,
            "_view_module_version": "1.5.0",
            "description_tooltip": null,
            "_model_module": "@jupyter-widgets/controls",
            "layout": "IPY_MODEL_9422bf6d6cc642019817c3d2aa366ed3"
          }
        },
        "dfe76ca69c5944fdab34804067cf7d13": {
          "model_module": "@jupyter-widgets/controls",
          "model_name": "DescriptionStyleModel",
          "model_module_version": "1.5.0",
          "state": {
            "_view_name": "StyleView",
            "_model_name": "DescriptionStyleModel",
            "description_width": "",
            "_view_module": "@jupyter-widgets/base",
            "_model_module_version": "1.5.0",
            "_view_count": null,
            "_view_module_version": "1.2.0",
            "_model_module": "@jupyter-widgets/controls"
          }
        },
        "d2863de18c024a5680bb2c79a434872f": {
          "model_module": "@jupyter-widgets/base",
          "model_name": "LayoutModel",
          "model_module_version": "1.2.0",
          "state": {
            "_view_name": "LayoutView",
            "grid_template_rows": null,
            "right": null,
            "justify_content": null,
            "_view_module": "@jupyter-widgets/base",
            "overflow": null,
            "_model_module_version": "1.2.0",
            "_view_count": null,
            "flex_flow": null,
            "width": null,
            "min_width": null,
            "border": null,
            "align_items": null,
            "bottom": null,
            "_model_module": "@jupyter-widgets/base",
            "top": null,
            "grid_column": null,
            "overflow_y": null,
            "overflow_x": null,
            "grid_auto_flow": null,
            "grid_area": null,
            "grid_template_columns": null,
            "flex": null,
            "_model_name": "LayoutModel",
            "justify_items": null,
            "grid_row": null,
            "max_height": null,
            "align_content": null,
            "visibility": null,
            "align_self": null,
            "height": null,
            "min_height": null,
            "padding": null,
            "grid_auto_rows": null,
            "grid_gap": null,
            "max_width": null,
            "order": null,
            "_view_module_version": "1.2.0",
            "grid_template_areas": null,
            "object_position": null,
            "object_fit": null,
            "grid_auto_columns": null,
            "margin": null,
            "display": null,
            "left": null
          }
        },
        "cb5427648e22448cb78581d86c0f58fc": {
          "model_module": "@jupyter-widgets/controls",
          "model_name": "ProgressStyleModel",
          "model_module_version": "1.5.0",
          "state": {
            "_view_name": "StyleView",
            "_model_name": "ProgressStyleModel",
            "description_width": "",
            "_view_module": "@jupyter-widgets/base",
            "_model_module_version": "1.5.0",
            "_view_count": null,
            "_view_module_version": "1.2.0",
            "bar_color": null,
            "_model_module": "@jupyter-widgets/controls"
          }
        },
        "d6c602fba2c647a8a4189ea984aaad48": {
          "model_module": "@jupyter-widgets/base",
          "model_name": "LayoutModel",
          "model_module_version": "1.2.0",
          "state": {
            "_view_name": "LayoutView",
            "grid_template_rows": null,
            "right": null,
            "justify_content": null,
            "_view_module": "@jupyter-widgets/base",
            "overflow": null,
            "_model_module_version": "1.2.0",
            "_view_count": null,
            "flex_flow": null,
            "width": null,
            "min_width": null,
            "border": null,
            "align_items": null,
            "bottom": null,
            "_model_module": "@jupyter-widgets/base",
            "top": null,
            "grid_column": null,
            "overflow_y": null,
            "overflow_x": null,
            "grid_auto_flow": null,
            "grid_area": null,
            "grid_template_columns": null,
            "flex": null,
            "_model_name": "LayoutModel",
            "justify_items": null,
            "grid_row": null,
            "max_height": null,
            "align_content": null,
            "visibility": null,
            "align_self": null,
            "height": null,
            "min_height": null,
            "padding": null,
            "grid_auto_rows": null,
            "grid_gap": null,
            "max_width": null,
            "order": null,
            "_view_module_version": "1.2.0",
            "grid_template_areas": null,
            "object_position": null,
            "object_fit": null,
            "grid_auto_columns": null,
            "margin": null,
            "display": null,
            "left": null
          }
        },
        "bbb8075a369c44428b5b45fd49556f2b": {
          "model_module": "@jupyter-widgets/controls",
          "model_name": "DescriptionStyleModel",
          "model_module_version": "1.5.0",
          "state": {
            "_view_name": "StyleView",
            "_model_name": "DescriptionStyleModel",
            "description_width": "",
            "_view_module": "@jupyter-widgets/base",
            "_model_module_version": "1.5.0",
            "_view_count": null,
            "_view_module_version": "1.2.0",
            "_model_module": "@jupyter-widgets/controls"
          }
        },
        "9422bf6d6cc642019817c3d2aa366ed3": {
          "model_module": "@jupyter-widgets/base",
          "model_name": "LayoutModel",
          "model_module_version": "1.2.0",
          "state": {
            "_view_name": "LayoutView",
            "grid_template_rows": null,
            "right": null,
            "justify_content": null,
            "_view_module": "@jupyter-widgets/base",
            "overflow": null,
            "_model_module_version": "1.2.0",
            "_view_count": null,
            "flex_flow": null,
            "width": null,
            "min_width": null,
            "border": null,
            "align_items": null,
            "bottom": null,
            "_model_module": "@jupyter-widgets/base",
            "top": null,
            "grid_column": null,
            "overflow_y": null,
            "overflow_x": null,
            "grid_auto_flow": null,
            "grid_area": null,
            "grid_template_columns": null,
            "flex": null,
            "_model_name": "LayoutModel",
            "justify_items": null,
            "grid_row": null,
            "max_height": null,
            "align_content": null,
            "visibility": null,
            "align_self": null,
            "height": null,
            "min_height": null,
            "padding": null,
            "grid_auto_rows": null,
            "grid_gap": null,
            "max_width": null,
            "order": null,
            "_view_module_version": "1.2.0",
            "grid_template_areas": null,
            "object_position": null,
            "object_fit": null,
            "grid_auto_columns": null,
            "margin": null,
            "display": null,
            "left": null
          }
        },
        "ef2017f6fca5446fa09b9cc75bcf6baf": {
          "model_module": "@jupyter-widgets/controls",
          "model_name": "HBoxModel",
          "model_module_version": "1.5.0",
          "state": {
            "_view_name": "HBoxView",
            "_dom_classes": [],
            "_model_name": "HBoxModel",
            "_view_module": "@jupyter-widgets/controls",
            "_model_module_version": "1.5.0",
            "_view_count": null,
            "_view_module_version": "1.5.0",
            "box_style": "",
            "layout": "IPY_MODEL_e4227cd4dbf24e50b5303cd8914b476d",
            "_model_module": "@jupyter-widgets/controls",
            "children": [
              "IPY_MODEL_c36d468489eb4cc8ab6bad74e5bd2035",
              "IPY_MODEL_784e61251ccb4ff5833720edace5b3dd",
              "IPY_MODEL_6a18a2fea43f42e78ff48d52302e4d6c"
            ]
          }
        },
        "e4227cd4dbf24e50b5303cd8914b476d": {
          "model_module": "@jupyter-widgets/base",
          "model_name": "LayoutModel",
          "model_module_version": "1.2.0",
          "state": {
            "_view_name": "LayoutView",
            "grid_template_rows": null,
            "right": null,
            "justify_content": null,
            "_view_module": "@jupyter-widgets/base",
            "overflow": null,
            "_model_module_version": "1.2.0",
            "_view_count": null,
            "flex_flow": null,
            "width": null,
            "min_width": null,
            "border": null,
            "align_items": null,
            "bottom": null,
            "_model_module": "@jupyter-widgets/base",
            "top": null,
            "grid_column": null,
            "overflow_y": null,
            "overflow_x": null,
            "grid_auto_flow": null,
            "grid_area": null,
            "grid_template_columns": null,
            "flex": null,
            "_model_name": "LayoutModel",
            "justify_items": null,
            "grid_row": null,
            "max_height": null,
            "align_content": null,
            "visibility": null,
            "align_self": null,
            "height": null,
            "min_height": null,
            "padding": null,
            "grid_auto_rows": null,
            "grid_gap": null,
            "max_width": null,
            "order": null,
            "_view_module_version": "1.2.0",
            "grid_template_areas": null,
            "object_position": null,
            "object_fit": null,
            "grid_auto_columns": null,
            "margin": null,
            "display": null,
            "left": null
          }
        },
        "c36d468489eb4cc8ab6bad74e5bd2035": {
          "model_module": "@jupyter-widgets/controls",
          "model_name": "HTMLModel",
          "model_module_version": "1.5.0",
          "state": {
            "_view_name": "HTMLView",
            "style": "IPY_MODEL_09faae89bd4f481ba4fd1af941ebf3e3",
            "_dom_classes": [],
            "description": "",
            "_model_name": "HTMLModel",
            "placeholder": "​",
            "_view_module": "@jupyter-widgets/controls",
            "_model_module_version": "1.5.0",
            "value": "Downloading: 100%",
            "_view_count": null,
            "_view_module_version": "1.5.0",
            "description_tooltip": null,
            "_model_module": "@jupyter-widgets/controls",
            "layout": "IPY_MODEL_43f720df3dd3411f9e243d3c9f67e68a"
          }
        },
        "784e61251ccb4ff5833720edace5b3dd": {
          "model_module": "@jupyter-widgets/controls",
          "model_name": "FloatProgressModel",
          "model_module_version": "1.5.0",
          "state": {
            "_view_name": "ProgressView",
            "style": "IPY_MODEL_13d6c757bdd44e3ca6454337fcac5f7c",
            "_dom_classes": [],
            "description": "",
            "_model_name": "FloatProgressModel",
            "bar_style": "success",
            "max": 1382015,
            "_view_module": "@jupyter-widgets/controls",
            "_model_module_version": "1.5.0",
            "value": 1382015,
            "_view_count": null,
            "_view_module_version": "1.5.0",
            "orientation": "horizontal",
            "min": 0,
            "description_tooltip": null,
            "_model_module": "@jupyter-widgets/controls",
            "layout": "IPY_MODEL_4349a0d239bb4eaf899aa059f12b1c5a"
          }
        },
        "6a18a2fea43f42e78ff48d52302e4d6c": {
          "model_module": "@jupyter-widgets/controls",
          "model_name": "HTMLModel",
          "model_module_version": "1.5.0",
          "state": {
            "_view_name": "HTMLView",
            "style": "IPY_MODEL_7070f2595ac7499b85594adfd83b9b42",
            "_dom_classes": [],
            "description": "",
            "_model_name": "HTMLModel",
            "placeholder": "​",
            "_view_module": "@jupyter-widgets/controls",
            "_model_module_version": "1.5.0",
            "value": " 1.32M/1.32M [00:00&lt;00:00, 2.37MB/s]",
            "_view_count": null,
            "_view_module_version": "1.5.0",
            "description_tooltip": null,
            "_model_module": "@jupyter-widgets/controls",
            "layout": "IPY_MODEL_f862fc907a3942168ff9345e62a8e463"
          }
        },
        "09faae89bd4f481ba4fd1af941ebf3e3": {
          "model_module": "@jupyter-widgets/controls",
          "model_name": "DescriptionStyleModel",
          "model_module_version": "1.5.0",
          "state": {
            "_view_name": "StyleView",
            "_model_name": "DescriptionStyleModel",
            "description_width": "",
            "_view_module": "@jupyter-widgets/base",
            "_model_module_version": "1.5.0",
            "_view_count": null,
            "_view_module_version": "1.2.0",
            "_model_module": "@jupyter-widgets/controls"
          }
        },
        "43f720df3dd3411f9e243d3c9f67e68a": {
          "model_module": "@jupyter-widgets/base",
          "model_name": "LayoutModel",
          "model_module_version": "1.2.0",
          "state": {
            "_view_name": "LayoutView",
            "grid_template_rows": null,
            "right": null,
            "justify_content": null,
            "_view_module": "@jupyter-widgets/base",
            "overflow": null,
            "_model_module_version": "1.2.0",
            "_view_count": null,
            "flex_flow": null,
            "width": null,
            "min_width": null,
            "border": null,
            "align_items": null,
            "bottom": null,
            "_model_module": "@jupyter-widgets/base",
            "top": null,
            "grid_column": null,
            "overflow_y": null,
            "overflow_x": null,
            "grid_auto_flow": null,
            "grid_area": null,
            "grid_template_columns": null,
            "flex": null,
            "_model_name": "LayoutModel",
            "justify_items": null,
            "grid_row": null,
            "max_height": null,
            "align_content": null,
            "visibility": null,
            "align_self": null,
            "height": null,
            "min_height": null,
            "padding": null,
            "grid_auto_rows": null,
            "grid_gap": null,
            "max_width": null,
            "order": null,
            "_view_module_version": "1.2.0",
            "grid_template_areas": null,
            "object_position": null,
            "object_fit": null,
            "grid_auto_columns": null,
            "margin": null,
            "display": null,
            "left": null
          }
        },
        "13d6c757bdd44e3ca6454337fcac5f7c": {
          "model_module": "@jupyter-widgets/controls",
          "model_name": "ProgressStyleModel",
          "model_module_version": "1.5.0",
          "state": {
            "_view_name": "StyleView",
            "_model_name": "ProgressStyleModel",
            "description_width": "",
            "_view_module": "@jupyter-widgets/base",
            "_model_module_version": "1.5.0",
            "_view_count": null,
            "_view_module_version": "1.2.0",
            "bar_color": null,
            "_model_module": "@jupyter-widgets/controls"
          }
        },
        "4349a0d239bb4eaf899aa059f12b1c5a": {
          "model_module": "@jupyter-widgets/base",
          "model_name": "LayoutModel",
          "model_module_version": "1.2.0",
          "state": {
            "_view_name": "LayoutView",
            "grid_template_rows": null,
            "right": null,
            "justify_content": null,
            "_view_module": "@jupyter-widgets/base",
            "overflow": null,
            "_model_module_version": "1.2.0",
            "_view_count": null,
            "flex_flow": null,
            "width": null,
            "min_width": null,
            "border": null,
            "align_items": null,
            "bottom": null,
            "_model_module": "@jupyter-widgets/base",
            "top": null,
            "grid_column": null,
            "overflow_y": null,
            "overflow_x": null,
            "grid_auto_flow": null,
            "grid_area": null,
            "grid_template_columns": null,
            "flex": null,
            "_model_name": "LayoutModel",
            "justify_items": null,
            "grid_row": null,
            "max_height": null,
            "align_content": null,
            "visibility": null,
            "align_self": null,
            "height": null,
            "min_height": null,
            "padding": null,
            "grid_auto_rows": null,
            "grid_gap": null,
            "max_width": null,
            "order": null,
            "_view_module_version": "1.2.0",
            "grid_template_areas": null,
            "object_position": null,
            "object_fit": null,
            "grid_auto_columns": null,
            "margin": null,
            "display": null,
            "left": null
          }
        },
        "7070f2595ac7499b85594adfd83b9b42": {
          "model_module": "@jupyter-widgets/controls",
          "model_name": "DescriptionStyleModel",
          "model_module_version": "1.5.0",
          "state": {
            "_view_name": "StyleView",
            "_model_name": "DescriptionStyleModel",
            "description_width": "",
            "_view_module": "@jupyter-widgets/base",
            "_model_module_version": "1.5.0",
            "_view_count": null,
            "_view_module_version": "1.2.0",
            "_model_module": "@jupyter-widgets/controls"
          }
        },
        "f862fc907a3942168ff9345e62a8e463": {
          "model_module": "@jupyter-widgets/base",
          "model_name": "LayoutModel",
          "model_module_version": "1.2.0",
          "state": {
            "_view_name": "LayoutView",
            "grid_template_rows": null,
            "right": null,
            "justify_content": null,
            "_view_module": "@jupyter-widgets/base",
            "overflow": null,
            "_model_module_version": "1.2.0",
            "_view_count": null,
            "flex_flow": null,
            "width": null,
            "min_width": null,
            "border": null,
            "align_items": null,
            "bottom": null,
            "_model_module": "@jupyter-widgets/base",
            "top": null,
            "grid_column": null,
            "overflow_y": null,
            "overflow_x": null,
            "grid_auto_flow": null,
            "grid_area": null,
            "grid_template_columns": null,
            "flex": null,
            "_model_name": "LayoutModel",
            "justify_items": null,
            "grid_row": null,
            "max_height": null,
            "align_content": null,
            "visibility": null,
            "align_self": null,
            "height": null,
            "min_height": null,
            "padding": null,
            "grid_auto_rows": null,
            "grid_gap": null,
            "max_width": null,
            "order": null,
            "_view_module_version": "1.2.0",
            "grid_template_areas": null,
            "object_position": null,
            "object_fit": null,
            "grid_auto_columns": null,
            "margin": null,
            "display": null,
            "left": null
          }
        }
      }
    },
    "accelerator": "GPU"
  },
  "nbformat": 4,
  "nbformat_minor": 0
}