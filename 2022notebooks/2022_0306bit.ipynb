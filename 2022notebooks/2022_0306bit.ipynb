{
  "cells": [
    {
      "cell_type": "markdown",
      "metadata": {
        "id": "view-in-github",
        "colab_type": "text"
      },
      "source": [
        "<a href=\"https://colab.research.google.com/github/ShinAsakawa/ShinAsakawa.github.io/blob/master/2022notebooks/2022_0306bit.ipynb\" target=\"_parent\"><img src=\"https://colab.research.google.com/assets/colab-badge.svg\" alt=\"Open In Colab\"/></a>"
      ]
    },
    {
      "cell_type": "code",
      "source": [
        "from IPython import get_ipython\n",
        "isColab =  'google.colab' in str(get_ipython())\n",
        "if isColab:\n",
        "    # 2022_0416 現在 Google colabratory 上にインストールされている Pillow のバージョンが古い。\n",
        "    # そのため，テキスト領域境界ボックス `PIL.ImageDraw.textbbox` が動作しない。\n",
        "    # 最新版の Pillow にアップグレードして，このランタイムをリスタートさせる必要がある\n",
        "    !pip install --upgrade Pillow\n",
        "\n",
        "    !mkdir Noto_JP_fonts\n",
        "    !wget https://noto-website-2.storage.googleapis.com/pkgs/NotoSerifJP.zip\n",
        "    !wget https://noto-website-2.storage.googleapis.com/pkgs/NotoSansJP.zip\n",
        "    !unzip NotoSerifJP.zip -d Noto_JP_fonts\n",
        "    !unzip -o NotoSansJP.zip -d Noto_JP_fonts  # `-o` means overwrite \n",
        "    !rm NotoSerifJP.zip NotoSansJP.zip"
      ],
      "metadata": {
        "id": "7MYTokimG-2B"
      },
      "id": "7MYTokimG-2B",
      "execution_count": null,
      "outputs": []
    },
    {
      "cell_type": "markdown",
      "id": "7fb26716-914c-431b-a971-6f743ca0f391",
      "metadata": {
        "id": "7fb26716-914c-431b-a971-6f743ca0f391"
      },
      "source": [
        "- Google の TrueType fonts である Noto fonts を使っている。を用いて，日本語フォントをハンドリングしている。\n",
        "現在，使用可能なフォント名は以下の通りである:\n",
        "\n",
        "['NotoSansJP-Black', 'NotoSansJP-Bold',  'NotoSansJP-Light',  'NotoSansJP-Medium',  'NotoSansJP-Regular',  'NotoSansJP-Thin',\n",
        " 'NotoSerifJP-Black', 'NotoSerifJP-Bold',  'NotoSerifJP-ExtraLight',  'NotoSerifJP-Light',  'NotoSerifJP-Medium',  'NotoSerifJP-Regular',  'NotoSerifJP-SemiBold']\n",
        "\n",
        "日本語フォント名としては，`San` はゴチック，`Serif` は明朝と呼ばれているフォントに近い。\n",
        "\n",
        "### オリジナル図版を表示するには，以下のようにする:\n",
        "\n",
        "```python\n",
        "!git clone https://github.com/ShinAsakawa/bit\n",
        "\n",
        "from bit import BIT\n",
        "bit = BIT()\n",
        "\n",
        "bit.show_original_image(task='line_bisection')\n",
        "```\n",
        "\n",
        "ここで `task` には，以下の 4 種が指定可能である。['line_bisection', 'line_erasion',  'letter_erasion',  'star_erasion']\n",
        "\n",
        "## BIT tasks implemented: \n",
        "\n",
        "- 線分二等分テスト line bisection \n",
        "- 線分抹消テスト line cancellation\n",
        "- 文字抹消テスト letter cancellation\n",
        "- 星印抹消テスト star cancellation\n",
        "\n",
        "- source: https://strokengine.ca/en/assessments/behavioral-inattention-test-bit/\n",
        "\n",
        "* **線分抹消課題 line crossing**: ページ上のすべての線を検出して消すことが求められる。\n",
        "検査者は中央の列にある 4 本の線のうち，2 本を消すことで課題の内容を患者に示し，次に患者にページ上に見えるすべ\n",
        "ての線を消すように指示する。\n",
        "* **文字抹消課題 letter cancellation** : 紙と鉛筆を使用した検査で，患者は妨害刺激である文字の埋め込まれた画像\n",
        "から指定された標的文字を走査して探し出し，消去することが求められる。\n",
        "一枚の刺激図版には 34個 の大文字が 5 列に並んでいる。\n",
        "40 個の標的刺激は，ページの両側に同数ずつ配置されている。\n",
        "各文字の高さは 6 mmで、2 mmの間隔で配置されています。\n",
        "* **星印抹消課題 star cancellation**: 言語および非言語刺激のランダムな配列で構成される。\n",
        "52 個の大きな星 (14mm)，ランダムに配置された 13 個の文字，19 個の短い (3-4文字) 単語が，56 個の小さな星 (8mm) \n",
        "の中に散りばめられており，この小さな星印が標的刺激となる。\n",
        "患者は小さな星をすべて抹消するように指示される。\n",
        "* 図と形の模写:  被検査者はページの左側に描かれた 3 つの単純な絵をコピーするよう求められる。\n",
        "3 つの絵 (四角い星，立方体，デイジー) は縦に配置されており，患者に明確に示される。\n",
        "* 2 番目のテストでは、別の刺激シートに提示された 3 つの幾何学的図形の群を模写することが求められる。\n",
        "前の項目とは異なり，ページの内容は患者に指摘されない。\n",
        "* **線分二等分課題 line bisection**:  患者は水平線の中点を推定して示すことを求められる。\n",
        "左無視の患者は，真の中心よりも右側の中間点を選択することが予想される。\n",
        "それぞれの患者には 8 インチの太さ 1 mmの黒い水平線が 3 本，階段状に表示されている。\n",
        "それぞれの線の範囲は，患者にはっきりと指摘され，患者は中心をマークするように指示される。\n",
        "\n",
        "#### 文献\n",
        "\n",
        "- Halligan, P., Cockburn, J., Wilson, B. (1991). The Behavioural Assessment of Visual Neglect. Neuropsychological Rehabilitation 1, 5-32.\n",
        "- 石合純夫代表 日本版差規制委員会 (1999) BIT 行動性無視検査日本版，新興医学出版社，東京\n"
      ]
    },
    {
      "cell_type": "code",
      "source": [
        "%load_ext autoreload\n",
        "%autoreload 2\n",
        "\n",
        "!if [ -d bit ]; then rm -rf bit; fi\n",
        "!git clone https://github.com/ShinAsakawa/bit\n",
        "from bit import BIT\n",
        "bit = BIT()\n",
        "bit.show_original_image(task='line_bisection')\n",
        "print(bit.__doc__)"
      ],
      "metadata": {
        "id": "kpAi9_PjBJzG"
      },
      "id": "kpAi9_PjBJzG",
      "execution_count": null,
      "outputs": []
    },
    {
      "cell_type": "code",
      "execution_count": 2,
      "id": "85ab092b-b04e-42f1-a155-dd1153ad35af",
      "metadata": {
        "id": "85ab092b-b04e-42f1-a155-dd1153ad35af"
      },
      "outputs": [],
      "source": [
        "import os\n",
        "import sys\n",
        "import numpy as np\n",
        "\n",
        "import matplotlib.pyplot as plt"
      ]
    },
    {
      "cell_type": "code",
      "execution_count": null,
      "id": "0365a3f1-20aa-41ff-8173-640e9fcabab5",
      "metadata": {
        "id": "0365a3f1-20aa-41ff-8173-640e9fcabab5"
      },
      "outputs": [],
      "source": [
        "#bit.show_original_image(task='star_erasion')\n",
        "#bit.tasks\n",
        "bit.set_new_canvas()\n",
        "bit.write_text_on_self_canvas('本日天気晴朗ナレドモ波高シ',fg_color='teal', fontsize=128, bbox=True)\n",
        "#plt.imshow(bit.canvas)\n",
        "bit.dislay_self_canvas()"
      ]
    },
    {
      "cell_type": "code",
      "source": [
        "# modified from `https://stackoverflow.com/questions/7698231/pil-draw-multiline-text-on-image`\n",
        "from PIL import Image, ImageDraw, ImageFont\n",
        "\n",
        "img = Image.new(\"RGB\", (800, 600))\n",
        "draw = ImageDraw.Draw(img)\n",
        "\n",
        "if True:\n",
        "    bbox_fill = None\n",
        "    bbox_outline = (255, 0, 0)\n",
        "else:\n",
        "    bbox_fill = (0, 0, 0)\n",
        "    bbox_outline = None\n",
        "\n",
        "    \n",
        "font = ImageFont.truetype(\"Noto_JP_fonts/NotoSansJP-Bold.otf\", 16)\n",
        "draw.text((10, 20), \"ImageDraw.multiline_text/.multiline_textsize\", font=font)\n",
        "draw.text((10, 170), \"ImageDraw.multiline_text/.textbbox\", font=font)\n",
        "draw.text((10, 320), \"ImageDraw.multiline_text/.textbbox with Adjust\", font=font)\n",
        "    \n",
        "for text, fontname, x in [(\"日本語も\\n可能なり\", \"Noto_JP_fonts/NotoSansJP-Bold.otf\", 350)]:\n",
        "#for text, fontname, x in [(\"A\", \"ITCBLKAD.TTF\", 250), (\"A\\nj\", \"ITCBLKAD.TTF\", 300), (\"日本語も\\n可能なり\", \"Noto_JP_fonts/NotoSansJP-Bold.otf\", 350)]:\n",
        "    font = ImageFont.truetype(fontname, 40)\n",
        "\n",
        "    tl = (x, 50)\n",
        "    draw.multiline_text(tl, text, font=font)\n",
        "    sz = draw.multiline_textsize(text, font=font)\n",
        "    draw.rectangle((tl, (tl[0] + sz[0], tl[1] + sz[1])), fill=bbox_fill, outline=bbox_outline)\n",
        "    draw.line((tl, (tl[0], tl[1] - 5)))\n",
        "\n",
        "    tl = (x, 200)\n",
        "    draw.multiline_text(tl, text, font=font)\n",
        "    bbox = draw.multiline_textbbox(tl, text, font=font)\n",
        "    draw.rectangle(bbox, fill=bbox_fill, outline=bbox_outline)\n",
        "    draw.line((tl, (tl[0], tl[1] - 5)))\n",
        "\n",
        "    tl = (x, 350)\n",
        "    bbox = draw.multiline_textbbox((0, 0), text, font=font)\n",
        "    draw.multiline_text((tl[0] - bbox[0], tl[1] - bbox[1]), text, font=font)\n",
        "    draw.rectangle(((tl[0], tl[1]), (tl[0] + bbox[2] - bbox[0], tl[1] + bbox[3] - bbox[1])), fill=bbox_fill, outline=bbox_outline)\n",
        "    draw.line(((tl[0], tl[1] - 5), (tl[0], tl[1]), (tl[0] - 5, tl[1])))\n",
        "\n",
        "img"
      ],
      "metadata": {
        "id": "vRGqjD5bFaOu"
      },
      "id": "vRGqjD5bFaOu",
      "execution_count": null,
      "outputs": []
    },
    {
      "cell_type": "code",
      "execution_count": null,
      "id": "5fdbf274-a74c-4421-9a2d-e22b0829724b",
      "metadata": {
        "id": "5fdbf274-a74c-4421-9a2d-e22b0829724b"
      },
      "outputs": [],
      "source": [
        "#sorted(bit.fontnames)\n",
        "img = bit.make_a_letter_cancellation_image(fontname='NotoSerifJP-Black')\n",
        "plt.figure(figsize=(12,10))\n",
        "plt.imshow(img)"
      ]
    },
    {
      "cell_type": "code",
      "execution_count": 7,
      "id": "95024dfc-19a1-433a-991f-81e9196bc0a7",
      "metadata": {
        "colab": {
          "base_uri": "https://localhost:8080/"
        },
        "id": "95024dfc-19a1-433a-991f-81e9196bc0a7",
        "outputId": "80e8b66f-00bc-4ac9-8c19-3e0c2ace6887"
      },
      "outputs": [
        {
          "output_type": "stream",
          "name": "stdout",
          "text": [
            "None\n"
          ]
        }
      ],
      "source": [
        "print(bit.hira_select())"
      ]
    },
    {
      "cell_type": "code",
      "execution_count": 8,
      "id": "082624d6-bd65-4bc7-8729-a62ffb508cb1",
      "metadata": {
        "id": "082624d6-bd65-4bc7-8729-a62ffb508cb1"
      },
      "outputs": [],
      "source": [
        "import os\n",
        "#?os.path.abspath\n",
        "?bit"
      ]
    },
    {
      "cell_type": "code",
      "execution_count": 9,
      "id": "768b90fc-0182-430d-803d-3512de458693",
      "metadata": {
        "id": "768b90fc-0182-430d-803d-3512de458693"
      },
      "outputs": [],
      "source": [
        "#help(bit)\n",
        "#[x for x in bit.fontdata]\n",
        "#print(list(PIL.ImageColor.colormap))\n",
        "#print(np.random.choice(bit.colornames))\n",
        "\n",
        "#bit.draw_a_bisecition_lines()\n",
        "#print(dir(bit))"
      ]
    },
    {
      "cell_type": "code",
      "execution_count": null,
      "id": "a1a1de92-dfde-4f23-8ed8-f74e092578fd",
      "metadata": {
        "id": "a1a1de92-dfde-4f23-8ed8-f74e092578fd"
      },
      "outputs": [],
      "source": [
        "import matplotlib.pyplot as plt\n",
        "#img = bit.make_a_letter_cancellation_image()\n",
        "\n",
        "#help(bit.make_a_letter_cancellation_image)\n",
        "#help(bit.set_font)\n",
        "for i, fontname in enumerate(bit.fontdata):\n",
        "    #print(f'fontname:{fontname}')\n",
        "    #img = bit.make_a_letter_cancellation_image() # fontname=fontname)\n",
        "    img = bit.make_a_letter_cancellation_image(fontname=fontname, fg_color='rand')\n",
        "\n",
        "    #plt.figure(figsize=(8,4))\n",
        "    plt.figure(figsize=(12,10))\n",
        "    plt.imshow(img)\n",
        "    if i >= 8:\n",
        "        break\n",
        "    "
      ]
    },
    {
      "cell_type": "code",
      "execution_count": null,
      "id": "ab00e4d3-8a0f-47c0-9bd0-bc7715c0dc73",
      "metadata": {
        "id": "ab00e4d3-8a0f-47c0-9bd0-bc7715c0dc73"
      },
      "outputs": [],
      "source": [
        "#print(dir(bit))\n",
        "#bit.set_font('NotoSerifJP-Bold')\n",
        "#bit.draw_bisection_lines()\n",
        "imgs = bit.make_line_bisection_task_images()\n",
        "print(type(imgs))"
      ]
    },
    {
      "cell_type": "code",
      "execution_count": null,
      "id": "352e80c2-04c8-4192-acdb-c7cb29bb3ed1",
      "metadata": {
        "id": "352e80c2-04c8-4192-acdb-c7cb29bb3ed1"
      },
      "outputs": [],
      "source": [
        "draw = ImageDraw.Draw(imgs[0])\n",
        "font = ImageFont.truetype(bit.fontdata['NotoSerifJP-Bold']['fname'], size=512)\n",
        "draw.text((1000,1009), text='ほげー', fill='black', font=font)\n",
        "plt.imshow(imgs[0])\n"
      ]
    },
    {
      "cell_type": "code",
      "execution_count": null,
      "id": "bc2f5abc-06ac-4b77-9af0-f20e5a224ed9",
      "metadata": {
        "id": "bc2f5abc-06ac-4b77-9af0-f20e5a224ed9"
      },
      "outputs": [],
      "source": [
        "#help(ImageFont.truetype)\n",
        "bit.fontdata"
      ]
    },
    {
      "cell_type": "code",
      "execution_count": null,
      "id": "5142d7a5-4713-4b85-8eda-cdde548664aa",
      "metadata": {
        "id": "5142d7a5-4713-4b85-8eda-cdde548664aa"
      },
      "outputs": [],
      "source": [
        "bit.show_original_image(task='star_erasion')\n",
        "bit.show_original_image(task='line_erasion')\n",
        "bit.show_original_image(task='letter_erasion')\n",
        "#bit.tasks\n",
        "#img = bit.draw_text()\n",
        "#plt.imshow(img)\n",
        "#bit.show_original_image()"
      ]
    },
    {
      "cell_type": "code",
      "execution_count": null,
      "id": "49853de4-4218-475c-8ee1-f4037377fb75",
      "metadata": {
        "id": "49853de4-4218-475c-8ee1-f4037377fb75"
      },
      "outputs": [],
      "source": [
        "#bit.fontdata\n",
        "bit.fontdata['NotoSerifJP-Bold']"
      ]
    },
    {
      "cell_type": "code",
      "execution_count": null,
      "id": "3824fa71-2e27-4b0e-a6fd-7596706a535f",
      "metadata": {
        "id": "3824fa71-2e27-4b0e-a6fd-7596706a535f"
      },
      "outputs": [],
      "source": [
        "import PIL\n",
        "from PIL import Image\n",
        "from PIL import ImageDraw\n",
        "from PIL import ImageFont\n",
        "import matplotlib.pyplot as plt\n",
        "\n",
        "img = Image.new('RGB', (bit._width, bit._height), (255,255,255))\n",
        "draw = ImageDraw.Draw(img)\n",
        "draw.text((1000,1000),text=\"abcd\",fill='black') # , font=bit.fontdata['NotoSerifJP-Bold'])"
      ]
    },
    {
      "cell_type": "code",
      "execution_count": 17,
      "id": "282f0ad5-3183-4fb5-8d3e-52a4cd1ea40d",
      "metadata": {
        "colab": {
          "base_uri": "https://localhost:8080/",
          "height": 287
        },
        "id": "282f0ad5-3183-4fb5-8d3e-52a4cd1ea40d",
        "outputId": "d73399e2-f06d-495e-c210-3a364f2e92f2"
      },
      "outputs": [
        {
          "output_type": "execute_result",
          "data": {
            "text/plain": [
              "<matplotlib.image.AxesImage at 0x7f243a1ddb50>"
            ]
          },
          "metadata": {},
          "execution_count": 17
        },
        {
          "output_type": "display_data",
          "data": {
            "text/plain": [
              "<Figure size 432x288 with 1 Axes>"
            ],
            "image/png": "[encoded data removed]"
          },
          "metadata": {
            "needs_background": "light"
          }
        }
      ],
      "source": [
        "plt.imshow(img)"
      ]
    },
    {
      "cell_type": "markdown",
      "id": "8c807536-81c7-4b9c-87ba-91741264c4fc",
      "metadata": {
        "id": "8c807536-81c7-4b9c-87ba-91741264c4fc"
      },
      "source": [
        "- source: [Object Detection, Instance Segmentation and Person Keypoint Detection](https://pytorch.org/vision/stable/models.html#object-detection-instance-segmentation-and-person-keypoint-detection)\n",
        "\n",
        "検出，実体分割，キーポイント検出のための事前学習済みモデルは，torchvision の分類モデルで初期化される。\n",
        "<!-- The pre-trained models for detection, instance segmentation and keypoint detection are initialized with the classification models in torchvision.-->\n",
        "\n",
        "モデルへの入力には 0-1 の範囲の `Tensor[C, H, W]` のリストが期待されている。\n",
        "モデル内部で画像のリサイズを行う。\n",
        "だが，その動作はモデルによって異なる。\n",
        "詳細はモデルのコンストラクタを参照のこと。\n",
        "これらモデルの出力形式は，[実体分割モデル](https://pytorch.org/vision/stable/auto_examples/plot_visualization_utils.html#instance-seg-output) で説明されている。\n",
        "<!-- The models expect a list of Tensor[C, H, W], in the range 0-1. The models internally resize the images but the behaviour varies depending on the model. Check the constructor of the models for more information. The output format of such models is illustrated in Instance segmentation models. -->\n",
        "\n",
        "物体検出とインスタンス分割の場合，事前に学習されたモデルは以下のクラスの予測値を返す。\n",
        "<!-- For object detection and instance segmentation, the pre-trained models return the predictions of the following classes: -->"
      ]
    },
    {
      "cell_type": "markdown",
      "id": "d4f4fd92-72db-4678-af6f-c26f6b26599f",
      "metadata": {
        "id": "d4f4fd92-72db-4678-af6f-c26f6b26599f"
      },
      "source": [
        "## [実体分割モデル Instance segmentation models](https://pytorch.org/vision/stable/auto_examples/plot_visualization_utils.html#instance-seg-output)\n",
        "\n",
        "実体分割モデルは，意味分割モデルとは大きく異なる出力を持つ。\n",
        "ここでは，そのようなモデルのマスクをプロットする方法を見ることにする。\n",
        "まず Mask-RCNN モデルの出力を分析することから始めよう。\n",
        "これらのモデルは画像を正規化する必要がないので，正規化されたバッチを使用する必要がないことに注意。\n",
        "<!-- Instance segmentation models have a significantly different output from the semantic segmentation models. \n",
        "We will see here how to plot the masks for such models. \n",
        "Let’s start by analyzing the output of a Mask-RCNN model. \n",
        "Note that these models don’t require the images to be normalized, so we don’t need to use the normalized batch.\n",
        "-->\n",
        "\n",
        "注:\n",
        "\n",
        "ここでは Mask-RCNN モデルの出力について説明する。\n",
        "[物体検出，実体分割，人物キーポイント検出](https://pytorch.org/vision/stable/models.html#object-det-inst-seg-pers-keypoint-det) のモデルは，どれも似たような出力形式だが，中には `keypointrcnn_resnet50_fpn()` のようにキーポイントのような余計な情報を持っていたり `fasterrcnn_resnet50_fpn()` のようにマスクを持たなかったりするものもある。\n",
        "<!-- We will here describe the output of a Mask-RCNN model. \n",
        "The models in [Object Detection, Instance Segmentation and Person Keypoint Detection] all have a similar output format, but some of them may have extra info like keypoints for keypointrcnn_resnet50_fpn(), and some of them may not have masks, like `fasterrcnn_resnet50_fpn()`.\n",
        "-->\n",
        "\n",
        "```python\n",
        "from torchvision.models.detection import maskrcnn_resnet50_fpn\n",
        "model = maskrcnn_resnet50_fpn(pretrained=True, progress=False)\n",
        "model = model.eval()\n",
        "\n",
        "output = model(batch)\n",
        "print(output)\n",
        "```\n",
        "\n",
        "```bash\n",
        "Downloading: \"https://download.pytorch.org/models/maskrcnn_resnet50_fpn_coco-bf2d0c1e.pth\" to /root/.cache/torch/hub/checkpoints/maskrcnn_resnet50_fpn_coco-bf2d0c1e.pth\n",
        "[{'boxes': tensor([[219.7444, 168.1722, 400.7379, 384.0263],\n",
        "        [343.9716, 171.2287, 358.3447, 222.6263],\n",
        "        [301.0303, 192.6917, 313.8879, 232.3154]], grad_fn=<StackBackward0>), 'labels': tensor([18,  1,  1]), 'scores': tensor([0.9987, 0.7187, 0.6525], grad_fn=<IndexBackward0>), 'masks': tensor([[[[0., 0., 0.,  ..., 0., 0., 0.],\n",
        "          [0., 0., 0.,  ..., 0., 0., 0.],\n",
        "          [0., 0., 0.,  ..., 0., 0., 0.],\n",
        "```\n",
        "\n",
        "上記を分解，解説してみる。\n",
        "バッチ内の各画像に対して，モデルはいくつかの検出値 (または実体) を出力する。\n",
        "検出数は入力画像ごとに異なる。\n",
        "各実体は，バウンディングボックス，ラベル，スコア，マスクによって記述される。\n",
        "<!-- Let’s break this down. \n",
        "For each image in the batch, the model outputs some detections (or instances). \n",
        "The number of detections varies for each input image. Each instance is described by its bounding box, its label, its score and its mask.-->\n",
        "\n",
        "出力の構成は以下の通りである。\n",
        "出力は，長さ `batch_size` 分のリストである。\n",
        "リストの各エントリは入力画像に対応し，キー 'boxes', 'labels', 'scores', および 'masks' を持つ 辞書 である。\n",
        "これらのキーに関連付けられた各値は，その中に `num_instances` 個の要素を持つ。\n",
        "上例では 1 枚目の画像で 3 つの実体が検出され，2 枚目の画像では 2 つの実体が検出されている。\n",
        "<!--\n",
        "The way the output is organized is as follows: \n",
        "the output is a list of length batch_size. \n",
        "Each entry in the list corresponds to an input image, and it is a dict with keys ‘boxes’, ‘labels’, ‘scores’, and ‘masks’. \n",
        "Each value associated to those keys has num_instances elements in it. \n",
        "In our case above there are 3 instances detected in the first image, and 2 instances in the second one.\n",
        "-->\n",
        "\n",
        "ボックスは上記のように [draw_bounding_boxes()](https://pytorch.org/vision/stable/generated/torchvision.utils.draw_bounding_boxes.html#torchvision.utils.draw_bounding_boxes) でプロットすることができるが，ここではマスクの方に興味がある。\n",
        "これらのマスクは，上で見た意味分割モデルのマスクとは全く異なる。\n",
        "<!-- The boxes can be plotted with draw_bounding_boxes() as above, but here we’re more interested in the masks. \n",
        "These masks are quite different from the masks that we saw above for the semantic segmentation models. -->\n",
        "\n",
        "```python\n",
        "dog1_output = output[0]\n",
        "dog1_masks = dog1_output['masks']\n",
        "print(f\"shape = {dog1_masks.shape}, dtype = {dog1_masks.dtype}, \"\n",
        "      f\"min = {dog1_masks.min()}, max = {dog1_masks.max()}\")\n",
        "```\n",
        "\n",
        "上の出力は 以下のごとくである:\n",
        "\n",
        "```bash\n",
        "shape = torch.Size([3, 1, 500, 500]), dtype = torch.float32, min = 0.0, max = 0.9999862909317017\n",
        "```\n",
        "\n",
        "ここで，マスクは各画素について，その実体の予測されたラベルに属する可能性がどの程度あるかを示す確率に対応するものである。\n",
        "これらの予測されたラベルは，同じ出力辞書の ‘labels' 要素に対応する。\n",
        "最初の画像の実体に対して，どのラベルが予測されたかを見てみよう。\n",
        "<!-- Here the masks corresponds to probabilities indicating, for each pixel, how likely it is to belong to the predicted label of that instance. \n",
        "Those predicted labels correspond to the ‘labels’ element in the same output dict. \n",
        "Let’s see which labels were predicted for the instances of the first image.-->\n",
        "\n",
        "```python\n",
        "# https://github.com/amikelive/coco-labels を参考に日本語訳したもの 全 91 種類\n",
        "inst_classes = [\n",
        "    '__background__', 'person', 'bicycle', 'car', 'motorcycle', 'airplane', 'bus',\n",
        "    'train', 'truck', 'boat', 'traffic light', 'fire hydrant', 'N/A', 'stop sign',\n",
        "    'parking meter', 'bench', 'bird', 'cat', 'dog', 'horse', 'sheep', 'cow',\n",
        "    'elephant', 'bear', 'zebra', 'giraffe', 'N/A', 'backpack', 'umbrella', 'N/A', 'N/A',\n",
        "    'handbag', 'tie', 'suitcase', 'frisbee', 'skis', 'snowboard', 'sports ball',\n",
        "    'kite', 'baseball bat', 'baseball glove', 'skateboard', 'surfboard', 'tennis racket',\n",
        "    'bottle', 'N/A', 'wine glass', 'cup', 'fork', 'knife', 'spoon', 'bowl',\n",
        "    'banana', 'apple', 'sandwich', 'orange', 'broccoli', 'carrot', 'hot dog', 'pizza',\n",
        "    'donut', 'cake', 'chair', 'couch', 'potted plant', 'bed', 'N/A', 'dining table',\n",
        "    'N/A', 'N/A', 'toilet', 'N/A', 'tv', 'laptop', 'mouse', 'remote', 'keyboard', 'cell phone',\n",
        "    'microwave', 'oven', 'toaster', 'sink', 'refrigerator', 'N/A', 'book',\n",
        "    'clock', 'vase', 'scissors', 'teddy bear', 'hair drier', 'toothbrush'\n",
        "]\n",
        "\n",
        "CLASSES = [\n",
        "    '背景',                                                       # 0\n",
        "    '人', '自転車', '車', 'バイク', '飛行機',                        # [01-05]\n",
        "    'バス', '電車', 'トラック','ボート', '信号機',                    # [06-10]\n",
        "    '消火栓', '道路標識', '停止サイン', 'パーキングメーター', 'ベンチ',   # [11-15]\n",
        "    '鳥', '猫', '犬', '馬', '羊',                                   # [16-20]\n",
        "    '牛', 'ゾウ', '熊',  'シマウマ', 'キリン',                        # [21-25]\n",
        "    '帽子', 'リュックサック', '傘', '靴', 'メガネ',                    # [26-30]\n",
        "    'ハンドバッグ',  'ネクタイ', 'スーツケース', 'フリスビー', 'スキー',   # [31-35\n",
        "    'スノーボード','スポーツボール','凧', '野球バット', '野球グローブ',    # [36-40]\n",
        "    'スケートボード', 'サーフボード', 'テニスラケット', 'ボトル', '皿',    # [41-45]\n",
        "     'ワイングラス', 'カップ', 'フォーク', 'ナイフ', 'スプーン',          # [46-50]\n",
        "    'ボウル', 'バナナ', 'りんご', 'サンドイッチ', 'オレンジ',            # [51-55]\n",
        "    'ブロッコリー', 'ニンジン', 'ホットドッグ', 'ピザ', 'ドーナツ',      # [56-60]\n",
        "    'ケーキ', '椅子', 'ソファ', '鉢植え', 'ベッド',                   # [51-65]\n",
        "    '鏡', 'ダイニングテーブル', '窓', 'デスク', 'トイレ',              # [66-70]\n",
        "    'ドア', 'テレビ', 'ノートパソコン', 'マウス', 'リモコン',          # [71-75]\n",
        "    'キーボード',  '携帯電話', '電子レンジ', 'コンロ', 'トースター',    # [76-80]\n",
        "    '洗面台', '冷蔵庫', 'ミキサー', '本', '時計',                    # [81-85]\n",
        "    '花瓶', 'ハサミ', 'テディベア', 'ドライヤー', '歯ブラシ']          # [85-90]\n",
        "\n",
        "# DETR のサンプルプログラムを借用\n",
        "COLORS = [[0.000, 0.447, 0.741], [0.850, 0.325, 0.098], [0.929, 0.694, 0.125],\n",
        "          [0.494, 0.184, 0.556], [0.466, 0.674, 0.188], [0.301, 0.745, 0.933]]\n",
        "\n",
        "COLORS = COLORS * 100\n",
        "inst_class_to_idx = {cls: idx for (idx, cls) in enumerate(inst_classes)}\n",
        "\n",
        "print(\"For the first dog, the following instances were detected:\")\n",
        "print([inst_classes[label] for label in dog1_output['labels']])\n",
        "```\n",
        "\n",
        "出力例は以下の通り\n",
        "\n",
        "```\n",
        "For the first dog, the following instances were detected:\n",
        "['dog', 'person', 'person']\n",
        "```\n",
        "\n",
        "興味深いことに，このモデルは画像から 2 人の人物を検出している。\n",
        "それでは，これらのマスクをプロットしてみよう。\n",
        "[draw_segmentation_masks()](https://pytorch.org/vision/stable/generated/torchvision.utils.draw_segmentation_masks.html#torchvision.utils.draw_segmentation_masks) は ブール型のマスクを期待するので，これらの確率をブール値に変換する必要がある。\n",
        "これらのマスクの意味は，「この画素が予測されたクラスに属する可能性はどの程度か」ということであることを記銘せよ。\n",
        "結果として，これらのマスクをブール値に変換する自然な方法は，0.5 の確率で閾値を設定することである (別の閾値を選択することも可能)。\n",
        "<!-- Interestingly, the model detects two persons in the image. \n",
        "Let’s go ahead and plot those masks. \n",
        "Since `draw_segmentation_masks()` expects boolean masks, we need to convert those probabilities into boolean values. \n",
        "Remember that the semantic of those masks is “How likely is this pixel to belong to the predicted class?”. \n",
        "As a result, a natural way of converting those masks into boolean values is to threshold them with the 0.5 probability (one could also choose a different threshold).\n",
        "-->\n",
        "\n",
        "```python\n",
        "proba_threshold = 0.5\n",
        "dog1_bool_masks = dog1_output['masks'] > proba_threshold\n",
        "print(f\"shape = {dog1_bool_masks.shape}, dtype = {dog1_bool_masks.dtype}\")\n",
        "\n",
        "# マスクには余分な次元 (1) があるので，それを除去する必要がある\n",
        "# There's an extra dimension (1) to the masks. We need to remove it\n",
        "dog1_bool_masks = dog1_bool_masks.squeeze(1)\n",
        "\n",
        "show(draw_segmentation_masks(dog1_int, dog1_bool_masks, alpha=0.9))\n",
        "```\n"
      ]
    },
    {
      "cell_type": "code",
      "execution_count": null,
      "id": "6424b30e-adff-413f-bc13-9f0dc8190661",
      "metadata": {
        "id": "6424b30e-adff-413f-bc13-9f0dc8190661"
      },
      "outputs": [],
      "source": [
        "import torch\n",
        "import torchvision\n",
        "from torchvision.models.detection import FasterRCNN\n",
        "from torchvision.models.detection.rpn import AnchorGenerator\n",
        "\n",
        "# 分類のための訓練済モデルをロード，特徴だけ使う\n",
        "# load a pre-trained model for classification and return only the features\n",
        "backbone = torchvision.models.mobilenet_v2(pretrained=True).features\n",
        "\n",
        "# Faster-RCNN はバックボーンの出力チャンネル数を知る必要がある\n",
        "# mobilenet_v2 の場合 1280\n",
        "# FasterRCNN needs to know the number of output channels in a backbone. \n",
        "# For mobilenet_v2, it's 1280 so we need to add it here\n",
        "backbone.out_channels = 1280\n",
        "\n",
        "# RPN で空間位置ごとに 5×3 のアンカーを生成させ，大きさは 5 種類，縦横比は 3 種類としよう。\n",
        "# 各特徴地図は異なるサイズとアスペクト比を持つ可能性があるため，Tuple[Tuple[int]] を用意した。\n",
        "# let's make the RPN generate 5 x 3 anchors per spatial location, with 5 different sizes and 3 different aspect ratios. \n",
        "# We have a Tuple[Tuple[int]] because each feature map could potentially have different sizes and aspect ratios\n",
        "anchor_generator = AnchorGenerator(sizes=((32, 64, 128, 256, 512),),\n",
        "                                   aspect_ratios=((0.5, 1.0, 2.0),))\n",
        "\n",
        "# 関心領域の切り出しに使用する特徴地図と，再スケール後の切り出しサイズを定義しておこう。\n",
        "# バックボーンが Tensor を返す場合，`featuremap_names` は ['0’] であることが期待される。\n",
        "# より一般的には バックボーンは OrderedDict[Tensor] を返す。`featuremap_names` で使用する特徴地図を選択できる。\n",
        "# let's define what are the feature maps that we will use to perform the region of interest cropping, as well as the size of the crop after rescaling.\n",
        "# if your backbone returns a Tensor, featmap_names is expected to be ['0']. \n",
        "# More generally, the backbone should return an OrderedDict[Tensor], and in featmap_names you can choose which feature maps to use.\n",
        "roi_pooler = torchvision.ops.MultiScaleRoIAlign(featmap_names=['0'],\n",
        "                                                output_size=7,\n",
        "                                                sampling_ratio=2)\n",
        "\n",
        "# FasterRCNN モデル内にピースをまとめる\n",
        "# put the pieces together inside a FasterRCNN model\n",
        "model = FasterRCNN(backbone,\n",
        "                   num_classes=2,\n",
        "                   rpn_anchor_generator=anchor_generator,\n",
        "                   box_roi_pool=roi_pooler)\n",
        "model.eval()\n",
        "x = [torch.rand(3, 300, 400), torch.rand(3, 500, 400)]\n",
        "predictions = model(x)"
      ]
    },
    {
      "cell_type": "code",
      "execution_count": 19,
      "id": "89014d3d-c9ba-48aa-8d25-02942442d309",
      "metadata": {
        "colab": {
          "base_uri": "https://localhost:8080/"
        },
        "id": "89014d3d-c9ba-48aa-8d25-02942442d309",
        "outputId": "4ad544b1-f062-449d-e4a2-df9b570ebf63"
      },
      "outputs": [
        {
          "output_type": "stream",
          "name": "stdout",
          "text": [
            "dict_keys(['boxes', 'labels', 'scores'])\n",
            "dict_keys(['boxes', 'labels', 'scores'])\n"
          ]
        }
      ],
      "source": [
        "print(predictions[0].keys())\n",
        "print(predictions[1].keys())"
      ]
    },
    {
      "cell_type": "code",
      "execution_count": null,
      "id": "cf081cd5-f158-4a4a-8eb3-676c90d2af88",
      "metadata": {
        "id": "cf081cd5-f158-4a4a-8eb3-676c90d2af88"
      },
      "outputs": [],
      "source": [
        "predictions[1]"
      ]
    },
    {
      "cell_type": "code",
      "execution_count": null,
      "id": "ebeb7c49-f416-4c3e-8b70-428c2786b78c",
      "metadata": {
        "id": "ebeb7c49-f416-4c3e-8b70-428c2786b78c"
      },
      "outputs": [],
      "source": [
        ""
      ]
    }
  ],
  "metadata": {
    "kernelspec": {
      "display_name": "Python 3 (ipykernel)",
      "language": "python",
      "name": "python3"
    },
    "language_info": {
      "codemirror_mode": {
        "name": "ipython",
        "version": 3
      },
      "file_extension": ".py",
      "mimetype": "text/x-python",
      "name": "python",
      "nbconvert_exporter": "python",
      "pygments_lexer": "ipython3",
      "version": "3.9.12"
    },
    "colab": {
      "name": "2022_0306bit.ipynb",
      "provenance": [],
      "collapsed_sections": [],
      "include_colab_link": true
    }
  },
  "nbformat": 4,
  "nbformat_minor": 5
}