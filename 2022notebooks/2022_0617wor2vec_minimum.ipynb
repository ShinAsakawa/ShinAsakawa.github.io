{
  "nbformat": 4,
  "nbformat_minor": 0,
  "metadata": {
    "colab": {
      "name": "2022_0617wor2vec_minimum.ipynb",
      "provenance": [],
      "include_colab_link": true
    },
    "kernelspec": {
      "name": "python3",
      "display_name": "Python 3"
    }
  },
  "cells": [
    {
      "cell_type": "markdown",
      "metadata": {
        "id": "view-in-github",
        "colab_type": "text"
      },
      "source": [
        "<a href=\"https://colab.research.google.com/github/ShinAsakawa/ShinAsakawa.github.io/blob/master/2022notebooks/2022_0617wor2vec_minimum.ipynb\" target=\"_parent\"><img src=\"https://colab.research.google.com/assets/colab-badge.svg\" alt=\"Open In Colab\"/></a>"
      ]
    },
    {
      "cell_type": "markdown",
      "source": [
        "# 最低限の word2vec \n",
        "- date: 2022_0617\n",
        "- author: 浅川伸一 \n",
        "- filename: `2022_0617wor2vec_minimum.ipynb`\n",
        "\n",
        "<center>\n",
        "<img src=\"https://ShinAsakawa.github.io/assets/2013Mikolov_skip-gram_cbow.svg\" width=\"88%\"><br/>\n",
        "</center>\n",
        "\n",
        "\n"
      ],
      "metadata": {
        "id": "WydSoCH_PUy2"
      }
    },
    {
      "metadata": {
        "id": "7l_REyUQPvKU"
      },
      "cell_type": "code",
      "source": [
        "import numpy as np\n",
        "import os\n",
        "import sys\n",
        "import time\n",
        "import gensim\n",
        "\n",
        "import IPython\n",
        "isColab = 'google.colab' in str(IPython.get_ipython())\n",
        "if isColab:\n",
        "    # word2vec の訓練済モデルを入手\n",
        "    !wget http://www.cis.twcu.ac.jp/~asakawa/2017jpa/2017Jul_jawiki-wakati_neologd_hid200_win20_neg20_cbow.bin.gz\n",
        "    #!wget http://www.cis.twcu.ac.jp/~asakawa/2017jpa/2017Jul_jawiki-wakati_neologd_hid200_win20_neg20_sgns.bin.gz\n",
        "    #!wget http://www.cis.twcu.ac.jp/~asakawa/2017jpa/2017Jul_jawiki-wakati_neologd_hid300_win20_neg20_sgns.bin.gz\n",
        "    #!wget http://www.cis.twcu.ac.jp/~asakawa/2017jpa/2017Jul_jawiki-wakati_neologd_hid200_win20_neg20_cbow.bin.gz\n",
        "\n",
        "if isColab:\n",
        "    word2vec_file='2017Jul_jawiki-wakati_neologd_hid200_win20_neg20_cbow.bin.gz'\n",
        "else:\n",
        "    word2vec_file='../../2016wikipedia/2017Jul_jawiki-wakati_neologd_hid200_win20_neg20_cbow.bin.gz'\n",
        "w2v = gensim.models.KeyedVectors.load_word2vec_format(word2vec_file, \n",
        "                                                      encoding='utf-8',\n",
        "                                                      unicode_errors='replace',\n",
        "                                                      binary=True)\n",
        "\n",
        "\n",
        "# 読み込んだモデルは日本語モデルなので日本語で検討\n",
        "w2v.most_similar(positive=['王','女'], negative=['男'], topn=10)"
      ],
      "execution_count": null,
      "outputs": []
    },
    {
      "cell_type": "code",
      "source": [
        "# 2 単語のコサイン類似度を返す\n",
        "w2v.similarity('男','女')"
      ],
      "metadata": {
        "colab": {
          "base_uri": "https://localhost:8080/"
        },
        "id": "X4ruVQCxF0Mf",
        "outputId": "dafb9227-b0c5-4754-f92e-1a6c2f9b7138"
      },
      "execution_count": 3,
      "outputs": [
        {
          "output_type": "execute_result",
          "data": {
            "text/plain": [
              "0.8894287"
            ]
          },
          "metadata": {},
          "execution_count": 3
        }
      ]
    },
    {
      "cell_type": "code",
      "source": [
        ""
      ],
      "metadata": {
        "id": "ptFimJbvPTTG"
      },
      "execution_count": null,
      "outputs": []
    }
  ]
}