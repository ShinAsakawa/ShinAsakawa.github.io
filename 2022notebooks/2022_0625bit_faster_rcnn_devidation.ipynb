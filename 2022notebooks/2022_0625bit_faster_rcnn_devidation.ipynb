{
  "cells": [
    {
      "cell_type": "markdown",
      "metadata": {
        "id": "view-in-github",
        "colab_type": "text"
      },
      "source": [
        "<a href=\"https://colab.research.google.com/github/ShinAsakawa/ShinAsakawa.github.io/blob/master/2022notebooks/2022_0625bit_faster_rcnn_devidation.ipynb\" target=\"_parent\"><img src=\"https://colab.research.google.com/assets/colab-badge.svg\" alt=\"Open In Colab\"/></a>"
      ]
    },
    {
      "cell_type": "code",
      "source": [
        "%config InlineBackend.figure_format = 'retina'\n",
        "try:\n",
        "    import ipynbname\n",
        "except ImportError:\n",
        "    !pip install ipynbname > /dev/null\n",
        "!git clone https://github.com/ShinAsakawa/bit\n",
        "\n",
        "import bit\n",
        "isColab = a_utils.isColab"
      ],
      "metadata": {
        "id": "c7Nz_MkiD9wY"
      },
      "id": "c7Nz_MkiD9wY",
      "execution_count": null,
      "outputs": []
    },
    {
      "cell_type": "code",
      "execution_count": null,
      "id": "a3d7a7a9-e468-46a1-b51f-4980a5126969",
      "metadata": {
        "id": "a3d7a7a9-e468-46a1-b51f-4980a5126969"
      },
      "outputs": [],
      "source": [
        "import os\n",
        "import sys\n",
        "import shutil\n",
        "import typing\n",
        "import cv2\n",
        "import glob\n",
        "from tqdm.notebook import tqdm\n",
        "\n",
        "if isColab:\n",
        "    from PIL import ImageFont\n",
        "    from glob import glob\n",
        "\n",
        "    !pip install pycocotools --quiet\n",
        "    !git clone https://github.com/pytorch/vision.git\n",
        "    !git checkout v0.3.0\n",
        "\n",
        "    # Download TorchVision repo to use some files from references/detection\n",
        "    # os.symlink(src,dst) にした方が良いかも\n",
        "    !cp vision/references/detection/utils.py ./\n",
        "    !cp vision/references/detection/transforms.py ./\n",
        "    !cp vision/references/detection/coco_eval.py ./\n",
        "    !cp vision/references/detection/engine.py ./\n",
        "    !cp vision/references/detection/coco_utils.py ./\n",
        "    \n",
        "    !pip install japanize_matplotlib\n",
        "    #!pip install albumentataions  # 2022_0604 一時的に中断 colab でエラー発生のため\n",
        "    \n",
        "    # 自作ライブラリ\n",
        "    !git clone https://github.com/ShinAsakawa/bit.git\n",
        "\n",
        "    # Noto fonts のダウンロードとインストール\n",
        "    !mkdir Noto_JP_fonts\n",
        "    !wget https://noto-website-2.storage.googleapis.com/pkgs/NotoSerifJP.zip\n",
        "    !wget https://noto-website-2.storage.googleapis.com/pkgs/NotoSansJP.zip\n",
        "    !unzip NotoSerifJP.zip -d Noto_JP_fonts\n",
        "    !unzip -o NotoSansJP.zip -d Noto_JP_fonts  # `-o` means overwrite \n",
        "    !mv Noto_JP_fonts bit\n",
        "    !mkdir data\n",
        "    \n",
        "    noto_font_dir = './bit/Noto_JP_fonts'\n",
        "    notofonts_fnames = glob(os.path.join(noto_font_dir,'*otf'))\n",
        "    notofonts = {fname.split('/')[-1].split('.')[0]:{'fname':fname} for fname in notofonts_fnames}\n",
        "    for fontname in notofonts.keys():\n",
        "        notofonts[fontname]['data'] = ImageFont.truetype(notofonts[fontname]['fname'])\n",
        "else:\n",
        "    # 自分のリポジトリからシンボリックリンクで代用\n",
        "    for file in ['engine.py', 'utils.py', 'coco_utils.py', 'transforms.py', 'coco_eval.py']:\n",
        "        if not os.path.exists(file):\n",
        "            _file = os.path.join('../2020pytorch_vision.git/reference/detection/', file)\n",
        "            !ln -s ../2020pytorch_vision.git/references/detection/engine.py .\n",
        "            !ln -s ../2020pytorch_vision.git/references/detection/utils.py .\n",
        "            !ln -s ../2020pytorch_vision.git/references/detection/coco_utils.py .\n",
        "            !ln -s ../2020pytorch_vision.git/references/detection/transforms.py .\n",
        "            !ln -s ../2020pytorch_vision.git/references/detection/coco_eval.py .\n",
        "            \n",
        "            \n",
        "# https://github.com/amikelive/coco-labels を参考に日本語訳したもの 全 91 種類\n",
        "CLASSES = [\n",
        "    '背景',                                                       # 0\n",
        "    '人', '自転車', '車', 'バイク', '飛行機',                        # [01-05]\n",
        "    'バス', '電車', 'トラック','ボート', '信号機',                    # [06-10]\n",
        "    '消火栓', '道路標識', '停止サイン', 'パーキングメーター', 'ベンチ',   # [11-15]\n",
        "    '鳥', '猫', '犬', '馬', '羊',                                   # [16-20]\n",
        "    '牛', 'ゾウ', '熊',  'シマウマ', 'キリン',                        # [21-25]\n",
        "    '帽子', 'リュックサック', '傘', '靴', 'メガネ',                    # [26-30]\n",
        "    'ハンドバッグ',  'ネクタイ', 'スーツケース', 'フリスビー', 'スキー',   # [31-35\n",
        "    'スノーボード','スポーツボール','凧', '野球バット', '野球グローブ',    # [36-40]\n",
        "    'スケートボード', 'サーフボード', 'テニスラケット', 'ボトル', '皿',    # [41-45]\n",
        "     'ワイングラス', 'カップ', 'フォーク', 'ナイフ', 'スプーン',          # [46-50]\n",
        "    'ボウル', 'バナナ', 'りんご', 'サンドイッチ', 'オレンジ',            # [51-55]\n",
        "    'ブロッコリー', 'ニンジン', 'ホットドッグ', 'ピザ', 'ドーナツ',      # [56-60]\n",
        "    'ケーキ', '椅子', 'ソファ', '鉢植え', 'ベッド',                   # [51-65]\n",
        "    '鏡', 'ダイニングテーブル', '窓', 'デスク', 'トイレ',              # [66-70]\n",
        "    'ドア', 'テレビ', 'ノートパソコン', 'マウス', 'リモコン',          # [71-75]\n",
        "    'キーボード',  '携帯電話', '電子レンジ', 'コンロ', 'トースター',    # [76-80]\n",
        "    '洗面台', '冷蔵庫', 'ミキサー', '本', '時計',                    # [81-85]\n",
        "    '花瓶', 'ハサミ', 'テディベア', 'ドライヤー', '歯ブラシ']          # [85-90]\n",
        "\n",
        "# DETR のサンプルプログラムを借用\n",
        "COLORS = [[0.000, 0.447, 0.741], [0.850, 0.325, 0.098], [0.929, 0.694, 0.125],\n",
        "          [0.494, 0.184, 0.556], [0.466, 0.674, 0.188], [0.301, 0.745, 0.933]]\n",
        "COLORS = COLORS * 100"
      ]
    },
    {
      "cell_type": "code",
      "execution_count": 6,
      "id": "5f14db71-0bd6-4883-806d-e4f35a1060f2",
      "metadata": {
        "id": "5f14db71-0bd6-4883-806d-e4f35a1060f2"
      },
      "outputs": [],
      "source": [
        "# ライブラリのインポート\n",
        "import os\n",
        "import random\n",
        "import numpy as np\n",
        "\n",
        "import matplotlib.pyplot as plt\n",
        "import matplotlib.patches as patches\n",
        "try:\n",
        "    import japanize_matplotlib\n",
        "except ImportError:\n",
        "    !pip install japanize_matplotlib\n",
        "    import japanize_matplotlib\n",
        "    \n",
        "\n",
        "# torchvision ライブラリ\n",
        "import torch\n",
        "import torchvision\n",
        "from torchvision import transforms as torchtrans  \n",
        "from torchvision.models.detection.faster_rcnn import FastRCNNPredictor\n",
        "#from torchvision.models.detection import fasterrcnn_resnet50_fpn\n",
        "\n",
        "# ヘルパライブラリをインポート\n",
        "from engine import train_one_epoch, evaluate\n",
        "import utils\n",
        "import transforms as T"
      ]
    },
    {
      "cell_type": "code",
      "execution_count": 7,
      "id": "bef7ea43-5522-4199-b5d0-ae0797b2f716",
      "metadata": {
        "id": "bef7ea43-5522-4199-b5d0-ae0797b2f716"
      },
      "outputs": [],
      "source": [
        "from bit import BIT\n",
        "\n",
        "if isColab:\n",
        "    bit = BIT(fontdata=notofonts)\n",
        "else:\n",
        "    bit = BIT()"
      ]
    },
    {
      "cell_type": "code",
      "execution_count": null,
      "id": "d816a52c-d8f7-4120-90d5-a0255843e282",
      "metadata": {
        "id": "d816a52c-d8f7-4120-90d5-a0255843e282"
      },
      "outputs": [],
      "source": [
        "bit.show_original_image()"
      ]
    },
    {
      "cell_type": "code",
      "execution_count": 9,
      "id": "2a424bdf-c1ea-4d8e-a81d-a4a7cbf3ac1b",
      "metadata": {
        "id": "2a424bdf-c1ea-4d8e-a81d-a4a7cbf3ac1b",
        "colab": {
          "base_uri": "https://localhost:8080/",
          "height": 498,
          "referenced_widgets": [
            "36e9402ba7ea418080b5582b6774359c",
            "08f890086ea84d8db2b298aeac587851",
            "07a48e18adf24b338a901ffcdf864774",
            "cbf91c5d991d486eaf513705ceddc724",
            "bfa7e65aaca64c22a8a1df0098887be7",
            "0b2fa6e1c9294563a837bdb372af4b85",
            "dd94f995d88b4451b1e6dd52097d449a",
            "83933f9b8f294b068e9c54f703bf41bc",
            "4b0dc6d222864214909f9ecb74e8e838",
            "60d3287ff7f84b008b1adb52ea98753d",
            "f9e0f700bc1a4819bf2cb3210aee1c2c"
          ]
        },
        "outputId": "67d4e1bd-6227-4db7-da7f-fc8856690db0"
      },
      "outputs": [
        {
          "output_type": "stream",
          "name": "stderr",
          "text": [
            "Downloading: \"https://download.pytorch.org/models/fasterrcnn_resnet50_fpn_coco-258fb6c6.pth\" to /root/.cache/torch/hub/checkpoints/fasterrcnn_resnet50_fpn_coco-258fb6c6.pth\n"
          ]
        },
        {
          "output_type": "display_data",
          "data": {
            "text/plain": [
              "  0%|          | 0.00/160M [00:00<?, ?B/s]"
            ],
            "application/vnd.jupyter.widget-view+json": {
              "version_major": 2,
              "version_minor": 0,
              "model_id": "36e9402ba7ea418080b5582b6774359c"
            }
          },
          "metadata": {}
        },
        {
          "output_type": "stream",
          "name": "stdout",
          "text": [
            "変換前 model.roi_heads:RoIHeads(\n",
            "  (box_roi_pool): MultiScaleRoIAlign(featmap_names=['0', '1', '2', '3'], output_size=(7, 7), sampling_ratio=2)\n",
            "  (box_head): TwoMLPHead(\n",
            "    (fc6): Linear(in_features=12544, out_features=1024, bias=True)\n",
            "    (fc7): Linear(in_features=1024, out_features=1024, bias=True)\n",
            "  )\n",
            "  (box_predictor): FastRCNNPredictor(\n",
            "    (cls_score): Linear(in_features=1024, out_features=91, bias=True)\n",
            "    (bbox_pred): Linear(in_features=1024, out_features=364, bias=True)\n",
            "  )\n",
            ")\n",
            "変換後 model.roi_heads:RoIHeads(\n",
            "  (box_roi_pool): MultiScaleRoIAlign(featmap_names=['0', '1', '2', '3'], output_size=(7, 7), sampling_ratio=2)\n",
            "  (box_head): TwoMLPHead(\n",
            "    (fc6): Linear(in_features=12544, out_features=1024, bias=True)\n",
            "    (fc7): Linear(in_features=1024, out_features=1024, bias=True)\n",
            "  )\n",
            "  (box_predictor): FastRCNNPredictor(\n",
            "    (cls_score): Linear(in_features=1024, out_features=49, bias=True)\n",
            "    (bbox_pred): Linear(in_features=1024, out_features=196, bias=True)\n",
            "  )\n",
            ")\n",
            "num_classes:49, bit.symbols:['<background>', '<line>', '★', 'あ', 'い', 'う', 'え', 'お', 'か', 'き', 'く', 'け', 'こ', 'さ', 'し', 'す', 'せ', 'そ', 'た', 'ち', 'つ', 'て', 'と', 'な', 'に', 'ぬ', 'ね', 'の', 'は', 'ひ', 'ふ', 'へ', 'ほ', 'ま', 'み', 'む', 'め', 'も', 'や', 'ゆ', 'よ', 'ら', 'り', 'る', 'れ', 'ろ', 'わ', 'を', 'ん']\n"
          ]
        }
      ],
      "source": [
        "def get_object_detection_model(num_classes):\n",
        "    \"\"\"see https://pytorch.org/tutorials/intermediate/torchvision_tutorial.html\"\"\"\n",
        "    # MS-COCO で事前に学習させたモデルを読み込み\n",
        "    model = torchvision.models.detection.fasterrcnn_resnet50_fpn(pretrained=True)\n",
        "\n",
        "    # 分類器の入力特徴数の取得\n",
        "    in_features = model.roi_heads.box_predictor.cls_score.in_features\n",
        "    print(f'変換前 model.roi_heads:{model.roi_heads}')\n",
        "\n",
        "    # 事前学習済頭部を新しいものに置き換え\n",
        "    model.roi_heads.box_predictor = FastRCNNPredictor(in_features, num_classes) \n",
        "    print(f'変換後 model.roi_heads:{model.roi_heads}')\n",
        "\n",
        "    return model\n",
        "\n",
        "num_classes = len(bit.symbols)\n",
        "bit_model = get_object_detection_model(num_classes)\n",
        "print(f'num_classes:{num_classes}, bit.symbols:{bit.symbols}')\n",
        "#bit_model.roi_heads"
      ]
    },
    {
      "cell_type": "code",
      "source": [
        "# ユーティリティ関数群を輸入するための Google Drive の認証をする準備\n",
        "!pip install -U -q PyDrive\n",
        "from pydrive.auth import GoogleAuth\n",
        "\n",
        "from pydrive.drive import GoogleDrive\n",
        "from pydrive.auth import GoogleAuth\n",
        "from pydrive.drive import GoogleDrive\n",
        "from google.colab import auth\n",
        "from oauth2client.client import GoogleCredentials"
      ],
      "metadata": {
        "id": "mQwkkJ2mHYli"
      },
      "id": "mQwkkJ2mHYli",
      "execution_count": 11,
      "outputs": []
    },
    {
      "cell_type": "code",
      "source": [
        "# 認証キーを取得してください。komazawa-u.ac.jp のアカウントである必要があります。\n",
        "auth.authenticate_user()\n",
        "gauth = GoogleAuth()\n",
        "gauth.credentials = GoogleCredentials.get_application_default()\n",
        "drive = GoogleDrive(gauth)"
      ],
      "metadata": {
        "id": "dyOF9MUvHbmx"
      },
      "id": "dyOF9MUvHbmx",
      "execution_count": 12,
      "outputs": []
    },
    {
      "cell_type": "code",
      "source": [
        "# Google Drive から zip ファイルを取得します\n",
        "#https://drive.google.com/file/d/1ZgBrtZixree4YnXsRiQK6IRXreHdILzd/view?usp=sharing\n",
        "download = drive.CreateFile({'id': '1ZgBrtZixree4YnXsRiQK6IRXreHdILzd'})\n",
        "download.GetContentFile('2022_0620fine_tuned_bit_line_bisection.cpt')"
      ],
      "metadata": {
        "id": "LjYVcOc6HuSM"
      },
      "id": "LjYVcOc6HuSM",
      "execution_count": 13,
      "outputs": []
    },
    {
      "cell_type": "code",
      "execution_count": 14,
      "id": "7f7dc021-7f3b-4bbc-b6d1-2cccc1845022",
      "metadata": {
        "id": "7f7dc021-7f3b-4bbc-b6d1-2cccc1845022",
        "outputId": "e2019c7c-52cc-42d8-fa32-d58d8971052c",
        "colab": {
          "base_uri": "https://localhost:8080/"
        }
      },
      "outputs": [
        {
          "output_type": "execute_result",
          "data": {
            "text/plain": [
              "<All keys matched successfully>"
            ]
          },
          "metadata": {},
          "execution_count": 14
        }
      ],
      "source": [
        "pretrained_fname = '2022_0620fine_tuned_bit_line_bisection.cpt'\n",
        "bit_model.load_state_dict(torch.load(pretrained_fname)['model'])"
      ]
    },
    {
      "cell_type": "code",
      "execution_count": 15,
      "id": "fa7ce229-cf5e-464c-ba5f-91d891d7c457",
      "metadata": {
        "id": "fa7ce229-cf5e-464c-ba5f-91d891d7c457"
      },
      "outputs": [],
      "source": [
        "images, bboxes = bit.make_line_bisection_task_images(N=1, n_lines=3)\n",
        "img = images[0] "
      ]
    },
    {
      "cell_type": "code",
      "execution_count": null,
      "id": "65630e2a-232f-4d59-b052-64bfff7cad58",
      "metadata": {
        "id": "65630e2a-232f-4d59-b052-64bfff7cad58"
      },
      "outputs": [],
      "source": [
        "plt.figure(figsize=(8,8))\n",
        "plt.axis('off')\n",
        "plt.imshow(img);"
      ]
    },
    {
      "cell_type": "code",
      "execution_count": 20,
      "id": "aa781520-f3c1-4baa-942c-d0b7cd695d25",
      "metadata": {
        "id": "aa781520-f3c1-4baa-942c-d0b7cd695d25"
      },
      "outputs": [],
      "source": [
        "import PIL\n",
        "\n",
        "def apply_nms(orig_prediction, iou_thresh=0.3):\n",
        "    \n",
        "    keep = torchvision.ops.nms(orig_prediction['boxes'], orig_prediction['scores'], iou_thresh)\n",
        "    final_prediction = orig_prediction\n",
        "    final_prediction['boxes'] = final_prediction['boxes'][keep]\n",
        "    final_prediction['scores'] = final_prediction['scores'][keep]\n",
        "    final_prediction['labels'] = final_prediction['labels'][keep]\n",
        "    return final_prediction\n",
        "\n",
        "\n",
        "def torch_to_pil(img):\n",
        "    \"\"\"torchtensor を PIL 画像に変換する関数\"\"\"\n",
        "    return torchtrans.ToPILImage()(img).convert('RGB')\n",
        "\n",
        "\n",
        "def plot_img_bbox(img, target, title=None):\n",
        "    \"\"\"画像中のバウンディングボックスを可視化する関数\"\"\"\n",
        "    # バウンディングボックスは以下のように定義されます: x-min y-min 幅 高さ\n",
        "    fig, ax = plt.subplots(1,1)\n",
        "    fig.set_size_inches(7,7)\n",
        "    ax.imshow(img)\n",
        "    print(target)\n",
        "    \n",
        "    for box in target['boxes']:\n",
        "        x, y, width, height  = box[0], box[1], box[2]-box[0], box[3]-box[1]\n",
        "        rect = patches.Rectangle((x, y),\n",
        "                                 width, height,\n",
        "                                 linewidth = 4,\n",
        "                                 edgecolor = 'red',\n",
        "                                 facecolor = 'none')\n",
        "\n",
        "        # 画像上にバウンディングボックスを描画 # Draw the bounding box on top of the image\n",
        "        ax.add_patch(rect)\n",
        "        \n",
        "    if title != None:\n",
        "        ax.set_title(title)\n",
        "    plt.show()\n",
        "    \n",
        "    \n",
        "def draw_center_mark(img_pt:torch.Tensor=None,\n",
        "                     prediction:dict=None,\n",
        "                     check_mark_offset:int=6,\n",
        "                     check_mark_width:int=4,\n",
        "                     check_mark_color:tuple=(0,255,0),\n",
        "                     title=None,\n",
        "                     img:PIL.Image=None,\n",
        "                    ):\n",
        "\n",
        "    if img == None:\n",
        "        img = torch_to_pil(img_pt)\n",
        "    _draw = PIL.ImageDraw.Draw(img)\n",
        "\n",
        "    boxes = prediction['boxes']\n",
        "    for box in boxes:\n",
        "        left, top, right, bottom = box.clone().numpy()\n",
        "        #print(left,top,right,bottom)\n",
        "        h_center = int((right - left)/2 + left)\n",
        "        v_center = int((bottom - top)/2 + top)\n",
        "    \n",
        "        x0 = h_center - check_mark_offset\n",
        "        y0 = v_center - check_mark_offset\n",
        "        x1 = h_center + check_mark_offset\n",
        "        y1 = v_center + check_mark_offset\n",
        "        _draw.line(xy=[(x0,y0),(x1,y1)], fill=check_mark_color, width=check_mark_width, joint=None)\n",
        "    \n",
        "    return img, _draw\n",
        "    "
      ]
    },
    {
      "cell_type": "code",
      "execution_count": 21,
      "id": "ebb6a5f8-d0dc-4127-9d9e-a0cdf5ea1578",
      "metadata": {
        "id": "ebb6a5f8-d0dc-4127-9d9e-a0cdf5ea1578",
        "outputId": "57a5022d-3493-4088-9e6b-944fc2257474",
        "colab": {
          "base_uri": "https://localhost:8080/"
        }
      },
      "outputs": [
        {
          "output_type": "stream",
          "name": "stdout",
          "text": [
            "{'boxes': tensor([[ 23.4070, 130.5566, 182.8368, 140.1834],\n",
            "        [ 25.0321,  59.6141, 186.2895,  69.2280]]), 'labels': tensor([1, 1]), 'scores': tensor([0.9991, 0.9989])}\n"
          ]
        }
      ],
      "source": [
        "device = torch.device('cuda') if torch.cuda.is_available() else torch.device('cpu')\n",
        "\n",
        "\n",
        "def make_a_prediction(n_lines:int=3):\n",
        "    images, bboxes = bit.make_line_bisection_task_images(N=1, n_lines=n_lines)\n",
        "    img = images[0] \n",
        "    img_rgb = cv2.cvtColor(np.array(img), cv2.COLOR_BGR2RGB).astype(np.float32)\n",
        "    img_res = cv2.resize(img_rgb, (224, 224), cv2.INTER_AREA)\n",
        "    img_res /= 255.0\n",
        "    img_pt = torch.Tensor(img_res).permute(2,0,1)\n",
        "\n",
        "    bit_model.eval()\n",
        "    with torch.no_grad():\n",
        "        prediction = bit_model([img_pt.to(device)])[0]\n",
        "        \n",
        "    return img, img_pt, prediction\n",
        "    \n",
        "    \n",
        "def make_a_stim_then_predict(n_lines:int=3,\n",
        "                             verbose:bool=False,\n",
        "                             isDraw:bool=False,\n",
        "                            ):\n",
        "\n",
        "    img, img_pt, prediction = make_a_prediction(n_lines=n_lines)\n",
        "    if verbose:\n",
        "        plot_img_bbox(torch_to_pil(img_pt), \n",
        "                      {'boxes':bboxes[0]}, title=\"正解\")\n",
        "\n",
        "    _img, _draw = draw_center_mark(img_pt=img_pt, prediction=prediction, \n",
        "                                   check_mark_width=2,\n",
        "                                   check_mark_color='red')\n",
        "    if isDraw:\n",
        "        plt.figure(figsize=(7,7))\n",
        "        plt.title('モデル')\n",
        "        plt.imshow(_img)\n",
        "        plt.show()\n",
        "    return prediction, _img, _draw\n",
        "    \n",
        "prediction, img, draw = make_a_stim_then_predict()\n",
        "print(prediction)"
      ]
    },
    {
      "cell_type": "code",
      "source": [
        "img, _draw = draw_center_mark(img_pt=img_pt, prediction=prediction, check_mark_color='red')\n",
        "plt.figure(figsize=(7,7))\n",
        "plt.title('モデル')\n",
        "plt.imshow(_img); \n"
      ],
      "metadata": {
        "id": "P12AE7pfJZ2U"
      },
      "id": "P12AE7pfJZ2U",
      "execution_count": null,
      "outputs": []
    },
    {
      "cell_type": "code",
      "source": [
        "device = torch.device('cuda') if torch.cuda.is_available() else torch.device('cpu')\n",
        "\n",
        "images, bboxes = bit.make_line_bisection_task_images(N=1, n_lines=3)\n",
        "img = images[0] \n",
        "img_rgb = cv2.cvtColor(np.array(img), cv2.COLOR_BGR2RGB).astype(np.float32)\n",
        "img_res = cv2.resize(img_rgb, (224, 224), cv2.INTER_AREA)\n",
        "img_res /= 255.0\n",
        "img_pt = torch.Tensor(img_res).permute(2,0,1)\n",
        "#img_pt = torch.Tensor(img).permute(2,0,1)\n",
        "#img_pt = torch.Tensor(np.array(img)/255).permute(2,0,1)\n",
        "\n",
        "bit_model.eval()\n",
        "with torch.no_grad():\n",
        "    prediction = bit_model([img_pt.to(device)])[0]\n",
        "    \n",
        "#plot_img_bbox(torch_to_pil(img_pt), {'boxes':bboxes[0]}, title=\"グランドトルース\")\n",
        "#nms_prediction = apply_nms(prediction, iou_thresh=0.01)\n",
        "plot_img_bbox(torch_to_pil(img_pt), prediction, title=\"モデル予測\")\n",
        "#nms_prediction = apply_nms(prediction, iou_thresh=0.01)\n",
        "#plot_img_bbox(torch_to_pil(img_pt), nms_prediction, title=\"モデル予測\")"
      ],
      "metadata": {
        "colab": {
          "base_uri": "https://localhost:8080/",
          "height": 498
        },
        "id": "Y_FLfho6JUrj",
        "outputId": "eaeeb774-262b-42e2-f30c-b5feb870239e"
      },
      "id": "Y_FLfho6JUrj",
      "execution_count": 34,
      "outputs": [
        {
          "output_type": "stream",
          "name": "stdout",
          "text": [
            "{'boxes': tensor([[ 16.4224,  82.1376, 181.6965,  91.7548],\n",
            "        [ 24.7220,  64.2064, 189.7571,  73.7632],\n",
            "        [ 24.8122,  43.2432, 187.9827,  52.6979]]), 'labels': tensor([1, 1, 1]), 'scores': tensor([0.9964, 0.9959, 0.9952])}\n"
          ]
        },
        {
          "output_type": "display_data",
          "data": {
            "text/plain": [
              "<Figure size 504x504 with 1 Axes>"
            ],
            "image/png": "[encoded data removed]"
          },
          "metadata": {
            "image/png": {
              "width": 420,
              "height": 427
            },
            "needs_background": "light"
          }
        }
      ]
    },
    {
      "cell_type": "code",
      "execution_count": null,
      "id": "df94098d-7aa0-42d3-8ab8-eab7a61f662a",
      "metadata": {
        "id": "df94098d-7aa0-42d3-8ab8-eab7a61f662a"
      },
      "outputs": [],
      "source": [
        "_img, _draw = draw_center_mark(img_pt=img_pt, prediction=prediction, check_mark_color='red')\n",
        "plt.figure(figsize=(7,7))\n",
        "plt.title('モデル')\n",
        "plt.imshow(_img)    \n"
      ]
    },
    {
      "cell_type": "code",
      "execution_count": 31,
      "id": "8b6b76aa-93c2-44de-bf1b-d4ff4b3ccfe1",
      "metadata": {
        "id": "8b6b76aa-93c2-44de-bf1b-d4ff4b3ccfe1",
        "outputId": "0de89c47-c981-4b6d-f25d-89b69559815f",
        "colab": {
          "base_uri": "https://localhost:8080/",
          "height": 450
        }
      },
      "outputs": [
        {
          "output_type": "execute_result",
          "data": {
            "text/plain": [
              "<matplotlib.image.AxesImage at 0x7fdce0d8b3d0>"
            ]
          },
          "metadata": {},
          "execution_count": 31
        },
        {
          "output_type": "display_data",
          "data": {
            "text/plain": [
              "<Figure size 504x504 with 1 Axes>"
            ],
            "image/png": "[encoded data removed]"
          },
          "metadata": {
            "image/png": {
              "width": 420,
              "height": 415
            },
            "needs_background": "light"
          }
        }
      ],
      "source": [
        "def draw_center_mark(img_pt:torch.Tensor=None,\n",
        "                     prediction:dict=None,\n",
        "                     check_mark_offset:int=6,\n",
        "                     check_mark_width:int=4,\n",
        "                     check_mark_color:tuple=(0,255,0),\n",
        "                    ):\n",
        "                     \n",
        "    _img = torch_to_pil(img_pt)\n",
        "    _draw = PIL.ImageDraw.Draw(_img)\n",
        "\n",
        "    boxes = prediction['boxes']\n",
        "    for box in boxes:\n",
        "        left, top, right, bottom = box.clone().numpy()\n",
        "        #print(left,top,right,bottom)\n",
        "        h_center = int((right - left)/2 + left)\n",
        "        v_center = int((bottom - top)/2 + top)\n",
        "    \n",
        "        x0 = h_center - check_mark_offset\n",
        "        y0 = v_center - check_mark_offset\n",
        "        x1 = h_center + check_mark_offset\n",
        "        y1 = v_center + check_mark_offset\n",
        "        _draw.line(xy=[(x0,y0),(x1,y1)], fill=check_mark_color, width=check_mark_width, joint=None)\n",
        "        #print(h_center, v_center)\n",
        "    #print(boxes)  \n",
        "    \n",
        "    return _img, _draw\n",
        "\n",
        "_img, _draw = draw_center_mark(img_pt=img_pt, prediction=prediction)\n",
        "plt.figure(figsize=(7,7))\n",
        "plt.imshow(_img)    \n",
        "    "
      ]
    },
    {
      "cell_type": "code",
      "execution_count": null,
      "id": "82971581-ee66-4b58-8118-560f596a35c1",
      "metadata": {
        "id": "82971581-ee66-4b58-8118-560f596a35c1",
        "outputId": "1511158d-dc66-44c2-b1eb-cfead5c3fde4"
      },
      "outputs": [
        {
          "data": {
            "text/plain": [
              "dict"
            ]
          },
          "execution_count": 101,
          "metadata": {},
          "output_type": "execute_result"
        }
      ],
      "source": [
        "type(prediction)"
      ]
    },
    {
      "cell_type": "code",
      "execution_count": null,
      "id": "fb54fc75-b18e-4662-b910-9db67ed271d7",
      "metadata": {
        "id": "fb54fc75-b18e-4662-b910-9db67ed271d7"
      },
      "outputs": [],
      "source": [
        ""
      ]
    }
  ],
  "metadata": {
    "kernelspec": {
      "display_name": "Python 3 (ipykernel)",
      "language": "python",
      "name": "python3"
    },
    "language_info": {
      "codemirror_mode": {
        "name": "ipython",
        "version": 3
      },
      "file_extension": ".py",
      "mimetype": "text/x-python",
      "name": "python",
      "nbconvert_exporter": "python",
      "pygments_lexer": "ipython3",
      "version": "3.9.12"
    },
    "colab": {
      "name": "2022_0625bit_faster-rcnn_devidation.ipynb",
      "provenance": [],
      "toc_visible": true,
      "include_colab_link": true
    },
    "widgets": {
      "application/vnd.jupyter.widget-state+json": {
        "36e9402ba7ea418080b5582b6774359c": {
          "model_module": "@jupyter-widgets/controls",
          "model_name": "HBoxModel",
          "model_module_version": "1.5.0",
          "state": {
            "_dom_classes": [],
            "_model_module": "@jupyter-widgets/controls",
            "_model_module_version": "1.5.0",
            "_model_name": "HBoxModel",
            "_view_count": null,
            "_view_module": "@jupyter-widgets/controls",
            "_view_module_version": "1.5.0",
            "_view_name": "HBoxView",
            "box_style": "",
            "children": [
              "IPY_MODEL_08f890086ea84d8db2b298aeac587851",
              "IPY_MODEL_07a48e18adf24b338a901ffcdf864774",
              "IPY_MODEL_cbf91c5d991d486eaf513705ceddc724"
            ],
            "layout": "IPY_MODEL_bfa7e65aaca64c22a8a1df0098887be7"
          }
        },
        "08f890086ea84d8db2b298aeac587851": {
          "model_module": "@jupyter-widgets/controls",
          "model_name": "HTMLModel",
          "model_module_version": "1.5.0",
          "state": {
            "_dom_classes": [],
            "_model_module": "@jupyter-widgets/controls",
            "_model_module_version": "1.5.0",
            "_model_name": "HTMLModel",
            "_view_count": null,
            "_view_module": "@jupyter-widgets/controls",
            "_view_module_version": "1.5.0",
            "_view_name": "HTMLView",
            "description": "",
            "description_tooltip": null,
            "layout": "IPY_MODEL_0b2fa6e1c9294563a837bdb372af4b85",
            "placeholder": "​",
            "style": "IPY_MODEL_dd94f995d88b4451b1e6dd52097d449a",
            "value": "100%"
          }
        },
        "07a48e18adf24b338a901ffcdf864774": {
          "model_module": "@jupyter-widgets/controls",
          "model_name": "FloatProgressModel",
          "model_module_version": "1.5.0",
          "state": {
            "_dom_classes": [],
            "_model_module": "@jupyter-widgets/controls",
            "_model_module_version": "1.5.0",
            "_model_name": "FloatProgressModel",
            "_view_count": null,
            "_view_module": "@jupyter-widgets/controls",
            "_view_module_version": "1.5.0",
            "_view_name": "ProgressView",
            "bar_style": "success",
            "description": "",
            "description_tooltip": null,
            "layout": "IPY_MODEL_83933f9b8f294b068e9c54f703bf41bc",
            "max": 167502836,
            "min": 0,
            "orientation": "horizontal",
            "style": "IPY_MODEL_4b0dc6d222864214909f9ecb74e8e838",
            "value": 167502836
          }
        },
        "cbf91c5d991d486eaf513705ceddc724": {
          "model_module": "@jupyter-widgets/controls",
          "model_name": "HTMLModel",
          "model_module_version": "1.5.0",
          "state": {
            "_dom_classes": [],
            "_model_module": "@jupyter-widgets/controls",
            "_model_module_version": "1.5.0",
            "_model_name": "HTMLModel",
            "_view_count": null,
            "_view_module": "@jupyter-widgets/controls",
            "_view_module_version": "1.5.0",
            "_view_name": "HTMLView",
            "description": "",
            "description_tooltip": null,
            "layout": "IPY_MODEL_60d3287ff7f84b008b1adb52ea98753d",
            "placeholder": "​",
            "style": "IPY_MODEL_f9e0f700bc1a4819bf2cb3210aee1c2c",
            "value": " 160M/160M [00:01&lt;00:00, 119MB/s]"
          }
        },
        "bfa7e65aaca64c22a8a1df0098887be7": {
          "model_module": "@jupyter-widgets/base",
          "model_name": "LayoutModel",
          "model_module_version": "1.2.0",
          "state": {
            "_model_module": "@jupyter-widgets/base",
            "_model_module_version": "1.2.0",
            "_model_name": "LayoutModel",
            "_view_count": null,
            "_view_module": "@jupyter-widgets/base",
            "_view_module_version": "1.2.0",
            "_view_name": "LayoutView",
            "align_content": null,
            "align_items": null,
            "align_self": null,
            "border": null,
            "bottom": null,
            "display": null,
            "flex": null,
            "flex_flow": null,
            "grid_area": null,
            "grid_auto_columns": null,
            "grid_auto_flow": null,
            "grid_auto_rows": null,
            "grid_column": null,
            "grid_gap": null,
            "grid_row": null,
            "grid_template_areas": null,
            "grid_template_columns": null,
            "grid_template_rows": null,
            "height": null,
            "justify_content": null,
            "justify_items": null,
            "left": null,
            "margin": null,
            "max_height": null,
            "max_width": null,
            "min_height": null,
            "min_width": null,
            "object_fit": null,
            "object_position": null,
            "order": null,
            "overflow": null,
            "overflow_x": null,
            "overflow_y": null,
            "padding": null,
            "right": null,
            "top": null,
            "visibility": null,
            "width": null
          }
        },
        "0b2fa6e1c9294563a837bdb372af4b85": {
          "model_module": "@jupyter-widgets/base",
          "model_name": "LayoutModel",
          "model_module_version": "1.2.0",
          "state": {
            "_model_module": "@jupyter-widgets/base",
            "_model_module_version": "1.2.0",
            "_model_name": "LayoutModel",
            "_view_count": null,
            "_view_module": "@jupyter-widgets/base",
            "_view_module_version": "1.2.0",
            "_view_name": "LayoutView",
            "align_content": null,
            "align_items": null,
            "align_self": null,
            "border": null,
            "bottom": null,
            "display": null,
            "flex": null,
            "flex_flow": null,
            "grid_area": null,
            "grid_auto_columns": null,
            "grid_auto_flow": null,
            "grid_auto_rows": null,
            "grid_column": null,
            "grid_gap": null,
            "grid_row": null,
            "grid_template_areas": null,
            "grid_template_columns": null,
            "grid_template_rows": null,
            "height": null,
            "justify_content": null,
            "justify_items": null,
            "left": null,
            "margin": null,
            "max_height": null,
            "max_width": null,
            "min_height": null,
            "min_width": null,
            "object_fit": null,
            "object_position": null,
            "order": null,
            "overflow": null,
            "overflow_x": null,
            "overflow_y": null,
            "padding": null,
            "right": null,
            "top": null,
            "visibility": null,
            "width": null
          }
        },
        "dd94f995d88b4451b1e6dd52097d449a": {
          "model_module": "@jupyter-widgets/controls",
          "model_name": "DescriptionStyleModel",
          "model_module_version": "1.5.0",
          "state": {
            "_model_module": "@jupyter-widgets/controls",
            "_model_module_version": "1.5.0",
            "_model_name": "DescriptionStyleModel",
            "_view_count": null,
            "_view_module": "@jupyter-widgets/base",
            "_view_module_version": "1.2.0",
            "_view_name": "StyleView",
            "description_width": ""
          }
        },
        "83933f9b8f294b068e9c54f703bf41bc": {
          "model_module": "@jupyter-widgets/base",
          "model_name": "LayoutModel",
          "model_module_version": "1.2.0",
          "state": {
            "_model_module": "@jupyter-widgets/base",
            "_model_module_version": "1.2.0",
            "_model_name": "LayoutModel",
            "_view_count": null,
            "_view_module": "@jupyter-widgets/base",
            "_view_module_version": "1.2.0",
            "_view_name": "LayoutView",
            "align_content": null,
            "align_items": null,
            "align_self": null,
            "border": null,
            "bottom": null,
            "display": null,
            "flex": null,
            "flex_flow": null,
            "grid_area": null,
            "grid_auto_columns": null,
            "grid_auto_flow": null,
            "grid_auto_rows": null,
            "grid_column": null,
            "grid_gap": null,
            "grid_row": null,
            "grid_template_areas": null,
            "grid_template_columns": null,
            "grid_template_rows": null,
            "height": null,
            "justify_content": null,
            "justify_items": null,
            "left": null,
            "margin": null,
            "max_height": null,
            "max_width": null,
            "min_height": null,
            "min_width": null,
            "object_fit": null,
            "object_position": null,
            "order": null,
            "overflow": null,
            "overflow_x": null,
            "overflow_y": null,
            "padding": null,
            "right": null,
            "top": null,
            "visibility": null,
            "width": null
          }
        },
        "4b0dc6d222864214909f9ecb74e8e838": {
          "model_module": "@jupyter-widgets/controls",
          "model_name": "ProgressStyleModel",
          "model_module_version": "1.5.0",
          "state": {
            "_model_module": "@jupyter-widgets/controls",
            "_model_module_version": "1.5.0",
            "_model_name": "ProgressStyleModel",
            "_view_count": null,
            "_view_module": "@jupyter-widgets/base",
            "_view_module_version": "1.2.0",
            "_view_name": "StyleView",
            "bar_color": null,
            "description_width": ""
          }
        },
        "60d3287ff7f84b008b1adb52ea98753d": {
          "model_module": "@jupyter-widgets/base",
          "model_name": "LayoutModel",
          "model_module_version": "1.2.0",
          "state": {
            "_model_module": "@jupyter-widgets/base",
            "_model_module_version": "1.2.0",
            "_model_name": "LayoutModel",
            "_view_count": null,
            "_view_module": "@jupyter-widgets/base",
            "_view_module_version": "1.2.0",
            "_view_name": "LayoutView",
            "align_content": null,
            "align_items": null,
            "align_self": null,
            "border": null,
            "bottom": null,
            "display": null,
            "flex": null,
            "flex_flow": null,
            "grid_area": null,
            "grid_auto_columns": null,
            "grid_auto_flow": null,
            "grid_auto_rows": null,
            "grid_column": null,
            "grid_gap": null,
            "grid_row": null,
            "grid_template_areas": null,
            "grid_template_columns": null,
            "grid_template_rows": null,
            "height": null,
            "justify_content": null,
            "justify_items": null,
            "left": null,
            "margin": null,
            "max_height": null,
            "max_width": null,
            "min_height": null,
            "min_width": null,
            "object_fit": null,
            "object_position": null,
            "order": null,
            "overflow": null,
            "overflow_x": null,
            "overflow_y": null,
            "padding": null,
            "right": null,
            "top": null,
            "visibility": null,
            "width": null
          }
        },
        "f9e0f700bc1a4819bf2cb3210aee1c2c": {
          "model_module": "@jupyter-widgets/controls",
          "model_name": "DescriptionStyleModel",
          "model_module_version": "1.5.0",
          "state": {
            "_model_module": "@jupyter-widgets/controls",
            "_model_module_version": "1.5.0",
            "_model_name": "DescriptionStyleModel",
            "_view_count": null,
            "_view_module": "@jupyter-widgets/base",
            "_view_module_version": "1.2.0",
            "_view_name": "StyleView",
            "description_width": ""
          }
        }
      }
    }
  },
  "nbformat": 4,
  "nbformat_minor": 5
}