{
  "nbformat": 4,
  "nbformat_minor": 0,
  "metadata": {
    "colab": {
      "name": "2022_0614sentence_bert_sample.ipynb",
      "private_outputs": true,
      "provenance": [],
      "authorship_tag": "ABX9TyPQVZOm8gtkle+Zrr8Yp5nJ",
      "include_colab_link": true
    },
    "kernelspec": {
      "name": "python3",
      "display_name": "Python 3"
    },
    "language_info": {
      "name": "python"
    }
  },
  "cells": [
    {
      "cell_type": "markdown",
      "metadata": {
        "id": "view-in-github",
        "colab_type": "text"
      },
      "source": [
        "<a href=\"https://colab.research.google.com/github/ShinAsakawa/ShinAsakawa.github.io/blob/master/2022notebooks/2022_0614sentence_bert_sample.ipynb\" target=\"_parent\"><img src=\"https://colab.research.google.com/assets/colab-badge.svg\" alt=\"Open In Colab\"/></a>"
      ]
    },
    {
      "cell_type": "markdown",
      "source": [
        "- オリジナル: https://huggingface.co/sonoisa/sentence-bert-base-ja-mean-tokens\n"
      ],
      "metadata": {
        "id": "Z9KaVR-DkZrg"
      }
    },
    {
      "cell_type": "code",
      "source": [
        "import os\n",
        "import sys\n",
        "import numpy as np\n",
        "import unicodedata\n",
        "from termcolor import colored\n",
        "\n",
        "# 本ファイルを Google Colaboratory 上で実行する場合に，必要となるライブラリをインストールする\n",
        "import IPython\n",
        "isColab = 'google.colab' in str(IPython.get_ipython())\n",
        "if isColab:\n",
        "    !pip install transformers > /dev/null 2>&1 \n",
        "\n",
        "    # MeCab, fugashi, ipadic のインストール\n",
        "    !apt install aptitude swig > /dev/null 2>&1\n",
        "    !aptitude install mecab libmecab-dev mecab-ipadic-utf8 git make curl xz-utils file -y > /dev/null 2>&1\n",
        "    !pip install mecab-python3 > /dev/null 2>&1\n",
        "    !git clone --depth 1 https://github.com/neologd/mecab-ipadic-neologd.git > /dev/null 2>&1\n",
        "    !echo yes | mecab-ipadic-neologd/bin/install-mecab-ipadic-neologd -n -a > /dev/null 2>&1\n",
        "    \n",
        "    import subprocess\n",
        "    cmd='echo `mecab-config --dicdir`\\\"/mecab-ipadic-neologd\\\"'\n",
        "    path_neologd = (subprocess.Popen(cmd, stdout=subprocess.PIPE,\n",
        "                                     shell=True).communicate()[0]).decode('utf-8')\n",
        "\n",
        "    !pip install 'fugashi[unidic]' > /dev/null 2>&1\n",
        "    !python -m unidic download > /dev/null 2>&1\n",
        "    !pip install ipadic > /dev/null 2>&1\n",
        "    !pip install jaconv > /dev/null 2>&1 \n",
        "    !pip install japanize_matplotlib > /dev/null 2>&1"
      ],
      "metadata": {
        "id": "LjuY3MCGc5gz"
      },
      "execution_count": null,
      "outputs": []
    },
    {
      "cell_type": "code",
      "execution_count": null,
      "metadata": {
        "id": "ZwGRiGVxc31L"
      },
      "outputs": [],
      "source": [
        "from transformers import BertJapaneseTokenizer, BertModel\n",
        "import torch\n",
        "\n",
        "\n",
        "class SentenceBertJapanese:\n",
        "    def __init__(self, model_name_or_path, device=None):\n",
        "        self.tokenizer = BertJapaneseTokenizer.from_pretrained(model_name_or_path)\n",
        "        self.model = BertModel.from_pretrained(model_name_or_path)\n",
        "        self.model.eval()\n",
        "\n",
        "        if device is None:\n",
        "            device = \"cuda\" if torch.cuda.is_available() else \"cpu\"\n",
        "        self.device = torch.device(device)\n",
        "        self.model.to(device)\n",
        "\n",
        "    def _mean_pooling(self, model_output, attention_mask):\n",
        "        token_embeddings = model_output[0] #First element of model_output contains all token embeddings\n",
        "        input_mask_expanded = attention_mask.unsqueeze(-1).expand(token_embeddings.size()).float()\n",
        "        return torch.sum(token_embeddings * input_mask_expanded, 1) / torch.clamp(input_mask_expanded.sum(1), min=1e-9)\n",
        "\n",
        "    @torch.no_grad()\n",
        "    def encode(self, sentences, batch_size=8):\n",
        "        all_embeddings = []\n",
        "        iterator = range(0, len(sentences), batch_size)\n",
        "        for batch_idx in iterator:\n",
        "            batch = sentences[batch_idx:batch_idx + batch_size]\n",
        "\n",
        "            encoded_input = self.tokenizer.batch_encode_plus(batch, padding=\"longest\", \n",
        "                                           truncation=True, return_tensors=\"pt\").to(self.device)\n",
        "            model_output = self.model(**encoded_input)\n",
        "            sentence_embeddings = self._mean_pooling(model_output, encoded_input[\"attention_mask\"]).to('cpu')\n",
        "\n",
        "            all_embeddings.extend(sentence_embeddings)\n",
        "\n",
        "        # return torch.stack(all_embeddings).numpy()\n",
        "        return torch.stack(all_embeddings)\n",
        "\n",
        "\n",
        "MODEL_NAME = \"sonoisa/sentence-bert-base-ja-mean-tokens\"\n",
        "model = SentenceBertJapanese(MODEL_NAME)\n",
        "\n",
        "sentences = [\"暴走したAI\", \"暴走した人工知能\"]\n",
        "sentence_embeddings = model.encode(sentences, batch_size=8)\n",
        "\n",
        "#print(\"Sentence embeddings:\", sentence_embeddings)\n"
      ]
    },
    {
      "cell_type": "code",
      "source": [
        "import numpy as np\n",
        "import scipy\n",
        "\n",
        "# メモ 以下では，sentences という list に複数の日本語文をカンマで区切って入力し, model.encode(sentences) の\n",
        "# ようにして呼び出す。戻り値は，各文に対応した文ベクトル。\n",
        "# この戻ってきた文ベクトルに対して，以下では，ベクトルの内積を書くベクトルの 2乗和を開平で割って\n",
        "# コサイン類似度を求めている。\n",
        "# 2022_0614 近藤先生との zoom ミーティング時に検討した。\n",
        "\n",
        "sentences = [\"暴走したAI\", \"暴走した人工知能\"]\n",
        "#sentences = [\"AI\", \"人工知能\"]\n",
        "sentences = [\"ピカピカと雷と光る\", \"ゴロゴロと雷が鳴る\"]\n",
        "sentences = [\"ピカピカと雷と光る\", \"ピカピカとウィンカー\"]\n",
        "sentences = [\"ピカピカと雷と光る\", \"ピカピカとウィンカーが光る\"]\n",
        "sentences = ['夏の暑さが肌にじりじり感じる', '真夏の太陽がさんさんと照り付ける']\n",
        "sentences = ['夏の暑さが肌にじりじり感じる', '真夏の太陽がさんさんと照り付ける']\n",
        "sentences = ['夏の暑さが肌にじりじり感じる', '真夏の太陽がさんさんと照り付ける']\n",
        "#sentences = ['教授は国際会議で発表した。', '教授の国際会議での発表は失敗だった。']  # 0.517\n",
        "#sentences = ['教授の国際会議への投稿はリジェクトされた。', '教授の国際会議での発表は失敗だった。']  # 0.703\n",
        "#sentences = ['教授の国際会議への投稿はリジェクトされた。', '教授の国際会議での発表は捏造だった。'] # 0.575\n",
        "#sentences = ['彼の国際ジャーナル論文はリジェクトされた。', '教授の国際会議での発表は捏造だった。'] # 0.365\n",
        "#sentences = ['彼の国際ジャーナル論文は取り消された。', '教授の国際会議での発表は捏造だった。']    # 0.428\n",
        "#sentences = ['彼の国際ジャーナル論文は取り消された。', '教授は国際会議で捏造データを発表した。']   # 0.421\n",
        "sentences = ['彼の国際ジャーナル論文は取り消された。教授は国際会議で新たなデータを発表した。',\n",
        "'教授の国際ジャーナル論文は取り消された。彼は国際会議で捏造データを発表した。']   # 0.888\n",
        "sentences = ['今日は夕立が来そうだ。ほら，雷がピカピカ光った。',\n",
        "'今日は夕立が来そうだ。ほら，空からゴロゴロと音が聞こえた。']   # 0.785\n",
        "sentences = ['今日は朝からどんより曇ってる。ピカピカ光った。',\n",
        "'今日は夕立が来そうだ。ほら，空からゴロゴロと音が聞こえた。']   # 0.540\n",
        "sentences = ['今日は朝からどんより曇ってる。ピカピカ光った。',\n",
        "'夕立が来そうだね。ほら，空からゴロゴロと音が聞こえたよ。']   # 0.503\n",
        "sentences = ['ピカピカ光った。','空からゴロゴロと音が聞こえたよ。']      # 0.325\n",
        "# sentences = ['空がピカピカ光った。','空からゴロゴロと音が聞こえたよ。']   # 0.530\n",
        "# sentences = ['雲がピカピカ光った。','空からゴロゴロと音が聞こえたよ。']   # 0.438\n",
        "# sentences = ['雲がピカピカ光った。','空からゴロゴロと鳴った。']          # 0.356\n",
        "# sentences = ['ピカピカ','ゴロゴロ']                                 # 0.108\n",
        "# sentences = ['雲がピカピカと光った。','空がゴロゴロと鳴った。']          # 0.357\n",
        "# sentences = ['雲が光る。','空が鳴る。']                              # 0.497\n",
        "# sentences = ['雲。','空。']                                        # 0.395\n",
        "# sentences = ['雲。','雷。']                                        # 0.578\n",
        "sentence_embeddings = model.encode(sentences, batch_size=8)\n",
        "\n",
        "s0 = sentence_embeddings[0].detach().numpy()\n",
        "s1 = sentence_embeddings[1].detach().numpy()\n",
        "s0norm = np.sqrt((s0 ** 2).sum())\n",
        "s1norm = np.sqrt((s1 ** 2).sum())\n",
        "print(np.dot(s0,s1) / (s0norm * s1norm))\n"
      ],
      "metadata": {
        "id": "6vAi-kkVdDWb"
      },
      "execution_count": null,
      "outputs": []
    },
    {
      "cell_type": "code",
      "source": [
        "# 入力文をトークナイズするには，以下のようにする。\n",
        "# 結果は，'input_ids', 'token_type_ids', 'attention_mask' という 3 項目からなる辞書が返る。\n",
        "model.tokenizer(sentences)\n",
        "\n",
        "# 上を整列して印字したければ，下記のようにする\n",
        "#for k, v in model.tokenizer(sentences).items():\n",
        "#    print(k, v)\n"
      ],
      "metadata": {
        "id": "BhqoamtQssLU"
      },
      "execution_count": null,
      "outputs": []
    },
    {
      "cell_type": "code",
      "source": [
        "# 特殊トークンはモデルごとに トークン番号が異なるので，念の為表示させる\n",
        "model.tokenizer.special_tokens_map"
      ],
      "metadata": {
        "id": "4Y3e0I23st-d"
      },
      "execution_count": null,
      "outputs": []
    },
    {
      "cell_type": "code",
      "source": [
        "# 2 つ上のセルで，戻ってきたトークン番号を，実際の単語に変換するには `.convert_ids_to_tokens()` 関数を用いる\n",
        "#model.tokenizer.convert_tokens_to_ids('[CLS]')\n",
        "print(model.tokenizer.convert_ids_to_tokens([2, 14739, 27056, 948, 28468, 10, 8, 3]))\n",
        "print(model.tokenizer.convert_ids_to_tokens([2, 454, 40, 18968, 28796, 28505, 13, 419, 14, 15440, 10, 54, 8, 3]))"
      ],
      "metadata": {
        "id": "3LL4QfVDsv-E"
      },
      "execution_count": null,
      "outputs": []
    },
    {
      "cell_type": "code",
      "source": [
        ""
      ],
      "metadata": {
        "id": "RrEfq1fyvCmV"
      },
      "execution_count": null,
      "outputs": []
    }
  ]
}