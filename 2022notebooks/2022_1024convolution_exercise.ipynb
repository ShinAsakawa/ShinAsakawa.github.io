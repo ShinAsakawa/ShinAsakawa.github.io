{
  "nbformat": 4,
  "nbformat_minor": 0,
  "metadata": {
    "colab": {
      "private_outputs": true,
      "provenance": [],
      "authorship_tag": "ABX9TyMqHB9y5tUlngD4QE6H3W5D",
      "include_colab_link": true
    },
    "kernelspec": {
      "name": "python3",
      "display_name": "Python 3"
    },
    "language_info": {
      "name": "python"
    }
  },
  "cells": [
    {
      "cell_type": "markdown",
      "metadata": {
        "id": "view-in-github",
        "colab_type": "text"
      },
      "source": [
        "<a href=\"https://colab.research.google.com/github/ShinAsakawa/ShinAsakawa.github.io/blob/master/2022notebooks/2022_1024convolution_exercise.ipynb\" target=\"_parent\"><img src=\"https://colab.research.google.com/assets/colab-badge.svg\" alt=\"Open In Colab\"/></a>"
      ]
    },
    {
      "cell_type": "code",
      "execution_count": null,
      "metadata": {
        "id": "dw6S47iuYNsV"
      },
      "outputs": [],
      "source": [
        "%config InlineBackend.figure_format = 'retina'\n",
        "import torch\n",
        "import torchvision\n",
        "import numpy as np\n",
        "import matplotlib.pyplot as plt\n",
        "try:\n",
        "    import japanize_matplotlib\n",
        "except ImportError:\n",
        "    !pip install japanize_matplotlib\n",
        "    import japanize_matplotlib"
      ]
    },
    {
      "cell_type": "code",
      "source": [
        "# カーネルを適切に設定する\n",
        "ker1 = np.array([[0,1,0],  # 縦線検出カーネル 神経科学の用語では検出細胞\n",
        "                 [0,1,0],\n",
        "                 [0,1,0]])\n",
        "ker2 = np.array([[0,0,0],  # 横線検出カーネル\n",
        "                 [1,1,1],\n",
        "                 [0,0,0]])\n",
        "ker3 = np.array([[1,0,0],  # 左上から右下への斜め線検出カーネル\n",
        "                 [0,1,0],\n",
        "                 [0,0,1]])\n",
        "ker4 = np.array([[0,0,1],  # 左下から右上への斜め線検出カーネル\n",
        "                 [0,1,0],\n",
        "                 [1,0,0]])\n",
        "\n",
        "plt.figure(figsize=(8,2))\n",
        "plt.subplot(1,4,1); plt.imshow(ker1, cmap='gray')\n",
        "plt.subplot(1,4,2); plt.imshow(ker2, cmap='gray')\n",
        "plt.subplot(1,4,3); plt.imshow(ker3, cmap='gray')\n",
        "plt.subplot(1,4,4); plt.imshow(ker4, cmap='gray')\n",
        "plt.suptitle(\"カーネルの視覚化\", fontsize=12)\n",
        "plt.show()"
      ],
      "metadata": {
        "id": "zS-sBcWzYO38"
      },
      "execution_count": null,
      "outputs": []
    },
    {
      "cell_type": "code",
      "source": [
        "# 簡単な畳み込み層を定義\n",
        "\n",
        "class Conv:\n",
        "    \"\"\"簡単な例を考えるため、カーネルサイズは 3 行 3 列で固定とし，\n",
        "    strides や padding は考えないこととする\"\"\"\n",
        "    \n",
        "    def __init__(self, W):\n",
        "        self.W = W\n",
        "        \n",
        "    def process(self, X):\n",
        "        out = np.zeros((X.shape[0]-2, X.shape[1]-2))\n",
        "        for i in range(out.shape[0]):\n",
        "            for j in range(out.shape[1]):\n",
        "                x = X[i:i+3, j:j+3]\n",
        "                # 要素ごとの積の合計をとっています\n",
        "                out[i,j] = np.dot(self.W.flatten(), x.flatten())\n",
        "        return out\n"
      ],
      "metadata": {
        "id": "ucRH1U_IYROh"
      },
      "execution_count": null,
      "outputs": []
    },
    {
      "cell_type": "code",
      "source": [
        "dataset = torchvision.datasets.MNIST(root='.', \n",
        "                                     train=True, \n",
        "                                     download=True,\n",
        "                                    )"
      ],
      "metadata": {
        "id": "5twuiO1lYT1N"
      },
      "execution_count": null,
      "outputs": []
    },
    {
      "cell_type": "code",
      "source": [
        "img, label = dataset.__getitem__(3)\n",
        "\n",
        "plt.figure(figsize=(2,2))\n",
        "plt.imshow(img, cmap='gray')\n",
        "plt.title(f'ラベル名:{label}')\n",
        "plt.show()"
      ],
      "metadata": {
        "id": "pyf4j9eqYU82"
      },
      "execution_count": null,
      "outputs": []
    },
    {
      "cell_type": "code",
      "source": [
        "# 畳み込みの実施\n",
        "X = np.copy(img)\n",
        "\n",
        "conv1 = Conv(ker1)\n",
        "C1 = conv1.process(X)\n",
        "\n",
        "conv2 = Conv(ker2)\n",
        "C2 = conv2.process(X)\n",
        "\n",
        "conv3 = Conv(ker3)\n",
        "C3 = conv3.process(X)\n",
        "\n",
        "conv4 = Conv(ker4)\n",
        "C4 = conv4.process(X)\n"
      ],
      "metadata": {
        "id": "ZdUbyomHYWQt"
      },
      "execution_count": null,
      "outputs": []
    },
    {
      "cell_type": "code",
      "source": [
        "plt.figure(figsize=(6,2))\n",
        "plt.subplot(1,4,1); plt.imshow(C1, cmap='gray')\n",
        "plt.subplot(1,4,2); plt.imshow(C2, cmap='gray')\n",
        "plt.subplot(1,4,3); plt.imshow(C3, cmap='gray')\n",
        "plt.subplot(1,4,4); plt.imshow(C4, cmap='gray')\n",
        "plt.suptitle(\"畳み込み演算の結果\", fontsize=12)\n",
        "plt.show()"
      ],
      "metadata": {
        "id": "QzPXmKjJYY-v"
      },
      "execution_count": null,
      "outputs": []
    },
    {
      "cell_type": "code",
      "source": [
        "#DoG 関数の定義\n",
        "import cv2 as cv  # opencv 画像処理モジュールの輸入\n",
        "\n",
        "def DoG(img, ker1=3, ker2=5):\n",
        "    blur2 = cv.GaussianBlur(img, (ker2, ker2), 0)\n",
        "    blur1 = cv.GaussianBlur(img, (ker1, ker1), 0)\n",
        "\n",
        "    return blur2 - blur1\n"
      ],
      "metadata": {
        "id": "a8KP0RzXYar4"
      },
      "execution_count": null,
      "outputs": []
    },
    {
      "cell_type": "code",
      "source": [
        "dog_img0 = DoG(X)                #DOGの実施\n",
        "dog_img1 = DoG(X, ker1=3, ker2=9) #異なる分散でDOGを実施\n",
        "\n",
        "plt.figure(figsize=(4,2))\n",
        "\n",
        "# 1 行 2 列 で結果を表示\n",
        "plt.subplot(1,2,1) \n",
        "plt.imshow(dog_img0, cmap='gray')\n",
        "plt.gca().set_title('dog_img0')\n",
        "\n",
        "plt.subplot(1,2,2)\n",
        "plt.imshow(dog_img1, cmap='gray')\n",
        "plt.gca().set_title('dog_img1')\n",
        "\n",
        "plt.show()"
      ],
      "metadata": {
        "id": "ZJGhkgr8Ybaf"
      },
      "execution_count": null,
      "outputs": []
    },
    {
      "cell_type": "code",
      "source": [],
      "metadata": {
        "id": "b9G2VpWXYf66"
      },
      "execution_count": null,
      "outputs": []
    }
  ]
}