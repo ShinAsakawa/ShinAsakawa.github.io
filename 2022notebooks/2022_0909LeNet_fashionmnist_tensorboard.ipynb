{
  "cells": [
    {
      "cell_type": "markdown",
      "metadata": {
        "id": "view-in-github",
        "colab_type": "text"
      },
      "source": [
        "<a href=\"https://colab.research.google.com/github/ShinAsakawa/ShinAsakawa.github.io/blob/master/2022notebooks/2022_0909LeNet_fashionmnist_tensorboard.ipynb\" target=\"_parent\"><img src=\"https://colab.research.google.com/assets/colab-badge.svg\" alt=\"Open In Colab\"/></a>"
      ]
    },
    {
      "cell_type": "code",
      "execution_count": null,
      "id": "b6b739ab-23b3-48c9-b55a-8e0ef6a82349",
      "metadata": {
        "id": "b6b739ab-23b3-48c9-b55a-8e0ef6a82349"
      },
      "outputs": [],
      "source": [
        "%config InlineBackend.figure_format = 'retina'\n",
        "try:\n",
        "    import bit\n",
        "except ImportError:\n",
        "    !pip install ipynbname --upgrade > /dev/null 2>&1\n",
        "    import os\n",
        "    import shutil\n",
        "    if os.path.exists('bit'):\n",
        "        shutil.rmtree('bit')\n",
        "    !git clone https://github.com/ShinAsakawa/bit.git\n",
        "import bit\n",
        "isColab = bit.isColab\n",
        "HOME = bit.HOME"
      ]
    },
    {
      "cell_type": "code",
      "execution_count": null,
      "id": "abcf56c3-fb6c-47ef-bc39-c64d9a4ec0ef",
      "metadata": {
        "id": "abcf56c3-fb6c-47ef-bc39-c64d9a4ec0ef"
      },
      "outputs": [],
      "source": [
        "import torch\n",
        "import torchvision\n",
        "import torchvision.transforms as transforms\n",
        "\n",
        "import torch.nn as nn\n",
        "import torch.nn.functional as F\n",
        "import torch.optim as optim\n",
        "\n",
        "import matplotlib.pyplot as plt\n",
        "import numpy as np\n",
        "\n",
        "# transforms\n",
        "transform = transforms.Compose(\n",
        "    [transforms.ToTensor(),\n",
        "    transforms.Normalize((0.5,), (0.5,))])\n",
        "\n",
        "# datasets\n",
        "trainset = torchvision.datasets.FashionMNIST(\n",
        "    root='data',\n",
        "    download=True,\n",
        "    train=True,\n",
        "    transform=transform)\n",
        "testset = torchvision.datasets.FashionMNIST(\n",
        "    root='data',\n",
        "    download=True,\n",
        "    train=False,\n",
        "    transform=transform)\n",
        "\n",
        "# dataloaders\n",
        "trainloader = torch.utils.data.DataLoader(\n",
        "    trainset, \n",
        "    batch_size=4,\n",
        "    shuffle=True, \n",
        "    num_workers=2)\n",
        "\n",
        "testloader = torch.utils.data.DataLoader(\n",
        "    testset, \n",
        "    batch_size=4,\n",
        "    shuffle=False, \n",
        "    num_workers=2)\n",
        "\n",
        "# constant for classes\n",
        "classes = ('T-shirt/top', 'Trouser', 'Pullover', 'Dress', 'Coat',\n",
        "           'Sandal', 'Shirt', 'Sneaker', 'Bag', 'Ankle Boot')"
      ]
    },
    {
      "cell_type": "code",
      "execution_count": 3,
      "id": "a4bb99e2-b4ff-4d24-98e8-3a35bbf686e2",
      "metadata": {
        "id": "a4bb99e2-b4ff-4d24-98e8-3a35bbf686e2"
      },
      "outputs": [],
      "source": [
        "class LeNet(nn.Module):\n",
        "    \"\"\"LeNet [@1998LeCun] の実装\"\"\"\n",
        "    def __init__(self):\n",
        "        super().__init__()\n",
        "\n",
        "        # 第一畳み込み層の定義\n",
        "        self.conv1 = nn.Conv2d(in_channels=1, \n",
        "                               out_channels=6, \n",
        "                               kernel_size=5)\n",
        "        \n",
        "        # 最大値プーリング層の定義\n",
        "        self.pool = nn.MaxPool2d(kernel_size=2, \n",
        "                                 stride=2)\n",
        "        \n",
        "        self.conv2 = nn.Conv2d(6, 16, 5)  # 第二畳み込み層の定義\n",
        "        \n",
        "        # 第一全結合層の定義\n",
        "        self.fc1 = nn.Linear(in_features=16 * 4 * 4, \n",
        "                             out_features=120)\n",
        "        \n",
        "        self.fc2 = nn.Linear(120, 84)     # 第二全結合層の定義\n",
        "        self.fc3 = nn.Linear(84, 10)      # 最終層の定義\n",
        "\n",
        "    def forward(self, x):\n",
        "        x = self.pool(F.relu(self.conv1(x)))\n",
        "        x = self.pool(F.relu(self.conv2(x)))\n",
        "        x = x.view(-1, 16 * 4 * 4)\n",
        "        x = F.relu(self.fc1(x))\n",
        "        x = F.relu(self.fc2(x))\n",
        "        x = self.fc3(x)\n",
        "        return x\n",
        "\n",
        "lenet = LeNet()"
      ]
    },
    {
      "cell_type": "code",
      "execution_count": 4,
      "id": "8e83ac1d-ccab-4b6e-bef7-068733449c6d",
      "metadata": {
        "id": "8e83ac1d-ccab-4b6e-bef7-068733449c6d"
      },
      "outputs": [],
      "source": [
        "criterion = nn.CrossEntropyLoss()\n",
        "optimizer = optim.SGD(lenet.parameters(), lr=0.001, momentum=0.9)"
      ]
    },
    {
      "cell_type": "code",
      "execution_count": null,
      "id": "db6d14fb-6deb-4ea3-ab07-417fea9923f2",
      "metadata": {
        "id": "db6d14fb-6deb-4ea3-ab07-417fea9923f2"
      },
      "outputs": [],
      "source": [
        "optimizer.__dict__"
      ]
    },
    {
      "cell_type": "code",
      "execution_count": 7,
      "id": "f19fdf2d-8179-4b33-a4e4-2bd259ab5143",
      "metadata": {
        "id": "f19fdf2d-8179-4b33-a4e4-2bd259ab5143"
      },
      "outputs": [],
      "source": [
        "if not isColab:\n",
        "    from torch.utils.tensorboard import SummaryWriter\n",
        "\n",
        "    # default `log_dir` is \"runs\" - we'll be more specific here\n",
        "    writer = SummaryWriter('runs/fashion_mnist_experiment_1')"
      ]
    },
    {
      "cell_type": "code",
      "execution_count": null,
      "id": "07b73094-df5b-46b4-85b7-37447ec90dad",
      "metadata": {
        "id": "07b73094-df5b-46b4-85b7-37447ec90dad"
      },
      "outputs": [],
      "source": [
        "# get some random training images\n",
        "dataiter = iter(trainloader)\n",
        "images, labels = dataiter.next()\n",
        "\n",
        "# create grid of images\n",
        "img_grid = torchvision.utils.make_grid(images)\n",
        "\n",
        "# helper function to show an image\n",
        "# (used in the `plot_classes_preds` function below)\n",
        "def matplotlib_imshow(img, \n",
        "                      one_channel=False):\n",
        "    if one_channel:\n",
        "        img = img.mean(dim=0)\n",
        "    img = img / 2 + 0.5     # unnormalize\n",
        "    npimg = img.numpy()\n",
        "    if one_channel:\n",
        "        plt.imshow(npimg, cmap=\"Greys\")\n",
        "    else:\n",
        "        plt.imshow(np.transpose(npimg, (1, 2, 0)))\n",
        "        \n",
        "# show images\n",
        "matplotlib_imshow(img_grid, one_channel=True)\n",
        "\n",
        "# write to tensorboard\n",
        "#writer.add_image('four_fashion_mnist_images', img_grid)"
      ]
    },
    {
      "cell_type": "code",
      "execution_count": 9,
      "id": "e08a9595-8279-4d88-9dcc-3787a71c5bb9",
      "metadata": {
        "id": "e08a9595-8279-4d88-9dcc-3787a71c5bb9"
      },
      "outputs": [],
      "source": [
        "if not isColab:\n",
        "    !tensorboard --logdir=runs"
      ]
    },
    {
      "cell_type": "code",
      "execution_count": 11,
      "id": "86475e09-22f4-4ffa-9a05-5ec41c2aa78a",
      "metadata": {
        "id": "86475e09-22f4-4ffa-9a05-5ec41c2aa78a"
      },
      "outputs": [],
      "source": [
        "if not isColab:\n",
        "    writer.add_graph(net, images)\n",
        "    writer.close()"
      ]
    },
    {
      "cell_type": "code",
      "execution_count": 13,
      "id": "7037da53-71df-4d29-a73d-bf1e89fe91f6",
      "metadata": {
        "id": "7037da53-71df-4d29-a73d-bf1e89fe91f6"
      },
      "outputs": [],
      "source": [
        "# helper function\n",
        "def select_n_random(data, labels, n=100):\n",
        "    '''    Selects n random datapoints and their corresponding labels from a dataset    '''\n",
        "    assert len(data) == len(labels)\n",
        "\n",
        "    perm = torch.randperm(len(data))\n",
        "    return data[perm][:n], labels[perm][:n]\n",
        "\n",
        "# select random images and their target indices\n",
        "images, labels = select_n_random(trainset.data, trainset.targets)\n",
        "\n",
        "# get the class labels for each image\n",
        "class_labels = [classes[lab] for lab in labels]\n",
        "\n",
        "if not isColab:\n",
        "    # log embeddings\n",
        "    features = images.view(-1, 28 * 28)\n",
        "    writer.add_embedding(features,\n",
        "                         metadata=class_labels,\n",
        "                         label_img=images.unsqueeze(1))\n",
        "    writer.close()"
      ]
    },
    {
      "cell_type": "code",
      "execution_count": null,
      "id": "7c7f6e17-cc0e-4c7a-bfb7-a239e7780c2a",
      "metadata": {
        "id": "7c7f6e17-cc0e-4c7a-bfb7-a239e7780c2a"
      },
      "outputs": [],
      "source": [
        "type(lenet.parameters())\n",
        "# generator"
      ]
    },
    {
      "cell_type": "code",
      "execution_count": 15,
      "id": "9429dd70-0e36-477e-a140-721badc07038",
      "metadata": {
        "colab": {
          "base_uri": "https://localhost:8080/"
        },
        "id": "9429dd70-0e36-477e-a140-721badc07038",
        "outputId": "96ca60a8-c8ef-4ddf-9e2a-83fd7399efd8"
      },
      "outputs": [
        {
          "output_type": "execute_result",
          "data": {
            "text/plain": [
              "torch.nn.parameter.Parameter"
            ]
          },
          "metadata": {},
          "execution_count": 15
        }
      ],
      "source": [
        "type(lenet.parameters().__next__())\n",
        "# torch.nn.parameter.Parameter"
      ]
    },
    {
      "cell_type": "code",
      "execution_count": null,
      "id": "fa5bbcb5-ac5c-46b8-ab31-567203cac842",
      "metadata": {
        "id": "fa5bbcb5-ac5c-46b8-ab31-567203cac842"
      },
      "outputs": [],
      "source": [
        "print(lenet.parameters().__next__())\n",
        "# Parameter containing:\n",
        "# (0 ,0 ,.,.) = \n",
        "#  -0.0998  0.0035 -0.0438 -0.1150 -0.0435\n",
        "#   0.0310 -0.0750 -0.0405 -0.0745 -0.1095\n",
        "#  -0.0355  0.0065 -0.0225  0.0729 -0.1114\n",
        "#   0.0708 -0.0170 -0.0253  0.1060  0.0557\n",
        "#   0.1057  0.0873  0.0793 -0.0309 -0.0861\n",
        "#   ..."
      ]
    },
    {
      "cell_type": "code",
      "execution_count": null,
      "id": "261ef842-cae2-4ba6-81ff-c5344ceceb5a",
      "metadata": {
        "id": "261ef842-cae2-4ba6-81ff-c5344ceceb5a"
      },
      "outputs": [],
      "source": [
        "%%time\n",
        "for epoch in range(2):\n",
        "    # エポックを指定回数だけ繰り返す\n",
        "\n",
        "    running_loss = 0.0\n",
        "    for i, data in enumerate(trainloader, 0):\n",
        "        # 第二引数は，スタート位置で，0 なので enumerate(trainloader)と同じ\n",
        "        # https://docs.python.org/3/library/functions.html#enumerate\n",
        "\n",
        "        inputs, labels = data        # data は tuple なので分解\n",
        "\n",
        "        # Variable で包む\n",
        "        inputs = torch.autograd.Variable(inputs) \n",
        "        labels = torch.autograd.Variable(labels)\n",
        "\n",
        "        # zero クリアする\n",
        "        optimizer.zero_grad()\n",
        "\n",
        "        # forward + backward + optimize\n",
        "        outputs = lenet(inputs)\n",
        "        loss = criterion(outputs, labels)\n",
        "        loss.backward()\n",
        "        optimizer.step()\n",
        "\n",
        "        running_loss += loss.detach().numpy()\n",
        "        \n",
        "        if i % 2000 == 1999:    # print every 2000 mini-batches\n",
        "            print(f'[{epoch+1:2d}, {i+1:5d}] 損失: {running_loss/2000:0.3f}')\n",
        "            #%\n",
        "            #      (epoch + 1, i + 1, running_loss / 2000))\n",
        "            running_loss = 0.0\n",
        "\n"
      ]
    },
    {
      "cell_type": "code",
      "execution_count": 18,
      "id": "998071b5-ec59-49d4-a99f-eb3a3171ccd8",
      "metadata": {
        "colab": {
          "base_uri": "https://localhost:8080/"
        },
        "id": "998071b5-ec59-49d4-a99f-eb3a3171ccd8",
        "outputId": "323f60ea-3968-4a58-a0fe-6d9636165ec3"
      },
      "outputs": [
        {
          "output_type": "stream",
          "name": "stdout",
          "text": [
            "検証データセットでの精度:  85 %\n"
          ]
        }
      ],
      "source": [
        "correct = 0\n",
        "total = 0\n",
        "for data in testloader:\n",
        "    images, labels = data\n",
        "    outputs = lenet(torch.autograd.Variable(images))\n",
        "    _, predicted = torch.max(outputs.data, 1)\n",
        "    total += labels.size(0)\n",
        "    correct += (predicted == labels).sum()\n",
        "\n",
        "print(f'検証データセットでの精度: {int(100 * correct / total):3d} %')\n"
      ]
    }
  ],
  "metadata": {
    "kernelspec": {
      "display_name": "Python 3 (ipykernel)",
      "language": "python",
      "name": "python3"
    },
    "language_info": {
      "codemirror_mode": {
        "name": "ipython",
        "version": 3
      },
      "file_extension": ".py",
      "mimetype": "text/x-python",
      "name": "python",
      "nbconvert_exporter": "python",
      "pygments_lexer": "ipython3",
      "version": "3.9.13"
    },
    "colab": {
      "provenance": [],
      "include_colab_link": true
    }
  },
  "nbformat": 4,
  "nbformat_minor": 5
}