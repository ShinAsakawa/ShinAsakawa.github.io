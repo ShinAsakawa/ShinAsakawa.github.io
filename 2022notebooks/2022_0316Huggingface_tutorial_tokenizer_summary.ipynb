{
  "cells": [
    {
      "cell_type": "markdown",
      "metadata": {
        "id": "view-in-github",
        "colab_type": "text"
      },
      "source": [
        "<a href=\"https://colab.research.google.com/github/ShinAsakawa/ShinAsakawa.github.io/blob/master/2022notebooks/2022_0316Huggingface_tutorial_tokenizer_summary.ipynb\" target=\"_parent\"><img src=\"https://colab.research.google.com/assets/colab-badge.svg\" alt=\"Open In Colab\"/></a>"
      ]
    },
    {
      "cell_type": "code",
      "execution_count": null,
      "metadata": {
        "id": "qJun76B5U-UM"
      },
      "outputs": [],
      "source": [
        "# Transformers のインストール\n",
        "! pip install transformers datasets\n",
        "\n",
        "# 前回のリリースではなく，ソースからインストールする場合は，上のコマンドをコメントし，次のコマンドをアンコメントしてください。\n",
        "# To install from source instead of the last release, comment the command above and uncomment the following one.\n",
        "# ! pip install git+https://github.com/huggingface/transformers.git"
      ]
    },
    {
      "cell_type": "markdown",
      "metadata": {
        "id": "NvkwkcgcU-UO"
      },
      "source": [
        "# トークナイザーのまとめ\n",
        "<!-- # Summary of the tokenizers -->"
      ]
    },
    {
      "cell_type": "markdown",
      "metadata": {
        "id": "ZMpHIPzYU-UP"
      },
      "source": [
        "このページではトークン化について詳しく見ていきます。\n",
        "<!-- On this page, we will have a closer look at tokenization. -->"
      ]
    },
    {
      "cell_type": "code",
      "execution_count": null,
      "metadata": {
        "hide_input": true,
        "id": "WNfPbAliU-UP"
      },
      "outputs": [],
      "source": [
        "#@title\n",
        "from IPython.display import HTML\n",
        "\n",
        "HTML('<iframe width=\"560\" height=\"315\" src=\"https://www.youtube.com/embed/VFp38yj8h3A?rel=0&amp;controls=0&amp;showinfo=0\" frameborder=\"0\" allowfullscreen></iframe>')"
      ]
    },
    {
      "cell_type": "markdown",
      "metadata": {
        "id": "gxYnobYWU-UQ"
      },
      "source": [
        "[前処理チュートリアル](https://huggingface.co/docs/transformers/master/en/preprocessing) で見たように，トークン化とはテキストを単語や部分単語に分割し，ルックアップテーブルを通して id に変換することです。\n",
        "単語や部分単語を id に変換するのは簡単なので，この要約ページでは，文を単語や部分単語に分割すること (つまり，文をトークン化すること) に焦点を当てます。\n",
        "具体的には 🤗 Transformers で使用される 3 つの主要なトークン化器について見ていきます。\n",
        "[Byte-Pair Encoding (BPE)](#byte-pair-encoding),  [WordPiece](#wordpiece), そして [SentencePiece](#sentencepiece) です。\n",
        "そしてどのトークン化器がどのモデルで使用されるか例を示します。\n",
        "<!-- As we saw in [the preprocessing tutorial](https://huggingface.co/docs/transformers/master/en/preprocessing), tokenizing a text is splitting it into words or subwords, which then are converted to ids through a look-up table. \n",
        "Converting words or subwords to ids is straightforward, so in this summary, we will focus on splitting a text into words or subwords (i.e. tokenizing a text).\n",
        "More specifically, we will look at the three main types of tokenizers used in 🤗 Transformers: [Byte-Pair Encoding (BPE)](#byte-pair-encoding), [WordPiece](#wordpiece), and [SentencePiece](#sentencepiece), and show examples of which tokenizer type is used by which model.-->\n",
        "\n",
        "各モデルのページでは，関連するトークン化器の文書を見ることで，どのトークン化器タイプが事前学習済みモデルで使われたかを知ることができることに注意してください。\n",
        "例えば [BertTokenizer](https://huggingface.co/docs/transformers/master/en/model_doc/bert#transformers.BertTokenizer) を見ると，このモデルは  [WordPiece](#wordpiece) を使っていることがわかります。\n",
        "<!-- Note that on each model page, you can look at the documentation of the associated tokenizer to know which tokenizer type was used by the pretrained model. \n",
        "For instance, if we look at [BertTokenizer](https://huggingface.co/docs/transformers/master/en/model_doc/bert#transformers.BertTokenizer), we can see that the model uses [WordPiece](#wordpiece). -->"
      ]
    },
    {
      "cell_type": "markdown",
      "metadata": {
        "id": "_RUWiE8tU-UQ"
      },
      "source": [
        "## はじめに\n",
        "<!-- ## Introduction -->"
      ]
    },
    {
      "cell_type": "markdown",
      "metadata": {
        "id": "sF439ucNU-UR"
      },
      "source": [
        "文を小さなチャンクに分割することは，見た目以上に難しい作業で，その方法も複数あります。\n",
        "例えば `\"Don't you love 🤗 Transformer? We sure do.“` という文章を見てみましょう。\n",
        "<!-- Splitting a text into smaller chunks is a task that is harder than it looks, and there are multiple ways of doing so.\n",
        "For instance, let's look at the sentence `\"Don't you love 🤗 Transformers? We sure do.\"` -->"
      ]
    },
    {
      "cell_type": "code",
      "execution_count": null,
      "metadata": {
        "hide_input": true,
        "id": "vo50FTQsU-UR"
      },
      "outputs": [],
      "source": [
        "#@title\n",
        "from IPython.display import HTML\n",
        "\n",
        "HTML('<iframe width=\"560\" height=\"315\" src=\"https://www.youtube.com/embed/nhJxYji1aho?rel=0&amp;controls=0&amp;showinfo=0\" frameborder=\"0\" allowfullscreen></iframe>')"
      ]
    },
    {
      "cell_type": "markdown",
      "metadata": {
        "id": "_SoxlVhSU-US"
      },
      "source": [
        "この文をトークン化する簡単な方法は，空白で分割することで，次のようになります。\n",
        "<!-- A simple way of tokenizing this text is to split it by spaces, which would give: -->\n",
        "\n",
        "```\n",
        "[\"Don't\", \"you\", \"love\", \"🤗\", \"Transformers?\", \"We\", \"sure\", \"do.\"]\n",
        "```\n",
        "\n",
        "トークン `\"Transformers?\"` と `\"do.\"` を見ると，句読点が単語 `\"Transformer\"` と `\"do\"` に付いていて，これは最適でないことに気がつきます。\n",
        "このように，句読点を考慮することで，モデルが単語とそれに続く可能性のある句読点記号の異なる表現を学習する必要がなくなり，モデルが学習しなければならない表現数が爆発的に増えることになります。\n",
        "句読点を考慮し，模範的な文をトークン化すると，以下のようになります。\n",
        "<!-- This is a sensible first step, but if we look at the tokens `\"Transformers?\"` and `\"do.\"`, we notice that the punctuation is attached to the words `\"Transformer\"` and `\"do\"`, which is suboptimal. \n",
        "We should take the punctuation into account so that a model does not have to learn a different representation of a word and every possible punctuation symbol that could follow it, which would explode the number of representations the model has to learn.\n",
        "Taking punctuation into account, tokenizing our exemplary text would give: -->\n",
        "\n",
        "```\n",
        "[\"Don\", \"'\", \"t\", \"you\", \"love\", \"🤗\", \"Transformers\", \"?\", \"We\", \"sure\", \"do\", \".\"]\n",
        "```\n",
        "\n",
        "良くなりました。\n",
        "しかし `\"Don't”` という単語をどう扱ったかは不利な点です。\n",
        "`\"Don't\"`  は `\"do not\"` の略なので `[\"Do\", \"n't\"]` とトークン化したほうがよいでしょう。\n",
        "ここからがややこしくなるのですが，各モデルが独自のトークン化器の型を持っている理由のひとつはここにあります。\n",
        "テキストをトークン化する際に適用する規則によって，同じ文でも異なるトークン化された出力が生成されます。\n",
        "事前学習済みモデルは，学習データのトークン化に使用されたのと同じ規則でトークン化された入力を与えて初めて正しく動作します。\n",
        "<!-- Better. \n",
        "However, it is disadvantageous, how the tokenization dealt with the word `\"Don't\"`. \n",
        "`\"Don't\"` stands for `\"do not\"`, so it would be better tokenized as `[\"Do\", \"n't\"]`. \n",
        "This is where things start getting complicated, and part of the reason each model has its own tokenizer type. \n",
        "Depending on the rules we apply for tokenizing a text, a different tokenized output is generated for the same text. \n",
        "A pretrained model only performs properly if you feed it an input that was tokenized with the same rules that were used to tokenize its training data. -->\n",
        "\n",
        "[spaCy](https://spacy.io/) と [Moses](http://www.statmt.org/moses/?n=Development.GetStarted) は，よく使われるルールベースのトークン化器です。\n",
        "これらを今回の例に適用すると *spaCy* と *Moses* は次のような出力になります。\n",
        "<!-- [spaCy](https://spacy.io/) and [Moses](http://www.statmt.org/moses/?n=Development.GetStarted) are two popular rule-based tokenizers. \n",
        "Applying them on our example, *spaCy* and *Moses* would output something like: -->\n",
        "\n",
        "```\n",
        "[\"Do\", \"n't\", \"you\", \"love\", \"🤗\", \"Transformers\", \"?\", \"We\", \"sure\", \"do\", \".\"]\n",
        "```\n",
        "\n",
        "ここでは、ルールベースのトークン化だけでなく，スペースと句読点のトークン化も行われていることがわかります。\n",
        "スペースと句読点のトークン化とルール ベースのトークン化は，どちらも単語のトークン化の例で，文章を単語に分割することと大まかに定義されます。\n",
        "テキストをより小さなチャンクに分割する最も直感的な方法ですが，このトークン化方法は，膨大なテキスト コーパスに問題が発生する可能性があります。\n",
        "この場合，スペースと句読点のトークン化では，通常，非常に大きな語彙 (使用されるすべての固有単語とトークンの集合) が生成されます。\n",
        "*例えば* [Transformer XL](https://huggingface.co/docs/transformers/master/en/model_doc/transformerxl) では，スペースと句読点のトークン化を使用しているため，語彙のサイズは 267,735 になります！ (訳注: Transformer XL では，スペースと句読点のトークン化を使用しているため，語彙のサイズが大きくなります。)\n",
        "<!-- As can be seen space and punctuation tokenization, as well as rule-based tokenization, is used here. \n",
        "Space and punctuation tokenization and rule-based tokenization are both examples of word tokenization, which is loosely defined as splitting sentences into words. \n",
        "While it's the most intuitive way to split texts into smaller chunks, this tokenization method can lead to problems for massive text corpora. \n",
        "In this case, space and punctuation tokenization usually generates a very big vocabulary (the set of all unique words and tokens used). \n",
        "*E.g.*, [Transformer XL](https://huggingface.co/docs/transformers/master/en/model_doc/transformerxl) uses space and punctuation tokenization, resulting in a vocabulary size of 267,735!-->\n",
        "\n",
        "このような大きな語彙サイズを持つモデルは，入力層と出力層に巨大な埋め込み行列を持たざるを得ず，メモリと時間の複雑さを増大させる原因となっています。\n",
        "一般に，トランスフォーマーモデルが 50,000 を超える語彙サイズを持つことは稀で，特に単一言語のみで事前学習した場合はその傾向が顕著です。\n",
        "<!-- Such a big vocabulary size forces the model to have an enormous embedding matrix as the input and output layer, which causes both an increased memory and time complexity. \n",
        "In general, transformers models rarely have a vocabulary size greater than 50,000, especially if they are pretrained only on a single language. -->\n",
        "\n",
        "では，単純なスペースと句読点のトークン化では満足できない場合，なぜ単純に文字でトークン化しないのでしょうか？\n",
        "<!-- So if simple space and punctuation tokenization is unsatisfactory, why not simply tokenize on characters? -->"
      ]
    },
    {
      "cell_type": "code",
      "execution_count": null,
      "metadata": {
        "hide_input": true,
        "id": "_RlZ0od6U-UT"
      },
      "outputs": [],
      "source": [
        "#@title\n",
        "from IPython.display import HTML\n",
        "\n",
        "HTML('<iframe width=\"560\" height=\"315\" src=\"https://www.youtube.com/embed/ssLq_EK2jLE?rel=0&amp;controls=0&amp;showinfo=0\" frameborder=\"0\" allowfullscreen></iframe>')"
      ]
    },
    {
      "cell_type": "markdown",
      "metadata": {
        "id": "lVNEa8kQU-UT"
      },
      "source": [
        "文字トークン化は非常に単純で，メモリと時間の複雑さを大幅に軽減することができます。\n",
        "ですが，モデルが意味のある入力表現を学習することは非常に難しくなります。\n",
        "例えば，文字 `t` に対して意味のある文脈に依存しない表現を学習することは，単語 `today` に対して文脈に依存しない表現を学習することよりはるかに困難です。\n",
        "したがって，文字トークン化はしばしば性能の低下を伴います。\n",
        "そこで変換モデルでは，単語レベルと文字レベルのトークン化のハイブリッドである **部分単語 subword** トークン化を用いて，両者の長所を活かすようにしています。\n",
        "<!-- While character tokenization is very simple and would greatly reduce memory and time complexity it makes it much harder for the model to learn meaningful input representations. \n",
        "*E.g.* learning a meaningful context-independent representation for the letter `\"t\"` is much harder than learning a context-independent representation for the word `\"today\"`. \n",
        "Therefore, character tokenization is often accompanied by a loss of performance. \n",
        "So to get the best of both worlds, transformers models use a hybrid between word-level and character-level tokenization called **subword** tokenization. -->"
      ]
    },
    {
      "cell_type": "markdown",
      "metadata": {
        "id": "ZhQ4O1GvU-UT"
      },
      "source": [
        "### 部分単語トークン化\n",
        "<!-- ### Subword tokenization -->"
      ]
    },
    {
      "cell_type": "code",
      "execution_count": null,
      "metadata": {
        "hide_input": true,
        "id": "nx5OZpJfU-UU"
      },
      "outputs": [],
      "source": [
        "#@title\n",
        "from IPython.display import HTML\n",
        "\n",
        "HTML('<iframe width=\"560\" height=\"315\" src=\"https://www.youtube.com/embed/zHvTiHr506c?rel=0&amp;controls=0&amp;showinfo=0\" frameborder=\"0\" allowfullscreen></iframe>')"
      ]
    },
    {
      "cell_type": "markdown",
      "metadata": {
        "id": "ar4VVLLKU-UU"
      },
      "source": [
        "部分単語型トークン化アルゴリズムは，頻繁に使われる単語はより小さな部分単語に分割すべきではないが，稀な単語は意味のある部分単語に分解すべきであるという原則に基づいています。\n",
        "例えば `annouraingly` は珍しい単語とみなされ，`annouraingly`と`ly` に分解される可能性があります。\n",
        "この場合 `annouraingly` と `ly` の両方が独立した部分単語としてより頻繁に出現すると同時に，`annouraingly` の意味は `annouraingly` と `ly` の合成意味によって維持されることになります。\n",
        "これはトルコ語のような膠着語では特に有効で，部分単語をつなぎ合わせることで (ほぼ) 任意に長い複合語を形成することができます。\n",
        "<!-- Subword tokenization algorithms rely on the principle that frequently used words should not be split into smaller subwords, but rare words should be decomposed into meaningful subwords. \n",
        "For instance `\"annoyingly\"` might be considered a rare word and could be decomposed into `\"annoying\"` and `\"ly\"`. Both `\"annoying\"` and `\"ly\"` as stand-alone subwords would appear more frequently while at the same time the meaning of `\"annoyingly\"` is kept by the composite meaning of `\"annoying\"` and `\"ly\"`. \n",
        "This is especially useful in agglutinative languages such as Turkish, where you can form (almost) arbitrarily long complex words by stringing together subwords.-->\n",
        "\n",
        "部分単語型トークン化により，モデルは適度な語彙数を持ちながら，意味のある文脈に依存しない表現を学習することができます。\n",
        "さらに，部分単語型トークン化により，モデルは初めて目にする単語を既知の部分単語に分解して処理することができます。\n",
        "例えば [BertTokenizer](https://huggingface.co/docs/transformers/master/en/model_doc/bert#transformers.BertTokenizer)  は `I have a new GPU!` を次のようにトークン化します。\n",
        "<!-- Subword tokenization allows the model to have a reasonable vocabulary size while being able to learn meaningful context-independent representations. \n",
        "In addition, subword tokenization enables the model to process words it has never seen before, by decomposing them into known subwords. \n",
        "For instance, the [BertTokenizer](https://huggingface.co/docs/transformers/master/en/model_doc/bert#transformers.BertTokenizer) tokenizes `\"I have a new GPU!\"` as follows: -->"
      ]
    },
    {
      "cell_type": "code",
      "execution_count": null,
      "metadata": {
        "id": "ep3zW_1VU-UU"
      },
      "outputs": [],
      "source": [
        "from transformers import BertTokenizer\n",
        "\n",
        "tokenizer = BertTokenizer.from_pretrained(\"bert-base-uncased\")\n",
        "tokenizer.tokenize(\"I have a new GPU!\")"
      ]
    },
    {
      "cell_type": "markdown",
      "metadata": {
        "id": "NePPTx6rU-UU"
      },
      "source": [
        "大文字小文字を区別しないモデルを考えているため，まず文が小文字になりました。\n",
        "単語 `[\"i\", \"have\", \"a\", \"new\"]` はトークン化器の語彙に存在するが，単語 `gpu` は存在しないことが分かります。\n",
        "その結果，トークン化器は `gpu` を既知の部分単語に \"gp\"と \"##u” に分割します。\n",
        "このとき `##` は，トークンの残りの部分をスペースなしで前のトークンにくっつけることを意味します (復号化やトークン化反転のため)。\n",
        "<!-- Because we are considering the uncased model, the sentence was lowercased first. \n",
        "We can see that the words `[\"i\", \"have\", \"a\", \"new\"]` are present in the tokenizer's vocabulary, but the word `\"gpu\"` is not. \n",
        "Consequently, the tokenizer splits `\"gpu\"` into known subwords: `[\"gp\" and \"##u\"]`. \n",
        "`\"##\"` means that the rest of the token should be attached to the previous one, without space (for decoding or reversal of the tokenization).-->\n",
        "\n",
        "別例として [XLNetTokenizer](https://huggingface.co/docs/transformers/master/en/model_doc/xlnet#transformers.XLNetTokenizer) は，先に例示した文を次のようにトークン化します。\n",
        "<!-- As another example, [XLNetTokenizer](https://huggingface.co/docs/transformers/master/en/model_doc/xlnet#transformers.XLNetTokenizer) tokenizes our previously exemplary text as follows: -->"
      ]
    },
    {
      "cell_type": "code",
      "source": [
        "!pip install simpletransformers"
      ],
      "metadata": {
        "id": "RO-kGn55cmMi"
      },
      "execution_count": null,
      "outputs": []
    },
    {
      "cell_type": "code",
      "execution_count": null,
      "metadata": {
        "id": "yal0pp0cU-UV",
        "outputId": "642d9a30-a4e7-4aee-9753-b74e9bf1b7fb",
        "colab": {
          "base_uri": "https://localhost:8080/",
          "height": 222
        }
      },
      "outputs": [
        {
          "output_type": "error",
          "ename": "TypeError",
          "evalue": "ignored",
          "traceback": [
            "\u001b[0;31m---------------------------------------------------------------------------\u001b[0m",
            "\u001b[0;31mTypeError\u001b[0m                                 Traceback (most recent call last)",
            "\u001b[0;32m<ipython-input-8-e377d5ce4181>\u001b[0m in \u001b[0;36m<module>\u001b[0;34m()\u001b[0m\n\u001b[1;32m      1\u001b[0m \u001b[0;31m#from transformers import XLNetTokenizer\u001b[0m\u001b[0;34m\u001b[0m\u001b[0;34m\u001b[0m\u001b[0;34m\u001b[0m\u001b[0m\n\u001b[1;32m      2\u001b[0m \u001b[0;34m\u001b[0m\u001b[0m\n\u001b[0;32m----> 3\u001b[0;31m \u001b[0mtokenizer\u001b[0m \u001b[0;34m=\u001b[0m \u001b[0mXLNetTokenizer\u001b[0m\u001b[0;34m.\u001b[0m\u001b[0mfrom_pretrained\u001b[0m\u001b[0;34m(\u001b[0m\u001b[0;34m\"xlnet-base-cased\"\u001b[0m\u001b[0;34m)\u001b[0m\u001b[0;34m\u001b[0m\u001b[0;34m\u001b[0m\u001b[0m\n\u001b[0m\u001b[1;32m      4\u001b[0m \u001b[0mtokenizer\u001b[0m\u001b[0;34m.\u001b[0m\u001b[0mtokenize\u001b[0m\u001b[0;34m(\u001b[0m\u001b[0;34m\"Don't you love 🤗 Transformers? We sure do.\"\u001b[0m\u001b[0;34m)\u001b[0m\u001b[0;34m\u001b[0m\u001b[0;34m\u001b[0m\u001b[0m\n",
            "\u001b[0;31mTypeError\u001b[0m: 'NoneType' object is not callable"
          ]
        }
      ],
      "source": [
        "#from transformers import XLNetTokenizer\n",
        "\n",
        "tokenizer = XLNetTokenizer.from_pretrained(\"xlnet-base-cased\")\n",
        "tokenizer.tokenize(\"Don't you love 🤗 Transformers? We sure do.\")"
      ]
    },
    {
      "cell_type": "markdown",
      "metadata": {
        "id": "8aiiWpmNU-UV"
      },
      "source": [
        "この `▁` の意味については [SentencePiece](#sentencepiece) を見るときにまた説明します。\n",
        "見てわかるように，低頻度語 `Transformers` は，より頻繁に使われる部分単語 `Transform` と `ers` に分割されています。\n",
        "<!-- We'll get back to the meaning of those `\"▁\"` when we look at [SentencePiece](#sentencepiece). \n",
        "As one can see, the rare word `\"Transformers\"` has been split into the more frequent subwords `\"Transform\"` and `\"ers\"`.-->\n",
        "\n",
        "次に，異なる部分単語 トークン化アルゴリズムがどのように機能するかを見てみましょう。\n",
        "これらのトークン化アルゴリズムはすべて，対応するモデルが学習されるコーパスで通常行われる，何らかの学習に依存していることに注意してください。\n",
        "<!-- Let's now look at how the different subword tokenization algorithms work. \n",
        "Note that all of those tokenization algorithms rely on some form of training which is usually done on the corpus the corresponding model will be trained on. -->\n",
        "\n",
        "<a id='byte-pair-encoding'></a>"
      ]
    },
    {
      "cell_type": "markdown",
      "metadata": {
        "id": "EHZFyVVcU-UV"
      },
      "source": [
        "## バイト対 符号化 (BPE: Byte-Pair encoding)\n",
        "<!-- ## Byte-Pair Encoding (BPE) -->"
      ]
    },
    {
      "cell_type": "markdown",
      "metadata": {
        "id": "ndRHd40uU-UV"
      },
      "source": [
        "バイト対符号化 (Byte-Pair Encoding: BPE) は [Neural Machine Translation of Rare Words with Subword Units (Sennrich et al., 2015)](https://arxiv.org/abs/1508.07909) で紹介されています。\n",
        "BPE は学習データを単語に分割する事前トークン化器に依存します。\n",
        "事前トークン化器は，例えば [GPT-2](https://huggingface.co/docs/transformers/master/en/model_doc/gpt2),  [Roberta](https://huggingface.co/docs/transformers/master/en/model_doc/roberta) のように，空白トークン化器と同じくらい単純なものであることができます。\n",
        "例えば [XLM](https://huggingface.co/docs/transformers/master/en/model_doc/xlm),  [FlauBERT](https://huggingface.co/docs/transformers/master/en/model_doc/flaubert) はほとんどの言語で Moses を使用し，[GPT](https://huggingface.co/docs/transformers/master/en/model_doc/gpt) は Spacy と ftfy を使用して，学習コーパス中のそれぞれの単語の頻度を数えます。\n",
        "<!-- Byte-Pair Encoding (BPE) was introduced in [Neural Machine Translation of Rare Words with Subword Units (Sennrich et al., 2015)](https://arxiv.org/abs/1508.07909). \n",
        "BPE relies on a pre-tokenizer that splits the training data into words. \n",
        "Pretokenization can be as simple as space tokenization, e.g. [GPT-2](https://huggingface.co/docs/transformers/master/en/model_doc/gpt2), [Roberta](https://huggingface.co/docs/transformers/master/en/model_doc/roberta). \n",
        "More advanced pre-tokenization include rule-based tokenization, e.g. [XLM](https://huggingface.co/docs/transformers/master/en/model_doc/xlm), [FlauBERT](https://huggingface.co/docs/transformers/master/en/model_doc/flaubert) which uses Moses for most languages, or [GPT](https://huggingface.co/docs/transformers/master/en/model_doc/gpt) which uses Spacy and ftfy, to count the frequency of each word in the training corpus. -->\n",
        "\n",
        "事前トークン化後，ユニークな単語集合を作成し，各単語の学習データにおける出現頻度を決定します。\n",
        "次に，固有単語集合に出現する全ての記号からなる基本語彙を作成し，基本語彙の 2 つの記号から新しい記号を形成する結合規則を学習します。\n",
        "これは，語彙が所望の語彙規模に達するまで行われます。\n",
        "希望する語彙規模は，トークン化器を学習する前に定義するハイパーパラメータであることに注意。\n",
        "<!-- After pre-tokenization, a set of unique words has been created and the frequency of each word it occurred in the training data has been determined. \n",
        "Next, BPE creates a base vocabulary consisting of all symbols that occur in the set of unique words and learns merge rules to form a new symbol from two symbols of the base vocabulary. \n",
        "It does so until the vocabulary has attained the desired vocabulary size. \n",
        "Note that the desired vocabulary size is a hyperparameter to define before training the tokenizer. -->\n",
        "\n",
        "例として，事前トークン化後，以下のような単語とその頻度の集合が決定されたとします。\n",
        "<!-- As an example, let's assume that after pre-tokenization, the following set of words including their frequency has been determined: -->\n",
        "\n",
        "```\n",
        "(\"hug\", 10), (\"pug\", 5), (\"pun\", 12), (\"bun\", 4), (\"hugs\", 5)\n",
        "```\n",
        "\n",
        "したがって，基本語彙は `[\"b\", \"g\", \"h\", \"n\", \"p\", \"s\", \"u\"]` となります。\n",
        "すべての単語を基本語彙の記号に分割すると，以下のようになります。\n",
        "<!-- Consequently, the base vocabulary is `[\"b\", \"g\", \"h\", \"n\", \"p\", \"s\", \"u\"]`. Splitting all words into symbols of the base vocabulary, we obtain: -->\n",
        "\n",
        "```\n",
        "(\"h\" \"u\" \"g\", 10), (\"p\" \"u\" \"g\", 5), (\"p\" \"u\" \"n\", 12), (\"b\" \"u\" \"n\", 4), (\"h\" \"u\" \"g\" \"s\", 5)\n",
        "```\n",
        "\n",
        "BPE は，可能性のある記号対の頻度を数え，最も頻繁に出現する記号対を選び出します。\n",
        "上例では `h` の後に`u` が続くのは 10 + 5 = 15  回です\n",
        " (`hug` が 10 回出現する中で 10 回，`hugs` が 5 回出現する中で 5 回)。\n",
        "しかし，最も頻出する記号対は `u` の次に `g` で，合計で 10 + 5 + 5 = 20 回出現します。\n",
        "したがって，トークン化器が最初に学習する結合規則は，`u` の後に`g` が続く記号をすべて一緒にすることです。\n",
        "次に `ug` が語彙に追加されます。\n",
        "その結果，単語の集合は次のようになります。\n",
        "<!-- BPE then counts the frequency of each possible symbol pair and picks the symbol pair that occurs most frequently. \n",
        "In the example above `\"h\"` followed by `\"u\"` is present _10 + 5 = 15_ times (10 times in the 10 occurrences of `\"hug\"`, 5 times in the 5 occurrences of `\"hugs\"`). However, the most frequent symbol pair is `\"u\"` followed by `\"g\"`, occurring _10 + 5 + 5 = 20_ times in total. \n",
        "Thus, the first merge rule the tokenizer learns is to group all `\"u\"` symbols followed by a `\"g\"` symbol together. Next, `\"ug\"` is added to the vocabulary. \n",
        "The set of words then becomes -->\n",
        "\n",
        "\n",
        "```\n",
        "(\"h\" \"ug\", 10), (\"p\" \"ug\", 5), (\"p\" \"u\" \"n\", 12), (\"b\" \"u\" \"n\", 4), (\"h\" \"ug\" \"s\", 5)\n",
        "```\n",
        "\n",
        "次に BPE は，最も一般的な記号の対を特定する。\n",
        "それは `u` に続いて `n` で 16 回出現しています。\n",
        "`u`, `n` は `un` に統合され，語彙に追加されます。\n",
        "次に頻出するのは `h` に続く `ug` で 15 回出現しています。\n",
        "ここでも対はマージされ，`hug` が語彙に追加されます。\n",
        "<!-- BPE then identifies the next most common symbol pair. \n",
        "It's `\"u\"` followed by `\"n\"`, which occurs 16 times. \n",
        "`\"u\"`,  `\"n\"` is merged to `\"un\"` and added to the vocabulary. \n",
        "The next most frequent symbol pair is `\"h\"` followed by `\"ug\"`, occurring 15 times. \n",
        "Again the pair is merged and `\"hug\"` can be added to the vocabulary. -->\n",
        "\n",
        "この段階では，語彙は `[\"b\", \"g\", \"h\", \"n\", \"p\", \"s\", \"u\", \"ug\", \"un\", \"hug\"]` で，固有語の集合は次のように表されます。\n",
        "<!-- At this stage, the vocabulary is `[\"b\", \"g\", \"h\", \"n\", \"p\", \"s\", \"u\", \"ug\", \"un\", \"hug\"]` and our set of unique words is represented as -->\n",
        "\n",
        "```\n",
        "(\"hug\", 10), (\"p\" \"ug\", 5), (\"p\" \"un\", 12), (\"b\" \"un\", 4), (\"hug\" \"s\", 5)\n",
        "```\n",
        "\n",
        "この時点で バイトペアエンコーディングの学習が終了したと仮定すると，学習した結合規則を新しい単語に適用します (ただし，新しい単語に基本語彙にない記号が含まれない限り)。\n",
        "例えば `bug` という単語は `[\"b\", \"ug\"]` にトークン化されますが，`mug` という単語は `[\"<unk>\", \"ug\"]` になります。\n",
        "これは `m` という記号が基本語彙にないことが理由です。\n",
        "一般に `m` のような一文字は，学習データに各文字が少なくとも 1 回は含まれているため `<unk>` という記号に置き換えられることはありませんが，絵文字のような非常に特殊な文字では起こりやすいようです。\n",
        "<!-- Assuming, that the Byte-Pair Encoding training would stop at this point, the learned merge rules would then be applied to new words (as long as those new words do not include symbols that were not in the base vocabulary). \n",
        "For instance, the word `\"bug\"` would be tokenized to `[\"b\", \"ug\"]` but `\"mug\"` would be tokenized as `[\"<unk>\", \"ug\"]` since the symbol `\"m\"` is not in the base vocabulary. \n",
        "In general, single letters such as `\"m\"` are not replaced by the `\"<unk>\"` symbol because the training data usually includes at least one occurrence of each letter, but it is likely to happen for very special characters like emojis.-->\n",
        "\n",
        "前述したように，語彙サイズ，すなわち 基本語彙サイズ + マージ数 はハイパーパラメータです。\n",
        "例えば [GPT](https://huggingface.co/docs/transformers/master/en/model_doc/gpt) の場合，基本文字数が 478 文字であり，40,000 回のマージを行った時点で学習を停止することにしているので，語彙のサイズは 40,478 となっています。\n",
        "<!-- As mentioned earlier, the vocabulary size, *i.e.* the base vocabulary size + the number of merges, is a hyperparameter\n",
        "to choose. For instance [GPT](https://huggingface.co/docs/transformers/master/en/model_doc/gpt) has a vocabulary size of 40,478 since they have 478 base characters\n",
        "and chose to stop training after 40,000 merges. -->"
      ]
    },
    {
      "cell_type": "markdown",
      "metadata": {
        "id": "wzL6gmYGU-UV"
      },
      "source": [
        "### バイトレベル BPE\n",
        "<!-- ### Byte-level BPE -->"
      ]
    },
    {
      "cell_type": "markdown",
      "metadata": {
        "id": "9_bmqhd8U-UV"
      },
      "source": [
        "ユニコード文字をすべて基本文字とみなすと，すべての基本文字を含む基本語彙は非常に大きくなります。\n",
        "[GPT-2](https://cdn.openai.com/better-language-models/language_models_are_unsupervised_multitask_learners.pdf) では，よりよい基本語彙を持つために，バイトを基本語彙として使用しています。\n",
        "これは，すべての基本文字が語彙に含まれることを保証しながら，基本語彙を強制的に256 サイズにする巧妙なトリックです。\n",
        "句読点を扱うルールをいくつか追加すれば，GPT2 のトークン化器は `<unk>` 記号を必要とせずにすべての文をトークン化することができます。\n",
        "[GPT-2](https://huggingface.co/docs/transformers/master/en/model_doc/gpt) の語彙規模は 50,257 で，これは 256 バイトの基本トークン，特別なテキスト終了トークン，および 50,000 回の結合で学習された記号に対応します。\n",
        "<!-- A base vocabulary that includes all possible base characters can be quite large if *e.g.* all unicode characters are considered as base characters. \n",
        "To have a better base vocabulary, [GPT-2](https://cdn.openai.com/better-language-models/language_models_are_unsupervised_multitask_learners.pdf) uses bytes as the base vocabulary, which is a clever trick to force the base vocabulary to be of size 256 while ensuring that every base character is included in the vocabulary. \n",
        "With some additional rules to deal with punctuation, the GPT2's tokenizer can tokenize every text without the need for the <unk> symbol. \n",
        "[GPT-2](https://huggingface.co/docs/transformers/master/en/model_doc/gpt) has a vocabulary size of 50,257, which corresponds to the 256 bytes base tokens, a special end-of-text token and the symbols learned with 50,000 merges. -->\n",
        "\n",
        "<a id='wordpiece'></a>"
      ]
    },
    {
      "cell_type": "markdown",
      "metadata": {
        "id": "KGRsWIrPU-UW"
      },
      "source": [
        "#### ワードピース WordPiece\n",
        "<!-- #### WordPiece -->"
      ]
    },
    {
      "cell_type": "markdown",
      "metadata": {
        "id": "DMyPF42BU-UW"
      },
      "source": [
        "WordPiece は [BERT](https://huggingface.co/docs/transformers/master/en/model_doc/bert), [DistilBERT](https://huggingface.co/docs/transformers/master/en/model_doc/distilbert), [Electra](https://huggingface.co/docs/transformers/master/en/model_doc/electra) で使用された部分単語 トークン化アルゴリズムです。\n",
        "このアルゴリズムは [Japanese and Korean Voice Search (Schuster et al., 2012)](https://static.googleusercontent.com/media/research.google.com/ja//pubs/archive/37842.pdf) で概説されており，BPE と非常に類似しています。\n",
        "WordPiece はまず，学習データに含まれるすべての文字を含むように語彙を初期化し，所定の数の結合規則を漸進的に学習します。\n",
        "BPE とは対照的に WordPiece は最も頻度の高い記号対を選ぶのではなく，一度語彙に追加された学習データの尤度を最大化するものを選びます。\n",
        "<!-- WordPiece is the subword tokenization algorithm used for [BERT](https://huggingface.co/docs/transformers/master/en/model_doc/bert), [DistilBERT](https://huggingface.co/docs/transformers/master/en/model_doc/distilbert), and [Electra](https://huggingface.co/docs/transformers/master/en/model_doc/electra). The algorithm was outlined in [Japanese and Korean Voice Search (Schuster et al., 2012)](https://static.googleusercontent.com/media/research.google.com/ja//pubs/archive/37842.pdf) and is very similar to BPE. \n",
        "WordPiece first initializes the vocabulary to include every character present in the training data and progressively learns a given number of merge rules. In contrast to BPE, WordPiece does not choose the most frequent symbol pair, but the one that maximizes the likelihood of the training data once added to the vocabulary.-->\n",
        "\n",
        "では，これは具体的にどのような意味でしょうか？\n",
        "先ほどの例で言えば，学習データの尤度を最大にするということは，最初のシンボルと 2 番目の記号の確率を割った値が，全ての記号対の中で最大となる記号対を見つけることに相当します。\n",
        "例: `u`, `g` の順は，`ug` を `u`, `g` で割った確率が，他のどの記号対よりも大きい場合にのみ結合されたことになります。\n",
        "直感的には，WordPiece は BPE とは少し異なり，2 つの記号を結合することによって失うものを評価し，それが 「価値あるもの」であることを確認するのです。\n",
        "<!-- So what does this mean exactly? Referring to the previous example, maximizing the likelihood of the training data is equivalent to finding the symbol pair, whose probability divided by the probabilities of its first symbol followed by its second symbol is the greatest among all symbol pairs. \n",
        "*E.g.* `\"u\"`, followed by `\"g\"` would have only been merged if the probability of `\"ug\"` divided by `\"u\"`, `\"g\"` would have been greater than for any other symbol pair. \n",
        "Intuitively, WordPiece is slightly different to BPE in that it evaluates what it _loses_ by merging two symbols to ensure it's _worth it_. -->\n",
        "\n",
        "<a id='unigram'></a>"
      ]
    },
    {
      "cell_type": "markdown",
      "metadata": {
        "id": "hMPMmUt6U-UW"
      },
      "source": [
        "#### ユニグラム Unigram"
      ]
    },
    {
      "cell_type": "markdown",
      "metadata": {
        "id": "8sBXvH83U-UW"
      },
      "source": [
        "Unigram は [下位単語正則化 Subword Regularization] で紹介した下位単語 トークン化アルゴリズムです。\n",
        "[Improving Neural Network Translation Models with Multiple Subword Candidates (Kudo, 2018)](https://arxiv.org/pdf/1804.10959.pdf) で紹介されています。\n",
        "BPE や WordPiece とは対照的に，Unigram はベース語彙を大量の記号に初期化し，各記号を徐々に切り詰めてより小さな語彙を得ます。\n",
        "例えば，基本語彙はすべてのトークン化された単語と最も一般的な部分文字列に対応することができます。\n",
        "Unigram はトランスフォーマー transformer のどのモデルにも直接使用されませんが,\n",
        "[SentencePiece](#sentencepiece) と組み合わせて使用されます。\n",
        "<!-- Unigram is a subword tokenization algorithm introduced in [Subword Regularization: Improving Neural Network Translation Models with Multiple Subword Candidates (Kudo, 2018)](https://arxiv.org/pdf/1804.10959.pdf). \n",
        "In contrast to BPE or WordPiece, Unigram initializes its base vocabulary to a large number of symbols and progressively trims down each symbol to obtain a smaller vocabulary. \n",
        "The base vocabulary could for instance correspond to all pre-tokenized words and the most common substrings. \n",
        "Unigram is not used directly for any of the models in the transformers, but it's used in conjunction with [SentencePiece](#sentencepiece). -->\n",
        "\n",
        "各訓練ステップにおいて Unigram アルゴリズムは，現在の語彙と Unigram 言語モデルが与えられた訓練データに対する損失 (しばしば対数尤度と定義される) を定義します。\n",
        "そして，語彙内の各記号について，その記号が語彙から削除された場合に全体の損失がどの程度増加するかを計算します。\n",
        "そして，ユニグラムは損失の増加が最も少ない p 個 ( p は通常 10％ または 20％) の記号，すなわち学習データに対する全体の損失に最も影響を与えない記号を削除します。\n",
        "この処理を語彙が目的の規模になるまで繰り返します。\n",
        "ユニグラムアルゴリズムは常に基本文字を保持するため，どのような単語もトークン化することができます。\n",
        "<!-- At each training step, the Unigram algorithm defines a loss (often defined as the log-likelihood) over the training data given the current vocabulary and a unigram language model. \n",
        "Then, for each symbol in the vocabulary, the algorithm computes how much the overall loss would increase if the symbol was to be removed from the vocabulary. \n",
        "Unigram then removes p (with p usually being 10% or 20%) percent of the symbols whose loss increase is the lowest, *i.e.* those symbols that least affect the overall loss over the training data. \n",
        "This process is repeated until the vocabulary has reached the desired size. \n",
        "The Unigram algorithm always keeps the base characters so that any word can be tokenized. -->\n",
        "\n",
        "Unigram は ( BPE や WordPiece とは異なり) 結合規則に基づいていないため，アルゴリズムは学習後に新しい文をトークン化する方法をいくつか持っています。\n",
        "例として，訓練された  Unigram トークン化器が語彙を表示する場合: \n",
        "<!-- Because Unigram is not based on merge rules (in contrast to BPE and WordPiece), the algorithm has several ways of tokenizing new text after training. \n",
        "As an example, if a trained Unigram tokenizer exhibits the vocabulary:  -->\n",
        "\n",
        "```\n",
        "[\"b\", \"g\", \"h\", \"n\", \"p\", \"s\", \"u\", \"ug\", \"un\", \"hug\"],\n",
        "```\n",
        "\n",
        "`hugs` は `[\"hug\", \"s\"]`, `[\"h\", \"ug\", \"s\"]` または `[\"h\", \"u\", \"g\", \"s\"]` としてトークン化することが可能です。\n",
        "では、どれを選べばよいのでしょうか？\n",
        "Unigram は学習コーパスに含まれる各トークンの確率を語彙の保存と同時に保存するので，学習後に各トークン化の確率を計算することができます。\n",
        "このアルゴリズムは，実際には最も可能性の高いトークン化を選ぶだけですが，確率に応じて可能性のあるトークン化をサンプリングすることも可能です。\n",
        "<!-- `\"hugs\"` could be tokenized both as `[\"hug\", \"s\"]`, `[\"h\", \"ug\", \"s\"]` or `[\"h\", \"u\", \"g\", \"s\"]`. \n",
        "So which one to choose? \n",
        "Unigram saves the probability of each token in the training corpus on top of saving the vocabulary so that the probability of each possible tokenization can be computed after training. \n",
        "The algorithm simply picks the most likely tokenization in practice, but also offers the possibility to sample a possible tokenization according to their probabilities.-->\n",
        "\n",
        "これらの確率は，トークン化器が学習された損失によって定義されます。\n",
        "学習データが単語 $x_{1}, \\dots, x_{N}$ からなり，単語 $x_{i}$ に対する全ての可能なトークン化の集合を$S(x_{i})$ と定義すると，全体の損失は次のように定義されます。\n",
        "<!-- Those probabilities are defined by the loss the tokenizer is trained on. \n",
        "Assuming that the training data consists of the words $x_{1}, \\dots, x_{N}$ and that the set of all possible tokenizations for a word $x_{i}$ is defined as $S(x_{i})$, then the overall loss is defined as -->\n",
        "\n",
        "$$\\mathcal{L} = -\\sum_{i=1}^{N} \\log \\left ( \\sum_{x \\in S(x_{i})} p(x) \\right )$$\n",
        "\n",
        "<a id='sentencepiece'></a>"
      ]
    },
    {
      "cell_type": "markdown",
      "metadata": {
        "id": "qvcl29etU-UW"
      },
      "source": [
        "#### 文ピース SentencePiece\n",
        "<!-- #### SentencePiece -->"
      ]
    },
    {
      "cell_type": "markdown",
      "metadata": {
        "id": "eDCdATN-U-UW"
      },
      "source": [
        "これまで説明したトークン化アルゴリズムはすべて同じ問題を抱えています。\n",
        "入力文では，単語の区切りにスペースが使われていることが前提となっています。\n",
        "しかし，すべての言語で単語の区切りにスペースが使われているわけではありません。\n",
        "たとえば [XLM](https://huggingface.co/docs/transformers/master/en/model_doc/xlm) は中国語，日本語，タイ語に特化した事前トークン化器を使用しています)。\n",
        "この問題をより一般的に解決するために [SentencePiece: A simple and language independent subword tokenizer and detokenizer for Neural Text Processing (Kudo et al., 2018)](https://arxiv.org/pdf/1808.06226.pdf) は入力を生の入力系列として扱い，したがって使用する文字集合に空白を含めます。\n",
        "そして BPE またはユニグラムアルゴリズムを使用して，適切な語彙を構築します。\n",
        "<!-- All tokenization algorithms described so far have the same problem: \n",
        "It is assumed that the input text uses spaces to separate words. \n",
        "However, not all languages use spaces to separate words. \n",
        "One possible solution is to use language specific pre-tokenizers, *e.g.* [XLM](https://huggingface.co/docs/transformers/master/en/model_doc/xlm) uses a specific Chinese, Japanese, and Thai pre-tokenizer).\n",
        "To solve this problem more generally, [SentencePiece: A simple and language independent subword tokenizer and detokenizer for Neural Text Processing (Kudo et al., 2018)](https://arxiv.org/pdf/1808.06226.pdf) treats the input as a raw input stream, thus including the space in the set of characters to use. \n",
        "It then uses the BPE or unigram algorithm to construct the appropriate vocabulary. -->\n",
        "\n",
        "[XLNetTokenizer](https://huggingface.co/docs/transformers/master/en/model_doc/xlnet#transformers.XLNetTokenizer) では，例えば SentencePiece を使っていますが，先ほどの例で`▁` が語彙に含まれているのもそのためです。\n",
        "SentencePiece を用いた復号化は，全てのトークンを連結し，`▁` をスペースに置き換えるだけなので，非常に簡単です。\n",
        "<!-- The [XLNetTokenizer](https://huggingface.co/docs/transformers/master/en/model_doc/xlnet#transformers.XLNetTokenizer) uses SentencePiece for example, which is also why in the example earlier the `\"▁\"` character was included in the vocabulary. \n",
        "Decoding with SentencePiece is very easy since all tokens can just be concatenated and `\"▁\"` is replaced by a space.  -->\n",
        "\n",
        "ライブラリの中で SentencePiece を使用する全ての変換モデルは，unigram と組み合わせて使用します。\n",
        "SentencePiece を使用するモデルの例としては [ALBERT](https://huggingface.co/docs/transformers/master/en/model_doc/albert), [XLNet](https://huggingface.co/docs/transformers/master/en/model_doc/xlnet), [Marian](https://huggingface.co/docs/transformers/master/en/model_doc/marian), そして [T5](https://huggingface.co/docs/transformers/master/en/model_doc/t5) が挙げられます。\n",
        "<!-- All transformers models in the library that use SentencePiece use it in combination with unigram. \n",
        "Examples of models using SentencePiece are [ALBERT](https://huggingface.co/docs/transformers/master/en/model_doc/albert), [XLNet](https://huggingface.co/docs/transformers/master/en/model_doc/xlnet), [Marian](https://huggingface.co/docs/transformers/master/en/model_doc/marian), and [T5](https://huggingface.co/docs/transformers/master/en/model_doc/t5). -->"
      ]
    },
    {
      "cell_type": "code",
      "source": [
        ""
      ],
      "metadata": {
        "id": "HIzNIOqEl_E1"
      },
      "execution_count": null,
      "outputs": []
    }
  ],
  "metadata": {
    "colab": {
      "name": "2022_0316Huggingface_tutorial_tokenizer_summary.ipynb",
      "provenance": [],
      "include_colab_link": true
    },
    "language_info": {
      "name": "python"
    },
    "kernelspec": {
      "name": "python3",
      "display_name": "Python 3"
    }
  },
  "nbformat": 4,
  "nbformat_minor": 0
}