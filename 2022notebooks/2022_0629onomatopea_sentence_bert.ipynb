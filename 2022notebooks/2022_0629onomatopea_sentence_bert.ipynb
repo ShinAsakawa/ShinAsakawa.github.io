{
  "cells": [
    {
      "cell_type": "markdown",
      "metadata": {
        "id": "view-in-github",
        "colab_type": "text"
      },
      "source": [
        "<a href=\"https://colab.research.google.com/github/ShinAsakawa/ShinAsakawa.github.io/blob/master/2022notebooks/2022_0629onomatopea_sentence_bert.ipynb\" target=\"_parent\"><img src=\"https://colab.research.google.com/assets/colab-badge.svg\" alt=\"Open In Colab\"/></a>"
      ]
    },
    {
      "cell_type": "markdown",
      "id": "b0bb047e-9ce4-485a-93c5-a36096f31e09",
      "metadata": {
        "id": "b0bb047e-9ce4-485a-93c5-a36096f31e09"
      },
      "source": [
        "# 1. オノマトペ単語を sentenceBERT で処理する"
      ]
    },
    {
      "cell_type": "code",
      "execution_count": 1,
      "id": "e12b7217-d3e3-40d2-91cc-f10889cf4a26",
      "metadata": {
        "id": "e12b7217-d3e3-40d2-91cc-f10889cf4a26",
        "outputId": "bbd1d6f4-5350-4ded-989b-e1733442975a",
        "colab": {
          "base_uri": "https://localhost:8080/"
        }
      },
      "outputs": [
        {
          "output_type": "stream",
          "name": "stdout",
          "text": [
            "Cloning into 'bit'...\n",
            "remote: Enumerating objects: 246, done.\u001b[K\n",
            "remote: Counting objects: 100% (246/246), done.\u001b[K\n",
            "remote: Compressing objects: 100% (98/98), done.\u001b[K\n",
            "remote: Total 246 (delta 192), reused 158 (delta 144), pack-reused 0\u001b[K\n",
            "Receiving objects: 100% (246/246), 1.11 MiB | 5.18 MiB/s, done.\n",
            "Resolving deltas: 100% (192/192), done.\n",
            "日付: \u001b[1m\u001b[32m2022-07-05\u001b[0m\n",
            "HOSTNAME: \u001b[1m\u001b[32mdfc8077bdf36\u001b[0m\n",
            "ユーザ名: \u001b[1m\u001b[32mroot\u001b[0m\n",
            "HOME: \u001b[1m\u001b[32m/root\u001b[0m\n",
            "ファイル名: \u001b[1m\u001b[32m/fileId=https%3A%2F%2Fgithub.com%2FShinAsakawa%2FShinAsakawa.github.io%2Fblob%2Fmaster%2F2022notebooks%2F2022_0629onomatopea_sentence_bert.ipynb\u001b[0m\n",
            "torch.__version__: \u001b[1m\u001b[32m1.11.0+cu113\u001b[0m\n",
            "Looking in indexes: https://pypi.org/simple, https://us-python.pkg.dev/colab-wheels/public/simple/\n",
            "Requirement already satisfied: xlrd in /usr/local/lib/python3.7/dist-packages (1.1.0)\n",
            "Collecting xlrd\n",
            "  Downloading xlrd-2.0.1-py2.py3-none-any.whl (96 kB)\n",
            "\u001b[K     |████████████████████████████████| 96 kB 3.2 MB/s \n",
            "\u001b[?25hInstalling collected packages: xlrd\n",
            "  Attempting uninstall: xlrd\n",
            "    Found existing installation: xlrd 1.1.0\n",
            "    Uninstalling xlrd-1.1.0:\n",
            "      Successfully uninstalled xlrd-1.1.0\n",
            "Successfully installed xlrd-2.0.1\n",
            "Looking in indexes: https://pypi.org/simple, https://us-python.pkg.dev/colab-wheels/public/simple/\n",
            "Collecting fugashi[ipadic]\n",
            "  Downloading fugashi-1.1.2-cp37-cp37m-manylinux_2_17_x86_64.manylinux2014_x86_64.whl (568 kB)\n",
            "\u001b[K     |████████████████████████████████| 568 kB 4.1 MB/s \n",
            "\u001b[33mWARNING: fugashi 1.1.2 does not provide the extra 'ipadic'\u001b[0m\n",
            "\u001b[?25hInstalling collected packages: fugashi\n",
            "Successfully installed fugashi-1.1.2\n",
            "Looking in indexes: https://pypi.org/simple, https://us-python.pkg.dev/colab-wheels/public/simple/\n",
            "Requirement already satisfied: fugashi[unidic] in /usr/local/lib/python3.7/dist-packages (1.1.2)\n",
            "Collecting unidic\n",
            "  Downloading unidic-1.1.0.tar.gz (7.7 kB)\n",
            "Requirement already satisfied: requests<3.0.0,>=2.22.0 in /usr/local/lib/python3.7/dist-packages (from unidic->fugashi[unidic]) (2.23.0)\n",
            "Requirement already satisfied: tqdm<5.0.0,>=4.41.1 in /usr/local/lib/python3.7/dist-packages (from unidic->fugashi[unidic]) (4.64.0)\n",
            "Requirement already satisfied: wasabi<1.0.0,>=0.6.0 in /usr/local/lib/python3.7/dist-packages (from unidic->fugashi[unidic]) (0.9.1)\n",
            "Collecting plac<2.0.0,>=1.1.3\n",
            "  Downloading plac-1.3.5-py2.py3-none-any.whl (22 kB)\n",
            "Requirement already satisfied: urllib3!=1.25.0,!=1.25.1,<1.26,>=1.21.1 in /usr/local/lib/python3.7/dist-packages (from requests<3.0.0,>=2.22.0->unidic->fugashi[unidic]) (1.24.3)\n",
            "Requirement already satisfied: certifi>=2017.4.17 in /usr/local/lib/python3.7/dist-packages (from requests<3.0.0,>=2.22.0->unidic->fugashi[unidic]) (2022.6.15)\n",
            "Requirement already satisfied: idna<3,>=2.5 in /usr/local/lib/python3.7/dist-packages (from requests<3.0.0,>=2.22.0->unidic->fugashi[unidic]) (2.10)\n",
            "Requirement already satisfied: chardet<4,>=3.0.2 in /usr/local/lib/python3.7/dist-packages (from requests<3.0.0,>=2.22.0->unidic->fugashi[unidic]) (3.0.4)\n",
            "Building wheels for collected packages: unidic\n",
            "  Building wheel for unidic (setup.py) ... \u001b[?25l\u001b[?25hdone\n",
            "  Created wheel for unidic: filename=unidic-1.1.0-py3-none-any.whl size=7426 sha256=e2b85a240c912cd5d4c2d165e141161368033d1358c1189fd23e1acfb81a92e5\n",
            "  Stored in directory: /root/.cache/pip/wheels/ce/4d/f1/170bb74b559ca338113c0315c9805e16dfd0a12411ec6b1122\n",
            "Successfully built unidic\n",
            "Installing collected packages: plac, unidic\n",
            "Successfully installed plac-1.3.5 unidic-1.1.0\n",
            "download url: https://cotonoha-dic.s3-ap-northeast-1.amazonaws.com/unidic-3.1.0.zip\n",
            "Dictionary version: 3.1.0+2021-08-31\n",
            "Downloading UniDic v3.1.0+2021-08-31...\n",
            "unidic-3.1.0.zip: 100% 526M/526M [00:08<00:00, 60.1MB/s]\n",
            "Finished download.\n",
            "Downloaded UniDic v3.1.0+2021-08-31 to /usr/local/lib/python3.7/dist-packages/unidic/dicdir\n",
            "Looking in indexes: https://pypi.org/simple, https://us-python.pkg.dev/colab-wheels/public/simple/\n",
            "Collecting ipadic\n",
            "  Downloading ipadic-1.0.0.tar.gz (13.4 MB)\n",
            "\u001b[K     |████████████████████████████████| 13.4 MB 4.2 MB/s \n",
            "\u001b[?25hBuilding wheels for collected packages: ipadic\n",
            "  Building wheel for ipadic (setup.py) ... \u001b[?25l\u001b[?25hdone\n",
            "  Created wheel for ipadic: filename=ipadic-1.0.0-py3-none-any.whl size=13556723 sha256=6e9123e48da0cf7fa553c1462570002b6236d138224867b8b47814981bc83f60\n",
            "  Stored in directory: /root/.cache/pip/wheels/33/8b/99/cf0d27191876637cd3639a560f93aa982d7855ce826c94348b\n",
            "Successfully built ipadic\n",
            "Installing collected packages: ipadic\n",
            "Successfully installed ipadic-1.0.0\n",
            "Looking in indexes: https://pypi.org/simple, https://us-python.pkg.dev/colab-wheels/public/simple/\n",
            "Collecting transformers\n",
            "  Downloading transformers-4.20.1-py3-none-any.whl (4.4 MB)\n",
            "\u001b[K     |████████████████████████████████| 4.4 MB 4.3 MB/s \n",
            "\u001b[?25hCollecting pyyaml>=5.1\n",
            "  Downloading PyYAML-6.0-cp37-cp37m-manylinux_2_5_x86_64.manylinux1_x86_64.manylinux_2_12_x86_64.manylinux2010_x86_64.whl (596 kB)\n",
            "\u001b[K     |████████████████████████████████| 596 kB 48.2 MB/s \n",
            "\u001b[?25hRequirement already satisfied: tqdm>=4.27 in /usr/local/lib/python3.7/dist-packages (from transformers) (4.64.0)\n",
            "Requirement already satisfied: numpy>=1.17 in /usr/local/lib/python3.7/dist-packages (from transformers) (1.21.6)\n",
            "Requirement already satisfied: requests in /usr/local/lib/python3.7/dist-packages (from transformers) (2.23.0)\n",
            "Requirement already satisfied: regex!=2019.12.17 in /usr/local/lib/python3.7/dist-packages (from transformers) (2022.6.2)\n",
            "Collecting tokenizers!=0.11.3,<0.13,>=0.11.1\n",
            "  Downloading tokenizers-0.12.1-cp37-cp37m-manylinux_2_12_x86_64.manylinux2010_x86_64.whl (6.6 MB)\n",
            "\u001b[K     |████████████████████████████████| 6.6 MB 25.3 MB/s \n",
            "\u001b[?25hRequirement already satisfied: importlib-metadata in /usr/local/lib/python3.7/dist-packages (from transformers) (4.11.4)\n",
            "Collecting huggingface-hub<1.0,>=0.1.0\n",
            "  Downloading huggingface_hub-0.8.1-py3-none-any.whl (101 kB)\n",
            "\u001b[K     |████████████████████████████████| 101 kB 12.1 MB/s \n",
            "\u001b[?25hRequirement already satisfied: packaging>=20.0 in /usr/local/lib/python3.7/dist-packages (from transformers) (21.3)\n",
            "Requirement already satisfied: filelock in /usr/local/lib/python3.7/dist-packages (from transformers) (3.7.1)\n",
            "Requirement already satisfied: typing-extensions>=3.7.4.3 in /usr/local/lib/python3.7/dist-packages (from huggingface-hub<1.0,>=0.1.0->transformers) (4.1.1)\n",
            "Requirement already satisfied: pyparsing!=3.0.5,>=2.0.2 in /usr/local/lib/python3.7/dist-packages (from packaging>=20.0->transformers) (3.0.9)\n",
            "Requirement already satisfied: zipp>=0.5 in /usr/local/lib/python3.7/dist-packages (from importlib-metadata->transformers) (3.8.0)\n",
            "Requirement already satisfied: certifi>=2017.4.17 in /usr/local/lib/python3.7/dist-packages (from requests->transformers) (2022.6.15)\n",
            "Requirement already satisfied: idna<3,>=2.5 in /usr/local/lib/python3.7/dist-packages (from requests->transformers) (2.10)\n",
            "Requirement already satisfied: chardet<4,>=3.0.2 in /usr/local/lib/python3.7/dist-packages (from requests->transformers) (3.0.4)\n",
            "Requirement already satisfied: urllib3!=1.25.0,!=1.25.1,<1.26,>=1.21.1 in /usr/local/lib/python3.7/dist-packages (from requests->transformers) (1.24.3)\n",
            "Installing collected packages: pyyaml, tokenizers, huggingface-hub, transformers\n",
            "  Attempting uninstall: pyyaml\n",
            "    Found existing installation: PyYAML 3.13\n",
            "    Uninstalling PyYAML-3.13:\n",
            "      Successfully uninstalled PyYAML-3.13\n",
            "Successfully installed huggingface-hub-0.8.1 pyyaml-6.0 tokenizers-0.12.1 transformers-4.20.1\n",
            "Looking in indexes: https://pypi.org/simple, https://us-python.pkg.dev/colab-wheels/public/simple/\n",
            "Requirement already satisfied: termcolor in /usr/local/lib/python3.7/dist-packages (1.1.0)\n",
            "Looking in indexes: https://pypi.org/simple, https://us-python.pkg.dev/colab-wheels/public/simple/\n",
            "Collecting jaconv\n",
            "  Downloading jaconv-0.3.tar.gz (15 kB)\n",
            "Building wheels for collected packages: jaconv\n",
            "  Building wheel for jaconv (setup.py) ... \u001b[?25l\u001b[?25hdone\n",
            "  Created wheel for jaconv: filename=jaconv-0.3-py3-none-any.whl size=15564 sha256=5397c9386eb52321f7f41a6b8eafa220dc3e78c9f759f1d0db709a1f1148c56a\n",
            "  Stored in directory: /root/.cache/pip/wheels/8f/4f/c2/a2a3b14d0e94f855f4aa8887bf0267bee9ecfb8e62a9ee2d92\n",
            "Successfully built jaconv\n",
            "Installing collected packages: jaconv\n",
            "Successfully installed jaconv-0.3\n"
          ]
        }
      ],
      "source": [
        "%config InlineBackend.figure_format = 'retina'\n",
        "try:\n",
        "    import bit\n",
        "except ImportError:\n",
        "    !pip install ipynbname > /dev/null 2>&1\n",
        "    !git clone https://github.com/ShinAsakawa/bit.git\n",
        "import bit\n",
        "isColab = bit.isColab\n",
        "HOME = bit.HOME\n",
        "\n",
        "if isColab:\n",
        "    !pip install --upgrade xlrd\n",
        "    !pip install --upgrade 'fugashi[ipadic]'\n",
        "    !pip install --upgrade 'fugashi[unidic]'\n",
        "    !python -m unidic download\n",
        "    !pip install --upgrade ipadic\n",
        "    !pip install --upgrade transformers\n",
        "    !pip install --upgrade termcolor\n",
        "    !pip install --upgrade jaconv    "
      ]
    },
    {
      "cell_type": "code",
      "execution_count": 2,
      "id": "cb79a53d-dc56-4e25-b5c3-957744b5f1d8",
      "metadata": {
        "id": "cb79a53d-dc56-4e25-b5c3-957744b5f1d8"
      },
      "outputs": [],
      "source": [
        "from transformers import BertJapaneseTokenizer, BertModel\n",
        "import torch\n",
        "\n",
        "class SentenceBertJapanese:\n",
        "    def __init__(self, model_name_or_path, device=None):\n",
        "        self.tokenizer = BertJapaneseTokenizer.from_pretrained(model_name_or_path)\n",
        "        self.model = BertModel.from_pretrained(model_name_or_path)\n",
        "        self.model.eval()\n",
        "\n",
        "        if device is None:\n",
        "            device = \"cuda\" if torch.cuda.is_available() else \"cpu\"\n",
        "        self.device = torch.device(device)\n",
        "        self.model.to(device)\n",
        "\n",
        "    def _mean_pooling(self, model_output, attention_mask):\n",
        "        token_embeddings = model_output[0] #First element of model_output contains all token embeddings\n",
        "        input_mask_expanded = attention_mask.unsqueeze(-1).expand(token_embeddings.size()).float()\n",
        "        return torch.sum(token_embeddings * input_mask_expanded, 1) / torch.clamp(input_mask_expanded.sum(1), min=1e-9)\n",
        "\n",
        "    @torch.no_grad()\n",
        "    def encode(self, sentences, batch_size=8):\n",
        "        all_embeddings = []\n",
        "        iterator = range(0, len(sentences), batch_size)\n",
        "        for batch_idx in iterator:\n",
        "            batch = sentences[batch_idx:batch_idx + batch_size]\n",
        "\n",
        "            encoded_input = self.tokenizer.batch_encode_plus(batch, padding=\"longest\", \n",
        "                                           truncation=True, return_tensors=\"pt\").to(self.device)\n",
        "            model_output = self.model(**encoded_input)\n",
        "            sentence_embeddings = self._mean_pooling(model_output, encoded_input[\"attention_mask\"]).to('cpu')\n",
        "\n",
        "            all_embeddings.extend(sentence_embeddings)\n",
        "\n",
        "        # return torch.stack(all_embeddings).numpy()\n",
        "        return torch.stack(all_embeddings)"
      ]
    },
    {
      "cell_type": "code",
      "execution_count": 3,
      "id": "fbca8889-9135-4a4d-baa7-f32b6b40ad44",
      "metadata": {
        "id": "fbca8889-9135-4a4d-baa7-f32b6b40ad44",
        "outputId": "a879807a-5f47-426b-9c5a-19081cca54d9",
        "colab": {
          "base_uri": "https://localhost:8080/",
          "height": 263,
          "referenced_widgets": [
            "7730c19932ae4188888b41437d12d029",
            "0c31e3988e754fca9608df9fa5671c8b",
            "73176000ec644ef4b0936034ef499539",
            "7d1c98283f0c4a9fa0ec94c0926bcafb",
            "0f252594f19b4c1fa92513c967430991",
            "f7f93583970545f1b47ec2b4650293b8",
            "37cf0b32c05241a0bd35bdbb5a4dee08",
            "9e549906d4364ad98bf8173efbb25bad",
            "4883376dd53448e8ab8fa4b6343da67c",
            "6b9d967705ec4c449ca8c77c4522c816",
            "d18d811944a34297917c8d470d6038f7",
            "1684032f95d24dc1a4333d7d4400d152",
            "e3dd1d2639a240df9335284ca2c63b39",
            "5c06e44e0afe4939aafdd980af57c85b",
            "f56e56c7768442c0ba550d4f12687677",
            "395101c0551a476cab408707398f32aa",
            "9eea711396764999ac9a10c969592331",
            "287e83254f734a99b21e9ba576843449",
            "732c76c4cb6c4e68af966bfa960b5e31",
            "b94abf2f021441aaa6d658f15f97fcc6",
            "44bab616c11d46f1825fd3e30b4d3827",
            "c777e6c12efd498cb890cb5f638c10cd",
            "a183d2c819bb46618a55cf50da961ebd",
            "1a6b6432d6fb470e8d0e3f1eecaf94d6",
            "bfcd3bade1234acbae001d53be09f917",
            "fd376949a6554fa49ab59f52a5aefe5b",
            "b2f34ea8143d4caebb50d435eb391711",
            "d61aebabf03e4d809bdbcf0d181f3ba2",
            "84ce0005aaf24d2e944eb6ec72d0dbe5",
            "1200046451a34a45a90b6200648f9284",
            "a3feebe5ff3d443799f8b0ef7b61fb48",
            "1d91de1304f64f2ea69e448c0dce7abe",
            "5b87730cd8be4892829c71863f59f614",
            "54510b047a3e402cb63365a1a4d7044b",
            "cf526bf7ec504ee1aae7c76312a18f39",
            "edc3c5d572a84f44aa75bdf2d5956029",
            "571ad011c0d94d59ab406e77362e1378",
            "08007bce0d804edcb897c2f649de2ce9",
            "2d060765363e480aae7128332c73e14f",
            "0372bd7a6d264f1fa9706f935ea7b581",
            "b64bdf2f651a487bb7616112fec1c0ee",
            "689f701674004e80ae20d55e8d66674c",
            "cc412a7da0e6447e94835d1c60fcc38c",
            "8d27d07393f847729f9012967cbbd784",
            "e17354fb9b9840feb168962a00c2ea2c",
            "995a737d28b0428fbad67ed9e96a3b5e",
            "2ee14b68a05c4e36b014c731990ae068",
            "15d0c965e4a042308eb2423ff54eca45",
            "d7565783953d4a28a1bb2dc6865bf3dc",
            "4fa9509eb35542658a0ab5b5fa3c2efc",
            "1702df2237dd4c549f429f62b3c82587",
            "1ba45606beb84c60bcc97763bb715957",
            "e3e44a56f28d40168772644d29a36669",
            "7af8954b9e4449819b98e061388f9074",
            "1dcc8b47c85d4b328f64efaadcad9ab9",
            "83921610cac6414a996226a24118dde2",
            "5ea5159bce55416db23bebd256aaf3e1",
            "1d0b33f4ed0c463fa9adda2a6f233582",
            "57c9f79e15134877868492495b581d5c",
            "4a05c6373ccf4664b418aff5a1f83b0a",
            "bf00c7bd9b9b48909a1a706fdc77a863",
            "4d9c692449df424389621d4d98367d8c",
            "e546efdf2f7e4db8b5bbd6c4cf8b129b",
            "24c4137c61084e28a314d64c148e2d20",
            "552e3403457641368df222e331e33293",
            "879981e70a9a406d999f37876ea3fca6"
          ]
        }
      },
      "outputs": [
        {
          "output_type": "display_data",
          "data": {
            "text/plain": [
              "Downloading:   0%|          | 0.00/252k [00:00<?, ?B/s]"
            ],
            "application/vnd.jupyter.widget-view+json": {
              "version_major": 2,
              "version_minor": 0,
              "model_id": "7730c19932ae4188888b41437d12d029"
            }
          },
          "metadata": {}
        },
        {
          "output_type": "display_data",
          "data": {
            "text/plain": [
              "Downloading:   0%|          | 0.00/2.00 [00:00<?, ?B/s]"
            ],
            "application/vnd.jupyter.widget-view+json": {
              "version_major": 2,
              "version_minor": 0,
              "model_id": "1684032f95d24dc1a4333d7d4400d152"
            }
          },
          "metadata": {}
        },
        {
          "output_type": "display_data",
          "data": {
            "text/plain": [
              "Downloading:   0%|          | 0.00/112 [00:00<?, ?B/s]"
            ],
            "application/vnd.jupyter.widget-view+json": {
              "version_major": 2,
              "version_minor": 0,
              "model_id": "a183d2c819bb46618a55cf50da961ebd"
            }
          },
          "metadata": {}
        },
        {
          "output_type": "display_data",
          "data": {
            "text/plain": [
              "Downloading:   0%|          | 0.00/241 [00:00<?, ?B/s]"
            ],
            "application/vnd.jupyter.widget-view+json": {
              "version_major": 2,
              "version_minor": 0,
              "model_id": "54510b047a3e402cb63365a1a4d7044b"
            }
          },
          "metadata": {}
        },
        {
          "output_type": "display_data",
          "data": {
            "text/plain": [
              "Downloading:   0%|          | 0.00/730 [00:00<?, ?B/s]"
            ],
            "application/vnd.jupyter.widget-view+json": {
              "version_major": 2,
              "version_minor": 0,
              "model_id": "e17354fb9b9840feb168962a00c2ea2c"
            }
          },
          "metadata": {}
        },
        {
          "output_type": "stream",
          "name": "stderr",
          "text": [
            "The tokenizer class you load from this checkpoint is not the same type as the class this function is called from. It may result in unexpected tokenization. \n",
            "The tokenizer class you load from this checkpoint is 'BertTokenizer'. \n",
            "The class this function is called from is 'BertJapaneseTokenizer'.\n"
          ]
        },
        {
          "output_type": "display_data",
          "data": {
            "text/plain": [
              "Downloading:   0%|          | 0.00/422M [00:00<?, ?B/s]"
            ],
            "application/vnd.jupyter.widget-view+json": {
              "version_major": 2,
              "version_minor": 0,
              "model_id": "83921610cac6414a996226a24118dde2"
            }
          },
          "metadata": {}
        }
      ],
      "source": [
        "model = SentenceBertJapanese(\"sonoisa/sentence-bert-base-ja-mean-tokens\")"
      ]
    },
    {
      "cell_type": "code",
      "execution_count": 5,
      "id": "63a5e893-7d8a-4add-9096-314e98f444d2",
      "metadata": {
        "id": "63a5e893-7d8a-4add-9096-314e98f444d2",
        "outputId": "d647c11a-6d8d-4dd7-c408-b1afc0340644",
        "colab": {
          "resources": {
            "http://localhost:8080/nbextensions/google.colab/files.js": {
              "data": "Ly8gQ29weXJpZ2h0IDIwMTcgR29vZ2xlIExMQwovLwovLyBMaWNlbnNlZCB1bmRlciB0aGUgQXBhY2hlIExpY2Vuc2UsIFZlcnNpb24gMi4wICh0aGUgIkxpY2Vuc2UiKTsKLy8geW91IG1heSBub3QgdXNlIHRoaXMgZmlsZSBleGNlcHQgaW4gY29tcGxpYW5jZSB3aXRoIHRoZSBMaWNlbnNlLgovLyBZb3UgbWF5IG9idGFpbiBhIGNvcHkgb2YgdGhlIExpY2Vuc2UgYXQKLy8KLy8gICAgICBodHRwOi8vd3d3LmFwYWNoZS5vcmcvbGljZW5zZXMvTElDRU5TRS0yLjAKLy8KLy8gVW5sZXNzIHJlcXVpcmVkIGJ5IGFwcGxpY2FibGUgbGF3IG9yIGFncmVlZCB0byBpbiB3cml0aW5nLCBzb2Z0d2FyZQovLyBkaXN0cmlidXRlZCB1bmRlciB0aGUgTGljZW5zZSBpcyBkaXN0cmlidXRlZCBvbiBhbiAiQVMgSVMiIEJBU0lTLAovLyBXSVRIT1VUIFdBUlJBTlRJRVMgT1IgQ09ORElUSU9OUyBPRiBBTlkgS0lORCwgZWl0aGVyIGV4cHJlc3Mgb3IgaW1wbGllZC4KLy8gU2VlIHRoZSBMaWNlbnNlIGZvciB0aGUgc3BlY2lmaWMgbGFuZ3VhZ2UgZ292ZXJuaW5nIHBlcm1pc3Npb25zIGFuZAovLyBsaW1pdGF0aW9ucyB1bmRlciB0aGUgTGljZW5zZS4KCi8qKgogKiBAZmlsZW92ZXJ2aWV3IEhlbHBlcnMgZm9yIGdvb2dsZS5jb2xhYiBQeXRob24gbW9kdWxlLgogKi8KKGZ1bmN0aW9uKHNjb3BlKSB7CmZ1bmN0aW9uIHNwYW4odGV4dCwgc3R5bGVBdHRyaWJ1dGVzID0ge30pIHsKICBjb25zdCBlbGVtZW50ID0gZG9jdW1lbnQuY3JlYXRlRWxlbWVudCgnc3BhbicpOwogIGVsZW1lbnQudGV4dENvbnRlbnQgPSB0ZXh0OwogIGZvciAoY29uc3Qga2V5IG9mIE9iamVjdC5rZXlzKHN0eWxlQXR0cmlidXRlcykpIHsKICAgIGVsZW1lbnQuc3R5bGVba2V5XSA9IHN0eWxlQXR0cmlidXRlc1trZXldOwogIH0KICByZXR1cm4gZWxlbWVudDsKfQoKLy8gTWF4IG51bWJlciBvZiBieXRlcyB3aGljaCB3aWxsIGJlIHVwbG9hZGVkIGF0IGEgdGltZS4KY29uc3QgTUFYX1BBWUxPQURfU0laRSA9IDEwMCAqIDEwMjQ7CgpmdW5jdGlvbiBfdXBsb2FkRmlsZXMoaW5wdXRJZCwgb3V0cHV0SWQpIHsKICBjb25zdCBzdGVwcyA9IHVwbG9hZEZpbGVzU3RlcChpbnB1dElkLCBvdXRwdXRJZCk7CiAgY29uc3Qgb3V0cHV0RWxlbWVudCA9IGRvY3VtZW50LmdldEVsZW1lbnRCeUlkKG91dHB1dElkKTsKICAvLyBDYWNoZSBzdGVwcyBvbiB0aGUgb3V0cHV0RWxlbWVudCB0byBtYWtlIGl0IGF2YWlsYWJsZSBmb3IgdGhlIG5leHQgY2FsbAogIC8vIHRvIHVwbG9hZEZpbGVzQ29udGludWUgZnJvbSBQeXRob24uCiAgb3V0cHV0RWxlbWVudC5zdGVwcyA9IHN0ZXBzOwoKICByZXR1cm4gX3VwbG9hZEZpbGVzQ29udGludWUob3V0cHV0SWQpOwp9CgovLyBUaGlzIGlzIHJvdWdobHkgYW4gYXN5bmMgZ2VuZXJhdG9yIChub3Qgc3VwcG9ydGVkIGluIHRoZSBicm93c2VyIHlldCksCi8vIHdoZXJlIHRoZXJlIGFyZSBtdWx0aXBsZSBhc3luY2hyb25vdXMgc3RlcHMgYW5kIHRoZSBQeXRob24gc2lkZSBpcyBnb2luZwovLyB0byBwb2xsIGZvciBjb21wbGV0aW9uIG9mIGVhY2ggc3RlcC4KLy8gVGhpcyB1c2VzIGEgUHJvbWlzZSB0byBibG9jayB0aGUgcHl0aG9uIHNpZGUgb24gY29tcGxldGlvbiBvZiBlYWNoIHN0ZXAsCi8vIHRoZW4gcGFzc2VzIHRoZSByZXN1bHQgb2YgdGhlIHByZXZpb3VzIHN0ZXAgYXMgdGhlIGlucHV0IHRvIHRoZSBuZXh0IHN0ZXAuCmZ1bmN0aW9uIF91cGxvYWRGaWxlc0NvbnRpbnVlKG91dHB1dElkKSB7CiAgY29uc3Qgb3V0cHV0RWxlbWVudCA9IGRvY3VtZW50LmdldEVsZW1lbnRCeUlkKG91dHB1dElkKTsKICBjb25zdCBzdGVwcyA9IG91dHB1dEVsZW1lbnQuc3RlcHM7CgogIGNvbnN0IG5leHQgPSBzdGVwcy5uZXh0KG91dHB1dEVsZW1lbnQubGFzdFByb21pc2VWYWx1ZSk7CiAgcmV0dXJuIFByb21pc2UucmVzb2x2ZShuZXh0LnZhbHVlLnByb21pc2UpLnRoZW4oKHZhbHVlKSA9PiB7CiAgICAvLyBDYWNoZSB0aGUgbGFzdCBwcm9taXNlIHZhbHVlIHRvIG1ha2UgaXQgYXZhaWxhYmxlIHRvIHRoZSBuZXh0CiAgICAvLyBzdGVwIG9mIHRoZSBnZW5lcmF0b3IuCiAgICBvdXRwdXRFbGVtZW50Lmxhc3RQcm9taXNlVmFsdWUgPSB2YWx1ZTsKICAgIHJldHVybiBuZXh0LnZhbHVlLnJlc3BvbnNlOwogIH0pOwp9CgovKioKICogR2VuZXJhdG9yIGZ1bmN0aW9uIHdoaWNoIGlzIGNhbGxlZCBiZXR3ZWVuIGVhY2ggYXN5bmMgc3RlcCBvZiB0aGUgdXBsb2FkCiAqIHByb2Nlc3MuCiAqIEBwYXJhbSB7c3RyaW5nfSBpbnB1dElkIEVsZW1lbnQgSUQgb2YgdGhlIGlucHV0IGZpbGUgcGlja2VyIGVsZW1lbnQuCiAqIEBwYXJhbSB7c3RyaW5nfSBvdXRwdXRJZCBFbGVtZW50IElEIG9mIHRoZSBvdXRwdXQgZGlzcGxheS4KICogQHJldHVybiB7IUl0ZXJhYmxlPCFPYmplY3Q+fSBJdGVyYWJsZSBvZiBuZXh0IHN0ZXBzLgogKi8KZnVuY3Rpb24qIHVwbG9hZEZpbGVzU3RlcChpbnB1dElkLCBvdXRwdXRJZCkgewogIGNvbnN0IGlucHV0RWxlbWVudCA9IGRvY3VtZW50LmdldEVsZW1lbnRCeUlkKGlucHV0SWQpOwogIGlucHV0RWxlbWVudC5kaXNhYmxlZCA9IGZhbHNlOwoKICBjb25zdCBvdXRwdXRFbGVtZW50ID0gZG9jdW1lbnQuZ2V0RWxlbWVudEJ5SWQob3V0cHV0SWQpOwogIG91dHB1dEVsZW1lbnQuaW5uZXJIVE1MID0gJyc7CgogIGNvbnN0IHBpY2tlZFByb21pc2UgPSBuZXcgUHJvbWlzZSgocmVzb2x2ZSkgPT4gewogICAgaW5wdXRFbGVtZW50LmFkZEV2ZW50TGlzdGVuZXIoJ2NoYW5nZScsIChlKSA9PiB7CiAgICAgIHJlc29sdmUoZS50YXJnZXQuZmlsZXMpOwogICAgfSk7CiAgfSk7CgogIGNvbnN0IGNhbmNlbCA9IGRvY3VtZW50LmNyZWF0ZUVsZW1lbnQoJ2J1dHRvbicpOwogIGlucHV0RWxlbWVudC5wYXJlbnRFbGVtZW50LmFwcGVuZENoaWxkKGNhbmNlbCk7CiAgY2FuY2VsLnRleHRDb250ZW50ID0gJ0NhbmNlbCB1cGxvYWQnOwogIGNvbnN0IGNhbmNlbFByb21pc2UgPSBuZXcgUHJvbWlzZSgocmVzb2x2ZSkgPT4gewogICAgY2FuY2VsLm9uY2xpY2sgPSAoKSA9PiB7CiAgICAgIHJlc29sdmUobnVsbCk7CiAgICB9OwogIH0pOwoKICAvLyBXYWl0IGZvciB0aGUgdXNlciB0byBwaWNrIHRoZSBmaWxlcy4KICBjb25zdCBmaWxlcyA9IHlpZWxkIHsKICAgIHByb21pc2U6IFByb21pc2UucmFjZShbcGlja2VkUHJvbWlzZSwgY2FuY2VsUHJvbWlzZV0pLAogICAgcmVzcG9uc2U6IHsKICAgICAgYWN0aW9uOiAnc3RhcnRpbmcnLAogICAgfQogIH07CgogIGNhbmNlbC5yZW1vdmUoKTsKCiAgLy8gRGlzYWJsZSB0aGUgaW5wdXQgZWxlbWVudCBzaW5jZSBmdXJ0aGVyIHBpY2tzIGFyZSBub3QgYWxsb3dlZC4KICBpbnB1dEVsZW1lbnQuZGlzYWJsZWQgPSB0cnVlOwoKICBpZiAoIWZpbGVzKSB7CiAgICByZXR1cm4gewogICAgICByZXNwb25zZTogewogICAgICAgIGFjdGlvbjogJ2NvbXBsZXRlJywKICAgICAgfQogICAgfTsKICB9CgogIGZvciAoY29uc3QgZmlsZSBvZiBmaWxlcykgewogICAgY29uc3QgbGkgPSBkb2N1bWVudC5jcmVhdGVFbGVtZW50KCdsaScpOwogICAgbGkuYXBwZW5kKHNwYW4oZmlsZS5uYW1lLCB7Zm9udFdlaWdodDogJ2JvbGQnfSkpOwogICAgbGkuYXBwZW5kKHNwYW4oCiAgICAgICAgYCgke2ZpbGUudHlwZSB8fCAnbi9hJ30pIC0gJHtmaWxlLnNpemV9IGJ5dGVzLCBgICsKICAgICAgICBgbGFzdCBtb2RpZmllZDogJHsKICAgICAgICAgICAgZmlsZS5sYXN0TW9kaWZpZWREYXRlID8gZmlsZS5sYXN0TW9kaWZpZWREYXRlLnRvTG9jYWxlRGF0ZVN0cmluZygpIDoKICAgICAgICAgICAgICAgICAgICAgICAgICAgICAgICAgICAgJ24vYSd9IC0gYCkpOwogICAgY29uc3QgcGVyY2VudCA9IHNwYW4oJzAlIGRvbmUnKTsKICAgIGxpLmFwcGVuZENoaWxkKHBlcmNlbnQpOwoKICAgIG91dHB1dEVsZW1lbnQuYXBwZW5kQ2hpbGQobGkpOwoKICAgIGNvbnN0IGZpbGVEYXRhUHJvbWlzZSA9IG5ldyBQcm9taXNlKChyZXNvbHZlKSA9PiB7CiAgICAgIGNvbnN0IHJlYWRlciA9IG5ldyBGaWxlUmVhZGVyKCk7CiAgICAgIHJlYWRlci5vbmxvYWQgPSAoZSkgPT4gewogICAgICAgIHJlc29sdmUoZS50YXJnZXQucmVzdWx0KTsKICAgICAgfTsKICAgICAgcmVhZGVyLnJlYWRBc0FycmF5QnVmZmVyKGZpbGUpOwogICAgfSk7CiAgICAvLyBXYWl0IGZvciB0aGUgZGF0YSB0byBiZSByZWFkeS4KICAgIGxldCBmaWxlRGF0YSA9IHlpZWxkIHsKICAgICAgcHJvbWlzZTogZmlsZURhdGFQcm9taXNlLAogICAgICByZXNwb25zZTogewogICAgICAgIGFjdGlvbjogJ2NvbnRpbnVlJywKICAgICAgfQogICAgfTsKCiAgICAvLyBVc2UgYSBjaHVua2VkIHNlbmRpbmcgdG8gYXZvaWQgbWVzc2FnZSBzaXplIGxpbWl0cy4gU2VlIGIvNjIxMTU2NjAuCiAgICBsZXQgcG9zaXRpb24gPSAwOwogICAgZG8gewogICAgICBjb25zdCBsZW5ndGggPSBNYXRoLm1pbihmaWxlRGF0YS5ieXRlTGVuZ3RoIC0gcG9zaXRpb24sIE1BWF9QQVlMT0FEX1NJWkUpOwogICAgICBjb25zdCBjaHVuayA9IG5ldyBVaW50OEFycmF5KGZpbGVEYXRhLCBwb3NpdGlvbiwgbGVuZ3RoKTsKICAgICAgcG9zaXRpb24gKz0gbGVuZ3RoOwoKICAgICAgY29uc3QgYmFzZTY0ID0gYnRvYShTdHJpbmcuZnJvbUNoYXJDb2RlLmFwcGx5KG51bGwsIGNodW5rKSk7CiAgICAgIHlpZWxkIHsKICAgICAgICByZXNwb25zZTogewogICAgICAgICAgYWN0aW9uOiAnYXBwZW5kJywKICAgICAgICAgIGZpbGU6IGZpbGUubmFtZSwKICAgICAgICAgIGRhdGE6IGJhc2U2NCwKICAgICAgICB9LAogICAgICB9OwoKICAgICAgbGV0IHBlcmNlbnREb25lID0gZmlsZURhdGEuYnl0ZUxlbmd0aCA9PT0gMCA/CiAgICAgICAgICAxMDAgOgogICAgICAgICAgTWF0aC5yb3VuZCgocG9zaXRpb24gLyBmaWxlRGF0YS5ieXRlTGVuZ3RoKSAqIDEwMCk7CiAgICAgIHBlcmNlbnQudGV4dENvbnRlbnQgPSBgJHtwZXJjZW50RG9uZX0lIGRvbmVgOwoKICAgIH0gd2hpbGUgKHBvc2l0aW9uIDwgZmlsZURhdGEuYnl0ZUxlbmd0aCk7CiAgfQoKICAvLyBBbGwgZG9uZS4KICB5aWVsZCB7CiAgICByZXNwb25zZTogewogICAgICBhY3Rpb246ICdjb21wbGV0ZScsCiAgICB9CiAgfTsKfQoKc2NvcGUuZ29vZ2xlID0gc2NvcGUuZ29vZ2xlIHx8IHt9OwpzY29wZS5nb29nbGUuY29sYWIgPSBzY29wZS5nb29nbGUuY29sYWIgfHwge307CnNjb3BlLmdvb2dsZS5jb2xhYi5fZmlsZXMgPSB7CiAgX3VwbG9hZEZpbGVzLAogIF91cGxvYWRGaWxlc0NvbnRpbnVlLAp9Owp9KShzZWxmKTsK",
              "ok": true,
              "headers": [
                [
                  "content-type",
                  "application/javascript"
                ]
              ],
              "status": 200,
              "status_text": ""
            }
          },
          "base_uri": "https://localhost:8080/",
          "height": 109
        }
      },
      "outputs": [
        {
          "output_type": "display_data",
          "data": {
            "text/plain": [
              "<IPython.core.display.HTML object>"
            ],
            "text/html": [
              "\n",
              "     <input type=\"file\" id=\"files-478119f4-c55a-4b3b-9e20-61b4132b9721\" name=\"files[]\" multiple disabled\n",
              "        style=\"border:none\" />\n",
              "     <output id=\"result-478119f4-c55a-4b3b-9e20-61b4132b9721\">\n",
              "      Upload widget is only available when the cell has been executed in the\n",
              "      current browser session. Please rerun this cell to enable.\n",
              "      </output>\n",
              "      <script src=\"/nbextensions/google.colab/files.js\"></script> "
            ]
          },
          "metadata": {}
        },
        {
          "output_type": "stream",
          "name": "stdout",
          "text": [
            "Saving 2021-0325日本語オノマトペ辞典4500より.xls to 2021-0325日本語オノマトペ辞典4500より.xls\n",
            "データファイル名: ./2021-0325日本語オノマトペ辞典4500より.xls\n",
            " オノマトペ単語総数: len(onomatopea):1741\n"
          ]
        }
      ],
      "source": [
        "# 2021/Jan 近藤先生からいただいたオノマトペ辞典のデータの読み込み\n",
        "import os \n",
        "#'日本語オノマトペ辞典4500より.xls' は著作権の問題があり，公にできません。\n",
        "# そのため Google Colab での解法，ローカルファイルよりアップロードしてください\n",
        "if isColab:\n",
        "    from google.colab import files\n",
        "    uploaded = files.upload()  # ここで `日本語オノマトペ辞典4500より.xls` を指定してアップロードする\n",
        "    data_dir = '.'\n",
        "else:\n",
        "    data_dir = os.path.join(HOME, 'study/2021ccap/notebooks')\n",
        "\n",
        "import pandas as pd\n",
        "import jaconv\n",
        "\n",
        "onomatopea_excel = '2021-0325日本語オノマトペ辞典4500より.xls'\n",
        "onmtp2761 = pd.read_excel(os.path.join(data_dir, onomatopea_excel), sheet_name='2761語')\n",
        "\n",
        "#すべてカタカナ表記にしてデータとして利用する場合\n",
        "#`日本語オノマトペ辞典4500` はすべてひらがな表記だが，一般にオノマトペはカタカナ表記されることが多いはず\n",
        "#onomatopea = list(sorted(set([jaconv.hira2kata(o) for o in onmtp2761['オノマトペ']])))\n",
        "\n",
        "# Mac と Windows の表記の相違を吸収\n",
        "onomatopea = list(sorted(set([jaconv.normalize(o) for o in onmtp2761['オノマトペ']])))\n",
        "print(f'データファイル名: {os.path.join(data_dir, onomatopea_excel)}\\n',\n",
        "      f'オノマトペ単語総数: len(onomatopea):{len(onomatopea)}')"
      ]
    },
    {
      "cell_type": "code",
      "execution_count": 6,
      "id": "4d83bce2-f38e-48a9-bb79-479a82dd5ffa",
      "metadata": {
        "id": "4d83bce2-f38e-48a9-bb79-479a82dd5ffa",
        "outputId": "1193fe48-0010-491f-fde6-3ef27f34aa92",
        "colab": {
          "base_uri": "https://localhost:8080/"
        }
      },
      "outputs": [
        {
          "output_type": "stream",
          "name": "stdout",
          "text": [
            "CPU times: user 2.81 s, sys: 11.2 ms, total: 2.82 s\n",
            "Wall time: 2.9 s\n"
          ]
        }
      ],
      "source": [
        "%%time\n",
        "onomatopea_vectors = model.encode(onomatopea)"
      ]
    },
    {
      "cell_type": "markdown",
      "id": "23845205-e530-444a-b28f-5338b5cef9d8",
      "metadata": {
        "id": "23845205-e530-444a-b28f-5338b5cef9d8"
      },
      "source": [
        "## 1.1 意味が近いオノマトペをクラスタリング"
      ]
    },
    {
      "cell_type": "code",
      "execution_count": 7,
      "id": "7dc17a12-6108-4b78-b19e-ae54964f0ee4",
      "metadata": {
        "id": "7dc17a12-6108-4b78-b19e-ae54964f0ee4",
        "outputId": "7bb6f9f3-b93e-4b0b-bfbb-4b2b113d4d9d",
        "colab": {
          "base_uri": "https://localhost:8080/"
        }
      },
      "outputs": [
        {
          "output_type": "stream",
          "name": "stdout",
          "text": [
            "len(onomatopea):1741\n",
            "onomatopea_vectors.shape:torch.Size([1741, 768])\n"
          ]
        }
      ],
      "source": [
        "print(f'len(onomatopea):{len(onomatopea)}')\n",
        "print(f'onomatopea_vectors.shape:{onomatopea_vectors.shape}')\n",
        "#print(f'cluster_assignment.shape:{cluster_assignment.shape:}')"
      ]
    },
    {
      "cell_type": "code",
      "execution_count": 8,
      "id": "88469df5-1d6d-4cac-82ae-88d10020d375",
      "metadata": {
        "id": "88469df5-1d6d-4cac-82ae-88d10020d375",
        "outputId": "848b587b-53fe-4f76-b0fd-36ff6f25f954",
        "colab": {
          "base_uri": "https://localhost:8080/"
        }
      },
      "outputs": [
        {
          "output_type": "stream",
          "name": "stdout",
          "text": [
            "Cluster  1\n",
            "['あたふた', 'あっぷあっぷ', 'あやふや', 'あわわ', 'あんあん', 'あんぐり', 'あーん', 'いがいが', 'いじいじ', 'いひひ', 'うきうき', 'うじうじ', 'うじょうじょ', 'うひひ', 'うひょひょ', 'うふっ', 'うふふ', 'うらら', 'うわーん', 'えへへ', 'えへらえへら', 'えへん', 'えーん', 'おひゃりこひゃり', 'おんおん', 'かかか', 'からから', 'からり', 'かりん', 'かん', 'かんから', 'かんらかんら', 'がん', 'がんがらがん', 'がんがん', 'ぎゃふん', 'ぎんぎん', 'けほけほ', 'ごそり', 'さわさわ', 'じじ', 'じたじた', 'じたんばたん', 'じっ', 'じとり', 'じゃらん', 'じゃらんじゃらん', 'じょきじょき', 'じょりじょり', 'じりりじりり', 'じんわり', 'じーじー', 'じーん', 'ぜーぜー', 'ぞりっ', 'たわわ', 'つべこべ', 'てんやわんや', 'なみなみ', 'なんなん', 'ぬっぺり', 'ぬめっ', 'ぬらっ', 'ぬるり', 'ぬるりぬるり', 'ぬんめり', 'ぬーっ', 'はらっ', 'はらり', 'ばらっ', 'ばらり', 'ひくっ', 'ひくひく', 'ひたひた', 'ひっ', 'ひっく', 'ひっひっ', 'ひひひ', 'ひやっ', 'ひやひや', 'ひやり', 'ひやりひやり', 'ひゅっ', 'ひゅるひゅる', 'ひゅるるん', 'ひゅー', 'ひゅーひゅー', 'ひゅーふっ', 'ひょい', 'ひょこ', 'ひょこひょこ', 'ひょろっ', 'ひょろり', 'ひょろん', 'ひらっ', 'ひらひら', 'ひらり', 'ひりっ', 'ひりひり', 'ひりり', 'ひろひろ', 'ひー', 'ひーこら', 'ひーひー', 'びんびん', 'ふかふか', 'ふかり', 'ふがふが', 'ふくふく', 'ふさふさ', 'ふっ', 'ふっくら', 'ふっくり', 'ふっさり', 'ふっつり', 'ふっふっ', 'ふにゃ', 'ふにゃふにゃ', 'ふにゃり', 'ふふ', 'ふふん', 'ふやふや', 'ふよふよ', 'ふわっ', 'ふわふわ', 'ふわり', 'ふわりふわり', 'ふー', 'へこへこ', 'へっへっ', 'へへへ', 'へべけれ', 'べこべこ', 'べしゃ', 'べしゃり', 'べたっ', 'べたべた', 'べたり', 'べたりべたり', 'べたん', 'べちゃべちゃ', 'べちょっ', 'べちょべちょ', 'べったりべっちゃり', 'べとっ', 'べとべと', 'べべんべんべん', 'べらり', 'べりっ', 'べりべり', 'べろっ', 'べろり', 'べろん', 'べんべん', 'ぼくぼく', 'まんじり', 'みりみり', 'みりり', 'もわもわ', 'ゆさゆさ', 'ゆらっ', 'ゆらり', 'ゆらりゆらり', 'らんらん', 'りん', 'わさわさ', 'わしわし', 'わやわや', 'わらわら', 'わんさ', 'わんさか', 'わんさわんさ', 'わんわ', 'わんわん', 'わーっ', 'わーわー', 'わーん']\n",
            "\n",
            "Cluster  2\n",
            "['いけしゃーしゃー', 'いけつんつん', 'うえんうえん', 'うぎゃー', 'うじゃうじゃ', 'えんえん', 'かきかき', 'かくっ', 'かくん', 'かくんかくん', 'かさかさ', 'かさこそ', 'かさり', 'かしゃかしゃ', 'かしゃっ', 'かしゃん', 'かたかた', 'かたこと', 'かたっ', 'かたり', 'かたん', 'かたんかたん', 'かたんことん', 'かちかち', 'かちっ', 'かちゃかちゃ', 'かちゃり', 'かちゃん', 'かちり', 'かちん', 'かちんかちん', 'かちんこちん', 'かっ', 'かっか', 'かっかっ', 'かっきり', 'かっくり', 'かっくん', 'かっしゃり', 'かっしゃんかっしゃん', 'かったん', 'かったんこっとん', 'かっちゃん', 'かっちんかっちん', 'かつっ', 'かつん', 'からころ', 'からっ', 'かりっ', 'かりり', 'かんかん', 'かーっ', 'かーん', 'ががっ', 'がくがく', 'がくっ', 'がくり', 'がくりがくり', 'がくん', 'がくんがくん', 'がしゃがしゃ', 'がしゃっ', 'がしゃん', 'がたごと', 'がちっ', 'がちゃっ', 'がちゃり', 'がちゃん', 'がちり', 'がちん', 'がちんがちん', 'がっき', 'がっくり', 'がっしゃり', 'がっしゃん', 'がっちゃん', 'がっちんがっちん', 'がつっ', 'がばちょ', 'がーっ', 'がーん', 'きくきく', 'きしっ', 'きちきち', 'きちっ', 'きちん', 'きちんきちん', 'きっ', 'きゃっ', 'きゃっきゃっ', 'きゃぴきゃぴ', 'きゃんきゃん', 'きゃー', 'きゃーきゃー', 'きゅっきゅっ', 'きゅん', 'きゅーん', 'きょとん', 'きらら', 'きんきら', 'きんきらきん', 'きんきん', 'きんきんきらきら', 'きーきー', 'きーっ', 'きーん', 'ぎゃはは', 'ぎゃんぎゃん', 'ぎゃー', 'ぎゃーぎゃー', 'ぎょぎょ', 'ぎょっ', 'ぎょろっ', 'ぎょろり', 'ぎらkつ', 'ぎーこぎーこ', 'ぎーっ', 'ぎーとんぎーとん', 'くくっ', 'くくー', 'くしゃくしゃ', 'くしゃっ', 'くしゅん', 'くすっ', 'くすり', 'くちゃくちゃ', 'くっ', 'くっく', 'くっくっ', 'くにくに', 'くにゃ', 'くにゃくにゃ', 'くにゃり', 'くにゅくにゅ', 'くらっ', 'くー', 'くーくー', 'くーっ', 'ぐちゃぐちゃ', 'ぐちょぐちょ', 'ぐでんぐでん', 'ぐんぐん', 'ぐんにゃり', 'ぐーっ', 'けけ', 'けたけた', 'けちけち', 'けちょん', 'けっけっ', 'けろけろ', 'けろっ', 'けろり', 'げー', 'こきっ', 'こくこく', 'こくっ', 'こくり', 'こくりこくり', 'こくん', 'こしこし', 'こせこせ', 'こそっ', 'こちこち', 'こちっ', 'こちゃこちゃ', 'こちり', 'こちん', 'こちんこちん', 'こっくり', 'こっくりこっくり', 'こっくん', 'こっつん', 'こっつんこ', 'こってり', 'こっとんこっとん', 'こつっ', 'こつり', 'こつん', 'こてっ', 'ことっ', 'こほんこほん', 'こりっ', 'ころころ', 'ころっ', 'ころり', 'ころりん', 'ころりんしゃん', 'ころん', 'ころんころん', 'こん', 'こんがり', 'こんこん', 'こんもり', 'こーん', 'ごちゃくちゃ', 'ごっちゃ', 'さくさく', 'さくり', 'さくりさくり', 'さっくり', 'さんさん', 'しくりしくり', 'しっちゃかめっちゃか', 'しっちゃこっちゃ', 'しねしね', 'しゃかしゃか', 'しゃきしゃき', 'しゃなりしゃなり', 'しゃりんしゃりん', 'しゃん', 'しゃんしゃん', 'しゃーしゃー', 'しゅん', 'しゅんしゅん', 'しわくしゃ', 'しん', 'しんなり', 'しんねり', 'しんみり', 'じゃくり', 'じゃっ', 'じゃぶん', 'じゃりっ', 'じゃん', 'じゃんじゃか', 'じゃんじゃん', 'じん', 'じんじん', 'せんせん', 'たたーっ', 'たん', 'たんまり', 'ちかちか', 'ちかっ', 'ちかり', 'ちくちく', 'ちくっ', 'ちくり', 'ちくりちくり', 'ちくん', 'ちゃっ', 'ちゃっかり', 'ちゃらちゃら', 'ちゃらんちゃらん', 'ちゃりん', 'ちゃりんちゃりん', 'ちゃん', 'ちゃんちき', 'ちゃんちゃか', 'ちゃんちゃん', 'ちゅっ', 'ちゅるちゅる', 'ちゅーちゅー', 'ちょきちょき', 'ちょきんちょっきり', 'ちょこっ', 'ちょこん', 'ちょっくら', 'ちょっぴり', 'ちょびっ', 'ちょろちょろ', 'ちょろり', 'ちょん', 'ちりちり', 'ちりとんてちん', 'ちろっ', 'ちん', 'ちんからり', 'ちんちん', 'ちんとんしゃん', 'ちんどん', 'つっけんどん', 'つやつや', 'つるつる', 'つんけん', 'てかっ', 'てけてけ', 'てれんこてれんこ', 'てんつるてん', 'てんてこ', 'てんてんてれつく', 'ででん', 'でんでん', 'とっちり', 'ととんとんとん', 'とん', 'とんてんかん', 'とんとん', 'どがちゃが', 'どきんどきん', 'どたん', 'どたんばたん', 'どっきんどっきん', 'どどんがどん', 'どぶん', 'どん', 'どんちき', 'どんちゃか', 'どんちゃん', 'どんつくどんどこ', 'どんどこ', 'どんどんかかか', 'どんぶりこ', 'どんより', 'にかっ', 'にこっ', 'にちゃにちゃ', 'にょっき', 'ぬっく', 'ぬっくり', 'ねちゃっ', 'ねちゃねちゃ', 'はっ', 'はっし', 'はった', 'はっはっ', 'ばきん', 'ばしん', 'ばたんきゅー', 'ばちん', 'ばんばん', 'ふんわか', 'ふんわり', 'へどもど', 'ほんわか', 'ぼくっ', 'むすっ', 'むーっ', 'もこっ', 'もこもこ', 'もしゃもしゃ', 'もじゃくじゃ', 'ももくちゃ', 'わちゃわちゃ']\n",
            "\n",
            "Cluster  3\n",
            "['うねうね', 'おろおろ', 'がっしり', 'がびがび', 'がびょーん', 'がびーん', 'がぶがぶ', 'がぶっ', 'ぎく', 'ぎくぎく', 'ぎくしゃく', 'ぎくっ', 'ぎくり', 'ぎくん', 'ぎしぎし', 'ぎしっ', 'ぎたぎた', 'ぎちぎち', 'ぎっくん', 'ぎっこんぎっこん', 'ぎっしり', 'ぎとぎと', 'ぎとっ', 'ぎゃっ', 'ぎゅっ', 'ぎゅっぎゅっ', 'ぎゅー', 'ぎろっ', 'ぎんぎらぎん', 'ぎんぎんぎらぎら', 'ぎー', 'ぎーぎー', 'くねくね', 'くらくら', 'くらり', 'くらりくらり', 'ぐい', 'ぐいぐい', 'ぐきり', 'ぐぎり', 'ぐぐっ', 'ぐさぐさ', 'ぐさっ', 'ぐさり', 'ぐしゃぐしゃ', 'ぐしゃっ', 'ぐしょぐしょ', 'ぐじぐじ', 'ぐじゃぐじゃ', 'ぐじゅぐじゅ', 'ぐじょぐじょ', 'ぐすぐす', 'ぐすっ', 'ぐすり', 'ぐすりぐすり', 'ぐすん', 'ぐずぐず', 'ぐずらぐずら', 'ぐずり', 'ぐたぐた', 'ぐたっ', 'ぐだぐだ', 'ぐちぐち', 'ぐちゅぐちゅ', 'ぐっ', 'ぐっぐっ', 'ぐっしょり', 'ぐっすり', 'ぐっすん', 'ぐったり', 'ぐつぐつ', 'ぐにゃ', 'ぐにゃぐにゃ', 'ぐにゃらぐにゃら', 'ぐにゃり', 'ぐびぐび', 'ぐびっ', 'ぐびり', 'ぐびりぐびり', 'ぐらぐら', 'ぐらっ', 'ぐらり', 'ぐらりぐらり', 'ぐりぐり', 'ぐー', 'ぐーぐー', 'ぐーたら', 'けらけら', 'げたっ', 'げっ', 'げほげほ', 'げろっ', 'げーげー', 'さぶさぶ', 'しげしげ', 'じぐざぐ', 'じぶじぶ', 'じゃぶじゃぶ', 'じゃぼん', 'じゅくじゅく', 'じゅっ', 'じゅっじゅっ', 'じゅわじゅわ', 'ずぶり', 'ぞくぞく', 'ぞくっ', 'ぞくり', 'ぞりぞり', 'ぞろぞろ', 'ぞろり', 'ぞろりぞろり', 'たじたじ', 'たぶたぶ', 'だくだく', 'だぶだぶ', 'だぼん', 'でぶでぶ', 'どぎまぎ', 'どぶどぶ', 'ぬくぬく', 'ぬけぬけ', 'ぬるぬる', 'ねちねち', 'ねとっ', 'ねとねと', 'ねばねば', 'のそり', 'のそりのそり', 'のたりのたり', 'のんべんぐらり', 'びかびか', 'びくっ', 'びくびく', 'びくり', 'びしっ', 'びしびし', 'びしゃっ', 'びしゃびしゃ', 'びしゃり', 'びしょびしょ', 'びしり', 'びたっ', 'びたり', 'びちょびちょ', 'びっ', 'びっくら', 'びっくり', 'びっしり', 'びっちょり', 'びびっ', 'びゅっ', 'びゅわーん', 'びゅん', 'びゅんびゅん', 'びゅー', 'びゅーびゅー', 'びよーん', 'びりっ', 'びりびり', 'びりり', 'びりん', 'びーん', 'ぶいぶい', 'ぶぉーっ', 'ぶかぶか', 'ぶくっ', 'ぶくぶく', 'ぶくんぶくん', 'ぶすっ', 'ぶすぶす', 'ぶすり', 'ぶすりぶすり', 'ぶちっ', 'ぶちぶち', 'ぶっつり', 'ぶっつん', 'ぶつっ', 'ぶつぶつ', 'ぶつり', 'ぶつん', 'ぶよぶよ', 'ぶらぶら', 'ぶらり', 'ぶらりぶらり', 'ぶらん', 'ぶらんぶらん', 'ぶるっ', 'ぶるぶる', 'ぶるり', 'ぶるる', 'ぶるん', 'ぶるんぶるん', 'ぶわぶわ', 'ぶんぶん', 'ぶーぶー', 'ほんのり', 'ぼん', 'ぼんきゅっぼん', 'みしり', 'みしりみしり', 'むらっ', 'むらむら', 'もぐもぐ', 'もじもじ', 'もぞもぞ', 'もりもり', 'ゆるゆる']\n",
            "\n",
            "Cluster  4\n",
            "['あっはっは', 'あはあは', 'あはは', 'あわあわ', 'いそいそ', 'うしうし', 'うずうず', 'うだうだ', 'うっしっし', 'うとうと', 'うとっ', 'うはうは', 'うようよ', 'うるうる', 'うるっ', 'うろちょろ', 'おいおい', 'おぎゃーおぎゃー', 'おずおず', 'おたおた', 'おっとり', 'おどおど', 'おほん', 'おめおめ', 'おーおー', 'かさっ', 'かつかつ', 'がさごそ', 'がさっ', 'がしがし', 'がしっ', 'がたっ', 'がたり', 'がたんごとん', 'がっ', 'がっがっ', 'がったん', 'がったんがったん', 'がっぷり', 'がつん', 'がはがは', 'がはは', 'きっかし', 'きゅっ', 'きゅー', 'きゅーきゅー', 'きょときょと', 'きょとっ', 'きょろきょろ', 'きょろっ', 'きょろり', 'きらきら', 'きらっ', 'きらり', 'きろきろ', 'きろっ', 'きろり', 'きー', 'ぎょえー', 'ぎょろぎょろ', 'くい', 'くいくい', 'くたっ', 'くだくだ', 'くつくつ', 'くよくよ', 'ぐーすか', 'こうこう', 'こそこそ', 'こそり', 'こつこつ', 'こてこて', 'ことこと', 'ことり', 'ことん', 'ことんことん', 'こりこり', 'ごきごき', 'ごきっ', 'ごくっ', 'ごくり', 'ごくりごくり', 'ごしごし', 'ごしゃごしゃ', 'ごじゃごじゃ', 'ごそ', 'ごそごそ', 'ごそっ', 'ごたごた', 'ごたすた', 'ごちっ', 'ごちゃ', 'ごちょごちょ', 'ごちん', 'ごっくごっく', 'ごっくり', 'ごっくん', 'ごった', 'ごってり', 'ごっとんごっとん', 'ごっぽり', 'ごつごつ', 'ごつっ', 'ごつり', 'ごつん', 'ごてごて', 'ごてっ', 'ごとごと', 'ごとっ', 'ごとり', 'ごとりごとり', 'ごとん', 'ごとんごとん', 'ごにょごにょ', 'ごぶごぶ', 'ごほごほ', 'ごほん', 'ごほんごほん', 'ごりごり', 'ごりっ', 'ごろごろ', 'ごろちゃら', 'ごろっ', 'ごろり', 'ごろりごろり', 'ごろん', 'ごろんごろん', 'ごわごわ', 'ごん', 'ごんごん', 'ごーっ', 'さくっ', 'さっ', 'さっさ', 'さっさっ', 'さらっ', 'さわっ', 'さーさー', 'さーっ', 'しおしお', 'しく', 'しくしく', 'しこっ', 'しっかり', 'しとしと', 'しとっ', 'しとり', 'しなしな', 'しなっ', 'しばしば', 'しゃきっ', 'しゃっきり', 'しゃっしゃっ', 'しゃりしゃり', 'しゃわしゃわ', 'しゅっ', 'しゅっしゅっ', 'しゅるしゅる', 'しゅるっ', 'しゅー', 'しょりしょり', 'しれっ', 'じとっ', 'じゃかじゃか', 'じゃーじゃー', 'じゅるじゅる', 'じゅるっ', 'じゅわっ', 'じゅー', 'じゅーじゅー', 'じょりっ', 'じょろりじょろり', 'じんたった', 'じーっ', 'すかすか', 'すかっ', 'すくすく', 'すくっ', 'すこん', 'すごすご', 'すすっ', 'すたこらさっさ', 'すたすた', 'すたっ', 'すっ', 'すっき', 'すっく', 'すっすっ', 'すってんてれつく', 'すってんてん', 'すっとんとん', 'すっぽすっぽ', 'すとん', 'すやすや', 'するする', 'するり', 'すんなり', 'すーすー', 'すーっ', 'ぜりぜり', 'そくそく', 'そそくさ', 'そよ', 'そより', 'そろそろ', 'ぞぞっ', 'ぞっ', 'ぞよぞよ', 'ぞーっ', 'たかたか', 'たたたた', 'たっ', 'たっぷり', 'たどたど', 'たー', 'だだだだ', 'だだーっ', 'だっ', 'だっだっ', 'だんだん', 'だー', 'だーん', 'ちらほら', 'つい', 'ついつい', 'つかつか', 'つくづく', 'つけつけ', 'つん', 'つんつん', 'つーつー', 'てきぱき', 'てくてく', 'てれつく', 'てれつくてん', 'てろてろ', 'でっぷり', 'とくとく', 'とことこ', 'とっと', 'とっとことっとこ', 'とっとっ', 'とっぷり', 'とてちてたー', 'ととと', 'とーとー', 'とーん', 'どたどた', 'どんどん', 'にこにこ', 'にこり', 'にたっ', 'にっ', 'にっこにこ', 'にっこり', 'にやっ', 'にやり', 'にゅるにゅる', 'にゅるり', 'にょきにょき', 'にょっきり', 'にょろっ', 'にょろり', 'にんまり', 'にーっ', 'ぬるっ', 'のこのこ', 'のさのさ', 'のしのし', 'のそのそ', 'のたのた', 'のたらのたら', 'のたり', 'のっしのっし', 'のびのび', 'のほほん', 'のろのろ', 'のんべんだらり', 'のーのー', 'はた', 'はたはた', 'はたり', 'はっきり', 'ははは', 'びっしょり', 'ふるふる', 'ほかほか', 'ほくほく', 'ほこっ', 'ほっこり', 'ほっそり', 'ほっほっ', 'ほやほや', 'ほろっ', 'ほろほろ', 'ほろり', 'ほろりほろり', 'まごまご', 'まじまじ', 'みし', 'みっしり', 'めきめき', 'めためた', 'めっきり', 'めりっ', 'めーめー', 'もごもご', 'もだもだ', 'もっこり', 'もったらもったら', 'もったり', 'もわっ', 'もー', 'ゆさりゆさり', 'ゆっさゆっさ', 'ゆったり', 'ゆらゆら', 'よたよた', 'よちよち', 'よよ', 'よろよろ', 'よろりよろり', 'りゅーりゅー', 'わいわい', 'わくわく', 'わたわた', 'わっ', 'わっさわっさ', 'わはは']\n",
            "\n",
            "Cluster  5\n",
            "['あっぱらぱー', 'がぷがぷ', 'きんぴか', 'きんぴかぴか', 'すぱっ', 'すぱり', 'たぷたぷ', 'たぷんたぷん', 'ちゃぷちゃぷ', 'ちりんちりん', 'ちーちーぱーぱー', 'とぷんとぷん', 'どんぱち', 'ぱかぱか', 'ぱきっ', 'ぱきぱき', 'ぱきん', 'ぱくっ', 'ぱくぱく', 'ぱくり', 'ぱくりぱくり', 'ぱくん', 'ぱこっ', 'ぱさっ', 'ぱさぱさ', 'ぱさり', 'ぱしっ', 'ぱしぱし', 'ぱしゃっ', 'ぱしん', 'ぱたぱた', 'ぱたり', 'ぱちくり', 'ぱちっ', 'ぱちぱち', 'ぱちゃっ', 'ぱちり', 'ぱっ', 'ぱっくん', 'ぱっさり', 'ぱっちり', 'ぱっぱ', 'ぱっぱか', 'ぱっぱっ', 'ぱっぱらぱー', 'ぱぱっ', 'ぱふぱふ', 'ぱらっ', 'ぱらぱら', 'ぱらり', 'ぱりっ', 'ぱりぱり', 'ぱりん', 'ぱん', 'ぱんぱかぱん', 'ぱんぱん', 'ぱー', 'ぱーぱー', 'ひらりひらり', 'ぴかっ', 'ぴかぴか', 'ぴかり', 'ぴかりぴかり', 'ぴきぴき', 'ぴくっ', 'ぴくぴく', 'ぴくり', 'ぴくりぴくり', 'ぴくん', 'ぴくんぴくん', 'ぴこぴこ', 'ぴしっ', 'ぴしぴし', 'ぴしゃ', 'ぴしゃっ', 'ぴしゃぴしゃ', 'ぴしゃり', 'ぴしり', 'ぴたっ', 'ぴたぴた', 'ぴたり', 'ぴたん', 'ぴたんぴたん', 'ぴちっ', 'ぴちぴち', 'ぴちゃっ', 'ぴちゃぴちゃ', 'ぴっ', 'ぴっかぴか', 'ぴっかりこ', 'ぴったり', 'ぴっちり', 'ぴぴっ', 'ぴやぴちゃ', 'ぴゅっ', 'ぴゅん', 'ぴゅんぴゅん', 'ぴゅー', 'ぴゅーぴゅー', 'ぴょこぴょこ', 'ぴょー', 'ぴらぴら', 'ぴりっ', 'ぴりぴり', 'ぴりり', 'ぴん', 'ぴんしゃん', 'ぴんぴん', 'ぴー', 'ぴーちくぱーちく', 'ぴーひゃら', 'ぴーぴー', 'ぴーん', 'ぷい', 'ぷかっ', 'ぷかぷか', 'ぷかり', 'ぷかりぷかり', 'ぷくっ', 'ぷくぷく', 'ぷくり', 'ぷくん', 'ぷすぷす', 'ぷすり', 'ぷちっ', 'ぷっ', 'ぷっくり', 'ぷっつ', 'ぷっつり', 'ぷっつん', 'ぷっぷっ', 'ぷつっ', 'ぷつぷつ', 'ぷつり', 'ぷつん', 'ぷよぷよ', 'ぷらぷら', 'ぷらりぷらり', 'ぷりっ', 'ぷりぷり', 'ぷりん', 'ぷりんぷりん', 'ぷるっ', 'ぷるぷる', 'ぷるる', 'ぷるん', 'ぷん', 'ぷんぷん', 'ぷー', 'ぺこぺこ', 'ぺしゃり', 'ぺたっ', 'ぺたぺた', 'ぺたり', 'ぺたりぺたり', 'ぺたん', 'ぺちゃぺちゃ', 'ぺちょ', 'ぺったり', 'ぺったんぺったん', 'ぺっぺっ', 'ぺらぺら', 'ぺりっ', 'ぺりぺり', 'ぺろっ', 'ぺろぺろ', 'ぺろり', 'ぺろん', 'ぺろんぺろん', 'ぺんぺん']\n",
            "\n",
            "Cluster  6\n",
            "['いらいら', 'うやむや', 'がっかり', 'がぼがぼ', 'がぼっ', 'がらがら', 'がらがらぺっ', 'がらり', 'がらんがらん', 'ごくごく', 'ごくん', 'ごぼごぼ', 'さめざめ', 'ざくざく', 'ざっくばらん', 'ざばっ', 'ざぶざぶ', 'ざらざら', 'しっぽり', 'しぼしぼ', 'しょぼしょぼ', 'しょぼっ', 'しょぼん', 'しょんぼり', 'じっとり', 'ずたぼろ', 'ずぼずぼ', 'ずぼっ', 'ずらり', 'そげそげ', 'たった', 'たったかたったか', 'だぼだぼ', 'ちびちび', 'ちびりちびり', 'ちゃんちゃんばらばら', 'ちょぼちょぼ', 'ちょぼっ', 'ちらりちらり', 'でこぼこ', 'とぼとぼ', 'どぼどぼ', 'にやにや', 'のんびり', 'ばらばら', 'ひそひそ', 'ふらふら', 'ふらりふらり', 'べそべそ', 'べらべら', 'ぺっとり', 'ぼいん', 'ぼかすか', 'ぼかん', 'ぼきっ', 'ぼきぼき', 'ぼきり', 'ぼきん', 'ぼけっ', 'ぼこっ', 'ぼこぼこ', 'ぼさっ', 'ぼさぼさ', 'ぼしゃっ', 'ぼそっ', 'ぼそぼそ', 'ぼそり', 'ぼそん', 'ぼたっ', 'ぼたぼた', 'ぼたり', 'ぼたん', 'ぼちぼち', 'ぼちゃぼちゃ', 'ぼっ', 'ぼっこり', 'ぼっちゃり', 'ぼってり', 'ぼつっ', 'ぼつぼつ', 'ぼつり', 'ぼつりぼつり', 'ぼつん', 'ぼてっ', 'ぼてぼて', 'ぼてれん', 'ぼとぼと', 'ぼとり', 'ぼとん', 'ぼやっ', 'ぼやぼや', 'ぼやり', 'ぼりっ', 'ぼりぼり', 'ぼろぼろ', 'ぼろん', 'ぼわっ', 'ぼわぼわ', 'ぼんぼこ', 'ぼんぼん', 'ぼんやり', 'ぼーっ', 'ぼーぼー', 'ぼーん', 'もやもや', 'ゆっくり', 'よぼよぼ']\n",
            "\n",
            "Cluster  7\n",
            "['あくせく', 'あっけらかん', 'いけずーずー', 'うざうざ', 'うっすら', 'うっとり', 'うつらうつら', 'うらうら', 'うろうろ', 'うんざり', 'えっちらおっちら', 'かすかす', 'かばかば', 'かりかり', 'がさがさ', 'がさり', 'がじがじ', 'がたがた', 'がたぴし', 'がたん', 'がたんがたん', 'がちがち', 'がちゃがちゃ', 'がっちり', 'がっぽり', 'がつがつ', 'がばがば', 'がばっ', 'がぶり', 'がぶりがぶり', 'がみがみ', 'がやがや', 'がりがり', 'がりっ', 'がりり', 'きざきざ', 'きっかり', 'きっぱり', 'きりきり', 'ぎらぎら', 'ぎらり', 'ぎりぎり', 'ぎりっ', 'ぎりり', 'くさくさ', 'くすくす', 'くすりくすり', 'くすん', 'くたくた', 'くどくど', 'げたげた', 'げっそり', 'げらげら', 'げろげろ', 'げんなり', 'ごくんごくん', 'ごちゃごちゃ', 'ごっそり', 'ごみごみ', 'さっぱり', 'さばさば', 'さやさや', 'さらさら', 'さらり', 'さらりさらり', 'ざくっ', 'ざくり', 'ざぐり', 'ざざっ', 'ざざんざ', 'ざっ', 'ざっく', 'ざっくざっく', 'ざっくり', 'ざぶっ', 'ざぶん', 'ざらり', 'ざらりざらり', 'ざらりん', 'ざわざわ', 'ざんざ', 'ざんざら', 'ざんざん', 'ざんぶり', 'ざーざー', 'ざーっ', 'しこしこ', 'しっとり', 'しどもど', 'しどろもどろ', 'しゃらしゃら', 'しゃらりしゃらり', 'しょろしょろ', 'しらっ', 'しわくちゃ', 'しわしわ', 'じくじく', 'じたばた', 'じっくり', 'じとじと', 'じみじみ', 'じめじめ', 'じゃかすか', 'じゃらくら', 'じゃらじゃら', 'じゃりじゃり', 'じょきり', 'じりじり', 'じろじろ', 'じろっ', 'じろり', 'じろりじろり', 'じわじわ', 'じわっ', 'じわり', 'じわりじわり', 'すい', 'すいすい', 'すたこら', 'すっぱり', 'すらすら', 'すらっ', 'すらり', 'ずい', 'ずいこん', 'ずかずか', 'ずかり', 'ずきずき', 'ずきっ', 'ずきり', 'ずきん', 'ずきんずきん', 'ずくずく', 'ずけずけ', 'ずしりずしり', 'ずずっ', 'ずたずた', 'ずっ', 'ずっずっ', 'ずっぷり', 'ずどん', 'ずばずば', 'ずばっ', 'ずばり', 'ずばりずばり', 'ずぶずぶ', 'ずぶっ', 'ずらずら', 'ずらっ', 'ずるずる', 'ずるっ', 'ずん', 'ずんぐり', 'ずんぐりむっくり', 'ずんずん', 'ずーずー', 'ずーっ', 'せかせか', 'そよそよ', 'そわそわ', 'ぞろっ', 'たったっ', 'たらたら', 'だらだら', 'だらりだらり', 'ちゃかちゃか', 'ちゃきちゃき', 'ちょこちょこ', 'ちらちら', 'ちらっ', 'ちらり', 'ちろちろ', 'つらつら', 'てかてか', 'てらてら', 'とげとげ', 'とろっ', 'とろとろ', 'とろり', 'とろん', 'どかっ', 'どかどか', 'どかり', 'どかん', 'どかんどしん', 'どきっ', 'どきどき', 'どきり', 'どくどく', 'どさくさ', 'どさっ', 'どさどさ', 'どさり', 'どさん', 'どしどし', 'どしゃどしゃ', 'どしり', 'どしんどしん', 'どしんばたん', 'どすっ', 'どすん', 'どたっ', 'どたばた', 'どたり', 'どたりばたり', 'どっ', 'どっきり', 'どっさり', 'どっしどっし', 'どっと', 'どっぷり', 'どどっ', 'どばっ', 'どばどば', 'どぼん', 'どやどや', 'どろっ', 'どろどろ', 'どろん', 'どー', 'どーっ', 'どーどー', 'どーん', 'なよなよ', 'にたにた', 'にたりにたり', 'にょろにょろ', 'ぬたくた', 'ぬめぬめ', 'ぬめり', 'ぬらぬら', 'ぬらりくらり', 'ねっとり', 'のっそり', 'のめのめ', 'のらくら', 'のらりくらり', 'のらりのらり', 'のろりのろり', 'はきはき', 'はちゃめちゃ', 'はらはら', 'ばかすか', 'ばきっ', 'ばきばき', 'ばきゅん', 'ばくっ', 'ばくばく', 'ばくりばくり', 'ばさっ', 'ばさばさ', 'ばさらばさら', 'ばさり', 'ばしっ', 'ばしばし', 'ばしゃっ', 'ばしり', 'ばたっ', 'ばたばた', 'ばちっ', 'ばちばち', 'ばちゃっ', 'ばっ', 'ばっさばっさ', 'ばっさり', 'ばっばっ', 'ばりっ', 'ばりばり', 'ばーん', 'ひょろひょろ', 'ひんやり', 'びちゃっ', 'びちゃびちゃ', 'ぶかぶかどんどん', 'ぶつくさ', 'ぶりぶり', 'へたへた', 'へとへと', 'へなへな', 'へらへら', 'へろへろ', 'べちゃくちゃ', 'べっとり', 'べろべろ', 'べろんべろん', 'ぺちゃくちゃ', 'ぺらっ', 'まざまざ', 'まろまろ', 'みしみし', 'むかっ', 'むかむか', 'むくっ', 'むくむく', 'むぐむぐ', 'むしむし', 'むしゃくしゃ', 'むしゃむしゃ', 'むしゃり', 'むしゃりむしゃり', 'むずむず', 'むちっ', 'むちむち', 'むっ', 'むっく', 'むっくり', 'むっちり', 'むっつり', 'むにゃむにゃ', 'むにゅむにゅ', 'むわっ', 'むん', 'むんむ', 'むんむん', 'めそめそ', 'めちゃくちゃ', 'めちゃめちゃ', 'めらめら', 'めりめり', 'もくもく', 'もさもさ', 'もじゃもじゃ', 'もそもそ', 'もたもた', 'もっさり', 'もにゃもにゃ', 'もやっ', 'もろもろ', 'やいのやいの', 'やいやい', 'やきもき', 'やっさもっさ', 'やわやわ', 'やんさもんさ', 'やんわり', 'ゆるり', 'よれよれ', 'らったった', 'るんるん', 'れろれろ', 'わなわな', 'わやくや']\n",
            "\n",
            "Cluster  8\n",
            "['おほほ', 'かっぽかっぽ', 'かっぽん', 'かぽかぽ', 'かぽっ', 'がっぽがっぽ', 'こほこほ', 'こぽこぽ', 'ごぽごぽ', 'すぽぽん', 'たぽたぽ', 'たんたん', 'ちゃかぽこ', 'ちゃぽっ', 'ちゃぽん', 'ちゃんぽん', 'とほほ', 'ほいほい', 'ほこほこ', 'ほのぼの', 'ほほほ', 'ほわっ', 'ぽかっ', 'ぽかぽか', 'ぽかり', 'ぽかりぽかり', 'ぽかん', 'ぽきっ', 'ぽきぽき', 'ぽきり', 'ぽきん', 'ぽこぽこ', 'ぽこり', 'ぽこん', 'ぽたっ', 'ぽたぽた', 'ぽたり', 'ぽたん', 'ぽちぽち', 'ぽちゃっ', 'ぽちゃぽちゃ', 'ぽちゃん', 'ぽっ', 'ぽっかり', 'ぽっきり', 'ぽっこり', 'ぽっちゃり', 'ぽっちり', 'ぽってり', 'ぽっぽっ', 'ぽつっ', 'ぽつぽつ', 'ぽつり', 'ぽつん', 'ぽてっ', 'ぽてぽて', 'ぽとっ', 'ぽとぽと', 'ぽとり', 'ぽとりぽとり', 'ぽとん', 'ぽやぽや', 'ぽよぽよ', 'ぽりぽり', 'ぽろっ', 'ぽろぽろ', 'ぽろり', 'ぽろりぽろり', 'ぽろん', 'ぽわん', 'ぽん', 'ぽんぽこ', 'ぽんぽこぽん', 'ぽんぽん', 'ぽーん']\n",
            "\n"
          ]
        }
      ],
      "source": [
        "from sklearn.cluster import KMeans\n",
        "\n",
        "num_clusters = 8\n",
        "clustering_model = KMeans(n_clusters=num_clusters)\n",
        "clustering_model.fit(onomatopea_vectors)\n",
        "cluster_assignment = clustering_model.labels_\n",
        "\n",
        "clustered_sentences = [[] for i in range(num_clusters)]\n",
        "for _id, cluster_id in enumerate(cluster_assignment):\n",
        "    clustered_sentences[cluster_id].append(onomatopea[_id])\n",
        "\n",
        "for i, cluster in enumerate(clustered_sentences):\n",
        "    print(\"Cluster \", i+1)\n",
        "    print(cluster)\n",
        "    print(\"\")"
      ]
    },
    {
      "cell_type": "markdown",
      "id": "39082ebf-3537-4f99-bec2-5192cbf4fa2b",
      "metadata": {
        "id": "39082ebf-3537-4f99-bec2-5192cbf4fa2b"
      },
      "source": [
        "## 1.2 意味が近いオノマトペを検索"
      ]
    },
    {
      "cell_type": "code",
      "execution_count": 9,
      "id": "b1c90cdb-fe65-4905-9d3e-58c325089326",
      "metadata": {
        "id": "b1c90cdb-fe65-4905-9d3e-58c325089326",
        "outputId": "501e48d5-5e96-485c-acd3-2cbd938e5686",
        "colab": {
          "base_uri": "https://localhost:8080/"
        }
      },
      "outputs": [
        {
          "output_type": "stream",
          "name": "stdout",
          "text": [
            "==============================================================================\n",
            "Query: あくせく\n",
            "さめざめ (0.938)\n",
            "うっとり (0.931)\n",
            "てかてか (0.930)\n",
            "うんざり (0.925)\n",
            "つらつら (0.925)\n",
            "==============================================================================\n",
            "Query: あたふた\n",
            "たぷたぷ (0.908)\n",
            "おたおた (0.901)\n",
            "すたこら (0.891)\n",
            "たー (0.887)\n",
            "たぷんたぷん (0.886)\n",
            "==============================================================================\n",
            "Query: あっけらかん\n",
            "てかてか (0.926)\n",
            "きっかり (0.914)\n",
            "しこしこ (0.910)\n",
            "あくせく (0.900)\n",
            "めりめり (0.895)\n",
            "==============================================================================\n",
            "Query: あっはっは\n",
            "はった (0.961)\n",
            "はっ (0.959)\n",
            "はっし (0.943)\n",
            "はっはっ (0.934)\n",
            "にやっ (0.889)\n",
            "==============================================================================\n",
            "Query: あっぱらぱー\n",
            "ぱさっ (0.935)\n",
            "ぱさぱさ (0.930)\n",
            "ぱしぱし (0.929)\n",
            "ぱしっ (0.927)\n",
            "ぱちっ (0.925)\n",
            "==============================================================================\n",
            "Query: あっぷあっぷ\n",
            "ぷっぷっ (0.896)\n",
            "ぷかっ (0.891)\n",
            "あっぱらぱー (0.884)\n",
            "ぷっつ (0.883)\n",
            "あたふた (0.882)\n",
            "==============================================================================\n",
            "Query: あはあは\n",
            "あはは (0.970)\n",
            "あわあわ (0.964)\n",
            "あーん (0.940)\n",
            "はたり (0.890)\n",
            "ははは (0.890)\n",
            "==============================================================================\n",
            "Query: あはは\n",
            "あはあは (0.970)\n",
            "あわあわ (0.951)\n",
            "あーん (0.948)\n",
            "おーおー (0.888)\n",
            "ははは (0.878)\n",
            "==============================================================================\n",
            "Query: あやふや\n",
            "やんわり (0.897)\n",
            "さやさや (0.871)\n",
            "へなへな (0.869)\n",
            "まじまじ (0.866)\n",
            "わなわな (0.866)\n",
            "==============================================================================\n",
            "Query: あわあわ\n",
            "あはあは (0.964)\n",
            "あはは (0.951)\n",
            "あーん (0.948)\n",
            "わっ (0.905)\n",
            "わーっ (0.899)\n",
            "==============================================================================\n",
            "Query: あわわ\n",
            "わはは (0.862)\n",
            "あわあわ (0.839)\n",
            "あはは (0.837)\n",
            "あはあは (0.836)\n",
            "うわーん (0.827)\n",
            "==============================================================================\n",
            "Query: あんあん\n",
            "あんぐり (0.897)\n",
            "あーん (0.876)\n",
            "あはは (0.840)\n",
            "あはあは (0.839)\n",
            "あわあわ (0.835)\n",
            "==============================================================================\n",
            "Query: あんぐり\n",
            "あんあん (0.897)\n",
            "ちんからり (0.846)\n",
            "ふふん (0.836)\n",
            "ぷんぷん (0.815)\n",
            "ふわり (0.812)\n",
            "==============================================================================\n",
            "Query: あーん\n",
            "あわあわ (0.948)\n",
            "あはは (0.948)\n",
            "あはあは (0.940)\n",
            "えーん (0.884)\n",
            "おーおー (0.877)\n",
            "==============================================================================\n",
            "Query: いがいが\n",
            "がさり (0.863)\n",
            "がーん (0.862)\n",
            "がーっ (0.858)\n",
            "がさがさ (0.857)\n",
            "がしゃっ (0.850)\n",
            "==============================================================================\n",
            "Query: いけしゃーしゃー\n",
            "しゃーしゃー (0.958)\n",
            "しゃん (0.922)\n",
            "がしゃん (0.914)\n",
            "しゃりしゃり (0.900)\n",
            "しゃんしゃん (0.898)\n",
            "==============================================================================\n",
            "Query: いけずーずー\n",
            "ずずっ (0.952)\n",
            "ずい (0.950)\n",
            "ずーずー (0.949)\n",
            "ずん (0.938)\n",
            "ずーっ (0.937)\n",
            "==============================================================================\n",
            "Query: いけつんつん\n",
            "けっけっ (0.867)\n",
            "つっけんどん (0.866)\n",
            "すっとんとん (0.859)\n",
            "すぱっ (0.859)\n",
            "すぱり (0.858)\n",
            "==============================================================================\n",
            "Query: いじいじ\n",
            "じわじわ (0.882)\n",
            "じーじー (0.878)\n",
            "うじうじ (0.877)\n",
            "じーっ (0.874)\n",
            "じーん (0.873)\n",
            "==============================================================================\n",
            "Query: いそいそ\n",
            "そより (0.897)\n",
            "こそこそ (0.896)\n",
            "そよ (0.887)\n",
            "ごそ (0.882)\n",
            "しくしく (0.872)\n"
          ]
        }
      ],
      "source": [
        "import scipy.spatial\n",
        "\n",
        "queries = onomatopea[:20]\n",
        "query_embeddings = model.encode(queries).numpy()\n",
        "\n",
        "closest_n = 5\n",
        "for query, query_embedding in zip(queries, query_embeddings):\n",
        "    distances = scipy.spatial.distance.cdist([query_embedding], onomatopea_vectors, metric=\"cosine\")[0]\n",
        "\n",
        "    results = zip(range(len(distances)), distances)\n",
        "    results = sorted(results, key=lambda x: x[1])\n",
        "\n",
        "    print(\"=\" * 78)\n",
        "    print(\"Query:\", query)\n",
        "    #print(\"Top 5 most similar sentences in corpus:\")\n",
        "    for idx, distance in results[1:closest_n+1]:\n",
        "        print(f\"{onomatopea[idx].strip()}\", f\"({1-distance/2:.3f})\")"
      ]
    },
    {
      "cell_type": "markdown",
      "id": "eb5e8321-891e-4f8d-8175-baf0254f9de5",
      "metadata": {
        "tags": [],
        "id": "eb5e8321-891e-4f8d-8175-baf0254f9de5"
      },
      "source": [
        "## 1.3 オノマトペの可視化 tSNE による散布図"
      ]
    },
    {
      "cell_type": "code",
      "execution_count": 21,
      "id": "67133c32-73e4-4f75-8d06-5e6516410448",
      "metadata": {
        "id": "67133c32-73e4-4f75-8d06-5e6516410448",
        "outputId": "01cde0e6-1239-4728-ad33-3ff29569ce55",
        "colab": {
          "base_uri": "https://localhost:8080/"
        }
      },
      "outputs": [
        {
          "output_type": "stream",
          "name": "stdout",
          "text": [
            "Looking in indexes: https://pypi.org/simple, https://us-python.pkg.dev/colab-wheels/public/simple/\n",
            "Requirement already satisfied: japanize_matplotlib in /usr/local/lib/python3.7/dist-packages (1.1.3)\n",
            "Requirement already satisfied: matplotlib in /usr/local/lib/python3.7/dist-packages (from japanize_matplotlib) (3.2.2)\n",
            "Requirement already satisfied: cycler>=0.10 in /usr/local/lib/python3.7/dist-packages (from matplotlib->japanize_matplotlib) (0.11.0)\n",
            "Requirement already satisfied: numpy>=1.11 in /usr/local/lib/python3.7/dist-packages (from matplotlib->japanize_matplotlib) (1.21.6)\n",
            "Requirement already satisfied: kiwisolver>=1.0.1 in /usr/local/lib/python3.7/dist-packages (from matplotlib->japanize_matplotlib) (1.4.3)\n",
            "Requirement already satisfied: pyparsing!=2.0.4,!=2.1.2,!=2.1.6,>=2.0.1 in /usr/local/lib/python3.7/dist-packages (from matplotlib->japanize_matplotlib) (3.0.9)\n",
            "Requirement already satisfied: python-dateutil>=2.1 in /usr/local/lib/python3.7/dist-packages (from matplotlib->japanize_matplotlib) (2.8.2)\n",
            "Requirement already satisfied: typing-extensions in /usr/local/lib/python3.7/dist-packages (from kiwisolver>=1.0.1->matplotlib->japanize_matplotlib) (4.1.1)\n",
            "Requirement already satisfied: six>=1.5 in /usr/local/lib/python3.7/dist-packages (from python-dateutil>=2.1->matplotlib->japanize_matplotlib) (1.15.0)\n",
            "Cloning into 'ccap'...\n",
            "remote: Enumerating objects: 6823, done.\u001b[K\n",
            "remote: Counting objects: 100% (118/118), done.\u001b[K\n",
            "remote: Compressing objects: 100% (71/71), done.\u001b[K\n",
            "remote: Total 6823 (delta 51), reused 93 (delta 37), pack-reused 6705\u001b[K\n",
            "Receiving objects: 100% (6823/6823), 618.61 MiB | 13.80 MiB/s, done.\n",
            "Resolving deltas: 100% (78/78), done.\n",
            "Checking out files: 100% (5717/5717), done.\n",
            "Preprocessing the data using PCA...\n",
            "Computing pairwise distances...\n",
            "Computing P-values for point  0  of  1741 ...\n",
            "Computing P-values for point  500  of  1741 ...\n",
            "Computing P-values for point  1000  of  1741 ...\n",
            "Computing P-values for point  1500  of  1741 ...\n",
            "Mean value of sigma:  5.559793333503531\n",
            "Iteration  250 : error is  0.8714565782269763\n",
            "Iteration  500 : error is  0.7755513945915978\n",
            "Iteration  750 : error is  0.7602606919533467\n",
            "Iteration  1000 : error is  0.7550483454016544\n"
          ]
        }
      ],
      "source": [
        "%reload_ext autoreload\n",
        "%autoreload 2\n",
        "try:\n",
        "    import ccap\n",
        "except ImportError:\n",
        "    !pip install japanize_matplotlib\n",
        "    !git clone https://github.com/project-ccap/ccap.git\n",
        "from ccap import tsne\n",
        "\n",
        "X = tsne.tsne(onomatopea_vectors.clone().numpy())"
      ]
    },
    {
      "cell_type": "code",
      "execution_count": 22,
      "id": "63a49aa5-953d-451e-b50f-481d58c53b41",
      "metadata": {
        "id": "63a49aa5-953d-451e-b50f-481d58c53b41",
        "outputId": "82b2737c-cda1-40ef-c79d-057851927c03",
        "colab": {
          "base_uri": "https://localhost:8080/",
          "height": 718
        }
      },
      "outputs": [
        {
          "output_type": "execute_result",
          "data": {
            "text/plain": [
              "<matplotlib.collections.PathCollection at 0x7fec0979cc90>"
            ]
          },
          "metadata": {},
          "execution_count": 22
        },
        {
          "output_type": "display_data",
          "data": {
            "text/plain": [
              "<Figure size 864x864 with 1 Axes>"
            ],
            "image/png": "[encoded data removed]"
          },
          "metadata": {
            "image/png": {
              "width": 710,
              "height": 683
            },
            "needs_background": "light"
          }
        }
      ],
      "source": [
        "import matplotlib.pyplot as plt\n",
        "\n",
        "plt.figure(figsize=(12,12))\n",
        "plt.scatter(X[:,0], X[:,1])"
      ]
    },
    {
      "cell_type": "markdown",
      "id": "a3c76fe9-8ad5-4be3-9fe0-aaea175224c3",
      "metadata": {
        "id": "a3c76fe9-8ad5-4be3-9fe0-aaea175224c3"
      },
      "source": [
        "# 2. `onomatope11 (1).xlsx` を用いたオノマトペ説明文の BERT 化"
      ]
    },
    {
      "cell_type": "code",
      "execution_count": 23,
      "id": "1bb46110-dd1b-42d4-920e-e19b5193c8df",
      "metadata": {
        "id": "1bb46110-dd1b-42d4-920e-e19b5193c8df",
        "outputId": "78b47caa-107b-430f-9654-e70ead9a71dc",
        "colab": {
          "resources": {
            "http://localhost:8080/nbextensions/google.colab/files.js": {
              "data": "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",
              "ok": true,
              "headers": [
                [
                  "content-type",
                  "application/javascript"
                ]
              ],
              "status": 200,
              "status_text": ""
            }
          },
          "base_uri": "https://localhost:8080/",
          "height": 74
        }
      },
      "outputs": [
        {
          "output_type": "display_data",
          "data": {
            "text/plain": [
              "<IPython.core.display.HTML object>"
            ],
            "text/html": [
              "\n",
              "     <input type=\"file\" id=\"files-711821d5-84ca-47d0-a293-8913abe0bf43\" name=\"files[]\" multiple disabled\n",
              "        style=\"border:none\" />\n",
              "     <output id=\"result-711821d5-84ca-47d0-a293-8913abe0bf43\">\n",
              "      Upload widget is only available when the cell has been executed in the\n",
              "      current browser session. Please rerun this cell to enable.\n",
              "      </output>\n",
              "      <script src=\"/nbextensions/google.colab/files.js\"></script> "
            ]
          },
          "metadata": {}
        },
        {
          "output_type": "stream",
          "name": "stdout",
          "text": [
            "Saving 2022_0531onomatope11.xlsx to 2022_0531onomatope11.xlsx\n"
          ]
        }
      ],
      "source": [
        "if isColab:\n",
        "    # '2022_0531onomatope11.xlsx' または onomatope11(1).xlsx をアップロードする\n",
        "    from google.colab import files\n",
        "    uploaded = files.upload()"
      ]
    },
    {
      "cell_type": "code",
      "execution_count": 24,
      "id": "af18a559-761b-4f14-befc-65dbfc14dea4",
      "metadata": {
        "id": "af18a559-761b-4f14-befc-65dbfc14dea4"
      },
      "outputs": [],
      "source": [
        "import pandas\n",
        "# fname = 'onomatope11 (1).xlsx'\n",
        "# 上の若干の入力ミスと思われる部分を修正した。オリジナルは onomatope11(1).xlsx\n",
        "fname = '2022_0531onomatope11.xlsx'\n",
        "\n",
        "if isColab:\n",
        "    df = pandas.read_excel(fname, sheet_name='onomatope11')\n",
        "else:\n",
        "    df = pandas.read_excel(os.path.join(HOME, 'study/2022kondo_project', fname), sheet_name='onomatope11')\n",
        "\n",
        "X = df[['bunn', 'onomatope']].values.tolist()\n",
        "onomatopea_sentences = [jaconv.normalize(str(line[0]))+'、'+jaconv.normalize(str(line[1])) for line in X]"
      ]
    },
    {
      "cell_type": "code",
      "execution_count": 25,
      "id": "e143b9a3-da3a-4cc6-a088-6eef6b8ced21",
      "metadata": {
        "id": "e143b9a3-da3a-4cc6-a088-6eef6b8ced21",
        "outputId": "f55ce841-d963-49f2-cb7a-849e38511bff",
        "colab": {
          "base_uri": "https://localhost:8080/"
        }
      },
      "outputs": [
        {
          "output_type": "stream",
          "name": "stdout",
          "text": [
            "CPU times: user 7.09 s, sys: 58.8 ms, total: 7.15 s\n",
            "Wall time: 9.08 s\n"
          ]
        }
      ],
      "source": [
        "%%time\n",
        "# 全オノマトペをベクトル化\n",
        "onomatopea_vectors = model.encode(onomatopea_sentences)"
      ]
    },
    {
      "cell_type": "markdown",
      "id": "0d8fd4d1-56c8-43bf-9257-7547b475c0ac",
      "metadata": {
        "id": "0d8fd4d1-56c8-43bf-9257-7547b475c0ac"
      },
      "source": [
        "## 2.1 意味が近いオノマトペ文をクラスタリング"
      ]
    },
    {
      "cell_type": "code",
      "execution_count": 26,
      "id": "0c9a08e4-9234-42a2-a0db-28d09c09781a",
      "metadata": {
        "id": "0c9a08e4-9234-42a2-a0db-28d09c09781a",
        "outputId": "919484a9-c428-44c9-a801-2302688fb659",
        "colab": {
          "base_uri": "https://localhost:8080/"
        }
      },
      "outputs": [
        {
          "output_type": "stream",
          "name": "stdout",
          "text": [
            "len(onomatopea_sentences):2469\n",
            "onomatopea_vectors.shape:torch.Size([2469, 768])\n",
            "cluster_assignment.shape:(1741,)\n"
          ]
        }
      ],
      "source": [
        "print(f'len(onomatopea_sentences):{len(onomatopea_sentences)}')\n",
        "print(f'onomatopea_vectors.shape:{onomatopea_vectors.shape}')\n",
        "print(f'cluster_assignment.shape:{cluster_assignment.shape:}')"
      ]
    },
    {
      "cell_type": "code",
      "execution_count": 27,
      "id": "37813514-707e-4d1b-94e5-d298597b230b",
      "metadata": {
        "id": "37813514-707e-4d1b-94e5-d298597b230b",
        "outputId": "d43d6431-dc88-4697-cfcc-5b269ed42840",
        "colab": {
          "base_uri": "https://localhost:8080/"
        }
      },
      "outputs": [
        {
          "output_type": "stream",
          "name": "stdout",
          "text": [
            "オノマトペ総数(cluster_assignment.shape):(2469,)\n",
            "onomatopea_vectors.shape:torch.Size([2469, 768])\n",
            "not_clustered:[]\n",
            "Cluster  1\n",
            "['あたたかい日ざしが差しこみ、ぽかぽか', '微風が木の葉の音を立てて、さやさや', 'すきま風や微風を体に感じて、すーっ', 'やさしい風が静かに吹いて、そよそよ', '風が軽く静かに吹きすぎて、そよ', '風が軽く静かに吹きすぎて、そより', '風に布などが軽くあおられて、ぱたぱた', 'あたたかさに包まれなどんで、ほわっ', '少量の水が細く勢いよく飛び、ぴゅっ', '水が軽やかに流れ続けて、しゃーしゃー', '水が軽やかにわき出て、ころころ', '水が軽く波立って、ちゃぷちゃぷ', '液体が小さく泡立って、こぽこぽ', '煙だけ出してくすぶって、ぶすぶす', '弱火で長時間燃えて、とろとろ', '水がゆれて軽い音をたてて、とぷんとぷん', '遠い距離を踏朶しめながら、てくてく', '軽快に走って、たったかたったか', 'せかされるように小走りで、 せかせか', '足どり軽く見向きもしないで、 すたすた', '軽い音をたてながら歩いて、 しゃらりしゃらり', 'やっとのことで歩いて、えっちらおっちら', '足早に歩いて、ぴたぴた', 'ウマが軽やかに足音をたてて、ぱっぱか', '小走りで、ととと', '足早に調子をとって小またで、とっとっ', '足早に調子をとって小またで、とっとことっとこ', '同じ調子で歩いて、てけてけ', '悠然と見おろすように、のっそり', '身軽に降り立って、すたっ', '急に短い眠けにおそわれて、うとっ', '漫然と時を過ごして、のらりくらり', '体の一部が小さくひきつって、びくびく', '体の一部が小さくひきつって、ぴくぴく', '少しずつこまかくふるえて、ぴこぴこ', '小さく瞬間的に振動して、ぷるっ', '軽くこまかくふるえ動いて、ぷるぷる', '軽くこまかくふるえ動いて、ふるふる', '目のはしで一瞬視線を向けて、ちらっ', 'かたいものをひと口かじって、がりっ', 'かたいものをひと口かじって、がりり', 'ものが小さく目に見えて、ぽつん?', 'ものが小さく目に見えて、ぽつっ', '大口を盛んに開け閉めして、ぱくりぱくり', '大口を盛んに開け閉めして、ばくりばくり', '大口を盛んに開け閉めして、ぱくぱく', '大口を盛んに開け閉めして、ばくばく', 'やわらかいものを口中でかみ、にちゃにちゃ', '麺などを軽くすすりながら、つるつる', 'さわやかな軽い歯ごたえで、しょりしょり', '軽い歯ごたえで、さくっ', 'かたいものを一口かんで、こりっ', '軽く歯ごたえを感じながら、こしこし', '水けの少ないものをまずそうに、もそもそ', 'ゆっくりと口を動かしてかみ、むにゃむにゃ', '軽やかにものをかみ砕いて、ぽりぽり', '舌でものを大きく一度なめて、ぺろん', 'すばやく舌でなめて、ぺろっ', 'すばやく舌でなめて、べろっ', '品のない音をたてつつ食べて、べちゃべちゃ', 'ひと息に飲みくだして、くっ', 'ひと息に飲みくだして、ぐっ', '飲み物をひと息に飲んで、くー', '飲み物をひと息に飲んで、ぐー', '飲み物をひと息に飲んで、くくー?', '飲み物をひと息に飲んで、ぐーっ', '酒などを軽くひと息に飲んで、くい', '一気に気分よく飲みこんで、がぼっ', '汁などを短くすすって、ちゅっ', '少しずつ吸いあげるように、ちゅーちゅー', '少しずつ吸いあげるように、ちゅるちゅる', '酒を少しずつ飲んで、ちびりちびり', '大きくのどを鳴らしひと息に、ごっくり', '一口ずつ味わうように飲んで、こくりこくり', '一口小さく飲みこんで、こくっ', '一口小さく飲みこんで、こくり', '一口小さく飲みこんで、こっくん', '一口小さく飲みこんで、こくん', '一口のどを鳴らして飲みこみ、ごくん', 'ひと思いに吐いて、げろっ', '不平・不満を聞かせるともなく、ぐじぐじ', 'ひとこと小声でつぶやいて、ぶつり', 'ひとこと小声でつぶやいて、ぶつっ', '遠慮なく思ったままを言って、つかつか', '遠慮なく思ったままを言って、つけつけ', '幼稚なことを脈絡なく騒いで、ちーちーぱーぱー', '流暢にあっさりとしゃべって、ぺらっ', '低く小さい声で一言だけ、ぽつり', '軽いせきがとまらずに、こほんこほん', '軽くむせて、けほけほ', '軽くせきをして、こほこほ', '軽くせきをして、こん', '軽くせきをして、こんこん', '落ち着きなく騒ぎたてて、やいやい', 'ほんの少しだけ声を出して、くすっ', 'ほんの少しだけ声を出して、くすり', '笑いをこらえきれずひそかに、くすくす', '愉快そうにまたは見下して、かかか', '口をやや開けて秘密めかして、うふふ', '小声で短く笑って、うふっ', 'うれしい声を小さくもらし、うひょひょ', '冷ややかに薄笑いを浮かべて、にやり', '冷ややかに薄笑いを浮かべて、にやにや', '子どもが周りをはばからず、あーん', '子どもが周りをはばからず、うわーん', '悪人などが狡猜そうに下品に、ひっひっ', '悪人などが狡猜そうに下品に、ひひひ', '声をおさえてしゃくり上げて、ひっひっ', '急に軽く力が抜けて、かくっ', '急に軽く力が抜けて、がくっ', '愛想もなくぶっきら棒に、むっつり', 'ものさびしくしめやかに、しんみり', '疲労や病気で体の力が抜けて、ぐったり', 'うれしさに心をはずませて、いそいそ', '余裕や平常心を失って、あわあわ', '早く終わらせたい気持ちで、そそくさ', '応対にき」ついて、しどもど', '落ち着費がなく騒がしくて、がさがさ', '一瞬胸が切なくなって、きゅん', '誘惑などに決心がゆらいで、くらくら', '同情して少し悲しく感じて、しんみり', '深く静かに考えこんで、じーっ', 'はげしいう手会が一瞬走って、ずきっ', 'はげしいう手会が一瞬走って、ずきり', '間延びしてみえるほど悠然と、おっとり', '瞬間的な刺激にしびれて、びりり', '瞬間的な刺激にしびれて、ぴりり', 'うるさくせがんだり催促して、やいやい', 'あわてずゆったりとして、のたり', '無遠慮な動作や口調で、つけつけ', '顔や体つきがふっくらして、ぽちゃっ', '締まりなくふくらんで、ぶくんぶくん', '細くて流れるような姿をして、ほっそり', '顔などが垂れるように肥えて、ぽてっ', 'すばやく静かに進んで、すっ', '静かにものごとが進んで、すーっ', '目に見えて程度が進んで、めっきり', '軽く飛び越えて進んで、ひらりひらり', '静かにゆるやかに進んで、そくそく', '軽いものが落ちて、はたり', '軽いものが落ちて、ぱたり', '軽いものが倒れたり落ちて、ことり', '軽いものが倒れたり落ちて、ことん', 'ものをうっかりとり落として、ぽろっ', 'ものをうっかりとり落として、ぽろり', '間をおいてひとつずつ落ちて、ぽとりぽとり', '不用意にとり落として、ぽてっ', '軽いものが落ちて、はらり', '軽いものが落ちて、ぱらり', 'かたく軽い棒状のものが折れ、ぽきり', 'かたく軽い棒状のものが折れ、ぽきっ', '何かをあっけなく落として、ぽろん', 'わずかの幅でしなりゆれて、じわじわ', '大きくゆっくりゆれ動いて、ぐらりぐらり', '急にはげしくゆれて、がくん', 'ゆっくりとゆれ動いて、うつらうつら', '軽い棒状のものを何度も折り、ぽきぽき', '頼りなげにゆれ動いて、へらへら', '軽々とふるえ動いて、ぷるんぷるん', '小さく振動したりゆれ動き、ぷるる', '小さく振動したりゆれ動き、ぷるん', 'たれ下がって頼りなげにゆれ、ぶらんぶらん', '軽くゆっくりゆれ動き続けて、ぷらりぷらり', '重たげにゆっくりゆれ続けて、ぶらりぶらり', 'ゆっくりと大きくゆれ動いて、ふらりふらり', '軽いものが風などでゆれて、ぷらぷら', '軽いものが静かにゆれ動いて、ふよふよ', '何度もゆるやかにゆれ動いて、ゆらりゆらり', '一度軽くゆっくりゆれ動き、ゆらり', 'あざやかに気持よく切れて、すかっ', 'はさみで布などをひと思いに、じょきり', '軽く切り落とされて、すとん', 'いくつにも切ったり中断して、ぽつぽつ', 'きれいに切れたり中断して、ぽっきり', '思いきってものを断ち切り、ふっつり', 'ものを突然断ち切って、ぷっつ', '急に軽い調子で断ち切れて、ぷちっ', '急にはぜたり切れて、ぴちっ', '小さなものがくっついて、ちょん', '小さなものがくっついて、ちょこん', '一度軽く突っついてつんて、つん', '軽く一面に張りついて、ぺったり', '軽く貼りつけたり塗りつけて、ぺちょっ', '一面について、びたり', '左右にゆれるように曲がって、くねくね', '一部分が突然曲がって、くにゃり', '一部分が突然曲がって、くにゃ', '軽く二三度曲げて、くいくい', '急に軽い感じで折れ曲がって、かっくり', '何度も軽く突っついて、つんつん', '一部分だけ丸くふくらんで、ぷくり', '一部分だけ丸くふくらんで、ぷっくり', '一部分だけふくれ上がって、ぷくっ', '弱々しく曲がりくねって、なよなよ', 'ものがやわらかく曲がって、しんなり', '小さく出っ張って、ぽっこり', '目立つぐらいにふくらんで、ぼっこり', '締まりがなくふくらんで、ぶわぶわ', '弱い光が断続的に光って、ちらちら', '空中に軽々と浮かんで、ぽっかり', '静かに空中に浮かんで、ふんわり', '軽々と空中や水上に漂って、ふわりふわり', '軽々と空中や水上に漂って、ふわふわ', '瞬間的に軽く浮き上がって、ふわり', '瞬間的に軽く浮き上がって、ふわっ', 'ゆっくりと浮き上がって、ぷかり', '軽そうに水に浮き/浮遊して、ぷかりぷかり', '軽そうに水に浮き/浮遊して、ぷかぷか', '軽いものが空や水に浮いて、ぷかっ', '鍋の中のものが静かに煮えて、ことこと', '弱火で長く煮込んで、くつくつ', 'すくってつかまえにくくて、ぬらりくらり', 'すべってつか糸どころがなく、にゅるり', 'すべってつか糸どころがなく、にゅるにゅる', '適度に乾燥してよくすべり、さらさら', '全体的に乾燥して軽くなり、からから', '水けや油けがなくこわばって、かぱかぱ', 'ものがいやにくっついて、べたべた', 'しっとりしたうるおいがなく、ぱさぱさ', 'かわいて水分がたりなくて、ぱさっ', 'しわが寄って縮れて、しわくしゃ', '細長く弱々しげにのびて、ひょろひょろ', '毛などが乱雑に密生して、もさもさ', '毛などが乱雑に密生して、むしゃむしゃ', '一瞬ふれ合ってうるさく、がさっ', '一瞬ふれ合ってうるさく、がさり', '一瞬ふれ合ってかすかに、かさっ', '一瞬ふれ合ってかすかに、かさり', 'かわいたものが荒くふれ合い、ごそごそ', '紐などが締まりながらこすれ、ぎりぎり', '固定されているものがこすれ、ぎしぎし', '一瞬なめらかにこすれ合って、しゅるっ', '布などやわらかいものがこすれ、しゅっしゅっ', '薄くて軽いものがふれ合って、しゃわしゃわ', '薄く軽いものに何かがふれて、さわっ', '軽いもの同士が何度もこすれ、さらりさらり', '軽いものがこすれ合って、さらり', 'ものが軽くふれ合って、さらっ', '木の葉や絹が軽くふれ合って、さやさや', 'やわらかいものがつぶれて、くしゃっ', 'かたいもので軽いものを打ち、かーん', 'ものを軽くたたいて、ぱこっ', 'はずみをつけて軽くたたいて、とん', 'ものを軽く連続して打って、たんたん', 'ものを軽く打って、たん', 'かたいものを軽くたたき続け、ことこと', '尻などを軽くたたいて、ぺんぺん', '平らな面で何度も軽くたたき、ぺたりぺたり', '平手で何度も軽くたたいて、ぺたぺた', '平手で何度も軽くたたいて、ぴたぴた', '平手で軽くたたいて、ぴたっ', '平手でたたいて、びたっ', '平手などで何度も軽くたたき、ぴしゃぴしゃ', '平手などで一回軽くたたいて、ぴしゃっ', '平手などで一回軽くたたいて、ぴしゃり', '続けざまに軽く打ち合わせて、ぱたぱた', '膝などを手で軽く打って、はた', 'かたいものがふれ合って、かたこと', '一瞬でつぶれたりぶつかり、がしゃっ', 'ポールなどを軽く打って、ぽん', '続けて軽くたたいて、ぽたぽた', '中空なものを軽くたたいて、ぽこん', 'かたいものを軽く打って、ぽかん', 'こぶしでなぐって、ぽかっ', 'こぶしでなぐって、ぽかり', '軽々と勢いよく打って、ぽーん', '杖などが低い音で何度も、かつかつ', '軽くかたいものが何度も、かちんかちん', '小さくかたいものが勢いよく、かちん', 'かたいものが一度ふれ合って、がちゃり', 'かたいものが一度ふれ合って、かちゃり', '軽くてかたいものがふれ合い、かちっ', '下駄などが軽い音をたてて、からころ', '下駄などが軽い音をたてて、からから', '軽くてかたいものが当たり、かつん', '中空のものがかたいものと、かぽかぽ', '小さくかたいものがあたって、かっちゃん', '小さくかたいものがふれ合い、じゃらじゃら', 'かたいもの同士が両方から軽く、こっつんこ', 'かたいもの同士が軽く、こっつん', 'ものが軽く打ち当たって、ぱしっ', 'ものが軽く打ち当たって、すこん', '琵琶の音が、べろんべろん', '琵琶の音が、べろべろ', 'ちょうどそれだけで、ぽっきり', '金の支払いなどを少しずつ、ちびちび', 'かたかったものが軟化、しんなり', 'やわらかく張りがあって、くにゅくにゅ', 'やわらかく軽く力が抜けて、くにゃくにゃ', '急にやわらかく曲がって、くにゃ', 'やわらかく適度にかたさがあり、くにくに', '水けでやわらかくなって、ぐちょぐちょ', '水けでやわらかくなって、ぐちゅぐちゅ', 'やわらかいものがつぶれて、べしゃり', 'やわらかいものがつぶれて、べしゃっ', 'やわらかく弱々しくなって、ぺこぺこ', '軽くてやわらかくて、ふんわか', 'やわらかいものにくるまれて、ふわりふわり', 'やわらかく軽やかで、ふわっ', 'やわらかく軽やかで、ふわり', 'とろけるようにやわらかくて、ぷるぷる', 'やわらかくゆるやかで、ぷるっ', '押すと沈み込むやわらかさで、ぶよぶよ', '張りや締まりがなく、ふにゃふにゃ', '押すとやわらかくへこんで、ふにゃ', 'やわらかく包みこむようで、ふっくり', 'ぎこちなくかたい感じで、かきかき', '物の言い方などがやわらかく、やんわり', '感触がやわらかで、やわやわ', 'やわらかくて頼りなく、ぽわぽわ', 'かたくて歯切れのよい感じで、しゃきっ', '小さくまとまって固まり、こちん', 'ゆるんだものを締めつけて、きゅー', 'ゆるんだものを締めつけて、ぎゅー', 'ゆるんだものを締めつけて、きゅっ', 'ゆるんだものを締めつけて、ぎゅっ', '程度が隔たってはなはだしく、ずん', '程度がはなはだしくて、じゃんじゃん', '不必要にたくさん飾って、ごてっ', '小さいものが次々に現れて、ぴょこぴょこ', 'すっかりなくなって、ぱー', 'わずかに、ちょろり', '量・程度や時間がわずかで、ちょっぴり', '量・程度や時間がわずかで、ちょびっ', '量・程度や時間がわずかで、ちょこっ', 'なくなるのを惜しみつつ使い、ちびりちびり', 'なくなるのを惜しみつつ使い、ちびちび', 'わずかな出費も出し惜しんで、けちけち ', 'ものごとの度合がかすかで、うっすら', '手早くかたづけて立ち去り、とっと', '一瞬のうちに切るように、すぱっ', '形・色・香りなどがかすかに、ほんのり', '広い所にたったひとつだけで、ぽつん', '量や程度がごくわずかで、ぽっちり', '量が少なくて、ぽちぽち', '心配しながらゆっくり動いて、そろそろ', '振動しながらゆっくり動いて、ずしりずしり', '動作・進展などがゆるやかで、ゆるり', '動作・進展などがゆるやかで、ゆったり', '動作・進展・回転などが遅く、ゆるゆる', '動作・進展・回転などが遅く、ゆっくり', '仕事などに少しずつ取り組み、ぽつぽつ', '仕事などに少しずつ取り組み、ぽちぽち', 'いらいらするほど遅くて、のろくさ', 'いらだたしいほどゆっくりと、のたらのたら', 'いらだたしいほどゆっくりと、のたのた', '無頓着にゆっくり出てきて、のこのこ']\n",
            "Cluster  2\n",
            "['湿気が多く不快に暑くて、むしむし', '冷たさを感じて、ひんやり', '繰り返し冷たさを肌に感じて、ひやりひやり', '肌に冷たく感じて、ひやひや', 'ひどく湿気を帯び不快・不潔で、じめじめ', '湿気や水分が不快で、じとっ', '湿気や水分が不快で、じとり', '地面などに凹凸があって、でこぼこ', '道が舗装されていなくて、がたがた', '小またでこきざみに、ちょこちょこ', '不確かな足どりで、たどたど', '足もとが定まらずよろめいて、たじたじ', '振り返りもせずに逃げだして、 すたこらさっさ', '目的もなく歩き回って、うろうろ', '目的もなくさまよい歩いて、ぶらぶら', '目的もなくさまよい歩いて、ふらふら', 'にぶい動きでなかなか進まず、のろりのろり', 'あてもなくゆっくりと歩いて、のらりのらり', 'われ関せず落ち着き払って、 のさのさ', '遠い距離を肩を落として、とぼとぼ', '何もせず黙って突っ立って、ぬーっ', '迷いあわてて落ち着きなく、わたわた', '老人がひざをふるわせながら、よぼよぼ', '幼児などが慣れない足どりで、よちよち', '老人や病人などが足どり弱く、よたよた', '浅くまどろんで、とろとろ', '眠けをもよおして、とろっ', '安らかな寝息を立てて眠って、すやすや', '規則的に呼吸しながら眠って、すーすー', '深く長い眠りに落ちて、こんこん', '横たわって、ごろっ', '横たわって、ごろん', '横たわって、ごろり', '横になり簡単に眠りに落ちて、ころっ', '横になり簡単に眠りに落ちて、ころり', '疲れはててすぐに眠りに落ち、ことっ', '深い眠りで完全に熟睡して、ぐっすり', 'いびきをかきながらよく眠り、ぐーすか', 'いびきをかきながらよく眠り、ぐーぐー', '鼻を鳴らしながらよく眠って、くーくー', '居眠りして体が前後に動いて、こっくりこっくり', 'なかば眠りなかばさめて、うつらうつら', 'なかば眠りなかばさめて、うとうと', '無意味に立ち続けて、ぼさっ', 'ひどく疲れて体に力が入らず、くたくた', 'ひどく疲れて体に力が入らず、ぐだぐだ', '無為にだらしなく過ごして、ぼけっ', 'のんびりと無為に過ごして、べらり', 'なすこともなく手持ちぶさたで、ぶらり', 'なすこともなく怠惰に暮らし、ぶらぶら', '仕事をしないで心身を休めて、のんびり', '怠けて気楽に遊んで、のらくら', '怠けて寝ころがって、ごろんごろん', 'いい加減に過ごして、ごろちゃら', '何もしないで過ごして、ごろりごろり', '何もしないで過ごして、ごろごろ', '怠けてばかりで気力がなく、ぐーたら', 'ほんの少し眠って、まんじり', '横になるや深い眠りに落ちて、ばたんきゅー', '今にも眠りそうな目で、とろん', '疲れきってまともに歩けず、よたよた', '心身が疲れきって、ずたぼろ', '疲れや暑さに弱ってしまい、げんなり', '疲れて動けなくなって、くたっ', '疲れて動けなくなって、ぐたっ', '疲れて動けなくなって、ぐったり', '目玉をむいてひとにらみして、ぎょろり', '目玉をむいてひとにらみして、ぎょろっ', '落ち着きなくあたりを見回し、きょろきょろ', '落ち着きなく何度もまばたき、きょときょと', '見えたり見えなかったりで、うつらうつら', '生気の失せたにごった目で、どんより', 'ものが目に見えかくれして、ちらりちらり', '無遠慮にしつこく視線を送り、じろりじろり', '冷たく相手をにらみつけて、じろっ', '冷たく相手をにらみつけて、じろり', '開いているかわからない目で、しょぼっ', '目を長く開けていられずに、しょぼしょぼ', '視線を対象からそらさず、じーっ', '視線を対象からそらさず、じっ', '音をたてながら品なく食べて、くちゃくちゃ', '音をたてながら品なく食べて、ぐちゃぐちゃ', '音をたてながら品なく食べて、くしゃくしゃ', '目前の出来事かのように、まざまざ', 'ものの形や輪郭が不明瞭に、ぼんやり', 'ものが小さく目に見えて、ぼつっ', '口をあけずにものをかんで、むぐむぐ', '沈んだ口調で静かに言って、しんみり', '内情や心底を隠さずに率直に、ざっくばらん', '耳元であれこれ言って、ごちょごちょ////////////////////////////////////////////////', '周りに聞こえないような小声で、こそこそ', '不平などを不明瞭につぶやき、ぐずぐず', '不平などを不明瞭につぶやき、ぐずらぐずら', 'まわりに聞かれぬよう小声で、ひそひそ', '遠慮なくきびしいもの言いで、ばしばし', '軽薄でおしゃべりで、ちゃらちゃら', '要領を得ないことを言い続け、だらだら', 'ことばが口からよどみなく、すらすら', '口をよく開けずこもった声で、もぐもぐ', '口をよく開けずこもった声で、もごもご', '寝言や不平木満などを言って、むにゃむにゃ', '寝言や不平木満などを言って、もにゃもにゃ', '張りのない低く沈んだ声で、ぼそぼそ', '低く小さい声で一言だけ、ぼそっ', '低く小さい声で一言だけ、ぼそり', '低く小さい声で一言だけ、ぼそん', '低く小さい声で一言だけ、ぼつっ?', '低く小さい声で一言だけ、ぼつり?', 'だらしなくふざけて、じゃらくら', 'おかしさを抑えられず小声で、くっく', '口をすぼめて上品に気どって、おほほ', '口をすぼめて上品に気どって、ほほほ', '不適切なときに締まりなく、えへらえへら', '照れながら恥ずかしそうに、えへへ', 'おかしさを抑えられず小声で、くっくっ', '意味ありげに/薄気味わるく、にーっ', 'しきりに涙を流して静かに、さめざめ', '不快さや不満で気分が晴れず、くさくさ', '思いどおりにならず逆上して、かーっ', 'とりすまして愛想もなく、いけつんつん', '不本意な結果に気落ちして、がっかり', '不機嫌におし黙って、むすっ', '平静さを失い無性に腹が立ち、むしゃくしゃ', '無愛想な態度で、ぼさっ', 'ふくれっ面をしたまま黙って、ぷん', '口もきかずに横を向いて、ぷい', '意地のわるい口調や目つきで、とげとげ', '不機嫌にそっぽを向いて、つん', '不機嫌にそっぽを向いて、つんつん', 'いい気持ちがしないで、ぞっ', '力が抜けその場に座りこみ、へなへな', '情けなくみじめなようすで、とほほ', '元気なくその場を立ち去って、すごすご', '気力をなくし落ちこんで、しょぼん', '元気をなくしうなだれて、しょぼっ', '元気をなくしうなだれて、しゅん', '自分の失敗などに気落ちして、しおしお', 'すっかり気力を失って、けちょん', 'やる気や期待がしぼんで、くしゃっ', 'やりこめられひと言も返せず、ぎゃふん', '期待がかなわず軽く失望して、かっくん', '期待がかなわず軽く失望して、かくん', '不意に秘密などにふれられて、ぎく', '不意に秘密などにふれられて、ぎくっ', '不意に秘密などにふれられて、ぎくり', '不意に秘密などにふれられて、ぎくん', '元気がなくすっかり弱りきり、よれよれ', '年老いて気力・体力が衰えて、よぼよぼ', '気持ちや時間などに余裕なく、あくせく', '突然のことに目をむいて、ぎょぎょ', '突然のことに目をむいて、ぎょっ', '状況がわからず目を丸くして、きょとっ', '状況がわからず目を丸くして、きょとん', '動作に落ち着きがなく、ちゃかちゃか', '思うようにならないあせりで、じりじり', 'はげしく身もだえして、じたんばたん', '落ち着きのない目つきで、きろきろ', '驚きや心配で適切に動けず、おろおろ', '思いどおりにならずあせって、いらいら', '遠慮や恥じらいで決心で蛍子、もじもじ', '対処がわからずうろたえて、まごまご', '決心が弱くあれこれ迷って、ぐらぐら', '態度や行動動作などが遅く、ぐだぐだ', '恐れや緊張でためらいがちに、おずおず', '前向きになれず決断もできず、うじうじ', '態度や行動がはっきりせず、いじいじ', '集中できず落ち着かないで、わさわさ', '心配やあせりで落ち着かずに、やきもき', '心配で何も手につかないで、まんじり', 'どうなることかと心配で、はらはら', '抑えられない思いが次々に、むらむら', '何でもなさそうなようすで、しらっ', '何でもなさそうなようすで、しれっ', '執着や深刻さが感じられず、さばさば', 'ものごとを深く考えないで、ぱっぱらぱー', 'ものごとを深く考えないで、あっぱらぱー', 'ものに動じず気も利かせずに、のさのさ', '周囲の状況に無頓着に現れて、のこのこ', '知らないふりでしらじらしく、ぬけぬけ', '能天気であせることもなく、てれんこてんれんこ', 'やせて身長が高く頼りなげで、 ひょろひょろ', 'やせて身長が高く頼りなげで、ひょろり ', 'やせて身長が高く頼りなげで、ひょろん', 'やせて身長が高く頼りなげで、ひょろっ', '立ち姿がやせて格好よく、すらっ', '立ち姿がやせて格好よく、すらり', '骨や血管が浮き出るほどやせ、がりがり', '相手の領域に無遠慮に入って、ずかずか', '家の奥などへ遠慮なく上がり、ずい', 'めまいなど不安定にゆれて、くらくら', '体の平衡が取れずにゆれて、ふらふら', '野菜などを粗くきざんで、ざくざく', '弱々しくたわみやすくて、へこへこ', 'たわみしなって、しなしな', 'ものが乾燥しきって、がらがら', 'うるおいがなくこわばって、がびがび', '肌などが乾燥して荒れて、がさがさ', '背が高くやせていて、すらっ', '水分が不足してもろくなり、ぼろぼろ', '区別がつかず乱雑でうるさく、ごちゃごちゃ', 'だらしなく形をたもてないで、ぐしゃっ', '回答や返事などが不明瞭で、あやふや', '嘆かわしいほど無秩序で、めちゃめちゃ', 'まとまらずに分散・独立して、ばらばら', '回復できないほど混乱して、しっちゃかめっちゃか', 'まとまりがなく雑然として、ごみごみ', '形や色がぼけてはっきりせず、ぼやり', '形や色がぼけてはっきりせず、ぼわっ', '形や色がぼけてはっきりせず、ぼんやり', '輪郭があいまいな状態が続き、ぼやぼや', 'ものの輪郭が不明瞭で、ぼっ', '態度がはっきりしないで、しねくね', '結末や態度があいまいで、うやむや', '煙や湯気で視界が不明瞭で、もやもや', '煙や湯気で視界が不明瞭で、もやっ', 'はっきりと見分けられないで、ほのぼの', '事柄がはっきりしないで、ぼんやり', '実体が定かでなく頼りなくて、ぼわぼわ', '形や動きがはっきりしないで、もわもわ', '粗いもの同士がこすれ合って、ざらりざらり', '表面の粗いものがこすれて、ざらざら', '貧乏で暮らしに余裕がなく、きゅーきゅー', '生活に金銭的ゆとりがなくて、ぎちぎち', '生活などに余裕がなくて、かちかち', '古くなって張りがなくなり、くたくた', '今にもくずれそうで、ぐずぐず', '金がいつもなくて貧しく、ぴーぴー', '無一文になって、ぱーぱー', '無一文または無一物になって、すってんてん', '芯がなくて弱々しく、なよなよ', 'やわらかで手ごたえがなく、ぐにゃり', '力が抜けて頼りなく、ぐにゃらぐにゃら', 'やわらかく張りがなくなって、ぐにゃ', '元の形を留めぬほどつぶれて、くちゃくちゃ', '支えがはずれ弱々しくくずれ、へなへな', 'やわらかく弾力が感じられず、ふにゃり', 'やわらかくくずれそうで、ぶくっ', '支えが失われ自立できないで、へろへろ', '弾力を失ってかたく荒くなり、ごわごわ', 'ほんのわずかで、ちょぼっ', '髪・ひげなどがまばらで、しょぼしょぼ', '手早くあたりを揮らないで、ぱっぱっ', '広い所にたったひとつだけで、ぼつり', '動作が緩慢で、とろとろ', '態度・動作がためらいがちで、ぐずぐず', '話しぶりや態度が滞りがちで、もったらもったら', '動作がのろく意気があがらず、もさもさ', '気がきかなくて、ぼやぼや', '気のりがしないようすで、ぼそっ', '何ごとにも気のりがしないで、ぼさぼさ', '決断で蛍ずに迷って、ふらふら', '動作が遅くてなかなか進まず、のろのろ', 'いらだたしいほどゆっくりと、のたりのたり', '動作が遅くて、のそのそ']\n",
            "Cluster  3\n",
            "['日ざしがいっぱいに差しこみ、さんさん', '梅雨の長雨が絶えまなく降り、びちょびちょ', '強い風が吹きすさんで、ごーっ', '瞬間的に風が吹き過ぎて、さーっ', '枝や葉をはげしく鳴らして、ざんざ', '風が鋭く空をわたって、ひゅるるん', '重く鋭く風を切って、ぶんぶん', '熱気などが一面に広がって、もわっ', '体の中から熱くなって、ぽっぽっ', '熱気などが強く立ちこめて、むんむ', '熱気などが強く立ちこめて、むんむん', '熱気がにわかに感じられ、むん', '水が勢いよく飛び散って、ばしゃっ', '水が勢いよくはねかかって、びしゃっ', '水が鋭くはねかかって、ぴしゃっ', '水が勢いよく音高くかかって、びちゃっ', '液体を続けて大量に注いで、どぼどぼ', '大量の水が一気に吹き出て、どばどば', '大量の水が一度に勢いよく、どーっ', '大量の水が連続的に、ざーざー', '大量の水が一度に、さーっ', '大量の水が勢いよく流れ出て、がばがば', '勢いよく飛びこんで、じゃぶん', '勢いよく飛びこんで、じゃぼん', '波が大きく寄せては返し、ざんぶり', '大きな炎で勢いよく燃えて、ぱっぱっ', '砂などを勢いよくつかんで、ざっく', '急に勢いよく燃え上がって、めらめら', '足早に大またで歩いて、たったっ', '勢いよく突進して、だだだだ', 'ひた走りに一目散に走って、たたたた', '力強く走り抜けて、だだーっ', '子どもなどが足音高く走って、たかたか', '軽快に一気に走り抜けて、たー', '軽快に一気に走り抜けて、たたーっ', '急ぎ足で懸命に歩いて、 すたこら', '足を小気味よく動かして、さっさっ', '足を小気味よく動かして、さっさ', '音をたてて勢いよく歩いて、ばたばた', '音をたてて勢いよく歩いて、ぱたぱた', '巨漢が大またで悠然と、のっしのっし', '力強く重々しい足どりで、 のしのし', '騒々しく走り回って、どたばた', 'すばやく歩いて、とっと', '勢いよく足を踏ぶつけて、とーん', 'はね上がったり直立して、ぴん', '多数が次々に立ったり動いて、ばらばら', 'すばやい反応で立ち上がって、ぱっ', '勢いよく立ち上がって、ぬっく', '飛んで身軽に降り立って、すとん', '何気なく気軽に立ち上がって、すっ', '勢いよくまつすぐに立って、すくっ', '勢いよくまつすぐに立って、すっく', '率先して気軽に立ち上がって、さっ', '急に一気に起き上がって、がばっ', '活発に歩いて、ぱっぱ', 'リズムをとりながら行進して、らったった', 'うごめきながら起きあがって、むくむく', '突然立ったり起きあがって、むっくり', '突然立ったり起きあがって、むくっ', '突然立ったり起きあがって、むっく', '驚いて反射的に身をふるわせ、びくっ', '大きい目玉を鋭く光らせて、ぎょろぎょろ', '目を大きく見開きにらんで、かっ', '間をおいて何度もふるえつつ、ぴくりぴくり', '間をおいて何度もふるえつつ、ぴくんぴくん', '一瞬ふるえ動いて、ぴりっ', '腕などを大きく振り動かして、ぶるん', '急にふるえ動いて、ぶるり', '目玉を鋭く動かし横目で見て、ちろっ', '目のはしで一瞬視線を向けて、ちらり', '目のはしで何度も見て、ちらちら', '無遠慮に何度も眺め回して、じろじろ', '何度もしきりにまばたきして、しばしば', '近くから何度もよく見つめて、しげしげ', '焦点を鋭く合わせにらんで、ぐっ', '目を大きく見開き続けて、ぎんぎん', '大きな目で鋭くにらんで、ぎろっ', '大きな目で鋭くにらんで、きろり', '目玉などが一瞬すばやく動き、きろっ', '周囲をすばやく見回して、きょろり', '目を大きく見ひらいて、ぱちっ', '目を大きく見ひらいて、ぱちり', '目を大きく見ひらいて、ぱちぱち', '目を大きく見ひらいて、ぱっちり', '目を据えて強くにらんで、はた', '目を据えて強くにらんで、はった', '大きな口で一度に飲みこんで、ぱっくん', '大きな口で一度に飲みこんで、ぱくり', '大きな口で一度に飲みこんで、ぱくん', '大口で勢いよく食いついて、ばくっ', '大口で勢いよく食いついて、ぱくっ', '口にほおばり何度もかんで、もぐもぐ', '続けざまに勢いこんで食べて、むしゃりむしゃり', '酒を続けてあおりのどが鳴り、ぐびりぐびり', '酒を続けてあおりのどが鳴り、ぐびぐび', '息もつかずに勢いよく飲んで、ぐっぐっ', '酒などを勢いよく多く飲んで、ぐいぐい', '酒などをあおるように一気に、ぐい', '強い酒を味わいつつ一気に、きゅー', '強い酒を味わいつつ一気に、きゅっ', '一気に気分よく飲みこんで、かぽっ', '大量に急に勢いよく飲んで、がぽがぼ', '大口で大量に何度も飲んで、がぶりがぶり', '一度に大口で大量に飲んで、がぶっ', '一度に大口で大量に飲んで、がぶり', '息をつぎつつ勢いよく飲んで、がぷがぷ', '飲み物を勢いよく大量に、がぶがぶ', '大口で一度に大量に飲んで、がばっ', 'のどを鳴らしながら勢いよく、ごくんごくん', '続けて大きくのどを鳴らし、ごくりごくり', 'のどを鳴らして続けて飲んで、ごくごく', 'のどを鳴らして続けて飲んで、ごぶごぶ', 'のどを鳴らして続けて飲んで、ごっくごっく', '一口のどを鳴らして飲みこみ、ごくっ', '一口のどを鳴らして飲みこみ、ごくり', '一口のどを鳴らして飲みこみ、ごっくん', '上の者が何度も強い口調で、がみがみ', 'つばや痕を勢いよく吐き出し、ぺっぺっ', '口中から勢いよくふき出して、ぷっぷっ', '核心などを遠慮なく指摘して、ずばずば', '同じことを繰り返ししつこく、くだくだ', '同じことを繰り返ししつこく、ぐだぐだ', '同じことを繰り返ししつこく、くどくど', '強い口調で決めつけるように、ぴしゃっ', '核心などを遠慮なく指摘して、ずばり', '核心などを遠慮なく指摘して、ずばっ', '疾やつばを勢いよく吐いて、かっ', '疾をのどから口の奥に上げて、かーっ', '何度も催促したり口出しして、やいのやいの', '次々と威勢よくたたみかけて、ぽんぽん', 'その場の人々が騒ぎ動いて、ざわざわ', '酒を飲んでにぎやかに騒いで、ざざんざ', 'かん高く鋭い声で騒がしく、きーきー', '大勢の人が集まって騒ぎ立て、がやがや', '疾などがからまって息をして、ぜーぜー', '疾などがからまって息をして、ぜりぜり', 'やかましく騒いで、わんわ', '大勢が一度にかけ声を出し、わっさわっさ', '大勢がいっせいにどよめき、わっ', '大勢がにぎやかに騒いで、わいわい', '大勢がにぎやかに騒いで、わやわや', '忙しく動き回って騒いで、ぱたぱた', '大勢が一時に騒がしく出入し、どやどや', '走り回ったり暴れ騒いで、どたばた', '走り回ったり暴れ騒いで、どたんばたん', '乱暴に音を立てて動き回って、どたどた', '大勢がいちどきに入り乱れて、どさどさ', '子どもなどがはしゃぎながら、きゃっきゃっ', '大勢が一度に高笑いして、どっ', '大勢が一度に高笑いして、どっと', '言われたことにすぐ反応して、かちん', '言われたことにすぐ反応して、かつん', '急に気づいて思わず声が出て、あわわ', '気分が浮き立って躍りあがり、らんらん', '突然のことに慌てて動き回り、あたふた', 'わるい結果を感じて瞬間的に、ひやり', '急なことや意外なことに驚き、びっくら', '急なことや意外なことに驚き、びっくり', '驚いたりして息をのんで、ひっ', '突然気づいて驚いて、はっ', '驚きあきれ盛んにまばたいて、ぱちくり', '意外なものごとを見聞きして、げー', '意外なものごとを見聞きして、げっ', '意外なことに出会って驚いて、ぐきり', 'こまかく動いて落ち着かずに、こせこせ', 'こまかく動いて落ち着かずに、せこせこ', '気持ちがあせり急いで行動し、せかせか', '突然のことにあわてふためき、おたおた', 'することを前に腕が鳴って、むずむず', 'することを前に腕が鳴って、うずうず', '期待に浮き立ちはりきって、いそいそ', '感情や考えが急に浮かんで、むくむく', 'ものごとを深く考えて、つらつら', '強い感動が身内を走り抜け、ぞっ', '脈打つように絶えずうずいて、ずきんずきん', 'はげしいう手会が一瞬走って、ずきん', '勢いが盛んで活動的で、ぱりぱり', '子どもが順調に成長して、すくすく', '体や気持ちに張りがあって、しゃきっ', 'エネルギーに満ちよく動いて、ぎんぎん', '肥え太ってふくれて、ずんぐりむっくり', '丸々と太って、ころころ', 'ものごとを力強く押し進めて、ずっずっ', 'ものごとを力強く押し進めて、ずんずん', 'ものごとが支障なく進行して、すっすっ', 'ものごとをいっそう推し進め、ずっ', '少しずつ相手の方に迫って、じりじり', 'ものごとが景気よく進んで、じゃんじゃん', 'ものごとがすみやかに進んで、さらさら', 'ものごとが滞りなく進んで、さくさく', '次第に加速しながら前進して、ぐんぐん', '引っ張るようにして進み、ぐいぐい', '大幅に動き続けて、がくんがくん', '急激に動いては元に戻り、がくりがくり', 'はげしい勢いで進んで、ががっ', '勢いよく押し寄せて、がーっ', '目に見えて程度が進んで、めきめき', '少しずつだが着実に前進して、ぼつぼつ', '少しずつだが着実に前進して、ぽちぽち', '細長いものがうねり進んで、にょろり', '勢いよくためらわずに進めて、ばんばん', '勢いよくためらわずに進めて、どんどん', '続けざまに順調に運んで、とんとん', 'ためらわずにことを進めて、どんどこ', '目的に積極的に進んで、どしどし', '事柄がすばやく進展して、てきぱき', 'ものごとが妨げられず進んで、つーつー', 'ためらわずに大股で近寄って、つかつか', '期待していないほうに進んで、ついつい', '勢いをたもって推し進めて、だっだっ', '細かいことは飛ばして進んで、たったっ', '勢いをつけて突っ走って、だー', 'ある状態へ徐々に進行して、そろそろ', 'たくさん勢いよく散って、ばっばっ', 'こきざみにゆれたり動いて、ちょろちょろ', '繰り返し大きくゆれ動いて、くらりくらり', '急激に大きく一瞬ゆれ動いて、ぐらっ', '急激に大きく一瞬ゆれ動いて、ぐらり', '急に大きくゆれ動いて、くらっ', '急に大きくゆれ動いて、くらり', '重ったるくゆれ動いて、ぐずり', 'あっけなくきれいに折れて、ぽっきり', '何度もゆれ動いて、ゆらゆら', '大きく一度ゆれ動いて、ゆらっ', '大きなものがゆれ動いて、ゆさり', '重々しげに大きくゆれ動いて、ゆさゆさ', '振動したりゆれ動いて、ぶるる', '振動したりゆれ動いて、ぶるぶる', '広がったものがゆれ動いて、ばさらばさら', '足がもつれながらゆれ動いて、よろりよろり', 'ものを勢いよく切って、ずきずき', '勢いよく切ったりたたき割り、ざぐり', '勢いよく切ったりたたき割り、ざっく', '勢い鋭く何度も切って、ずばりずばり', '続けざまに密着して、ぴたぴた', '布や紙などを勢いよく破って、びりっ', '布や紙などを勢いよく破って、ぴりっ', '密着したり貼りつけて、べたっ', 'やわらかく自在に曲がって、ぐにゃぐにゃ', 'やわらかく自在に曲がって、くにゃくにゃ', 'ものを急に曲げて、くい', '急に勢いよく刺して、ぶつっ', '何度も突き刺して、ぷすぷす', '身をしなやかに動かして、しゃなりしゃなり', 'たわいなく曲がって、ぐんにゃり', '一瞬明るく鋭く光って、きらっ', '一瞬明るく鋭く光って、きらり', 'どぎついほど強く光り輝き、ぎらぎら', '丸みを帯びて高く盛り上がり、もっこり', '丸く目立って盛り上がって、もこっ', '盛り上がったりうごめいて、もくもく', '丸く盛り上がって、むっくり', '何度もまたたくように光って、ぴかりぴかり', '点滅したり光線をよく反射し、ぴかぴか', '稲妻などが一瞬鋭く光って、ぴかっ', '稲妻などが一瞬鋭く光って、ぴかり', '光が点滅して、ぱっぱっ', '急に明るく電気や火がつき、ぱっ', 'かすかに断続的に光って、ちろちろ', '一瞬光ったりひらめいて、ちかり', 'ごく一瞬鋭く光って、ちかっ', 'にぶい光が断続的に光って、ちかちか', '空中にひるがえってきらめき、ひらりひらり', '一瞬きらめき輝いて、ひらり', 'すべるようにあちこち動き回り、ぬるりぬるり', '押さえてもすべってすり抜け、ぬるり', 'しつこく粘っこくて、しんねり', 'しつこく粘りついて、べたりべたり', '細長いものが長くのび出て、にょろっ', '不意に大きくのびて出て、にょっきり', 'ものが長くのび出て、にょっき', '植物などが次々に生えてのび、にょきにょき', '長くうねるものがのび進んで、にゅるにゅる', '細くまつすぐにのび出て、つい', '棒状のものが勢いよくのびて、するする', '長細くしなやかで、すんなり', '足などが細長くて格好よく、すらり', '勢いよくまつすぐにのびて、すっき', '細長くまつすぐにのびて、すーっ', '細長くまつすぐにのびて、すっ', '目に見えて速くのびて、ぐんぐん', '秩序なく入り乱れて、ごちゃくちゃ', '雑多に秩序なく入り混じって、ごっちゃ', '雑多に秩序なく入り混じって、ごちゃ', '雑多に秩序なく入り混じって、ごった', 'はげしく入り乱れ混雑して、ごじゃごじゃ', 'はげしく入り乱れ混雑して、ごしゃごしゃ', 'よくのびて、びよーん', '障りなくのびたり成長して、のびのび', 'ものごとが入り組んで、ごてごて', 'かわいたものが騒がしくこすれ、ごそ', 'かたいものが互いにすれ合い、ごきごき', '何度もきしんだりこすれて、きゅっきゆっ', 'ものが一瞬きしんで、きっ', 'ものが一瞬きしんで、ぎっ', 'すぱやく勢いよくこすれて、しゅっ', '勢いよく打ったりたたいて、 ばーん', '戸などを何度も強くたたいて、どんどん', '何度も強く打ち/踏み鳴らし、どしんどしん', '何度も強く打ち/踏み鳴らし、どしどし', 'たたいたり踏翠鳴らして、とんとん', 'たたいたり踏翠鳴らして、とーとー', 'ものを力強く連続してたたき、だんだん', '何かを強く打ちたたいて、だーん', 'むちなどで鋭く一撃して、ぴしり', '棒などで強く打って、びしり', '平たいものを強く打って、びしゃっ', 'むちなどで何度も強く打って、ぴしぴし', 'むちなどで何度も強く打って、びしびし', 'むちなどで一回強く打って、びしっ', 'ものを勢いよく打って、ぱん', '刀などで勢いよく強く打って、はっし', '続けざまに打ち合わせて、はたはた', '騒がしくふれ合って、がたごと', '重くかたいものが勢いよく、がちん', 'かたいものが勢いよく当たり、がちっ', '小さいものなどが強くあたり、がつっ', '勢いよくぶつかって、ぼん', 'はげしい勢いで当たって、ぴしっ', '何かが勢いよくぶつかって、どたつ', '太鼓を勢いよくたたいて、どんどこ', 'らつばを鳴らして、とてちてたー', '太鼓をたたいて、てれつく', '吹から次へと的を射って、ぴしぴし', '小判などが次々と大量に出て、ざっくざっく', '限界に達して、ぎりぎり', '多額の金を一気にもうけて、がばちょ', '多額の金を次々にもうけて、がばがば', 'どうにかこうにかで、かつかつ', '生き物がたくさん群れ動いて、うようよ', 'はじけそうに弾力性に富んで、ぷりぷり', '重々しく弾力性に富んで、ぶりぶり', '多くが並び連なり、ずらっ', '多くが並び連なり、ずらり', '同様のものが次々に並んで、ずらずら', '惜しみなく大量に消費して、じゃかすか', '数や種類がくどいくらい多くて、ごてごて', 'いやになるほど多すぎて、ごってり', 'いやになるほど多すぎて、こってり', '多様なものが雑然と集まって、ごちゃごちゃ', '一度に大量のものが動いて、ごっぽり', '一度に大量のものが動いて、ごっそり', '一度に大量のものが動いて、ごそっ', 'すきまなくたくさん詰まって、ぎっしり', 'どんどん大量に飲み食いして、がぼがぼ', 'どんどん大量に飲み食いして、がばがば', '一度にたくさんもうかって、がっぽり', '調子よく次々に現れて、ぽこぽこ', '調子よく次々に現れて、ぼこぼこ', '次から次へ数多く出てきて、ひょこひょこ', '大量にすきまなく並んで、びっしり', 'あふれるほど大量についで、なみなみ', '大勢が騒ぎながら出入りして、どやどや', '勢いよく続けざまに噴き出て、どばどば', '大量に勢いよく噴き出て、どばっ', 'たくさんあって、どさっり', '次から次へたくさん続いて、どしどし', '大勢が遠慮なく踏恐込んで、どかどか', '一度にたくさん集まって、どかっ', '一度に大量に押し寄せて、どどっ', '一度に大量に押し寄せて、どーっ', '一度に大量に押し寄せて、どっ', '必要以上に大量にあって、たぶたぶ', 'あまるほど大量にあって、たっぷり', '大勢がひとつながりに続いて、ぞろりぞろり', '多くのものがひとつながりで、ぞろっ', '多くのものがひとつながりで、ぞろり', '多くのものが連なって現れ、ぞろぞろ', 'あちこちで少しずつ見られて、ちらほら', '大勢が押し寄せ混み合って、わんさわんさ', '大量に一度に押し寄せて、わんさか', '大量に一度に押し寄せて、わんさ', '数や量がたくさんあって、わさわさ', '大勢がいっせいに声を出して、わーっ', '大勢がにぎやかに騒いで、わいわい', '盛り上がるほどたくさんで、もりもり', 'すきまなくたくさんあって、みっしり', '動作や状態が急に変化して、はっ', '動作や状態が急に変化して、ばっ', '動作や状態が急に変化して、ぱっ', '巧妙で迅速に動いて、ちょろり', '動作が迅速で、ちゃっ', '勢いよく飛び出して、だっ', '遅滞なく吹から次へと進んで、ずんずん', 'よどみなく順調に進んで、すらすら', '自発的にすばやく動いて、すっ', '自発的にすばやく動いて、すっすっ', 'すばやく動いたり変化して、すい', 'すばやく動いたり変化して、すすっ', 'かげですばやく動き回って、こそこそ', 'あたりをすばやく動き回って、うろちょろ', '少しずつ進行したり圧迫して、じわりじわり', '間をおいて少しずつ進んで、じりりじりり', '少しずつ確実に進んで、じわっ', '少しずつ確実に進んで、じわり', '少しずつ確実に進んで、じわじわ', '少しずつ確実に進んで、じりじり', 'じゅうぶんに時間をかけて、じっくり', '急いで行動して、わらわら', '突然行動をおこして、わーっ', '突然現れたり動いて、ひょい', '突然現れたり動いて、ひょこ', '高速で飛んだり走って、ぴゅん', '高速で飛んだり走って、びゅん', '乗り物が飛ぶように速く走り、びゅわーん', 'ものが勢いよく飛び出して、ぴゅっ', '高速で風を切って進んで、びゅっ', '風を切ってすばやく飛んで、ひゅっ', 'すばやい動きで、ぱぱっ', '少しずつ時間をかけて進んで、のろりのろり']\n",
            "Cluster  4\n",
            "['雨が勢いはげしく降って、ざんざん', '雷の音がとどろき響いて、ごろごろ', '急にはげしく寒気を感じて、ぞくり', '冷気や発熱などで寒気がして、ぞくぞく', '体がしびれるほど冷えてきて、じんじん', '寒さが身に深くしみとおって、しん', '火や怒りで熱くなって、かっ', '火や怒りで熱くなって、かっか', '冷えすぎるくらいよく冷えて、きーん', '過剰なほどよく冷えて、ぎんぎん', '寒気で気分が引き締まって、りん', '血などがあふれ出て、どくどく', '雨などで湿気をおびて不快で、じとじと', '水分を過度に含んで不快で、べちょべちょ', '大量の汗などでひどくぬれて、びっしょり', '汗などに不快にぬれて、ぬたくた', 'しなやかに気どって歩いて、 しゃなりしゃなり', 'ウマが軽やかに足音をたてて、ぱかぱか', 'にぶい動きでなかなか進まず、のろのろ', '今にも倒れそうな足取りで、よろよろ', '疲れていかにもだるそうに、どたん', '居眠りで頭が急に前後に動き、こっくり', 'ひどく消耗して気力も失せて、がっかり', 'しつこさに嫌気がさして、うんざり', '何となく怠惰に時を過ごして、のめのめ', 'まばたきなどをして眠れずに、まじまじ', '恐怖に体の表面が一瞬ふるえ、ぞっ', '不快な寒けを感じて、ぞぞっ', '寒さ・恐怖・感動に一瞬ふるえ、ぞくっ', '寒さ・恐怖・興奮に身ぶるいし、ぞくぞく', '恐怖で背筋に悪寒がはしって、ぞーっ', '寒さや恐怖で歯の根も合わず、がちがち', '寒さや恐怖ではげしくふるえ、がたがた', '心身ともに疲れきって、ぼろぼろ', '疲労困瞳で息もたえだえに、へとへと', 'ひどく消耗してやせ衰えて、げっそり', '急激な刺激に体がしびれて、びりっ', '急激な刺激に体がしびれて、びりん', '寒さ・恐怖・怒りなどでふるえ、わなわな', '恐怖・怒りにわなないて、ぶるぶる', '眠けや酔いでにぶい目つきで、どろん', '眠けや酔いでにぶい目つきで、とろり', '眠けや酔いでにぶい目つきで、とろん', '恨めしげうらやましげに、じとっ', '恨めしげうらやましげに、じとり', '威嚇するように鋭い視線で、ぎろり', '欲望のままにむさぼり食って、がつがつ', '口をすすいだりものをかんで、ぐちゅぐちゅ', '口にほおばり何度もかんで、もくもく', '舌で大きく何度もなめ回して、べろんべろん', '舌で大きく何度もなめ回して、ぺろんぺろん', '舌で大きく何度もなめて、ぺろぺろ', '舌でものをなめ回して、ぺろぺろ', '舌でものをなめ回して、べろべろ', '耳ざわりな舌の音をたてて、ぺちゃぺちゃ', '耳ざわりな舌の音をたてて、ぴちゃぴちゃ', '歯切れよくものをかんで、ぱりぱり', '体が起こせないほど泥酔して、ぐたぐた', 'イヌなどが舌で音をたてて、ぴちゃぴちゃ', '大勢の人が口々にうるさく、がやがや', '不平・文句などを言いつのり、がたがた', '際限なく言い訳やぐちを続け、うだうだ', 'こまごまとうるさく言って、うざうざ', '胃の奥から吐きけをもよおし、むかむか', '胃の奥から吐きけをもよおし、むかっ', '飲食物を続けて嘔吐して、げーげー', '飲食物を続けて嘔吐して、げろげろ', '吐き出したりうがいをして、がらがら', '吐き出したりうがいをして、がらがらぺっ', '酔って体がまともに動かせず、べろべろ', '酔って体がまともに動かせず、べろんべろん', '泥酔して視点や口調が乱れて、へべれけ', '酒に酔ってしゃっくりが出て、ひっく', '遠慮なくあからさまに言って、ずけずけ', '弁解などを脈絡なく言って、しどろもどろ', '口の中で不明瞭に言い続けて、ごにょごにょ', '不平や言い訳をあれこれと、ごじゃごじゃ', '不平や言い訳をあれこれと、 ごだごだ', '不平や言い訳をあれこれと、ごちゃごちゃ', 'とりとめもなくしゃべり続け、ぐちゃぐちゃ', 'しつこく不平・不満を並べ立て、ぐたぐた', '不平や言い訳独り言などを、ぐじゃぐじゃ', 'かん高い声で騒ぎ立てて、きゃんきゃん', 'かん高い声で騒ぎ立てて、きんきん', '文句などを大声で繰り返して、ぎゃーぎゃー', '強いことばで言い切って、きっぱり', '不平・不満を聞かせるともなく、ぐちぐち', '小声で不平・不満を言い続け、ぶつぶつ', '小声で不平・不満を言い続け、ぶつくさ', '小声で不平・不満を言い続け、ぶちぶち', 'くぐもった声で不満などを、ぶすぶす', '不平・不満・文句などを盛んに、ぶーぶー', '不平などをうるさく言い立て、ぶいぶい', 'かん高い声でやかましく騒ぎ、ぴーちくぱーちく', '苦境におちいってあえぎつつ、ひーこら', '不平や理屈などをうるさく、つべこべ', '不満・不平を長々と際限なく、たらたら', '気どったりいばったりして、おほん', 'それぞれ勝手に言い合って、わちゃわちゃ', '大勢が声高に言いたてて、わいわい', '大勢が声高に言いたてて、わやくや', '他愛なくしゃべり続けて、ぺちゃぺちゃ', '他愛なくしゃべり続けて、ぺちゃくちゃ', '他愛なくしゃべり続けて、べちゃくちゃ', '大混乱になって、どがちゃが', '不平や文句をつけて、ごたごた', '騒ぎ立てたり泣きわめいて、ぎゃんぎゃん', 'のどにものや息をつまらせて、ぐぐっ', '泣き声や叫び声を上げ騒いで、わーわー', '大勢の人が混乱して騒いで、やっさもっさ', '大勢の人が混乱して騒いで、やんさもんさ', '子どもが訴えるように泣いて、えーん', '思わず涙がこぼれそうになり、うるっ', '心を動かされて涙ぐんで、うるうる', '心を動かされて涙ぐんで、うるるん', '意気地なく口をへの字に曲げ、うえんうえん', '人が大声を上げて泣いて、あんあん', '人が大声を上げて泣いて、えんえん', 'ぐずりながら泣いて、べそべそ', 'ひきつけるように泣いて、ひっく', '情けない声で悲鳴をあげて、ひーひー', '苦役などで悲鳴をもらして、ひーこら', '涙にうるんでまばたきして、しぼしぼ', '勢いなくあわれげに泣いて、しくしく', '気持ちがしぼんで涙を流して、しおしお', '涙ぐんで鼻を鳴らして、ぐっすん', '涙ぐんで鼻を鳴らして、ぐすん', '涙ぐんで鼻を鳴らして、くすん', '泣いて鼻水をすすって、ぐすぐす', 'きかん気の子どもがわめいて、ぎゃー', 'きかん気の子どもがわめいて、ぎゃーぎゃー', '泣き声を飲みこみながら、おんおん', '声をうるませて涙声になって、おろおろ', '赤ん坊が泣きわめいて、おぎゃーおぎゃー', '人が悲しみに泣き叫んで、おーおー', '怒りや嫉妬で心が燃えたぎり、くらくら', '怒りや嫉妬で心が燃えたぎり、ぐらぐら', '不平・不満が強くこみあげて、ぐつぐつ', '態度や目つきを急に硬化させ、きっ', '激怒のあまり理由も聞かず、かんかん', '神経が高ぶり怒りやすくなり、かりかり', '怒りや不満で興奮して、かっか', '怒りや不満で興奮して、がみがみ', '怒りや不満で興奮して、かっかっ', '恥辱や怒りで頭に血がのぼり、かっ', '急にはげしく泣き出して、わっ', '所かまわず大声で泣きわめき、わーわー', '所かまわず大声で泣きわめき、わーん', '所かまわず大声で泣きわめき、わんわん', '女性が力なく泣きくずれて、よよ', '意気地なくいつまでも泣いて、めそめそ', '幼児が意気地なく泣いて、めーめー', '不本意な結果に気落ちして、がっくり', '怒りが腹の底からわいてきて、むらむら', '相手の言動にむかっ腹を立て、むっ', '怒りが急激にこみあげてきて、むかっ', '怒りが急激にこみあげてきて、むかむか', '腹を立てて不機嫌さを隠さず、ぷんぷん', '不満や怒りで頬をふくらませ、ぷりぷり', '不満や怒りで頬をふくらませ、ぷっ', '不満や怒りで頬をふくらませ、ぷりっ', '不機嫌にふくれっ面をして、ぶすっ', '不機嫌にふくれっ面をして、ぶすり', '不満や怒りで頬をふくらませ、ぷー', 'とげのある口調や態度で、つんけん', '愛想もなくぶっきらぼうに、つっけんどん', '意気消沈してうなだれ歩いて、とぼとぼ', 'ひどさのあまり気力を手がれ、げんなり', '病気や心労で急激に衰えて、げっそり', '過去や些細なことに悩んで、くよくよ', 'ひどく打ちのめされて、がびーん', '驚き・恐怖・苦痛に悲鳴をあげ、きゃー', '驚き・恐怖・苦痛に悲鳴をあげ、ぎゃー', '驚き・恐怖・苦痛に悲鳴をあげ、きゃーきゃー', ' 驚き・恐怖・苦痛に悲鳴をあげ、ぎゃっ', '驚き・恐怖・苦痛に悲鳴をあげ、きゃっ', '一瞬不意をつかれて動揺し、ぎっくん', '大げさにひどく驚いて、がびょーん', '心理的に強い衝撃を受けて、がーん', '驚きのあまり悲鳴をあげて、うぎゃー', '水におぼれて苦し承もがいて、あっぷあっぷ', 'ひどく驚いて、ひっく', '一瞬の恐怖に身をふるわせ、びくっ', '驚き・恐怖.苦しさに声をあげ、ひー', '驚き・恐怖・期待に動悸がして、どきっ', '驚き・恐怖・期待に動悸がして、どきり', '驚き・恐怖・期待に動悸がして、どっきり', '驚きあきれ/あっけにとられ、だー', 'ひどく驚きあきれて、ぎょえー', '真実を見透かされてうろたえ、どぎまぎ', '心配や恐怖に鼓動が速まり、どきどき', '別のことが気になり不安で、そわそわ', '話の内容やことばが不確かで、しどろもどろ', 'あれこれとあわただしくて、しっちゃこっちゃ', 'あせってあわてもがいて、じたばた', 'あわてて思わず声を出して、ぎゃっ', '緊張や恐れなどでたじろいで、おどおど', '悲哀などで胸が締めつけられ、きゅーん', '困難さや相手に威圧されて、たじたじ', '心配や後悔で心が落ち着かず、くよくよ', '心配で身もだえして、もだもだ', 'うろたえて返答につまって、へどもど', '不安や恐れで心も体もふるえ、びくびく', 'あわただしくことを行って、ばたばた', 'さまざまな雑事に追われて、どたばた', '頭が絶えずひどく痛んで、ぎんぎん', '胃などが刺されるように痛み、きりきり', '騒音や痛朶が頭などにひびき、がんがん', '寒さなどで体がこわばって、がじがじ', '痛みをにぶく感じ続けて、うずうず', '皮膚やのどが痛さや辛さで、ひりひり', '皮膚やのどが痛さや辛さで、いらいら', 'のどの粘膜が刺激されて痛み、いがいが', 'のぼせたり欲情が起きて、もやもや', '突如感情や思いがわいて、むらっ', '強く胸に迫り涙が出そうで、じん', '急激な刺激・痛み・辛味を感じ、ひりっ', '急激な刺激・痛み・辛味を感じ、ぴりっ', 'けいれんして神経をとがらせ、ぴきぴき', 'しびれや刺激が体中にひびき、びーん', 'はげしい動悸がして、どっきどっき', 'はげしい動悸がして、どっきんどっきん', 'はげしい動悸がして、どきんどきん', '絶えまなくうずき痛んで、ずんずん', '絶えまなくうずき痛んで、ずきずき', '患部が始終痛んだりしびれて、じんじん', '手足などが重くしびれて、じん', 'にぶい痛みがさしこみ続けて、しくしく', '針で刺すような痛みが何度も、しくりしくり', '痛さや寒さで感覚がまひして、じーん', '目に異物が入ってにぶく痛み、ごろごろ', '相手の言動に心理的に傷つき、ぐさっ', '相手の言動に心理的に傷つき、ぐさり', '厳しい言葉に心に打撃を受け、ぐさぐさ', '相手が傷つくことを言って、ずけずけ', '遠慮なく踏みこんできて、ずかずか', '恥を恥とも思わずすまして、しゃーしゃー', '憎らしいほどにあつかましく、いけずーずー', '憎らしいほどにあつかましく、いけしゃーしゃー', '虫がはうようなかゆみを感じ、もぞもぞ', '虫がはうようなかゆみを感じ、むずむず', '瞬間的な刺激や痛みを感じて、ひりり', '刺激や痛みを継続して感じて、ぴりぴり', '刺激や痛みを継続して感じて、びりびり', '抜け目のなさも憎めなくて、ちゃっかり', 'やせ衰えてやつれて、そげそげ', '話や音信などが突然絶えて、ぷつり', '話や音信などが突然絶えて、ぷつん', '不快にふくらんだり太って、ぶくぶく', '猛獣の目が暗い所で鋭く光り、らんらん', '汗や血などが一面について、べっとり', '混乱したりもめごとが起きて、ごたすた', 'ものごとが入り乱れて混乱し、ごたごた', '雑然と入り混じって、がちゃがちゃ', '目も当てられないほど散らかり、がしゃがしゃ', 'ひどくしわが寄って、しわしわ', '乱れたようすで、ももくちや', 'もつれたり紛糾して、もじゃくじゃ', 'あきれるほど無秩序で、めちゃくちゃ', '壊れ方がひどくて、めためた', 'ものごとが混乱して、はちゃめちゃ', 'だらしなく乱れたり引きずり、じょろりじょろり', '細々していて煩わしくて、ごちょごちょ', '騒がしくこすれ合って、がさがさ', '騒がしくこすれ合って、がさごそ', '強い摩擦によって、きゅー', '強い摩擦によって、きゅっ', 'ものがこすれ合って、ずっずっ', 'ものがこすれ合って、ずずっ', 'はげしくぶつかったり壊れて、がっちゃん', '壊れるぐらいにぶつかって、がっしゃん', 'はげしくぶつかってかみ合い、がっき', '三味線をつまびいて、つんつん', '小銭や鍵の束などがぶつかり、じゃらじゃら', '不快なほどやわらかくふくれ、ぶくぶく', '大勢の人が口々にうるさく、がやがや', '不意に事が起きて、わっ', 'にぶい動作でぶっきらぼうに、のそり']\n",
            "Cluster  5\n",
            "['雪やあられが次々と降って、こんこん', '鳥肌が立って背筋が寒く、ぞーっ', '空気の移動を感じて肌寒く、すかすか', '寒さがだんだん身にしみて、じわじわ', '大量の水が重く鳴りひびいて、ごーっ', '服などが完全に重くぬれて、ぐっしょり', '重いものが水中に落ちて、どぶん', '岩肌などが角ばってかたく、ごつごつ', '大男がにぶそうな動きで、のそのそ', '体重をかけ力強く踏みつけて、どっしどっし', '急に力が抜けたように倒れて、こてっ', '体の一部がこきざみに痙筆し、ひくひく', '突然体や体の一部が引きつり、ぴくり', '突然体や体の一部が引きつり、ぴくん', '突然体や体の一部が引きつり、ひくっ', '突然体や体の一部が引きつり、ぴくっ', '関節など上下左右にふるえて、がくがく', '寒さなどで一瞬全身がふるえ、ぶるっ', 'かたいものを一度歯切れよく、かりっ', 'かたいものを一度歯切れよく、かりり', 'かたいものを一度歯切れよく、かりん', 'かたいものを軽くかみ砕き、かりかり', '一度に深くかみついて、がぶっ', '一度に深くかみついて、がぶり', '口の奥深くかみついて離さず、がっぷり', '乱暴にかみ砕いて、がしがし', 'かたいものをかみ砕いて、ばりばり', 'かたいものを強くかんで、ごりっ', 'かたいものを口の中でかんで、こりこり', 'かたいものを音高くかじって、ぼりっ', '舌でものを大きく一度なめて、べろん', '大勢が先を争って混乱して、てんやわんや', '何度も強くせきこんで、ごほんごほん', '強くせきこんで、げほげほ', '強くせきこんで、ごほごほ', '急に力が抜けて倒れこんで、へたへた', 'やりこめられ打ちのめされて、ぎゅー', '一瞬の恐怖に身をふるわせ、ぴくり', '心に強い衝撃を受けて、ぐっ', '針で何度も刺されるように、ちくちく', '虫などに鋭く刺されて痛んで、しく', '抜け目なくて/押しが強くて、がっちり', '少し太りぎみで、ぽちゃぽちゃ', '太りすぎて締まりがなく、ぶよぶよ', '締まりなく太って、だぶだぶ', '肉つきがよく張りがあって、ぽてぽて', '不必要な肉などがついて、ぼてぼて', '肉づきが重たげに豊かで、ぼってり', '軽くかたいものが転倒・落下し、かたん', '軽くかたいものが転倒・落下し、かたり', '重いものが勢いよく落ちて、ばたっ', '大きく重いものが落ちた衝撃で、どすん', '重いものが続けざまに落ちて、どさどさ', '大きな重いものが一度に落ちて、どたん', '大きな重いものが一度に落ちて、どたり', '大きな重いものが一度に落ちて、どさん', '大きな重いものが一度に落ちて、どさっ', '大きな重いものが一度に落ちて、どさり', '重いものが落ちて当たって、どかり', '重いものが続けて落ちて、どかどか', '重いものが倒れたり落ちて、ごとり', '重いものが倒れたり落ちて、ごとん', '重いものが次々にくずれ落ちて、がらがら', '重いものが急に転倒・落下し、がたん', '重いものが急に転倒・落下し、がたり', '重みを感じさせながら落ちて、ぱらり', 'かたい棒状のものが折れて、ぼきり', 'かたい棒状のものが折れて、ぼきっ', '小さく折れたり割れて、ぴしっ', '細くて弾力のあるものが折れ、びしり', '細くて弾力のあるものが折れ、びしっ', 'かたいものが折れて、ぱちり', 'かたく薄いものが折れ曲がり、ぱしぱし', '細いものが次々に折れて、ぱきぱき', '乾いたものが勢いよく折れて、ばきばき', '細いものが折れて、ぱきん', '細いものが折れて、ぱきっ', 'かたく薄いものが急に折れて、ばきん ', 'かたく薄いものが急に折れて、ばきっ', '足をくじいて/棒が折れて、ぎくり', '突然はげしく折れ曲がって、ぎくん', 'ものが急に折れ曲がって、ぎくり', 'ものが急に折れ曲がって、ぎくっ', '大きく角立って折れ曲がり、ぎくぎく', '角立って折れ曲がり、ぎくしゃく', '角立って折れ曲がり、きくきく', '急に折れ曲がったりはずれて、かっくん', '急に折れ曲がったりはずれて、かくん', '急に強く折れ曲がって、がっくり', '急に強く折れ曲がって、がくり', '長いものがだらしなくゆれて、だらりだらり', '列車などが規則的にゆれて、ごとごと', '全体的に大きくゆれ続けて、ぐらぐら', '重いものが不安定にゆれて、がたがた', '強くたたいたり折れて、ぼくっ', '軽い棒状のものが完全に折れ、ぽきん', 'かたい棒状のものが完全に折れ、ぼきん', 'かたい棒状のものを何度も折り、ぼきぼき', '大きく重そうなものがゆれて、ゆっさゆっさ', '大きなものが何度もゆれて、ゆさりゆさり', '不規則に細かく切りきざまれ、きざきざ', '刃物で力をこめて大きく深く、ざくっ', '刃物で力をこめて大きく深く、ざくり', '刃物で力をこめて大きく深く、ざっくり', '鋭い刃物で完全に切り落とし、すっぱり', '鋭い刃物で完全に切り落とし、すぱっ', '鋭い刃物で完全に切り落とし、すぱり', '何度も切られて破れそうで、ずたずた', '鋭い刃物で力強く切りこんで、ずかり', '鋭利な刃物でよく切れて、すかすか', 'はさみで厚布などを切り進め、じょきじょき', '刃物で一気に切りこんで、ずばり', '刃物で容赦なく切りこんで、ずばずば', '突然途中で切れて、ぽつり', '急激に完全に切れて、ぶつり', '急激に完全に切れて、ぶつん', 'ものごとが切れ切れになって、ぷつぷつ', 'ものを細かく切って、ぶつぶつ', '鋭くものが断ち切られて、ぷっつん', '急に完全に断ち切られて、ぶちっ', '刀などで勢いよく切って、ぱっさり', '刀で相手を次々と倒して、ばっさばっさ', 'はさみで完全に切り落として、ちょきん', 'はさみで完全に切り落として、ちょっきり', '刃物などで大きく切り落とし、ばさり', '刃物などで大きく切り落とし、ばっさり', 'もろく裂け破れたり砕けて、めりめり', 'もろく裂け破れたり砕けて、めりっ', '薄手のものを何度も破って、ぺりぺり', '厚手のものを何度も破って、べりべり', '一気に破ったり剥がして、べりっ', '勢いよく裂いたり剥いで、びびっ', '勢いよく裂いたり剥いで、びっ', '勢いよく裂いたり剥いで、ぴっ', '強く引き裂いたり引き剥がし、ぱりぱり', '薄いものが割れたり破れて、ぱりっ', 'かたいものが割れたり破れて、ばりっ', '何度も切り裂いて、ずたずた', '針などで繰り返し刺されて、ちくりちくり', '針などで繰り返し刺されて、ちくちく', '刃物で根元まで深く刺して、ずぶっ', '刃物で根元まで深く刺して、ずぶり', 'やわらかいものを刺し貫いて、ずぶずぶ', '急所や核心を鋭く突いて、ずばりずばり', '刃物で一度に深く刺して、ぐさっ', '刃物で一度に深く刺して、ぐさり', '刃物で何度も深く刺して、ぐさぐさ ', '粘りけのあるものが一面に、べっとり', '張りついたり離れたりして、ぺったんぺったん', '押しつけるように貼って、ぺたり', 'かたまりになって張りついて、べたり', '平らに全面的に張りついて、ぺたっ', '平らに全面的に張りついて、ぺたん', '一部分が突然曲がって、ぐにゃり', '一部分が突然曲がって、ぐにゃ', '角ばって何度も曲がって、ぎくぎく', '急に強く折れ曲がって、がっくり', '繰り返し軽く折れ曲がって、かくんかくん', '高く低く左右に曲がりながら、うねうね', 'とがったもので突き刺して、ぶつり', 'とがったもので突き刺して、ぷつり', '鋭いものでたくさん穴をあけ、ぷつぷつ', '鋭いもので何度も穴をあけて、ぶつぶつ', '刃物を勢いよく突き刺して、ぶっつり', '刃物などで続けざまに刺して、ぶすりぶすり', '何度も突き刺して、ぶすぶす', 'やわらかいものを突き刺して、ぶすり', 'やわらかいものを突き刺して、ぷすり', 'やわらかいものを突き刺して、ぶすっ', 'やわらかいものを突き刺して、ぷすっ', 'やわらかくふくれくずれそうで、ぶくっ', '破裂しそうにふくれ上がって、ぱんぱかぱん', 'たわみしなって、しなっ', 'ふくらんで厚みがあり、もこもこ', '腹がいっぱいにふくれて、ぽんぽん', '腹がいっぱいにふくれて、ぼんぽこ', '見苦しいほど厚み重みがあり、ぼてっ', '形を失うほど長く煮こんで、くたくた', '粘りけのあるものをかんで、くちゃくちゃ', 'しきりに粘りついて、ねとねと', '気味悪く粘りついて、ねちゃっ', 'しつこぐ不快に粘りついて、ねちねち', '重みやよどみが感じられて、もったり', '細かいものが入り乱れて、こちゃこちゃ', '形がくずれ全体が入り混じり、ぐちゃぐちゃ', '強く力を入れて何度もこすり、ごしごし', 'かたいものが折れたりこすれ、こきっ', 'かたいものが折れたりこすれ、ごきっ', '力を込めてしぼったり巻いて、ぎりっ', '力を込めてしぼったり巻いて、ぎりり', 'ものがかん高くきしんで、きりきり', '強くきしんだりこすれて、ぎゅっぎゅっ', 'きしんだり押しつけられ、きゅーきゅー', 'きしんだり押しつけられ、ぎゅーぎゅー', 'かたいものが何度もこすれて、ぎしりぎしり', 'かたいものが一瞬こすれ合い、きしっ', 'かたいものが一瞬こすれ合い、ぎしっ', 'ものが繰り返しきしんで、ぎーこぎーこ', 'かたいものがこすれ合って、きー', 'かたいものがこすれ合って、きーっ', 'かたいものがこすれ合って、きーきー', '重いものがきしんで、ぎーぎー', '重いものがきしんで、ぎー', '重いものがきしんで、ぎーっ', 'すぱやくこすったり削って、しゃっしゃっ', '重いものがこすれ合って、ざらり', '小判などがこすれ合って、ざくざく', 'かたいものが当たってこすれ、ごりごり', 'かたいもので強く打って、がん', 'かたいもので強く打って、がーん', 'ものが壊れたりきしんで、めきめき', '骨組みがきしんだり壊れて、みりみり', '木組や骨組が続けてきしんで、みしりみしり', '木組や骨組が続けてきしんで、みしみし', '柱や板などが一瞬きしんで、みし', '柱や板などが一瞬きしんで、みしり', 'こわばったものがふれ合って、ばりばり', '平たいものを強くたたきつけ、ぱしん', 'かたいものを打ちつけて、ばしり', '平手などで何度も強くたたき、 ぱちぱち', '平手などで何度も強くたたき、ばしばし', '平手などで強くたたいて、ばちっ', '平手などで強くたたいて、ばちん', '平手などで強くたたいて、ばしっ', '平手などで強くたたいて、ばしん', 'こぶしで容赦なくなぐり、ぽかぽか', 'こぶしで容赦なくなぐり、ばかすか', 'こぶしで容赦なくなぐり、ぼかすか', '平たいものを強く打って、びしゃり', '続けてはげしく打ち合わせ、ばたばた', '重いものが騒がしくぶつかり、がたり', 'かたいものが軽くぶつかって、かたり', 'かたいものがぶつかって、かたっ', 'かたいものがぶつかって、がたっ', 'ドアなどが何度もぶつかって、がたがた', '窓などが何度もぶつかって、かたかた', 'かたいもの同士がぶつかって、がしゃん', 'かたいものが軽くぶつかって、かしゃん', 'かたいものが強くぶつかり、がしゃり', '硬質で小さいものがぶつかり、かしゃり', '勢いよくぶつかって、がしっ', '強くぶつけたり削れて、ががっ', '中空なものをはげしくたたき、ぼこぼこ', 'かたいものを強く打って、ぼかん', '重みのあるものがはげしく、がっ', '重くかたいものが続けて強く、がちんがちん', 'かたいものがぶつかり合って、かちり', 'かたいものがぶつかり合って、がちり', '鍵がはまったりはずれたり、かちゃん', '鍵束などが何度もぶつかって、かちゃかちゃ', '歯などが何度もぶつかり合い、がちがち', '重いものがぶつかり合って、がたんごとん', 'かたいものがぶつかり合って、かたんことん', '重いものが続けてぶつかって、がたんがたん', 'かたいものが続けてぶつかり、かたんかたん', '重いものが落ちたりぶつかり、がたん', 'かたいものが落ちたりぶつかり、かたん', 'かたいものが一度ぶつかって、こちっ', 'かたいものが一度ぶつかって、ごちっ', 'かたいもの同士がぶつかって、こーん', '重いものが何度もぶつかって、がんがん', '金属や石などがぶつかって、かんかん', 'かたいものが何度もぶつかり、かんから', 'かたいものがぶつかり続け、がらんがらん', 'かたいものが急激にぶつかり、がらり', '重いものがくずれたり移動し、がらがら', '重くてかたいもの同士が強く、がつん', '中空のものがかたいものと、かっぽん', '小さいものなどが強くあたり、かつっ', 'かたいものを強く打ち合わせ、かったんこっとん', '重くてかたいものが連続して、がったんがったん', '重くてかたいものがぶつかり、がったん', 'かたいものがぶつかって、かったん', '規則正しく軽くぶつかり合い、かっしゃんかっしゃん', '続けて強く打ち当たって、がっがっ', '重みのある金属が連続して、じゃらんじゃらん', 'かたいもので強くたたき続け、ごんごん', 'かたいもので何度もたたいて、こんこん', 'かたいもの同士がぶつかって、ごん', 'かたいものが打ち当たって、こん', '大きいものがぶつかって、ごとり', 'かたいものが一瞬打ち当たり、ことっ', 'かたいものが一瞬打ち当たり、ごとっ', 'かたく重いものがぶつかり続け、ごとりごとり', 'かたく重いものがぶつかり続け、ごとごと', '重いものが強くぶつかり、ごつん', '重いものが強くぶつかり、ごとん', '小さくかたいものがぶつかり、こつん', '小さくかたいものがぶつかり、ことん', 'かたいもの同士がぶつかつて、こつり', 'かたいもの同士がぶつかつて、ごつり', 'かたく重いものがぶつかって、ごとんごとん', 'かたく重いものがぶつかって、ごっとんごっとん', 'かたいものが規則的にぶつかり、ことんことん', 'かたいものが規則的にぶつかり、こっとんこっとん', '重くかたいものがぶつかって、ごつっ', '小さくかたいものがぶつかり、こつっ', '靴が床に何度も当たって、こつこつ', 'かたく重いもの同士が、ごちん', 'かたいものが軽くぶつかって、こちり', 'かたいものが軽くぶつかって、こちん', '重いものが強くぶつかって、どん', '重いものが間をおいてぶつかり、どたりばたり', '大きく重いものが突き当たり、どすん', '勢いよく倒れたりぶつかり、どしんばたん', '重いものがぶつかって、どしり', '重いものがぶつかって、どすっ', '大きくて重いものがぶつかり、どかん', '大きくて重いものがぶつかり、どしん', '重いものが強くぶつかって、どーん', '大きな重いものが強く当たり、どー', '金属製のものがぶつかって、ちんからり', '重いものがぶつかって、だっ', '石や弾丸が続けて発射され、ばりばり', '時間や金銭が限界に達して、がちがち', 'かたいものを削ったり砕いて、がりがり', 'かたいものを削ったり砕いて、かりかり', '凍ったり干からびてかたくて、がっちんがっちん', 'ものが非常に強く固まって、かちんこ', 'かたいものがさらに硬化し、がちんがちん', 'かたいものがさらに硬化し、がちがち', '食品や体などがこわばって、かちんかちん', '食品や体などがこわばって、かちかち', 'かたくて張りがあって、ぱりん', 'かたくこわばって、ばきばき', 'こわばって固まり、ぎりぎり', 'すきまなく詰まって固められ、きちきち', 'すきまなく詰まって固められ、ぎちぎち', '持続的にたくさんもうかって、がっぼがっぼ', '重量のあるものが多くて、どー', '時間などが少しだけ必要で、ちょっくら', '毛が多く重なり合って生えて、むくむく', 'ものごとが締まりなく長びき、だらだら', '動作が非常ににぶくて、ぐずらぐずら', 'むだに時間を浪費して、のんべんぐらり']\n",
            "Cluster  6\n",
            "['すきま風などが吹きこんで、すーすー', '少し強い風が音を立てて吹き、ひゅー', '少し強い風が音を立てて吹き、ぴゅー', '強風が音を立てて吹き過ぎ、びゅー', '強風が木や電線にあたって、ひゅーひゅー', '台風などの強風が吹き続けて、びゅーびゅー', '木枯しなどの強風が吹き続け、ぴゅーぴゅー', 'ものが風を切って飛んで、ひゅっ', 'ものが風を切って飛んで、びゅっ', 'ものが風を切って飛んで、ぴゅっ', '連続的に強風が吹いて、びゅんびゅん', '連続的に強風が吹いて、ぴゅんぴゅん', '風が吹いて、ふー', '風などがはげしく吹き出して、ぶぉーっ', '熱気などが一面に広がって、むわっ', '息や湯気があたたかくかかり、ぽっかり', '湯気などが一面に広がって、もわもわ', '水や酒を音をたてて注いで、どぶどぶ', '口の小さな入れ物から注いで、とくとく', '汗・血・油などが玉となって、だらだら', '湯や液体にじゅうぶんつかり、とっぷり', '湯や液体にじゅうぶんつかり、どっぷり', '液体がしみこんだりしみでて、じわっ', '水分を多く含んで、じたじた', '水が音をたててゆれ動いて、たぽたぽ', '水が空気と入りまじって、ごぽごぽ', '泡が重い音をたてて、ごぼごぼ', '火事などが燃えさかって、ぼーぼー', '炎が一瞬大きく燃え上がって、ぼーっ', '炎が一瞬大きく燃え上がって、ぼっ', '炎をあげてよく燃えて、べらべら', '煙だけ出してくすぶって、ぷすぷす', '乾燥した状態で燃えさかって、ぱりぱり', '火が強くはぜて燃えて、ぱちぱち', '小さい炎でゆれながら燃えて、ちろちろ', '小さい炎で持続的に燃えて、ちょろちょろ', 'ストーブの火が勢いよく燃え、がんがん', '炭火が盛んにおこって、かんかん', '太陽や火が持続的に熱く燃え、かっか', '大きな泡が浮かび上がって、ぽこぽこ', 'こまかい泡が次々と生まれて、ぷくぷく', '吹々と泡立って、ぶくぶく', '見る間に燃え広がって、わらわら', 'ときどき大きな炎で燃えて、ぽっぽっ', '爆発的に火が燃え上がって、ぽーん', 'ウマがひづめの音をたてて、かっぽかっぽ', 'ガラスなどが爆音に共鳴して、びりびり', '続けざまに大蛍で体をふるわせ、ぶるんぶるん', '食べ物を勢いよく食べ続けて、がばがば', '大口をあけて一口に食べて、あんぐり', '麺などを音高く品なくすすり、ずるずる', '水けの多い食べ物をすすって、じゅるっ', 'セロリなど繊維のあるものを、しゃきしゃき', '汁物を音を立てて食べて、ざぶざぶ', '汁物を音を立てて食べて、さぶさぶ', 'あごをよく動かして食べて、もごもご', 'のどを鳴らして酒をあおって、ぐびっ', 'のどを鳴らして酒をあおって、ぐびり', '酒に酔って正体をなくして、ぐでんぐでん', '酒などをあおるように続けて、くいくい', 'ビールなどを大量に飲み続け、がばがば', '酒をじゅうぶんに飲んで、とっちり', '麺や汁などを音高くすすって、ずるずる', '汁などを音を立てて吸いこみ、ずーっ', '汁などを音を立てて吸いこみ、すすっ', '汁などを音を立てて吸いこみ、ずずっ', '汁けのものを音高く吸って、ずーずー', 'つぱや汁けのものを飲みこみ、じゅるっ', '飲食物を吐いて、げー', '飲食物を吐いて、げっ', '酒や薬などで舌がもつれて、れろれろ', '酔いが回り気もそぞろになり、ぽわん', '舌の音をたてて飲承食いして、ぺちゃぺちゃ', '自慢や作り話を言ってのけて、ぬけぬけ', 'せきこんだりせき払いして、えへん', '酒や薬などで舌がもつれて、れろれろ', '宴席などで遊び騒いで、ちゃんちゃか', '楽器などを鳴らして騒いで、じゃんじゃが', 'のどにつかえた重いせ費を一回、ごほん', '宴席で鳴物入りで遊び騒いで、どんちき', '宴席で鳴物入りで遊び騒いで、どんちゃか', '宴席で鳴物入りで遊び騒いで、どんちゃん', '混雑や事件などで取りこんで、どさくさ', 'おかしなことに吹き出して、ぷー', 'おかしなことに吹き出して、ぷっ', 'おかしなことに吹き出して、ふっ', '癪にさわって、こちん', '気分が浮き立ち鼻歌まじりで、るんるん', '美しいものなどに晄惚として、うっとり', '針や虫に一瞬刺されたように、ちくっ', '針や虫に一瞬刺されたように、ちくり', '針や虫に一瞬刺されたように、ちくん', '目が光線などに刺激されて、ちかちか', '自分だけうまいことをやって、ぬくぬく', '腹などに脂肪や肉がついて、でっぷり', 'しこりが内部でゆれ動いて、ぐりぐり', '弾力を伴ってゆれて、ぽよぽよ', '振動したりゆれ動いて、ぶるん', '食べ物などを鋭利な刃物で、さっくり', '食べ物などを鋭利な刃物で、さくっ', '食べ物などを鋭利な刃物で、さくり', 'はさみで紙や植木などを、ちょきちょき', '綱・縄や音信などが突然切れ、ぷつっ', '蕎麦などが切れやすくて、ぶちぶち', '糸や紐などが切れて、ぷすり', '針などで一度だけ刺されて、ちくん', '針などで一度だけ刺されて、ちくっ', '針などで一度だけ刺されて、ちくり', '印判を押したりものを貼って、ぴたんぴたん', '印判を押したりものを貼って、ぴたん', '子どもの頬などがふくらんで、ふっくり', 'ふくれて丸ゑを帯びて、ぷくん', 'お餅がふくれて、ぷー', '直線がZ字形に曲がって、ジグザグ', '毛や草が生えて盛り上がり、もっさり', '強い火力で煮込んで、ぐつぐつ', '強い火力で煮込んで、ぐたぐた', 'ものが焼けたり火花が散って、ばちばち', '毛などが焼けて、ちりちり', 'ものが焼けたりとけたりして、じわり', '肉や魚の脂身が焼けてはねて、じりじり', '脂肪分が焼けて溶け出して、じゅっ', '脂肪分が焼けて溶け出して、じゅー', '熱いフライパンに材料を入れ、じゃっ', '肉など油分の多いものを焼き、じゅーじゅー', '肉など油分の多いものを焼き、じぶじぶ', '油やものが焼けこげて、じじ', '油やものが焼けこげて、じーじー', '炎がゆれ動いて、ぴらぴら', '炎がゆれ動いて、ひらひら', '粘りけのある水分をすすって、じゅるじゅる', '油が気持ちわるく粘りついて、ぎとっ', '油ぎってひどく粘りついて、ぎたぎた', '煙草の煙などが上がって、ぽかりぽかり', 'ものが浮いたり漂って、ふかふか', 'やかんなどの湯が沸騰して、ちんちん', 'やかんなどの湯が沸きたって、しゅんしゅん', '鍋の中のものがよく煮えて、ごとごと', '粘液状のものが張りついて、べたっ', '納豆などが粘って糸を引いて、ねばねば', '汗や油などがまとわりついて、ねっとり', '水けを含んで粘りついて、ねちゃねちゃ', '表面が粘液でおおわれて、ぬんめり', '粘液状でつかみどころがなく、ぬるっ', '表面に粘りけや油けがあって、ぬらっ', '油や粘液などで表面が粘って、ぬるぬる', '油や粘液などで表面が粘って、ぬらぬら', '油や粘液などで表面が粘って、ぬめぬめ', '粘りけのある濁った液状で、どろどろ', '液体に粘りや濁りがあって、どろっ', '水分や粘りけがあって、ずるずる', '弾力やぬめりが感じられて、むにゅむにゅ', '汗や油などが粘りついて、べとべと', '粘りつくようで/湿って、べとっ', '水けを含んで広く粘りつき、べったり', '水けを含んで広く粘りつき、べっちゃり', 'ものが軽く粘りついて、ぺたぺた', '線状のものがのびて、しゅるしゅる', '線状のものがのびて、ひゅるひゅる', '水分が熱せられて蒸発し、じくじく', '複数のものが雑然として、ぐじゃぐじゃ', '古い家具や建具がきしんで、がたぴし', '金属や氷などがこすれ合って、かしゃかしゃ', '湯気がたちこめて、もわっ', 'かわいたものが騒がしくこすれ、ごそり', 'ものが動くときにきしんで、ぎっこんぎっこん', '規則的にものがきしんで、ぎーとんぎーとん', '絹ものなどがすれ合って、しゅー', '鈴や細い鎖がふれ合って、しゃりんしゃりん', '小銭や鍵がたくさんふれ合い、じゃらじゃら', '金や小石を無造作につかんで、ざっくり', 'ドラム缶などを何度も打って、がんがん', 'ブリキ缶などをたたいて、がんがらがん', 'バットでポールを打って、かん', '金属やかたいものがふれ合い、ちゃらんちゃらん', '金属やかたいものがふれ合い、ちゃらちゃら ', '木をのこぎりでひいて、ずいこん', '金槌などをたたいて、とんてんかん', '刀と刀などを打ち合わせて、ちゃんちゃん', '金属をたたいて、じゃん', '餅など粘るものをついて、ぺったんぺったん', '柏手を打って、ぱんぱん', '写真のシャッターなどが、かしゃっ', 'ものをたたいたり投げつけ、ぽこり', '靴やウマのひづめが当たって、かっかっ', '鍵がはまったりはずれたり、がちゃん', '陶器などが一度ぶつかって、がちゃっ', '陶器などが何度もぶつかって、がちゃがちゃ', '時計や拍子木などが規則的に、かちかち', '金属が強くふれ合って、じゃらん', '太鼓の縁をたたいて、かかか', '横笛がはやしたてるように、おひゃりこひゃり', '弾力のあるものが当たって、ぼいん', '金属やかたいものがふれ合い、ちんちん', '金属などがぶつかって、ちん', '鐘や陶器などがぶつかって、ちゃん', 'エレキギターが速いリズムで、てけてけ', '三味線や口三味線の音が、ちんとんしゃん', '鉦と太鼓の音がいりまじって、ちんどん', '琵琶や三味線の弦をはじいて、ちんちん', '鉦や鈴の音が、ちりんちりん', '三味線の音が、てんつるてん', '三味線の音が、ちりとてちん', '鉦・鼓三味線などを合奏し、ちゃんぽん', '三味線を続けて弾いて、ちゃんちゃん', '規則正しく鉦をたたいて、ちゃんちき', '鉦や笛・鼓などがにぎやかに、ちゃかぽこ', '小鼓をたたいて、すぽぽん', '小鼓をたたいて、すっぼすっぼ', '太鼓をたたいて、すってんてれつく', '吹奏楽などの楽隊が、じんたった', '鈴や三味線を鳴らして、しゃん', '楽器やレコードが大きな音で、じゃかじゃか', 'マラカスやタン零ハリンが、しゃかしゃか', '琴を弾いて、ころりん', '琴を弾いて、ころりんしゃん', '琴やピアノの音色が軽やかに、ころん', '琴やピアノの音色が軽やかに、ころんころん', '弦楽器を一度かき鳴らして、ざらりん', '弦楽器を一度かき鳴らして、じゃらん', '下手な三味線の音が、ぺこぺこ', '下手な三味線の音が、べこべこ', 'らっぱや笛に太鼓が加わり、ぶかぶかどんどん', 'らっぱや笛を盛んに吹いて、ぷかぷか', '笛などを吹き鳴らして、ぴりぴり', '笛・口笛・指笛などを鳴らし、ぴゅーぴゅー', '笛・口笛・指笛などを鳴らし、ひゅーひゅー', '笛・口笛・指笛などを鳴らし、ひゅー', '笛・口笛・指笛などを鳴らし、ぴゅー', '笛の音が短く強く、ひっ', '笛の音が短く強く、びっ', '笛やチャルメラの音が、ぴーひゃら', '笛の音が鳴りひびいて、ぴー', '笛の音が鳴りひびいて、ぴーぴー', '笛の音が鳴りひびいて、ぱっぱらぱー', '祭の太鼓がどんどん、どんどんかかか', 'うちわ太鼓をたたく音が、どんつく', '太鼓と鉦を同時に打ち鳴らし、どんちゃん', '軽快に太鼓を打ち鳴らして、ととんとんとん', '太鼓の音がリズミカルに、どどんがどん', '太鼓や三味線などの音が、てれつくてん', '太鼓をたたいて、てんてんてれつく', '太鼓をたたいて、てんてこ', '太鼓をたたいて、てんつく', '三味線・銅鍵・太鼓が重く、ででん', '三味線・銅鍵・太鼓が重く、でんでん', '矢などが強く風を切って、ぴゅんぴゅん', '矢などが強く風を切って、びゅんびゅん', '拳銃を発砲して、ばきゅん', 'ピストルで撃ち合って、どんぱち', '大砲や鉄砲などを発射して、どーん', '大砲や鉄砲などを発射して、どかん', '刀で斬り合いをして、ちゃんちゃんばらばら', '刀で斬り合いをして、ちゃんちゃん', '重機関銃などを撃って、だだだだ', '軽機関銃などを撃って、たたたた', '銃などを撃ったり爆発して、だーん', '銃や大砲などを発射して、ずどん', '鐘や三味線のこもった音が、ぼんぼん', 'タヌキが腹鼓を打って、ぽんぽこぼん', '鼓などを調子よく打って、ぽんぽこ', 'ピアノや弦楽器を弾いて、ぼろん', 'ピアノや弦楽器を弾いて、ぽろん', '三味線や太鼓の音がひびいて、べんべん', '三味線を弾いて、ぺんぺん', '琵琶や三味線の音が、べべんべんべん', '金などを出し借し拳して、けちけち', '仕送りなどを几帳面に続けて、きちんきちん', '多額の金を次々にもうけて、がぼがぼ', '金が一度にたくさん入って、がぼっ', '金が一度にたくさん入って、がっぽり', '金が一度にたくさん入って、がっぽがっぽ', '刀・槍・矢などが風を切って、りゅーりゅー', '鉄砲を撃ち続けて、ぼんぼん', '矢が音をたてて飛び命中して、ひょーふっ', '水分を多く含んで/かゆ状で、ぐじゅぐじゅ', '惜しげなく金品を差し出して、ぽーん', '惜しげなく金品を差し出して、ぽん', '金などを惜しげもなく使って、ぱっぱか', '金などを惜しげもなく使って、ぱっぱ', '収支が五分五分で、とんとん', '狸硬貨などがふれ合いぶつかり、ちゃりんちゃりん', '狸硬貨などがふれ合いぶつかり、ちゃりん', '金などを惜しみなく消費して、じゃかすか', '金・米などを無造作につかみ、ざっくり', '空気を含んでやわらかく、ぱふぱふ', '強火でよく煮こんで、ぐたぐた', '餅などがやわらかくふくらみ、ぷっくり', '食品や体などがこわばって、かちんこちん', '生き物がたくさん群れ動いて、うじょうじょ', '生き物がたくさん群れ動いて、うじゃうじゃ', '繊維質の食品を歯切れよく、しゃきしゃき', '食品に弾力や歯ごたえがあり、こりっ', '小さな虫などが群がり集まり、ぞよぞよ', '財宝などが大量に現れて、ざくざく', '毛が房のように豊富にあって、ふっさり', '液体が多量に流れ出て、どくどく', '木の枝にたくさん実がなって、たわわ']\n",
            "Cluster  7\n",
            "['日が射したり光がともって、ぽっ', '水や日ざしが満ち満ちて、なんなん', 'すっかり日が暮れて、とっぷり', '日光の照り輝いて、てかてか', '雲ひとつなく晴れ上がって、すかっ', '太陽が焼けつくように照り、じりじり', '曇っていた空が明るく晴れて、けろり', '真夏の太陽が強く照りつけて、ぎらぎら', '夏の強い日ざしが照りつけて、かんかん', '湿度が低く気持ちよく晴れて、からっ', '湿度が低く気持ちよく晴れて、からり', '日光が熱く照りつけて、かっ', '日光が熱く照りつけて、かっか', '日ざしがおだやかで、おっとり', '春の日ざしがのどかで、うらうら', 'あたたかな雰囲気で心地よく、ほんわか', '湯気が立つほどできたてで、ほやほや', '心の中があたたかく感じられ、ほのぼの', '息や湯気があたたかくかかり、ほっかり', 'あたたかくて気持ちがよく、ほこっ', 'あたたかくて気持ちがよく、ほこほこ', '日ざしがあってあたたかく、ぽかりぽかり', '心地よく感じるあたたかさで、ぽかぽか', '体や食べ物などがあたたかく、ほかほか', 'あたたかい所で心地よく、ぬくぬく', 'あたたかい所で心地よく、ぬっくり', '春の日ざしがあたたかく、うらら', '汗などが大量に、だくだく', '汗などが表面について粘り、べとべと', '汗などが表面に濃くにじみ、べっとり', '気持ちわるく汗ばんで、じっとり', '気持ちわるく絶えず水分が、じくじく', '山が丸皐をおびて盛り上がり、こんもり', '気軽にそのあたりを出歩いて、ひょこひょこ', '身軽に立ち上がって、ひょい', 'まっすぐに毅然として立って、ぬっく', 'まっすぐにしっかり立って、しゃん', '直立して、しゃっきり', '恥じらいもなく平気で現れて、のこのこ', 'だらしなく時を過ごして、のんべんだらり', '周囲を気にせず楽にして、のーのー', '愛らしく目を丸く見開いて、きょろっ', '目つきや態度をきつくして、きっ', '感慨にふけりながら見つめて、つくづく', '強い光が目を刺激して、ちかちか', '眼光鋭く/強い欲望を隠さず、ぎらぎら', '目をそらさずじっと見つめて、まじまじ', '対象が明瞭に見えて、はっきり', '心地よい歯ごたえで、しこっ', '歯ごたえを楽しんでかみしめ、しこしこ', '旺盛な食欲で次々と食べて、もりもり', '勢いよくひと口食べて、むしゃり', '勢いこんで食べて、むしゃむしゃ', 'きれいに食べ尽くして、ぺろり', 'きれいに食べ尽くして、べろり', '味わいながらおいしそうに、こくこく', '勢いよくまたたく間に食べて、わしわし', 'ほどよく酒に酔って心地よく、ほろっ', 'ほどよく酒に酔って心地よく、ほろり', '強い口調で決めつけるように、ぴしゃり', '返事やことばが活発で明るく、はきはき', '外国語を流暢に操って、べらべら', '外国語を流暢に操って、ぺらぺら', '喜びや恐怖で奇声を発して、ぎゃーぎゃー', '喜びや恐怖で奇声を発して、きゃーきゃー', '口をあけて無遠慮に笑って、あはあは', '快活に大声で笑って、あっはっは', '快活に大声で笑って、あはは', '快活に大声で笑って、わはは', '鼻先で軽く笑って、くすん', '続けざまにしのび笑いして、くすりくすり', 'おさえたように笑って、くくっ', '笑いをこらえながらも思わず、くーっ', '笑いをこらえながらも思わず、くっ', 'のど元から笑いがこみあげて、きゅっきゅっ', '好都合なことに接して下品に、ぎゃはは', 'けたたましい声で笑って、きゃー', '豪快に屈託なく笑って、からから', '豪快に屈託なく笑って、かんらかんら', '大声で余裕をみせつつ豪快に、がはは', '企桑をもって野卑に笑って、うひひ', '大儲けなどして大声で下品に、うはうは', 'うまくやったとほくそえんで、うっしっし', '口を横に引いて陰険に笑って、いひひ', '望むとおりになって満足げに、にんまり', '喜びを隠しきれず思わず、にやっ', '心底うれしげに笑って、にっこにこ', '声をたてず愛矯を漂わせて、にっ', 'いやみな笑いを繰り返して、にたりにたり', '喜びを隠しきれずに下品に、にたにた', '喜びを隠しきれずに下品に、にたっ', 'うれしそうに明るく笑って、にこにこ', 'うれしそうな顔でほほえんで、にこっ', 'うれしそうな顔でほほえんで、にっこり', 'うれしそうな顔でほほえんで、にこり', '歯を見せてほほえんで、にかっ', '高い声で明るく笑いころげて、ころころ', '下品に締まりなく笑って、げらげら', '高い声で無邪気に笑って、けらけら', '高い声で無邪気に笑って、けろけろ', 'からかったり満足して、けっけっ', '下品に表情をゆるめて笑って、げたっ', '大声で下品に高笑いして、げたげた', '高い声で軽薄そうに笑って、けたけた', '高い声で不気味に笑って、けけ', '突然大声で笑って、わーっ', '大きな声で息を切るように、ほっほっ', '多額の利益などを得て喜んで、ほくほく', 'だらしなく軽薄に笑って、へらへら', '卑屈に/照れて/得意になり、へへへ', '卑屈に/照れて/得意になり、へっへっ', '相手を見下して鼻先で笑って、ふふん', '喜びを隠せず含承笑いして、ふふ', '不敵な笑いを浮かべて、ふっふっ', '屈託なく笑って、はっはっ', '屈託なく笑って、ははは', '同情や感動で涙が一粒こぼれ、ほろっ', '同情や感動で涙が一粒こぼれ、ほろり', '大人などが情けなさそうに、おいおい', '怒りや不機嫌さをむき出して、むーっ', '気持ちがくじけて、くしゅん', '喜びや期待で心がときめいて、わくわく', '満足でうれしさを隠しきれず、ほくほく', '深く考えずに喜んで応じて、ほいほい', '豊かに富承栄え幸せそうに、ふくふく', '若い女性が快活にはしゃいで、きゃぴきゃぴ', 'うれしさに笑いがこぶあげて、うはうは', 'うまくことが運んでうれしく、うしうし', '期待に胸はずませ楽しそうに、うきうき', 'わるい結果を感じて瞬間的に、ひやっ', '喜びや期待で心がはずんで、うきうき', '期待・喜び・楽しさなどで、わくわく', '相手に同情して、ほろり', '相手の思いが強く心に伝わり、ぴんぴん', '直感的に強く感じて、ぴぴっ', '直感的に強く感じて、ぴん', 'はっきりと手ごたえを感じて、ぴーん', '心の底からそう思って、つくづく', '感動が静かに湧き上がって、じーん', '深く心にしみ入って、さめざめ', '何の打撃も感じないようすで、けろっ', '何の打撃も感じないようすで、けろり', '何の打撃も感じないようすで、けろけろ', '恥じらいもなく平然として、のめのめ', '恥じらいもなく平然として、おめおめ', 'ためらいや恥じらいもなく、あっけらかん', '元気よく手早くやって、ちゃきちゃき', '元気に立ち働いて、しゃんしゃん', '行動や考えがしっかりして、しゃん', '体や気持ちに張りがあって、しゃっきり', 'すばやく手ぎわよく処理して、しゃきしゃき', 'ことに動じることなく平気で、まじまじ', '露骨に自分の気持ちを表して、はっきり', '心身ともにくつろいで、のんびり', '気ままに/なんの心配もなく、のほほん', '心配やとらわれごともなく、のーのー', 'ふっくら肥えてかわいらしく、ぽっちゃり', 'ふっくら肥えてかわいらしく、ぼっちゃり', '肥え太っていても愛らしくて、ぼちゃぼちゃ', '体が肥満して、どたり', '肉や脂肪でぶつともなく太り、でぶでぶ', '背の低いわりに太って、ずんぐり', '元気・意欲などが次々にわき、もりもり', '元気で勢いがよくて、ぶいぶい', '元気で生き生きして、ぴんぴん', '元気に満ちあふれて、びんびん', '年齢の割に元気がよくて、ぴんしゃん', '若く健康で/魚のいきがよく、ぴちぴち', '新入生が期待と喜びで輝いて、ぴっかぴか', '新入生が期待と喜びで輝いて、ぴかぴか', '肉づきがよくなって、みっしり', '女性のプロポーションがよく、ぼんきゅっぼん', '筋肉が盛り上がって強そうで、もりもり', '体や骨組みなどが頑丈で、がしっ', '体や骨組みなどが頑丈で、がっしり', '体や骨組みなどが頑丈で、がっちり', '肌に張りがあり肉づきがよく、むちっ', '肌に張りがあり肉づきがよく、むちむち', '肌に張りがあり肉づきがよく、むっちり', 'ふっくらとして血色がよくて、ぽやぽや', 'ふくよかに肥えて愛らしく、ぽってり', '滞りなくなめらかに進行して、すらすら', '滞りなくなめらかに進行して、するする', '抵抗もなく気持ちよく進んで、すいすい', 'こだわりなく気軽に進んで、さっさっ', '周囲を気にせず突き進んで、がんがん', '調子よく気軽に進んで、ほいほい', '抵抗なくおだやかに進んで、すんなり', '完全に十妾こまなく密着して、ぴっちり', '完全に十妾こまなく密着して、ぴったり', '完全に十妾こまなく密着して、ぴたっ', '完全に十妾こまなく密着して、ぴたり', 'しっかりとくっついて、べたん', '豊かにやわらかくふくらんで、ふっくら', 'かわいらしいほどふくれて、ぷくぷく', 'やわらかそうにふくらんで、ふかふか', 'やわらかそうにふくらんで、ふくふく', '軽々しいほど光り輝いて、きんきら', '明るくまぶしく輝き続けて、きらら', 'すごみを帯びて強く光り輝き、ぎらっ', 'すごみを帯びて強く光り輝き、ぎらり', '明るくまぶしく光り輝いて、きらきら', '光り輝いて非常に明るく、かっか', '厚くやわらかくふくらんで、むくむく', '厚みとふくよかさがあって、ぽってり', 'ふくらんでやわらかくて、ふわふわ', 'ふくらんでやわらかくて、ふんわか', 'ふくらんでやわらかくて、ふんわり', 'まぶしいほど光り輝いて、ぴっかぴか', 'つやがあり嫌味なほど光って、びかびか', '表面がぬれてやわらかく光り、ぬめぬめ', 'つやを帯びてひかって、てろてろ', '表面につやがあり光って、てかてか', '表面につやがあり光って、てかっ', '光沢があって美しく、つやつや', '明るく光り輝いて、こうこう', '金色にはなやかに光り輝いて、きんぴかぴか', '金色に光り輝き/真新しくて、きんぴか', 'はでに強く光り輝いて、ぎんぎんぎらぎら', '金色に光り輝いて、きんきんきらきら', 'はでにどぎつく光り輝いて、ぎんぎらぎん', 'はでな装飾が光り輝いて、きんきらきん', '食べ物が適度においしく焼け、じゅわっ', '食べ物が適度においしく焼け、じゅわじゅわ', '適度なこげめでこうばしく、こんがり', 'かわいらしく光って、ぴっかりこ', '気持ちわるく油ぎって、ぎとぎと', '粘るようにぴったりくっつき、ねとっ', 'なめらかでよくすべって、ぬめっ', 'なめらかでよくすべって、ぬめり', 'やわらかく粘りけがあって、とろっ', '適度に乾燥して快くて、さらっ', '適度に乾燥して快くて、さらり', '気持ちよくかわいていて、さばさば', '表面が乾燥して快くて、さっぱり', '食べ物がこのましく乾いて、かりっ', '湿気がなく気持ちよくかわき、からっ', '湿気がなく気持ちよくかわき、からり', '健康に順調にのびて、すくすく', 'ものがふれ合ってかすかに、こそっ', 'ものがふれ合ってかすかに、こそり', 'ものがなめらかにこすれて、するする', 'ものがなめらかにこすれて、すっすっ', '拍手して、ぱちぱち', 'ものが何かに当たり調子よく、すっとんとん', '時間や勘定などが正確で、きちっ', '時間や勘定などが正確で、きちん', '時間や数量などが正確で、きっかり', '時間や数量などが正確で、きっかし', '時間や数量などが正確で、かっきり', 'かろうじて基準や目標に達し、かすかす', '景気や羽振りがよく、ばりばり', '金などを満足できるだけ得て、たんまり', 'やわらかくふくらんで、ふかふか', 'やわらかくふくらんで、ふくふく', '肌ざわりがやわらかく快くて、とろり', '固体がやわらかく液状に溶け、どろどろ', '固体がやわらかく液状に溶け、とろとろ', 'やわらかく粘りけがあって、とろっ', 'やわらかいが歯ごたえがあり、しんねり', '姿や動きがやわらかくくれり、しねしね', '姿や動きがやわらかくくれり、しなしな', '弾力を保ちながらやわらかく、ぐにゃぐにゃ', '多量の空気を含みやわらかく、ふんわり', '多量の空気を含みやわらかく、ふわふわ', '押すと弾力がありやわらかく、ぷよぷよ', '水けを含んでやわらかく、ふやふや', 'やわらかく豊かにふくらんで、ふっくら', 'かわいくやわらかにふくらみ、ぷくぷく', '溶けるなどしてやわらかくて、ゆるゆる', 'やわらかくあたたかい感じで、もくもく', '厚くやわらかくふくらんで、むくむく', 'ものの性質がやわらかくて、まろまろ', 'やわらかくあたたかくて、ほんわり', 'やわらかくあたたかくて、ほわっ', '肌にやわらかく感じて、ほやほや', 'やわらかで弾力があり、ぼくぼく', '弾力性があり弾んでゆれて、ぷりんぷりん', '弾力性に富み中身が締まって、ぷりっ', '弾力性に富み中身が締まって、ぷりん', '力強くしっかりしていて、しゃっきり', '弾力がありかむと歯ごたえが、しこしこ', 'ものや程度がじゅうぶんで、しっかり', 'くどいくらいに濃厚で、こてこて', '毛が房のように豊富にあって、ふさふさ', '金などをじゅうぶんに得て、たんまり', 'すばやい動作で、たっ', 'すばやい動作で、たった', '動作がたやすくすみやかで、するり', '手際がよくて行動がすばやく、さっさっ', '迷いや気づかいなくすばやく、さっさ', '反応がよくて動作がすばやく、さっ', '障害物や攻撃を迅速にかわし、ひらっ', '障害物や攻撃を迅速にかわし、ひらり', '動作がにぶくはかどらずに、もたもた']\n",
            "Cluster  8\n",
            "['粉雪などがごく軽いようすで、はらはら', 'いまにも雨が降りそうで、どんより', '多量の雨がはげしく降って、どしゃどしゃ', '空から雪がまばらに散り落ち、ちらほら', '小雨が陰気に降り続いて、しょぼしょぼ', '雪や砂などを踏んで歩いて、しゃりしゃり', '雨が降り続いて湿って、じめじめ', '雨が降り続いて湿って、じとじと', '雨などがしめやかに降って、しとしと', '雨や風などが騒がしく、ざんざら', '雨や波が勢いよく打ちつけて、ざざっ', '夕立がはげしく一時に降って、ざーっ', '夕立がはげしく一時に降って、ざっ', '通り雨が軽く一時に降って、さーっ', '通り雨が軽く一時に降って、さっ', '大量の雨が続けて降って、ざーざー', '大粒の雨や雷などが急に降り、ばらばら', '少量の雨や馥などが急に降り、ぱらぱら', '水たまりになりつつ雨が降り、びしゃびしゃ', '水たまりになりつつ雨が降り、びちゃびちゃ', '梅雨の長雨が絶えまなく降り、びしょびしょ', '雨が一粒ずつまばらに落ちて、ぽつぽつ', '氷などがひび割れて、みりり', '風で木の葉がこすれ合って、さーさー', '風がはげしく木の葉をゆすり、ざーっ', '草木をそよがせながら吹いて、さわさわ', '風や空気が通りぬけて、すかすか', '風に布などがひるがえって、はたはた', '風に布などが強くあおられて、ばたばた', '草や木の葉をそよがせて、わさわさ', '水や空気などが肌に冷たくて、ひやっ', '水や空気などが肌に冷たくて、ひやり', 'すきま風が吹きうすら寒く、すーすー', '少量の水が細く勢いよく飛び、ちゅっ', '水が軽く砕けたり飛び散って、ぱしゃっ', '水が小さくはねて、ぱちゃっ', '水が大きくはねかかって、ばちゃっ', '涙がとめどなく流れて、はらはら', '瞬間的に重く水がはねて、ぼしゃっ', '少量の水がはねかかって、ぴちゃっ', '水滴などが一滴表面に落ちて、ぽたり', '水滴などが一滴表面に落ちて、ぼたん', '水滴などが一滴表面に落ちて、ぽとり', '水滴などが一滴表面に落ちて、ぽとん', '水滴などが一滴表面に落ちて、ぽつり', '水滴などが一滴表面に落ちて、ぽつん', '少量の水などが垂れ落ちて、ぽとぽと', '大きめの水滴などが重そうに、ぼとぼと', '少量の水などが次々に落ちて、ぽたぽた', '大きめの水滴などが連続して、ぼたぼた', '涙が次々にこぼれ落ちて、ぽろぽろ', 'とろみのある液体が流れて、とろとろ', '大量の水が流れ落ちて、どーどー', '小川の水などが細く流れて、ちょろちょろ', '汗・血などがつたい落ちて、たらたら', '多めの水や液体を注ぎかけて、だぼだぼ', '谷川の浅い清流などが流れて、せんせん', '水が少しばかり流れて、しょろしょろ', '蛇口の水などが流れ続けて、じゃーじゃー', '小川など浅い水が静かに、さらさら', '大量の水が一度に、ざーっ', '雨や大量の水に全身がぬれて、ずっぷり', '雨や水に気持ちわるくぬれて、ずくずく', '小雨や霧などにぬれて、しとしと', '春の雨などにやさしく包まれ、しっぽり', '服などが完全にぬれて、ぐちょぐちょ', '服などが完全にぬれて、ぐしょぐしょ', '汗や涙などが徐々にしみ出て、じんわり', '水分が少しずつにじんで、じわじわ', '湿気が中からしみ出して、じゅくじゅく', '湿気が感じられて、じみじみ', '湿気が軽く全体にいきわたり、しとっ', '湿気が軽く全体にいきわたり、しとり', '適度な水分がいきわたって、しっとり', '水がゆれ動いたり波立って、たぷんたぷん', '水に飛びこんだりかきわけて、ざぶっ', '水に飛びこんだりかきわけて、ざぶん', '大量の水をかきわけて、ざばっ', '波がはげしく打ち寄せて、ざざっ', '水が波立って、がぼがぼ', '水けを含んでやわらかくなり、べちゃべちゃ', '大量の水などで完全にぬれて、びっちょり', 'ちょうど浸るくらいの水で、ひたひた', '表面に水が溜まるほどで、びちゃびちゃ', '表面に水が溜まるほどで、びしゃびしゃ', '大量の水でひどくぬれて、びちょびちょ', '大量の水でひどくぬれて、びしょびしょ', '波などが岸に打ち当たって、ひたひた', '大洋の海面がうねって、のたりのたり', '水中に勢いよく沈んで、どんぶりこ', '重いものが水中に落ちて、どぼん', '土ぼこりが大きく舞い上がり、もー', '窪みや穴がたくさんあって、ぼこぼこ', '泥や塗料などを塗りつけて、べちょっ', '砂などを踏んで歩いて、そくそく', '沼や砂地などに沈みこんで、ずぶずぶ', '沼や砂地などに沈みこんで、ずぼずぼ', '小石などがこすれながら落ち、じゃりっ', '小石や砂などがこすれ合って、じゃりじゃり', '砂などをすくって、じゃくり', '乾いた砂がこぼれて、さらさら', 'やわらかい土や砂の上を歩き、さくりさくり', '砂を混ぜたり踏んだりして、さくっ', 'やわらかい土や砂の上を踏み、さくさく', '砂などが勢いよく動いて、ざーっ', '岩などが無造作に転がって、ごろごろ', '子どもが小またで小差ぎみに、とことこ', '気味のわるさに鳥肌が立って、ざわざわ', 'こ蛍ぎみに凍えるようにして、がじがじ', 'かたいものを粗くかみ砕いて、がりがり', '粒状のものが口中でざらつき、じょりじょり', 'かたいものをかみ砕いて、ぼりぼり', '汁ものや鼻水を一気にすすり、ずるっ', '入れ歯が外れて空気がもれて、ふがふが', '大粒の涙を流して、ぼろぼろ ', '同情や感動で涙が一粒こぼれ、ぽろり', '鼻水を大きくすすり上げて、ぐすりぐすり', '鼻水をすすったり涙ぐんで、ぐすっ', '鼻水をすすったり涙ぐんで、ぐすり', '涙をたくさん流して、ぐしょぐしょ', '涙が一滴ずつこぼれ落ちて、ぽろりぽろり', '涙が一滴ずつこぼれ落ちて、ほろりほろり', '涙がこぼれ続けて、ぽろぽろ', 'しおれてさびしそうにして、しょんぼり', '元気をなくしうなだれて、しょぼしょぼ', '傷や皮膚が焼けるように痛み、ちりちり', '何くわぬ顔をして、ぬっぺり', '腹がふくれて/妊娠して、ぼてれん', '紙や木の葉などが散って、はらっ', '広げた紙などが落ちて、ぱさっ', '広げた紙などが落ちて、ぱさり', '開いた本などが落ちて、ばさっ', '開いた本などが落ちて、ばさり', '大芦簸かたまりが一度に落ちて、どかっ', 'はずみをつけて落ちて、とーん', '雪や花などがゆれつつ落ちて、ちらちら', '何かが落ちて水がはねて、ちゃぽっ', '水に何かが落ちて、ちゃぽん', '大きいものが水の中に落ちて、だぼん', '液体が垂れ落ちて、たらたら', 'まつすぐに落ちて、すとん', '粒状のものが大量にこぼれて、ぼろぼろ', '涙や水滴などが流れ落ちて、ほろほろ', '涙などが一滴こぼれ落ちて、ほろっ', '涙などが一滴こぼれ落ちて、ほろり', 'ものや水滴が軽そうに落ちて、ぽとり', 'ものや水滴が軽そうに落ちて、ぽとん', 'ものや液体が重たげに落ちて、ぼとり', 'ものや液体が重たげに落ちて、ぼとん', '雨などのしずくが一粒落ちて、ぽつり', '小さいものが液体の中へ落ち、ぽちゃん', 'ものがつぶれたように落ちて、ぽちゃっ', '水滴などが高い所から落ちて、ぼたん', '水滴などが高い所から落ちて、ぽたん', '大粒の液体が次々と垂れ落ち、ぼたぼた', '大粒の液体が次々と垂れ落ち、ぼとぼと', '小さいしずくが続けて落ちて、ぽたぽた', '小さいしずくが続けて落ちて、ぽとぽと', '水や液体が一滴落ちて、ぽとっ', '水や液体が一滴落ちて、ぼたり', '水や液体が一滴落ちて、ぽたり', '水や液体が一滴落ちて、ぼたっ', '水や液体が一滴落ちて、ぽたっ', '雨や霞や葉などがまばらに、ぱらぱら', 'こまかくなって落ちて、ばらばら', '涙や花びらなどが次々と落ち、はらはら', '雨や葉などがまばらに落ちて、ばらっ', '涙や液体が間をおいて落ちて、ぽろりぽろり', '涙や花・葉などが続けて落ち、ほろりほろり', '涙やごはん粒がこぼれ落ちて、ぽろぽろ', 'ふくらんだものがゆれ動いて、たぷたぷ', '液体が容器の中でゆれ動いて、たぽたぽ', '枯れ枝などが次々に折れて、ぽちぽち', '薄いものがこききみにゆれて、ぺらぺら', '重たげに釣り下がってゆれて、ぶらん', '下がっているものがゆれ動き、ぶらぶら', '布や舌などがゆれ動いて、びろびろ', '入れ物の中の水がゆれて、とぷんとぷん', 'はげしくものが断ち切られて、ぶっつん', '紐や関係などが完全に切れて、ぷっつり', '糸・紐や継ぎ目などが切れて、ばらり', '布などが細かく破れて、ぼろぼろ', '薄手のものを勢いよく剥がし、ぺりっ', '紙や布などが続けて裂けて、びりびり', '紙や布などが続けて裂けて、ぴりぴり', '布や紙が勢いよく破れて、ぱりぱり', '矢や槍などが突き刺さって、ずばっ', '粘液状のものが一面について、ぺっとり', 'はち切れそうにふくらんで、ぱんぱん', '表面がぬれてにぶく光って、てらてら', '水分が高温に接し蒸発して、じゅっじゅっ', '空中や水面に浮かんで、ぽかり', 'なすすべなく水に浮くだけで、ぶかぶか', '水分がなくなって固まり、かりかり', '食べ物などの水分がなくなり、かすかす', '肌などの表面が乾燥して、かさかさ', '水分がなくなってくだけて、ぽろぽろ', '水分が少なく干からびて、ぽそっ', '食品の水分が不足してまずく、ばさばさ', '食品の水分が不足してまずく、ぼそぼそ', '衣類などにしわが寄って、くちゃくちゃ', '本来あった形がくずれて、ぐしゃぐしゃ', '紙くずや髪などが入り乱れて、くしゃくしゃ', '毛髪などが縮れてひきつれ、ちりちり', 'しわが寄って縮れて、しわくちゃ', '破れ乱れて、わらわら', '毛や草が不ぞろいに密生し、もじゃもじゃ', '毛や草が不ぞろいに密生し、もしゃもしゃ', '紙などが乱雑に毛羽立って、ぼさぼさ', 'まばらに散らばって、ぱらり', 'まばらに散らばって、ぱらぱら', '少しずつ散らばって、ばらっ', 'ひとつにならずに散らばって、ばらっ', '髪や書類などが乱れて、ばさばさ', '枯葉や紙などが軽くこすれて、かさかさ', '枯葉や紙などが軽くこすれて、かさこそ', '景色や記憶などがかすんで、ぼやっ', '髪・ひげなどを剃って、じょりじょり', '髪・ひげなどを剃って、ぞりぞり', '小石や砂などがこすれ合って、じゃりじゃり', '粒の細かいものがこすれ合い、しゃりしゃり', '布など薄いものがすれ合って、しゃらしゃら', '髪や砂がすべってこすれて、さらさら', 'かたい紙や布などがすれ合い、ごわごわ', 'ものがずれたりこすれて、ずっ', '髪・ひげを勢いよく剃って、じょりっ', '髪・ひげを勢いよく剃って、ぞりっ', 'ものが他のものに打ち当たり、ぼこつ', '硬貨などがぶつかり合って、ちゃりん', '矢が風を切って、ひー', '矢が弦を離れて飛んで、ぴょー', '水分を含んでひどくくずれて、ぐじょぐじょ', '水分を含んでひどくくずれて、ぐしょぐしょ', '水けを含んで/形がくずれて、ぐじゃぐじゃ', 'やわらかいものを踏象ぬいて、ずぼっ', '水けでやわらかくなって、ぐちゃぐちゃ', '灰や粉などに足を踏み入れて、ふかり', '凍ったり干からびたりして、かっちんかっちん', '水中のものがやわらかで、もろもろ', 'やわらかに草などがふくらみ、ぽやぽや', '織物などがかたくこわばって、ごりごり', '水分が抜けかたく固まって、こちんこちん', '水分が抜けかたく固まって、こちこち', '多くのものや人が流れ寄せて、じゃぶじゃぶ', '一度に大量のものが動いて、ごそり', '少量ずつあちこちに存在して、ちょぼちょぼ', 'あちこちで少しずつ行われて、ぼつりぼつり', 'あちこちで少しずつ行われて、ぼつぼつ', '汗や涙が徐々にしみ出して、じんわり', 'いかにも動蛍がにぶくて、のろっ', 'にぶい動きでゆっくり歩いて、のそりのそり']\n"
          ]
        }
      ],
      "source": [
        "from sklearn.cluster import KMeans\n",
        "\n",
        "num_clusters = 8\n",
        "clustering_model = KMeans(n_clusters=num_clusters)\n",
        "clustering_model.fit(onomatopea_vectors)\n",
        "cluster_assignment = clustering_model.labels_\n",
        "print(f'オノマトペ総数(cluster_assignment.shape):{cluster_assignment.shape}')\n",
        "print(f'onomatopea_vectors.shape:{onomatopea_vectors.shape}')\n",
        "\n",
        "\n",
        "clustered_sentences = [[] for i in range(num_clusters)]\n",
        "not_clustered = []\n",
        "for _id, cluster_id in enumerate(cluster_assignment):\n",
        "    if cluster_id >= num_clusters:\n",
        "        #辞書に存在しない単語を登録してスキップする\n",
        "        not_clustered.append((_id, cluster_id, onomatopea_sentences[_id]))\n",
        "        continue\n",
        "    clustered_sentences[cluster_id].append(onomatopea_sentences[_id])\n",
        "\n",
        "print(f'not_clustered:{not_clustered}')    \n",
        "for i, cluster in enumerate(clustered_sentences):\n",
        "    print(\"Cluster \", i+1)\n",
        "    print(cluster)\n",
        "    #print(\"\")"
      ]
    },
    {
      "cell_type": "code",
      "execution_count": 29,
      "id": "0117b78c-046a-4d9c-b1c0-5089b0bbca95",
      "metadata": {
        "id": "0117b78c-046a-4d9c-b1c0-5089b0bbca95"
      },
      "outputs": [],
      "source": [
        "#print(len(cluster_assignment))\n",
        "#type(cluster_assignment)\n",
        "#cluster_assignment.min()\n",
        "# for i in enumerate(cluster_assignment):\n",
        "#     print(i)\n",
        "# len(clustered_sentences[0])"
      ]
    },
    {
      "cell_type": "markdown",
      "id": "53600642-e420-49d3-890d-a8aaa65d5339",
      "metadata": {
        "id": "53600642-e420-49d3-890d-a8aaa65d5339"
      },
      "source": [
        "## 2.2 意味が近いオノマトペ文を検索"
      ]
    },
    {
      "cell_type": "code",
      "execution_count": 35,
      "id": "0060f0f5-e8f0-43be-95c6-84b99bcb5290",
      "metadata": {
        "id": "0060f0f5-e8f0-43be-95c6-84b99bcb5290",
        "outputId": "73fa43ab-5fa3-480d-c78f-1c32163b30d2",
        "colab": {
          "base_uri": "https://localhost:8080/"
        }
      },
      "outputs": [
        {
          "output_type": "stream",
          "name": "stdout",
          "text": [
            "==============================================================================\n",
            "Query: 日が射したり光がともって、ぽっ\n",
            "日ざしがあってあたたかく、ぽかりぽかり(0.876)\n",
            "表面がぬれてやわらかく光り、ぬめぬめ(0.869)\n",
            "表面がぬれてにぶく光って、てらてら(0.863)\n",
            "太陽が焼けつくように照り、じりじり(0.858)\n",
            "一瞬明るく鋭く光って、きらり(0.850)\n",
            "==============================================================================\n",
            "Query: あたたかい日ざしが差しこみ、ぽかぽか\n",
            "日ざしがあってあたたかく、ぽかりぽかり(0.952)\n",
            "日ざしがおだやかで、おっとり(0.903)\n",
            "春の日ざしがあたたかく、うらら(0.880)\n",
            "日ざしがいっぱいに差しこみ、さんさん(0.872)\n",
            "あたたかさに包まれなどんで、ほわっ(0.867)\n",
            "==============================================================================\n",
            "Query: 水や日ざしが満ち満ちて、なんなん\n",
            "日ざしがおだやかで、おっとり(0.858)\n",
            "気持ちわるく絶えず水分が、じくじく(0.853)\n",
            "すっかり日が暮れて、とっぷり(0.852)\n",
            "表面がぬれてやわらかく光り、ぬめぬめ(0.849)\n",
            "ちょうど浸るくらいの水で、ひたひた(0.842)\n",
            "==============================================================================\n",
            "Query: すっかり日が暮れて、とっぷり\n",
            "日ざしがおだやかで、おっとり(0.874)\n",
            "日ざしがいっぱいに差しこみ、さんさん(0.862)\n",
            "卑屈に/照れて/得意になり、へっへっ(0.859)\n",
            "卑屈に/照れて/得意になり、へへへ(0.859)\n",
            "水や日ざしが満ち満ちて、なんなん(0.852)\n",
            "==============================================================================\n",
            "Query: 日光の照り輝いて、てかてか\n",
            "日光が熱く照りつけて、かっか(0.959)\n",
            "日光が熱く照りつけて、かっ(0.958)\n",
            "真夏の太陽が強く照りつけて、ぎらぎら(0.887)\n",
            "太陽が焼けつくように照り、じりじり(0.876)\n",
            "表面につやがあり光って、てかてか(0.866)\n",
            "==============================================================================\n",
            "Query: 雲ひとつなく晴れ上がって、すかっ\n",
            "曇っていた空が明るく晴れて、けろり(0.868)\n",
            "湿度が低く気持ちよく晴れて、からり(0.855)\n",
            "湿度が低く気持ちよく晴れて、からっ(0.843)\n",
            "表面が乾燥して快くて、さっぱり(0.814)\n",
            "うれしそうに明るく笑って、にこにこ(0.812)\n",
            "==============================================================================\n",
            "Query: 太陽が焼けつくように照り、じりじり\n",
            "太陽や火が持続的に熱く燃え、かっか(0.891)\n",
            "真夏の太陽が強く照りつけて、ぎらぎら(0.887)\n",
            "日光の照り輝いて、てかてか(0.876)\n",
            "表面につやがあり光って、てかてか(0.875)\n",
            "日光が熱く照りつけて、かっか(0.874)\n",
            "==============================================================================\n",
            "Query: 日ざしがいっぱいに差しこみ、さんさん\n",
            "あたたかい日ざしが差しこみ、ぽかぽか(0.872)\n",
            "すっかり日が暮れて、とっぷり(0.862)\n",
            "日ざしがあってあたたかく、ぽかりぽかり(0.845)\n",
            "日ざしがおだやかで、おっとり(0.834)\n",
            "水や日ざしが満ち満ちて、なんなん(0.832)\n",
            "==============================================================================\n",
            "Query: 曇っていた空が明るく晴れて、けろり\n",
            "雲ひとつなく晴れ上がって、すかっ(0.868)\n",
            "湿度が低く気持ちよく晴れて、からり(0.868)\n",
            "湿度が低く気持ちよく晴れて、からっ(0.861)\n",
            "表面が乾燥して快くて、さっぱり(0.856)\n",
            "やさしい風が静かに吹いて、そよそよ(0.841)\n",
            "==============================================================================\n",
            "Query: 真夏の太陽が強く照りつけて、ぎらぎら\n",
            "夏の強い日ざしが照りつけて、かんかん(0.910)\n",
            "日光の照り輝いて、てかてか(0.887)\n",
            "太陽が焼けつくように照り、じりじり(0.887)\n",
            "日光が熱く照りつけて、かっか(0.870)\n",
            "日光が熱く照りつけて、かっ(0.868)\n",
            "==============================================================================\n",
            "Query: 夏の強い日ざしが照りつけて、かんかん\n",
            "真夏の太陽が強く照りつけて、ぎらぎら(0.910)\n",
            "日光が熱く照りつけて、かっか(0.880)\n",
            "日光が熱く照りつけて、かっ(0.877)\n",
            "日ざしがおだやかで、おっとり(0.872)\n",
            "日光の照り輝いて、てかてか(0.856)\n",
            "==============================================================================\n",
            "Query: 湿度が低く気持ちよく晴れて、からっ\n",
            "湿度が低く気持ちよく晴れて、からり(0.995)\n",
            "湿気がなく気持ちよくかわき、からり(0.907)\n",
            "湿気がなく気持ちよくかわき、からっ(0.900)\n",
            "表面が乾燥して快くて、さっぱり(0.880)\n",
            "風が軽く静かに吹きすぎて、そよ(0.879)\n",
            "==============================================================================\n",
            "Query: 湿度が低く気持ちよく晴れて、からり\n",
            "湿度が低く気持ちよく晴れて、からっ(0.995)\n",
            "湿気がなく気持ちよくかわき、からり(0.908)\n",
            "湿気がなく気持ちよくかわき、からっ(0.892)\n",
            "表面が乾燥して快くて、さっぱり(0.880)\n",
            "肌ざわりがやわらかく快くて、とろり(0.879)\n",
            "==============================================================================\n",
            "Query: 日光が熱く照りつけて、かっ\n",
            "日光が熱く照りつけて、かっか(0.997)\n",
            "日光の照り輝いて、てかてか(0.958)\n",
            "夏の強い日ざしが照りつけて、かんかん(0.877)\n",
            "太陽や火が持続的に熱く燃え、かっか(0.875)\n",
            "すごみを帯びて強く光り輝き、ぎらり(0.874)\n",
            "==============================================================================\n",
            "Query: 日光が熱く照りつけて、かっか\n",
            "日光が熱く照りつけて、かっ(0.997)\n",
            "日光の照り輝いて、てかてか(0.959)\n",
            "夏の強い日ざしが照りつけて、かんかん(0.880)\n",
            "すごみを帯びて強く光り輝き、ぎらり(0.879)\n",
            "強い光が目を刺激して、ちかちか(0.877)\n",
            "==============================================================================\n",
            "Query: 日ざしがおだやかで、おっとり\n",
            "あたたかい日ざしが差しこみ、ぽかぽか(0.903)\n",
            "日ざしがあってあたたかく、ぽかりぽかり(0.902)\n",
            "肌にやわらかく感じて、ほやほや(0.876)\n",
            "すっかり日が暮れて、とっぷり(0.874)\n",
            "夏の強い日ざしが照りつけて、かんかん(0.872)\n",
            "==============================================================================\n",
            "Query: 春の日ざしがのどかで、うらうら\n",
            "春の日ざしがあたたかく、うらら(0.943)\n",
            "春の雨などにやさしく包まれ、しっぽり(0.858)\n",
            "あたたかい日ざしが差しこみ、ぽかぽか(0.807)\n",
            "日ざしがおだやかで、おっとり(0.789)\n",
            "すきま風が吹きうすら寒く、すーすー(0.788)\n",
            "==============================================================================\n",
            "Query: 粉雪などがごく軽いようすで、はらはら\n",
            "軽いものが落ちて、はらり(0.854)\n",
            "軽いものが風などでゆれて、ぷらぷら(0.846)\n",
            "軽いものが落ちて、ぱらり(0.845)\n",
            "軽いものが落ちて、ぱたり(0.842)\n",
            "全体的に乾燥して軽くなり、からから(0.841)\n",
            "==============================================================================\n",
            "Query: いまにも雨が降りそうで、どんより\n",
            "雨が降り続いて湿って、じとじと(0.862)\n",
            "雨などがしめやかに降って、しとしと(0.860)\n",
            "雨が降り続いて湿って、じめじめ(0.849)\n",
            "雨や水に気持ちわるくぬれて、ずくずく(0.841)\n",
            "通り雨が軽く一時に降って、さっ(0.835)\n",
            "==============================================================================\n",
            "Query: 多量の雨がはげしく降って、どしゃどしゃ\n",
            "雨などがしめやかに降って、しとしと(0.911)\n",
            "雨が勢いはげしく降って、ざんざん(0.882)\n",
            "雨が降り続いて湿って、じとじと(0.876)\n",
            "大量の雨が続けて降って、ざーざー(0.876)\n",
            "雨や大量の水に全身がぬれて、ずっぷり(0.873)\n"
          ]
        }
      ],
      "source": [
        "import scipy.spatial\n",
        "\n",
        "queries = onomatopea_sentences[:20]\n",
        "query_embeddings = model.encode(queries).numpy()\n",
        "\n",
        "closest_n = 5\n",
        "for query, query_embedding in zip(queries, query_embeddings):\n",
        "    distances = scipy.spatial.distance.cdist([query_embedding], onomatopea_vectors, metric=\"cosine\")[0]\n",
        "\n",
        "    results = zip(range(len(distances)), distances)\n",
        "    results = sorted(results, key=lambda x: x[1])\n",
        "\n",
        "    print(\"=\" * 78)\n",
        "    print(\"Query:\", query)\n",
        "    #print(\"Top 5 most similar sentences in corpus:\")\n",
        "    for idx, distance in results[1:closest_n+1]:\n",
        "        print(f'{onomatopea_sentences[idx].strip()}' f'({1-distance/2:.3f})')"
      ]
    },
    {
      "cell_type": "markdown",
      "id": "8751a4df-b9d0-4431-bb14-2bc5e689782b",
      "metadata": {
        "tags": [],
        "id": "8751a4df-b9d0-4431-bb14-2bc5e689782b"
      },
      "source": [
        "## 1.3 オノマトペの可視化 tSNE による散布図"
      ]
    },
    {
      "cell_type": "code",
      "execution_count": 36,
      "id": "f51d6954-809f-4c5c-adcb-778685d62e96",
      "metadata": {
        "id": "f51d6954-809f-4c5c-adcb-778685d62e96",
        "outputId": "bff15dcb-41e3-46e7-affe-748a39a3f06d",
        "colab": {
          "base_uri": "https://localhost:8080/"
        }
      },
      "outputs": [
        {
          "output_type": "stream",
          "name": "stdout",
          "text": [
            "Preprocessing the data using PCA...\n",
            "Computing pairwise distances...\n",
            "Computing P-values for point  0  of  2469 ...\n",
            "Computing P-values for point  500  of  2469 ...\n",
            "Computing P-values for point  1000  of  2469 ...\n",
            "Computing P-values for point  1500  of  2469 ...\n",
            "Computing P-values for point  2000  of  2469 ...\n",
            "Mean value of sigma:  5.135564370961059\n",
            "Iteration  250 : error is  1.3921887851876469\n",
            "Iteration  500 : error is  1.1948730439480377\n",
            "Iteration  750 : error is  1.1552908404271671\n",
            "Iteration  1000 : error is  1.1418025328678425\n"
          ]
        }
      ],
      "source": [
        "from ccap import tsne\n",
        "\n",
        "X = tsne.tsne(onomatopea_vectors.clone().numpy())"
      ]
    },
    {
      "cell_type": "code",
      "execution_count": 37,
      "id": "8b3a7739-e0ac-4628-9ced-0acd08fafe06",
      "metadata": {
        "id": "8b3a7739-e0ac-4628-9ced-0acd08fafe06",
        "outputId": "7d53d391-3918-4e75-c4db-b3cc6f8b4498",
        "colab": {
          "base_uri": "https://localhost:8080/",
          "height": 718
        }
      },
      "outputs": [
        {
          "output_type": "execute_result",
          "data": {
            "text/plain": [
              "<matplotlib.collections.PathCollection at 0x7fec07151c50>"
            ]
          },
          "metadata": {},
          "execution_count": 37
        },
        {
          "output_type": "display_data",
          "data": {
            "text/plain": [
              "<Figure size 864x864 with 1 Axes>"
            ],
            "image/png": "[encoded data removed]"
          },
          "metadata": {
            "image/png": {
              "width": 716,
              "height": 683
            },
            "needs_background": "light"
          }
        }
      ],
      "source": [
        "import matplotlib.pyplot as plt\n",
        "\n",
        "plt.figure(figsize=(12,12))\n",
        "plt.scatter(X[:,0], X[:,1])"
      ]
    },
    {
      "cell_type": "code",
      "execution_count": 38,
      "id": "9138c8f3-5f4c-47d8-9744-8e11de19e047",
      "metadata": {
        "id": "9138c8f3-5f4c-47d8-9744-8e11de19e047",
        "outputId": "c05ba567-df6b-4a0a-a79a-ba1c9defb7f8",
        "colab": {
          "base_uri": "https://localhost:8080/"
        }
      },
      "outputs": [
        {
          "output_type": "execute_result",
          "data": {
            "text/plain": [
              "['日が射したり光がともって、ぽっ',\n",
              " 'あたたかい日ざしが差しこみ、ぽかぽか',\n",
              " '水や日ざしが満ち満ちて、なんなん',\n",
              " 'すっかり日が暮れて、とっぷり',\n",
              " '日光の照り輝いて、てかてか',\n",
              " '雲ひとつなく晴れ上がって、すかっ',\n",
              " '太陽が焼けつくように照り、じりじり',\n",
              " '日ざしがいっぱいに差しこみ、さんさん',\n",
              " '曇っていた空が明るく晴れて、けろり',\n",
              " '真夏の太陽が強く照りつけて、ぎらぎら']"
            ]
          },
          "metadata": {},
          "execution_count": 38
        }
      ],
      "source": [
        "onomatopea_sentences[:10]"
      ]
    },
    {
      "cell_type": "markdown",
      "id": "3a881342-2787-4c35-b109-7453fc6bdd45",
      "metadata": {
        "id": "3a881342-2787-4c35-b109-7453fc6bdd45"
      },
      "source": [
        "# ここから下は以前のコードなので，無視してください。"
      ]
    },
    {
      "cell_type": "code",
      "execution_count": null,
      "id": "3e993970-eacf-4eed-91bd-d07f913759f5",
      "metadata": {
        "id": "3e993970-eacf-4eed-91bd-d07f913759f5"
      },
      "outputs": [],
      "source": [
        "import torch\n",
        "#from torch.nn import functional as F\n",
        "from transformers import BertJapaneseTokenizer\n",
        "from transformers import BertForNextSentencePrediction\n",
        "#from transformers import BertForMaskedLM\n",
        "\n",
        "model_name_ja = 'cl-tohoku/bert-base-japanese'\n",
        "tokenizer = BertJapaneseTokenizer.from_pretrained(model_name_ja)\n",
        "model_nsp = BertForNextSentencePrediction.from_pretrained(model_name_ja)\n",
        "\n",
        "from transformers import BertForSequenceClassification\n",
        "classify_model = BertForSequenceClassification.from_pretrained(model_name_ja, num_labels=9)\n",
        "print(classify_model.classifier)\n",
        "# Linear(in_features=768, out_features=9, bias=True)\n",
        "\n",
        "# `from_pretrained` 時に `num_labels` を指定する。\n",
        "# これにより，任意のクラス数の分類器にできる。\n",
        "# デフォルトでは 2 クラス分類器\n",
        "# tokenizerと同様キャッシュダウンロードになる。\n",
        "# なので保存したい場合は下記のようにする。\n",
        "model_saved_fname = '2022_0607bert_classify_model.pt'\n",
        "classify_model.save_pretrained(model_saved_fname) # save\n",
        "classify_model2 = BertForSequenceClassification.from_pretrained(model_saved_fname) # load"
      ]
    },
    {
      "cell_type": "code",
      "execution_count": null,
      "id": "5b21f6e4-6765-4d00-a606-6f65318f58e7",
      "metadata": {
        "id": "5b21f6e4-6765-4d00-a606-6f65318f58e7"
      },
      "outputs": [],
      "source": [
        "import torch\n",
        "from torch.nn import functional as F\n",
        "from transformers import BertJapaneseTokenizer\n",
        "#from transformers import BertForMaskedLM\n",
        "from transformers import BertForNextSentencePrediction\n",
        "\n",
        "tokenizer = BertJapaneseTokenizer.from_pretrained('cl-tohoku/bert-base-japanese')\n",
        "model_nsp = BertForNextSentencePrediction.from_pretrained('cl-tohoku/bert-base-japanese')\n",
        "\n",
        "# # GPU が利用可能であれば利用する\n",
        "device = torch.device('cuda') if torch.cuda.is_available() else torch.device('cpu')\n",
        "model_nsp.to(device)\n",
        "\n",
        "prompt = \"行く川の流れ絶えずして\"\n",
        "next_sentence = \"しかも元の水にあらず。\"\n",
        "next_sentence = \"吾輩は猫である。\"\n",
        "\n",
        "encoding = tokenizer.encode_plus(prompt, next_sentence, return_tensors='pt')\n",
        "outputs = model_nsp(**encoding)[0]\n",
        "softmax = F.softmax(outputs, dim = 1)\n",
        "print(softmax)"
      ]
    },
    {
      "cell_type": "code",
      "execution_count": null,
      "id": "8bcf9f67-f913-4a0c-a963-b557b422b6d3",
      "metadata": {
        "id": "8bcf9f67-f913-4a0c-a963-b557b422b6d3"
      },
      "outputs": [],
      "source": [
        "import torch\n",
        "from torch.nn import functional as F\n",
        "\n",
        "from transformers import BertJapaneseTokenizer\n",
        "from transformers import BertForMaskedLM\n",
        "\n",
        "#model_name = 'cl-tohoku/bert-base-japanese'      # 東北大学乾研による 日本語 BERT 実装\n",
        "model_name = 'cl-tohoku/bert-base-japanese-v2'\n",
        "\n",
        "tknz = BertJapaneseTokenizer.from_pretrained(model_name)\n",
        "mlm  = BertForMaskedLM.from_pretrained(model_name, return_dict=True)\n",
        "\n",
        "# # GPU が利用可能であれば利用する\n",
        "device = torch.device('cuda') if torch.cuda.is_available() else torch.device('cpu')\n",
        "mlm.to(device)\n",
        "\n",
        "text = \"吾輩は猫である。\" + tokenizer.mask_token + \"はまだない。\"\n",
        "_input = tknz.encode_plus(text, return_tensors=\"pt\")\n",
        "mask_index = torch.where(_input[\"input_ids\"][0] == tknz.mask_token_id)\n",
        "output = mlm(**_input)\n",
        "logits = output.logits\n",
        "softmax = F.softmax(logits, dim = -1)\n",
        "mask_word = softmax[0, mask_index, :]\n",
        "topN = 10\n",
        "tokens = torch.topk(mask_word, topN, dim=1)[1][0]\n",
        "for token in tokens:\n",
        "    word = tknz.convert_ids_to_tokens(token.detach().item())\n",
        "    sent_pred = text.replace(tknz.mask_token, word)\n",
        "    print(sent_pred)\n"
      ]
    },
    {
      "cell_type": "code",
      "execution_count": null,
      "id": "409a4990-c4b6-4bad-8a05-974ae9aa5f20",
      "metadata": {
        "id": "409a4990-c4b6-4bad-8a05-974ae9aa5f20"
      },
      "outputs": [],
      "source": [
        "# 2021/Jan 近藤先生からいただいたオノマトペ辞典のデータの読み込み\n",
        "#'日本語オノマトペ辞典4500より.xls' は著作権の問題があり，公にできません。\n",
        "# そのため Google Colab での解法，ローカルファイルよりアップロードしてください\n",
        "import os\n",
        "import pandas as pd\n",
        "import jaconv\n",
        "\n",
        "if isColab:\n",
        "    from google.colab import files\n",
        "    uploaded = files.upload()  # ここで `日本語オノマトペ辞典4500より.xls` を指定してアップロードする\n",
        "    data_dir = '.'\n",
        "else:\n",
        "    data_dir = os.path.join(HOME, 'study/2021ccap/notebooks')\n",
        "\n",
        "\n",
        "onomatopea_excel = '2021-0325日本語オノマトペ辞典4500より.xls'\n",
        "onmtp2761 = pd.read_excel(os.path.join(data_dir, onomatopea_excel), sheet_name='2761語')\n",
        "\n",
        "#すべてカタカナ表記にしてデータとして利用する場合\n",
        "#`日本語オノマトペ辞典4500` はすべてひらがな表記だが，一般にオノマトペはカタカナ表記されることが多いはず\n",
        "#onomatopea = list(sorted(set([jaconv.hira2kata(o) for o in onmtp2761['オノマトペ']])))\n",
        "\n",
        "# Mac と Windows の表記の相違を吸収\n",
        "onomatopea = list(sorted(set([jaconv.normalize(o) for o in onmtp2761['オノマトペ']])))\n",
        "print(f'データファイル名: {os.path.join(data_dir, onomatopea_excel)}\\n',\n",
        "      f'オノマトペ単語総数: len(onomatopea):{len(onomatopea)}')\n",
        "\n",
        "# トークナイザ の修正，実際には onomatopea 単語リストを引数に指定して `add_tokens()` を呼び出すだけ\n",
        "# ただし，語彙数 tknz.vocab は変更されない。追加された語彙，本コードの場合はオノマトペは，\n",
        "# `tknz.added_tokens_encoder` と `tknz1.added_tokens_decoder` に反映されているためである\n",
        "num_added = tknz.add_tokens(onomatopea)\n",
        "print(f'追加されたトークン数:{num_added}/オノマトペ数:{len(onomatopea)}') \n",
        "#model_onmt.resize_token_embeddings(len(tknz))\n",
        "#model_orig.resize_token_embeddings(len(tknz))\n",
        "classify_model.resize_token_embeddings(len(tknz))\n",
        "classify_model2.resize_token_embeddings(len(tknz))\n",
        "\n",
        "print(f' len(tknz):{len(tknz)}\\n', \n",
        "      f'len(tknz.vocab):{len(tknz.vocab)}\\n',  # 一見すると，この数字からオノマトペが追加されていないように見える。\n",
        "      f'tknz.vocab_size:{tknz.vocab_size}')    # 駄菓子菓子，下で見るように，正しく動作しているように見受けられる\n",
        "\n",
        "print('# 確認用')\n",
        "for w in onomatopea[-5:]:\n",
        "    idx = tknz.convert_tokens_to_ids(w)\n",
        "    w_ = tknz.convert_ids_to_tokens(idx)\n",
        "    print(f'単語:{w}(id:{idx}) -> token:{w_}')"
      ]
    },
    {
      "cell_type": "code",
      "execution_count": null,
      "id": "2960fbeb-450a-4f68-9dbd-cd99ba05483a",
      "metadata": {
        "id": "2960fbeb-450a-4f68-9dbd-cd99ba05483a"
      },
      "outputs": [],
      "source": [
        "import pandas\n",
        "import jaconv\n",
        "\n",
        "df = pandas.read_excel('../2022_0531onomatope11.xlsx')\n",
        "# 若干の入力ミスと思われる部分を修正した。オリジナルは onomatope11(1).xlsx\n",
        "bunn = df['bunn'].to_list()\n",
        "onmtp = df['onomatope'].to_list()\n",
        "_bunn = [jaconv.normalize(line, 'NFKC') for line in bunn]\n",
        "_onmtp = [jaconv.normalize(line, 'NFKC') for line in onmtp]\n",
        "bunn = _bunn\n",
        "onmtp = _onmtp\n",
        "\n",
        "ono2sen = {}\n",
        "sen2ono = {}\n",
        "for __bunn, __onmtp in zip(bunn, onmtp):\n",
        "    if not __onmtp in ono2sen:\n",
        "        ono2sen[__onmtp] = []\n",
        "    ono2sen[__onmtp].append(__bunn)\n",
        "    \n",
        "    if not __bunn in sen2ono:\n",
        "        sen2ono[__bunn] = []\n",
        "    sen2ono[__bunn].append(__onmtp)\n",
        "\n",
        "    \n",
        "max_cand = 0\n",
        "for k, v in ono2sen.items():\n",
        "    n = len(ono2sen[k])\n",
        "    if n > max_cand:\n",
        "        max_cand = n\n",
        "        max_ono = k\n",
        "\n",
        "print(max_cand, max_ono)\n",
        "print(ono2sen[max_ono])\n",
        "\n",
        "\n",
        "max_cand = 0\n",
        "for k, v in sen2ono.items():\n",
        "    n = len(sen2ono[k])\n",
        "    if n > max_cand:\n",
        "        max_cand = n\n",
        "        max_sen = k\n",
        "print(max_cand, max_sen)\n",
        "print(sen2ono[max_sen])\n",
        "\n",
        "onomatopea_ids = [tknz.convert_tokens_to_ids(w) for w in onomatopea]\n",
        "onomatopea == [tknz.convert_ids_to_tokens(tknz.convert_tokens_to_ids(w)) for w in onomatopea]\n",
        "print(len(onomatopea_ids))"
      ]
    },
    {
      "cell_type": "code",
      "execution_count": null,
      "id": "a1b74355-839b-4cc6-b792-2d62d2ef0865",
      "metadata": {
        "id": "a1b74355-839b-4cc6-b792-2d62d2ef0865"
      },
      "outputs": [],
      "source": [
        "from transformers import BertModel\n",
        "\n",
        "class Bert_Model(nn.Module):\n",
        "    def __init__(self, class):\n",
        "        super().__init__()\n",
        "        self.bert = BertModel.from_pretrained('bert-base-uncased')\n",
        "        self.out = nn.Linear(self.bert.config.hidden_size, classes)\n",
        "        self.sigmoid = nn.Sigmoid()\n",
        "    \n",
        "    def forward(self, input, attention_mask):\n",
        "        _, output = self.bert(input, attention_mask = attention_mask)\n",
        "        out = self.sigmoid(self.out(output))\n",
        "        return out"
      ]
    },
    {
      "cell_type": "code",
      "execution_count": null,
      "id": "846727c1-3bd1-4b08-9ecf-cccca98f81a0",
      "metadata": {
        "id": "846727c1-3bd1-4b08-9ecf-cccca98f81a0"
      },
      "outputs": [],
      "source": [
        "#help(tokenizer.decode)\n",
        "#tokenizer.convert_ids_to_tokens(1803)\n",
        "print(type(token.detach().item()))\n"
      ]
    },
    {
      "cell_type": "markdown",
      "id": "f31d080f-aa79-4e8b-89c1-c76d0b768ad8",
      "metadata": {
        "id": "f31d080f-aa79-4e8b-89c1-c76d0b768ad8"
      },
      "source": [
        "## Hugging Face Transformers library の BERTの使い方\n",
        "\n",
        "Hugging Face transformers library から BERT を使用する方法 4 つの重要な課題\n",
        "\n",
        "この記事では Hugging Face Transformer ライブラリを使用した BERT を 4 つの重要な課題に使用する方法を紹介する。 また BERT が解決するように設計された標準的な課題だけでなく，あなたが使いたいと思うあらゆる課題のために BERT を設定する方法を紹介する。\n",
        "\n",
        "この記事は 2021 年 1 月に書かれたものなので，以前の/将来のバージョンの Hugging Face ライブラリは少し違っていて，この記事のコードは必ずしも動作しないかもしれないことに注意。\n",
        "\n",
        "## 1. BERT トークナイザー\n",
        "\n",
        "BERT Tokenizer は BERT で動作するトークナイザである。\n",
        "このトークナイザは，あらゆるタイプのトークン化課題のための多くの機能性を持っている。\n",
        "このコードの行を使用してトークナイザをダウンロードすることができる。"
      ]
    },
    {
      "cell_type": "code",
      "execution_count": null,
      "id": "eaaa5b8a-3815-44ed-b02a-009635a9e4d2",
      "metadata": {
        "id": "eaaa5b8a-3815-44ed-b02a-009635a9e4d2"
      },
      "outputs": [],
      "source": [
        "tknz = BertJapaneseTokenizer.from_pretrained(model_ja_name)"
      ]
    },
    {
      "cell_type": "markdown",
      "id": "f275173b-622e-46a3-a3c3-ba81dcbaa4a9",
      "metadata": {
        "id": "f275173b-622e-46a3-a3c3-ba81dcbaa4a9"
      },
      "source": [
        "異なるタイプのモデルごとに異なるトークナイザをダウンロードする必要はない。\n",
        "Hugging face が提供する様々な BERT モデル全てに同じトークナイザを使用することができる。\n",
        "\n",
        "一般的に行っているトークン化の方法は次のとおり："
      ]
    },
    {
      "cell_type": "code",
      "execution_count": null,
      "id": "fd071c36-2430-4134-a9b4-2f1c84fab410",
      "metadata": {
        "id": "fd071c36-2430-4134-a9b4-2f1c84fab410"
      },
      "outputs": [],
      "source": [
        "text = '吾輩は猫である'\n",
        "encoding = tknz.encode_plus(text, \n",
        "                            add_special_tokens = True,\n",
        "                            truncation = True, \n",
        "                            padding = 'longest',\n",
        "                            #padding = 'do_not_pad',\n",
        "                            #padding = 'max_length',\n",
        "                            return_attention_mask = True, \n",
        "                            return_tensors = \"pt\")"
      ]
    },
    {
      "cell_type": "markdown",
      "id": "110fb175-a81d-40b5-aa95-dbc5cb43e261",
      "metadata": {
        "id": "110fb175-a81d-40b5-aa95-dbc5cb43e261"
      },
      "source": [
        "- BERT は 一度に 512 個のトークンしか入力として受け入れる/受け取ることができないため truncation パラメータを True に指定する必要がある。 \n",
        "- `add_special_tokens` パラメータは BERT が開始，終了，[SEP] および [CLS] トークンのようなトークンを追加するため\n",
        "- `return_tensors=“pt”` は トークン化器が PyTorch テンソルを返すため。もしそうしたくない場合 (リストを返したい場合など) は，このパラメータを外すとリストを返す。\n",
        "\n",
        "以下のコードでは，上に挙げたパラメータをすべて追加していないのがわかるが，これは主に実際のプロジェクトでテキストをトークン化するわけではないので，必要ないためである。 実際の機械学習/自然言語処理プロジェクトでは，これらのパラメータ，特に切り捨てとパディングを追加する必要がある。\n",
        "\n",
        "- `tokenizer.encode_plus()` は特に、単なる値のリストではなく，値の辞書を返す。\n",
        "- `tokenizer.encode_plus()` は `attention_masks` やトークン型の ID など様々な情報を返すことができるので，全てを辞書形式で返し，エンコードの特定の部分を取得したい場合は，このようにすることができる。\n",
        "\n"
      ]
    },
    {
      "cell_type": "code",
      "execution_count": null,
      "id": "e61cbd6f-7102-48ae-acee-0b7322b7be73",
      "metadata": {
        "id": "e61cbd6f-7102-48ae-acee-0b7322b7be73"
      },
      "outputs": [],
      "source": [
        "print(encoding)\n",
        "print(encoding['input_ids'])\n",
        "print(encoding['input_ids'][0])\n",
        "\n",
        "inputs = encoding['input_ids'][0]\n",
        "attention_mask = encoding['attention_mask'][0]\n"
      ]
    },
    {
      "cell_type": "markdown",
      "id": "fc9ee5dc-55ad-4280-9b78-d325ef2ad219",
      "metadata": {
        "id": "fc9ee5dc-55ad-4280-9b78-d325ef2ad219"
      },
      "source": [
        "さらにトークナイザーは異なる値の辞書を返すので，上記のようにこれらの値を見つけ，これらを個別にモデルに渡す代わりに，次のようにエンコーディング全体を渡すことができます。"
      ]
    },
    {
      "cell_type": "code",
      "execution_count": null,
      "id": "38168033-7a91-4827-9760-e71bf8e0de72",
      "metadata": {
        "id": "38168033-7a91-4827-9760-e71bf8e0de72"
      },
      "outputs": [],
      "source": [
        "outputs = model(**encoding)\n",
        "print(outputs)"
      ]
    },
    {
      "cell_type": "markdown",
      "id": "3ca746a7-70d4-49a2-92df-b3ebdbb73c6c",
      "metadata": {
        "id": "3ca746a7-70d4-49a2-92df-b3ebdbb73c6c"
      },
      "source": [
        "もうひとつトークナイザについて知っておくべき非常に重要なことは，必要に応じて特定のトークンを取得するように指定できることである。\n",
        "たとえばマスク化言語のモデリングをするときに，デコードする場所にマスクを挿入したい場合，次のようにマスク・トークンを取得することができる。"
      ]
    },
    {
      "cell_type": "code",
      "execution_count": null,
      "id": "e39ae98d-3172-4c43-a3d5-ff74defd1106",
      "metadata": {
        "id": "e39ae98d-3172-4c43-a3d5-ff74defd1106"
      },
      "outputs": [],
      "source": [
        "print(tknz.mask_token)"
      ]
    },
    {
      "cell_type": "markdown",
      "id": "c572a873-1c20-4b04-a95f-57e325820af8",
      "metadata": {
        "id": "c572a873-1c20-4b04-a95f-57e325820af8"
      },
      "source": [
        "これを入力テキストと連結することで簡単に入力に挿入できる。\n",
        "\n",
        "また [SEP] トークンのような他の多くのトークンも同じ方法で取り出すことができる。\n",
        "\n",
        "通常 `tokenizer.encode_plus()` 関数を使って入力のトークン化を行うが，他にもトークン化に使える関数がある。\n",
        "この `tokenizer.encode()` は入力のトークン化を行う。\n",
        "以下はその例である:"
      ]
    },
    {
      "cell_type": "code",
      "execution_count": null,
      "id": "4f9d585a-87aa-403d-855e-cdb6cff2787e",
      "metadata": {
        "id": "4f9d585a-87aa-403d-855e-cdb6cff2787e"
      },
      "outputs": [],
      "source": [
        "#encoding = tokenizer.encode(text, return_tensors = \"pt\")\n",
        "encodings = tknz.encode(text, return_tensors='pt')\n",
        "print(encodings)\n"
      ]
    },
    {
      "cell_type": "markdown",
      "id": "1f175489-a0e8-459c-b53f-ca5a80434012",
      "metadata": {
        "id": "1f175489-a0e8-459c-b53f-ca5a80434012"
      },
      "source": [
        "`tokenizer.encode_plus()` と `tokenizer.encode()` の主な違いは `tokenizer.encode_plus()` がより多くの情報を返すということである。 \n",
        "\n",
        "- `tokenize.encode_plus()` は，実際の入力 ID，アテンションマスク，トークンタイプ の ID を返し，これらをすべて辞書に格納して返す。\n",
        "- `tokenizer.encode()` は入力 ID のみを返し，パラメータ return_tensors = \"pt\" に従ってリストまたはテンソルとしてこれを返す。"
      ]
    },
    {
      "cell_type": "code",
      "execution_count": null,
      "id": "236255cc-bfdf-4d8a-9fdf-18c79edffece",
      "metadata": {
        "id": "236255cc-bfdf-4d8a-9fdf-18c79edffece"
      },
      "outputs": [],
      "source": [
        "print(f'tknz(text):{tknz(text)}')\n",
        "print(f'tknz.encode_plus(text):{tknz.encode_plus(text)}')\n",
        "print(f'tknz.encode(text):{tknz.encode(text)}')\n",
        "print(tknz.special_tokens_map)"
      ]
    },
    {
      "cell_type": "markdown",
      "id": "1d4c6c6e-f99f-4f3c-a60b-a97f3151f3f7",
      "metadata": {
        "id": "1d4c6c6e-f99f-4f3c-a60b-a97f3151f3f7"
      },
      "source": [
        "## 2. マスク化言語モデル\n",
        "\n",
        "マスク化言語モデルとは，文中のマスクされたトークンを解読する課題である。\n",
        "簡単に言うと空白を埋める作業である。\n",
        "\n",
        "単にマスクトークンの置き換えに最適な候補語を取るのではなくマスクトークンの置き換え候補語の上位 10 個を取る方法を紹介する。"
      ]
    },
    {
      "cell_type": "code",
      "execution_count": null,
      "id": "2d4ac145-1c1b-40f9-9a4a-350b8dbdd93b",
      "metadata": {
        "id": "2d4ac145-1c1b-40f9-9a4a-350b8dbdd93b"
      },
      "outputs": [],
      "source": [
        "from transformers import BertJapaneseTokenizer\n",
        "from transformers import BertForMaskedLM\n",
        "from torch.nn import functional as F\n",
        "import torch\n",
        "\n",
        "model_ja_name = 'cl-tohoku/bert-base-japanese-whole-word-masking'\n",
        "tknz = BertJapaneseTokenizer.from_pretrained(model_ja_name)\n",
        "model2 = BertForMaskedLM.from_pretrained(model_ja_name, return_dict = True)\n",
        "\n",
        "text = \"太陽が\" + tknz.mask_token + \"と輝く\"\n",
        "inputs = tknz.encode_plus(text, return_tensors = \"pt\")\n",
        "mask_index = torch.where(inputs[\"input_ids\"][0] == tknz.mask_token_id)\n",
        "outputs = model2(**inputs)\n",
        "logits = outputs.logits\n",
        "softmax = F.softmax(logits, dim=-1)\n",
        "mask_word = softmax[0, mask_index, :]\n",
        "top10 = torch.topk(mask_word, 10, dim=1)[1][0]\n",
        "\n",
        "for i, token in enumerate(top10):\n",
        "    wrd = tknz.convert_ids_to_tokens([token])\n",
        "    sentence_replaced = text.replace(tknz.mask_token, wrd[0])\n",
        "    print(f'{i+1:2d}', sentence_replaced)"
      ]
    },
    {
      "cell_type": "markdown",
      "id": "0064e14f-4481-4aa2-b304-4efaa8e8a497",
      "metadata": {
        "id": "0064e14f-4481-4aa2-b304-4efaa8e8a497"
      },
      "source": [
        "Hugging Face は事前に学習されたモデルを持つ課題については，その特定のモデルをダウンロード/インポートする必要があるように設定されている。\n",
        "この場合，私たちは Bert For Masked Language Modeling モデルをダウンロードしなければなりませんが，トークナイザは前節で述べたように，すべての異なるモデルに対して同じものである。\n",
        "\n",
        "- マスク言語モデリングは，マスクトークンを任意の位置に挿入し，その位置に入る最適な単語候補を予測することで機能する。\n",
        "- マスクトークンは，上記のように，入力の希望する位置に連結して挿入すればよい。\n",
        "- Bert Model for Masked Language Modeling は，その単語を置き換える最適な単語/トークンを語彙として予測する。\n",
        "- logits は BERT の出力にソフトマックス活性化関数が適用される前の BERT モデルの出力である。\n",
        "- ロジットを取得するためには，モデルを初期化するときにパラメータで `return_dict = True` を指定する必要があり，そうしないと上記のコードはコンパイルエラーになる。\n",
        "- BERT Model に入力エンコーディングを渡した後，テンソルを返す \n",
        "- `output.logits` を指定するだけで `logits` を得ることができ，この後ようやく `logits` にソフトマックス活性化関数を適用することができる。 \n",
        "- BERT の出力にソフトマックスを適用することで BERT の語彙の各単語の確率分布を得ることができる。\n",
        "- より高い確率値を持つ単語はマスクトークンのより良い置換候補となる。\n",
        "- マスクトークンを置き換えるための BERT の語彙内のすべての単語のソフトマックス値のテンソルを取得するために `torch.where()` を使用して取得したマスクトークンのインデックスを指定することができる。\n",
        "- この例ではマスクトークンの置換候補単語の上位 10 個を取得しているので (パラメータを適宜調整すれば 10 個以上取得できる)，与えられたテンソル中の上位 $k$ 個の値を取得できる\n",
        "- `torch.topk()` 関数を使い，その上位 $k$ 個の値を含むテンソルを返している。\n",
        "- この後はテンソルを繰り返し処理し，文中のマスクトークンを候補トークンに置き換えるだけなので，比較的簡単な処理となる。"
      ]
    },
    {
      "cell_type": "code",
      "execution_count": null,
      "id": "27a80262-80f1-450e-87a8-bfe3c03a56df",
      "metadata": {
        "id": "27a80262-80f1-450e-87a8-bfe3c03a56df"
      },
      "outputs": [],
      "source": [
        "newsents = ['夏の暑さが肌にじりじり感じる',\n",
        "            '真夏の太陽がさんさんと照り付ける',\n",
        "            '勢いよく雨がざーっと降る',\n",
        "            'ろうそくの火が消えそうにゆらゆら灯る',\n",
        "            '砂糖がこぼれてさらさら落ちる',\n",
        "            '水が沸騰してごぽごぽ沸く',\n",
        "            'お風呂でぬくぬくと温まる',\n",
        "            'どんぶりに汁をだくだくと注ぐ',\n",
        "            '日が照りぽかぽかと心地がよい',\n",
        "            'クーラーからひんやりと風が吹く',\n",
        "            '髪の毛がちりちりと燃える',\n",
        "           ]\n",
        "\n",
        "_newsents = ['夏の暑さが肌に[MASK]感じる。',\n",
        "             '真夏の太陽が[MASK]と照り付ける。',\n",
        "             '勢いよく雨が[MASK]と降る。',\n",
        "             'ろうそくの火が消えそうに[MASK]灯る。',\n",
        "             '砂糖がこぼれて[MASK]落ちる。',\n",
        "             '水が沸騰して[MASK]沸く。',\n",
        "             'お風呂で[MASK]と温まる。',\n",
        "             'どんぶりに汁を[MASK]と注ぐ。',\n",
        "             '日が照り[MASK]と心地がよい。',\n",
        "             'クーラーから[MASK]と風が吹く。',\n",
        "             '髪の毛が[MASK]と燃える。',\n",
        "             'お酒に酔ってちどり足で[MASK]歩く。',\n",
        "             '犬が顔を[MASK]舐める。',\n",
        "             '風邪で咳が[MASK]出る',\n",
        "             'けがをした子供が[MASK]と泣く',\n",
        "             'ふくれっ面で[MASK]怒る',\n",
        "             '悲しいことを思い出して、[MASK]する',\n",
        "             '昼寝や休暇を取って、[MASK]する',\n",
        "             'スポーツ選手のような[MASK]とした体だ',\n",
        "             '物事が順調にいき調子よく[MASK]進む',\n",
        "             '聞こえずらい小声で[MASK]話す',\n",
        "             '水の中を平泳ぎで[MASK]進む',\n",
        "             '翼を大きく[MASK]と広げる',\n",
        "             '腕を回して肩を[MASK]と音を鳴らす',\n",
        "             '地震が起きて建物が[MASK]と揺れる',\n",
        "             '包丁で指を[MASK]と切る',\n",
        "             '皿を擦り[MASK]と鳴らす',\n",
        "             '電車が音を鳴らし[MASK]と走る',\n",
        "             '花が枯れてしまい[MASK]する',\n",
        "             '雑巾を[MASK]と絞る',\n",
        "             '探偵が見つからないように[MASK]動き回る',\n",
        "             '分散してみんな[MASK]に進む',\n",
        "             '宝石を磨いてきれいに[MASK]光る',\n",
        "             '髭が中途半端に生えて[MASK]した肌ざわりだ',\n",
        "             '頭が割れるように[MASK]痛む', \n",
        "             '花火が音をたて打ち上がり[MASK]と爆ぜる',\n",
        "             '魚が打ちあがり勢いよく[MASK]動く', \n",
        "             '揚げ物が軽快に[MASK]と揚がる',\n",
        "             '突然空が雨雲に代わり雨が[MASK]と降り出した。',\n",
        "             '風が通り抜け音を立てて[MASK]と鳴る',\n",
        "             '人が小走りで道の上を[MASK]歩く',\n",
        "             '祭りで和太鼓を[MASK]叩く',\n",
        "             '虫がすばやく目の前を[MASK]と飛ぶ',\n",
        "             '相撲取りがしりもちを[MASK]とつく',\n",
        "             '友達に悪口を言われて[MASK]する',\n",
        "             '急に雨が降り[MASK]と服が濡れる',\n",
        "             '丸々太ったあざらしが坂を[MASK]転がる',\n",
        "             '寝起きで寝癖がつき髪が[MASK]している',\n",
        "             '驚いて口を[MASK]と大きく開け驚く',\n",
        "             'ゴミ箱の中身を[MASK]音を立て漁る',\n",
        "             '蛍光灯が切れかけて[MASK]と点滅する',\n",
        "             '木が鈍く音をたてて[MASK]と倒れる',\n",
        "             '硬そうなとても大きな角ばった[MASK]とした岩',\n",
        "             'とても滑らかな光沢のある水晶が[MASK]と輝いている',\n",
        "             '煎餅をたべ食べかすが[MASK]と崩れ落ちる',\n",
        "             '熱い鉄板に水てきが落ちて[MASK]と蒸発する',\n",
        "             '上司にしつこく怒られ[MASK]と説教される',\n",
        "             '人に聞かれたくない噂話を友達と小さな声で[MASK]と話す',\n",
        "             '街中でお祭りがあり人が集まり[MASK]と騒がしい',\n",
        "             '何もすることがなく[MASK]と街中を歩く',\n",
        "             '温泉の中は湯気が立ち込めて[MASK]と霧がかる'\n",
        "            ]\n",
        "\n",
        "for i, text in enumerate(_newsents):\n",
        "    print(f'{i:3d} text:{text}')\n",
        "    inputs = tknz.encode_plus(text, return_tensors = \"pt\")\n",
        "    mask_index = torch.where(inputs['input_ids'][0] == tknz.mask_token_id)\n",
        "    outputs = model2(**inputs)\n",
        "    logits = outputs.logits\n",
        "    softmax = F.softmax(logits, dim=-1)\n",
        "    mask_word = softmax[0, mask_index, :]\n",
        "    top10 = torch.topk(mask_word, 10, dim=1)[1][0]\n",
        "\n",
        "    for i, token in enumerate(top10):\n",
        "        wrd = tknz.convert_ids_to_tokens([token])\n",
        "        sentence_replaced = text.replace(tknz.mask_token, wrd[0])\n",
        "        print(f'{i+1:2d}', sentence_replaced)\n"
      ]
    },
    {
      "cell_type": "markdown",
      "id": "9f9d793a-7cb1-4aa2-aa80-e7f2dfa2a493",
      "metadata": {
        "id": "9f9d793a-7cb1-4aa2-aa80-e7f2dfa2a493"
      },
      "source": [
        "もし最有力候補の単語だけを取得したい場合は，このようにすればよい。"
      ]
    },
    {
      "cell_type": "code",
      "execution_count": null,
      "id": "0a16a21c-ca3e-485e-8dd1-20d82b3f038b",
      "metadata": {
        "id": "0a16a21c-ca3e-485e-8dd1-20d82b3f038b"
      },
      "outputs": [],
      "source": [
        "from transformers import BertJapaneseTokenizer\n",
        "from transformers import BertForMaskedLM\n",
        "from torch.nn import functional as F\n",
        "import torch\n",
        "\n",
        "model_ja_name = 'cl-tohoku/bert-base-japanese-whole-word-masking'\n",
        "tknz = BertJapaneseTokenizer.from_pretrained(model_ja_name)\n",
        "model2 = BertForMaskedLM.from_pretrained(model_ja_name, return_dict = True)\n",
        "\n",
        "text = \"太陽が\" + tknz.mask_token + \"と輝く\"\n",
        "inputs = tknz.encode_plus(text, return_tensors = \"pt\")\n",
        "\n",
        "mask_index = torch.where(inputs['input_ids'][0] == tknz.mask_token_id)\n",
        "logits = model2(**inputs)\n",
        "logits = logits.logits\n",
        "softmax = F.softmax(logits, dim=-1)\n",
        "mask_word = softmax[0, mask_index, :]\n",
        "top_word = torch.argmax(mask_word, dim=1)\n",
        "print(tknz.convert_ids_to_tokens(top_word))\n"
      ]
    },
    {
      "cell_type": "markdown",
      "id": "a0c97500-66c7-48de-bc3d-9c3c991804a4",
      "metadata": {
        "id": "a0c97500-66c7-48de-bc3d-9c3c991804a4"
      },
      "source": [
        "トップ 10 の値を取得するために `torch.topk()` を使う代わりにテンソル中の最大値のインデックスを返す `torch.argmax()` を使うだけである。\n",
        "残りのコードは元のコードとほとんど同じものである。"
      ]
    },
    {
      "cell_type": "markdown",
      "id": "d0b370f9-0655-4a39-b4eb-deaae5cd6038",
      "metadata": {
        "id": "d0b370f9-0655-4a39-b4eb-deaae5cd6038"
      },
      "source": [
        "## 3. 言語モデル\n",
        "\n",
        "言語モデルとは文中にあるすべての単語から，文の続きとなる最適な単語を予測する作業，すなわち次単語予測モデルである。\n",
        "\n",
        "- 次文予測とは，与えられた文に対して，どの程度の文が次の文になるかを予測する作業である。\n",
        "- この場合 \"The child came home from school.\" が与えられた文であり \"He played soccer after school.\" が次の文であるかどうかを予測しようとしている。\n",
        "- そのために BERT トークナイザが自動的に文の間に [SEP] トークンを挿入し，2 文の区切りを表し，特定の Bert For Next Sentence Prediction モデルが，その文が次の文であるかどうかの 2 値を予測する。\n",
        "- Bert は 2 つの値をテンソルで返す。\n",
        "- 最初の値は 2 番目の文が最初の文の続きであるかどうかを表し，2 番目の値は 2 番目の文がランダムな並びか最初の文の続きでないかを表す。\n",
        "- 言語モデリングとは異なり BERT の語彙のソフトマックスを計算しようとしているわけではないので，ロジットを取得することはない。\n",
        "- 我々は，次の文予測のための BERT が返す 2 つの値のソフトマックスを計算しようとしているだけで，どちらの値が最も高い確率値を持っているかを見ることができ，これは第 2 文が第 1 文にとって良い次の文であるかを表すことになる。\n",
        "- ソフトマックスの値を得たら，それをプリントアウトすることで簡単にテンソルを見ることができる。"
      ]
    },
    {
      "cell_type": "code",
      "execution_count": null,
      "id": "58f489f7-8000-497f-af9f-6fe10e8d7598",
      "metadata": {
        "id": "58f489f7-8000-497f-af9f-6fe10e8d7598"
      },
      "outputs": [],
      "source": [
        "from transformers import BertJapaneseTokenizer\n",
        "from transformers import BertForNextSentencePrediction\n",
        "import torch\n",
        "from torch.nn import functional as F\n",
        "\n",
        "model_ja_name = 'cl-tohoku/bert-base-japanese-whole-word-masking'\n",
        "tknz = BertJapaneseTokenizer.from_pretrained(model_ja_name)\n",
        "model2 = BertForNextSentencePrediction.from_pretrained(model_ja_name, return_dict=True)\n",
        "\n",
        "prompt = '行く川の流れ絶えずして'\n",
        "next_sentence = 'しかも元の水にあらず'\n",
        "encoding = tknz.encode_plus(prompt, next_sentence, return_tensors='pt')\n",
        "encoding = tknz.encode_plus(prompt, next_sentence, return_tensors='pt')\n",
        "print(f'encoding:{encoding}')\n",
        "outputs = model2(**encoding)[0]\n",
        "print(f'outputs:{outputs}')\n",
        "softmax = F.softmax(outputs, dim = 1)\n",
        "print(f'softmax:{softmax}')\n",
        "print(f'outputs:{outputs}')\n",
        "print(f'最初の文が，次の文の続きであるか？{softmax.detach().numpy()[0][0]:.5f}')\n",
        "print(f'最初の文が，次の文の続きではないか？{softmax.detach().numpy()[0][1]:.5f}')"
      ]
    },
    {
      "cell_type": "markdown",
      "id": "9b14fe91-a892-470e-a2d2-9f02e180f7aa",
      "metadata": {
        "id": "9b14fe91-a892-470e-a2d2-9f02e180f7aa"
      },
      "source": [
        "## 4. 抽出式問題解決\n",
        "\n",
        "抽出的質問応答とは，ある文脈のテキストが与えられたときに，その文脈のどこに答えがあるかを示す開始と終了のインデックスを出力することによって，質問に答える課題である。\n",
        "以下は私の抽出的質問応答のコードである:"
      ]
    },
    {
      "cell_type": "code",
      "execution_count": null,
      "id": "6e752ccb-4436-4068-91fd-2c2373e1a4d4",
      "metadata": {
        "id": "6e752ccb-4436-4068-91fd-2c2373e1a4d4"
      },
      "outputs": [],
      "source": [
        "from transformers import BertJapaneseTokenizer\n",
        "from transformers import BertForQuestionAnswering\n",
        "import torch\n",
        "\n",
        "model_ja_name = 'cl-tohoku/bert-base-japanese-whole-word-masking'\n",
        "tknz4 = BertJapaneseTokenizer.from_pretrained(model_ja_name)\n",
        "model4 = BertForQuestionAnswering.from_pretrained(model_ja_name, return_dict=True)\n",
        "\n",
        "question = \"フランスの首都は？\"\n",
        "text = \"フランスの首都はパリです。\"\n",
        "inputs = tknz4.encode_plus(question, text, return_tensors='pt')\n",
        "print(model(**inputs))\n",
        "#start, end = model(**inputs)\n",
        "#print(f'start:{start}')\n",
        "#print(f'end:{end}')\n",
        "# start_max = torch.argmax(F.softmax(start, dim = -1))\n",
        "# end_max = torch.argmax(F.softmax(end, dim = -1)) + 1 ## add one ##because of python list indexing\n",
        "# answer = tokenizer.decode(inputs[\"input_ids\"][0][start_max : end_max])\n",
        "# print(answer)\n"
      ]
    },
    {
      "cell_type": "code",
      "execution_count": null,
      "id": "d4067e21-4ca3-41dd-91db-f6996eda844c",
      "metadata": {
        "id": "d4067e21-4ca3-41dd-91db-f6996eda844c"
      },
      "outputs": [],
      "source": [
        "#_start, _end = model(**inputs)\n",
        "#print(f'start:{_start}')\n",
        "#print(type(_start))\n",
        "_a = model(**inputs)\n",
        "print(_a['start_logits'])\n",
        "print(_a['end_logits'])\n",
        "print(F.softmax(_a['start_logits'], dim=-1))\n",
        "print(torch.argmax(F.softmax(_a['start_logits'], dim=-1)))\n",
        "\n",
        "start_max = torch.argmax(F.softmax(_a['start_logits'], dim = -1))\n",
        "end_max   = torch.argmax(F.softmax(_a['end_logits'],   dim = -1))\n",
        "\n",
        "print(start_max, end_max)\n",
        "print(inputs[\"input_ids\"][0][start_max : end_max])"
      ]
    },
    {
      "cell_type": "code",
      "execution_count": null,
      "id": "d70eae3e-6122-4580-b107-c069d3ce192e",
      "metadata": {
        "id": "d70eae3e-6122-4580-b107-c069d3ce192e"
      },
      "outputs": [],
      "source": [
        "print(tknz.convert_ids_to_tokens(inputs['input_ids'][0]))"
      ]
    },
    {
      "cell_type": "markdown",
      "id": "c3e515cc-bd54-4a22-859e-1748cadeceac",
      "metadata": {
        "id": "c3e515cc-bd54-4a22-859e-1748cadeceac"
      },
      "source": [
        "- 次文予測とは，与えられた文に対して，どの程度の文が次の文になるかを予測する作業である。\n",
        "- この場合 \"The child came home from school.\" が与えられた文であり \"He played soccer after school.\" が次の文であるかどうかを予測しようとしている。\n",
        "- そのために BERT トークナイザが自動的に文の間に [SEP] トークンを挿入し，2 文の区切りを表し，特定の Bert For Next Sentence Prediction モデルが，その文が次の文であるかどうかの 2 値を予測する。\n",
        "- Bert は 2 つの値をテンソルで返す。\n",
        "- 最初の値は 2 番目の文が最初の文の続きであるかどうかを表し，2 番目の値は 2 番目の文がランダムな並びか最初の文の続きでないかを表す。\n",
        "- 言語モデリングとは異なり BERT の語彙のソフトマックスを計算しようとしているわけではないので，ロジットを取得することはない。\n",
        "- 我々は，次の文予測のための BERT が返す 2 つの値のソフトマックスを計算しようとしているだけで，どちらの値が最も高い確率値を持っているかを見ることができ，これは第 2 文が第 1 文にとって良い次の文であるかを表すことになる。\n",
        "- ソフトマックスの値を得たら，それをプリントアウトすることで簡単にテンソルを見ることができる。"
      ]
    },
    {
      "cell_type": "code",
      "execution_count": null,
      "id": "0a6e138f-5b56-47d5-87e1-6bb5c3a51fa6",
      "metadata": {
        "id": "0a6e138f-5b56-47d5-87e1-6bb5c3a51fa6"
      },
      "outputs": [],
      "source": [
        "encoding = tknz.encode_plus(prompt, next_sentence, return_tensors='pt')\n",
        "print(f'encoding:{encoding}')\n",
        "outputs = model2(**encoding)[0]\n",
        "print(f'outputs:{outputs}')\n",
        "softmax = F.softmax(outputs, dim = 1)\n",
        "print(softmax)"
      ]
    },
    {
      "cell_type": "markdown",
      "id": "7c50a776-175e-4254-988e-b1a64683d8f4",
      "metadata": {
        "id": "7c50a776-175e-4254-988e-b1a64683d8f4"
      },
      "source": [
        "## 5. BERT を好みの課題に使用する\n",
        "\n",
        "- テキスト要約，質問応答，および基本的な言語モデルは特に重要だが，多くの場合，特に研究において，他の不特定多数の課題に BERT を使用したいと考える人がいる。\n",
        "    1. その方法は BERT の積み重ねられたエンコーダの生の出力を取り，\n",
        "    2. それに自分の特定のモデル(最も一般的には線形層) を取り付け，\n",
        "    3. そしてそのモデルを自分の特定のデータセット上で微調整することである。\n",
        "\n",
        "Pytorch で Hugging Face 変換ライブラリを使用してこれを行う場合，このような Pytorch の深層学習モデルとして設定するのが最善である。"
      ]
    },
    {
      "cell_type": "code",
      "execution_count": null,
      "id": "b3695153-c19b-45b4-8912-6b73b6c859e4",
      "metadata": {
        "id": "b3695153-c19b-45b4-8912-6b73b6c859e4"
      },
      "outputs": [],
      "source": [
        "from transformers import BertModel\n",
        "import torch.nn as nn\n",
        "\n",
        "class Bert_Model(nn.Module):\n",
        "    def __init__(self, classes):\n",
        "        super(Bert_Model, self).__init__()\n",
        "        \n",
        "        model_ja_name = 'cl-tohoku/bert-base-japanese-whole-word-masking'\n",
        "        self.bert = BertModel.from_pretrained(model_ja_name)\n",
        "        self.out = nn.Linear(self.bert.config.hidden_size, classes)\n",
        "        \n",
        "    def forward(self, input):\n",
        "        _, output = self.bert(**input)\n",
        "        out = self.out(output)\n",
        "        return out\n",
        "    \n",
        "bert_ja = Bert_Model(3)"
      ]
    },
    {
      "cell_type": "code",
      "execution_count": null,
      "id": "68fcea2b-81d3-4f22-b978-2268f675f5c8",
      "metadata": {
        "id": "68fcea2b-81d3-4f22-b978-2268f675f5c8"
      },
      "outputs": [],
      "source": [
        "print(tknz.convert_ids_to_tokens(top10))\n",
        "print(text)\n",
        "print(text.replace(tknz.mask_token, 'はっきり'))\n",
        "tknz.decode([3])"
      ]
    },
    {
      "cell_type": "code",
      "execution_count": null,
      "id": "0f72ba9b-2d0e-4c4c-ba31-19a1a2a955e9",
      "metadata": {
        "id": "0f72ba9b-2d0e-4c4c-ba31-19a1a2a955e9"
      },
      "outputs": [],
      "source": [
        "import os\n",
        "\n",
        "with open('../../2022jlpt/2022_0515minnchi_sents.txt', 'r', encoding='utf-8') as f:\n",
        "    lines = f.readlines()\n",
        "sents = [line.strip() for line in lines]"
      ]
    },
    {
      "cell_type": "code",
      "execution_count": null,
      "id": "c3536674-133f-43b1-9f76-89fac21f13d1",
      "metadata": {
        "id": "c3536674-133f-43b1-9f76-89fac21f13d1"
      },
      "outputs": [],
      "source": [
        "%%time \n",
        "\n",
        "from tokenizers import ByteLevelBPETokenizer\n",
        "\n",
        "paths = ['../../2022jlpt/2022_0515minnchi_sents.txt']\n",
        "\n",
        "# Initialize a tokenizer\n",
        "tokenizer = ByteLevelBPETokenizer()\n",
        "\n",
        "# Customize training\n",
        "tokenizer.train(files=paths, vocab_size=52_000, min_frequency=2, special_tokens=[\n",
        "    \"<s>\",\n",
        "    \"<pad>\",\n",
        "    \"</s>\",\n",
        "    \"<unk>\",\n",
        "    \"<mask>\",\n",
        "])"
      ]
    },
    {
      "cell_type": "code",
      "execution_count": null,
      "id": "a17a8535-76dc-466b-a540-48f045ad86ab",
      "metadata": {
        "id": "a17a8535-76dc-466b-a540-48f045ad86ab"
      },
      "outputs": [],
      "source": [
        "!mkdir 2022_0517Minnichi\n",
        "tokenizer.save_model(\"2022_0517Minnichi\")"
      ]
    },
    {
      "cell_type": "code",
      "execution_count": null,
      "id": "999af9f1-bf6d-45b4-8cab-ac23c371aaa2",
      "metadata": {
        "id": "999af9f1-bf6d-45b4-8cab-ac23c371aaa2"
      },
      "outputs": [],
      "source": [
        "tokenizer.get_vocab_size()"
      ]
    },
    {
      "cell_type": "markdown",
      "id": "28418541-9338-4c17-a8cb-ebd30084baa1",
      "metadata": {
        "id": "28418541-9338-4c17-a8cb-ebd30084baa1"
      },
      "source": [
        "以下は，`~/study/study/2022stockmarkteam_bert-book.git/Chapter9.ipynb"
      ]
    },
    {
      "cell_type": "code",
      "execution_count": null,
      "id": "9da3d3e4-e53e-40b3-91e0-71222e011739",
      "metadata": {
        "id": "9da3d3e4-e53e-40b3-91e0-71222e011739"
      },
      "outputs": [],
      "source": [
        "# 9-3\n",
        "import random\n",
        "from tqdm import tqdm\n",
        "import unicodedata\n",
        "\n",
        "import pandas as pd\n",
        "import torch\n",
        "from torch.utils.data import DataLoader\n",
        "from transformers import BertJapaneseTokenizer, BertForMaskedLM\n",
        "import pytorch_lightning as pl\n",
        "\n",
        "# 日本語の事前学習済みモデル\n",
        "MODEL_NAME = 'cl-tohoku/bert-base-japanese-whole-word-masking'"
      ]
    },
    {
      "cell_type": "code",
      "execution_count": null,
      "id": "1a1821cc-53d9-4d41-b8bc-aee2426bab8f",
      "metadata": {
        "id": "1a1821cc-53d9-4d41-b8bc-aee2426bab8f"
      },
      "outputs": [],
      "source": [
        "# 9-4\n",
        "class SC_tokenizer(BertJapaneseTokenizer):\n",
        "       \n",
        "    def encode_plus_tagged(\n",
        "        self, wrong_text, correct_text, max_length=128\n",
        "    ):\n",
        "        \"\"\"\n",
        "        ファインチューニング時に使用。\n",
        "        誤変換を含む文章と正しい文章を入力とし、\n",
        "        符号化を行いBERTに入力できる形式にする。\n",
        "        \"\"\"\n",
        "        # 誤変換した文章をトークン化し、符号化\n",
        "        encoding = self(\n",
        "            wrong_text, \n",
        "            max_length=max_length, \n",
        "            padding='max_length', \n",
        "            truncation=True\n",
        "        )\n",
        "        # 正しい文章をトークン化し、符号化\n",
        "        encoding_correct = self(\n",
        "            correct_text,\n",
        "            max_length=max_length,\n",
        "            padding='max_length',\n",
        "            truncation=True\n",
        "        ) \n",
        "        # 正しい文章の符号をラベルとする\n",
        "        encoding['labels'] = encoding_correct['input_ids'] \n",
        "\n",
        "        return encoding\n",
        "\n",
        "    def encode_plus_untagged(\n",
        "        self, text, max_length=None, return_tensors=None\n",
        "    ):\n",
        "        \"\"\"\n",
        "        文章を符号化し、それぞれのトークンの文章中の位置も特定しておく。\n",
        "        \"\"\"\n",
        "        # 文章のトークン化を行い、\n",
        "        # それぞれのトークンと文章中の文字列を対応づける。\n",
        "        tokens = [] # トークンを追加していく。\n",
        "        tokens_original = [] # トークンに対応する文章中の文字列を追加していく。\n",
        "        words = self.word_tokenizer.tokenize(text) # MeCabで単語に分割\n",
        "        for word in words:\n",
        "            # 単語をサブワードに分割\n",
        "            tokens_word = self.subword_tokenizer.tokenize(word) \n",
        "            tokens.extend(tokens_word)\n",
        "            if tokens_word[0] == '[UNK]': # 未知語への対応\n",
        "                tokens_original.append(word)\n",
        "            else:\n",
        "                tokens_original.extend([\n",
        "                    token.replace('##','') for token in tokens_word\n",
        "                ])\n",
        "\n",
        "        # 各トークンの文章中での位置を調べる。（空白の位置を考慮する）\n",
        "        position = 0\n",
        "        spans = [] # トークンの位置を追加していく。\n",
        "        for token in tokens_original:\n",
        "            l = len(token)\n",
        "            while 1:\n",
        "                if token != text[position:position+l]:\n",
        "                    position += 1\n",
        "                else:\n",
        "                    spans.append([position, position+l])\n",
        "                    position += l\n",
        "                    break\n",
        "\n",
        "        # 符号化を行いBERTに入力できる形式にする。\n",
        "        input_ids = self.convert_tokens_to_ids(tokens) \n",
        "        encoding = self.prepare_for_model(\n",
        "            input_ids, \n",
        "            max_length=max_length, \n",
        "            padding='max_length' if max_length else False, \n",
        "            truncation=True if max_length else False\n",
        "        )\n",
        "        sequence_length = len(encoding['input_ids'])\n",
        "        # 特殊トークン[CLS]に対するダミーのspanを追加。\n",
        "        spans = [[-1, -1]] + spans[:sequence_length-2] \n",
        "        # 特殊トークン[SEP]、[PAD]に対するダミーのspanを追加。\n",
        "        spans = spans + [[-1, -1]] * ( sequence_length - len(spans) ) \n",
        "\n",
        "        # 必要に応じてtorch.Tensorにする。\n",
        "        if return_tensors == 'pt':\n",
        "            encoding = { k: torch.tensor([v]) for k, v in encoding.items() }\n",
        "\n",
        "        return encoding, spans\n",
        "\n",
        "    def convert_bert_output_to_text(self, text, labels, spans):\n",
        "        \"\"\"\n",
        "        推論時に使用。\n",
        "        文章と、各トークンのラベルの予測値、文章中での位置を入力とする。\n",
        "        そこから、BERTによって予測された文章に変換。\n",
        "        \"\"\"\n",
        "        assert len(spans) == len(labels)\n",
        "\n",
        "        # labels, spansから特殊トークンに対応する部分を取り除く\n",
        "        labels = [label for label, span in zip(labels, spans) if span[0]!=-1]\n",
        "        spans = [span for span in spans if span[0]!=-1]\n",
        "\n",
        "        # BERTが予測した文章を作成\n",
        "        predicted_text = ''\n",
        "        position = 0\n",
        "        for label, span in zip(labels, spans):\n",
        "            start, end = span\n",
        "            if position != start: # 空白の処理\n",
        "                predicted_text += text[position:start]\n",
        "            predicted_token = self.convert_ids_to_tokens(label)\n",
        "            predicted_token = predicted_token.replace('##', '')\n",
        "            predicted_token = unicodedata.normalize(\n",
        "                'NFKC', predicted_token\n",
        "            ) \n",
        "            predicted_text += predicted_token\n",
        "            position = end\n",
        "        \n",
        "        return predicted_text"
      ]
    },
    {
      "cell_type": "code",
      "execution_count": null,
      "id": "c985d0f8-5ad2-45f6-9846-56a1b61cc60f",
      "metadata": {
        "id": "c985d0f8-5ad2-45f6-9846-56a1b61cc60f"
      },
      "outputs": [],
      "source": [
        "# 9-5\n",
        "tokenizer = SC_tokenizer.from_pretrained(MODEL_NAME)"
      ]
    },
    {
      "cell_type": "code",
      "execution_count": null,
      "id": "a46c9c8e-ab57-4d45-814f-7a430c65dddd",
      "metadata": {
        "id": "a46c9c8e-ab57-4d45-814f-7a430c65dddd"
      },
      "outputs": [],
      "source": [
        "# 9-6\n",
        "wrong_text = '優勝トロフィーを変換した'\n",
        "correct_text = '優勝トロフィーを返還した'\n",
        "encoding = tokenizer.encode_plus_tagged(\n",
        "    wrong_text, correct_text, max_length=12\n",
        ")\n",
        "print(encoding)"
      ]
    },
    {
      "cell_type": "code",
      "execution_count": null,
      "id": "2fde50e2-1c6a-4c86-aaac-bb8554a5831e",
      "metadata": {
        "id": "2fde50e2-1c6a-4c86-aaac-bb8554a5831e"
      },
      "outputs": [],
      "source": [
        "# 9-7\n",
        "wrong_text = '優勝トロフィーを変換した'\n",
        "encoding, spans = tokenizer.encode_plus_untagged(\n",
        "    wrong_text, return_tensors='pt'\n",
        ")\n",
        "print('# encoding')\n",
        "print(encoding)\n",
        "print('# spans')\n",
        "print(spans)"
      ]
    },
    {
      "cell_type": "code",
      "execution_count": null,
      "id": "f46892da-5a72-485f-8ad1-83cbbbfec200",
      "metadata": {
        "id": "f46892da-5a72-485f-8ad1-83cbbbfec200"
      },
      "outputs": [],
      "source": [
        "# 9-8\n",
        "predicted_labels = [2, 759, 18204, 11, 8274, 15, 10, 3]\n",
        "predicted_text = tokenizer.convert_bert_output_to_text(\n",
        "    wrong_text, predicted_labels, spans\n",
        ")\n",
        "print(predicted_text)"
      ]
    },
    {
      "cell_type": "code",
      "execution_count": null,
      "id": "b9ccbc52-a3be-4754-9d12-9b2ea9efdea0",
      "metadata": {
        "id": "b9ccbc52-a3be-4754-9d12-9b2ea9efdea0"
      },
      "outputs": [],
      "source": [
        "# 9-9\n",
        "bert_mlm = BertForMaskedLM.from_pretrained(MODEL_NAME)\n",
        "#bert_mlm = bert_mlm.cuda()\n",
        "bert_mlm = bert_mlm.cpu()"
      ]
    },
    {
      "cell_type": "code",
      "execution_count": null,
      "id": "5b1ded56-fc2b-4ddc-9da9-8eba5e76c423",
      "metadata": {
        "id": "5b1ded56-fc2b-4ddc-9da9-8eba5e76c423"
      },
      "outputs": [],
      "source": [
        "# 9-10\n",
        "text = '優勝トロフィーを変換した。'\n",
        "\n",
        "# 符号化とともに各トークンの文章中の位置を計算しておく。\n",
        "encoding, spans = tokenizer.encode_plus_untagged(\n",
        "    text, return_tensors='pt'\n",
        ")\n",
        "encoding = { k: v.cpu() for k, v in encoding.items() }\n",
        "#encoding = { k: v.cuda() for k, v in encoding.items() }\n",
        "\n",
        "# BERTに入力し、トークン毎にスコアの最も高いトークンのIDを予測値とする。\n",
        "with torch.no_grad():\n",
        "    output = bert_mlm(**encoding)\n",
        "    scores = output.logits\n",
        "    labels_predicted = scores[0].argmax(-1).cpu().numpy().tolist()\n",
        "    \n",
        "# ラベル列を文章に変換\n",
        "predict_text = tokenizer.convert_bert_output_to_text(\n",
        "    text, labels_predicted, spans\n",
        ")"
      ]
    },
    {
      "cell_type": "code",
      "execution_count": null,
      "id": "c739be6e-ae96-42f2-863f-655e28c73023",
      "metadata": {
        "id": "c739be6e-ae96-42f2-863f-655e28c73023"
      },
      "outputs": [],
      "source": [
        "# 9-11\n",
        "data = [\n",
        "    {\n",
        "        'wrong_text': '優勝トロフィーを変換した。',\n",
        "        'correct_text': '優勝トロフィーを返還した。',\n",
        "    },\n",
        "    {\n",
        "        'wrong_text': '人と森は強制している。',\n",
        "        'correct_text': '人と森は共生している。',\n",
        "    }\n",
        "]\n",
        "\n",
        "# 各データを符号化し、データローダへ入力できるようにする。\n",
        "max_length=32\n",
        "dataset_for_loader = []\n",
        "for sample in data:\n",
        "    wrong_text = sample['wrong_text']\n",
        "    correct_text = sample['correct_text']\n",
        "    encoding = tokenizer.encode_plus_tagged(\n",
        "        wrong_text, correct_text, max_length=max_length\n",
        "    )\n",
        "    encoding = { k: torch.tensor(v) for k, v in encoding.items() }\n",
        "    dataset_for_loader.append(encoding)\n",
        "\n",
        "# データローダを作成\n",
        "dataloader = DataLoader(dataset_for_loader, batch_size=2)\n",
        "\n",
        "# ミニバッチをBERTへ入力し、損失を計算。\n",
        "for batch in dataloader:\n",
        "    encoding = { k: v.cpu() for k, v in batch.items() }\n",
        "    #encoding = { k: v.cuda() for k, v in batch.items() }\n",
        "    output = bert_mlm(**encoding)\n",
        "    loss = output.loss # 損失"
      ]
    },
    {
      "cell_type": "code",
      "execution_count": null,
      "id": "4d8e37dd-d51f-454e-af65-92b7dd8ea93f",
      "metadata": {
        "id": "4d8e37dd-d51f-454e-af65-92b7dd8ea93f"
      },
      "outputs": [],
      "source": [
        "#9-12\n",
        "!curl -L \"https://nlp.ist.i.kyoto-u.ac.jp/DLcounter/lime.cgi?down=https://nlp.ist.i.kyoto-u.ac.jp/nl-resource/JWTD/jwtd.tar.gz&name=JWTD.tar.gz\" -o JWTD.tar.gz\n",
        "!tar zxvf JWTD.tar.gz"
      ]
    },
    {
      "cell_type": "code",
      "execution_count": null,
      "id": "8331a992-d66e-4068-b7cb-9ec9f189c569",
      "metadata": {
        "id": "8331a992-d66e-4068-b7cb-9ec9f189c569"
      },
      "outputs": [],
      "source": [
        "# 9-13\n",
        "def create_dataset(data_df):\n",
        "\n",
        "    tokenizer = SC_tokenizer.from_pretrained(MODEL_NAME)\n",
        "\n",
        "    def check_token_count(row):\n",
        "        \"\"\"\n",
        "        誤変換の文章と正しい文章でトークンに対応がつくかどうかを判定。\n",
        "        （条件は上の文章を参照）\n",
        "        \"\"\"\n",
        "        wrong_text_tokens = tokenizer.tokenize(row['wrong_text'])\n",
        "        correct_text_tokens = tokenizer.tokenize(row['correct_text'])\n",
        "        if len(wrong_text_tokens) != len(correct_text_tokens):\n",
        "            return False\n",
        "        \n",
        "        diff_count = 0\n",
        "        threthold_count = 2\n",
        "        for wrong_text_token, correct_text_token \\\n",
        "            in zip(wrong_text_tokens, correct_text_tokens):\n",
        "\n",
        "            if wrong_text_token != correct_text_token:\n",
        "                diff_count += 1\n",
        "                if diff_count > threthold_count:\n",
        "                    return False\n",
        "        return True\n",
        "\n",
        "    def normalize(text):\n",
        "        \"\"\"\n",
        "        文字列の正規化\n",
        "        \"\"\"\n",
        "        text = text.strip()\n",
        "        text = unicodedata.normalize('NFKC', text)\n",
        "        return text\n",
        "\n",
        "    # 漢字の誤変換のデータのみを抜き出す。\n",
        "    category_type = 'kanji-conversion'\n",
        "    data_df.query('category == @category_type', inplace=True) \n",
        "    data_df.rename(\n",
        "        columns={'pre_text': 'wrong_text', 'post_text': 'correct_text'}, \n",
        "        inplace=True\n",
        "    )\n",
        "    \n",
        "    # 誤変換と正しい文章をそれぞれ正規化し、\n",
        "    # それらの間でトークン列に対応がつくもののみを抜き出す。\n",
        "    data_df['wrong_text'] = data_df['wrong_text'].map(normalize) \n",
        "    data_df['correct_text'] = data_df['correct_text'].map(normalize)\n",
        "    kanji_conversion_num = len(data_df)\n",
        "    data_df = data_df[data_df.apply(check_token_count, axis=1)]\n",
        "    same_tokens_count_num = len(data_df)\n",
        "    print(\n",
        "        f'- 漢字誤変換の総数：{kanji_conversion_num}',\n",
        "        f'- トークンの対応関係のつく文章の総数: {same_tokens_count_num}',\n",
        "        f'  (全体の{same_tokens_count_num/kanji_conversion_num*100:.0f}%)',\n",
        "        sep = '\\n'\n",
        "    )\n",
        "    return data_df[['wrong_text', 'correct_text']].to_dict(orient='records')\n",
        "\n",
        "# データのロード\n",
        "train_df = pd.read_json(\n",
        "    './jwtd/train.jsonl', orient='records', lines=True\n",
        ")\n",
        "test_df = pd.read_json(\n",
        "    './jwtd/test.jsonl', orient='records', lines=True\n",
        ")\n",
        "\n",
        "# 学習用と検証用データ\n",
        "print('学習と検証用のデータセット：')\n",
        "dataset = create_dataset(train_df)\n",
        "random.shuffle(dataset)\n",
        "n = len(dataset)\n",
        "n_train = int(n*0.8)\n",
        "dataset_train = dataset[:n_train]\n",
        "dataset_val = dataset[n_train:]\n",
        "\n",
        "# テストデータ\n",
        "print('テスト用のデータセット：')\n",
        "dataset_test = create_dataset(test_df)"
      ]
    },
    {
      "cell_type": "code",
      "execution_count": null,
      "id": "f0754c80-9294-4958-abf6-fe632d1f4697",
      "metadata": {
        "id": "f0754c80-9294-4958-abf6-fe632d1f4697"
      },
      "outputs": [],
      "source": [
        "# 9-14\n",
        "def create_dataset_for_loader(tokenizer, dataset, max_length):\n",
        "    \"\"\"\n",
        "    データセットをデータローダに入力可能な形式にする。\n",
        "    \"\"\"\n",
        "    dataset_for_loader = []\n",
        "    for sample in tqdm(dataset):\n",
        "        wrong_text = sample['wrong_text']\n",
        "        correct_text = sample['correct_text']\n",
        "        encoding = tokenizer.encode_plus_tagged(\n",
        "            wrong_text, correct_text, max_length=max_length\n",
        "        )\n",
        "        encoding = { k: torch.tensor(v) for k, v in encoding.items() }\n",
        "        dataset_for_loader.append(encoding)\n",
        "    return dataset_for_loader\n",
        "\n",
        "tokenizer = SC_tokenizer.from_pretrained(MODEL_NAME)\n",
        "\n",
        "# データセットの作成\n",
        "max_length = 32\n",
        "dataset_train_for_loader = create_dataset_for_loader(tokenizer, \n",
        "                                                     dataset_train, \n",
        "                                                     max_length)\n",
        "dataset_val_for_loader = create_dataset_for_loader(tokenizer, \n",
        "                                                   dataset_val, \n",
        "                                                   max_length)\n",
        "\n",
        "# データローダの作成\n",
        "dataloader_train = DataLoader(dataset_train_for_loader, \n",
        "                              batch_size=32, \n",
        "                              shuffle=True,\n",
        "                              num_workers=0)\n",
        "dataloader_val = DataLoader(dataset_val_for_loader, \n",
        "                            batch_size=256,\n",
        "                            num_workers=0)"
      ]
    },
    {
      "cell_type": "code",
      "execution_count": null,
      "id": "08c2b012-4d76-4c21-bb0b-28615437a5db",
      "metadata": {
        "id": "08c2b012-4d76-4c21-bb0b-28615437a5db"
      },
      "outputs": [],
      "source": [
        "# 9-15\n",
        "class BertForMaskedLM_pl(pl.LightningModule):\n",
        "        \n",
        "    def __init__(self, model_name, lr):\n",
        "        super().__init__()\n",
        "        self.save_hyperparameters()\n",
        "        self.bert_mlm = BertForMaskedLM.from_pretrained(model_name)\n",
        "        \n",
        "    def training_step(self, batch, batch_idx):\n",
        "        output = self.bert_mlm(**batch)\n",
        "        loss = output.loss\n",
        "        self.log('train_loss', loss)\n",
        "        return loss\n",
        "        \n",
        "    def validation_step(self, batch, batch_idx):\n",
        "        output = self.bert_mlm(**batch)\n",
        "        val_loss = output.loss\n",
        "        self.log('val_loss', val_loss)\n",
        "   \n",
        "    def configure_optimizers(self):\n",
        "        return torch.optim.Adam(self.parameters(), lr=self.hparams.lr)\n",
        "\n",
        "checkpoint = pl.callbacks.ModelCheckpoint(\n",
        "    monitor='val_loss',\n",
        "    mode='min',\n",
        "    save_top_k=1,\n",
        "    save_weights_only=True,\n",
        "    dirpath='model/'\n",
        ")\n",
        "\n",
        "trainer = pl.Trainer(\n",
        "    #gpus=1,\n",
        "    max_epochs=5,\n",
        "    callbacks=[checkpoint]\n",
        ")\n",
        "\n",
        "# ファインチューニング\n",
        "model = BertForMaskedLM_pl(MODEL_NAME, lr=1e-5)\n",
        "#trainer.fit(model, dataloader_train, dataloader_val)\n",
        "best_model_path = checkpoint.best_model_path"
      ]
    },
    {
      "cell_type": "code",
      "execution_count": null,
      "id": "7e5af66c-a7d4-4fdc-9e0f-0f14e1164b8b",
      "metadata": {
        "id": "7e5af66c-a7d4-4fdc-9e0f-0f14e1164b8b"
      },
      "outputs": [],
      "source": [
        "# 9-16\n",
        "def predict(text, tokenizer, bert_mlm):\n",
        "    \"\"\"\n",
        "    文章を入力として受け、BERTが予測した文章を出力\n",
        "    \"\"\"\n",
        "    # 符号化\n",
        "    encoding, spans = tokenizer.encode_plus_untagged(\n",
        "        text, return_tensors='pt'\n",
        "    ) \n",
        "    encoding = { k: v.cuda() for k, v in encoding.items() }\n",
        "\n",
        "    # ラベルの予測値の計算\n",
        "    with torch.no_grad():\n",
        "        output = bert_mlm(**encoding)\n",
        "        scores = output.logits\n",
        "        labels_predicted = scores[0].argmax(-1).cpu().numpy().tolist()\n",
        "\n",
        "    # ラベル列を文章に変換\n",
        "    predict_text = tokenizer.convert_bert_output_to_text(\n",
        "        text, labels_predicted, spans\n",
        "    )\n",
        "\n",
        "    return predict_text\n",
        "\n",
        "# いくつかの例に対してBERTによる文章校正を行ってみる。\n",
        "text_list = [\n",
        "    'ユーザーの試行に合わせた楽曲を配信する。',\n",
        "    'メールに明日の会議の史料を添付した。',\n",
        "    '乳酸菌で牛乳を発行するとヨーグルトができる。',\n",
        "    '突然、子供が帰省を発した。'\n",
        "]\n",
        "\n",
        "# トークナイザ、ファインチューニング済みのモデルのロード\n",
        "tokenizer = SC_tokenizer.from_pretrained(MODEL_NAME)\n",
        "model = BertForMaskedLM_pl.load_from_checkpoint(best_model_path)\n",
        "#bert_mlm = model.bert_mlm.cuda()\n",
        "\n",
        "for text in text_list:\n",
        "    predict_text = predict(text, tokenizer, bert_mlm) # BERTによる予測\n",
        "    print('---')\n",
        "    print(f'入力：{text}')\n",
        "    print(f'出力：{predict_text}')"
      ]
    },
    {
      "cell_type": "code",
      "execution_count": null,
      "id": "eddf39c9-76f2-46f9-9dae-3ee009e071d1",
      "metadata": {
        "id": "eddf39c9-76f2-46f9-9dae-3ee009e071d1"
      },
      "outputs": [],
      "source": [
        "# 9-17\n",
        "# BERTで予測を行い、正解数を数える。\n",
        "correct_num = 0 \n",
        "for sample in tqdm(dataset_test):\n",
        "    wrong_text = sample['wrong_text']\n",
        "    correct_text = sample['correct_text']\n",
        "    predict_text = predict(wrong_text, tokenizer, bert_mlm) # BERT予測\n",
        "   \n",
        "    if correct_text == predict_text: # 正解の場合\n",
        "        correct_num += 1\n",
        "\n",
        "print(f'Accuracy: {correct_num/len(dataset_test):.2f}')"
      ]
    },
    {
      "cell_type": "code",
      "execution_count": null,
      "id": "351f3444-7855-47d9-8c12-a136639c276a",
      "metadata": {
        "id": "351f3444-7855-47d9-8c12-a136639c276a"
      },
      "outputs": [],
      "source": [
        "# 9-18\n",
        "correct_position_num = 0 # 正しく誤変換の漢字を特定できたデータの数\n",
        "for sample in tqdm(dataset_test):\n",
        "    wrong_text = sample['wrong_text']\n",
        "    correct_text = sample['correct_text']\n",
        "    \n",
        "    # 符号化\n",
        "    encoding = tokenizer(wrong_text)\n",
        "    wrong_input_ids = encoding['input_ids'] # 誤変換の文の符合列\n",
        "    encoding = {k: torch.tensor([v]).cuda() for k,v in encoding.items()}\n",
        "    correct_encoding = tokenizer(correct_text)\n",
        "    correct_input_ids = correct_encoding['input_ids'] # 正しい文の符合列\n",
        "    \n",
        "    # 文章を予測\n",
        "    with torch.no_grad():\n",
        "        output = bert_mlm(**encoding)\n",
        "        scores = output.logits\n",
        "        # 予測された文章のトークンのID\n",
        "        predict_input_ids = scores[0].argmax(-1).cpu().numpy().tolist() \n",
        "\n",
        "    # 特殊トークンを取り除く\n",
        "    wrong_input_ids = wrong_input_ids[1:-1]\n",
        "    correct_input_ids =  correct_input_ids[1:-1]\n",
        "    predict_input_ids =  predict_input_ids[1:-1]\n",
        "    \n",
        "    # 誤変換した漢字を特定できているかを判定\n",
        "    # 符合列を比較する。\n",
        "    detect_flag = True\n",
        "    for wrong_token, correct_token, predict_token \\\n",
        "        in zip(wrong_input_ids, correct_input_ids, predict_input_ids):\n",
        "\n",
        "        if wrong_token == correct_token: # 正しいトークン\n",
        "            # 正しいトークンなのに誤って別のトークンに変換している場合\n",
        "            if wrong_token != predict_token: \n",
        "                detect_flag = False\n",
        "                break\n",
        "        else: # 誤変換のトークン\n",
        "            # 誤変換のトークンなのに、そのままにしている場合\n",
        "            if wrong_token == predict_token: \n",
        "                detect_flag = False\n",
        "                break\n",
        "\n",
        "    if detect_flag: # 誤変換の漢字の位置を正しく特定できた場合\n",
        "        correct_position_num += 1\n",
        "        \n",
        "print(f'Accuracy: {correct_position_num/len(dataset_test):.2f}')"
      ]
    }
  ],
  "metadata": {
    "kernelspec": {
      "display_name": "Python 3 (ipykernel)",
      "language": "python",
      "name": "python3"
    },
    "language_info": {
      "codemirror_mode": {
        "name": "ipython",
        "version": 3
      },
      "file_extension": ".py",
      "mimetype": "text/x-python",
      "name": "python",
      "nbconvert_exporter": "python",
      "pygments_lexer": "ipython3",
      "version": "3.9.12"
    },
    "colab": {
      "name": "2022_0629onomatopea_sentence_bert.ipynb",
      "provenance": [],
      "include_colab_link": true
    },
    "accelerator": "GPU",
    "gpuClass": "standard",
    "widgets": {
      "application/vnd.jupyter.widget-state+json": {
        "7730c19932ae4188888b41437d12d029": {
          "model_module": "@jupyter-widgets/controls",
          "model_name": "HBoxModel",
          "model_module_version": "1.5.0",
          "state": {
            "_dom_classes": [],
            "_model_module": "@jupyter-widgets/controls",
            "_model_module_version": "1.5.0",
            "_model_name": "HBoxModel",
            "_view_count": null,
            "_view_module": "@jupyter-widgets/controls",
            "_view_module_version": "1.5.0",
            "_view_name": "HBoxView",
            "box_style": "",
            "children": [
              "IPY_MODEL_0c31e3988e754fca9608df9fa5671c8b",
              "IPY_MODEL_73176000ec644ef4b0936034ef499539",
              "IPY_MODEL_7d1c98283f0c4a9fa0ec94c0926bcafb"
            ],
            "layout": "IPY_MODEL_0f252594f19b4c1fa92513c967430991"
          }
        },
        "0c31e3988e754fca9608df9fa5671c8b": {
          "model_module": "@jupyter-widgets/controls",
          "model_name": "HTMLModel",
          "model_module_version": "1.5.0",
          "state": {
            "_dom_classes": [],
            "_model_module": "@jupyter-widgets/controls",
            "_model_module_version": "1.5.0",
            "_model_name": "HTMLModel",
            "_view_count": null,
            "_view_module": "@jupyter-widgets/controls",
            "_view_module_version": "1.5.0",
            "_view_name": "HTMLView",
            "description": "",
            "description_tooltip": null,
            "layout": "IPY_MODEL_f7f93583970545f1b47ec2b4650293b8",
            "placeholder": "​",
            "style": "IPY_MODEL_37cf0b32c05241a0bd35bdbb5a4dee08",
            "value": "Downloading: 100%"
          }
        },
        "73176000ec644ef4b0936034ef499539": {
          "model_module": "@jupyter-widgets/controls",
          "model_name": "FloatProgressModel",
          "model_module_version": "1.5.0",
          "state": {
            "_dom_classes": [],
            "_model_module": "@jupyter-widgets/controls",
            "_model_module_version": "1.5.0",
            "_model_name": "FloatProgressModel",
            "_view_count": null,
            "_view_module": "@jupyter-widgets/controls",
            "_view_module_version": "1.5.0",
            "_view_name": "ProgressView",
            "bar_style": "success",
            "description": "",
            "description_tooltip": null,
            "layout": "IPY_MODEL_9e549906d4364ad98bf8173efbb25bad",
            "max": 257706,
            "min": 0,
            "orientation": "horizontal",
            "style": "IPY_MODEL_4883376dd53448e8ab8fa4b6343da67c",
            "value": 257706
          }
        },
        "7d1c98283f0c4a9fa0ec94c0926bcafb": {
          "model_module": "@jupyter-widgets/controls",
          "model_name": "HTMLModel",
          "model_module_version": "1.5.0",
          "state": {
            "_dom_classes": [],
            "_model_module": "@jupyter-widgets/controls",
            "_model_module_version": "1.5.0",
            "_model_name": "HTMLModel",
            "_view_count": null,
            "_view_module": "@jupyter-widgets/controls",
            "_view_module_version": "1.5.0",
            "_view_name": "HTMLView",
            "description": "",
            "description_tooltip": null,
            "layout": "IPY_MODEL_6b9d967705ec4c449ca8c77c4522c816",
            "placeholder": "​",
            "style": "IPY_MODEL_d18d811944a34297917c8d470d6038f7",
            "value": " 252k/252k [00:00&lt;00:00, 387kB/s]"
          }
        },
        "0f252594f19b4c1fa92513c967430991": {
          "model_module": "@jupyter-widgets/base",
          "model_name": "LayoutModel",
          "model_module_version": "1.2.0",
          "state": {
            "_model_module": "@jupyter-widgets/base",
            "_model_module_version": "1.2.0",
            "_model_name": "LayoutModel",
            "_view_count": null,
            "_view_module": "@jupyter-widgets/base",
            "_view_module_version": "1.2.0",
            "_view_name": "LayoutView",
            "align_content": null,
            "align_items": null,
            "align_self": null,
            "border": null,
            "bottom": null,
            "display": null,
            "flex": null,
            "flex_flow": null,
            "grid_area": null,
            "grid_auto_columns": null,
            "grid_auto_flow": null,
            "grid_auto_rows": null,
            "grid_column": null,
            "grid_gap": null,
            "grid_row": null,
            "grid_template_areas": null,
            "grid_template_columns": null,
            "grid_template_rows": null,
            "height": null,
            "justify_content": null,
            "justify_items": null,
            "left": null,
            "margin": null,
            "max_height": null,
            "max_width": null,
            "min_height": null,
            "min_width": null,
            "object_fit": null,
            "object_position": null,
            "order": null,
            "overflow": null,
            "overflow_x": null,
            "overflow_y": null,
            "padding": null,
            "right": null,
            "top": null,
            "visibility": null,
            "width": null
          }
        },
        "f7f93583970545f1b47ec2b4650293b8": {
          "model_module": "@jupyter-widgets/base",
          "model_name": "LayoutModel",
          "model_module_version": "1.2.0",
          "state": {
            "_model_module": "@jupyter-widgets/base",
            "_model_module_version": "1.2.0",
            "_model_name": "LayoutModel",
            "_view_count": null,
            "_view_module": "@jupyter-widgets/base",
            "_view_module_version": "1.2.0",
            "_view_name": "LayoutView",
            "align_content": null,
            "align_items": null,
            "align_self": null,
            "border": null,
            "bottom": null,
            "display": null,
            "flex": null,
            "flex_flow": null,
            "grid_area": null,
            "grid_auto_columns": null,
            "grid_auto_flow": null,
            "grid_auto_rows": null,
            "grid_column": null,
            "grid_gap": null,
            "grid_row": null,
            "grid_template_areas": null,
            "grid_template_columns": null,
            "grid_template_rows": null,
            "height": null,
            "justify_content": null,
            "justify_items": null,
            "left": null,
            "margin": null,
            "max_height": null,
            "max_width": null,
            "min_height": null,
            "min_width": null,
            "object_fit": null,
            "object_position": null,
            "order": null,
            "overflow": null,
            "overflow_x": null,
            "overflow_y": null,
            "padding": null,
            "right": null,
            "top": null,
            "visibility": null,
            "width": null
          }
        },
        "37cf0b32c05241a0bd35bdbb5a4dee08": {
          "model_module": "@jupyter-widgets/controls",
          "model_name": "DescriptionStyleModel",
          "model_module_version": "1.5.0",
          "state": {
            "_model_module": "@jupyter-widgets/controls",
            "_model_module_version": "1.5.0",
            "_model_name": "DescriptionStyleModel",
            "_view_count": null,
            "_view_module": "@jupyter-widgets/base",
            "_view_module_version": "1.2.0",
            "_view_name": "StyleView",
            "description_width": ""
          }
        },
        "9e549906d4364ad98bf8173efbb25bad": {
          "model_module": "@jupyter-widgets/base",
          "model_name": "LayoutModel",
          "model_module_version": "1.2.0",
          "state": {
            "_model_module": "@jupyter-widgets/base",
            "_model_module_version": "1.2.0",
            "_model_name": "LayoutModel",
            "_view_count": null,
            "_view_module": "@jupyter-widgets/base",
            "_view_module_version": "1.2.0",
            "_view_name": "LayoutView",
            "align_content": null,
            "align_items": null,
            "align_self": null,
            "border": null,
            "bottom": null,
            "display": null,
            "flex": null,
            "flex_flow": null,
            "grid_area": null,
            "grid_auto_columns": null,
            "grid_auto_flow": null,
            "grid_auto_rows": null,
            "grid_column": null,
            "grid_gap": null,
            "grid_row": null,
            "grid_template_areas": null,
            "grid_template_columns": null,
            "grid_template_rows": null,
            "height": null,
            "justify_content": null,
            "justify_items": null,
            "left": null,
            "margin": null,
            "max_height": null,
            "max_width": null,
            "min_height": null,
            "min_width": null,
            "object_fit": null,
            "object_position": null,
            "order": null,
            "overflow": null,
            "overflow_x": null,
            "overflow_y": null,
            "padding": null,
            "right": null,
            "top": null,
            "visibility": null,
            "width": null
          }
        },
        "4883376dd53448e8ab8fa4b6343da67c": {
          "model_module": "@jupyter-widgets/controls",
          "model_name": "ProgressStyleModel",
          "model_module_version": "1.5.0",
          "state": {
            "_model_module": "@jupyter-widgets/controls",
            "_model_module_version": "1.5.0",
            "_model_name": "ProgressStyleModel",
            "_view_count": null,
            "_view_module": "@jupyter-widgets/base",
            "_view_module_version": "1.2.0",
            "_view_name": "StyleView",
            "bar_color": null,
            "description_width": ""
          }
        },
        "6b9d967705ec4c449ca8c77c4522c816": {
          "model_module": "@jupyter-widgets/base",
          "model_name": "LayoutModel",
          "model_module_version": "1.2.0",
          "state": {
            "_model_module": "@jupyter-widgets/base",
            "_model_module_version": "1.2.0",
            "_model_name": "LayoutModel",
            "_view_count": null,
            "_view_module": "@jupyter-widgets/base",
            "_view_module_version": "1.2.0",
            "_view_name": "LayoutView",
            "align_content": null,
            "align_items": null,
            "align_self": null,
            "border": null,
            "bottom": null,
            "display": null,
            "flex": null,
            "flex_flow": null,
            "grid_area": null,
            "grid_auto_columns": null,
            "grid_auto_flow": null,
            "grid_auto_rows": null,
            "grid_column": null,
            "grid_gap": null,
            "grid_row": null,
            "grid_template_areas": null,
            "grid_template_columns": null,
            "grid_template_rows": null,
            "height": null,
            "justify_content": null,
            "justify_items": null,
            "left": null,
            "margin": null,
            "max_height": null,
            "max_width": null,
            "min_height": null,
            "min_width": null,
            "object_fit": null,
            "object_position": null,
            "order": null,
            "overflow": null,
            "overflow_x": null,
            "overflow_y": null,
            "padding": null,
            "right": null,
            "top": null,
            "visibility": null,
            "width": null
          }
        },
        "d18d811944a34297917c8d470d6038f7": {
          "model_module": "@jupyter-widgets/controls",
          "model_name": "DescriptionStyleModel",
          "model_module_version": "1.5.0",
          "state": {
            "_model_module": "@jupyter-widgets/controls",
            "_model_module_version": "1.5.0",
            "_model_name": "DescriptionStyleModel",
            "_view_count": null,
            "_view_module": "@jupyter-widgets/base",
            "_view_module_version": "1.2.0",
            "_view_name": "StyleView",
            "description_width": ""
          }
        },
        "1684032f95d24dc1a4333d7d4400d152": {
          "model_module": "@jupyter-widgets/controls",
          "model_name": "HBoxModel",
          "model_module_version": "1.5.0",
          "state": {
            "_dom_classes": [],
            "_model_module": "@jupyter-widgets/controls",
            "_model_module_version": "1.5.0",
            "_model_name": "HBoxModel",
            "_view_count": null,
            "_view_module": "@jupyter-widgets/controls",
            "_view_module_version": "1.5.0",
            "_view_name": "HBoxView",
            "box_style": "",
            "children": [
              "IPY_MODEL_e3dd1d2639a240df9335284ca2c63b39",
              "IPY_MODEL_5c06e44e0afe4939aafdd980af57c85b",
              "IPY_MODEL_f56e56c7768442c0ba550d4f12687677"
            ],
            "layout": "IPY_MODEL_395101c0551a476cab408707398f32aa"
          }
        },
        "e3dd1d2639a240df9335284ca2c63b39": {
          "model_module": "@jupyter-widgets/controls",
          "model_name": "HTMLModel",
          "model_module_version": "1.5.0",
          "state": {
            "_dom_classes": [],
            "_model_module": "@jupyter-widgets/controls",
            "_model_module_version": "1.5.0",
            "_model_name": "HTMLModel",
            "_view_count": null,
            "_view_module": "@jupyter-widgets/controls",
            "_view_module_version": "1.5.0",
            "_view_name": "HTMLView",
            "description": "",
            "description_tooltip": null,
            "layout": "IPY_MODEL_9eea711396764999ac9a10c969592331",
            "placeholder": "​",
            "style": "IPY_MODEL_287e83254f734a99b21e9ba576843449",
            "value": "Downloading: 100%"
          }
        },
        "5c06e44e0afe4939aafdd980af57c85b": {
          "model_module": "@jupyter-widgets/controls",
          "model_name": "FloatProgressModel",
          "model_module_version": "1.5.0",
          "state": {
            "_dom_classes": [],
            "_model_module": "@jupyter-widgets/controls",
            "_model_module_version": "1.5.0",
            "_model_name": "FloatProgressModel",
            "_view_count": null,
            "_view_module": "@jupyter-widgets/controls",
            "_view_module_version": "1.5.0",
            "_view_name": "ProgressView",
            "bar_style": "success",
            "description": "",
            "description_tooltip": null,
            "layout": "IPY_MODEL_732c76c4cb6c4e68af966bfa960b5e31",
            "max": 2,
            "min": 0,
            "orientation": "horizontal",
            "style": "IPY_MODEL_b94abf2f021441aaa6d658f15f97fcc6",
            "value": 2
          }
        },
        "f56e56c7768442c0ba550d4f12687677": {
          "model_module": "@jupyter-widgets/controls",
          "model_name": "HTMLModel",
          "model_module_version": "1.5.0",
          "state": {
            "_dom_classes": [],
            "_model_module": "@jupyter-widgets/controls",
            "_model_module_version": "1.5.0",
            "_model_name": "HTMLModel",
            "_view_count": null,
            "_view_module": "@jupyter-widgets/controls",
            "_view_module_version": "1.5.0",
            "_view_name": "HTMLView",
            "description": "",
            "description_tooltip": null,
            "layout": "IPY_MODEL_44bab616c11d46f1825fd3e30b4d3827",
            "placeholder": "​",
            "style": "IPY_MODEL_c777e6c12efd498cb890cb5f638c10cd",
            "value": " 2.00/2.00 [00:00&lt;00:00, 52.4B/s]"
          }
        },
        "395101c0551a476cab408707398f32aa": {
          "model_module": "@jupyter-widgets/base",
          "model_name": "LayoutModel",
          "model_module_version": "1.2.0",
          "state": {
            "_model_module": "@jupyter-widgets/base",
            "_model_module_version": "1.2.0",
            "_model_name": "LayoutModel",
            "_view_count": null,
            "_view_module": "@jupyter-widgets/base",
            "_view_module_version": "1.2.0",
            "_view_name": "LayoutView",
            "align_content": null,
            "align_items": null,
            "align_self": null,
            "border": null,
            "bottom": null,
            "display": null,
            "flex": null,
            "flex_flow": null,
            "grid_area": null,
            "grid_auto_columns": null,
            "grid_auto_flow": null,
            "grid_auto_rows": null,
            "grid_column": null,
            "grid_gap": null,
            "grid_row": null,
            "grid_template_areas": null,
            "grid_template_columns": null,
            "grid_template_rows": null,
            "height": null,
            "justify_content": null,
            "justify_items": null,
            "left": null,
            "margin": null,
            "max_height": null,
            "max_width": null,
            "min_height": null,
            "min_width": null,
            "object_fit": null,
            "object_position": null,
            "order": null,
            "overflow": null,
            "overflow_x": null,
            "overflow_y": null,
            "padding": null,
            "right": null,
            "top": null,
            "visibility": null,
            "width": null
          }
        },
        "9eea711396764999ac9a10c969592331": {
          "model_module": "@jupyter-widgets/base",
          "model_name": "LayoutModel",
          "model_module_version": "1.2.0",
          "state": {
            "_model_module": "@jupyter-widgets/base",
            "_model_module_version": "1.2.0",
            "_model_name": "LayoutModel",
            "_view_count": null,
            "_view_module": "@jupyter-widgets/base",
            "_view_module_version": "1.2.0",
            "_view_name": "LayoutView",
            "align_content": null,
            "align_items": null,
            "align_self": null,
            "border": null,
            "bottom": null,
            "display": null,
            "flex": null,
            "flex_flow": null,
            "grid_area": null,
            "grid_auto_columns": null,
            "grid_auto_flow": null,
            "grid_auto_rows": null,
            "grid_column": null,
            "grid_gap": null,
            "grid_row": null,
            "grid_template_areas": null,
            "grid_template_columns": null,
            "grid_template_rows": null,
            "height": null,
            "justify_content": null,
            "justify_items": null,
            "left": null,
            "margin": null,
            "max_height": null,
            "max_width": null,
            "min_height": null,
            "min_width": null,
            "object_fit": null,
            "object_position": null,
            "order": null,
            "overflow": null,
            "overflow_x": null,
            "overflow_y": null,
            "padding": null,
            "right": null,
            "top": null,
            "visibility": null,
            "width": null
          }
        },
        "287e83254f734a99b21e9ba576843449": {
          "model_module": "@jupyter-widgets/controls",
          "model_name": "DescriptionStyleModel",
          "model_module_version": "1.5.0",
          "state": {
            "_model_module": "@jupyter-widgets/controls",
            "_model_module_version": "1.5.0",
            "_model_name": "DescriptionStyleModel",
            "_view_count": null,
            "_view_module": "@jupyter-widgets/base",
            "_view_module_version": "1.2.0",
            "_view_name": "StyleView",
            "description_width": ""
          }
        },
        "732c76c4cb6c4e68af966bfa960b5e31": {
          "model_module": "@jupyter-widgets/base",
          "model_name": "LayoutModel",
          "model_module_version": "1.2.0",
          "state": {
            "_model_module": "@jupyter-widgets/base",
            "_model_module_version": "1.2.0",
            "_model_name": "LayoutModel",
            "_view_count": null,
            "_view_module": "@jupyter-widgets/base",
            "_view_module_version": "1.2.0",
            "_view_name": "LayoutView",
            "align_content": null,
            "align_items": null,
            "align_self": null,
            "border": null,
            "bottom": null,
            "display": null,
            "flex": null,
            "flex_flow": null,
            "grid_area": null,
            "grid_auto_columns": null,
            "grid_auto_flow": null,
            "grid_auto_rows": null,
            "grid_column": null,
            "grid_gap": null,
            "grid_row": null,
            "grid_template_areas": null,
            "grid_template_columns": null,
            "grid_template_rows": null,
            "height": null,
            "justify_content": null,
            "justify_items": null,
            "left": null,
            "margin": null,
            "max_height": null,
            "max_width": null,
            "min_height": null,
            "min_width": null,
            "object_fit": null,
            "object_position": null,
            "order": null,
            "overflow": null,
            "overflow_x": null,
            "overflow_y": null,
            "padding": null,
            "right": null,
            "top": null,
            "visibility": null,
            "width": null
          }
        },
        "b94abf2f021441aaa6d658f15f97fcc6": {
          "model_module": "@jupyter-widgets/controls",
          "model_name": "ProgressStyleModel",
          "model_module_version": "1.5.0",
          "state": {
            "_model_module": "@jupyter-widgets/controls",
            "_model_module_version": "1.5.0",
            "_model_name": "ProgressStyleModel",
            "_view_count": null,
            "_view_module": "@jupyter-widgets/base",
            "_view_module_version": "1.2.0",
            "_view_name": "StyleView",
            "bar_color": null,
            "description_width": ""
          }
        },
        "44bab616c11d46f1825fd3e30b4d3827": {
          "model_module": "@jupyter-widgets/base",
          "model_name": "LayoutModel",
          "model_module_version": "1.2.0",
          "state": {
            "_model_module": "@jupyter-widgets/base",
            "_model_module_version": "1.2.0",
            "_model_name": "LayoutModel",
            "_view_count": null,
            "_view_module": "@jupyter-widgets/base",
            "_view_module_version": "1.2.0",
            "_view_name": "LayoutView",
            "align_content": null,
            "align_items": null,
            "align_self": null,
            "border": null,
            "bottom": null,
            "display": null,
            "flex": null,
            "flex_flow": null,
            "grid_area": null,
            "grid_auto_columns": null,
            "grid_auto_flow": null,
            "grid_auto_rows": null,
            "grid_column": null,
            "grid_gap": null,
            "grid_row": null,
            "grid_template_areas": null,
            "grid_template_columns": null,
            "grid_template_rows": null,
            "height": null,
            "justify_content": null,
            "justify_items": null,
            "left": null,
            "margin": null,
            "max_height": null,
            "max_width": null,
            "min_height": null,
            "min_width": null,
            "object_fit": null,
            "object_position": null,
            "order": null,
            "overflow": null,
            "overflow_x": null,
            "overflow_y": null,
            "padding": null,
            "right": null,
            "top": null,
            "visibility": null,
            "width": null
          }
        },
        "c777e6c12efd498cb890cb5f638c10cd": {
          "model_module": "@jupyter-widgets/controls",
          "model_name": "DescriptionStyleModel",
          "model_module_version": "1.5.0",
          "state": {
            "_model_module": "@jupyter-widgets/controls",
            "_model_module_version": "1.5.0",
            "_model_name": "DescriptionStyleModel",
            "_view_count": null,
            "_view_module": "@jupyter-widgets/base",
            "_view_module_version": "1.2.0",
            "_view_name": "StyleView",
            "description_width": ""
          }
        },
        "a183d2c819bb46618a55cf50da961ebd": {
          "model_module": "@jupyter-widgets/controls",
          "model_name": "HBoxModel",
          "model_module_version": "1.5.0",
          "state": {
            "_dom_classes": [],
            "_model_module": "@jupyter-widgets/controls",
            "_model_module_version": "1.5.0",
            "_model_name": "HBoxModel",
            "_view_count": null,
            "_view_module": "@jupyter-widgets/controls",
            "_view_module_version": "1.5.0",
            "_view_name": "HBoxView",
            "box_style": "",
            "children": [
              "IPY_MODEL_1a6b6432d6fb470e8d0e3f1eecaf94d6",
              "IPY_MODEL_bfcd3bade1234acbae001d53be09f917",
              "IPY_MODEL_fd376949a6554fa49ab59f52a5aefe5b"
            ],
            "layout": "IPY_MODEL_b2f34ea8143d4caebb50d435eb391711"
          }
        },
        "1a6b6432d6fb470e8d0e3f1eecaf94d6": {
          "model_module": "@jupyter-widgets/controls",
          "model_name": "HTMLModel",
          "model_module_version": "1.5.0",
          "state": {
            "_dom_classes": [],
            "_model_module": "@jupyter-widgets/controls",
            "_model_module_version": "1.5.0",
            "_model_name": "HTMLModel",
            "_view_count": null,
            "_view_module": "@jupyter-widgets/controls",
            "_view_module_version": "1.5.0",
            "_view_name": "HTMLView",
            "description": "",
            "description_tooltip": null,
            "layout": "IPY_MODEL_d61aebabf03e4d809bdbcf0d181f3ba2",
            "placeholder": "​",
            "style": "IPY_MODEL_84ce0005aaf24d2e944eb6ec72d0dbe5",
            "value": "Downloading: 100%"
          }
        },
        "bfcd3bade1234acbae001d53be09f917": {
          "model_module": "@jupyter-widgets/controls",
          "model_name": "FloatProgressModel",
          "model_module_version": "1.5.0",
          "state": {
            "_dom_classes": [],
            "_model_module": "@jupyter-widgets/controls",
            "_model_module_version": "1.5.0",
            "_model_name": "FloatProgressModel",
            "_view_count": null,
            "_view_module": "@jupyter-widgets/controls",
            "_view_module_version": "1.5.0",
            "_view_name": "ProgressView",
            "bar_style": "success",
            "description": "",
            "description_tooltip": null,
            "layout": "IPY_MODEL_1200046451a34a45a90b6200648f9284",
            "max": 112,
            "min": 0,
            "orientation": "horizontal",
            "style": "IPY_MODEL_a3feebe5ff3d443799f8b0ef7b61fb48",
            "value": 112
          }
        },
        "fd376949a6554fa49ab59f52a5aefe5b": {
          "model_module": "@jupyter-widgets/controls",
          "model_name": "HTMLModel",
          "model_module_version": "1.5.0",
          "state": {
            "_dom_classes": [],
            "_model_module": "@jupyter-widgets/controls",
            "_model_module_version": "1.5.0",
            "_model_name": "HTMLModel",
            "_view_count": null,
            "_view_module": "@jupyter-widgets/controls",
            "_view_module_version": "1.5.0",
            "_view_name": "HTMLView",
            "description": "",
            "description_tooltip": null,
            "layout": "IPY_MODEL_1d91de1304f64f2ea69e448c0dce7abe",
            "placeholder": "​",
            "style": "IPY_MODEL_5b87730cd8be4892829c71863f59f614",
            "value": " 112/112 [00:00&lt;00:00, 2.89kB/s]"
          }
        },
        "b2f34ea8143d4caebb50d435eb391711": {
          "model_module": "@jupyter-widgets/base",
          "model_name": "LayoutModel",
          "model_module_version": "1.2.0",
          "state": {
            "_model_module": "@jupyter-widgets/base",
            "_model_module_version": "1.2.0",
            "_model_name": "LayoutModel",
            "_view_count": null,
            "_view_module": "@jupyter-widgets/base",
            "_view_module_version": "1.2.0",
            "_view_name": "LayoutView",
            "align_content": null,
            "align_items": null,
            "align_self": null,
            "border": null,
            "bottom": null,
            "display": null,
            "flex": null,
            "flex_flow": null,
            "grid_area": null,
            "grid_auto_columns": null,
            "grid_auto_flow": null,
            "grid_auto_rows": null,
            "grid_column": null,
            "grid_gap": null,
            "grid_row": null,
            "grid_template_areas": null,
            "grid_template_columns": null,
            "grid_template_rows": null,
            "height": null,
            "justify_content": null,
            "justify_items": null,
            "left": null,
            "margin": null,
            "max_height": null,
            "max_width": null,
            "min_height": null,
            "min_width": null,
            "object_fit": null,
            "object_position": null,
            "order": null,
            "overflow": null,
            "overflow_x": null,
            "overflow_y": null,
            "padding": null,
            "right": null,
            "top": null,
            "visibility": null,
            "width": null
          }
        },
        "d61aebabf03e4d809bdbcf0d181f3ba2": {
          "model_module": "@jupyter-widgets/base",
          "model_name": "LayoutModel",
          "model_module_version": "1.2.0",
          "state": {
            "_model_module": "@jupyter-widgets/base",
            "_model_module_version": "1.2.0",
            "_model_name": "LayoutModel",
            "_view_count": null,
            "_view_module": "@jupyter-widgets/base",
            "_view_module_version": "1.2.0",
            "_view_name": "LayoutView",
            "align_content": null,
            "align_items": null,
            "align_self": null,
            "border": null,
            "bottom": null,
            "display": null,
            "flex": null,
            "flex_flow": null,
            "grid_area": null,
            "grid_auto_columns": null,
            "grid_auto_flow": null,
            "grid_auto_rows": null,
            "grid_column": null,
            "grid_gap": null,
            "grid_row": null,
            "grid_template_areas": null,
            "grid_template_columns": null,
            "grid_template_rows": null,
            "height": null,
            "justify_content": null,
            "justify_items": null,
            "left": null,
            "margin": null,
            "max_height": null,
            "max_width": null,
            "min_height": null,
            "min_width": null,
            "object_fit": null,
            "object_position": null,
            "order": null,
            "overflow": null,
            "overflow_x": null,
            "overflow_y": null,
            "padding": null,
            "right": null,
            "top": null,
            "visibility": null,
            "width": null
          }
        },
        "84ce0005aaf24d2e944eb6ec72d0dbe5": {
          "model_module": "@jupyter-widgets/controls",
          "model_name": "DescriptionStyleModel",
          "model_module_version": "1.5.0",
          "state": {
            "_model_module": "@jupyter-widgets/controls",
            "_model_module_version": "1.5.0",
            "_model_name": "DescriptionStyleModel",
            "_view_count": null,
            "_view_module": "@jupyter-widgets/base",
            "_view_module_version": "1.2.0",
            "_view_name": "StyleView",
            "description_width": ""
          }
        },
        "1200046451a34a45a90b6200648f9284": {
          "model_module": "@jupyter-widgets/base",
          "model_name": "LayoutModel",
          "model_module_version": "1.2.0",
          "state": {
            "_model_module": "@jupyter-widgets/base",
            "_model_module_version": "1.2.0",
            "_model_name": "LayoutModel",
            "_view_count": null,
            "_view_module": "@jupyter-widgets/base",
            "_view_module_version": "1.2.0",
            "_view_name": "LayoutView",
            "align_content": null,
            "align_items": null,
            "align_self": null,
            "border": null,
            "bottom": null,
            "display": null,
            "flex": null,
            "flex_flow": null,
            "grid_area": null,
            "grid_auto_columns": null,
            "grid_auto_flow": null,
            "grid_auto_rows": null,
            "grid_column": null,
            "grid_gap": null,
            "grid_row": null,
            "grid_template_areas": null,
            "grid_template_columns": null,
            "grid_template_rows": null,
            "height": null,
            "justify_content": null,
            "justify_items": null,
            "left": null,
            "margin": null,
            "max_height": null,
            "max_width": null,
            "min_height": null,
            "min_width": null,
            "object_fit": null,
            "object_position": null,
            "order": null,
            "overflow": null,
            "overflow_x": null,
            "overflow_y": null,
            "padding": null,
            "right": null,
            "top": null,
            "visibility": null,
            "width": null
          }
        },
        "a3feebe5ff3d443799f8b0ef7b61fb48": {
          "model_module": "@jupyter-widgets/controls",
          "model_name": "ProgressStyleModel",
          "model_module_version": "1.5.0",
          "state": {
            "_model_module": "@jupyter-widgets/controls",
            "_model_module_version": "1.5.0",
            "_model_name": "ProgressStyleModel",
            "_view_count": null,
            "_view_module": "@jupyter-widgets/base",
            "_view_module_version": "1.2.0",
            "_view_name": "StyleView",
            "bar_color": null,
            "description_width": ""
          }
        },
        "1d91de1304f64f2ea69e448c0dce7abe": {
          "model_module": "@jupyter-widgets/base",
          "model_name": "LayoutModel",
          "model_module_version": "1.2.0",
          "state": {
            "_model_module": "@jupyter-widgets/base",
            "_model_module_version": "1.2.0",
            "_model_name": "LayoutModel",
            "_view_count": null,
            "_view_module": "@jupyter-widgets/base",
            "_view_module_version": "1.2.0",
            "_view_name": "LayoutView",
            "align_content": null,
            "align_items": null,
            "align_self": null,
            "border": null,
            "bottom": null,
            "display": null,
            "flex": null,
            "flex_flow": null,
            "grid_area": null,
            "grid_auto_columns": null,
            "grid_auto_flow": null,
            "grid_auto_rows": null,
            "grid_column": null,
            "grid_gap": null,
            "grid_row": null,
            "grid_template_areas": null,
            "grid_template_columns": null,
            "grid_template_rows": null,
            "height": null,
            "justify_content": null,
            "justify_items": null,
            "left": null,
            "margin": null,
            "max_height": null,
            "max_width": null,
            "min_height": null,
            "min_width": null,
            "object_fit": null,
            "object_position": null,
            "order": null,
            "overflow": null,
            "overflow_x": null,
            "overflow_y": null,
            "padding": null,
            "right": null,
            "top": null,
            "visibility": null,
            "width": null
          }
        },
        "5b87730cd8be4892829c71863f59f614": {
          "model_module": "@jupyter-widgets/controls",
          "model_name": "DescriptionStyleModel",
          "model_module_version": "1.5.0",
          "state": {
            "_model_module": "@jupyter-widgets/controls",
            "_model_module_version": "1.5.0",
            "_model_name": "DescriptionStyleModel",
            "_view_count": null,
            "_view_module": "@jupyter-widgets/base",
            "_view_module_version": "1.2.0",
            "_view_name": "StyleView",
            "description_width": ""
          }
        },
        "54510b047a3e402cb63365a1a4d7044b": {
          "model_module": "@jupyter-widgets/controls",
          "model_name": "HBoxModel",
          "model_module_version": "1.5.0",
          "state": {
            "_dom_classes": [],
            "_model_module": "@jupyter-widgets/controls",
            "_model_module_version": "1.5.0",
            "_model_name": "HBoxModel",
            "_view_count": null,
            "_view_module": "@jupyter-widgets/controls",
            "_view_module_version": "1.5.0",
            "_view_name": "HBoxView",
            "box_style": "",
            "children": [
              "IPY_MODEL_cf526bf7ec504ee1aae7c76312a18f39",
              "IPY_MODEL_edc3c5d572a84f44aa75bdf2d5956029",
              "IPY_MODEL_571ad011c0d94d59ab406e77362e1378"
            ],
            "layout": "IPY_MODEL_08007bce0d804edcb897c2f649de2ce9"
          }
        },
        "cf526bf7ec504ee1aae7c76312a18f39": {
          "model_module": "@jupyter-widgets/controls",
          "model_name": "HTMLModel",
          "model_module_version": "1.5.0",
          "state": {
            "_dom_classes": [],
            "_model_module": "@jupyter-widgets/controls",
            "_model_module_version": "1.5.0",
            "_model_name": "HTMLModel",
            "_view_count": null,
            "_view_module": "@jupyter-widgets/controls",
            "_view_module_version": "1.5.0",
            "_view_name": "HTMLView",
            "description": "",
            "description_tooltip": null,
            "layout": "IPY_MODEL_2d060765363e480aae7128332c73e14f",
            "placeholder": "​",
            "style": "IPY_MODEL_0372bd7a6d264f1fa9706f935ea7b581",
            "value": "Downloading: 100%"
          }
        },
        "edc3c5d572a84f44aa75bdf2d5956029": {
          "model_module": "@jupyter-widgets/controls",
          "model_name": "FloatProgressModel",
          "model_module_version": "1.5.0",
          "state": {
            "_dom_classes": [],
            "_model_module": "@jupyter-widgets/controls",
            "_model_module_version": "1.5.0",
            "_model_name": "FloatProgressModel",
            "_view_count": null,
            "_view_module": "@jupyter-widgets/controls",
            "_view_module_version": "1.5.0",
            "_view_name": "ProgressView",
            "bar_style": "success",
            "description": "",
            "description_tooltip": null,
            "layout": "IPY_MODEL_b64bdf2f651a487bb7616112fec1c0ee",
            "max": 241,
            "min": 0,
            "orientation": "horizontal",
            "style": "IPY_MODEL_689f701674004e80ae20d55e8d66674c",
            "value": 241
          }
        },
        "571ad011c0d94d59ab406e77362e1378": {
          "model_module": "@jupyter-widgets/controls",
          "model_name": "HTMLModel",
          "model_module_version": "1.5.0",
          "state": {
            "_dom_classes": [],
            "_model_module": "@jupyter-widgets/controls",
            "_model_module_version": "1.5.0",
            "_model_name": "HTMLModel",
            "_view_count": null,
            "_view_module": "@jupyter-widgets/controls",
            "_view_module_version": "1.5.0",
            "_view_name": "HTMLView",
            "description": "",
            "description_tooltip": null,
            "layout": "IPY_MODEL_cc412a7da0e6447e94835d1c60fcc38c",
            "placeholder": "​",
            "style": "IPY_MODEL_8d27d07393f847729f9012967cbbd784",
            "value": " 241/241 [00:00&lt;00:00, 6.58kB/s]"
          }
        },
        "08007bce0d804edcb897c2f649de2ce9": {
          "model_module": "@jupyter-widgets/base",
          "model_name": "LayoutModel",
          "model_module_version": "1.2.0",
          "state": {
            "_model_module": "@jupyter-widgets/base",
            "_model_module_version": "1.2.0",
            "_model_name": "LayoutModel",
            "_view_count": null,
            "_view_module": "@jupyter-widgets/base",
            "_view_module_version": "1.2.0",
            "_view_name": "LayoutView",
            "align_content": null,
            "align_items": null,
            "align_self": null,
            "border": null,
            "bottom": null,
            "display": null,
            "flex": null,
            "flex_flow": null,
            "grid_area": null,
            "grid_auto_columns": null,
            "grid_auto_flow": null,
            "grid_auto_rows": null,
            "grid_column": null,
            "grid_gap": null,
            "grid_row": null,
            "grid_template_areas": null,
            "grid_template_columns": null,
            "grid_template_rows": null,
            "height": null,
            "justify_content": null,
            "justify_items": null,
            "left": null,
            "margin": null,
            "max_height": null,
            "max_width": null,
            "min_height": null,
            "min_width": null,
            "object_fit": null,
            "object_position": null,
            "order": null,
            "overflow": null,
            "overflow_x": null,
            "overflow_y": null,
            "padding": null,
            "right": null,
            "top": null,
            "visibility": null,
            "width": null
          }
        },
        "2d060765363e480aae7128332c73e14f": {
          "model_module": "@jupyter-widgets/base",
          "model_name": "LayoutModel",
          "model_module_version": "1.2.0",
          "state": {
            "_model_module": "@jupyter-widgets/base",
            "_model_module_version": "1.2.0",
            "_model_name": "LayoutModel",
            "_view_count": null,
            "_view_module": "@jupyter-widgets/base",
            "_view_module_version": "1.2.0",
            "_view_name": "LayoutView",
            "align_content": null,
            "align_items": null,
            "align_self": null,
            "border": null,
            "bottom": null,
            "display": null,
            "flex": null,
            "flex_flow": null,
            "grid_area": null,
            "grid_auto_columns": null,
            "grid_auto_flow": null,
            "grid_auto_rows": null,
            "grid_column": null,
            "grid_gap": null,
            "grid_row": null,
            "grid_template_areas": null,
            "grid_template_columns": null,
            "grid_template_rows": null,
            "height": null,
            "justify_content": null,
            "justify_items": null,
            "left": null,
            "margin": null,
            "max_height": null,
            "max_width": null,
            "min_height": null,
            "min_width": null,
            "object_fit": null,
            "object_position": null,
            "order": null,
            "overflow": null,
            "overflow_x": null,
            "overflow_y": null,
            "padding": null,
            "right": null,
            "top": null,
            "visibility": null,
            "width": null
          }
        },
        "0372bd7a6d264f1fa9706f935ea7b581": {
          "model_module": "@jupyter-widgets/controls",
          "model_name": "DescriptionStyleModel",
          "model_module_version": "1.5.0",
          "state": {
            "_model_module": "@jupyter-widgets/controls",
            "_model_module_version": "1.5.0",
            "_model_name": "DescriptionStyleModel",
            "_view_count": null,
            "_view_module": "@jupyter-widgets/base",
            "_view_module_version": "1.2.0",
            "_view_name": "StyleView",
            "description_width": ""
          }
        },
        "b64bdf2f651a487bb7616112fec1c0ee": {
          "model_module": "@jupyter-widgets/base",
          "model_name": "LayoutModel",
          "model_module_version": "1.2.0",
          "state": {
            "_model_module": "@jupyter-widgets/base",
            "_model_module_version": "1.2.0",
            "_model_name": "LayoutModel",
            "_view_count": null,
            "_view_module": "@jupyter-widgets/base",
            "_view_module_version": "1.2.0",
            "_view_name": "LayoutView",
            "align_content": null,
            "align_items": null,
            "align_self": null,
            "border": null,
            "bottom": null,
            "display": null,
            "flex": null,
            "flex_flow": null,
            "grid_area": null,
            "grid_auto_columns": null,
            "grid_auto_flow": null,
            "grid_auto_rows": null,
            "grid_column": null,
            "grid_gap": null,
            "grid_row": null,
            "grid_template_areas": null,
            "grid_template_columns": null,
            "grid_template_rows": null,
            "height": null,
            "justify_content": null,
            "justify_items": null,
            "left": null,
            "margin": null,
            "max_height": null,
            "max_width": null,
            "min_height": null,
            "min_width": null,
            "object_fit": null,
            "object_position": null,
            "order": null,
            "overflow": null,
            "overflow_x": null,
            "overflow_y": null,
            "padding": null,
            "right": null,
            "top": null,
            "visibility": null,
            "width": null
          }
        },
        "689f701674004e80ae20d55e8d66674c": {
          "model_module": "@jupyter-widgets/controls",
          "model_name": "ProgressStyleModel",
          "model_module_version": "1.5.0",
          "state": {
            "_model_module": "@jupyter-widgets/controls",
            "_model_module_version": "1.5.0",
            "_model_name": "ProgressStyleModel",
            "_view_count": null,
            "_view_module": "@jupyter-widgets/base",
            "_view_module_version": "1.2.0",
            "_view_name": "StyleView",
            "bar_color": null,
            "description_width": ""
          }
        },
        "cc412a7da0e6447e94835d1c60fcc38c": {
          "model_module": "@jupyter-widgets/base",
          "model_name": "LayoutModel",
          "model_module_version": "1.2.0",
          "state": {
            "_model_module": "@jupyter-widgets/base",
            "_model_module_version": "1.2.0",
            "_model_name": "LayoutModel",
            "_view_count": null,
            "_view_module": "@jupyter-widgets/base",
            "_view_module_version": "1.2.0",
            "_view_name": "LayoutView",
            "align_content": null,
            "align_items": null,
            "align_self": null,
            "border": null,
            "bottom": null,
            "display": null,
            "flex": null,
            "flex_flow": null,
            "grid_area": null,
            "grid_auto_columns": null,
            "grid_auto_flow": null,
            "grid_auto_rows": null,
            "grid_column": null,
            "grid_gap": null,
            "grid_row": null,
            "grid_template_areas": null,
            "grid_template_columns": null,
            "grid_template_rows": null,
            "height": null,
            "justify_content": null,
            "justify_items": null,
            "left": null,
            "margin": null,
            "max_height": null,
            "max_width": null,
            "min_height": null,
            "min_width": null,
            "object_fit": null,
            "object_position": null,
            "order": null,
            "overflow": null,
            "overflow_x": null,
            "overflow_y": null,
            "padding": null,
            "right": null,
            "top": null,
            "visibility": null,
            "width": null
          }
        },
        "8d27d07393f847729f9012967cbbd784": {
          "model_module": "@jupyter-widgets/controls",
          "model_name": "DescriptionStyleModel",
          "model_module_version": "1.5.0",
          "state": {
            "_model_module": "@jupyter-widgets/controls",
            "_model_module_version": "1.5.0",
            "_model_name": "DescriptionStyleModel",
            "_view_count": null,
            "_view_module": "@jupyter-widgets/base",
            "_view_module_version": "1.2.0",
            "_view_name": "StyleView",
            "description_width": ""
          }
        },
        "e17354fb9b9840feb168962a00c2ea2c": {
          "model_module": "@jupyter-widgets/controls",
          "model_name": "HBoxModel",
          "model_module_version": "1.5.0",
          "state": {
            "_dom_classes": [],
            "_model_module": "@jupyter-widgets/controls",
            "_model_module_version": "1.5.0",
            "_model_name": "HBoxModel",
            "_view_count": null,
            "_view_module": "@jupyter-widgets/controls",
            "_view_module_version": "1.5.0",
            "_view_name": "HBoxView",
            "box_style": "",
            "children": [
              "IPY_MODEL_995a737d28b0428fbad67ed9e96a3b5e",
              "IPY_MODEL_2ee14b68a05c4e36b014c731990ae068",
              "IPY_MODEL_15d0c965e4a042308eb2423ff54eca45"
            ],
            "layout": "IPY_MODEL_d7565783953d4a28a1bb2dc6865bf3dc"
          }
        },
        "995a737d28b0428fbad67ed9e96a3b5e": {
          "model_module": "@jupyter-widgets/controls",
          "model_name": "HTMLModel",
          "model_module_version": "1.5.0",
          "state": {
            "_dom_classes": [],
            "_model_module": "@jupyter-widgets/controls",
            "_model_module_version": "1.5.0",
            "_model_name": "HTMLModel",
            "_view_count": null,
            "_view_module": "@jupyter-widgets/controls",
            "_view_module_version": "1.5.0",
            "_view_name": "HTMLView",
            "description": "",
            "description_tooltip": null,
            "layout": "IPY_MODEL_4fa9509eb35542658a0ab5b5fa3c2efc",
            "placeholder": "​",
            "style": "IPY_MODEL_1702df2237dd4c549f429f62b3c82587",
            "value": "Downloading: 100%"
          }
        },
        "2ee14b68a05c4e36b014c731990ae068": {
          "model_module": "@jupyter-widgets/controls",
          "model_name": "FloatProgressModel",
          "model_module_version": "1.5.0",
          "state": {
            "_dom_classes": [],
            "_model_module": "@jupyter-widgets/controls",
            "_model_module_version": "1.5.0",
            "_model_name": "FloatProgressModel",
            "_view_count": null,
            "_view_module": "@jupyter-widgets/controls",
            "_view_module_version": "1.5.0",
            "_view_name": "ProgressView",
            "bar_style": "success",
            "description": "",
            "description_tooltip": null,
            "layout": "IPY_MODEL_1ba45606beb84c60bcc97763bb715957",
            "max": 730,
            "min": 0,
            "orientation": "horizontal",
            "style": "IPY_MODEL_e3e44a56f28d40168772644d29a36669",
            "value": 730
          }
        },
        "15d0c965e4a042308eb2423ff54eca45": {
          "model_module": "@jupyter-widgets/controls",
          "model_name": "HTMLModel",
          "model_module_version": "1.5.0",
          "state": {
            "_dom_classes": [],
            "_model_module": "@jupyter-widgets/controls",
            "_model_module_version": "1.5.0",
            "_model_name": "HTMLModel",
            "_view_count": null,
            "_view_module": "@jupyter-widgets/controls",
            "_view_module_version": "1.5.0",
            "_view_name": "HTMLView",
            "description": "",
            "description_tooltip": null,
            "layout": "IPY_MODEL_7af8954b9e4449819b98e061388f9074",
            "placeholder": "​",
            "style": "IPY_MODEL_1dcc8b47c85d4b328f64efaadcad9ab9",
            "value": " 730/730 [00:00&lt;00:00, 20.2kB/s]"
          }
        },
        "d7565783953d4a28a1bb2dc6865bf3dc": {
          "model_module": "@jupyter-widgets/base",
          "model_name": "LayoutModel",
          "model_module_version": "1.2.0",
          "state": {
            "_model_module": "@jupyter-widgets/base",
            "_model_module_version": "1.2.0",
            "_model_name": "LayoutModel",
            "_view_count": null,
            "_view_module": "@jupyter-widgets/base",
            "_view_module_version": "1.2.0",
            "_view_name": "LayoutView",
            "align_content": null,
            "align_items": null,
            "align_self": null,
            "border": null,
            "bottom": null,
            "display": null,
            "flex": null,
            "flex_flow": null,
            "grid_area": null,
            "grid_auto_columns": null,
            "grid_auto_flow": null,
            "grid_auto_rows": null,
            "grid_column": null,
            "grid_gap": null,
            "grid_row": null,
            "grid_template_areas": null,
            "grid_template_columns": null,
            "grid_template_rows": null,
            "height": null,
            "justify_content": null,
            "justify_items": null,
            "left": null,
            "margin": null,
            "max_height": null,
            "max_width": null,
            "min_height": null,
            "min_width": null,
            "object_fit": null,
            "object_position": null,
            "order": null,
            "overflow": null,
            "overflow_x": null,
            "overflow_y": null,
            "padding": null,
            "right": null,
            "top": null,
            "visibility": null,
            "width": null
          }
        },
        "4fa9509eb35542658a0ab5b5fa3c2efc": {
          "model_module": "@jupyter-widgets/base",
          "model_name": "LayoutModel",
          "model_module_version": "1.2.0",
          "state": {
            "_model_module": "@jupyter-widgets/base",
            "_model_module_version": "1.2.0",
            "_model_name": "LayoutModel",
            "_view_count": null,
            "_view_module": "@jupyter-widgets/base",
            "_view_module_version": "1.2.0",
            "_view_name": "LayoutView",
            "align_content": null,
            "align_items": null,
            "align_self": null,
            "border": null,
            "bottom": null,
            "display": null,
            "flex": null,
            "flex_flow": null,
            "grid_area": null,
            "grid_auto_columns": null,
            "grid_auto_flow": null,
            "grid_auto_rows": null,
            "grid_column": null,
            "grid_gap": null,
            "grid_row": null,
            "grid_template_areas": null,
            "grid_template_columns": null,
            "grid_template_rows": null,
            "height": null,
            "justify_content": null,
            "justify_items": null,
            "left": null,
            "margin": null,
            "max_height": null,
            "max_width": null,
            "min_height": null,
            "min_width": null,
            "object_fit": null,
            "object_position": null,
            "order": null,
            "overflow": null,
            "overflow_x": null,
            "overflow_y": null,
            "padding": null,
            "right": null,
            "top": null,
            "visibility": null,
            "width": null
          }
        },
        "1702df2237dd4c549f429f62b3c82587": {
          "model_module": "@jupyter-widgets/controls",
          "model_name": "DescriptionStyleModel",
          "model_module_version": "1.5.0",
          "state": {
            "_model_module": "@jupyter-widgets/controls",
            "_model_module_version": "1.5.0",
            "_model_name": "DescriptionStyleModel",
            "_view_count": null,
            "_view_module": "@jupyter-widgets/base",
            "_view_module_version": "1.2.0",
            "_view_name": "StyleView",
            "description_width": ""
          }
        },
        "1ba45606beb84c60bcc97763bb715957": {
          "model_module": "@jupyter-widgets/base",
          "model_name": "LayoutModel",
          "model_module_version": "1.2.0",
          "state": {
            "_model_module": "@jupyter-widgets/base",
            "_model_module_version": "1.2.0",
            "_model_name": "LayoutModel",
            "_view_count": null,
            "_view_module": "@jupyter-widgets/base",
            "_view_module_version": "1.2.0",
            "_view_name": "LayoutView",
            "align_content": null,
            "align_items": null,
            "align_self": null,
            "border": null,
            "bottom": null,
            "display": null,
            "flex": null,
            "flex_flow": null,
            "grid_area": null,
            "grid_auto_columns": null,
            "grid_auto_flow": null,
            "grid_auto_rows": null,
            "grid_column": null,
            "grid_gap": null,
            "grid_row": null,
            "grid_template_areas": null,
            "grid_template_columns": null,
            "grid_template_rows": null,
            "height": null,
            "justify_content": null,
            "justify_items": null,
            "left": null,
            "margin": null,
            "max_height": null,
            "max_width": null,
            "min_height": null,
            "min_width": null,
            "object_fit": null,
            "object_position": null,
            "order": null,
            "overflow": null,
            "overflow_x": null,
            "overflow_y": null,
            "padding": null,
            "right": null,
            "top": null,
            "visibility": null,
            "width": null
          }
        },
        "e3e44a56f28d40168772644d29a36669": {
          "model_module": "@jupyter-widgets/controls",
          "model_name": "ProgressStyleModel",
          "model_module_version": "1.5.0",
          "state": {
            "_model_module": "@jupyter-widgets/controls",
            "_model_module_version": "1.5.0",
            "_model_name": "ProgressStyleModel",
            "_view_count": null,
            "_view_module": "@jupyter-widgets/base",
            "_view_module_version": "1.2.0",
            "_view_name": "StyleView",
            "bar_color": null,
            "description_width": ""
          }
        },
        "7af8954b9e4449819b98e061388f9074": {
          "model_module": "@jupyter-widgets/base",
          "model_name": "LayoutModel",
          "model_module_version": "1.2.0",
          "state": {
            "_model_module": "@jupyter-widgets/base",
            "_model_module_version": "1.2.0",
            "_model_name": "LayoutModel",
            "_view_count": null,
            "_view_module": "@jupyter-widgets/base",
            "_view_module_version": "1.2.0",
            "_view_name": "LayoutView",
            "align_content": null,
            "align_items": null,
            "align_self": null,
            "border": null,
            "bottom": null,
            "display": null,
            "flex": null,
            "flex_flow": null,
            "grid_area": null,
            "grid_auto_columns": null,
            "grid_auto_flow": null,
            "grid_auto_rows": null,
            "grid_column": null,
            "grid_gap": null,
            "grid_row": null,
            "grid_template_areas": null,
            "grid_template_columns": null,
            "grid_template_rows": null,
            "height": null,
            "justify_content": null,
            "justify_items": null,
            "left": null,
            "margin": null,
            "max_height": null,
            "max_width": null,
            "min_height": null,
            "min_width": null,
            "object_fit": null,
            "object_position": null,
            "order": null,
            "overflow": null,
            "overflow_x": null,
            "overflow_y": null,
            "padding": null,
            "right": null,
            "top": null,
            "visibility": null,
            "width": null
          }
        },
        "1dcc8b47c85d4b328f64efaadcad9ab9": {
          "model_module": "@jupyter-widgets/controls",
          "model_name": "DescriptionStyleModel",
          "model_module_version": "1.5.0",
          "state": {
            "_model_module": "@jupyter-widgets/controls",
            "_model_module_version": "1.5.0",
            "_model_name": "DescriptionStyleModel",
            "_view_count": null,
            "_view_module": "@jupyter-widgets/base",
            "_view_module_version": "1.2.0",
            "_view_name": "StyleView",
            "description_width": ""
          }
        },
        "83921610cac6414a996226a24118dde2": {
          "model_module": "@jupyter-widgets/controls",
          "model_name": "HBoxModel",
          "model_module_version": "1.5.0",
          "state": {
            "_dom_classes": [],
            "_model_module": "@jupyter-widgets/controls",
            "_model_module_version": "1.5.0",
            "_model_name": "HBoxModel",
            "_view_count": null,
            "_view_module": "@jupyter-widgets/controls",
            "_view_module_version": "1.5.0",
            "_view_name": "HBoxView",
            "box_style": "",
            "children": [
              "IPY_MODEL_5ea5159bce55416db23bebd256aaf3e1",
              "IPY_MODEL_1d0b33f4ed0c463fa9adda2a6f233582",
              "IPY_MODEL_57c9f79e15134877868492495b581d5c"
            ],
            "layout": "IPY_MODEL_4a05c6373ccf4664b418aff5a1f83b0a"
          }
        },
        "5ea5159bce55416db23bebd256aaf3e1": {
          "model_module": "@jupyter-widgets/controls",
          "model_name": "HTMLModel",
          "model_module_version": "1.5.0",
          "state": {
            "_dom_classes": [],
            "_model_module": "@jupyter-widgets/controls",
            "_model_module_version": "1.5.0",
            "_model_name": "HTMLModel",
            "_view_count": null,
            "_view_module": "@jupyter-widgets/controls",
            "_view_module_version": "1.5.0",
            "_view_name": "HTMLView",
            "description": "",
            "description_tooltip": null,
            "layout": "IPY_MODEL_bf00c7bd9b9b48909a1a706fdc77a863",
            "placeholder": "​",
            "style": "IPY_MODEL_4d9c692449df424389621d4d98367d8c",
            "value": "Downloading: 100%"
          }
        },
        "1d0b33f4ed0c463fa9adda2a6f233582": {
          "model_module": "@jupyter-widgets/controls",
          "model_name": "FloatProgressModel",
          "model_module_version": "1.5.0",
          "state": {
            "_dom_classes": [],
            "_model_module": "@jupyter-widgets/controls",
            "_model_module_version": "1.5.0",
            "_model_name": "FloatProgressModel",
            "_view_count": null,
            "_view_module": "@jupyter-widgets/controls",
            "_view_module_version": "1.5.0",
            "_view_name": "ProgressView",
            "bar_style": "success",
            "description": "",
            "description_tooltip": null,
            "layout": "IPY_MODEL_e546efdf2f7e4db8b5bbd6c4cf8b129b",
            "max": 442517175,
            "min": 0,
            "orientation": "horizontal",
            "style": "IPY_MODEL_24c4137c61084e28a314d64c148e2d20",
            "value": 442517175
          }
        },
        "57c9f79e15134877868492495b581d5c": {
          "model_module": "@jupyter-widgets/controls",
          "model_name": "HTMLModel",
          "model_module_version": "1.5.0",
          "state": {
            "_dom_classes": [],
            "_model_module": "@jupyter-widgets/controls",
            "_model_module_version": "1.5.0",
            "_model_name": "HTMLModel",
            "_view_count": null,
            "_view_module": "@jupyter-widgets/controls",
            "_view_module_version": "1.5.0",
            "_view_name": "HTMLView",
            "description": "",
            "description_tooltip": null,
            "layout": "IPY_MODEL_552e3403457641368df222e331e33293",
            "placeholder": "​",
            "style": "IPY_MODEL_879981e70a9a406d999f37876ea3fca6",
            "value": " 422M/422M [00:12&lt;00:00, 35.7MB/s]"
          }
        },
        "4a05c6373ccf4664b418aff5a1f83b0a": {
          "model_module": "@jupyter-widgets/base",
          "model_name": "LayoutModel",
          "model_module_version": "1.2.0",
          "state": {
            "_model_module": "@jupyter-widgets/base",
            "_model_module_version": "1.2.0",
            "_model_name": "LayoutModel",
            "_view_count": null,
            "_view_module": "@jupyter-widgets/base",
            "_view_module_version": "1.2.0",
            "_view_name": "LayoutView",
            "align_content": null,
            "align_items": null,
            "align_self": null,
            "border": null,
            "bottom": null,
            "display": null,
            "flex": null,
            "flex_flow": null,
            "grid_area": null,
            "grid_auto_columns": null,
            "grid_auto_flow": null,
            "grid_auto_rows": null,
            "grid_column": null,
            "grid_gap": null,
            "grid_row": null,
            "grid_template_areas": null,
            "grid_template_columns": null,
            "grid_template_rows": null,
            "height": null,
            "justify_content": null,
            "justify_items": null,
            "left": null,
            "margin": null,
            "max_height": null,
            "max_width": null,
            "min_height": null,
            "min_width": null,
            "object_fit": null,
            "object_position": null,
            "order": null,
            "overflow": null,
            "overflow_x": null,
            "overflow_y": null,
            "padding": null,
            "right": null,
            "top": null,
            "visibility": null,
            "width": null
          }
        },
        "bf00c7bd9b9b48909a1a706fdc77a863": {
          "model_module": "@jupyter-widgets/base",
          "model_name": "LayoutModel",
          "model_module_version": "1.2.0",
          "state": {
            "_model_module": "@jupyter-widgets/base",
            "_model_module_version": "1.2.0",
            "_model_name": "LayoutModel",
            "_view_count": null,
            "_view_module": "@jupyter-widgets/base",
            "_view_module_version": "1.2.0",
            "_view_name": "LayoutView",
            "align_content": null,
            "align_items": null,
            "align_self": null,
            "border": null,
            "bottom": null,
            "display": null,
            "flex": null,
            "flex_flow": null,
            "grid_area": null,
            "grid_auto_columns": null,
            "grid_auto_flow": null,
            "grid_auto_rows": null,
            "grid_column": null,
            "grid_gap": null,
            "grid_row": null,
            "grid_template_areas": null,
            "grid_template_columns": null,
            "grid_template_rows": null,
            "height": null,
            "justify_content": null,
            "justify_items": null,
            "left": null,
            "margin": null,
            "max_height": null,
            "max_width": null,
            "min_height": null,
            "min_width": null,
            "object_fit": null,
            "object_position": null,
            "order": null,
            "overflow": null,
            "overflow_x": null,
            "overflow_y": null,
            "padding": null,
            "right": null,
            "top": null,
            "visibility": null,
            "width": null
          }
        },
        "4d9c692449df424389621d4d98367d8c": {
          "model_module": "@jupyter-widgets/controls",
          "model_name": "DescriptionStyleModel",
          "model_module_version": "1.5.0",
          "state": {
            "_model_module": "@jupyter-widgets/controls",
            "_model_module_version": "1.5.0",
            "_model_name": "DescriptionStyleModel",
            "_view_count": null,
            "_view_module": "@jupyter-widgets/base",
            "_view_module_version": "1.2.0",
            "_view_name": "StyleView",
            "description_width": ""
          }
        },
        "e546efdf2f7e4db8b5bbd6c4cf8b129b": {
          "model_module": "@jupyter-widgets/base",
          "model_name": "LayoutModel",
          "model_module_version": "1.2.0",
          "state": {
            "_model_module": "@jupyter-widgets/base",
            "_model_module_version": "1.2.0",
            "_model_name": "LayoutModel",
            "_view_count": null,
            "_view_module": "@jupyter-widgets/base",
            "_view_module_version": "1.2.0",
            "_view_name": "LayoutView",
            "align_content": null,
            "align_items": null,
            "align_self": null,
            "border": null,
            "bottom": null,
            "display": null,
            "flex": null,
            "flex_flow": null,
            "grid_area": null,
            "grid_auto_columns": null,
            "grid_auto_flow": null,
            "grid_auto_rows": null,
            "grid_column": null,
            "grid_gap": null,
            "grid_row": null,
            "grid_template_areas": null,
            "grid_template_columns": null,
            "grid_template_rows": null,
            "height": null,
            "justify_content": null,
            "justify_items": null,
            "left": null,
            "margin": null,
            "max_height": null,
            "max_width": null,
            "min_height": null,
            "min_width": null,
            "object_fit": null,
            "object_position": null,
            "order": null,
            "overflow": null,
            "overflow_x": null,
            "overflow_y": null,
            "padding": null,
            "right": null,
            "top": null,
            "visibility": null,
            "width": null
          }
        },
        "24c4137c61084e28a314d64c148e2d20": {
          "model_module": "@jupyter-widgets/controls",
          "model_name": "ProgressStyleModel",
          "model_module_version": "1.5.0",
          "state": {
            "_model_module": "@jupyter-widgets/controls",
            "_model_module_version": "1.5.0",
            "_model_name": "ProgressStyleModel",
            "_view_count": null,
            "_view_module": "@jupyter-widgets/base",
            "_view_module_version": "1.2.0",
            "_view_name": "StyleView",
            "bar_color": null,
            "description_width": ""
          }
        },
        "552e3403457641368df222e331e33293": {
          "model_module": "@jupyter-widgets/base",
          "model_name": "LayoutModel",
          "model_module_version": "1.2.0",
          "state": {
            "_model_module": "@jupyter-widgets/base",
            "_model_module_version": "1.2.0",
            "_model_name": "LayoutModel",
            "_view_count": null,
            "_view_module": "@jupyter-widgets/base",
            "_view_module_version": "1.2.0",
            "_view_name": "LayoutView",
            "align_content": null,
            "align_items": null,
            "align_self": null,
            "border": null,
            "bottom": null,
            "display": null,
            "flex": null,
            "flex_flow": null,
            "grid_area": null,
            "grid_auto_columns": null,
            "grid_auto_flow": null,
            "grid_auto_rows": null,
            "grid_column": null,
            "grid_gap": null,
            "grid_row": null,
            "grid_template_areas": null,
            "grid_template_columns": null,
            "grid_template_rows": null,
            "height": null,
            "justify_content": null,
            "justify_items": null,
            "left": null,
            "margin": null,
            "max_height": null,
            "max_width": null,
            "min_height": null,
            "min_width": null,
            "object_fit": null,
            "object_position": null,
            "order": null,
            "overflow": null,
            "overflow_x": null,
            "overflow_y": null,
            "padding": null,
            "right": null,
            "top": null,
            "visibility": null,
            "width": null
          }
        },
        "879981e70a9a406d999f37876ea3fca6": {
          "model_module": "@jupyter-widgets/controls",
          "model_name": "DescriptionStyleModel",
          "model_module_version": "1.5.0",
          "state": {
            "_model_module": "@jupyter-widgets/controls",
            "_model_module_version": "1.5.0",
            "_model_name": "DescriptionStyleModel",
            "_view_count": null,
            "_view_module": "@jupyter-widgets/base",
            "_view_module_version": "1.2.0",
            "_view_name": "StyleView",
            "description_width": ""
          }
        }
      }
    }
  },
  "nbformat": 4,
  "nbformat_minor": 5
}