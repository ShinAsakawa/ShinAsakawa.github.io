{
  "cells": [
    {
      "cell_type": "markdown",
      "metadata": {
        "id": "view-in-github",
        "colab_type": "text"
      },
      "source": [
        "<a href=\"https://colab.research.google.com/github/ShinAsakawa/ShinAsakawa.github.io/blob/master/2022notebooks/2022_1024CNN_layer_visualization.ipynb\" target=\"_parent\"><img src=\"https://colab.research.google.com/assets/colab-badge.svg\" alt=\"Open In Colab\"/></a>"
      ]
    },
    {
      "cell_type": "markdown",
      "id": "9b183e88-4bd5-452c-aeb3-2013e5ab78f0",
      "metadata": {
        "id": "9b183e88-4bd5-452c-aeb3-2013e5ab78f0"
      },
      "source": [
        "# 畳み込みニューラルネットワークの事前訓練済モデルの中間表現を可視化する\n",
        "\n",
        "- filename: `2022_1024CNN_layer_visualizaton.ipynb`\n",
        "- author: 浅川伸一\n",
        "- License: MIT\n",
        "- date: 2022_1024\n",
        "\n"
      ]
    },
    {
      "cell_type": "code",
      "execution_count": 2,
      "id": "208c8d6d-0e10-4f5a-8441-49fa171d403f",
      "metadata": {
        "id": "208c8d6d-0e10-4f5a-8441-49fa171d403f"
      },
      "outputs": [],
      "source": [
        "%config InlineBackend.figure_format = 'retina'\n",
        "try:\n",
        "    import bit\n",
        "except ImportError:\n",
        "    !pip install ipynbname --upgrade > /dev/null 2>&1\n",
        "    !git clone https://github.com/ShinAsakawa/bit.git\n",
        "    import bit\n",
        "\n",
        "isColab = bit.isColab\n",
        "HOME = bit.HOME"
      ]
    },
    {
      "cell_type": "code",
      "source": [
        "import torch\n",
        "import torchvision\n",
        "from torchvision import models, transforms\n",
        "from termcolor import colored\n",
        "\n",
        "from IPython.display import clear_output\n",
        "\n",
        "# torchviz のインストール\n",
        "try:\n",
        "    import torchviz\n",
        "except ImportError:\n",
        "    !pip install torchviz\n",
        "    import torchviz\n",
        "\n",
        "# torchsummary のインストール    \n",
        "try:\n",
        "    import torchsummary\n",
        "except ImportError:\n",
        "    !pip install torchsummary\n",
        "    import torchsummary    \n",
        "    \n",
        "try:    \n",
        "    import japanize_matplotlib    \n",
        "except ImportError:\n",
        "    !pip install japanize_matplotlib\n",
        "    import japanize_matplotlib\n",
        "    \n",
        "clear_output()    "
      ],
      "metadata": {
        "id": "GBicSZvQLXOm"
      },
      "id": "GBicSZvQLXOm",
      "execution_count": 3,
      "outputs": []
    },
    {
      "cell_type": "code",
      "execution_count": 4,
      "id": "63fb01df-2986-438e-b2ba-98ddf760741d",
      "metadata": {
        "id": "63fb01df-2986-438e-b2ba-98ddf760741d"
      },
      "outputs": [],
      "source": [
        "# 各モデルを定義し，訓練済み結合係数をダウンロード\n",
        "DNNs = {}\n",
        "DNNs['resnet18'] = models.resnet18(weights='DEFAULT', progress=True)\n",
        "DNNs['alexnet'] = models.alexnet(weights='DEFAULT', progress=True)\n",
        "DNNs['vgg16'] = models.vgg16(weights='DEFAULT', progress=True)\n",
        "DNNs['squeezenet']= models.squeezenet1_0(weights='DEFAULT', progress=True)\n",
        "DNNs['densenet'] = models.densenet161(weights='DEFAULT', progress=True)\n",
        "DNNs['inception'] = models.inception_v3(weights='DEFAULT', progress=True)\n",
        "DNNs['googlenet'] = models.googlenet(weights='DEFAULT', progress=True)\n",
        "DNNs['shufflenet'] = models.shufflenet_v2_x1_0(weights='DEFAULT', progress=True)\n",
        "DNNs['mobilenet'] = models.mobilenet_v2(weights='DEFAULT', progress=True)\n",
        "# DNNs['resnext50_32x4d'] = models.resnext50_32x4d(weights='DEFAULT', progress=True)\n",
        "# DNNs['wide_resnet50_2'] = models.wide_resnet50_2(weights='DEFAULT', progress=True)\n",
        "#DNNs['mnasnet'] = models.mnasnet1_0(weights='DEFAULT', progress=True)\n",
        "\n",
        "# 上の中から試したいモデルを選んでください。最後のモデルが有効になります。\n",
        "net = DNNs['resnet18'] \n",
        "# net = DNNs['alexnet']\n",
        "# net = DNNs['squeezenet']\n",
        "# net = DNNs['googlenet']\n",
        "#net = DNNs['shufflenet']\n",
        "# net = DNNs['mobilenet']\n",
        "#net = DNNs['vgg16']\n",
        "#net = DNNs['inception']\n",
        "clear_output()"
      ]
    },
    {
      "cell_type": "code",
      "source": [
        "import torchsummary\n",
        "torchsummary.summary(net,input_size=(3,224,224))"
      ],
      "metadata": {
        "id": "Bb6XOuW3yPPN"
      },
      "id": "Bb6XOuW3yPPN",
      "execution_count": null,
      "outputs": []
    },
    {
      "cell_type": "code",
      "source": [
        "from torchviz import make_dot\n",
        "x = torch.rand([1,3,224,224])\n",
        "y = net.forward(x)\n",
        "make_dot(y.mean(), params=dict(net.named_parameters()))    "
      ],
      "metadata": {
        "id": "Nk5ews9RyH4h"
      },
      "id": "Nk5ews9RyH4h",
      "execution_count": null,
      "outputs": []
    },
    {
      "cell_type": "code",
      "execution_count": null,
      "id": "ea418fc2-6621-4b3a-a793-4ab52fb37bd0",
      "metadata": {
        "id": "ea418fc2-6621-4b3a-a793-4ab52fb37bd0"
      },
      "outputs": [],
      "source": [
        "from torchviz import make_dot\n",
        "\n",
        "x = torch.rand([1,3,224,224])\n",
        "y = resnet_pt.forward(x)\n",
        "make_dot(y.mean(), params=dict(resnet_pt.named_parameters()))    "
      ]
    },
    {
      "cell_type": "code",
      "execution_count": null,
      "id": "cff952aa-3657-406c-acd5-12d76d8cc929",
      "metadata": {
        "id": "cff952aa-3657-406c-acd5-12d76d8cc929"
      },
      "outputs": [],
      "source": [
        "for module_name in net.named_modules():\n",
        "    if not '.' in module_name[0] and '' != module_name[0]:\n",
        "        print(f'モジュール名: {module_name[0]}')"
      ]
    },
    {
      "cell_type": "code",
      "execution_count": null,
      "id": "93cd32f1-7193-46aa-a9bc-c1fe111447b9",
      "metadata": {
        "id": "93cd32f1-7193-46aa-a9bc-c1fe111447b9"
      },
      "outputs": [],
      "source": [
        "class SaveOutput:\n",
        "    def __init__(self):\n",
        "        self.outputs = []\n",
        "\n",
        "    def __call__(self, module, module_in, module_out):\n",
        "        self.outputs.append(module_out)\n",
        "\n",
        "    def clear(self):\n",
        "        self.outputs = []\n",
        "\n",
        "saved_output = SaveOutput()\n",
        "hook_handles = []\n",
        "\n",
        "# hooked_modules の内容を上で表示されたモジュールの中から選ぶ必要があります\n",
        "hooked_modules = ['conv1', 'relu', 'layer1', 'layer2', 'layer3', 'layer4', 'avgpool']\n",
        "#hooked_modules = ['features', 'avgpool']\n",
        "#hooked_modules = ['maxpool2', 'maxpool3', 'maxpool4', 'avgpool']\n",
        "#hooked_modules = ['features.2', 'features.8', 'features.18']\n",
        "#hookd_modules = ['conv1', 'maxpool', 'stage2', 'stage3', 'stage4', 'conv5']\n",
        "#hookd_modules = ['conv1', 'conv5']\n",
        "for _module in net.named_modules():\n",
        "    if _module[0] in hooked_modules:\n",
        "        print(f'{_module[0]} hooked {type(_module[1])}')\n",
        "        handle = _module[1].register_forward_hook(saved_output)\n",
        "        hook_handles.append(handle)\n",
        "    \n",
        "saved_output.clear()"
      ]
    },
    {
      "cell_type": "code",
      "source": [
        "# サンプル画像を持ってくる\n",
        "!wget -O cat.jpg https://www.cats.org.uk/media/6189/manja-vitolic-gkxkby-c-dk-unsplash-web.jpg\n",
        "clear_output()"
      ],
      "metadata": {
        "id": "ABViNYUoy0aR"
      },
      "id": "ABViNYUoy0aR",
      "execution_count": 13,
      "outputs": []
    },
    {
      "cell_type": "code",
      "execution_count": null,
      "id": "08fdf11b-2e4b-4c17-8388-283a54ae0a1b",
      "metadata": {
        "id": "08fdf11b-2e4b-4c17-8388-283a54ae0a1b"
      },
      "outputs": [],
      "source": [
        "from PIL import Image\n",
        "from torchvision import transforms as T\n",
        "import matplotlib.pyplot as plt\n",
        "\n",
        "device = 'cuda' if torch.cuda.is_available() else 'cpu'\n",
        "image = Image.open('cat.jpg')\n",
        "transform = T.Compose([T.Resize((224, 224)), T.ToTensor()])\n",
        "X = transform(image).unsqueeze(dim=0).to(device)\n",
        "\n",
        "net.eval()\n",
        "out = net(X)\n",
        "len(saved_output.outputs)"
      ]
    },
    {
      "cell_type": "code",
      "execution_count": null,
      "id": "1e1cb69e-7482-437e-abca-184b4eed9795",
      "metadata": {
        "id": "1e1cb69e-7482-437e-abca-184b4eed9795"
      },
      "outputs": [],
      "source": [
        "# モジュールの表示\n",
        "plt.figure(figsize=(12,4))\n",
        "for i in range(len(saved_output.outputs)):\n",
        "    plt.subplot(1,len(saved_output.outputs),i+1)\n",
        "    plt.gca().set_title(f'{hooked_modules[i]}')\n",
        "    plt.imshow(saved_output.outputs[i].detach().numpy().mean(axis=1)[0], cmap='gray')\n",
        "\n",
        "plt.show() "
      ]
    }
  ],
  "metadata": {
    "kernelspec": {
      "display_name": "Python 3 (ipykernel)",
      "language": "python",
      "name": "python3"
    },
    "language_info": {
      "codemirror_mode": {
        "name": "ipython",
        "version": 3
      },
      "file_extension": ".py",
      "mimetype": "text/x-python",
      "name": "python",
      "nbconvert_exporter": "python",
      "pygments_lexer": "ipython3",
      "version": "3.9.13"
    },
    "colab": {
      "provenance": [],
      "include_colab_link": true
    }
  },
  "nbformat": 4,
  "nbformat_minor": 5
}