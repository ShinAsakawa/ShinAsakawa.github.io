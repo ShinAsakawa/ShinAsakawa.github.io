{
  "nbformat": 4,
  "nbformat_minor": 0,
  "metadata": {
    "colab": {
      "private_outputs": true,
      "provenance": [],
      "authorship_tag": "ABX9TyOFgblO4O7ne9uQPCAlTf8k",
      "include_colab_link": true
    },
    "kernelspec": {
      "name": "python3",
      "display_name": "Python 3"
    },
    "language_info": {
      "name": "python"
    }
  },
  "cells": [
    {
      "cell_type": "markdown",
      "metadata": {
        "id": "view-in-github",
        "colab_type": "text"
      },
      "source": [
        "<a href=\"https://colab.research.google.com/github/ShinAsakawa/ShinAsakawa.github.io/blob/master/2022notebooks/2022_1107softmax.ipynb\" target=\"_parent\"><img src=\"https://colab.research.google.com/assets/colab-badge.svg\" alt=\"Open In Colab\"/></a>"
      ]
    },
    {
      "cell_type": "markdown",
      "source": [
        "# ソフトマックス関数解題\n",
        "\n",
        "- data: 2022_1107\n"
      ],
      "metadata": {
        "id": "TQWQKCXIFFmJ"
      }
    },
    {
      "cell_type": "code",
      "execution_count": null,
      "metadata": {
        "id": "orjIwhosFCil"
      },
      "outputs": [],
      "source": [
        "import numpy as np\n",
        "import sys\n",
        "import scipy\n",
        "#from scipy.special import softmax\n",
        "import matplotlib.pyplot as plt\n",
        "try:\n",
        "    import japanize_matplotlib\n",
        "except ImportError:\n",
        "    !pip install japanize_matplotlib\n",
        "    import japanize_matplotlib\n",
        "\n",
        "def Softmax(x:np.array,\n",
        "            beta:float=1.0):\n",
        "    return np.exp(x/beta)/np.exp(x/beta).sum()\n",
        "\n",
        "data = np.array(np.arange(5))[::-1]\n",
        "betas = [0.1, 0.2, 0.4, 0.8, \n",
        "         1, 2, 4, 8,\n",
        "         16, 32, 64, 128]\n",
        "\n",
        "plt.figure(figsize=(12,5))\n",
        "for i, beta in enumerate(betas):\n",
        "    data = np.array(np.arange(5))[::-1]\n",
        "    output = Softmax(data, float(beta))\n",
        "    plt.subplot(3,4,(i+1))\n",
        "    plt.ylim(0,1)\n",
        "    plt.bar(range(len(output)), output)\n",
        "    plt.title(f'beta:{beta}')\n",
        "    #print(output)\n",
        "plt.show()\n"
      ]
    },
    {
      "cell_type": "code",
      "source": [
        "import numpy as np\n",
        "np.set_printoptions(precision=5)\n",
        "\n",
        "def kWTA(X:np.ndarray=np.random.randn(5), # 入力層\n",
        "         k:int=1,                         # 勝者の数\n",
        "         alpha = 0.,                      # 崩壊率\n",
        "         _lambda:float=1.0,               # 掃除層からのフィードバックかかるハイパーパラメータ\n",
        "                                          # lambda は Python の予約語で使えないため _labmda にした\n",
        "         n2k_limit:float=0.000001,\n",
        "         n2k_threshold:float=1.0,\n",
        "         max_t:int=50000,\n",
        "         verbose=False)->dict:\n",
        "    \"\"\"WTA の実装 \"\"\"\n",
        "    \n",
        "    max_u = np.argmax(X) # 初期状態での最大活性値を与えるユニット番号を保持しておく\n",
        "    if alpha == 0:       # 崩壊率，ユニット数が多いほど，小さい数値にした方が安定するので，こうしてみた。\n",
        "        alpha = 10 ** -(np.log10(X.shape[0])+5) \n",
        "\n",
        "    n = float(len(X))\n",
        "    n2k = n - (2. * k)\n",
        "\n",
        "    for t in range(max_t):                # max_t を上限として反復\n",
        "        Y = np.tanh(X)                    # 出力の計算\n",
        "        n_winners = ((Y > 0) * 1.).sum()  # 勝者数，出力が正のユニット数を計測\n",
        "        if ((n_winners == k)):            # 勝者数が条件どおりなら終了\n",
        "            break\n",
        "\n",
        "        old_n2k = n2k                     # 内部状態の更新，すなわち，拘束条件の計算\n",
        "        n2k = np.sum(Y) + (n - (2. * k))\n",
        "        #if np.abs(n2k - old_n2k) < n2k_limit: break\n",
        "        \n",
        "        X += - alpha * Y - _lambda * n2k  # 右辺第 1 項は自己回帰，右辺第 2 項は掃除層からのフィードバック\n",
        "        \n",
        "        if verbose:\n",
        "            print(f't:{t} n_winners:{n_winners}, n2k:{n2k:.3f} old_n2k:{old_n2k:.3f}')\n",
        "            print(f'X:{X}\\n   X:{Y}')\n",
        "            \n",
        "    _max_u = np.argmax(Y)                  # 反復計算終了時の最大活性を示すユニット番号\n",
        "    OK = False if max_u != _max_u or t == max_t else True\n",
        "    \n",
        "    return {'Y':Y, 'n_winners':n_winners, 'n2k':n2k, 'time':t, 'OK':OK}"
      ],
      "metadata": {
        "id": "_9Yn71EmFW3B"
      },
      "execution_count": null,
      "outputs": []
    },
    {
      "cell_type": "code",
      "source": [
        "import numpy as np\n",
        "import sys\n",
        "import scipy\n",
        "from scipy.special import softmax\n",
        "import matplotlib.pyplot as plt\n",
        "try:\n",
        "    import japanize_matplotlib\n",
        "except ImportError:\n",
        "    !pip install japanize_matplotlib\n",
        "    import japanize_matplotlib\n",
        "\n",
        "def Softmax(x:np.array,\n",
        "            beta:float=1.0,\n",
        "           ):\n",
        "    d0 = np.exp(x/beta)\n",
        "    d1 = np.exp(x/beta).sum()\n",
        "    return d0/d1\n",
        "\n",
        "data = np.array(np.arange(5))[::-1]\n",
        "#print(f'data:{data}')\n",
        "betas = [ 4,  8, 12, 14, 15, 16, \n",
        "         20, 24, 25, 26, 27, 28, \n",
        "         29, 30, 31, 32, 33, 38, \n",
        "         42, 48, 52, 58, 60, 64]\n",
        "\n",
        "plt.figure(figsize=(20,14))\n",
        "for i, beta in enumerate(betas):\n",
        "    data = np.array(np.arange(5))[::-1]\n",
        "    output = Softmax(data, float(beta))\n",
        "    plt.subplot(4, 6,(i+1))\n",
        "    plt.ylim(0,1)\n",
        "    plt.bar(range(len(output)), output)\n",
        "    #print(output)\n",
        "    ret = kWTA(X=output, k=1)\n",
        "    plt.title(f'beta:{beta}, 反復回数:{ret[\"time\"]}')\n",
        "plt.show()\n"
      ],
      "metadata": {
        "id": "u7h5LBgkFt1h"
      },
      "execution_count": null,
      "outputs": []
    },
    {
      "cell_type": "code",
      "source": [],
      "metadata": {
        "id": "hrUoQ5EgFxLU"
      },
      "execution_count": null,
      "outputs": []
    }
  ]
}