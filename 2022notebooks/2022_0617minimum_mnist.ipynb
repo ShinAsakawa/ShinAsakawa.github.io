{
  "nbformat": 4,
  "nbformat_minor": 0,
  "metadata": {
    "colab": {
      "name": "2022_0617minimum_mnist.ipynb",
      "provenance": [],
      "private_outputs": true,
      "authorship_tag": "ABX9TyMlD60h2uqbkD+iTH++wECa",
      "include_colab_link": true
    },
    "kernelspec": {
      "name": "python3",
      "display_name": "Python 3"
    }
  },
  "cells": [
    {
      "cell_type": "markdown",
      "metadata": {
        "id": "view-in-github",
        "colab_type": "text"
      },
      "source": [
        "<a href=\"https://colab.research.google.com/github/ShinAsakawa/ShinAsakawa.github.io/blob/master/2022notebooks/2022_0617minimum_mnist.ipynb\" target=\"_parent\"><img src=\"https://colab.research.google.com/assets/colab-badge.svg\" alt=\"Open In Colab\"/></a>"
      ]
    },
    {
      "cell_type": "code",
      "metadata": {
        "id": "VNKhuJpncsAo"
      },
      "source": [
        "import torch\n",
        "from torchvision import transforms\n",
        "from torchvision import datasets\n",
        "from torchvision.transforms import ToTensor \n",
        "\n",
        "_transform = transforms.Compose([transforms.ToTensor(), \n",
        "                                 transforms.Normalize((0.7,), (0.7,)),])\n",
        "\n",
        "train_dataset = datasets.MNIST(root='.', \n",
        "                              train=True, \n",
        "                              download=True, \n",
        "                              transform=_transform)\n",
        "train_dataloader = torch.utils.data.DataLoader(train_dataset, \n",
        "                                               batch_size=32, \n",
        "                                               shuffle=True)\n",
        "\n",
        "test_dataset = datasets.MNIST(root='.', \n",
        "                             train=False, \n",
        "                             download=True, \n",
        "                             transform=_transform)\n",
        "test_dataloader = torch.utils.data.DataLoader(test_dataset, \n",
        "                                              batch_size=32, \n",
        "                                              shuffle=False)\n",
        "\n",
        "class simple_model(torch.nn.Module):\n",
        "    def __init__(self):\n",
        "        super().__init__()\n",
        "        self.linear1 = torch.nn.Linear(28*28, 100) \n",
        "        self.linear2 = torch.nn.Linear(100, 50) \n",
        "        self.final = torch.nn.Linear(50, 10)\n",
        "        self.relu = torch.nn.ReLU()\n",
        "\n",
        "    def forward(self, image):\n",
        "        a = image.view(-1, 28 * 28)\n",
        "        a = self.relu(self.linear1(a))\n",
        "        a = self.relu(self.linear2(a))\n",
        "        a = self.final(a)\n",
        "        return a\n",
        "\n",
        "model = simple_model()\n",
        "print(model)"
      ],
      "execution_count": null,
      "outputs": []
    },
    {
      "cell_type": "code",
      "metadata": {
        "id": "HoN6pVEkcuZx"
      },
      "source": [
        "import torch.optim as optim\n",
        "\n",
        "criterion = torch.nn.CrossEntropyLoss()\n",
        "optimizer = optim.Adam(model.parameters(), lr=0.001)\n",
        "\n",
        "losses = []\n",
        "epochs = 2\n",
        "for epoch in range(epochs):\n",
        "    for i, (imgs, labels) in enumerate(train_dataloader): \n",
        "        imgs = imgs.reshape(-1, 28*28)\n",
        "        output = model(imgs)\n",
        "        loss = criterion(output, labels)\n",
        "\n",
        "        if i % 500 == 0:\n",
        "            print (f'エポック:{epoch+1}/{epochs}, i:{i:5d}, 損失: {loss.item():.3f}')\n",
        "\n",
        "        optimizer.zero_grad()\n",
        "        loss.backward()\n",
        "        optimizer.step() \n",
        "        losses.append(loss.item())"
      ],
      "execution_count": null,
      "outputs": []
    },
    {
      "cell_type": "code",
      "metadata": {
        "id": "HW9WufWgcwz7"
      },
      "source": [
        "import matplotlib.pyplot as plt\n",
        "plt.plot(losses)"
      ],
      "execution_count": null,
      "outputs": []
    },
    {
      "cell_type": "code",
      "source": [
        ""
      ],
      "metadata": {
        "id": "6ruNEHyUU1Gb"
      },
      "execution_count": null,
      "outputs": []
    }
  ]
}