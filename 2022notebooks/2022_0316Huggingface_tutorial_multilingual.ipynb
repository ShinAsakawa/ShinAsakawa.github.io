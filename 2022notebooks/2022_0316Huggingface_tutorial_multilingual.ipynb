{
  "cells": [
    {
      "cell_type": "markdown",
      "metadata": {
        "id": "view-in-github",
        "colab_type": "text"
      },
      "source": [
        "<a href=\"https://colab.research.google.com/github/ShinAsakawa/ShinAsakawa.github.io/blob/master/2022notebooks/2022_0316Huggingface_tutorial_multilingual.ipynb\" target=\"_parent\"><img src=\"https://colab.research.google.com/assets/colab-badge.svg\" alt=\"Open In Colab\"/></a>"
      ]
    },
    {
      "cell_type": "code",
      "execution_count": null,
      "metadata": {
        "id": "Y8jY3K-VnHi4"
      },
      "outputs": [],
      "source": [
        "# Transformers installation\n",
        "! pip install transformers datasets\n",
        "# To install from source instead of the last release, comment the command above and uncomment the following one.\n",
        "# ! pip install git+https://github.com/huggingface/transformers.git"
      ]
    },
    {
      "cell_type": "markdown",
      "metadata": {
        "id": "HxzwFeTknHi6"
      },
      "source": [
        "# 推論のための多言語モデル\n",
        "<!-- # Multilingual models for inference -->"
      ]
    },
    {
      "cell_type": "markdown",
      "metadata": {
        "id": "aJ_zDscOnHi7"
      },
      "source": [
        "🤗 Transformersにはいくつかの多言語モデルがあり，その推論の使い方は単言語モデルとは異なります。\n",
        "しかし，多言語モデルの使い方が *すべて* 異なるわけではありません。\n",
        "[bert-base-multilingual-uncased](https://huggingface.co/bert-base-multilingual-uncased) のように，単一言語モデルと同じように使えるモデルもあります。\n",
        "このガイドでは，使い方が異なる多言語モデルを推論に利用する方法を紹介します。\n",
        "<!-- There are several multilingual models in 🤗 Transformers, and their inference usage differs from monolingual models. \n",
        "Not *all* multilingual model usage is different though. \n",
        "Some models, like [bert-base-multilingual-uncased](https://huggingface.co/bert-base-multilingual-uncased), can be used just like a monolingual model. \n",
        "This guide will show you how to use multilingual models whose usage differs for inference. -->"
      ]
    },
    {
      "cell_type": "markdown",
      "metadata": {
        "id": "RvSuYBsfnHi7"
      },
      "source": [
        "## XLM"
      ]
    },
    {
      "cell_type": "markdown",
      "metadata": {
        "id": "V3o-NvFrnHi8"
      },
      "source": [
        "XLM には 10 種類のチェックポイントがあり，そのうち 1 つだけが単一言語です。\n",
        "残りの 9 つのモデルのチェックポイントは，言語埋め込みを使うチェックポイントと使わないチェックポイントに分けることができます。\n",
        "<!-- XLM has ten different checkpoints, only one of which is monolingual. \n",
        "The nine remaining model checkpoints can be split into two categories: the checkpoints that use language embeddings and those that don't. -->"
      ]
    },
    {
      "cell_type": "markdown",
      "metadata": {
        "id": "f-3aKfqfnHi8"
      },
      "source": [
        "### 言語埋め込みを用いた XLM\n",
        "<!-- ### XLM with language embeddings -->"
      ]
    },
    {
      "cell_type": "markdown",
      "metadata": {
        "id": "ocDPKPpinHi9"
      },
      "source": [
        "以下の XLM モデルは，推論時に使用する言語を指定するために言語埋め込みを使用しています。\n",
        "<!-- The following XLM models use language embeddings to specify the language used at inference: -->\n",
        "\n",
        "- `xlm-mlm-ende-1024` (Masked language modeling, English-German)\n",
        "- `xlm-mlm-enfr-1024` (Masked language modeling, English-French)\n",
        "- `xlm-mlm-enro-1024` (Masked language modeling, English-Romanian)\n",
        "- `xlm-mlm-xnli15-1024` (Masked language modeling, XNLI languages)\n",
        "- `xlm-mlm-tlm-xnli15-1024` (Masked language modeling + translation, XNLI languages)\n",
        "- `xlm-clm-enfr-1024` (Causal language modeling, English-French)\n",
        "- `xlm-clm-ende-1024` (Causal language modeling, English-German)\n",
        "\n",
        "言語埋め込みはモデルに渡された `input_ids` と同じ形のテンソルとして表現されます。\n",
        "これらのテンソルの値は使用する言語に依存し，トークン化器の `lang2id` 属性と `id2lang` 属性によって識別されます。\n",
        "<!-- Language embeddings are represented as a tensor of the same shape as the `input_ids` passed to the model. The values in these tensors depend on the language used and are identified by the tokenizer's `lang2id` and `id2lang` attributes.-->\n",
        "\n",
        "この例では `xlm-clm-enfr-1024` チェックポイントをロードします (Causal language modeling, English-French):\n",
        "<!-- In this example, load the `xlm-clm-enfr-1024` checkpoint (Causal language modeling, English-French): -->"
      ]
    },
    {
      "cell_type": "code",
      "execution_count": null,
      "metadata": {
        "id": "bofOUsLwnHi9"
      },
      "outputs": [],
      "source": [
        "import torch\n",
        "from transformers import XLMTokenizer, XLMWithLMHeadModel\n",
        "\n",
        "tokenizer = XLMTokenizer.from_pretrained(\"xlm-clm-enfr-1024\")\n",
        "model = XLMWithLMHeadModel.from_pretrained(\"xlm-clm-enfr-1024\")"
      ]
    },
    {
      "cell_type": "markdown",
      "metadata": {
        "id": "bbGIcP8QnHi-"
      },
      "source": [
        "トークン化器の `lang2id` 属性は，このモデルの言語とその ID を表示します。\n",
        "<!-- The `lang2id` attribute of the tokenizer displays this model's languages and their ids: -->"
      ]
    },
    {
      "cell_type": "code",
      "execution_count": null,
      "metadata": {
        "id": "rrzt1uUQnHi-",
        "outputId": "5f8c9d89-0806-4c21-97b8-ccd519f02e02"
      },
      "outputs": [
        {
          "data": {
            "text/plain": [
              "{'en': 0, 'fr': 1}"
            ]
          },
          "execution_count": null,
          "metadata": {},
          "output_type": "execute_result"
        }
      ],
      "source": [
        "print(tokenizer.lang2id)"
      ]
    },
    {
      "cell_type": "markdown",
      "metadata": {
        "id": "pj-NgHg7nHi_"
      },
      "source": [
        "Next, create an example input:"
      ]
    },
    {
      "cell_type": "code",
      "execution_count": null,
      "metadata": {
        "id": "c1hzJhvgnHi_"
      },
      "outputs": [],
      "source": [
        "input_ids = torch.tensor([tokenizer.encode(\"Wikipedia was used to\")])  # batch size of 1"
      ]
    },
    {
      "cell_type": "markdown",
      "metadata": {
        "id": "KCWx8pVbnHi_"
      },
      "source": [
        "Set the language id as `\"en\"` and use it to define the language embedding. The language embedding is a tensor filled with `0` since that is the language id for English. This tensor should be the same size as `input_ids`."
      ]
    },
    {
      "cell_type": "code",
      "execution_count": null,
      "metadata": {
        "id": "1zgSzBXbnHjA"
      },
      "outputs": [],
      "source": [
        "language_id = tokenizer.lang2id[\"en\"]  # 0\n",
        "langs = torch.tensor([language_id] * input_ids.shape[1])  # torch.tensor([0, 0, 0, ..., 0])\n",
        "\n",
        "# We reshape it to be of size (batch_size, sequence_length)\n",
        "langs = langs.view(1, -1)  # is now of shape [1, sequence_length] (we have a batch size of 1)"
      ]
    },
    {
      "cell_type": "markdown",
      "metadata": {
        "id": "TuPXK2C3nHjA"
      },
      "source": [
        "Now you can pass the `input_ids` and language embedding to the model:"
      ]
    },
    {
      "cell_type": "code",
      "execution_count": null,
      "metadata": {
        "id": "oIJBSpiTnHjA"
      },
      "outputs": [],
      "source": [
        "outputs = model(input_ids, langs=langs)"
      ]
    },
    {
      "cell_type": "markdown",
      "metadata": {
        "id": "dbO-QZbWnHjA"
      },
      "source": [
        "The [run_generation.py](https://github.com/huggingface/transformers/tree/master/examples/pytorch/text-generation/run_generation.py) script can generate text with language embeddings using the `xlm-clm` checkpoints."
      ]
    },
    {
      "cell_type": "markdown",
      "metadata": {
        "id": "dQ8kJ8r1nHjA"
      },
      "source": [
        "### XLM without language embeddings"
      ]
    },
    {
      "cell_type": "markdown",
      "metadata": {
        "id": "g55BpduKnHjA"
      },
      "source": [
        "The following XLM models do not require language embeddings during inference:\n",
        "\n",
        "- `xlm-mlm-17-1280` (Masked language modeling, 17 languages)\n",
        "- `xlm-mlm-100-1280` (Masked language modeling, 100 languages)\n",
        "\n",
        "These models are used for generic sentence representations, unlike the previous XLM checkpoints."
      ]
    },
    {
      "cell_type": "markdown",
      "metadata": {
        "id": "t0jVkDa3nHjB"
      },
      "source": [
        "## BERT"
      ]
    },
    {
      "cell_type": "markdown",
      "metadata": {
        "id": "5Os1VeXEnHjB"
      },
      "source": [
        "The following BERT models can be used for multilingual tasks:\n",
        "\n",
        "- `bert-base-multilingual-uncased` (Masked language modeling + Next sentence prediction, 102 languages)\n",
        "- `bert-base-multilingual-cased` (Masked language modeling + Next sentence prediction, 104 languages)\n",
        "\n",
        "These models do not require language embeddings during inference. They should identify the language from the\n",
        "context and infer accordingly."
      ]
    },
    {
      "cell_type": "markdown",
      "metadata": {
        "id": "nzwwl7B0nHjB"
      },
      "source": [
        "## XLM-RoBERTa"
      ]
    },
    {
      "cell_type": "markdown",
      "metadata": {
        "id": "xvx97ALjnHjB"
      },
      "source": [
        "The following XLM-RoBERTa models can be used for multilingual tasks:\n",
        "\n",
        "- `xlm-roberta-base` (Masked language modeling, 100 languages)\n",
        "- `xlm-roberta-large` (Masked language modeling, 100 languages)\n",
        "\n",
        "XLM-RoBERTa was trained on 2.5TB of newly created and cleaned CommonCrawl data in 100 languages. It provides strong gains over previously released multilingual models like mBERT or XLM on downstream tasks like classification, sequence labeling, and question answering."
      ]
    },
    {
      "cell_type": "markdown",
      "metadata": {
        "id": "DdE76q_LnHjB"
      },
      "source": [
        "## M2M100"
      ]
    },
    {
      "cell_type": "markdown",
      "metadata": {
        "id": "gQbkJjW6nHjB"
      },
      "source": [
        "The following M2M100 models can be used for multilingual translation:\n",
        "\n",
        "- `facebook/m2m100_418M` (Translation)\n",
        "- `facebook/m2m100_1.2B` (Translation)\n",
        "\n",
        "In this example, load the `facebook/m2m100_418M` checkpoint to translate from Chinese to English. You can set the source language in the tokenizer:"
      ]
    },
    {
      "cell_type": "code",
      "execution_count": null,
      "metadata": {
        "id": "Z0B2rIdlnHjB"
      },
      "outputs": [],
      "source": [
        "from transformers import M2M100ForConditionalGeneration, M2M100Tokenizer\n",
        "\n",
        "en_text = \"Do not meddle in the affairs of wizards, for they are subtle and quick to anger.\"\n",
        "chinese_text = \"不要插手巫師的事務, 因為他們是微妙的, 很快就會發怒.\"\n",
        "\n",
        "tokenizer = M2M100Tokenizer.from_pretrained(\"facebook/m2m100_418M\", src_lang=\"zh\")\n",
        "model = M2M100ForConditionalGeneration.from_pretrained(\"facebook/m2m100_418M\")"
      ]
    },
    {
      "cell_type": "markdown",
      "metadata": {
        "id": "dW1Ebfl0nHjB"
      },
      "source": [
        "Tokenize the text:"
      ]
    },
    {
      "cell_type": "code",
      "execution_count": null,
      "metadata": {
        "id": "SjpSQ7zBnHjB"
      },
      "outputs": [],
      "source": [
        "encoded_zh = tokenizer(chinese_text, return_tensors=\"pt\")"
      ]
    },
    {
      "cell_type": "markdown",
      "metadata": {
        "id": "XPFzoTyJnHjB"
      },
      "source": [
        "M2M100 forces the target language id as the first generated token to translate to the target language. Set the `forced_bos_token_id` to `en` in the `generate` method to translate to English:"
      ]
    },
    {
      "cell_type": "code",
      "execution_count": null,
      "metadata": {
        "id": "SV7bNh3tnHjC",
        "outputId": "0a468d7b-78bd-4fc8-89eb-eb6ac1bd9434"
      },
      "outputs": [
        {
          "data": {
            "text/plain": [
              "'Do not interfere with the matters of the witches, because they are delicate and will soon be angry.'"
            ]
          },
          "execution_count": null,
          "metadata": {},
          "output_type": "execute_result"
        }
      ],
      "source": [
        "generated_tokens = model.generate(**encoded_zh, forced_bos_token_id=tokenizer.get_lang_id(\"en\"))\n",
        "tokenizer.batch_decode(generated_tokens, skip_special_tokens=True)"
      ]
    },
    {
      "cell_type": "markdown",
      "metadata": {
        "id": "cRF3wJvvnHjC"
      },
      "source": [
        "## MBart"
      ]
    },
    {
      "cell_type": "markdown",
      "metadata": {
        "id": "nwdIkaEEnHjC"
      },
      "source": [
        "The following MBart models can be used for multilingual translation:\n",
        "\n",
        "- `facebook/mbart-large-50-one-to-many-mmt` (One-to-many multilingual machine translation, 50 languages)\n",
        "- `facebook/mbart-large-50-many-to-many-mmt` (Many-to-many multilingual machine translation, 50 languages)\n",
        "- `facebook/mbart-large-50-many-to-one-mmt` (Many-to-one multilingual machine translation, 50 languages)\n",
        "- `facebook/mbart-large-50` (Multilingual translation, 50 languages)\n",
        "- `facebook/mbart-large-cc25`\n",
        "\n",
        "In this example, load the `facebook/mbart-large-50-many-to-many-mmt` checkpoint to translate Finnish to English. You can set the source language in the tokenizer:"
      ]
    },
    {
      "cell_type": "code",
      "execution_count": null,
      "metadata": {
        "id": "quMFqar2nHjC"
      },
      "outputs": [],
      "source": [
        "from transformers import AutoTokenizer, AutoModelForSeq2SeqLM\n",
        "\n",
        "en_text = \"Do not meddle in the affairs of wizards, for they are subtle and quick to anger.\"\n",
        "fi_text = \"Älä sekaannu velhojen asioihin, sillä ne ovat hienovaraisia ja nopeasti vihaisia.\"\n",
        "\n",
        "tokenizer = AutoTokenizer.from_pretrained(\"facebook/mbart-large-50-many-to-many-mmt\", src_lang=\"fi_FI\")\n",
        "model = AutoModelForSeq2SeqLM.from_pretrained(\"facebook/mbart-large-50-many-to-many-mmt\")"
      ]
    },
    {
      "cell_type": "markdown",
      "metadata": {
        "id": "KMksniQlnHjC"
      },
      "source": [
        "Tokenize the text:"
      ]
    },
    {
      "cell_type": "code",
      "execution_count": null,
      "metadata": {
        "id": "mir8kCNwnHjC"
      },
      "outputs": [],
      "source": [
        "encoded_en = tokenizer(en_text, return_tensors=\"pt\")"
      ]
    },
    {
      "cell_type": "markdown",
      "metadata": {
        "id": "c6wO0RSpnHjC"
      },
      "source": [
        "MBart forces the target language id as the first generated token to translate to the target language. Set the `forced_bos_token_id` to `en` in the `generate` method to translate to English:"
      ]
    },
    {
      "cell_type": "code",
      "execution_count": null,
      "metadata": {
        "id": "R0DImyzhnHjC",
        "outputId": "5d177b09-a2cb-4fcd-d09c-5ed3848b0606"
      },
      "outputs": [
        {
          "data": {
            "text/plain": [
              "\"Don't interfere with the wizard's affairs, because they are subtle, will soon get angry.\""
            ]
          },
          "execution_count": null,
          "metadata": {},
          "output_type": "execute_result"
        }
      ],
      "source": [
        "generated_tokens = model.generate(**encoded_en, forced_bos_token_id=tokenizer.lang_code_to_id(\"en_XX\"))\n",
        "tokenizer.batch_decode(generated_tokens, skip_special_tokens=True)"
      ]
    },
    {
      "cell_type": "markdown",
      "metadata": {
        "id": "aaUt0EJ_nHjC"
      },
      "source": [
        "If you are using the `facebook/mbart-large-50-many-to-one-mmt` checkpoint, you don't need to force the target language id as the first generated token otherwise the usage is the same."
      ]
    }
  ],
  "metadata": {
    "colab": {
      "name": "2022_0316Huggingface_tutorial_multilingual.ipynb",
      "provenance": [],
      "include_colab_link": true
    },
    "language_info": {
      "name": "python"
    },
    "kernelspec": {
      "name": "python3",
      "display_name": "Python 3"
    }
  },
  "nbformat": 4,
  "nbformat_minor": 0
}