{
  "nbformat": 4,
  "nbformat_minor": 0,
  "metadata": {
    "colab": {
      "private_outputs": true,
      "provenance": [],
      "authorship_tag": "ABX9TyOdRmib/Ce6mwgvMt1KTfdh",
      "include_colab_link": true
    },
    "kernelspec": {
      "name": "python3",
      "display_name": "Python 3"
    },
    "language_info": {
      "name": "python"
    }
  },
  "cells": [
    {
      "cell_type": "markdown",
      "metadata": {
        "id": "view-in-github",
        "colab_type": "text"
      },
      "source": [
        "<a href=\"https://colab.research.google.com/github/ShinAsakawa/ShinAsakawa.github.io/blob/master/2022notebooks/2022_1020lam_test.ipynb\" target=\"_parent\"><img src=\"https://colab.research.google.com/assets/colab-badge.svg\" alt=\"Open In Colab\"/></a>"
      ]
    },
    {
      "cell_type": "code",
      "source": [
        "%config InlineBackend.figure_format = 'retina'\n",
        "try:\n",
        "    import bit\n",
        "except ImportError:\n",
        "    !pip install ipynbname --upgrade > /dev/null 2>&1 \n",
        "    !git clone https://github.com/ShinAsakawa/bit.git\n",
        "import bit\n",
        "\n",
        "isColab = bit.isColab\n",
        "HOME = bit.HOME\n",
        "\n",
        "if isColab:\n",
        "    # 近藤先生のご指摘によりインストールされる全ライブラリのメッセージを表示させることにした\n",
        "    !apt install aptitude\n",
        "    !aptitude install mecab libmecab-dev mecab-ipadic-utf8 git make curl xz-utils file -y\n",
        "    !pip install mecab-python3==0.7\n",
        "    !pip install -q konoha[all]\n",
        "    !pip install jaconv\n",
        "    !pip install japanize_matplotlib\n",
        "    \n",
        "    import MeCab\n",
        "    wakati = MeCab.Tagger('-Owakati').parse\n",
        "    yomi = MeCab.Tagger('-Oyomi').parse\n",
        "else:\n",
        "    from ccap.mecab_settings import yomi\n",
        "    from ccap.mecab_settings import wakati\n"
      ],
      "metadata": {
        "id": "VGgy0mta3D3V"
      },
      "execution_count": null,
      "outputs": []
    },
    {
      "cell_type": "code",
      "source": [
        "# 自作ライブラリ LAM の読み込み\n",
        "if isColab:\n",
        "    !git clone https://github.com/ShinAsakawa/ccap.git\n",
        "    !git clone https://github.com/ShinAsakawa/lam.git"
      ],
      "metadata": {
        "id": "anVZ6V3N-9is"
      },
      "execution_count": null,
      "outputs": []
    },
    {
      "cell_type": "code",
      "source": [
        "# upload `psylex71utf8.txt` from local drive\n",
        "# Be carefull! This file is copyright protected. \n",
        "from google.colab import files\n",
        "uploaded = files.upload()\n",
        "!mv psylex71utf8.txt ccap"
      ],
      "metadata": {
        "id": "mydF09TND7yg"
      },
      "execution_count": null,
      "outputs": []
    },
    {
      "cell_type": "code",
      "source": [
        "# ここはお遊びなので，スキップしても良い\n",
        "import IPython\n",
        "IPython.display.Image(url=\"https://livedoor.blogimg.jp/ftb001/imgs/b/4/b4629a79.jpg\")"
      ],
      "metadata": {
        "id": "2lMc1L0EDhZ4"
      },
      "execution_count": null,
      "outputs": []
    },
    {
      "cell_type": "code",
      "source": [
        "%load_ext autoreload\n",
        "%autoreload 2\n",
        "\n",
        "import torch\n",
        "import torch.nn\n",
        "import torch.optim\n",
        "\n",
        "# 自作ライブラリ LAM の読み込み\n",
        "import lam \n",
        "from lam import EncoderRNN\n",
        "from lam import AttnDecoderRNN\n",
        "from lam import convert_ids2tensor\n",
        "from lam import train\n",
        "from lam import asMinutes, timeSince\n",
        "#from lam import fit\n",
        "from lam import convert_ids2tensor\n",
        "from lam import fix_seed\n",
        "from lam import worker_init_fn\n",
        "from lam import make_vocab_dataset\n",
        "\n",
        "import os\n",
        "import sys\n",
        "import typing\n",
        "import numpy as np\n",
        "import random\n",
        "import pandas as pd\n",
        "import gzip\n",
        "import copy\n",
        "from termcolor import colored\n",
        "\n",
        "# from tqdm import tqdm         #commandline で実行時\n",
        "from tqdm.notebook import tqdm  #jupyter で実行時\n",
        "\n",
        "# from tqdm import tqdm         #commandline で実行時\n",
        "from tqdm.notebook import tqdm  #jupyter で実行時\n",
        "\n",
        "# シミュレーションに必要なパラメータの設定\n",
        "params = {\n",
        "    'traindata_size':   10000,    # 訓練データ数，NTT 日本語語彙特性の高頻度語を上位から抽出\n",
        "    #'traindata_size': 301612,    # 訓練データ数，NTT 日本語語彙特性の高頻度語を上位から抽出\n",
        "    'epochs': 20,                # 学習のためのエポック数\n",
        "    'hidden_size': 24,           # 中間層のニューロン数\n",
        "    'random_seed': 42,           # 乱数の種。ダグラス・アダムス著「銀河ヒッチハイカーズガイド」\n",
        "\n",
        "    # 以下 `source` と `target` を定義することで，別の課題を実行可能\n",
        "    'source': 'orthography',        # ['orthography', 'phonology', 'mora', 'mora_p', 'mora_p_r']\n",
        "    'target': 'mora_p_r',          # ['orthography', 'phonology', 'mora', 'mora_p', 'mora_p_r']\n",
        "    # 'orthography': 書記素, \n",
        "    # 'phonology': 音韻, \n",
        "    # 'mora': モーラ\n",
        "    # 'mora_p': モーラを silius による音分解\n",
        "    # 'mora_p_r': モーラの silius 音分解の逆\n",
        "    'pretrained': False,          # True であれば訓練済ファイルを読み込む\n",
        "    #'pretrained': True,          # True であれば訓練済ファイルを読み込む\n",
        "    'isTrain'   : True,          # True であれば学習する\n",
        "    \n",
        "    # 学習済のモデルパラメータを保存するファイル名\n",
        "    #'path_saved': '2022_0607lam_o2p_hid32_vocab10k.pt', \n",
        "    #'path_saved': '2022_0829lam_p2p_hid24_vocab10k.pt',\n",
        "    'path_saved': False,                      # 保存しない場合\n",
        "    \n",
        "    # 結果の散布図を保存するファイル名    \n",
        "    'path_graph': '2022_0829lam_p2p_hid24_vocab10k.pdf',\n",
        "    #'path_graph': False,                      # 保存しない場合\n",
        "\n",
        "    'lr': 0.001,                              # 学習率\n",
        "    'dropout_p': 0.0,                         # ドロップアウト率\n",
        "    'teacher_forcing_ratio': 0.5,             # 教師強制を行う確率\n",
        "    'optim_func': torch.optim.Adam,           # 最適化アルゴリズム ['torch.optim.Adam', 'torch.optim.SGD', 'torch.optim.AdamW']\n",
        "    'loss_func' :torch.nn.CrossEntropyLoss(), # 交差エントロピー損失 ['torch.nn.NLLLoss()', or 'torch.nn.CrossEntropyLoss()']\n",
        "}\n",
        "\n",
        "device = lam.device  # CPU or GPU の選択\n",
        "\n",
        "for param in params:\n",
        "    print(colored(f'{param}','blue',attrs=['bold']), colored(f': {params[param]}','grey'))\n",
        "    \n",
        "# 乱数シード固定（再現性担保のため）\n",
        "fix_seed(seed = params['random_seed'])\n",
        "print(worker_init_fn(1))    \n",
        "\n",
        "_vocab = lam.VOCAB(traindata_size=params['traindata_size'], yomi=yomi)"
      ],
      "metadata": {
        "id": "hUjOGlRE_iq1"
      },
      "execution_count": null,
      "outputs": []
    },
    {
      "cell_type": "code",
      "source": [
        "%%bash\n",
        "# mecabとmecab-python3の依存関係をインストール\n",
        "apt-get install mecab swig libmecab-dev mecab-ipadic-utf8\n",
        "# mecab-pythonのインストール\n",
        "pip install mecab-python3\n",
        "\n",
        "# crfppダウンロード(cabochaの依存関係)\n",
        "curl -sL -o CRF++-0.58.tar.gz \"https://drive.google.com/uc?export=download&id=0B4y35FiV1wh7QVR6VXJ5dWExSTQ\"\n",
        "tar -zxf CRF++-0.58.tar.gz\n",
        "# crfppインストール\n",
        "cd CRF++-0.58\n",
        "./configure && make && make install && ldconfig\n",
        "cd ..\n",
        "\n",
        "# cabochaダウンロード\n",
        "url=\"https://drive.google.com/uc?export=download&id=0B4y35FiV1wh7SDd1Q1dUQkZQaUU\"\n",
        "curl -sc /tmp/cookie ${url} >/dev/null\n",
        "code=\"$(awk '/_warning_/ {print $NF}' /tmp/cookie)\"\n",
        "curl -sLb /tmp/cookie ${url}\"&confirm=${code}\" -o cabocha-0.69.tar.bz2\n",
        "tar -jxf cabocha-0.69.tar.bz2\n",
        "# cabochaインストール\n",
        "cd cabocha-0.69\n",
        "./configure -with-charset=utf-8 && make && make check && make install && ldconfig\n",
        "# cabocha-pythonのインストール\n",
        "pip install python/\n",
        "cd .."
      ],
      "metadata": {
        "id": "vHpdz5xjiT26"
      },
      "execution_count": null,
      "outputs": []
    },
    {
      "cell_type": "code",
      "source": [
        "!rm -rf CRF++-0.58.tar.gz CRF++-0.58"
      ],
      "metadata": {
        "id": "mKg7jO51j_Js"
      },
      "execution_count": null,
      "outputs": []
    },
    {
      "cell_type": "code",
      "source": [
        "%%bash\n",
        "# crfppダウンロード(cabochaの依存関係)\n",
        "curl -sL -o CRF++-0.58.tar.gz \"https://drive.google.com/uc?export=download&id=0B4y35FiV1wh7QVR6VXJ5dWExSTQ\"\n",
        "tar -zxf CRF++-0.58.tar.gz\n",
        "# crfppインストール\n",
        "cd CRF++-0.58\n",
        "./configure && make && make install && ldconfig\n",
        "cd .."
      ],
      "metadata": {
        "id": "09q9k0VsioHK"
      },
      "execution_count": null,
      "outputs": []
    },
    {
      "cell_type": "code",
      "source": [
        "# https://drive.google.com/drive/u/0/folders/0B4y35FiV1wh7cGRCUUJHVTNJRnM?resourcekey=0-ym0BJTHMkjw3y1AEgwwaxA から\n",
        "# cabocha-0.69.tar.bz2 をローカルファイルにダウンロードし，しかるのちに，このセルを実行して, ローカルディスクから \n",
        "# chabocha-0.69.tar.bz2 を colab にアップロードする\n",
        "from google.colab import files\n",
        "uploaded = files.upload()"
      ],
      "metadata": {
        "id": "jT_-AbeCKfpc"
      },
      "execution_count": null,
      "outputs": []
    },
    {
      "cell_type": "code",
      "source": [
        "%%bash\n",
        "# mecabとmecab-python3の依存関係をインストール\n",
        "apt-get install mecab swig libmecab-dev mecab-ipadic-utf8\n",
        "# mecab-pythonのインストール\n",
        "pip install mecab-python3\n",
        "\n",
        "# crfppダウンロード(cabochaの依存関係)\n",
        "curl -sL -o CRF++-0.58.tar.gz \"https://drive.google.com/uc?export=download&id=0B4y35FiV1wh7QVR6VXJ5dWExSTQ\"\n",
        "tar -zxf CRF++-0.58.tar.gz\n",
        "# crfppインストール\n",
        "cd CRF++-0.58\n",
        "./configure && make && make install && ldconfig\n",
        "cd ..\n",
        "\n",
        "# cabochaダウンロード\n",
        "url=\"https://drive.google.com/uc?export=download&id=0B4y35FiV1wh7SDd1Q1dUQkZQaUU\"\n",
        "curl -sc /tmp/cookie ${url} >/dev/null\n",
        "code=\"$(awk '/_warning_/ {print $NF}' /tmp/cookie)\"\n",
        "curl -sLb /tmp/cookie ${url}\"&confirm=${code}\" -o cabocha-0.69.tar.bz2\n",
        "tar -jxf cabocha-0.69.tar.bz2\n",
        "cabochaインストール\n",
        "cd cabocha-0.69\n",
        "./configure -with-charset=utf-8 && make && make check && make install && ldconfig\n",
        "# cabocha-pythonのインストール\n",
        "pip install python/\n",
        "cd .."
      ],
      "metadata": {
        "id": "UXyuoIF4QHVh"
      },
      "execution_count": null,
      "outputs": []
    },
    {
      "cell_type": "code",
      "source": [
        "# アップロードしたファイルを解凍\n",
        "!tar -xvf cabocha-0.69.tar.bz2 \n",
        "\n",
        "# chabocha-0.69 ディレクトリに移動\n",
        "%cd cabocha-0.69\n",
        "\n",
        "# make する\n",
        "!./configure --with-mecab-config=`which mecab-config` --with-charset=UTF8\n",
        "!make\n",
        "!make check\n",
        "!make install\n",
        "%cd ..\n",
        "!cabocha --version"
      ],
      "metadata": {
        "id": "4MeWhKuTMRor"
      },
      "execution_count": null,
      "outputs": []
    },
    {
      "cell_type": "code",
      "source": [
        "import MeCab"
      ],
      "metadata": {
        "id": "zhQyGoxpPBb4"
      },
      "execution_count": null,
      "outputs": []
    },
    {
      "cell_type": "code",
      "source": [],
      "metadata": {
        "id": "wG_3F9b4i3GZ"
      },
      "execution_count": null,
      "outputs": []
    }
  ]
}