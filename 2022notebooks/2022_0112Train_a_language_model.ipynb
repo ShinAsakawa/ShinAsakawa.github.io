{
  "cells": [
    {
      "cell_type": "markdown",
      "metadata": {
        "id": "view-in-github",
        "colab_type": "text"
      },
      "source": [
        "<a href=\"https://colab.research.google.com/github/ShinAsakawa/ShinAsakawa.github.io/blob/master/2022notebooks/2022_0112Train_a_language_model.ipynb\" target=\"_parent\"><img src=\"https://colab.research.google.com/assets/colab-badge.svg\" alt=\"Open In Colab\"/></a>"
      ]
    },
    {
      "cell_type": "markdown",
      "metadata": {
        "id": "X4cRE8IbIrIV"
      },
      "source": [
        "- original: https://colab.research.google.com/github/huggingface/notebooks/blob/master/examples/language_modeling_from_scratch.ipynb\n",
        "- date: 2022_0112\n",
        "- filename: `2022_0112language_modeling_from_scratch.ipynb`\n",
        "\n",
        "# 言語モデルの訓練\n",
        "<!-- # Train a language model -->\n",
        "\n",
        "<!-- colabでこのノートを開く場合、おそらく「Transformers」と「🤗 Datasets」をインストールする必要があるでしょう。次のセルのコメントを外して実行します。 -->\n",
        "<!-- If you're opening this Notebook on colab, you will probably need to install 🤗 Transformers and 🤗 Datasets. Uncomment the following cell and run it. -->"
      ]
    },
    {
      "cell_type": "code",
      "execution_count": 1,
      "metadata": {
        "id": "MOsHUjgdIrIW"
      },
      "outputs": [],
      "source": [
        "import platform\n",
        "isColab = platform.system() == 'Linux'\n",
        "if isColab:\n",
        "    !pip install datasets transformers > /dev/null 2>&1"
      ]
    },
    {
      "cell_type": "markdown",
      "metadata": {
        "id": "-MVJAxI6lTFD"
      },
      "source": [
        "このノートブックをローカルで開いている場合は，お使いの環境にこれらのライブラリの最新バージョンがインストールされていることを確認してください。\n",
        "<!-- If you're opening this notebook locally, make sure your environment has an install from the last version of those libraries.-->\n",
        "\n",
        "自分のモデルをコミュニティと共有し，推論 API を介して下図のような結果を生成するためには，さらにいくつかのステップを踏む必要があります。\n",
        "<!-- To be able to share your model with the community and generate results like the one shown in the picture below via the inference API, there are a few more steps to follow. -->\n",
        "\n",
        "まず Hugging Face のウェブサイトから認証トークンを保存し (まだ登録していない場合は [こちら](https://huggingface.co/join))，次のセルを実行してユーザ名とパスワードを入力します。\n",
        "<!-- First you have to store your authentication token from the Hugging Face website (sign up [here](https://huggingface.co/join) if you haven't already!) then execute the following cell and input your username and password: -->"
      ]
    },
    {
      "cell_type": "code",
      "execution_count": null,
      "metadata": {
        "id": "nHSua2P3lTFD"
      },
      "outputs": [],
      "source": [
        "from huggingface_hub import notebook_login\n",
        "\n",
        "notebook_login()"
      ]
    },
    {
      "cell_type": "markdown",
      "metadata": {
        "id": "QEVOCWsnlTFD"
      },
      "source": [
        "次に、Git-LFSをインストールする必要があります。\n",
        "以下の説明をアンコメントしてください。\n",
        "<!-- Then you need to install Git-LFS. Uncomment the following instructions: -->"
      ]
    },
    {
      "cell_type": "code",
      "execution_count": 3,
      "metadata": {
        "id": "GcIVGMf8lTFE"
      },
      "outputs": [],
      "source": [
        "if isColab:\n",
        "    !apt install git-lfs > /dev/null 2>&1"
      ]
    },
    {
      "cell_type": "markdown",
      "metadata": {
        "id": "RC5IjJO2lTFE"
      },
      "source": [
        "トランスフォーマーのバージョンが 4.11.0 以上であることを確認してください (この機能は4.11.0で導入されました)。\n",
        "<!-- Make sure your version of Transformers is at least 4.11.0 since the functionality was introduced in that version: -->"
      ]
    },
    {
      "cell_type": "code",
      "execution_count": null,
      "metadata": {
        "id": "nrMnYSTVlTFE"
      },
      "outputs": [],
      "source": [
        "import transformers\n",
        "print(transformers.__version__)"
      ]
    },
    {
      "cell_type": "markdown",
      "metadata": {
        "id": "HFASsisvIrIb"
      },
      "source": [
        "複数の GPU や TPU を使って分散型でモデルを微調整するため，このノートのスクリプト版が [こちら](https://github.com/huggingface/transformers/tree/master/examples/language-modeling) にあります。\n",
        "<!-- You can find a script version of this notebook to fine-tune your model in a distributed fashion using multiple GPUs or TPUs [here](https://github.com/huggingface/transformers/tree/master/examples/language-modeling). -->"
      ]
    },
    {
      "cell_type": "markdown",
      "metadata": {
        "id": "a3KD3WXU3l-O"
      },
      "source": [
        "# 言語モデルの訓練\n",
        "<!-- # Train a language model -->"
      ]
    },
    {
      "cell_type": "markdown",
      "metadata": {
        "id": "JAscNNUD3l-P"
      },
      "source": [
        "このノートブックでは，言語モデリング課題で [🤗 Transformers](https://github.com/huggingface/transformers) モデルを訓練する方法を見ていきます。ここでは，以下の 2 種類の言語モデリング課題を取り上げます。\n",
        "<!-- In this notebook, we'll see how to train a [🤗 Transformers](https://github.com/huggingface/transformers) model on a language modeling task. We will cover two types of language modeling tasks which are:-->\n",
        "\n",
        "- 因果関係のある言語モデリング: モデルは文中の次のトークンを予測しなければなりません (そのため，ラベルは入力を右にシフトしたものと同じになります)。\n",
        "モデルが不正をしないように，文中のトークン i+1 を予測しようとするときに，トークン i 以降のトークンにアクセスできないようにする注意マスクを取得します。\n",
        "\n",
        "<!-- - Causal language modeling: the model has to predict the next token in the sentence (so the labels are the same as the inputs shifted to the right). To make sure the model does not cheat, it gets an attention mask that will prevent it to access the tokens after token i when trying to predict the token i+1 in the sentence. -->\n",
        "\n",
        "<center>\n",
        "<img src=\"https://github.com/huggingface/notebooks/blob/master/examples/images/causal_language_modeling.png?raw=1\" width=\"66%\"><br/>\n",
        "因果関係のある言語モデリング課題を表すウィジェット推論\n",
        "</center>\n",
        "\n",
        "<!-- ![因果関係のある言語モデリング課題を表すウィジェット推論](https://github.com/huggingface/notebooks/blob/master/examples/images/causal_language_modeling.png?raw=1) -->\n",
        "<!-- ![Widget inference representing the causal language modeling task](images/causal_language_modeling.png) -->\n",
        "\n",
        "- マスク化言語モデリング: モデルは，入力の文中でマスクされたトークンを予測しなければならない。\n",
        "文全体にアクセスできるので，マスク化トークンの前後のトークンを使ってその値を予測することができます。\n",
        "\n",
        "<!-- - Masked language modeling: the model has to predict some tokens that are masked in the input. \n",
        "It still has access to the whole sentence, so it can use the tokens before and after the tokens masked to predict their value. -->\n",
        "\n",
        "<center>\n",
        "<img src=\"https://github.com/huggingface/notebooks/blob/master/examples/images/masked_language_modeling.png?raw=1\" width=\"66%\"><br/>\n",
        "マスク化言語モデル課題を表現するウィジェット推論\n",
        "<!-- Widget inference representing the masked language modeling task -->\n",
        "</center>\n",
        "<!-- ![widget inference representing the masked language modeling task](https://github.com/huggingface/notebooks/blob/master/examples/images/masked_language_modeling.png?raw=1) -->\n",
        "\n",
        "ここでは，それぞれの課題のデータセットを簡単に読み込んで前処理する方法と，`Trainer` API を使ってモデルを訓練する方法を見ていきます。\n",
        "<!-- We will see how to easily load and preprocess the dataset for each one of those tasks, and how to use the `Trainer` API to train a model on it. -->\n",
        "\n",
        "このノートでは、使用するコーパスでトークン化器を訓練していることを前提としています。\n",
        "[トークン化器の訓練方法 (How to train a tokenizer)](https://github.com/huggingface/notebooks/blob/master/examples/tokenizer_training.ipynb) ノートブック（[open in colab](https://colab.research.google.com/github/huggingface/notebooks/blob/master/examples/tokenizer_training.ipynb)）を参照してください。\n",
        "<!-- This notebooks assumes you have trained a tokenizer on the corpus you are using, see the [How to train a tokenizer](https://github.com/huggingface/notebooks/blob/master/examples/tokenizer_training.ipynb) notebook ([open in colab](https://colab.research.google.com/github/huggingface/notebooks/blob/master/examples/tokenizer_training.ipynb)). -->\n",
        "\n",
        "このノートブックを分散環境やTPU上で直接実行できるスクリプトバージョンは [examples folder](https://github.com/huggingface/transformers/tree/master/examples) にあります。\n",
        "<!-- A script version of this notebook you can directly run on a distributed environment or on TPU is available in our [examples folder](https://github.com/huggingface/transformers/tree/master/examples). -->"
      ]
    },
    {
      "cell_type": "markdown",
      "metadata": {
        "id": "1r_n9OWV3l-Q"
      },
      "source": [
        "## データセットの準備\n",
        "<!-- ## Preparing the dataset -->"
      ]
    },
    {
      "cell_type": "markdown",
      "metadata": {
        "id": "kswRMhPc3l-Q"
      },
      "source": [
        "それぞれの課題について [Wikitext 2]() データセットを例に挙げて説明します。\n",
        "このデータセットは 🤗 Datasets ライブラリでとても簡単に読み込むことができます。\n",
        "<!-- For each of those tasks, we will use the [Wikitext 2]() dataset as an example. \n",
        "You can load it very easily with the 🤗 Datasets library. -->"
      ]
    },
    {
      "cell_type": "code",
      "execution_count": null,
      "metadata": {
        "id": "n2ZRs1cL3l-R"
      },
      "outputs": [],
      "source": [
        "from datasets import load_dataset\n",
        "datasets = load_dataset('wikitext', 'wikitext-2-raw-v1')"
      ]
    },
    {
      "cell_type": "markdown",
      "metadata": {
        "id": "f1-9jepM3l-W"
      },
      "source": [
        "上のデータセットを [the hub](https://huggingface.co/datasets) でホストされている任意のデータセットに置き換えることも，自分のファイルを使うこともできます。\n",
        "以下のセルをアンコメントし，パスをあなたのファイルにつながる値に置き換えてください。\n",
        "<!-- You can replace the dataset above with any dataset hosted on [the hub](https://huggingface.co/datasets) or use your own files. \n",
        "Just uncomment the following cell and replace the paths with values that will lead to your files: -->"
      ]
    },
    {
      "cell_type": "code",
      "execution_count": 6,
      "metadata": {
        "id": "uxSaGa_l3l-W"
      },
      "outputs": [],
      "source": [
        "# datasets = load_dataset(\"text\", data_files={\"train\": path_to_train.txt, \"validation\": path_to_validation.txt}"
      ]
    },
    {
      "cell_type": "markdown",
      "metadata": {
        "id": "jY1SwIrY3l-a"
      },
      "source": [
        "csv や JSON ファイルからデータセットを読み込むこともできます。\n",
        "詳しくは [マニュアル，ローカルファイルからの読み込み](https://huggingface.co/docs/datasets/loading_datasets.html#from-local-files) をご覧ください。\n",
        "<!-- You can also load datasets from a csv or a JSON file, see the [full documentation](https://huggingface.co/docs/datasets/loading_datasets.html#from-local-files) for more information. -->"
      ]
    },
    {
      "cell_type": "markdown",
      "metadata": {
        "id": "u3EtYfeHIrIz"
      },
      "source": [
        "実際の要素にアクセスするには，まずスプリットを選択し，次にインデックスを与える必要があります。\n",
        "<!-- To access an actual element, you need to select a split first, then give an index: -->"
      ]
    },
    {
      "cell_type": "code",
      "execution_count": null,
      "metadata": {
        "id": "X6HrpprwIrIz"
      },
      "outputs": [],
      "source": [
        "datasets[\"train\"][10]"
      ]
    },
    {
      "cell_type": "markdown",
      "metadata": {
        "id": "WHUmphG3IrI3"
      },
      "source": [
        "データがどのようなものかを知るために，次の関数では，データセットの中からランダムに選ばれたいくつかの例を表示します。\n",
        "<!-- To get a sense of what the data looks like, the following function will show some examples picked randomly in the dataset. -->"
      ]
    },
    {
      "cell_type": "code",
      "execution_count": 8,
      "metadata": {
        "id": "ur5sNUcZ3l-g"
      },
      "outputs": [],
      "source": [
        "from datasets import ClassLabel\n",
        "import random\n",
        "import pandas as pd\n",
        "from IPython.display import display, HTML\n",
        "\n",
        "def show_random_elements(dataset, num_examples=10):\n",
        "    assert num_examples <= len(dataset), \"Can't pick more elements than there are in the dataset.\"\n",
        "    picks = []\n",
        "    for _ in range(num_examples):\n",
        "        pick = random.randint(0, len(dataset)-1)\n",
        "        while pick in picks:\n",
        "            pick = random.randint(0, len(dataset)-1)\n",
        "        picks.append(pick)\n",
        "    \n",
        "    df = pd.DataFrame(dataset[picks])\n",
        "    for column, typ in dataset.features.items():\n",
        "        if isinstance(typ, ClassLabel):\n",
        "            df[column] = df[column].transform(lambda i: typ.names[i])\n",
        "    display(HTML(df.to_html()))"
      ]
    },
    {
      "cell_type": "code",
      "execution_count": 10,
      "metadata": {
        "id": "1Uk8NROQ3l-k",
        "outputId": "77838cd8-56ae-44c1-a036-f696cfe8e4b0",
        "colab": {
          "base_uri": "https://localhost:8080/",
          "height": 518
        }
      },
      "outputs": [
        {
          "output_type": "display_data",
          "data": {
            "text/html": [
              "<table border=\"1\" class=\"dataframe\">\n",
              "  <thead>\n",
              "    <tr style=\"text-align: right;\">\n",
              "      <th></th>\n",
              "      <th>text</th>\n",
              "    </tr>\n",
              "  </thead>\n",
              "  <tbody>\n",
              "    <tr>\n",
              "      <th>0</th>\n",
              "      <td>Jordan was recruited by numerous college basketball programs , including Duke , North Carolina , South Carolina , Syracuse , and Virginia . In 1981 , Jordan accepted a basketball scholarship to North Carolina , where he majored in cultural geography . \\n</td>\n",
              "    </tr>\n",
              "    <tr>\n",
              "      <th>1</th>\n",
              "      <td>= = Marriage and family = = \\n</td>\n",
              "    </tr>\n",
              "    <tr>\n",
              "      <th>2</th>\n",
              "      <td>Aretusa was a torpedo cruiser of the Partenope class built for the Italian Regia Marina ( Royal Navy ) in the 1880s . Laid down in June 1889 at the Cantiere navale fratelli Orlando shipyard , she was launched in March 1891 and was commissioned in September 1892 . Her main armament were her six torpedo tubes , which were supported by a battery of ten small @-@ caliber guns . Aretusa spent most of her career in the main Italian fleet , where she was primarily occupied with training exercises . At the start of the Italo @-@ Turkish War in September 1911 , she was assigned to the Red Sea Squadron in Italian Eritrea . She bombarded Ottoman positions in the Arabian Peninsula and took part in a blockade of the coast . Worn out by the end of the war in October 1912 , Aretusa was sold for scrap that December and broken up . \\n</td>\n",
              "    </tr>\n",
              "    <tr>\n",
              "      <th>3</th>\n",
              "      <td></td>\n",
              "    </tr>\n",
              "    <tr>\n",
              "      <th>4</th>\n",
              "      <td></td>\n",
              "    </tr>\n",
              "    <tr>\n",
              "      <th>5</th>\n",
              "      <td>= = Meteorological history = = \\n</td>\n",
              "    </tr>\n",
              "    <tr>\n",
              "      <th>6</th>\n",
              "      <td>The game remained scoreless in the early innings , with only two baserunners apiece for each team through the first three innings . The Giants loaded the bases with two outs in the top of the 4th inning , but Brian Johnson struck out to end the inning . The first runs of the game came in the top of the 5th as Henry Rodriguez singled to lead off the inning and scored on a home run by Gary Gaetti to give the Cubs a 2 – 0 lead . The Cubs threatened again in the next inning with singles by Lance Johnson and Sammy Sosa . Rich Rodriguez relieved Gardner , but loaded the bases with a walk to Mark Grace and allowed a single to Matt Mieske which scored two more runs and extended the Cubs ' lead to 4 – 0 . John Johnstone relieved Rodriguez and closed the inning without further scoring . \\n</td>\n",
              "    </tr>\n",
              "    <tr>\n",
              "      <th>7</th>\n",
              "      <td></td>\n",
              "    </tr>\n",
              "    <tr>\n",
              "      <th>8</th>\n",
              "      <td></td>\n",
              "    </tr>\n",
              "    <tr>\n",
              "      <th>9</th>\n",
              "      <td>Many critics believed that the number of releases of Guitar Hero games was \" milking \" the brand name and oversaturating the market . PaRappa the Rapper creator Masaya Matsuura stated that the video game market was growing stale and needed to move beyond games that simply challenge the player to mimic the playing of licensed music . Ryan Geddes of IGN stated that he \" hit the wall with play @-@ along music games \" , and challenged the game makers to explore other ways to combine music and video games . Analysts stated that such games must continue to innovate instead of just providing more songs in order to prevent \" genre fatigue \" . Jesse Divnich of Electronic Entertainment and Design Research commented that , much like Dance Dance Revolution , Guitar Hero and other music games explosively grew initially due to significant new features from other games but have become stagnant due to focusing on content over features , and suggested that for the genre to continue to grow , they must look to incremental changes as done with the first @-@ person shooter genre . Former CEO for RedOctane , Kelly Sumner , believed that Activision \" abused \" the series , as \" they tried to get too much out of the franchise too quickly \" . \\n</td>\n",
              "    </tr>\n",
              "  </tbody>\n",
              "</table>"
            ],
            "text/plain": [
              "<IPython.core.display.HTML object>"
            ]
          },
          "metadata": {}
        }
      ],
      "source": [
        "show_random_elements(datasets[\"train\"])"
      ]
    },
    {
      "cell_type": "markdown",
      "metadata": {
        "id": "CKerdF353l-o"
      },
      "source": [
        "見ての通り，テキストの中にはウィキペディアの記事の全段落が含まれているものもあれば，タイトルや空の行だけのものもあります。\n",
        "<!-- As we can see, some of the texts are a full paragraph of a Wikipedia article while others are just titles or empty lines. -->"
      ]
    },
    {
      "cell_type": "markdown",
      "metadata": {
        "id": "JEA1ju653l-p"
      },
      "source": [
        "## Causal Language modeling"
      ]
    },
    {
      "cell_type": "markdown",
      "metadata": {
        "id": "v5GTGKZS3l-q"
      },
      "source": [
        "For causal language modeling (CLM) we are going to take all the texts in our dataset and concatenate them after they are tokenized. Then we will split them in examples of a certain sequence length. This way the model will receive chunks of contiguous text that may look like:\n",
        "```\n",
        "part of text 1\n",
        "```\n",
        "or \n",
        "```\n",
        "end of text 1 [BOS_TOKEN] beginning of text 2\n",
        "```\n",
        "depending on whether they span over several of the original texts in the dataset or not. The labels will be the same as the inputs, shifted to the left.\n",
        "\n",
        "We will use the [`gpt2`](https://huggingface.co/gpt2) architecture for this example. You can pick any of the checkpoints listed [here](https://huggingface.co/models?filter=causal-lm) instead. For the tokenizer, you can replace the checkpoint by the one you trained yourself."
      ]
    },
    {
      "cell_type": "code",
      "execution_count": null,
      "metadata": {
        "id": "-WGBCO343l-q"
      },
      "outputs": [],
      "source": [
        "model_checkpoint = \"gpt2\"\n",
        "tokenizer_checkpoint = \"sgugger/gpt2-like-tokenizer\""
      ]
    },
    {
      "cell_type": "markdown",
      "metadata": {
        "id": "5io6fY_d3l-u"
      },
      "source": [
        "To tokenize all our texts with the same vocabulary that was used when training the model, we have to download a pretrained tokenizer. This is all done by the `AutoTokenizer` class:"
      ]
    },
    {
      "cell_type": "code",
      "execution_count": null,
      "metadata": {
        "id": "iAYlS40Z3l-v"
      },
      "outputs": [],
      "source": [
        "from transformers import AutoTokenizer\n",
        "    \n",
        "tokenizer = AutoTokenizer.from_pretrained(tokenizer_checkpoint)"
      ]
    },
    {
      "cell_type": "markdown",
      "metadata": {
        "id": "rpOiBrJ13l-y"
      },
      "source": [
        "We can now call the tokenizer on all our texts. This is very simple, using the [`map`](https://huggingface.co/docs/datasets/package_reference/main_classes.html#datasets.Dataset.map) method from the Datasets library. First we define a function that call the tokenizer on our texts:"
      ]
    },
    {
      "cell_type": "code",
      "execution_count": null,
      "metadata": {
        "id": "lS2m25YM3l-z"
      },
      "outputs": [],
      "source": [
        "def tokenize_function(examples):\n",
        "    return tokenizer(examples[\"text\"])"
      ]
    },
    {
      "cell_type": "markdown",
      "metadata": {
        "id": "M9xVAa3s3l-2"
      },
      "source": [
        "Then we apply it to all the splits in our `datasets` object, using `batched=True` and 4 processes to speed up the preprocessing. We won't need the `text` column afterward, so we discard it."
      ]
    },
    {
      "cell_type": "code",
      "execution_count": null,
      "metadata": {
        "id": "NVAO0H8u3l-3",
        "outputId": "30d88b8a-e353-4e13-f709-8e5e06ef747b"
      },
      "outputs": [
        {
          "name": "stdout",
          "output_type": "stream",
          "text": [
            "\n",
            "\n",
            "\n",
            "\n",
            "\n",
            "\n",
            "\n",
            "\n",
            "\n",
            "\n",
            "\n",
            "\n"
          ]
        }
      ],
      "source": [
        "tokenized_datasets = datasets.map(tokenize_function, batched=True, num_proc=4, remove_columns=[\"text\"])"
      ]
    },
    {
      "cell_type": "markdown",
      "metadata": {
        "id": "8qik3J_C3l-7"
      },
      "source": [
        "If we now look at an element of our datasets, we will see the text have been replaced by the `input_ids` the model will need:"
      ]
    },
    {
      "cell_type": "code",
      "execution_count": null,
      "metadata": {
        "id": "nYv_mcKk3l-7",
        "outputId": "8334734c-0f86-4e18-ec17-4216a2d5dd18"
      },
      "outputs": [
        {
          "data": {
            "text/plain": [
              "{'attention_mask': [1, 1, 1, 1, 1, 1],\n",
              " 'input_ids': [238, 8576, 9441, 2987, 238, 252]}"
            ]
          },
          "execution_count": null,
          "metadata": {},
          "output_type": "execute_result"
        }
      ],
      "source": [
        "tokenized_datasets[\"train\"][1]"
      ]
    },
    {
      "cell_type": "markdown",
      "metadata": {
        "id": "obvgcXda3l--"
      },
      "source": [
        "Now for the harder part: we need to concatenate all our texts together then split the result in small chunks of a certain `block_size`. To do this, we will use the `map` method again, with the option `batched=True`. This option actually lets us change the number of examples in the datasets by returning a different number of examples than we got. This way, we can create our new samples from a batch of examples.\n",
        "\n",
        "First, we grab the maximum length our model was pretrained with. This might be a big too big to fit in your GPU RAM, so here we take a bit less at just 128."
      ]
    },
    {
      "cell_type": "code",
      "execution_count": null,
      "metadata": {
        "id": "DVHs5aCA3l-_"
      },
      "outputs": [],
      "source": [
        "# block_size = tokenizer.model_max_length\n",
        "block_size = 128"
      ]
    },
    {
      "cell_type": "markdown",
      "metadata": {
        "id": "RpNfGiMw3l_A"
      },
      "source": [
        "Then we write the preprocessing function that will group our texts:"
      ]
    },
    {
      "cell_type": "code",
      "execution_count": null,
      "metadata": {
        "id": "iaAJy5Hu3l_B"
      },
      "outputs": [],
      "source": [
        "def group_texts(examples):\n",
        "    # Concatenate all texts.\n",
        "    concatenated_examples = {k: sum(examples[k], []) for k in examples.keys()}\n",
        "    total_length = len(concatenated_examples[list(examples.keys())[0]])\n",
        "    # We drop the small remainder, we could add padding if the model supported it instead of this drop, you can\n",
        "        # customize this part to your needs.\n",
        "    total_length = (total_length // block_size) * block_size\n",
        "    # Split by chunks of max_len.\n",
        "    result = {\n",
        "        k: [t[i : i + block_size] for i in range(0, total_length, block_size)]\n",
        "        for k, t in concatenated_examples.items()\n",
        "    }\n",
        "    result[\"labels\"] = result[\"input_ids\"].copy()\n",
        "    return result"
      ]
    },
    {
      "cell_type": "markdown",
      "metadata": {
        "id": "LGJWXtNv3l_C"
      },
      "source": [
        "First note that we duplicate the inputs for our labels. This is because the model of the 🤗 Transformers library apply the shifting to the right, so we don't need to do it manually.\n",
        "\n",
        "Also note that by default, the `map` method will send a batch of 1,000 examples to be treated by the preprocessing function. So here, we will drop the remainder to make the concatenated tokenized texts a multiple of `block_size` every 1,000 examples. You can adjust this behavior by passing a higher batch size (which will also be processed slower). You can also speed-up the preprocessing by using multiprocessing:"
      ]
    },
    {
      "cell_type": "code",
      "execution_count": null,
      "metadata": {
        "id": "gXUSfBrq3l_C",
        "outputId": "34e55885-3d8f-4f05-cbdb-706ce56a25f8"
      },
      "outputs": [
        {
          "name": "stdout",
          "output_type": "stream",
          "text": [
            "\n",
            "\n",
            "\n",
            "\n",
            "\n",
            "\n",
            "\n",
            "\n",
            "\n",
            "\n",
            "\n",
            "\n"
          ]
        }
      ],
      "source": [
        "lm_datasets = tokenized_datasets.map(\n",
        "    group_texts,\n",
        "    batched=True,\n",
        "    batch_size=1000,\n",
        "    num_proc=4,\n",
        ")"
      ]
    },
    {
      "cell_type": "markdown",
      "metadata": {
        "id": "6n84V8Gc3l_G"
      },
      "source": [
        "And we can check our datasets have changed: now the samples contain chunks of `block_size` contiguous tokens, potentially spanning over several of our original texts."
      ]
    },
    {
      "cell_type": "code",
      "execution_count": null,
      "metadata": {
        "id": "hTeGCLl_3l_G",
        "outputId": "ab381a07-f92e-4b14-f7b6-e4af5513d7c4"
      },
      "outputs": [
        {
          "data": {
            "text/plain": [
              "' the \" Nameless \", a penal military unit serving the nation of Gallia during the Second Europan War who perform secret black operations and are pitted against the Imperial unit \" Calamaty Raven \". \\n The game began development in 2010, carrying over a large portion of the work done on Valkyria Chronicles II. While it retained the standard features of the series, it also underwent multiple adjustments, such as making the game more forgiving for series newcomers. Character designer Raita Honjou and composer Hitoshi Sakimoto both returned from previous entries, along with Valkyria Chronicles II director Takeshi Ozawa. A large'"
            ]
          },
          "execution_count": null,
          "metadata": {},
          "output_type": "execute_result"
        }
      ],
      "source": [
        "tokenizer.decode(lm_datasets[\"train\"][1][\"input_ids\"])"
      ]
    },
    {
      "cell_type": "markdown",
      "metadata": {
        "id": "iEmeQ7Xm3l_H"
      },
      "source": [
        "Now that the data has been cleaned, we're ready to instantiate our `Trainer`. First we create the model using the same config as our checkpoint, but initialized with random weights:"
      ]
    },
    {
      "cell_type": "code",
      "execution_count": null,
      "metadata": {
        "id": "sPqQA3TT3l_I"
      },
      "outputs": [],
      "source": [
        "from transformers import AutoConfig, AutoModelForCausalLM\n",
        "\n",
        "config = AutoConfig.from_pretrained(model_checkpoint)\n",
        "model = AutoModelForCausalLM.from_config(config)"
      ]
    },
    {
      "cell_type": "markdown",
      "metadata": {
        "id": "VyPQTOF_3l_J"
      },
      "source": [
        "And we will needsome `TrainingArguments`:"
      ]
    },
    {
      "cell_type": "code",
      "execution_count": null,
      "metadata": {
        "id": "jElf8LJ33l_K"
      },
      "outputs": [],
      "source": [
        "from transformers import Trainer, TrainingArguments"
      ]
    },
    {
      "cell_type": "code",
      "execution_count": null,
      "metadata": {
        "id": "YbSwEhQ63l_L"
      },
      "outputs": [],
      "source": [
        "training_args = TrainingArguments(\n",
        "    f\"{model_checkpoint}-wikitext2\",\n",
        "    evaluation_strategy = \"epoch\",\n",
        "    learning_rate=2e-5,\n",
        "    weight_decay=0.01,\n",
        "    push_to_hub=True,,\n",
        ")"
      ]
    },
    {
      "cell_type": "markdown",
      "metadata": {
        "id": "f_Oax8OvlTFL"
      },
      "source": [
        "The last argument to setup everything so we can push the model to the [Hub](https://huggingface.co/models) regularly during training. Remove it if you didn't follow the installation steps at the top of the notebook. If you want to save your model locally in a name that is different than the name of the repository it will be pushed, or if you want to push your model under an organization and not your name space, use the `hub_model_id` argument to set the repo name (it needs to be the full name, including your namespace: for instance `\"sgugger/gpt-finetuned-wikitext2\"` or `\"huggingface/gpt-finetuned-wikitext2\"`)."
      ]
    },
    {
      "cell_type": "markdown",
      "metadata": {
        "id": "sZRbT9ui3l_N"
      },
      "source": [
        "We pass along all of those to the `Trainer` class:"
      ]
    },
    {
      "cell_type": "code",
      "execution_count": null,
      "metadata": {
        "id": "OEuqwIra3l_N"
      },
      "outputs": [],
      "source": [
        "trainer = Trainer(\n",
        "    model=model,\n",
        "    args=training_args,\n",
        "    train_dataset=lm_datasets[\"train\"],\n",
        "    eval_dataset=lm_datasets[\"validation\"],\n",
        ")"
      ]
    },
    {
      "cell_type": "markdown",
      "metadata": {
        "id": "6Vvz34Td3l_O"
      },
      "source": [
        "And we can train our model:"
      ]
    },
    {
      "cell_type": "code",
      "execution_count": null,
      "metadata": {
        "id": "NyZvu_MF3l_P"
      },
      "outputs": [],
      "source": [
        "trainer.train()"
      ]
    },
    {
      "cell_type": "markdown",
      "metadata": {
        "id": "3APq-vUc3l_R"
      },
      "source": [
        "Once the training is completed, we can evaluate our model and get its perplexity on the validation set like this:"
      ]
    },
    {
      "cell_type": "code",
      "execution_count": null,
      "metadata": {
        "id": "diKZnB1I3l_R"
      },
      "outputs": [],
      "source": [
        "import math\n",
        "eval_results = trainer.evaluate()\n",
        "print(f\"Perplexity: {math.exp(eval_results['eval_loss']):.2f}\")"
      ]
    },
    {
      "cell_type": "markdown",
      "metadata": {
        "id": "HsyOkDK3lTFM"
      },
      "source": [
        "The perplexity is still quite high since for this demo we trained on a small dataset for a small number of epochs. For a real LM training, you  would need a larger dataset and more epochs."
      ]
    },
    {
      "cell_type": "markdown",
      "metadata": {
        "id": "wY82caEX3l_i"
      },
      "source": [
        "You can now upload the result of the training to the Hub, just execute this instruction:"
      ]
    },
    {
      "cell_type": "code",
      "execution_count": null,
      "metadata": {
        "id": "1H-g8mVKlTFM"
      },
      "outputs": [],
      "source": [
        "trainer.push_to_hub()"
      ]
    },
    {
      "cell_type": "markdown",
      "metadata": {
        "id": "I_k51CZSlTFM"
      },
      "source": [
        "You can now share this model with all your friends, family, favorite pets: they can all load it with the identifier `\"your-username/the-name-you-picked\"` so for instance:\n",
        "\n",
        "```python\n",
        "from transformers import AutoModelForCausalLM\n",
        "\n",
        "model = AutoModelForCausalLM.from_pretrained(\"sgugger/my-awesome-model\")\n",
        "```"
      ]
    },
    {
      "cell_type": "markdown",
      "metadata": {
        "id": "q-EIELH43l_T"
      },
      "source": [
        "## マスク化言語モデル\n",
        "<!-- ## Masked language modeling -->"
      ]
    },
    {
      "cell_type": "markdown",
      "metadata": {
        "id": "LWk97-Ny3l_T"
      },
      "source": [
        "マスク化言語モデル (MLM) では，先ほどのデータセットと同じ前処理を行いますが，1 つだけ追加のステップがあります。\n",
        "それは、いくつかのトークンをランダムにマスクし (`[MASK]` で置き換える)，ラベルはマスクされたトークンだけを含むように調整されます (マスクされていないトークンを予測する必要はありません)。\n",
        "自分で学習したトークン化器を使う場合は `[MASK]` というトークンが，学習時に渡された特別なトークンの中にあることを確認してください。\n",
        "<!-- For masked language modeling (MLM) we are going to use the same preprocessing as before for our dataset with one additional step: we will randomly mask some tokens (by replacing them by `[MASK]`) and the labels will be adjusted to only include the masked tokens (we don't have to predict the non-masked tokens). \n",
        "If you use a tokenizer you trained yourself, make sure the `[MASK]` token is among the special tokens you passed during training!-->\n",
        "\n",
        "この例では [bert-base-cased`](https://huggingface.co/bert-based-cased) モデルを使用します。\n",
        "代わりに [こちら](https://huggingface.co/models?filter=masked-lm) に記載されているチェックポイントのどれかを選ぶことができます。\n",
        "トークン化器については，チェックポイントをあなたが学習したものに置き換えてください。\n",
        "<!-- We will use the [`bert-base-cased`](https://huggingface.co/bert-based-cased) model for this example. \n",
        "You can pick any of the checkpoints listed [here](https://huggingface.co/models?filter=masked-lm) instead. \n",
        "For the tokenizer, replace the checkpoint by the one you trained. -->"
      ]
    },
    {
      "cell_type": "code",
      "execution_count": 11,
      "metadata": {
        "id": "QRTpmyCc3l_T"
      },
      "outputs": [],
      "source": [
        "model_checkpoint = \"bert-base-cased\"\n",
        "tokenizer_checkpoint = \"sgugger/bert-like-tokenizer\""
      ]
    },
    {
      "cell_type": "markdown",
      "metadata": {
        "id": "12F1ulgT3l_V"
      },
      "source": [
        "先ほどと同じトークン化機能を適用することができます。\n",
        "ただ，先ほど選んだチェックポイントを使用するようにトークン化器を更新する必要があります。\n",
        "<!-- We can apply the same tokenization function as before, we just need to update our tokenizer to use the checkpoint we just picked: -->"
      ]
    },
    {
      "cell_type": "code",
      "execution_count": 14,
      "metadata": {
        "id": "h8RCYcvr3l_V",
        "outputId": "6cd1f175-907d-4295-be2c-90d3a2f24bf7",
        "colab": {
          "base_uri": "https://localhost:8080/",
          "height": 108
        }
      },
      "outputs": [
        {
          "output_type": "stream",
          "name": "stderr",
          "text": [
            "Token indices sequence length is longer than the specified maximum sequence length for this model (571 > 512). Running this sequence through the model will result in indexing errors\n",
            "Token indices sequence length is longer than the specified maximum sequence length for this model (554 > 512). Running this sequence through the model will result in indexing errors\n",
            "Token indices sequence length is longer than the specified maximum sequence length for this model (522 > 512). Running this sequence through the model will result in indexing errors\n",
            "Token indices sequence length is longer than the specified maximum sequence length for this model (657 > 512). Running this sequence through the model will result in indexing errors\n",
            "Token indices sequence length is longer than the specified maximum sequence length for this model (514 > 512). Running this sequence through the model will result in indexing errors\n"
          ]
        }
      ],
      "source": [
        "from transformers import AutoTokenizer\n",
        "\n",
        "def tokenize_function(examples):\n",
        "    return tokenizer(examples[\"text\"])\n",
        "\n",
        "tokenizer = AutoTokenizer.from_pretrained(tokenizer_checkpoint)\n",
        "tokenized_datasets = datasets.map(tokenize_function, batched=True, num_proc=4, remove_columns=[\"text\"])"
      ]
    },
    {
      "cell_type": "markdown",
      "metadata": {
        "id": "MTuy8UUs3l_X"
      },
      "source": [
        "先ほどと同じように，テキストをグループ化して，長さ `block_size` のサンプルにチャンクします。\n",
        "データセットが個々の文で構成されている場合は，このステップを省略することができます。\n",
        "<!-- And like before, we group texts together and chunk them in samples of length `block_size`. \n",
        "You can skip that step if your dataset is composed of individual sentences. -->"
      ]
    },
    {
      "cell_type": "code",
      "execution_count": 16,
      "metadata": {
        "id": "LVYPMwEs3l_X"
      },
      "outputs": [],
      "source": [
        "# block_size = tokenizer.model_max_length\n",
        "block_size = 128\n",
        "\n",
        "def group_texts(examples):\n",
        "    # Concatenate all texts.\n",
        "    concatenated_examples = {k: sum(examples[k], []) for k in examples.keys()}\n",
        "    total_length = len(concatenated_examples[list(examples.keys())[0]])\n",
        "    # We drop the small remainder, we could add padding if the model supported it instead of this drop, you can\n",
        "        # customize this part to your needs.\n",
        "    total_length = (total_length // block_size) * block_size\n",
        "    # Split by chunks of max_len.\n",
        "    result = {\n",
        "        k: [t[i : i + block_size] for i in range(0, total_length, block_size)]\n",
        "        for k, t in concatenated_examples.items()\n",
        "    }\n",
        "    result[\"labels\"] = result[\"input_ids\"].copy()\n",
        "    return result\n",
        "\n",
        "\n",
        "lm_datasets = tokenized_datasets.map(\n",
        "    group_texts,\n",
        "    batched=True,\n",
        "    batch_size=1000,\n",
        "    num_proc=4,\n",
        ")"
      ]
    },
    {
      "cell_type": "markdown",
      "metadata": {
        "id": "nFJ49iHJ3l_Z"
      },
      "source": [
        "あとは 2 つの例外を除いて，非常によく似ています。\n",
        "まず，マスク化 LM に適したモデルを使います。\n",
        "<!-- The rest is very similar to what we had, with two exceptions. First we use a model suitable for masked LM: -->"
      ]
    },
    {
      "cell_type": "code",
      "execution_count": 19,
      "metadata": {
        "id": "PM10A9Za3l_Z"
      },
      "outputs": [],
      "source": [
        "from transformers import AutoConfig, AutoModelForMaskedLM\n",
        "\n",
        "config = AutoConfig.from_pretrained(model_checkpoint)\n",
        "model = AutoModelForMaskedLM.from_config(config)"
      ]
    },
    {
      "cell_type": "markdown",
      "metadata": {
        "id": "mcws4qQslTFN"
      },
      "source": [
        "`TrainingArguments` を再定義します。\n",
        "<!-- We redefine our `TrainingArguments`: -->"
      ]
    },
    {
      "cell_type": "code",
      "execution_count": 20,
      "metadata": {
        "id": "478608jzlTFN",
        "colab": {
          "base_uri": "https://localhost:8080/"
        },
        "outputId": "b75f17e7-8e56-47bc-efd9-23c3a8090045"
      },
      "outputs": [
        {
          "output_type": "stream",
          "name": "stderr",
          "text": [
            "/usr/local/lib/python3.7/dist-packages/transformers/training_args.py:926: FutureWarning: `--push_to_hub_model_id` is deprecated and will be removed in version 5 of 🤗 Transformers. Use `--hub_model_id` instead and pass the full repo name to this argument (in this case asakawa/bert-base-cased-wikitext2).\n",
            "  FutureWarning,\n"
          ]
        }
      ],
      "source": [
        "from transformers import Trainer, TrainingArguments\n",
        "\n",
        "training_args = TrainingArguments(\n",
        "    \"test-clm\",\n",
        "    evaluation_strategy = \"epoch\",\n",
        "    learning_rate=2e-5,\n",
        "    weight_decay=0.01,\n",
        "    push_to_hub=True,\n",
        "    push_to_hub_model_id=f\"{model_checkpoint}-wikitext2\",\n",
        ")"
      ]
    },
    {
      "cell_type": "markdown",
      "metadata": {
        "id": "CRmsKrthlTFN"
      },
      "source": [
        "前回同様，最後の 2 つの引数は，訓練終了時にモデルを [Hub](https://huggingface.co/models) にプッシュするための設定です。\n",
        "また `push_to_hub_model_id` の値をお好みのものに変更してください。\n",
        "<!-- Like before, the last two arguments are to setup everything so we can push the model to the [Hub](https://huggingface.co/models) at the end of training. \n",
        "Remove the two of them if you didn't follow the installation steps at the top of the notebook, otherwise you can change the value of `push_to_hub_model_id` to something you would prefer. -->"
      ]
    },
    {
      "cell_type": "markdown",
      "metadata": {
        "id": "z6uuUnvz3l_b"
      },
      "source": [
        "最後に，特別な`data_collator` を使います。\n",
        "`data_collator` は，サンプルを取得してテンソルでバッチ処理する役割を持つ関数です。\n",
        "先ほどの例では，特に何もすることがなかったので，この引数にはデフォルトを使いました。\n",
        "ここでは，ランダムマスキングを行いたいと思います。\n",
        "これを (トークン化のように) 前処理として行うこともできますが，そうするとエポックごとにトークンが常に同じようにマスクされてしまいます。\n",
        "このステップを `data_collator` の中で行うことで，データを確認するたびに，このランダムなマスキングが新しい方法で行われるようになります。\n",
        "\n",
        "このマスキングを行うために，ライブラリは `DataCollatorForLanguageModeling` を提供しています。\n",
        "マスキングの確率を調整することができます。\n",
        "<!-- Finally, we use a special `data_collator`. \n",
        "The `data_collator` is a function that is responsible of taking the samples and batching them in tensors. \n",
        "In the previous example, we had nothing special to do, so we just used the default for this argument. \n",
        "Here we want to do the random-masking. We could do it as a pre-processing step (like the tokenization) but then the tokens would always be masked the same way at each epoch. \n",
        "By doing this step inside the `data_collator`, we ensure this random masking is done in a new way each time we go over the data.\n",
        "\n",
        "To do this masking for us, the library provides a `DataCollatorForLanguageModeling`. We can adjust the probability of the masking: -->"
      ]
    },
    {
      "cell_type": "code",
      "execution_count": 21,
      "metadata": {
        "id": "nRZ-5v_P3l_b"
      },
      "outputs": [],
      "source": [
        "from transformers import DataCollatorForLanguageModeling\n",
        "data_collator = DataCollatorForLanguageModeling(tokenizer=tokenizer, mlm_probability=0.15)"
      ]
    },
    {
      "cell_type": "markdown",
      "metadata": {
        "id": "bqHnWcYC3l_d"
      },
      "source": [
        "あとは，すべてを `Trainer` に渡して，訓練を開始するだけです。\n",
        "<!-- Then we just have to pass everything to `Trainer` and begin training: -->"
      ]
    },
    {
      "cell_type": "code",
      "execution_count": 22,
      "metadata": {
        "id": "V-Y3gNqV3l_d",
        "colab": {
          "base_uri": "https://localhost:8080/"
        },
        "outputId": "35dce40e-a4ba-45c8-b251-21ddd7c6cae9"
      },
      "outputs": [
        {
          "output_type": "stream",
          "name": "stderr",
          "text": [
            "Cloning https://huggingface.co/asakawa/bert-base-cased-wikitext2 into local empty directory.\n"
          ]
        }
      ],
      "source": [
        "trainer = Trainer(\n",
        "    model=model,\n",
        "    args=training_args,\n",
        "    train_dataset=lm_datasets[\"train\"],\n",
        "    eval_dataset=lm_datasets[\"validation\"],\n",
        "    data_collator=data_collator,\n",
        ")"
      ]
    },
    {
      "cell_type": "code",
      "execution_count": null,
      "metadata": {
        "id": "Y9TFqDG_3l_e",
        "outputId": "a70031f0-7567-459e-cf23-a7ca97734c8d",
        "colab": {
          "base_uri": "https://localhost:8080/",
          "height": 263
        }
      },
      "outputs": [
        {
          "metadata": {
            "tags": null
          },
          "name": "stderr",
          "output_type": "stream",
          "text": [
            "***** Running training *****\n",
            "  Num examples = 18761\n",
            "  Num Epochs = 3\n",
            "  Instantaneous batch size per device = 8\n",
            "  Total train batch size (w. parallel, distributed & accumulation) = 8\n",
            "  Gradient Accumulation steps = 1\n",
            "  Total optimization steps = 7038\n"
          ]
        },
        {
          "data": {
            "text/html": [
              "\n",
              "    <div>\n",
              "      \n",
              "      <progress value='101' max='7038' style='width:300px; height:20px; vertical-align: middle;'></progress>\n",
              "      [ 101/7038 21:56 < 25:37:58, 0.08 it/s, Epoch 0.04/3]\n",
              "    </div>\n",
              "    <table border=\"1\" class=\"dataframe\">\n",
              "  <thead>\n",
              "    <tr style=\"text-align: left;\">\n",
              "      <th>Epoch</th>\n",
              "      <th>Training Loss</th>\n",
              "      <th>Validation Loss</th>\n",
              "    </tr>\n",
              "  </thead>\n",
              "  <tbody>\n",
              "  </tbody>\n",
              "</table><p>"
            ],
            "text/plain": [
              "<IPython.core.display.HTML object>"
            ]
          },
          "metadata": {},
          "output_type": "display_data"
        },
        {
          "output_type": "display_data",
          "data": {
            "text/html": [
              "\n",
              "    <div>\n",
              "      \n",
              "      <progress value='144' max='7038' style='width:300px; height:20px; vertical-align: middle;'></progress>\n",
              "      [ 144/7038 31:20 < 25:21:21, 0.08 it/s, Epoch 0.06/3]\n",
              "    </div>\n",
              "    <table border=\"1\" class=\"dataframe\">\n",
              "  <thead>\n",
              "    <tr style=\"text-align: left;\">\n",
              "      <th>Epoch</th>\n",
              "      <th>Training Loss</th>\n",
              "      <th>Validation Loss</th>\n",
              "    </tr>\n",
              "  </thead>\n",
              "  <tbody>\n",
              "  </tbody>\n",
              "</table><p>"
            ],
            "text/plain": [
              "<IPython.core.display.HTML object>"
            ]
          },
          "metadata": {}
        }
      ],
      "source": [
        "trainer.train()"
      ]
    },
    {
      "cell_type": "markdown",
      "metadata": {
        "id": "KDBi0reX3l_g"
      },
      "source": [
        "前述のように，検証セットを用いてモデルを評価することができます。\n",
        "MLM 目的では，マスクされたトークン (全体の 15％ を占める) を予測するだけで，残りのトークンを利用することができるので，パープレキシティ (錯綜度) は CLM 目的の場合よりもはるかに低くなります。\n",
        "そのため，モデルにとっては簡単な課題です。\n",
        "<!-- Like before, we can evaluate our model on the validation set. \n",
        "The perplexity is much lower than for the CLM objective because for the MLM objective, we only have to make predictions for the masked tokens (which represent 15% of the total here) while having access to the rest of the tokens. \n",
        "It's thus an easier task for the model. -->"
      ]
    },
    {
      "cell_type": "code",
      "execution_count": null,
      "metadata": {
        "id": "4hSaANqj3l_g"
      },
      "outputs": [],
      "source": [
        "eval_results = trainer.evaluate()\n",
        "print(f\"Perplexity: {math.exp(eval_results['eval_loss']):.2f}\")"
      ]
    },
    {
      "cell_type": "markdown",
      "metadata": {
        "id": "UY8UVLoUlTFN"
      },
      "source": [
        "このデモでは，少ないデータセットで少ないエポック数の訓練を行ったため，パープレキシティはまだかなり高くなっています。\n",
        "実際の LM 訓練では，より大きなデータセットとより多くのエポックが必要になるでしょう。\n",
        "<!-- The perplexity is still quite high since for this demo we trained on a small dataset for a small number of epochs. \n",
        "For a real LM training, you  would need a larger dataset and more epochs. -->"
      ]
    },
    {
      "cell_type": "markdown",
      "metadata": {
        "id": "6itL42dRlTFN"
      },
      "source": [
        "訓練結果をハブにアップロードするには，この手順を実行します。\n",
        "<!-- You can now upload the result of the training to the Hub, just execute this instruction: -->"
      ]
    },
    {
      "cell_type": "code",
      "execution_count": null,
      "metadata": {
        "id": "yZdE8I9olTFO"
      },
      "outputs": [],
      "source": [
        "trainer.push_to_hub()"
      ]
    },
    {
      "cell_type": "markdown",
      "metadata": {
        "id": "qfMI7JdflTFO"
      },
      "source": [
        "このモデルを友人や家族，お気に入りのペットと共有することができます。\n",
        "例えば「あなたのユーザ名/あなたが選んだ名前」という識別子でモデルを読み込むことができます。\n",
        "<!-- You can now share this model with all your friends, family, favorite pets: they can all load it with the identifier `\"your-username/the-name-you-picked\"` so for instance: -->\n",
        "\n",
        "```python\n",
        "from transformers import AutoModelForMaskedLM\n",
        "\n",
        "model = AutoModelForMaskedLM.from_pretrained(\"sgugger/my-awesome-model\")\n",
        "```"
      ]
    },
    {
      "cell_type": "code",
      "execution_count": null,
      "metadata": {
        "id": "s_8zxYSHlTFO"
      },
      "outputs": [],
      "source": [
        ""
      ]
    }
  ],
  "metadata": {
    "colab": {
      "name": "2022_0112Train_a_language_model.ipynb",
      "provenance": [],
      "include_colab_link": true
    },
    "language_info": {
      "name": "python"
    },
    "kernelspec": {
      "name": "python3",
      "display_name": "Python 3"
    }
  },
  "nbformat": 4,
  "nbformat_minor": 0
}