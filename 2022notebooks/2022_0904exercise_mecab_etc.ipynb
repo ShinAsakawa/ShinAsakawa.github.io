{
  "cells": [
    {
      "cell_type": "markdown",
      "metadata": {
        "id": "view-in-github",
        "colab_type": "text"
      },
      "source": [
        "<a href=\"https://colab.research.google.com/github/ShinAsakawa/ShinAsakawa.github.io/blob/master/2022notebooks/2022_0904exercise_mecab_etc.ipynb\" target=\"_parent\"><img src=\"https://colab.research.google.com/assets/colab-badge.svg\" alt=\"Open In Colab\"/></a>"
      ]
    },
    {
      "cell_type": "markdown",
      "id": "91684ad4-6536-47a4-a9d5-445c180576f2",
      "metadata": {
        "id": "91684ad4-6536-47a4-a9d5-445c180576f2"
      },
      "source": [
        "* filename: `2022_0904exercise_around_mecab.ipynb`\n",
        "* author: 浅川伸一\n",
        "\n",
        "* MeCab と松下データを使って任意の文章を，分かち書きして，各品詞の松下データの頻度を検索して，その頻度最大値を返す。\n",
        "2022_0821 の zoom ミーティングからの宿題に対する回答コード\n",
        "\n",
        "* サンプルデータとして，京都大学黒橋研究室作成の SNLI データセットを用いることとした"
      ]
    },
    {
      "cell_type": "code",
      "execution_count": 1,
      "id": "2c30d1b3-4059-4ef6-af62-fdee50f22805",
      "metadata": {
        "colab": {
          "base_uri": "https://localhost:8080/"
        },
        "id": "2c30d1b3-4059-4ef6-af62-fdee50f22805",
        "outputId": "ede3e220-2712-4aa0-b463-4778df81e559"
      },
      "outputs": [
        {
          "output_type": "stream",
          "name": "stdout",
          "text": [
            "日付: \u001b[1m\u001b[32m2022-09-04\u001b[0m\n",
            "HOSTNAME: \u001b[1m\u001b[32mc2a1caee4cd4\u001b[0m\n",
            "ユーザ名: \u001b[1m\u001b[32mroot\u001b[0m\n",
            "HOME: \u001b[1m\u001b[32m/root\u001b[0m\n",
            "ファイル名: \u001b[1m\u001b[32m/fileId=16NrTBgZd2ckgopP8EtVLmwddx2qjc5vJ\u001b[0m\n",
            "torch.__version__: \u001b[1m\u001b[32m1.12.1+cu113\u001b[0m\n"
          ]
        }
      ],
      "source": [
        "# Mac の retina ディスプレイの場合，高解像度の画面を使用する\n",
        "%config InlineBackend.figure_format = 'retina'\n",
        "\n",
        "# 下準備，実行環境諸元の表示と設定\n",
        "try:\n",
        "    import bit\n",
        "except ImportError:\n",
        "    !pip install ipynbname\n",
        "    !git clone https://github.com/ShinAsakawa/bit.git\n",
        "import bit\n",
        "isColab = bit.isColab\n",
        "HOME = bit.HOME\n",
        "# if isColab:\n",
        "#     !pip install jaconv\n",
        "#     !pip install transformers fugashi ipadic"
      ]
    },
    {
      "cell_type": "markdown",
      "id": "a81e0cb7-1146-4ba3-86d8-a64437e8a853",
      "metadata": {
        "id": "a81e0cb7-1146-4ba3-86d8-a64437e8a853"
      },
      "source": [
        "## colab 上で必要なライブラリのインストールなど"
      ]
    },
    {
      "cell_type": "code",
      "source": [
        "if isColab:\n",
        "    !apt install aptitude\n",
        "    !aptitude install mecab libmecab-dev mecab-ipadic-utf8 git make curl xz-utils file -y\n",
        "    !pip install mecab-python3==0.7"
      ],
      "metadata": {
        "colab": {
          "base_uri": "https://localhost:8080/",
          "height": 819
        },
        "id": "bDTlRx_H1elC",
        "outputId": "50d065e1-90af-4d0a-fe26-6b8a42d77fde"
      },
      "id": "bDTlRx_H1elC",
      "execution_count": 14,
      "outputs": [
        {
          "output_type": "stream",
          "name": "stdout",
          "text": [
            "Reading package lists... Done\n",
            "Building dependency tree       \n",
            "Reading state information... Done\n",
            "aptitude is already the newest version (0.8.10-6ubuntu1).\n",
            "0 upgraded, 0 newly installed, 0 to remove and 20 not upgraded.\n",
            "mecab is already installed at the requested version (0.996-5)\n",
            "libmecab-dev is already installed at the requested version (0.996-5)\n",
            "mecab-ipadic-utf8 is already installed at the requested version (2.7.0-20070801+main-1)\n",
            "git is already installed at the requested version (1:2.17.1-1ubuntu0.12)\n",
            "make is already installed at the requested version (4.1-9.1ubuntu1)\n",
            "curl is already installed at the requested version (7.58.0-2ubuntu3.19)\n",
            "xz-utils is already installed at the requested version (5.2.2-1.3ubuntu0.1)\n",
            "file is already installed at the requested version (1:5.32-2ubuntu0.4)\n",
            "mecab is already installed at the requested version (0.996-5)\n",
            "libmecab-dev is already installed at the requested version (0.996-5)\n",
            "mecab-ipadic-utf8 is already installed at the requested version (2.7.0-20070801+main-1)\n",
            "git is already installed at the requested version (1:2.17.1-1ubuntu0.12)\n",
            "make is already installed at the requested version (4.1-9.1ubuntu1)\n",
            "curl is already installed at the requested version (7.58.0-2ubuntu3.19)\n",
            "xz-utils is already installed at the requested version (5.2.2-1.3ubuntu0.1)\n",
            "file is already installed at the requested version (1:5.32-2ubuntu0.4)\n",
            "No packages will be installed, upgraded, or removed.\n",
            "0 packages upgraded, 0 newly installed, 0 to remove and 20 not upgraded.\n",
            "Need to get 0 B of archives. After unpacking 0 B will be used.\n",
            "                            \n",
            "Looking in indexes: https://pypi.org/simple, https://us-python.pkg.dev/colab-wheels/public/simple/\n",
            "Collecting mecab-python3==0.7\n",
            "  Downloading mecab-python3-0.7.tar.gz (41 kB)\n",
            "\u001b[K     |████████████████████████████████| 41 kB 500 kB/s \n",
            "\u001b[?25hBuilding wheels for collected packages: mecab-python3\n",
            "  Building wheel for mecab-python3 (setup.py) ... \u001b[?25l\u001b[?25hdone\n",
            "  Created wheel for mecab-python3: filename=mecab_python3-0.7-cp37-cp37m-linux_x86_64.whl size=156613 sha256=78fc706d6e5ae4158d1a0fc79f84a47f1d1534fb044443016fa79db4a73b79aa\n",
            "  Stored in directory: /root/.cache/pip/wheels/47/46/95/3748ec2c4936cb69ee4d248a85e862064ea1e84819344c5292\n",
            "Successfully built mecab-python3\n",
            "Installing collected packages: mecab-python3\n",
            "  Attempting uninstall: mecab-python3\n",
            "    Found existing installation: mecab-python3 1.0.5\n",
            "    Uninstalling mecab-python3-1.0.5:\n",
            "      Successfully uninstalled mecab-python3-1.0.5\n",
            "Successfully installed mecab-python3-0.7\n"
          ]
        },
        {
          "output_type": "display_data",
          "data": {
            "application/vnd.colab-display-data+json": {
              "pip_warning": {
                "packages": [
                  "MeCab"
                ]
              }
            }
          },
          "metadata": {}
        }
      ]
    },
    {
      "cell_type": "code",
      "execution_count": 5,
      "id": "f8889916-4435-4c96-9bf4-11fca74f12cf",
      "metadata": {
        "id": "f8889916-4435-4c96-9bf4-11fca74f12cf",
        "colab": {
          "base_uri": "https://localhost:8080/"
        },
        "outputId": "11208c39-83b5-4190-c0cc-5af19d37822c"
      },
      "outputs": [
        {
          "output_type": "stream",
          "name": "stdout",
          "text": [
            "fatal: destination path 'ccap' already exists and is not an empty directory.\n",
            "Looking in indexes: https://pypi.org/simple, https://us-python.pkg.dev/colab-wheels/public/simple/\n",
            "Requirement already satisfied: ipadic in /usr/local/lib/python3.7/dist-packages (1.0.0)\n"
          ]
        }
      ],
      "source": [
        "import os\n",
        "import sys\n",
        "import numpy as np\n",
        "import random\n",
        "\n",
        "# ローカルと colab との相違を吸収するために\n",
        "# 本ファイルを Google Colaboratory 上で実行する場合に，必要となるライブラリをインストール\n",
        "if isColab:\n",
        "    !git clone https://github.com/ShinAsakawa/ccap.git\n",
        "    !pip install japanize_matplotlib > /dev/null 2>&1\n",
        "    !pip install jaconv > /dev/null 2>&1\n",
        "\n",
        "    # MeCab, fugashi, ipadic のインストール\n",
        "    #!apt install aptitude swig > /dev/null 2>&1\n",
        "    #!aptitude install mecab libmecab-dev mecab-ipadic-utf8 git make curl xz-utils file -y > /dev/null 2>&1\n",
        "    #!pip install mecab-python3 > /dev/null 2>&1\n",
        "    #!pip install --upgrade ipadic\n",
        "\n",
        "\n",
        "    #!git clone --depth 1 https://github.com/neologd/mecab-ipadic-neologd.git > /dev/null 2>&1\n",
        "    #!echo yes | mecab-ipadic-neologd/bin/install-mecab-ipadic-neologd -n -a > /dev/null 2>&1\n",
        "    \n",
        "    #import subprocess\n",
        "    #cmd='echo `mecab-config --dicdir`\\\"/mecab-ipadic-neologd\\\"'\n",
        "    #path_neologd = (subprocess.Popen(cmd, stdout=subprocess.PIPE,\n",
        "    #                                 shell=True).communicate()[0]).decode('utf-8')\n",
        "\n",
        "    #!pip install 'konoha[mecab]'\n",
        "    #!pip install 'fugashi[unidic]' > /dev/null 2>&1\n",
        "    #!python -m unidic download > /dev/null 2>&1\n",
        "    #!pip install ipadic > /dev/null 2>&1"
      ]
    },
    {
      "cell_type": "markdown",
      "id": "268e8f8d-9435-4e37-9fd0-b8cdf18ebabb",
      "metadata": {
        "id": "268e8f8d-9435-4e37-9fd0-b8cdf18ebabb"
      },
      "source": [
        "## インストール補足"
      ]
    },
    {
      "cell_type": "code",
      "execution_count": 2,
      "id": "91d9ecb1-2d76-4d66-8343-a4d01543e836",
      "metadata": {
        "id": "91d9ecb1-2d76-4d66-8343-a4d01543e836",
        "colab": {
          "base_uri": "https://localhost:8080/"
        },
        "outputId": "46d519c0-1151-4522-b1f1-36ed0692aedf"
      },
      "outputs": [
        {
          "output_type": "stream",
          "name": "stdout",
          "text": [
            "Looking in indexes: https://pypi.org/simple, https://us-python.pkg.dev/colab-wheels/public/simple/\n",
            "Requirement already satisfied: openpyxl in /usr/local/lib/python3.7/dist-packages (3.0.10)\n",
            "Requirement already satisfied: et-xmlfile in /usr/local/lib/python3.7/dist-packages (from openpyxl) (1.1.0)\n",
            "Looking in indexes: https://pypi.org/simple, https://us-python.pkg.dev/colab-wheels/public/simple/\n",
            "Requirement already satisfied: pandas in /usr/local/lib/python3.7/dist-packages (1.3.5)\n",
            "Requirement already satisfied: numpy>=1.17.3 in /usr/local/lib/python3.7/dist-packages (from pandas) (1.21.6)\n",
            "Requirement already satisfied: pytz>=2017.3 in /usr/local/lib/python3.7/dist-packages (from pandas) (2022.2.1)\n",
            "Requirement already satisfied: python-dateutil>=2.7.3 in /usr/local/lib/python3.7/dist-packages (from pandas) (2.8.2)\n",
            "Requirement already satisfied: six>=1.5 in /usr/local/lib/python3.7/dist-packages (from python-dateutil>=2.7.3->pandas) (1.15.0)\n"
          ]
        }
      ],
      "source": [
        "import IPython\n",
        "isColab = 'google.colab' in str(IPython.get_ipython())\n",
        "if isColab:\n",
        "    !pip install --upgrade openpyxl    # エクセルファイルを読むこむ際にバージョンの相違で動作しない場合があるので念の為\n",
        "    !pip install --upgrade pandas      # 同上\n",
        "    #!python -m unidic download\n",
        "    #!pip install --upgrade fugashi[unidic-lite]\n",
        "    #!pip install transformers"
      ]
    },
    {
      "cell_type": "markdown",
      "id": "e67242d7-8a65-48b0-b887-0fb03891ff71",
      "metadata": {
        "id": "e67242d7-8a65-48b0-b887-0fb03891ff71"
      },
      "source": [
        "# 日本語を読むための”ＴＭ語彙リスト”（総合版）　Ver.4.0 の読み込み"
      ]
    },
    {
      "cell_type": "code",
      "execution_count": 3,
      "id": "2725525f-a796-4f26-a43b-07fd8983ba23",
      "metadata": {
        "id": "2725525f-a796-4f26-a43b-07fd8983ba23"
      },
      "outputs": [],
      "source": [
        "#東大の松下研究室の辞書を読み込む\n",
        "import requests\n",
        "import pandas as pd\n",
        "import os\n",
        "import jaconv\n",
        "\n",
        "# 日本語を読むための語彙データベース（VDRJ） Ver. 1.1　（＝日本語を読むための”ＴＭ語彙リスト”（総合版）　Ver.4.0）\n",
        "vdrj_url='http://www17408ui.sakura.ne.jp/tatsum/database/VDRJ_Ver1_1_Research_Top60894.xlsx'\n",
        "\n",
        "# 直上行の url からエクセルファイル名を切り出す\n",
        "excel_fname = vdrj_url.split('/')[-1]\n",
        "\n",
        "# もしエクセルファイルが存在しなかったら ダウンロードする\n",
        "if not os.path.exists(excel_fname):       \n",
        "    r = requests.get(vdrj_url)\n",
        "    with open(excel_fname, 'wb') as f:\n",
        "        total_length = int(r.headers.get('content-length'))\n",
        "        print('Downloading {0} - {1} bytes'.format(excel_fname, (total_length)))\n",
        "        f.write(r.content)\n",
        "        \n",
        "# 松下データの読み込み，シート名を指定\n",
        "sheet_name='重要度順語彙リスト60894語'\n",
        "\n",
        "# 実際のエクセルファイルの読み込み\n",
        "vdrj_df = pd.read_excel(excel_fname, sheet_name=sheet_name)"
      ]
    },
    {
      "cell_type": "markdown",
      "id": "f5addb04-8c5d-45fb-9c83-880f38e4c38e",
      "metadata": {
        "id": "f5addb04-8c5d-45fb-9c83-880f38e4c38e"
      },
      "source": [
        "## 読み込んだ語彙リストの変換"
      ]
    },
    {
      "cell_type": "code",
      "execution_count": 4,
      "id": "5c936bc6-cfbc-4fe0-af56-4f81a3130f35",
      "metadata": {
        "id": "5c936bc6-cfbc-4fe0-af56-4f81a3130f35",
        "outputId": "cdf108f4-c151-47a9-8bb8-857800329011",
        "colab": {
          "base_uri": "https://localhost:8080/"
        }
      },
      "outputs": [
        {
          "output_type": "stream",
          "name": "stdout",
          "text": [
            "60894\n",
            "60894\n",
            "60894\n",
            "60894\n",
            "59925 単語: ping 重複\n",
            "60600 単語: 突然 重複\n",
            "単語: 突然, 重複回数: 2\n",
            "単語: ping, 重複回数: 2\n"
          ]
        }
      ],
      "source": [
        "# `日本語を読むための”ＴＭ語彙リスト”（総合版）　Ver.4.0` の列名データ\n",
        "cols = ['留学生用\\n語彙レベル\\nWord Level for International Students',\n",
        "        '留学生用語彙ランク\\nWord Ranking for International Students',\n",
        "        '一般語彙レベル\\nWord Level for General Learners',\n",
        "        '一般語彙ランク\\nWord Ranking for General Learners',\n",
        "        '書きことば語彙レベル\\nWord Level for Written Japanese',\n",
        "        '書きことば重要度ランク（想定既知語彙を除く）\\nU Ranking for Written Japanese excluding Assumed Known Words',\n",
        "       '旧日本語能力試験出題基準レベル\\nOld JLPT Level',\n",
        "        '語彙階層ラベル Word Tier Label\\n\\n学術共通語彙：4Dまたは3Dを含む語\\n（旧日能試4級語彙および留学生用語彙レベル21K+の語彙を除く）\\n\\n限定学術領域語彙：2Dまたは1Dを含む語（旧日能試4級語彙および留学生用語彙レベル21K+の語彙を除く）',\n",
        "        '見出し語彙素\\nLexeme', \n",
        "        '標準的（新聞）表記\\nStandard (Newspaper) Orthography',\n",
        "        '標準的読み方（カタカナ）\\nStandard Reading (Katakana)', \n",
        "        '品詞\\nPart of Speech',\n",
        "        '使用度数\\nFrequency',\n",
        "        '修正済み使用度数（総延べ語数32656221語中）\\nCorrected Frequency (Out of Total Token 32656221)',\n",
        "        '修正度数\\nFrequency for Correction ',\n",
        "        '10分野100万語あたり使用頻度(Fw)\\nStandardized Freq/\\nmillion in 10 Written Domains (Fw)',\n",
        "        '(Fw)累積テキストカバー率（想定既知語彙分を含む）\\nFw Cumulative Text Coverage including Assumed Known Words',\n",
        "        '\\n書字形（例）\\nOrthographic Form Example',\n",
        "        '発音形（例）\\nPhonological Form Example', '語彙素読み\\nReading of Lexeme',\n",
        "        '活用型\\nConjugation Type', '活用形\\nConjugated Form Example',\n",
        "        '語形\\nWord Form', 'ID',\n",
        "        'ホームポジション並べ替え用ID\\nID for Sorting by the Original Order']\n",
        "\n",
        "x = vdrj_df[cols]\n",
        "\n",
        "# 列名が長くてダルいので簡易な列名に変換しておく\n",
        "vdrj_df_ = x.rename(columns = {\n",
        "    '留学生用\\n語彙レベル\\nWord Level for International Students': 'wlevel_int',\n",
        "    '留学生用語彙ランク\\nWord Ranking for International Students': 'wrank_int',\n",
        "    '一般語彙レベル\\nWord Level for General Learners'           : 'wlevel_gen',\n",
        "    '一般語彙ランク\\nWord Ranking for General Learners'         : 'wrand_gen',\n",
        "    '書きことば語彙レベル\\nWord Level for Written Japanese'      : 'wrank_gen',\n",
        "    '書きことば重要度ランク（想定既知語彙を除く）\\nU Ranking for Written Japanese excluding Assumed Known Words': 'Urank',\n",
        "    '旧日本語能力試験出題基準レベル\\nOld JLPT Level': 'jlpt_level',\n",
        "    '語彙階層ラベル Word Tier Label\\n\\n学術共通語彙：4Dまたは3Dを含む語\\n（旧日能試4級語彙および留学生用語彙レベル21K+の語彙を除く）\\n\\n限定学術領域語彙：2Dまたは1Dを含む語（旧日能試4級語彙および留学生用語彙レベル21K+の語彙を除く）': 'word_tier_label',\n",
        "    '見出し語彙素\\nLexeme': 'lexeme', \n",
        "    '標準的（新聞）表記\\nStandard (Newspaper) Orthography': 'newspaper',\n",
        "    '標準的読み方（カタカナ）\\nStandard Reading (Katakana)': 'katakana',\n",
        "    '品詞\\nPart of Speech'                              : 'pos',\n",
        "    '使用度数\\nFrequency'                                : 'freq',\n",
        "    '修正済み使用度数（総延べ語数32656221語中）\\nCorrected Frequency (Out of Total Token 32656221)': 'freq_correct',\n",
        "    '修正度数\\nFrequency for Correction '                : 'freq_correct2',\n",
        "    '10分野100万語あたり使用頻度(Fw)\\nStandardized Freq/\\nmillion in 10 Written Domains (Fw)'    : 'freq_std',\n",
        "    '(Fw)累積テキストカバー率（想定既知語彙分を含む）\\nFw Cumulative Text Coverage including Assumed Known Words': 'cum_freq',\n",
        "    '\\n書字形（例）\\nOrthographic Form Example'           : 'orth_example',\n",
        "    '発音形（例）\\nPhonological Form Example'             : 'phon_example', \n",
        "    '語彙素読み\\nReading of Lexeme'                       : 'lexeme_reading',\n",
        "    '活用型\\nConjugation Type' : 'conj_type', \n",
        "    '活用形\\nConjugated Form Example': 'conj_example',\n",
        "    '語形\\nWord Form': 'word_form', \n",
        "    'ID': 'ID',\n",
        "    'ホームポジション並べ替え用ID\\nID for Sorting by the Original Order': 'ID_sort'})\n",
        "\n",
        "\n",
        "def jaconv_normalize(word:str):\n",
        "    \"\"\"松下データの 'Lexeme' と '語形' には文字列ではないデータや空欄がある。\n",
        "    そのため，例外処理をすることにした\n",
        "    \"\"\"\n",
        "    if not isinstance(word, str):\n",
        "        return str(word)\n",
        "    else:\n",
        "        return jaconv.normalize(word)\n",
        "\n",
        "# 上で定義した関数 `jaconv_normalize()` を使って松下データ vdrj の文字を NFKC に正規化\n",
        "# おそらく松下データは windows で作成された NFD であると思われるので，念の為\n",
        "vdrj_lexeme    = [jaconv_normalize(w) for w in vdrj_df_['lexeme'].to_list()]\n",
        "vdrj_word_form = [jaconv_normalize(w) for w in vdrj_df_['word_form'].to_list()]\n",
        "vdrj_freq      = [jaconv_normalize(w) for w in vdrj_df_['freq']]\n",
        "vdrj_ids = [int(w) for w in vdrj_df_['ID'].to_list()]\n",
        "\n",
        "#確認用 すべて同じ数 60894 になっているはず\n",
        "for x in [vdrj_lexeme, vdrj_word_form, vdrj_freq, vdrj_ids]:\n",
        "    print(len(x))\n",
        "\n",
        "# データのチェック\n",
        "# 松下データには重複があるらしい\n",
        "word_count = {}\n",
        "for i, w in enumerate(vdrj_lexeme):\n",
        "    if not w in word_count:\n",
        "        word_count[w] = 1\n",
        "    else:\n",
        "        word_count[w] += 1\n",
        "        print(f'{i:5d} 単語: {w} 重複')\n",
        "for k, v in word_count.items():\n",
        "    if word_count[k] != 1:\n",
        "        print(f'単語: {k}, 重複回数: {v}')\n",
        "        \n",
        "\n",
        "vdrj = {}          # ここで用いる松下データの本体\n",
        "vdrj_wrd2idx = {}  # 任意の単語を松下 ID に変換するための辞書\n",
        "for i, (lexeme, word_form, freq, idx) in enumerate(zip(vdrj_lexeme, vdrj_word_form, vdrj_freq, vdrj_ids)):\n",
        "    vdrj[idx] = {'lexeme': lexeme,\n",
        "                 'word_form': word_form,\n",
        "                 'freq': int(freq),\n",
        "                }\n",
        "    vdrj_wrd2idx[lexeme] = idx\n",
        "#list(vdrj.keys())[3:10]\n",
        "#vdrj_wrd2idx['突然']"
      ]
    },
    {
      "cell_type": "markdown",
      "id": "2906690b-8376-4546-bfd9-49a49d30cae1",
      "metadata": {
        "id": "2906690b-8376-4546-bfd9-49a49d30cae1"
      },
      "source": [
        "# 日本語版 NLI データセットの読み込み"
      ]
    },
    {
      "cell_type": "code",
      "execution_count": 5,
      "id": "05e70308-4b43-4aba-bdd1-a7b04853c050",
      "metadata": {
        "id": "05e70308-4b43-4aba-bdd1-a7b04853c050",
        "outputId": "bce9414f-d90f-47f3-f9da-7a16436b9796",
        "colab": {
          "base_uri": "https://localhost:8080/"
        }
      },
      "outputs": [
        {
          "output_type": "stream",
          "name": "stdout",
          "text": [
            "データセット名:train_wo, サイズ:548015\n",
            "データセット名:train_w, サイズ:533006\n",
            "データセット名:dev, サイズ:3917\n"
          ]
        }
      ],
      "source": [
        "from zipfile import ZipFile\n",
        "\n",
        "jsnli_url = 'https://nlp.ist.i.kyoto-u.ac.jp/DLcounter/lime.cgi?down=https://nlp.ist.i.kyoto-u.ac.jp/nl-resource/JSNLI/jsnli_1.1.zip&name=JSNLI.zip'\n",
        "zip_fname = jsnli_url.split('/')[-1].split('&')[0]\n",
        "#zip_fname = jsnli_zip_fname\n",
        "if not os.path.exists(zip_fname):  # もしエクセルファイルが存在しなかったら ダウンロードする\n",
        "    r = requests.get(jsnli_url)\n",
        "    with open(zip_fname, 'wb') as f:\n",
        "        total_length = int(r.headers.get('content-length'))\n",
        "        print('Downloading {0} - {1} bytes'.format(zip_fname, (total_length)))\n",
        "        f.write(r.content)\n",
        "\n",
        "def extract_zip(input_zip):\n",
        "    input_zip=ZipFile(input_zip)\n",
        "    return {name: input_zip.read(name) for name in input_zip.namelist()}        \n",
        "\n",
        "a = extract_zip(zip_fname)\n",
        "jsnli_train_wo = a['jsnli_1.1/train_wo_filtering.tsv'].decode('utf-8').split('\\n')\n",
        "jsnli_train_w  = a['jsnli_1.1/train_w_filtering.tsv'].decode('utf-8').split('\\n')\n",
        "jsnli_dev      = a['jsnli_1.1/dev.tsv'].decode('utf-8').split('\\n')\n",
        "\n",
        "def jsnli_strip_sentenses(data:list):\n",
        "    ret = []\n",
        "    for line in data:\n",
        "        x = []\n",
        "        for p in line.split('\\t'):\n",
        "            x.append(p.replace(' ',''))\n",
        "        ret.append(x)\n",
        "    return ret\n",
        "\n",
        "JSNLI = {}\n",
        "for k,v in {'train_wo':jsnli_train_wo, 'train_w':jsnli_train_w, 'dev':jsnli_dev}.items():\n",
        "    JSNLI[k] = jsnli_strip_sentenses(v)\n",
        "\n",
        "# JSNLI データセットのサイズを表示    \n",
        "for k, v in JSNLI.items():\n",
        "    print(f'データセット名:{k}, サイズ:{len(v)}')\n",
        "    "
      ]
    },
    {
      "cell_type": "code",
      "source": [
        "p  = tagger.parse('本日は悪天なり。').strip().split('\\n')\n",
        "for _p in p[:-1]:\n",
        "    print(_p, _p.split(','), _p.split(',')[-3])"
      ],
      "metadata": {
        "colab": {
          "base_uri": "https://localhost:8080/"
        },
        "id": "ABFPkN5A2oWr",
        "outputId": "19190a8c-184d-4864-fc61-2b22043c72ba"
      },
      "id": "ABFPkN5A2oWr",
      "execution_count": 17,
      "outputs": [
        {
          "output_type": "stream",
          "name": "stdout",
          "text": [
            "本日\t名詞,副詞可能,*,*,*,*,本日,ホンジツ,ホンジツ ['本日\\t名詞', '副詞可能', '*', '*', '*', '*', '本日', 'ホンジツ', 'ホンジツ'] 本日\n",
            "は\t助詞,係助詞,*,*,*,*,は,ハ,ワ ['は\\t助詞', '係助詞', '*', '*', '*', '*', 'は', 'ハ', 'ワ'] は\n",
            "悪\t接頭詞,名詞接続,*,*,*,*,悪,アク,アク ['悪\\t接頭詞', '名詞接続', '*', '*', '*', '*', '悪', 'アク', 'アク'] 悪\n",
            "天\t名詞,一般,*,*,*,*,天,テン,テン ['天\\t名詞', '一般', '*', '*', '*', '*', '天', 'テン', 'テン'] 天\n",
            "なり\t助動詞,*,*,*,文語・ナリ,基本形,なり,ナリ,ナリ ['なり\\t助動詞', '*', '*', '*', '文語・ナリ', '基本形', 'なり', 'ナリ', 'ナリ'] なり\n",
            "。\t記号,句点,*,*,*,*,。,。,。 ['。\\t記号', '句点', '*', '*', '*', '*', '。', '。', '。'] 。\n"
          ]
        }
      ]
    },
    {
      "cell_type": "code",
      "source": [],
      "metadata": {
        "id": "g-FrMp_o2oJv"
      },
      "id": "g-FrMp_o2oJv",
      "execution_count": null,
      "outputs": []
    },
    {
      "cell_type": "code",
      "execution_count": 18,
      "id": "d89c79dd-c717-43b6-b2c1-331cac57ddf4",
      "metadata": {
        "id": "d89c79dd-c717-43b6-b2c1-331cac57ddf4"
      },
      "outputs": [],
      "source": [
        "import numpy as np\n",
        "from termcolor import colored\n",
        "import MeCab\n",
        "\n",
        "tagger = MeCab.Tagger()\n",
        "\n",
        "def mecab_get_origin(sent:str):\n",
        "    \"\"\"MeCab を使って，文を分解し，原形と品詞からなるリストを返す\"\"\"\n",
        "    p = tagger.parse(sent).strip().split('\\n')\n",
        "    ret = []\n",
        "    for _p in p[:-1]:\n",
        "        # 分解された各要素の 4 番目を取り出す\n",
        "        x = _p.split(',')\n",
        "        orig = x[-3]\n",
        "        orig = orig.split('-')[0] if '-' in orig else orig\n",
        "        pos = x[0]\n",
        "        ret.append((orig, pos))\n",
        "    return ret\n",
        "    \n",
        "def get_vdrj_wrd2idx(wrd:str,\n",
        "                 wrd2idx:dict=vdrj_wrd2idx,\n",
        "                ):\n",
        "    if wrd in wrd2idx:\n",
        "        return wrd2idx[wrd]\n",
        "    else:\n",
        "        return -1"
      ]
    },
    {
      "cell_type": "code",
      "execution_count": 19,
      "id": "7c369b1d-39d6-48de-9a8b-5601e15b8ab2",
      "metadata": {
        "id": "7c369b1d-39d6-48de-9a8b-5601e15b8ab2",
        "outputId": "c979559b-1689-425e-e424-bff3e517ee57",
        "colab": {
          "base_uri": "https://localhost:8080/"
        }
      },
      "outputs": [
        {
          "output_type": "stream",
          "name": "stdout",
          "text": [
            "文の品詞分解と原形: [('明日', '明日\\t名詞'), ('天気', '天気\\t名詞'), ('なー', 'なー\\t助詞'), ('る', 'れ\\t助動詞'), ('。', '。\\t記号')]\n",
            "各単語の ID リスト: [1031, 3616, -1, -1, -1]\n"
          ]
        }
      ],
      "source": [
        "sent = '明日天気なーれ。'\n",
        "\n",
        "# 上で定義した sent を使って，MeCab を用いて，単語の原形を取り出す\n",
        "print(f'文の品詞分解と原形: {mecab_get_origin(sent)}')\n",
        "\n",
        "# 取り出した単語の原形のリストから松下データの　ID を取り出す\n",
        "print(f'各単語の ID リスト: {[get_vdrj_wrd2idx(x[0]) for x in mecab_get_origin(sent)]}')"
      ]
    },
    {
      "cell_type": "code",
      "execution_count": 20,
      "id": "800c3e61-1378-41d6-962e-ed8c305bd337",
      "metadata": {
        "id": "800c3e61-1378-41d6-962e-ed8c305bd337",
        "outputId": "a53ce868-a414-4f94-beb6-c8969ec6e0c6",
        "colab": {
          "base_uri": "https://localhost:8080/"
        }
      },
      "outputs": [
        {
          "output_type": "stream",
          "name": "stdout",
          "text": [
            "\u001b[1m\u001b[34m最大松下ID:12465\u001b[0m 原文:ガレージで、壁にナイフを投げる男。 ID リスト:[12465, 12, -1, 982, 3, 4186, 6, 3027, 183, -1]\n",
            "\u001b[1m\u001b[34m最大松下ID:36263\u001b[0m 原文:男は魔法のショーのためにナイフを投げる行為を練習しています。 ID リスト:[183, 4, 4657, 1, 2986, 1, 36263, 3, 4186, 6, 3027, 623, 6, 1846, -1, 2, -1, 17, -1]\n",
            "\u001b[1m\u001b[34m最大松下ID:5854\u001b[0m 原文:茶色のドレスを着た女性がベンチに座っています。 ID リスト:[5854, 1, 5149, 6, 947, 8, 215, 7, 4710, 3, 785, 2, -1, 17, -1]\n",
            "\u001b[1m\u001b[34m最大松下ID:2629\u001b[0m 原文:女性が畑で踊っています。 ID リスト:[215, 7, 2116, 12, 2629, 2, -1, 17, -1]\n",
            "\u001b[1m\u001b[34m最大松下ID:3614\u001b[0m 原文:ラップトップコンピューターを使用して机に座っている若い白人男。 ID リスト:[-1, 6, 415, -1, 2, 2007, 3, 785, 2, -1, 360, 3614, 183, -1]\n",
            "\u001b[1m\u001b[34m最大松下ID:5551\u001b[0m 原文:黒人はデスクトップコンピューターを使用します。 ID リスト:[3953, 4, 5551, 1919, 1844, 6, 415, -1, 17, -1]\n",
            "\u001b[1m\u001b[34m最大松下ID:2123\u001b[0m 原文:海の波に倒れる男 ID リスト:[531, 1, 1437, 3, 2123, 183]\n",
            "\u001b[1m\u001b[34m最大松下ID:5093\u001b[0m 原文:海に転がる男。 ID リスト:[531, 3, 5093, 183, -1]\n",
            "\u001b[1m\u001b[34m最大松下ID:13631\u001b[0m 原文:２つの異なるチームがラグビーをしています。 ID リスト:[-1, 1, 630, 1838, 7, 13631, 6, -1, 2, -1, 17, -1]\n",
            "\u001b[1m\u001b[34m最大松下ID:3947\u001b[0m 原文:サッカーをする２つのチーム ID リスト:[3947, 6, -1, -1, 1, 1838]\n",
            "\u001b[1m\u001b[34m最大松下ID:12267\u001b[0m 原文:空き地で男が男と話します。 ID リスト:[12267, 12, 183, 7, 183, 9, 307, 17, -1]\n",
            "\u001b[1m\u001b[34m最大松下ID:307\u001b[0m 原文:二人が話している。 ID リスト:[33, 29, 7, 307, 2, -1, -1]\n",
            "\u001b[1m\u001b[34m最大松下ID:19222\u001b[0m 原文:セラミックポットを作る膝の上に小さな男の子を持つアジアの女性。 ID リスト:[19222, 10031, 6, 142, 2190, 1, 91, 3, 522, 2084, 6, 79, 1085, 1, 215, -1]\n",
            "\u001b[1m\u001b[34m最大松下ID:9909\u001b[0m 原文:アジアの女性が陶器を作っています。 ID リスト:[1085, 1, 215, 7, 9909, 6, 142, 2, -1, 17, -1]\n",
            "\u001b[1m\u001b[34m最大松下ID:18823\u001b[0m 原文:水上に着陸しようとする飛行中の水鳥がいます。 ID リスト:[10023, 3, 10895, -1, -1, 9, -1, 1362, 54, 1, 18823, 7, -1, 17, -1]\n",
            "\u001b[1m\u001b[34m最大松下ID:36263\u001b[0m 原文:鳥はその赤ちゃんを養うために木に着陸しようとしています。 ID リスト:[1526, 4, -1, 2577, 6, 4641, 36263, 3, 543, 3, 10895, -1, -1, 9, -1, 2, -1, 17, -1]\n",
            "\u001b[1m\u001b[34m最大松下ID:8058\u001b[0m 原文:チョークの手の込んだイラストの近くに女性が立っています。 ID リスト:[-1, 1, 141, 1, 2839, 5, 8058, 1, 510, 3, 215, 7, 298, 2, -1, 17, -1]\n",
            "\u001b[1m\u001b[34m最大松下ID:15439\u001b[0m 原文:壁の落書きには芸術的な価値はまったくありませんでした。 ID リスト:[982, 1, 15439, 3, 4, 1853, 37, 5, 606, 4, -1, -1, 17, -1, 23, 8, -1]\n",
            "\u001b[1m\u001b[34m最大松下ID:4481\u001b[0m 原文:衣装を着た男が４人の子供を楽しませる。 ID リスト:[4481, 6, 947, 8, 183, 7, -1, 29, 1, 144, 6, 834, 67, -1]\n",
            "\u001b[1m\u001b[34m最大松下ID:3563\u001b[0m 原文:男は子供の誕生日パーティーに出演します。 ID リスト:[183, 4, 144, 1, 1181, 68, 2692, 3, 3563, -1, 17, -1]\n"
          ]
        }
      ],
      "source": [
        "for d in JSNLI['train_wo'][:10]:\n",
        "    _, s1, s2 = d\n",
        "    for s in [s1, s2]:\n",
        "        mecab_parsed = mecab_get_origin(s)\n",
        "        ids = [get_vdrj_wrd2idx(x[0]) for x in mecab_parsed]\n",
        "        print(colored(f'最大松下ID:{np.max(ids)}', 'blue', attrs=['bold']),\n",
        "              f'原文:{s}', \n",
        "              f'ID リスト:{ids}')"
      ]
    },
    {
      "cell_type": "code",
      "execution_count": null,
      "id": "8bf0cabf-2b75-44a8-97e3-adcf57a6249e",
      "metadata": {
        "id": "8bf0cabf-2b75-44a8-97e3-adcf57a6249e"
      },
      "outputs": [],
      "source": []
    }
  ],
  "metadata": {
    "kernelspec": {
      "display_name": "Python 3 (ipykernel)",
      "language": "python",
      "name": "python3"
    },
    "language_info": {
      "codemirror_mode": {
        "name": "ipython",
        "version": 3
      },
      "file_extension": ".py",
      "mimetype": "text/x-python",
      "name": "python",
      "nbconvert_exporter": "python",
      "pygments_lexer": "ipython3",
      "version": "3.9.13"
    },
    "colab": {
      "provenance": [],
      "collapsed_sections": [],
      "include_colab_link": true
    }
  },
  "nbformat": 4,
  "nbformat_minor": 5
}