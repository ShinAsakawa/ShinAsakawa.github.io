{
  "cells": [
    {
      "cell_type": "markdown",
      "metadata": {
        "id": "view-in-github",
        "colab_type": "text"
      },
      "source": [
        "<a href=\"https://colab.research.google.com/github/ShinAsakawa/ShinAsakawa.github.io/blob/master/2022notebooks/2022_0112preprocessing.ipynb\" target=\"_parent\"><img src=\"https://colab.research.google.com/assets/colab-badge.svg\" alt=\"Open In Colab\"/></a>"
      ]
    },
    {
      "cell_type": "markdown",
      "source": [
        "- date: 2022_0112\n",
        "- source url: https://colab.research.google.com/github/huggingface/notebooks/blob/master/transformers_doc/preprocessing.ipynb\n",
        "- filename: 2022_0112preprocessing.ipynb\n"
      ],
      "metadata": {
        "id": "Wo9e9TmY-hfd"
      }
    },
    {
      "cell_type": "code",
      "execution_count": 1,
      "metadata": {
        "id": "DM09-KeT-Obh"
      },
      "outputs": [],
      "source": [
        "import platform\n",
        "isColab = platform.system() == 'Linux'\n",
        "\n",
        "if isColab:\n",
        "    # Transformers installation\n",
        "    !pip install transformers datasets > /dev/null 2>&1\n",
        "    # To install from source instead of the last release, comment the command above and uncomment the following one.\n",
        "    #!pip install git+https://github.com/huggingface/transformers.git"
      ]
    },
    {
      "cell_type": "code",
      "source": [
        "if isColab:\n",
        "    # MeCab, fugashi, ipadic のインストール\n",
        "    !apt install aptitude swig > /dev/null 2>&1\n",
        "    !aptitude install mecab libmecab-dev mecab-ipadic-utf8 git make curl xz-utils file -y > /dev/null 2>&1\n",
        "    !pip install mecab-python3 > /dev/null 2>&1\n",
        "    !git clone --depth 1 https://github.com/neologd/mecab-ipadic-neologd.git > /dev/null 2>&1\n",
        "    !echo yes | mecab-ipadic-neologd/bin/install-mecab-ipadic-neologd -n -a > /dev/null 2>&1\n",
        "    \n",
        "    import subprocess\n",
        "    cmd='echo `mecab-config --dicdir`\\\"/mecab-ipadic-neologd\\\"'\n",
        "    path_neologd = (subprocess.Popen(cmd, stdout=subprocess.PIPE,\n",
        "                                     shell=True).communicate()[0]).decode('utf-8')\n",
        "\n",
        "    !pip install 'fugashi[unidic]' > /dev/null 2>&1\n",
        "    !python -m unidic download > /dev/null 2>&1\n",
        "    !pip install ipadic > /dev/null 2>&1    "
      ],
      "metadata": {
        "id": "ZgXwY_bo-bon"
      },
      "execution_count": 2,
      "outputs": []
    },
    {
      "cell_type": "markdown",
      "metadata": {
        "id": "Ff4Ow67s-Obj"
      },
      "source": [
        "# データの前処理\n",
        "\n",
        "<!-- # Preprocessing data -->"
      ]
    },
    {
      "cell_type": "markdown",
      "metadata": {
        "id": "uPaS7Tgx-Obk"
      },
      "source": [
        "このチュートリアルでは，Transoformers を使ってデータを前処理する方法を紹介します。\n",
        "このための主なツールは [tokenizer](https://huggingface.co/docs/transformers/master/en/main_classes/tokenizer) と呼ばれるものです。\n",
        "使用したいモデルに関連するトークナイザクラスを使って構築することもできますし， [AutoTokenizer](https://huggingface.co/docs/transformers/master/en/model_doc/auto#transformers.AutoTokenizer) クラスを使って直接構築することもできます。\n",
        "<!-- In this tutorial, we'll explore how to preprocess your data using 🤗 Transformers. \n",
        "The main tool for this is what we call a [tokenizer](https://huggingface.co/docs/transformers/master/en/main_classes/tokenizer). \n",
        "You can build one using the tokenizer class associated to the model you would like to use, or directly with the [AutoTokenizer](https://huggingface.co/docs/transformers/master/en/model_doc/auto#transformers.AutoTokenizer) class. -->\n",
        "\n",
        "クイックツアー](https://huggingface.co/docs/transformers/master/en/quicktour)で見たように，トークン化器はまず，与えられたテキストを，通常は _tokens_ と呼ばれる単語 (または単語の一部，句読点記号など) に分割します。 \n",
        "次に，これら _tokens_ を数値に変換して，それらからテンソルを構築し，モデルに与えることができるようにします。\n",
        "また，モデルが適切に動作するために必要な追加入力を加えます。\n",
        "<!-- As we saw in the [quick tour](https://huggingface.co/docs/transformers/master/en/quicktour), the tokenizer will first split a given text in words (or part of words, punctuation symbols, etc.) usually called _tokens_. \n",
        "Then it will convert those _tokens_ into numbers, to be able to build a tensor out of them and feed them to the model. \n",
        "It will also add any additional inputs the model might expect to work properly. -->\n",
        "\n",
        "<Tip>\n",
        "\n",
        "事前学習済みのモデルを使用する場合は，関連する事前学習済みのトークン化器を使用することが重要です。\n",
        "このトークン化器は，前学習コーパスと同じ方法で，与えられたテキストをトークンに分割し，事前学習時と同じ対応関係のあるトークンを数値に使用します (通常 _vocab_ と呼びます)。\n",
        "<!-- If you plan on using a pretrained model, it's important to use the associated pretrained tokenizer: \n",
        "it will split the text you give it in tokens the same way for the pretraining corpus, and it will use the same correspondence token to index (that we usually call a _vocab_) as during pretraining. -->\n",
        "\n",
        "</Tip>\n",
        "\n",
        "事前訓練やモデルの微調整の際に使用した語彙を自動的にダウンロードするには， [AutoTokenizer.from_pretrained()](https://huggingface.co/docs/transformers/master/en/model_doc/auto#transformers.AutoTokenizer.from_pretrained) メソッドを使用します。\n",
        "<!-- To automatically download the vocab used during pretraining or fine-tuning a given model, you can use the [AutoTokenizer.from_pretrained()](https://huggingface.co/docs/transformers/master/en/model_doc/auto#transformers.AutoTokenizer.from_pretrained) method: -->"
      ]
    },
    {
      "cell_type": "code",
      "execution_count": 4,
      "metadata": {
        "id": "F607pXoG-Obl",
        "outputId": "bf55934f-dba3-4000-e7b6-80897c236e42",
        "colab": {
          "base_uri": "https://localhost:8080/",
          "height": 241,
          "referenced_widgets": [
            "5273b55033cc4647bd43f7acfc457346",
            "38c34597e7224297b0bfb23dae120964",
            "df619e9899eb4de29df89a5950d65079",
            "ff5a36742b5349739519335fcfbe6f8b",
            "3598e99484a54777b6783eed2e160c0e",
            "a15295f00df146538b773fec4356b21b",
            "cc39e8f9acda462d8695a8f1e85505f5",
            "a16e1f013b554f52983aee718cabed18",
            "5296d8ae060649fca54b4711d0008239",
            "63e5024471184fada76907f840f92eb1",
            "f894866ef8b84e4789e99ebfc451f961",
            "f99ae57b7d4b4a8d8aaeebe976494041",
            "74bb01e3e06c4d4fa6c872292db3d4a1",
            "8b94f4e561b4454daafc02cfb7d1f954",
            "ce4f56aff6f546d89e87430ec05f08be",
            "ad0068b0c06b46a1ab54965cae1ee5dc",
            "63cf047c4108436db9ec08b3aafacb19",
            "5fcc14b3c7d14e6b9ba35cfa926ec745",
            "130137e9738842faa9165d5c17a2c5e1",
            "63bdc93476d64ca0ba4b65e0bbb3d5f0",
            "f643c9c3e62a44f0bbeebb7cfa72b60a",
            "d6f23a21c22344848517bc08b2e6dd19",
            "34b5fba1f7e94e41b6806343c4bd2fb9",
            "11220618d6de46988988bad4fc2a30c9",
            "417f7a0e926643cb8b026dc746c0d6b2",
            "7f8306c833844e71bf569cb471a700c7",
            "61f55d5a28da4fad82ee76f91d638a25",
            "a34f564836b041e59b72e140e8e87d3b",
            "674a77d088e24f2ab3bd678c605d34f1",
            "6ae05eba995c46a189901e13d1d9f728",
            "def78e4bb01445e7b9d2d9ae1f7d8199",
            "8fc35e59a64f451abe017c2d1d72664b",
            "d12f996c6b5a4606868e66473401432d",
            "4eb4281218fb464890dce7ba38bf34f3",
            "dafde886db614cb69b78b0f9f6cb7da6",
            "0ea39d05da374b1a88c1007e979497ce",
            "e99384b5490045fdb569f66ae225fdbe",
            "8d8da3af109345af876ff4b6d9be4a98",
            "78824404d4444046b5ccf910577b25a9",
            "912f866d3b3747ea922d5c50bf1d49aa",
            "56b37c5271214e8e9889c6c606aab4f3",
            "b4ebb130c8744426833139e7552a0694",
            "2b1cf0ff3ace45758d59c3c114a1c412",
            "0c73b5c9ca254068a1d41b79eb3dd7e8",
            "d3ea6c96abe44668905c308f1107f6e5",
            "acd3a2fc65e34c4aaf078c21e7171505",
            "43aa152f54994843a95023dd01c4d23c",
            "361fc68f4b9c4ce1bf2ef5e99d7b47aa",
            "9f10fccb8df644a0b3e2e4a636f16a28",
            "7f57c8cc470b4d4994737c20fbbb47de",
            "5eafe2de7c904131a88442deeb6aae61",
            "ec12ccc05e7445bbb75312b9b813ebb3",
            "3459b05c56024b5cb62b92ee61de7a0f",
            "77e72aaa28d74661ba2398734bd62b86",
            "6d0df03468f342d8a3612c148ee8ec0e",
            "7d16a52a6f234dc58e6df6164976b761",
            "fca50f0f112b49ad8a22b92163fef3bd",
            "be97ca7ffae743e0b773720f9d847daf",
            "62ac969cc31242f8b79df3f0895014d5",
            "1ce4ce1f86c143938585942c291464d0",
            "e2a631d0d67b4732b2770512ac1ebe14",
            "0d751d94c82040acbec2fea62924c9b3",
            "2b1b129d83d24094b8b118ff5bf4bc0b",
            "2e0c02290dfc4d98bd4631038af6439d",
            "ed7e99815fa9462d8782afd49301de34",
            "eaddc786302740e1a4a4fb54f5324dcd",
            "ae9f008db2e44c8ab420a6cc9e595e73",
            "ab80ffdc85c340668873dde9381eca07",
            "3c337a032dd24dfeb2e92631c76b3a11",
            "55b2a8e4f59f4ec58703e82d57ad88a3",
            "479413eb5a46458d9ccaaf844516c464",
            "429d93fe301a4a358069e5f5c39f6b44",
            "c6b33622d4cd4eb58b27972cb64d66f9",
            "cc4f44294947419cbac4c739d6e24cf6",
            "79446d216156494aaa89490b76f025e0",
            "f238f42e0fe440e389759acd1b640862",
            "6fabf07be8a04d63998ad2003684b53a"
          ]
        }
      },
      "outputs": [
        {
          "output_type": "display_data",
          "data": {
            "application/vnd.jupyter.widget-view+json": {
              "model_id": "5273b55033cc4647bd43f7acfc457346",
              "version_minor": 0,
              "version_major": 2
            },
            "text/plain": [
              "Downloading:   0%|          | 0.00/29.0 [00:00<?, ?B/s]"
            ]
          },
          "metadata": {}
        },
        {
          "output_type": "display_data",
          "data": {
            "application/vnd.jupyter.widget-view+json": {
              "model_id": "f99ae57b7d4b4a8d8aaeebe976494041",
              "version_minor": 0,
              "version_major": 2
            },
            "text/plain": [
              "Downloading:   0%|          | 0.00/570 [00:00<?, ?B/s]"
            ]
          },
          "metadata": {}
        },
        {
          "output_type": "display_data",
          "data": {
            "application/vnd.jupyter.widget-view+json": {
              "model_id": "34b5fba1f7e94e41b6806343c4bd2fb9",
              "version_minor": 0,
              "version_major": 2
            },
            "text/plain": [
              "Downloading:   0%|          | 0.00/208k [00:00<?, ?B/s]"
            ]
          },
          "metadata": {}
        },
        {
          "output_type": "display_data",
          "data": {
            "application/vnd.jupyter.widget-view+json": {
              "model_id": "4eb4281218fb464890dce7ba38bf34f3",
              "version_minor": 0,
              "version_major": 2
            },
            "text/plain": [
              "Downloading:   0%|          | 0.00/426k [00:00<?, ?B/s]"
            ]
          },
          "metadata": {}
        },
        {
          "output_type": "display_data",
          "data": {
            "application/vnd.jupyter.widget-view+json": {
              "model_id": "d3ea6c96abe44668905c308f1107f6e5",
              "version_minor": 0,
              "version_major": 2
            },
            "text/plain": [
              "Downloading:   0%|          | 0.00/104 [00:00<?, ?B/s]"
            ]
          },
          "metadata": {}
        },
        {
          "output_type": "display_data",
          "data": {
            "application/vnd.jupyter.widget-view+json": {
              "model_id": "7d16a52a6f234dc58e6df6164976b761",
              "version_minor": 0,
              "version_major": 2
            },
            "text/plain": [
              "Downloading:   0%|          | 0.00/479 [00:00<?, ?B/s]"
            ]
          },
          "metadata": {}
        },
        {
          "output_type": "display_data",
          "data": {
            "application/vnd.jupyter.widget-view+json": {
              "model_id": "ae9f008db2e44c8ab420a6cc9e595e73",
              "version_minor": 0,
              "version_major": 2
            },
            "text/plain": [
              "Downloading:   0%|          | 0.00/252k [00:00<?, ?B/s]"
            ]
          },
          "metadata": {}
        }
      ],
      "source": [
        "from transformers import AutoTokenizer\n",
        "\n",
        "tokenizer = AutoTokenizer.from_pretrained(\"bert-base-cased\")\n",
        "\n",
        "\n",
        "model_name_ja = \"cl-tohoku/bert-base-japanese\"  # 東北大学乾研版 BERT\n",
        "tknz = AutoTokenizer.from_pretrained(model_name_ja)\n"
      ]
    },
    {
      "cell_type": "markdown",
      "metadata": {
        "id": "GGz4lEIs-Obl"
      },
      "source": [
        "## 1. 基本的用法\n",
        "<!-- ## Base use -->"
      ]
    },
    {
      "cell_type": "code",
      "execution_count": null,
      "metadata": {
        "cellView": "form",
        "hide_input": true,
        "id": "pIRAMGt2-Obm"
      },
      "outputs": [],
      "source": [
        "#@title\n",
        "from IPython.display import HTML\n",
        "\n",
        "HTML('<iframe width=\"560\" height=\"315\" src=\"https://www.youtube.com/embed/Yffk5aydLzg?rel=0&amp;controls=0&amp;showinfo=0\" frameborder=\"0\" allowfullscreen></iframe>')"
      ]
    },
    {
      "cell_type": "markdown",
      "metadata": {
        "id": "av465p-M-Obm"
      },
      "source": [
        "[PreTrainedTokenizer](https://huggingface.co/docs/transformers/master/en/main_classes/tokenizer#transformers.PreTrainedTokenizer) には多くのメソッドがありますが，前処理のために覚えておく必要があるのは，`__call__`  だけです。\n",
        "<!-- A [PreTrainedTokenizer](https://huggingface.co/docs/transformers/master/en/main_classes/tokenizer#transformers.PreTrainedTokenizer) has many methods, but the only one you need to remember for preprocessing is its `__call__`: you just need to feed your sentence to your tokenizer object. -->"
      ]
    },
    {
      "cell_type": "code",
      "execution_count": null,
      "metadata": {
        "id": "_YObDhRi-Obn"
      },
      "outputs": [],
      "source": [
        "encoded_input = tokenizer(\"Hello, I'm a single sentence!\")\n",
        "print(encoded_input)\n",
        "\n",
        "encoded_input_ja1 = tknz(\"こんにちは，竈門炭治郎です\")\n",
        "encoded_input_ja2 = tknz(\"これはニューラルネットワークモデルです\")\n",
        "\n",
        "print(encoded_input_ja1)\n",
        "print(encoded_input_ja2)"
      ]
    },
    {
      "cell_type": "markdown",
      "metadata": {
        "id": "C4ZqCL5V-Obo"
      },
      "source": [
        "これは，辞書文字列を int リストにして返します。 \n",
        "[input_ids](https://huggingface.co/docs/transformers/master/en/glossary#input-ids) は，文の各トークンに対応するインデックスです。\n",
        "[attention_mask](https://huggingface.co/docs/transformers/master/en/glossary#attention-mask) が何に使われるかは後述しますし，[次節](#preprocessing-pairs-of-sentences) では [token_type_ids](https://huggingface.co/docs/transformers/master/en/glossary#token-type-ids) の目的を説明します。\n",
        "<!-- This returns a dictionary string to list of ints. The [input_ids](https://huggingface.co/docs/transformers/master/en/glossary#input-ids) are the indices corresponding to each token in our sentence. \n",
        "We will see below what the [attention_mask](https://huggingface.co/docs/transformers/master/en/glossary#attention-mask) is used for and in [the next section](#preprocessing-pairs-of-sentences) the goal of [token_type_ids](https://huggingface.co/docs/transformers/master/en/glossary#token-type-ids). -->\n",
        "\n",
        "トークン化器は，トークン ID のリストを適切な文に符号化することができます。\n",
        "<!-- The tokenizer can decode a list of token ids in a proper sentence: -->"
      ]
    },
    {
      "cell_type": "code",
      "execution_count": null,
      "metadata": {
        "id": "jkCku6Ln-Obo"
      },
      "outputs": [],
      "source": [
        "print(tokenizer.decode(encoded_input[\"input_ids\"]))\n",
        "\n",
        "print(tknz.decode(encoded_input_ja1[\"input_ids\"]))\n",
        "print(tknz.decode(encoded_input_ja2[\"input_ids\"]))\n"
      ]
    },
    {
      "cell_type": "markdown",
      "metadata": {
        "id": "BsfxMB5f-Obo"
      },
      "source": [
        "ご覧のとおり，トークン化器はモデルが期待する特別なトークンを自動的に追加しています。\n",
        "すべてのモデルが特別なトークンを必要としているわけではありません。\n",
        "たとえば，トークン化器を作成する際に _bert-base-cased_  の代わりに _gpt2-medium_ を使用していたとしたら，元の文と同じものがここに表示されていたでしょう。\n",
        "`add_special_tokens=False` を渡すことで，この動作を無効にすることができます (自分でこれらの特殊なトークンを追加した場合にのみお勧めします)。\n",
        "<!-- As you can see, the tokenizer automatically added some special tokens that the model expects. Not all models need special tokens; for instance, if we had used _gpt2-medium_ instead of _bert-base-cased_ to create our tokenizer, we would have seen the same sentence as the original one here. \n",
        "You can disable this behavior (which is only advised if you have added those special tokens yourself) by passing `add_special_tokens=False`. -->\n",
        "\n",
        "処理したい文が複数ある場合は，それらをリストとしてトークン化器に送ることで，効率的に処理することができます。\n",
        "<!-- If you have several sentences you want to process, you can do this efficiently by sending them as a list to the tokenizer: -->"
      ]
    },
    {
      "cell_type": "code",
      "execution_count": 7,
      "metadata": {
        "id": "_UFoft66-Obp",
        "outputId": "f19adc38-5ae0-4e73-c2c5-9818b4eda96a",
        "colab": {
          "base_uri": "https://localhost:8080/"
        }
      },
      "outputs": [
        {
          "output_type": "stream",
          "name": "stdout",
          "text": [
            "{'input_ids': [[101, 8667, 146, 112, 182, 170, 1423, 5650, 102], [101, 1262, 1330, 5650, 102], [101, 1262, 1103, 1304, 1304, 1314, 1141, 102]], 'token_type_ids': [[0, 0, 0, 0, 0, 0, 0, 0, 0], [0, 0, 0, 0, 0], [0, 0, 0, 0, 0, 0, 0, 0]], 'attention_mask': [[1, 1, 1, 1, 1, 1, 1, 1, 1], [1, 1, 1, 1, 1], [1, 1, 1, 1, 1, 1, 1, 1]]}\n",
            "{'input_ids': [[101, 1033, 1039, 1004, 100, 916, 885, 1045, 100, 914, 100, 100, 903, 28822, 28801, 1004, 100, 914, 28790, 28794, 28821, 100, 100, 100, 100, 100, 100, 100, 100, 904, 885, 100, 1014, 100, 915, 28801, 28814, 28807, 885, 100, 1004, 100, 912, 28808, 100, 1002, 914, 28818, 28821, 100, 100, 912, 885, 100, 1004, 100, 1006, 100, 100, 100, 915, 28815, 28801, 28819, 28798, 100, 100, 100, 100, 100, 904, 885, 100, 100, 915, 100, 100, 914, 28818, 28803, 28804, 100, 100, 100, 100, 915, 100, 100, 100, 100, 100, 100, 100, 904, 885, 902, 28795, 28807, 100, 100, 100, 1004, 100, 914, 100, 100, 100, 100, 904, 885, 902, 28808, 100, 100, 100, 100, 100, 905, 28821, 886, 102]], 'token_type_ids': [[0, 0, 0, 0, 0, 0, 0, 0, 0, 0, 0, 0, 0, 0, 0, 0, 0, 0, 0, 0, 0, 0, 0, 0, 0, 0, 0, 0, 0, 0, 0, 0, 0, 0, 0, 0, 0, 0, 0, 0, 0, 0, 0, 0, 0, 0, 0, 0, 0, 0, 0, 0, 0, 0, 0, 0, 0, 0, 0, 0, 0, 0, 0, 0, 0, 0, 0, 0, 0, 0, 0, 0, 0, 0, 0, 0, 0, 0, 0, 0, 0, 0, 0, 0, 0, 0, 0, 0, 0, 0, 0, 0, 0, 0, 0, 0, 0, 0, 0, 0, 0, 0, 0, 0, 0, 0, 0, 0, 0, 0, 0, 0, 0, 0, 0, 0, 0, 0, 0, 0, 0]], 'attention_mask': [[1, 1, 1, 1, 1, 1, 1, 1, 1, 1, 1, 1, 1, 1, 1, 1, 1, 1, 1, 1, 1, 1, 1, 1, 1, 1, 1, 1, 1, 1, 1, 1, 1, 1, 1, 1, 1, 1, 1, 1, 1, 1, 1, 1, 1, 1, 1, 1, 1, 1, 1, 1, 1, 1, 1, 1, 1, 1, 1, 1, 1, 1, 1, 1, 1, 1, 1, 1, 1, 1, 1, 1, 1, 1, 1, 1, 1, 1, 1, 1, 1, 1, 1, 1, 1, 1, 1, 1, 1, 1, 1, 1, 1, 1, 1, 1, 1, 1, 1, 1, 1, 1, 1, 1, 1, 1, 1, 1, 1, 1, 1, 1, 1, 1, 1, 1, 1, 1, 1, 1, 1]]}\n"
          ]
        }
      ],
      "source": [
        "batch_sentences = [\"Hello I'm a single sentence\", \"And another sentence\", \"And the very very last one\"]\n",
        "encoded_inputs = tokenizer(batch_sentences)\n",
        "print(encoded_inputs)\n",
        "\n",
        "batch_sentences_ja = [\"日本国民は、正当に選挙された国会における代表者を通じて行動し、われらとわれらの子孫のために、諸国民との協和による成果と、わが国全土にわたつて自由のもたらす恵沢を確保し、政府の行為によつて再び戦争の惨禍が起ることのないやうにすることを決意し、ここに主権が国民に存することを宣言し、この憲法を確定する。\"]\n",
        "encoded_inputs_ja = tokenizer(batch_sentences_ja)\n",
        "print(encoded_inputs_ja)"
      ]
    },
    {
      "cell_type": "markdown",
      "metadata": {
        "id": "8ykio8ax-Obp"
      },
      "source": [
        "再び辞書が返されますが，今回は値が int のリストのリストになっています。\n",
        "<!-- We get back a dictionary once again, this time with values being lists of lists of ints.-->\n",
        "\n",
        "一度にいくつかの文章をトークン化器に送る目的が，モデルに供給するためのバッチを構築することであれば、おそらく次のことが必要になるでしょう。\n",
        "<!-- If the purpose of sending several sentences at a time to the tokenizer is to build a batch to feed the model, you will probably want: -->\n",
        "\n",
        "- 各センテンスをバッチ内の最大の長さにする。\n",
        "- 各文をモデルが受け入れられる最大の長さに切り詰める (該当する場合)。\n",
        "- テンソルを返す。\n",
        "\n",
        "<!-- - To pad each sentence to the maximum length there is in your batch.\n",
        "- To truncate each sentence to the maximum length the model can accept (if applicable).\n",
        "- To return tensors. -->\n",
        "\n",
        "これらのことは，文のリストをトークン化する際に以下のオプションを使用することで実現できます。\n",
        "<!-- You can do all of this by using the following options when feeding your list of sentences to the tokenizer: -->"
      ]
    },
    {
      "cell_type": "code",
      "execution_count": null,
      "metadata": {
        "id": "s_rOqDGK-Obp"
      },
      "outputs": [],
      "source": [
        "batch = tokenizer(batch_sentences, padding=True, truncation=True, return_tensors=\"pt\")\n",
        "print(batch)\n",
        "\n",
        "batch_ja = tknz(batch_sentences_ja, padding=True, truncation=True, return_tensors=\"pt\")\n",
        "print(batch_ja)"
      ]
    },
    {
      "cell_type": "code",
      "execution_count": null,
      "metadata": {
        "id": "RggpfMl--Obq"
      },
      "outputs": [],
      "source": [
        "# Tensorflow 版なのでコメントアウトした\n",
        "# batch = tokenizer(batch_sentences, padding=True, truncation=True, return_tensors=\"tf\")\n",
        "# print(batch)"
      ]
    },
    {
      "cell_type": "markdown",
      "metadata": {
        "id": "FjgASBta-Obq"
      },
      "source": [
        "これは，文字列キーとテンソル値を持つ辞書を返します。\n",
        "これで [attention_mask](https://huggingface.co/docs/transformers/master/en/glossary#attention-mask)の意味がわかりました。\n",
        "モデルが注意を払うべきトークンとそうでないトークンを示しています (この場合はパディングを表しているため)。\n",
        "<!-- It returns a dictionary with string keys and tensor values. We can now see what the [attention_mask](https://huggingface.co/docs/transformers/master/en/glossary#attention-mask) is all about: it points out which tokens the model should pay attention to and which ones it should not (because they represent padding in this case). -->\n",
        "\n",
        "なお，モデルに最大長が設定されていない場合は，上記のコマンドは警告を出します。\n",
        "これは無視しても大丈夫です。\n",
        "また `verbose=False` を渡すことで，トークン化器がこの種の警告を出さないようにすることもできます。\n",
        "\n",
        "<a id='sentence-pairs'></a\n",
        "\n",
        "<!-- Note that if your model does not have a maximum length associated to it, the command above will throw a warning. \n",
        "You can safely ignore it. \n",
        "You can also pass `verbose=False` to stop the tokenizer from throwing those kinds of warnings. --> -->\n",
        "\n"
      ]
    },
    {
      "cell_type": "markdown",
      "metadata": {
        "id": "fuyuPMhb-Obq"
      },
      "source": [
        "## 2. 対となる文の準備\n",
        "<!-- ## Preprocessing pairs of sentences -->"
      ]
    },
    {
      "cell_type": "code",
      "execution_count": null,
      "metadata": {
        "cellView": "form",
        "hide_input": true,
        "id": "ei4aWgXX-Obq"
      },
      "outputs": [],
      "source": [
        "#@title\n",
        "from IPython.display import HTML\n",
        "\n",
        "HTML('<iframe width=\"560\" height=\"315\" src=\"https://www.youtube.com/embed/0u3ioSwev3s?rel=0&amp;controls=0&amp;showinfo=0\" frameborder=\"0\" allowfullscreen></iframe>')"
      ]
    },
    {
      "cell_type": "markdown",
      "metadata": {
        "id": "--cSJovH-Obr"
      },
      "source": [
        "文章対をモデルに与える必要がある場合があります。\n",
        "例えば，対になる 2 つの文が類似しているかどうかを分類したい場合や，文脈と質問を受け付ける質問応答モデルの場合などです。\n",
        "BERT モデルの場合，入力は次のように表されます。\n",
        "[CLS] 系列A [SEP] 系列B [SEP]。\n",
        "<!-- Sometimes you need to feed a pair of sentences to your model. \n",
        "For instance, if you want to classify if two sentences in a pair are similar, or for question-answering models, which take a context and a question. \n",
        "For BERT models, the input is then represented like this: `[CLS] Sequence A [SEP] Sequence B [SEP]`-->\n",
        "\n",
        "2 つの文を 2 つの引数として与えることで，モデルが期待する形式で文対を符号化することができます (2 つの文のリストは，前に見たように 2 つの単一文のバッチとして解釈されるので，リストではありません)。\n",
        "これにより，再び dict の文字列から int のリストが返されます。\n",
        "<!-- You can encode a pair of sentences in the format expected by your model by supplying the two sentences as two arguments (not a list since a list of two sentences will be interpreted as a batch of two single sentences, as we saw before).\n",
        "This will once again return a dict string to list of ints: -->"
      ]
    },
    {
      "cell_type": "code",
      "execution_count": 9,
      "metadata": {
        "id": "l_YrRERA-Obr",
        "outputId": "643e7855-2ce0-4cf0-f68e-52d4a3dea468",
        "colab": {
          "base_uri": "https://localhost:8080/"
        }
      },
      "outputs": [
        {
          "output_type": "stream",
          "name": "stdout",
          "text": [
            "{'input_ids': [101, 1731, 1385, 1132, 1128, 136, 102, 146, 112, 182, 127, 1201, 1385, 102], 'token_type_ids': [0, 0, 0, 0, 0, 0, 0, 1, 1, 1, 1, 1, 1, 1], 'attention_mask': [1, 1, 1, 1, 1, 1, 1, 1, 1, 1, 1, 1, 1, 1]}\n",
            "{'input_ids': [2, 10350, 25746, 28450, 3, 12253, 9574, 2992, 3], 'token_type_ids': [0, 0, 0, 0, 0, 1, 1, 1, 1], 'attention_mask': [1, 1, 1, 1, 1, 1, 1, 1, 1]}\n"
          ]
        }
      ],
      "source": [
        "encoded_input = tokenizer(\"How old are you?\", \"I'm 6 years old\")\n",
        "print(encoded_input)\n",
        "\n",
        "encoded_input_ja = tknz(\"こんにちは\", \"ぼくドラえもんです\")\n",
        "print(encoded_input_ja)"
      ]
    },
    {
      "cell_type": "markdown",
      "metadata": {
        "id": "pbA2pXnT-Obr"
      },
      "source": [
        "これは [token_type_id](https://huggingface.co/docs/transformers/master/en/glossary#token-type-ids) が何のためにあるのかを示しています。\n",
        "これは，入力のどの部分が第 1 文に対応し，どの部分が第 2 文に対応するのかをモデルに示すものです。\n",
        "なお，_token_type_id_ はすべてのモデルで必要とされたり，扱われたりするわけではありません。\n",
        "デフォルトでは，トークン化器は，関連付けられたモデルが期待する入力のみを返します。\n",
        "`return_input_ids` や `return_token_type_ids` を使えば，それらの特別な引数を強制的に返す (または返さない) ことができます。\n",
        "<!-- This shows us what the [token_type_ids](https://huggingface.co/docs/transformers/master/en/glossary#token-type-ids) are for: they indicate to the model which part of the inputs correspond to the first sentence and which part corresponds to the second sentence. \n",
        "Note that _token_type_ids_ are not required or handled by all models. \n",
        "By default, a tokenizer will only return the inputs that its associated model expects. You can force the return (or the non-return) of any of those special arguments by using `return_input_ids` or `return_token_type_ids`.  -->\n",
        "\n",
        "取得したトークン ID を符号化すると，特殊なトークンが適切に追加されていることがわかります。\n",
        "<!-- If we decode the token ids we obtained, we will see that the special tokens have been properly added. -->"
      ]
    },
    {
      "cell_type": "code",
      "execution_count": 10,
      "metadata": {
        "id": "hmISM39x-Obr",
        "outputId": "f4e61dcf-30e7-4eb3-82f0-817d438710a8",
        "colab": {
          "base_uri": "https://localhost:8080/"
        }
      },
      "outputs": [
        {
          "output_type": "stream",
          "name": "stdout",
          "text": [
            "[CLS] How old are you? [SEP] I'm 6 years old [SEP]\n",
            "[CLS] こんにちは [SEP] ぼく ドラえもん です [SEP]\n"
          ]
        }
      ],
      "source": [
        "print(tokenizer.decode(encoded_input[\"input_ids\"]))\n",
        "print(tknz.decode(encoded_input_ja[\"input_ids\"]))"
      ]
    },
    {
      "cell_type": "markdown",
      "metadata": {
        "id": "a1UsoBbT-Obr"
      },
      "source": [
        "処理したい配列の対のリストがある場合，それを 2 つのリストにしてトークン化器に渡す必要があります。\n",
        "第 1 文のリストと第二文のリストです。\n",
        "<!-- If you have a list of pairs of sequences you want to process, you should feed them as two lists to your tokenizer: \n",
        "the list of first sentences and the list of second sentences: -->"
      ]
    },
    {
      "cell_type": "code",
      "execution_count": 11,
      "metadata": {
        "id": "kgMnwTB8-Obs",
        "outputId": "a036f5ed-31ff-401a-9f37-a2fafc34ce9f",
        "colab": {
          "base_uri": "https://localhost:8080/"
        }
      },
      "outputs": [
        {
          "output_type": "stream",
          "name": "stdout",
          "text": [
            "{'input_ids': [[101, 8667, 146, 112, 182, 170, 1423, 5650, 102, 146, 112, 182, 170, 5650, 1115, 2947, 1114, 1103, 1148, 5650, 102], [101, 1262, 1330, 5650, 102, 1262, 146, 1431, 1129, 12544, 1114, 1103, 1248, 5650, 102], [101, 1262, 1103, 1304, 1304, 1314, 1141, 102, 1262, 146, 1301, 1114, 1103, 1304, 1314, 1141, 102]], 'token_type_ids': [[0, 0, 0, 0, 0, 0, 0, 0, 0, 1, 1, 1, 1, 1, 1, 1, 1, 1, 1, 1, 1], [0, 0, 0, 0, 0, 1, 1, 1, 1, 1, 1, 1, 1, 1, 1], [0, 0, 0, 0, 0, 0, 0, 0, 1, 1, 1, 1, 1, 1, 1, 1, 1]], 'attention_mask': [[1, 1, 1, 1, 1, 1, 1, 1, 1, 1, 1, 1, 1, 1, 1, 1, 1, 1, 1, 1, 1], [1, 1, 1, 1, 1, 1, 1, 1, 1, 1, 1, 1, 1, 1, 1], [1, 1, 1, 1, 1, 1, 1, 1, 1, 1, 1, 1, 1, 1, 1, 1, 1]]}\n",
            "{'input_ids': [[2, 1409, 9, 20123, 29245, 28444, 8, 3, 918, 5, 7204, 2992, 8, 3], [2, 49, 28489, 28528, 28489, 21845, 297, 7676, 309, 3185, 9, 6, 340, 21797, 22, 20431, 16, 6, 5007, 75, 728, 6424, 3436, 5, 232, 17985, 10, 28462, 28670, 28512, 6424, 3, 893, 287, 2944, 5, 7204, 2992, 8, 3], [2, 1428, 9, 1563, 8, 37, 5, 4305, 9, 553, 297, 8, 49, 28614, 28, 18, 28761, 6, 11663, 5, 378, 787, 3858, 28586, 28458, 29065, 1284, 8, 3, 604, 228, 171, 14, 240, 2944, 5, 7204, 2992, 8, 3]], 'token_type_ids': [[0, 0, 0, 0, 0, 0, 0, 0, 1, 1, 1, 1, 1, 1], [0, 0, 0, 0, 0, 0, 0, 0, 0, 0, 0, 0, 0, 0, 0, 0, 0, 0, 0, 0, 0, 0, 0, 0, 0, 0, 0, 0, 0, 0, 0, 0, 1, 1, 1, 1, 1, 1, 1, 1], [0, 0, 0, 0, 0, 0, 0, 0, 0, 0, 0, 0, 0, 0, 0, 0, 0, 0, 0, 0, 0, 0, 0, 0, 0, 0, 0, 0, 0, 1, 1, 1, 1, 1, 1, 1, 1, 1, 1, 1]], 'attention_mask': [[1, 1, 1, 1, 1, 1, 1, 1, 1, 1, 1, 1, 1, 1], [1, 1, 1, 1, 1, 1, 1, 1, 1, 1, 1, 1, 1, 1, 1, 1, 1, 1, 1, 1, 1, 1, 1, 1, 1, 1, 1, 1, 1, 1, 1, 1, 1, 1, 1, 1, 1, 1, 1, 1], [1, 1, 1, 1, 1, 1, 1, 1, 1, 1, 1, 1, 1, 1, 1, 1, 1, 1, 1, 1, 1, 1, 1, 1, 1, 1, 1, 1, 1, 1, 1, 1, 1, 1, 1, 1, 1, 1, 1, 1]]}\n"
          ]
        }
      ],
      "source": [
        "batch_sentences = [\"Hello I'm a single sentence\", \"And another sentence\", \"And the very very last one\"]\n",
        "batch_of_second_sentences = [\n",
        "    \"I'm a sentence that goes with the first sentence\",\n",
        "    \"And I should be encoded with the second sentence\",\n",
        "    \"And I go with the very last one\",\n",
        "]\n",
        "encoded_inputs = tokenizer(batch_sentences, batch_of_second_sentences)\n",
        "print(encoded_inputs)\n",
        "\n",
        "\n",
        "batch_sentences_ja = [\"春はあけぼの。\",\n",
        "                      \"やうやう白くなりゆく山ぎは、すこしあかりて、紫だちたる 雲のほそくたなびきたる\",\n",
        "                      \"夏は夜。月のころはさらなり。やみもなほ、蛍の多く飛びちがひたる。\"]\n",
        "batch_of_second_sentences_ja = [\n",
        "    \"最初の文章です。\",\n",
        "    \"そして二番目の文章です。\",\n",
        "    \"さらに，これが三番目の文章です。\",\n",
        "]\n",
        "encoded_inputs_ja = tknz(batch_sentences_ja, batch_of_second_sentences_ja)\n",
        "print(encoded_inputs_ja)"
      ]
    },
    {
      "cell_type": "markdown",
      "metadata": {
        "id": "EpRJsz8f-Obs"
      },
      "source": [
        "見ての通り，これは，各値が int のリストのリストである辞書を返します。\n",
        "<!-- As we can see, it returns a dictionary where each value is a list of lists of ints.-->\n",
        "\n",
        "モデルに入力された内容をダブルチェックするために _input_ids_ の各リストを 1 つずつ符号化してみましょう。\n",
        "<!-- To double-check what is fed to the model, we can decode each list in _input_ids_ one by one: -->"
      ]
    },
    {
      "cell_type": "code",
      "execution_count": 12,
      "metadata": {
        "id": "01xsaY1a-Obs",
        "outputId": "cda770da-ba63-413c-e372-befa56677461",
        "colab": {
          "base_uri": "https://localhost:8080/"
        }
      },
      "outputs": [
        {
          "output_type": "stream",
          "name": "stdout",
          "text": [
            "[CLS] Hello I'm a single sentence [SEP] I'm a sentence that goes with the first sentence [SEP]\n",
            "[CLS] And another sentence [SEP] And I should be encoded with the second sentence [SEP]\n",
            "[CLS] And the very very last one [SEP] And I go with the very last one [SEP]\n",
            "[CLS] 春 は あけぼの 。 [SEP] 最初 の 文章 です 。 [SEP]\n",
            "[CLS] やうやう 白く なり ゆく 山 ぎ は 、 すこし あ かり て 、 紫 だ ち たる 雲 の ほそく たなびき たる [SEP] そして 二 番目 の 文章 です 。 [SEP]\n",
            "[CLS] 夏 は 夜 。 月 の ころ は さら なり 。 やみ も なほ 、 蛍 の 多く 飛 びちがひたる 。 [SEP] さらに, これ が 三 番目 の 文章 です 。 [SEP]\n"
          ]
        }
      ],
      "source": [
        "for ids in encoded_inputs[\"input_ids\"]:\n",
        "    print(tokenizer.decode(ids))\n",
        "\n",
        "for ids in encoded_inputs_ja[\"input_ids\"]:\n",
        "    print(tknz.decode(ids))    "
      ]
    },
    {
      "cell_type": "markdown",
      "metadata": {
        "id": "kVOs26Bs-Obs"
      },
      "source": [
        "繰り返しになりますが，次のようにして，入力をバッチ内の最大文長に自動的にパッドし，モデルが受け入れられる最大長に切り詰め，テンソルを直接返すことができます。\n",
        "<!-- Once again, you can automatically pad your inputs to the maximum sentence length in the batch, truncate to the maximum length the model can accept and return tensors directly with the following: -->"
      ]
    },
    {
      "cell_type": "code",
      "execution_count": 13,
      "metadata": {
        "id": "kf0MRBLK-Obs"
      },
      "outputs": [],
      "source": [
        "batch = tokenizer(batch_sentences, batch_of_second_sentences, padding=True, truncation=True, return_tensors=\"pt\")\n",
        "\n",
        "batch_ja = tknz(batch_sentences_ja, batch_of_second_sentences_ja, padding=True, truncation=True, return_tensors=\"pt\")"
      ]
    },
    {
      "cell_type": "code",
      "execution_count": 14,
      "metadata": {
        "id": "0QGDS79s-Obs"
      },
      "outputs": [],
      "source": [
        "#TensorFlow 版なので省略\n",
        "#batch = tokenizer(batch_sentences, batch_of_second_sentences, padding=True, truncation=True, return_tensors=\"tf\")"
      ]
    },
    {
      "cell_type": "markdown",
      "metadata": {
        "id": "aIjKf0Y7-Obs"
      },
      "source": [
        "## 3. 埋め込みと切断について知るべきことすべて\n",
        "<!-- ## Everything you always wanted to know about padding and truncation -->"
      ]
    },
    {
      "cell_type": "markdown",
      "metadata": {
        "id": "0fmIipbk-Obt"
      },
      "source": [
        "ほとんどの場合に機能するコマンドを見てきました (バッチを最大文の長さにパッドし，モデルが受け入れられる最大の長さに切り詰める)。\n",
        "しかし，API は必要に応じてより多くの戦略をサポートしています。\n",
        "そのために必要な 3 つの引数は `padding`、`truncation`、`max_length` です。\n",
        "<!-- We have seen the commands that will work for most cases (pad your batch to the length of the maximum sentence and truncate to the maximum length the model can accept). \n",
        "However, the API supports more strategies if you need them. \n",
        "The three arguments you need to know for this are `padding`, `truncation` and `max_length`. -->\n",
        "\n",
        "- padding` は埋め込みをコントロールします。\n",
        "これはブール値か文字列で，次のようになります。\n",
        "<!-- - `padding` controls the padding. It can be a boolean or a string which should be:-->\n",
        "\n",
        "  - `True` または `'longest'` バッチ内の最も長い系列にパディングします  (1つの系列しか提供していない場合はパディングしません)。\n",
        "  - `'max_length'` は `max_length` 引数で指定された長さにパディングします。\n",
        "`max_length` が指定されていない場合は，モデルが受け入れる最大の長さに埋め込みします (`max_length=None`)。\n",
        "  1 つのシ系列のみを指定した場合でも，パディングはその系列に適用されます。\n",
        "  - False` または `'do_not_pad'` を指定すると，系列のパディングを行いません。\n",
        "  これまで見てきたように，これがデフォルトの動作です。\n",
        "\n",
        "<!--\n",
        "  - `True` or `'longest'` to pad to the longest sequence in the batch (doing no padding if you only provide a single sequence).\n",
        "  - `'max_length'` to pad to a length specified by the `max_length` argument or the maximum length accepted by the model if no `max_length` is provided (`max_length=None`). \n",
        "  If you only provide a single sequence, padding will still be applied to it.\n",
        "  - `False` or `'do_not_pad'` to not pad the sequences. \n",
        "  As we have seen before, this is the default behavior. -->\n",
        "\n",
        "\n",
        "- `truncation` は，切り捨てを制御します。\n",
        "これはブール値か文字列で，次のようになります。\n",
        "\n",
        "  - `True` または `'longest_first'` 引数の `max_length` で指定した最大の長さに切り詰めます。\n",
        "`max_length` が指定されていない場合は,l\n",
        "モデルが受け入れる最大の長さになります  (`max_length=None`)。\n",
        "これは，適切な長さに達するまで，対の中で最も長い系列からトークンを削除しながら，トークンごとに切り詰めていきます。\n",
        "  - `'only_second'` 引数 `max_length` で指定された最大の長さに切り詰めます。\n",
        "`max_length` が指定されていない場合は，モデルが受け入れる最大の長さに切り詰めます  (`max_length=None`)。\n",
        "  これは，系列対 (または系列対のバッチ) が提供されている場合，対の 2 番目の文のみを切り詰めます。\n",
        "  - `'only_first'` 引数 `max_length` で指定された最大の長さに切り詰めます。\n",
        "`max_length` が指定されていない場合は，lモデルが受け入れる最大の長さに切り詰めます  (`max_length=None`)。\n",
        "  これは，系列対 (または系列対のバッチ) が提供されている場合，対の最初の文のみを切り詰めます。\n",
        "  - `False` または `'do_not_truncate'` を指定すると，系列を切り詰めません。\n",
        "これまで見てきたように，これはデフォルトの動作です。\n",
        "\n",
        "<!-- \n",
        "- `truncation` controls the truncation. \n",
        "It can be a boolean or a string which should be:\n",
        "\n",
        "  - `True` or `'longest_first'` truncate to a maximum length specified by the `max_length` argument or the maximum length accepted by the model if no `max_length` is provided (`max_length=None`). \n",
        "  This will truncate token by token, removing a token from the longest sequence in the pair until the proper length is reached.\n",
        "  - `'only_second'` truncate to a maximum length specified by the `max_length` argument or the maximum length accepted by the model if no `max_length` is provided (`max_length=None`). \n",
        "  This will only truncate the second sentence of a pair if a pair of sequence (or a batch of pairs of sequences) is provided. \n",
        "  - `'only_first'` truncate to a maximum length specified by the `max_length` argument or the maximum length accepted by the model if no `max_length` is provided (`max_length=None`). \n",
        "  This will only truncate the first sentence of a pair if a pair of sequence (or a batch of pairs of sequences) is provided.\n",
        "  - `False` or `'do_not_truncate'` to not truncate the sequences. As we have seen before, this is the default behavior. -->\n",
        "\n",
        "\n",
        "- `max_length` はパディング/切り詰め(トランケーション) の長さを制御します。\n",
        "これは整数か `None` で、その場合はモデルが受け入れることのできる最大の長さがデフォルトになります。\n",
        "モデルが特定の最大入力長を持たない場合，`max_length` への切り詰め/パディングは無効になります。\n",
        "\n",
        "<!-- - `max_length` to control the length of the padding/truncation. \n",
        "It can be an integer or `None`, in which case it will default to the maximum length the model can accept. \n",
        "If the model has no specific maximum input length, truncation/padding to `max_length` is deactivated. -->\n",
        "\n",
        "埋め込み(パディング)と トランケーション (切り詰め) の推奨設定方法を表にまとめてみました。\n",
        "以下の例で入力系列対を使用している場合，`truncation=True` を `['only_first', 'only_second', 'longest_first']` で選択した `STRATEGY` で置き換えることができます。\n",
        "<!-- Here is a table summarizing the recommend way to setup padding and truncation. \n",
        "If you use pair of inputs sequence in any of the following examples, you can replace `truncation=True` by a `STRATEGY` selected in `['only_first', 'only_second', 'longest_first']`, i.e. `truncation='only_second'` or `truncation= 'longest_first'` to control how both sequence in the pair are truncated as detailed before. -->\n",
        "\n",
        "| Truncation                           | Padding                           | Instruction                                                                                 |\n",
        "|--------------------------------------|-----------------------------------|---------------------------------------------------------------------------------------------|\n",
        "| no truncation                        | no padding                        | `tokenizer(batch_sentences)`                                                           |\n",
        "|                                      | padding to max sequence in batch  | `tokenizer(batch_sentences, padding=True)` or                                          |\n",
        "|                                      |                                   | `tokenizer(batch_sentences, padding='longest')`                                        |\n",
        "|                                      | padding to max model input length | `tokenizer(batch_sentences, padding='max_length')`                                     |\n",
        "|                                      | padding to specific length        | `tokenizer(batch_sentences, padding='max_length', max_length=42)`                      |\n",
        "| truncation to max model input length | no padding                        | `tokenizer(batch_sentences, truncation=True)` or                                       |\n",
        "|                                      |                                   | `tokenizer(batch_sentences, truncation=STRATEGY)`                                      |\n",
        "|                                      | padding to max sequence in batch  | `tokenizer(batch_sentences, padding=True, truncation=True)` or                         |\n",
        "|                                      |                                   | `tokenizer(batch_sentences, padding=True, truncation=STRATEGY)`                        |\n",
        "|                                      | padding to max model input length | `tokenizer(batch_sentences, padding='max_length', truncation=True)` or                 |\n",
        "|                                      |                                   | `tokenizer(batch_sentences, padding='max_length', truncation=STRATEGY)`                |\n",
        "|                                      | padding to specific length        | Not possible                                                                                |\n",
        "| truncation to specific length        | no padding                        | `tokenizer(batch_sentences, truncation=True, max_length=42)` or                        |\n",
        "|                                      |                                   | `tokenizer(batch_sentences, truncation=STRATEGY, max_length=42)`                       |\n",
        "|                                      | padding to max sequence in batch  | `tokenizer(batch_sentences, padding=True, truncation=True, max_length=42)` or          |\n",
        "|                                      |                                   | `tokenizer(batch_sentences, padding=True, truncation=STRATEGY, max_length=42)`         |\n",
        "|                                      | padding to max model input length | Not possible                                                                                |\n",
        "|                                      | padding to specific length        | `tokenizer(batch_sentences, padding='max_length', truncation=True, max_length=42)` or  |\n",
        "|                                      |                                   | `tokenizer(batch_sentences, padding='max_length', truncation=STRATEGY, max_length=42)` |"
      ]
    },
    {
      "cell_type": "markdown",
      "metadata": {
        "id": "xsYF9ApF-Obu"
      },
      "source": [
        "## 4. 事前トークン化入力 \n",
        "<!-- ## Pre-tokenized inputs -->"
      ]
    },
    {
      "cell_type": "markdown",
      "metadata": {
        "id": "AhdENuR5-Obv"
      },
      "source": [
        "トークン化器は，あらかじめトークン化された入力も受け付けます。\n",
        "これは [名前付き実体認識(NER)](https://en.wikipedia.org/wiki/Named-entity_recognition) や [品詞タグ付け(POSタグ付け)](https://en.wikipedia.org/wiki/Part-of-speech_tagging) でラベルを計算したり予測値を抽出したりする場合に特に便利です。\n",
        "<!-- The tokenizer also accept pre-tokenized inputs. This is particularly useful when you want to compute labels and extract predictions in [named entity recognition (NER)](https://en.wikipedia.org/wiki/Named-entity_recognition) or [part-of-speech tagging (POS tagging)](https://en.wikipedia.org/wiki/Part-of-speech_tagging). -->\n",
        "\n",
        "<Tip warning={true}>\n",
        "\n",
        "事前にトークン化されているということは，入力がすでにトークン化されているということではなく (そうであればトークン化器を通す必要はありません)，単語に分割されているだけです (BPE のような部分単語トークン化アルゴリズムでは，これが最初のステップになることが多いです)。\n",
        "<!-- Pre-tokenized does not mean your inputs are already tokenized (you wouldn't need to pass them through the tokenizer if that was the case) but just split into words (which is often the first step in subword tokenization algorithms like BPE). -->\n",
        "\n",
        "</Tip>\n",
        "\n",
        "トークン化された入力を使いたい場合は，トークン化器に入力を渡す際に  `is_split_into_words=True`  を設定してください。\n",
        "例えば：\n",
        "<!-- If you want to use pre-tokenized inputs, just set `is_split_into_words=True` when passing your inputs to the tokenizer. \n",
        "For instance, we have: -->"
      ]
    },
    {
      "cell_type": "code",
      "execution_count": 15,
      "metadata": {
        "id": "KvFpESgP-Obv",
        "outputId": "85df0df7-1ab9-4dca-9066-c2b743a6b755",
        "colab": {
          "base_uri": "https://localhost:8080/"
        }
      },
      "outputs": [
        {
          "output_type": "stream",
          "name": "stdout",
          "text": [
            "{'input_ids': [101, 8667, 146, 112, 182, 170, 1423, 5650, 102], 'token_type_ids': [0, 0, 0, 0, 0, 0, 0, 0, 0], 'attention_mask': [1, 1, 1, 1, 1, 1, 1, 1, 1]}\n",
            "{'input_ids': [2, 10350, 25746, 28450, 4637, 9574, 2992, 8, 3], 'token_type_ids': [0, 0, 0, 0, 0, 0, 0, 0, 0], 'attention_mask': [1, 1, 1, 1, 1, 1, 1, 1, 1]}\n",
            "{'input_ids': [2, 10350, 25746, 28450, 4637, 1, 3236, 1311, 29082, 2992, 8, 3], 'token_type_ids': [0, 0, 0, 0, 0, 0, 0, 0, 0, 0, 0, 0], 'attention_mask': [1, 1, 1, 1, 1, 1, 1, 1, 1, 1, 1, 1]}\n"
          ]
        }
      ],
      "source": [
        "encoded_input = tokenizer([\"Hello\", \"I'm\", \"a\", \"single\", \"sentence\"], is_split_into_words=True)\n",
        "print(encoded_input)\n",
        "\n",
        "encoded_input_ja = tknz([\"こんにちは\", \"ボク\", \"ドラえもん\", \"です\", \"。\"], is_split_into_words=True)\n",
        "print(encoded_input_ja)\n",
        "\n",
        "encoded_input_ja2 = tknz([\"こんにちは\", \"ボク\", \"竈門炭治郎\", \"です\", \"。\"], is_split_into_words=True)\n",
        "print(encoded_input_ja2)"
      ]
    },
    {
      "cell_type": "markdown",
      "metadata": {
        "id": "t0big9Pg-Obv"
      },
      "source": [
        "なお `add_special_tokens=False`を渡さない限り，トークン化器は (該当する場合) 特殊なトークン ID を追加します。\n",
        "\n",
        "これは，文のバッチや文対のバッチについては，以前と同じように動作します。\n",
        "文章のバッチを符号化するには，次のようにします。\n",
        "<!-- Note that the tokenizer still adds the ids of special tokens (if applicable) unless you pass `add_special_tokens=False`.\n",
        "\n",
        "This works exactly as before for batch of sentences or batch of pairs of sentences. You can encode a batch of sentences like this: -->"
      ]
    },
    {
      "cell_type": "code",
      "execution_count": 16,
      "metadata": {
        "id": "3aX3OnJd-Obv"
      },
      "outputs": [],
      "source": [
        "batch_sentences = [\n",
        "    [\"Hello\", \"I'm\", \"a\", \"single\", \"sentence\"],\n",
        "    [\"And\", \"another\", \"sentence\"],\n",
        "    [\"And\", \"the\", \"very\", \"very\", \"last\", \"one\"],\n",
        "]\n",
        "encoded_inputs = tokenizer(batch_sentences, is_split_into_words=True)"
      ]
    },
    {
      "cell_type": "markdown",
      "metadata": {
        "id": "ZknGIXKh-Obv"
      },
      "source": [
        "とか、こんな感じの文対のバッチです。\n",
        "<!-- or a batch of pair sentences like this: -->"
      ]
    },
    {
      "cell_type": "code",
      "execution_count": null,
      "metadata": {
        "id": "akJ-XWHu-Obw"
      },
      "outputs": [],
      "source": [
        "batch_of_second_sentences = [\n",
        "    [\"I'm\", \"a\", \"sentence\", \"that\", \"goes\", \"with\", \"the\", \"first\", \"sentence\"],\n",
        "    [\"And\", \"I\", \"should\", \"be\", \"encoded\", \"with\", \"the\", \"second\", \"sentence\"],\n",
        "    [\"And\", \"I\", \"go\", \"with\", \"the\", \"very\", \"last\", \"one\"],\n",
        "]\n",
        "encoded_inputs = tokenizer(batch_sentences, batch_of_second_sentences, is_split_into_words=True)"
      ]
    },
    {
      "cell_type": "markdown",
      "metadata": {
        "id": "ISkY-IPh-Obw"
      },
      "source": [
        "また，以前のようにテンソルを直接返すだけでなく，パディングや切り詰め(トランケーション)\n",
        "を加えることもできます。\n",
        "<!-- And you can add padding, truncation as well as directly return tensors like before: -->"
      ]
    },
    {
      "cell_type": "code",
      "execution_count": null,
      "metadata": {
        "id": "-AYqx97g-Obw"
      },
      "outputs": [],
      "source": [
        "batch = tokenizer(\n",
        "    batch_sentences,\n",
        "    batch_of_second_sentences,\n",
        "    is_split_into_words=True,\n",
        "    padding=True,\n",
        "    truncation=True,\n",
        "    return_tensors=\"pt\",\n",
        ")"
      ]
    },
    {
      "cell_type": "code",
      "execution_count": null,
      "metadata": {
        "id": "TViDU2CK-Obw"
      },
      "outputs": [],
      "source": [
        "batch = tokenizer(\n",
        "    batch_sentences,\n",
        "    batch_of_second_sentences,\n",
        "    is_split_into_words=True,\n",
        "    padding=True,\n",
        "    truncation=True,\n",
        "    return_tensors=\"tf\",\n",
        ")"
      ]
    }
  ],
  "metadata": {
    "colab": {
      "name": "2022_0112preprocessing.ipynb",
      "provenance": [],
      "toc_visible": true,
      "include_colab_link": true
    },
    "language_info": {
      "name": "python"
    },
    "kernelspec": {
      "name": "python3",
      "display_name": "Python 3"
    },
    "widgets": {
      "application/vnd.jupyter.widget-state+json": {
        "5273b55033cc4647bd43f7acfc457346": {
          "model_module": "@jupyter-widgets/controls",
          "model_name": "HBoxModel",
          "model_module_version": "1.5.0",
          "state": {
            "_view_name": "HBoxView",
            "_dom_classes": [],
            "_model_name": "HBoxModel",
            "_view_module": "@jupyter-widgets/controls",
            "_model_module_version": "1.5.0",
            "_view_count": null,
            "_view_module_version": "1.5.0",
            "box_style": "",
            "layout": "IPY_MODEL_38c34597e7224297b0bfb23dae120964",
            "_model_module": "@jupyter-widgets/controls",
            "children": [
              "IPY_MODEL_df619e9899eb4de29df89a5950d65079",
              "IPY_MODEL_ff5a36742b5349739519335fcfbe6f8b",
              "IPY_MODEL_3598e99484a54777b6783eed2e160c0e"
            ]
          }
        },
        "38c34597e7224297b0bfb23dae120964": {
          "model_module": "@jupyter-widgets/base",
          "model_name": "LayoutModel",
          "model_module_version": "1.2.0",
          "state": {
            "_view_name": "LayoutView",
            "grid_template_rows": null,
            "right": null,
            "justify_content": null,
            "_view_module": "@jupyter-widgets/base",
            "overflow": null,
            "_model_module_version": "1.2.0",
            "_view_count": null,
            "flex_flow": null,
            "width": null,
            "min_width": null,
            "border": null,
            "align_items": null,
            "bottom": null,
            "_model_module": "@jupyter-widgets/base",
            "top": null,
            "grid_column": null,
            "overflow_y": null,
            "overflow_x": null,
            "grid_auto_flow": null,
            "grid_area": null,
            "grid_template_columns": null,
            "flex": null,
            "_model_name": "LayoutModel",
            "justify_items": null,
            "grid_row": null,
            "max_height": null,
            "align_content": null,
            "visibility": null,
            "align_self": null,
            "height": null,
            "min_height": null,
            "padding": null,
            "grid_auto_rows": null,
            "grid_gap": null,
            "max_width": null,
            "order": null,
            "_view_module_version": "1.2.0",
            "grid_template_areas": null,
            "object_position": null,
            "object_fit": null,
            "grid_auto_columns": null,
            "margin": null,
            "display": null,
            "left": null
          }
        },
        "df619e9899eb4de29df89a5950d65079": {
          "model_module": "@jupyter-widgets/controls",
          "model_name": "HTMLModel",
          "model_module_version": "1.5.0",
          "state": {
            "_view_name": "HTMLView",
            "style": "IPY_MODEL_a15295f00df146538b773fec4356b21b",
            "_dom_classes": [],
            "description": "",
            "_model_name": "HTMLModel",
            "placeholder": "​",
            "_view_module": "@jupyter-widgets/controls",
            "_model_module_version": "1.5.0",
            "value": "Downloading: 100%",
            "_view_count": null,
            "_view_module_version": "1.5.0",
            "description_tooltip": null,
            "_model_module": "@jupyter-widgets/controls",
            "layout": "IPY_MODEL_cc39e8f9acda462d8695a8f1e85505f5"
          }
        },
        "ff5a36742b5349739519335fcfbe6f8b": {
          "model_module": "@jupyter-widgets/controls",
          "model_name": "FloatProgressModel",
          "model_module_version": "1.5.0",
          "state": {
            "_view_name": "ProgressView",
            "style": "IPY_MODEL_a16e1f013b554f52983aee718cabed18",
            "_dom_classes": [],
            "description": "",
            "_model_name": "FloatProgressModel",
            "bar_style": "success",
            "max": 29,
            "_view_module": "@jupyter-widgets/controls",
            "_model_module_version": "1.5.0",
            "value": 29,
            "_view_count": null,
            "_view_module_version": "1.5.0",
            "orientation": "horizontal",
            "min": 0,
            "description_tooltip": null,
            "_model_module": "@jupyter-widgets/controls",
            "layout": "IPY_MODEL_5296d8ae060649fca54b4711d0008239"
          }
        },
        "3598e99484a54777b6783eed2e160c0e": {
          "model_module": "@jupyter-widgets/controls",
          "model_name": "HTMLModel",
          "model_module_version": "1.5.0",
          "state": {
            "_view_name": "HTMLView",
            "style": "IPY_MODEL_63e5024471184fada76907f840f92eb1",
            "_dom_classes": [],
            "description": "",
            "_model_name": "HTMLModel",
            "placeholder": "​",
            "_view_module": "@jupyter-widgets/controls",
            "_model_module_version": "1.5.0",
            "value": " 29.0/29.0 [00:00&lt;00:00, 621B/s]",
            "_view_count": null,
            "_view_module_version": "1.5.0",
            "description_tooltip": null,
            "_model_module": "@jupyter-widgets/controls",
            "layout": "IPY_MODEL_f894866ef8b84e4789e99ebfc451f961"
          }
        },
        "a15295f00df146538b773fec4356b21b": {
          "model_module": "@jupyter-widgets/controls",
          "model_name": "DescriptionStyleModel",
          "model_module_version": "1.5.0",
          "state": {
            "_view_name": "StyleView",
            "_model_name": "DescriptionStyleModel",
            "description_width": "",
            "_view_module": "@jupyter-widgets/base",
            "_model_module_version": "1.5.0",
            "_view_count": null,
            "_view_module_version": "1.2.0",
            "_model_module": "@jupyter-widgets/controls"
          }
        },
        "cc39e8f9acda462d8695a8f1e85505f5": {
          "model_module": "@jupyter-widgets/base",
          "model_name": "LayoutModel",
          "model_module_version": "1.2.0",
          "state": {
            "_view_name": "LayoutView",
            "grid_template_rows": null,
            "right": null,
            "justify_content": null,
            "_view_module": "@jupyter-widgets/base",
            "overflow": null,
            "_model_module_version": "1.2.0",
            "_view_count": null,
            "flex_flow": null,
            "width": null,
            "min_width": null,
            "border": null,
            "align_items": null,
            "bottom": null,
            "_model_module": "@jupyter-widgets/base",
            "top": null,
            "grid_column": null,
            "overflow_y": null,
            "overflow_x": null,
            "grid_auto_flow": null,
            "grid_area": null,
            "grid_template_columns": null,
            "flex": null,
            "_model_name": "LayoutModel",
            "justify_items": null,
            "grid_row": null,
            "max_height": null,
            "align_content": null,
            "visibility": null,
            "align_self": null,
            "height": null,
            "min_height": null,
            "padding": null,
            "grid_auto_rows": null,
            "grid_gap": null,
            "max_width": null,
            "order": null,
            "_view_module_version": "1.2.0",
            "grid_template_areas": null,
            "object_position": null,
            "object_fit": null,
            "grid_auto_columns": null,
            "margin": null,
            "display": null,
            "left": null
          }
        },
        "a16e1f013b554f52983aee718cabed18": {
          "model_module": "@jupyter-widgets/controls",
          "model_name": "ProgressStyleModel",
          "model_module_version": "1.5.0",
          "state": {
            "_view_name": "StyleView",
            "_model_name": "ProgressStyleModel",
            "description_width": "",
            "_view_module": "@jupyter-widgets/base",
            "_model_module_version": "1.5.0",
            "_view_count": null,
            "_view_module_version": "1.2.0",
            "bar_color": null,
            "_model_module": "@jupyter-widgets/controls"
          }
        },
        "5296d8ae060649fca54b4711d0008239": {
          "model_module": "@jupyter-widgets/base",
          "model_name": "LayoutModel",
          "model_module_version": "1.2.0",
          "state": {
            "_view_name": "LayoutView",
            "grid_template_rows": null,
            "right": null,
            "justify_content": null,
            "_view_module": "@jupyter-widgets/base",
            "overflow": null,
            "_model_module_version": "1.2.0",
            "_view_count": null,
            "flex_flow": null,
            "width": null,
            "min_width": null,
            "border": null,
            "align_items": null,
            "bottom": null,
            "_model_module": "@jupyter-widgets/base",
            "top": null,
            "grid_column": null,
            "overflow_y": null,
            "overflow_x": null,
            "grid_auto_flow": null,
            "grid_area": null,
            "grid_template_columns": null,
            "flex": null,
            "_model_name": "LayoutModel",
            "justify_items": null,
            "grid_row": null,
            "max_height": null,
            "align_content": null,
            "visibility": null,
            "align_self": null,
            "height": null,
            "min_height": null,
            "padding": null,
            "grid_auto_rows": null,
            "grid_gap": null,
            "max_width": null,
            "order": null,
            "_view_module_version": "1.2.0",
            "grid_template_areas": null,
            "object_position": null,
            "object_fit": null,
            "grid_auto_columns": null,
            "margin": null,
            "display": null,
            "left": null
          }
        },
        "63e5024471184fada76907f840f92eb1": {
          "model_module": "@jupyter-widgets/controls",
          "model_name": "DescriptionStyleModel",
          "model_module_version": "1.5.0",
          "state": {
            "_view_name": "StyleView",
            "_model_name": "DescriptionStyleModel",
            "description_width": "",
            "_view_module": "@jupyter-widgets/base",
            "_model_module_version": "1.5.0",
            "_view_count": null,
            "_view_module_version": "1.2.0",
            "_model_module": "@jupyter-widgets/controls"
          }
        },
        "f894866ef8b84e4789e99ebfc451f961": {
          "model_module": "@jupyter-widgets/base",
          "model_name": "LayoutModel",
          "model_module_version": "1.2.0",
          "state": {
            "_view_name": "LayoutView",
            "grid_template_rows": null,
            "right": null,
            "justify_content": null,
            "_view_module": "@jupyter-widgets/base",
            "overflow": null,
            "_model_module_version": "1.2.0",
            "_view_count": null,
            "flex_flow": null,
            "width": null,
            "min_width": null,
            "border": null,
            "align_items": null,
            "bottom": null,
            "_model_module": "@jupyter-widgets/base",
            "top": null,
            "grid_column": null,
            "overflow_y": null,
            "overflow_x": null,
            "grid_auto_flow": null,
            "grid_area": null,
            "grid_template_columns": null,
            "flex": null,
            "_model_name": "LayoutModel",
            "justify_items": null,
            "grid_row": null,
            "max_height": null,
            "align_content": null,
            "visibility": null,
            "align_self": null,
            "height": null,
            "min_height": null,
            "padding": null,
            "grid_auto_rows": null,
            "grid_gap": null,
            "max_width": null,
            "order": null,
            "_view_module_version": "1.2.0",
            "grid_template_areas": null,
            "object_position": null,
            "object_fit": null,
            "grid_auto_columns": null,
            "margin": null,
            "display": null,
            "left": null
          }
        },
        "f99ae57b7d4b4a8d8aaeebe976494041": {
          "model_module": "@jupyter-widgets/controls",
          "model_name": "HBoxModel",
          "model_module_version": "1.5.0",
          "state": {
            "_view_name": "HBoxView",
            "_dom_classes": [],
            "_model_name": "HBoxModel",
            "_view_module": "@jupyter-widgets/controls",
            "_model_module_version": "1.5.0",
            "_view_count": null,
            "_view_module_version": "1.5.0",
            "box_style": "",
            "layout": "IPY_MODEL_74bb01e3e06c4d4fa6c872292db3d4a1",
            "_model_module": "@jupyter-widgets/controls",
            "children": [
              "IPY_MODEL_8b94f4e561b4454daafc02cfb7d1f954",
              "IPY_MODEL_ce4f56aff6f546d89e87430ec05f08be",
              "IPY_MODEL_ad0068b0c06b46a1ab54965cae1ee5dc"
            ]
          }
        },
        "74bb01e3e06c4d4fa6c872292db3d4a1": {
          "model_module": "@jupyter-widgets/base",
          "model_name": "LayoutModel",
          "model_module_version": "1.2.0",
          "state": {
            "_view_name": "LayoutView",
            "grid_template_rows": null,
            "right": null,
            "justify_content": null,
            "_view_module": "@jupyter-widgets/base",
            "overflow": null,
            "_model_module_version": "1.2.0",
            "_view_count": null,
            "flex_flow": null,
            "width": null,
            "min_width": null,
            "border": null,
            "align_items": null,
            "bottom": null,
            "_model_module": "@jupyter-widgets/base",
            "top": null,
            "grid_column": null,
            "overflow_y": null,
            "overflow_x": null,
            "grid_auto_flow": null,
            "grid_area": null,
            "grid_template_columns": null,
            "flex": null,
            "_model_name": "LayoutModel",
            "justify_items": null,
            "grid_row": null,
            "max_height": null,
            "align_content": null,
            "visibility": null,
            "align_self": null,
            "height": null,
            "min_height": null,
            "padding": null,
            "grid_auto_rows": null,
            "grid_gap": null,
            "max_width": null,
            "order": null,
            "_view_module_version": "1.2.0",
            "grid_template_areas": null,
            "object_position": null,
            "object_fit": null,
            "grid_auto_columns": null,
            "margin": null,
            "display": null,
            "left": null
          }
        },
        "8b94f4e561b4454daafc02cfb7d1f954": {
          "model_module": "@jupyter-widgets/controls",
          "model_name": "HTMLModel",
          "model_module_version": "1.5.0",
          "state": {
            "_view_name": "HTMLView",
            "style": "IPY_MODEL_63cf047c4108436db9ec08b3aafacb19",
            "_dom_classes": [],
            "description": "",
            "_model_name": "HTMLModel",
            "placeholder": "​",
            "_view_module": "@jupyter-widgets/controls",
            "_model_module_version": "1.5.0",
            "value": "Downloading: 100%",
            "_view_count": null,
            "_view_module_version": "1.5.0",
            "description_tooltip": null,
            "_model_module": "@jupyter-widgets/controls",
            "layout": "IPY_MODEL_5fcc14b3c7d14e6b9ba35cfa926ec745"
          }
        },
        "ce4f56aff6f546d89e87430ec05f08be": {
          "model_module": "@jupyter-widgets/controls",
          "model_name": "FloatProgressModel",
          "model_module_version": "1.5.0",
          "state": {
            "_view_name": "ProgressView",
            "style": "IPY_MODEL_130137e9738842faa9165d5c17a2c5e1",
            "_dom_classes": [],
            "description": "",
            "_model_name": "FloatProgressModel",
            "bar_style": "success",
            "max": 570,
            "_view_module": "@jupyter-widgets/controls",
            "_model_module_version": "1.5.0",
            "value": 570,
            "_view_count": null,
            "_view_module_version": "1.5.0",
            "orientation": "horizontal",
            "min": 0,
            "description_tooltip": null,
            "_model_module": "@jupyter-widgets/controls",
            "layout": "IPY_MODEL_63bdc93476d64ca0ba4b65e0bbb3d5f0"
          }
        },
        "ad0068b0c06b46a1ab54965cae1ee5dc": {
          "model_module": "@jupyter-widgets/controls",
          "model_name": "HTMLModel",
          "model_module_version": "1.5.0",
          "state": {
            "_view_name": "HTMLView",
            "style": "IPY_MODEL_f643c9c3e62a44f0bbeebb7cfa72b60a",
            "_dom_classes": [],
            "description": "",
            "_model_name": "HTMLModel",
            "placeholder": "​",
            "_view_module": "@jupyter-widgets/controls",
            "_model_module_version": "1.5.0",
            "value": " 570/570 [00:00&lt;00:00, 12.9kB/s]",
            "_view_count": null,
            "_view_module_version": "1.5.0",
            "description_tooltip": null,
            "_model_module": "@jupyter-widgets/controls",
            "layout": "IPY_MODEL_d6f23a21c22344848517bc08b2e6dd19"
          }
        },
        "63cf047c4108436db9ec08b3aafacb19": {
          "model_module": "@jupyter-widgets/controls",
          "model_name": "DescriptionStyleModel",
          "model_module_version": "1.5.0",
          "state": {
            "_view_name": "StyleView",
            "_model_name": "DescriptionStyleModel",
            "description_width": "",
            "_view_module": "@jupyter-widgets/base",
            "_model_module_version": "1.5.0",
            "_view_count": null,
            "_view_module_version": "1.2.0",
            "_model_module": "@jupyter-widgets/controls"
          }
        },
        "5fcc14b3c7d14e6b9ba35cfa926ec745": {
          "model_module": "@jupyter-widgets/base",
          "model_name": "LayoutModel",
          "model_module_version": "1.2.0",
          "state": {
            "_view_name": "LayoutView",
            "grid_template_rows": null,
            "right": null,
            "justify_content": null,
            "_view_module": "@jupyter-widgets/base",
            "overflow": null,
            "_model_module_version": "1.2.0",
            "_view_count": null,
            "flex_flow": null,
            "width": null,
            "min_width": null,
            "border": null,
            "align_items": null,
            "bottom": null,
            "_model_module": "@jupyter-widgets/base",
            "top": null,
            "grid_column": null,
            "overflow_y": null,
            "overflow_x": null,
            "grid_auto_flow": null,
            "grid_area": null,
            "grid_template_columns": null,
            "flex": null,
            "_model_name": "LayoutModel",
            "justify_items": null,
            "grid_row": null,
            "max_height": null,
            "align_content": null,
            "visibility": null,
            "align_self": null,
            "height": null,
            "min_height": null,
            "padding": null,
            "grid_auto_rows": null,
            "grid_gap": null,
            "max_width": null,
            "order": null,
            "_view_module_version": "1.2.0",
            "grid_template_areas": null,
            "object_position": null,
            "object_fit": null,
            "grid_auto_columns": null,
            "margin": null,
            "display": null,
            "left": null
          }
        },
        "130137e9738842faa9165d5c17a2c5e1": {
          "model_module": "@jupyter-widgets/controls",
          "model_name": "ProgressStyleModel",
          "model_module_version": "1.5.0",
          "state": {
            "_view_name": "StyleView",
            "_model_name": "ProgressStyleModel",
            "description_width": "",
            "_view_module": "@jupyter-widgets/base",
            "_model_module_version": "1.5.0",
            "_view_count": null,
            "_view_module_version": "1.2.0",
            "bar_color": null,
            "_model_module": "@jupyter-widgets/controls"
          }
        },
        "63bdc93476d64ca0ba4b65e0bbb3d5f0": {
          "model_module": "@jupyter-widgets/base",
          "model_name": "LayoutModel",
          "model_module_version": "1.2.0",
          "state": {
            "_view_name": "LayoutView",
            "grid_template_rows": null,
            "right": null,
            "justify_content": null,
            "_view_module": "@jupyter-widgets/base",
            "overflow": null,
            "_model_module_version": "1.2.0",
            "_view_count": null,
            "flex_flow": null,
            "width": null,
            "min_width": null,
            "border": null,
            "align_items": null,
            "bottom": null,
            "_model_module": "@jupyter-widgets/base",
            "top": null,
            "grid_column": null,
            "overflow_y": null,
            "overflow_x": null,
            "grid_auto_flow": null,
            "grid_area": null,
            "grid_template_columns": null,
            "flex": null,
            "_model_name": "LayoutModel",
            "justify_items": null,
            "grid_row": null,
            "max_height": null,
            "align_content": null,
            "visibility": null,
            "align_self": null,
            "height": null,
            "min_height": null,
            "padding": null,
            "grid_auto_rows": null,
            "grid_gap": null,
            "max_width": null,
            "order": null,
            "_view_module_version": "1.2.0",
            "grid_template_areas": null,
            "object_position": null,
            "object_fit": null,
            "grid_auto_columns": null,
            "margin": null,
            "display": null,
            "left": null
          }
        },
        "f643c9c3e62a44f0bbeebb7cfa72b60a": {
          "model_module": "@jupyter-widgets/controls",
          "model_name": "DescriptionStyleModel",
          "model_module_version": "1.5.0",
          "state": {
            "_view_name": "StyleView",
            "_model_name": "DescriptionStyleModel",
            "description_width": "",
            "_view_module": "@jupyter-widgets/base",
            "_model_module_version": "1.5.0",
            "_view_count": null,
            "_view_module_version": "1.2.0",
            "_model_module": "@jupyter-widgets/controls"
          }
        },
        "d6f23a21c22344848517bc08b2e6dd19": {
          "model_module": "@jupyter-widgets/base",
          "model_name": "LayoutModel",
          "model_module_version": "1.2.0",
          "state": {
            "_view_name": "LayoutView",
            "grid_template_rows": null,
            "right": null,
            "justify_content": null,
            "_view_module": "@jupyter-widgets/base",
            "overflow": null,
            "_model_module_version": "1.2.0",
            "_view_count": null,
            "flex_flow": null,
            "width": null,
            "min_width": null,
            "border": null,
            "align_items": null,
            "bottom": null,
            "_model_module": "@jupyter-widgets/base",
            "top": null,
            "grid_column": null,
            "overflow_y": null,
            "overflow_x": null,
            "grid_auto_flow": null,
            "grid_area": null,
            "grid_template_columns": null,
            "flex": null,
            "_model_name": "LayoutModel",
            "justify_items": null,
            "grid_row": null,
            "max_height": null,
            "align_content": null,
            "visibility": null,
            "align_self": null,
            "height": null,
            "min_height": null,
            "padding": null,
            "grid_auto_rows": null,
            "grid_gap": null,
            "max_width": null,
            "order": null,
            "_view_module_version": "1.2.0",
            "grid_template_areas": null,
            "object_position": null,
            "object_fit": null,
            "grid_auto_columns": null,
            "margin": null,
            "display": null,
            "left": null
          }
        },
        "34b5fba1f7e94e41b6806343c4bd2fb9": {
          "model_module": "@jupyter-widgets/controls",
          "model_name": "HBoxModel",
          "model_module_version": "1.5.0",
          "state": {
            "_view_name": "HBoxView",
            "_dom_classes": [],
            "_model_name": "HBoxModel",
            "_view_module": "@jupyter-widgets/controls",
            "_model_module_version": "1.5.0",
            "_view_count": null,
            "_view_module_version": "1.5.0",
            "box_style": "",
            "layout": "IPY_MODEL_11220618d6de46988988bad4fc2a30c9",
            "_model_module": "@jupyter-widgets/controls",
            "children": [
              "IPY_MODEL_417f7a0e926643cb8b026dc746c0d6b2",
              "IPY_MODEL_7f8306c833844e71bf569cb471a700c7",
              "IPY_MODEL_61f55d5a28da4fad82ee76f91d638a25"
            ]
          }
        },
        "11220618d6de46988988bad4fc2a30c9": {
          "model_module": "@jupyter-widgets/base",
          "model_name": "LayoutModel",
          "model_module_version": "1.2.0",
          "state": {
            "_view_name": "LayoutView",
            "grid_template_rows": null,
            "right": null,
            "justify_content": null,
            "_view_module": "@jupyter-widgets/base",
            "overflow": null,
            "_model_module_version": "1.2.0",
            "_view_count": null,
            "flex_flow": null,
            "width": null,
            "min_width": null,
            "border": null,
            "align_items": null,
            "bottom": null,
            "_model_module": "@jupyter-widgets/base",
            "top": null,
            "grid_column": null,
            "overflow_y": null,
            "overflow_x": null,
            "grid_auto_flow": null,
            "grid_area": null,
            "grid_template_columns": null,
            "flex": null,
            "_model_name": "LayoutModel",
            "justify_items": null,
            "grid_row": null,
            "max_height": null,
            "align_content": null,
            "visibility": null,
            "align_self": null,
            "height": null,
            "min_height": null,
            "padding": null,
            "grid_auto_rows": null,
            "grid_gap": null,
            "max_width": null,
            "order": null,
            "_view_module_version": "1.2.0",
            "grid_template_areas": null,
            "object_position": null,
            "object_fit": null,
            "grid_auto_columns": null,
            "margin": null,
            "display": null,
            "left": null
          }
        },
        "417f7a0e926643cb8b026dc746c0d6b2": {
          "model_module": "@jupyter-widgets/controls",
          "model_name": "HTMLModel",
          "model_module_version": "1.5.0",
          "state": {
            "_view_name": "HTMLView",
            "style": "IPY_MODEL_a34f564836b041e59b72e140e8e87d3b",
            "_dom_classes": [],
            "description": "",
            "_model_name": "HTMLModel",
            "placeholder": "​",
            "_view_module": "@jupyter-widgets/controls",
            "_model_module_version": "1.5.0",
            "value": "Downloading: 100%",
            "_view_count": null,
            "_view_module_version": "1.5.0",
            "description_tooltip": null,
            "_model_module": "@jupyter-widgets/controls",
            "layout": "IPY_MODEL_674a77d088e24f2ab3bd678c605d34f1"
          }
        },
        "7f8306c833844e71bf569cb471a700c7": {
          "model_module": "@jupyter-widgets/controls",
          "model_name": "FloatProgressModel",
          "model_module_version": "1.5.0",
          "state": {
            "_view_name": "ProgressView",
            "style": "IPY_MODEL_6ae05eba995c46a189901e13d1d9f728",
            "_dom_classes": [],
            "description": "",
            "_model_name": "FloatProgressModel",
            "bar_style": "success",
            "max": 213450,
            "_view_module": "@jupyter-widgets/controls",
            "_model_module_version": "1.5.0",
            "value": 213450,
            "_view_count": null,
            "_view_module_version": "1.5.0",
            "orientation": "horizontal",
            "min": 0,
            "description_tooltip": null,
            "_model_module": "@jupyter-widgets/controls",
            "layout": "IPY_MODEL_def78e4bb01445e7b9d2d9ae1f7d8199"
          }
        },
        "61f55d5a28da4fad82ee76f91d638a25": {
          "model_module": "@jupyter-widgets/controls",
          "model_name": "HTMLModel",
          "model_module_version": "1.5.0",
          "state": {
            "_view_name": "HTMLView",
            "style": "IPY_MODEL_8fc35e59a64f451abe017c2d1d72664b",
            "_dom_classes": [],
            "description": "",
            "_model_name": "HTMLModel",
            "placeholder": "​",
            "_view_module": "@jupyter-widgets/controls",
            "_model_module_version": "1.5.0",
            "value": " 208k/208k [00:00&lt;00:00, 2.79MB/s]",
            "_view_count": null,
            "_view_module_version": "1.5.0",
            "description_tooltip": null,
            "_model_module": "@jupyter-widgets/controls",
            "layout": "IPY_MODEL_d12f996c6b5a4606868e66473401432d"
          }
        },
        "a34f564836b041e59b72e140e8e87d3b": {
          "model_module": "@jupyter-widgets/controls",
          "model_name": "DescriptionStyleModel",
          "model_module_version": "1.5.0",
          "state": {
            "_view_name": "StyleView",
            "_model_name": "DescriptionStyleModel",
            "description_width": "",
            "_view_module": "@jupyter-widgets/base",
            "_model_module_version": "1.5.0",
            "_view_count": null,
            "_view_module_version": "1.2.0",
            "_model_module": "@jupyter-widgets/controls"
          }
        },
        "674a77d088e24f2ab3bd678c605d34f1": {
          "model_module": "@jupyter-widgets/base",
          "model_name": "LayoutModel",
          "model_module_version": "1.2.0",
          "state": {
            "_view_name": "LayoutView",
            "grid_template_rows": null,
            "right": null,
            "justify_content": null,
            "_view_module": "@jupyter-widgets/base",
            "overflow": null,
            "_model_module_version": "1.2.0",
            "_view_count": null,
            "flex_flow": null,
            "width": null,
            "min_width": null,
            "border": null,
            "align_items": null,
            "bottom": null,
            "_model_module": "@jupyter-widgets/base",
            "top": null,
            "grid_column": null,
            "overflow_y": null,
            "overflow_x": null,
            "grid_auto_flow": null,
            "grid_area": null,
            "grid_template_columns": null,
            "flex": null,
            "_model_name": "LayoutModel",
            "justify_items": null,
            "grid_row": null,
            "max_height": null,
            "align_content": null,
            "visibility": null,
            "align_self": null,
            "height": null,
            "min_height": null,
            "padding": null,
            "grid_auto_rows": null,
            "grid_gap": null,
            "max_width": null,
            "order": null,
            "_view_module_version": "1.2.0",
            "grid_template_areas": null,
            "object_position": null,
            "object_fit": null,
            "grid_auto_columns": null,
            "margin": null,
            "display": null,
            "left": null
          }
        },
        "6ae05eba995c46a189901e13d1d9f728": {
          "model_module": "@jupyter-widgets/controls",
          "model_name": "ProgressStyleModel",
          "model_module_version": "1.5.0",
          "state": {
            "_view_name": "StyleView",
            "_model_name": "ProgressStyleModel",
            "description_width": "",
            "_view_module": "@jupyter-widgets/base",
            "_model_module_version": "1.5.0",
            "_view_count": null,
            "_view_module_version": "1.2.0",
            "bar_color": null,
            "_model_module": "@jupyter-widgets/controls"
          }
        },
        "def78e4bb01445e7b9d2d9ae1f7d8199": {
          "model_module": "@jupyter-widgets/base",
          "model_name": "LayoutModel",
          "model_module_version": "1.2.0",
          "state": {
            "_view_name": "LayoutView",
            "grid_template_rows": null,
            "right": null,
            "justify_content": null,
            "_view_module": "@jupyter-widgets/base",
            "overflow": null,
            "_model_module_version": "1.2.0",
            "_view_count": null,
            "flex_flow": null,
            "width": null,
            "min_width": null,
            "border": null,
            "align_items": null,
            "bottom": null,
            "_model_module": "@jupyter-widgets/base",
            "top": null,
            "grid_column": null,
            "overflow_y": null,
            "overflow_x": null,
            "grid_auto_flow": null,
            "grid_area": null,
            "grid_template_columns": null,
            "flex": null,
            "_model_name": "LayoutModel",
            "justify_items": null,
            "grid_row": null,
            "max_height": null,
            "align_content": null,
            "visibility": null,
            "align_self": null,
            "height": null,
            "min_height": null,
            "padding": null,
            "grid_auto_rows": null,
            "grid_gap": null,
            "max_width": null,
            "order": null,
            "_view_module_version": "1.2.0",
            "grid_template_areas": null,
            "object_position": null,
            "object_fit": null,
            "grid_auto_columns": null,
            "margin": null,
            "display": null,
            "left": null
          }
        },
        "8fc35e59a64f451abe017c2d1d72664b": {
          "model_module": "@jupyter-widgets/controls",
          "model_name": "DescriptionStyleModel",
          "model_module_version": "1.5.0",
          "state": {
            "_view_name": "StyleView",
            "_model_name": "DescriptionStyleModel",
            "description_width": "",
            "_view_module": "@jupyter-widgets/base",
            "_model_module_version": "1.5.0",
            "_view_count": null,
            "_view_module_version": "1.2.0",
            "_model_module": "@jupyter-widgets/controls"
          }
        },
        "d12f996c6b5a4606868e66473401432d": {
          "model_module": "@jupyter-widgets/base",
          "model_name": "LayoutModel",
          "model_module_version": "1.2.0",
          "state": {
            "_view_name": "LayoutView",
            "grid_template_rows": null,
            "right": null,
            "justify_content": null,
            "_view_module": "@jupyter-widgets/base",
            "overflow": null,
            "_model_module_version": "1.2.0",
            "_view_count": null,
            "flex_flow": null,
            "width": null,
            "min_width": null,
            "border": null,
            "align_items": null,
            "bottom": null,
            "_model_module": "@jupyter-widgets/base",
            "top": null,
            "grid_column": null,
            "overflow_y": null,
            "overflow_x": null,
            "grid_auto_flow": null,
            "grid_area": null,
            "grid_template_columns": null,
            "flex": null,
            "_model_name": "LayoutModel",
            "justify_items": null,
            "grid_row": null,
            "max_height": null,
            "align_content": null,
            "visibility": null,
            "align_self": null,
            "height": null,
            "min_height": null,
            "padding": null,
            "grid_auto_rows": null,
            "grid_gap": null,
            "max_width": null,
            "order": null,
            "_view_module_version": "1.2.0",
            "grid_template_areas": null,
            "object_position": null,
            "object_fit": null,
            "grid_auto_columns": null,
            "margin": null,
            "display": null,
            "left": null
          }
        },
        "4eb4281218fb464890dce7ba38bf34f3": {
          "model_module": "@jupyter-widgets/controls",
          "model_name": "HBoxModel",
          "model_module_version": "1.5.0",
          "state": {
            "_view_name": "HBoxView",
            "_dom_classes": [],
            "_model_name": "HBoxModel",
            "_view_module": "@jupyter-widgets/controls",
            "_model_module_version": "1.5.0",
            "_view_count": null,
            "_view_module_version": "1.5.0",
            "box_style": "",
            "layout": "IPY_MODEL_dafde886db614cb69b78b0f9f6cb7da6",
            "_model_module": "@jupyter-widgets/controls",
            "children": [
              "IPY_MODEL_0ea39d05da374b1a88c1007e979497ce",
              "IPY_MODEL_e99384b5490045fdb569f66ae225fdbe",
              "IPY_MODEL_8d8da3af109345af876ff4b6d9be4a98"
            ]
          }
        },
        "dafde886db614cb69b78b0f9f6cb7da6": {
          "model_module": "@jupyter-widgets/base",
          "model_name": "LayoutModel",
          "model_module_version": "1.2.0",
          "state": {
            "_view_name": "LayoutView",
            "grid_template_rows": null,
            "right": null,
            "justify_content": null,
            "_view_module": "@jupyter-widgets/base",
            "overflow": null,
            "_model_module_version": "1.2.0",
            "_view_count": null,
            "flex_flow": null,
            "width": null,
            "min_width": null,
            "border": null,
            "align_items": null,
            "bottom": null,
            "_model_module": "@jupyter-widgets/base",
            "top": null,
            "grid_column": null,
            "overflow_y": null,
            "overflow_x": null,
            "grid_auto_flow": null,
            "grid_area": null,
            "grid_template_columns": null,
            "flex": null,
            "_model_name": "LayoutModel",
            "justify_items": null,
            "grid_row": null,
            "max_height": null,
            "align_content": null,
            "visibility": null,
            "align_self": null,
            "height": null,
            "min_height": null,
            "padding": null,
            "grid_auto_rows": null,
            "grid_gap": null,
            "max_width": null,
            "order": null,
            "_view_module_version": "1.2.0",
            "grid_template_areas": null,
            "object_position": null,
            "object_fit": null,
            "grid_auto_columns": null,
            "margin": null,
            "display": null,
            "left": null
          }
        },
        "0ea39d05da374b1a88c1007e979497ce": {
          "model_module": "@jupyter-widgets/controls",
          "model_name": "HTMLModel",
          "model_module_version": "1.5.0",
          "state": {
            "_view_name": "HTMLView",
            "style": "IPY_MODEL_78824404d4444046b5ccf910577b25a9",
            "_dom_classes": [],
            "description": "",
            "_model_name": "HTMLModel",
            "placeholder": "​",
            "_view_module": "@jupyter-widgets/controls",
            "_model_module_version": "1.5.0",
            "value": "Downloading: 100%",
            "_view_count": null,
            "_view_module_version": "1.5.0",
            "description_tooltip": null,
            "_model_module": "@jupyter-widgets/controls",
            "layout": "IPY_MODEL_912f866d3b3747ea922d5c50bf1d49aa"
          }
        },
        "e99384b5490045fdb569f66ae225fdbe": {
          "model_module": "@jupyter-widgets/controls",
          "model_name": "FloatProgressModel",
          "model_module_version": "1.5.0",
          "state": {
            "_view_name": "ProgressView",
            "style": "IPY_MODEL_56b37c5271214e8e9889c6c606aab4f3",
            "_dom_classes": [],
            "description": "",
            "_model_name": "FloatProgressModel",
            "bar_style": "success",
            "max": 435797,
            "_view_module": "@jupyter-widgets/controls",
            "_model_module_version": "1.5.0",
            "value": 435797,
            "_view_count": null,
            "_view_module_version": "1.5.0",
            "orientation": "horizontal",
            "min": 0,
            "description_tooltip": null,
            "_model_module": "@jupyter-widgets/controls",
            "layout": "IPY_MODEL_b4ebb130c8744426833139e7552a0694"
          }
        },
        "8d8da3af109345af876ff4b6d9be4a98": {
          "model_module": "@jupyter-widgets/controls",
          "model_name": "HTMLModel",
          "model_module_version": "1.5.0",
          "state": {
            "_view_name": "HTMLView",
            "style": "IPY_MODEL_2b1cf0ff3ace45758d59c3c114a1c412",
            "_dom_classes": [],
            "description": "",
            "_model_name": "HTMLModel",
            "placeholder": "​",
            "_view_module": "@jupyter-widgets/controls",
            "_model_module_version": "1.5.0",
            "value": " 426k/426k [00:00&lt;00:00, 5.63MB/s]",
            "_view_count": null,
            "_view_module_version": "1.5.0",
            "description_tooltip": null,
            "_model_module": "@jupyter-widgets/controls",
            "layout": "IPY_MODEL_0c73b5c9ca254068a1d41b79eb3dd7e8"
          }
        },
        "78824404d4444046b5ccf910577b25a9": {
          "model_module": "@jupyter-widgets/controls",
          "model_name": "DescriptionStyleModel",
          "model_module_version": "1.5.0",
          "state": {
            "_view_name": "StyleView",
            "_model_name": "DescriptionStyleModel",
            "description_width": "",
            "_view_module": "@jupyter-widgets/base",
            "_model_module_version": "1.5.0",
            "_view_count": null,
            "_view_module_version": "1.2.0",
            "_model_module": "@jupyter-widgets/controls"
          }
        },
        "912f866d3b3747ea922d5c50bf1d49aa": {
          "model_module": "@jupyter-widgets/base",
          "model_name": "LayoutModel",
          "model_module_version": "1.2.0",
          "state": {
            "_view_name": "LayoutView",
            "grid_template_rows": null,
            "right": null,
            "justify_content": null,
            "_view_module": "@jupyter-widgets/base",
            "overflow": null,
            "_model_module_version": "1.2.0",
            "_view_count": null,
            "flex_flow": null,
            "width": null,
            "min_width": null,
            "border": null,
            "align_items": null,
            "bottom": null,
            "_model_module": "@jupyter-widgets/base",
            "top": null,
            "grid_column": null,
            "overflow_y": null,
            "overflow_x": null,
            "grid_auto_flow": null,
            "grid_area": null,
            "grid_template_columns": null,
            "flex": null,
            "_model_name": "LayoutModel",
            "justify_items": null,
            "grid_row": null,
            "max_height": null,
            "align_content": null,
            "visibility": null,
            "align_self": null,
            "height": null,
            "min_height": null,
            "padding": null,
            "grid_auto_rows": null,
            "grid_gap": null,
            "max_width": null,
            "order": null,
            "_view_module_version": "1.2.0",
            "grid_template_areas": null,
            "object_position": null,
            "object_fit": null,
            "grid_auto_columns": null,
            "margin": null,
            "display": null,
            "left": null
          }
        },
        "56b37c5271214e8e9889c6c606aab4f3": {
          "model_module": "@jupyter-widgets/controls",
          "model_name": "ProgressStyleModel",
          "model_module_version": "1.5.0",
          "state": {
            "_view_name": "StyleView",
            "_model_name": "ProgressStyleModel",
            "description_width": "",
            "_view_module": "@jupyter-widgets/base",
            "_model_module_version": "1.5.0",
            "_view_count": null,
            "_view_module_version": "1.2.0",
            "bar_color": null,
            "_model_module": "@jupyter-widgets/controls"
          }
        },
        "b4ebb130c8744426833139e7552a0694": {
          "model_module": "@jupyter-widgets/base",
          "model_name": "LayoutModel",
          "model_module_version": "1.2.0",
          "state": {
            "_view_name": "LayoutView",
            "grid_template_rows": null,
            "right": null,
            "justify_content": null,
            "_view_module": "@jupyter-widgets/base",
            "overflow": null,
            "_model_module_version": "1.2.0",
            "_view_count": null,
            "flex_flow": null,
            "width": null,
            "min_width": null,
            "border": null,
            "align_items": null,
            "bottom": null,
            "_model_module": "@jupyter-widgets/base",
            "top": null,
            "grid_column": null,
            "overflow_y": null,
            "overflow_x": null,
            "grid_auto_flow": null,
            "grid_area": null,
            "grid_template_columns": null,
            "flex": null,
            "_model_name": "LayoutModel",
            "justify_items": null,
            "grid_row": null,
            "max_height": null,
            "align_content": null,
            "visibility": null,
            "align_self": null,
            "height": null,
            "min_height": null,
            "padding": null,
            "grid_auto_rows": null,
            "grid_gap": null,
            "max_width": null,
            "order": null,
            "_view_module_version": "1.2.0",
            "grid_template_areas": null,
            "object_position": null,
            "object_fit": null,
            "grid_auto_columns": null,
            "margin": null,
            "display": null,
            "left": null
          }
        },
        "2b1cf0ff3ace45758d59c3c114a1c412": {
          "model_module": "@jupyter-widgets/controls",
          "model_name": "DescriptionStyleModel",
          "model_module_version": "1.5.0",
          "state": {
            "_view_name": "StyleView",
            "_model_name": "DescriptionStyleModel",
            "description_width": "",
            "_view_module": "@jupyter-widgets/base",
            "_model_module_version": "1.5.0",
            "_view_count": null,
            "_view_module_version": "1.2.0",
            "_model_module": "@jupyter-widgets/controls"
          }
        },
        "0c73b5c9ca254068a1d41b79eb3dd7e8": {
          "model_module": "@jupyter-widgets/base",
          "model_name": "LayoutModel",
          "model_module_version": "1.2.0",
          "state": {
            "_view_name": "LayoutView",
            "grid_template_rows": null,
            "right": null,
            "justify_content": null,
            "_view_module": "@jupyter-widgets/base",
            "overflow": null,
            "_model_module_version": "1.2.0",
            "_view_count": null,
            "flex_flow": null,
            "width": null,
            "min_width": null,
            "border": null,
            "align_items": null,
            "bottom": null,
            "_model_module": "@jupyter-widgets/base",
            "top": null,
            "grid_column": null,
            "overflow_y": null,
            "overflow_x": null,
            "grid_auto_flow": null,
            "grid_area": null,
            "grid_template_columns": null,
            "flex": null,
            "_model_name": "LayoutModel",
            "justify_items": null,
            "grid_row": null,
            "max_height": null,
            "align_content": null,
            "visibility": null,
            "align_self": null,
            "height": null,
            "min_height": null,
            "padding": null,
            "grid_auto_rows": null,
            "grid_gap": null,
            "max_width": null,
            "order": null,
            "_view_module_version": "1.2.0",
            "grid_template_areas": null,
            "object_position": null,
            "object_fit": null,
            "grid_auto_columns": null,
            "margin": null,
            "display": null,
            "left": null
          }
        },
        "d3ea6c96abe44668905c308f1107f6e5": {
          "model_module": "@jupyter-widgets/controls",
          "model_name": "HBoxModel",
          "model_module_version": "1.5.0",
          "state": {
            "_view_name": "HBoxView",
            "_dom_classes": [],
            "_model_name": "HBoxModel",
            "_view_module": "@jupyter-widgets/controls",
            "_model_module_version": "1.5.0",
            "_view_count": null,
            "_view_module_version": "1.5.0",
            "box_style": "",
            "layout": "IPY_MODEL_acd3a2fc65e34c4aaf078c21e7171505",
            "_model_module": "@jupyter-widgets/controls",
            "children": [
              "IPY_MODEL_43aa152f54994843a95023dd01c4d23c",
              "IPY_MODEL_361fc68f4b9c4ce1bf2ef5e99d7b47aa",
              "IPY_MODEL_9f10fccb8df644a0b3e2e4a636f16a28"
            ]
          }
        },
        "acd3a2fc65e34c4aaf078c21e7171505": {
          "model_module": "@jupyter-widgets/base",
          "model_name": "LayoutModel",
          "model_module_version": "1.2.0",
          "state": {
            "_view_name": "LayoutView",
            "grid_template_rows": null,
            "right": null,
            "justify_content": null,
            "_view_module": "@jupyter-widgets/base",
            "overflow": null,
            "_model_module_version": "1.2.0",
            "_view_count": null,
            "flex_flow": null,
            "width": null,
            "min_width": null,
            "border": null,
            "align_items": null,
            "bottom": null,
            "_model_module": "@jupyter-widgets/base",
            "top": null,
            "grid_column": null,
            "overflow_y": null,
            "overflow_x": null,
            "grid_auto_flow": null,
            "grid_area": null,
            "grid_template_columns": null,
            "flex": null,
            "_model_name": "LayoutModel",
            "justify_items": null,
            "grid_row": null,
            "max_height": null,
            "align_content": null,
            "visibility": null,
            "align_self": null,
            "height": null,
            "min_height": null,
            "padding": null,
            "grid_auto_rows": null,
            "grid_gap": null,
            "max_width": null,
            "order": null,
            "_view_module_version": "1.2.0",
            "grid_template_areas": null,
            "object_position": null,
            "object_fit": null,
            "grid_auto_columns": null,
            "margin": null,
            "display": null,
            "left": null
          }
        },
        "43aa152f54994843a95023dd01c4d23c": {
          "model_module": "@jupyter-widgets/controls",
          "model_name": "HTMLModel",
          "model_module_version": "1.5.0",
          "state": {
            "_view_name": "HTMLView",
            "style": "IPY_MODEL_7f57c8cc470b4d4994737c20fbbb47de",
            "_dom_classes": [],
            "description": "",
            "_model_name": "HTMLModel",
            "placeholder": "​",
            "_view_module": "@jupyter-widgets/controls",
            "_model_module_version": "1.5.0",
            "value": "Downloading: 100%",
            "_view_count": null,
            "_view_module_version": "1.5.0",
            "description_tooltip": null,
            "_model_module": "@jupyter-widgets/controls",
            "layout": "IPY_MODEL_5eafe2de7c904131a88442deeb6aae61"
          }
        },
        "361fc68f4b9c4ce1bf2ef5e99d7b47aa": {
          "model_module": "@jupyter-widgets/controls",
          "model_name": "FloatProgressModel",
          "model_module_version": "1.5.0",
          "state": {
            "_view_name": "ProgressView",
            "style": "IPY_MODEL_ec12ccc05e7445bbb75312b9b813ebb3",
            "_dom_classes": [],
            "description": "",
            "_model_name": "FloatProgressModel",
            "bar_style": "success",
            "max": 104,
            "_view_module": "@jupyter-widgets/controls",
            "_model_module_version": "1.5.0",
            "value": 104,
            "_view_count": null,
            "_view_module_version": "1.5.0",
            "orientation": "horizontal",
            "min": 0,
            "description_tooltip": null,
            "_model_module": "@jupyter-widgets/controls",
            "layout": "IPY_MODEL_3459b05c56024b5cb62b92ee61de7a0f"
          }
        },
        "9f10fccb8df644a0b3e2e4a636f16a28": {
          "model_module": "@jupyter-widgets/controls",
          "model_name": "HTMLModel",
          "model_module_version": "1.5.0",
          "state": {
            "_view_name": "HTMLView",
            "style": "IPY_MODEL_77e72aaa28d74661ba2398734bd62b86",
            "_dom_classes": [],
            "description": "",
            "_model_name": "HTMLModel",
            "placeholder": "​",
            "_view_module": "@jupyter-widgets/controls",
            "_model_module_version": "1.5.0",
            "value": " 104/104 [00:00&lt;00:00, 1.62kB/s]",
            "_view_count": null,
            "_view_module_version": "1.5.0",
            "description_tooltip": null,
            "_model_module": "@jupyter-widgets/controls",
            "layout": "IPY_MODEL_6d0df03468f342d8a3612c148ee8ec0e"
          }
        },
        "7f57c8cc470b4d4994737c20fbbb47de": {
          "model_module": "@jupyter-widgets/controls",
          "model_name": "DescriptionStyleModel",
          "model_module_version": "1.5.0",
          "state": {
            "_view_name": "StyleView",
            "_model_name": "DescriptionStyleModel",
            "description_width": "",
            "_view_module": "@jupyter-widgets/base",
            "_model_module_version": "1.5.0",
            "_view_count": null,
            "_view_module_version": "1.2.0",
            "_model_module": "@jupyter-widgets/controls"
          }
        },
        "5eafe2de7c904131a88442deeb6aae61": {
          "model_module": "@jupyter-widgets/base",
          "model_name": "LayoutModel",
          "model_module_version": "1.2.0",
          "state": {
            "_view_name": "LayoutView",
            "grid_template_rows": null,
            "right": null,
            "justify_content": null,
            "_view_module": "@jupyter-widgets/base",
            "overflow": null,
            "_model_module_version": "1.2.0",
            "_view_count": null,
            "flex_flow": null,
            "width": null,
            "min_width": null,
            "border": null,
            "align_items": null,
            "bottom": null,
            "_model_module": "@jupyter-widgets/base",
            "top": null,
            "grid_column": null,
            "overflow_y": null,
            "overflow_x": null,
            "grid_auto_flow": null,
            "grid_area": null,
            "grid_template_columns": null,
            "flex": null,
            "_model_name": "LayoutModel",
            "justify_items": null,
            "grid_row": null,
            "max_height": null,
            "align_content": null,
            "visibility": null,
            "align_self": null,
            "height": null,
            "min_height": null,
            "padding": null,
            "grid_auto_rows": null,
            "grid_gap": null,
            "max_width": null,
            "order": null,
            "_view_module_version": "1.2.0",
            "grid_template_areas": null,
            "object_position": null,
            "object_fit": null,
            "grid_auto_columns": null,
            "margin": null,
            "display": null,
            "left": null
          }
        },
        "ec12ccc05e7445bbb75312b9b813ebb3": {
          "model_module": "@jupyter-widgets/controls",
          "model_name": "ProgressStyleModel",
          "model_module_version": "1.5.0",
          "state": {
            "_view_name": "StyleView",
            "_model_name": "ProgressStyleModel",
            "description_width": "",
            "_view_module": "@jupyter-widgets/base",
            "_model_module_version": "1.5.0",
            "_view_count": null,
            "_view_module_version": "1.2.0",
            "bar_color": null,
            "_model_module": "@jupyter-widgets/controls"
          }
        },
        "3459b05c56024b5cb62b92ee61de7a0f": {
          "model_module": "@jupyter-widgets/base",
          "model_name": "LayoutModel",
          "model_module_version": "1.2.0",
          "state": {
            "_view_name": "LayoutView",
            "grid_template_rows": null,
            "right": null,
            "justify_content": null,
            "_view_module": "@jupyter-widgets/base",
            "overflow": null,
            "_model_module_version": "1.2.0",
            "_view_count": null,
            "flex_flow": null,
            "width": null,
            "min_width": null,
            "border": null,
            "align_items": null,
            "bottom": null,
            "_model_module": "@jupyter-widgets/base",
            "top": null,
            "grid_column": null,
            "overflow_y": null,
            "overflow_x": null,
            "grid_auto_flow": null,
            "grid_area": null,
            "grid_template_columns": null,
            "flex": null,
            "_model_name": "LayoutModel",
            "justify_items": null,
            "grid_row": null,
            "max_height": null,
            "align_content": null,
            "visibility": null,
            "align_self": null,
            "height": null,
            "min_height": null,
            "padding": null,
            "grid_auto_rows": null,
            "grid_gap": null,
            "max_width": null,
            "order": null,
            "_view_module_version": "1.2.0",
            "grid_template_areas": null,
            "object_position": null,
            "object_fit": null,
            "grid_auto_columns": null,
            "margin": null,
            "display": null,
            "left": null
          }
        },
        "77e72aaa28d74661ba2398734bd62b86": {
          "model_module": "@jupyter-widgets/controls",
          "model_name": "DescriptionStyleModel",
          "model_module_version": "1.5.0",
          "state": {
            "_view_name": "StyleView",
            "_model_name": "DescriptionStyleModel",
            "description_width": "",
            "_view_module": "@jupyter-widgets/base",
            "_model_module_version": "1.5.0",
            "_view_count": null,
            "_view_module_version": "1.2.0",
            "_model_module": "@jupyter-widgets/controls"
          }
        },
        "6d0df03468f342d8a3612c148ee8ec0e": {
          "model_module": "@jupyter-widgets/base",
          "model_name": "LayoutModel",
          "model_module_version": "1.2.0",
          "state": {
            "_view_name": "LayoutView",
            "grid_template_rows": null,
            "right": null,
            "justify_content": null,
            "_view_module": "@jupyter-widgets/base",
            "overflow": null,
            "_model_module_version": "1.2.0",
            "_view_count": null,
            "flex_flow": null,
            "width": null,
            "min_width": null,
            "border": null,
            "align_items": null,
            "bottom": null,
            "_model_module": "@jupyter-widgets/base",
            "top": null,
            "grid_column": null,
            "overflow_y": null,
            "overflow_x": null,
            "grid_auto_flow": null,
            "grid_area": null,
            "grid_template_columns": null,
            "flex": null,
            "_model_name": "LayoutModel",
            "justify_items": null,
            "grid_row": null,
            "max_height": null,
            "align_content": null,
            "visibility": null,
            "align_self": null,
            "height": null,
            "min_height": null,
            "padding": null,
            "grid_auto_rows": null,
            "grid_gap": null,
            "max_width": null,
            "order": null,
            "_view_module_version": "1.2.0",
            "grid_template_areas": null,
            "object_position": null,
            "object_fit": null,
            "grid_auto_columns": null,
            "margin": null,
            "display": null,
            "left": null
          }
        },
        "7d16a52a6f234dc58e6df6164976b761": {
          "model_module": "@jupyter-widgets/controls",
          "model_name": "HBoxModel",
          "model_module_version": "1.5.0",
          "state": {
            "_view_name": "HBoxView",
            "_dom_classes": [],
            "_model_name": "HBoxModel",
            "_view_module": "@jupyter-widgets/controls",
            "_model_module_version": "1.5.0",
            "_view_count": null,
            "_view_module_version": "1.5.0",
            "box_style": "",
            "layout": "IPY_MODEL_fca50f0f112b49ad8a22b92163fef3bd",
            "_model_module": "@jupyter-widgets/controls",
            "children": [
              "IPY_MODEL_be97ca7ffae743e0b773720f9d847daf",
              "IPY_MODEL_62ac969cc31242f8b79df3f0895014d5",
              "IPY_MODEL_1ce4ce1f86c143938585942c291464d0"
            ]
          }
        },
        "fca50f0f112b49ad8a22b92163fef3bd": {
          "model_module": "@jupyter-widgets/base",
          "model_name": "LayoutModel",
          "model_module_version": "1.2.0",
          "state": {
            "_view_name": "LayoutView",
            "grid_template_rows": null,
            "right": null,
            "justify_content": null,
            "_view_module": "@jupyter-widgets/base",
            "overflow": null,
            "_model_module_version": "1.2.0",
            "_view_count": null,
            "flex_flow": null,
            "width": null,
            "min_width": null,
            "border": null,
            "align_items": null,
            "bottom": null,
            "_model_module": "@jupyter-widgets/base",
            "top": null,
            "grid_column": null,
            "overflow_y": null,
            "overflow_x": null,
            "grid_auto_flow": null,
            "grid_area": null,
            "grid_template_columns": null,
            "flex": null,
            "_model_name": "LayoutModel",
            "justify_items": null,
            "grid_row": null,
            "max_height": null,
            "align_content": null,
            "visibility": null,
            "align_self": null,
            "height": null,
            "min_height": null,
            "padding": null,
            "grid_auto_rows": null,
            "grid_gap": null,
            "max_width": null,
            "order": null,
            "_view_module_version": "1.2.0",
            "grid_template_areas": null,
            "object_position": null,
            "object_fit": null,
            "grid_auto_columns": null,
            "margin": null,
            "display": null,
            "left": null
          }
        },
        "be97ca7ffae743e0b773720f9d847daf": {
          "model_module": "@jupyter-widgets/controls",
          "model_name": "HTMLModel",
          "model_module_version": "1.5.0",
          "state": {
            "_view_name": "HTMLView",
            "style": "IPY_MODEL_e2a631d0d67b4732b2770512ac1ebe14",
            "_dom_classes": [],
            "description": "",
            "_model_name": "HTMLModel",
            "placeholder": "​",
            "_view_module": "@jupyter-widgets/controls",
            "_model_module_version": "1.5.0",
            "value": "Downloading: 100%",
            "_view_count": null,
            "_view_module_version": "1.5.0",
            "description_tooltip": null,
            "_model_module": "@jupyter-widgets/controls",
            "layout": "IPY_MODEL_0d751d94c82040acbec2fea62924c9b3"
          }
        },
        "62ac969cc31242f8b79df3f0895014d5": {
          "model_module": "@jupyter-widgets/controls",
          "model_name": "FloatProgressModel",
          "model_module_version": "1.5.0",
          "state": {
            "_view_name": "ProgressView",
            "style": "IPY_MODEL_2b1b129d83d24094b8b118ff5bf4bc0b",
            "_dom_classes": [],
            "description": "",
            "_model_name": "FloatProgressModel",
            "bar_style": "success",
            "max": 479,
            "_view_module": "@jupyter-widgets/controls",
            "_model_module_version": "1.5.0",
            "value": 479,
            "_view_count": null,
            "_view_module_version": "1.5.0",
            "orientation": "horizontal",
            "min": 0,
            "description_tooltip": null,
            "_model_module": "@jupyter-widgets/controls",
            "layout": "IPY_MODEL_2e0c02290dfc4d98bd4631038af6439d"
          }
        },
        "1ce4ce1f86c143938585942c291464d0": {
          "model_module": "@jupyter-widgets/controls",
          "model_name": "HTMLModel",
          "model_module_version": "1.5.0",
          "state": {
            "_view_name": "HTMLView",
            "style": "IPY_MODEL_ed7e99815fa9462d8782afd49301de34",
            "_dom_classes": [],
            "description": "",
            "_model_name": "HTMLModel",
            "placeholder": "​",
            "_view_module": "@jupyter-widgets/controls",
            "_model_module_version": "1.5.0",
            "value": " 479/479 [00:00&lt;00:00, 11.1kB/s]",
            "_view_count": null,
            "_view_module_version": "1.5.0",
            "description_tooltip": null,
            "_model_module": "@jupyter-widgets/controls",
            "layout": "IPY_MODEL_eaddc786302740e1a4a4fb54f5324dcd"
          }
        },
        "e2a631d0d67b4732b2770512ac1ebe14": {
          "model_module": "@jupyter-widgets/controls",
          "model_name": "DescriptionStyleModel",
          "model_module_version": "1.5.0",
          "state": {
            "_view_name": "StyleView",
            "_model_name": "DescriptionStyleModel",
            "description_width": "",
            "_view_module": "@jupyter-widgets/base",
            "_model_module_version": "1.5.0",
            "_view_count": null,
            "_view_module_version": "1.2.0",
            "_model_module": "@jupyter-widgets/controls"
          }
        },
        "0d751d94c82040acbec2fea62924c9b3": {
          "model_module": "@jupyter-widgets/base",
          "model_name": "LayoutModel",
          "model_module_version": "1.2.0",
          "state": {
            "_view_name": "LayoutView",
            "grid_template_rows": null,
            "right": null,
            "justify_content": null,
            "_view_module": "@jupyter-widgets/base",
            "overflow": null,
            "_model_module_version": "1.2.0",
            "_view_count": null,
            "flex_flow": null,
            "width": null,
            "min_width": null,
            "border": null,
            "align_items": null,
            "bottom": null,
            "_model_module": "@jupyter-widgets/base",
            "top": null,
            "grid_column": null,
            "overflow_y": null,
            "overflow_x": null,
            "grid_auto_flow": null,
            "grid_area": null,
            "grid_template_columns": null,
            "flex": null,
            "_model_name": "LayoutModel",
            "justify_items": null,
            "grid_row": null,
            "max_height": null,
            "align_content": null,
            "visibility": null,
            "align_self": null,
            "height": null,
            "min_height": null,
            "padding": null,
            "grid_auto_rows": null,
            "grid_gap": null,
            "max_width": null,
            "order": null,
            "_view_module_version": "1.2.0",
            "grid_template_areas": null,
            "object_position": null,
            "object_fit": null,
            "grid_auto_columns": null,
            "margin": null,
            "display": null,
            "left": null
          }
        },
        "2b1b129d83d24094b8b118ff5bf4bc0b": {
          "model_module": "@jupyter-widgets/controls",
          "model_name": "ProgressStyleModel",
          "model_module_version": "1.5.0",
          "state": {
            "_view_name": "StyleView",
            "_model_name": "ProgressStyleModel",
            "description_width": "",
            "_view_module": "@jupyter-widgets/base",
            "_model_module_version": "1.5.0",
            "_view_count": null,
            "_view_module_version": "1.2.0",
            "bar_color": null,
            "_model_module": "@jupyter-widgets/controls"
          }
        },
        "2e0c02290dfc4d98bd4631038af6439d": {
          "model_module": "@jupyter-widgets/base",
          "model_name": "LayoutModel",
          "model_module_version": "1.2.0",
          "state": {
            "_view_name": "LayoutView",
            "grid_template_rows": null,
            "right": null,
            "justify_content": null,
            "_view_module": "@jupyter-widgets/base",
            "overflow": null,
            "_model_module_version": "1.2.0",
            "_view_count": null,
            "flex_flow": null,
            "width": null,
            "min_width": null,
            "border": null,
            "align_items": null,
            "bottom": null,
            "_model_module": "@jupyter-widgets/base",
            "top": null,
            "grid_column": null,
            "overflow_y": null,
            "overflow_x": null,
            "grid_auto_flow": null,
            "grid_area": null,
            "grid_template_columns": null,
            "flex": null,
            "_model_name": "LayoutModel",
            "justify_items": null,
            "grid_row": null,
            "max_height": null,
            "align_content": null,
            "visibility": null,
            "align_self": null,
            "height": null,
            "min_height": null,
            "padding": null,
            "grid_auto_rows": null,
            "grid_gap": null,
            "max_width": null,
            "order": null,
            "_view_module_version": "1.2.0",
            "grid_template_areas": null,
            "object_position": null,
            "object_fit": null,
            "grid_auto_columns": null,
            "margin": null,
            "display": null,
            "left": null
          }
        },
        "ed7e99815fa9462d8782afd49301de34": {
          "model_module": "@jupyter-widgets/controls",
          "model_name": "DescriptionStyleModel",
          "model_module_version": "1.5.0",
          "state": {
            "_view_name": "StyleView",
            "_model_name": "DescriptionStyleModel",
            "description_width": "",
            "_view_module": "@jupyter-widgets/base",
            "_model_module_version": "1.5.0",
            "_view_count": null,
            "_view_module_version": "1.2.0",
            "_model_module": "@jupyter-widgets/controls"
          }
        },
        "eaddc786302740e1a4a4fb54f5324dcd": {
          "model_module": "@jupyter-widgets/base",
          "model_name": "LayoutModel",
          "model_module_version": "1.2.0",
          "state": {
            "_view_name": "LayoutView",
            "grid_template_rows": null,
            "right": null,
            "justify_content": null,
            "_view_module": "@jupyter-widgets/base",
            "overflow": null,
            "_model_module_version": "1.2.0",
            "_view_count": null,
            "flex_flow": null,
            "width": null,
            "min_width": null,
            "border": null,
            "align_items": null,
            "bottom": null,
            "_model_module": "@jupyter-widgets/base",
            "top": null,
            "grid_column": null,
            "overflow_y": null,
            "overflow_x": null,
            "grid_auto_flow": null,
            "grid_area": null,
            "grid_template_columns": null,
            "flex": null,
            "_model_name": "LayoutModel",
            "justify_items": null,
            "grid_row": null,
            "max_height": null,
            "align_content": null,
            "visibility": null,
            "align_self": null,
            "height": null,
            "min_height": null,
            "padding": null,
            "grid_auto_rows": null,
            "grid_gap": null,
            "max_width": null,
            "order": null,
            "_view_module_version": "1.2.0",
            "grid_template_areas": null,
            "object_position": null,
            "object_fit": null,
            "grid_auto_columns": null,
            "margin": null,
            "display": null,
            "left": null
          }
        },
        "ae9f008db2e44c8ab420a6cc9e595e73": {
          "model_module": "@jupyter-widgets/controls",
          "model_name": "HBoxModel",
          "model_module_version": "1.5.0",
          "state": {
            "_view_name": "HBoxView",
            "_dom_classes": [],
            "_model_name": "HBoxModel",
            "_view_module": "@jupyter-widgets/controls",
            "_model_module_version": "1.5.0",
            "_view_count": null,
            "_view_module_version": "1.5.0",
            "box_style": "",
            "layout": "IPY_MODEL_ab80ffdc85c340668873dde9381eca07",
            "_model_module": "@jupyter-widgets/controls",
            "children": [
              "IPY_MODEL_3c337a032dd24dfeb2e92631c76b3a11",
              "IPY_MODEL_55b2a8e4f59f4ec58703e82d57ad88a3",
              "IPY_MODEL_479413eb5a46458d9ccaaf844516c464"
            ]
          }
        },
        "ab80ffdc85c340668873dde9381eca07": {
          "model_module": "@jupyter-widgets/base",
          "model_name": "LayoutModel",
          "model_module_version": "1.2.0",
          "state": {
            "_view_name": "LayoutView",
            "grid_template_rows": null,
            "right": null,
            "justify_content": null,
            "_view_module": "@jupyter-widgets/base",
            "overflow": null,
            "_model_module_version": "1.2.0",
            "_view_count": null,
            "flex_flow": null,
            "width": null,
            "min_width": null,
            "border": null,
            "align_items": null,
            "bottom": null,
            "_model_module": "@jupyter-widgets/base",
            "top": null,
            "grid_column": null,
            "overflow_y": null,
            "overflow_x": null,
            "grid_auto_flow": null,
            "grid_area": null,
            "grid_template_columns": null,
            "flex": null,
            "_model_name": "LayoutModel",
            "justify_items": null,
            "grid_row": null,
            "max_height": null,
            "align_content": null,
            "visibility": null,
            "align_self": null,
            "height": null,
            "min_height": null,
            "padding": null,
            "grid_auto_rows": null,
            "grid_gap": null,
            "max_width": null,
            "order": null,
            "_view_module_version": "1.2.0",
            "grid_template_areas": null,
            "object_position": null,
            "object_fit": null,
            "grid_auto_columns": null,
            "margin": null,
            "display": null,
            "left": null
          }
        },
        "3c337a032dd24dfeb2e92631c76b3a11": {
          "model_module": "@jupyter-widgets/controls",
          "model_name": "HTMLModel",
          "model_module_version": "1.5.0",
          "state": {
            "_view_name": "HTMLView",
            "style": "IPY_MODEL_429d93fe301a4a358069e5f5c39f6b44",
            "_dom_classes": [],
            "description": "",
            "_model_name": "HTMLModel",
            "placeholder": "​",
            "_view_module": "@jupyter-widgets/controls",
            "_model_module_version": "1.5.0",
            "value": "Downloading: 100%",
            "_view_count": null,
            "_view_module_version": "1.5.0",
            "description_tooltip": null,
            "_model_module": "@jupyter-widgets/controls",
            "layout": "IPY_MODEL_c6b33622d4cd4eb58b27972cb64d66f9"
          }
        },
        "55b2a8e4f59f4ec58703e82d57ad88a3": {
          "model_module": "@jupyter-widgets/controls",
          "model_name": "FloatProgressModel",
          "model_module_version": "1.5.0",
          "state": {
            "_view_name": "ProgressView",
            "style": "IPY_MODEL_cc4f44294947419cbac4c739d6e24cf6",
            "_dom_classes": [],
            "description": "",
            "_model_name": "FloatProgressModel",
            "bar_style": "success",
            "max": 257706,
            "_view_module": "@jupyter-widgets/controls",
            "_model_module_version": "1.5.0",
            "value": 257706,
            "_view_count": null,
            "_view_module_version": "1.5.0",
            "orientation": "horizontal",
            "min": 0,
            "description_tooltip": null,
            "_model_module": "@jupyter-widgets/controls",
            "layout": "IPY_MODEL_79446d216156494aaa89490b76f025e0"
          }
        },
        "479413eb5a46458d9ccaaf844516c464": {
          "model_module": "@jupyter-widgets/controls",
          "model_name": "HTMLModel",
          "model_module_version": "1.5.0",
          "state": {
            "_view_name": "HTMLView",
            "style": "IPY_MODEL_f238f42e0fe440e389759acd1b640862",
            "_dom_classes": [],
            "description": "",
            "_model_name": "HTMLModel",
            "placeholder": "​",
            "_view_module": "@jupyter-widgets/controls",
            "_model_module_version": "1.5.0",
            "value": " 252k/252k [00:00&lt;00:00, 4.19MB/s]",
            "_view_count": null,
            "_view_module_version": "1.5.0",
            "description_tooltip": null,
            "_model_module": "@jupyter-widgets/controls",
            "layout": "IPY_MODEL_6fabf07be8a04d63998ad2003684b53a"
          }
        },
        "429d93fe301a4a358069e5f5c39f6b44": {
          "model_module": "@jupyter-widgets/controls",
          "model_name": "DescriptionStyleModel",
          "model_module_version": "1.5.0",
          "state": {
            "_view_name": "StyleView",
            "_model_name": "DescriptionStyleModel",
            "description_width": "",
            "_view_module": "@jupyter-widgets/base",
            "_model_module_version": "1.5.0",
            "_view_count": null,
            "_view_module_version": "1.2.0",
            "_model_module": "@jupyter-widgets/controls"
          }
        },
        "c6b33622d4cd4eb58b27972cb64d66f9": {
          "model_module": "@jupyter-widgets/base",
          "model_name": "LayoutModel",
          "model_module_version": "1.2.0",
          "state": {
            "_view_name": "LayoutView",
            "grid_template_rows": null,
            "right": null,
            "justify_content": null,
            "_view_module": "@jupyter-widgets/base",
            "overflow": null,
            "_model_module_version": "1.2.0",
            "_view_count": null,
            "flex_flow": null,
            "width": null,
            "min_width": null,
            "border": null,
            "align_items": null,
            "bottom": null,
            "_model_module": "@jupyter-widgets/base",
            "top": null,
            "grid_column": null,
            "overflow_y": null,
            "overflow_x": null,
            "grid_auto_flow": null,
            "grid_area": null,
            "grid_template_columns": null,
            "flex": null,
            "_model_name": "LayoutModel",
            "justify_items": null,
            "grid_row": null,
            "max_height": null,
            "align_content": null,
            "visibility": null,
            "align_self": null,
            "height": null,
            "min_height": null,
            "padding": null,
            "grid_auto_rows": null,
            "grid_gap": null,
            "max_width": null,
            "order": null,
            "_view_module_version": "1.2.0",
            "grid_template_areas": null,
            "object_position": null,
            "object_fit": null,
            "grid_auto_columns": null,
            "margin": null,
            "display": null,
            "left": null
          }
        },
        "cc4f44294947419cbac4c739d6e24cf6": {
          "model_module": "@jupyter-widgets/controls",
          "model_name": "ProgressStyleModel",
          "model_module_version": "1.5.0",
          "state": {
            "_view_name": "StyleView",
            "_model_name": "ProgressStyleModel",
            "description_width": "",
            "_view_module": "@jupyter-widgets/base",
            "_model_module_version": "1.5.0",
            "_view_count": null,
            "_view_module_version": "1.2.0",
            "bar_color": null,
            "_model_module": "@jupyter-widgets/controls"
          }
        },
        "79446d216156494aaa89490b76f025e0": {
          "model_module": "@jupyter-widgets/base",
          "model_name": "LayoutModel",
          "model_module_version": "1.2.0",
          "state": {
            "_view_name": "LayoutView",
            "grid_template_rows": null,
            "right": null,
            "justify_content": null,
            "_view_module": "@jupyter-widgets/base",
            "overflow": null,
            "_model_module_version": "1.2.0",
            "_view_count": null,
            "flex_flow": null,
            "width": null,
            "min_width": null,
            "border": null,
            "align_items": null,
            "bottom": null,
            "_model_module": "@jupyter-widgets/base",
            "top": null,
            "grid_column": null,
            "overflow_y": null,
            "overflow_x": null,
            "grid_auto_flow": null,
            "grid_area": null,
            "grid_template_columns": null,
            "flex": null,
            "_model_name": "LayoutModel",
            "justify_items": null,
            "grid_row": null,
            "max_height": null,
            "align_content": null,
            "visibility": null,
            "align_self": null,
            "height": null,
            "min_height": null,
            "padding": null,
            "grid_auto_rows": null,
            "grid_gap": null,
            "max_width": null,
            "order": null,
            "_view_module_version": "1.2.0",
            "grid_template_areas": null,
            "object_position": null,
            "object_fit": null,
            "grid_auto_columns": null,
            "margin": null,
            "display": null,
            "left": null
          }
        },
        "f238f42e0fe440e389759acd1b640862": {
          "model_module": "@jupyter-widgets/controls",
          "model_name": "DescriptionStyleModel",
          "model_module_version": "1.5.0",
          "state": {
            "_view_name": "StyleView",
            "_model_name": "DescriptionStyleModel",
            "description_width": "",
            "_view_module": "@jupyter-widgets/base",
            "_model_module_version": "1.5.0",
            "_view_count": null,
            "_view_module_version": "1.2.0",
            "_model_module": "@jupyter-widgets/controls"
          }
        },
        "6fabf07be8a04d63998ad2003684b53a": {
          "model_module": "@jupyter-widgets/base",
          "model_name": "LayoutModel",
          "model_module_version": "1.2.0",
          "state": {
            "_view_name": "LayoutView",
            "grid_template_rows": null,
            "right": null,
            "justify_content": null,
            "_view_module": "@jupyter-widgets/base",
            "overflow": null,
            "_model_module_version": "1.2.0",
            "_view_count": null,
            "flex_flow": null,
            "width": null,
            "min_width": null,
            "border": null,
            "align_items": null,
            "bottom": null,
            "_model_module": "@jupyter-widgets/base",
            "top": null,
            "grid_column": null,
            "overflow_y": null,
            "overflow_x": null,
            "grid_auto_flow": null,
            "grid_area": null,
            "grid_template_columns": null,
            "flex": null,
            "_model_name": "LayoutModel",
            "justify_items": null,
            "grid_row": null,
            "max_height": null,
            "align_content": null,
            "visibility": null,
            "align_self": null,
            "height": null,
            "min_height": null,
            "padding": null,
            "grid_auto_rows": null,
            "grid_gap": null,
            "max_width": null,
            "order": null,
            "_view_module_version": "1.2.0",
            "grid_template_areas": null,
            "object_position": null,
            "object_fit": null,
            "grid_auto_columns": null,
            "margin": null,
            "display": null,
            "left": null
          }
        }
      }
    }
  },
  "nbformat": 4,
  "nbformat_minor": 0
}