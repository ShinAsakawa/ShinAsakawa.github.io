{
  "cells": [
    {
      "cell_type": "markdown",
      "metadata": {
        "id": "view-in-github",
        "colab_type": "text"
      },
      "source": [
        "<a href=\"https://colab.research.google.com/github/ShinAsakawa/ShinAsakawa.github.io/blob/master/2022notebooks/2022_0112preprocessing.ipynb\" target=\"_parent\"><img src=\"https://colab.research.google.com/assets/colab-badge.svg\" alt=\"Open In Colab\"/></a>"
      ]
    },
    {
      "cell_type": "markdown",
      "source": [
        "- date: 2022_0112\n",
        "- source url: https://colab.research.google.com/github/huggingface/notebooks/blob/master/transformers_doc/preprocessing.ipynb\n",
        "- filename: 2022_0112preprocessing.ipynb\n"
      ],
      "metadata": {
        "id": "Wo9e9TmY-hfd"
      }
    },
    {
      "cell_type": "code",
      "execution_count": null,
      "metadata": {
        "id": "DM09-KeT-Obh"
      },
      "outputs": [],
      "source": [
        "import platform\n",
        "isColab = platform.system() == 'Linux'\n",
        "\n",
        "if isColab:\n",
        "    # Transformers installation\n",
        "    !pip install transformers datasets > /dev/null 2>&1\n",
        "    # To install from source instead of the last release, comment the command above and uncomment the following one.\n",
        "    #!pip install git+https://github.com/huggingface/transformers.git"
      ]
    },
    {
      "cell_type": "code",
      "source": [
        "if isColab:\n",
        "    # MeCab, fugashi, ipadic のインストール\n",
        "    !apt install aptitude swig > /dev/null 2>&1\n",
        "    !aptitude install mecab libmecab-dev mecab-ipadic-utf8 git make curl xz-utils file -y > /dev/null 2>&1\n",
        "    !pip install mecab-python3 > /dev/null 2>&1\n",
        "    !git clone --depth 1 https://github.com/neologd/mecab-ipadic-neologd.git > /dev/null 2>&1\n",
        "    !echo yes | mecab-ipadic-neologd/bin/install-mecab-ipadic-neologd -n -a > /dev/null 2>&1\n",
        "    \n",
        "    import subprocess\n",
        "    cmd='echo `mecab-config --dicdir`\\\"/mecab-ipadic-neologd\\\"'\n",
        "    path_neologd = (subprocess.Popen(cmd, stdout=subprocess.PIPE,\n",
        "                                     shell=True).communicate()[0]).decode('utf-8')\n",
        "\n",
        "    !pip install 'fugashi[unidic]' > /dev/null 2>&1\n",
        "    !python -m unidic download > /dev/null 2>&1\n",
        "    !pip install ipadic > /dev/null 2>&1    "
      ],
      "metadata": {
        "id": "ZgXwY_bo-bon"
      },
      "execution_count": null,
      "outputs": []
    },
    {
      "cell_type": "markdown",
      "metadata": {
        "id": "Ff4Ow67s-Obj"
      },
      "source": [
        "# データの前処理\n",
        "\n",
        "<!-- # Preprocessing data -->"
      ]
    },
    {
      "cell_type": "markdown",
      "metadata": {
        "id": "uPaS7Tgx-Obk"
      },
      "source": [
        "このチュートリアルでは，Transoformers を使ってデータを前処理する方法を紹介します。\n",
        "このための主なツールは [tokenizer](https://huggingface.co/docs/transformers/master/en/main_classes/tokenizer) と呼ばれるものです。\n",
        "使用したいモデルに関連するトークナイザクラスを使って構築することもできますし， [AutoTokenizer](https://huggingface.co/docs/transformers/master/en/model_doc/auto#transformers.AutoTokenizer) クラスを使って直接構築することもできます。\n",
        "<!-- In this tutorial, we'll explore how to preprocess your data using 🤗 Transformers. \n",
        "The main tool for this is what we call a [tokenizer](https://huggingface.co/docs/transformers/master/en/main_classes/tokenizer). \n",
        "You can build one using the tokenizer class associated to the model you would like to use, or directly with the [AutoTokenizer](https://huggingface.co/docs/transformers/master/en/model_doc/auto#transformers.AutoTokenizer) class. -->\n",
        "\n",
        "クイックツアー](https://huggingface.co/docs/transformers/master/en/quicktour)で見たように，トークン化器はまず，与えられたテキストを，通常は _tokens_ と呼ばれる単語 (または単語の一部，句読点記号など) に分割します。 \n",
        "次に，これら _tokens_ を数値に変換して，それらからテンソルを構築し，モデルに与えることができるようにします。\n",
        "また，モデルが適切に動作するために必要な追加入力を加えます。\n",
        "<!-- As we saw in the [quick tour](https://huggingface.co/docs/transformers/master/en/quicktour), the tokenizer will first split a given text in words (or part of words, punctuation symbols, etc.) usually called _tokens_. \n",
        "Then it will convert those _tokens_ into numbers, to be able to build a tensor out of them and feed them to the model. \n",
        "It will also add any additional inputs the model might expect to work properly. -->\n",
        "\n",
        "<Tip>\n",
        "\n",
        "事前学習済みのモデルを使用する場合は，関連する事前学習済みのトークン化器を使用することが重要です。\n",
        "このトークン化器は，前学習コーパスと同じ方法で，与えられたテキストをトークンに分割し，事前学習時と同じ対応関係のあるトークンを数値に使用します (通常 _vocab_ と呼びます)。\n",
        "<!-- If you plan on using a pretrained model, it's important to use the associated pretrained tokenizer: \n",
        "it will split the text you give it in tokens the same way for the pretraining corpus, and it will use the same correspondence token to index (that we usually call a _vocab_) as during pretraining. -->\n",
        "\n",
        "</Tip>\n",
        "\n",
        "事前訓練やモデルの微調整の際に使用した語彙を自動的にダウンロードするには， [AutoTokenizer.from_pretrained()](https://huggingface.co/docs/transformers/master/en/model_doc/auto#transformers.AutoTokenizer.from_pretrained) メソッドを使用します。\n",
        "<!-- To automatically download the vocab used during pretraining or fine-tuning a given model, you can use the [AutoTokenizer.from_pretrained()](https://huggingface.co/docs/transformers/master/en/model_doc/auto#transformers.AutoTokenizer.from_pretrained) method: -->"
      ]
    },
    {
      "cell_type": "code",
      "execution_count": null,
      "metadata": {
        "id": "F607pXoG-Obl"
      },
      "outputs": [],
      "source": [
        "from transformers import AutoTokenizer\n",
        "\n",
        "tokenizer = AutoTokenizer.from_pretrained(\"bert-base-cased\")\n",
        "\n",
        "\n",
        "model_name_ja = \"cl-tohoku/bert-base-japanese\"  # 東北大学乾研版 BERT\n",
        "tknz = AutoTokenizer.from_pretrained(model_name_ja)\n"
      ]
    },
    {
      "cell_type": "markdown",
      "metadata": {
        "id": "GGz4lEIs-Obl"
      },
      "source": [
        "## 1. 基本的用法\n",
        "<!-- ## Base use -->"
      ]
    },
    {
      "cell_type": "code",
      "execution_count": null,
      "metadata": {
        "cellView": "form",
        "hide_input": true,
        "id": "pIRAMGt2-Obm"
      },
      "outputs": [],
      "source": [
        "#@title\n",
        "from IPython.display import HTML\n",
        "\n",
        "HTML('<iframe width=\"560\" height=\"315\" src=\"https://www.youtube.com/embed/Yffk5aydLzg?rel=0&amp;controls=0&amp;showinfo=0\" frameborder=\"0\" allowfullscreen></iframe>')"
      ]
    },
    {
      "cell_type": "markdown",
      "metadata": {
        "id": "av465p-M-Obm"
      },
      "source": [
        "[PreTrainedTokenizer](https://huggingface.co/docs/transformers/master/en/main_classes/tokenizer#transformers.PreTrainedTokenizer) には多くのメソッドがありますが，前処理のために覚えておく必要があるのは，`__call__`  だけです。\n",
        "<!-- A [PreTrainedTokenizer](https://huggingface.co/docs/transformers/master/en/main_classes/tokenizer#transformers.PreTrainedTokenizer) has many methods, but the only one you need to remember for preprocessing is its `__call__`: you just need to feed your sentence to your tokenizer object. -->"
      ]
    },
    {
      "cell_type": "code",
      "execution_count": null,
      "metadata": {
        "id": "_YObDhRi-Obn",
        "outputId": "9b2bc446-e23d-4a60-9689-91d402eff4aa",
        "colab": {
          "base_uri": "https://localhost:8080/"
        }
      },
      "outputs": [
        {
          "output_type": "stream",
          "name": "stdout",
          "text": [
            "{'input_ids': [101, 8667, 117, 146, 112, 182, 170, 1423, 5650, 106, 102], 'token_type_ids': [0, 0, 0, 0, 0, 0, 0, 0, 0, 0, 0], 'attention_mask': [1, 1, 1, 1, 1, 1, 1, 1, 1, 1, 1]}\n",
            "{'input_ids': [2, 10350, 25746, 28450, 228, 1, 1605, 3236, 1311, 29082, 2992, 3], 'token_type_ids': [0, 0, 0, 0, 0, 0, 0, 0, 0, 0, 0, 0], 'attention_mask': [1, 1, 1, 1, 1, 1, 1, 1, 1, 1, 1, 1]}\n",
            "{'input_ids': [2, 171, 9, 621, 2151, 14610, 6570, 2992, 3], 'token_type_ids': [0, 0, 0, 0, 0, 0, 0, 0, 0], 'attention_mask': [1, 1, 1, 1, 1, 1, 1, 1, 1]}\n"
          ]
        }
      ],
      "source": [
        "encoded_input = tokenizer(\"Hello, I'm a single sentence!\")\n",
        "print(encoded_input)\n",
        "\n",
        "encoded_input_ja1 = tknz(\"こんにちは，竈門炭治郎です\")\n",
        "encoded_input_ja2 = tknz(\"これはニューラルネットワークモデルです\")\n",
        "\n",
        "print(encoded_input_ja1)\n",
        "print(encoded_input_ja2)"
      ]
    },
    {
      "cell_type": "markdown",
      "metadata": {
        "id": "C4ZqCL5V-Obo"
      },
      "source": [
        "これは，辞書文字列を int リストにして返します。 \n",
        "[input_ids](https://huggingface.co/docs/transformers/master/en/glossary#input-ids) は，文の各トークンに対応するインデックスです。\n",
        "[attention_mask](https://huggingface.co/docs/transformers/master/en/glossary#attention-mask) が何に使われるかは後述しますし，[次節](#preprocessing-pairs-of-sentences) では [token_type_ids](https://huggingface.co/docs/transformers/master/en/glossary#token-type-ids) の目的を説明します。\n",
        "<!-- This returns a dictionary string to list of ints. The [input_ids](https://huggingface.co/docs/transformers/master/en/glossary#input-ids) are the indices corresponding to each token in our sentence. \n",
        "We will see below what the [attention_mask](https://huggingface.co/docs/transformers/master/en/glossary#attention-mask) is used for and in [the next section](#preprocessing-pairs-of-sentences) the goal of [token_type_ids](https://huggingface.co/docs/transformers/master/en/glossary#token-type-ids). -->\n",
        "\n",
        "トークン化器は，トークン ID のリストを適切な文に符号化することができます。\n",
        "<!-- The tokenizer can decode a list of token ids in a proper sentence: -->"
      ]
    },
    {
      "cell_type": "code",
      "execution_count": null,
      "metadata": {
        "id": "jkCku6Ln-Obo",
        "outputId": "03147723-8e19-44ac-b475-79d8cd6c8b99",
        "colab": {
          "base_uri": "https://localhost:8080/"
        }
      },
      "outputs": [
        {
          "output_type": "stream",
          "name": "stdout",
          "text": [
            "[CLS] Hello, I'm a single sentence! [SEP]\n",
            "[CLS] こんにちは, [UNK] 門 炭 治郎 です [SEP]\n",
            "[CLS] これ は ニューラルネットワークモデル です [SEP]\n"
          ]
        }
      ],
      "source": [
        "print(tokenizer.decode(encoded_input[\"input_ids\"]))\n",
        "\n",
        "print(tknz.decode(encoded_input_ja1[\"input_ids\"]))\n",
        "print(tknz.decode(encoded_input_ja2[\"input_ids\"]))\n"
      ]
    },
    {
      "cell_type": "markdown",
      "metadata": {
        "id": "BsfxMB5f-Obo"
      },
      "source": [
        "ご覧のとおり，トークン化器はモデルが期待する特別なトークンを自動的に追加しています。\n",
        "すべてのモデルが特別なトークンを必要としているわけではありません。\n",
        "たとえば，トークン化器を作成する際に _bert-base-cased_  の代わりに _gpt2-medium_ を使用していたとしたら，元の文と同じものがここに表示されていたでしょう。\n",
        "`add_special_tokens=False` を渡すことで，この動作を無効にすることができます (自分でこれらの特殊なトークンを追加した場合にのみお勧めします)。\n",
        "<!-- As you can see, the tokenizer automatically added some special tokens that the model expects. Not all models need special tokens; for instance, if we had used _gpt2-medium_ instead of _bert-base-cased_ to create our tokenizer, we would have seen the same sentence as the original one here. \n",
        "You can disable this behavior (which is only advised if you have added those special tokens yourself) by passing `add_special_tokens=False`. -->\n",
        "\n",
        "処理したい文が複数ある場合は，それらをリストとしてトークン化器に送ることで，効率的に処理することができます。\n",
        "<!-- If you have several sentences you want to process, you can do this efficiently by sending them as a list to the tokenizer: -->"
      ]
    },
    {
      "cell_type": "code",
      "execution_count": null,
      "metadata": {
        "id": "_UFoft66-Obp",
        "outputId": "ef02fa78-5833-462e-e659-423fead5ca59",
        "colab": {
          "base_uri": "https://localhost:8080/"
        }
      },
      "outputs": [
        {
          "output_type": "stream",
          "name": "stdout",
          "text": [
            "{'input_ids': [[101, 8667, 146, 112, 182, 170, 1423, 5650, 102], [101, 1262, 1330, 5650, 102], [101, 1262, 1103, 1304, 1304, 1314, 1141, 102]], 'token_type_ids': [[0, 0, 0, 0, 0, 0, 0, 0, 0], [0, 0, 0, 0, 0], [0, 0, 0, 0, 0, 0, 0, 0]], 'attention_mask': [[1, 1, 1, 1, 1, 1, 1, 1, 1], [1, 1, 1, 1, 1], [1, 1, 1, 1, 1, 1, 1, 1]]}\n",
            "{'input_ids': [[101, 1033, 1039, 1004, 100, 916, 885, 1045, 100, 914, 100, 100, 903, 28822, 28801, 1004, 100, 914, 28790, 28794, 28821, 100, 100, 100, 100, 100, 100, 100, 100, 904, 885, 100, 1014, 100, 915, 28801, 28814, 28807, 885, 100, 1004, 100, 912, 28808, 100, 1002, 914, 28818, 28821, 100, 100, 912, 885, 100, 1004, 100, 1006, 100, 100, 100, 915, 28815, 28801, 28819, 28798, 100, 100, 100, 100, 100, 904, 885, 100, 100, 915, 100, 100, 914, 28818, 28803, 28804, 100, 100, 100, 100, 915, 100, 100, 100, 100, 100, 100, 100, 904, 885, 902, 28795, 28807, 100, 100, 100, 1004, 100, 914, 100, 100, 100, 100, 904, 885, 902, 28808, 100, 100, 100, 100, 100, 905, 28821, 886, 102]], 'token_type_ids': [[0, 0, 0, 0, 0, 0, 0, 0, 0, 0, 0, 0, 0, 0, 0, 0, 0, 0, 0, 0, 0, 0, 0, 0, 0, 0, 0, 0, 0, 0, 0, 0, 0, 0, 0, 0, 0, 0, 0, 0, 0, 0, 0, 0, 0, 0, 0, 0, 0, 0, 0, 0, 0, 0, 0, 0, 0, 0, 0, 0, 0, 0, 0, 0, 0, 0, 0, 0, 0, 0, 0, 0, 0, 0, 0, 0, 0, 0, 0, 0, 0, 0, 0, 0, 0, 0, 0, 0, 0, 0, 0, 0, 0, 0, 0, 0, 0, 0, 0, 0, 0, 0, 0, 0, 0, 0, 0, 0, 0, 0, 0, 0, 0, 0, 0, 0, 0, 0, 0, 0, 0]], 'attention_mask': [[1, 1, 1, 1, 1, 1, 1, 1, 1, 1, 1, 1, 1, 1, 1, 1, 1, 1, 1, 1, 1, 1, 1, 1, 1, 1, 1, 1, 1, 1, 1, 1, 1, 1, 1, 1, 1, 1, 1, 1, 1, 1, 1, 1, 1, 1, 1, 1, 1, 1, 1, 1, 1, 1, 1, 1, 1, 1, 1, 1, 1, 1, 1, 1, 1, 1, 1, 1, 1, 1, 1, 1, 1, 1, 1, 1, 1, 1, 1, 1, 1, 1, 1, 1, 1, 1, 1, 1, 1, 1, 1, 1, 1, 1, 1, 1, 1, 1, 1, 1, 1, 1, 1, 1, 1, 1, 1, 1, 1, 1, 1, 1, 1, 1, 1, 1, 1, 1, 1, 1, 1]]}\n"
          ]
        }
      ],
      "source": [
        "batch_sentences = [\"Hello I'm a single sentence\", \"And another sentence\", \"And the very very last one\"]\n",
        "encoded_inputs = tokenizer(batch_sentences)\n",
        "print(encoded_inputs)\n",
        "\n",
        "batch_sentences_ja = [\"日本国民は、正当に選挙された国会における代表者を通じて行動し、われらとわれらの子孫のために、諸国民との協和による成果と、わが国全土にわたつて自由のもたらす恵沢を確保し、政府の行為によつて再び戦争の惨禍が起ることのないやうにすることを決意し、ここに主権が国民に存することを宣言し、この憲法を確定する。\"]\n",
        "encoded_inputs_ja = tokenizer(batch_sentences_ja)\n",
        "print(encoded_inputs_ja)"
      ]
    },
    {
      "cell_type": "markdown",
      "metadata": {
        "id": "8ykio8ax-Obp"
      },
      "source": [
        "再び辞書が返されますが，今回は値が int のリストのリストになっています。\n",
        "<!-- We get back a dictionary once again, this time with values being lists of lists of ints.-->\n",
        "\n",
        "一度にいくつかの文章をトークン化器に送る目的が，モデルに供給するためのバッチを構築することであれば、おそらく次のことが必要になるでしょう。\n",
        "<!-- If the purpose of sending several sentences at a time to the tokenizer is to build a batch to feed the model, you will probably want: -->\n",
        "\n",
        "- 各センテンスをバッチ内の最大の長さにする。\n",
        "- 各文をモデルが受け入れられる最大の長さに切り詰める (該当する場合)。\n",
        "- テンソルを返す。\n",
        "\n",
        "<!-- - To pad each sentence to the maximum length there is in your batch.\n",
        "- To truncate each sentence to the maximum length the model can accept (if applicable).\n",
        "- To return tensors. -->\n",
        "\n",
        "これらのことは，文のリストをトークン化する際に以下のオプションを使用することで実現できます。\n",
        "<!-- You can do all of this by using the following options when feeding your list of sentences to the tokenizer: -->"
      ]
    },
    {
      "cell_type": "code",
      "execution_count": null,
      "metadata": {
        "id": "s_rOqDGK-Obp",
        "outputId": "9c273c7d-2c7f-490e-f7e1-eb2015c038a6",
        "colab": {
          "base_uri": "https://localhost:8080/"
        }
      },
      "outputs": [
        {
          "output_type": "stream",
          "name": "stdout",
          "text": [
            "{'input_ids': tensor([[ 101, 8667,  146,  112,  182,  170, 1423, 5650,  102],\n",
            "        [ 101, 1262, 1330, 5650,  102,    0,    0,    0,    0],\n",
            "        [ 101, 1262, 1103, 1304, 1304, 1314, 1141,  102,    0]]), 'token_type_ids': tensor([[0, 0, 0, 0, 0, 0, 0, 0, 0],\n",
            "        [0, 0, 0, 0, 0, 0, 0, 0, 0],\n",
            "        [0, 0, 0, 0, 0, 0, 0, 0, 0]]), 'attention_mask': tensor([[1, 1, 1, 1, 1, 1, 1, 1, 1],\n",
            "        [1, 1, 1, 1, 1, 0, 0, 0, 0],\n",
            "        [1, 1, 1, 1, 1, 1, 1, 1, 0]])}\n",
            "{'input_ids': tensor([[    2,    91,  1598,     9,     6,  9492,     7,   958,    26,    20,\n",
            "            10,  4158,   587,   542,   104,  3016,  1891,    15,     6, 15296,\n",
            "            60,    13, 15296,    60,     5,  5162,     5,    82,     7,     6,\n",
            "           959,  1598,    13,     5, 28195,   250,  5638,    13,     6, 12344,\n",
            "         28518, 11278,     7,   630, 14618,    16,  1287,     5,  8538,  3331,\n",
            "         29331,    11,  2974,    15,     6,   886,     5,  2382,    56,   181,\n",
            "            16,  1438,   941,     5,  9717, 31318,    14,   473, 28449,    45,\n",
            "             5,    80,    49, 28489,     7,    34,    45,    11,  5990,    15,\n",
            "             6,  1411,     7, 10667,    14,  1598,     7,   425,    30,    45,\n",
            "            11,  3117,    15,     6,    70,  2838,    11,  5074,    34,     8,\n",
            "             3]]), 'token_type_ids': tensor([[0, 0, 0, 0, 0, 0, 0, 0, 0, 0, 0, 0, 0, 0, 0, 0, 0, 0, 0, 0, 0, 0, 0, 0,\n",
            "         0, 0, 0, 0, 0, 0, 0, 0, 0, 0, 0, 0, 0, 0, 0, 0, 0, 0, 0, 0, 0, 0, 0, 0,\n",
            "         0, 0, 0, 0, 0, 0, 0, 0, 0, 0, 0, 0, 0, 0, 0, 0, 0, 0, 0, 0, 0, 0, 0, 0,\n",
            "         0, 0, 0, 0, 0, 0, 0, 0, 0, 0, 0, 0, 0, 0, 0, 0, 0, 0, 0, 0, 0, 0, 0, 0,\n",
            "         0, 0, 0, 0, 0]]), 'attention_mask': tensor([[1, 1, 1, 1, 1, 1, 1, 1, 1, 1, 1, 1, 1, 1, 1, 1, 1, 1, 1, 1, 1, 1, 1, 1,\n",
            "         1, 1, 1, 1, 1, 1, 1, 1, 1, 1, 1, 1, 1, 1, 1, 1, 1, 1, 1, 1, 1, 1, 1, 1,\n",
            "         1, 1, 1, 1, 1, 1, 1, 1, 1, 1, 1, 1, 1, 1, 1, 1, 1, 1, 1, 1, 1, 1, 1, 1,\n",
            "         1, 1, 1, 1, 1, 1, 1, 1, 1, 1, 1, 1, 1, 1, 1, 1, 1, 1, 1, 1, 1, 1, 1, 1,\n",
            "         1, 1, 1, 1, 1]])}\n"
          ]
        }
      ],
      "source": [
        "batch = tokenizer(batch_sentences, padding=True, truncation=True, return_tensors=\"pt\")\n",
        "print(batch)\n",
        "\n",
        "batch_ja = tknz(batch_sentences_ja, padding=True, truncation=True, return_tensors=\"pt\")\n",
        "print(batch_ja)"
      ]
    },
    {
      "cell_type": "code",
      "execution_count": null,
      "metadata": {
        "id": "RggpfMl--Obq"
      },
      "outputs": [],
      "source": [
        "# Tensorflow 版なのでコメントアウトした\n",
        "# batch = tokenizer(batch_sentences, padding=True, truncation=True, return_tensors=\"tf\")\n",
        "# print(batch)"
      ]
    },
    {
      "cell_type": "markdown",
      "metadata": {
        "id": "FjgASBta-Obq"
      },
      "source": [
        "これは，文字列キーとテンソル値を持つ辞書を返します。\n",
        "これで [attention_mask](https://huggingface.co/docs/transformers/master/en/glossary#attention-mask)の意味がわかりました。\n",
        "モデルが注意を払うべきトークンとそうでないトークンを示しています (この場合はパディングを表しているため)。\n",
        "<!-- It returns a dictionary with string keys and tensor values. We can now see what the [attention_mask](https://huggingface.co/docs/transformers/master/en/glossary#attention-mask) is all about: it points out which tokens the model should pay attention to and which ones it should not (because they represent padding in this case). -->\n",
        "\n",
        "なお，モデルに最大長が設定されていない場合は，上記のコマンドは警告を出します。\n",
        "これは無視しても大丈夫です。\n",
        "また `verbose=False` を渡すことで，トークン化器がこの種の警告を出さないようにすることもできます。\n",
        "\n",
        "<a id='sentence-pairs'></a\n",
        "\n",
        "<!-- Note that if your model does not have a maximum length associated to it, the command above will throw a warning. \n",
        "You can safely ignore it. \n",
        "You can also pass `verbose=False` to stop the tokenizer from throwing those kinds of warnings. --> -->\n",
        "\n"
      ]
    },
    {
      "cell_type": "markdown",
      "metadata": {
        "id": "fuyuPMhb-Obq"
      },
      "source": [
        "## 2. 対となる文の準備\n",
        "<!-- ## Preprocessing pairs of sentences -->"
      ]
    },
    {
      "cell_type": "code",
      "execution_count": null,
      "metadata": {
        "cellView": "form",
        "hide_input": true,
        "id": "ei4aWgXX-Obq"
      },
      "outputs": [],
      "source": [
        "#@title\n",
        "from IPython.display import HTML\n",
        "\n",
        "HTML('<iframe width=\"560\" height=\"315\" src=\"https://www.youtube.com/embed/0u3ioSwev3s?rel=0&amp;controls=0&amp;showinfo=0\" frameborder=\"0\" allowfullscreen></iframe>')"
      ]
    },
    {
      "cell_type": "markdown",
      "metadata": {
        "id": "--cSJovH-Obr"
      },
      "source": [
        "文章対をモデルに与える必要がある場合があります。\n",
        "例えば，対になる 2 つの文が類似しているかどうかを分類したい場合や，文脈と質問を受け付ける質問応答モデルの場合などです。\n",
        "BERT モデルの場合，入力は次のように表されます。\n",
        "[CLS] 系列A [SEP] 系列B [SEP]。\n",
        "<!-- Sometimes you need to feed a pair of sentences to your model. \n",
        "For instance, if you want to classify if two sentences in a pair are similar, or for question-answering models, which take a context and a question. \n",
        "For BERT models, the input is then represented like this: `[CLS] Sequence A [SEP] Sequence B [SEP]`-->\n",
        "\n",
        "2 つの文を 2 つの引数として与えることで，モデルが期待する形式で文対を符号化することができます (2 つの文のリストは，前に見たように 2 つの単一文のバッチとして解釈されるので，リストではありません)。\n",
        "これにより，再び dict の文字列から int のリストが返されます。\n",
        "<!-- You can encode a pair of sentences in the format expected by your model by supplying the two sentences as two arguments (not a list since a list of two sentences will be interpreted as a batch of two single sentences, as we saw before).\n",
        "This will once again return a dict string to list of ints: -->"
      ]
    },
    {
      "cell_type": "code",
      "execution_count": null,
      "metadata": {
        "id": "l_YrRERA-Obr",
        "outputId": "8b2ec013-5720-4c8b-f41b-e0aeeff81288",
        "colab": {
          "base_uri": "https://localhost:8080/"
        }
      },
      "outputs": [
        {
          "output_type": "stream",
          "name": "stdout",
          "text": [
            "{'input_ids': [101, 1731, 1385, 1132, 1128, 136, 102, 146, 112, 182, 127, 1201, 1385, 102], 'token_type_ids': [0, 0, 0, 0, 0, 0, 0, 1, 1, 1, 1, 1, 1, 1], 'attention_mask': [1, 1, 1, 1, 1, 1, 1, 1, 1, 1, 1, 1, 1, 1]}\n",
            "{'input_ids': [2, 10350, 25746, 28450, 3, 12253, 9574, 2992, 3], 'token_type_ids': [0, 0, 0, 0, 0, 1, 1, 1, 1], 'attention_mask': [1, 1, 1, 1, 1, 1, 1, 1, 1]}\n"
          ]
        }
      ],
      "source": [
        "encoded_input = tokenizer(\"How old are you?\", \"I'm 6 years old\")\n",
        "print(encoded_input)\n",
        "\n",
        "encoded_input_ja = tknz(\"こんにちは\", \"ぼくドラえもんです\")\n",
        "print(encoded_input_ja)"
      ]
    },
    {
      "cell_type": "markdown",
      "metadata": {
        "id": "pbA2pXnT-Obr"
      },
      "source": [
        "これは [token_type_id](https://huggingface.co/docs/transformers/master/en/glossary#token-type-ids) が何のためにあるのかを示しています。\n",
        "これは，入力のどの部分が第 1 文に対応し，どの部分が第 2 文に対応するのかをモデルに示すものです。\n",
        "なお，_token_type_id_ はすべてのモデルで必要とされたり，扱われたりするわけではありません。\n",
        "デフォルトでは，トークン化器は，関連付けられたモデルが期待する入力のみを返します。\n",
        "`return_input_ids` や `return_token_type_ids` を使えば，それらの特別な引数を強制的に返す (または返さない) ことができます。\n",
        "<!-- This shows us what the [token_type_ids](https://huggingface.co/docs/transformers/master/en/glossary#token-type-ids) are for: they indicate to the model which part of the inputs correspond to the first sentence and which part corresponds to the second sentence. \n",
        "Note that _token_type_ids_ are not required or handled by all models. \n",
        "By default, a tokenizer will only return the inputs that its associated model expects. You can force the return (or the non-return) of any of those special arguments by using `return_input_ids` or `return_token_type_ids`.  -->\n",
        "\n",
        "取得したトークン ID を符号化すると，特殊なトークンが適切に追加されていることがわかります。\n",
        "<!-- If we decode the token ids we obtained, we will see that the special tokens have been properly added. -->"
      ]
    },
    {
      "cell_type": "code",
      "execution_count": null,
      "metadata": {
        "id": "hmISM39x-Obr",
        "outputId": "8606d59d-c8bc-4aaa-8e1d-a46593cc5b8d",
        "colab": {
          "base_uri": "https://localhost:8080/"
        }
      },
      "outputs": [
        {
          "output_type": "stream",
          "name": "stdout",
          "text": [
            "[CLS] How old are you? [SEP] I'm 6 years old [SEP]\n",
            "[CLS] こんにちは [SEP] ぼく ドラえもん です [SEP]\n"
          ]
        }
      ],
      "source": [
        "print(tokenizer.decode(encoded_input[\"input_ids\"]))\n",
        "print(tknz.decode(encoded_input_ja[\"input_ids\"]))"
      ]
    },
    {
      "cell_type": "markdown",
      "metadata": {
        "id": "a1UsoBbT-Obr"
      },
      "source": [
        "処理したい配列の対のリストがある場合，それを 2 つのリストにしてトークン化器に渡す必要があります。\n",
        "第 1 文のリストと第二文のリストです。\n",
        "<!-- If you have a list of pairs of sequences you want to process, you should feed them as two lists to your tokenizer: \n",
        "the list of first sentences and the list of second sentences: -->"
      ]
    },
    {
      "cell_type": "code",
      "execution_count": null,
      "metadata": {
        "id": "kgMnwTB8-Obs",
        "outputId": "d0396773-e494-42ad-f90c-4643b6b99a8c",
        "colab": {
          "base_uri": "https://localhost:8080/"
        }
      },
      "outputs": [
        {
          "output_type": "stream",
          "name": "stdout",
          "text": [
            "{'input_ids': [[101, 8667, 146, 112, 182, 170, 1423, 5650, 102, 146, 112, 182, 170, 5650, 1115, 2947, 1114, 1103, 1148, 5650, 102], [101, 1262, 1330, 5650, 102, 1262, 146, 1431, 1129, 12544, 1114, 1103, 1248, 5650, 102], [101, 1262, 1103, 1304, 1304, 1314, 1141, 102, 1262, 146, 1301, 1114, 1103, 1304, 1314, 1141, 102]], 'token_type_ids': [[0, 0, 0, 0, 0, 0, 0, 0, 0, 1, 1, 1, 1, 1, 1, 1, 1, 1, 1, 1, 1], [0, 0, 0, 0, 0, 1, 1, 1, 1, 1, 1, 1, 1, 1, 1], [0, 0, 0, 0, 0, 0, 0, 0, 1, 1, 1, 1, 1, 1, 1, 1, 1]], 'attention_mask': [[1, 1, 1, 1, 1, 1, 1, 1, 1, 1, 1, 1, 1, 1, 1, 1, 1, 1, 1, 1, 1], [1, 1, 1, 1, 1, 1, 1, 1, 1, 1, 1, 1, 1, 1, 1], [1, 1, 1, 1, 1, 1, 1, 1, 1, 1, 1, 1, 1, 1, 1, 1, 1]]}\n",
            "{'input_ids': [[2, 1409, 9, 20123, 29245, 28444, 8, 3, 918, 5, 7204, 2992, 8, 3], [2, 49, 28489, 28528, 28489, 21845, 297, 7676, 309, 3185, 9, 6, 340, 21797, 22, 20431, 16, 6, 5007, 75, 728, 6424, 3436, 5, 232, 17985, 10, 28462, 28670, 28512, 6424, 3, 893, 287, 2944, 5, 7204, 2992, 8, 3], [2, 1428, 9, 1563, 8, 37, 5, 4305, 9, 553, 297, 8, 49, 28614, 28, 18, 28761, 6, 11663, 5, 378, 787, 3858, 28586, 28458, 29065, 1284, 8, 3, 604, 228, 171, 14, 240, 2944, 5, 7204, 2992, 8, 3]], 'token_type_ids': [[0, 0, 0, 0, 0, 0, 0, 0, 1, 1, 1, 1, 1, 1], [0, 0, 0, 0, 0, 0, 0, 0, 0, 0, 0, 0, 0, 0, 0, 0, 0, 0, 0, 0, 0, 0, 0, 0, 0, 0, 0, 0, 0, 0, 0, 0, 1, 1, 1, 1, 1, 1, 1, 1], [0, 0, 0, 0, 0, 0, 0, 0, 0, 0, 0, 0, 0, 0, 0, 0, 0, 0, 0, 0, 0, 0, 0, 0, 0, 0, 0, 0, 0, 1, 1, 1, 1, 1, 1, 1, 1, 1, 1, 1]], 'attention_mask': [[1, 1, 1, 1, 1, 1, 1, 1, 1, 1, 1, 1, 1, 1], [1, 1, 1, 1, 1, 1, 1, 1, 1, 1, 1, 1, 1, 1, 1, 1, 1, 1, 1, 1, 1, 1, 1, 1, 1, 1, 1, 1, 1, 1, 1, 1, 1, 1, 1, 1, 1, 1, 1, 1], [1, 1, 1, 1, 1, 1, 1, 1, 1, 1, 1, 1, 1, 1, 1, 1, 1, 1, 1, 1, 1, 1, 1, 1, 1, 1, 1, 1, 1, 1, 1, 1, 1, 1, 1, 1, 1, 1, 1, 1]]}\n"
          ]
        }
      ],
      "source": [
        "batch_sentences = [\"Hello I'm a single sentence\", \"And another sentence\", \"And the very very last one\"]\n",
        "batch_of_second_sentences = [\n",
        "    \"I'm a sentence that goes with the first sentence\",\n",
        "    \"And I should be encoded with the second sentence\",\n",
        "    \"And I go with the very last one\",\n",
        "]\n",
        "encoded_inputs = tokenizer(batch_sentences, batch_of_second_sentences)\n",
        "print(encoded_inputs)\n",
        "\n",
        "\n",
        "batch_sentences_ja = [\"春はあけぼの。\",\n",
        "                      \"やうやう白くなりゆく山ぎは、すこしあかりて、紫だちたる 雲のほそくたなびきたる\",\n",
        "                      \"夏は夜。月のころはさらなり。やみもなほ、蛍の多く飛びちがひたる。\"]\n",
        "batch_of_second_sentences_ja = [\n",
        "    \"最初の文章です。\",\n",
        "    \"そして二番目の文章です。\",\n",
        "    \"さらに，これが三番目の文章です。\",\n",
        "]\n",
        "encoded_inputs_ja = tknz(batch_sentences_ja, batch_of_second_sentences_ja)\n",
        "print(encoded_inputs_ja)"
      ]
    },
    {
      "cell_type": "markdown",
      "metadata": {
        "id": "EpRJsz8f-Obs"
      },
      "source": [
        "見ての通り，これは，各値が int のリストのリストである辞書を返します。\n",
        "<!-- As we can see, it returns a dictionary where each value is a list of lists of ints.-->\n",
        "\n",
        "モデルに入力された内容をダブルチェックするために _input_ids_ の各リストを 1 つずつ符号化してみましょう。\n",
        "<!-- To double-check what is fed to the model, we can decode each list in _input_ids_ one by one: -->"
      ]
    },
    {
      "cell_type": "code",
      "execution_count": null,
      "metadata": {
        "id": "01xsaY1a-Obs",
        "outputId": "dc7a5d10-09d0-40c1-df50-68b52deba688",
        "colab": {
          "base_uri": "https://localhost:8080/"
        }
      },
      "outputs": [
        {
          "output_type": "stream",
          "name": "stdout",
          "text": [
            "[CLS] Hello I'm a single sentence [SEP] I'm a sentence that goes with the first sentence [SEP]\n",
            "[CLS] And another sentence [SEP] And I should be encoded with the second sentence [SEP]\n",
            "[CLS] And the very very last one [SEP] And I go with the very last one [SEP]\n",
            "[CLS] 春 は あけぼの 。 [SEP] 最初 の 文章 です 。 [SEP]\n",
            "[CLS] やうやう 白く なり ゆく 山 ぎ は 、 すこし あ かり て 、 紫 だ ち たる 雲 の ほそく たなびき たる [SEP] そして 二 番目 の 文章 です 。 [SEP]\n",
            "[CLS] 夏 は 夜 。 月 の ころ は さら なり 。 やみ も なほ 、 蛍 の 多く 飛 びちがひたる 。 [SEP] さらに, これ が 三 番目 の 文章 です 。 [SEP]\n"
          ]
        }
      ],
      "source": [
        "for ids in encoded_inputs[\"input_ids\"]:\n",
        "    print(tokenizer.decode(ids))\n",
        "\n",
        "for ids in encoded_inputs_ja[\"input_ids\"]:\n",
        "    print(tknz.decode(ids))    "
      ]
    },
    {
      "cell_type": "markdown",
      "metadata": {
        "id": "kVOs26Bs-Obs"
      },
      "source": [
        "繰り返しになりますが，次のようにして，入力をバッチ内の最大文長に自動的にパッドし，モデルが受け入れられる最大長に切り詰め，テンソルを直接返すことができます。\n",
        "<!-- Once again, you can automatically pad your inputs to the maximum sentence length in the batch, truncate to the maximum length the model can accept and return tensors directly with the following: -->"
      ]
    },
    {
      "cell_type": "code",
      "execution_count": null,
      "metadata": {
        "id": "kf0MRBLK-Obs"
      },
      "outputs": [],
      "source": [
        "batch = tokenizer(batch_sentences, batch_of_second_sentences, padding=True, truncation=True, return_tensors=\"pt\")\n",
        "\n",
        "batch_ja = tknz(batch_sentences_ja, batch_of_second_sentences_ja, padding=True, truncation=True, return_tensors=\"pt\")"
      ]
    },
    {
      "cell_type": "code",
      "execution_count": null,
      "metadata": {
        "id": "0QGDS79s-Obs"
      },
      "outputs": [],
      "source": [
        "#TensorFlow 版なので省略\n",
        "#batch = tokenizer(batch_sentences, batch_of_second_sentences, padding=True, truncation=True, return_tensors=\"tf\")"
      ]
    },
    {
      "cell_type": "markdown",
      "metadata": {
        "id": "aIjKf0Y7-Obs"
      },
      "source": [
        "## 3. 埋め込みと切断について知るべきことすべて\n",
        "<!-- ## Everything you always wanted to know about padding and truncation -->"
      ]
    },
    {
      "cell_type": "markdown",
      "metadata": {
        "id": "0fmIipbk-Obt"
      },
      "source": [
        "ほとんどの場合に機能するコマンドを見てきました (バッチを最大文の長さにパッドし，モデルが受け入れられる最大の長さに切り詰める)。\n",
        "しかし，API は必要に応じてより多くの戦略をサポートしています。\n",
        "そのために必要な 3 つの引数は `padding`、`truncation`、`max_length` です。\n",
        "<!-- We have seen the commands that will work for most cases (pad your batch to the length of the maximum sentence and truncate to the maximum length the model can accept). \n",
        "However, the API supports more strategies if you need them. \n",
        "The three arguments you need to know for this are `padding`, `truncation` and `max_length`. -->\n",
        "\n",
        "- padding` は埋め込みをコントロールします。\n",
        "これはブール値か文字列で，次のようになります。\n",
        "<!-- - `padding` controls the padding. It can be a boolean or a string which should be:-->\n",
        "\n",
        "  - `True` または `'longest'` バッチ内の最も長い系列にパディングします  (1つの系列しか提供していない場合はパディングしません)。\n",
        "  - `'max_length'` は `max_length` 引数で指定された長さにパディングします。\n",
        "`max_length` が指定されていない場合は，モデルが受け入れる最大の長さに埋め込みします (`max_length=None`)。\n",
        "  1 つのシ系列のみを指定した場合でも，パディングはその系列に適用されます。\n",
        "  - False` または `'do_not_pad'` を指定すると，系列のパディングを行いません。\n",
        "  これまで見てきたように，これがデフォルトの動作です。\n",
        "\n",
        "<!--\n",
        "  - `True` or `'longest'` to pad to the longest sequence in the batch (doing no padding if you only provide a single sequence).\n",
        "  - `'max_length'` to pad to a length specified by the `max_length` argument or the maximum length accepted by the model if no `max_length` is provided (`max_length=None`). \n",
        "  If you only provide a single sequence, padding will still be applied to it.\n",
        "  - `False` or `'do_not_pad'` to not pad the sequences. \n",
        "  As we have seen before, this is the default behavior. -->\n",
        "\n",
        "- `truncation` controls the truncation. \n",
        "It can be a boolean or a string which should be:\n",
        "\n",
        "  - `True` or `'longest_first'` truncate to a maximum length specified by the `max_length` argument or the maximum length accepted by the model if no `max_length` is provided (`max_length=None`). \n",
        "  This will truncate token by token, removing a token from the longest sequence in the pair until the proper length is reached.\n",
        "  - `'only_second'` truncate to a maximum length specified by the `max_length` argument or the maximum length accepted by the model if no `max_length` is provided (`max_length=None`). \n",
        "  This will only truncate the second sentence of a pair if a pair of sequence (or a batch of pairs of sequences) is provided. \n",
        "  - `'only_first'` truncate to a maximum length specified by the `max_length` argument or the maximum length accepted by the model if no `max_length` is provided (`max_length=None`). \n",
        "  This will only truncate the first sentence of a pair if a pair of sequence (or a batch of pairs of sequences) is provided.\n",
        "  - `False` or `'do_not_truncate'` to not truncate the sequences. As we have seen before, this is the default behavior.\n",
        "\n",
        "- `max_length` to control the length of the padding/truncation. \n",
        "It can be an integer or `None`, in which case it will default to the maximum length the model can accept. \n",
        "If the model has no specific maximum input length, truncation/padding to `max_length` is deactivated.\n",
        "\n",
        "Here is a table summarizing the recommend way to setup padding and truncation. If you use pair of inputs sequence in any of the following examples, you can replace `truncation=True` by a `STRATEGY` selected in\n",
        "`['only_first', 'only_second', 'longest_first']`, i.e. `truncation='only_second'` or `truncation= 'longest_first'` to control how both sequence in the pair are truncated as detailed before.\n",
        "\n",
        "| Truncation                           | Padding                           | Instruction                                                                                 |\n",
        "|--------------------------------------|-----------------------------------|---------------------------------------------------------------------------------------------|\n",
        "| no truncation                        | no padding                        | `tokenizer(batch_sentences)`                                                           |\n",
        "|                                      | padding to max sequence in batch  | `tokenizer(batch_sentences, padding=True)` or                                          |\n",
        "|                                      |                                   | `tokenizer(batch_sentences, padding='longest')`                                        |\n",
        "|                                      | padding to max model input length | `tokenizer(batch_sentences, padding='max_length')`                                     |\n",
        "|                                      | padding to specific length        | `tokenizer(batch_sentences, padding='max_length', max_length=42)`                      |\n",
        "| truncation to max model input length | no padding                        | `tokenizer(batch_sentences, truncation=True)` or                                       |\n",
        "|                                      |                                   | `tokenizer(batch_sentences, truncation=STRATEGY)`                                      |\n",
        "|                                      | padding to max sequence in batch  | `tokenizer(batch_sentences, padding=True, truncation=True)` or                         |\n",
        "|                                      |                                   | `tokenizer(batch_sentences, padding=True, truncation=STRATEGY)`                        |\n",
        "|                                      | padding to max model input length | `tokenizer(batch_sentences, padding='max_length', truncation=True)` or                 |\n",
        "|                                      |                                   | `tokenizer(batch_sentences, padding='max_length', truncation=STRATEGY)`                |\n",
        "|                                      | padding to specific length        | Not possible                                                                                |\n",
        "| truncation to specific length        | no padding                        | `tokenizer(batch_sentences, truncation=True, max_length=42)` or                        |\n",
        "|                                      |                                   | `tokenizer(batch_sentences, truncation=STRATEGY, max_length=42)`                       |\n",
        "|                                      | padding to max sequence in batch  | `tokenizer(batch_sentences, padding=True, truncation=True, max_length=42)` or          |\n",
        "|                                      |                                   | `tokenizer(batch_sentences, padding=True, truncation=STRATEGY, max_length=42)`         |\n",
        "|                                      | padding to max model input length | Not possible                                                                                |\n",
        "|                                      | padding to specific length        | `tokenizer(batch_sentences, padding='max_length', truncation=True, max_length=42)` or  |\n",
        "|                                      |                                   | `tokenizer(batch_sentences, padding='max_length', truncation=STRATEGY, max_length=42)` |"
      ]
    },
    {
      "cell_type": "markdown",
      "metadata": {
        "id": "xsYF9ApF-Obu"
      },
      "source": [
        "## Pre-tokenized inputs"
      ]
    },
    {
      "cell_type": "markdown",
      "metadata": {
        "id": "AhdENuR5-Obv"
      },
      "source": [
        "The tokenizer also accept pre-tokenized inputs. This is particularly useful when you want to compute labels and extract\n",
        "predictions in [named entity recognition (NER)](https://en.wikipedia.org/wiki/Named-entity_recognition) or\n",
        "[part-of-speech tagging (POS tagging)](https://en.wikipedia.org/wiki/Part-of-speech_tagging).\n",
        "\n",
        "<Tip warning={true}>\n",
        "\n",
        "Pre-tokenized does not mean your inputs are already tokenized (you wouldn't need to pass them through the tokenizer\n",
        "if that was the case) but just split into words (which is often the first step in subword tokenization algorithms\n",
        "like BPE).\n",
        "\n",
        "</Tip>\n",
        "\n",
        "If you want to use pre-tokenized inputs, just set `is_split_into_words=True` when passing your inputs to the\n",
        "tokenizer. For instance, we have:"
      ]
    },
    {
      "cell_type": "code",
      "execution_count": null,
      "metadata": {
        "id": "KvFpESgP-Obv",
        "outputId": "4d2aa23a-6043-4aa9-e00a-67eb11b53d8f"
      },
      "outputs": [
        {
          "data": {
            "text/plain": [
              "{'input_ids': [101, 8667, 146, 112, 182, 170, 1423, 5650, 102],\n",
              " 'token_type_ids': [0, 0, 0, 0, 0, 0, 0, 0, 0], \n",
              " 'attention_mask': [1, 1, 1, 1, 1, 1, 1, 1, 1]}"
            ]
          },
          "execution_count": null,
          "metadata": {},
          "output_type": "execute_result"
        }
      ],
      "source": [
        "encoded_input = tokenizer([\"Hello\", \"I'm\", \"a\", \"single\", \"sentence\"], is_split_into_words=True)\n",
        "print(encoded_input)"
      ]
    },
    {
      "cell_type": "markdown",
      "metadata": {
        "id": "t0big9Pg-Obv"
      },
      "source": [
        "Note that the tokenizer still adds the ids of special tokens (if applicable) unless you pass\n",
        "`add_special_tokens=False`.\n",
        "\n",
        "This works exactly as before for batch of sentences or batch of pairs of sentences. You can encode a batch of sentences\n",
        "like this:"
      ]
    },
    {
      "cell_type": "code",
      "execution_count": null,
      "metadata": {
        "id": "3aX3OnJd-Obv"
      },
      "outputs": [],
      "source": [
        "batch_sentences = [\n",
        "    [\"Hello\", \"I'm\", \"a\", \"single\", \"sentence\"],\n",
        "    [\"And\", \"another\", \"sentence\"],\n",
        "    [\"And\", \"the\", \"very\", \"very\", \"last\", \"one\"],\n",
        "]\n",
        "encoded_inputs = tokenizer(batch_sentences, is_split_into_words=True)"
      ]
    },
    {
      "cell_type": "markdown",
      "metadata": {
        "id": "ZknGIXKh-Obv"
      },
      "source": [
        "or a batch of pair sentences like this:"
      ]
    },
    {
      "cell_type": "code",
      "execution_count": null,
      "metadata": {
        "id": "akJ-XWHu-Obw"
      },
      "outputs": [],
      "source": [
        "batch_of_second_sentences = [\n",
        "    [\"I'm\", \"a\", \"sentence\", \"that\", \"goes\", \"with\", \"the\", \"first\", \"sentence\"],\n",
        "    [\"And\", \"I\", \"should\", \"be\", \"encoded\", \"with\", \"the\", \"second\", \"sentence\"],\n",
        "    [\"And\", \"I\", \"go\", \"with\", \"the\", \"very\", \"last\", \"one\"],\n",
        "]\n",
        "encoded_inputs = tokenizer(batch_sentences, batch_of_second_sentences, is_split_into_words=True)"
      ]
    },
    {
      "cell_type": "markdown",
      "metadata": {
        "id": "ISkY-IPh-Obw"
      },
      "source": [
        "And you can add padding, truncation as well as directly return tensors like before:"
      ]
    },
    {
      "cell_type": "code",
      "execution_count": null,
      "metadata": {
        "id": "-AYqx97g-Obw"
      },
      "outputs": [],
      "source": [
        "batch = tokenizer(\n",
        "    batch_sentences,\n",
        "    batch_of_second_sentences,\n",
        "    is_split_into_words=True,\n",
        "    padding=True,\n",
        "    truncation=True,\n",
        "    return_tensors=\"pt\",\n",
        ")"
      ]
    },
    {
      "cell_type": "code",
      "execution_count": null,
      "metadata": {
        "id": "TViDU2CK-Obw"
      },
      "outputs": [],
      "source": [
        "batch = tokenizer(\n",
        "    batch_sentences,\n",
        "    batch_of_second_sentences,\n",
        "    is_split_into_words=True,\n",
        "    padding=True,\n",
        "    truncation=True,\n",
        "    return_tensors=\"tf\",\n",
        ")"
      ]
    }
  ],
  "metadata": {
    "colab": {
      "name": "2022_0112preprocessing.ipynb",
      "provenance": [],
      "toc_visible": true,
      "include_colab_link": true
    },
    "language_info": {
      "name": "python"
    },
    "kernelspec": {
      "name": "python3",
      "display_name": "Python 3"
    }
  },
  "nbformat": 4,
  "nbformat_minor": 0
}