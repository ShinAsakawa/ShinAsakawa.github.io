{
  "cells": [
    {
      "cell_type": "markdown",
      "metadata": {
        "id": "view-in-github",
        "colab_type": "text"
      },
      "source": [
        "<a href=\"https://colab.research.google.com/github/ShinAsakawa/ShinAsakawa.github.io/blob/master/2022notebooks/2022_1007Annotated_Transformer.ipynb\" target=\"_parent\"><img src=\"https://colab.research.google.com/assets/colab-badge.svg\" alt=\"Open In Colab\"/></a>"
      ]
    },
    {
      "cell_type": "markdown",
      "id": "f72fdb7d-e8a8-4840-9a05-0e01a0ab8075",
      "metadata": {
        "id": "f72fdb7d-e8a8-4840-9a05-0e01a0ab8075"
      },
      "source": [
        "# トランスフォーマー注釈\n",
        "\n",
        "- [オリジナルブログ The Annotated Transformer](http://nlp.seas.harvard.edu/2018/04/03/attention.html)\n",
        "- [オリジナル Colab code](https://drive.google.com/file/d/1xQXSv6mtAOLXxEMi8RvaW8TW-7bvYBDF/view)\n",
        "- [オリジナルブログの新バージョン](https://nlp.seas.harvard.edu/annotated-transformer/)\n",
        "- [新バージョンの GitHub リポジトリ](https://nlp.seas.harvard.edu/annotated-transformer/)\n",
        "\n",
        "- このファイル <https://drive.google.com/open?id=1naZHpTLgfLd54RcY4yi0WyQYoKf1yBBo>\n",
        "\n",
        "- [他の実装も参照](https://uvadlc-notebooks.readthedocs.io/en/latest/tutorial_notebooks/tutorial6/Transformers_and_MHAttention.html)\n",
        "\n",
        "<center>\n",
        "<img src=\"http://nlp.seas.harvard.edu/images/the-annotated-transformer_0_0.png\" width=\"49%\">\n",
        "</center>\n",
        "\n",
        "私は教える際，機械学習の最近の動向を理解する方法として，実装を重視しています。\n",
        "この投稿は， この目標に沿って自分を誠実に保つための試みです。\n",
        "NIPS 2017 で発表された最近の [Attention is All You Need](https://arxiv.org/abs/1706.03762) 論文は， 機械翻訳や 潜在的に自然言語処理 全般の新しい手法として， 瞬く間にインパクトのある論文となりました。\n",
        "この論文は非常にわかりやすく書かれていますが， これまでの常識では， 正しく実装するのはかなり難しいとされてきました。\n",
        "\n",
        "> この投稿では， 論文の最初から最後までを追い， 各構成要素をコードで実装してみました。\n",
        "(元の論文から若干の順序変更やスキップをしています)。\n",
        "この文書自体が作業用のノートであり， 完全に使用可能で効率的な実装であるべきです。\n",
        "[PyTorch](http://pytorch.org/) と [torchtext](https://github.com/pytorch/text) をインストールする必要があります。\n",
        "完全なコードは [github](https://github.com/harvardnlp/annotated-transformer) にあります。\n",
        "> - Alexander \"Sasha\" Rush ([@harvardnlp](https://twitter.com/harvardnlp))\n",
        "\n",
        "\n",
        "`Attention is All You Need` の Transformer は，昨年から多くの人の心をとらえている。\n",
        "翻訳品質の大幅な向上に加え，他の多くの NLP 課題に新しいアーキテクチャを提供している。\n",
        "この論文自体は非常にわかりやすく書かれていますが，正しく実装するのはかなり難しいというのがこれまでの常識であった。\n",
        "<!-- The Transformer from “Attention is All You Need” has been on a lot of people’s minds over the last year. \n",
        "Besides producing major improvements in translation quality, it provides a new architecture for many other NLP tasks. \n",
        "The paper itself is very clearly written, but the conventional wisdom has been that it is quite difficult to implement correctly.\n",
        "-->\n",
        "\n",
        "この投稿では，この論文の「注釈付き」バージョンを，一行ごとの実装という形で紹介する。\n",
        "元論文からいくつかの節を並べ替えたり削除したりし，全体的にコメントを追加している。\n",
        "この文書自体はワーキングノートであり，完全に使用可能な実装である。\n",
        "合計で 400 行のライブラリコードがあり，4 つの GPU で 1 秒間に 27,000 トークンを処理することができる。\n",
        "<!-- In this post I present an “annotated” version of the paper in the form of a line-by-line implementation. \n",
        "I have reordered and deleted some sections from the original paper and added comments throughout. \n",
        "This document itself is a working notebook, and should be a completely usable implementation. \n",
        "In total there are 400 lines of library code which can process 27,000 tokens per second on 4 GPUs.\n",
        "-->\n",
        "\n",
        "Alexander Rush (@harvardnlp or srush@seas.harvard.edu), with help from Vincent Nguyen and Guillaume Klein\n"
      ]
    },
    {
      "cell_type": "code",
      "execution_count": null,
      "id": "7c50a01c-49ac-45a4-b6a9-77421d392777",
      "metadata": {
        "id": "7c50a01c-49ac-45a4-b6a9-77421d392777"
      },
      "outputs": [],
      "source": [
        "%config InlineBackend.figure_format = 'retina'\n",
        "import torch\n",
        "try:\n",
        "    import bit\n",
        "except ImportError:\n",
        "    !pip install ipynb --upgrade > /dev/null 2>&1 \n",
        "    !pip install ipynbname > /dev/null 2>&1\n",
        "    !git clone https://github.com/ShinAsakawa/bit.git\n",
        "    import bit\n",
        "    \n",
        "HOME = bit.HOME\n",
        "isColab = bit.isColab"
      ]
    },
    {
      "cell_type": "markdown",
      "id": "5ea4ed76-f7bd-4c9d-93ea-880d21531b00",
      "metadata": {
        "id": "5ea4ed76-f7bd-4c9d-93ea-880d21531b00"
      },
      "source": [
        "# 1. 背景\n",
        "\n",
        "[Extended Neural GPU](https://arxiv.org/abs/1511.08228), [ByteNet](https://arxiv.org/abs/1610.10099), [ConvS2S](https://arxiv.org/abs/1705.03122) などのモデルでは，基本的な構成要素として畳み込みニューラルネットワークが用いられており，すべての入出力位置について隠れた表現を並列に計算している。\n",
        "これらのモデルでは， 任意の 2 つの入出力位置からの信号を関連付けるために必要な演算の数は，位置間の距離に応じて ConvS2S では線形に，ByteNet では対数的に増加する。\n",
        "このため，離れた位置間の依存関係を学習することが難しくなる。\n",
        "トランスフォーマーでは，注目度の高い位置を平均化することで実効的な解像度が低下するが，これは以下の多頭注意機構によって相殺され，一定の演算数に抑えられる。\n",
        "\n",
        "自己注意 (イントラ注意と呼ばれることもある) は 1 つの配列の異なる位置を関連づけて，その配列の表現を計算するための注意機構である。\n",
        "自己注意は，読解，抽象的な要約，テキストの含意，課題に依存しない文の表現の学習など，さまざまな課題で利用されています。\n",
        "エンド=2=エンド (煩雑な前処理や後処理が不要) の メモリネットワークは，配列に沿った再帰ではなく，再帰的な注意機構に基づいており，簡易な言語の質問応答や言語モデルの課題で優れた性能を発揮することが示されている。\n",
        "\n",
        "しかし，我々の知る限り，トランスフォーマーは，配列を揃えた RNN や畳み込みを使用せずに，自己注意に完全に依存して入力と出力の表現を計算する初めての伝達モデル (transduction model) である。"
      ]
    },
    {
      "cell_type": "markdown",
      "id": "820bf559-f9c3-4198-a8a1-d679024ff239",
      "metadata": {
        "id": "820bf559-f9c3-4198-a8a1-d679024ff239"
      },
      "source": [
        "# 2. モデル構成"
      ]
    },
    {
      "cell_type": "code",
      "execution_count": null,
      "id": "a9e71c50-c992-4486-ada3-b644c7e897bb",
      "metadata": {
        "id": "a9e71c50-c992-4486-ada3-b644c7e897bb"
      },
      "outputs": [],
      "source": [
        "# 標準的な PyTorch 関連ライブラリの輸入\n",
        "import numpy as np\n",
        "import torch\n",
        "import torch.nn as nn\n",
        "import torch.nn.functional as F\n",
        "import math, copy\n",
        "from torch.autograd import Variable\n",
        "\n",
        "%matplotlib inline\n",
        "import matplotlib.pyplot as plt\n",
        "\n",
        "try:\n",
        "    import japanize_matplotlib\n",
        "except ImportError:\n",
        "    !pip install japanize_matplotlib  > /dev/null 2>&1\n",
        "    import japanize_matplotlib"
      ]
    },
    {
      "cell_type": "markdown",
      "id": "c92f9c29-f634-41f2-8015-4a66674a48e8",
      "metadata": {
        "id": "c92f9c29-f634-41f2-8015-4a66674a48e8"
      },
      "source": [
        "トランスフォーマーは，この全体的なアーキテクチャに沿って，図 1 の左半分と右半分にそれぞれ示されているように，符号化器と復号化器の両方に，積層自己注意と点毎の完全連結層を使用している。\n",
        "\n",
        "<center>\n",
        "<img src=\"http://nlp.seas.harvard.edu/images/the-annotated-transformer_14_0.png\" width=\"19%\"><br/>\n",
        "図 1. \n",
        "</center>"
      ]
    },
    {
      "cell_type": "markdown",
      "id": "95d0495b-3fb0-40d5-948f-892f82c6b9c8",
      "metadata": {
        "id": "95d0495b-3fb0-40d5-948f-892f82c6b9c8"
      },
      "source": [
        "## 2.1 符号化器と復号化器の積層\n"
      ]
    },
    {
      "cell_type": "code",
      "execution_count": null,
      "id": "6ffe52af-cb2b-4d75-899c-b68f31d14579",
      "metadata": {
        "id": "6ffe52af-cb2b-4d75-899c-b68f31d14579"
      },
      "outputs": [],
      "source": [
        "class EncoderDecoder(nn.Module):\n",
        "    \"\"\"典型的な 符号化器-復号化器 アーキテクチャ 基本モデル\"\"\"\n",
        "    \n",
        "    def __init__(self, \n",
        "                 encoder:nn.Module, \n",
        "                 decoder:nn.Module, \n",
        "                 src_embed:nn.Module, \n",
        "                 tgt_embed:nn.Module, \n",
        "                 generator:nn.Module):\n",
        "        \n",
        "        super().__init__()\n",
        "        self.encoder = encoder\n",
        "        self.decoder = decoder\n",
        "        self.src_embed = src_embed\n",
        "        self.tgt_embed = tgt_embed\n",
        "        self.generator = generator\n",
        "        \n",
        "    def forward(self, \n",
        "                src:torch.Tensor, \n",
        "                tgt:torch.Tensor, \n",
        "                src_mask:torch.Tensor, \n",
        "                tgt_mask:torch.Tensor):\n",
        "        \"\"\"マスク付きの ソース系列 と ターゲット系列を用いて処理\"\"\"\n",
        "        return self.decode(self.encode(src, src_mask), src_mask, \n",
        "                           tgt, tgt_mask)\n",
        "    \n",
        "    def encode(self, \n",
        "               src:torch.Tensor, \n",
        "               src_mask:torch.Tensor):\n",
        "        return self.encoder(self.src_embed(src), src_mask)\n",
        "    \n",
        "    def decode(self, \n",
        "               memory:torch.Tensor, \n",
        "               src_mask:torch.Tensor, \n",
        "               tgt:torch.Tensor, \n",
        "               tgt_mask:torch.Tensor):\n",
        "        return self.decoder(self.tgt_embed(tgt), memory, src_mask, tgt_mask)\n"
      ]
    },
    {
      "cell_type": "code",
      "execution_count": null,
      "id": "c02c33e6-1ae8-4c6d-a90e-96f7b07ce084",
      "metadata": {
        "id": "c02c33e6-1ae8-4c6d-a90e-96f7b07ce084"
      },
      "outputs": [],
      "source": [
        "class Generator(nn.Module):\n",
        "    \"\"\"ベースとなる生成関数。(原著論文には記載なし)\"\"\"\n",
        "    \"\"\"Define standard linear + softmax generation step.\"\"\"\n",
        "\n",
        "    def __init__(self, \n",
        "                 d_model:int=512, \n",
        "                 vocab:int=32000):\n",
        "        super().__init__()\n",
        "        self.proj = nn.Linear(in_features=d_model,\n",
        "                              out_features=vocab)\n",
        "\n",
        "    def forward(self, x:torch.Tensor):\n",
        "        return F.log_softmax(input=self.proj(x), dim=-1)"
      ]
    },
    {
      "cell_type": "markdown",
      "id": "82133ac9-b029-4d41-9a67-578c97975770",
      "metadata": {
        "id": "82133ac9-b029-4d41-9a67-578c97975770"
      },
      "source": [
        "### 2.1.1 符号化器: \n",
        "\n",
        "符号化器は $N=6$ 枚の同じ層の積み重ねで構成される。"
      ]
    },
    {
      "cell_type": "code",
      "execution_count": null,
      "id": "af3b9225-035a-4bb2-b6be-49178da676ef",
      "metadata": {
        "id": "af3b9225-035a-4bb2-b6be-49178da676ef"
      },
      "outputs": [],
      "source": [
        "def clones(module:nn.Module, N:int=1):\n",
        "    \"\"\"N 個の積層を作成するための関数。完全に同一な (identical) 層を複製\"\"\"\n",
        "    return nn.ModuleList([copy.deepcopy(module) for _ in range(N)])"
      ]
    },
    {
      "cell_type": "code",
      "execution_count": null,
      "id": "256157c5-8f51-4330-b587-83f6c4309e06",
      "metadata": {
        "id": "256157c5-8f51-4330-b587-83f6c4309e06"
      },
      "outputs": [],
      "source": [
        "class Encoder(nn.Module):\n",
        "    \"\"\"核となる符号化器 は N 層の積層\"\"\"\n",
        "    \n",
        "    def __init__(self, \n",
        "                 layer:nn.Module, \n",
        "                 N:int=1):\n",
        "        \n",
        "        super().__init__()\n",
        "        self.layers = clones(layer, N)\n",
        "        self.norm = LayerNorm(layer.size)\n",
        "        \n",
        "    def forward(self, \n",
        "                x:nn.Module, \n",
        "                mask:nn.Module):\n",
        "        \"\"\"入力（とマスク）を各層に順番に通す\"\"\"\n",
        "        \n",
        "        for layer in self.layers:\n",
        "            x = layer(x, mask)\n",
        "        return self.norm(x)"
      ]
    },
    {
      "cell_type": "markdown",
      "id": "be00a5d8-c4c5-4dca-84c9-d74acddf8ffd",
      "metadata": {
        "id": "be00a5d8-c4c5-4dca-84c9-d74acddf8ffd"
      },
      "source": [
        "2 つの下位層それぞれの周りに **残差接続** [(He2015,ResNet)](https://arxiv.org/abs/1512.03385) を採用し，その後 **層正規化** [(LeiBa+2016)](https://arxiv.org/abs/1607.06450) を行う。"
      ]
    },
    {
      "cell_type": "code",
      "execution_count": null,
      "id": "c402ee29-232d-4da8-b1fb-6440f5df6d33",
      "metadata": {
        "id": "c402ee29-232d-4da8-b1fb-6440f5df6d33"
      },
      "outputs": [],
      "source": [
        "class LayerNorm(nn.Module):\n",
        "    \"\"\"層正規化モジュール  (詳細は原著 https://arxiv.org/abs/1607.06450)\"\"\"\n",
        "    \n",
        "    def __init__(self, \n",
        "                 features:int, \n",
        "                 eps:float=1e-6):\n",
        "        \n",
        "        super().__init__()\n",
        "        self.a_2 = nn.Parameter(torch.ones(features))\n",
        "        self.b_2 = nn.Parameter(torch.zeros(features))\n",
        "        self.eps = eps\n",
        "\n",
        "    def forward(self, x):\n",
        "        mean = x.mean(-1, keepdim=True)\n",
        "        std = x.std(-1, keepdim=True)\n",
        "        return self.a_2 * (x - mean) / (std + self.eps) + self.b_2"
      ]
    },
    {
      "cell_type": "markdown",
      "id": "eccac99a-682d-4d80-9390-ae98e0e53de0",
      "metadata": {
        "id": "eccac99a-682d-4d80-9390-ae98e0e53de0"
      },
      "source": [
        "つまり，各下位層の出力は `LayerNorm(x + Sublayer(x))` となり，`Sublayer(x)` は下位層自身が実装する関数である。\n",
        "各下位層の出力に **ドロップアウト**[(Srivastava+2014)](https://jmlr.org/papers/v15/srivastava14a.html) を適用してから，下位層の入力に加えて正規化する。 \n",
        "\n",
        "これらの残差接続を容易にするために，モデル内のすべての下位層と埋め込み層は，次元 $d_{\\text{model}}=512$ の出力を生成する。"
      ]
    },
    {
      "cell_type": "code",
      "execution_count": null,
      "id": "f5973c5e-4eaf-4bb6-887a-e17dc41b0bf6",
      "metadata": {
        "id": "f5973c5e-4eaf-4bb6-887a-e17dc41b0bf6"
      },
      "outputs": [],
      "source": [
        "class SublayerConnection(nn.Module):\n",
        "    \"\"\"正規化層に後続する残差接続\n",
        "    コードを簡単にするために，ノルムを最後に適用するのではなく，最初に適用することに注意\"\"\"\n",
        "    \n",
        "    def __init__(self, \n",
        "                 size:int, \n",
        "                 dropout:float):\n",
        "        super().__init__()\n",
        "        self.norm = LayerNorm(features=size)\n",
        "        self.dropout = nn.Dropout(p=dropout)\n",
        "\n",
        "    def forward(self, x, sublayer):\n",
        "        \"\"\"同一形状を維持するため，任意の SubLayer 関数に残差接続を適用\"\"\"\n",
        "        return x + self.dropout(sublayer(self.norm(x)))"
      ]
    },
    {
      "cell_type": "markdown",
      "id": "4ec75a93-f8f1-4bf7-94dc-8ad5972e498b",
      "metadata": {
        "id": "4ec75a93-f8f1-4bf7-94dc-8ad5972e498b"
      },
      "source": [
        "各層には 2 つの下位層がある。\n",
        "1 つ目は多頭自己注意機構で，2 つ目は簡単な，位置ごと(point-wise) 完全連結フィードフォワードネットワークである。"
      ]
    },
    {
      "cell_type": "code",
      "execution_count": null,
      "id": "89aed528-640d-4bba-aba1-55371d21da34",
      "metadata": {
        "id": "89aed528-640d-4bba-aba1-55371d21da34"
      },
      "outputs": [],
      "source": [
        "class EncoderLayer(nn.Module):\n",
        "    \"\"\"符号化器は自己注意層とフィードフォワード (以下で定義) の 2 つの下位層で構成される\"\"\"\n",
        "    \n",
        "    def __init__(self, \n",
        "                 size:int, \n",
        "                 self_attn:nn.Module, \n",
        "                 feed_forward:nn.Module, \n",
        "                 dropout:float=0.1):\n",
        "        super().__init__()\n",
        "        \n",
        "        self.self_attn = self_attn\n",
        "        self.feed_forward = feed_forward\n",
        "        self.sublayer = clones(SublayerConnection(size, dropout), size)\n",
        "        #self.sublayer = clones(SublayerConnection(size, dropout), 2)\n",
        "        self.size = size\n",
        "\n",
        "    def forward(self, \n",
        "                x:nn.Module, \n",
        "                mask:nn.Module):\n",
        "        \"\"\"図 1 左 に従って接続\"\"\"\n",
        "        x = self.sublayer[0](x, lambda x: self.self_attn(x, x, x, mask))\n",
        "        return self.sublayer[1](x, self.feed_forward)"
      ]
    },
    {
      "cell_type": "markdown",
      "id": "8a161ee1-db32-4062-a191-abe1b95f9d0a",
      "metadata": {
        "id": "8a161ee1-db32-4062-a191-abe1b95f9d0a"
      },
      "source": [
        "### 2.1.2 復号化器:\n",
        "\n",
        "また，復号化器は $N=6$ 個の同一の階層の積み重ねで構成される。"
      ]
    },
    {
      "cell_type": "code",
      "execution_count": null,
      "id": "f062f21a-34b0-4f88-8c5c-d2b75c65fc99",
      "metadata": {
        "id": "f062f21a-34b0-4f88-8c5c-d2b75c65fc99"
      },
      "outputs": [],
      "source": [
        "class Decoder(nn.Module):\n",
        "    \"\"\"マスク付き復号化器化の一般化 N 層\"\"\"\n",
        "    \n",
        "    def __init__(self, \n",
        "                 layer:nn.Module,\n",
        "                 N:int=1):\n",
        "        super().__init__()\n",
        "        self.layers = clones(module=layer, N=N)\n",
        "        self.norm = LayerNorm(features=layer.size)\n",
        "        \n",
        "    def forward(self, \n",
        "                x:nn.Module, \n",
        "                memory:torch.Tensor, \n",
        "                src_mask:torch.Tensor, \n",
        "                tgt_mask:torch.Tensor):\n",
        "        for layer in self.layers:\n",
        "            x = layer(x, memory, src_mask, tgt_mask)\n",
        "        return self.norm(x)"
      ]
    },
    {
      "cell_type": "markdown",
      "id": "56dab003-363b-4f5e-8f4f-b25083b120dc",
      "metadata": {
        "id": "56dab003-363b-4f5e-8f4f-b25083b120dc"
      },
      "source": [
        "各符号化器層の 2 つの下位層に加えて，復号化器は 3 つ目の下位層を挿入し，符号化器の積層の出力に対して多頭注意を行う。\n",
        "符号化器と同様，各下位層の周りに残差接続を採用し，その後，層正規化を行う。"
      ]
    },
    {
      "cell_type": "code",
      "execution_count": null,
      "id": "7e8d0992-a3bd-4fbd-b46a-1091b17c4837",
      "metadata": {
        "id": "7e8d0992-a3bd-4fbd-b46a-1091b17c4837"
      },
      "outputs": [],
      "source": [
        "class DecoderLayer(nn.Module):\n",
        "    \"\"\"復号化器は，`self-attn`, `src-attn`, フィードフォワード (以下で定義）の 3 つの下位層で構成される\"\"\"\n",
        "    \n",
        "    def __init__(self, \n",
        "                 size, \n",
        "                 self_attn, \n",
        "                 src_attn, \n",
        "                 feed_forward, \n",
        "                 dropout):\n",
        "        super().__init__()\n",
        "        self.size = size\n",
        "        self.self_attn = self_attn\n",
        "        self.src_attn = src_attn\n",
        "        self.feed_forward = feed_forward\n",
        "        self.sublayer = clones(SublayerConnection(size, dropout), 3)\n",
        " \n",
        "    def forward(self, \n",
        "                x, \n",
        "                memory, \n",
        "                src_mask:torch.Tensor, \n",
        "                tgt_mask:torch.Tensor):\n",
        "        \"\"\"接続は図 1 右 に従う\"\"\"\n",
        "        m = memory\n",
        "        x = self.sublayer[0](x, lambda x: self.self_attn(x, x, x, tgt_mask))\n",
        "        x = self.sublayer[1](x, lambda x: self.src_attn(x, m, m, src_mask))\n",
        "        return self.sublayer[2](x, self.feed_forward)"
      ]
    },
    {
      "cell_type": "markdown",
      "id": "77b048d6-6139-444f-add5-ee3976b6efa5",
      "metadata": {
        "id": "77b048d6-6139-444f-add5-ee3976b6efa5"
      },
      "source": [
        "また，復号化器積層の自己注意下位層を変更し，位置が後続の位置に注意を向けないようにする。\n",
        "このマスクと，出力埋め込みが 1 位置分の離されていることを組み合わせることで，位置 $i$ の予測は，$i$ よりも小さい位置での既知の出力にのみ依存することが可能となる。"
      ]
    },
    {
      "cell_type": "code",
      "execution_count": null,
      "id": "ef2e4226-97a6-45af-8715-149f5093149b",
      "metadata": {
        "id": "ef2e4226-97a6-45af-8715-149f5093149b"
      },
      "outputs": [],
      "source": [
        "def subsequent_mask(size:int)->torch.Tensor:\n",
        "    \"\"\"後続位置のマスク\"\"\"\n",
        "    \n",
        "    attn_shape = (1, size, size)\n",
        "    \n",
        "    # `np.triu` 上三角行列，k 次の三角行列を得る\n",
        "    subsequent_mask = np.triu(np.ones(attn_shape), k=1).astype('uint8')\n",
        "    \n",
        "    return torch.from_numpy(subsequent_mask) == 0\n",
        "\n",
        "# 注意のマスクは，各目標単語 (行) が見ることを許される位置 (列) を示す。\n",
        "# 単語は訓練中に将来の単語を注目するためにブロックされる。\n",
        "plt.figure(figsize=(5,5))\n",
        "plt.imshow(subsequent_mask(20)[0])\n",
        "plt.title('注意の後方マスク')\n",
        "plt.show()\n",
        "print(subsequent_mask(20)[0] * 1)"
      ]
    },
    {
      "cell_type": "markdown",
      "id": "61473ca9-2019-4cf2-a9a5-24b4c8bdad67",
      "metadata": {
        "id": "61473ca9-2019-4cf2-a9a5-24b4c8bdad67"
      },
      "source": [
        "### 2.1.3 注意: \n",
        "\n",
        "注意関数は，クエリとキーと値の対となる出力に写像する。\n",
        "クエリ，キー，バリュー，の出力はすべてベクトルである。\n",
        "出力は，バリューの加重和として計算され，各バリューに割り当てられた重みは，クエリと対応するキーの互換性関数によって計算される。\n",
        "\n",
        "この特別な注意を「規格化済み内積注意」と呼びことにする。\n",
        "入力は $d_k$ 次元のクエリとキー，$d_v$ 次元のバリューとからなる。\n",
        "クエリとすべてのキーの内積を計算し，それぞれを $\\sqrt{d_k}$ で割り，ソフトマックス関数を適用して値の重みを求める。\n",
        "\n",
        "<center>\n",
        "<img width=\"09%\" src=\"http://nlp.seas.harvard.edu/images/the-annotated-transformer_33_0.png\"><br/>\n",
        "</center>\n",
        "\n",
        "実際には，行列 $Q$ にまとめられた一連のクエリに対して同時に注意関数を計算します。\n",
        "キーとバリューも行列 $K$ と $V$ にまとめられる。\n",
        "出力の行列を以下のように計算する:\n",
        "                                                                 \n",
        "$$ \\mathrm{Attention}\\left(Q, K, V\\right) = \\mathrm{softmax}\\left(\\frac{QK^T}{\\sqrt{d_k}}\\right)V $$"
      ]
    },
    {
      "cell_type": "code",
      "execution_count": null,
      "id": "4ce15551-8323-46d6-86d2-a0151f9318e6",
      "metadata": {
        "id": "4ce15551-8323-46d6-86d2-a0151f9318e6"
      },
      "outputs": [],
      "source": [
        "def attention(query:torch.Tensor, \n",
        "              key:torch.Tensor, \n",
        "              value:torch.Tensor, \n",
        "              mask:torch.Tensor=None, \n",
        "              dropout:float=0.0)->torch.Tensor:\n",
        "    \"\"\"`規格化内積型注意の計算\"\"\"\n",
        "    \n",
        "    d_k = query.size(-1)\n",
        "    scores = torch.matmul(query, key.transpose(-2, -1)) / math.sqrt(d_k)\n",
        "    if mask is not None:\n",
        "        scores = scores.masked_fill(mask == 0, -1e9)\n",
        "    p_attn = F.softmax(scores, dim = -1)\n",
        "    \n",
        "    # 以下で記述するドロップアウト\n",
        "    p_attn = F.dropout(p_attn, p=dropout)\n",
        "    return torch.matmul(p_attn, value), p_attn"
      ]
    },
    {
      "cell_type": "markdown",
      "id": "bc2be0c0-0029-4751-89ab-f23e9338eb6b",
      "metadata": {
        "id": "bc2be0c0-0029-4751-89ab-f23e9338eb6b"
      },
      "source": [
        "最も一般的に使用される 2 つの注意関数は， Bahdanau の加算型注意 [(Bahdanau2014)](https://arxiv.org/abs/1409.0473)と，Luong の 内積型 (乗算型) 注意である [(Loung+2014)](https://aclanthology.org/D15-1166/)。\n",
        "内積型注意は，$\\displaystyle\\frac{1}{\\sqrt{d_k}}$ という規格化因子を除いて，ここでのアルゴリズムと同じある。\n",
        "加算型注意は，隠れ層が 1 つのフィードフォワードネットワークを使って互換性関数を計算する。\n",
        "この 2 つは理論的な複雑さは類似しているが，内積型注意は，高度に最適化された行列乗算コードを用いて実装できるため，実際にはより高速で，よりスペース効率の高いものとなる。\n",
        "\n",
        "$d_k$ の小さな値では 2 つの機構は同じような性能を発揮するが，$d_k$ が大きな値では規格化なしで加算的注意が内積注意を上回る [(Britz+2017)](https://arxiv.org/abs/1703.03906)。\n",
        "$d_k$ の値が大きくなると，内積の大きさが大きくなり，ソフトマックス関数の勾配が極端に小さくなる領域に押し込まれるのではないかと考えられる (内積が大きくなる理由を説明するために，$q$ と $k$ の成分が平均 $0$, 分散 $1$ の独立した確率変数であると仮定。\n",
        "そうすると，それらの内積である $\\displaystyle q \\cdot k = \\sum_{i=1}^{d_k} q_ik_i$ は 平均 $0$, 分散 $d_k$ となる)。\n",
        "この効果を打ち消すために，内積を $\\displaystyle\\frac{1}{\\sqrt{d_k}}$ で規格化する。"
      ]
    },
    {
      "cell_type": "markdown",
      "id": "8ea5254a-dded-4aad-ba0a-54835ef3e8c7",
      "metadata": {
        "id": "8ea5254a-dded-4aad-ba0a-54835ef3e8c7"
      },
      "source": [
        "### 2.1.4 多頭注意 multi-head attention\n",
        "\n",
        "$d_{\\text{model}}$ 次元のキー，バリュー， クエリで単一の注意関数を実行する代わりに，クエリ，キー，バリューをそれぞれ $d_k$ 次元, $d_k$ 次元, $d_v$ 次元に異なる，学習した線形射影で $h$ 回投影することが有益であることがわかった。\n",
        "\n",
        "これらの射影されたバージョンのクエリ，キー，バリューのそれぞれに対して，注意関数を並行して実行し，$d_v$ 次元の出力値を得る。\n",
        "これらは連結され，再び射影され，最終的な値が得られる。\n",
        "\n",
        "<center>\n",
        "<img width=\"13%\" src=\"http://nlp.seas.harvard.edu/images/the-annotated-transformer_38_0.png\"><br/>\n",
        "    図 2\n",
        "</center>\n",
        "\n",
        "多頭注意では，モデルは異なる位置にある異なる表現下位空間からの情報を共同で注目することができる。\n",
        "単一注意では，平均化がこれを阻害する。\n",
        "\n",
        "$$ \\mathrm{MultiHead}(Q, K, V) = \\mathrm{Concat}(\\mathrm{head_1}, ..., \\mathrm{head_h})W^O $$\n",
        "\n",
        "ここで，$\\mathrm{head_i}=\\mathrm{Attention}(QW^Q_i, KW^K_i, VW^V_i)$\n",
        "\n",
        "ここで，射影されるのは，パラメータ行列 $W^Q_i \\in \\mathbb{R}^{d_{\\text{model}} \\times d_k}$, $W^K_i \\in \\mathbb{R}^{d_{\\text{model}} \\times d_k}$, $W^V_i \\in \\mathbb{R}^{d_{\\text{model}} \\times d_v}$ と $W^O \\in \\mathbb{R}^{hd_v \\times d_{\\text{model}}}$ である。\n",
        "\n",
        "ここでは $h=8$ 個の並列注意層 (ヘッド) を採用している。\n",
        "それぞれのヘッドには $d_k=d_v=d_{\\text{model}}/h=64$ を使用する。\n",
        "各ヘッドの次元が小さくなったことで，全体の計算コストは，全次元の単一注意の場合と同様になる。"
      ]
    },
    {
      "cell_type": "code",
      "execution_count": null,
      "id": "2d47d3e9-9ad5-48a2-a9fd-f3c16a2ea2cd",
      "metadata": {
        "id": "2d47d3e9-9ad5-48a2-a9fd-f3c16a2ea2cd"
      },
      "outputs": [],
      "source": [
        "class MultiHeadedAttention(nn.Module):\n",
        "    def __init__(self, \n",
        "                 h:int=8,          # ヘッド数\n",
        "                 d_model:int=512,  # 埋め込み次元\n",
        "                 dropout=0.1       # ドロップアウト率\n",
        "                ):\n",
        "        \"\"\"モデル形状と頭の数を取り込み\"\"\"\n",
        "        super().__init__()\n",
        "        \n",
        "        assert d_model % h == 0\n",
        "        \n",
        "        # d_v は常に d_k と等しいと仮定\n",
        "        self.d_k = d_model // h\n",
        "        self.h = h\n",
        "        self.p = dropout\n",
        "        self.linears = clones(nn.Linear(\n",
        "            in_features=d_model,\n",
        "            out_features=d_model), 4)\n",
        "        self.attn = None\n",
        "        \n",
        "    def forward(self, \n",
        "                query, \n",
        "                key, \n",
        "                value, \n",
        "                mask=None):\n",
        "        \"\"\"図 2 の実装\"\"\"\n",
        "        \n",
        "        if mask is not None:\n",
        "            # 全 h ヘッドに同一マスクを適用\n",
        "            mask = mask.unsqueeze(1)\n",
        "        nbatches = query.size(0)\n",
        "        \n",
        "        # 1) すべての線形投影を一括して行う d_model => h x d_k\n",
        "        query, key, value = [l(x).view(nbatches, -1, self.h, self.d_k).transpose(1, 2)\n",
        "                             for l, x in zip(self.linears, (query, key, value))]\n",
        "        \n",
        "        # 2) バッチ内のすべての投影されたベクトルに注意をかけます。\n",
        "        x, self.attn = attention(query, key, value, mask=mask, dropout=self.p)\n",
        "        \n",
        "        # 3) view  を使って “連結 concat” し 最終的に線形変換を適用する。 \n",
        "        x = x.transpose(1, 2).contiguous().view(nbatches, -1, self.h * self.d_k)\n",
        "        return self.linears[-1](x)"
      ]
    },
    {
      "cell_type": "markdown",
      "id": "52f91398-030f-4628-96a2-afe3d426cdcc",
      "metadata": {
        "id": "52f91398-030f-4628-96a2-afe3d426cdcc"
      },
      "source": [
        "### 2.1.5 本モデルにおける注意の応用\n",
        "\n",
        "トランスフォーマーは， 多頭注意を 3 つの方法で使用している。\n",
        "\n",
        "\n",
        "1. ｢符号化器-復号化器注意｣層では，クエリは前の復号化層から，メモリのキーとバリューとは符号化器の出力から来る。\n",
        "これにより，復号化器のすべての位置が入力系列のすべての位置に注意することができる。\n",
        "これは [(2016Wu_Google翻訳)](https://arxiv.org/abs/1609.08144) のような seq-2-seq モデルにおける典型的な符号化器・符号化器の注意機構を模倣している。\n",
        "\n",
        "2. 符号化器は自己注意層を含む。自己注意層では，すべてのキー，バリュー，クエリは同じ場所，この場合，符号化器の前の層の出力から来る。\n",
        "符号化器の各位置は，符号化器の前の層のすべての位置に注意することができる。\n",
        "\n",
        "3. 同様に，復号化器の自己注意層は，復号化器内の各位置が，その位置までの復号化器内のすべての位置に注意することを可能にする。\n",
        "自己回帰性を維持するために，復号化器内の左向きの情報フローを防ぐ必要がある。\n",
        "ソフトマックスの入力のうち，不正な接続に対応する全ての値をマスクする (-∞ に設定する) ことにより，規格化内積型注意の内部でこれを実装する。"
      ]
    },
    {
      "cell_type": "markdown",
      "id": "e25e9e03-6075-4646-96ca-88b849abf442",
      "metadata": {
        "id": "e25e9e03-6075-4646-96ca-88b849abf442"
      },
      "source": [
        "## 2.2 位置毎 (point-wise) 順向ネットワーク\n",
        "\n",
        "注意下位層に加えて，符号化器と復号化器の各層には，完全結合のフィード・フォワード・ネットワークが含まれており，これは各位置に個別かつ同一に適用される。\n",
        "このネットワークは，ReLU 活性化を挟んだ 2 つの線形変換で構成される。\n",
        "\n",
        "$$ \\mathrm{FFN}(x)=\\max(0, xW_1 + b_1) W_2 + b_2 $$                                                                                      \n",
        "\n",
        "線形変換は，異なる位置では同じだが，層ごとに異なるパラメータを使用する。\n",
        "これを別の表現で表すと，カーネルサイズ 1 の 2 つの畳み込みとなる。\n",
        "入出力の次元は $d_{\\text{model}}=512$ であり，内部層の次元は $d_{ff}=2048$ である。"
      ]
    },
    {
      "cell_type": "code",
      "execution_count": null,
      "id": "ef811c71-36e9-40f4-981e-fae44b652364",
      "metadata": {
        "id": "ef811c71-36e9-40f4-981e-fae44b652364"
      },
      "outputs": [],
      "source": [
        "class PositionwiseFeedForward(nn.Module):\n",
        "    \"\"\"完全結合ネットワーク FFN 式の実装\"\"\"\n",
        "    \n",
        "    def __init__(self, \n",
        "                 d_model, \n",
        "                 d_ff, \n",
        "                 dropout=0.1):\n",
        "        super().__init__()\n",
        "        # Torch linears have a `b` by default. \n",
        "        self.w_1 = nn.Linear(d_model, d_ff)\n",
        "        self.w_2 = nn.Linear(d_ff, d_model)\n",
        "        self.dropout = nn.Dropout(dropout)\n",
        "\n",
        "    def forward(self, x):\n",
        "        return self.w_2(self.dropout(F.relu(self.w_1(x))))"
      ]
    },
    {
      "cell_type": "markdown",
      "id": "e3e47599-5e9f-4dfd-80d4-c54a0eda6351",
      "metadata": {
        "id": "e3e47599-5e9f-4dfd-80d4-c54a0eda6351"
      },
      "source": [
        "## 2.3 埋め込みとソフトマックス\n",
        "\n",
        "他の系列変換モデルと同様に，学習済み埋め込み層を用いて，入力トークンと出力トークンを次元 $d_{\\text{model}}$ のベクトルに変換する。\n",
        "また，復号化器の出力を次のトークンの予測確率に変換するために，通常の学習した線形変換とソフトマックス関数を使用する。\n",
        "我々のモデルでは [(PressWolf2016)](https://arxiv.org/abs/1608.05859) と同様に，2 つの埋め込み層と事前ソフトマックス線形変換の間で同じ重み行列を共有している。\n",
        "埋め込み層では，その重みに $\\sqrt{d_{\\text{model}}}$ を掛ける。\n"
      ]
    },
    {
      "cell_type": "code",
      "execution_count": null,
      "id": "740a60a2-42de-454c-a9ee-5e29ba97afcb",
      "metadata": {
        "id": "740a60a2-42de-454c-a9ee-5e29ba97afcb"
      },
      "outputs": [],
      "source": [
        "class Embeddings(nn.Module):\n",
        "    def __init__(self, \n",
        "                 d_model:int, \n",
        "                 vocab:int):\n",
        "        super().__init__()\n",
        "        self.lut = nn.Embedding(vocab, d_model)\n",
        "        self.d_model = d_model\n",
        "\n",
        "    def forward(self, x):\n",
        "        return self.lut(x) * math.sqrt(self.d_model)"
      ]
    },
    {
      "cell_type": "markdown",
      "id": "78cd1a5a-2bda-491e-96f1-e500a51d9a69",
      "metadata": {
        "id": "78cd1a5a-2bda-491e-96f1-e500a51d9a69"
      },
      "source": [
        "## 2.4 位置符号化器\n",
        "\n",
        "モデルには再帰も畳み込みもないので，モデルが系列の順序を利用するためには，系列内のトークンの相対的または絶対的な位置に関する何らかの情報を注入する必要がある。\n",
        "そのために，符号化器と復号化器の積層の底部にある入力埋め込みに「位置符号化器」を追加する。\n",
        "位置符号化器は埋め込みと同一次元 $d_{\\text{model}}$ であり，2 つの埋め込みの和が取れるようになっている。\n",
        "位置符号化器には学習型と固定型の多くの選択肢がある [(JonasFaceNet2017)](https://arxiv.org/abs/1705.03122)。\n",
        "\n",
        "ここでは，異なる周波数の正弦波(サイン)と 余弦波 (コサイン) 関数を使用している。\n",
        "\n",
        "$$\n",
        "PE_{(\\text{pos},2i)}   = \\sin\\left(\\frac{\\text{pos}}{10000^{\\frac{2i}{d_{\\text{model}}}}}\\right)\\\\\n",
        "PE_{(\\text{pos},2i+1)} = \\cos\\left(\\frac{\\text{pos}}{10000^{\\frac{2i}{d_{\\text{model}}}}}\\right)\n",
        "$$\n",
        "\n",
        "ここで $pos$ は位置，$i$ は次元を表す。\n",
        "つまり，位置情報の各次元は，正弦波に対応している。\n",
        "波長は，$2\\pi$ から $10000\\cdot 2\\pi$ へと幾何学的に変化していく。\n",
        "この関数を選んだのは，任意の固定ズレ $k$ に対して $PE_{\\text{pos}+k}$ は $PE_{\\text{pos}}$ の一次関数として表現できるため，モデルが相対的な位置による注意を容易に学習できるのではないかと考えたからである。\n",
        "\n",
        "さらに，符号化積層と復号化積層の両方で，埋め込みと位置符号化の合計にドロップアウトを適用する。\n",
        "ベースモデルでは $P_{drop}=0.1$ の割合を使用している。"
      ]
    },
    {
      "cell_type": "code",
      "execution_count": null,
      "id": "5d9fab53-f8f8-4b73-9d3c-d9ff226c56b7",
      "metadata": {
        "id": "5d9fab53-f8f8-4b73-9d3c-d9ff226c56b7"
      },
      "outputs": [],
      "source": [
        "class PositionalEncoding(nn.Module):\n",
        "    \"\"\"一符号化器の実装\"\"\"\n",
        "    def __init__(self, \n",
        "                 d_model:int=512, \n",
        "                 dropout:float=0.1, \n",
        "                 max_len=5000):\n",
        "        \n",
        "        super().__init__()\n",
        "        self.dropout = nn.Dropout(p=dropout)\n",
        "        \n",
        "        # 対数空間における位置符号化ベクトルの一度計算しておく\n",
        "        pe = torch.zeros(max_len, d_model)\n",
        "        position = torch.arange(0, max_len).unsqueeze(1)\n",
        "        div_term = torch.exp(torch.arange(0, d_model, 2) * -(math.log(10000.0) / d_model))\n",
        "        pe[:, 0::2] = torch.sin(position * div_term)\n",
        "        pe[:, 1::2] = torch.cos(position * div_term)\n",
        "        pe = pe.unsqueeze(0)\n",
        "        \n",
        "        # `register_buffer` パラメータではないがモジュールの状態の一部であるべきテンソルを指定。\n",
        "        # モジュールと同じデバイス上にある必要のあるテンソルに使用される\n",
        "        # `persistent=False` はバッファの状態の辞書に追加しないように PyTorch に指示する (例えばモデルを保存する場合など)。\n",
        "        self.register_buffer('pe', pe)\n",
        "        \n",
        "    def forward(self, x):\n",
        "        x = x + Variable(self.pe[:, :x.size(1)], requires_grad=False)\n",
        "        return self.dropout(x)"
      ]
    },
    {
      "cell_type": "code",
      "execution_count": null,
      "id": "c09c6119-adb8-4893-940f-971a2721ed18",
      "metadata": {
        "id": "c09c6119-adb8-4893-940f-971a2721ed18"
      },
      "outputs": [],
      "source": [
        "# 位置符号化器では，位置に応じて正弦波が加算される。\n",
        "# 波の周波数とオフセット(ズレ) は，各次元で異なる。\n",
        "plt.figure(figsize=(12, 4))\n",
        "pe = PositionalEncoding(20, 0)\n",
        "y = pe.forward(Variable(torch.zeros(1, 100, 20)))\n",
        "plt.plot(np.arange(100), y[0, :, 4:8].data.numpy())\n",
        "plt.legend([f\"次元 {p}\" for p in [4,5,6,7]])\n",
        "#plt.legend([\"dim %d\"%p for p in [4,5,6,7]])\n",
        "plt.show()\n",
        "#None"
      ]
    },
    {
      "cell_type": "markdown",
      "id": "e6643eb7-ca06-4f4f-9939-8d693459a7d1",
      "metadata": {
        "id": "e6643eb7-ca06-4f4f-9939-8d693459a7d1"
      },
      "source": [
        "## 2.5 完全モデル"
      ]
    },
    {
      "cell_type": "code",
      "execution_count": null,
      "id": "6169dd22-4fdc-4351-984d-08de2b8007f0",
      "metadata": {
        "id": "6169dd22-4fdc-4351-984d-08de2b8007f0"
      },
      "outputs": [],
      "source": [
        "def make_model(src_vocab:int, \n",
        "               tgt_vocab:int, \n",
        "               N:int=6, \n",
        "               d_model:int=512, \n",
        "               d_ff:int=2048,\n",
        "               h:int=8, \n",
        "               dropout:float=0.1):\n",
        "    \"\"\"ハイパーパラメータを指定したモデル構築のヘルパ関数\"\"\"\n",
        "    \n",
        "    c = copy.deepcopy\n",
        "    \n",
        "    attn = MultiHeadedAttention(\n",
        "        h=h, \n",
        "        d_model=d_model, \n",
        "        dropout=dropout)\n",
        "    \n",
        "    ff = PositionwiseFeedForward(\n",
        "        d_model=d_model, \n",
        "        d_ff=d_ff, \n",
        "        dropout=dropout)\n",
        "    \n",
        "    position = PositionalEncoding(\n",
        "        d_model=d_model, \n",
        "        dropout=dropout)\n",
        "    \n",
        "    model = EncoderDecoder(\n",
        "        encoder = Encoder(EncoderLayer(d_model, \n",
        "                                       c(attn), \n",
        "                                       c(ff), \n",
        "                                       dropout), \n",
        "                          N=N),\n",
        "        decoder = Decoder(DecoderLayer(d_model, \n",
        "                                       c(attn), \n",
        "                                       c(attn), \n",
        "                                       c(ff), \n",
        "                                       dropout), \n",
        "                          N=N),\n",
        "        src_embed = nn.Sequential(Embeddings(d_model, \n",
        "                                             src_vocab), \n",
        "                                  c(position)),\n",
        "        tgt_embed = nn.Sequential(Embeddings(d_model, \n",
        "                                             tgt_vocab), \n",
        "                                  c(position)),\n",
        "        generator = Generator(d_model=d_model, vocab=tgt_vocab))\n",
        "    \n",
        "    # 初期化はコード上，重要 (らしい。ブログによると)\n",
        "    # Glorot (ザビエルの初期化) あるいは `fan_avg` でパラメータを初期化\n",
        "    for p in model.parameters():\n",
        "        if p.dim() > 1:\n",
        "            nn.init.xavier_uniform_(p)\n",
        "    return model"
      ]
    },
    {
      "cell_type": "code",
      "execution_count": null,
      "id": "b23af39d-e0f9-4a96-b2b0-8c9a67724cf3",
      "metadata": {
        "id": "b23af39d-e0f9-4a96-b2b0-8c9a67724cf3"
      },
      "outputs": [],
      "source": [
        "def inference_test():\n",
        "    test_model = make_model(11, 11, 2)\n",
        "    test_model.eval()\n",
        "    src = torch.LongTensor([[1, 2, 3, 4, 5, 6, 7, 8, 9, 10]])\n",
        "    src_mask = torch.ones(1, 1, 10)\n",
        "\n",
        "    memory = test_model.encode(src, src_mask)\n",
        "    ys = torch.zeros(1, 1).type_as(src)\n",
        "\n",
        "    for i in range(9):\n",
        "        out = test_model.decode(\n",
        "            memory, src_mask, ys, subsequent_mask(ys.size(1)).type_as(src.data)\n",
        "        )\n",
        "        prob = test_model.generator(out[:, -1])\n",
        "        _, next_word = torch.max(prob, dim=1)\n",
        "        next_word = next_word.data[0]\n",
        "        ys = torch.cat(\n",
        "            [ys, torch.empty(1, 1).type_as(src.data).fill_(next_word)], dim=1\n",
        "        )\n",
        "\n",
        "    print(\"Example Untrained Model Prediction:\", ys)\n",
        "\n",
        "\n",
        "def run_tests():\n",
        "    for _ in range(10):\n",
        "        inference_test()\n",
        "\n",
        "\n",
        "#show_example(run_tests)\n",
        "run_tests()"
      ]
    },
    {
      "cell_type": "code",
      "execution_count": null,
      "id": "6c938d7c-4977-4e8b-b94f-ff8871fab60f",
      "metadata": {
        "id": "6c938d7c-4977-4e8b-b94f-ff8871fab60f"
      },
      "outputs": [],
      "source": [
        "# おもちゃモデルで評価\n",
        "tmp_model = make_model(src_vocab=10, tgt_vocab=10, N=2)\n",
        "tmp_model.eval();"
      ]
    },
    {
      "cell_type": "markdown",
      "id": "4fb0eb35-33aa-411d-9edc-60b4a7e85efc",
      "metadata": {
        "id": "4fb0eb35-33aa-411d-9edc-60b4a7e85efc"
      },
      "source": [
        "# 3. 訓練\n",
        "\n",
        "本節では，我々のモデルの訓練の体制について説明る。\n",
        "\n",
        "ここでは、標準的な符号化器-復号化器モデルを学習するために必要な道具を簡単に解説する。\n",
        "まず，学習用の ソース `src` 文と 目標 `target` 文を保持するバッチオブジェクトを定義し，マスクを作成する。"
      ]
    },
    {
      "cell_type": "markdown",
      "id": "5ef15177-9b89-4ea1-a1ad-b5a24b443d09",
      "metadata": {
        "id": "5ef15177-9b89-4ea1-a1ad-b5a24b443d09"
      },
      "source": [
        "## 3.1 最適化\n",
        "\n",
        "Adam 最適化 [(kingma2014adam)](https://arxiv.org/abs/1412.6980) を使用し $\\beta_1=0.9$, $\\beta_2=0.98$, $\\epsilon=10^{-9}$ とした。\n",
        "学習の過程で学習率を式にしたがって変化させた。\n",
        "\n",
        "$$\n",
        "\\text{lrate} = d_{\\text{model}}^{-0.5} \\cdot \\min({\\text{step_num}}^{-0.5}, \n",
        "(\\text{step_num} \\cdot {\\text{warmup_steps}}^{-1.5}) $$\n",
        "\n",
        "これは、最初の $\\text{warmup_steps}$ の学習ステップでは学習率を線形に増加させ，その後はステップ数の逆平方根に比例して学習率を減少させることに相当する。\n",
        "ここでは $\\text{warmup_steps}=4000$ とした。"
      ]
    },
    {
      "cell_type": "code",
      "execution_count": null,
      "id": "85d01b3f-2bc7-451d-8f36-54b839393fc7",
      "metadata": {
        "id": "85d01b3f-2bc7-451d-8f36-54b839393fc7"
      },
      "outputs": [],
      "source": [
        "# 注: この部分は非常に重要。\n",
        "# モデルが非常に不安定な場合は，このセットアップで訓練する必要がある。\n",
        "class NoamOpt:\n",
        "    \"\"\"rate を実装した最適化関数のラッパー\"\"\"\n",
        "    \n",
        "    def __init__(self, \n",
        "                 model_size, \n",
        "                 factor, \n",
        "                 warmup, \n",
        "                 optimizer):\n",
        "        self.optimizer = optimizer\n",
        "        self._step = 0\n",
        "        self.warmup = warmup\n",
        "        self.factor = factor\n",
        "        self.model_size = model_size\n",
        "        self._rate = 0\n",
        "        \n",
        "    def step(self):\n",
        "        \"\"\"パラメータと rate の更新\"\"\"\n",
        "        self._step += 1\n",
        "        rate = self.rate()\n",
        "        for p in self.optimizer.param_groups:\n",
        "            p['lr'] = rate\n",
        "        self._rate = rate\n",
        "        self.optimizer.step()\n",
        "        \n",
        "    def rate(self, step = None):\n",
        "        \"\"\"上記 `lrate` の実装\"\"\"\n",
        "        if step is None:\n",
        "            step = self._step\n",
        "        return self.factor * \\\n",
        "            (self.model_size ** (-0.5) *\n",
        "            min(step ** (-0.5), step * self.warmup**(-1.5)))\n",
        "        \n",
        "def get_std_opt(model):\n",
        "    return NoamOpt(model.src_embed[0].d_model, 2, 4000,\n",
        "            torch.optim.Adam(model.parameters(), \n",
        "                             lr=0, \n",
        "                             betas=(0.9, 0.98), \n",
        "                             eps=1e-9))"
      ]
    },
    {
      "cell_type": "code",
      "execution_count": null,
      "id": "695cacd2-c51c-408b-bbea-95f356970249",
      "metadata": {
        "id": "695cacd2-c51c-408b-bbea-95f356970249"
      },
      "outputs": [],
      "source": [
        "# ハイパーパラメータ `lrate` の 3 つの設定\n",
        "opts = [NoamOpt(512, 1, 4000, None), \n",
        "        NoamOpt(512, 1, 8000, None),\n",
        "        NoamOpt(256, 1, 4000, None)]\n",
        "plt.plot(np.arange(1, 20000), [[opt.rate(i) for opt in opts] for i in range(1, 20000)])\n",
        "plt.legend([\"512:4000\", \"512:8000\", \"256:4000\"])\n",
        "plt.show()\n",
        "#None"
      ]
    },
    {
      "cell_type": "markdown",
      "id": "ee70c034-40ee-46be-87aa-cb3049a51dca",
      "metadata": {
        "id": "ee70c034-40ee-46be-87aa-cb3049a51dca"
      },
      "source": [
        "## 3.4 正則化\n",
        "\n",
        "### 3.4.1 ラベル平滑化\n",
        "\n",
        "学習時には，$\\epsilon_{ls}=0.1$ [(Szegedy2015)](https://arxiv.org/abs/1512.00567) のラベル平滑化を採用した。\n",
        "これは， モデルがより不確かになるように学習するため，パープレキシティ (錯乱度) を悪化させるが，精度と BLEU 得点を向上させる。\n",
        "\n",
        "KL ダイバージェンス損失を用いてラベルの平滑化を行う。\n",
        "ワンホットのターゲット分布ではなく，正解の確信度と残りの平滑化量を語彙全体に分散させた分布を作成。\n"
      ]
    },
    {
      "cell_type": "code",
      "execution_count": null,
      "id": "4817d991-2ce9-4eda-95e4-af2f2ccb8701",
      "metadata": {
        "id": "4817d991-2ce9-4eda-95e4-af2f2ccb8701"
      },
      "outputs": [],
      "source": [
        "class LabelSmoothing(nn.Module):\n",
        "    \"Implement label smoothing.\"\n",
        "    def __init__(self, size, padding_idx, smoothing=0.0):\n",
        "        super(LabelSmoothing, self).__init__()\n",
        "        self.criterion = nn.KLDivLoss(reduction='sum')\n",
        "        #self.criterion = nn.KLDivLoss(size_average=False)\n",
        "        self.padding_idx = padding_idx\n",
        "        self.confidence = 1.0 - smoothing\n",
        "        self.smoothing = smoothing\n",
        "        self.size = size\n",
        "        self.true_dist = None\n",
        "        \n",
        "    def forward(self, x, target):\n",
        "        assert x.size(1) == self.size\n",
        "        \n",
        "        true_dist = x.data.clone()\n",
        "        true_dist.fill_(self.smoothing / (self.size - 2))\n",
        "        true_dist.scatter_(1, target.data.unsqueeze(1), self.confidence)\n",
        "        true_dist[:, self.padding_idx] = 0\n",
        "        mask = torch.nonzero(target.data == self.padding_idx)\n",
        "        if mask.dim() > 0:\n",
        "            true_dist.index_fill_(0, mask.squeeze(), 0.0)\n",
        "        self.true_dist = true_dist\n",
        "        return self.criterion(x, Variable(true_dist, requires_grad=False))"
      ]
    },
    {
      "cell_type": "code",
      "execution_count": null,
      "id": "f50e80ec-31d7-4136-9fb8-408a941e3e53",
      "metadata": {
        "id": "f50e80ec-31d7-4136-9fb8-408a941e3e53"
      },
      "outputs": [],
      "source": [
        "#Example\n",
        "crit = LabelSmoothing(5, 0, 0.5)\n",
        "predict = torch.FloatTensor([[0, 0.2, 0.7, 0.1, 0],\n",
        "                             [0, 0.2, 0.7, 0.1, 0], \n",
        "                             [0, 0.2, 0.7, 0.1, 0], \n",
        "                             [0, 0.2, 0.7, 0.1, 0], \n",
        "                             [0, 0.2, 0.7, 0.1, 0]])\n",
        "v = crit(Variable(predict.log()), \n",
        "         Variable(torch.LongTensor([2, 1, 0])))\n",
        "\n",
        "# 系が期待する目標分布を表示\n",
        "plt.imshow(crit.true_dist)\n",
        "plt.show()\n",
        "#None"
      ]
    },
    {
      "cell_type": "code",
      "execution_count": null,
      "id": "56598dcd-a069-4b5a-bd34-f833816e4c6f",
      "metadata": {
        "id": "56598dcd-a069-4b5a-bd34-f833816e4c6f"
      },
      "outputs": [],
      "source": [
        "# 与えられた選択肢に非常に自信を持った場合\n",
        "# ラベル平滑化はモデルにペナルティを与え始める \n",
        "crit = LabelSmoothing(5, 0, 0.1)\n",
        "#crit = LabelSmoothing(5, 0, 0.2)\n",
        "\n",
        "def loss(x):\n",
        "    d = x + 3 * 1\n",
        "    predict = torch.FloatTensor([[0, x / d, 1 / d, 1 / d, 1 / d], ])\n",
        "    \n",
        "    #print(predict.log())\n",
        "    return crit(Variable(predict.log()),\n",
        "                 Variable(torch.LongTensor([1]))).item() \n",
        "\n",
        "plt.plot(np.arange(1, 100), [loss(x) for x in range(1, 100)])"
      ]
    },
    {
      "cell_type": "code",
      "execution_count": null,
      "id": "acb6ee4d-dad6-46f3-8669-1dfb339f391f",
      "metadata": {
        "id": "acb6ee4d-dad6-46f3-8669-1dfb339f391f"
      },
      "outputs": [],
      "source": [
        "class Batch:\n",
        "    \"\"\"学習時にマスクで一括してデータを保持するためのオブジェクト\"\"\"\n",
        "    \n",
        "    def __init__(self, src, trg=None, pad=0):\n",
        "        self.src = src\n",
        "        self.src_mask = (src != pad).unsqueeze(-2)\n",
        "        if trg is not None:\n",
        "            self.trg = trg[:, :-1]\n",
        "            self.trg_y = trg[:, 1:]\n",
        "            self.trg_mask = \\\n",
        "                self.make_std_mask(self.trg, pad)\n",
        "            self.ntokens = (self.trg_y != pad).data.sum()\n",
        "    \n",
        "    @staticmethod\n",
        "    def make_std_mask(tgt, pad):\n",
        "        \"Create a mask to hide padding and future words.\"\n",
        "        tgt_mask = (tgt != pad).unsqueeze(-2)\n",
        "        tgt_mask = tgt_mask & Variable(\n",
        "            subsequent_mask(tgt.size(-1)).type_as(tgt_mask.data))\n",
        "        return tgt_mask"
      ]
    },
    {
      "cell_type": "code",
      "execution_count": null,
      "id": "7b10d1a2-69fc-4818-9c45-fef8628755d3",
      "metadata": {
        "id": "7b10d1a2-69fc-4818-9c45-fef8628755d3"
      },
      "outputs": [],
      "source": [
        "import time\n",
        "def run_epoch(data_iter, \n",
        "              model, \n",
        "              loss_compute)->torch.Tensor:\n",
        "    \"\"\"標準的な訓練とログ関数\"\"\"\n",
        "    \n",
        "    start = time.time()\n",
        "    total_tokens = 0\n",
        "    total_loss = 0\n",
        "    tokens = 0\n",
        "    for i, batch in enumerate(data_iter):\n",
        "        out = model.forward(batch.src, batch.trg, \n",
        "                            batch.src_mask, batch.trg_mask)\n",
        "        loss = loss_compute(out, batch.trg_y, batch.ntokens)\n",
        "        total_loss += loss\n",
        "        total_tokens += batch.ntokens\n",
        "        tokens += batch.ntokens\n",
        "        if i % 50 == 1:\n",
        "            elapsed = time.time() - start\n",
        "            print(f\"エポック ステップ: {i:3d} 損失: {loss/batch.ntokens:.3f} トークン数/秒: {tokens/elapsed:.3f}\")\n",
        "            # print(\"Epoch Step: %d Loss: %f Tokens per Sec: %f\" %\n",
        "            #         (i, loss / batch.ntokens, tokens / elapsed))\n",
        "            start = time.time()\n",
        "            tokens = 0\n",
        "    return total_loss / total_tokens"
      ]
    },
    {
      "cell_type": "code",
      "execution_count": null,
      "id": "4eabd553-0bfe-4121-a147-8bc4ecd7c664",
      "metadata": {
        "id": "4eabd553-0bfe-4121-a147-8bc4ecd7c664"
      },
      "outputs": [],
      "source": [
        "def data_gen(V:int, \n",
        "             batch:int, \n",
        "             nbatches:int):\n",
        "    \"\"\"src-tgt 複写課題のためのランダムなデータを生成\"\"\"\n",
        "    \n",
        "    for i in range(nbatches):\n",
        "        data = torch.from_numpy(np.random.randint(1, V, size=(batch, 10)))\n",
        "        data[:, 0] = 1\n",
        "        src = Variable(data, requires_grad=False)\n",
        "        tgt = Variable(data, requires_grad=False)\n",
        "        yield Batch(src, tgt, 0)"
      ]
    },
    {
      "cell_type": "code",
      "execution_count": null,
      "id": "745c1a66-1363-427a-94ab-1d7847c23b22",
      "metadata": {
        "id": "745c1a66-1363-427a-94ab-1d7847c23b22"
      },
      "outputs": [],
      "source": [
        "class SimpleLossCompute:\n",
        "    \"\"\"簡単な損失値の計算と学習関数\"\"\"\n",
        "    \n",
        "    def __init__(self, generator, criterion, opt=None):\n",
        "        self.generator = generator\n",
        "        self.criterion = criterion\n",
        "        self.opt = opt\n",
        "        \n",
        "    def __call__(self, x, y, norm):\n",
        "        x = self.generator(x)\n",
        "        loss = self.criterion(x.contiguous().view(-1, x.size(-1)), \n",
        "                              y.contiguous().view(-1)) / norm\n",
        "        loss.backward()\n",
        "        if self.opt is not None:\n",
        "            self.opt.step()\n",
        "            self.opt.optimizer.zero_grad()\n",
        "        return loss.item() * norm\n",
        "        #return loss.data[0] * norm    "
      ]
    },
    {
      "cell_type": "code",
      "execution_count": null,
      "id": "4d5f4f3d-222a-4aa0-b896-b718f52a28e2",
      "metadata": {
        "id": "4d5f4f3d-222a-4aa0-b896-b718f52a28e2"
      },
      "outputs": [],
      "source": [
        "# 簡単な複写課題を訓練する\n",
        "VOCAB_SIZE = 11\n",
        "criterion = LabelSmoothing(size=VOCAB_SIZE, \n",
        "                           padding_idx=0, \n",
        "                           smoothing=0.0)\n",
        "model = make_model(src_vocab=VOCAB_SIZE, \n",
        "                   tgt_vocab=VOCAB_SIZE, \n",
        "                   N=2)\n",
        "model_opt = NoamOpt(\n",
        "    model_size = model.src_embed[0].d_model, \n",
        "    factor=1, \n",
        "    warmup=400,\n",
        "    optimizer=torch.optim.Adam(model.parameters(), lr=0, betas=(0.9, 0.98), eps=1e-9))\n",
        "\n",
        "for epoch in range(10):\n",
        "    model.train()\n",
        "    run_epoch(data_iter=data_gen(VOCAB_SIZE, 30, 20), \n",
        "              model=model, \n",
        "              loss_compute = SimpleLossCompute(\n",
        "                  generator = model.generator, \n",
        "                  criterion=criterion, \n",
        "                  opt=model_opt))\n",
        "    model.eval()\n",
        "    print('\\t\\t検証損失: %.3f'%run_epoch(data_iter=data_gen(VOCAB_SIZE, 30, 5), \n",
        "                                 model=model,\n",
        "                                 loss_compute=SimpleLossCompute(\n",
        "                                     generator=model.generator, \n",
        "                                     criterion=criterion,\n",
        "                                     opt=None)).detach().numpy())"
      ]
    },
    {
      "cell_type": "code",
      "execution_count": null,
      "id": "cc2edd64-6158-472b-a895-2bfcfe73b8b8",
      "metadata": {
        "id": "cc2edd64-6158-472b-a895-2bfcfe73b8b8"
      },
      "outputs": [],
      "source": [
        "def greedy_decode(model:nn.Module, \n",
        "                  src:torch.Tensor, \n",
        "                  src_mask:torch.Tensor, \n",
        "                  max_len:int, \n",
        "                  start_symbol:int):\n",
        "    \n",
        "    memory = model.encode(src, src_mask)\n",
        "    ys = torch.ones(1, 1).fill_(start_symbol).type_as(src.data)\n",
        "    for i in range(max_len-1):\n",
        "        out = model.decode(memory, \n",
        "                           src_mask, \n",
        "                           Variable(ys), \n",
        "                           Variable(subsequent_mask(ys.size(1)).type_as(src.data)))\n",
        "        prob = model.generator(out[:, -1])\n",
        "        _, next_word = torch.max(prob, dim = 1)\n",
        "        next_word = next_word.data[0]\n",
        "        ys = torch.cat([ys, \n",
        "                        torch.ones(1, 1).type_as(src.data).fill_(next_word)], dim=1)\n",
        "    return ys\n",
        "\n",
        "model.eval()\n",
        "src = Variable(torch.LongTensor([[1,2,3,4,5,6,7,8,9,10]]) )\n",
        "src_mask = Variable(torch.ones(1, 1, 10) )\n",
        "print(greedy_decode(model, src, src_mask, max_len=10, start_symbol=1))"
      ]
    }
  ],
  "metadata": {
    "kernelspec": {
      "display_name": "Python 3 (ipykernel)",
      "language": "python",
      "name": "python3"
    },
    "language_info": {
      "codemirror_mode": {
        "name": "ipython",
        "version": 3
      },
      "file_extension": ".py",
      "mimetype": "text/x-python",
      "name": "python",
      "nbconvert_exporter": "python",
      "pygments_lexer": "ipython3",
      "version": "3.9.13"
    },
    "colab": {
      "private_outputs": true,
      "provenance": [],
      "toc_visible": true,
      "include_colab_link": true
    },
    "accelerator": "GPU",
    "gpuClass": "standard"
  },
  "nbformat": 4,
  "nbformat_minor": 5
}