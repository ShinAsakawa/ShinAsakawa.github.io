{
  "nbformat": 4,
  "nbformat_minor": 0,
  "metadata": {
    "colab": {
      "name": "2022_0108bccwj_yahoo_knowledge_bag.ipynb",
      "private_outputs": true,
      "provenance": [],
      "authorship_tag": "ABX9TyOYdh2K7CjW6IgcU2jS56gu",
      "include_colab_link": true
    },
    "kernelspec": {
      "name": "python3",
      "display_name": "Python 3"
    },
    "language_info": {
      "name": "python"
    }
  },
  "cells": [
    {
      "cell_type": "markdown",
      "metadata": {
        "id": "view-in-github",
        "colab_type": "text"
      },
      "source": [
        "<a href=\"https://colab.research.google.com/github/ShinAsakawa/ShinAsakawa.github.io/blob/master/2022notebooks/2022_0108bccwj_yahoo_knowledge_bag.ipynb\" target=\"_parent\"><img src=\"https://colab.research.google.com/assets/colab-badge.svg\" alt=\"Open In Colab\"/></a>"
      ]
    },
    {
      "cell_type": "markdown",
      "source": [
        "- date: 2022_0108\n",
        "- filename: `2022_0108bccwj_yahoo_knowledge_bag.ipynb`\n",
        "- memo: BCCWJ のうちヤフー知恵袋のデータを一文づつ取り出すサンプルプログラム\n",
        "- author: 浅川伸一"
      ],
      "metadata": {
        "id": "Iyh1M79ypCF1"
      }
    },
    {
      "cell_type": "code",
      "execution_count": null,
      "metadata": {
        "id": "abIvf5ARkMEn"
      },
      "outputs": [],
      "source": [
        "# BCCWJ 日本語均衡コーパスのうち Yahoo 知恵袋データ を読み込みます。\n",
        "# 著作権の問題が有りますので，公開はしないようにしてください。\n",
        "!!wget -O bccwj_yahoo_knowledge_bag.json.gz https://raw.githubusercontent.com/ShinAsakawa/ShinAsakawa.github.io/master/2022notebooks/bccwj_yahoo_knowledge_bag.json.gz > /dev/null 2>&1"
      ]
    },
    {
      "cell_type": "code",
      "source": [
        "%%time\n",
        "#上で取得したデータを python 内に読み込みます。\n",
        "#このセルの 1 行目は，読み込み時間を表示しています。\n",
        "import gzip\n",
        "import json\n",
        "from collections import OrderedDict\n",
        "from termcolor import colored\n",
        "\n",
        "jsonfilename = 'bccwj_yahoo_knowledge_bag.json.gz'\n",
        "with gzip.open(jsonfilename, 'r') as fin:\n",
        "    json_bytes = fin.read()\n",
        "\n",
        "json_str = json_bytes.decode('utf-8')\n",
        "doc = json.loads(json_str)\n",
        "\n",
        "print(f'ヤフー知恵袋のデータ件数: {len(doc)}')"
      ],
      "metadata": {
        "id": "PjiBL5_AklHc"
      },
      "execution_count": null,
      "outputs": []
    },
    {
      "cell_type": "code",
      "source": [
        "def get_sent(d):\n",
        "    \"\"\"ヤフー知恵袋のデータが xml ファイルなので，解析して表示する関数\"\"\"\n",
        "    xml_tags = ['#text', 'sentence'] #\n",
        "    if isinstance(d, list):\n",
        "        for x in d:\n",
        "            if isinstance(x, dict):\n",
        "                get_sent(x)\n",
        "            elif isinstance(x, list):\n",
        "                get_sent(x)\n",
        "            elif isinstance(x, str):\n",
        "                if x in xml_tags:\n",
        "                    print(x)\n",
        "    elif isinstance(d, dict):\n",
        "        for x, v in d.items():\n",
        "            if isinstance(v, dict):\n",
        "                get_sent(v)\n",
        "            elif isinstance(v, list):\n",
        "                get_sent(v)\n",
        "            elif isinstance(v, str):\n",
        "                if x in xml_tags:\n",
        "                    print(v)"
      ],
      "metadata": {
        "id": "pLxh0kI2k29Y"
      },
      "execution_count": null,
      "outputs": []
    },
    {
      "cell_type": "code",
      "source": [
        "import numpy as np\n",
        "\n",
        "#ランダムサンプリングするために乱数を発生させる\n",
        "#このセルを繰り返し実行するたびに異なる結果が得られます\n",
        "N = np.random.randint(len(doc))\n",
        "sent = get_sent(doc[list(doc.keys())[N]])\n",
        "\n",
        "print(f\"データ番号:{N}\")\n",
        "print(sent)"
      ],
      "metadata": {
        "id": "ZCMzzZQplEf2"
      },
      "execution_count": null,
      "outputs": []
    },
    {
      "cell_type": "markdown",
      "source": [
        "## 4.5 Yahoo!知恵袋タグセット\n",
        "\n",
        "「Yahoo!知恵袋」レジスターのサンプルは、質問と回答の組という、一定の論理構造で構成される。\n",
        "しかし、可変長、固定長タグセットでは、この構造を十分記述することができないため、独立した文書型として定義した。\n",
        "タグの種類は、9 種類である。\n",
        "タグの一覧を 表4-3 に示す。また、サンプル例を図 4-2 に示す。\n",
        "\n",
        "|タグ名 |内容|\n",
        "|:---|:---|\n",
        "|sample |質問本文と回答本文を対にしたもの|\n",
        "|OCQuestion |質問本文を表す|\n",
        "|OCAnswer |回答本文を表す|\n",
        "|br |改行を表す|\n",
        "|webLine Web |データに対して、自動で付与される、論理行相当の行を表す|\n",
        "|sentence |文に相当するまとまりを表す|\n",
        "|rejectedBlock |削除要素を表す|\n",
        "|ncr |変換元データの数値文字参照を削除、または「〓」に置換したことを表す|\n",
        "|info 補助的な付与情報|\n",
        "\n"
      ],
      "metadata": {
        "id": "nh977B-AoFod"
      }
    }
  ]
}