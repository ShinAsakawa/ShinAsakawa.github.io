{
  "nbformat": 4,
  "nbformat_minor": 0,
  "metadata": {
    "colab": {
      "name": "2022_0114final_exam.ipynb",
      "provenance": [],
      "include_colab_link": true
    },
    "kernelspec": {
      "name": "python3",
      "display_name": "Python 3"
    }
  },
  "cells": [
    {
      "cell_type": "markdown",
      "metadata": {
        "id": "view-in-github",
        "colab_type": "text"
      },
      "source": [
        "<a href=\"https://colab.research.google.com/github/ShinAsakawa/ShinAsakawa.github.io/blob/master/2021notebooks/2022_0114final_exam.ipynb\" target=\"_parent\"><img src=\"https://colab.research.google.com/assets/colab-badge.svg\" alt=\"Open In Colab\"/></a>"
      ]
    },
    {
      "cell_type": "markdown",
      "metadata": {
        "id": "mYiWt0BTIQoO"
      },
      "source": [
        "# 2021 年度後期試験問題\n",
        "\n",
        "- 学部学科: 文学部心理学科\n",
        "- 科目名: 心理学特講IIIB\n",
        "- 担当者: 浅川伸一\n",
        "- 年月: 2022年01月14日\n",
        "- 時間: 09:00 - 10:00\n"
      ]
    },
    {
      "cell_type": "code",
      "metadata": {
        "id": "mMjjpJ5ZJCjS"
      },
      "source": [
        "#@title # フェイスシート： 氏名 学生番号 記入欄 { run: \"auto\", vertical-output: true, display-mode: \"form\" }\n",
        "date = '2022-01-14'  #@param {type: \"date\"}\n",
        "name = '氏名: '  #@param {type: \"string\"}\n",
        "id = '学生番号: '  #@param {type: \"string\"}"
      ],
      "execution_count": null,
      "outputs": []
    },
    {
      "cell_type": "markdown",
      "metadata": {
        "id": "iutYBk_VJWEC"
      },
      "source": [
        "# 0. 本試験の解答提出方法\n",
        "\n",
        "1. このファイルの自分の Google Drive に保存する (ウィンドウ左上の「ファイル」メニューから「ドライブにコピーを保存」を選ぶ)\n",
        "1. 上で保存したファイル名を次のように変更する '2022_0114自分の学生番号.ipynb' \n",
        "2. ブラウザのメニュー左上にある「ファイル」をクリックすると表示されるメニュー上から 9 行目を選んで自分の Google ドライブに保存する\n",
        "3. 下の課題をすべて解く\n",
        "4. ブラウザのメニュー左上にある「ファイル」をクリックすると表示されるメニュー下から 2 行目の「ダウンロード」をクリックする。\n",
        "    * 表示されるメニューの中から 「.ipynb をダウンロード」を選ぶ\n",
        "    * 自分の PC に保存したファイルを次の URL にアップロードする。\n",
        "    * [回答送信用URL](https://forms.gle/Utzx8pHrrFSgVG5i9)\n"
      ]
    },
    {
      "cell_type": "markdown",
      "metadata": {
        "id": "nX2J7To_P8Ga"
      },
      "source": [
        "## 問1 次の語群の中には，一つだけ無関連な用語が含まれている。その一つを指摘し，かつ，なぜその一つが無関連だと考えられるかを，下欄に略述せよ。\n"
      ]
    },
    {
      "cell_type": "code",
      "source": [
        "#markdonwn ---\n",
        "#@title ## 問 1.1 BERT について\n",
        "#@markdown ### 語群\n",
        "#@markdown 1. MHSA (多頭自己注意: multi-head self attention)\n",
        "#@markdown 2. PE (位置符号化器) position encoders\n",
        "#@markdown 3. MLM (マスク化言語モデル) masked language modeling\n",
        "#@markdown 4. LSTM (長-短期記憶) long short-term memory\n",
        "\n",
        "A1_01 = 1 #@param [\"1\", \"2\", \"3\", \"4\"] {type:\"raw\"}\n",
        "#@markdown ### 選定理由 \n",
        "A1_02 = ''#@param {type:\"string\"}\n",
        "\n",
        "#@markdown ---\n",
        "#@markdown ## 問 1.2 DQN について\n",
        "#@markdown ### 語群\n",
        "#@markdown 1. ベルマン方程式 Bellman equations\n",
        "#@markdown 2. マルコフ決定過程 Markov decision processes\n",
        "#@markdown 3. 行動価値関数 (Q 関数) action value functions (Q functions)\n",
        "#@markdown 4. 経験再生 experience reply\n",
        "\n",
        "A1_03 = 1 #@param [\"1\", \"2\", \"3\", \"4\"] {type:\"raw\"}\n",
        "#@markdown ### 選定理由 \n",
        "A1_04 = ''#@param {type:\"string\"}\n",
        "\n",
        "#@markdown ---\n",
        "#@markdown ## 問 1.3 ソフトマックス関数について\n",
        "#@markdown 1. ロジット比 (確率比) を与える\n",
        "#@markdown 2. 出力関数の一種である\n",
        "#@markdown 3. 注意機構の実装に用いられる\n",
        "#@markdown 4. シグモイド関数の特殊な場合である\n",
        "\n",
        "A1_05 = 1 #@param [\"1\", \"2\", \"3\", \"4\"] {type:\"raw\"}\n",
        "#@markdown ### 選定理由 \n",
        "A1_06 = ''#@param {type:\"string\"}\n",
        "\n",
        "#@markdown ---\n",
        "#@markdown ## 問 1.4 Seq2seq モデルについて\n",
        "#@markdown 1. リカレントニューラルネットワーク\n",
        "#@markdown 2. 注意機構\n",
        "#@markdown 3. 翻訳モデル\n",
        "#@markdown 4. 誤差逆伝播法\n",
        "A1_07 = 1 #@param [\"1\", \"2\", \"3\", \"4\"] {type:\"raw\", allow-input: true}\n",
        "#@markdown ### 選定理由 \n",
        "A1_08 = ''#@param {type:\"string\"}\n",
        "\n",
        "#@markdown ---\n",
        "#@markdown ## 問 1.5 転移学習 transfer learning ついて\n",
        "#@markdown 1. 微調整 fine tuning\n",
        "#@markdown 2. 蒸溜 distillation \n",
        "#@markdown 3. BERT (Bidirectional Embedding recurrent transformers)\n",
        "#@markdown 4. 自然言語処理 natural language processings \n",
        "A1_09 = 1 #@param [\"1\", \"2\", \"3\", \"4\"] {type:\"raw\", allow-input: true}\n",
        "#@markdown ### 選定理由 \n",
        "A1_10 = ''#@param {type:\"string\"}\n",
        "\n",
        "\n",
        "#@markdown ---\n",
        "#@markdown ## 問 1.6 GLUE について\n",
        "#@markdown 1. SQuAD \n",
        "#@markdown 2. 文章要約\n",
        "#@markdown 3. 極性判断\n",
        "#@markdown 4. SARSA\n",
        "A1_11 = 1 #@param [\"1\", \"2\", \"3\", \"4\"] {type:\"raw\", allow-input: true}\n",
        "#@markdown ### 選定理由 \n",
        "A1_12 = ''#@param {type:\"string\"}\n",
        "\n",
        "#@markdown ---\n",
        "#@markdown ## 問 1.7 Agent57 について\n",
        "#@markdown 1. 優先度つき経験再生\n",
        "#@markdown 2. エピソード記憶\n",
        "#@markdown 3. アドバンテージ関数\n",
        "#@markdown 4. 対比学習\n",
        "\n",
        "A1_13 = 1 #@param [\"1\", \"2\", \"3\", \"4\"] {type:\"raw\", allow-input: true}\n",
        "#@markdown ### 選定理由 \n",
        "A1_14 = ''#@param {type:\"string\"}\n",
        "\n",
        "#@markdown ---\n",
        "#@markdown ## 問 1.8 精神疾患モデルと強化学習との関係について\n",
        "#@markdown 1. 強化学習\n",
        "#@markdown 2. EM アルゴリズム \n",
        "#@markdown 3. カルバック・ライブラー・ダイバージェンス\n",
        "#@markdown 4. 最大値プーリング\n",
        "\n",
        "A1_14 = 1 #@param [\"1\", \"2\", \"3\", \"4\"] {type:\"raw\", allow-input: true}\n",
        "#@markdown ### 選定理由 \n",
        "A1_15 = ''#@param {type:\"string\"}\n",
        "\n"
      ],
      "metadata": {
        "id": "zXlqgOQvvllR",
        "cellView": "form"
      },
      "execution_count": 3,
      "outputs": []
    },
    {
      "cell_type": "markdown",
      "source": [
        "## 問2 次の各設問について，回答せよ\n"
      ],
      "metadata": {
        "id": "ZQDDYAtYE_FE"
      }
    },
    {
      "cell_type": "code",
      "source": [
        "#markdown # 問 2 \n",
        "\n",
        "#markdonwn ---\n",
        "#@markdown #### 問 2.1 トランスフォーマー に用いられる 自己注意 (self attention) の説明として最も適切な選択肢を 1 つ選んで答えよ。ただし，選択肢中で Q は，クエリ，K はキー，V はバリュー，を意味するとする。\n",
        "\n",
        "#@markdown 1. Q と K と V を同一の入力ベクトルから算出し，Q と K との内積で得られた値と V とを比較する\n",
        "#@markdown 2. Q と K と V を同一の入力ベクトルから算出し，Q と V との内積で得られた値と K とを比較する\n",
        "#@markdown 3. Q と K と V を同一の入力ベクトルから算出し，V と K との内積で得られた値と Q とを比較する\n",
        "#@markdown 4. Q と K と V を同一の入力ベクトルから算出し，Q と K との内積で得られた値と入力ベクトルとを比較する\t\n",
        "\n",
        "A2_01 = 1 #@param [\"1\", \"2\", \"3\", \"4\"] {type:\"raw\"}\n",
        "\n",
        "#markdonwn ---\n",
        "#@markdown #### 問 2.2 強化学習モデルの 1 つである A3C とは，AC，A2C から発展してきたもので，AAAC と表記すべきもモデルを A3C としている。 3 つの A の表すものを正しく表記している選択肢を一つ選んで答えよ。\n",
        "\n",
        "#@markdown 1. 非同期 Asynchronious, アドバンテージ  Advantage, アクター Actor\n",
        "#@markdown 2. 非対称 Asymetric, アドバンテージ  Advantage, アクター Actor\n",
        "#@markdown 3. 非同期 Asynchronious, アナリティック Analytic, アクター Actor\n",
        "#@markdown 4.  非対称 Asymetric, アナリティック Analytic, アドバンテージ Advantage\n",
        "\n",
        "A2_02 = 1 #@param [\"1\", \"2\", \"3\", \"4\"] {type:\"raw\"}\n",
        "\n",
        "#markdonwn ---\n",
        "#@markdown #### 問 2.3 強化学習は，マルコフ決定過程 (MDP: Markov Decision Processes) として定式化される。この場合のマルコフ性とは，どのような意味で用いられるか，過去，現在，未来の各状態の関係を記述した，以下の選択肢の中から，MDP を適切に記述していると考えられる選択肢を一つ選んで答えよ。\n",
        "\n",
        "#@markdown 1. 未来の状態は，現在の状態にのみ依存し，過去には依存しない\n",
        "#@markdown 2. 未来の状態は，過去の状態と現在の状態とに依存する\n",
        "#@markdown 3. 未来の状態は，過去の状態に依存し，現在の状態には依存しない\n",
        "#@markdown 4. 未来の状態は，過去の状態にも，現在の状態にも依存しない\n",
        "\n",
        "A2_03 = 1 #@param [\"1\", \"2\", \"3\", \"4\"] {type:\"raw\"}\n",
        "\n",
        "#markdonwn ---\n",
        "#@markdown #### 問 2.4 強化学習における，ベルマン方程式 (Bellman equation) に現れる将来に得られると期待される報酬に対して，時刻とともに減衰する乗数がある。この乗数を何というか? \n",
        "\n",
        "#@markdown 1. 割引率 (discount ratio または discoutn factor)\n",
        "#@markdown 2. 結合率 (connection ratio または connection factor)\n",
        "#@markdown 3. 分岐率 (bification ratio または bification factor)\n",
        "#@markdown 4. 回帰率 (regression ratio または regression factor)\n",
        "\n",
        "A2_04 = 1 #@param [\"1\", \"2\", \"3\", \"4\"] {type:\"raw\"}\n",
        "\n",
        "#markdonwn ---\n",
        "#@markdown #### 問 2.5 生成モデルと関連する統計学モデルに EM アルゴリズムがある。EM アルゴリズムでは，観察されたデータ $x$ と，直接には観測不可能な潜在変数 $z$ とを仮定し，モデルを記述するパラメータ $\\theta$ を反復推定する。EM アルゴリズムでは，1) $z$ を推定し, 2) 推定した $z$ を観察されたデータだとみなして $\\theta$ を推定する，という 1 と 2 を繰り返す。EM アルゴリズムと最も関連が深いと考えられる記述を以下の選択肢から 1 つ選んで答えよ。\n",
        "\n",
        "#@markdown 1. 最尤法\n",
        "#@markdown 2. ヒルベルトカーネル法\n",
        "#@markdown 3. 勾配降下法\n",
        "#@markdown 4. ポリシー勾配法\n",
        "\n",
        "A2_05 = 1 #@param [\"1\", \"2\", \"3\", \"4\"] {type:\"raw\"}\n",
        "\n",
        "#@markdown #### CycleGAN に用いられる，サイクル一貫性損失 (cycle consistency loss) の説明として最も適切な記述を以下の選択肢 1 つから選んで答えよ。ただし，領域 $X$ から 領域 $Y$ へと変換した値を再び 領域 $X$ へと変換した場合の値を $X'$ とし，反対に 領域 $Y$ から $X$ へと変換した値を再び $Y$ へと変換した値を $Y'$ とする。\n",
        "\n",
        "#@markdown 1. $X$ と $X'$  との乖離\n",
        "#@markdown 2. $X$ と $Y$ との乖離\t\n",
        "#@markdown 3. $X$ と $Y'$ との乖離\n",
        "#@markdown 4. $X'$ と $Y'$ との乖離\n",
        "\n",
        "A2_06 = 1 #@param [\"1\", \"2\", \"3\", \"4\"] {type:\"raw\"}\n"
      ],
      "metadata": {
        "cellView": "form",
        "id": "AEMaTXgYEw6g"
      },
      "execution_count": 1,
      "outputs": []
    },
    {
      "cell_type": "code",
      "metadata": {
        "id": "h_phBvx9XaSs",
        "cellView": "form"
      },
      "source": [
        "#@title # 問 3\n",
        "\n",
        "\n",
        "#@markdown [このページ](https://komazawa-deep-learning.github.io/2021/2021lect27/) の最後に挙げられている用語集と，こちらの [用語集](https://komazawa-deep-learning.github.io/2021cogpsy/glossary/) に挙げられている用語から，それぞれ 1 つづ項目を選び，選んだ 2 つの用語を用いて，それら用語の関係を略説する文章を書け。\n",
        "\n",
        "A2 = '' #@param {type:\"string\"}\n"
      ],
      "execution_count": 4,
      "outputs": []
    },
    {
      "cell_type": "markdown",
      "metadata": {
        "id": "vqEsfp-vTGUB"
      },
      "source": [
        "## <font color=\"red\" size=\"+2\">救済問題</font>\n",
        "\n",
        "- 出席や課題提出に不安のある履修者向け。毎回授業に出席し，各課題を提出した履修者は提出義務なし。\n",
        "\n",
        "神経科学，心理学の観点から，AI の進歩に恐れを抱く人たちに対して不安を取り除くための文章を書いて提出せよ。\n",
        "文中には，本授業で取り上げた話題について具体例を挙げて言及し，それらの社会的影響についても考察を加えること。\n",
        "\n",
        "* 提出期限: 2022年01月21日 23:59\n",
        "* 提出方法: メール 添付書類または，メール本文に直接記入しても良い。メールの件名は `2021final_\b\bexam_helpme` とし，同時に必ず自分宛てに Cc: (カーボンコピー) を送信せよ。\n"
      ]
    },
    {
      "cell_type": "markdown",
      "metadata": {
        "id": "xhkd3JQj54G3"
      },
      "source": [
        "<!-- # 問題 2 以下の文献資料のうち，一つを選んで要約を書いてください。\n",
        "* 回答は 1 つだけです。 2 つ書いてはいけません。\n",
        "* 自分の感想を書いてはいけません。求められているものは, 要約です。\n",
        "* 文献資料は以下のとおりです:\n",
        "    * [Senjowski, Unreasonable effectiveness of deep learning in artificial intelligence, 2020\n",
        "](https://komazawa-deep-learning.github.io/2021/2020Sejnowski_Unreasonable_effectiveness_of_deep_learning_in_artificial_intelligence.pdf)\n",
        "    * [Storrs ら, Neural Network Models and Deep Learning, 2019](https://komazawa-deep-learning.github.io/2021/2019Storrs_Golan_Kriegeskorte_Neural_network_models_and_deep_learning.pdf) -->"
      ]
    }
  ]
}