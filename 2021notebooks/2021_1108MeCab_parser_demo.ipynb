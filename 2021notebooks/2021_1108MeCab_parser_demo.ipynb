{
  "nbformat": 4,
  "nbformat_minor": 0,
  "metadata": {
    "colab": {
      "name": "2021_1108MeCab_parser_demo.ipynb",
      "private_outputs": true,
      "provenance": [],
      "collapsed_sections": [],
      "authorship_tag": "ABX9TyO4opI3vnUz+o0ao8uHNH4Z",
      "include_colab_link": true
    },
    "kernelspec": {
      "name": "python3",
      "display_name": "Python 3"
    },
    "language_info": {
      "name": "python"
    }
  },
  "cells": [
    {
      "cell_type": "markdown",
      "metadata": {
        "id": "view-in-github",
        "colab_type": "text"
      },
      "source": [
        "<a href=\"https://colab.research.google.com/github/ShinAsakawa/ShinAsakawa.github.io/blob/master/2021notebooks/2021_1108MeCab_parser_demo.ipynb\" target=\"_parent\"><img src=\"https://colab.research.google.com/assets/colab-badge.svg\" alt=\"Open In Colab\"/></a>"
      ]
    },
    {
      "cell_type": "markdown",
      "metadata": {
        "id": "sWejeESbTY_A"
      },
      "source": [
        "# MeCab による形態素解析デモ\n",
        "\n",
        "* date: 2021_1108\n",
        "* author: 浅川伸一\n",
        "* filename: 2021_1108MeCab_parser_demo.ipynb\n",
        "\n",
        "* 追記: 吉原先生の指摘により s を含む言語知識を調べた結果を追加した\n",
        "\n",
        "\n"
      ]
    },
    {
      "cell_type": "code",
      "metadata": {
        "id": "RbkF3XRSEYHI"
      },
      "source": [
        "# -*- coding: utf-8 -*-\n",
        "import time\n",
        "import  platform\n",
        "isColab = True if platform.system().split('-')[0] == 'Linux' else False\n",
        "\n",
        "\n",
        "if isColab:\n",
        "    start_time = time.time()\n",
        "\n",
        "    # 形態素分析ライブラリーMeCab と 辞書(mecab-ipadic-NEologd)のインストール \n",
        "    # reference: https://qiita.com/jun40vn/items/78e33e29dce3d50c2df1\n",
        "    print('MeCab インストール中...環境によりますが 50 秒ほどお待ち下さい。', end=\" \")\n",
        "    !apt-get -q -y install sudo file mecab libmecab-dev mecab-ipadic-utf8 git curl python-mecab > /dev/null  2>&1\n",
        "    !git clone --depth 1 https://github.com/neologd/mecab-ipadic-neologd.git > /dev/null  2>&1\n",
        "    !echo yes | mecab-ipadic-neologd/bin/install-mecab-ipadic-neologd -n > /dev/null  2>&1\n",
        "    !pip install mecab-python3 > /dev/null  2>&1\n",
        "    \n",
        "    # シンボリックリンクによるエラー回避\n",
        "    !ln -s /etc/mecabrc /usr/local/etc/mecabrc    \n",
        "    end_time = time.time()\n",
        "    print(f'インストールに要した時間は {(end_time - start_time):.1f} 秒でした')\n",
        "\n",
        "import MeCab\n",
        "parser = MeCab.Tagger() # '-Owakati')\n",
        "#print(parser.parse('本日は曇天なり').strip())\n"
      ],
      "execution_count": null,
      "outputs": []
    },
    {
      "cell_type": "code",
      "metadata": {
        "id": "WmmQmd2tWUYw"
      },
      "source": [
        "ss = ['京都には学生が何人いますか？', '私の家は明るいです', '夫と住んでいます', \n",
        "      '行きましょう', 'みどり駅で地下鉄に乗ります',\n",
        "      '古い神社', 'にぎやかな街', '去年日本で買いました']\n",
        "\n",
        "for s in ss:\n",
        "    _s = MeCab.Tagger().parse(s).split('\\n')[:-2]\n",
        "    for __s in _s:\n",
        "        print(__s)\n",
        "    print()\n"
      ],
      "execution_count": null,
      "outputs": []
    },
    {
      "cell_type": "code",
      "metadata": {
        "id": "7hqnLNDqVLZh"
      },
      "source": [
        "s = input('MeCab にかける文章を入力してください: ')\n",
        "_s = MeCab.Tagger().parse(s).split('\\n')[:-2]\n",
        "for __s in _s:\n",
        "    print(__s)\n",
        "print()\n"
      ],
      "execution_count": null,
      "outputs": []
    },
    {
      "cell_type": "code",
      "metadata": {
        "id": "9OTzLFBKf0w_"
      },
      "source": [
        "# このセルを実行するとエクセルファイル `2021_1107ごとまるくんver.2 （外部配布用）修正中.xlsx` をアップロードしてください\n",
        "from google.colab import files\n",
        "uploaded = files.upload()"
      ],
      "execution_count": null,
      "outputs": []
    },
    {
      "cell_type": "code",
      "metadata": {
        "id": "ZN2KPEuif1oF"
      },
      "source": [
        "import pandas as pd\n",
        "gotomaru_pd = pd.read_excel('2021_1107ごとまるくんver.2 （外部配布用）修正中.xlsx')"
      ],
      "execution_count": null,
      "outputs": []
    },
    {
      "cell_type": "code",
      "metadata": {
        "id": "0WsR7KgLjSIt"
      },
      "source": [
        "# どうも ['言語知識'] の中で表現されている `s` には全角と半角，大文字と小文字が混在しているようなので，すべて一括して取り出してみる\n",
        "\n",
        "import re\n",
        "s_included = [entry for entry in list(gotomaru_pd['言語知識']) if re.search('[ＳｓSs]', entry)] # == True else None]\n",
        "for i, s in enumerate(s_included):\n",
        "    print(i,s)"
      ],
      "execution_count": null,
      "outputs": []
    }
  ]
}