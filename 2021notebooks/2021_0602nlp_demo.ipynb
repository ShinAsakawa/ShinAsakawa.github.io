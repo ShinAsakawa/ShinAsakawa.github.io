{
  "nbformat": 4,
  "nbformat_minor": 0,
  "metadata": {
    "colab": {
      "name": "2021_0602nlp_demo.ipynb",
      "private_outputs": true,
      "provenance": [],
      "authorship_tag": "ABX9TyOvj2y1VT/3/JQdSWKAfKBR",
      "include_colab_link": true
    },
    "kernelspec": {
      "name": "python3",
      "display_name": "Python 3"
    },
    "language_info": {
      "name": "python"
    }
  },
  "cells": [
    {
      "cell_type": "markdown",
      "metadata": {
        "id": "view-in-github",
        "colab_type": "text"
      },
      "source": [
        "<a href=\"https://colab.research.google.com/github/ShinAsakawa/ShinAsakawa.github.io/blob/master/2021notebooks/2021_0602nlp_demo.ipynb\" target=\"_parent\"><img src=\"https://colab.research.google.com/assets/colab-badge.svg\" alt=\"Open In Colab\"/></a>"
      ]
    },
    {
      "cell_type": "markdown",
      "metadata": {
        "id": "ldrBcM2vRV36"
      },
      "source": [
        "# Transformer, GPT, BERT による日本語言語処理のデモ\n",
        "\n",
        "- author: 浅川伸一\n",
        "- date: 2021_0602\n",
        "- filename: 2021_0602nlp_demo.ipynb"
      ]
    },
    {
      "cell_type": "code",
      "metadata": {
        "id": "m3wpTKZ6Pc6G"
      },
      "source": [
        "!apt-get install cmake build-essential pkg-config libgoogle-perftools-dev\n",
        "!pip install sentencepiece -q\n",
        "import sentencepiece"
      ],
      "execution_count": null,
      "outputs": []
    },
    {
      "cell_type": "code",
      "metadata": {
        "id": "fvPOHsZxPjSs"
      },
      "source": [
        "!pip install ipadic -q\n",
        "!pip install fugashi[unidic-lite] -q"
      ],
      "execution_count": null,
      "outputs": []
    },
    {
      "cell_type": "code",
      "metadata": {
        "id": "nOLxv7cR_Onf"
      },
      "source": [
        "# transformers　3.5 以上が必要です\n",
        "!pip install transformers --upgrade -q\n",
        "from transformers import pipeline"
      ],
      "execution_count": null,
      "outputs": []
    },
    {
      "cell_type": "code",
      "metadata": {
        "id": "9C-6v5tC_X9o"
      },
      "source": [
        "text_generation = pipeline(\"text-generation\", model=\"geekfeed/gpt2_ja\", tokenizer=\"geekfeed/gpt2_ja\")\n",
        "text_generation(\"日本国憲法とは\")"
      ],
      "execution_count": null,
      "outputs": []
    },
    {
      "cell_type": "code",
      "metadata": {
        "id": "nI0woe8B_w85"
      },
      "source": [
        "nlp_sentence_classif = pipeline('sentiment-analysis', model=\"geekfeed/gpt2_ja\", tokenizer=\"geekfeed/gpt2_ja\")\n",
        "nlp_sentence_classif('今日は良い天気ですよね。')"
      ],
      "execution_count": null,
      "outputs": []
    },
    {
      "cell_type": "code",
      "metadata": {
        "id": "uG5jJldUCyyo"
      },
      "source": [
        "sentiment_ja = pipeline(\"sentiment-analysis\",\n",
        "                        model=\"daigo/bert-base-japanese-sentiment\",\n",
        "                        tokenizer=\"daigo/bert-base-japanese-sentiment\")\n",
        "\n",
        "sentiment_ja(\"私は幸福である。\")\n"
      ],
      "execution_count": null,
      "outputs": []
    },
    {
      "cell_type": "code",
      "metadata": {
        "id": "tb_a09IUFKyI"
      },
      "source": [
        "sentiment_ja(\"彼女と別れた。\")"
      ],
      "execution_count": null,
      "outputs": []
    },
    {
      "cell_type": "code",
      "metadata": {
        "id": "NDiqeRRAGb0J"
      },
      "source": [
        "nlp_fill_ja = pipeline('fill-mask', model='cl-tohoku/bert-base-japanese-char-whole-word-masking')\n",
        "nlp_fill_ja(\"仙台は「[MASK]の都」と呼ばれている。\")"
      ],
      "execution_count": null,
      "outputs": []
    },
    {
      "cell_type": "code",
      "metadata": {
        "id": "Adwhk1IAHYG2"
      },
      "source": [
        "nlp_fill_ja(\"日本の首都は，[MASK]である。\")"
      ],
      "execution_count": null,
      "outputs": []
    },
    {
      "cell_type": "code",
      "metadata": {
        "id": "rywrTv7YKw6V"
      },
      "source": [
        "import sentencepiece\n",
        "from transformers import AutoTokenizer, AutoModelForSeq2SeqLM\n",
        "en2ja_model = AutoModelForSeq2SeqLM.from_pretrained(\"Helsinki-NLP/opus-mt-en-jap\")\n",
        "en2ja_tokenizer = AutoTokenizer.from_pretrained(\"Helsinki-NLP/opus-mt-en-jap\")\n",
        "\n",
        "translator_en2ja = pipeline('translation_en_to_ja', \n",
        "                            model=en2ja_model,\n",
        "                            tokenizer=en2ja_tokenizer)\n",
        "translator_en2ja('Having fun with neural networks.')"
      ],
      "execution_count": null,
      "outputs": []
    },
    {
      "cell_type": "code",
      "metadata": {
        "id": "LV5hF44NQ-Cc"
      },
      "source": [
        "nlp_qa = pipeline('question-answering')\n",
        "nlp_qa(context='Hugging Face is a French company based in New-York.', question='Where is based Hugging Face ?')"
      ],
      "execution_count": null,
      "outputs": []
    },
    {
      "cell_type": "code",
      "metadata": {
        "id": "Wju1ZJl9RCGT"
      },
      "source": [
        "translator = pipeline('translation_en_to_fr')\n",
        "translator(\"HuggingFace is a French company that is based in New York City. HuggingFace's mission is to solve NLP one commit at a time\")"
      ],
      "execution_count": null,
      "outputs": []
    }
  ]
}