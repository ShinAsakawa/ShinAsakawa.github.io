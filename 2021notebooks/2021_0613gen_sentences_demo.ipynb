{
  "nbformat": 4,
  "nbformat_minor": 0,
  "metadata": {
    "colab": {
      "name": "2021_0613gen_sentences_demo.ipynb",
      "private_outputs": true,
      "provenance": [],
      "authorship_tag": "ABX9TyPWONduuhLIOX+mHAMYlJoY",
      "include_colab_link": true
    },
    "kernelspec": {
      "name": "python3",
      "display_name": "Python 3"
    },
    "language_info": {
      "name": "python"
    }
  },
  "cells": [
    {
      "cell_type": "markdown",
      "metadata": {
        "id": "view-in-github",
        "colab_type": "text"
      },
      "source": [
        "<a href=\"https://colab.research.google.com/github/ShinAsakawa/ShinAsakawa.github.io/blob/master/2021notebooks/2021_0613gen_sentences_demo.ipynb\" target=\"_parent\"><img src=\"https://colab.research.google.com/assets/colab-badge.svg\" alt=\"Open In Colab\"/></a>"
      ]
    },
    {
      "cell_type": "code",
      "metadata": {
        "id": "ra5jzqgeAoc8"
      },
      "source": [
        "import numpy as np\n",
        "import time\n",
        "np.random.seed(1)   #乱数を発生させるための種を定める"
      ],
      "execution_count": null,
      "outputs": []
    },
    {
      "cell_type": "markdown",
      "metadata": {
        "id": "ONHakqBpA85Q"
      },
      "source": [
        "# 1. 語彙の定義"
      ]
    },
    {
      "cell_type": "code",
      "metadata": {
        "id": "lxgaoKARAto8"
      },
      "source": [
        "Nsingle = ('boy', 'girl', 'cat', 'dog')      #名詞単数形\n",
        "Nplural = ('boys', 'girls', 'cats', 'dogs')  #名詞複数形\n",
        "NpropN = ('Mary', 'John')                    #人称名詞\n",
        "VIsingle = ('walks', 'lives')                #自動詞 3人称単数動詞\n",
        "VIplural = ('walk', 'live')                  #自動詞の原形\n",
        "VTsingle = ('chases', 'feeds')               #他動詞 3人称単数形\n",
        "VTplural = ('chase', 'feed')                 #他動詞の原形\n",
        "VAsingle = ('sees', 'hears')                 #他動詞，目的語をとっても取らなくても良い動詞の 3 人称単数形\n",
        "VAplural = ('see', 'hear')                   #他動詞，目的語をとっても取らなくても良い動詞の原形"
      ],
      "execution_count": null,
      "outputs": []
    },
    {
      "cell_type": "markdown",
      "metadata": {
        "id": "UzxMGpCiBGNb"
      },
      "source": [
        "# 2. 下請け関数の定義"
      ]
    },
    {
      "cell_type": "code",
      "metadata": {
        "id": "AIG_1uqfBD15"
      },
      "source": [
        "def flatten(l):\n",
        "    \"\"\"入れ子になったリストの要素取り出して並べる\"\"\"\n",
        "    ret = \"\"\n",
        "    if isinstance(l, str):\n",
        "        ret += l + ' '\n",
        "    else:\n",
        "        if isinstance(l, list):\n",
        "            for _l in l:\n",
        "                ret += flatten(_l)\n",
        "    return ret\n",
        "\n",
        "def gen_NpropN():    return NpropN[np.random.randint(0, len(NpropN))]\n",
        "def gen_Nsingle():    return Nsingle[np.random.randint(0, len(Nsingle))]\n",
        "def gen_Nplural():    return Nplural[np.random.randint(0, len(Nplural))]\n",
        "def gen_VIsingle():    return VIsingle[np.random.randint(0, len(VIsingle))]\n",
        "def gen_VIplural():    return VIplural[np.random.randint(0, len(VIplural))]\n",
        "def gen_VTsingle():    return VTsingle[np.random.randint(0, len(VTsingle))]\n",
        "def gen_VTplural():    return VTplural[np.random.randint(0, len(VTplural))]\n",
        "def gen_VAsingle():    return VAsingle[np.random.randint(0, len(VAsingle))]\n",
        "def gen_VAplural():    return VAplural[np.random.randint(0,len(VAplural))]"
      ],
      "execution_count": null,
      "outputs": []
    },
    {
      "cell_type": "code",
      "metadata": {
        "id": "7j9bAMnwBOvr"
      },
      "source": [
        "def make_a_sentence():\n",
        "    \"\"\"文生成関数\"\"\"\n",
        "    line = []\n",
        "    \n",
        "    # 名詞節の作成\n",
        "    Phrase = gen_NP()\n",
        "    \n",
        "    # 乱数を発生させて 1, 2, 3 を決める\n",
        "    # この乱数によって後続する動詞の種類，すなわち文型を場合分けして処理する\n",
        "    x = np.random.randint(1, 3+1)\n",
        "    \n",
        "    if x == 1:                           # 自動詞節の場合\n",
        "        is_plural = Phrase.pop(0)        # 名詞節の先頭要素を取り出す\n",
        "        line.append(Phrase)              # 名詞節の末尾に要素を追加する\n",
        "        if is_plural == 'single':        # 単数形が要求される場合\n",
        "            line.append(gen_VIsingle())  # 自動詞の単数形追加する\n",
        "        else:\n",
        "            line.append(gen_VIplural())\n",
        "    elif x == 2:                         # 他動詞節の場合\n",
        "        is_plural = Phrase.pop(0)\n",
        "        line.append(Phrase)\n",
        "        if is_plural == 'single':\n",
        "            line.append(gen_VTsingle())\n",
        "        else:\n",
        "            line.append(gen_VTplural())\n",
        "        _Phrase = gen_NP()\n",
        "        is_plural = _Phrase.pop(0)\n",
        "        line.append(_Phrase)\n",
        "    else:                                # 目的語を取ってもも取らなくても良い場合\n",
        "        is_plural = Phrase.pop(0)\n",
        "        line.append(Phrase)\n",
        "        if is_plural == 'single':        # 自動詞的用法\n",
        "            line.append(gen_VAsingle())\n",
        "        else:\n",
        "            line.append(gen_VAplural())  # 他動詞的用法\n",
        "        xx = np.random.randint(1, 2+1)\n",
        "        if xx == 1:\n",
        "            _Phrase = gen_NP()\n",
        "            is_plural = _Phrase.pop(0)\n",
        "            line.append(_Phrase)\n",
        "\n",
        "    return line"
      ],
      "execution_count": null,
      "outputs": []
    },
    {
      "cell_type": "code",
      "metadata": {
        "id": "euL8je6MBS9t"
      },
      "source": [
        "def gen_NP():\n",
        "    \"\"\"名詞句生成\"\"\"\n",
        "    phrase = []\n",
        "\n",
        "    # 1, 2, 3 のいずれか生成する\n",
        "    x = np.random.randint(1, 3+1)           \n",
        "    if x == 1:                               # 名詞の場合\n",
        "        if np.random.randint(1, 2+1) == 1:   # 名詞が単数形の場合\n",
        "            phrase.append('single')\n",
        "            phrase.append(gen_Nsingle())\n",
        "        else:                                # 複数形の場合\n",
        "            phrase.append('plural')\n",
        "            phrase.append(gen_Nplural())\n",
        "    elif x == 2:                             # 名詞 + 関係代名詞節の場合\n",
        "        if np.random.randint(1, 2+1) == 1:   # 名詞が単数形の場合\n",
        "            phrase.append('single')\n",
        "            phrase.append(gen_Nsingle())\n",
        "            phrase.append(gen_RC('single'))  # 関係代名詞節の追加\n",
        "        else:\n",
        "            phrase.append('plural')          # 名詞が複数形の場合\n",
        "            phrase.append(gen_Nplural())\n",
        "            phrase.append(gen_RC('plural'))\n",
        "    else:                                     # その他\n",
        "        phrase.append('single')\n",
        "        phrase.append(gen_NpropN())\n",
        "\n",
        "    return phrase\n",
        "\n",
        "def gen_RC(mode):\n",
        "    \"\"\"関係代名詞節生成\"\"\"\n",
        "    ret = []\n",
        "\n",
        "    ret.append(\"who\")\n",
        "    x = np.random.randint(1,3+1)\n",
        "    if x == 1:                             # who + 自動詞の場合\n",
        "        if mode == 'single':\n",
        "            ret.append(gen_VIsingle())\n",
        "        else:\n",
        "            ret.append(gen_VIplural())\n",
        "    elif x == 2:                           # who + 他動詞 + 名詞節の場合\n",
        "        if mode == 'single':\n",
        "            ret.append(gen_VTsingle())\n",
        "        else:\n",
        "            ret.append(gen_VTplural())\n",
        "        tmp = gen_NP()\n",
        "        is_plural = tmp.pop(0)\n",
        "        ret.append(tmp)\n",
        "    else:                                  # who + 他動詞 + (名詞節)の場合\n",
        "        if mode == 'single':\n",
        "            ret.append(gen_VAsingle())\n",
        "        else:\n",
        "            ret.append(gen_VAplural())\n",
        "        xx = np.random.randint(1,2+1)\n",
        "        if xx == 1:\n",
        "                tmp = gen_NP()\n",
        "                is_plural = tmp.pop(0)\n",
        "                ret.append(tmp)\n",
        "    return ret\n"
      ],
      "execution_count": null,
      "outputs": []
    },
    {
      "cell_type": "markdown",
      "metadata": {
        "id": "G7mmI6g3BdpF"
      },
      "source": [
        "# 3. 文生成の実行"
      ]
    },
    {
      "cell_type": "code",
      "metadata": {
        "id": "7El_eiziBa6n"
      },
      "source": [
        "N = 100  # 生成したい文章の数を決める\n",
        "for _ in range(N):\n",
        "    print(flatten(make_a_sentence()))"
      ],
      "execution_count": null,
      "outputs": []
    },
    {
      "cell_type": "code",
      "metadata": {
        "id": "h--8KPmTBi-F"
      },
      "source": [
        ""
      ],
      "execution_count": null,
      "outputs": []
    }
  ]
}